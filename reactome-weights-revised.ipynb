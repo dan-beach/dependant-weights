{
 "cells": [
  {
   "cell_type": "code",
   "execution_count": null,
   "id": "initial_id",
   "metadata": {
    "collapsed": true
   },
   "outputs": [],
   "source": [
    "import pandas as pd\n",
    "import numpy as np\n",
    "import sys\n",
    "import re\n",
    "import functools\n",
    "import json\n",
    "import random\n",
    "import os\n",
    "import math\n",
    "import datetime\n",
    "\n",
    "import matplotlib.pyplot as plt"
   ]
  },
  {
   "cell_type": "code",
   "execution_count": null,
   "outputs": [],
   "source": [
    "start_time = datetime.datetime.now()"
   ],
   "metadata": {
    "collapsed": false
   },
   "id": "52534969ef65b81a"
  },
  {
   "cell_type": "code",
   "execution_count": null,
   "outputs": [],
   "source": [
    "#os.getcwd()\n",
    "\n",
    "# Linux workstation\n",
    "#data_path = '/home/db600/phd/data/'\n",
    "\n",
    "# Laptop\n",
    "data_path = 'C:\\\\Users\\\\dan\\\\Documents\\\\phd\\\\data\\\\'\n",
    "\n",
    "os.listdir(data_path)"
   ],
   "metadata": {
    "collapsed": false
   },
   "id": "2e76b46b86413825"
  },
  {
   "cell_type": "code",
   "execution_count": null,
   "outputs": [],
   "source": [
    "mut_path = data_path + 'depmap\\\\OmicsSomaticMutations.csv'\n",
    "exp_path = data_path + 'depmap\\\\OmicsExpressionProteinCodingGenesTPMLogp1.csv' \n",
    "conv_path = data_path + 'biomart\\\\ensembl_biomart_plus_fasta.csv'"
   ],
   "metadata": {
    "collapsed": false
   },
   "id": "2c9e98e8d41b7490"
  },
  {
   "cell_type": "code",
   "execution_count": null,
   "outputs": [],
   "source": [
    "# Read the multi_gene_converter into a DF\n",
    "conv = pd.read_csv(conv_path, header = 0, index_col = 0)\n",
    "conv = conv.drop(columns='Unnamed: 0')"
   ],
   "metadata": {
    "collapsed": false
   },
   "id": "674ebce3ff7ab4a8"
  },
  {
   "cell_type": "code",
   "execution_count": null,
   "outputs": [],
   "source": [
    "conv.head()"
   ],
   "metadata": {
    "collapsed": false
   },
   "id": "9ce51c982fda35dd"
  },
  {
   "cell_type": "code",
   "execution_count": null,
   "outputs": [],
   "source": [
    "def load_list(path):\n",
    "    with open(path) as f:\n",
    "        g = json.load(f)\n",
    "    return g\n",
    "\n",
    "kinases_path = \"C:\\\\Users\\\\dan\\\\PycharmProjects\\\\kinase-onc-tsg\\\\data\\\\kinases.json\"\n",
    "oncs_path = \"C:\\\\Users\\\\dan\\\\PycharmProjects\\\\kinase-onc-tsg\\\\data\\\\oncs.json\"\n",
    "tsgs_path = \"C:\\\\Users\\\\dan\\\\PycharmProjects\\\\kinase-onc-tsg\\\\data\\\\tsgs.json\"\n",
    "\n",
    "kinases = load_list(kinases_path)\n",
    "oncs = load_list(oncs_path)\n",
    "tsgs =load_list(tsgs_path)"
   ],
   "metadata": {
    "collapsed": false
   },
   "id": "6d610ce38158ccdb"
  },
  {
   "cell_type": "code",
   "execution_count": null,
   "outputs": [],
   "source": [
    "# Get list of training cell lines used in original program\n",
    "# Manually saved to CSV earlier\n",
    "cell_lines = pd.read_csv(data_path + 'dependant\\\\original_training_cell_lines.csv')\n",
    "cell_lines = cell_lines.rename(columns={'cell_line': 'CCLEName'})\n",
    "cell_lines"
   ],
   "metadata": {
    "collapsed": false
   },
   "id": "f4729a90d47138ec"
  },
  {
   "cell_type": "code",
   "execution_count": null,
   "outputs": [],
   "source": [
    "# Load the DepMap model metadata\n",
    "depmap_model = pd.read_csv(data_path + 'depmap\\\\Model.csv')\n",
    "\n",
    "# Add depmap model ID to the list of 39 original training cell lines\n",
    "cell_lines = pd.merge(cell_lines, depmap_model[['ModelID', 'CCLEName']], on='CCLEName', how='left')\n",
    "\n",
    "# View the cell line list\n",
    "cell_lines"
   ],
   "metadata": {
    "collapsed": false
   },
   "id": "9af542e32569cad"
  },
  {
   "cell_type": "code",
   "execution_count": null,
   "outputs": [],
   "source": [
    "# Load the expression and mutation data\n",
    "mutation_df = pd.read_csv(mut_path, low_memory=False)\n",
    "expression_df = pd.read_csv(exp_path)"
   ],
   "metadata": {
    "collapsed": false
   },
   "id": "3a130920cfe3250d"
  },
  {
   "cell_type": "code",
   "execution_count": null,
   "outputs": [],
   "source": [
    "# Preview expression data\n",
    "expression_df.head()"
   ],
   "metadata": {
    "collapsed": false
   },
   "id": "eb79b7b4929bd055"
  },
  {
   "cell_type": "code",
   "execution_count": null,
   "outputs": [],
   "source": [
    "# Preview mutation data\n",
    "mutation_df.head()"
   ],
   "metadata": {
    "collapsed": false
   },
   "id": "c396c661c71a4de2"
  },
  {
   "cell_type": "code",
   "execution_count": null,
   "outputs": [],
   "source": [
    "mutation_df.columns"
   ],
   "metadata": {
    "collapsed": false
   },
   "id": "95c79b5ddc210e55"
  },
  {
   "cell_type": "code",
   "execution_count": null,
   "outputs": [],
   "source": [
    "mutation_df['TranscriptStrand'].value_counts()"
   ],
   "metadata": {
    "collapsed": false
   },
   "id": "2b43317ebcb9e090"
  },
  {
   "cell_type": "code",
   "execution_count": null,
   "outputs": [],
   "source": [
    "# Take a look at the mutation classes\n",
    "mutation_df['VariantInfo'].unique()"
   ],
   "metadata": {
    "collapsed": false
   },
   "id": "aad616906f5096ce"
  },
  {
   "cell_type": "code",
   "execution_count": null,
   "outputs": [],
   "source": [
    "# Select all mutations for our cell lines of interest only: where 'ModelID' is in cell_lines['ModelID']\n",
    "#mutation_df = mutation_df.loc[mutation_df['Tumor_Sample_Barcode'].map(lambda x: x in cell_lines)]\n",
    "\n",
    "mutation_df = mutation_df[mutation_df['ModelID'].isin(cell_lines['ModelID'])]\n",
    "\n",
    "mutation_df.head()"
   ],
   "metadata": {
    "collapsed": false
   },
   "id": "6e0c338638de6dc4"
  },
  {
   "cell_type": "code",
   "execution_count": null,
   "outputs": [],
   "source": [
    "# Check we've got the right number of ModelID values (should be 39)\n",
    "mutation_df['ModelID'].unique()"
   ],
   "metadata": {
    "collapsed": false
   },
   "id": "b8404383cb8f2031"
  },
  {
   "cell_type": "code",
   "execution_count": null,
   "outputs": [],
   "source": [
    "# Take a look at the mutation classes\n",
    "mutation_df['VariantInfo'].unique()"
   ],
   "metadata": {
    "collapsed": false
   },
   "id": "221d1a404cd14839"
  },
  {
   "cell_type": "code",
   "execution_count": null,
   "outputs": [],
   "source": [
    "# First we separate out the badly pathogenic mutations - these are assumed to result in loss of function\n",
    "pathogenic = ('FRAME_SHIFT_DEL', 'FRAME_SHIFT_INS', 'NONSENSE', 'NONSTOP', 'START_CODON_INS')\n",
    "\n",
    "##### NOTE ######\n",
    "# These are the variations that were considered pathogenic on the original version\n",
    "# pathogenic = ['Frame_Shift_Del', 'Frame_Shift_Ins','Nonsense_Mutation','Nonstop_Mutation','Stop_Codon_Del']\n",
    "\n",
    "# I will keep this the same for now (note no 'Stop_Codon_Del' class in the new data - presumably because it's the same a NONSTOP) but note:\n",
    "\n",
    "# IN_FRAME_DEL - this is likely damaging but could be LOF or GOF -  select which depending on whether its onc, tsg or kinase?\n",
    "# IN_FRAME_INS - as above\n",
    "# START_CODON_INS - this is likely to prevent the translation of the protein, so LOF?\n",
    "# START_CODON_SNP - this may prevent translation if the SNP switched the codon from methianine to another amino acid\n",
    "\n",
    "# Filter mut_df to only include rows where the variant classification is in the pathogenic list defined above\n",
    "pathogenic_mutations = mutation_df.loc[mutation_df['VariantInfo'].isin(pathogenic)]\n",
    "\n",
    "pathogenic_mutations.head()"
   ],
   "metadata": {
    "collapsed": false
   },
   "id": "781a33d5e9977b20"
  },
  {
   "cell_type": "code",
   "execution_count": null,
   "outputs": [],
   "source": [
    "# See if DepMap classification agrees that these are all likely to be LOF (it does)\n",
    "pathogenic_mutations['LikelyGoF'].value_counts()"
   ],
   "metadata": {
    "collapsed": false
   },
   "id": "827b2012ed5fc5c6"
  },
  {
   "cell_type": "code",
   "execution_count": null,
   "outputs": [],
   "source": [
    "pathogenic_mutations['LikelyLoF'].value_counts()"
   ],
   "metadata": {
    "collapsed": false
   },
   "id": "a2382c13fc73ae6e"
  },
  {
   "cell_type": "code",
   "execution_count": null,
   "outputs": [],
   "source": [
    "# Group by Tumour_Sample_Barcode (cell-line name) so we have 39 rows (one for each cell line), and a column containing comma seperated list\n",
    "# of all the highly pathogenic mutations in that sample\n",
    "path_muts_per_sample = pathogenic_mutations.groupby('ModelID')['HugoSymbol'].apply(lambda x: ', '.join(x)).reset_index()\n",
    "\n",
    "# Check there are no consecutive commas (denoting missing values)\n",
    "#path_muts_per_sample[path_muts_per_sample['HugoSymbol'].str.contains(\", , \")]\n",
    "path_muts_per_sample"
   ],
   "metadata": {
    "collapsed": false
   },
   "id": "530d91c75fe13b7"
  },
  {
   "cell_type": "code",
   "execution_count": null,
   "outputs": [],
   "source": [
    "# Write to csv\n",
    "path_muts_per_sample.to_csv(data_path + '\\\\dependant\\\\pathogenic_mutations_per_sample.csv')"
   ],
   "metadata": {
    "collapsed": false
   },
   "id": "eb1ce3694fe56ebc"
  },
  {
   "cell_type": "code",
   "execution_count": null,
   "outputs": [],
   "source": [
    "# Select all rows of mutation DF mutation_df where VariantInfo = 'MISSENSE' and VariantType = 'SNP' \n",
    "# May also want to include START_CODON_SNP here later (not sure if SNPs in start codon will be covered by the tools that assess mutations - introns only?)\n",
    "missense_snp = mutation_df[(mutation_df['VariantInfo']=='MISSENSE') & (mutation_df['VariantType']=='SNP')]"
   ],
   "metadata": {
    "collapsed": false
   },
   "id": "b90486832f3d5d04"
  },
  {
   "cell_type": "code",
   "execution_count": null,
   "outputs": [],
   "source": [
    "missense_snp[missense_snp['Transcript'].isnull()]"
   ],
   "metadata": {
    "collapsed": false
   },
   "id": "c522142d2faa63a7"
  },
  {
   "cell_type": "code",
   "execution_count": null,
   "outputs": [],
   "source": [
    "# Select all DNP and TNP missense mutations (in original version these are not assessed)\n",
    "missense_dnp_tnp = mutation_df[(mutation_df['VariantInfo']=='MISSENSE') & ((mutation_df['VariantType'] == 'DNP') | (mutation_df['VariantType'] == 'TNP'))]\n",
    "missense_dnp_tnp"
   ],
   "metadata": {
    "collapsed": false
   },
   "id": "13285fc3da2e0e3d"
  },
  {
   "cell_type": "code",
   "execution_count": null,
   "outputs": [],
   "source": [
    "# Check what's in the chromosomes column\n",
    "missense_snp['Chrom'].unique()"
   ],
   "metadata": {
    "collapsed": false
   },
   "id": "eaf103eb07d9193a"
  },
  {
   "cell_type": "code",
   "execution_count": null,
   "outputs": [],
   "source": [
    "# Create a VCF file with the SNP missense mutation data\n",
    "\n",
    "# Copy a subset of columns from the missense_snp dataframe\n",
    "missense_snp_vcf = missense_snp[['Chrom', 'Pos', 'DbsnpID',  'Ref', 'Alt']].copy()\n",
    "\n",
    "# Rename the columns to match VCF format requirements\n",
    "missense_snp_vcf.rename(columns={'Chrom' : '#CHROM' , 'Pos': 'POS', 'Ref': 'REF', 'Alt': 'ALT', 'DbsnpID' : 'ID'}, inplace=True)\n",
    "\n",
    "# Remove 'chr' string from the chromosome column values - Fathmm-XF won't recognise this this \n",
    "missense_snp_vcf['#CHROM'] = missense_snp_vcf['#CHROM'].str.replace('chr', '')\n",
    "\n",
    "# Write to CSV\n",
    "missense_snp_vcf.to_csv(data_path + '\\\\dependant\\\\depmap_mutations_for_fathmm.vcf', sep='\\t', index=False)\n",
    "\n",
    "print(len(missense_snp_vcf))\n",
    "missense_snp_vcf.head()"
   ],
   "metadata": {
    "collapsed": false
   },
   "id": "becb91bb05a8889e"
  },
  {
   "cell_type": "code",
   "execution_count": null,
   "outputs": [],
   "source": [
    "# Get unique transcript IDs from missense SNP mutations dataframe\n",
    "missense_snp_transcripts = pd.Series(missense_snp['Transcript'].unique(), name='TranscriptID')\n",
    "missense_snp_transcripts"
   ],
   "metadata": {
    "collapsed": false
   },
   "id": "aa757b30ba09ba77"
  },
  {
   "cell_type": "markdown",
   "source": [
    "## Alpha Missense mutation analysis starts here (merge both full AM dfs with mutation df)"
   ],
   "metadata": {
    "collapsed": false
   },
   "id": "39910f13b5d16b7d"
  },
  {
   "cell_type": "markdown",
   "source": [
    "### Load and merge the primary data"
   ],
   "metadata": {
    "collapsed": false
   },
   "id": "726e5c0cb5f087f9"
  },
  {
   "cell_type": "code",
   "execution_count": null,
   "outputs": [],
   "source": [
    "# Load and preview the alpha missense data (primary assembly)\n",
    "alpha_missense_primary = pd.read_csv(data_path + 'alphamissense\\\\AlphaMissense_hg38.tsv', skiprows=3, sep='\\t')"
   ],
   "metadata": {
    "collapsed": false
   },
   "id": "269b8dfad5c06b42"
  },
  {
   "cell_type": "code",
   "execution_count": null,
   "outputs": [],
   "source": [
    "alpha_missense_primary_len = len(alpha_missense_primary)\n",
    "print(alpha_missense_primary_len)\n",
    "\n",
    "alpha_missense_primary.head(20)"
   ],
   "metadata": {
    "collapsed": false
   },
   "id": "ec6bbfee85355dff"
  },
  {
   "cell_type": "code",
   "execution_count": null,
   "outputs": [],
   "source": [
    "# Rename columns in alpha_missense_complete df to match those in missense_snp for the merging criteria\n",
    "alpha_missense_primary.rename(columns={'#CHROM': 'Chrom', 'POS': 'Pos', 'REF': 'Ref', 'ALT': 'Alt'}, inplace=True)\n",
    "\n",
    "# add a column so we can later identify the source of the data when merged\n",
    "alpha_missense_primary['am_source'] = 'primary'\n",
    "\n",
    "# Now, merge the DataFrames\n",
    "missense_snp_extended = missense_snp.merge(alpha_missense_primary[['Chrom', 'Pos', 'Ref', 'Alt', 'transcript_id', 'am_pathogenicity', 'am_class', 'am_source']], \n",
    "                on=['Chrom', 'Pos', 'Ref', 'Alt'], \n",
    "                how='left')\n",
    "\n",
    "del alpha_missense_primary\n",
    "\n",
    "missense_snp_extended"
   ],
   "metadata": {
    "collapsed": false
   },
   "id": "21e20df2887d62e8"
  },
  {
   "cell_type": "code",
   "execution_count": null,
   "outputs": [],
   "source": [
    "# There are more records now after merging. why?\n",
    "len(missense_snp_extended)"
   ],
   "metadata": {
    "collapsed": false
   },
   "id": "263b8567b691d75a"
  },
  {
   "cell_type": "code",
   "execution_count": null,
   "outputs": [],
   "source": [
    "# Drop duplicates \n",
    "missense_snp_extended = missense_snp_extended.drop_duplicates(subset=['Chrom', 'Pos', 'Ref', 'Alt','am_class'], keep=\"first\")"
   ],
   "metadata": {
    "collapsed": false
   },
   "id": "273f09f8e9eb45a7"
  },
  {
   "cell_type": "code",
   "execution_count": null,
   "outputs": [],
   "source": [
    "missense_snp_extended"
   ],
   "metadata": {
    "collapsed": false
   },
   "id": "f40e63dcbfd32c0c"
  },
  {
   "cell_type": "code",
   "execution_count": null,
   "outputs": [],
   "source": [
    "# Save the rows that still don't have an alpha missense prediction - we will chek the isoform data for these:\n",
    "missing_missense_predictions = missense_snp_extended[missense_snp_extended['am_class'].isnull()]\n",
    "\n",
    "missing_missense_predictions"
   ],
   "metadata": {
    "collapsed": false
   },
   "id": "1b900179f66bdc9e"
  },
  {
   "cell_type": "markdown",
   "source": [
    "### Load and merge the isoform data"
   ],
   "metadata": {
    "collapsed": false
   },
   "id": "75c8eb1b32b30f2f"
  },
  {
   "cell_type": "code",
   "execution_count": null,
   "outputs": [],
   "source": [
    "# Load and preview the alpha missense data (isoforms)\n",
    "alpha_missense_isoforms = pd.read_csv(data_path + '\\\\alphamissense\\\\AlphaMissense_isoforms_hg38.tsv', skiprows=3, sep='\\t')"
   ],
   "metadata": {
    "collapsed": false
   },
   "id": "9a12ffc58d39112a"
  },
  {
   "cell_type": "code",
   "execution_count": null,
   "outputs": [],
   "source": [
    "alpha_missense_isoforms_len = len(alpha_missense_isoforms)\n",
    "print(alpha_missense_isoforms_len)\n",
    "\n",
    "alpha_missense_isoforms.head()"
   ],
   "metadata": {
    "collapsed": false
   },
   "id": "c2bee7dd13ba9602"
  },
  {
   "cell_type": "code",
   "execution_count": null,
   "outputs": [],
   "source": [
    "# Rename columns in alpha_missense_isoforms df to match those in missense_snp_extended for the merging criteria\n",
    "alpha_missense_isoforms.rename(columns={'#CHROM': 'Chrom', 'POS': 'Pos', 'REF': 'Ref', 'ALT': 'Alt'}, inplace=True)\n",
    "\n",
    "# Add a column, so we can later identify the source of the data when merged\n",
    "alpha_missense_isoforms['am_source'] = 'isoform'\n",
    "\n",
    "# These cols were added during the forst merge. Drop them so we can add them again, otherwise we wil  get _x _y appended cols\n",
    "missing_missense_predictions = missing_missense_predictions.drop(columns=['transcript_id', 'am_pathogenicity', 'am_class', 'am_source']) \n",
    "\n",
    "# Now, merge the DataFrames\n",
    "missing_missense_predictions = missing_missense_predictions.merge(alpha_missense_isoforms[['Chrom', 'Pos', 'Ref', 'Alt', 'transcript_id', 'am_pathogenicity', 'am_class', 'am_source']], \n",
    "                on=['Chrom', 'Pos', 'Ref', 'Alt'], \n",
    "                how='left')\n",
    "\n",
    "#del alpha_missense_isoforms\n",
    "\n",
    "missing_missense_predictions"
   ],
   "metadata": {
    "collapsed": false
   },
   "id": "97033c8e10a3cd56"
  },
  {
   "cell_type": "code",
   "execution_count": null,
   "outputs": [],
   "source": [
    "# Drop duplicates\n",
    "#missing_missense_predictions.drop_duplicates(subset=['Chrom', 'Pos', 'Ref', 'Alt', 'DNAChange', 'ProteinChange', 'HugoSymbol', 'Transcript', 'am_class'], keep=False)\n",
    "missing_missense_predictions = missing_missense_predictions.drop_duplicates(subset=['Chrom', 'Pos', 'Ref', 'Alt', 'am_class'], keep=\"first\")"
   ],
   "metadata": {
    "collapsed": false
   },
   "id": "392fd7851b72a0db"
  },
  {
   "cell_type": "code",
   "execution_count": null,
   "outputs": [],
   "source": [
    "missense_snp_complete = pd.concat([missense_snp_extended, missing_missense_predictions], axis=0, ignore_index=True)"
   ],
   "metadata": {
    "collapsed": false
   },
   "id": "6640e8fe0a59088d"
  },
  {
   "cell_type": "code",
   "execution_count": null,
   "outputs": [],
   "source": [
    "missense_snp_complete"
   ],
   "metadata": {
    "collapsed": false
   },
   "id": "6dd2505ea851e4cc"
  },
  {
   "cell_type": "code",
   "execution_count": null,
   "outputs": [],
   "source": [
    "end_time = datetime.datetime.now()\n",
    "\n",
    "running_time = end_time - start_time\n",
    "\n",
    "print(f'Running time: {running_time}')"
   ],
   "metadata": {
    "collapsed": false
   },
   "id": "831996aff08cdcdf"
  },
  {
   "cell_type": "code",
   "execution_count": null,
   "outputs": [],
   "source": [],
   "metadata": {
    "collapsed": false
   },
   "id": "a85c803f1c73667"
  },
  {
   "cell_type": "code",
   "execution_count": null,
   "outputs": [],
   "source": [
    "# Function assigns lof and gof label depending on whether protein is onc/tsg/kinase/other\n",
    "def lof_gof(x):\n",
    "\n",
    "    if x in tsgs:\n",
    "        return 'lof'\n",
    "    elif x in oncs:\n",
    "        return 'gof'\n",
    "    elif x in kinases:\n",
    "        return 'gof'\n",
    "    else:\n",
    "        return 'lof'"
   ],
   "metadata": {
    "collapsed": false
   },
   "id": "4f02f80d933615b5"
  },
  {
   "cell_type": "code",
   "execution_count": null,
   "outputs": [],
   "source": [
    "# Add lof_gof column and map to lof_gof function. Each mutation (row) in df3_sm will be labelled lof/gof\n",
    "df3_sm['lof_gof'] = df3_sm['Protein stable ID'].map(lof_gof)"
   ],
   "metadata": {
    "collapsed": false
   },
   "id": "be822cf8fc3472d2"
  }
 ],
 "metadata": {
  "kernelspec": {
   "display_name": "Python 3",
   "language": "python",
   "name": "python3"
  },
  "language_info": {
   "codemirror_mode": {
    "name": "ipython",
    "version": 2
   },
   "file_extension": ".py",
   "mimetype": "text/x-python",
   "name": "python",
   "nbconvert_exporter": "python",
   "pygments_lexer": "ipython2",
   "version": "2.7.6"
  }
 },
 "nbformat": 4,
 "nbformat_minor": 5
}
