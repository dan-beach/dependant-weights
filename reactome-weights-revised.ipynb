{
 "cells": [
  {
   "cell_type": "code",
   "execution_count": 1,
   "id": "initial_id",
   "metadata": {
    "collapsed": true,
    "ExecuteTime": {
     "end_time": "2023-12-29T15:19:44.165065400Z",
     "start_time": "2023-12-29T15:19:42.814395Z"
    }
   },
   "outputs": [],
   "source": [
    "import pandas as pd\n",
    "import numpy as np\n",
    "import sys\n",
    "import re\n",
    "import functools\n",
    "import json\n",
    "import random\n",
    "import os\n",
    "import math\n",
    "import datetime\n",
    "\n",
    "import matplotlib.pyplot as plt"
   ]
  },
  {
   "cell_type": "code",
   "execution_count": 2,
   "outputs": [],
   "source": [
    "start_time = datetime.datetime.now()"
   ],
   "metadata": {
    "collapsed": false,
    "ExecuteTime": {
     "end_time": "2023-12-29T15:19:44.173357600Z",
     "start_time": "2023-12-29T15:19:44.173357600Z"
    }
   },
   "id": "52534969ef65b81a"
  },
  {
   "cell_type": "code",
   "execution_count": 3,
   "outputs": [
    {
     "data": {
      "text/plain": "['alphamissense',\n 'biomart',\n 'dependant',\n 'depmap',\n 'missing_gene_names.csv',\n 'pathway_commons',\n 'reactome',\n 'reactome_rows_to_drop.csv',\n 'string']"
     },
     "execution_count": 3,
     "metadata": {},
     "output_type": "execute_result"
    }
   ],
   "source": [
    "#os.getcwd()\n",
    "\n",
    "# Linux workstation\n",
    "#data_path = '/home/db600/phd/data/'\n",
    "\n",
    "# Laptop\n",
    "data_path = 'C:\\\\Users\\\\dan\\\\Documents\\\\phd\\\\data\\\\'\n",
    "\n",
    "os.listdir(data_path)"
   ],
   "metadata": {
    "collapsed": false,
    "ExecuteTime": {
     "end_time": "2023-12-29T15:19:44.189374400Z",
     "start_time": "2023-12-29T15:19:44.173357600Z"
    }
   },
   "id": "2e76b46b86413825"
  },
  {
   "cell_type": "code",
   "execution_count": 4,
   "outputs": [],
   "source": [
    "mut_path = data_path + 'depmap\\\\OmicsSomaticMutations.csv'\n",
    "exp_path = data_path + 'depmap\\\\OmicsExpressionProteinCodingGenesTPMLogp1.csv' \n",
    "conv_path = data_path + 'biomart\\\\ensembl_biomart_plus_fasta.csv'"
   ],
   "metadata": {
    "collapsed": false,
    "ExecuteTime": {
     "end_time": "2023-12-29T15:19:44.282619800Z",
     "start_time": "2023-12-29T15:19:44.189374400Z"
    }
   },
   "id": "2c9e98e8d41b7490"
  },
  {
   "cell_type": "code",
   "execution_count": 5,
   "outputs": [],
   "source": [
    "# Read the multi_gene_converter into a DF\n",
    "conv = pd.read_csv(conv_path, header = 0, index_col = 0)\n",
    "conv = conv.drop(columns='Unnamed: 0')"
   ],
   "metadata": {
    "collapsed": false,
    "ExecuteTime": {
     "end_time": "2023-12-29T15:19:44.742694200Z",
     "start_time": "2023-12-29T15:19:44.204403Z"
    }
   },
   "id": "674ebce3ff7ab4a8"
  },
  {
   "cell_type": "code",
   "execution_count": 6,
   "outputs": [
    {
     "data": {
      "text/plain": "    Gene stable ID HGNC symbol Chromosome/scaffold name Transcript stable ID  \\\n0  ENSG00000198888      MT-ND1                       MT      ENST00000361390   \n1  ENSG00000198763      MT-ND2                       MT      ENST00000361453   \n2  ENSG00000198804      MT-CO1                       MT      ENST00000361624   \n3  ENSG00000198712      MT-CO2                       MT      ENST00000361739   \n4  ENSG00000228253     MT-ATP8                       MT      ENST00000361851   \n\n  Protein stable ID UniProtKB/TrEMBL ID UniProtKB/Swiss-Prot ID  \\\n0   ENSP00000354687              U5Z754                  P03886   \n1   ENSP00000355046              Q7GXY9                  P03891   \n2   ENSP00000354499              U5YWV7                  P00395   \n3   ENSP00000354876              U5Z487                  P00403   \n4   ENSP00000355265              U5YV54                  P03928   \n\n                                             Peptide  \n0  MPMANLLLLIVPILIAMAFLMLTERKILGYMQLRKGPNVVGPYGLL...  \n1  MNPLAQPVIYSTIFAGTLITALSSHWFFTWVGLEMNMLAFIPVLTK...  \n2  MFADRWLFSTNHKDIGTLYLLFGAWAGVLGTALSLLIRAELGQPGN...  \n3  MAHAAQVGLQDATSPIMEELITFHDHALMIIFLICFLVLYALFLTL...  \n4  MPQLNTTVWPTMITPMLLTLFLITQLKMLNTNYHLPPSPKPMKMKN...  ",
      "text/html": "<div>\n<style scoped>\n    .dataframe tbody tr th:only-of-type {\n        vertical-align: middle;\n    }\n\n    .dataframe tbody tr th {\n        vertical-align: top;\n    }\n\n    .dataframe thead th {\n        text-align: right;\n    }\n</style>\n<table border=\"1\" class=\"dataframe\">\n  <thead>\n    <tr style=\"text-align: right;\">\n      <th></th>\n      <th>Gene stable ID</th>\n      <th>HGNC symbol</th>\n      <th>Chromosome/scaffold name</th>\n      <th>Transcript stable ID</th>\n      <th>Protein stable ID</th>\n      <th>UniProtKB/TrEMBL ID</th>\n      <th>UniProtKB/Swiss-Prot ID</th>\n      <th>Peptide</th>\n    </tr>\n  </thead>\n  <tbody>\n    <tr>\n      <th>0</th>\n      <td>ENSG00000198888</td>\n      <td>MT-ND1</td>\n      <td>MT</td>\n      <td>ENST00000361390</td>\n      <td>ENSP00000354687</td>\n      <td>U5Z754</td>\n      <td>P03886</td>\n      <td>MPMANLLLLIVPILIAMAFLMLTERKILGYMQLRKGPNVVGPYGLL...</td>\n    </tr>\n    <tr>\n      <th>1</th>\n      <td>ENSG00000198763</td>\n      <td>MT-ND2</td>\n      <td>MT</td>\n      <td>ENST00000361453</td>\n      <td>ENSP00000355046</td>\n      <td>Q7GXY9</td>\n      <td>P03891</td>\n      <td>MNPLAQPVIYSTIFAGTLITALSSHWFFTWVGLEMNMLAFIPVLTK...</td>\n    </tr>\n    <tr>\n      <th>2</th>\n      <td>ENSG00000198804</td>\n      <td>MT-CO1</td>\n      <td>MT</td>\n      <td>ENST00000361624</td>\n      <td>ENSP00000354499</td>\n      <td>U5YWV7</td>\n      <td>P00395</td>\n      <td>MFADRWLFSTNHKDIGTLYLLFGAWAGVLGTALSLLIRAELGQPGN...</td>\n    </tr>\n    <tr>\n      <th>3</th>\n      <td>ENSG00000198712</td>\n      <td>MT-CO2</td>\n      <td>MT</td>\n      <td>ENST00000361739</td>\n      <td>ENSP00000354876</td>\n      <td>U5Z487</td>\n      <td>P00403</td>\n      <td>MAHAAQVGLQDATSPIMEELITFHDHALMIIFLICFLVLYALFLTL...</td>\n    </tr>\n    <tr>\n      <th>4</th>\n      <td>ENSG00000228253</td>\n      <td>MT-ATP8</td>\n      <td>MT</td>\n      <td>ENST00000361851</td>\n      <td>ENSP00000355265</td>\n      <td>U5YV54</td>\n      <td>P03928</td>\n      <td>MPQLNTTVWPTMITPMLLTLFLITQLKMLNTNYHLPPSPKPMKMKN...</td>\n    </tr>\n  </tbody>\n</table>\n</div>"
     },
     "execution_count": 6,
     "metadata": {},
     "output_type": "execute_result"
    }
   ],
   "source": [
    "conv.head()"
   ],
   "metadata": {
    "collapsed": false,
    "ExecuteTime": {
     "end_time": "2023-12-29T15:19:44.758193300Z",
     "start_time": "2023-12-29T15:19:44.742694200Z"
    }
   },
   "id": "9ce51c982fda35dd"
  },
  {
   "cell_type": "code",
   "execution_count": 7,
   "outputs": [],
   "source": [
    "def load_list(path):\n",
    "    with open(path) as f:\n",
    "        g = json.load(f)\n",
    "    return g\n",
    "\n",
    "kinases_path = \"C:\\\\Users\\\\dan\\\\PycharmProjects\\\\kinase-onc-tsg\\\\data\\\\kinases.json\"\n",
    "oncs_path = \"C:\\\\Users\\\\dan\\\\PycharmProjects\\\\kinase-onc-tsg\\\\data\\\\oncs.json\"\n",
    "tsgs_path = \"C:\\\\Users\\\\dan\\\\PycharmProjects\\\\kinase-onc-tsg\\\\data\\\\tsgs.json\"\n",
    "\n",
    "kinases = load_list(kinases_path)\n",
    "oncs = load_list(oncs_path)\n",
    "tsgs =load_list(tsgs_path)"
   ],
   "metadata": {
    "collapsed": false,
    "ExecuteTime": {
     "end_time": "2023-12-29T15:19:44.805462500Z",
     "start_time": "2023-12-29T15:19:44.758193300Z"
    }
   },
   "id": "6d610ce38158ccdb"
  },
  {
   "cell_type": "code",
   "execution_count": 8,
   "outputs": [
    {
     "data": {
      "text/plain": "             CCLEName\n0      HCC1428_BREAST\n1      HCC1806_BREAST\n2      HCC1937_BREAST\n3     MDAMB231_BREAST\n4       HCC202_BREAST\n5        CAL51_BREAST\n6     MDAMB468_BREAST\n7         KPL1_BREAST\n8     MDAMB415_BREAST\n9     MDAMB157_BREAST\n10    MDAMB453_BREAST\n11     HCC1954_BREAST\n12      HS578T_BREAST\n13       ZR751_BREAST\n14       AU565_BREAST\n15    MDAMB436_BREAST\n16       EFM19_BREAST\n17     HCC1143_BREAST\n18     HCC1395_BREAST\n19   TUHR10TKB_KIDNEY\n20       KMRC1_KIDNEY\n21       SLR23_KIDNEY\n22       OSRC2_KIDNEY\n23      SNU349_KIDNEY\n24       SLR20_KIDNEY\n25     BFTC909_KIDNEY\n26    TUHR4TKB_KIDNEY\n27       CAKI2_KIDNEY\n28       SLR26_KIDNEY\n29      UOK101_KIDNEY\n30  PANC1005_PANCREAS\n31    HS766T_PANCREAS\n32     ASPC1_PANCREAS\n33       KP2_PANCREAS\n34       KP4_PANCREAS\n35  MIAPACA2_PANCREAS\n36    CFPAC1_PANCREAS\n37      PSN1_PANCREAS\n38     HUPT3_PANCREAS",
      "text/html": "<div>\n<style scoped>\n    .dataframe tbody tr th:only-of-type {\n        vertical-align: middle;\n    }\n\n    .dataframe tbody tr th {\n        vertical-align: top;\n    }\n\n    .dataframe thead th {\n        text-align: right;\n    }\n</style>\n<table border=\"1\" class=\"dataframe\">\n  <thead>\n    <tr style=\"text-align: right;\">\n      <th></th>\n      <th>CCLEName</th>\n    </tr>\n  </thead>\n  <tbody>\n    <tr>\n      <th>0</th>\n      <td>HCC1428_BREAST</td>\n    </tr>\n    <tr>\n      <th>1</th>\n      <td>HCC1806_BREAST</td>\n    </tr>\n    <tr>\n      <th>2</th>\n      <td>HCC1937_BREAST</td>\n    </tr>\n    <tr>\n      <th>3</th>\n      <td>MDAMB231_BREAST</td>\n    </tr>\n    <tr>\n      <th>4</th>\n      <td>HCC202_BREAST</td>\n    </tr>\n    <tr>\n      <th>5</th>\n      <td>CAL51_BREAST</td>\n    </tr>\n    <tr>\n      <th>6</th>\n      <td>MDAMB468_BREAST</td>\n    </tr>\n    <tr>\n      <th>7</th>\n      <td>KPL1_BREAST</td>\n    </tr>\n    <tr>\n      <th>8</th>\n      <td>MDAMB415_BREAST</td>\n    </tr>\n    <tr>\n      <th>9</th>\n      <td>MDAMB157_BREAST</td>\n    </tr>\n    <tr>\n      <th>10</th>\n      <td>MDAMB453_BREAST</td>\n    </tr>\n    <tr>\n      <th>11</th>\n      <td>HCC1954_BREAST</td>\n    </tr>\n    <tr>\n      <th>12</th>\n      <td>HS578T_BREAST</td>\n    </tr>\n    <tr>\n      <th>13</th>\n      <td>ZR751_BREAST</td>\n    </tr>\n    <tr>\n      <th>14</th>\n      <td>AU565_BREAST</td>\n    </tr>\n    <tr>\n      <th>15</th>\n      <td>MDAMB436_BREAST</td>\n    </tr>\n    <tr>\n      <th>16</th>\n      <td>EFM19_BREAST</td>\n    </tr>\n    <tr>\n      <th>17</th>\n      <td>HCC1143_BREAST</td>\n    </tr>\n    <tr>\n      <th>18</th>\n      <td>HCC1395_BREAST</td>\n    </tr>\n    <tr>\n      <th>19</th>\n      <td>TUHR10TKB_KIDNEY</td>\n    </tr>\n    <tr>\n      <th>20</th>\n      <td>KMRC1_KIDNEY</td>\n    </tr>\n    <tr>\n      <th>21</th>\n      <td>SLR23_KIDNEY</td>\n    </tr>\n    <tr>\n      <th>22</th>\n      <td>OSRC2_KIDNEY</td>\n    </tr>\n    <tr>\n      <th>23</th>\n      <td>SNU349_KIDNEY</td>\n    </tr>\n    <tr>\n      <th>24</th>\n      <td>SLR20_KIDNEY</td>\n    </tr>\n    <tr>\n      <th>25</th>\n      <td>BFTC909_KIDNEY</td>\n    </tr>\n    <tr>\n      <th>26</th>\n      <td>TUHR4TKB_KIDNEY</td>\n    </tr>\n    <tr>\n      <th>27</th>\n      <td>CAKI2_KIDNEY</td>\n    </tr>\n    <tr>\n      <th>28</th>\n      <td>SLR26_KIDNEY</td>\n    </tr>\n    <tr>\n      <th>29</th>\n      <td>UOK101_KIDNEY</td>\n    </tr>\n    <tr>\n      <th>30</th>\n      <td>PANC1005_PANCREAS</td>\n    </tr>\n    <tr>\n      <th>31</th>\n      <td>HS766T_PANCREAS</td>\n    </tr>\n    <tr>\n      <th>32</th>\n      <td>ASPC1_PANCREAS</td>\n    </tr>\n    <tr>\n      <th>33</th>\n      <td>KP2_PANCREAS</td>\n    </tr>\n    <tr>\n      <th>34</th>\n      <td>KP4_PANCREAS</td>\n    </tr>\n    <tr>\n      <th>35</th>\n      <td>MIAPACA2_PANCREAS</td>\n    </tr>\n    <tr>\n      <th>36</th>\n      <td>CFPAC1_PANCREAS</td>\n    </tr>\n    <tr>\n      <th>37</th>\n      <td>PSN1_PANCREAS</td>\n    </tr>\n    <tr>\n      <th>38</th>\n      <td>HUPT3_PANCREAS</td>\n    </tr>\n  </tbody>\n</table>\n</div>"
     },
     "execution_count": 8,
     "metadata": {},
     "output_type": "execute_result"
    }
   ],
   "source": [
    "# Get list of training cell lines used in original program\n",
    "# Manually saved to CSV earlier\n",
    "cell_lines = pd.read_csv(data_path + 'dependant\\\\original_training_cell_lines.csv')\n",
    "cell_lines = cell_lines.rename(columns={'cell_line': 'CCLEName'})\n",
    "cell_lines"
   ],
   "metadata": {
    "collapsed": false,
    "ExecuteTime": {
     "end_time": "2023-12-29T15:19:44.805462500Z",
     "start_time": "2023-12-29T15:19:44.773815200Z"
    }
   },
   "id": "f4729a90d47138ec"
  },
  {
   "cell_type": "code",
   "execution_count": 9,
   "outputs": [
    {
     "data": {
      "text/plain": "             CCLEName     ModelID\n0      HCC1428_BREAST  ACH-000352\n1      HCC1806_BREAST  ACH-000624\n2      HCC1937_BREAST  ACH-000223\n3     MDAMB231_BREAST  ACH-000768\n4       HCC202_BREAST  ACH-000725\n5        CAL51_BREAST  ACH-000856\n6     MDAMB468_BREAST  ACH-000849\n7         KPL1_BREAST  ACH-000028\n8     MDAMB415_BREAST  ACH-000876\n9     MDAMB157_BREAST  ACH-000621\n10    MDAMB453_BREAST  ACH-000910\n11     HCC1954_BREAST  ACH-000859\n12      HS578T_BREAST  ACH-000148\n13       ZR751_BREAST  ACH-000097\n14       AU565_BREAST  ACH-000248\n15    MDAMB436_BREAST  ACH-000573\n16       EFM19_BREAST  ACH-000330\n17     HCC1143_BREAST  ACH-000374\n18     HCC1395_BREAST  ACH-000699\n19   TUHR10TKB_KIDNEY  ACH-000459\n20       KMRC1_KIDNEY  ACH-000684\n21       SLR23_KIDNEY  ACH-000246\n22       OSRC2_KIDNEY  ACH-000159\n23      SNU349_KIDNEY  ACH-000907\n24       SLR20_KIDNEY  ACH-000127\n25     BFTC909_KIDNEY  ACH-000792\n26    TUHR4TKB_KIDNEY  ACH-000495\n27       CAKI2_KIDNEY  ACH-000234\n28       SLR26_KIDNEY  ACH-000600\n29      UOK101_KIDNEY  ACH-000262\n30  PANC1005_PANCREAS  ACH-000060\n31    HS766T_PANCREAS  ACH-000178\n32     ASPC1_PANCREAS  ACH-000222\n33       KP2_PANCREAS  ACH-000281\n34       KP4_PANCREAS  ACH-000265\n35  MIAPACA2_PANCREAS  ACH-000601\n36    CFPAC1_PANCREAS  ACH-000138\n37      PSN1_PANCREAS  ACH-000320\n38     HUPT3_PANCREAS  ACH-000118",
      "text/html": "<div>\n<style scoped>\n    .dataframe tbody tr th:only-of-type {\n        vertical-align: middle;\n    }\n\n    .dataframe tbody tr th {\n        vertical-align: top;\n    }\n\n    .dataframe thead th {\n        text-align: right;\n    }\n</style>\n<table border=\"1\" class=\"dataframe\">\n  <thead>\n    <tr style=\"text-align: right;\">\n      <th></th>\n      <th>CCLEName</th>\n      <th>ModelID</th>\n    </tr>\n  </thead>\n  <tbody>\n    <tr>\n      <th>0</th>\n      <td>HCC1428_BREAST</td>\n      <td>ACH-000352</td>\n    </tr>\n    <tr>\n      <th>1</th>\n      <td>HCC1806_BREAST</td>\n      <td>ACH-000624</td>\n    </tr>\n    <tr>\n      <th>2</th>\n      <td>HCC1937_BREAST</td>\n      <td>ACH-000223</td>\n    </tr>\n    <tr>\n      <th>3</th>\n      <td>MDAMB231_BREAST</td>\n      <td>ACH-000768</td>\n    </tr>\n    <tr>\n      <th>4</th>\n      <td>HCC202_BREAST</td>\n      <td>ACH-000725</td>\n    </tr>\n    <tr>\n      <th>5</th>\n      <td>CAL51_BREAST</td>\n      <td>ACH-000856</td>\n    </tr>\n    <tr>\n      <th>6</th>\n      <td>MDAMB468_BREAST</td>\n      <td>ACH-000849</td>\n    </tr>\n    <tr>\n      <th>7</th>\n      <td>KPL1_BREAST</td>\n      <td>ACH-000028</td>\n    </tr>\n    <tr>\n      <th>8</th>\n      <td>MDAMB415_BREAST</td>\n      <td>ACH-000876</td>\n    </tr>\n    <tr>\n      <th>9</th>\n      <td>MDAMB157_BREAST</td>\n      <td>ACH-000621</td>\n    </tr>\n    <tr>\n      <th>10</th>\n      <td>MDAMB453_BREAST</td>\n      <td>ACH-000910</td>\n    </tr>\n    <tr>\n      <th>11</th>\n      <td>HCC1954_BREAST</td>\n      <td>ACH-000859</td>\n    </tr>\n    <tr>\n      <th>12</th>\n      <td>HS578T_BREAST</td>\n      <td>ACH-000148</td>\n    </tr>\n    <tr>\n      <th>13</th>\n      <td>ZR751_BREAST</td>\n      <td>ACH-000097</td>\n    </tr>\n    <tr>\n      <th>14</th>\n      <td>AU565_BREAST</td>\n      <td>ACH-000248</td>\n    </tr>\n    <tr>\n      <th>15</th>\n      <td>MDAMB436_BREAST</td>\n      <td>ACH-000573</td>\n    </tr>\n    <tr>\n      <th>16</th>\n      <td>EFM19_BREAST</td>\n      <td>ACH-000330</td>\n    </tr>\n    <tr>\n      <th>17</th>\n      <td>HCC1143_BREAST</td>\n      <td>ACH-000374</td>\n    </tr>\n    <tr>\n      <th>18</th>\n      <td>HCC1395_BREAST</td>\n      <td>ACH-000699</td>\n    </tr>\n    <tr>\n      <th>19</th>\n      <td>TUHR10TKB_KIDNEY</td>\n      <td>ACH-000459</td>\n    </tr>\n    <tr>\n      <th>20</th>\n      <td>KMRC1_KIDNEY</td>\n      <td>ACH-000684</td>\n    </tr>\n    <tr>\n      <th>21</th>\n      <td>SLR23_KIDNEY</td>\n      <td>ACH-000246</td>\n    </tr>\n    <tr>\n      <th>22</th>\n      <td>OSRC2_KIDNEY</td>\n      <td>ACH-000159</td>\n    </tr>\n    <tr>\n      <th>23</th>\n      <td>SNU349_KIDNEY</td>\n      <td>ACH-000907</td>\n    </tr>\n    <tr>\n      <th>24</th>\n      <td>SLR20_KIDNEY</td>\n      <td>ACH-000127</td>\n    </tr>\n    <tr>\n      <th>25</th>\n      <td>BFTC909_KIDNEY</td>\n      <td>ACH-000792</td>\n    </tr>\n    <tr>\n      <th>26</th>\n      <td>TUHR4TKB_KIDNEY</td>\n      <td>ACH-000495</td>\n    </tr>\n    <tr>\n      <th>27</th>\n      <td>CAKI2_KIDNEY</td>\n      <td>ACH-000234</td>\n    </tr>\n    <tr>\n      <th>28</th>\n      <td>SLR26_KIDNEY</td>\n      <td>ACH-000600</td>\n    </tr>\n    <tr>\n      <th>29</th>\n      <td>UOK101_KIDNEY</td>\n      <td>ACH-000262</td>\n    </tr>\n    <tr>\n      <th>30</th>\n      <td>PANC1005_PANCREAS</td>\n      <td>ACH-000060</td>\n    </tr>\n    <tr>\n      <th>31</th>\n      <td>HS766T_PANCREAS</td>\n      <td>ACH-000178</td>\n    </tr>\n    <tr>\n      <th>32</th>\n      <td>ASPC1_PANCREAS</td>\n      <td>ACH-000222</td>\n    </tr>\n    <tr>\n      <th>33</th>\n      <td>KP2_PANCREAS</td>\n      <td>ACH-000281</td>\n    </tr>\n    <tr>\n      <th>34</th>\n      <td>KP4_PANCREAS</td>\n      <td>ACH-000265</td>\n    </tr>\n    <tr>\n      <th>35</th>\n      <td>MIAPACA2_PANCREAS</td>\n      <td>ACH-000601</td>\n    </tr>\n    <tr>\n      <th>36</th>\n      <td>CFPAC1_PANCREAS</td>\n      <td>ACH-000138</td>\n    </tr>\n    <tr>\n      <th>37</th>\n      <td>PSN1_PANCREAS</td>\n      <td>ACH-000320</td>\n    </tr>\n    <tr>\n      <th>38</th>\n      <td>HUPT3_PANCREAS</td>\n      <td>ACH-000118</td>\n    </tr>\n  </tbody>\n</table>\n</div>"
     },
     "execution_count": 9,
     "metadata": {},
     "output_type": "execute_result"
    }
   ],
   "source": [
    "# Load the DepMap model metadata\n",
    "depmap_model = pd.read_csv(data_path + 'depmap\\\\Model.csv')\n",
    "\n",
    "# Add depmap model ID to the list of 39 original training cell lines\n",
    "cell_lines = pd.merge(cell_lines, depmap_model[['ModelID', 'CCLEName']], on='CCLEName', how='left')\n",
    "\n",
    "# View the cell line list\n",
    "cell_lines"
   ],
   "metadata": {
    "collapsed": false,
    "ExecuteTime": {
     "end_time": "2023-12-29T15:19:44.993790300Z",
     "start_time": "2023-12-29T15:19:44.790448Z"
    }
   },
   "id": "9af542e32569cad"
  },
  {
   "cell_type": "code",
   "execution_count": 10,
   "outputs": [],
   "source": [
    "# Load the expression and mutation data\n",
    "mutation_df = pd.read_csv(mut_path, low_memory=False)\n",
    "expression_df = pd.read_csv(exp_path)"
   ],
   "metadata": {
    "collapsed": false,
    "ExecuteTime": {
     "end_time": "2023-12-29T15:20:02.887433700Z",
     "start_time": "2023-12-29T15:19:44.821099600Z"
    }
   },
   "id": "3a130920cfe3250d"
  },
  {
   "cell_type": "code",
   "execution_count": 11,
   "outputs": [
    {
     "data": {
      "text/plain": "   Unnamed: 0  TSPAN6 (7105)  TNMD (64102)  DPM1 (8813)  SCYL3 (57147)  \\\n0  ACH-001113       4.331992      0.000000     7.364660       2.792855   \n1  ACH-001289       4.567424      0.584963     7.106641       2.543496   \n2  ACH-001339       3.150560      0.000000     7.379118       2.333424   \n3  ACH-001538       5.085340      0.000000     7.154211       2.545968   \n4  ACH-000242       6.729417      0.000000     6.537917       2.456806   \n\n   C1orf112 (55732)  FGR (2268)  CFH (3075)  FUCA2 (2519)  GCLC (2729)  ...  \\\n0          4.471187    0.028569    1.226509      3.044394     6.500005  ...   \n1          3.504620    0.000000    0.189034      3.813525     4.221877  ...   \n2          4.228049    0.056584    1.310340      6.687201     3.682573  ...   \n3          3.084064    0.000000    5.868390      6.165309     4.489928  ...   \n4          3.867896    0.799087    7.208478      5.570159     7.127117  ...   \n\n   H3C2 (8358)  H3C3 (8352)  AC098582.1 (8916)  DUS4L-BCAP29 (115253422)  \\\n0     2.689299     0.189034           0.201634                  2.130931   \n1     1.286881     1.049631           0.321928                  1.464668   \n2     0.594549     1.097611           0.831877                  2.946731   \n3     0.214125     0.632268           0.298658                  1.641546   \n4     1.117695     2.358959           0.084064                  1.910733   \n\n   C8orf44-SGK3 (100533105)  ELOA3B (728929)  NPBWR1 (2831)  \\\n0                  0.555816              0.0       0.275007   \n1                  0.632268              0.0       0.014355   \n2                  0.475085              0.0       0.084064   \n3                  0.443607              0.0       0.028569   \n4                  0.000000              0.0       0.464668   \n\n   ELOA3D (100506888)  ELOA3 (162699)  CDR1 (1038)  \n0                 0.0             0.0     0.000000  \n1                 0.0             0.0     0.000000  \n2                 0.0             0.0     0.042644  \n3                 0.0             0.0     0.000000  \n4                 0.0             0.0     0.000000  \n\n[5 rows x 19194 columns]",
      "text/html": "<div>\n<style scoped>\n    .dataframe tbody tr th:only-of-type {\n        vertical-align: middle;\n    }\n\n    .dataframe tbody tr th {\n        vertical-align: top;\n    }\n\n    .dataframe thead th {\n        text-align: right;\n    }\n</style>\n<table border=\"1\" class=\"dataframe\">\n  <thead>\n    <tr style=\"text-align: right;\">\n      <th></th>\n      <th>Unnamed: 0</th>\n      <th>TSPAN6 (7105)</th>\n      <th>TNMD (64102)</th>\n      <th>DPM1 (8813)</th>\n      <th>SCYL3 (57147)</th>\n      <th>C1orf112 (55732)</th>\n      <th>FGR (2268)</th>\n      <th>CFH (3075)</th>\n      <th>FUCA2 (2519)</th>\n      <th>GCLC (2729)</th>\n      <th>...</th>\n      <th>H3C2 (8358)</th>\n      <th>H3C3 (8352)</th>\n      <th>AC098582.1 (8916)</th>\n      <th>DUS4L-BCAP29 (115253422)</th>\n      <th>C8orf44-SGK3 (100533105)</th>\n      <th>ELOA3B (728929)</th>\n      <th>NPBWR1 (2831)</th>\n      <th>ELOA3D (100506888)</th>\n      <th>ELOA3 (162699)</th>\n      <th>CDR1 (1038)</th>\n    </tr>\n  </thead>\n  <tbody>\n    <tr>\n      <th>0</th>\n      <td>ACH-001113</td>\n      <td>4.331992</td>\n      <td>0.000000</td>\n      <td>7.364660</td>\n      <td>2.792855</td>\n      <td>4.471187</td>\n      <td>0.028569</td>\n      <td>1.226509</td>\n      <td>3.044394</td>\n      <td>6.500005</td>\n      <td>...</td>\n      <td>2.689299</td>\n      <td>0.189034</td>\n      <td>0.201634</td>\n      <td>2.130931</td>\n      <td>0.555816</td>\n      <td>0.0</td>\n      <td>0.275007</td>\n      <td>0.0</td>\n      <td>0.0</td>\n      <td>0.000000</td>\n    </tr>\n    <tr>\n      <th>1</th>\n      <td>ACH-001289</td>\n      <td>4.567424</td>\n      <td>0.584963</td>\n      <td>7.106641</td>\n      <td>2.543496</td>\n      <td>3.504620</td>\n      <td>0.000000</td>\n      <td>0.189034</td>\n      <td>3.813525</td>\n      <td>4.221877</td>\n      <td>...</td>\n      <td>1.286881</td>\n      <td>1.049631</td>\n      <td>0.321928</td>\n      <td>1.464668</td>\n      <td>0.632268</td>\n      <td>0.0</td>\n      <td>0.014355</td>\n      <td>0.0</td>\n      <td>0.0</td>\n      <td>0.000000</td>\n    </tr>\n    <tr>\n      <th>2</th>\n      <td>ACH-001339</td>\n      <td>3.150560</td>\n      <td>0.000000</td>\n      <td>7.379118</td>\n      <td>2.333424</td>\n      <td>4.228049</td>\n      <td>0.056584</td>\n      <td>1.310340</td>\n      <td>6.687201</td>\n      <td>3.682573</td>\n      <td>...</td>\n      <td>0.594549</td>\n      <td>1.097611</td>\n      <td>0.831877</td>\n      <td>2.946731</td>\n      <td>0.475085</td>\n      <td>0.0</td>\n      <td>0.084064</td>\n      <td>0.0</td>\n      <td>0.0</td>\n      <td>0.042644</td>\n    </tr>\n    <tr>\n      <th>3</th>\n      <td>ACH-001538</td>\n      <td>5.085340</td>\n      <td>0.000000</td>\n      <td>7.154211</td>\n      <td>2.545968</td>\n      <td>3.084064</td>\n      <td>0.000000</td>\n      <td>5.868390</td>\n      <td>6.165309</td>\n      <td>4.489928</td>\n      <td>...</td>\n      <td>0.214125</td>\n      <td>0.632268</td>\n      <td>0.298658</td>\n      <td>1.641546</td>\n      <td>0.443607</td>\n      <td>0.0</td>\n      <td>0.028569</td>\n      <td>0.0</td>\n      <td>0.0</td>\n      <td>0.000000</td>\n    </tr>\n    <tr>\n      <th>4</th>\n      <td>ACH-000242</td>\n      <td>6.729417</td>\n      <td>0.000000</td>\n      <td>6.537917</td>\n      <td>2.456806</td>\n      <td>3.867896</td>\n      <td>0.799087</td>\n      <td>7.208478</td>\n      <td>5.570159</td>\n      <td>7.127117</td>\n      <td>...</td>\n      <td>1.117695</td>\n      <td>2.358959</td>\n      <td>0.084064</td>\n      <td>1.910733</td>\n      <td>0.000000</td>\n      <td>0.0</td>\n      <td>0.464668</td>\n      <td>0.0</td>\n      <td>0.0</td>\n      <td>0.000000</td>\n    </tr>\n  </tbody>\n</table>\n<p>5 rows × 19194 columns</p>\n</div>"
     },
     "execution_count": 11,
     "metadata": {},
     "output_type": "execute_result"
    }
   ],
   "source": [
    "# Preview expression data\n",
    "expression_df.head()"
   ],
   "metadata": {
    "collapsed": false,
    "ExecuteTime": {
     "end_time": "2023-12-29T15:20:02.934649400Z",
     "start_time": "2023-12-29T15:20:02.887433700Z"
    }
   },
   "id": "eb79b7b4929bd055"
  },
  {
   "cell_type": "code",
   "execution_count": 12,
   "outputs": [
    {
     "data": {
      "text/plain": "  Chrom       Pos Ref Alt     AF  RefCount  AltCount   GT          PS  \\\n0  chr1   1242864  GC  CT  0.310        19         8  0/1         NaN   \n1  chr1  10647969   A   G  0.400        29        19  0|1  10647969.0   \n2  chr1  10648097   T   G  0.349        21        10  0/1         NaN   \n3  chr1  13198424   G   A  0.833         0         4  0/1         NaN   \n4  chr1  13225068   A   G  0.396        34        24  0/1         NaN   \n\n  VariantType  ... RevelScore Funseq2Score PharmgkbID DidaID DidaName  \\\n0         DNP  ...        NaN          NaN        NaN    NaN      NaN   \n1         SNP  ...      0.234          3.0        NaN    NaN      NaN   \n2         SNP  ...        NaN          0.0        NaN    NaN      NaN   \n3         SNP  ...      0.002          NaN        NaN    NaN      NaN   \n4         SNP  ...        NaN          0.0        NaN    NaN      NaN   \n\n  GwasDisease GwasPmID  GTexGene     ModelID EntrezGeneID  \n0         NaN      NaN       NaN  ACH-000839     388581.0  \n1         NaN      NaN       NaN  ACH-000839      54897.0  \n2         NaN      NaN       NaN  ACH-000839      54897.0  \n3         NaN      NaN       NaN  ACH-000839     400736.0  \n4         NaN      NaN       NaN  ACH-000839     391003.0  \n\n[5 rows x 56 columns]",
      "text/html": "<div>\n<style scoped>\n    .dataframe tbody tr th:only-of-type {\n        vertical-align: middle;\n    }\n\n    .dataframe tbody tr th {\n        vertical-align: top;\n    }\n\n    .dataframe thead th {\n        text-align: right;\n    }\n</style>\n<table border=\"1\" class=\"dataframe\">\n  <thead>\n    <tr style=\"text-align: right;\">\n      <th></th>\n      <th>Chrom</th>\n      <th>Pos</th>\n      <th>Ref</th>\n      <th>Alt</th>\n      <th>AF</th>\n      <th>RefCount</th>\n      <th>AltCount</th>\n      <th>GT</th>\n      <th>PS</th>\n      <th>VariantType</th>\n      <th>...</th>\n      <th>RevelScore</th>\n      <th>Funseq2Score</th>\n      <th>PharmgkbID</th>\n      <th>DidaID</th>\n      <th>DidaName</th>\n      <th>GwasDisease</th>\n      <th>GwasPmID</th>\n      <th>GTexGene</th>\n      <th>ModelID</th>\n      <th>EntrezGeneID</th>\n    </tr>\n  </thead>\n  <tbody>\n    <tr>\n      <th>0</th>\n      <td>chr1</td>\n      <td>1242864</td>\n      <td>GC</td>\n      <td>CT</td>\n      <td>0.310</td>\n      <td>19</td>\n      <td>8</td>\n      <td>0/1</td>\n      <td>NaN</td>\n      <td>DNP</td>\n      <td>...</td>\n      <td>NaN</td>\n      <td>NaN</td>\n      <td>NaN</td>\n      <td>NaN</td>\n      <td>NaN</td>\n      <td>NaN</td>\n      <td>NaN</td>\n      <td>NaN</td>\n      <td>ACH-000839</td>\n      <td>388581.0</td>\n    </tr>\n    <tr>\n      <th>1</th>\n      <td>chr1</td>\n      <td>10647969</td>\n      <td>A</td>\n      <td>G</td>\n      <td>0.400</td>\n      <td>29</td>\n      <td>19</td>\n      <td>0|1</td>\n      <td>10647969.0</td>\n      <td>SNP</td>\n      <td>...</td>\n      <td>0.234</td>\n      <td>3.0</td>\n      <td>NaN</td>\n      <td>NaN</td>\n      <td>NaN</td>\n      <td>NaN</td>\n      <td>NaN</td>\n      <td>NaN</td>\n      <td>ACH-000839</td>\n      <td>54897.0</td>\n    </tr>\n    <tr>\n      <th>2</th>\n      <td>chr1</td>\n      <td>10648097</td>\n      <td>T</td>\n      <td>G</td>\n      <td>0.349</td>\n      <td>21</td>\n      <td>10</td>\n      <td>0/1</td>\n      <td>NaN</td>\n      <td>SNP</td>\n      <td>...</td>\n      <td>NaN</td>\n      <td>0.0</td>\n      <td>NaN</td>\n      <td>NaN</td>\n      <td>NaN</td>\n      <td>NaN</td>\n      <td>NaN</td>\n      <td>NaN</td>\n      <td>ACH-000839</td>\n      <td>54897.0</td>\n    </tr>\n    <tr>\n      <th>3</th>\n      <td>chr1</td>\n      <td>13198424</td>\n      <td>G</td>\n      <td>A</td>\n      <td>0.833</td>\n      <td>0</td>\n      <td>4</td>\n      <td>0/1</td>\n      <td>NaN</td>\n      <td>SNP</td>\n      <td>...</td>\n      <td>0.002</td>\n      <td>NaN</td>\n      <td>NaN</td>\n      <td>NaN</td>\n      <td>NaN</td>\n      <td>NaN</td>\n      <td>NaN</td>\n      <td>NaN</td>\n      <td>ACH-000839</td>\n      <td>400736.0</td>\n    </tr>\n    <tr>\n      <th>4</th>\n      <td>chr1</td>\n      <td>13225068</td>\n      <td>A</td>\n      <td>G</td>\n      <td>0.396</td>\n      <td>34</td>\n      <td>24</td>\n      <td>0/1</td>\n      <td>NaN</td>\n      <td>SNP</td>\n      <td>...</td>\n      <td>NaN</td>\n      <td>0.0</td>\n      <td>NaN</td>\n      <td>NaN</td>\n      <td>NaN</td>\n      <td>NaN</td>\n      <td>NaN</td>\n      <td>NaN</td>\n      <td>ACH-000839</td>\n      <td>391003.0</td>\n    </tr>\n  </tbody>\n</table>\n<p>5 rows × 56 columns</p>\n</div>"
     },
     "execution_count": 12,
     "metadata": {},
     "output_type": "execute_result"
    }
   ],
   "source": [
    "# Preview mutation data\n",
    "mutation_df.head()"
   ],
   "metadata": {
    "collapsed": false,
    "ExecuteTime": {
     "end_time": "2023-12-29T15:20:02.997232700Z",
     "start_time": "2023-12-29T15:20:02.918629Z"
    }
   },
   "id": "c396c661c71a4de2"
  },
  {
   "cell_type": "code",
   "execution_count": 13,
   "outputs": [
    {
     "data": {
      "text/plain": "Index(['Chrom', 'Pos', 'Ref', 'Alt', 'AF', 'RefCount', 'AltCount', 'GT', 'PS',\n       'VariantType', 'VariantInfo', 'DNAChange', 'ProteinChange',\n       'HugoSymbol', 'HgncName', 'HgncFamily', 'Transcript', 'TranscriptExon',\n       'TranscriptStrand', 'UniprotID', 'Str', 'DbsnpID', 'DbsnpFilter',\n       'Issues', 'GcContent', 'LineageAssociation', 'CancerMolecularGenetics',\n       'CCLEDeleterious', 'StructuralRelation', 'CosmicHotspot',\n       'CosmicOverlappingMutations', 'AssociatedWith', 'LoF', 'Driver',\n       'LikelyDriver', 'TranscriptLikelyLoF', 'CivicID', 'CivicDescription',\n       'CivicScore', 'Popaf', 'LikelyGoF', 'LikelyLoF', 'HessDriver',\n       'HessSignature', 'CscapeScore', 'DannScore', 'RevelScore',\n       'Funseq2Score', 'PharmgkbID', 'DidaID', 'DidaName', 'GwasDisease',\n       'GwasPmID', 'GTexGene', 'ModelID', 'EntrezGeneID'],\n      dtype='object')"
     },
     "execution_count": 13,
     "metadata": {},
     "output_type": "execute_result"
    }
   ],
   "source": [
    "mutation_df.columns"
   ],
   "metadata": {
    "collapsed": false,
    "ExecuteTime": {
     "end_time": "2023-12-29T15:20:02.997232700Z",
     "start_time": "2023-12-29T15:20:02.934649400Z"
    }
   },
   "id": "95c79b5ddc210e55"
  },
  {
   "cell_type": "code",
   "execution_count": 14,
   "outputs": [
    {
     "data": {
      "text/plain": "+    711270\n-    696829\nName: TranscriptStrand, dtype: int64"
     },
     "execution_count": 14,
     "metadata": {},
     "output_type": "execute_result"
    }
   ],
   "source": [
    "mutation_df['TranscriptStrand'].value_counts()"
   ],
   "metadata": {
    "collapsed": false,
    "ExecuteTime": {
     "end_time": "2023-12-29T15:20:03.091330300Z",
     "start_time": "2023-12-29T15:20:02.950287900Z"
    }
   },
   "id": "2b43317ebcb9e090"
  },
  {
   "cell_type": "code",
   "execution_count": 15,
   "outputs": [
    {
     "data": {
      "text/plain": "array(['MISSENSE', 'SILENT', 'IN_FRAME_INS', 'SPLICE_SITE', 'NONSENSE',\n       'FRAME_SHIFT_DEL', 'NONSTOP', 'START_CODON_SNP', 'IN_FRAME_DEL',\n       'FRAME_SHIFT_INS', 'START_CODON_INS', 'FIVE_PRIME_FLANK', 'INTRON',\n       'THREE_PRIME_UTR'], dtype=object)"
     },
     "execution_count": 15,
     "metadata": {},
     "output_type": "execute_result"
    }
   ],
   "source": [
    "# Take a look at the mutation classes\n",
    "mutation_df['VariantInfo'].unique()"
   ],
   "metadata": {
    "collapsed": false,
    "ExecuteTime": {
     "end_time": "2023-12-29T15:20:03.154917500Z",
     "start_time": "2023-12-29T15:20:03.012781300Z"
    }
   },
   "id": "aad616906f5096ce"
  },
  {
   "cell_type": "code",
   "execution_count": 16,
   "outputs": [
    {
     "data": {
      "text/plain": "      Chrom      Pos Ref Alt     AF  RefCount  AltCount   GT  PS VariantType  \\\n29669  chr1   951180   G   A  0.390        26        15  0/1 NaN         SNP   \n29670  chr1   963249   G   A  0.303        22         9  0/1 NaN         SNP   \n29671  chr1  1046671   C   T  0.250        30         8  0/1 NaN         SNP   \n29672  chr1  2358684   C   T  0.565        11        14  0/1 NaN         SNP   \n29673  chr1  2412394   C   T  0.391        14         8  0/1 NaN         SNP   \n\n       ... RevelScore Funseq2Score PharmgkbID DidaID DidaName GwasDisease  \\\n29669  ...        NaN          0.0        NaN    NaN      NaN         NaN   \n29670  ...      0.976          3.0        NaN    NaN      NaN         NaN   \n29671  ...        NaN          0.0        NaN    NaN      NaN         NaN   \n29672  ...        NaN          0.0        NaN    NaN      NaN         NaN   \n29673  ...      0.416          3.0        NaN    NaN      NaN         NaN   \n\n      GwasPmID  GTexGene     ModelID EntrezGeneID  \n29669      NaN       NaN  ACH-000856      26155.0  \n29670      NaN       NaN  ACH-000856     339451.0  \n29671      NaN       NaN  ACH-000856     375790.0  \n29672      NaN       NaN  ACH-000856      79906.0  \n29673      NaN       NaN  ACH-000856       5192.0  \n\n[5 rows x 56 columns]",
      "text/html": "<div>\n<style scoped>\n    .dataframe tbody tr th:only-of-type {\n        vertical-align: middle;\n    }\n\n    .dataframe tbody tr th {\n        vertical-align: top;\n    }\n\n    .dataframe thead th {\n        text-align: right;\n    }\n</style>\n<table border=\"1\" class=\"dataframe\">\n  <thead>\n    <tr style=\"text-align: right;\">\n      <th></th>\n      <th>Chrom</th>\n      <th>Pos</th>\n      <th>Ref</th>\n      <th>Alt</th>\n      <th>AF</th>\n      <th>RefCount</th>\n      <th>AltCount</th>\n      <th>GT</th>\n      <th>PS</th>\n      <th>VariantType</th>\n      <th>...</th>\n      <th>RevelScore</th>\n      <th>Funseq2Score</th>\n      <th>PharmgkbID</th>\n      <th>DidaID</th>\n      <th>DidaName</th>\n      <th>GwasDisease</th>\n      <th>GwasPmID</th>\n      <th>GTexGene</th>\n      <th>ModelID</th>\n      <th>EntrezGeneID</th>\n    </tr>\n  </thead>\n  <tbody>\n    <tr>\n      <th>29669</th>\n      <td>chr1</td>\n      <td>951180</td>\n      <td>G</td>\n      <td>A</td>\n      <td>0.390</td>\n      <td>26</td>\n      <td>15</td>\n      <td>0/1</td>\n      <td>NaN</td>\n      <td>SNP</td>\n      <td>...</td>\n      <td>NaN</td>\n      <td>0.0</td>\n      <td>NaN</td>\n      <td>NaN</td>\n      <td>NaN</td>\n      <td>NaN</td>\n      <td>NaN</td>\n      <td>NaN</td>\n      <td>ACH-000856</td>\n      <td>26155.0</td>\n    </tr>\n    <tr>\n      <th>29670</th>\n      <td>chr1</td>\n      <td>963249</td>\n      <td>G</td>\n      <td>A</td>\n      <td>0.303</td>\n      <td>22</td>\n      <td>9</td>\n      <td>0/1</td>\n      <td>NaN</td>\n      <td>SNP</td>\n      <td>...</td>\n      <td>0.976</td>\n      <td>3.0</td>\n      <td>NaN</td>\n      <td>NaN</td>\n      <td>NaN</td>\n      <td>NaN</td>\n      <td>NaN</td>\n      <td>NaN</td>\n      <td>ACH-000856</td>\n      <td>339451.0</td>\n    </tr>\n    <tr>\n      <th>29671</th>\n      <td>chr1</td>\n      <td>1046671</td>\n      <td>C</td>\n      <td>T</td>\n      <td>0.250</td>\n      <td>30</td>\n      <td>8</td>\n      <td>0/1</td>\n      <td>NaN</td>\n      <td>SNP</td>\n      <td>...</td>\n      <td>NaN</td>\n      <td>0.0</td>\n      <td>NaN</td>\n      <td>NaN</td>\n      <td>NaN</td>\n      <td>NaN</td>\n      <td>NaN</td>\n      <td>NaN</td>\n      <td>ACH-000856</td>\n      <td>375790.0</td>\n    </tr>\n    <tr>\n      <th>29672</th>\n      <td>chr1</td>\n      <td>2358684</td>\n      <td>C</td>\n      <td>T</td>\n      <td>0.565</td>\n      <td>11</td>\n      <td>14</td>\n      <td>0/1</td>\n      <td>NaN</td>\n      <td>SNP</td>\n      <td>...</td>\n      <td>NaN</td>\n      <td>0.0</td>\n      <td>NaN</td>\n      <td>NaN</td>\n      <td>NaN</td>\n      <td>NaN</td>\n      <td>NaN</td>\n      <td>NaN</td>\n      <td>ACH-000856</td>\n      <td>79906.0</td>\n    </tr>\n    <tr>\n      <th>29673</th>\n      <td>chr1</td>\n      <td>2412394</td>\n      <td>C</td>\n      <td>T</td>\n      <td>0.391</td>\n      <td>14</td>\n      <td>8</td>\n      <td>0/1</td>\n      <td>NaN</td>\n      <td>SNP</td>\n      <td>...</td>\n      <td>0.416</td>\n      <td>3.0</td>\n      <td>NaN</td>\n      <td>NaN</td>\n      <td>NaN</td>\n      <td>NaN</td>\n      <td>NaN</td>\n      <td>NaN</td>\n      <td>ACH-000856</td>\n      <td>5192.0</td>\n    </tr>\n  </tbody>\n</table>\n<p>5 rows × 56 columns</p>\n</div>"
     },
     "execution_count": 16,
     "metadata": {},
     "output_type": "execute_result"
    }
   ],
   "source": [
    "# Select all mutations for our cell lines of interest only: where 'ModelID' is in cell_lines['ModelID']\n",
    "#mutation_df = mutation_df.loc[mutation_df['Tumor_Sample_Barcode'].map(lambda x: x in cell_lines)]\n",
    "\n",
    "mutation_df = mutation_df[mutation_df['ModelID'].isin(cell_lines['ModelID'])]\n",
    "\n",
    "mutation_df.head()"
   ],
   "metadata": {
    "collapsed": false,
    "ExecuteTime": {
     "end_time": "2023-12-29T15:20:03.232485600Z",
     "start_time": "2023-12-29T15:20:03.122585400Z"
    }
   },
   "id": "6e0c338638de6dc4"
  },
  {
   "cell_type": "code",
   "execution_count": 17,
   "outputs": [
    {
     "data": {
      "text/plain": "array(['ACH-000856', 'ACH-000601', 'ACH-000097', 'ACH-000725',\n       'ACH-000621', 'ACH-000223', 'ACH-000248', 'ACH-000910',\n       'ACH-000159', 'ACH-000792', 'ACH-000060', 'ACH-000859',\n       'ACH-000330', 'ACH-000352', 'ACH-000768', 'ACH-000374',\n       'ACH-000178', 'ACH-000573', 'ACH-000624', 'ACH-000907',\n       'ACH-000495', 'ACH-000127', 'ACH-000849', 'ACH-000262',\n       'ACH-000876', 'ACH-000684', 'ACH-000265', 'ACH-000699',\n       'ACH-000459', 'ACH-000222', 'ACH-000138', 'ACH-000246',\n       'ACH-000028', 'ACH-000118', 'ACH-000320', 'ACH-000281',\n       'ACH-000148', 'ACH-000234'], dtype=object)"
     },
     "execution_count": 17,
     "metadata": {},
     "output_type": "execute_result"
    }
   ],
   "source": [
    "# Check we've got the right number of ModelID values (should be 39)\n",
    "mutation_df['ModelID'].unique()"
   ],
   "metadata": {
    "collapsed": false,
    "ExecuteTime": {
     "end_time": "2023-12-29T15:20:03.232485600Z",
     "start_time": "2023-12-29T15:20:03.154917500Z"
    }
   },
   "id": "b8404383cb8f2031"
  },
  {
   "cell_type": "code",
   "execution_count": 18,
   "outputs": [
    {
     "data": {
      "text/plain": "array(['SILENT', 'MISSENSE', 'FRAME_SHIFT_DEL', 'FRAME_SHIFT_INS',\n       'SPLICE_SITE', 'NONSENSE', 'IN_FRAME_DEL', 'NONSTOP',\n       'IN_FRAME_INS', 'START_CODON_SNP', 'START_CODON_INS'], dtype=object)"
     },
     "execution_count": 18,
     "metadata": {},
     "output_type": "execute_result"
    }
   ],
   "source": [
    "# Take a look at the mutation classes\n",
    "mutation_df['VariantInfo'].unique()"
   ],
   "metadata": {
    "collapsed": false,
    "ExecuteTime": {
     "end_time": "2023-12-29T15:20:03.244510100Z",
     "start_time": "2023-12-29T15:20:03.169927600Z"
    }
   },
   "id": "221d1a404cd14839"
  },
  {
   "cell_type": "code",
   "execution_count": 74,
   "outputs": [
    {
     "data": {
      "text/plain": "array(['ENST00000327044.7', 'ENST00000338591.8', 'ENST00000379370.7', ...,\n       'ENST00000216146.9', 'ENST00000412172.4', 'ENST00000375722.5'],\n      dtype=object)"
     },
     "execution_count": 74,
     "metadata": {},
     "output_type": "execute_result"
    }
   ],
   "source": [
    "# How many unique transcripts are there?\n",
    "mutation_df_transcripts = mutation_df['Transcript'].unique()\n",
    "mutation_df_transcripts "
   ],
   "metadata": {
    "collapsed": false,
    "ExecuteTime": {
     "end_time": "2023-12-29T17:32:09.275723200Z",
     "start_time": "2023-12-29T17:32:09.228822700Z"
    }
   },
   "id": "b6d5094f0deb7006"
  },
  {
   "cell_type": "code",
   "execution_count": 19,
   "outputs": [
    {
     "data": {
      "text/plain": "      Chrom       Pos Ref Alt     AF  RefCount  AltCount   GT  PS VariantType  \\\n29678  chr1   6197724  CT   C  0.534        13        15  0/1 NaN         DEL   \n29685  chr1  12244554   A  AG  0.556        16        20  0/1 NaN         INS   \n29699  chr1  20633885  GA   G  0.462        13        11  0/1 NaN         DEL   \n29704  chr1  26773456   C   T  0.389        21        13  0/1 NaN         SNP   \n29705  chr1  26779439  TG   T  0.590        15        23  0/1 NaN         DEL   \n\n       ... RevelScore Funseq2Score PharmgkbID DidaID DidaName GwasDisease  \\\n29678  ...        NaN          NaN        NaN    NaN      NaN         NaN   \n29685  ...        NaN          NaN        NaN    NaN      NaN         NaN   \n29699  ...        NaN          NaN        NaN    NaN      NaN         NaN   \n29704  ...        NaN          5.0        NaN    NaN      NaN         NaN   \n29705  ...        NaN          NaN        NaN    NaN      NaN         NaN   \n\n      GwasPmID  GTexGene     ModelID EntrezGeneID  \n29678      NaN       NaN  ACH-000856       6146.0  \n29685      NaN       NaN  ACH-000856      55187.0  \n29699      NaN       NaN  ACH-000856      65018.0  \n29704      NaN       NaN  ACH-000856       8289.0  \n29705      NaN       NaN  ACH-000856       8289.0  \n\n[5 rows x 56 columns]",
      "text/html": "<div>\n<style scoped>\n    .dataframe tbody tr th:only-of-type {\n        vertical-align: middle;\n    }\n\n    .dataframe tbody tr th {\n        vertical-align: top;\n    }\n\n    .dataframe thead th {\n        text-align: right;\n    }\n</style>\n<table border=\"1\" class=\"dataframe\">\n  <thead>\n    <tr style=\"text-align: right;\">\n      <th></th>\n      <th>Chrom</th>\n      <th>Pos</th>\n      <th>Ref</th>\n      <th>Alt</th>\n      <th>AF</th>\n      <th>RefCount</th>\n      <th>AltCount</th>\n      <th>GT</th>\n      <th>PS</th>\n      <th>VariantType</th>\n      <th>...</th>\n      <th>RevelScore</th>\n      <th>Funseq2Score</th>\n      <th>PharmgkbID</th>\n      <th>DidaID</th>\n      <th>DidaName</th>\n      <th>GwasDisease</th>\n      <th>GwasPmID</th>\n      <th>GTexGene</th>\n      <th>ModelID</th>\n      <th>EntrezGeneID</th>\n    </tr>\n  </thead>\n  <tbody>\n    <tr>\n      <th>29678</th>\n      <td>chr1</td>\n      <td>6197724</td>\n      <td>CT</td>\n      <td>C</td>\n      <td>0.534</td>\n      <td>13</td>\n      <td>15</td>\n      <td>0/1</td>\n      <td>NaN</td>\n      <td>DEL</td>\n      <td>...</td>\n      <td>NaN</td>\n      <td>NaN</td>\n      <td>NaN</td>\n      <td>NaN</td>\n      <td>NaN</td>\n      <td>NaN</td>\n      <td>NaN</td>\n      <td>NaN</td>\n      <td>ACH-000856</td>\n      <td>6146.0</td>\n    </tr>\n    <tr>\n      <th>29685</th>\n      <td>chr1</td>\n      <td>12244554</td>\n      <td>A</td>\n      <td>AG</td>\n      <td>0.556</td>\n      <td>16</td>\n      <td>20</td>\n      <td>0/1</td>\n      <td>NaN</td>\n      <td>INS</td>\n      <td>...</td>\n      <td>NaN</td>\n      <td>NaN</td>\n      <td>NaN</td>\n      <td>NaN</td>\n      <td>NaN</td>\n      <td>NaN</td>\n      <td>NaN</td>\n      <td>NaN</td>\n      <td>ACH-000856</td>\n      <td>55187.0</td>\n    </tr>\n    <tr>\n      <th>29699</th>\n      <td>chr1</td>\n      <td>20633885</td>\n      <td>GA</td>\n      <td>G</td>\n      <td>0.462</td>\n      <td>13</td>\n      <td>11</td>\n      <td>0/1</td>\n      <td>NaN</td>\n      <td>DEL</td>\n      <td>...</td>\n      <td>NaN</td>\n      <td>NaN</td>\n      <td>NaN</td>\n      <td>NaN</td>\n      <td>NaN</td>\n      <td>NaN</td>\n      <td>NaN</td>\n      <td>NaN</td>\n      <td>ACH-000856</td>\n      <td>65018.0</td>\n    </tr>\n    <tr>\n      <th>29704</th>\n      <td>chr1</td>\n      <td>26773456</td>\n      <td>C</td>\n      <td>T</td>\n      <td>0.389</td>\n      <td>21</td>\n      <td>13</td>\n      <td>0/1</td>\n      <td>NaN</td>\n      <td>SNP</td>\n      <td>...</td>\n      <td>NaN</td>\n      <td>5.0</td>\n      <td>NaN</td>\n      <td>NaN</td>\n      <td>NaN</td>\n      <td>NaN</td>\n      <td>NaN</td>\n      <td>NaN</td>\n      <td>ACH-000856</td>\n      <td>8289.0</td>\n    </tr>\n    <tr>\n      <th>29705</th>\n      <td>chr1</td>\n      <td>26779439</td>\n      <td>TG</td>\n      <td>T</td>\n      <td>0.590</td>\n      <td>15</td>\n      <td>23</td>\n      <td>0/1</td>\n      <td>NaN</td>\n      <td>DEL</td>\n      <td>...</td>\n      <td>NaN</td>\n      <td>NaN</td>\n      <td>NaN</td>\n      <td>NaN</td>\n      <td>NaN</td>\n      <td>NaN</td>\n      <td>NaN</td>\n      <td>NaN</td>\n      <td>ACH-000856</td>\n      <td>8289.0</td>\n    </tr>\n  </tbody>\n</table>\n<p>5 rows × 56 columns</p>\n</div>"
     },
     "execution_count": 19,
     "metadata": {},
     "output_type": "execute_result"
    }
   ],
   "source": [
    "# First we separate out the badly pathogenic mutations - these are assumed to result in loss of function\n",
    "pathogenic = ('FRAME_SHIFT_DEL', 'FRAME_SHIFT_INS', 'NONSENSE', 'NONSTOP', 'START_CODON_INS')\n",
    "\n",
    "##### NOTE ######\n",
    "# These are the variations that were considered pathogenic on the original version\n",
    "# pathogenic = ['Frame_Shift_Del', 'Frame_Shift_Ins','Nonsense_Mutation','Nonstop_Mutation','Stop_Codon_Del']\n",
    "\n",
    "# I will keep this the same for now (note no 'Stop_Codon_Del' class in the new data - presumably because it's the same a NONSTOP) but note:\n",
    "\n",
    "# IN_FRAME_DEL - this is likely damaging but could be LOF or GOF -  select which depending on whether its onc, tsg or kinase?\n",
    "# IN_FRAME_INS - as above\n",
    "# START_CODON_INS - this is likely to prevent the translation of the protein, so LOF?\n",
    "# START_CODON_SNP - this may prevent translation if the SNP switched the codon from methianine to another amino acid\n",
    "\n",
    "# Filter mut_df to only include rows where the variant classification is in the pathogenic list defined above\n",
    "pathogenic_mutations = mutation_df.loc[mutation_df['VariantInfo'].isin(pathogenic)]\n",
    "\n",
    "pathogenic_mutations.head()"
   ],
   "metadata": {
    "collapsed": false,
    "ExecuteTime": {
     "end_time": "2023-12-29T15:20:03.270148500Z",
     "start_time": "2023-12-29T15:20:03.185561400Z"
    }
   },
   "id": "781a33d5e9977b20"
  },
  {
   "cell_type": "code",
   "execution_count": 20,
   "outputs": [
    {
     "data": {
      "text/plain": "False    1345\nName: LikelyGoF, dtype: int64"
     },
     "execution_count": 20,
     "metadata": {},
     "output_type": "execute_result"
    }
   ],
   "source": [
    "# See if DepMap classification agrees that these are all likely to be LOF (it does)\n",
    "pathogenic_mutations['LikelyGoF'].value_counts()"
   ],
   "metadata": {
    "collapsed": false,
    "ExecuteTime": {
     "end_time": "2023-12-29T15:20:03.270148500Z",
     "start_time": "2023-12-29T15:20:03.216810700Z"
    }
   },
   "id": "827b2012ed5fc5c6"
  },
  {
   "cell_type": "code",
   "execution_count": 21,
   "outputs": [
    {
     "data": {
      "text/plain": "True    1345\nName: LikelyLoF, dtype: int64"
     },
     "execution_count": 21,
     "metadata": {},
     "output_type": "execute_result"
    }
   ],
   "source": [
    "pathogenic_mutations['LikelyLoF'].value_counts()"
   ],
   "metadata": {
    "collapsed": false,
    "ExecuteTime": {
     "end_time": "2023-12-29T15:20:03.285770900Z",
     "start_time": "2023-12-29T15:20:03.229977200Z"
    }
   },
   "id": "a2382c13fc73ae6e"
  },
  {
   "cell_type": "code",
   "execution_count": 22,
   "outputs": [
    {
     "data": {
      "text/plain": "       ModelID                                         HugoSymbol\n0   ACH-000028  ADGRL2, SMCP, FAM228B, NECTIN3, TMEM175, CLCN3...\n1   ACH-000060  PALMD, TGFBR2, PBRM1, ERVW-1, ERVW-1, MUC12, J...\n2   ACH-000097  ATAD3C, PLCH2, GBP1, GTDC1, VIL1, VIL1, SLC4A7...\n3   ACH-000118  CCDC27, CROCC, RSRP1, RHCE, COL8A2, TNS1, PER2...\n4   ACH-000127  GPATCH3, ZMYM4, P3H1, KANK4, UBAP2L, OR10T2, G...\n5   ACH-000138        PHGDH, STRIP2, TNS2, NCOR2, TSNAXIP1, NLGN3\n6   ACH-000148  EPHA10, ITPRID2, PARD3B, POLQ, MEF2C, MYL10, H...\n7   ACH-000159  SDHB, TRIM33, FAM228B, TRIM43, VHL, FLT4, MUC1...\n8   ACH-000178  ARID1A, FANCG, GRID1, ANGPTL5, SIPA1L1, FMN1, ...\n9   ACH-000222  CSMD2, COL8A2, POGK, PRRC2C, RD3, ANKRD36C, MY...\n10  ACH-000223  HHIPL2, TRPC1, CPA3, MAPK13, SAMD9, SAMD9, MUC...\n11  ACH-000234  RERE, RERE, SELENOF, SYCP1, PDE4DIP, PRKD3, VH...\n12  ACH-000246  DDX20, FLG, AXDND1, C2orf42, VHL, BAP1, RAB33B...\n13  ACH-000248  MTMR11, TCHH, HMCN1, IGFN1, PPP1R12B, USP34, T...\n14  ACH-000262  IGFN1, OBSL1, COL4A4, VHL, KIAA1109, RASA1, BM...\n15  ACH-000265  SLC35E2A, CRYBG2, FAM189B, FMO4, OBSCN, HTR2B,...\n16  ACH-000281  LRIF1, AC242842.3, ENSA, ZDHHC11, NSG2, CFTR, ...\n17  ACH-000320  BOK, CRELD1, GBE1, NIPAL1, NIPBL, BICRAL, ANKR...\n18  ACH-000330  IL22RA1, CD164L2, IPP, TOR1AIP2, PRG4, C3orf20...\n19  ACH-000352  PATJ, NOTCH2, VANGL2, FMO2, DDX59, PARP1, ZNF6...\n20  ACH-000374  TNFRSF25, VAV3, GGCX, SCN3A, PCGF3, SLC35F1, P...\n21  ACH-000459  CROCC, FLG, H3-4, EIF2AK3, EIF2AK3, VHL, DNAH1...\n22  ACH-000495  SEC22B, SLC27A3, TRIM17, NID1, VHL, DNAH1, TMP...\n23  ACH-000573  RCC2, NT5C1A, ASXL2, ASXL2, NIPAL1, IGFBP7, UN...\n24  ACH-000601  ARID1A, SV2A, NR1I3, HLX, SH3YL1, NRXN1, VWA3B...\n25  ACH-000621  PRAMEF11, COL16A1, FAM228B, TMCC1, TPD52L1, ER...\n26  ACH-000624  ZC3H6, AOX1, FOXD1, VCAN, CCZ1B, EXT1, MTBP, A...\n27  ACH-000684  RPL22, SRSF10, UTP25, SRD5A2, USP40, XYLB, PBR...\n28  ACH-000699  VANGL1, TRAF3IP3, CDC42BPA, GNPAT, ITGA9, DHX3...\n29  ACH-000725  MAST2, PSMB4, UBAP2L, TDRD10, PRRC2C, LYST, SP...\n30  ACH-000768  CHD5, ZNF695, COL4A3, UQCRC1, EPHA3, GAK, GYPB...\n31  ACH-000792  SPATA21, NBPF12, SLC35A5, CCNG2, MUC12, MICU3,...\n32  ACH-000849  ATXN7L2, C1orf112, FAM228B, DUSP11, NBEAL1, TT...\n33  ACH-000856  RPL22, VPS13D, PINK1, ARID1A, ARID1A, UTP11, Z...\n34  ACH-000859  C1orf127, TRIM17, OR2G6, SPTBN1, EGR4, ECRG4, ...\n35  ACH-000876  IQCC, ERICH3, LRRC39, AKNAD1, SCN7A, PARD3B, E...\n36  ACH-000907  MORN1, RPL22, C1orf127, ELOA, ARID1A, RAB42, P...\n37  ACH-000910  PRAMEF4, RPS6KA1, ELOVL1, ETV3L, EEF1AKNMT, AS...",
      "text/html": "<div>\n<style scoped>\n    .dataframe tbody tr th:only-of-type {\n        vertical-align: middle;\n    }\n\n    .dataframe tbody tr th {\n        vertical-align: top;\n    }\n\n    .dataframe thead th {\n        text-align: right;\n    }\n</style>\n<table border=\"1\" class=\"dataframe\">\n  <thead>\n    <tr style=\"text-align: right;\">\n      <th></th>\n      <th>ModelID</th>\n      <th>HugoSymbol</th>\n    </tr>\n  </thead>\n  <tbody>\n    <tr>\n      <th>0</th>\n      <td>ACH-000028</td>\n      <td>ADGRL2, SMCP, FAM228B, NECTIN3, TMEM175, CLCN3...</td>\n    </tr>\n    <tr>\n      <th>1</th>\n      <td>ACH-000060</td>\n      <td>PALMD, TGFBR2, PBRM1, ERVW-1, ERVW-1, MUC12, J...</td>\n    </tr>\n    <tr>\n      <th>2</th>\n      <td>ACH-000097</td>\n      <td>ATAD3C, PLCH2, GBP1, GTDC1, VIL1, VIL1, SLC4A7...</td>\n    </tr>\n    <tr>\n      <th>3</th>\n      <td>ACH-000118</td>\n      <td>CCDC27, CROCC, RSRP1, RHCE, COL8A2, TNS1, PER2...</td>\n    </tr>\n    <tr>\n      <th>4</th>\n      <td>ACH-000127</td>\n      <td>GPATCH3, ZMYM4, P3H1, KANK4, UBAP2L, OR10T2, G...</td>\n    </tr>\n    <tr>\n      <th>5</th>\n      <td>ACH-000138</td>\n      <td>PHGDH, STRIP2, TNS2, NCOR2, TSNAXIP1, NLGN3</td>\n    </tr>\n    <tr>\n      <th>6</th>\n      <td>ACH-000148</td>\n      <td>EPHA10, ITPRID2, PARD3B, POLQ, MEF2C, MYL10, H...</td>\n    </tr>\n    <tr>\n      <th>7</th>\n      <td>ACH-000159</td>\n      <td>SDHB, TRIM33, FAM228B, TRIM43, VHL, FLT4, MUC1...</td>\n    </tr>\n    <tr>\n      <th>8</th>\n      <td>ACH-000178</td>\n      <td>ARID1A, FANCG, GRID1, ANGPTL5, SIPA1L1, FMN1, ...</td>\n    </tr>\n    <tr>\n      <th>9</th>\n      <td>ACH-000222</td>\n      <td>CSMD2, COL8A2, POGK, PRRC2C, RD3, ANKRD36C, MY...</td>\n    </tr>\n    <tr>\n      <th>10</th>\n      <td>ACH-000223</td>\n      <td>HHIPL2, TRPC1, CPA3, MAPK13, SAMD9, SAMD9, MUC...</td>\n    </tr>\n    <tr>\n      <th>11</th>\n      <td>ACH-000234</td>\n      <td>RERE, RERE, SELENOF, SYCP1, PDE4DIP, PRKD3, VH...</td>\n    </tr>\n    <tr>\n      <th>12</th>\n      <td>ACH-000246</td>\n      <td>DDX20, FLG, AXDND1, C2orf42, VHL, BAP1, RAB33B...</td>\n    </tr>\n    <tr>\n      <th>13</th>\n      <td>ACH-000248</td>\n      <td>MTMR11, TCHH, HMCN1, IGFN1, PPP1R12B, USP34, T...</td>\n    </tr>\n    <tr>\n      <th>14</th>\n      <td>ACH-000262</td>\n      <td>IGFN1, OBSL1, COL4A4, VHL, KIAA1109, RASA1, BM...</td>\n    </tr>\n    <tr>\n      <th>15</th>\n      <td>ACH-000265</td>\n      <td>SLC35E2A, CRYBG2, FAM189B, FMO4, OBSCN, HTR2B,...</td>\n    </tr>\n    <tr>\n      <th>16</th>\n      <td>ACH-000281</td>\n      <td>LRIF1, AC242842.3, ENSA, ZDHHC11, NSG2, CFTR, ...</td>\n    </tr>\n    <tr>\n      <th>17</th>\n      <td>ACH-000320</td>\n      <td>BOK, CRELD1, GBE1, NIPAL1, NIPBL, BICRAL, ANKR...</td>\n    </tr>\n    <tr>\n      <th>18</th>\n      <td>ACH-000330</td>\n      <td>IL22RA1, CD164L2, IPP, TOR1AIP2, PRG4, C3orf20...</td>\n    </tr>\n    <tr>\n      <th>19</th>\n      <td>ACH-000352</td>\n      <td>PATJ, NOTCH2, VANGL2, FMO2, DDX59, PARP1, ZNF6...</td>\n    </tr>\n    <tr>\n      <th>20</th>\n      <td>ACH-000374</td>\n      <td>TNFRSF25, VAV3, GGCX, SCN3A, PCGF3, SLC35F1, P...</td>\n    </tr>\n    <tr>\n      <th>21</th>\n      <td>ACH-000459</td>\n      <td>CROCC, FLG, H3-4, EIF2AK3, EIF2AK3, VHL, DNAH1...</td>\n    </tr>\n    <tr>\n      <th>22</th>\n      <td>ACH-000495</td>\n      <td>SEC22B, SLC27A3, TRIM17, NID1, VHL, DNAH1, TMP...</td>\n    </tr>\n    <tr>\n      <th>23</th>\n      <td>ACH-000573</td>\n      <td>RCC2, NT5C1A, ASXL2, ASXL2, NIPAL1, IGFBP7, UN...</td>\n    </tr>\n    <tr>\n      <th>24</th>\n      <td>ACH-000601</td>\n      <td>ARID1A, SV2A, NR1I3, HLX, SH3YL1, NRXN1, VWA3B...</td>\n    </tr>\n    <tr>\n      <th>25</th>\n      <td>ACH-000621</td>\n      <td>PRAMEF11, COL16A1, FAM228B, TMCC1, TPD52L1, ER...</td>\n    </tr>\n    <tr>\n      <th>26</th>\n      <td>ACH-000624</td>\n      <td>ZC3H6, AOX1, FOXD1, VCAN, CCZ1B, EXT1, MTBP, A...</td>\n    </tr>\n    <tr>\n      <th>27</th>\n      <td>ACH-000684</td>\n      <td>RPL22, SRSF10, UTP25, SRD5A2, USP40, XYLB, PBR...</td>\n    </tr>\n    <tr>\n      <th>28</th>\n      <td>ACH-000699</td>\n      <td>VANGL1, TRAF3IP3, CDC42BPA, GNPAT, ITGA9, DHX3...</td>\n    </tr>\n    <tr>\n      <th>29</th>\n      <td>ACH-000725</td>\n      <td>MAST2, PSMB4, UBAP2L, TDRD10, PRRC2C, LYST, SP...</td>\n    </tr>\n    <tr>\n      <th>30</th>\n      <td>ACH-000768</td>\n      <td>CHD5, ZNF695, COL4A3, UQCRC1, EPHA3, GAK, GYPB...</td>\n    </tr>\n    <tr>\n      <th>31</th>\n      <td>ACH-000792</td>\n      <td>SPATA21, NBPF12, SLC35A5, CCNG2, MUC12, MICU3,...</td>\n    </tr>\n    <tr>\n      <th>32</th>\n      <td>ACH-000849</td>\n      <td>ATXN7L2, C1orf112, FAM228B, DUSP11, NBEAL1, TT...</td>\n    </tr>\n    <tr>\n      <th>33</th>\n      <td>ACH-000856</td>\n      <td>RPL22, VPS13D, PINK1, ARID1A, ARID1A, UTP11, Z...</td>\n    </tr>\n    <tr>\n      <th>34</th>\n      <td>ACH-000859</td>\n      <td>C1orf127, TRIM17, OR2G6, SPTBN1, EGR4, ECRG4, ...</td>\n    </tr>\n    <tr>\n      <th>35</th>\n      <td>ACH-000876</td>\n      <td>IQCC, ERICH3, LRRC39, AKNAD1, SCN7A, PARD3B, E...</td>\n    </tr>\n    <tr>\n      <th>36</th>\n      <td>ACH-000907</td>\n      <td>MORN1, RPL22, C1orf127, ELOA, ARID1A, RAB42, P...</td>\n    </tr>\n    <tr>\n      <th>37</th>\n      <td>ACH-000910</td>\n      <td>PRAMEF4, RPS6KA1, ELOVL1, ETV3L, EEF1AKNMT, AS...</td>\n    </tr>\n  </tbody>\n</table>\n</div>"
     },
     "execution_count": 22,
     "metadata": {},
     "output_type": "execute_result"
    }
   ],
   "source": [
    "# Group by Tumour_Sample_Barcode (cell-line name) so we have 39 rows (one for each cell line), and a column containing comma seperated list\n",
    "# of all the highly pathogenic mutations in that sample\n",
    "path_muts_per_sample = pathogenic_mutations.groupby('ModelID')['HugoSymbol'].apply(lambda x: ', '.join(x)).reset_index()\n",
    "\n",
    "# Check there are no consecutive commas (denoting missing values)\n",
    "#path_muts_per_sample[path_muts_per_sample['HugoSymbol'].str.contains(\", , \")]\n",
    "path_muts_per_sample"
   ],
   "metadata": {
    "collapsed": false,
    "ExecuteTime": {
     "end_time": "2023-12-29T15:20:03.338432400Z",
     "start_time": "2023-12-29T15:20:03.244510100Z"
    }
   },
   "id": "530d91c75fe13b7"
  },
  {
   "cell_type": "code",
   "execution_count": 23,
   "outputs": [],
   "source": [
    "# Write to csv\n",
    "path_muts_per_sample.to_csv(data_path + '\\\\dependant\\\\pathogenic_mutations_per_sample.csv')"
   ],
   "metadata": {
    "collapsed": false,
    "ExecuteTime": {
     "end_time": "2023-12-29T15:20:03.354082400Z",
     "start_time": "2023-12-29T15:20:03.270148500Z"
    }
   },
   "id": "eb1ce3694fe56ebc"
  },
  {
   "cell_type": "code",
   "execution_count": 24,
   "outputs": [],
   "source": [
    "# Select all rows of mutation DF mutation_df where VariantInfo = 'MISSENSE' and VariantType = 'SNP' \n",
    "# May also want to include START_CODON_SNP here later (not sure if SNPs in start codon will be covered by the tools that assess mutations - introns only?)\n",
    "missense_snp = mutation_df[(mutation_df['VariantInfo']=='MISSENSE') & (mutation_df['VariantType']=='SNP')]"
   ],
   "metadata": {
    "collapsed": false,
    "ExecuteTime": {
     "end_time": "2023-12-29T15:20:03.369698200Z",
     "start_time": "2023-12-29T15:20:03.285770900Z"
    }
   },
   "id": "b90486832f3d5d04"
  },
  {
   "cell_type": "code",
   "execution_count": 81,
   "outputs": [
    {
     "data": {
      "text/plain": "        Chrom        Pos Ref Alt     AF  RefCount  AltCount   GT  PS  \\\n29670    chr1     963249   G   A  0.303        22         9  0/1 NaN   \n29673    chr1    2412394   C   T  0.391        14         8  0/1 NaN   \n29674    chr1    2512914   G   T  0.488        21        19  0/1 NaN   \n29675    chr1    2561696   C   T  0.320        24        12  0/1 NaN   \n29676    chr1    2789833   C   A  0.534         6         7  0/1 NaN   \n...       ...        ...  ..  ..    ...       ...       ...  ...  ..   \n1296633  chrX  153954753   T   C  0.857         0         6  0/1 NaN   \n1296636  chrM       8764   G   A  0.923         0        12  1|1 NaN   \n1296637  chrM       9055   G   A  0.952         0        20  1|1 NaN   \n1296640  chrM      11025   T   C  0.946         0        19  1|1 NaN   \n1296643  chrM      14798   T   C  0.964         0        28  1|1 NaN   \n\n        VariantType  ... RevelScore Funseq2Score PharmgkbID DidaID DidaName  \\\n29670           SNP  ...      0.976     3.000000        NaN    NaN      NaN   \n29673           SNP  ...      0.416     3.000000        NaN    NaN      NaN   \n29674           SNP  ...      0.436     1.000000        NaN    NaN      NaN   \n29675           SNP  ...      0.071     2.000000        NaN    NaN      NaN   \n29676           SNP  ...        NaN     0.166928        NaN    NaN      NaN   \n...             ...  ...        ...          ...        ...    ...      ...   \n1296633         SNP  ...      0.006     2.000000        NaN    NaN      NaN   \n1296636         SNP  ...        NaN          NaN        NaN    NaN      NaN   \n1296637         SNP  ...        NaN          NaN        NaN    NaN      NaN   \n1296640         SNP  ...        NaN          NaN        NaN    NaN      NaN   \n1296643         SNP  ...        NaN          NaN        NaN    NaN      NaN   \n\n        GwasDisease GwasPmID  GTexGene     ModelID EntrezGeneID  \n29670           NaN      NaN       NaN  ACH-000856     339451.0  \n29673           NaN      NaN       NaN  ACH-000856       5192.0  \n29674           NaN      NaN       NaN  ACH-000856      55229.0  \n29675           NaN      NaN       NaN  ACH-000856       8764.0  \n29676           NaN      NaN       NaN  ACH-000856  100287898.0  \n...             ...      ...       ...         ...          ...  \n1296633         NaN      NaN       NaN  ACH-000234       3054.0  \n1296636         NaN      NaN       NaN  ACH-000234       4508.0  \n1296637         NaN      NaN       NaN  ACH-000234       4508.0  \n1296640         NaN      NaN       NaN  ACH-000234       4538.0  \n1296643         NaN      NaN       NaN  ACH-000234       4519.0  \n\n[12299 rows x 56 columns]",
      "text/html": "<div>\n<style scoped>\n    .dataframe tbody tr th:only-of-type {\n        vertical-align: middle;\n    }\n\n    .dataframe tbody tr th {\n        vertical-align: top;\n    }\n\n    .dataframe thead th {\n        text-align: right;\n    }\n</style>\n<table border=\"1\" class=\"dataframe\">\n  <thead>\n    <tr style=\"text-align: right;\">\n      <th></th>\n      <th>Chrom</th>\n      <th>Pos</th>\n      <th>Ref</th>\n      <th>Alt</th>\n      <th>AF</th>\n      <th>RefCount</th>\n      <th>AltCount</th>\n      <th>GT</th>\n      <th>PS</th>\n      <th>VariantType</th>\n      <th>...</th>\n      <th>RevelScore</th>\n      <th>Funseq2Score</th>\n      <th>PharmgkbID</th>\n      <th>DidaID</th>\n      <th>DidaName</th>\n      <th>GwasDisease</th>\n      <th>GwasPmID</th>\n      <th>GTexGene</th>\n      <th>ModelID</th>\n      <th>EntrezGeneID</th>\n    </tr>\n  </thead>\n  <tbody>\n    <tr>\n      <th>29670</th>\n      <td>chr1</td>\n      <td>963249</td>\n      <td>G</td>\n      <td>A</td>\n      <td>0.303</td>\n      <td>22</td>\n      <td>9</td>\n      <td>0/1</td>\n      <td>NaN</td>\n      <td>SNP</td>\n      <td>...</td>\n      <td>0.976</td>\n      <td>3.000000</td>\n      <td>NaN</td>\n      <td>NaN</td>\n      <td>NaN</td>\n      <td>NaN</td>\n      <td>NaN</td>\n      <td>NaN</td>\n      <td>ACH-000856</td>\n      <td>339451.0</td>\n    </tr>\n    <tr>\n      <th>29673</th>\n      <td>chr1</td>\n      <td>2412394</td>\n      <td>C</td>\n      <td>T</td>\n      <td>0.391</td>\n      <td>14</td>\n      <td>8</td>\n      <td>0/1</td>\n      <td>NaN</td>\n      <td>SNP</td>\n      <td>...</td>\n      <td>0.416</td>\n      <td>3.000000</td>\n      <td>NaN</td>\n      <td>NaN</td>\n      <td>NaN</td>\n      <td>NaN</td>\n      <td>NaN</td>\n      <td>NaN</td>\n      <td>ACH-000856</td>\n      <td>5192.0</td>\n    </tr>\n    <tr>\n      <th>29674</th>\n      <td>chr1</td>\n      <td>2512914</td>\n      <td>G</td>\n      <td>T</td>\n      <td>0.488</td>\n      <td>21</td>\n      <td>19</td>\n      <td>0/1</td>\n      <td>NaN</td>\n      <td>SNP</td>\n      <td>...</td>\n      <td>0.436</td>\n      <td>1.000000</td>\n      <td>NaN</td>\n      <td>NaN</td>\n      <td>NaN</td>\n      <td>NaN</td>\n      <td>NaN</td>\n      <td>NaN</td>\n      <td>ACH-000856</td>\n      <td>55229.0</td>\n    </tr>\n    <tr>\n      <th>29675</th>\n      <td>chr1</td>\n      <td>2561696</td>\n      <td>C</td>\n      <td>T</td>\n      <td>0.320</td>\n      <td>24</td>\n      <td>12</td>\n      <td>0/1</td>\n      <td>NaN</td>\n      <td>SNP</td>\n      <td>...</td>\n      <td>0.071</td>\n      <td>2.000000</td>\n      <td>NaN</td>\n      <td>NaN</td>\n      <td>NaN</td>\n      <td>NaN</td>\n      <td>NaN</td>\n      <td>NaN</td>\n      <td>ACH-000856</td>\n      <td>8764.0</td>\n    </tr>\n    <tr>\n      <th>29676</th>\n      <td>chr1</td>\n      <td>2789833</td>\n      <td>C</td>\n      <td>A</td>\n      <td>0.534</td>\n      <td>6</td>\n      <td>7</td>\n      <td>0/1</td>\n      <td>NaN</td>\n      <td>SNP</td>\n      <td>...</td>\n      <td>NaN</td>\n      <td>0.166928</td>\n      <td>NaN</td>\n      <td>NaN</td>\n      <td>NaN</td>\n      <td>NaN</td>\n      <td>NaN</td>\n      <td>NaN</td>\n      <td>ACH-000856</td>\n      <td>100287898.0</td>\n    </tr>\n    <tr>\n      <th>...</th>\n      <td>...</td>\n      <td>...</td>\n      <td>...</td>\n      <td>...</td>\n      <td>...</td>\n      <td>...</td>\n      <td>...</td>\n      <td>...</td>\n      <td>...</td>\n      <td>...</td>\n      <td>...</td>\n      <td>...</td>\n      <td>...</td>\n      <td>...</td>\n      <td>...</td>\n      <td>...</td>\n      <td>...</td>\n      <td>...</td>\n      <td>...</td>\n      <td>...</td>\n      <td>...</td>\n    </tr>\n    <tr>\n      <th>1296633</th>\n      <td>chrX</td>\n      <td>153954753</td>\n      <td>T</td>\n      <td>C</td>\n      <td>0.857</td>\n      <td>0</td>\n      <td>6</td>\n      <td>0/1</td>\n      <td>NaN</td>\n      <td>SNP</td>\n      <td>...</td>\n      <td>0.006</td>\n      <td>2.000000</td>\n      <td>NaN</td>\n      <td>NaN</td>\n      <td>NaN</td>\n      <td>NaN</td>\n      <td>NaN</td>\n      <td>NaN</td>\n      <td>ACH-000234</td>\n      <td>3054.0</td>\n    </tr>\n    <tr>\n      <th>1296636</th>\n      <td>chrM</td>\n      <td>8764</td>\n      <td>G</td>\n      <td>A</td>\n      <td>0.923</td>\n      <td>0</td>\n      <td>12</td>\n      <td>1|1</td>\n      <td>NaN</td>\n      <td>SNP</td>\n      <td>...</td>\n      <td>NaN</td>\n      <td>NaN</td>\n      <td>NaN</td>\n      <td>NaN</td>\n      <td>NaN</td>\n      <td>NaN</td>\n      <td>NaN</td>\n      <td>NaN</td>\n      <td>ACH-000234</td>\n      <td>4508.0</td>\n    </tr>\n    <tr>\n      <th>1296637</th>\n      <td>chrM</td>\n      <td>9055</td>\n      <td>G</td>\n      <td>A</td>\n      <td>0.952</td>\n      <td>0</td>\n      <td>20</td>\n      <td>1|1</td>\n      <td>NaN</td>\n      <td>SNP</td>\n      <td>...</td>\n      <td>NaN</td>\n      <td>NaN</td>\n      <td>NaN</td>\n      <td>NaN</td>\n      <td>NaN</td>\n      <td>NaN</td>\n      <td>NaN</td>\n      <td>NaN</td>\n      <td>ACH-000234</td>\n      <td>4508.0</td>\n    </tr>\n    <tr>\n      <th>1296640</th>\n      <td>chrM</td>\n      <td>11025</td>\n      <td>T</td>\n      <td>C</td>\n      <td>0.946</td>\n      <td>0</td>\n      <td>19</td>\n      <td>1|1</td>\n      <td>NaN</td>\n      <td>SNP</td>\n      <td>...</td>\n      <td>NaN</td>\n      <td>NaN</td>\n      <td>NaN</td>\n      <td>NaN</td>\n      <td>NaN</td>\n      <td>NaN</td>\n      <td>NaN</td>\n      <td>NaN</td>\n      <td>ACH-000234</td>\n      <td>4538.0</td>\n    </tr>\n    <tr>\n      <th>1296643</th>\n      <td>chrM</td>\n      <td>14798</td>\n      <td>T</td>\n      <td>C</td>\n      <td>0.964</td>\n      <td>0</td>\n      <td>28</td>\n      <td>1|1</td>\n      <td>NaN</td>\n      <td>SNP</td>\n      <td>...</td>\n      <td>NaN</td>\n      <td>NaN</td>\n      <td>NaN</td>\n      <td>NaN</td>\n      <td>NaN</td>\n      <td>NaN</td>\n      <td>NaN</td>\n      <td>NaN</td>\n      <td>ACH-000234</td>\n      <td>4519.0</td>\n    </tr>\n  </tbody>\n</table>\n<p>12299 rows × 56 columns</p>\n</div>"
     },
     "execution_count": 81,
     "metadata": {},
     "output_type": "execute_result"
    }
   ],
   "source": [
    "missense_snp"
   ],
   "metadata": {
    "collapsed": false,
    "ExecuteTime": {
     "end_time": "2023-12-29T17:42:49.447345500Z",
     "start_time": "2023-12-29T17:42:49.388588300Z"
    }
   },
   "id": "4478d26280ba4968"
  },
  {
   "cell_type": "code",
   "execution_count": 82,
   "outputs": [
    {
     "data": {
      "text/plain": "array(['ENST00000338591.8', 'ENST00000447513.7', 'ENST00000378466.9', ...,\n       'ENST00000398145.6', 'ENST00000610913.2', 'ENST00000216146.9'],\n      dtype=object)"
     },
     "execution_count": 82,
     "metadata": {},
     "output_type": "execute_result"
    }
   ],
   "source": [
    "missense_snp_transcripts = missense_snp['Transcript'].unique()\n",
    "missense_snp_transcripts"
   ],
   "metadata": {
    "collapsed": false,
    "ExecuteTime": {
     "end_time": "2023-12-29T17:45:03.384356400Z",
     "start_time": "2023-12-29T17:45:03.335800400Z"
    }
   },
   "id": "e884ab56397f936e"
  },
  {
   "cell_type": "code",
   "execution_count": 25,
   "outputs": [
    {
     "data": {
      "text/plain": "Empty DataFrame\nColumns: [Chrom, Pos, Ref, Alt, AF, RefCount, AltCount, GT, PS, VariantType, VariantInfo, DNAChange, ProteinChange, HugoSymbol, HgncName, HgncFamily, Transcript, TranscriptExon, TranscriptStrand, UniprotID, Str, DbsnpID, DbsnpFilter, Issues, GcContent, LineageAssociation, CancerMolecularGenetics, CCLEDeleterious, StructuralRelation, CosmicHotspot, CosmicOverlappingMutations, AssociatedWith, LoF, Driver, LikelyDriver, TranscriptLikelyLoF, CivicID, CivicDescription, CivicScore, Popaf, LikelyGoF, LikelyLoF, HessDriver, HessSignature, CscapeScore, DannScore, RevelScore, Funseq2Score, PharmgkbID, DidaID, DidaName, GwasDisease, GwasPmID, GTexGene, ModelID, EntrezGeneID]\nIndex: []\n\n[0 rows x 56 columns]",
      "text/html": "<div>\n<style scoped>\n    .dataframe tbody tr th:only-of-type {\n        vertical-align: middle;\n    }\n\n    .dataframe tbody tr th {\n        vertical-align: top;\n    }\n\n    .dataframe thead th {\n        text-align: right;\n    }\n</style>\n<table border=\"1\" class=\"dataframe\">\n  <thead>\n    <tr style=\"text-align: right;\">\n      <th></th>\n      <th>Chrom</th>\n      <th>Pos</th>\n      <th>Ref</th>\n      <th>Alt</th>\n      <th>AF</th>\n      <th>RefCount</th>\n      <th>AltCount</th>\n      <th>GT</th>\n      <th>PS</th>\n      <th>VariantType</th>\n      <th>...</th>\n      <th>RevelScore</th>\n      <th>Funseq2Score</th>\n      <th>PharmgkbID</th>\n      <th>DidaID</th>\n      <th>DidaName</th>\n      <th>GwasDisease</th>\n      <th>GwasPmID</th>\n      <th>GTexGene</th>\n      <th>ModelID</th>\n      <th>EntrezGeneID</th>\n    </tr>\n  </thead>\n  <tbody>\n  </tbody>\n</table>\n<p>0 rows × 56 columns</p>\n</div>"
     },
     "execution_count": 25,
     "metadata": {},
     "output_type": "execute_result"
    }
   ],
   "source": [
    "missense_snp[missense_snp['Transcript'].isnull()]"
   ],
   "metadata": {
    "collapsed": false,
    "ExecuteTime": {
     "end_time": "2023-12-29T15:20:03.454485600Z",
     "start_time": "2023-12-29T15:20:03.301482300Z"
    }
   },
   "id": "c522142d2faa63a7"
  },
  {
   "cell_type": "code",
   "execution_count": 26,
   "outputs": [
    {
     "data": {
      "text/plain": "         Chrom       Pos Ref Alt     AF  RefCount  AltCount   GT          PS  \\\n29686     chr1  12777228  GT  AA  0.214        33         9  0|1  12777228.0   \n29687     chr1  12777427  GA  AG  0.155        38         6  0|1  12777421.0   \n29688     chr1  12859754  CC  TG  0.222        20         5  0|1  12859749.0   \n29689     chr1  12861232  AC  TG  0.315        13         6  0/1         NaN   \n29697     chr1  17438418  CC  AT  0.450        10         8  0/1         NaN   \n...        ...       ...  ..  ..    ...       ...       ...  ...         ...   \n1296496  chr12  11091653  GT  TC  0.780         5        19  0|1  11091626.0   \n1296497  chr12  11091770  GC  AT  0.841         4        23  0|1  11091770.0   \n1296498  chr12  11092131  AA  GG  0.934         2        40  1|1  11092122.0   \n1296570  chr17  36212342  CG  GA  0.347        14         7  0|1  36212342.0   \n1296609  chr20   1915150  TG  CA  0.875         3        27  0|1   1915148.0   \n\n        VariantType  ... RevelScore Funseq2Score PharmgkbID DidaID DidaName  \\\n29686           DNP  ...        NaN          NaN        NaN    NaN      NaN   \n29687           DNP  ...        NaN          NaN        NaN    NaN      NaN   \n29688           DNP  ...        NaN          NaN        NaN    NaN      NaN   \n29689           DNP  ...        NaN          NaN        NaN    NaN      NaN   \n29697           DNP  ...        NaN          NaN        NaN    NaN      NaN   \n...             ...  ...        ...          ...        ...    ...      ...   \n1296496         DNP  ...        NaN          NaN        NaN    NaN      NaN   \n1296497         DNP  ...        NaN          NaN        NaN    NaN      NaN   \n1296498         DNP  ...        NaN          NaN        NaN    NaN      NaN   \n1296570         DNP  ...        NaN          NaN        NaN    NaN      NaN   \n1296609         DNP  ...        NaN          NaN        NaN    NaN      NaN   \n\n        GwasDisease GwasPmID  GTexGene     ModelID EntrezGeneID  \n29686           NaN      NaN       NaN  ACH-000856     390999.0  \n29687           NaN      NaN       NaN  ACH-000856     390999.0  \n29688           NaN      NaN       NaN  ACH-000856      65122.0  \n29689           NaN      NaN       NaN  ACH-000856      65122.0  \n29697           NaN      NaN       NaN  ACH-000856      55920.0  \n...             ...      ...       ...         ...          ...  \n1296496         NaN      NaN       NaN  ACH-000234     259291.0  \n1296497         NaN      NaN       NaN  ACH-000234     259291.0  \n1296498         NaN      NaN       NaN  ACH-000234     259291.0  \n1296570         NaN      NaN       NaN  ACH-000234       9560.0  \n1296609         NaN      NaN       NaN  ACH-000234     140885.0  \n\n[901 rows x 56 columns]",
      "text/html": "<div>\n<style scoped>\n    .dataframe tbody tr th:only-of-type {\n        vertical-align: middle;\n    }\n\n    .dataframe tbody tr th {\n        vertical-align: top;\n    }\n\n    .dataframe thead th {\n        text-align: right;\n    }\n</style>\n<table border=\"1\" class=\"dataframe\">\n  <thead>\n    <tr style=\"text-align: right;\">\n      <th></th>\n      <th>Chrom</th>\n      <th>Pos</th>\n      <th>Ref</th>\n      <th>Alt</th>\n      <th>AF</th>\n      <th>RefCount</th>\n      <th>AltCount</th>\n      <th>GT</th>\n      <th>PS</th>\n      <th>VariantType</th>\n      <th>...</th>\n      <th>RevelScore</th>\n      <th>Funseq2Score</th>\n      <th>PharmgkbID</th>\n      <th>DidaID</th>\n      <th>DidaName</th>\n      <th>GwasDisease</th>\n      <th>GwasPmID</th>\n      <th>GTexGene</th>\n      <th>ModelID</th>\n      <th>EntrezGeneID</th>\n    </tr>\n  </thead>\n  <tbody>\n    <tr>\n      <th>29686</th>\n      <td>chr1</td>\n      <td>12777228</td>\n      <td>GT</td>\n      <td>AA</td>\n      <td>0.214</td>\n      <td>33</td>\n      <td>9</td>\n      <td>0|1</td>\n      <td>12777228.0</td>\n      <td>DNP</td>\n      <td>...</td>\n      <td>NaN</td>\n      <td>NaN</td>\n      <td>NaN</td>\n      <td>NaN</td>\n      <td>NaN</td>\n      <td>NaN</td>\n      <td>NaN</td>\n      <td>NaN</td>\n      <td>ACH-000856</td>\n      <td>390999.0</td>\n    </tr>\n    <tr>\n      <th>29687</th>\n      <td>chr1</td>\n      <td>12777427</td>\n      <td>GA</td>\n      <td>AG</td>\n      <td>0.155</td>\n      <td>38</td>\n      <td>6</td>\n      <td>0|1</td>\n      <td>12777421.0</td>\n      <td>DNP</td>\n      <td>...</td>\n      <td>NaN</td>\n      <td>NaN</td>\n      <td>NaN</td>\n      <td>NaN</td>\n      <td>NaN</td>\n      <td>NaN</td>\n      <td>NaN</td>\n      <td>NaN</td>\n      <td>ACH-000856</td>\n      <td>390999.0</td>\n    </tr>\n    <tr>\n      <th>29688</th>\n      <td>chr1</td>\n      <td>12859754</td>\n      <td>CC</td>\n      <td>TG</td>\n      <td>0.222</td>\n      <td>20</td>\n      <td>5</td>\n      <td>0|1</td>\n      <td>12859749.0</td>\n      <td>DNP</td>\n      <td>...</td>\n      <td>NaN</td>\n      <td>NaN</td>\n      <td>NaN</td>\n      <td>NaN</td>\n      <td>NaN</td>\n      <td>NaN</td>\n      <td>NaN</td>\n      <td>NaN</td>\n      <td>ACH-000856</td>\n      <td>65122.0</td>\n    </tr>\n    <tr>\n      <th>29689</th>\n      <td>chr1</td>\n      <td>12861232</td>\n      <td>AC</td>\n      <td>TG</td>\n      <td>0.315</td>\n      <td>13</td>\n      <td>6</td>\n      <td>0/1</td>\n      <td>NaN</td>\n      <td>DNP</td>\n      <td>...</td>\n      <td>NaN</td>\n      <td>NaN</td>\n      <td>NaN</td>\n      <td>NaN</td>\n      <td>NaN</td>\n      <td>NaN</td>\n      <td>NaN</td>\n      <td>NaN</td>\n      <td>ACH-000856</td>\n      <td>65122.0</td>\n    </tr>\n    <tr>\n      <th>29697</th>\n      <td>chr1</td>\n      <td>17438418</td>\n      <td>CC</td>\n      <td>AT</td>\n      <td>0.450</td>\n      <td>10</td>\n      <td>8</td>\n      <td>0/1</td>\n      <td>NaN</td>\n      <td>DNP</td>\n      <td>...</td>\n      <td>NaN</td>\n      <td>NaN</td>\n      <td>NaN</td>\n      <td>NaN</td>\n      <td>NaN</td>\n      <td>NaN</td>\n      <td>NaN</td>\n      <td>NaN</td>\n      <td>ACH-000856</td>\n      <td>55920.0</td>\n    </tr>\n    <tr>\n      <th>...</th>\n      <td>...</td>\n      <td>...</td>\n      <td>...</td>\n      <td>...</td>\n      <td>...</td>\n      <td>...</td>\n      <td>...</td>\n      <td>...</td>\n      <td>...</td>\n      <td>...</td>\n      <td>...</td>\n      <td>...</td>\n      <td>...</td>\n      <td>...</td>\n      <td>...</td>\n      <td>...</td>\n      <td>...</td>\n      <td>...</td>\n      <td>...</td>\n      <td>...</td>\n      <td>...</td>\n    </tr>\n    <tr>\n      <th>1296496</th>\n      <td>chr12</td>\n      <td>11091653</td>\n      <td>GT</td>\n      <td>TC</td>\n      <td>0.780</td>\n      <td>5</td>\n      <td>19</td>\n      <td>0|1</td>\n      <td>11091626.0</td>\n      <td>DNP</td>\n      <td>...</td>\n      <td>NaN</td>\n      <td>NaN</td>\n      <td>NaN</td>\n      <td>NaN</td>\n      <td>NaN</td>\n      <td>NaN</td>\n      <td>NaN</td>\n      <td>NaN</td>\n      <td>ACH-000234</td>\n      <td>259291.0</td>\n    </tr>\n    <tr>\n      <th>1296497</th>\n      <td>chr12</td>\n      <td>11091770</td>\n      <td>GC</td>\n      <td>AT</td>\n      <td>0.841</td>\n      <td>4</td>\n      <td>23</td>\n      <td>0|1</td>\n      <td>11091770.0</td>\n      <td>DNP</td>\n      <td>...</td>\n      <td>NaN</td>\n      <td>NaN</td>\n      <td>NaN</td>\n      <td>NaN</td>\n      <td>NaN</td>\n      <td>NaN</td>\n      <td>NaN</td>\n      <td>NaN</td>\n      <td>ACH-000234</td>\n      <td>259291.0</td>\n    </tr>\n    <tr>\n      <th>1296498</th>\n      <td>chr12</td>\n      <td>11092131</td>\n      <td>AA</td>\n      <td>GG</td>\n      <td>0.934</td>\n      <td>2</td>\n      <td>40</td>\n      <td>1|1</td>\n      <td>11092122.0</td>\n      <td>DNP</td>\n      <td>...</td>\n      <td>NaN</td>\n      <td>NaN</td>\n      <td>NaN</td>\n      <td>NaN</td>\n      <td>NaN</td>\n      <td>NaN</td>\n      <td>NaN</td>\n      <td>NaN</td>\n      <td>ACH-000234</td>\n      <td>259291.0</td>\n    </tr>\n    <tr>\n      <th>1296570</th>\n      <td>chr17</td>\n      <td>36212342</td>\n      <td>CG</td>\n      <td>GA</td>\n      <td>0.347</td>\n      <td>14</td>\n      <td>7</td>\n      <td>0|1</td>\n      <td>36212342.0</td>\n      <td>DNP</td>\n      <td>...</td>\n      <td>NaN</td>\n      <td>NaN</td>\n      <td>NaN</td>\n      <td>NaN</td>\n      <td>NaN</td>\n      <td>NaN</td>\n      <td>NaN</td>\n      <td>NaN</td>\n      <td>ACH-000234</td>\n      <td>9560.0</td>\n    </tr>\n    <tr>\n      <th>1296609</th>\n      <td>chr20</td>\n      <td>1915150</td>\n      <td>TG</td>\n      <td>CA</td>\n      <td>0.875</td>\n      <td>3</td>\n      <td>27</td>\n      <td>0|1</td>\n      <td>1915148.0</td>\n      <td>DNP</td>\n      <td>...</td>\n      <td>NaN</td>\n      <td>NaN</td>\n      <td>NaN</td>\n      <td>NaN</td>\n      <td>NaN</td>\n      <td>NaN</td>\n      <td>NaN</td>\n      <td>NaN</td>\n      <td>ACH-000234</td>\n      <td>140885.0</td>\n    </tr>\n  </tbody>\n</table>\n<p>901 rows × 56 columns</p>\n</div>"
     },
     "execution_count": 26,
     "metadata": {},
     "output_type": "execute_result"
    }
   ],
   "source": [
    "# Select all DNP and TNP missense mutations (in original version these are not assessed)\n",
    "missense_dnp_tnp = mutation_df[(mutation_df['VariantInfo']=='MISSENSE') & ((mutation_df['VariantType'] == 'DNP') | (mutation_df['VariantType'] == 'TNP'))]\n",
    "missense_dnp_tnp"
   ],
   "metadata": {
    "collapsed": false,
    "ExecuteTime": {
     "end_time": "2023-12-29T15:20:03.548161300Z",
     "start_time": "2023-12-29T15:20:03.322906Z"
    }
   },
   "id": "13285fc3da2e0e3d"
  },
  {
   "cell_type": "code",
   "execution_count": 27,
   "outputs": [
    {
     "data": {
      "text/plain": "array(['chr1', 'chr2', 'chr3', 'chr4', 'chr5', 'chr6', 'chr7', 'chr8',\n       'chr9', 'chr10', 'chr11', 'chr12', 'chr13', 'chr14', 'chr15',\n       'chr16', 'chr17', 'chr18', 'chr19', 'chr20', 'chr21', 'chr22',\n       'chrX', 'chrM', 'chrY'], dtype=object)"
     },
     "execution_count": 27,
     "metadata": {},
     "output_type": "execute_result"
    }
   ],
   "source": [
    "# Check what's in the chromosomes column\n",
    "missense_snp['Chrom'].unique()"
   ],
   "metadata": {
    "collapsed": false,
    "ExecuteTime": {
     "end_time": "2023-12-29T15:20:03.636953200Z",
     "start_time": "2023-12-29T15:20:03.354082400Z"
    }
   },
   "id": "eaf103eb07d9193a"
  },
  {
   "cell_type": "code",
   "execution_count": 28,
   "outputs": [
    {
     "name": "stdout",
     "output_type": "stream",
     "text": [
      "12299\n"
     ]
    },
    {
     "data": {
      "text/plain": "      #CHROM      POS           ID REF ALT\n29670      1   963249  rs573683289   G   A\n29673      1  2412394          NaN   C   T\n29674      1  2512914          NaN   G   T\n29675      1  2561696          NaN   C   T\n29676      1  2789833          NaN   C   A",
      "text/html": "<div>\n<style scoped>\n    .dataframe tbody tr th:only-of-type {\n        vertical-align: middle;\n    }\n\n    .dataframe tbody tr th {\n        vertical-align: top;\n    }\n\n    .dataframe thead th {\n        text-align: right;\n    }\n</style>\n<table border=\"1\" class=\"dataframe\">\n  <thead>\n    <tr style=\"text-align: right;\">\n      <th></th>\n      <th>#CHROM</th>\n      <th>POS</th>\n      <th>ID</th>\n      <th>REF</th>\n      <th>ALT</th>\n    </tr>\n  </thead>\n  <tbody>\n    <tr>\n      <th>29670</th>\n      <td>1</td>\n      <td>963249</td>\n      <td>rs573683289</td>\n      <td>G</td>\n      <td>A</td>\n    </tr>\n    <tr>\n      <th>29673</th>\n      <td>1</td>\n      <td>2412394</td>\n      <td>NaN</td>\n      <td>C</td>\n      <td>T</td>\n    </tr>\n    <tr>\n      <th>29674</th>\n      <td>1</td>\n      <td>2512914</td>\n      <td>NaN</td>\n      <td>G</td>\n      <td>T</td>\n    </tr>\n    <tr>\n      <th>29675</th>\n      <td>1</td>\n      <td>2561696</td>\n      <td>NaN</td>\n      <td>C</td>\n      <td>T</td>\n    </tr>\n    <tr>\n      <th>29676</th>\n      <td>1</td>\n      <td>2789833</td>\n      <td>NaN</td>\n      <td>C</td>\n      <td>A</td>\n    </tr>\n  </tbody>\n</table>\n</div>"
     },
     "execution_count": 28,
     "metadata": {},
     "output_type": "execute_result"
    }
   ],
   "source": [
    "# Create a VCF file with the SNP missense mutation data\n",
    "\n",
    "# Copy a subset of columns from the missense_snp dataframe\n",
    "missense_snp_vcf = missense_snp[['Chrom', 'Pos', 'DbsnpID',  'Ref', 'Alt']].copy()\n",
    "\n",
    "# Rename the columns to match VCF format requirements\n",
    "missense_snp_vcf.rename(columns={'Chrom' : '#CHROM' , 'Pos': 'POS', 'Ref': 'REF', 'Alt': 'ALT', 'DbsnpID' : 'ID'}, inplace=True)\n",
    "\n",
    "# Remove 'chr' string from the chromosome column values - Fathmm-XF won't recognise this this \n",
    "missense_snp_vcf['#CHROM'] = missense_snp_vcf['#CHROM'].str.replace('chr', '')\n",
    "\n",
    "# Write to CSV\n",
    "missense_snp_vcf.to_csv(data_path + '\\\\dependant\\\\depmap_mutations_for_fathmm.vcf', sep='\\t', index=False)\n",
    "\n",
    "print(len(missense_snp_vcf))\n",
    "missense_snp_vcf.head()"
   ],
   "metadata": {
    "collapsed": false,
    "ExecuteTime": {
     "end_time": "2023-12-29T15:20:03.715146400Z",
     "start_time": "2023-12-29T15:20:03.369698200Z"
    }
   },
   "id": "becb91bb05a8889e"
  },
  {
   "cell_type": "code",
   "execution_count": 29,
   "outputs": [
    {
     "data": {
      "text/plain": "0       ENST00000338591.8\n1       ENST00000447513.7\n2       ENST00000378466.9\n3       ENST00000355716.4\n4       ENST00000401095.8\n              ...        \n7518    ENST00000252998.2\n7519    ENST00000314103.6\n7520    ENST00000398145.6\n7521    ENST00000610913.2\n7522    ENST00000216146.9\nName: TranscriptID, Length: 7523, dtype: object"
     },
     "execution_count": 29,
     "metadata": {},
     "output_type": "execute_result"
    }
   ],
   "source": [
    "# Get unique transcript IDs from missense SNP mutations dataframe\n",
    "missense_snp_transcripts = pd.Series(missense_snp['Transcript'].unique(), name='TranscriptID')\n",
    "missense_snp_transcripts"
   ],
   "metadata": {
    "collapsed": false,
    "ExecuteTime": {
     "end_time": "2023-12-29T15:20:03.793673800Z",
     "start_time": "2023-12-29T15:20:03.422809700Z"
    }
   },
   "id": "aa757b30ba09ba77"
  },
  {
   "cell_type": "markdown",
   "source": [
    "## Alpha Missense mutation analysis starts here (merge both full AM dfs with mutation df)"
   ],
   "metadata": {
    "collapsed": false
   },
   "id": "39910f13b5d16b7d"
  },
  {
   "cell_type": "markdown",
   "source": [
    "### Load and merge the primary data"
   ],
   "metadata": {
    "collapsed": false
   },
   "id": "726e5c0cb5f087f9"
  },
  {
   "cell_type": "code",
   "execution_count": 67,
   "outputs": [],
   "source": [
    "# Load and preview the alpha missense data (primary assembly)\n",
    "alpha_missense_primary = pd.read_csv(data_path + 'alphamissense\\\\AlphaMissense_hg38.tsv', skiprows=3, sep='\\t')"
   ],
   "metadata": {
    "collapsed": false,
    "ExecuteTime": {
     "end_time": "2023-12-29T17:24:46.415866500Z",
     "start_time": "2023-12-29T17:23:30.918893100Z"
    }
   },
   "id": "269b8dfad5c06b42"
  },
  {
   "cell_type": "code",
   "execution_count": 68,
   "outputs": [
    {
     "name": "stdout",
     "output_type": "stream",
     "text": [
      "71697556\n"
     ]
    }
   ],
   "source": [
    "alpha_missense_primary_len = len(alpha_missense_primary)\n",
    "print(alpha_missense_primary_len)\n",
    "\n",
    "alpha_missense_primary.head(20)\n",
    "\n",
    "alpha_missense_primary_transcripts = alpha_missense_primary['transcript_id'].tolist()"
   ],
   "metadata": {
    "collapsed": false,
    "ExecuteTime": {
     "end_time": "2023-12-29T17:24:46.699481100Z",
     "start_time": "2023-12-29T17:24:46.431493300Z"
    }
   },
   "id": "ec6bbfee85355dff"
  },
  {
   "cell_type": "code",
   "execution_count": 32,
   "outputs": [
    {
     "data": {
      "text/plain": "      Chrom        Pos Ref Alt     AF  RefCount  AltCount   GT  PS  \\\n0      chr1     963249   G   A  0.303        22         9  0/1 NaN   \n1      chr1    2412394   C   T  0.391        14         8  0/1 NaN   \n2      chr1    2512914   G   T  0.488        21        19  0/1 NaN   \n3      chr1    2561696   C   T  0.320        24        12  0/1 NaN   \n4      chr1    2789833   C   A  0.534         6         7  0/1 NaN   \n...     ...        ...  ..  ..    ...       ...       ...  ...  ..   \n12373  chrX  153954753   T   C  0.857         0         6  0/1 NaN   \n12374  chrM       8764   G   A  0.923         0        12  1|1 NaN   \n12375  chrM       9055   G   A  0.952         0        20  1|1 NaN   \n12376  chrM      11025   T   C  0.946         0        19  1|1 NaN   \n12377  chrM      14798   T   C  0.964         0        28  1|1 NaN   \n\n      VariantType  ... DidaName GwasDisease GwasPmID GTexGene     ModelID  \\\n0             SNP  ...      NaN         NaN      NaN      NaN  ACH-000856   \n1             SNP  ...      NaN         NaN      NaN      NaN  ACH-000856   \n2             SNP  ...      NaN         NaN      NaN      NaN  ACH-000856   \n3             SNP  ...      NaN         NaN      NaN      NaN  ACH-000856   \n4             SNP  ...      NaN         NaN      NaN      NaN  ACH-000856   \n...           ...  ...      ...         ...      ...      ...         ...   \n12373         SNP  ...      NaN         NaN      NaN      NaN  ACH-000234   \n12374         SNP  ...      NaN         NaN      NaN      NaN  ACH-000234   \n12375         SNP  ...      NaN         NaN      NaN      NaN  ACH-000234   \n12376         SNP  ...      NaN         NaN      NaN      NaN  ACH-000234   \n12377         SNP  ...      NaN         NaN      NaN      NaN  ACH-000234   \n\n      EntrezGeneID       transcript_id  am_pathogenicity           am_class  \\\n0         339451.0   ENST00000338591.8            0.9941  likely_pathogenic   \n1           5192.0   ENST00000447513.6            0.1815      likely_benign   \n2          55229.0   ENST00000378466.9            0.9989  likely_pathogenic   \n3           8764.0   ENST00000355716.4            0.1136      likely_benign   \n4      100287898.0                 NaN               NaN                NaN   \n...            ...                 ...               ...                ...   \n12373       3054.0  ENST00000310441.12            0.0608      likely_benign   \n12374       4508.0   ENST00000361899.2            0.1314      likely_benign   \n12375       4508.0   ENST00000361899.2            0.1589      likely_benign   \n12376       4538.0   ENST00000361381.2            0.1123      likely_benign   \n12377       4519.0   ENST00000361789.2            0.4004          ambiguous   \n\n      am_source  \n0       primary  \n1       primary  \n2       primary  \n3       primary  \n4           NaN  \n...         ...  \n12373   primary  \n12374   primary  \n12375   primary  \n12376   primary  \n12377   primary  \n\n[12378 rows x 60 columns]",
      "text/html": "<div>\n<style scoped>\n    .dataframe tbody tr th:only-of-type {\n        vertical-align: middle;\n    }\n\n    .dataframe tbody tr th {\n        vertical-align: top;\n    }\n\n    .dataframe thead th {\n        text-align: right;\n    }\n</style>\n<table border=\"1\" class=\"dataframe\">\n  <thead>\n    <tr style=\"text-align: right;\">\n      <th></th>\n      <th>Chrom</th>\n      <th>Pos</th>\n      <th>Ref</th>\n      <th>Alt</th>\n      <th>AF</th>\n      <th>RefCount</th>\n      <th>AltCount</th>\n      <th>GT</th>\n      <th>PS</th>\n      <th>VariantType</th>\n      <th>...</th>\n      <th>DidaName</th>\n      <th>GwasDisease</th>\n      <th>GwasPmID</th>\n      <th>GTexGene</th>\n      <th>ModelID</th>\n      <th>EntrezGeneID</th>\n      <th>transcript_id</th>\n      <th>am_pathogenicity</th>\n      <th>am_class</th>\n      <th>am_source</th>\n    </tr>\n  </thead>\n  <tbody>\n    <tr>\n      <th>0</th>\n      <td>chr1</td>\n      <td>963249</td>\n      <td>G</td>\n      <td>A</td>\n      <td>0.303</td>\n      <td>22</td>\n      <td>9</td>\n      <td>0/1</td>\n      <td>NaN</td>\n      <td>SNP</td>\n      <td>...</td>\n      <td>NaN</td>\n      <td>NaN</td>\n      <td>NaN</td>\n      <td>NaN</td>\n      <td>ACH-000856</td>\n      <td>339451.0</td>\n      <td>ENST00000338591.8</td>\n      <td>0.9941</td>\n      <td>likely_pathogenic</td>\n      <td>primary</td>\n    </tr>\n    <tr>\n      <th>1</th>\n      <td>chr1</td>\n      <td>2412394</td>\n      <td>C</td>\n      <td>T</td>\n      <td>0.391</td>\n      <td>14</td>\n      <td>8</td>\n      <td>0/1</td>\n      <td>NaN</td>\n      <td>SNP</td>\n      <td>...</td>\n      <td>NaN</td>\n      <td>NaN</td>\n      <td>NaN</td>\n      <td>NaN</td>\n      <td>ACH-000856</td>\n      <td>5192.0</td>\n      <td>ENST00000447513.6</td>\n      <td>0.1815</td>\n      <td>likely_benign</td>\n      <td>primary</td>\n    </tr>\n    <tr>\n      <th>2</th>\n      <td>chr1</td>\n      <td>2512914</td>\n      <td>G</td>\n      <td>T</td>\n      <td>0.488</td>\n      <td>21</td>\n      <td>19</td>\n      <td>0/1</td>\n      <td>NaN</td>\n      <td>SNP</td>\n      <td>...</td>\n      <td>NaN</td>\n      <td>NaN</td>\n      <td>NaN</td>\n      <td>NaN</td>\n      <td>ACH-000856</td>\n      <td>55229.0</td>\n      <td>ENST00000378466.9</td>\n      <td>0.9989</td>\n      <td>likely_pathogenic</td>\n      <td>primary</td>\n    </tr>\n    <tr>\n      <th>3</th>\n      <td>chr1</td>\n      <td>2561696</td>\n      <td>C</td>\n      <td>T</td>\n      <td>0.320</td>\n      <td>24</td>\n      <td>12</td>\n      <td>0/1</td>\n      <td>NaN</td>\n      <td>SNP</td>\n      <td>...</td>\n      <td>NaN</td>\n      <td>NaN</td>\n      <td>NaN</td>\n      <td>NaN</td>\n      <td>ACH-000856</td>\n      <td>8764.0</td>\n      <td>ENST00000355716.4</td>\n      <td>0.1136</td>\n      <td>likely_benign</td>\n      <td>primary</td>\n    </tr>\n    <tr>\n      <th>4</th>\n      <td>chr1</td>\n      <td>2789833</td>\n      <td>C</td>\n      <td>A</td>\n      <td>0.534</td>\n      <td>6</td>\n      <td>7</td>\n      <td>0/1</td>\n      <td>NaN</td>\n      <td>SNP</td>\n      <td>...</td>\n      <td>NaN</td>\n      <td>NaN</td>\n      <td>NaN</td>\n      <td>NaN</td>\n      <td>ACH-000856</td>\n      <td>100287898.0</td>\n      <td>NaN</td>\n      <td>NaN</td>\n      <td>NaN</td>\n      <td>NaN</td>\n    </tr>\n    <tr>\n      <th>...</th>\n      <td>...</td>\n      <td>...</td>\n      <td>...</td>\n      <td>...</td>\n      <td>...</td>\n      <td>...</td>\n      <td>...</td>\n      <td>...</td>\n      <td>...</td>\n      <td>...</td>\n      <td>...</td>\n      <td>...</td>\n      <td>...</td>\n      <td>...</td>\n      <td>...</td>\n      <td>...</td>\n      <td>...</td>\n      <td>...</td>\n      <td>...</td>\n      <td>...</td>\n      <td>...</td>\n    </tr>\n    <tr>\n      <th>12373</th>\n      <td>chrX</td>\n      <td>153954753</td>\n      <td>T</td>\n      <td>C</td>\n      <td>0.857</td>\n      <td>0</td>\n      <td>6</td>\n      <td>0/1</td>\n      <td>NaN</td>\n      <td>SNP</td>\n      <td>...</td>\n      <td>NaN</td>\n      <td>NaN</td>\n      <td>NaN</td>\n      <td>NaN</td>\n      <td>ACH-000234</td>\n      <td>3054.0</td>\n      <td>ENST00000310441.12</td>\n      <td>0.0608</td>\n      <td>likely_benign</td>\n      <td>primary</td>\n    </tr>\n    <tr>\n      <th>12374</th>\n      <td>chrM</td>\n      <td>8764</td>\n      <td>G</td>\n      <td>A</td>\n      <td>0.923</td>\n      <td>0</td>\n      <td>12</td>\n      <td>1|1</td>\n      <td>NaN</td>\n      <td>SNP</td>\n      <td>...</td>\n      <td>NaN</td>\n      <td>NaN</td>\n      <td>NaN</td>\n      <td>NaN</td>\n      <td>ACH-000234</td>\n      <td>4508.0</td>\n      <td>ENST00000361899.2</td>\n      <td>0.1314</td>\n      <td>likely_benign</td>\n      <td>primary</td>\n    </tr>\n    <tr>\n      <th>12375</th>\n      <td>chrM</td>\n      <td>9055</td>\n      <td>G</td>\n      <td>A</td>\n      <td>0.952</td>\n      <td>0</td>\n      <td>20</td>\n      <td>1|1</td>\n      <td>NaN</td>\n      <td>SNP</td>\n      <td>...</td>\n      <td>NaN</td>\n      <td>NaN</td>\n      <td>NaN</td>\n      <td>NaN</td>\n      <td>ACH-000234</td>\n      <td>4508.0</td>\n      <td>ENST00000361899.2</td>\n      <td>0.1589</td>\n      <td>likely_benign</td>\n      <td>primary</td>\n    </tr>\n    <tr>\n      <th>12376</th>\n      <td>chrM</td>\n      <td>11025</td>\n      <td>T</td>\n      <td>C</td>\n      <td>0.946</td>\n      <td>0</td>\n      <td>19</td>\n      <td>1|1</td>\n      <td>NaN</td>\n      <td>SNP</td>\n      <td>...</td>\n      <td>NaN</td>\n      <td>NaN</td>\n      <td>NaN</td>\n      <td>NaN</td>\n      <td>ACH-000234</td>\n      <td>4538.0</td>\n      <td>ENST00000361381.2</td>\n      <td>0.1123</td>\n      <td>likely_benign</td>\n      <td>primary</td>\n    </tr>\n    <tr>\n      <th>12377</th>\n      <td>chrM</td>\n      <td>14798</td>\n      <td>T</td>\n      <td>C</td>\n      <td>0.964</td>\n      <td>0</td>\n      <td>28</td>\n      <td>1|1</td>\n      <td>NaN</td>\n      <td>SNP</td>\n      <td>...</td>\n      <td>NaN</td>\n      <td>NaN</td>\n      <td>NaN</td>\n      <td>NaN</td>\n      <td>ACH-000234</td>\n      <td>4519.0</td>\n      <td>ENST00000361789.2</td>\n      <td>0.4004</td>\n      <td>ambiguous</td>\n      <td>primary</td>\n    </tr>\n  </tbody>\n</table>\n<p>12378 rows × 60 columns</p>\n</div>"
     },
     "execution_count": 32,
     "metadata": {},
     "output_type": "execute_result"
    }
   ],
   "source": [
    "# Rename columns in alpha_missense_complete df to match those in missense_snp for the merging criteria\n",
    "alpha_missense_primary.rename(columns={'#CHROM': 'Chrom', 'POS': 'Pos', 'REF': 'Ref', 'ALT': 'Alt'}, inplace=True)\n",
    "\n",
    "# add a column so we can later identify the source of the data when merged\n",
    "alpha_missense_primary['am_source'] = 'primary'\n",
    "\n",
    "# Now, merge the DataFrames\n",
    "missense_snp_extended = missense_snp.merge(alpha_missense_primary[['Chrom', 'Pos', 'Ref', 'Alt', 'transcript_id', 'am_pathogenicity', 'am_class', 'am_source']], \n",
    "                on=['Chrom', 'Pos', 'Ref', 'Alt'], \n",
    "                how='left')\n",
    "\n",
    "del alpha_missense_primary\n",
    "\n",
    "missense_snp_extended"
   ],
   "metadata": {
    "collapsed": false,
    "ExecuteTime": {
     "end_time": "2023-12-29T15:22:02.049584600Z",
     "start_time": "2023-12-29T15:21:10.257125Z"
    }
   },
   "id": "21e20df2887d62e8"
  },
  {
   "cell_type": "code",
   "execution_count": 33,
   "outputs": [
    {
     "data": {
      "text/plain": "12378"
     },
     "execution_count": 33,
     "metadata": {},
     "output_type": "execute_result"
    }
   ],
   "source": [
    "# There are more records now after merging. why?\n",
    "len(missense_snp_extended)"
   ],
   "metadata": {
    "collapsed": false,
    "ExecuteTime": {
     "end_time": "2023-12-29T15:22:02.065200500Z",
     "start_time": "2023-12-29T15:22:02.049584600Z"
    }
   },
   "id": "263b8567b691d75a"
  },
  {
   "cell_type": "code",
   "execution_count": 34,
   "outputs": [],
   "source": [
    "# Drop duplicates \n",
    "missense_snp_extended = missense_snp_extended.drop_duplicates(subset=['Chrom', 'Pos', 'Ref', 'Alt','am_class'], keep=\"first\")"
   ],
   "metadata": {
    "collapsed": false,
    "ExecuteTime": {
     "end_time": "2023-12-29T15:22:02.143798400Z",
     "start_time": "2023-12-29T15:22:02.065200500Z"
    }
   },
   "id": "273f09f8e9eb45a7"
  },
  {
   "cell_type": "code",
   "execution_count": 35,
   "outputs": [
    {
     "data": {
      "text/plain": "       Chrom        Pos Ref Alt     AF  RefCount  AltCount   GT  PS  \\\n0       chr1     963249   G   A  0.303        22         9  0/1 NaN   \n1       chr1    2412394   C   T  0.391        14         8  0/1 NaN   \n2       chr1    2512914   G   T  0.488        21        19  0/1 NaN   \n3       chr1    2561696   C   T  0.320        24        12  0/1 NaN   \n4       chr1    2789833   C   A  0.534         6         7  0/1 NaN   \n...      ...        ...  ..  ..    ...       ...       ...  ...  ..   \n12370  chr22   39487946   T   G  0.188        30         7  0/1 NaN   \n12372   chrX   73214201   T   A  0.972         2       108  1|1 NaN   \n12373   chrX  153954753   T   C  0.857         0         6  0/1 NaN   \n12374   chrM       8764   G   A  0.923         0        12  1|1 NaN   \n12376   chrM      11025   T   C  0.946         0        19  1|1 NaN   \n\n      VariantType  ... DidaName GwasDisease GwasPmID GTexGene     ModelID  \\\n0             SNP  ...      NaN         NaN      NaN      NaN  ACH-000856   \n1             SNP  ...      NaN         NaN      NaN      NaN  ACH-000856   \n2             SNP  ...      NaN         NaN      NaN      NaN  ACH-000856   \n3             SNP  ...      NaN         NaN      NaN      NaN  ACH-000856   \n4             SNP  ...      NaN         NaN      NaN      NaN  ACH-000856   \n...           ...  ...      ...         ...      ...      ...         ...   \n12370         SNP  ...      NaN         NaN      NaN      NaN  ACH-000234   \n12372         SNP  ...      NaN         NaN      NaN      NaN  ACH-000234   \n12373         SNP  ...      NaN         NaN      NaN      NaN  ACH-000234   \n12374         SNP  ...      NaN         NaN      NaN      NaN  ACH-000234   \n12376         SNP  ...      NaN         NaN      NaN      NaN  ACH-000234   \n\n      EntrezGeneID       transcript_id  am_pathogenicity           am_class  \\\n0         339451.0   ENST00000338591.8            0.9941  likely_pathogenic   \n1           5192.0   ENST00000447513.6            0.1815      likely_benign   \n2          55229.0   ENST00000378466.9            0.9989  likely_pathogenic   \n3           8764.0   ENST00000355716.4            0.1136      likely_benign   \n4      100287898.0                 NaN               NaN                NaN   \n...            ...                 ...               ...                ...   \n12370       4248.0   ENST00000341184.7            0.1395      likely_benign   \n12372       4674.0   ENST00000373517.4            0.1350      likely_benign   \n12373       3054.0  ENST00000310441.12            0.0608      likely_benign   \n12374       4508.0   ENST00000361899.2            0.1314      likely_benign   \n12376       4538.0   ENST00000361381.2            0.1123      likely_benign   \n\n      am_source  \n0       primary  \n1       primary  \n2       primary  \n3       primary  \n4           NaN  \n...         ...  \n12370   primary  \n12372   primary  \n12373   primary  \n12374   primary  \n12376   primary  \n\n[11780 rows x 60 columns]",
      "text/html": "<div>\n<style scoped>\n    .dataframe tbody tr th:only-of-type {\n        vertical-align: middle;\n    }\n\n    .dataframe tbody tr th {\n        vertical-align: top;\n    }\n\n    .dataframe thead th {\n        text-align: right;\n    }\n</style>\n<table border=\"1\" class=\"dataframe\">\n  <thead>\n    <tr style=\"text-align: right;\">\n      <th></th>\n      <th>Chrom</th>\n      <th>Pos</th>\n      <th>Ref</th>\n      <th>Alt</th>\n      <th>AF</th>\n      <th>RefCount</th>\n      <th>AltCount</th>\n      <th>GT</th>\n      <th>PS</th>\n      <th>VariantType</th>\n      <th>...</th>\n      <th>DidaName</th>\n      <th>GwasDisease</th>\n      <th>GwasPmID</th>\n      <th>GTexGene</th>\n      <th>ModelID</th>\n      <th>EntrezGeneID</th>\n      <th>transcript_id</th>\n      <th>am_pathogenicity</th>\n      <th>am_class</th>\n      <th>am_source</th>\n    </tr>\n  </thead>\n  <tbody>\n    <tr>\n      <th>0</th>\n      <td>chr1</td>\n      <td>963249</td>\n      <td>G</td>\n      <td>A</td>\n      <td>0.303</td>\n      <td>22</td>\n      <td>9</td>\n      <td>0/1</td>\n      <td>NaN</td>\n      <td>SNP</td>\n      <td>...</td>\n      <td>NaN</td>\n      <td>NaN</td>\n      <td>NaN</td>\n      <td>NaN</td>\n      <td>ACH-000856</td>\n      <td>339451.0</td>\n      <td>ENST00000338591.8</td>\n      <td>0.9941</td>\n      <td>likely_pathogenic</td>\n      <td>primary</td>\n    </tr>\n    <tr>\n      <th>1</th>\n      <td>chr1</td>\n      <td>2412394</td>\n      <td>C</td>\n      <td>T</td>\n      <td>0.391</td>\n      <td>14</td>\n      <td>8</td>\n      <td>0/1</td>\n      <td>NaN</td>\n      <td>SNP</td>\n      <td>...</td>\n      <td>NaN</td>\n      <td>NaN</td>\n      <td>NaN</td>\n      <td>NaN</td>\n      <td>ACH-000856</td>\n      <td>5192.0</td>\n      <td>ENST00000447513.6</td>\n      <td>0.1815</td>\n      <td>likely_benign</td>\n      <td>primary</td>\n    </tr>\n    <tr>\n      <th>2</th>\n      <td>chr1</td>\n      <td>2512914</td>\n      <td>G</td>\n      <td>T</td>\n      <td>0.488</td>\n      <td>21</td>\n      <td>19</td>\n      <td>0/1</td>\n      <td>NaN</td>\n      <td>SNP</td>\n      <td>...</td>\n      <td>NaN</td>\n      <td>NaN</td>\n      <td>NaN</td>\n      <td>NaN</td>\n      <td>ACH-000856</td>\n      <td>55229.0</td>\n      <td>ENST00000378466.9</td>\n      <td>0.9989</td>\n      <td>likely_pathogenic</td>\n      <td>primary</td>\n    </tr>\n    <tr>\n      <th>3</th>\n      <td>chr1</td>\n      <td>2561696</td>\n      <td>C</td>\n      <td>T</td>\n      <td>0.320</td>\n      <td>24</td>\n      <td>12</td>\n      <td>0/1</td>\n      <td>NaN</td>\n      <td>SNP</td>\n      <td>...</td>\n      <td>NaN</td>\n      <td>NaN</td>\n      <td>NaN</td>\n      <td>NaN</td>\n      <td>ACH-000856</td>\n      <td>8764.0</td>\n      <td>ENST00000355716.4</td>\n      <td>0.1136</td>\n      <td>likely_benign</td>\n      <td>primary</td>\n    </tr>\n    <tr>\n      <th>4</th>\n      <td>chr1</td>\n      <td>2789833</td>\n      <td>C</td>\n      <td>A</td>\n      <td>0.534</td>\n      <td>6</td>\n      <td>7</td>\n      <td>0/1</td>\n      <td>NaN</td>\n      <td>SNP</td>\n      <td>...</td>\n      <td>NaN</td>\n      <td>NaN</td>\n      <td>NaN</td>\n      <td>NaN</td>\n      <td>ACH-000856</td>\n      <td>100287898.0</td>\n      <td>NaN</td>\n      <td>NaN</td>\n      <td>NaN</td>\n      <td>NaN</td>\n    </tr>\n    <tr>\n      <th>...</th>\n      <td>...</td>\n      <td>...</td>\n      <td>...</td>\n      <td>...</td>\n      <td>...</td>\n      <td>...</td>\n      <td>...</td>\n      <td>...</td>\n      <td>...</td>\n      <td>...</td>\n      <td>...</td>\n      <td>...</td>\n      <td>...</td>\n      <td>...</td>\n      <td>...</td>\n      <td>...</td>\n      <td>...</td>\n      <td>...</td>\n      <td>...</td>\n      <td>...</td>\n      <td>...</td>\n    </tr>\n    <tr>\n      <th>12370</th>\n      <td>chr22</td>\n      <td>39487946</td>\n      <td>T</td>\n      <td>G</td>\n      <td>0.188</td>\n      <td>30</td>\n      <td>7</td>\n      <td>0/1</td>\n      <td>NaN</td>\n      <td>SNP</td>\n      <td>...</td>\n      <td>NaN</td>\n      <td>NaN</td>\n      <td>NaN</td>\n      <td>NaN</td>\n      <td>ACH-000234</td>\n      <td>4248.0</td>\n      <td>ENST00000341184.7</td>\n      <td>0.1395</td>\n      <td>likely_benign</td>\n      <td>primary</td>\n    </tr>\n    <tr>\n      <th>12372</th>\n      <td>chrX</td>\n      <td>73214201</td>\n      <td>T</td>\n      <td>A</td>\n      <td>0.972</td>\n      <td>2</td>\n      <td>108</td>\n      <td>1|1</td>\n      <td>NaN</td>\n      <td>SNP</td>\n      <td>...</td>\n      <td>NaN</td>\n      <td>NaN</td>\n      <td>NaN</td>\n      <td>NaN</td>\n      <td>ACH-000234</td>\n      <td>4674.0</td>\n      <td>ENST00000373517.4</td>\n      <td>0.1350</td>\n      <td>likely_benign</td>\n      <td>primary</td>\n    </tr>\n    <tr>\n      <th>12373</th>\n      <td>chrX</td>\n      <td>153954753</td>\n      <td>T</td>\n      <td>C</td>\n      <td>0.857</td>\n      <td>0</td>\n      <td>6</td>\n      <td>0/1</td>\n      <td>NaN</td>\n      <td>SNP</td>\n      <td>...</td>\n      <td>NaN</td>\n      <td>NaN</td>\n      <td>NaN</td>\n      <td>NaN</td>\n      <td>ACH-000234</td>\n      <td>3054.0</td>\n      <td>ENST00000310441.12</td>\n      <td>0.0608</td>\n      <td>likely_benign</td>\n      <td>primary</td>\n    </tr>\n    <tr>\n      <th>12374</th>\n      <td>chrM</td>\n      <td>8764</td>\n      <td>G</td>\n      <td>A</td>\n      <td>0.923</td>\n      <td>0</td>\n      <td>12</td>\n      <td>1|1</td>\n      <td>NaN</td>\n      <td>SNP</td>\n      <td>...</td>\n      <td>NaN</td>\n      <td>NaN</td>\n      <td>NaN</td>\n      <td>NaN</td>\n      <td>ACH-000234</td>\n      <td>4508.0</td>\n      <td>ENST00000361899.2</td>\n      <td>0.1314</td>\n      <td>likely_benign</td>\n      <td>primary</td>\n    </tr>\n    <tr>\n      <th>12376</th>\n      <td>chrM</td>\n      <td>11025</td>\n      <td>T</td>\n      <td>C</td>\n      <td>0.946</td>\n      <td>0</td>\n      <td>19</td>\n      <td>1|1</td>\n      <td>NaN</td>\n      <td>SNP</td>\n      <td>...</td>\n      <td>NaN</td>\n      <td>NaN</td>\n      <td>NaN</td>\n      <td>NaN</td>\n      <td>ACH-000234</td>\n      <td>4538.0</td>\n      <td>ENST00000361381.2</td>\n      <td>0.1123</td>\n      <td>likely_benign</td>\n      <td>primary</td>\n    </tr>\n  </tbody>\n</table>\n<p>11780 rows × 60 columns</p>\n</div>"
     },
     "execution_count": 35,
     "metadata": {},
     "output_type": "execute_result"
    }
   ],
   "source": [
    "missense_snp_extended"
   ],
   "metadata": {
    "collapsed": false,
    "ExecuteTime": {
     "end_time": "2023-12-29T15:22:02.237966400Z",
     "start_time": "2023-12-29T15:22:02.112532900Z"
    }
   },
   "id": "f40e63dcbfd32c0c"
  },
  {
   "cell_type": "code",
   "execution_count": 36,
   "outputs": [
    {
     "data": {
      "text/plain": "       Chrom        Pos Ref Alt     AF  RefCount  AltCount   GT         PS  \\\n4       chr1    2789833   C   A  0.534         6         7  0/1        NaN   \n14      chr1   20144618   T   C  0.344        19         9  0/1        NaN   \n37      chr1  153765060   C   T  0.550        18        22  0/1        NaN   \n60      chr2   20253922   C   T  0.629        13        23  0/1        NaN   \n66      chr2   38958128   G   A  0.574        10        14  0/1        NaN   \n...      ...        ...  ..  ..    ...       ...       ...  ...        ...   \n12279  chr11   64118213   C   T  0.984         0        60  1|1        NaN   \n12289  chr12    2566502   T   G  0.268         7         2  0|1  2566502.0   \n12297  chr12   70635797   G   C  0.325        32        15  0/1        NaN   \n12299  chr12   88192668   G   C  0.402        58        40  0/1        NaN   \n12327  chr17    5105919   G   A  0.477        55        49  0/1        NaN   \n\n      VariantType  ... DidaName GwasDisease GwasPmID GTexGene     ModelID  \\\n4             SNP  ...      NaN         NaN      NaN      NaN  ACH-000856   \n14            SNP  ...      NaN         NaN      NaN      NaN  ACH-000856   \n37            SNP  ...      NaN         NaN      NaN      NaN  ACH-000856   \n60            SNP  ...      NaN         NaN      NaN      NaN  ACH-000856   \n66            SNP  ...      NaN         NaN      NaN      NaN  ACH-000856   \n...           ...  ...      ...         ...      ...      ...         ...   \n12279         SNP  ...      NaN         NaN      NaN      NaN  ACH-000234   \n12289         SNP  ...      NaN         NaN      NaN      NaN  ACH-000234   \n12297         SNP  ...      NaN         NaN      NaN      NaN  ACH-000234   \n12299         SNP  ...      NaN         NaN      NaN      NaN  ACH-000234   \n12327         SNP  ...      NaN         NaN      NaN      NaN  ACH-000234   \n\n      EntrezGeneID transcript_id  am_pathogenicity am_class am_source  \n4      100287898.0           NaN               NaN      NaN       NaN  \n14         64600.0           NaN               NaN      NaN       NaN  \n37         65123.0           NaN               NaN      NaN       NaN  \n60         23369.0           NaN               NaN      NaN       NaN  \n66     100271715.0           NaN               NaN      NaN       NaN  \n...            ...           ...               ...      ...       ...  \n12279      Unknown           NaN               NaN      NaN       NaN  \n12289        775.0           NaN               NaN      NaN       NaN  \n12297       5787.0           NaN               NaN      NaN       NaN  \n12299     160418.0           NaN               NaN      NaN       NaN  \n12327       7775.0           NaN               NaN      NaN       NaN  \n\n[428 rows x 60 columns]",
      "text/html": "<div>\n<style scoped>\n    .dataframe tbody tr th:only-of-type {\n        vertical-align: middle;\n    }\n\n    .dataframe tbody tr th {\n        vertical-align: top;\n    }\n\n    .dataframe thead th {\n        text-align: right;\n    }\n</style>\n<table border=\"1\" class=\"dataframe\">\n  <thead>\n    <tr style=\"text-align: right;\">\n      <th></th>\n      <th>Chrom</th>\n      <th>Pos</th>\n      <th>Ref</th>\n      <th>Alt</th>\n      <th>AF</th>\n      <th>RefCount</th>\n      <th>AltCount</th>\n      <th>GT</th>\n      <th>PS</th>\n      <th>VariantType</th>\n      <th>...</th>\n      <th>DidaName</th>\n      <th>GwasDisease</th>\n      <th>GwasPmID</th>\n      <th>GTexGene</th>\n      <th>ModelID</th>\n      <th>EntrezGeneID</th>\n      <th>transcript_id</th>\n      <th>am_pathogenicity</th>\n      <th>am_class</th>\n      <th>am_source</th>\n    </tr>\n  </thead>\n  <tbody>\n    <tr>\n      <th>4</th>\n      <td>chr1</td>\n      <td>2789833</td>\n      <td>C</td>\n      <td>A</td>\n      <td>0.534</td>\n      <td>6</td>\n      <td>7</td>\n      <td>0/1</td>\n      <td>NaN</td>\n      <td>SNP</td>\n      <td>...</td>\n      <td>NaN</td>\n      <td>NaN</td>\n      <td>NaN</td>\n      <td>NaN</td>\n      <td>ACH-000856</td>\n      <td>100287898.0</td>\n      <td>NaN</td>\n      <td>NaN</td>\n      <td>NaN</td>\n      <td>NaN</td>\n    </tr>\n    <tr>\n      <th>14</th>\n      <td>chr1</td>\n      <td>20144618</td>\n      <td>T</td>\n      <td>C</td>\n      <td>0.344</td>\n      <td>19</td>\n      <td>9</td>\n      <td>0/1</td>\n      <td>NaN</td>\n      <td>SNP</td>\n      <td>...</td>\n      <td>NaN</td>\n      <td>NaN</td>\n      <td>NaN</td>\n      <td>NaN</td>\n      <td>ACH-000856</td>\n      <td>64600.0</td>\n      <td>NaN</td>\n      <td>NaN</td>\n      <td>NaN</td>\n      <td>NaN</td>\n    </tr>\n    <tr>\n      <th>37</th>\n      <td>chr1</td>\n      <td>153765060</td>\n      <td>C</td>\n      <td>T</td>\n      <td>0.550</td>\n      <td>18</td>\n      <td>22</td>\n      <td>0/1</td>\n      <td>NaN</td>\n      <td>SNP</td>\n      <td>...</td>\n      <td>NaN</td>\n      <td>NaN</td>\n      <td>NaN</td>\n      <td>NaN</td>\n      <td>ACH-000856</td>\n      <td>65123.0</td>\n      <td>NaN</td>\n      <td>NaN</td>\n      <td>NaN</td>\n      <td>NaN</td>\n    </tr>\n    <tr>\n      <th>60</th>\n      <td>chr2</td>\n      <td>20253922</td>\n      <td>C</td>\n      <td>T</td>\n      <td>0.629</td>\n      <td>13</td>\n      <td>23</td>\n      <td>0/1</td>\n      <td>NaN</td>\n      <td>SNP</td>\n      <td>...</td>\n      <td>NaN</td>\n      <td>NaN</td>\n      <td>NaN</td>\n      <td>NaN</td>\n      <td>ACH-000856</td>\n      <td>23369.0</td>\n      <td>NaN</td>\n      <td>NaN</td>\n      <td>NaN</td>\n      <td>NaN</td>\n    </tr>\n    <tr>\n      <th>66</th>\n      <td>chr2</td>\n      <td>38958128</td>\n      <td>G</td>\n      <td>A</td>\n      <td>0.574</td>\n      <td>10</td>\n      <td>14</td>\n      <td>0/1</td>\n      <td>NaN</td>\n      <td>SNP</td>\n      <td>...</td>\n      <td>NaN</td>\n      <td>NaN</td>\n      <td>NaN</td>\n      <td>NaN</td>\n      <td>ACH-000856</td>\n      <td>100271715.0</td>\n      <td>NaN</td>\n      <td>NaN</td>\n      <td>NaN</td>\n      <td>NaN</td>\n    </tr>\n    <tr>\n      <th>...</th>\n      <td>...</td>\n      <td>...</td>\n      <td>...</td>\n      <td>...</td>\n      <td>...</td>\n      <td>...</td>\n      <td>...</td>\n      <td>...</td>\n      <td>...</td>\n      <td>...</td>\n      <td>...</td>\n      <td>...</td>\n      <td>...</td>\n      <td>...</td>\n      <td>...</td>\n      <td>...</td>\n      <td>...</td>\n      <td>...</td>\n      <td>...</td>\n      <td>...</td>\n      <td>...</td>\n    </tr>\n    <tr>\n      <th>12279</th>\n      <td>chr11</td>\n      <td>64118213</td>\n      <td>C</td>\n      <td>T</td>\n      <td>0.984</td>\n      <td>0</td>\n      <td>60</td>\n      <td>1|1</td>\n      <td>NaN</td>\n      <td>SNP</td>\n      <td>...</td>\n      <td>NaN</td>\n      <td>NaN</td>\n      <td>NaN</td>\n      <td>NaN</td>\n      <td>ACH-000234</td>\n      <td>Unknown</td>\n      <td>NaN</td>\n      <td>NaN</td>\n      <td>NaN</td>\n      <td>NaN</td>\n    </tr>\n    <tr>\n      <th>12289</th>\n      <td>chr12</td>\n      <td>2566502</td>\n      <td>T</td>\n      <td>G</td>\n      <td>0.268</td>\n      <td>7</td>\n      <td>2</td>\n      <td>0|1</td>\n      <td>2566502.0</td>\n      <td>SNP</td>\n      <td>...</td>\n      <td>NaN</td>\n      <td>NaN</td>\n      <td>NaN</td>\n      <td>NaN</td>\n      <td>ACH-000234</td>\n      <td>775.0</td>\n      <td>NaN</td>\n      <td>NaN</td>\n      <td>NaN</td>\n      <td>NaN</td>\n    </tr>\n    <tr>\n      <th>12297</th>\n      <td>chr12</td>\n      <td>70635797</td>\n      <td>G</td>\n      <td>C</td>\n      <td>0.325</td>\n      <td>32</td>\n      <td>15</td>\n      <td>0/1</td>\n      <td>NaN</td>\n      <td>SNP</td>\n      <td>...</td>\n      <td>NaN</td>\n      <td>NaN</td>\n      <td>NaN</td>\n      <td>NaN</td>\n      <td>ACH-000234</td>\n      <td>5787.0</td>\n      <td>NaN</td>\n      <td>NaN</td>\n      <td>NaN</td>\n      <td>NaN</td>\n    </tr>\n    <tr>\n      <th>12299</th>\n      <td>chr12</td>\n      <td>88192668</td>\n      <td>G</td>\n      <td>C</td>\n      <td>0.402</td>\n      <td>58</td>\n      <td>40</td>\n      <td>0/1</td>\n      <td>NaN</td>\n      <td>SNP</td>\n      <td>...</td>\n      <td>NaN</td>\n      <td>NaN</td>\n      <td>NaN</td>\n      <td>NaN</td>\n      <td>ACH-000234</td>\n      <td>160418.0</td>\n      <td>NaN</td>\n      <td>NaN</td>\n      <td>NaN</td>\n      <td>NaN</td>\n    </tr>\n    <tr>\n      <th>12327</th>\n      <td>chr17</td>\n      <td>5105919</td>\n      <td>G</td>\n      <td>A</td>\n      <td>0.477</td>\n      <td>55</td>\n      <td>49</td>\n      <td>0/1</td>\n      <td>NaN</td>\n      <td>SNP</td>\n      <td>...</td>\n      <td>NaN</td>\n      <td>NaN</td>\n      <td>NaN</td>\n      <td>NaN</td>\n      <td>ACH-000234</td>\n      <td>7775.0</td>\n      <td>NaN</td>\n      <td>NaN</td>\n      <td>NaN</td>\n      <td>NaN</td>\n    </tr>\n  </tbody>\n</table>\n<p>428 rows × 60 columns</p>\n</div>"
     },
     "execution_count": 36,
     "metadata": {},
     "output_type": "execute_result"
    }
   ],
   "source": [
    "# Save the rows that still don't have an alpha missense prediction - we will check the isoform data for these:\n",
    "missing_missense_predictions = missense_snp_extended[missense_snp_extended['am_class'].isnull()]\n",
    "\n",
    "missing_missense_predictions"
   ],
   "metadata": {
    "collapsed": false,
    "ExecuteTime": {
     "end_time": "2023-12-29T15:22:02.253578400Z",
     "start_time": "2023-12-29T15:22:02.159401900Z"
    }
   },
   "id": "1b900179f66bdc9e"
  },
  {
   "cell_type": "markdown",
   "source": [
    "### Load and merge the isoform data"
   ],
   "metadata": {
    "collapsed": false
   },
   "id": "75c8eb1b32b30f2f"
  },
  {
   "cell_type": "code",
   "execution_count": 69,
   "outputs": [],
   "source": [
    "# Load and preview the alpha missense data (isoforms)\n",
    "alpha_missense_isoforms = pd.read_csv(data_path + '\\\\alphamissense\\\\AlphaMissense_isoforms_hg38.tsv', skiprows=3, sep='\\t')"
   ],
   "metadata": {
    "collapsed": false,
    "ExecuteTime": {
     "end_time": "2023-12-29T17:28:15.530666300Z",
     "start_time": "2023-12-29T17:24:46.699481100Z"
    }
   },
   "id": "9a12ffc58d39112a"
  },
  {
   "cell_type": "code",
   "execution_count": 70,
   "outputs": [
    {
     "name": "stdout",
     "output_type": "stream",
     "text": [
      "144559028\n"
     ]
    },
    {
     "data": {
      "text/plain": "  #CHROM    POS REF ALT genome      transcript_id protein_variant  \\\n0   chr1  65568   A   C   hg38  ENST00000641515.2             K2Q   \n1   chr1  65568   A   G   hg38  ENST00000641515.2             K2E   \n2   chr1  65569   A   G   hg38  ENST00000641515.2             K2R   \n3   chr1  65569   A   T   hg38  ENST00000641515.2             K2M   \n4   chr1  65569   A   C   hg38  ENST00000641515.2             K2T   \n\n   am_pathogenicity       am_class  \n0            0.0938  likely_benign  \n1            0.0766  likely_benign  \n2            0.0756  likely_benign  \n3            0.1732  likely_benign  \n4            0.1186  likely_benign  ",
      "text/html": "<div>\n<style scoped>\n    .dataframe tbody tr th:only-of-type {\n        vertical-align: middle;\n    }\n\n    .dataframe tbody tr th {\n        vertical-align: top;\n    }\n\n    .dataframe thead th {\n        text-align: right;\n    }\n</style>\n<table border=\"1\" class=\"dataframe\">\n  <thead>\n    <tr style=\"text-align: right;\">\n      <th></th>\n      <th>#CHROM</th>\n      <th>POS</th>\n      <th>REF</th>\n      <th>ALT</th>\n      <th>genome</th>\n      <th>transcript_id</th>\n      <th>protein_variant</th>\n      <th>am_pathogenicity</th>\n      <th>am_class</th>\n    </tr>\n  </thead>\n  <tbody>\n    <tr>\n      <th>0</th>\n      <td>chr1</td>\n      <td>65568</td>\n      <td>A</td>\n      <td>C</td>\n      <td>hg38</td>\n      <td>ENST00000641515.2</td>\n      <td>K2Q</td>\n      <td>0.0938</td>\n      <td>likely_benign</td>\n    </tr>\n    <tr>\n      <th>1</th>\n      <td>chr1</td>\n      <td>65568</td>\n      <td>A</td>\n      <td>G</td>\n      <td>hg38</td>\n      <td>ENST00000641515.2</td>\n      <td>K2E</td>\n      <td>0.0766</td>\n      <td>likely_benign</td>\n    </tr>\n    <tr>\n      <th>2</th>\n      <td>chr1</td>\n      <td>65569</td>\n      <td>A</td>\n      <td>G</td>\n      <td>hg38</td>\n      <td>ENST00000641515.2</td>\n      <td>K2R</td>\n      <td>0.0756</td>\n      <td>likely_benign</td>\n    </tr>\n    <tr>\n      <th>3</th>\n      <td>chr1</td>\n      <td>65569</td>\n      <td>A</td>\n      <td>T</td>\n      <td>hg38</td>\n      <td>ENST00000641515.2</td>\n      <td>K2M</td>\n      <td>0.1732</td>\n      <td>likely_benign</td>\n    </tr>\n    <tr>\n      <th>4</th>\n      <td>chr1</td>\n      <td>65569</td>\n      <td>A</td>\n      <td>C</td>\n      <td>hg38</td>\n      <td>ENST00000641515.2</td>\n      <td>K2T</td>\n      <td>0.1186</td>\n      <td>likely_benign</td>\n    </tr>\n  </tbody>\n</table>\n</div>"
     },
     "execution_count": 70,
     "metadata": {},
     "output_type": "execute_result"
    }
   ],
   "source": [
    "alpha_missense_isoforms_len = len(alpha_missense_isoforms)\n",
    "print(alpha_missense_isoforms_len)\n",
    "\n",
    "alpha_missense_isoform_transcripts = alpha_missense_isoforms['transcript_id'].tolist()\n",
    "\n",
    "alpha_missense_isoforms.head()"
   ],
   "metadata": {
    "collapsed": false,
    "ExecuteTime": {
     "end_time": "2023-12-29T17:28:16.277167700Z",
     "start_time": "2023-12-29T17:28:16.188546500Z"
    }
   },
   "id": "c2bee7dd13ba9602"
  },
  {
   "cell_type": "code",
   "execution_count": 39,
   "outputs": [
    {
     "data": {
      "text/plain": "      Chrom        Pos Ref Alt     AF  RefCount  AltCount   GT  PS  \\\n0      chr1    2789833   C   A  0.534         6         7  0/1 NaN   \n1      chr1   20144618   T   C  0.344        19         9  0/1 NaN   \n2      chr1  153765060   C   T  0.550        18        22  0/1 NaN   \n3      chr1  153765060   C   T  0.550        18        22  0/1 NaN   \n4      chr2   20253922   C   T  0.629        13        23  0/1 NaN   \n...     ...        ...  ..  ..    ...       ...       ...  ...  ..   \n1042  chr12   70635797   G   C  0.325        32        15  0/1 NaN   \n1043  chr12   70635797   G   C  0.325        32        15  0/1 NaN   \n1044  chr12   88192668   G   C  0.402        58        40  0/1 NaN   \n1045  chr17    5105919   G   A  0.477        55        49  0/1 NaN   \n1046  chr17    5105919   G   A  0.477        55        49  0/1 NaN   \n\n     VariantType  ... DidaName GwasDisease GwasPmID GTexGene     ModelID  \\\n0            SNP  ...      NaN         NaN      NaN      NaN  ACH-000856   \n1            SNP  ...      NaN         NaN      NaN      NaN  ACH-000856   \n2            SNP  ...      NaN         NaN      NaN      NaN  ACH-000856   \n3            SNP  ...      NaN         NaN      NaN      NaN  ACH-000856   \n4            SNP  ...      NaN         NaN      NaN      NaN  ACH-000856   \n...          ...  ...      ...         ...      ...      ...         ...   \n1042         SNP  ...      NaN         NaN      NaN      NaN  ACH-000234   \n1043         SNP  ...      NaN         NaN      NaN      NaN  ACH-000234   \n1044         SNP  ...      NaN         NaN      NaN      NaN  ACH-000234   \n1045         SNP  ...      NaN         NaN      NaN      NaN  ACH-000234   \n1046         SNP  ...      NaN         NaN      NaN      NaN  ACH-000234   \n\n     EntrezGeneID       transcript_id  am_pathogenicity           am_class  \\\n0     100287898.0   ENST00000401095.8            0.0870      likely_benign   \n1         64600.0   ENST00000375102.3            0.5294          ambiguous   \n2         65123.0   ENST00000435409.6            0.3609          ambiguous   \n3         65123.0   ENST00000512605.4            0.3640          ambiguous   \n4         23369.0   ENST00000403432.5            0.6862  likely_pathogenic   \n...           ...                 ...               ...                ...   \n1042       5787.0   ENST00000550358.5            0.1129      likely_benign   \n1043       5787.0   ENST00000551525.5            0.1061      likely_benign   \n1044     160418.0  ENST00000266712.11            0.1018      likely_benign   \n1045       7775.0   ENST00000575898.5            0.9779  likely_pathogenic   \n1046       7775.0   ENST00000250076.7            0.9664  likely_pathogenic   \n\n     am_source  \n0      isoform  \n1      isoform  \n2      isoform  \n3      isoform  \n4      isoform  \n...        ...  \n1042   isoform  \n1043   isoform  \n1044   isoform  \n1045   isoform  \n1046   isoform  \n\n[1047 rows x 60 columns]",
      "text/html": "<div>\n<style scoped>\n    .dataframe tbody tr th:only-of-type {\n        vertical-align: middle;\n    }\n\n    .dataframe tbody tr th {\n        vertical-align: top;\n    }\n\n    .dataframe thead th {\n        text-align: right;\n    }\n</style>\n<table border=\"1\" class=\"dataframe\">\n  <thead>\n    <tr style=\"text-align: right;\">\n      <th></th>\n      <th>Chrom</th>\n      <th>Pos</th>\n      <th>Ref</th>\n      <th>Alt</th>\n      <th>AF</th>\n      <th>RefCount</th>\n      <th>AltCount</th>\n      <th>GT</th>\n      <th>PS</th>\n      <th>VariantType</th>\n      <th>...</th>\n      <th>DidaName</th>\n      <th>GwasDisease</th>\n      <th>GwasPmID</th>\n      <th>GTexGene</th>\n      <th>ModelID</th>\n      <th>EntrezGeneID</th>\n      <th>transcript_id</th>\n      <th>am_pathogenicity</th>\n      <th>am_class</th>\n      <th>am_source</th>\n    </tr>\n  </thead>\n  <tbody>\n    <tr>\n      <th>0</th>\n      <td>chr1</td>\n      <td>2789833</td>\n      <td>C</td>\n      <td>A</td>\n      <td>0.534</td>\n      <td>6</td>\n      <td>7</td>\n      <td>0/1</td>\n      <td>NaN</td>\n      <td>SNP</td>\n      <td>...</td>\n      <td>NaN</td>\n      <td>NaN</td>\n      <td>NaN</td>\n      <td>NaN</td>\n      <td>ACH-000856</td>\n      <td>100287898.0</td>\n      <td>ENST00000401095.8</td>\n      <td>0.0870</td>\n      <td>likely_benign</td>\n      <td>isoform</td>\n    </tr>\n    <tr>\n      <th>1</th>\n      <td>chr1</td>\n      <td>20144618</td>\n      <td>T</td>\n      <td>C</td>\n      <td>0.344</td>\n      <td>19</td>\n      <td>9</td>\n      <td>0/1</td>\n      <td>NaN</td>\n      <td>SNP</td>\n      <td>...</td>\n      <td>NaN</td>\n      <td>NaN</td>\n      <td>NaN</td>\n      <td>NaN</td>\n      <td>ACH-000856</td>\n      <td>64600.0</td>\n      <td>ENST00000375102.3</td>\n      <td>0.5294</td>\n      <td>ambiguous</td>\n      <td>isoform</td>\n    </tr>\n    <tr>\n      <th>2</th>\n      <td>chr1</td>\n      <td>153765060</td>\n      <td>C</td>\n      <td>T</td>\n      <td>0.550</td>\n      <td>18</td>\n      <td>22</td>\n      <td>0/1</td>\n      <td>NaN</td>\n      <td>SNP</td>\n      <td>...</td>\n      <td>NaN</td>\n      <td>NaN</td>\n      <td>NaN</td>\n      <td>NaN</td>\n      <td>ACH-000856</td>\n      <td>65123.0</td>\n      <td>ENST00000435409.6</td>\n      <td>0.3609</td>\n      <td>ambiguous</td>\n      <td>isoform</td>\n    </tr>\n    <tr>\n      <th>3</th>\n      <td>chr1</td>\n      <td>153765060</td>\n      <td>C</td>\n      <td>T</td>\n      <td>0.550</td>\n      <td>18</td>\n      <td>22</td>\n      <td>0/1</td>\n      <td>NaN</td>\n      <td>SNP</td>\n      <td>...</td>\n      <td>NaN</td>\n      <td>NaN</td>\n      <td>NaN</td>\n      <td>NaN</td>\n      <td>ACH-000856</td>\n      <td>65123.0</td>\n      <td>ENST00000512605.4</td>\n      <td>0.3640</td>\n      <td>ambiguous</td>\n      <td>isoform</td>\n    </tr>\n    <tr>\n      <th>4</th>\n      <td>chr2</td>\n      <td>20253922</td>\n      <td>C</td>\n      <td>T</td>\n      <td>0.629</td>\n      <td>13</td>\n      <td>23</td>\n      <td>0/1</td>\n      <td>NaN</td>\n      <td>SNP</td>\n      <td>...</td>\n      <td>NaN</td>\n      <td>NaN</td>\n      <td>NaN</td>\n      <td>NaN</td>\n      <td>ACH-000856</td>\n      <td>23369.0</td>\n      <td>ENST00000403432.5</td>\n      <td>0.6862</td>\n      <td>likely_pathogenic</td>\n      <td>isoform</td>\n    </tr>\n    <tr>\n      <th>...</th>\n      <td>...</td>\n      <td>...</td>\n      <td>...</td>\n      <td>...</td>\n      <td>...</td>\n      <td>...</td>\n      <td>...</td>\n      <td>...</td>\n      <td>...</td>\n      <td>...</td>\n      <td>...</td>\n      <td>...</td>\n      <td>...</td>\n      <td>...</td>\n      <td>...</td>\n      <td>...</td>\n      <td>...</td>\n      <td>...</td>\n      <td>...</td>\n      <td>...</td>\n      <td>...</td>\n    </tr>\n    <tr>\n      <th>1042</th>\n      <td>chr12</td>\n      <td>70635797</td>\n      <td>G</td>\n      <td>C</td>\n      <td>0.325</td>\n      <td>32</td>\n      <td>15</td>\n      <td>0/1</td>\n      <td>NaN</td>\n      <td>SNP</td>\n      <td>...</td>\n      <td>NaN</td>\n      <td>NaN</td>\n      <td>NaN</td>\n      <td>NaN</td>\n      <td>ACH-000234</td>\n      <td>5787.0</td>\n      <td>ENST00000550358.5</td>\n      <td>0.1129</td>\n      <td>likely_benign</td>\n      <td>isoform</td>\n    </tr>\n    <tr>\n      <th>1043</th>\n      <td>chr12</td>\n      <td>70635797</td>\n      <td>G</td>\n      <td>C</td>\n      <td>0.325</td>\n      <td>32</td>\n      <td>15</td>\n      <td>0/1</td>\n      <td>NaN</td>\n      <td>SNP</td>\n      <td>...</td>\n      <td>NaN</td>\n      <td>NaN</td>\n      <td>NaN</td>\n      <td>NaN</td>\n      <td>ACH-000234</td>\n      <td>5787.0</td>\n      <td>ENST00000551525.5</td>\n      <td>0.1061</td>\n      <td>likely_benign</td>\n      <td>isoform</td>\n    </tr>\n    <tr>\n      <th>1044</th>\n      <td>chr12</td>\n      <td>88192668</td>\n      <td>G</td>\n      <td>C</td>\n      <td>0.402</td>\n      <td>58</td>\n      <td>40</td>\n      <td>0/1</td>\n      <td>NaN</td>\n      <td>SNP</td>\n      <td>...</td>\n      <td>NaN</td>\n      <td>NaN</td>\n      <td>NaN</td>\n      <td>NaN</td>\n      <td>ACH-000234</td>\n      <td>160418.0</td>\n      <td>ENST00000266712.11</td>\n      <td>0.1018</td>\n      <td>likely_benign</td>\n      <td>isoform</td>\n    </tr>\n    <tr>\n      <th>1045</th>\n      <td>chr17</td>\n      <td>5105919</td>\n      <td>G</td>\n      <td>A</td>\n      <td>0.477</td>\n      <td>55</td>\n      <td>49</td>\n      <td>0/1</td>\n      <td>NaN</td>\n      <td>SNP</td>\n      <td>...</td>\n      <td>NaN</td>\n      <td>NaN</td>\n      <td>NaN</td>\n      <td>NaN</td>\n      <td>ACH-000234</td>\n      <td>7775.0</td>\n      <td>ENST00000575898.5</td>\n      <td>0.9779</td>\n      <td>likely_pathogenic</td>\n      <td>isoform</td>\n    </tr>\n    <tr>\n      <th>1046</th>\n      <td>chr17</td>\n      <td>5105919</td>\n      <td>G</td>\n      <td>A</td>\n      <td>0.477</td>\n      <td>55</td>\n      <td>49</td>\n      <td>0/1</td>\n      <td>NaN</td>\n      <td>SNP</td>\n      <td>...</td>\n      <td>NaN</td>\n      <td>NaN</td>\n      <td>NaN</td>\n      <td>NaN</td>\n      <td>ACH-000234</td>\n      <td>7775.0</td>\n      <td>ENST00000250076.7</td>\n      <td>0.9664</td>\n      <td>likely_pathogenic</td>\n      <td>isoform</td>\n    </tr>\n  </tbody>\n</table>\n<p>1047 rows × 60 columns</p>\n</div>"
     },
     "execution_count": 39,
     "metadata": {},
     "output_type": "execute_result"
    }
   ],
   "source": [
    "# Rename columns in alpha_missense_isoforms df to match those in missense_snp_extended for the merging criteria\n",
    "alpha_missense_isoforms.rename(columns={'#CHROM': 'Chrom', 'POS': 'Pos', 'REF': 'Ref', 'ALT': 'Alt'}, inplace=True)\n",
    "\n",
    "# Add a column, so we can later identify the source of the data when merged\n",
    "alpha_missense_isoforms['am_source'] = 'isoform'\n",
    "\n",
    "# These cols were added during the forst merge. Drop them so we can add them again, otherwise we wil  get _x _y appended cols\n",
    "missing_missense_predictions = missing_missense_predictions.drop(columns=['transcript_id', 'am_pathogenicity', 'am_class', 'am_source']) \n",
    "\n",
    "# Now, merge the DataFrames\n",
    "missing_missense_predictions = missing_missense_predictions.merge(alpha_missense_isoforms[['Chrom', 'Pos', 'Ref', 'Alt', 'transcript_id', 'am_pathogenicity', 'am_class', 'am_source']], \n",
    "                on=['Chrom', 'Pos', 'Ref', 'Alt'], \n",
    "                how='left')\n",
    "\n",
    "#del alpha_missense_isoforms\n",
    "\n",
    "missing_missense_predictions"
   ],
   "metadata": {
    "collapsed": false,
    "ExecuteTime": {
     "end_time": "2023-12-29T15:26:30.865150100Z",
     "start_time": "2023-12-29T15:24:41.951162200Z"
    }
   },
   "id": "97033c8e10a3cd56"
  },
  {
   "cell_type": "code",
   "execution_count": 40,
   "outputs": [],
   "source": [
    "# Drop duplicates\n",
    "#missing_missense_predictions.drop_duplicates(subset=['Chrom', 'Pos', 'Ref', 'Alt', 'DNAChange', 'ProteinChange', 'HugoSymbol', 'Transcript', 'am_class'], keep=False)\n",
    "missing_missense_predictions = missing_missense_predictions.drop_duplicates(subset=['Chrom', 'Pos', 'Ref', 'Alt', 'am_class'], keep=\"first\")"
   ],
   "metadata": {
    "collapsed": false,
    "ExecuteTime": {
     "end_time": "2023-12-29T15:26:31.006179900Z",
     "start_time": "2023-12-29T15:26:30.802240200Z"
    }
   },
   "id": "392fd7851b72a0db"
  },
  {
   "cell_type": "code",
   "execution_count": 41,
   "outputs": [],
   "source": [
    "missense_snp_complete = pd.concat([missense_snp_extended, missing_missense_predictions], axis=0, ignore_index=True)"
   ],
   "metadata": {
    "collapsed": false,
    "ExecuteTime": {
     "end_time": "2023-12-29T15:26:31.391695100Z",
     "start_time": "2023-12-29T15:26:30.833893600Z"
    }
   },
   "id": "6640e8fe0a59088d"
  },
  {
   "cell_type": "code",
   "execution_count": 42,
   "outputs": [
    {
     "data": {
      "text/plain": "       Chrom       Pos Ref Alt     AF  RefCount  AltCount   GT         PS  \\\n0       chr1    963249   G   A  0.303        22         9  0/1        NaN   \n1       chr1   2412394   C   T  0.391        14         8  0/1        NaN   \n2       chr1   2512914   G   T  0.488        21        19  0/1        NaN   \n3       chr1   2561696   C   T  0.320        24        12  0/1        NaN   \n4       chr1   2789833   C   A  0.534         6         7  0/1        NaN   \n...      ...       ...  ..  ..    ...       ...       ...  ...        ...   \n12229  chr11  64118213   C   T  0.984         0        60  1|1        NaN   \n12230  chr12   2566502   T   G  0.268         7         2  0|1  2566502.0   \n12231  chr12  70635797   G   C  0.325        32        15  0/1        NaN   \n12232  chr12  88192668   G   C  0.402        58        40  0/1        NaN   \n12233  chr17   5105919   G   A  0.477        55        49  0/1        NaN   \n\n      VariantType  ... DidaName GwasDisease GwasPmID GTexGene     ModelID  \\\n0             SNP  ...      NaN         NaN      NaN      NaN  ACH-000856   \n1             SNP  ...      NaN         NaN      NaN      NaN  ACH-000856   \n2             SNP  ...      NaN         NaN      NaN      NaN  ACH-000856   \n3             SNP  ...      NaN         NaN      NaN      NaN  ACH-000856   \n4             SNP  ...      NaN         NaN      NaN      NaN  ACH-000856   \n...           ...  ...      ...         ...      ...      ...         ...   \n12229         SNP  ...      NaN         NaN      NaN      NaN  ACH-000234   \n12230         SNP  ...      NaN         NaN      NaN      NaN  ACH-000234   \n12231         SNP  ...      NaN         NaN      NaN      NaN  ACH-000234   \n12232         SNP  ...      NaN         NaN      NaN      NaN  ACH-000234   \n12233         SNP  ...      NaN         NaN      NaN      NaN  ACH-000234   \n\n      EntrezGeneID       transcript_id  am_pathogenicity           am_class  \\\n0         339451.0   ENST00000338591.8            0.9941  likely_pathogenic   \n1           5192.0   ENST00000447513.6            0.1815      likely_benign   \n2          55229.0   ENST00000378466.9            0.9989  likely_pathogenic   \n3           8764.0   ENST00000355716.4            0.1136      likely_benign   \n4      100287898.0                 NaN               NaN                NaN   \n...            ...                 ...               ...                ...   \n12229      Unknown   ENST00000246841.3            0.1162      likely_benign   \n12230        775.0   ENST00000399655.6            0.9342  likely_pathogenic   \n12231       5787.0  ENST00000334414.10            0.0939      likely_benign   \n12232     160418.0  ENST00000266712.11            0.1018      likely_benign   \n12233       7775.0   ENST00000575898.5            0.9779  likely_pathogenic   \n\n      am_source  \n0       primary  \n1       primary  \n2       primary  \n3       primary  \n4           NaN  \n...         ...  \n12229   isoform  \n12230   isoform  \n12231   isoform  \n12232   isoform  \n12233   isoform  \n\n[12234 rows x 60 columns]",
      "text/html": "<div>\n<style scoped>\n    .dataframe tbody tr th:only-of-type {\n        vertical-align: middle;\n    }\n\n    .dataframe tbody tr th {\n        vertical-align: top;\n    }\n\n    .dataframe thead th {\n        text-align: right;\n    }\n</style>\n<table border=\"1\" class=\"dataframe\">\n  <thead>\n    <tr style=\"text-align: right;\">\n      <th></th>\n      <th>Chrom</th>\n      <th>Pos</th>\n      <th>Ref</th>\n      <th>Alt</th>\n      <th>AF</th>\n      <th>RefCount</th>\n      <th>AltCount</th>\n      <th>GT</th>\n      <th>PS</th>\n      <th>VariantType</th>\n      <th>...</th>\n      <th>DidaName</th>\n      <th>GwasDisease</th>\n      <th>GwasPmID</th>\n      <th>GTexGene</th>\n      <th>ModelID</th>\n      <th>EntrezGeneID</th>\n      <th>transcript_id</th>\n      <th>am_pathogenicity</th>\n      <th>am_class</th>\n      <th>am_source</th>\n    </tr>\n  </thead>\n  <tbody>\n    <tr>\n      <th>0</th>\n      <td>chr1</td>\n      <td>963249</td>\n      <td>G</td>\n      <td>A</td>\n      <td>0.303</td>\n      <td>22</td>\n      <td>9</td>\n      <td>0/1</td>\n      <td>NaN</td>\n      <td>SNP</td>\n      <td>...</td>\n      <td>NaN</td>\n      <td>NaN</td>\n      <td>NaN</td>\n      <td>NaN</td>\n      <td>ACH-000856</td>\n      <td>339451.0</td>\n      <td>ENST00000338591.8</td>\n      <td>0.9941</td>\n      <td>likely_pathogenic</td>\n      <td>primary</td>\n    </tr>\n    <tr>\n      <th>1</th>\n      <td>chr1</td>\n      <td>2412394</td>\n      <td>C</td>\n      <td>T</td>\n      <td>0.391</td>\n      <td>14</td>\n      <td>8</td>\n      <td>0/1</td>\n      <td>NaN</td>\n      <td>SNP</td>\n      <td>...</td>\n      <td>NaN</td>\n      <td>NaN</td>\n      <td>NaN</td>\n      <td>NaN</td>\n      <td>ACH-000856</td>\n      <td>5192.0</td>\n      <td>ENST00000447513.6</td>\n      <td>0.1815</td>\n      <td>likely_benign</td>\n      <td>primary</td>\n    </tr>\n    <tr>\n      <th>2</th>\n      <td>chr1</td>\n      <td>2512914</td>\n      <td>G</td>\n      <td>T</td>\n      <td>0.488</td>\n      <td>21</td>\n      <td>19</td>\n      <td>0/1</td>\n      <td>NaN</td>\n      <td>SNP</td>\n      <td>...</td>\n      <td>NaN</td>\n      <td>NaN</td>\n      <td>NaN</td>\n      <td>NaN</td>\n      <td>ACH-000856</td>\n      <td>55229.0</td>\n      <td>ENST00000378466.9</td>\n      <td>0.9989</td>\n      <td>likely_pathogenic</td>\n      <td>primary</td>\n    </tr>\n    <tr>\n      <th>3</th>\n      <td>chr1</td>\n      <td>2561696</td>\n      <td>C</td>\n      <td>T</td>\n      <td>0.320</td>\n      <td>24</td>\n      <td>12</td>\n      <td>0/1</td>\n      <td>NaN</td>\n      <td>SNP</td>\n      <td>...</td>\n      <td>NaN</td>\n      <td>NaN</td>\n      <td>NaN</td>\n      <td>NaN</td>\n      <td>ACH-000856</td>\n      <td>8764.0</td>\n      <td>ENST00000355716.4</td>\n      <td>0.1136</td>\n      <td>likely_benign</td>\n      <td>primary</td>\n    </tr>\n    <tr>\n      <th>4</th>\n      <td>chr1</td>\n      <td>2789833</td>\n      <td>C</td>\n      <td>A</td>\n      <td>0.534</td>\n      <td>6</td>\n      <td>7</td>\n      <td>0/1</td>\n      <td>NaN</td>\n      <td>SNP</td>\n      <td>...</td>\n      <td>NaN</td>\n      <td>NaN</td>\n      <td>NaN</td>\n      <td>NaN</td>\n      <td>ACH-000856</td>\n      <td>100287898.0</td>\n      <td>NaN</td>\n      <td>NaN</td>\n      <td>NaN</td>\n      <td>NaN</td>\n    </tr>\n    <tr>\n      <th>...</th>\n      <td>...</td>\n      <td>...</td>\n      <td>...</td>\n      <td>...</td>\n      <td>...</td>\n      <td>...</td>\n      <td>...</td>\n      <td>...</td>\n      <td>...</td>\n      <td>...</td>\n      <td>...</td>\n      <td>...</td>\n      <td>...</td>\n      <td>...</td>\n      <td>...</td>\n      <td>...</td>\n      <td>...</td>\n      <td>...</td>\n      <td>...</td>\n      <td>...</td>\n      <td>...</td>\n    </tr>\n    <tr>\n      <th>12229</th>\n      <td>chr11</td>\n      <td>64118213</td>\n      <td>C</td>\n      <td>T</td>\n      <td>0.984</td>\n      <td>0</td>\n      <td>60</td>\n      <td>1|1</td>\n      <td>NaN</td>\n      <td>SNP</td>\n      <td>...</td>\n      <td>NaN</td>\n      <td>NaN</td>\n      <td>NaN</td>\n      <td>NaN</td>\n      <td>ACH-000234</td>\n      <td>Unknown</td>\n      <td>ENST00000246841.3</td>\n      <td>0.1162</td>\n      <td>likely_benign</td>\n      <td>isoform</td>\n    </tr>\n    <tr>\n      <th>12230</th>\n      <td>chr12</td>\n      <td>2566502</td>\n      <td>T</td>\n      <td>G</td>\n      <td>0.268</td>\n      <td>7</td>\n      <td>2</td>\n      <td>0|1</td>\n      <td>2566502.0</td>\n      <td>SNP</td>\n      <td>...</td>\n      <td>NaN</td>\n      <td>NaN</td>\n      <td>NaN</td>\n      <td>NaN</td>\n      <td>ACH-000234</td>\n      <td>775.0</td>\n      <td>ENST00000399655.6</td>\n      <td>0.9342</td>\n      <td>likely_pathogenic</td>\n      <td>isoform</td>\n    </tr>\n    <tr>\n      <th>12231</th>\n      <td>chr12</td>\n      <td>70635797</td>\n      <td>G</td>\n      <td>C</td>\n      <td>0.325</td>\n      <td>32</td>\n      <td>15</td>\n      <td>0/1</td>\n      <td>NaN</td>\n      <td>SNP</td>\n      <td>...</td>\n      <td>NaN</td>\n      <td>NaN</td>\n      <td>NaN</td>\n      <td>NaN</td>\n      <td>ACH-000234</td>\n      <td>5787.0</td>\n      <td>ENST00000334414.10</td>\n      <td>0.0939</td>\n      <td>likely_benign</td>\n      <td>isoform</td>\n    </tr>\n    <tr>\n      <th>12232</th>\n      <td>chr12</td>\n      <td>88192668</td>\n      <td>G</td>\n      <td>C</td>\n      <td>0.402</td>\n      <td>58</td>\n      <td>40</td>\n      <td>0/1</td>\n      <td>NaN</td>\n      <td>SNP</td>\n      <td>...</td>\n      <td>NaN</td>\n      <td>NaN</td>\n      <td>NaN</td>\n      <td>NaN</td>\n      <td>ACH-000234</td>\n      <td>160418.0</td>\n      <td>ENST00000266712.11</td>\n      <td>0.1018</td>\n      <td>likely_benign</td>\n      <td>isoform</td>\n    </tr>\n    <tr>\n      <th>12233</th>\n      <td>chr17</td>\n      <td>5105919</td>\n      <td>G</td>\n      <td>A</td>\n      <td>0.477</td>\n      <td>55</td>\n      <td>49</td>\n      <td>0/1</td>\n      <td>NaN</td>\n      <td>SNP</td>\n      <td>...</td>\n      <td>NaN</td>\n      <td>NaN</td>\n      <td>NaN</td>\n      <td>NaN</td>\n      <td>ACH-000234</td>\n      <td>7775.0</td>\n      <td>ENST00000575898.5</td>\n      <td>0.9779</td>\n      <td>likely_pathogenic</td>\n      <td>isoform</td>\n    </tr>\n  </tbody>\n</table>\n<p>12234 rows × 60 columns</p>\n</div>"
     },
     "execution_count": 42,
     "metadata": {},
     "output_type": "execute_result"
    }
   ],
   "source": [
    "missense_snp_complete"
   ],
   "metadata": {
    "collapsed": false,
    "ExecuteTime": {
     "end_time": "2023-12-29T15:26:31.407319700Z",
     "start_time": "2023-12-29T15:26:31.037839800Z"
    }
   },
   "id": "6dd2505ea851e4cc"
  },
  {
   "cell_type": "code",
   "execution_count": 43,
   "outputs": [],
   "source": [
    "# remove duplicates\n",
    "missense_snp_complete = missense_snp_complete.drop_duplicates(subset=['Chrom', 'Pos', 'Ref', 'Alt','am_class'], keep=\"first\")"
   ],
   "metadata": {
    "collapsed": false,
    "ExecuteTime": {
     "end_time": "2023-12-29T15:26:31.580007Z",
     "start_time": "2023-12-29T15:26:31.078494300Z"
    }
   },
   "id": "b158c37d2a7ae28b"
  },
  {
   "cell_type": "code",
   "execution_count": 62,
   "outputs": [],
   "source": [
    "# remove anything will a null am_class\n",
    "missense_snp_complete = missense_snp_complete[~missense_snp_complete['am_class'].isnull()]\n",
    "\n",
    "missense_complete_duplicates = missense_snp_complete[missense_snp_complete.duplicated(subset=['Pos', 'Ref', 'Alt'], keep=False)]"
   ],
   "metadata": {
    "collapsed": false,
    "ExecuteTime": {
     "end_time": "2023-12-29T16:41:33.876693200Z",
     "start_time": "2023-12-29T16:41:33.845421700Z"
    }
   },
   "id": "baab787264ee536c"
  },
  {
   "cell_type": "code",
   "execution_count": 89,
   "outputs": [
    {
     "data": {
      "text/plain": "       Chrom        Pos Ref Alt     AF  RefCount  AltCount   GT          PS  \\\n11783   chr2   20253922   C   T  0.629        13        23  0/1         NaN   \n11784   chr2   20253922   C   T  0.629        13        23  0/1         NaN   \n11797  chr14   77822473   G   C  0.467        15        13  0/1         NaN   \n11798  chr14   77822473   G   C  0.467        15        13  0/1         NaN   \n11819   chr3   65356554   G   C  0.434        12        11  0/1         NaN   \n11820   chr3   65356554   G   C  0.434        12        11  0/1         NaN   \n11844  chr11   65121571   T   C  0.176        41         8  0/1         NaN   \n11845  chr11   65121571   T   C  0.176        41         8  0/1         NaN   \n11847  chr12   80265109   A   T  0.345        19         9  0/1         NaN   \n11848  chr12   80265109   A   T  0.345        19         9  0/1         NaN   \n11855   chr6  160599542   G   A  0.339        18         8  0/1         NaN   \n11856   chr6  160599542   G   A  0.339        18         8  0/1         NaN   \n11860  chr17   75624851   C   T  0.195        59        14  0/1         NaN   \n11861  chr17   75624851   C   T  0.195        59        14  0/1         NaN   \n11902  chr12    2633710   A   C  0.259        20         6  0/1         NaN   \n11903  chr12    2633710   A   C  0.259        20         6  0/1         NaN   \n11920  chr14   60245872   G   C  0.957         0        22  1|1  60245872.0   \n11921  chr14   60245872   G   C  0.957         0        22  1|1  60245872.0   \n11925   chr1  148569398   C   T  0.800         0         3  0/1         NaN   \n11926   chr1  148569398   C   T  0.800         0         3  0/1         NaN   \n11940   chr4  113374768   C   T  0.516        14        16  0/1         NaN   \n11941   chr4  113374768   C   T  0.516        14        16  0/1         NaN   \n11973   chr2  130915847   T   A  0.200        17         3  0/1         NaN   \n11974   chr2  130915847   T   A  0.200        17         3  0/1         NaN   \n11985  chr16   71923370   C   G  0.433        19        12  0/1         NaN   \n11986  chr16   71923370   C   G  0.433        19        12  0/1         NaN   \n11998  chr19   52774639   G   T  0.230        20         5  0/1         NaN   \n11999  chr19   52774639   G   T  0.230        20         5  0/1         NaN   \n12003   chr7     843437   C   T  0.322       138        63  0/1         NaN   \n12004   chr7     843437   C   T  0.322       138        63  0/1         NaN   \n12020   chr4  159241340   A   C  0.500         1         2  0/1         NaN   \n12021   chr4  159241340   A   C  0.500         1         2  0/1         NaN   \n12024  chr12   80339163   C   A  0.493       151       143  0/1         NaN   \n12025  chr12   80339163   C   A  0.493       151       143  0/1         NaN   \n12032   chr2  152662605   C   G  0.294        23         9  0/1         NaN   \n12033   chr2  152662605   C   G  0.294        23         9  0/1         NaN   \n12040  chr17   27617317   C   T  0.332        15         6  0/1         NaN   \n12041  chr17   27617317   C   T  0.332        15         6  0/1         NaN   \n12081  chr11   32435168   C   T  0.615        41        64  0/1         NaN   \n12082  chr11   32435168   C   T  0.615        41        64  0/1         NaN   \n12163  chr19   52451209   C   A  0.764         0         2  0/1         NaN   \n12164  chr19   52451209   C   A  0.764         0         2  0/1         NaN   \n12169  chr10  114214051   G   C  0.380        98        58  0/1         NaN   \n12170  chr10  114214051   G   C  0.380        98        58  0/1         NaN   \n12176   chr2   26346137   G   C  0.671        49        99  0/1         NaN   \n12177   chr2   26346137   G   C  0.671        49        99  0/1         NaN   \n12203   chr7   92123771   C   A  0.918         5        67  1|1         NaN   \n12204   chr7   92123771   C   A  0.918         5        67  1|1         NaN   \n12207  chr12   43452396   G   T  0.353       155        85  0/1         NaN   \n12208  chr12   43452396   G   T  0.353       155        85  0/1         NaN   \n12225  chr19   54633054   G   T  0.209        93        24  0/1         NaN   \n12226  chr19   54633054   G   T  0.209        93        24  0/1         NaN   \n\n      VariantType  ... DidaName GwasDisease GwasPmID GTexGene     ModelID  \\\n11783         SNP  ...      NaN         NaN      NaN      NaN  ACH-000856   \n11784         SNP  ...      NaN         NaN      NaN      NaN  ACH-000856   \n11797         SNP  ...      NaN         NaN      NaN      NaN  ACH-000856   \n11798         SNP  ...      NaN         NaN      NaN      NaN  ACH-000856   \n11819         SNP  ...      NaN         NaN      NaN      NaN  ACH-000097   \n11820         SNP  ...      NaN         NaN      NaN      NaN  ACH-000097   \n11844         SNP  ...      NaN         NaN      NaN      NaN  ACH-000725   \n11845         SNP  ...      NaN         NaN      NaN      NaN  ACH-000725   \n11847         SNP  ...      NaN         NaN      NaN      NaN  ACH-000725   \n11848         SNP  ...      NaN         NaN      NaN      NaN  ACH-000725   \n11855         SNP  ...      NaN         NaN      NaN      NaN  ACH-000621   \n11856         SNP  ...      NaN         NaN      NaN      NaN  ACH-000621   \n11860         SNP  ...      NaN         NaN      NaN      NaN  ACH-000621   \n11861         SNP  ...      NaN         NaN      NaN      NaN  ACH-000621   \n11902         SNP  ...      NaN         NaN      NaN      NaN  ACH-000910   \n11903         SNP  ...      NaN         NaN      NaN      NaN  ACH-000910   \n11920         SNP  ...      NaN         NaN      NaN      NaN  ACH-000159   \n11921         SNP  ...      NaN         NaN      NaN      NaN  ACH-000159   \n11925         SNP  ...      NaN         NaN      NaN      NaN  ACH-000792   \n11926         SNP  ...      NaN         NaN      NaN      NaN  ACH-000792   \n11940         SNP  ...      NaN         NaN      NaN      NaN  ACH-000859   \n11941         SNP  ...      NaN         NaN      NaN      NaN  ACH-000859   \n11973         SNP  ...      NaN         NaN      NaN      NaN  ACH-000352   \n11974         SNP  ...      NaN         NaN      NaN      NaN  ACH-000352   \n11985         SNP  ...      NaN         NaN      NaN      NaN  ACH-000352   \n11986         SNP  ...      NaN         NaN      NaN      NaN  ACH-000352   \n11998         SNP  ...      NaN         NaN      NaN      NaN  ACH-000768   \n11999         SNP  ...      NaN         NaN      NaN      NaN  ACH-000768   \n12003         SNP  ...      NaN         NaN      NaN      NaN  ACH-000374   \n12004         SNP  ...      NaN         NaN      NaN      NaN  ACH-000374   \n12020         SNP  ...      NaN         NaN      NaN      NaN  ACH-000624   \n12021         SNP  ...      NaN         NaN      NaN      NaN  ACH-000624   \n12024         SNP  ...      NaN         NaN      NaN      NaN  ACH-000624   \n12025         SNP  ...      NaN         NaN      NaN      NaN  ACH-000624   \n12032         SNP  ...      NaN         NaN      NaN      NaN  ACH-000907   \n12033         SNP  ...      NaN         NaN      NaN      NaN  ACH-000907   \n12040         SNP  ...      NaN         NaN      NaN      NaN  ACH-000907   \n12041         SNP  ...      NaN         NaN      NaN      NaN  ACH-000907   \n12081         SNP  ...      NaN         NaN      NaN      NaN  ACH-000262   \n12082         SNP  ...      NaN         NaN      NaN      NaN  ACH-000262   \n12163         SNP  ...      NaN         NaN      NaN      NaN  ACH-000222   \n12164         SNP  ...      NaN         NaN      NaN      NaN  ACH-000222   \n12169         SNP  ...      NaN         NaN      NaN      NaN  ACH-000138   \n12170         SNP  ...      NaN         NaN      NaN      NaN  ACH-000138   \n12176         SNP  ...      NaN         NaN      NaN      NaN  ACH-000246   \n12177         SNP  ...      NaN         NaN      NaN      NaN  ACH-000246   \n12203         SNP  ...      NaN         NaN      NaN      NaN  ACH-000320   \n12204         SNP  ...      NaN         NaN      NaN      NaN  ACH-000320   \n12207         SNP  ...      NaN         NaN      NaN      NaN  ACH-000320   \n12208         SNP  ...      NaN         NaN      NaN      NaN  ACH-000320   \n12225         SNP  ...      NaN         NaN      NaN      NaN  ACH-000148   \n12226         SNP  ...      NaN         NaN      NaN      NaN  ACH-000148   \n\n      EntrezGeneID       transcript_id  am_pathogenicity           am_class  \\\n11783      23369.0   ENST00000403432.5            0.6862  likely_pathogenic   \n11784      23369.0   ENST00000319801.9            0.3923          ambiguous   \n11797      57143.0  ENST00000238561.10            0.2329      likely_benign   \n11798      57143.0   ENST00000556048.5            0.5121          ambiguous   \n11819      Unknown   ENST00000621418.4            0.5399          ambiguous   \n11820      Unknown   ENST00000402939.6            0.2632      likely_benign   \n11844       2197.0   ENST00000527548.5            0.2911      likely_benign   \n11845       2197.0   ENST00000279259.7            0.3802          ambiguous   \n11847     283310.0   ENST00000646859.1            0.5856  likely_pathogenic   \n11848     283310.0   ENST00000547103.6            0.4175          ambiguous   \n11855       4018.0   ENST00000316300.9            0.3667          ambiguous   \n11856       4018.0   ENST00000447678.2            0.1684      likely_benign   \n11860      80022.0   ENST00000642007.1            0.5275          ambiguous   \n11861      80022.0   ENST00000645453.3            0.6167  likely_pathogenic   \n11902        775.0   ENST00000399603.6            0.1007      likely_benign   \n11903        775.0   ENST00000347598.9            0.5205          ambiguous   \n11920       5494.0   ENST00000325642.7            0.1660      likely_benign   \n11921       5494.0   ENST00000531143.6            0.6981  likely_pathogenic   \n11925      25832.0   ENST00000621066.4            0.1879      likely_benign   \n11926      25832.0   ENST00000619423.4            0.5116          ambiguous   \n11940        287.0   ENST00000672356.1            0.3579          ambiguous   \n11941        287.0   ENST00000671793.1            0.3309      likely_benign   \n11973      50649.0   ENST00000409359.6            0.8175  likely_pathogenic   \n11974      50649.0   ENST00000409359.7            0.5049          ambiguous   \n11985       9798.0  ENST00000378799.11            0.3992          ambiguous   \n11986       9798.0   ENST00000536027.1            0.6228  likely_pathogenic   \n11998     162966.0   ENST00000648893.1            0.4026          ambiguous   \n11999     162966.0   ENST00000648973.1            0.6534  likely_pathogenic   \n12003      23353.0   ENST00000457378.6            0.5094          ambiguous   \n12004      23353.0   ENST00000401592.6            0.2609      likely_benign   \n12020       9693.0   ENST00000644474.1            0.2343      likely_benign   \n12021       9693.0   ENST00000644902.1            0.3577          ambiguous   \n12024     283310.0   ENST00000646859.1            0.6747  likely_pathogenic   \n12025     283310.0   ENST00000458043.6            0.5500          ambiguous   \n12032      55660.0   ENST00000410080.6            0.5811  likely_pathogenic   \n12033      55660.0   ENST00000648940.1            0.4087          ambiguous   \n12040       8844.0   ENST00000398988.7            0.3830          ambiguous   \n12041       8844.0  ENST00000268763.10            0.2610      likely_benign   \n12081       7490.0   ENST00000379077.8            0.1747      likely_benign   \n12082       7490.0   ENST00000452863.8            0.3632          ambiguous   \n12163     147658.0   ENST00000617900.1            0.2951      likely_benign   \n12164     147658.0   ENST00000432303.6            0.4527          ambiguous   \n12169      56165.0   ENST00000369282.5            0.2591      likely_benign   \n12170      56165.0   ENST00000251864.6            0.3975          ambiguous   \n12176     165082.0   ENST00000435303.1            0.4653          ambiguous   \n12177     165082.0   ENST00000651242.1            0.0997      likely_benign   \n12203       1595.0  ENST00000003100.13            0.3546          ambiguous   \n12204       1595.0   ENST00000450723.5            0.3211      likely_benign   \n12207      80070.0   ENST00000389420.8            0.5163          ambiguous   \n12208      80070.0   ENST00000395541.3            0.2608      likely_benign   \n12225      10859.0   ENST00000396331.5            0.3428          ambiguous   \n12226      10859.0   ENST00000396327.7            0.3264      likely_benign   \n\n      am_source  \n11783   isoform  \n11784   isoform  \n11797   isoform  \n11798   isoform  \n11819   isoform  \n11820   isoform  \n11844   isoform  \n11845   isoform  \n11847   isoform  \n11848   isoform  \n11855   isoform  \n11856   isoform  \n11860   isoform  \n11861   isoform  \n11902   isoform  \n11903   isoform  \n11920   isoform  \n11921   isoform  \n11925   isoform  \n11926   isoform  \n11940   isoform  \n11941   isoform  \n11973   isoform  \n11974   isoform  \n11985   isoform  \n11986   isoform  \n11998   isoform  \n11999   isoform  \n12003   isoform  \n12004   isoform  \n12020   isoform  \n12021   isoform  \n12024   isoform  \n12025   isoform  \n12032   isoform  \n12033   isoform  \n12040   isoform  \n12041   isoform  \n12081   isoform  \n12082   isoform  \n12163   isoform  \n12164   isoform  \n12169   isoform  \n12170   isoform  \n12176   isoform  \n12177   isoform  \n12203   isoform  \n12204   isoform  \n12207   isoform  \n12208   isoform  \n12225   isoform  \n12226   isoform  \n\n[52 rows x 60 columns]",
      "text/html": "<div>\n<style scoped>\n    .dataframe tbody tr th:only-of-type {\n        vertical-align: middle;\n    }\n\n    .dataframe tbody tr th {\n        vertical-align: top;\n    }\n\n    .dataframe thead th {\n        text-align: right;\n    }\n</style>\n<table border=\"1\" class=\"dataframe\">\n  <thead>\n    <tr style=\"text-align: right;\">\n      <th></th>\n      <th>Chrom</th>\n      <th>Pos</th>\n      <th>Ref</th>\n      <th>Alt</th>\n      <th>AF</th>\n      <th>RefCount</th>\n      <th>AltCount</th>\n      <th>GT</th>\n      <th>PS</th>\n      <th>VariantType</th>\n      <th>...</th>\n      <th>DidaName</th>\n      <th>GwasDisease</th>\n      <th>GwasPmID</th>\n      <th>GTexGene</th>\n      <th>ModelID</th>\n      <th>EntrezGeneID</th>\n      <th>transcript_id</th>\n      <th>am_pathogenicity</th>\n      <th>am_class</th>\n      <th>am_source</th>\n    </tr>\n  </thead>\n  <tbody>\n    <tr>\n      <th>11783</th>\n      <td>chr2</td>\n      <td>20253922</td>\n      <td>C</td>\n      <td>T</td>\n      <td>0.629</td>\n      <td>13</td>\n      <td>23</td>\n      <td>0/1</td>\n      <td>NaN</td>\n      <td>SNP</td>\n      <td>...</td>\n      <td>NaN</td>\n      <td>NaN</td>\n      <td>NaN</td>\n      <td>NaN</td>\n      <td>ACH-000856</td>\n      <td>23369.0</td>\n      <td>ENST00000403432.5</td>\n      <td>0.6862</td>\n      <td>likely_pathogenic</td>\n      <td>isoform</td>\n    </tr>\n    <tr>\n      <th>11784</th>\n      <td>chr2</td>\n      <td>20253922</td>\n      <td>C</td>\n      <td>T</td>\n      <td>0.629</td>\n      <td>13</td>\n      <td>23</td>\n      <td>0/1</td>\n      <td>NaN</td>\n      <td>SNP</td>\n      <td>...</td>\n      <td>NaN</td>\n      <td>NaN</td>\n      <td>NaN</td>\n      <td>NaN</td>\n      <td>ACH-000856</td>\n      <td>23369.0</td>\n      <td>ENST00000319801.9</td>\n      <td>0.3923</td>\n      <td>ambiguous</td>\n      <td>isoform</td>\n    </tr>\n    <tr>\n      <th>11797</th>\n      <td>chr14</td>\n      <td>77822473</td>\n      <td>G</td>\n      <td>C</td>\n      <td>0.467</td>\n      <td>15</td>\n      <td>13</td>\n      <td>0/1</td>\n      <td>NaN</td>\n      <td>SNP</td>\n      <td>...</td>\n      <td>NaN</td>\n      <td>NaN</td>\n      <td>NaN</td>\n      <td>NaN</td>\n      <td>ACH-000856</td>\n      <td>57143.0</td>\n      <td>ENST00000238561.10</td>\n      <td>0.2329</td>\n      <td>likely_benign</td>\n      <td>isoform</td>\n    </tr>\n    <tr>\n      <th>11798</th>\n      <td>chr14</td>\n      <td>77822473</td>\n      <td>G</td>\n      <td>C</td>\n      <td>0.467</td>\n      <td>15</td>\n      <td>13</td>\n      <td>0/1</td>\n      <td>NaN</td>\n      <td>SNP</td>\n      <td>...</td>\n      <td>NaN</td>\n      <td>NaN</td>\n      <td>NaN</td>\n      <td>NaN</td>\n      <td>ACH-000856</td>\n      <td>57143.0</td>\n      <td>ENST00000556048.5</td>\n      <td>0.5121</td>\n      <td>ambiguous</td>\n      <td>isoform</td>\n    </tr>\n    <tr>\n      <th>11819</th>\n      <td>chr3</td>\n      <td>65356554</td>\n      <td>G</td>\n      <td>C</td>\n      <td>0.434</td>\n      <td>12</td>\n      <td>11</td>\n      <td>0/1</td>\n      <td>NaN</td>\n      <td>SNP</td>\n      <td>...</td>\n      <td>NaN</td>\n      <td>NaN</td>\n      <td>NaN</td>\n      <td>NaN</td>\n      <td>ACH-000097</td>\n      <td>Unknown</td>\n      <td>ENST00000621418.4</td>\n      <td>0.5399</td>\n      <td>ambiguous</td>\n      <td>isoform</td>\n    </tr>\n    <tr>\n      <th>11820</th>\n      <td>chr3</td>\n      <td>65356554</td>\n      <td>G</td>\n      <td>C</td>\n      <td>0.434</td>\n      <td>12</td>\n      <td>11</td>\n      <td>0/1</td>\n      <td>NaN</td>\n      <td>SNP</td>\n      <td>...</td>\n      <td>NaN</td>\n      <td>NaN</td>\n      <td>NaN</td>\n      <td>NaN</td>\n      <td>ACH-000097</td>\n      <td>Unknown</td>\n      <td>ENST00000402939.6</td>\n      <td>0.2632</td>\n      <td>likely_benign</td>\n      <td>isoform</td>\n    </tr>\n    <tr>\n      <th>11844</th>\n      <td>chr11</td>\n      <td>65121571</td>\n      <td>T</td>\n      <td>C</td>\n      <td>0.176</td>\n      <td>41</td>\n      <td>8</td>\n      <td>0/1</td>\n      <td>NaN</td>\n      <td>SNP</td>\n      <td>...</td>\n      <td>NaN</td>\n      <td>NaN</td>\n      <td>NaN</td>\n      <td>NaN</td>\n      <td>ACH-000725</td>\n      <td>2197.0</td>\n      <td>ENST00000527548.5</td>\n      <td>0.2911</td>\n      <td>likely_benign</td>\n      <td>isoform</td>\n    </tr>\n    <tr>\n      <th>11845</th>\n      <td>chr11</td>\n      <td>65121571</td>\n      <td>T</td>\n      <td>C</td>\n      <td>0.176</td>\n      <td>41</td>\n      <td>8</td>\n      <td>0/1</td>\n      <td>NaN</td>\n      <td>SNP</td>\n      <td>...</td>\n      <td>NaN</td>\n      <td>NaN</td>\n      <td>NaN</td>\n      <td>NaN</td>\n      <td>ACH-000725</td>\n      <td>2197.0</td>\n      <td>ENST00000279259.7</td>\n      <td>0.3802</td>\n      <td>ambiguous</td>\n      <td>isoform</td>\n    </tr>\n    <tr>\n      <th>11847</th>\n      <td>chr12</td>\n      <td>80265109</td>\n      <td>A</td>\n      <td>T</td>\n      <td>0.345</td>\n      <td>19</td>\n      <td>9</td>\n      <td>0/1</td>\n      <td>NaN</td>\n      <td>SNP</td>\n      <td>...</td>\n      <td>NaN</td>\n      <td>NaN</td>\n      <td>NaN</td>\n      <td>NaN</td>\n      <td>ACH-000725</td>\n      <td>283310.0</td>\n      <td>ENST00000646859.1</td>\n      <td>0.5856</td>\n      <td>likely_pathogenic</td>\n      <td>isoform</td>\n    </tr>\n    <tr>\n      <th>11848</th>\n      <td>chr12</td>\n      <td>80265109</td>\n      <td>A</td>\n      <td>T</td>\n      <td>0.345</td>\n      <td>19</td>\n      <td>9</td>\n      <td>0/1</td>\n      <td>NaN</td>\n      <td>SNP</td>\n      <td>...</td>\n      <td>NaN</td>\n      <td>NaN</td>\n      <td>NaN</td>\n      <td>NaN</td>\n      <td>ACH-000725</td>\n      <td>283310.0</td>\n      <td>ENST00000547103.6</td>\n      <td>0.4175</td>\n      <td>ambiguous</td>\n      <td>isoform</td>\n    </tr>\n    <tr>\n      <th>11855</th>\n      <td>chr6</td>\n      <td>160599542</td>\n      <td>G</td>\n      <td>A</td>\n      <td>0.339</td>\n      <td>18</td>\n      <td>8</td>\n      <td>0/1</td>\n      <td>NaN</td>\n      <td>SNP</td>\n      <td>...</td>\n      <td>NaN</td>\n      <td>NaN</td>\n      <td>NaN</td>\n      <td>NaN</td>\n      <td>ACH-000621</td>\n      <td>4018.0</td>\n      <td>ENST00000316300.9</td>\n      <td>0.3667</td>\n      <td>ambiguous</td>\n      <td>isoform</td>\n    </tr>\n    <tr>\n      <th>11856</th>\n      <td>chr6</td>\n      <td>160599542</td>\n      <td>G</td>\n      <td>A</td>\n      <td>0.339</td>\n      <td>18</td>\n      <td>8</td>\n      <td>0/1</td>\n      <td>NaN</td>\n      <td>SNP</td>\n      <td>...</td>\n      <td>NaN</td>\n      <td>NaN</td>\n      <td>NaN</td>\n      <td>NaN</td>\n      <td>ACH-000621</td>\n      <td>4018.0</td>\n      <td>ENST00000447678.2</td>\n      <td>0.1684</td>\n      <td>likely_benign</td>\n      <td>isoform</td>\n    </tr>\n    <tr>\n      <th>11860</th>\n      <td>chr17</td>\n      <td>75624851</td>\n      <td>C</td>\n      <td>T</td>\n      <td>0.195</td>\n      <td>59</td>\n      <td>14</td>\n      <td>0/1</td>\n      <td>NaN</td>\n      <td>SNP</td>\n      <td>...</td>\n      <td>NaN</td>\n      <td>NaN</td>\n      <td>NaN</td>\n      <td>NaN</td>\n      <td>ACH-000621</td>\n      <td>80022.0</td>\n      <td>ENST00000642007.1</td>\n      <td>0.5275</td>\n      <td>ambiguous</td>\n      <td>isoform</td>\n    </tr>\n    <tr>\n      <th>11861</th>\n      <td>chr17</td>\n      <td>75624851</td>\n      <td>C</td>\n      <td>T</td>\n      <td>0.195</td>\n      <td>59</td>\n      <td>14</td>\n      <td>0/1</td>\n      <td>NaN</td>\n      <td>SNP</td>\n      <td>...</td>\n      <td>NaN</td>\n      <td>NaN</td>\n      <td>NaN</td>\n      <td>NaN</td>\n      <td>ACH-000621</td>\n      <td>80022.0</td>\n      <td>ENST00000645453.3</td>\n      <td>0.6167</td>\n      <td>likely_pathogenic</td>\n      <td>isoform</td>\n    </tr>\n    <tr>\n      <th>11902</th>\n      <td>chr12</td>\n      <td>2633710</td>\n      <td>A</td>\n      <td>C</td>\n      <td>0.259</td>\n      <td>20</td>\n      <td>6</td>\n      <td>0/1</td>\n      <td>NaN</td>\n      <td>SNP</td>\n      <td>...</td>\n      <td>NaN</td>\n      <td>NaN</td>\n      <td>NaN</td>\n      <td>NaN</td>\n      <td>ACH-000910</td>\n      <td>775.0</td>\n      <td>ENST00000399603.6</td>\n      <td>0.1007</td>\n      <td>likely_benign</td>\n      <td>isoform</td>\n    </tr>\n    <tr>\n      <th>11903</th>\n      <td>chr12</td>\n      <td>2633710</td>\n      <td>A</td>\n      <td>C</td>\n      <td>0.259</td>\n      <td>20</td>\n      <td>6</td>\n      <td>0/1</td>\n      <td>NaN</td>\n      <td>SNP</td>\n      <td>...</td>\n      <td>NaN</td>\n      <td>NaN</td>\n      <td>NaN</td>\n      <td>NaN</td>\n      <td>ACH-000910</td>\n      <td>775.0</td>\n      <td>ENST00000347598.9</td>\n      <td>0.5205</td>\n      <td>ambiguous</td>\n      <td>isoform</td>\n    </tr>\n    <tr>\n      <th>11920</th>\n      <td>chr14</td>\n      <td>60245872</td>\n      <td>G</td>\n      <td>C</td>\n      <td>0.957</td>\n      <td>0</td>\n      <td>22</td>\n      <td>1|1</td>\n      <td>60245872.0</td>\n      <td>SNP</td>\n      <td>...</td>\n      <td>NaN</td>\n      <td>NaN</td>\n      <td>NaN</td>\n      <td>NaN</td>\n      <td>ACH-000159</td>\n      <td>5494.0</td>\n      <td>ENST00000325642.7</td>\n      <td>0.1660</td>\n      <td>likely_benign</td>\n      <td>isoform</td>\n    </tr>\n    <tr>\n      <th>11921</th>\n      <td>chr14</td>\n      <td>60245872</td>\n      <td>G</td>\n      <td>C</td>\n      <td>0.957</td>\n      <td>0</td>\n      <td>22</td>\n      <td>1|1</td>\n      <td>60245872.0</td>\n      <td>SNP</td>\n      <td>...</td>\n      <td>NaN</td>\n      <td>NaN</td>\n      <td>NaN</td>\n      <td>NaN</td>\n      <td>ACH-000159</td>\n      <td>5494.0</td>\n      <td>ENST00000531143.6</td>\n      <td>0.6981</td>\n      <td>likely_pathogenic</td>\n      <td>isoform</td>\n    </tr>\n    <tr>\n      <th>11925</th>\n      <td>chr1</td>\n      <td>148569398</td>\n      <td>C</td>\n      <td>T</td>\n      <td>0.800</td>\n      <td>0</td>\n      <td>3</td>\n      <td>0/1</td>\n      <td>NaN</td>\n      <td>SNP</td>\n      <td>...</td>\n      <td>NaN</td>\n      <td>NaN</td>\n      <td>NaN</td>\n      <td>NaN</td>\n      <td>ACH-000792</td>\n      <td>25832.0</td>\n      <td>ENST00000621066.4</td>\n      <td>0.1879</td>\n      <td>likely_benign</td>\n      <td>isoform</td>\n    </tr>\n    <tr>\n      <th>11926</th>\n      <td>chr1</td>\n      <td>148569398</td>\n      <td>C</td>\n      <td>T</td>\n      <td>0.800</td>\n      <td>0</td>\n      <td>3</td>\n      <td>0/1</td>\n      <td>NaN</td>\n      <td>SNP</td>\n      <td>...</td>\n      <td>NaN</td>\n      <td>NaN</td>\n      <td>NaN</td>\n      <td>NaN</td>\n      <td>ACH-000792</td>\n      <td>25832.0</td>\n      <td>ENST00000619423.4</td>\n      <td>0.5116</td>\n      <td>ambiguous</td>\n      <td>isoform</td>\n    </tr>\n    <tr>\n      <th>11940</th>\n      <td>chr4</td>\n      <td>113374768</td>\n      <td>C</td>\n      <td>T</td>\n      <td>0.516</td>\n      <td>14</td>\n      <td>16</td>\n      <td>0/1</td>\n      <td>NaN</td>\n      <td>SNP</td>\n      <td>...</td>\n      <td>NaN</td>\n      <td>NaN</td>\n      <td>NaN</td>\n      <td>NaN</td>\n      <td>ACH-000859</td>\n      <td>287.0</td>\n      <td>ENST00000672356.1</td>\n      <td>0.3579</td>\n      <td>ambiguous</td>\n      <td>isoform</td>\n    </tr>\n    <tr>\n      <th>11941</th>\n      <td>chr4</td>\n      <td>113374768</td>\n      <td>C</td>\n      <td>T</td>\n      <td>0.516</td>\n      <td>14</td>\n      <td>16</td>\n      <td>0/1</td>\n      <td>NaN</td>\n      <td>SNP</td>\n      <td>...</td>\n      <td>NaN</td>\n      <td>NaN</td>\n      <td>NaN</td>\n      <td>NaN</td>\n      <td>ACH-000859</td>\n      <td>287.0</td>\n      <td>ENST00000671793.1</td>\n      <td>0.3309</td>\n      <td>likely_benign</td>\n      <td>isoform</td>\n    </tr>\n    <tr>\n      <th>11973</th>\n      <td>chr2</td>\n      <td>130915847</td>\n      <td>T</td>\n      <td>A</td>\n      <td>0.200</td>\n      <td>17</td>\n      <td>3</td>\n      <td>0/1</td>\n      <td>NaN</td>\n      <td>SNP</td>\n      <td>...</td>\n      <td>NaN</td>\n      <td>NaN</td>\n      <td>NaN</td>\n      <td>NaN</td>\n      <td>ACH-000352</td>\n      <td>50649.0</td>\n      <td>ENST00000409359.6</td>\n      <td>0.8175</td>\n      <td>likely_pathogenic</td>\n      <td>isoform</td>\n    </tr>\n    <tr>\n      <th>11974</th>\n      <td>chr2</td>\n      <td>130915847</td>\n      <td>T</td>\n      <td>A</td>\n      <td>0.200</td>\n      <td>17</td>\n      <td>3</td>\n      <td>0/1</td>\n      <td>NaN</td>\n      <td>SNP</td>\n      <td>...</td>\n      <td>NaN</td>\n      <td>NaN</td>\n      <td>NaN</td>\n      <td>NaN</td>\n      <td>ACH-000352</td>\n      <td>50649.0</td>\n      <td>ENST00000409359.7</td>\n      <td>0.5049</td>\n      <td>ambiguous</td>\n      <td>isoform</td>\n    </tr>\n    <tr>\n      <th>11985</th>\n      <td>chr16</td>\n      <td>71923370</td>\n      <td>C</td>\n      <td>G</td>\n      <td>0.433</td>\n      <td>19</td>\n      <td>12</td>\n      <td>0/1</td>\n      <td>NaN</td>\n      <td>SNP</td>\n      <td>...</td>\n      <td>NaN</td>\n      <td>NaN</td>\n      <td>NaN</td>\n      <td>NaN</td>\n      <td>ACH-000352</td>\n      <td>9798.0</td>\n      <td>ENST00000378799.11</td>\n      <td>0.3992</td>\n      <td>ambiguous</td>\n      <td>isoform</td>\n    </tr>\n    <tr>\n      <th>11986</th>\n      <td>chr16</td>\n      <td>71923370</td>\n      <td>C</td>\n      <td>G</td>\n      <td>0.433</td>\n      <td>19</td>\n      <td>12</td>\n      <td>0/1</td>\n      <td>NaN</td>\n      <td>SNP</td>\n      <td>...</td>\n      <td>NaN</td>\n      <td>NaN</td>\n      <td>NaN</td>\n      <td>NaN</td>\n      <td>ACH-000352</td>\n      <td>9798.0</td>\n      <td>ENST00000536027.1</td>\n      <td>0.6228</td>\n      <td>likely_pathogenic</td>\n      <td>isoform</td>\n    </tr>\n    <tr>\n      <th>11998</th>\n      <td>chr19</td>\n      <td>52774639</td>\n      <td>G</td>\n      <td>T</td>\n      <td>0.230</td>\n      <td>20</td>\n      <td>5</td>\n      <td>0/1</td>\n      <td>NaN</td>\n      <td>SNP</td>\n      <td>...</td>\n      <td>NaN</td>\n      <td>NaN</td>\n      <td>NaN</td>\n      <td>NaN</td>\n      <td>ACH-000768</td>\n      <td>162966.0</td>\n      <td>ENST00000648893.1</td>\n      <td>0.4026</td>\n      <td>ambiguous</td>\n      <td>isoform</td>\n    </tr>\n    <tr>\n      <th>11999</th>\n      <td>chr19</td>\n      <td>52774639</td>\n      <td>G</td>\n      <td>T</td>\n      <td>0.230</td>\n      <td>20</td>\n      <td>5</td>\n      <td>0/1</td>\n      <td>NaN</td>\n      <td>SNP</td>\n      <td>...</td>\n      <td>NaN</td>\n      <td>NaN</td>\n      <td>NaN</td>\n      <td>NaN</td>\n      <td>ACH-000768</td>\n      <td>162966.0</td>\n      <td>ENST00000648973.1</td>\n      <td>0.6534</td>\n      <td>likely_pathogenic</td>\n      <td>isoform</td>\n    </tr>\n    <tr>\n      <th>12003</th>\n      <td>chr7</td>\n      <td>843437</td>\n      <td>C</td>\n      <td>T</td>\n      <td>0.322</td>\n      <td>138</td>\n      <td>63</td>\n      <td>0/1</td>\n      <td>NaN</td>\n      <td>SNP</td>\n      <td>...</td>\n      <td>NaN</td>\n      <td>NaN</td>\n      <td>NaN</td>\n      <td>NaN</td>\n      <td>ACH-000374</td>\n      <td>23353.0</td>\n      <td>ENST00000457378.6</td>\n      <td>0.5094</td>\n      <td>ambiguous</td>\n      <td>isoform</td>\n    </tr>\n    <tr>\n      <th>12004</th>\n      <td>chr7</td>\n      <td>843437</td>\n      <td>C</td>\n      <td>T</td>\n      <td>0.322</td>\n      <td>138</td>\n      <td>63</td>\n      <td>0/1</td>\n      <td>NaN</td>\n      <td>SNP</td>\n      <td>...</td>\n      <td>NaN</td>\n      <td>NaN</td>\n      <td>NaN</td>\n      <td>NaN</td>\n      <td>ACH-000374</td>\n      <td>23353.0</td>\n      <td>ENST00000401592.6</td>\n      <td>0.2609</td>\n      <td>likely_benign</td>\n      <td>isoform</td>\n    </tr>\n    <tr>\n      <th>12020</th>\n      <td>chr4</td>\n      <td>159241340</td>\n      <td>A</td>\n      <td>C</td>\n      <td>0.500</td>\n      <td>1</td>\n      <td>2</td>\n      <td>0/1</td>\n      <td>NaN</td>\n      <td>SNP</td>\n      <td>...</td>\n      <td>NaN</td>\n      <td>NaN</td>\n      <td>NaN</td>\n      <td>NaN</td>\n      <td>ACH-000624</td>\n      <td>9693.0</td>\n      <td>ENST00000644474.1</td>\n      <td>0.2343</td>\n      <td>likely_benign</td>\n      <td>isoform</td>\n    </tr>\n    <tr>\n      <th>12021</th>\n      <td>chr4</td>\n      <td>159241340</td>\n      <td>A</td>\n      <td>C</td>\n      <td>0.500</td>\n      <td>1</td>\n      <td>2</td>\n      <td>0/1</td>\n      <td>NaN</td>\n      <td>SNP</td>\n      <td>...</td>\n      <td>NaN</td>\n      <td>NaN</td>\n      <td>NaN</td>\n      <td>NaN</td>\n      <td>ACH-000624</td>\n      <td>9693.0</td>\n      <td>ENST00000644902.1</td>\n      <td>0.3577</td>\n      <td>ambiguous</td>\n      <td>isoform</td>\n    </tr>\n    <tr>\n      <th>12024</th>\n      <td>chr12</td>\n      <td>80339163</td>\n      <td>C</td>\n      <td>A</td>\n      <td>0.493</td>\n      <td>151</td>\n      <td>143</td>\n      <td>0/1</td>\n      <td>NaN</td>\n      <td>SNP</td>\n      <td>...</td>\n      <td>NaN</td>\n      <td>NaN</td>\n      <td>NaN</td>\n      <td>NaN</td>\n      <td>ACH-000624</td>\n      <td>283310.0</td>\n      <td>ENST00000646859.1</td>\n      <td>0.6747</td>\n      <td>likely_pathogenic</td>\n      <td>isoform</td>\n    </tr>\n    <tr>\n      <th>12025</th>\n      <td>chr12</td>\n      <td>80339163</td>\n      <td>C</td>\n      <td>A</td>\n      <td>0.493</td>\n      <td>151</td>\n      <td>143</td>\n      <td>0/1</td>\n      <td>NaN</td>\n      <td>SNP</td>\n      <td>...</td>\n      <td>NaN</td>\n      <td>NaN</td>\n      <td>NaN</td>\n      <td>NaN</td>\n      <td>ACH-000624</td>\n      <td>283310.0</td>\n      <td>ENST00000458043.6</td>\n      <td>0.5500</td>\n      <td>ambiguous</td>\n      <td>isoform</td>\n    </tr>\n    <tr>\n      <th>12032</th>\n      <td>chr2</td>\n      <td>152662605</td>\n      <td>C</td>\n      <td>G</td>\n      <td>0.294</td>\n      <td>23</td>\n      <td>9</td>\n      <td>0/1</td>\n      <td>NaN</td>\n      <td>SNP</td>\n      <td>...</td>\n      <td>NaN</td>\n      <td>NaN</td>\n      <td>NaN</td>\n      <td>NaN</td>\n      <td>ACH-000907</td>\n      <td>55660.0</td>\n      <td>ENST00000410080.6</td>\n      <td>0.5811</td>\n      <td>likely_pathogenic</td>\n      <td>isoform</td>\n    </tr>\n    <tr>\n      <th>12033</th>\n      <td>chr2</td>\n      <td>152662605</td>\n      <td>C</td>\n      <td>G</td>\n      <td>0.294</td>\n      <td>23</td>\n      <td>9</td>\n      <td>0/1</td>\n      <td>NaN</td>\n      <td>SNP</td>\n      <td>...</td>\n      <td>NaN</td>\n      <td>NaN</td>\n      <td>NaN</td>\n      <td>NaN</td>\n      <td>ACH-000907</td>\n      <td>55660.0</td>\n      <td>ENST00000648940.1</td>\n      <td>0.4087</td>\n      <td>ambiguous</td>\n      <td>isoform</td>\n    </tr>\n    <tr>\n      <th>12040</th>\n      <td>chr17</td>\n      <td>27617317</td>\n      <td>C</td>\n      <td>T</td>\n      <td>0.332</td>\n      <td>15</td>\n      <td>6</td>\n      <td>0/1</td>\n      <td>NaN</td>\n      <td>SNP</td>\n      <td>...</td>\n      <td>NaN</td>\n      <td>NaN</td>\n      <td>NaN</td>\n      <td>NaN</td>\n      <td>ACH-000907</td>\n      <td>8844.0</td>\n      <td>ENST00000398988.7</td>\n      <td>0.3830</td>\n      <td>ambiguous</td>\n      <td>isoform</td>\n    </tr>\n    <tr>\n      <th>12041</th>\n      <td>chr17</td>\n      <td>27617317</td>\n      <td>C</td>\n      <td>T</td>\n      <td>0.332</td>\n      <td>15</td>\n      <td>6</td>\n      <td>0/1</td>\n      <td>NaN</td>\n      <td>SNP</td>\n      <td>...</td>\n      <td>NaN</td>\n      <td>NaN</td>\n      <td>NaN</td>\n      <td>NaN</td>\n      <td>ACH-000907</td>\n      <td>8844.0</td>\n      <td>ENST00000268763.10</td>\n      <td>0.2610</td>\n      <td>likely_benign</td>\n      <td>isoform</td>\n    </tr>\n    <tr>\n      <th>12081</th>\n      <td>chr11</td>\n      <td>32435168</td>\n      <td>C</td>\n      <td>T</td>\n      <td>0.615</td>\n      <td>41</td>\n      <td>64</td>\n      <td>0/1</td>\n      <td>NaN</td>\n      <td>SNP</td>\n      <td>...</td>\n      <td>NaN</td>\n      <td>NaN</td>\n      <td>NaN</td>\n      <td>NaN</td>\n      <td>ACH-000262</td>\n      <td>7490.0</td>\n      <td>ENST00000379077.8</td>\n      <td>0.1747</td>\n      <td>likely_benign</td>\n      <td>isoform</td>\n    </tr>\n    <tr>\n      <th>12082</th>\n      <td>chr11</td>\n      <td>32435168</td>\n      <td>C</td>\n      <td>T</td>\n      <td>0.615</td>\n      <td>41</td>\n      <td>64</td>\n      <td>0/1</td>\n      <td>NaN</td>\n      <td>SNP</td>\n      <td>...</td>\n      <td>NaN</td>\n      <td>NaN</td>\n      <td>NaN</td>\n      <td>NaN</td>\n      <td>ACH-000262</td>\n      <td>7490.0</td>\n      <td>ENST00000452863.8</td>\n      <td>0.3632</td>\n      <td>ambiguous</td>\n      <td>isoform</td>\n    </tr>\n    <tr>\n      <th>12163</th>\n      <td>chr19</td>\n      <td>52451209</td>\n      <td>C</td>\n      <td>A</td>\n      <td>0.764</td>\n      <td>0</td>\n      <td>2</td>\n      <td>0/1</td>\n      <td>NaN</td>\n      <td>SNP</td>\n      <td>...</td>\n      <td>NaN</td>\n      <td>NaN</td>\n      <td>NaN</td>\n      <td>NaN</td>\n      <td>ACH-000222</td>\n      <td>147658.0</td>\n      <td>ENST00000617900.1</td>\n      <td>0.2951</td>\n      <td>likely_benign</td>\n      <td>isoform</td>\n    </tr>\n    <tr>\n      <th>12164</th>\n      <td>chr19</td>\n      <td>52451209</td>\n      <td>C</td>\n      <td>A</td>\n      <td>0.764</td>\n      <td>0</td>\n      <td>2</td>\n      <td>0/1</td>\n      <td>NaN</td>\n      <td>SNP</td>\n      <td>...</td>\n      <td>NaN</td>\n      <td>NaN</td>\n      <td>NaN</td>\n      <td>NaN</td>\n      <td>ACH-000222</td>\n      <td>147658.0</td>\n      <td>ENST00000432303.6</td>\n      <td>0.4527</td>\n      <td>ambiguous</td>\n      <td>isoform</td>\n    </tr>\n    <tr>\n      <th>12169</th>\n      <td>chr10</td>\n      <td>114214051</td>\n      <td>G</td>\n      <td>C</td>\n      <td>0.380</td>\n      <td>98</td>\n      <td>58</td>\n      <td>0/1</td>\n      <td>NaN</td>\n      <td>SNP</td>\n      <td>...</td>\n      <td>NaN</td>\n      <td>NaN</td>\n      <td>NaN</td>\n      <td>NaN</td>\n      <td>ACH-000138</td>\n      <td>56165.0</td>\n      <td>ENST00000369282.5</td>\n      <td>0.2591</td>\n      <td>likely_benign</td>\n      <td>isoform</td>\n    </tr>\n    <tr>\n      <th>12170</th>\n      <td>chr10</td>\n      <td>114214051</td>\n      <td>G</td>\n      <td>C</td>\n      <td>0.380</td>\n      <td>98</td>\n      <td>58</td>\n      <td>0/1</td>\n      <td>NaN</td>\n      <td>SNP</td>\n      <td>...</td>\n      <td>NaN</td>\n      <td>NaN</td>\n      <td>NaN</td>\n      <td>NaN</td>\n      <td>ACH-000138</td>\n      <td>56165.0</td>\n      <td>ENST00000251864.6</td>\n      <td>0.3975</td>\n      <td>ambiguous</td>\n      <td>isoform</td>\n    </tr>\n    <tr>\n      <th>12176</th>\n      <td>chr2</td>\n      <td>26346137</td>\n      <td>G</td>\n      <td>C</td>\n      <td>0.671</td>\n      <td>49</td>\n      <td>99</td>\n      <td>0/1</td>\n      <td>NaN</td>\n      <td>SNP</td>\n      <td>...</td>\n      <td>NaN</td>\n      <td>NaN</td>\n      <td>NaN</td>\n      <td>NaN</td>\n      <td>ACH-000246</td>\n      <td>165082.0</td>\n      <td>ENST00000435303.1</td>\n      <td>0.4653</td>\n      <td>ambiguous</td>\n      <td>isoform</td>\n    </tr>\n    <tr>\n      <th>12177</th>\n      <td>chr2</td>\n      <td>26346137</td>\n      <td>G</td>\n      <td>C</td>\n      <td>0.671</td>\n      <td>49</td>\n      <td>99</td>\n      <td>0/1</td>\n      <td>NaN</td>\n      <td>SNP</td>\n      <td>...</td>\n      <td>NaN</td>\n      <td>NaN</td>\n      <td>NaN</td>\n      <td>NaN</td>\n      <td>ACH-000246</td>\n      <td>165082.0</td>\n      <td>ENST00000651242.1</td>\n      <td>0.0997</td>\n      <td>likely_benign</td>\n      <td>isoform</td>\n    </tr>\n    <tr>\n      <th>12203</th>\n      <td>chr7</td>\n      <td>92123771</td>\n      <td>C</td>\n      <td>A</td>\n      <td>0.918</td>\n      <td>5</td>\n      <td>67</td>\n      <td>1|1</td>\n      <td>NaN</td>\n      <td>SNP</td>\n      <td>...</td>\n      <td>NaN</td>\n      <td>NaN</td>\n      <td>NaN</td>\n      <td>NaN</td>\n      <td>ACH-000320</td>\n      <td>1595.0</td>\n      <td>ENST00000003100.13</td>\n      <td>0.3546</td>\n      <td>ambiguous</td>\n      <td>isoform</td>\n    </tr>\n    <tr>\n      <th>12204</th>\n      <td>chr7</td>\n      <td>92123771</td>\n      <td>C</td>\n      <td>A</td>\n      <td>0.918</td>\n      <td>5</td>\n      <td>67</td>\n      <td>1|1</td>\n      <td>NaN</td>\n      <td>SNP</td>\n      <td>...</td>\n      <td>NaN</td>\n      <td>NaN</td>\n      <td>NaN</td>\n      <td>NaN</td>\n      <td>ACH-000320</td>\n      <td>1595.0</td>\n      <td>ENST00000450723.5</td>\n      <td>0.3211</td>\n      <td>likely_benign</td>\n      <td>isoform</td>\n    </tr>\n    <tr>\n      <th>12207</th>\n      <td>chr12</td>\n      <td>43452396</td>\n      <td>G</td>\n      <td>T</td>\n      <td>0.353</td>\n      <td>155</td>\n      <td>85</td>\n      <td>0/1</td>\n      <td>NaN</td>\n      <td>SNP</td>\n      <td>...</td>\n      <td>NaN</td>\n      <td>NaN</td>\n      <td>NaN</td>\n      <td>NaN</td>\n      <td>ACH-000320</td>\n      <td>80070.0</td>\n      <td>ENST00000389420.8</td>\n      <td>0.5163</td>\n      <td>ambiguous</td>\n      <td>isoform</td>\n    </tr>\n    <tr>\n      <th>12208</th>\n      <td>chr12</td>\n      <td>43452396</td>\n      <td>G</td>\n      <td>T</td>\n      <td>0.353</td>\n      <td>155</td>\n      <td>85</td>\n      <td>0/1</td>\n      <td>NaN</td>\n      <td>SNP</td>\n      <td>...</td>\n      <td>NaN</td>\n      <td>NaN</td>\n      <td>NaN</td>\n      <td>NaN</td>\n      <td>ACH-000320</td>\n      <td>80070.0</td>\n      <td>ENST00000395541.3</td>\n      <td>0.2608</td>\n      <td>likely_benign</td>\n      <td>isoform</td>\n    </tr>\n    <tr>\n      <th>12225</th>\n      <td>chr19</td>\n      <td>54633054</td>\n      <td>G</td>\n      <td>T</td>\n      <td>0.209</td>\n      <td>93</td>\n      <td>24</td>\n      <td>0/1</td>\n      <td>NaN</td>\n      <td>SNP</td>\n      <td>...</td>\n      <td>NaN</td>\n      <td>NaN</td>\n      <td>NaN</td>\n      <td>NaN</td>\n      <td>ACH-000148</td>\n      <td>10859.0</td>\n      <td>ENST00000396331.5</td>\n      <td>0.3428</td>\n      <td>ambiguous</td>\n      <td>isoform</td>\n    </tr>\n    <tr>\n      <th>12226</th>\n      <td>chr19</td>\n      <td>54633054</td>\n      <td>G</td>\n      <td>T</td>\n      <td>0.209</td>\n      <td>93</td>\n      <td>24</td>\n      <td>0/1</td>\n      <td>NaN</td>\n      <td>SNP</td>\n      <td>...</td>\n      <td>NaN</td>\n      <td>NaN</td>\n      <td>NaN</td>\n      <td>NaN</td>\n      <td>ACH-000148</td>\n      <td>10859.0</td>\n      <td>ENST00000396327.7</td>\n      <td>0.3264</td>\n      <td>likely_benign</td>\n      <td>isoform</td>\n    </tr>\n  </tbody>\n</table>\n<p>52 rows × 60 columns</p>\n</div>"
     },
     "execution_count": 89,
     "metadata": {},
     "output_type": "execute_result"
    }
   ],
   "source": [
    "missense_complete_duplicates"
   ],
   "metadata": {
    "collapsed": false,
    "ExecuteTime": {
     "end_time": "2023-12-29T18:29:16.739747900Z",
     "start_time": "2023-12-29T18:29:16.703742400Z"
    }
   },
   "id": "e1dce15fccfc51e3"
  },
  {
   "cell_type": "code",
   "execution_count": 64,
   "outputs": [
    {
     "data": {
      "text/plain": "       Chrom       Pos Ref Alt     AF  RefCount  AltCount   GT         PS  \\\n0       chr1    963249   G   A  0.303        22         9  0/1        NaN   \n1       chr1   2412394   C   T  0.391        14         8  0/1        NaN   \n2       chr1   2512914   G   T  0.488        21        19  0/1        NaN   \n3       chr1   2561696   C   T  0.320        24        12  0/1        NaN   \n5       chr1   5867853   C   T  0.600        18        26  0/1        NaN   \n...      ...       ...  ..  ..    ...       ...       ...  ...        ...   \n12229  chr11  64118213   C   T  0.984         0        60  1|1        NaN   \n12230  chr12   2566502   T   G  0.268         7         2  0|1  2566502.0   \n12231  chr12  70635797   G   C  0.325        32        15  0/1        NaN   \n12232  chr12  88192668   G   C  0.402        58        40  0/1        NaN   \n12233  chr17   5105919   G   A  0.477        55        49  0/1        NaN   \n\n      VariantType  ... DidaName GwasDisease GwasPmID GTexGene     ModelID  \\\n0             SNP  ...      NaN         NaN      NaN      NaN  ACH-000856   \n1             SNP  ...      NaN         NaN      NaN      NaN  ACH-000856   \n2             SNP  ...      NaN         NaN      NaN      NaN  ACH-000856   \n3             SNP  ...      NaN         NaN      NaN      NaN  ACH-000856   \n5             SNP  ...      NaN         NaN      NaN      NaN  ACH-000856   \n...           ...  ...      ...         ...      ...      ...         ...   \n12229         SNP  ...      NaN         NaN      NaN      NaN  ACH-000234   \n12230         SNP  ...      NaN         NaN      NaN      NaN  ACH-000234   \n12231         SNP  ...      NaN         NaN      NaN      NaN  ACH-000234   \n12232         SNP  ...      NaN         NaN      NaN      NaN  ACH-000234   \n12233         SNP  ...      NaN         NaN      NaN      NaN  ACH-000234   \n\n      EntrezGeneID       transcript_id  am_pathogenicity           am_class  \\\n0         339451.0   ENST00000338591.8            0.9941  likely_pathogenic   \n1           5192.0   ENST00000447513.6            0.1815      likely_benign   \n2          55229.0   ENST00000378466.9            0.9989  likely_pathogenic   \n3           8764.0   ENST00000355716.4            0.1136      likely_benign   \n5         261734.0   ENST00000378156.9            0.1576      likely_benign   \n...            ...                 ...               ...                ...   \n12229      Unknown   ENST00000246841.3            0.1162      likely_benign   \n12230        775.0   ENST00000399655.6            0.9342  likely_pathogenic   \n12231       5787.0  ENST00000334414.10            0.0939      likely_benign   \n12232     160418.0  ENST00000266712.11            0.1018      likely_benign   \n12233       7775.0   ENST00000575898.5            0.9779  likely_pathogenic   \n\n      am_source  \n0       primary  \n1       primary  \n2       primary  \n3       primary  \n5       primary  \n...         ...  \n12229   isoform  \n12230   isoform  \n12231   isoform  \n12232   isoform  \n12233   isoform  \n\n[11787 rows x 60 columns]",
      "text/html": "<div>\n<style scoped>\n    .dataframe tbody tr th:only-of-type {\n        vertical-align: middle;\n    }\n\n    .dataframe tbody tr th {\n        vertical-align: top;\n    }\n\n    .dataframe thead th {\n        text-align: right;\n    }\n</style>\n<table border=\"1\" class=\"dataframe\">\n  <thead>\n    <tr style=\"text-align: right;\">\n      <th></th>\n      <th>Chrom</th>\n      <th>Pos</th>\n      <th>Ref</th>\n      <th>Alt</th>\n      <th>AF</th>\n      <th>RefCount</th>\n      <th>AltCount</th>\n      <th>GT</th>\n      <th>PS</th>\n      <th>VariantType</th>\n      <th>...</th>\n      <th>DidaName</th>\n      <th>GwasDisease</th>\n      <th>GwasPmID</th>\n      <th>GTexGene</th>\n      <th>ModelID</th>\n      <th>EntrezGeneID</th>\n      <th>transcript_id</th>\n      <th>am_pathogenicity</th>\n      <th>am_class</th>\n      <th>am_source</th>\n    </tr>\n  </thead>\n  <tbody>\n    <tr>\n      <th>0</th>\n      <td>chr1</td>\n      <td>963249</td>\n      <td>G</td>\n      <td>A</td>\n      <td>0.303</td>\n      <td>22</td>\n      <td>9</td>\n      <td>0/1</td>\n      <td>NaN</td>\n      <td>SNP</td>\n      <td>...</td>\n      <td>NaN</td>\n      <td>NaN</td>\n      <td>NaN</td>\n      <td>NaN</td>\n      <td>ACH-000856</td>\n      <td>339451.0</td>\n      <td>ENST00000338591.8</td>\n      <td>0.9941</td>\n      <td>likely_pathogenic</td>\n      <td>primary</td>\n    </tr>\n    <tr>\n      <th>1</th>\n      <td>chr1</td>\n      <td>2412394</td>\n      <td>C</td>\n      <td>T</td>\n      <td>0.391</td>\n      <td>14</td>\n      <td>8</td>\n      <td>0/1</td>\n      <td>NaN</td>\n      <td>SNP</td>\n      <td>...</td>\n      <td>NaN</td>\n      <td>NaN</td>\n      <td>NaN</td>\n      <td>NaN</td>\n      <td>ACH-000856</td>\n      <td>5192.0</td>\n      <td>ENST00000447513.6</td>\n      <td>0.1815</td>\n      <td>likely_benign</td>\n      <td>primary</td>\n    </tr>\n    <tr>\n      <th>2</th>\n      <td>chr1</td>\n      <td>2512914</td>\n      <td>G</td>\n      <td>T</td>\n      <td>0.488</td>\n      <td>21</td>\n      <td>19</td>\n      <td>0/1</td>\n      <td>NaN</td>\n      <td>SNP</td>\n      <td>...</td>\n      <td>NaN</td>\n      <td>NaN</td>\n      <td>NaN</td>\n      <td>NaN</td>\n      <td>ACH-000856</td>\n      <td>55229.0</td>\n      <td>ENST00000378466.9</td>\n      <td>0.9989</td>\n      <td>likely_pathogenic</td>\n      <td>primary</td>\n    </tr>\n    <tr>\n      <th>3</th>\n      <td>chr1</td>\n      <td>2561696</td>\n      <td>C</td>\n      <td>T</td>\n      <td>0.320</td>\n      <td>24</td>\n      <td>12</td>\n      <td>0/1</td>\n      <td>NaN</td>\n      <td>SNP</td>\n      <td>...</td>\n      <td>NaN</td>\n      <td>NaN</td>\n      <td>NaN</td>\n      <td>NaN</td>\n      <td>ACH-000856</td>\n      <td>8764.0</td>\n      <td>ENST00000355716.4</td>\n      <td>0.1136</td>\n      <td>likely_benign</td>\n      <td>primary</td>\n    </tr>\n    <tr>\n      <th>5</th>\n      <td>chr1</td>\n      <td>5867853</td>\n      <td>C</td>\n      <td>T</td>\n      <td>0.600</td>\n      <td>18</td>\n      <td>26</td>\n      <td>0/1</td>\n      <td>NaN</td>\n      <td>SNP</td>\n      <td>...</td>\n      <td>NaN</td>\n      <td>NaN</td>\n      <td>NaN</td>\n      <td>NaN</td>\n      <td>ACH-000856</td>\n      <td>261734.0</td>\n      <td>ENST00000378156.9</td>\n      <td>0.1576</td>\n      <td>likely_benign</td>\n      <td>primary</td>\n    </tr>\n    <tr>\n      <th>...</th>\n      <td>...</td>\n      <td>...</td>\n      <td>...</td>\n      <td>...</td>\n      <td>...</td>\n      <td>...</td>\n      <td>...</td>\n      <td>...</td>\n      <td>...</td>\n      <td>...</td>\n      <td>...</td>\n      <td>...</td>\n      <td>...</td>\n      <td>...</td>\n      <td>...</td>\n      <td>...</td>\n      <td>...</td>\n      <td>...</td>\n      <td>...</td>\n      <td>...</td>\n      <td>...</td>\n    </tr>\n    <tr>\n      <th>12229</th>\n      <td>chr11</td>\n      <td>64118213</td>\n      <td>C</td>\n      <td>T</td>\n      <td>0.984</td>\n      <td>0</td>\n      <td>60</td>\n      <td>1|1</td>\n      <td>NaN</td>\n      <td>SNP</td>\n      <td>...</td>\n      <td>NaN</td>\n      <td>NaN</td>\n      <td>NaN</td>\n      <td>NaN</td>\n      <td>ACH-000234</td>\n      <td>Unknown</td>\n      <td>ENST00000246841.3</td>\n      <td>0.1162</td>\n      <td>likely_benign</td>\n      <td>isoform</td>\n    </tr>\n    <tr>\n      <th>12230</th>\n      <td>chr12</td>\n      <td>2566502</td>\n      <td>T</td>\n      <td>G</td>\n      <td>0.268</td>\n      <td>7</td>\n      <td>2</td>\n      <td>0|1</td>\n      <td>2566502.0</td>\n      <td>SNP</td>\n      <td>...</td>\n      <td>NaN</td>\n      <td>NaN</td>\n      <td>NaN</td>\n      <td>NaN</td>\n      <td>ACH-000234</td>\n      <td>775.0</td>\n      <td>ENST00000399655.6</td>\n      <td>0.9342</td>\n      <td>likely_pathogenic</td>\n      <td>isoform</td>\n    </tr>\n    <tr>\n      <th>12231</th>\n      <td>chr12</td>\n      <td>70635797</td>\n      <td>G</td>\n      <td>C</td>\n      <td>0.325</td>\n      <td>32</td>\n      <td>15</td>\n      <td>0/1</td>\n      <td>NaN</td>\n      <td>SNP</td>\n      <td>...</td>\n      <td>NaN</td>\n      <td>NaN</td>\n      <td>NaN</td>\n      <td>NaN</td>\n      <td>ACH-000234</td>\n      <td>5787.0</td>\n      <td>ENST00000334414.10</td>\n      <td>0.0939</td>\n      <td>likely_benign</td>\n      <td>isoform</td>\n    </tr>\n    <tr>\n      <th>12232</th>\n      <td>chr12</td>\n      <td>88192668</td>\n      <td>G</td>\n      <td>C</td>\n      <td>0.402</td>\n      <td>58</td>\n      <td>40</td>\n      <td>0/1</td>\n      <td>NaN</td>\n      <td>SNP</td>\n      <td>...</td>\n      <td>NaN</td>\n      <td>NaN</td>\n      <td>NaN</td>\n      <td>NaN</td>\n      <td>ACH-000234</td>\n      <td>160418.0</td>\n      <td>ENST00000266712.11</td>\n      <td>0.1018</td>\n      <td>likely_benign</td>\n      <td>isoform</td>\n    </tr>\n    <tr>\n      <th>12233</th>\n      <td>chr17</td>\n      <td>5105919</td>\n      <td>G</td>\n      <td>A</td>\n      <td>0.477</td>\n      <td>55</td>\n      <td>49</td>\n      <td>0/1</td>\n      <td>NaN</td>\n      <td>SNP</td>\n      <td>...</td>\n      <td>NaN</td>\n      <td>NaN</td>\n      <td>NaN</td>\n      <td>NaN</td>\n      <td>ACH-000234</td>\n      <td>7775.0</td>\n      <td>ENST00000575898.5</td>\n      <td>0.9779</td>\n      <td>likely_pathogenic</td>\n      <td>isoform</td>\n    </tr>\n  </tbody>\n</table>\n<p>11787 rows × 60 columns</p>\n</div>"
     },
     "execution_count": 64,
     "metadata": {},
     "output_type": "execute_result"
    }
   ],
   "source": [
    "missense_snp_complete"
   ],
   "metadata": {
    "collapsed": false,
    "ExecuteTime": {
     "end_time": "2023-12-29T16:42:41.117810500Z",
     "start_time": "2023-12-29T16:42:41.055311600Z"
    }
   },
   "id": "eae11dc63f7c0ce5"
  },
  {
   "cell_type": "code",
   "execution_count": 45,
   "outputs": [
    {
     "name": "stdout",
     "output_type": "stream",
     "text": [
      "Running time: 0:06:47.242254\n"
     ]
    }
   ],
   "source": [
    "end_time = datetime.datetime.now()\n",
    "\n",
    "running_time = end_time - start_time\n",
    "\n",
    "print(f'Running time: {running_time}')"
   ],
   "metadata": {
    "collapsed": false,
    "ExecuteTime": {
     "end_time": "2023-12-29T15:26:31.718769300Z",
     "start_time": "2023-12-29T15:26:31.407319700Z"
    }
   },
   "id": "831996aff08cdcdf"
  },
  {
   "cell_type": "code",
   "execution_count": 88,
   "outputs": [
    {
     "name": "stdout",
     "output_type": "stream",
     "text": [
      "6718\n"
     ]
    },
    {
     "data": {
      "text/plain": "        Chrom        Pos Ref Alt     AF  RefCount  AltCount   GT  PS  \\\n29670    chr1     963249   G   A  0.303        22         9  0/1 NaN   \n29674    chr1    2512914   G   T  0.488        21        19  0/1 NaN   \n29675    chr1    2561696   C   T  0.320        24        12  0/1 NaN   \n29676    chr1    2789833   C   A  0.534         6         7  0/1 NaN   \n29677    chr1    5867853   C   T  0.600        18        26  0/1 NaN   \n...       ...        ...  ..  ..    ...       ...       ...  ...  ..   \n1296633  chrX  153954753   T   C  0.857         0         6  0/1 NaN   \n1296636  chrM       8764   G   A  0.923         0        12  1|1 NaN   \n1296637  chrM       9055   G   A  0.952         0        20  1|1 NaN   \n1296640  chrM      11025   T   C  0.946         0        19  1|1 NaN   \n1296643  chrM      14798   T   C  0.964         0        28  1|1 NaN   \n\n        VariantType  ... RevelScore Funseq2Score PharmgkbID DidaID DidaName  \\\n29670           SNP  ...      0.976     3.000000        NaN    NaN      NaN   \n29674           SNP  ...      0.436     1.000000        NaN    NaN      NaN   \n29675           SNP  ...      0.071     2.000000        NaN    NaN      NaN   \n29676           SNP  ...        NaN     0.166928        NaN    NaN      NaN   \n29677           SNP  ...      0.377     3.000000        NaN    NaN      NaN   \n...             ...  ...        ...          ...        ...    ...      ...   \n1296633         SNP  ...      0.006     2.000000        NaN    NaN      NaN   \n1296636         SNP  ...        NaN          NaN        NaN    NaN      NaN   \n1296637         SNP  ...        NaN          NaN        NaN    NaN      NaN   \n1296640         SNP  ...        NaN          NaN        NaN    NaN      NaN   \n1296643         SNP  ...        NaN          NaN        NaN    NaN      NaN   \n\n        GwasDisease GwasPmID  GTexGene     ModelID EntrezGeneID  \n29670           NaN      NaN       NaN  ACH-000856     339451.0  \n29674           NaN      NaN       NaN  ACH-000856      55229.0  \n29675           NaN      NaN       NaN  ACH-000856       8764.0  \n29676           NaN      NaN       NaN  ACH-000856  100287898.0  \n29677           NaN      NaN       NaN  ACH-000856     261734.0  \n...             ...      ...       ...         ...          ...  \n1296633         NaN      NaN       NaN  ACH-000234       3054.0  \n1296636         NaN      NaN       NaN  ACH-000234       4508.0  \n1296637         NaN      NaN       NaN  ACH-000234       4508.0  \n1296640         NaN      NaN       NaN  ACH-000234       4538.0  \n1296643         NaN      NaN       NaN  ACH-000234       4519.0  \n\n[10876 rows x 56 columns]",
      "text/html": "<div>\n<style scoped>\n    .dataframe tbody tr th:only-of-type {\n        vertical-align: middle;\n    }\n\n    .dataframe tbody tr th {\n        vertical-align: top;\n    }\n\n    .dataframe thead th {\n        text-align: right;\n    }\n</style>\n<table border=\"1\" class=\"dataframe\">\n  <thead>\n    <tr style=\"text-align: right;\">\n      <th></th>\n      <th>Chrom</th>\n      <th>Pos</th>\n      <th>Ref</th>\n      <th>Alt</th>\n      <th>AF</th>\n      <th>RefCount</th>\n      <th>AltCount</th>\n      <th>GT</th>\n      <th>PS</th>\n      <th>VariantType</th>\n      <th>...</th>\n      <th>RevelScore</th>\n      <th>Funseq2Score</th>\n      <th>PharmgkbID</th>\n      <th>DidaID</th>\n      <th>DidaName</th>\n      <th>GwasDisease</th>\n      <th>GwasPmID</th>\n      <th>GTexGene</th>\n      <th>ModelID</th>\n      <th>EntrezGeneID</th>\n    </tr>\n  </thead>\n  <tbody>\n    <tr>\n      <th>29670</th>\n      <td>chr1</td>\n      <td>963249</td>\n      <td>G</td>\n      <td>A</td>\n      <td>0.303</td>\n      <td>22</td>\n      <td>9</td>\n      <td>0/1</td>\n      <td>NaN</td>\n      <td>SNP</td>\n      <td>...</td>\n      <td>0.976</td>\n      <td>3.000000</td>\n      <td>NaN</td>\n      <td>NaN</td>\n      <td>NaN</td>\n      <td>NaN</td>\n      <td>NaN</td>\n      <td>NaN</td>\n      <td>ACH-000856</td>\n      <td>339451.0</td>\n    </tr>\n    <tr>\n      <th>29674</th>\n      <td>chr1</td>\n      <td>2512914</td>\n      <td>G</td>\n      <td>T</td>\n      <td>0.488</td>\n      <td>21</td>\n      <td>19</td>\n      <td>0/1</td>\n      <td>NaN</td>\n      <td>SNP</td>\n      <td>...</td>\n      <td>0.436</td>\n      <td>1.000000</td>\n      <td>NaN</td>\n      <td>NaN</td>\n      <td>NaN</td>\n      <td>NaN</td>\n      <td>NaN</td>\n      <td>NaN</td>\n      <td>ACH-000856</td>\n      <td>55229.0</td>\n    </tr>\n    <tr>\n      <th>29675</th>\n      <td>chr1</td>\n      <td>2561696</td>\n      <td>C</td>\n      <td>T</td>\n      <td>0.320</td>\n      <td>24</td>\n      <td>12</td>\n      <td>0/1</td>\n      <td>NaN</td>\n      <td>SNP</td>\n      <td>...</td>\n      <td>0.071</td>\n      <td>2.000000</td>\n      <td>NaN</td>\n      <td>NaN</td>\n      <td>NaN</td>\n      <td>NaN</td>\n      <td>NaN</td>\n      <td>NaN</td>\n      <td>ACH-000856</td>\n      <td>8764.0</td>\n    </tr>\n    <tr>\n      <th>29676</th>\n      <td>chr1</td>\n      <td>2789833</td>\n      <td>C</td>\n      <td>A</td>\n      <td>0.534</td>\n      <td>6</td>\n      <td>7</td>\n      <td>0/1</td>\n      <td>NaN</td>\n      <td>SNP</td>\n      <td>...</td>\n      <td>NaN</td>\n      <td>0.166928</td>\n      <td>NaN</td>\n      <td>NaN</td>\n      <td>NaN</td>\n      <td>NaN</td>\n      <td>NaN</td>\n      <td>NaN</td>\n      <td>ACH-000856</td>\n      <td>100287898.0</td>\n    </tr>\n    <tr>\n      <th>29677</th>\n      <td>chr1</td>\n      <td>5867853</td>\n      <td>C</td>\n      <td>T</td>\n      <td>0.600</td>\n      <td>18</td>\n      <td>26</td>\n      <td>0/1</td>\n      <td>NaN</td>\n      <td>SNP</td>\n      <td>...</td>\n      <td>0.377</td>\n      <td>3.000000</td>\n      <td>NaN</td>\n      <td>NaN</td>\n      <td>NaN</td>\n      <td>NaN</td>\n      <td>NaN</td>\n      <td>NaN</td>\n      <td>ACH-000856</td>\n      <td>261734.0</td>\n    </tr>\n    <tr>\n      <th>...</th>\n      <td>...</td>\n      <td>...</td>\n      <td>...</td>\n      <td>...</td>\n      <td>...</td>\n      <td>...</td>\n      <td>...</td>\n      <td>...</td>\n      <td>...</td>\n      <td>...</td>\n      <td>...</td>\n      <td>...</td>\n      <td>...</td>\n      <td>...</td>\n      <td>...</td>\n      <td>...</td>\n      <td>...</td>\n      <td>...</td>\n      <td>...</td>\n      <td>...</td>\n      <td>...</td>\n    </tr>\n    <tr>\n      <th>1296633</th>\n      <td>chrX</td>\n      <td>153954753</td>\n      <td>T</td>\n      <td>C</td>\n      <td>0.857</td>\n      <td>0</td>\n      <td>6</td>\n      <td>0/1</td>\n      <td>NaN</td>\n      <td>SNP</td>\n      <td>...</td>\n      <td>0.006</td>\n      <td>2.000000</td>\n      <td>NaN</td>\n      <td>NaN</td>\n      <td>NaN</td>\n      <td>NaN</td>\n      <td>NaN</td>\n      <td>NaN</td>\n      <td>ACH-000234</td>\n      <td>3054.0</td>\n    </tr>\n    <tr>\n      <th>1296636</th>\n      <td>chrM</td>\n      <td>8764</td>\n      <td>G</td>\n      <td>A</td>\n      <td>0.923</td>\n      <td>0</td>\n      <td>12</td>\n      <td>1|1</td>\n      <td>NaN</td>\n      <td>SNP</td>\n      <td>...</td>\n      <td>NaN</td>\n      <td>NaN</td>\n      <td>NaN</td>\n      <td>NaN</td>\n      <td>NaN</td>\n      <td>NaN</td>\n      <td>NaN</td>\n      <td>NaN</td>\n      <td>ACH-000234</td>\n      <td>4508.0</td>\n    </tr>\n    <tr>\n      <th>1296637</th>\n      <td>chrM</td>\n      <td>9055</td>\n      <td>G</td>\n      <td>A</td>\n      <td>0.952</td>\n      <td>0</td>\n      <td>20</td>\n      <td>1|1</td>\n      <td>NaN</td>\n      <td>SNP</td>\n      <td>...</td>\n      <td>NaN</td>\n      <td>NaN</td>\n      <td>NaN</td>\n      <td>NaN</td>\n      <td>NaN</td>\n      <td>NaN</td>\n      <td>NaN</td>\n      <td>NaN</td>\n      <td>ACH-000234</td>\n      <td>4508.0</td>\n    </tr>\n    <tr>\n      <th>1296640</th>\n      <td>chrM</td>\n      <td>11025</td>\n      <td>T</td>\n      <td>C</td>\n      <td>0.946</td>\n      <td>0</td>\n      <td>19</td>\n      <td>1|1</td>\n      <td>NaN</td>\n      <td>SNP</td>\n      <td>...</td>\n      <td>NaN</td>\n      <td>NaN</td>\n      <td>NaN</td>\n      <td>NaN</td>\n      <td>NaN</td>\n      <td>NaN</td>\n      <td>NaN</td>\n      <td>NaN</td>\n      <td>ACH-000234</td>\n      <td>4538.0</td>\n    </tr>\n    <tr>\n      <th>1296643</th>\n      <td>chrM</td>\n      <td>14798</td>\n      <td>T</td>\n      <td>C</td>\n      <td>0.964</td>\n      <td>0</td>\n      <td>28</td>\n      <td>1|1</td>\n      <td>NaN</td>\n      <td>SNP</td>\n      <td>...</td>\n      <td>NaN</td>\n      <td>NaN</td>\n      <td>NaN</td>\n      <td>NaN</td>\n      <td>NaN</td>\n      <td>NaN</td>\n      <td>NaN</td>\n      <td>NaN</td>\n      <td>ACH-000234</td>\n      <td>4519.0</td>\n    </tr>\n  </tbody>\n</table>\n<p>10876 rows × 56 columns</p>\n</div>"
     },
     "execution_count": 88,
     "metadata": {},
     "output_type": "execute_result"
    }
   ],
   "source": [
    "#How many of the transcripts in the mutations file are in the alpha missense data?\n",
    "# 10,563 transcripts with mutations in our cell lines of interest\n",
    "available_transcripts = set(missense_snp_transcripts).intersection(set(alpha_missense_primary_transcripts + alpha_missense_isoform_transcripts))\n",
    "print(len(available_transcripts))\n",
    "missense_snp[missense_snp['Transcript'].isin(available_transcripts)]"
   ],
   "metadata": {
    "collapsed": false,
    "ExecuteTime": {
     "end_time": "2023-12-29T17:56:37.292074700Z",
     "start_time": "2023-12-29T17:56:34.633375500Z"
    }
   },
   "id": "a85c803f1c73667"
  },
  {
   "cell_type": "code",
   "execution_count": null,
   "outputs": [],
   "source": [
    "# Function assigns lof and gof label depending on whether protein is onc/tsg/kinase/other\n",
    "def lof_gof(x):\n",
    "\n",
    "    if x in tsgs:\n",
    "        return 'lof'\n",
    "    elif x in oncs:\n",
    "        return 'gof'\n",
    "    elif x in kinases:\n",
    "        return 'gof'\n",
    "    else:\n",
    "        return 'lof'"
   ],
   "metadata": {
    "collapsed": false
   },
   "id": "4f02f80d933615b5"
  },
  {
   "cell_type": "code",
   "execution_count": null,
   "outputs": [],
   "source": [
    "# Add lof_gof column and map to lof_gof function. Each mutation (row) in df3_sm will be labelled lof/gof\n",
    "df3_sm['lof_gof'] = df3_sm['Protein stable ID'].map(lof_gof)"
   ],
   "metadata": {
    "collapsed": false
   },
   "id": "be822cf8fc3472d2"
  }
 ],
 "metadata": {
  "kernelspec": {
   "display_name": "Python 3",
   "language": "python",
   "name": "python3"
  },
  "language_info": {
   "codemirror_mode": {
    "name": "ipython",
    "version": 2
   },
   "file_extension": ".py",
   "mimetype": "text/x-python",
   "name": "python",
   "nbconvert_exporter": "python",
   "pygments_lexer": "ipython2",
   "version": "2.7.6"
  }
 },
 "nbformat": 4,
 "nbformat_minor": 5
}
