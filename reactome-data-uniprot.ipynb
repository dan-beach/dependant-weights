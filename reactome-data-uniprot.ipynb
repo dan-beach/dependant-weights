{
 "cells": [
  {
   "cell_type": "code",
   "execution_count": 23,
   "outputs": [],
   "source": [
    "import os\n",
    "import pandas as pd\n",
    "import matplotlib.pyplot as plt\n",
    "from biomart import BiomartServer\n",
    "import io"
   ],
   "metadata": {
    "collapsed": false,
    "ExecuteTime": {
     "end_time": "2023-12-15T09:25:12.980149900Z",
     "start_time": "2023-12-15T09:25:12.964129600Z"
    }
   },
   "id": "initial_id"
  },
  {
   "cell_type": "code",
   "execution_count": 24,
   "outputs": [
    {
     "data": {
      "text/plain": "['biomart',\n 'depmap',\n 'missing_gene_names.csv',\n 'pathway_commons',\n 'reactome',\n 'reactome_rows_to_drop.csv',\n 'string']"
     },
     "execution_count": 24,
     "metadata": {},
     "output_type": "execute_result"
    }
   ],
   "source": [
    "#os.getcwd()\n",
    "\n",
    "# Linux workstation\n",
    "#data_path = '/home/db600/phd/data/'\n",
    "\n",
    "# Laptop\n",
    "data_path = 'C:\\\\Users\\\\dan\\\\Documents\\\\phd\\\\data\\\\'\n",
    "\n",
    "os.listdir(data_path)"
   ],
   "metadata": {
    "collapsed": false,
    "ExecuteTime": {
     "end_time": "2023-12-15T09:25:15.017141700Z",
     "start_time": "2023-12-15T09:25:15.001506300Z"
    }
   },
   "id": "e734db8459feaf32"
  },
  {
   "cell_type": "code",
   "execution_count": 25,
   "outputs": [
    {
     "data": {
      "text/plain": "['reactome.homo_sapiens.interactions.tab-delimited_downloaded_23_10_23.txt',\n 'reactome_dropped_rows.csv',\n 'reactome_ppi.csv',\n 'test_dropped_rows.csv']"
     },
     "execution_count": 25,
     "metadata": {},
     "output_type": "execute_result"
    }
   ],
   "source": [
    "os.listdir(data_path +'/reactome/')"
   ],
   "metadata": {
    "collapsed": false,
    "ExecuteTime": {
     "end_time": "2023-12-15T09:25:16.921349400Z",
     "start_time": "2023-12-15T09:25:16.905727Z"
    }
   },
   "id": "9bf0f08e1d21ac42"
  },
  {
   "cell_type": "code",
   "execution_count": 26,
   "outputs": [
    {
     "name": "stdout",
     "output_type": "stream",
     "text": [
      "Index(['# Interactor 1 uniprot id', 'Interactor 1 Ensembl gene id',\n",
      "       'Interactor 1 Entrez Gene id', 'Interactor 2 uniprot id',\n",
      "       'Interactor 2 Ensembl gene id', 'Interactor 2 Entrez Gene id',\n",
      "       'Interaction type', 'Interaction context', 'Pubmed references'],\n",
      "      dtype='object')\n"
     ]
    },
    {
     "data": {
      "text/plain": "       # Interactor 1 uniprot id  \\\n106137          uniprotkb:P08588   \n106138          uniprotkb:P08588   \n106139          uniprotkb:P13945   \n106140          uniprotkb:P13945   \n106141          uniprotkb:P13945   \n\n                             Interactor 1 Ensembl gene id  \\\n106137  ENSEMBL:ENSP00000358301|ENSEMBL:ENSG0000004359...   \n106138  ENSEMBL:ENSP00000358301|ENSEMBL:ENSG0000004359...   \n106139  ENSEMBL:ENST00000345060|ENSEMBL:ENSG0000018877...   \n106140  ENSEMBL:ENST00000345060|ENSEMBL:ENSG0000018877...   \n106141  ENSEMBL:ENST00000345060|ENSEMBL:ENSG0000018877...   \n\n       Interactor 1 Entrez Gene id Interactor 2 uniprot id  \\\n106137                           -  reactome:R-ALL-9611688   \n106138                           -  reactome:R-ALL-9611741   \n106139                           -  reactome:R-ALL-9624761   \n106140                           -  reactome:R-ALL-9611841   \n106141                           -  reactome:R-ALL-9611838   \n\n       Interactor 2 Ensembl gene id Interactor 2 Entrez Gene id  \\\n106137                            -                           -   \n106138                            -                           -   \n106139                            -                           -   \n106140                            -                           -   \n106141                            -                           -   \n\n            Interaction type     Interaction context  \\\n106137  physical association  reactome:R-HSA-9611721   \n106138  physical association  reactome:R-HSA-9611721   \n106139  physical association  reactome:R-HSA-9611839   \n106140  physical association  reactome:R-HSA-9611839   \n106141  physical association  reactome:R-HSA-9611839   \n\n                          Pubmed references  \n106137                             10531390  \n106138                             10531390  \n106139  23148172|24890609|27965369|16480771  \n106140  23148172|24890609|27965369|16480771  \n106141  23148172|24890609|27965369|16480771  ",
      "text/html": "<div>\n<style scoped>\n    .dataframe tbody tr th:only-of-type {\n        vertical-align: middle;\n    }\n\n    .dataframe tbody tr th {\n        vertical-align: top;\n    }\n\n    .dataframe thead th {\n        text-align: right;\n    }\n</style>\n<table border=\"1\" class=\"dataframe\">\n  <thead>\n    <tr style=\"text-align: right;\">\n      <th></th>\n      <th># Interactor 1 uniprot id</th>\n      <th>Interactor 1 Ensembl gene id</th>\n      <th>Interactor 1 Entrez Gene id</th>\n      <th>Interactor 2 uniprot id</th>\n      <th>Interactor 2 Ensembl gene id</th>\n      <th>Interactor 2 Entrez Gene id</th>\n      <th>Interaction type</th>\n      <th>Interaction context</th>\n      <th>Pubmed references</th>\n    </tr>\n  </thead>\n  <tbody>\n    <tr>\n      <th>106137</th>\n      <td>uniprotkb:P08588</td>\n      <td>ENSEMBL:ENSP00000358301|ENSEMBL:ENSG0000004359...</td>\n      <td>-</td>\n      <td>reactome:R-ALL-9611688</td>\n      <td>-</td>\n      <td>-</td>\n      <td>physical association</td>\n      <td>reactome:R-HSA-9611721</td>\n      <td>10531390</td>\n    </tr>\n    <tr>\n      <th>106138</th>\n      <td>uniprotkb:P08588</td>\n      <td>ENSEMBL:ENSP00000358301|ENSEMBL:ENSG0000004359...</td>\n      <td>-</td>\n      <td>reactome:R-ALL-9611741</td>\n      <td>-</td>\n      <td>-</td>\n      <td>physical association</td>\n      <td>reactome:R-HSA-9611721</td>\n      <td>10531390</td>\n    </tr>\n    <tr>\n      <th>106139</th>\n      <td>uniprotkb:P13945</td>\n      <td>ENSEMBL:ENST00000345060|ENSEMBL:ENSG0000018877...</td>\n      <td>-</td>\n      <td>reactome:R-ALL-9624761</td>\n      <td>-</td>\n      <td>-</td>\n      <td>physical association</td>\n      <td>reactome:R-HSA-9611839</td>\n      <td>23148172|24890609|27965369|16480771</td>\n    </tr>\n    <tr>\n      <th>106140</th>\n      <td>uniprotkb:P13945</td>\n      <td>ENSEMBL:ENST00000345060|ENSEMBL:ENSG0000018877...</td>\n      <td>-</td>\n      <td>reactome:R-ALL-9611841</td>\n      <td>-</td>\n      <td>-</td>\n      <td>physical association</td>\n      <td>reactome:R-HSA-9611839</td>\n      <td>23148172|24890609|27965369|16480771</td>\n    </tr>\n    <tr>\n      <th>106141</th>\n      <td>uniprotkb:P13945</td>\n      <td>ENSEMBL:ENST00000345060|ENSEMBL:ENSG0000018877...</td>\n      <td>-</td>\n      <td>reactome:R-ALL-9611838</td>\n      <td>-</td>\n      <td>-</td>\n      <td>physical association</td>\n      <td>reactome:R-HSA-9611839</td>\n      <td>23148172|24890609|27965369|16480771</td>\n    </tr>\n  </tbody>\n</table>\n</div>"
     },
     "execution_count": 26,
     "metadata": {},
     "output_type": "execute_result"
    }
   ],
   "source": [
    "reactome = pd.read_csv(data_path + '/reactome/reactome.homo_sapiens.interactions.tab-delimited_downloaded_23_10_23.txt', sep=\"\\t\")\n",
    "print(reactome.columns)\n",
    "reactome.tail()"
   ],
   "metadata": {
    "collapsed": false,
    "ExecuteTime": {
     "end_time": "2023-12-15T09:25:19.031688500Z",
     "start_time": "2023-12-15T09:25:18.757995200Z"
    }
   },
   "id": "911a8569b59173b9"
  },
  {
   "cell_type": "code",
   "execution_count": 42,
   "outputs": [
    {
     "data": {
      "text/plain": "       # Interactor 1 uniprot id  \\\n0               uniprotkb:Q9Y287   \n1               uniprotkb:P37840   \n2               uniprotkb:P0DJI8   \n3               uniprotkb:P06727   \n4               uniprotkb:P01160   \n...                          ...   \n106114          uniprotkb:Q7Z434   \n106116          uniprotkb:Q7Z434   \n106118          uniprotkb:Q7Z434   \n106122          uniprotkb:Q7Z434   \n106124          uniprotkb:Q13547   \n\n                             Interactor 1 Ensembl gene id  \\\n0       ENSEMBL:ENST00000378549|ENSEMBL:ENSP0000036781...   \n1       ENSEMBL:ENST00000394989|ENSEMBL:ENST0000039498...   \n2       ENSEMBL:ENST00000356524|ENSEMBL:ENSG0000017343...   \n3       ENSEMBL:ENSG00000110244|ENSEMBL:ENST0000035778...   \n4       ENSEMBL:ENSG00000175206|ENSEMBL:ENSP0000036566...   \n...                                                   ...   \n106114  ENSEMBL:ENSP00000413749|ENSEMBL:ENSG0000008888...   \n106116  ENSEMBL:ENSP00000413749|ENSEMBL:ENSG0000008888...   \n106118  ENSEMBL:ENSP00000413749|ENSEMBL:ENSG0000008888...   \n106122  ENSEMBL:ENSP00000413749|ENSEMBL:ENSG0000008888...   \n106124  ENSEMBL:ENSG00000116478|ENSEMBL:ENST0000037354...   \n\n       Interactor 1 Entrez Gene id Interactor 2 uniprot id  \\\n0                                -        uniprotkb:Q9Y287   \n1                                -        uniprotkb:P37840   \n2                                -        uniprotkb:P0DJI8   \n3                                -        uniprotkb:P06727   \n4                                -        uniprotkb:P01160   \n...                            ...                     ...   \n106114                           -        uniprotkb:Q8IUD6   \n106116                           -        uniprotkb:Q9BYX4   \n106118                           -        uniprotkb:Q14258   \n106122                           -        uniprotkb:O95786   \n106124                           -        uniprotkb:O42478   \n\n                             Interactor 2 Ensembl gene id  \\\n0       ENSEMBL:ENST00000378549|ENSEMBL:ENSP0000036781...   \n1       ENSEMBL:ENST00000394989|ENSEMBL:ENST0000039498...   \n2       ENSEMBL:ENST00000356524|ENSEMBL:ENSG0000017343...   \n3       ENSEMBL:ENSG00000110244|ENSEMBL:ENST0000035778...   \n4       ENSEMBL:ENSG00000175206|ENSEMBL:ENSP0000036566...   \n...                                                   ...   \n106114  ENSEMBL:ENSP00000323693|ENSEMBL:ENSP0000044047...   \n106116  ENSEMBL:ENSP00000497271|ENSEMBL:ENST0000042136...   \n106118  ENSEMBL:ENST00000316881|ENSEMBL:ENSG0000012106...   \n106122  ENSEMBL:ENST00000379883|ENSEMBL:ENSP0000036921...   \n106124                                                  -   \n\n       Interactor 2 Entrez Gene id      Interaction type  \\\n0                                -  physical association   \n1                                -  physical association   \n2                                -  physical association   \n3                                -  physical association   \n4                                -  physical association   \n...                            ...                   ...   \n106114                           -  physical association   \n106116                           -  physical association   \n106118                           -  physical association   \n106122                           -  physical association   \n106124                           -  physical association   \n\n           Interaction context                    Pubmed references  \n0        reactome:R-HSA-976871                    14690516|10391242  \n1       reactome:R-HSA-1247852                             24243840  \n2        reactome:R-HSA-976898                      19393650|103558  \n3        reactome:R-HSA-976889                             15146166  \n4        reactome:R-HSA-976987                      2142465|2945573  \n...                        ...                                  ...  \n106114   reactome:R-HSA-168909  16153868|16125763|18307765|16127453  \n106116   reactome:R-HSA-168909  16153868|16125763|18307765|16127453  \n106118   reactome:R-HSA-168909  16153868|16125763|18307765|16127453  \n106122   reactome:R-HSA-168909  16153868|16125763|18307765|16127453  \n106124  reactome:R-NUL-3299567            15121853|11266540|9819412  \n\n[71239 rows x 9 columns]",
      "text/html": "<div>\n<style scoped>\n    .dataframe tbody tr th:only-of-type {\n        vertical-align: middle;\n    }\n\n    .dataframe tbody tr th {\n        vertical-align: top;\n    }\n\n    .dataframe thead th {\n        text-align: right;\n    }\n</style>\n<table border=\"1\" class=\"dataframe\">\n  <thead>\n    <tr style=\"text-align: right;\">\n      <th></th>\n      <th># Interactor 1 uniprot id</th>\n      <th>Interactor 1 Ensembl gene id</th>\n      <th>Interactor 1 Entrez Gene id</th>\n      <th>Interactor 2 uniprot id</th>\n      <th>Interactor 2 Ensembl gene id</th>\n      <th>Interactor 2 Entrez Gene id</th>\n      <th>Interaction type</th>\n      <th>Interaction context</th>\n      <th>Pubmed references</th>\n    </tr>\n  </thead>\n  <tbody>\n    <tr>\n      <th>0</th>\n      <td>uniprotkb:Q9Y287</td>\n      <td>ENSEMBL:ENST00000378549|ENSEMBL:ENSP0000036781...</td>\n      <td>-</td>\n      <td>uniprotkb:Q9Y287</td>\n      <td>ENSEMBL:ENST00000378549|ENSEMBL:ENSP0000036781...</td>\n      <td>-</td>\n      <td>physical association</td>\n      <td>reactome:R-HSA-976871</td>\n      <td>14690516|10391242</td>\n    </tr>\n    <tr>\n      <th>1</th>\n      <td>uniprotkb:P37840</td>\n      <td>ENSEMBL:ENST00000394989|ENSEMBL:ENST0000039498...</td>\n      <td>-</td>\n      <td>uniprotkb:P37840</td>\n      <td>ENSEMBL:ENST00000394989|ENSEMBL:ENST0000039498...</td>\n      <td>-</td>\n      <td>physical association</td>\n      <td>reactome:R-HSA-1247852</td>\n      <td>24243840</td>\n    </tr>\n    <tr>\n      <th>2</th>\n      <td>uniprotkb:P0DJI8</td>\n      <td>ENSEMBL:ENST00000356524|ENSEMBL:ENSG0000017343...</td>\n      <td>-</td>\n      <td>uniprotkb:P0DJI8</td>\n      <td>ENSEMBL:ENST00000356524|ENSEMBL:ENSG0000017343...</td>\n      <td>-</td>\n      <td>physical association</td>\n      <td>reactome:R-HSA-976898</td>\n      <td>19393650|103558</td>\n    </tr>\n    <tr>\n      <th>3</th>\n      <td>uniprotkb:P06727</td>\n      <td>ENSEMBL:ENSG00000110244|ENSEMBL:ENST0000035778...</td>\n      <td>-</td>\n      <td>uniprotkb:P06727</td>\n      <td>ENSEMBL:ENSG00000110244|ENSEMBL:ENST0000035778...</td>\n      <td>-</td>\n      <td>physical association</td>\n      <td>reactome:R-HSA-976889</td>\n      <td>15146166</td>\n    </tr>\n    <tr>\n      <th>4</th>\n      <td>uniprotkb:P01160</td>\n      <td>ENSEMBL:ENSG00000175206|ENSEMBL:ENSP0000036566...</td>\n      <td>-</td>\n      <td>uniprotkb:P01160</td>\n      <td>ENSEMBL:ENSG00000175206|ENSEMBL:ENSP0000036566...</td>\n      <td>-</td>\n      <td>physical association</td>\n      <td>reactome:R-HSA-976987</td>\n      <td>2142465|2945573</td>\n    </tr>\n    <tr>\n      <th>...</th>\n      <td>...</td>\n      <td>...</td>\n      <td>...</td>\n      <td>...</td>\n      <td>...</td>\n      <td>...</td>\n      <td>...</td>\n      <td>...</td>\n      <td>...</td>\n    </tr>\n    <tr>\n      <th>106114</th>\n      <td>uniprotkb:Q7Z434</td>\n      <td>ENSEMBL:ENSP00000413749|ENSEMBL:ENSG0000008888...</td>\n      <td>-</td>\n      <td>uniprotkb:Q8IUD6</td>\n      <td>ENSEMBL:ENSP00000323693|ENSEMBL:ENSP0000044047...</td>\n      <td>-</td>\n      <td>physical association</td>\n      <td>reactome:R-HSA-168909</td>\n      <td>16153868|16125763|18307765|16127453</td>\n    </tr>\n    <tr>\n      <th>106116</th>\n      <td>uniprotkb:Q7Z434</td>\n      <td>ENSEMBL:ENSP00000413749|ENSEMBL:ENSG0000008888...</td>\n      <td>-</td>\n      <td>uniprotkb:Q9BYX4</td>\n      <td>ENSEMBL:ENSP00000497271|ENSEMBL:ENST0000042136...</td>\n      <td>-</td>\n      <td>physical association</td>\n      <td>reactome:R-HSA-168909</td>\n      <td>16153868|16125763|18307765|16127453</td>\n    </tr>\n    <tr>\n      <th>106118</th>\n      <td>uniprotkb:Q7Z434</td>\n      <td>ENSEMBL:ENSP00000413749|ENSEMBL:ENSG0000008888...</td>\n      <td>-</td>\n      <td>uniprotkb:Q14258</td>\n      <td>ENSEMBL:ENST00000316881|ENSEMBL:ENSG0000012106...</td>\n      <td>-</td>\n      <td>physical association</td>\n      <td>reactome:R-HSA-168909</td>\n      <td>16153868|16125763|18307765|16127453</td>\n    </tr>\n    <tr>\n      <th>106122</th>\n      <td>uniprotkb:Q7Z434</td>\n      <td>ENSEMBL:ENSP00000413749|ENSEMBL:ENSG0000008888...</td>\n      <td>-</td>\n      <td>uniprotkb:O95786</td>\n      <td>ENSEMBL:ENST00000379883|ENSEMBL:ENSP0000036921...</td>\n      <td>-</td>\n      <td>physical association</td>\n      <td>reactome:R-HSA-168909</td>\n      <td>16153868|16125763|18307765|16127453</td>\n    </tr>\n    <tr>\n      <th>106124</th>\n      <td>uniprotkb:Q13547</td>\n      <td>ENSEMBL:ENSG00000116478|ENSEMBL:ENST0000037354...</td>\n      <td>-</td>\n      <td>uniprotkb:O42478</td>\n      <td>-</td>\n      <td>-</td>\n      <td>physical association</td>\n      <td>reactome:R-NUL-3299567</td>\n      <td>15121853|11266540|9819412</td>\n    </tr>\n  </tbody>\n</table>\n<p>71239 rows × 9 columns</p>\n</div>"
     },
     "execution_count": 42,
     "metadata": {},
     "output_type": "execute_result"
    }
   ],
   "source": [
    "# Get interactions with two uniprot IDs\n",
    "reactome_uniprot = reactome[(reactome['# Interactor 1 uniprot id'].str.contains('uniprotkb')) & (reactome['Interactor 2 uniprot id'].str.contains('uniprotkb'))]\n",
    "reactome_uniprot"
   ],
   "metadata": {
    "collapsed": false,
    "ExecuteTime": {
     "end_time": "2023-12-15T09:30:34.848729300Z",
     "start_time": "2023-12-15T09:30:34.754550700Z"
    }
   },
   "id": "3483b70b58b7e6b3"
  },
  {
   "cell_type": "code",
   "execution_count": 43,
   "outputs": [
    {
     "name": "stderr",
     "output_type": "stream",
     "text": [
      "C:\\Users\\dan\\AppData\\Local\\Temp\\ipykernel_28864\\3823400440.py:1: SettingWithCopyWarning: \n",
      "A value is trying to be set on a copy of a slice from a DataFrame.\n",
      "Try using .loc[row_indexer,col_indexer] = value instead\n",
      "\n",
      "See the caveats in the documentation: https://pandas.pydata.org/pandas-docs/stable/user_guide/indexing.html#returning-a-view-versus-a-copy\n",
      "  reactome_uniprot['# Interactor 1 uniprot id'] = reactome_uniprot['# Interactor 1 uniprot id'].str.split(':').str[1]\n",
      "C:\\Users\\dan\\AppData\\Local\\Temp\\ipykernel_28864\\3823400440.py:2: SettingWithCopyWarning: \n",
      "A value is trying to be set on a copy of a slice from a DataFrame.\n",
      "Try using .loc[row_indexer,col_indexer] = value instead\n",
      "\n",
      "See the caveats in the documentation: https://pandas.pydata.org/pandas-docs/stable/user_guide/indexing.html#returning-a-view-versus-a-copy\n",
      "  reactome_uniprot['Interactor 2 uniprot id'] = reactome_uniprot['Interactor 2 uniprot id'].str.split(':').str[1]\n"
     ]
    },
    {
     "data": {
      "text/plain": "       # Interactor 1 uniprot id  \\\n0                         Q9Y287   \n1                         P37840   \n2                         P0DJI8   \n3                         P06727   \n4                         P01160   \n...                          ...   \n106114                    Q7Z434   \n106116                    Q7Z434   \n106118                    Q7Z434   \n106122                    Q7Z434   \n106124                    Q13547   \n\n                             Interactor 1 Ensembl gene id  \\\n0       ENSEMBL:ENST00000378549|ENSEMBL:ENSP0000036781...   \n1       ENSEMBL:ENST00000394989|ENSEMBL:ENST0000039498...   \n2       ENSEMBL:ENST00000356524|ENSEMBL:ENSG0000017343...   \n3       ENSEMBL:ENSG00000110244|ENSEMBL:ENST0000035778...   \n4       ENSEMBL:ENSG00000175206|ENSEMBL:ENSP0000036566...   \n...                                                   ...   \n106114  ENSEMBL:ENSP00000413749|ENSEMBL:ENSG0000008888...   \n106116  ENSEMBL:ENSP00000413749|ENSEMBL:ENSG0000008888...   \n106118  ENSEMBL:ENSP00000413749|ENSEMBL:ENSG0000008888...   \n106122  ENSEMBL:ENSP00000413749|ENSEMBL:ENSG0000008888...   \n106124  ENSEMBL:ENSG00000116478|ENSEMBL:ENST0000037354...   \n\n       Interactor 1 Entrez Gene id Interactor 2 uniprot id  \\\n0                                -                  Q9Y287   \n1                                -                  P37840   \n2                                -                  P0DJI8   \n3                                -                  P06727   \n4                                -                  P01160   \n...                            ...                     ...   \n106114                           -                  Q8IUD6   \n106116                           -                  Q9BYX4   \n106118                           -                  Q14258   \n106122                           -                  O95786   \n106124                           -                  O42478   \n\n                             Interactor 2 Ensembl gene id  \\\n0       ENSEMBL:ENST00000378549|ENSEMBL:ENSP0000036781...   \n1       ENSEMBL:ENST00000394989|ENSEMBL:ENST0000039498...   \n2       ENSEMBL:ENST00000356524|ENSEMBL:ENSG0000017343...   \n3       ENSEMBL:ENSG00000110244|ENSEMBL:ENST0000035778...   \n4       ENSEMBL:ENSG00000175206|ENSEMBL:ENSP0000036566...   \n...                                                   ...   \n106114  ENSEMBL:ENSP00000323693|ENSEMBL:ENSP0000044047...   \n106116  ENSEMBL:ENSP00000497271|ENSEMBL:ENST0000042136...   \n106118  ENSEMBL:ENST00000316881|ENSEMBL:ENSG0000012106...   \n106122  ENSEMBL:ENST00000379883|ENSEMBL:ENSP0000036921...   \n106124                                                  -   \n\n       Interactor 2 Entrez Gene id      Interaction type  \\\n0                                -  physical association   \n1                                -  physical association   \n2                                -  physical association   \n3                                -  physical association   \n4                                -  physical association   \n...                            ...                   ...   \n106114                           -  physical association   \n106116                           -  physical association   \n106118                           -  physical association   \n106122                           -  physical association   \n106124                           -  physical association   \n\n           Interaction context                    Pubmed references  \n0        reactome:R-HSA-976871                    14690516|10391242  \n1       reactome:R-HSA-1247852                             24243840  \n2        reactome:R-HSA-976898                      19393650|103558  \n3        reactome:R-HSA-976889                             15146166  \n4        reactome:R-HSA-976987                      2142465|2945573  \n...                        ...                                  ...  \n106114   reactome:R-HSA-168909  16153868|16125763|18307765|16127453  \n106116   reactome:R-HSA-168909  16153868|16125763|18307765|16127453  \n106118   reactome:R-HSA-168909  16153868|16125763|18307765|16127453  \n106122   reactome:R-HSA-168909  16153868|16125763|18307765|16127453  \n106124  reactome:R-NUL-3299567            15121853|11266540|9819412  \n\n[71239 rows x 9 columns]",
      "text/html": "<div>\n<style scoped>\n    .dataframe tbody tr th:only-of-type {\n        vertical-align: middle;\n    }\n\n    .dataframe tbody tr th {\n        vertical-align: top;\n    }\n\n    .dataframe thead th {\n        text-align: right;\n    }\n</style>\n<table border=\"1\" class=\"dataframe\">\n  <thead>\n    <tr style=\"text-align: right;\">\n      <th></th>\n      <th># Interactor 1 uniprot id</th>\n      <th>Interactor 1 Ensembl gene id</th>\n      <th>Interactor 1 Entrez Gene id</th>\n      <th>Interactor 2 uniprot id</th>\n      <th>Interactor 2 Ensembl gene id</th>\n      <th>Interactor 2 Entrez Gene id</th>\n      <th>Interaction type</th>\n      <th>Interaction context</th>\n      <th>Pubmed references</th>\n    </tr>\n  </thead>\n  <tbody>\n    <tr>\n      <th>0</th>\n      <td>Q9Y287</td>\n      <td>ENSEMBL:ENST00000378549|ENSEMBL:ENSP0000036781...</td>\n      <td>-</td>\n      <td>Q9Y287</td>\n      <td>ENSEMBL:ENST00000378549|ENSEMBL:ENSP0000036781...</td>\n      <td>-</td>\n      <td>physical association</td>\n      <td>reactome:R-HSA-976871</td>\n      <td>14690516|10391242</td>\n    </tr>\n    <tr>\n      <th>1</th>\n      <td>P37840</td>\n      <td>ENSEMBL:ENST00000394989|ENSEMBL:ENST0000039498...</td>\n      <td>-</td>\n      <td>P37840</td>\n      <td>ENSEMBL:ENST00000394989|ENSEMBL:ENST0000039498...</td>\n      <td>-</td>\n      <td>physical association</td>\n      <td>reactome:R-HSA-1247852</td>\n      <td>24243840</td>\n    </tr>\n    <tr>\n      <th>2</th>\n      <td>P0DJI8</td>\n      <td>ENSEMBL:ENST00000356524|ENSEMBL:ENSG0000017343...</td>\n      <td>-</td>\n      <td>P0DJI8</td>\n      <td>ENSEMBL:ENST00000356524|ENSEMBL:ENSG0000017343...</td>\n      <td>-</td>\n      <td>physical association</td>\n      <td>reactome:R-HSA-976898</td>\n      <td>19393650|103558</td>\n    </tr>\n    <tr>\n      <th>3</th>\n      <td>P06727</td>\n      <td>ENSEMBL:ENSG00000110244|ENSEMBL:ENST0000035778...</td>\n      <td>-</td>\n      <td>P06727</td>\n      <td>ENSEMBL:ENSG00000110244|ENSEMBL:ENST0000035778...</td>\n      <td>-</td>\n      <td>physical association</td>\n      <td>reactome:R-HSA-976889</td>\n      <td>15146166</td>\n    </tr>\n    <tr>\n      <th>4</th>\n      <td>P01160</td>\n      <td>ENSEMBL:ENSG00000175206|ENSEMBL:ENSP0000036566...</td>\n      <td>-</td>\n      <td>P01160</td>\n      <td>ENSEMBL:ENSG00000175206|ENSEMBL:ENSP0000036566...</td>\n      <td>-</td>\n      <td>physical association</td>\n      <td>reactome:R-HSA-976987</td>\n      <td>2142465|2945573</td>\n    </tr>\n    <tr>\n      <th>...</th>\n      <td>...</td>\n      <td>...</td>\n      <td>...</td>\n      <td>...</td>\n      <td>...</td>\n      <td>...</td>\n      <td>...</td>\n      <td>...</td>\n      <td>...</td>\n    </tr>\n    <tr>\n      <th>106114</th>\n      <td>Q7Z434</td>\n      <td>ENSEMBL:ENSP00000413749|ENSEMBL:ENSG0000008888...</td>\n      <td>-</td>\n      <td>Q8IUD6</td>\n      <td>ENSEMBL:ENSP00000323693|ENSEMBL:ENSP0000044047...</td>\n      <td>-</td>\n      <td>physical association</td>\n      <td>reactome:R-HSA-168909</td>\n      <td>16153868|16125763|18307765|16127453</td>\n    </tr>\n    <tr>\n      <th>106116</th>\n      <td>Q7Z434</td>\n      <td>ENSEMBL:ENSP00000413749|ENSEMBL:ENSG0000008888...</td>\n      <td>-</td>\n      <td>Q9BYX4</td>\n      <td>ENSEMBL:ENSP00000497271|ENSEMBL:ENST0000042136...</td>\n      <td>-</td>\n      <td>physical association</td>\n      <td>reactome:R-HSA-168909</td>\n      <td>16153868|16125763|18307765|16127453</td>\n    </tr>\n    <tr>\n      <th>106118</th>\n      <td>Q7Z434</td>\n      <td>ENSEMBL:ENSP00000413749|ENSEMBL:ENSG0000008888...</td>\n      <td>-</td>\n      <td>Q14258</td>\n      <td>ENSEMBL:ENST00000316881|ENSEMBL:ENSG0000012106...</td>\n      <td>-</td>\n      <td>physical association</td>\n      <td>reactome:R-HSA-168909</td>\n      <td>16153868|16125763|18307765|16127453</td>\n    </tr>\n    <tr>\n      <th>106122</th>\n      <td>Q7Z434</td>\n      <td>ENSEMBL:ENSP00000413749|ENSEMBL:ENSG0000008888...</td>\n      <td>-</td>\n      <td>O95786</td>\n      <td>ENSEMBL:ENST00000379883|ENSEMBL:ENSP0000036921...</td>\n      <td>-</td>\n      <td>physical association</td>\n      <td>reactome:R-HSA-168909</td>\n      <td>16153868|16125763|18307765|16127453</td>\n    </tr>\n    <tr>\n      <th>106124</th>\n      <td>Q13547</td>\n      <td>ENSEMBL:ENSG00000116478|ENSEMBL:ENST0000037354...</td>\n      <td>-</td>\n      <td>O42478</td>\n      <td>-</td>\n      <td>-</td>\n      <td>physical association</td>\n      <td>reactome:R-NUL-3299567</td>\n      <td>15121853|11266540|9819412</td>\n    </tr>\n  </tbody>\n</table>\n<p>71239 rows × 9 columns</p>\n</div>"
     },
     "execution_count": 43,
     "metadata": {},
     "output_type": "execute_result"
    }
   ],
   "source": [
    "reactome_uniprot['# Interactor 1 uniprot id'] = reactome_uniprot['# Interactor 1 uniprot id'].str.split(':').str[1]\n",
    "reactome_uniprot['Interactor 2 uniprot id'] = reactome_uniprot['Interactor 2 uniprot id'].str.split(':').str[1]\n",
    "reactome_uniprot"
   ],
   "metadata": {
    "collapsed": false,
    "ExecuteTime": {
     "end_time": "2023-12-15T09:30:39.886905200Z",
     "start_time": "2023-12-15T09:30:39.650872700Z"
    }
   },
   "id": "9b642aadada8197e"
  },
  {
   "cell_type": "code",
   "execution_count": 44,
   "outputs": [
    {
     "name": "stdout",
     "output_type": "stream",
     "text": [
      "['physical association' 'enzymatic reaction' 'cleavage reaction'\n",
      " 'oxidoreductase activity electron transfer reaction'\n",
      " 'dephosphorylation reaction' 'deacetylation reaction'\n",
      " 'acetylation reaction' 'nucleoside triphosphatase reaction'\n",
      " 'glycosylation reaction' 'deneddylation reaction'\n",
      " 'deubiquitination reaction' 'gtpase reaction' 'carboxylation reaction'\n",
      " 'isomerase reaction' 'demethylation reaction' 'sulfurtransfer reaction'\n",
      " 'phospholipase reaction' 'amidation reaction'\n",
      " 'de-ADP-ribosylation reaction' 'phosphopantetheinylation']\n"
     ]
    }
   ],
   "source": [
    "# Take a look at the interaction types listed\n",
    "print(reactome_uniprot['Interaction type'].unique())"
   ],
   "metadata": {
    "collapsed": false,
    "ExecuteTime": {
     "end_time": "2023-12-15T09:30:50.717083900Z",
     "start_time": "2023-12-15T09:30:50.701061300Z"
    }
   },
   "id": "7527938f700d6de5"
  },
  {
   "cell_type": "code",
   "execution_count": 45,
   "outputs": [
    {
     "data": {
      "text/plain": "71239"
     },
     "execution_count": 45,
     "metadata": {},
     "output_type": "execute_result"
    }
   ],
   "source": [
    "# Get row count for number of edges in the dataset\n",
    "len(reactome_uniprot)"
   ],
   "metadata": {
    "collapsed": false,
    "ExecuteTime": {
     "end_time": "2023-12-15T09:30:52.798071900Z",
     "start_time": "2023-12-15T09:30:52.782431200Z"
    }
   },
   "id": "eaa487c299371ea7"
  },
  {
   "cell_type": "code",
   "execution_count": 46,
   "outputs": [
    {
     "data": {
      "text/plain": "64294"
     },
     "execution_count": 46,
     "metadata": {},
     "output_type": "execute_result"
    }
   ],
   "source": [
    "# Filter out any self references\n",
    "reactome_uniprot = reactome_uniprot[reactome_uniprot['# Interactor 1 uniprot id'] != reactome_uniprot['Interactor 2 uniprot id']]\n",
    "len(reactome_uniprot)"
   ],
   "metadata": {
    "collapsed": false,
    "ExecuteTime": {
     "end_time": "2023-12-15T09:30:55.846715200Z",
     "start_time": "2023-12-15T09:30:55.816148Z"
    }
   },
   "id": "12507aeec4c6847"
  },
  {
   "cell_type": "code",
   "execution_count": 11,
   "outputs": [
    {
     "name": "stdout",
     "output_type": "stream",
     "text": [
      "[BiomartServer:'http://useast.ensembl.org/biomart/martservice'] Fetching datasets\n",
      "[BiomartServer:'http://useast.ensembl.org/biomart/martservice'] Fetching databases\n",
      "[BiomartDatabase:'Ensembl Genes 110'] Fetching datasets\n",
      "[BiomartDatabase:'Mouse strains 110'] Fetching datasets\n",
      "[BiomartDatabase:'Sequence'] Fetching datasets\n",
      "[BiomartDatabase:'Ontology'] Fetching datasets\n",
      "[BiomartDatabase:'Genomic features 110'] Fetching datasets\n",
      "[BiomartDatabase:'Ensembl Variation 110'] Fetching datasets\n",
      "[BiomartDatabase:'Ensembl Regulation 110'] Fetching datasets\n",
      "[BiomartDataset:'hsapiens_gene_ensembl'] Searching using following params:\n",
      "{'attributes': ['ensembl_gene_id',\n",
      "                'hgnc_symbol',\n",
      "                'external_gene_name',\n",
      "                'chromosome_name',\n",
      "                'ensembl_transcript_id',\n",
      "                'ensembl_peptide_id',\n",
      "                'uniprotsptrembl',\n",
      "                'uniprotswissprot']}\n",
      "[BiomartDataset:'hsapiens_gene_ensembl'] Fetching attributes\n",
      "[BiomartDataset] search query:\n",
      "b'<Query virtualSchemaName=\"default\" formatter=\"TSV\" header=\"1\" uniqueRows=\"1\" datasetConfigVersion=\"0.6\" count=\"\"><Dataset name=\"hsapiens_gene_ensembl\" interface=\"default\"><Attribute name=\"ensembl_gene_id\" /><Attribute name=\"hgnc_symbol\" /><Attribute name=\"external_gene_name\" /><Attribute name=\"chromosome_name\" /><Attribute name=\"ensembl_transcript_id\" /><Attribute name=\"ensembl_peptide_id\" /><Attribute name=\"uniprotsptrembl\" /><Attribute name=\"uniprotswissprot\" /></Dataset></Query>'\n"
     ]
    }
   ],
   "source": [
    "#Connect to a Biomart Server\n",
    "server = BiomartServer(\"http://useast.ensembl.org/biomart\")\n",
    "\n",
    "# set verbose to True to get some messages\n",
    "server.verbose = True\n",
    "\n",
    "# use the 'hsapiens_gene_ensembl' dataset\n",
    "hsapiens_gene_ensembl = server.datasets['hsapiens_gene_ensembl']\n",
    "\n",
    "# show all available filters and attributes of the 'hsapiens_gene_ensembl' dataset\n",
    "#hsapiens_gene_ensembl.show_filters()  # uses print\n",
    "#hsapiens_gene_ensembl.show_attributes()  # uses print\n",
    "\n",
    "# run a search with custom filters and attributes and a header\n",
    "response = hsapiens_gene_ensembl.search({\n",
    "  #'filters': {\n",
    "  #    'ensembl_gene_id': unique_gene_all,\n",
    "  #},\n",
    "  'attributes': [\n",
    "      'ensembl_gene_id', 'hgnc_symbol', 'external_gene_name', 'chromosome_name', 'ensembl_transcript_id', 'ensembl_peptide_id', 'uniprotsptrembl', 'uniprotswissprot'\n",
    "  ]\n",
    "}, header = 1)\n",
    "\n",
    "# This code will write the response to screen line by line\n",
    "# #response format is TSV\n",
    "# for line in response.iter_lines():\n",
    "#   line = line.decode('utf-8')\n",
    "#   #print(line.split(\"\\t\"))\n",
    "\n",
    "# Convert response to pandas dataframe\n",
    "if response.ok:\n",
    "    # Convert the response content to a file-like object\n",
    "    content = io.StringIO(response.content.decode('utf-8'))\n",
    "\n",
    "    # Read the content into a DataFrame\n",
    "    biomart = pd.read_csv(content, sep='\\t')\n",
    "else:\n",
    "    print(\"Error with the response\")"
   ],
   "metadata": {
    "collapsed": false,
    "ExecuteTime": {
     "end_time": "2023-12-15T09:21:29.385660200Z",
     "start_time": "2023-12-15T09:21:05.042618100Z"
    }
   },
   "id": "5608b56455c3264c"
  },
  {
   "cell_type": "code",
   "execution_count": 47,
   "outputs": [
    {
     "data": {
      "text/plain": "    Gene stable ID HGNC symbol Gene name Chromosome/scaffold name  \\\n0  ENSG00000198888      MT-ND1    MT-ND1                       MT   \n1  ENSG00000198763      MT-ND2    MT-ND2                       MT   \n2  ENSG00000198804      MT-CO1    MT-CO1                       MT   \n3  ENSG00000198712      MT-CO2    MT-CO2                       MT   \n4  ENSG00000228253     MT-ATP8   MT-ATP8                       MT   \n\n  Transcript stable ID Protein stable ID UniProtKB/TrEMBL ID  \\\n0      ENST00000361390   ENSP00000354687              U5Z754   \n1      ENST00000361453   ENSP00000355046              Q7GXY9   \n2      ENST00000361624   ENSP00000354499              U5YWV7   \n3      ENST00000361739   ENSP00000354876              U5Z487   \n4      ENST00000361851   ENSP00000355265              U5YV54   \n\n  UniProtKB/Swiss-Prot ID  \n0                  P03886  \n1                  P03891  \n2                  P00395  \n3                  P00403  \n4                  P03928  ",
      "text/html": "<div>\n<style scoped>\n    .dataframe tbody tr th:only-of-type {\n        vertical-align: middle;\n    }\n\n    .dataframe tbody tr th {\n        vertical-align: top;\n    }\n\n    .dataframe thead th {\n        text-align: right;\n    }\n</style>\n<table border=\"1\" class=\"dataframe\">\n  <thead>\n    <tr style=\"text-align: right;\">\n      <th></th>\n      <th>Gene stable ID</th>\n      <th>HGNC symbol</th>\n      <th>Gene name</th>\n      <th>Chromosome/scaffold name</th>\n      <th>Transcript stable ID</th>\n      <th>Protein stable ID</th>\n      <th>UniProtKB/TrEMBL ID</th>\n      <th>UniProtKB/Swiss-Prot ID</th>\n    </tr>\n  </thead>\n  <tbody>\n    <tr>\n      <th>0</th>\n      <td>ENSG00000198888</td>\n      <td>MT-ND1</td>\n      <td>MT-ND1</td>\n      <td>MT</td>\n      <td>ENST00000361390</td>\n      <td>ENSP00000354687</td>\n      <td>U5Z754</td>\n      <td>P03886</td>\n    </tr>\n    <tr>\n      <th>1</th>\n      <td>ENSG00000198763</td>\n      <td>MT-ND2</td>\n      <td>MT-ND2</td>\n      <td>MT</td>\n      <td>ENST00000361453</td>\n      <td>ENSP00000355046</td>\n      <td>Q7GXY9</td>\n      <td>P03891</td>\n    </tr>\n    <tr>\n      <th>2</th>\n      <td>ENSG00000198804</td>\n      <td>MT-CO1</td>\n      <td>MT-CO1</td>\n      <td>MT</td>\n      <td>ENST00000361624</td>\n      <td>ENSP00000354499</td>\n      <td>U5YWV7</td>\n      <td>P00395</td>\n    </tr>\n    <tr>\n      <th>3</th>\n      <td>ENSG00000198712</td>\n      <td>MT-CO2</td>\n      <td>MT-CO2</td>\n      <td>MT</td>\n      <td>ENST00000361739</td>\n      <td>ENSP00000354876</td>\n      <td>U5Z487</td>\n      <td>P00403</td>\n    </tr>\n    <tr>\n      <th>4</th>\n      <td>ENSG00000228253</td>\n      <td>MT-ATP8</td>\n      <td>MT-ATP8</td>\n      <td>MT</td>\n      <td>ENST00000361851</td>\n      <td>ENSP00000355265</td>\n      <td>U5YV54</td>\n      <td>P03928</td>\n    </tr>\n  </tbody>\n</table>\n</div>"
     },
     "execution_count": 47,
     "metadata": {},
     "output_type": "execute_result"
    }
   ],
   "source": [
    "biomart.head()"
   ],
   "metadata": {
    "collapsed": false,
    "ExecuteTime": {
     "end_time": "2023-12-15T09:31:01.720010500Z",
     "start_time": "2023-12-15T09:31:01.704402900Z"
    }
   },
   "id": "55e5bbfd0e745ec9"
  },
  {
   "cell_type": "code",
   "execution_count": 48,
   "outputs": [
    {
     "name": "stdout",
     "output_type": "stream",
     "text": [
      "Rows in conversion dataframe: 123120\n"
     ]
    }
   ],
   "source": [
    "print(f'Rows in conversion dataframe: {len(biomart)}')"
   ],
   "metadata": {
    "collapsed": false,
    "ExecuteTime": {
     "end_time": "2023-12-15T09:31:06.942449700Z",
     "start_time": "2023-12-15T09:31:06.925840Z"
    }
   },
   "id": "4f8a3460aa1ffe49"
  },
  {
   "cell_type": "code",
   "execution_count": 49,
   "outputs": [
    {
     "name": "stdout",
     "output_type": "stream",
     "text": [
      "Rows in conversion dataframe: 111338\n"
     ]
    }
   ],
   "source": [
    "# Biomart data will include multiple ensembl gene ids for each HGNC symbol due to patches and alternate sequences. \n",
    "# We only want one ENSG per HGNC symbol so we will use the primary assembly. To do this select only chromosomes/scaffolds 1-23 and X/Y\n",
    "scaffolds = ['1', '2', '3', '4', '5', '6', '7', '8', '9', '10', '11', '12', '13', '14', '15', '16', '17', '18', '19', '20', '21', '22', 'X', 'Y']\n",
    "biomart_primary = biomart[biomart['Chromosome/scaffold name'].isin(scaffolds)]\n",
    "\n",
    "print(f'Rows in conversion dataframe: {len(biomart_primary)}')"
   ],
   "metadata": {
    "collapsed": false,
    "ExecuteTime": {
     "end_time": "2023-12-15T09:31:10.107736Z",
     "start_time": "2023-12-15T09:31:10.076432300Z"
    }
   },
   "id": "766c758812d1e706"
  },
  {
   "cell_type": "code",
   "execution_count": 50,
   "outputs": [
    {
     "name": "stdout",
     "output_type": "stream",
     "text": [
      "99052\n",
      "65704\n"
     ]
    }
   ],
   "source": [
    "# See how many duplicates there are (Gene stable ID/ UniProtKB/Swiss-Prot ID combination)\n",
    "print(len(biomart_primary[biomart_primary.duplicated(subset=['Gene stable ID', 'UniProtKB/Swiss-Prot ID'], keep=False)]))\n",
    "\n",
    "# See how many rows are missing HGNC symbol\n",
    "print(len(biomart_primary[biomart_primary['UniProtKB/Swiss-Prot ID'].isnull()]))"
   ],
   "metadata": {
    "collapsed": false,
    "ExecuteTime": {
     "end_time": "2023-12-15T09:31:16.610422100Z",
     "start_time": "2023-12-15T09:31:16.563522700Z"
    }
   },
   "id": "a3f98cf78d0b2133"
  },
  {
   "cell_type": "code",
   "execution_count": 51,
   "outputs": [
    {
     "name": "stdout",
     "output_type": "stream",
     "text": [
      "33856\n",
      "19342\n"
     ]
    }
   ],
   "source": [
    "# Drop duplicate biomart rows and anything without an HGNC\n",
    "biomart_no_null = biomart_primary.drop_duplicates(subset=['Gene stable ID', 'UniProtKB/Swiss-Prot ID'], keep='first')\n",
    "print(len(biomart_no_null))\n",
    "\n",
    "biomart_no_null = biomart_no_null.dropna(subset=['UniProtKB/Swiss-Prot ID'])\n",
    "print(len(biomart_no_null))"
   ],
   "metadata": {
    "collapsed": false,
    "ExecuteTime": {
     "end_time": "2023-12-15T09:31:25.486930700Z",
     "start_time": "2023-12-15T09:31:25.423432900Z"
    }
   },
   "id": "e03f55871158f0f"
  },
  {
   "cell_type": "code",
   "execution_count": 53,
   "outputs": [
    {
     "data": {
      "text/plain": "True     39526\nFalse    24768\ndtype: int64"
     },
     "execution_count": 53,
     "metadata": {},
     "output_type": "execute_result"
    }
   ],
   "source": [
    "reactome_uniprot.duplicated().value_counts()\n",
    "reactome_uniprot.duplicated(subset=['# Interactor 1 uniprot id', 'Interactor 2 uniprot id']).value_counts()"
   ],
   "metadata": {
    "collapsed": false,
    "ExecuteTime": {
     "end_time": "2023-12-15T09:32:25.315328600Z",
     "start_time": "2023-12-15T09:32:25.212018400Z"
    }
   },
   "id": "3907c4ddd4186d8a"
  },
  {
   "cell_type": "code",
   "execution_count": 38,
   "outputs": [
    {
     "name": "stderr",
     "output_type": "stream",
     "text": [
      "C:\\Users\\dan\\AppData\\Local\\Temp\\ipykernel_28864\\3079933668.py:8: SettingWithCopyWarning: \n",
      "A value is trying to be set on a copy of a slice from a DataFrame.\n",
      "Try using .loc[row_indexer,col_indexer] = value instead\n",
      "\n",
      "See the caveats in the documentation: https://pandas.pydata.org/pandas-docs/stable/user_guide/indexing.html#returning-a-view-versus-a-copy\n",
      "  reactome_uniprot['Interactor 1 ENSG'] = reactome_uniprot['# Interactor 1 uniprot id'].map(hgnc_to_gene_id)\n",
      "C:\\Users\\dan\\AppData\\Local\\Temp\\ipykernel_28864\\3079933668.py:9: SettingWithCopyWarning: \n",
      "A value is trying to be set on a copy of a slice from a DataFrame.\n",
      "Try using .loc[row_indexer,col_indexer] = value instead\n",
      "\n",
      "See the caveats in the documentation: https://pandas.pydata.org/pandas-docs/stable/user_guide/indexing.html#returning-a-view-versus-a-copy\n",
      "  reactome_uniprot['Interactor 2 ENSG'] = reactome_uniprot['Interactor 2 uniprot id'].map(hgnc_to_gene_id)\n"
     ]
    },
    {
     "data": {
      "text/plain": "{'O14603': 'ENSG00000169807',\n 'O00507': 'ENSG00000114374',\n 'O14602': 'ENSG00000198692',\n 'O14599': 'ENSG00000183795',\n 'P0CW01': 'ENSG00000236424',\n 'Q01534': 'ENSG00000258992',\n 'P0C7P1': 'ENSG00000244395',\n 'Q96LI6': 'ENSG00000172468',\n 'Q9BY66': 'ENSG00000012817',\n 'Q8IUE0': 'ENSG00000176679',\n 'Q15415': 'ENSG00000226941',\n 'Q9Y6F7': 'ENSG00000129873',\n 'Q86SG3': 'ENSG00000205916',\n 'Q05066': 'ENSG00000184895',\n 'P22090': 'ENSG00000129824',\n 'P08048': 'ENSG00000067646',\n 'O15523': 'ENSG00000067048',\n 'O14607': 'ENSG00000183878',\n 'O14604': 'ENSG00000154620',\n 'O14598': 'ENSG00000129862',\n 'Q9NR90': 'ENSG00000187191',\n 'Q9NQZ3': 'ENSG00000188120',\n 'Q99218': 'ENSG00000099721',\n 'Q9BQ87': 'ENSG00000092377',\n 'Q13117': 'ENSG00000205944',\n 'A6NKD2': 'ENSG00000168757',\n 'A6NEQ0': 'ENSG00000242389',\n 'Q8NFZ3': 'ENSG00000165246',\n 'Q8TD47': 'ENSG00000280969',\n 'Q9BZA8': 'ENSG00000099715',\n 'Q9Y6F8': 'ENSG00000172288',\n 'A0A494C1R9': 'ENSG00000238074',\n 'A6NDE4': 'ENSG00000242875',\n 'P0DJD3': 'ENSG00000234414',\n 'P0CV99': 'ENSG00000233803',\n 'P0CW00': 'ENSG00000229549',\n 'P0CV98': 'ENSG00000228927',\n 'Q9UKK3': 'ENSG00000102699',\n 'P98073': 'ENSG00000154646',\n 'Q99797': 'ENSG00000027001',\n 'Q9BW62': 'ENSG00000102781',\n 'A0A1B0GUS4': 'ENSG00000236444',\n 'P78310': 'ENSG00000154639',\n 'Q5W0Q7': 'ENSG00000132952',\n 'A6NGE7': 'ENSG00000183463',\n 'P09429': 'ENSG00000189403',\n 'O00505': 'ENSG00000102753',\n 'O60287': 'ENSG00000142207',\n 'Q3LHN0': 'ENSG00000232263',\n 'Q9Y2S2': 'ENSG00000165475',\n 'Q99626': 'ENSG00000165556',\n 'P57087': 'ENSG00000154721',\n 'P56750': 'ENSG00000156282',\n 'Q9H9S4': 'ENSG00000102547',\n 'Q96J86': 'ENSG00000166265',\n 'P82932': 'ENSG00000243927',\n 'Q3LI83': 'ENSG00000188694',\n 'P53794': 'ENSG00000198743',\n 'Q9Y5T4': 'ENSG00000120675',\n 'P47775': 'ENSG00000132975',\n 'Q13112': 'ENSG00000159259',\n 'Q9UPY6': 'ENSG00000132970',\n 'O95104': 'ENSG00000156304',\n 'O15394': 'ENSG00000154654',\n 'P56748': 'ENSG00000156284',\n 'B9A014': 'ENSG00000222018',\n 'P57058': 'ENSG00000142149',\n 'Q9NYK6': 'ENSG00000154642',\n 'Q15063': 'ENSG00000133110',\n 'Q14149': 'ENSG00000159256',\n 'Q9Y2H6': 'ENSG00000102531',\n 'Q9Y5B6': 'ENSG00000159086',\n 'Q9Y693': 'ENSG00000183722',\n 'Q9NYP8': 'ENSG00000205929',\n 'Q9UKA4': 'ENSG00000023516',\n 'Q08AG7': 'ENSG00000204899',\n 'Q86XN7': 'ENSG00000120685',\n 'Q5W0A0': 'ENSG00000165837',\n 'Q8WXW3': 'ENSG00000083535',\n 'Q6PGQ7': 'ENSG00000136122',\n 'Q9NR64': 'ENSG00000150361',\n 'Q92664': 'ENSG00000122034',\n 'P32519': 'ENSG00000120690',\n 'O95171': 'ENSG00000136155',\n 'Q5SZK8': 'ENSG00000150893',\n 'P86481': 'ENSG00000204918',\n 'O60343': 'ENSG00000136111',\n 'P86480': 'ENSG00000227151',\n 'O43597': 'ENSG00000136158',\n 'P86478': 'ENSG00000234278',\n 'P61960': 'ENSG00000120686',\n 'Q13887': 'ENSG00000102554',\n 'Q8NA61': 'ENSG00000174015',\n 'Q8NBM4': 'ENSG00000134882',\n 'P40938': 'ENSG00000133119',\n 'Q01851': 'ENSG00000152192',\n 'Q15811': 'ENSG00000205726',\n 'Q96N96': 'ENSG00000182957',\n 'Q5JS37': 'ENSG00000188811',\n 'Q6UX06': 'ENSG00000102837',\n 'P86496': 'ENSG00000204919',\n 'O95500': 'ENSG00000159261',\n 'P48051': 'ENSG00000157542',\n 'O00410': 'ENSG00000065150',\n 'P48047': 'ENSG00000241837',\n 'Q9H9P2': 'ENSG00000154645',\n 'P04271': 'ENSG00000160307',\n 'O14867': 'ENSG00000156273',\n 'Q9NSV4': 'ENSG00000139734',\n 'P15036': 'ENSG00000157557',\n 'O14917': 'ENSG00000118946',\n 'Q5KU26': 'ENSG00000158270',\n 'O75317': 'ENSG00000152484',\n 'Q99712': 'ENSG00000157551',\n 'O75554': 'ENSG00000120688',\n 'A2A2V5': 'ENSG00000180440',\n 'P30825': 'ENSG00000139514',\n 'O14732': 'ENSG00000141401',\n 'O95825': 'ENSG00000205758',\n 'Q13636': 'ENSG00000168461',\n 'P46059': 'ENSG00000088386',\n 'Q9Y5N5': 'ENSG00000156239',\n 'Q12778': 'ENSG00000150907',\n 'Q9UNA0': 'ENSG00000154736',\n 'Q96JB2': 'ENSG00000136152',\n 'P07947': 'ENSG00000176105',\n 'Q9Y426': 'ENSG00000157617',\n 'Q9Y2L9': 'ENSG00000136141',\n 'Q9ULJ3': 'ENSG00000173276',\n 'Q9P2G3': 'ENSG00000197705',\n 'Q9BWV3': 'ENSG00000102543',\n 'P16152': 'ENSG00000159228',\n 'O75828': 'ENSG00000159231',\n 'P25100': 'ENSG00000171873',\n 'Q2I0M5': 'ENSG00000101282',\n 'Q9H1M3': 'ENSG00000125903',\n 'Q9Y264': 'ENSG00000101280',\n 'Q01196': 'ENSG00000159216',\n 'Q9P1W8': 'ENSG00000089012',\n 'P19404': 'ENSG00000178127',\n 'Q8IYI0': 'ENSG00000171984',\n 'Q5VYV7': 'ENSG00000149346',\n 'Q8N687': 'ENSG00000178591',\n 'Q9Y2L1': 'ENSG00000083520',\n 'O95096': 'ENSG00000125820',\n 'P12643': 'ENSG00000125845',\n 'P58658': 'ENSG00000166979',\n 'P01213': 'ENSG00000101327',\n 'Q9BQ89': 'ENSG00000125898',\n 'Q01101': 'ENSG00000173404',\n 'Q7Z7B8': 'ENSG00000185982',\n 'Q9Y2V7': 'ENSG00000133103',\n 'Q9BYW3': 'ENSG00000125788',\n 'P57076': 'ENSG00000159079',\n 'Q5VYS4': 'ENSG00000102802',\n 'Q9Y2F9': 'ENSG00000132640',\n 'Q9H2Z4': 'ENSG00000125816',\n 'P08572': 'ENSG00000134871',\n 'Q8TDR4': 'ENSG00000242220',\n 'Q53F39': 'ENSG00000154889',\n 'A8MWV9': 'ENSG00000243627',\n 'Q96A57': 'ENSG00000089063',\n 'Q14201': 'ENSG00000154640',\n 'P86479': 'ENSG00000229665',\n 'Q9H5Y7': 'ENSG00000184564',\n 'P55854': 'ENSG00000184900',\n 'P16519': 'ENSG00000125851',\n 'Q9HC56': 'ENSG00000184226',\n 'Q9NYK5': 'ENSG00000154719',\n 'Q6P1L6': 'ENSG00000088876',\n 'O60676': 'ENSG00000125815',\n 'Q9NSI8': 'ENSG00000155307',\n 'B1AKI9': 'ENSG00000101230',\n 'P28325': 'ENSG00000170367',\n 'Q9H7V2': 'ENSG00000101463',\n 'P58511': 'ENSG00000205670',\n 'Q9H0D6': 'ENSG00000088930',\n 'Q14190': 'ENSG00000159263',\n 'Q9UJ78': 'ENSG00000132950',\n 'P08579': 'ENSG00000125870',\n 'Q9BZC1': 'ENSG00000101489',\n 'O00570': 'ENSG00000182968',\n 'P57055': 'ENSG00000183145',\n 'Q8N6G2': 'ENSG00000175664',\n 'O76096': 'ENSG00000077984',\n 'Q14684': 'ENSG00000160208',\n 'Q9HDC9': 'ENSG00000101474',\n 'P0CW23': 'ENSG00000231824',\n 'Q12934': 'ENSG00000125864',\n 'O00764': 'ENSG00000160209',\n 'Q9Y6X6': 'ENSG00000041515',\n 'Q15849': 'ENSG00000132874',\n 'Q9BX51': 'ENSG00000149435',\n 'P09228': 'ENSG00000170369',\n 'P60981': 'ENSG00000125868',\n 'Q15311': 'ENSG00000017797',\n 'Q8TDR2': 'ENSG00000125834',\n 'Q9NQ03': 'ENSG00000215397',\n 'P04080': 'ENSG00000160213',\n 'P56182': 'ENSG00000160214',\n 'Q14686': 'ENSG00000198646',\n 'Q9H1M4': 'ENSG00000088782',\n 'P02462': 'ENSG00000187498',\n 'Q9NUV7': 'ENSG00000172296',\n 'Q30KQ5': 'ENSG00000215547',\n 'Q9Y4H2': 'ENSG00000185950',\n 'Q15532': 'ENSG00000141380',\n 'Q9NRZ7': 'ENSG00000160216',\n 'Q96KW9': 'ENSG00000153498',\n 'Q8TAV4': 'ENSG00000133115',\n 'Q9NXR5': 'ENSG00000088448',\n 'P48553': 'ENSG00000160218',\n 'B1AL88': 'ENSG00000204442',\n 'Q8WV15': 'ENSG00000184497',\n 'Q6UB98': 'ENSG00000101745',\n 'P78504': 'ENSG00000101384',\n 'Q15269': 'ENSG00000241945',\n 'Q96B23': 'ENSG00000152242',\n 'Q96BD8': 'ENSG00000154839',\n 'Q9UGH3': 'ENSG00000089057',\n 'Q9H4G1': 'ENSG00000101435',\n 'P05165': 'ENSG00000175198',\n 'Q9H6P5': 'ENSG00000089123',\n 'Q8NEX5': 'ENSG00000180205',\n 'Q96P16': 'ENSG00000141425',\n 'O94964': 'ENSG00000149639',\n 'Q9H1F0': 'ENSG00000180305',\n 'Q99578': 'ENSG00000152214',\n 'Q9HC47': 'ENSG00000212710',\n 'Q96RT6': 'ENSG00000212710',\n 'Q9H3N8': 'ENSG00000134489',\n 'Q96T49': 'ENSG00000101445',\n 'Q13627': 'ENSG00000157540',\n 'Q96CW5': 'ENSG00000126216',\n 'Q15835': 'ENSG00000185974',\n 'Q8IZP6': 'ENSG00000139797',\n 'Q5W0B1': 'ENSG00000152193',\n 'Q9H5Z1': 'ENSG00000101452',\n 'O95164': 'ENSG00000122042',\n 'Q99708': 'ENSG00000101773',\n 'O43193': 'ENSG00000102539',\n 'Q96NM4': 'ENSG00000124191',\n 'Q8N584': 'ENSG00000168234',\n 'P36888': 'ENSG00000122025',\n 'Q9NWB6': 'ENSG00000134884',\n 'P31152': 'ENSG00000141639',\n 'O00167': 'ENSG00000064655',\n 'Q6ZSG1': 'ENSG00000141622',\n 'Q8NEX6': 'ENSG00000180083',\n 'O43173': 'ENSG00000177511',\n 'Q8N8N0': 'ENSG00000176641',\n 'Q9H2F9': 'ENSG00000166510',\n 'P57071': 'ENSG00000141956',\n 'Q96SF2': 'ENSG00000198445',\n 'Q9Y4F1': 'ENSG00000152767',\n 'Q8N7L0': 'ENSG00000179813',\n 'P55347': 'ENSG00000160199',\n 'Q15796': 'ENSG00000175387',\n 'Q96JJ3': 'ENSG00000062598',\n 'O00194': 'ENSG00000041353',\n 'Q9Y287': 'ENSG00000136156',\n 'O43396': 'ENSG00000091164',\n 'O60858': 'ENSG00000204977',\n 'Q96MK2': 'ENSG00000042062',\n 'Q8N5I3': 'ENSG00000198553',\n 'Q9UM82': 'ENSG00000158480',\n 'Q9H4H8': 'ENSG00000101447',\n 'O95528': 'ENSG00000197496',\n 'Q14721': 'ENSG00000158445',\n 'Q9H427': 'ENSG00000124249',\n 'O43310': 'ENSG00000134030',\n 'P35520': 'ENSG00000160200',\n 'Q9UJ99': 'ENSG00000149654',\n 'Q96RN5': 'ENSG00000099917',\n 'Q9Y508': 'ENSG00000124226',\n 'Q9H706': 'ENSG00000141441',\n 'P02489': 'ENSG00000160202',\n 'A0A075B6K2': 'ENSG00000211667',\n 'P01706': 'ENSG00000211668',\n 'A1YPR0': 'ENSG00000184828',\n 'Q01081': 'ENSG00000160201',\n 'Q9NQQ7': 'ENSG00000080189',\n 'Q8IYS8': 'ENSG00000228075',\n 'Q8NCQ5': 'ENSG00000141665',\n 'Q9NVD3': 'ENSG00000185917',\n 'Q3SY17': 'ENSG00000141437',\n 'Q9BY50': 'ENSG00000166562',\n 'Q969R2': 'ENSG00000184792',\n 'Q9Y6Q9': 'ENSG00000124151',\n 'P41968': 'ENSG00000124089',\n 'Q9ULB5': 'ENSG00000081138',\n 'P41440': 'ENSG00000173638',\n 'Q5TBB1': 'ENSG00000136104',\n 'P17213': 'ENSG00000101425',\n 'P13725': 'ENSG00000099985',\n 'Q8TCU6': 'ENSG00000124126',\n 'Q9Y295': 'ENSG00000185721',\n 'Q68CL5': 'ENSG00000134779',\n 'Q16647': 'ENSG00000124212',\n 'Q9NTU7': 'ENSG00000054803',\n 'Q8N7B1': 'ENSG00000176635',\n 'P32245': 'ENSG00000166603',\n 'O75110': 'ENSG00000054793',\n 'Q15080': 'ENSG00000100365',\n 'Q96JJ7': 'ENSG00000166479',\n 'Q86V42': 'ENSG00000150510',\n 'B2RNN3': 'ENSG00000205863',\n 'P39060': 'ENSG00000182871',\n 'A6NP61': 'ENSG00000189167',\n 'Q9UKM9': 'ENSG00000125970',\n 'Q5TBK1': 'ENSG00000139597',\n 'Q9HBT6': 'ENSG00000101542',\n 'P58499': 'ENSG00000183844',\n 'Q8N752': 'ENSG00000180138',\n 'A0A1B0GTI8': 'ENSG00000281106',\n 'O00287': 'ENSG00000133111',\n 'Q8NHU2': 'ENSG00000089101',\n 'O95863': 'ENSG00000124216',\n 'Q9UHI8': 'ENSG00000154734',\n 'Q9NYP9': 'ENSG00000159055',\n 'Q8TCY5': 'ENSG00000170262',\n 'Q9BYT1': 'ENSG00000101194',\n 'A8K8P3': 'ENSG00000198089',\n 'O95685': 'ENSG00000132825',\n 'Q9NQP4': 'ENSG00000101132',\n 'P57081': 'ENSG00000160193',\n 'P17706': 'ENSG00000175354',\n 'O14818': 'ENSG00000101182',\n 'Q9UBN4': 'ENSG00000133107',\n 'Q8IXH8': 'ENSG00000124215',\n 'Q6T310': 'ENSG00000122035',\n 'P56181': 'ENSG00000160194',\n 'O60346': 'ENSG00000081913',\n 'Q96IY4': 'ENSG00000080618',\n 'Q06546': 'ENSG00000154727',\n 'Q9H159': 'ENSG00000071991',\n 'Q96NY7': 'ENSG00000159212',\n 'P57054': 'ENSG00000185808',\n 'Q9Y6J6': 'ENSG00000159197',\n 'P13796': 'ENSG00000136167',\n 'Q3B7S5': 'ENSG00000206026',\n 'Q8IW03': 'ENSG00000215475',\n 'Q32NC0': 'ENSG00000141428',\n 'Q9P0X4': 'ENSG00000100346',\n 'Q719H9': 'ENSG00000134504',\n 'P56180': 'ENSG00000274391',\n 'O75354': 'ENSG00000197586',\n 'Q9UPQ9': 'ENSG00000100354',\n 'Q13433': 'ENSG00000141424',\n 'Q8NC74': 'ENSG00000130701',\n 'O43829': 'ENSG00000198081',\n 'Q8IZF0': 'ENSG00000102452',\n 'Q2M1V0': 'ENSG00000175329',\n 'P01034': 'ENSG00000101439',\n 'Q8IVS2': 'ENSG00000100294',\n 'P47211': 'ENSG00000166573',\n 'Q8NDH2': 'ENSG00000175820',\n 'Q8IYW4': 'ENSG00000176177',\n 'Q9NWU2': 'ENSG00000101193',\n 'Q96K83': 'ENSG00000198795',\n 'P15018': 'ENSG00000128342',\n 'Q5JUR7': 'ENSG00000151287',\n 'O43426': 'ENSG00000159082',\n 'O95931': 'ENSG00000100307',\n 'Q969W9': 'ENSG00000124225',\n 'Q9NST1': 'ENSG00000100344',\n 'Q86UB2': 'ENSG00000134897',\n 'P57052': 'ENSG00000185272',\n 'Q9P2X3': 'ENSG00000154059',\n 'P48723': 'ENSG00000155304',\n 'Q8IUK8': 'ENSG00000141668',\n 'Q14393': 'ENSG00000183087',\n 'Q5THR3': 'ENSG00000186976',\n 'O43837': 'ENSG00000101365',\n 'O95456': 'ENSG00000183527',\n 'Q9NV35': 'ENSG00000136159',\n 'Q9NPJ6': 'ENSG00000136146',\n 'P20042': 'ENSG00000125977',\n 'P35713': 'ENSG00000203883',\n 'P06400': 'ENSG00000139687',\n 'Q13326': 'ENSG00000102683',\n 'Q9NUB1': 'ENSG00000154930',\n 'Q9P104': 'ENSG00000101134',\n 'Q5T8P6': 'ENSG00000139746',\n 'O43286': 'ENSG00000158470',\n 'P52799': 'ENSG00000125266',\n 'Q8WUA7': 'ENSG00000054611',\n 'Q9NSI6': 'ENSG00000185658',\n 'Q9NTW7': 'ENSG00000020256',\n 'O75132': 'ENSG00000100426',\n 'Q9UJQ4': 'ENSG00000101115',\n 'P02686': 'ENSG00000197971',\n 'P18075': 'ENSG00000101144',\n 'Q9UJQ7': 'ENSG00000132631',\n 'Q8NDY6': 'ENSG00000125533',\n 'Q86XP1': 'ENSG00000102780',\n 'P39023': 'ENSG00000100316',\n 'P55283': 'ENSG00000179242',\n 'P05114': 'ENSG00000205581',\n 'Q9NYZ3': 'ENSG00000075218',\n 'Q92618': 'ENSG00000101493',\n 'Q7L1S5': 'ENSG00000154080',\n 'Q9P2R7': 'ENSG00000136143',\n 'Q9UGV2': 'ENSG00000101079',\n 'P63220': 'ENSG00000171858',\n 'P32249': 'ENSG00000169508',\n 'O00258': 'ENSG00000182093',\n 'Q9NRA8': 'ENSG00000184708',\n 'Q7L211': 'ENSG00000139826',\n 'Q92754': 'ENSG00000087510',\n 'O75177': 'ENSG00000184402',\n 'P10768': 'ENSG00000139684',\n 'P28223': 'ENSG00000102468',\n 'P48539': 'ENSG00000183036',\n 'Q9H7E2': 'ENSG00000083544',\n 'O00567': 'ENSG00000101361',\n 'O60469': 'ENSG00000171587',\n 'Q24JQ0': 'ENSG00000134490',\n 'Q8N0X7': 'ENSG00000133104',\n 'Q9Y5Z0': 'ENSG00000182240',\n 'Q9Y512': 'ENSG00000100347',\n 'P57078': 'ENSG00000183421',\n 'Q9Y6E0': 'ENSG00000102572',\n 'Q13469': 'ENSG00000101096',\n 'Q5R3I4': 'ENSG00000075234',\n 'O95199': 'ENSG00000136161',\n 'Q96PX8': 'ENSG00000178235',\n 'Q9BX26': 'ENSG00000196074',\n 'P20292': 'ENSG00000132965',\n 'O43808': 'ENSG00000100372',\n 'P45844': 'ENSG00000160179',\n 'Q13099': 'ENSG00000032742',\n 'Q03403': 'ENSG00000160181',\n 'P04155': 'ENSG00000160182',\n 'Q9H714': 'ENSG00000102445',\n 'Q6IA86': 'ENSG00000134759',\n 'O15230': 'ENSG00000130702',\n 'Q9H2D6': 'ENSG00000100106',\n 'Q9BX40': 'ENSG00000149657',\n 'P57727': 'ENSG00000160183',\n 'Q5T4D3': 'ENSG00000125247',\n 'Q15762': 'ENSG00000150637',\n 'Q14166': 'ENSG00000100304',\n 'Q96EQ8': 'ENSG00000101695',\n 'Q96J88': 'ENSG00000133106',\n 'Q96KR7': 'ENSG00000087495',\n 'Q9NS68': 'ENSG00000127863',\n 'Q9NX57': 'ENSG00000139832',\n 'P57075': 'ENSG00000160185',\n 'P85299': 'ENSG00000186654',\n 'Q8WYR4': 'ENSG00000160188',\n 'Q9HA77': 'ENSG00000134905',\n 'Q15560': 'ENSG00000171703',\n 'Q86V86': 'ENSG00000198355',\n 'P57057': 'ENSG00000160190',\n 'Q8NEG7': 'ENSG00000205593',\n 'Q9BWX5': 'ENSG00000130700',\n 'Q86V97': 'ENSG00000165572',\n 'Q8WVZ9': 'ENSG00000120696',\n 'P18428': 'ENSG00000129988',\n 'Q9NTX9': 'ENSG00000196227',\n 'O75570': 'ENSG00000120662',\n 'Q8TCT0': 'ENSG00000100422',\n 'P28749': 'ENSG00000080839',\n 'Q6N069': 'ENSG00000172766',\n 'P14138': 'ENSG00000124205',\n 'Q9H4X1': 'ENSG00000102760',\n 'Q16186': 'ENSG00000130706',\n 'O75170': 'ENSG00000100239',\n 'A3KMH1': 'ENSG00000102763',\n 'P10114': 'ENSG00000125249',\n 'Q5THK1': 'ENSG00000183530',\n 'Q9BVI0': 'ENSG00000025293',\n 'P43657': 'ENSG00000139679',\n 'Q6ICC9': 'ENSG00000188636',\n 'Q8NEG4': 'ENSG00000133477',\n 'Q8IW45': 'ENSG00000213995',\n 'A0A075B706': 'ENSG00000211825',\n 'A0JD36': 'ENSG00000211821',\n 'Q9Y6H8': 'ENSG00000121743',\n 'P20472': 'ENSG00000100362',\n 'P29033': 'ENSG00000165474',\n 'P0DPR3': 'ENSG00000223997',\n 'O95452': 'ENSG00000121742',\n 'P51513': 'ENSG00000139910',\n 'Q9UBG7': 'ENSG00000124232',\n 'Q9BV10': 'ENSG00000182858',\n 'P31431': 'ENSG00000124145',\n 'Q8N2H4': 'ENSG00000204070',\n 'O43759': 'ENSG00000100321',\n 'Q9Y2B4': 'ENSG00000124251',\n 'Q8TB37': 'ENSG00000151413',\n 'Q8NDH3': 'ENSG00000215440',\n 'Q9UBW7': 'ENSG00000121741',\n 'Q9UNH7': 'ENSG00000129515',\n 'Q8WVE0': 'ENSG00000150456',\n 'Q9NRM7': 'ENSG00000150457',\n 'Q8IXH7': 'ENSG00000101158',\n 'Q9Y5P8': 'ENSG00000167393',\n 'Q9P2K2': 'ENSG00000087301',\n 'A0JD37': 'ENSG00000256590',\n 'O95427': 'ENSG00000197563',\n 'Q9H4B7': 'ENSG00000101162',\n 'Q13258': 'ENSG00000168229',\n 'P51817': 'ENSG00000183943',\n 'P56381': 'ENSG00000124172',\n 'Q5H9T9': 'ENSG00000189139',\n 'Q9BYH1': 'ENSG00000100095',\n 'Q9HC77': 'ENSG00000151849',\n 'Q9H322': 'ENSG00000177504',\n 'Q9Y3B1': 'ENSG00000101166',\n 'P43026': 'ENSG00000125965',\n 'Q6UWI4': 'ENSG00000180730',\n 'P62333': 'ENSG00000100519',\n 'Q96LM9': 'ENSG00000125975',\n 'P26951': 'ENSG00000185291',\n 'Q86VZ1': 'ENSG00000182162',\n 'O76083': 'ENSG00000160191',\n 'Q8WXD0': 'ENSG00000133105',\n 'Q96S96': 'ENSG00000134020',\n 'Q9BW83': 'ENSG00000100360',\n 'P12236': 'ENSG00000169100',\n 'Q99217': 'ENSG00000125363',\n 'Q96EN8': 'ENSG00000075643',\n 'P46597': 'ENSG00000196433',\n 'Q8N3F9': 'ENSG00000180998',\n 'P01127': 'ENSG00000100311',\n 'O00451': 'ENSG00000168546',\n 'O15442': 'ENSG00000186732',\n 'Q63HM2': 'ENSG00000126773',\n 'Q8TDF5': 'ENSG00000166342',\n 'Q9NTZ6': 'ENSG00000244462',\n 'Q8N6M3': 'ENSG00000197296',\n 'Q8N5I4': 'ENSG00000169084',\n 'Q5TBA9': 'ENSG00000073910',\n 'Q13796': 'ENSG00000146950',\n 'Q9BTX7': 'ENSG00000124120',\n 'Q15475': 'ENSG00000126778',\n 'Q9HBI0': 'ENSG00000138964',\n 'Q13530': 'ENSG00000132824',\n 'P23352': 'ENSG00000011201',\n 'Q9NTI5': 'ENSG00000083642',\n 'Q8N7Z2': 'ENSG00000273976',\n 'Q96QB1': 'ENSG00000164741',\n 'Q13323': 'ENSG00000100290',\n 'O95671': 'ENSG00000169093',\n 'Q9Y2B9': 'ENSG00000168734',\n 'O95922': 'ENSG00000100271',\n 'Q5TAP6': 'ENSG00000253797',\n 'Q96KP4': 'ENSG00000133313',\n 'A0PJX2': 'ENSG00000101342',\n 'Q8IZU0': 'ENSG00000177138',\n 'Q9NX31': 'ENSG00000132823',\n 'Q96LD1': 'ENSG00000185053',\n 'Q16537': 'ENSG00000154001',\n 'Q9BR39': 'ENSG00000149596',\n 'P53701': 'ENSG00000004961',\n 'Q13247': 'ENSG00000124193',\n 'Q9NTG1': 'ENSG00000130943',\n 'Q9Y366': 'ENSG00000101052',\n 'Q8WUJ0': 'ENSG00000198252',\n 'A8MZA4': 'ENSG00000277322',\n 'Q8N0W4': 'ENSG00000146938',\n 'Q9UIV1': 'ENSG00000198791',\n 'Q9UL03': 'ENSG00000102786',\n 'Q96EM0': 'ENSG00000126790',\n 'P10244': 'ENSG00000101057',\n 'P57059': 'ENSG00000142178',\n 'Q9H1H1': 'ENSG00000124196',\n 'Q5W186': 'ENSG00000173335',\n 'Q96KN2': 'ENSG00000150656',\n 'Q8IZU1': 'ENSG00000183304',\n 'Q6NXT1': 'ENSG00000100124',\n 'O00241': 'ENSG00000101307',\n 'Q06889': 'ENSG00000179388',\n 'Q8N1H7': 'ENSG00000179008',\n 'Q5TFQ8': 'ENSG00000101307',\n 'O75031': 'ENSG00000160207',\n 'P57053': 'ENSG00000234289',\n 'Q9NRC9': 'ENSG00000125879',\n 'Q9BYN0': 'ENSG00000271303',\n 'Q9GZX9': 'ENSG00000128791',\n 'P30536': 'ENSG00000100300',\n 'Q8TEA8': 'ENSG00000125821',\n 'Q9HAK2': 'ENSG00000221818',\n 'Q9H2K0': 'ENSG00000122033',\n 'O95475': 'ENSG00000184302',\n 'Q6PKX4': 'ENSG00000206052',\n 'P78539': 'ENSG00000101955',\n 'Q9UJW3': 'ENSG00000142182',\n 'Q9UIU6': 'ENSG00000100625',\n 'Q6NSX1': 'ENSG00000123171',\n 'Q14330': 'ENSG00000125245',\n 'Q86X53': 'ENSG00000104714',\n 'Q7Z6W7': 'ENSG00000172404',\n 'P30550': 'ENSG00000126010',\n 'Q5JR59': 'ENSG00000132938',\n 'Q8NDZ0': 'ENSG00000177324',\n 'O43918': 'ENSG00000160224',\n 'Q86T90': 'ENSG00000150477',\n 'Q9BQJ4': 'ENSG00000147027',\n 'Q8NEZ2': 'ENSG00000155975',\n 'Q9HBE1': 'ENSG00000100105',\n 'Q8N239': 'ENSG00000185915',\n 'P35813': 'ENSG00000100614',\n 'Q9Y275': 'ENSG00000102524',\n 'Q96LL4': 'ENSG00000164743',\n 'Q3SXP7': 'ENSG00000138944',\n 'Q02040': 'ENSG00000197976',\n 'P52823': 'ENSG00000159167',\n 'P0C221': 'ENSG00000151838',\n 'Q9UHP9': 'ENSG00000091482',\n 'Q9Y252': 'ENSG00000127870',\n 'Q9NQH7': 'ENSG00000196236',\n 'Q9UPQ4': 'ENSG00000104228',\n 'Q9Y394': 'ENSG00000100612',\n 'Q9BXY0': 'ENSG00000198042',\n 'Q9ULT6': 'ENSG00000183579',\n 'Q9H1P3': 'ENSG00000130703',\n 'P17858': 'ENSG00000141959',\n 'Q9NTI2': 'ENSG00000132932',\n 'Q9H3Y0': 'ENSG00000101074',\n 'O75928': 'ENSG00000078043',\n 'Q9H426': 'ENSG00000101098',\n 'O43822': 'ENSG00000160226',\n 'Q6NT76': 'ENSG00000147421',\n 'Q9BYJ9': 'ENSG00000149658',\n 'Q9BY71': 'ENSG00000160233',\n 'Q96RV3': 'ENSG00000100731',\n 'Q8WU66': 'ENSG00000175894',\n 'Q96CA5': 'ENSG00000101197',\n 'Q9NZJ4': 'ENSG00000151835',\n 'Q9H0R4': 'ENSG00000167220',\n 'Q9UNF0': 'ENSG00000100266',\n 'Q86YW7': 'ENSG00000179600',\n 'Q8IVV8': 'ENSG00000101198',\n 'Q6P4F1': 'ENSG00000172728',\n 'P60331': 'ENSG00000215455',\n 'P60368': 'ENSG00000205445',\n 'P60369': 'ENSG00000212935',\n 'P60370': 'ENSG00000241123',\n 'P60371': 'ENSG00000188155',\n 'P60409': 'ENSG00000272804',\n 'P60410': 'ENSG00000187766',\n 'P60014': 'ENSG00000221859',\n 'P60412': 'ENSG00000243489',\n 'P60329': 'ENSG00000212933',\n 'P60328': 'ENSG00000205439',\n 'P59991': 'ENSG00000221864',\n 'P59990': 'ENSG00000187175',\n 'Q8N6K0': 'ENSG00000153495',\n 'Q96CX2': 'ENSG00000178695',\n 'Q9Y5U9': 'ENSG00000134049',\n 'Q2VWA4': 'ENSG00000215474',\n 'P51948': 'ENSG00000020426',\n 'P60604': 'ENSG00000184787',\n 'O75503': 'ENSG00000102805',\n 'Q9NQR7': 'ENSG00000267909',\n 'O75679': 'ENSG00000128276',\n 'Q4W4Y0': 'ENSG00000179476',\n 'Q15583': 'ENSG00000177426',\n 'Q6UXZ4': 'ENSG00000156687',\n 'Q9UKT7': 'ENSG00000005812',\n 'P53801': 'ENSG00000183255',\n 'Q8N6T3': 'ENSG00000101199',\n 'Q9Y2P8': 'ENSG00000120158',\n 'A8MV23': 'ENSG00000253309',\n 'Q9Y3I0': 'ENSG00000100220',\n 'Q8WV16': 'ENSG00000119599',\n 'Q04917': 'ENSG00000128245',\n 'Q5HYC2': 'ENSG00000183354',\n 'P46778': 'ENSG00000122026',\n 'Q6ICH7': 'ENSG00000128203',\n 'Q5VZV1': 'ENSG00000139780',\n 'P21757': 'ENSG00000038945',\n 'Q9Y2G5': 'ENSG00000186866',\n 'Q9UH36': 'ENSG00000100104',\n 'Q92750': 'ENSG00000141384',\n 'Q9NXG0': 'ENSG00000044459',\n 'Q13794': 'ENSG00000141682',\n 'Q68D42': 'ENSG00000188133',\n 'O60518': 'ENSG00000137040',\n 'P05015': 'ENSG00000147885',\n 'Q9UBB9': 'ENSG00000100109',\n 'Q9P055': 'ENSG00000050130',\n 'Q5VZB9': 'ENSG00000176399',\n 'Q96K21': 'ENSG00000166140',\n 'P28715': 'ENSG00000134899',\n 'Q12908': 'ENSG00000125255',\n 'Q86SJ6': 'ENSG00000175065',\n 'Q8WXI2': 'ENSG00000149970',\n 'Q8TAD2': 'ENSG00000172458',\n 'Q9BVM4': 'ENSG00000134864',\n 'P43681': 'ENSG00000101204',\n 'Q9H4E5': 'ENSG00000126785',\n 'P53674': 'ENSG00000100122',\n 'O94991': 'ENSG00000165300',\n 'Q7Z4H7': 'ENSG00000147874',\n 'P32926': 'ENSG00000134757',\n 'Q96LC9': 'ENSG00000104081',\n 'Q8WXH5': 'ENSG00000180008',\n 'P53673': 'ENSG00000196431',\n 'Q16555': 'ENSG00000092964',\n 'Q9BXI9': 'ENSG00000133466',\n 'P02766': 'ENSG00000118271',\n 'Q9NPJ1': 'ENSG00000125863',\n 'P57721': 'ENSG00000183570',\n 'Q2TAY7': 'ENSG00000122692',\n 'Q8NCM2': 'ENSG00000140015',\n 'P32745': 'ENSG00000278195',\n 'P00480': 'ENSG00000036473',\n 'P98196': 'ENSG00000068650',\n 'Q9H3Y8': 'ENSG00000125534',\n 'Q13882': 'ENSG00000101213',\n 'Q9BVV2': 'ENSG00000125531',\n 'Q92537': 'ENSG00000100647',\n 'Q9NS75': 'ENSG00000152207',\n 'Q9NUG6': 'ENSG00000088356',\n 'Q9NYZ2': 'ENSG00000147454',\n 'Q5GH72': 'ENSG00000260903',\n 'Q96P68': 'ENSG00000165621',\n 'Q8TDW5': 'ENSG00000147041',\n 'Q04671': 'ENSG00000104044',\n 'Q96T53': 'ENSG00000177669',\n 'Q9NUG4': 'ENSG00000101331',\n 'Q7Z4G1': 'ENSG00000188243',\n 'Q6ZMV5': 'ENSG00000224960',\n 'Q9UPG8': 'ENSG00000126003',\n 'Q9H7D0': 'ENSG00000147459',\n 'Q8NBC4': 'ENSG00000198547',\n 'Q9H6Z9': 'ENSG00000129521',\n 'Q15691': 'ENSG00000101367',\n 'H3BUK9': 'ENSG00000230031',\n 'Q9NS62': 'ENSG00000136114',\n 'P19022': 'ENSG00000170558',\n 'O75475': 'ENSG00000164985',\n 'Q9UNN8': 'ENSG00000101000',\n 'Q969W0': 'ENSG00000165389',\n 'A0A0U1RRL7': 'ENSG00000126005',\n 'Q7L8W6': 'ENSG00000134146',\n 'P01100': 'ENSG00000170345',\n 'Q8IU80': 'ENSG00000187045',\n 'Q86VN1': 'ENSG00000136100',\n 'A8K5M9': 'ENSG00000188277',\n 'Q9Y5R2': 'ENSG00000125966',\n 'Q9BQN1': 'ENSG00000125998',\n 'O15393': 'ENSG00000184012',\n 'Q7Z699': 'ENSG00000166068',\n 'A6NEE1': 'ENSG00000175985',\n 'P78324': 'ENSG00000198053',\n 'O95214': 'ENSG00000104660',\n 'Q8WWK9': 'ENSG00000136108',\n 'P35348': 'ENSG00000120907',\n 'Q68DA7': 'ENSG00000248905',\n 'Q9Y5X9': 'ENSG00000101670',\n 'Q7RTS9': 'ENSG00000141627',\n 'Q9BV47': 'ENSG00000133878',\n 'P20591': 'ENSG00000157601',\n 'Q99801': 'ENSG00000167034',\n 'Q69YQ0': 'ENSG00000100014',\n 'Q99928': 'ENSG00000182256',\n 'Q14767': 'ENSG00000119681',\n 'Q9Y2Z0': 'ENSG00000165416',\n 'Q5U5Q3': 'ENSG00000176624',\n 'Q7Z2E3': 'ENSG00000137074',\n 'Q9H410': 'ENSG00000149636',\n 'Q32P51': 'ENSG00000139675',\n 'Q9Y4K0': 'ENSG00000134013',\n 'P59103': 'ENSG00000182346',\n 'P29274': 'ENSG00000128271',\n 'Q86U28': 'ENSG00000165898',\n 'Q86UZ6': 'ENSG00000130584',\n 'O95409': 'ENSG00000043355',\n 'Q8WYK2': 'ENSG00000140044',\n 'Q9Y2E8': 'ENSG00000197818',\n 'Q96T25': 'ENSG00000139800',\n 'P20592': 'ENSG00000183486',\n 'Q2VWP7': 'ENSG00000166450',\n 'Q8N448': 'ENSG00000139517',\n 'Q9UIJ5': 'ENSG00000104219',\n 'Q9H4S2': 'ENSG00000169840',\n 'P52945': 'ENSG00000139515',\n 'Q9UBR1': 'ENSG00000100024',\n 'Q96MZ0': 'ENSG00000124194',\n 'O95447': 'ENSG00000157578',\n 'Q96MG8': 'ENSG00000168300',\n 'P62318': 'ENSG00000100028',\n 'P0DPB5': 'ENSG00000186184',\n 'P0DPB6': 'ENSG00000186184',\n 'P49917': 'ENSG00000174405',\n 'Q2VPJ9': 'ENSG00000178026',\n 'Q9NZR4': 'ENSG00000100987',\n 'P24844': 'ENSG00000101335',\n 'Q06609': 'ENSG00000051180',\n 'O60238': 'ENSG00000104765',\n 'Q8N0X4': 'ENSG00000125246',\n 'Q9GZN2': 'ENSG00000118707',\n 'Q9P0W8': 'ENSG00000042317',\n 'Q9H6Q3': 'ENSG00000101082',\n 'Q9BYN8': 'ENSG00000125901',\n 'P01178': 'ENSG00000101405',\n 'Q6P4E1': 'ENSG00000166734',\n 'O95965': 'ENSG00000198542',\n 'P01185': 'ENSG00000101200',\n 'O94941': 'ENSG00000185019',\n 'Q6TFL3': 'ENSG00000164989',\n 'P18859': 'ENSG00000154723',\n 'Q96HY6': 'ENSG00000198171',\n 'Q9H0A9': 'ENSG00000160284',\n 'Q9NQT8': 'ENSG00000197892',\n 'Q9Y4F4': 'ENSG00000198718',\n 'Q9H0R1': 'ENSG00000053770',\n 'P19440': 'ENSG00000100031',\n 'Q96PU4': 'ENSG00000147854',\n 'Q6S5L8': 'ENSG00000185634',\n 'O00399': 'ENSG00000104671',\n 'Q9BY32': 'ENSG00000125877',\n 'P41134': 'ENSG00000125968',\n 'Q9P1W3': 'ENSG00000165548',\n 'Q96KJ9': 'ENSG00000131055',\n 'A4IF30': 'ENSG00000151812',\n 'Q8WW43': 'ENSG00000138613',\n 'Q7Z5A7': 'ENSG00000219438',\n 'Q99962': 'ENSG00000107295',\n 'P01567': 'ENSG00000214042',\n 'P63151': 'ENSG00000221914',\n 'P48449': 'ENSG00000160285',\n 'Q8IV03': 'ENSG00000153714',\n 'P12644': 'ENSG00000125378',\n 'P28482': 'ENSG00000100030',\n 'Q8IZP9': 'ENSG00000173698',\n 'Q9ULW0': 'ENSG00000088325',\n 'Q7Z6J6': 'ENSG00000171877',\n 'Q9H1R3': 'ENSG00000101306',\n 'Q9Y5P3': 'ENSG00000131831',\n 'Q12986': 'ENSG00000086102',\n 'O43638': 'ENSG00000179772',\n 'Q07817': 'ENSG00000171552',\n 'Q13243': 'ENSG00000100650',\n 'O95954': 'ENSG00000160282',\n 'P50747': 'ENSG00000159267',\n 'Q05D32': 'ENSG00000137770',\n 'Q9Y227': 'ENSG00000197217',\n 'P15382': 'ENSG00000180509',\n 'Q12926': 'ENSG00000107105',\n 'Q2M2Z5': 'ENSG00000088970',\n 'Q8NEM7': 'ENSG00000102710',\n 'Q9NRF8': 'ENSG00000047230',\n 'P29377': 'ENSG00000169906',\n 'O75409': 'ENSG00000187516',\n 'O95067': 'ENSG00000157456',\n 'O75695': 'ENSG00000102218',\n 'Q9BRP0': 'ENSG00000125850',\n 'P42330': 'ENSG00000196139',\n 'Q9BYZ2': 'ENSG00000171989',\n 'Q9BQP7': 'ENSG00000125871',\n 'Q9UBQ7': 'ENSG00000137106',\n 'O43462': 'ENSG00000012174',\n 'Q13615': 'ENSG00000100330',\n 'A8MXT2': 'ENSG00000182798',\n 'Q6UWS5': 'ENSG00000232838',\n 'A6NHL2': 'ENSG00000178462',\n 'P12109': 'ENSG00000142156',\n 'Q9NS39': 'ENSG00000185736',\n 'Q9UJQ1': 'ENSG00000125869',\n 'Q8NA70': 'ENSG00000189132',\n 'A0A1B0GVH6': 'ENSG00000226792',\n 'Q9BYC5': 'ENSG00000033170',\n 'Q13516': 'ENSG00000205927',\n 'Q8NFP9': 'ENSG00000172915',\n 'Q8TAK6': 'ENSG00000184221',\n 'Q9UQR0': 'ENSG00000102098',\n 'Q92530': 'ENSG00000125818',\n 'Q969E3': 'ENSG00000178473',\n 'Q07654': 'ENSG00000160180',\n 'Q14159': 'ENSG00000164808',\n 'Q969E8': 'ENSG00000158526',\n 'Q99612': 'ENSG00000067082',\n 'O15079': 'ENSG00000101298',\n 'Q5JST6': 'ENSG00000183690',\n 'Q86YR6': 'ENSG00000166351',\n 'P61201': 'ENSG00000166200',\n 'Q96T68': 'ENSG00000136169',\n 'Q9H190': 'ENSG00000125775',\n 'Q96HE7': 'ENSG00000197930',\n 'O43541': 'ENSG00000137834',\n 'P36542': 'ENSG00000165629',\n 'Q5JXA9': 'ENSG00000196209',\n 'Q147X3': 'ENSG00000139977',\n 'Q86T13': 'ENSG00000176435',\n 'Q9H106': 'ENSG00000125900',\n 'Q9UIL8': 'ENSG00000136147',\n 'Q8IUG5': 'ENSG00000133454',\n 'Q969T3': 'ENSG00000124104',\n 'Q5DID0': 'ENSG00000177398',\n 'Q9BX84': 'ENSG00000119121',\n 'O60244': 'ENSG00000180182',\n 'Q9NS84': 'ENSG00000147119',\n 'Q96MP5': 'ENSG00000132801',\n 'Q96S21': 'ENSG00000197562',\n 'A6NNY8': 'ENSG00000273820',\n 'Q8NDN9': 'ENSG00000136144',\n 'P0CG21': 'ENSG00000257108',\n 'Q9NWH9': 'ENSG00000137776',\n 'Q8IX90': 'ENSG00000165480',\n 'Q9BQC6': 'ENSG00000173141',\n 'P55058': 'ENSG00000100979',\n 'P19823': 'ENSG00000151655',\n 'Q8IYU8': 'ENSG00000165487',\n 'P51795': 'ENSG00000171365',\n 'Q9H4Z3': 'ENSG00000100982',\n 'Q96HU1': 'ENSG00000100359',\n 'P31371': 'ENSG00000102678',\n 'Q86TM3': 'ENSG00000184735',\n 'Q9BQI4': 'ENSG00000151468',\n 'Q9H4Z2': 'ENSG00000198026',\n 'Q96LZ2': 'ENSG00000177689',\n 'P14780': 'ENSG00000100985',\n 'Q6UXX5': 'ENSG00000102313',\n 'Q9Y2F5': 'ENSG00000164151',\n 'Q96NR3': 'ENSG00000165186',\n 'O60870': 'ENSG00000151657',\n 'Q9Y673': 'ENSG00000120697',\n 'Q93073': 'ENSG00000138593',\n 'Q96A49': 'ENSG00000169895',\n 'P62942': 'ENSG00000088832',\n 'Q9UHP3': 'ENSG00000155313',\n 'Q8N6N7': 'ENSG00000176244',\n 'Q96EF0': 'ENSG00000102043',\n 'P78345': 'ENSG00000152464',\n 'Q8IUC2': 'ENSG00000183640',\n 'Q8IUC3': 'ENSG00000274749',\n 'Q8TE57': 'ENSG00000145536',\n 'Q8IUC1': 'ENSG00000182591',\n 'Q3LI54': 'ENSG00000206102',\n 'Q9P0J6': 'ENSG00000171421',\n 'Q9Y6X9': 'ENSG00000133422',\n 'P00441': 'ENSG00000142168',\n 'Q14CZ7': 'ENSG00000124279',\n 'Q08357': 'ENSG00000168575',\n 'Q8NBS3': 'ENSG00000088836',\n 'Q15751': 'ENSG00000103657',\n 'Q96B26': 'ENSG00000120699',\n 'Q14129': 'ENSG00000183628',\n 'Q9H0X4': 'ENSG00000167930',\n 'P84550': 'ENSG00000188779',\n 'Q9H788': 'ENSG00000104611',\n 'Q9Y3R5': 'ENSG00000142197',\n 'Q02548': 'ENSG00000196092',\n 'Q9P2Z0': 'ENSG00000129028',\n 'P56556': 'ENSG00000184983',\n 'M5A8F1': 'ENSG00000233056',\n 'Q99853': 'ENSG00000171956',\n 'Q8TC92': 'ENSG00000120658',\n 'Q6XZB0': 'ENSG00000188992',\n 'P22897': 'ENSG00000260314',\n 'P60411': 'ENSG00000221837',\n 'O76039': 'ENSG00000008086',\n 'P30047': 'ENSG00000137880',\n 'Q5T0U0': 'ENSG00000151773',\n 'Q08462': 'ENSG00000078295',\n 'Q9UL42': 'ENSG00000240694',\n 'Q8IV20': 'ENSG00000179630',\n 'Q96G61': 'ENSG00000196368',\n 'A6NNE9': 'ENSG00000183654',\n 'P49758': 'ENSG00000182732',\n 'O15169': 'ENSG00000103126',\n 'P11279': 'ENSG00000185896',\n 'Q9Y3A4': 'ENSG00000189306',\n 'Q6ZTR5': 'ENSG00000165164',\n 'Q96P71': 'ENSG00000125967',\n 'O96015': 'ENSG00000100246',\n 'Q5TC63': 'ENSG00000139835',\n 'O95502': 'ENSG00000221890',\n 'O43570': 'ENSG00000074410',\n 'O60494': 'ENSG00000107611',\n 'O95503': 'ENSG00000183741',\n 'A0A1B0GV22': 'ENSG00000268994',\n 'P78413': 'ENSG00000113430',\n 'Q16825': 'ENSG00000070778',\n 'P07948': 'ENSG00000254087',\n 'P50148': 'ENSG00000156052',\n 'Q6PH85': 'ENSG00000150401',\n 'Q00604': 'ENSG00000124479',\n 'O15391': 'ENSG00000230797',\n 'Q9BQM9': 'ENSG00000149609',\n 'P51808': 'ENSG00000165169',\n 'A6NDD5': 'ENSG00000183379',\n 'Q9UH17': 'ENSG00000179750',\n 'Q01094': 'ENSG00000101412',\n 'Q6UWJ1': 'ENSG00000150403',\n 'Q9H3N1': 'ENSG00000139921',\n 'P00352': 'ENSG00000165092',\n 'Q5JQC9': 'ENSG00000147081',\n 'Q9NRW3': 'ENSG00000244509',\n 'Q9Y6I8': 'ENSG00000101417',\n 'Q96MD7': 'ENSG00000155621',\n 'Q8IUX4': 'ENSG00000128394',\n 'Q9H444': 'ENSG00000101421',\n 'Q13591': 'ENSG00000112902',\n ...}"
     },
     "execution_count": 38,
     "metadata": {},
     "output_type": "execute_result"
    }
   ],
   "source": [
    "# Code to map Gene stable IDs to PARTICIPANT_A and PARTICIPANT_B\n",
    "\n",
    "# Create a mapping dictionary from the biomart dataframe\n",
    "# Here we map 'HGNC symbol' to 'Gene stable ID'\n",
    "hgnc_to_gene_id = biomart_no_null.set_index('UniProtKB/Swiss-Prot ID')['Gene stable ID'].to_dict()\n",
    "\n",
    "# Use this dictionary to map the PARTICIPANT_A and PARTICIPANT_B values in the reactome dataframe to their corresponding Gene stable ID\n",
    "reactome_uniprot['Interactor 1 ENSG'] = reactome_uniprot['# Interactor 1 uniprot id'].map(hgnc_to_gene_id)\n",
    "reactome_uniprot['Interactor 2 ENSG'] = reactome_uniprot['Interactor 2 uniprot id'].map(hgnc_to_gene_id)\n",
    "\n",
    "# Show the modified dataframe\n",
    "reactome_uniprot.head()\n",
    "\n",
    "hgnc_to_gene_id"
   ],
   "metadata": {
    "collapsed": false,
    "ExecuteTime": {
     "end_time": "2023-12-15T09:28:06.714208300Z",
     "start_time": "2023-12-15T09:28:06.651171100Z"
    }
   },
   "id": "ba6f19568bc0f8ac"
  },
  {
   "cell_type": "code",
   "execution_count": 39,
   "outputs": [
    {
     "data": {
      "text/plain": "False    60170\nTrue      4124\ndtype: int64"
     },
     "execution_count": 39,
     "metadata": {},
     "output_type": "execute_result"
    }
   ],
   "source": [
    "reactome_uniprot\n",
    "reactome_uniprot.duplicated().value_counts()"
   ],
   "metadata": {
    "collapsed": false,
    "ExecuteTime": {
     "end_time": "2023-12-15T09:28:18.391895800Z",
     "start_time": "2023-12-15T09:28:18.290978600Z"
    }
   },
   "id": "8774353c550aa23"
  },
  {
   "cell_type": "code",
   "execution_count": null,
   "outputs": [],
   "source": [
    "unique_nodes = set(reactome_uniprot['# Interactor 1 uniprot id'].tolist() +  reactome_uniprot['Interactor 2 uniprot id'].tolist())\n",
    "print(f'Total unique nodes: {len(unique_nodes)}')\n",
    "print(f'Total edges: {len(reactome_uniprot)}')"
   ],
   "metadata": {
    "collapsed": false
   },
   "id": "9129c4cce7a81088"
  },
  {
   "cell_type": "code",
   "execution_count": 41,
   "outputs": [
    {
     "data": {
      "text/plain": "23779"
     },
     "execution_count": 41,
     "metadata": {},
     "output_type": "execute_result"
    }
   ],
   "source": [
    "reactome_uniprot = reactome_uniprot.drop_duplicates(subset=['Interactor 1 ENSG', 'Interactor 2 ENSG'])\n",
    "len(reactome_uniprot)"
   ],
   "metadata": {
    "collapsed": false,
    "ExecuteTime": {
     "end_time": "2023-12-15T09:30:01.924128200Z",
     "start_time": "2023-12-15T09:30:01.892844Z"
    }
   },
   "id": "524826813fa62ae7"
  },
  {
   "cell_type": "code",
   "execution_count": null,
   "outputs": [],
   "source": [],
   "metadata": {
    "collapsed": false
   },
   "id": "ba6ce6a8e1d5b9c1"
  },
  {
   "cell_type": "code",
   "execution_count": null,
   "outputs": [],
   "source": [],
   "metadata": {
    "collapsed": false
   },
   "id": "ecd4fded63774d4e"
  },
  {
   "cell_type": "code",
   "execution_count": null,
   "outputs": [],
   "source": [],
   "metadata": {
    "collapsed": false
   },
   "id": "1274250e81e4300d"
  },
  {
   "cell_type": "code",
   "execution_count": null,
   "outputs": [],
   "source": [],
   "metadata": {
    "collapsed": false
   },
   "id": "463dccd8a0bf3b98"
  },
  {
   "cell_type": "code",
   "execution_count": null,
   "outputs": [],
   "source": [],
   "metadata": {
    "collapsed": false
   },
   "id": "33ceefbd1fe430eb"
  },
  {
   "cell_type": "code",
   "execution_count": null,
   "outputs": [],
   "source": [],
   "metadata": {
    "collapsed": false
   },
   "id": "ccd852eee6a48aa2"
  },
  {
   "cell_type": "code",
   "execution_count": null,
   "outputs": [],
   "source": [],
   "metadata": {
    "collapsed": false
   },
   "id": "b490e9ccb361c4cd"
  },
  {
   "cell_type": "code",
   "execution_count": null,
   "outputs": [],
   "source": [
    "# Get number of nodes and edges and plot histogram of edges showing number of nodes with X edges \n",
    "total_gene_a = reactome_ppi['extracted_ENSG 1'].tolist()\n",
    "total_gene_b = reactome_ppi['extracted_ENSG 2'].tolist()\n",
    "total_gene = total_gene_a + total_gene_b\n",
    "\n",
    "total_gene_df = pd.DataFrame(total_gene, columns=['gene'])\n",
    "\n",
    "total_gene_df['edges'] = total_gene_df['gene'].map(total_gene_df['gene'].value_counts())\n",
    "\n",
    "print(len(total_gene_a))\n",
    "print(len(total_gene_b))\n",
    "print(len(total_gene))\n",
    "\n",
    "total_gene_df.head()\n",
    "\n",
    "unique_gene_df = total_gene_df.drop_duplicates('gene') \n",
    "unique_gene_df.sort_values(by='edges', ascending=False)\n",
    "\n",
    "fig = unique_gene_df.plot(kind='hist', bins=200)\n",
    "\n",
    "plt.yscale('log')\n",
    "plt.show()"
   ],
   "metadata": {
    "collapsed": false
   },
   "id": "2fa02ebdb6baf5dd"
  },
  {
   "cell_type": "code",
   "execution_count": null,
   "outputs": [],
   "source": [
    "# See how many unique nodes there are in total\n",
    "unique_gene_a = reactome_ppi['extracted_ENSG 1'].unique().tolist()\n",
    "unique_gene_b = reactome_ppi['extracted_ENSG 2'].unique().tolist()\n",
    "unique_gene_all = set(unique_gene_a + unique_gene_b)\n",
    "\n",
    "print(len(unique_gene_a))\n",
    "print(len(unique_gene_b))\n",
    "print(len(unique_gene_all))\n",
    "\n",
    "#df = pd.DataFrame.from_dict(count, orient='index')\n",
    "#df.plot(kind='bar')"
   ],
   "metadata": {
    "collapsed": false
   },
   "id": "d7c55fd4c10e2704"
  },
  {
   "cell_type": "code",
   "execution_count": null,
   "outputs": [],
   "source": [
    "reactome_ppi.columns = ['gene1', 'gene2']\n",
    "reactome_ppi.head()"
   ],
   "metadata": {
    "collapsed": false
   },
   "id": "6a1164cf16d7d04f"
  },
  {
   "cell_type": "code",
   "execution_count": null,
   "outputs": [],
   "source": [
    "reactome_ppi['gene1'] = reactome_ppi['gene1'].str.replace(\"\\['\", \"\", regex=True).str.replace(\"']\", \"\", regex=True)\n",
    "reactome_ppi['gene2'] = reactome_ppi['gene2'].str.replace(\"\\['\", \"\", regex=True).str.replace(\"']\", \"\", regex=True)\n",
    "\n",
    "reactome_ppi.head()"
   ],
   "metadata": {
    "collapsed": false
   },
   "id": "aed3c534d8340336"
  },
  {
   "cell_type": "code",
   "execution_count": null,
   "outputs": [],
   "source": [
    "reactome_ppi.to_csv(data_path + '/reactome/reactome_ppi.csv', index=False)"
   ],
   "metadata": {
    "collapsed": false
   },
   "id": "c8667355c8aa85e0"
  },
  {
   "cell_type": "code",
   "execution_count": null,
   "outputs": [],
   "source": [
    "gene_converter = pd.read_csv(data_path + '/biomart/gene_multi_converter.csv')"
   ],
   "metadata": {
    "collapsed": false
   },
   "id": "3f6493337865561f"
  },
  {
   "cell_type": "code",
   "execution_count": null,
   "outputs": [],
   "source": [
    "gene_converter.head()"
   ],
   "metadata": {
    "collapsed": false
   },
   "id": "6e66e792aad24228"
  },
  {
   "cell_type": "code",
   "execution_count": null,
   "outputs": [],
   "source": [
    "len(gene_converter[gene_converter['Gene stable ID'].isin(unique_gene_all)])"
   ],
   "metadata": {
    "collapsed": false
   },
   "id": "3045bb6f3600acf9"
  }
 ],
 "metadata": {
  "kernelspec": {
   "display_name": "Python 3",
   "language": "python",
   "name": "python3"
  },
  "language_info": {
   "codemirror_mode": {
    "name": "ipython",
    "version": 2
   },
   "file_extension": ".py",
   "mimetype": "text/x-python",
   "name": "python",
   "nbconvert_exporter": "python",
   "pygments_lexer": "ipython2",
   "version": "2.7.6"
  }
 },
 "nbformat": 4,
 "nbformat_minor": 5
}
