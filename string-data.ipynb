{
 "cells": [
  {
   "cell_type": "code",
   "execution_count": 1,
   "id": "initial_id",
   "metadata": {
    "collapsed": true,
    "ExecuteTime": {
     "end_time": "2023-12-01T21:02:12.740238Z",
     "start_time": "2023-12-01T21:02:12.112825800Z"
    }
   },
   "outputs": [],
   "source": [
    "import os\n",
    "import pandas as pd\n",
    "import matplotlib.pyplot as plt\n",
    "import numpy as np"
   ]
  },
  {
   "cell_type": "code",
   "execution_count": 2,
   "outputs": [
    {
     "data": {
      "text/plain": "['biomart', 'depmap', 'missing_gene_names.csv', 'pathway_commons', 'string']"
     },
     "execution_count": 2,
     "metadata": {},
     "output_type": "execute_result"
    }
   ],
   "source": [
    "#os.getcwd()\n",
    "\n",
    "# Linux workstation\n",
    "#data_path = '/home/db600/phd/data/'\n",
    "\n",
    "# Laptop\n",
    "data_path = 'C:\\\\Users\\\\dan\\\\Documents\\\\phd\\\\data\\\\'\n",
    "\n",
    "os.listdir(data_path)"
   ],
   "metadata": {
    "collapsed": false,
    "ExecuteTime": {
     "end_time": "2023-12-01T21:02:13.751590400Z",
     "start_time": "2023-12-01T21:02:13.744589800Z"
    }
   },
   "id": "7dc77c9f5d476918"
  },
  {
   "cell_type": "code",
   "execution_count": 4,
   "outputs": [
    {
     "data": {
      "text/plain": "['9606.protein.links.detailed.v10.txt',\n '9606.protein.links.detailed.v11.0.txt',\n '9606.protein.links.detailed.v12.0.txt',\n '9606.protein.links.full.v11.0.txt',\n '9606.protein.links.full.v12.0.txt']"
     },
     "execution_count": 4,
     "metadata": {},
     "output_type": "execute_result"
    }
   ],
   "source": [
    "os.listdir(data_path + '/string/')"
   ],
   "metadata": {
    "collapsed": false,
    "ExecuteTime": {
     "end_time": "2023-12-01T21:03:59.997137800Z",
     "start_time": "2023-12-01T21:03:59.989210700Z"
    }
   },
   "id": "e9c44e8be125acb1"
  },
  {
   "cell_type": "code",
   "execution_count": 10,
   "outputs": [
    {
     "data": {
      "text/plain": "               protein1              protein2  neighborhood  fusion  \\\n0  9606.ENSP00000000233  9606.ENSP00000003084             0       0   \n1  9606.ENSP00000000233  9606.ENSP00000003100             0       0   \n2  9606.ENSP00000000233  9606.ENSP00000005257             0       0   \n3  9606.ENSP00000000233  9606.ENSP00000005340             0       0   \n4  9606.ENSP00000000233  9606.ENSP00000006101             0       0   \n\n   cooccurence  coexpression  experimental  database  textmining  \\\n0            0             0             0         0         150   \n1            0             0            84         0         178   \n2            0             0            66         0         202   \n3            0             0           166         0          73   \n4            0           112             0         0         369   \n\n   combined_score  \n0             150  \n1             215  \n2             223  \n3             193  \n4             415  ",
      "text/html": "<div>\n<style scoped>\n    .dataframe tbody tr th:only-of-type {\n        vertical-align: middle;\n    }\n\n    .dataframe tbody tr th {\n        vertical-align: top;\n    }\n\n    .dataframe thead th {\n        text-align: right;\n    }\n</style>\n<table border=\"1\" class=\"dataframe\">\n  <thead>\n    <tr style=\"text-align: right;\">\n      <th></th>\n      <th>protein1</th>\n      <th>protein2</th>\n      <th>neighborhood</th>\n      <th>fusion</th>\n      <th>cooccurence</th>\n      <th>coexpression</th>\n      <th>experimental</th>\n      <th>database</th>\n      <th>textmining</th>\n      <th>combined_score</th>\n    </tr>\n  </thead>\n  <tbody>\n    <tr>\n      <th>0</th>\n      <td>9606.ENSP00000000233</td>\n      <td>9606.ENSP00000003084</td>\n      <td>0</td>\n      <td>0</td>\n      <td>0</td>\n      <td>0</td>\n      <td>0</td>\n      <td>0</td>\n      <td>150</td>\n      <td>150</td>\n    </tr>\n    <tr>\n      <th>1</th>\n      <td>9606.ENSP00000000233</td>\n      <td>9606.ENSP00000003100</td>\n      <td>0</td>\n      <td>0</td>\n      <td>0</td>\n      <td>0</td>\n      <td>84</td>\n      <td>0</td>\n      <td>178</td>\n      <td>215</td>\n    </tr>\n    <tr>\n      <th>2</th>\n      <td>9606.ENSP00000000233</td>\n      <td>9606.ENSP00000005257</td>\n      <td>0</td>\n      <td>0</td>\n      <td>0</td>\n      <td>0</td>\n      <td>66</td>\n      <td>0</td>\n      <td>202</td>\n      <td>223</td>\n    </tr>\n    <tr>\n      <th>3</th>\n      <td>9606.ENSP00000000233</td>\n      <td>9606.ENSP00000005340</td>\n      <td>0</td>\n      <td>0</td>\n      <td>0</td>\n      <td>0</td>\n      <td>166</td>\n      <td>0</td>\n      <td>73</td>\n      <td>193</td>\n    </tr>\n    <tr>\n      <th>4</th>\n      <td>9606.ENSP00000000233</td>\n      <td>9606.ENSP00000006101</td>\n      <td>0</td>\n      <td>0</td>\n      <td>0</td>\n      <td>112</td>\n      <td>0</td>\n      <td>0</td>\n      <td>369</td>\n      <td>415</td>\n    </tr>\n  </tbody>\n</table>\n</div>"
     },
     "execution_count": 10,
     "metadata": {},
     "output_type": "execute_result"
    }
   ],
   "source": [
    "string_data = pd.read_csv(data_path + '/string/9606.protein.links.detailed.v10.txt', sep=\" \")\n",
    "string_data.head()"
   ],
   "metadata": {
    "collapsed": false,
    "ExecuteTime": {
     "end_time": "2023-12-01T21:06:53.769980900Z",
     "start_time": "2023-12-01T21:06:49.510111400Z"
    }
   },
   "id": "c33dba2609b4eee1"
  },
  {
   "cell_type": "code",
   "execution_count": 24,
   "outputs": [
    {
     "data": {
      "text/plain": "                  protein1              protein2  neighborhood  fusion  \\\n0     9606.ENSP00000000233  9606.ENSP00000003084             0       0   \n1     9606.ENSP00000000233  9606.ENSP00000003100             0       0   \n2     9606.ENSP00000000233  9606.ENSP00000005257             0       0   \n3     9606.ENSP00000000233  9606.ENSP00000005340             0       0   \n4     9606.ENSP00000000233  9606.ENSP00000006101             0       0   \n...                    ...                   ...           ...     ...   \n1692  9606.ENSP00000000233  9606.ENSP00000469872             0       0   \n1693  9606.ENSP00000000233  9606.ENSP00000469958             0       0   \n1694  9606.ENSP00000000233  9606.ENSP00000470087             0       0   \n1695  9606.ENSP00000000233  9606.ENSP00000470383             0       0   \n1696  9606.ENSP00000000233  9606.ENSP00000473036             0       0   \n\n      cooccurence  coexpression  experimental  database  textmining  \\\n0               0             0             0         0         150   \n1               0             0            84         0         178   \n2               0             0            66         0         202   \n3               0             0           166         0          73   \n4               0           112             0         0         369   \n...           ...           ...           ...       ...         ...   \n1692            0             0             0         0         374   \n1693            0             0            98         0         184   \n1694            0             0           113         0          92   \n1695            0             0            94         0         130   \n1696            0            77             0         0         167   \n\n      combined_score  \n0                150  \n1                215  \n2                223  \n3                193  \n4                415  \n...              ...  \n1692             374  \n1693             233  \n1694             160  \n1695             178  \n1696             198  \n\n[1697 rows x 10 columns]",
      "text/html": "<div>\n<style scoped>\n    .dataframe tbody tr th:only-of-type {\n        vertical-align: middle;\n    }\n\n    .dataframe tbody tr th {\n        vertical-align: top;\n    }\n\n    .dataframe thead th {\n        text-align: right;\n    }\n</style>\n<table border=\"1\" class=\"dataframe\">\n  <thead>\n    <tr style=\"text-align: right;\">\n      <th></th>\n      <th>protein1</th>\n      <th>protein2</th>\n      <th>neighborhood</th>\n      <th>fusion</th>\n      <th>cooccurence</th>\n      <th>coexpression</th>\n      <th>experimental</th>\n      <th>database</th>\n      <th>textmining</th>\n      <th>combined_score</th>\n    </tr>\n  </thead>\n  <tbody>\n    <tr>\n      <th>0</th>\n      <td>9606.ENSP00000000233</td>\n      <td>9606.ENSP00000003084</td>\n      <td>0</td>\n      <td>0</td>\n      <td>0</td>\n      <td>0</td>\n      <td>0</td>\n      <td>0</td>\n      <td>150</td>\n      <td>150</td>\n    </tr>\n    <tr>\n      <th>1</th>\n      <td>9606.ENSP00000000233</td>\n      <td>9606.ENSP00000003100</td>\n      <td>0</td>\n      <td>0</td>\n      <td>0</td>\n      <td>0</td>\n      <td>84</td>\n      <td>0</td>\n      <td>178</td>\n      <td>215</td>\n    </tr>\n    <tr>\n      <th>2</th>\n      <td>9606.ENSP00000000233</td>\n      <td>9606.ENSP00000005257</td>\n      <td>0</td>\n      <td>0</td>\n      <td>0</td>\n      <td>0</td>\n      <td>66</td>\n      <td>0</td>\n      <td>202</td>\n      <td>223</td>\n    </tr>\n    <tr>\n      <th>3</th>\n      <td>9606.ENSP00000000233</td>\n      <td>9606.ENSP00000005340</td>\n      <td>0</td>\n      <td>0</td>\n      <td>0</td>\n      <td>0</td>\n      <td>166</td>\n      <td>0</td>\n      <td>73</td>\n      <td>193</td>\n    </tr>\n    <tr>\n      <th>4</th>\n      <td>9606.ENSP00000000233</td>\n      <td>9606.ENSP00000006101</td>\n      <td>0</td>\n      <td>0</td>\n      <td>0</td>\n      <td>112</td>\n      <td>0</td>\n      <td>0</td>\n      <td>369</td>\n      <td>415</td>\n    </tr>\n    <tr>\n      <th>...</th>\n      <td>...</td>\n      <td>...</td>\n      <td>...</td>\n      <td>...</td>\n      <td>...</td>\n      <td>...</td>\n      <td>...</td>\n      <td>...</td>\n      <td>...</td>\n      <td>...</td>\n    </tr>\n    <tr>\n      <th>1692</th>\n      <td>9606.ENSP00000000233</td>\n      <td>9606.ENSP00000469872</td>\n      <td>0</td>\n      <td>0</td>\n      <td>0</td>\n      <td>0</td>\n      <td>0</td>\n      <td>0</td>\n      <td>374</td>\n      <td>374</td>\n    </tr>\n    <tr>\n      <th>1693</th>\n      <td>9606.ENSP00000000233</td>\n      <td>9606.ENSP00000469958</td>\n      <td>0</td>\n      <td>0</td>\n      <td>0</td>\n      <td>0</td>\n      <td>98</td>\n      <td>0</td>\n      <td>184</td>\n      <td>233</td>\n    </tr>\n    <tr>\n      <th>1694</th>\n      <td>9606.ENSP00000000233</td>\n      <td>9606.ENSP00000470087</td>\n      <td>0</td>\n      <td>0</td>\n      <td>0</td>\n      <td>0</td>\n      <td>113</td>\n      <td>0</td>\n      <td>92</td>\n      <td>160</td>\n    </tr>\n    <tr>\n      <th>1695</th>\n      <td>9606.ENSP00000000233</td>\n      <td>9606.ENSP00000470383</td>\n      <td>0</td>\n      <td>0</td>\n      <td>0</td>\n      <td>0</td>\n      <td>94</td>\n      <td>0</td>\n      <td>130</td>\n      <td>178</td>\n    </tr>\n    <tr>\n      <th>1696</th>\n      <td>9606.ENSP00000000233</td>\n      <td>9606.ENSP00000473036</td>\n      <td>0</td>\n      <td>0</td>\n      <td>0</td>\n      <td>77</td>\n      <td>0</td>\n      <td>0</td>\n      <td>167</td>\n      <td>198</td>\n    </tr>\n  </tbody>\n</table>\n<p>1697 rows × 10 columns</p>\n</div>"
     },
     "execution_count": 24,
     "metadata": {},
     "output_type": "execute_result"
    }
   ],
   "source": [
    "string_data[string_data['protein1']=='9606.ENSP00000000233']"
   ],
   "metadata": {
    "collapsed": false,
    "ExecuteTime": {
     "end_time": "2023-12-01T21:23:19.495399300Z",
     "start_time": "2023-12-01T21:23:19.465717500Z"
    }
   },
   "id": "868f91bd876df3ec"
  },
  {
   "cell_type": "code",
   "execution_count": 22,
   "outputs": [
    {
     "data": {
      "text/plain": "                Gene ID    Transcript ID       Protein ID  \\\n119421  ENSG00000262156  ENST00000624713              NaN   \n119422  ENSG00000262156  ENST00000624713              NaN   \n119423  ENSG00000262156  ENST00000623492  ENSP00000485234   \n119424  ENSG00000262156  ENST00000623492  ENSP00000485234   \n119425  ENSG00000262156  ENST00000572661              NaN   \n119426  ENSG00000262156  ENST00000572661              NaN   \n119427  ENSG00000262156  ENST00000570508  ENSP00000461288   \n119428  ENSG00000262156  ENST00000570508  ENSP00000461288   \n\n       Associated Gene Name  EntrezGene ID  \n119421             APOBEC3A       200315.0  \n119422             APOBEC3A    100913187.0  \n119423             APOBEC3A       200315.0  \n119424             APOBEC3A    100913187.0  \n119425             APOBEC3A       200315.0  \n119426             APOBEC3A    100913187.0  \n119427             APOBEC3A       200315.0  \n119428             APOBEC3A    100913187.0  ",
      "text/html": "<div>\n<style scoped>\n    .dataframe tbody tr th:only-of-type {\n        vertical-align: middle;\n    }\n\n    .dataframe tbody tr th {\n        vertical-align: top;\n    }\n\n    .dataframe thead th {\n        text-align: right;\n    }\n</style>\n<table border=\"1\" class=\"dataframe\">\n  <thead>\n    <tr style=\"text-align: right;\">\n      <th></th>\n      <th>Gene ID</th>\n      <th>Transcript ID</th>\n      <th>Protein ID</th>\n      <th>Associated Gene Name</th>\n      <th>EntrezGene ID</th>\n    </tr>\n  </thead>\n  <tbody>\n    <tr>\n      <th>119421</th>\n      <td>ENSG00000262156</td>\n      <td>ENST00000624713</td>\n      <td>NaN</td>\n      <td>APOBEC3A</td>\n      <td>200315.0</td>\n    </tr>\n    <tr>\n      <th>119422</th>\n      <td>ENSG00000262156</td>\n      <td>ENST00000624713</td>\n      <td>NaN</td>\n      <td>APOBEC3A</td>\n      <td>100913187.0</td>\n    </tr>\n    <tr>\n      <th>119423</th>\n      <td>ENSG00000262156</td>\n      <td>ENST00000623492</td>\n      <td>ENSP00000485234</td>\n      <td>APOBEC3A</td>\n      <td>200315.0</td>\n    </tr>\n    <tr>\n      <th>119424</th>\n      <td>ENSG00000262156</td>\n      <td>ENST00000623492</td>\n      <td>ENSP00000485234</td>\n      <td>APOBEC3A</td>\n      <td>100913187.0</td>\n    </tr>\n    <tr>\n      <th>119425</th>\n      <td>ENSG00000262156</td>\n      <td>ENST00000572661</td>\n      <td>NaN</td>\n      <td>APOBEC3A</td>\n      <td>200315.0</td>\n    </tr>\n    <tr>\n      <th>119426</th>\n      <td>ENSG00000262156</td>\n      <td>ENST00000572661</td>\n      <td>NaN</td>\n      <td>APOBEC3A</td>\n      <td>100913187.0</td>\n    </tr>\n    <tr>\n      <th>119427</th>\n      <td>ENSG00000262156</td>\n      <td>ENST00000570508</td>\n      <td>ENSP00000461288</td>\n      <td>APOBEC3A</td>\n      <td>200315.0</td>\n    </tr>\n    <tr>\n      <th>119428</th>\n      <td>ENSG00000262156</td>\n      <td>ENST00000570508</td>\n      <td>ENSP00000461288</td>\n      <td>APOBEC3A</td>\n      <td>100913187.0</td>\n    </tr>\n  </tbody>\n</table>\n</div>"
     },
     "execution_count": 22,
     "metadata": {},
     "output_type": "execute_result"
    }
   ],
   "source": [
    "human_id_map = pd.read_csv(data_path + '/biomart/human_id_map.txt', sep=\"\\t\")\n",
    "human_id_map.head()\n",
    "human_id_map[human_id_map['Gene ID']=='ENSG00000262156']\n",
    "#human_id_map[human_id_map['Gene ID']=='ENSG00000128383']"
   ],
   "metadata": {
    "collapsed": false,
    "ExecuteTime": {
     "end_time": "2023-12-01T21:22:35.091240Z",
     "start_time": "2023-12-01T21:22:34.873190500Z"
    }
   },
   "id": "37285cde9a9bbd1b"
  },
  {
   "cell_type": "code",
   "execution_count": null,
   "outputs": [],
   "source": [],
   "metadata": {
    "collapsed": false
   },
   "id": "50a97a7b95a51ec3"
  }
 ],
 "metadata": {
  "kernelspec": {
   "display_name": "Python 3",
   "language": "python",
   "name": "python3"
  },
  "language_info": {
   "codemirror_mode": {
    "name": "ipython",
    "version": 2
   },
   "file_extension": ".py",
   "mimetype": "text/x-python",
   "name": "python",
   "nbconvert_exporter": "python",
   "pygments_lexer": "ipython2",
   "version": "2.7.6"
  }
 },
 "nbformat": 4,
 "nbformat_minor": 5
}
