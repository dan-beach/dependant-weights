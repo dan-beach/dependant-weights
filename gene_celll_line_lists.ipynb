{
 "cells": [
  {
   "cell_type": "code",
   "execution_count": 34,
   "id": "initial_id",
   "metadata": {
    "collapsed": true,
    "ExecuteTime": {
     "end_time": "2023-12-30T17:08:54.537712400Z",
     "start_time": "2023-12-30T17:08:54.517213400Z"
    }
   },
   "outputs": [],
   "source": [
    "import os\n",
    "import pandas as pd\n",
    "import numpy as np\n",
    "import math"
   ]
  },
  {
   "cell_type": "code",
   "execution_count": 2,
   "outputs": [
    {
     "data": {
      "text/plain": "['alphamissense',\n 'biomart',\n 'cell_gofs.csv',\n 'cell_lofs.csv',\n 'dependant',\n 'depmap',\n 'missing_gene_names.csv',\n 'pathway_commons',\n 'reactome',\n 'reactome_rows_to_drop.csv',\n 'string']"
     },
     "execution_count": 2,
     "metadata": {},
     "output_type": "execute_result"
    }
   ],
   "source": [
    "#data_path = '/home/db600/phd/data/depmap/'\n",
    "data_path = 'C:\\\\Users\\\\dan\\\\Documents\\\\phd\\\\data\\\\'\n",
    "#os.getcwd()\n",
    "os.listdir(data_path)"
   ],
   "metadata": {
    "collapsed": false,
    "ExecuteTime": {
     "end_time": "2023-12-30T17:01:45.158316300Z",
     "start_time": "2023-12-30T17:01:45.146308800Z"
    }
   },
   "id": "179b86c842de3041"
  },
  {
   "cell_type": "code",
   "execution_count": 3,
   "outputs": [],
   "source": [
    "dep_data = pd.read_csv(data_path + 'depmap\\\\CRISPRGeneDependency.csv') \n",
    "exp_data = pd.read_csv(data_path + 'depmap\\\\OmicsExpressionProteinCodingGenesTPMLogp1.csv')\n",
    "mut_data = pd.read_csv(data_path + 'depmap\\\\OmicsSomaticMutations.csv', low_memory=False)\n",
    "model_data = pd.read_csv(data_path + 'depmap\\\\Model.csv')\n",
    "ppi_data = pd.read_csv(data_path + 'dependant\\\\processed_ppi\\\\pathway_commons_reactome_sif.csv')"
   ],
   "metadata": {
    "collapsed": false,
    "ExecuteTime": {
     "end_time": "2023-12-30T17:02:13.548242500Z",
     "start_time": "2023-12-30T17:01:47.203197200Z"
    }
   },
   "id": "fdf1e9deafcaea28"
  },
  {
   "cell_type": "code",
   "execution_count": 4,
   "outputs": [
    {
     "data": {
      "text/plain": "      ModelID  A1BG (1)  A1CF (29974)   A2M (2)  A2ML1 (144568)  \\\n0  ACH-000001  0.055321      0.014039  0.014084        0.033828   \n1  ACH-000004  0.023418      0.048724  0.058084        0.019483   \n2  ACH-000005  0.059552      0.025478  0.009989        0.008775   \n3  ACH-000007  0.023880      0.035082  0.006556        0.004322   \n4  ACH-000009  0.027652      0.074860  0.011021        0.009153   \n\n   A3GALT2 (127550)  A4GALT (53947)  A4GNT (51146)  AAAS (8086)  AACS (65985)  \\\n0          0.049511        0.004955       0.026993     0.131006      0.003102   \n1          0.049793        0.064472       0.001775     0.071289      0.003732   \n2          0.099322        0.099572       0.007544     0.049601      0.047555   \n3          0.022200        0.017121       0.009605     0.149378      0.052873   \n4          0.021632        0.067758       0.013559     0.216796      0.013660   \n\n   ...  ZWILCH (55055)  ZWINT (11130)  ZXDA (7789)  ZXDB (158586)  \\\n0  ...        0.047757       0.047806     0.007155       0.002537   \n1  ...        0.044517       0.471009     0.005096       0.015149   \n2  ...        0.073457       0.281892     0.044789       0.058229   \n3  ...        0.160608       0.593581     0.017412       0.001892   \n4  ...        0.181632       0.342313     0.042414       0.002859   \n\n   ZXDC (79364)  ZYG11A (440590)  ZYG11B (79699)  ZYX (7791)  ZZEF1 (23140)  \\\n0      0.003660         0.154849        0.015792    0.015999       0.006200   \n1      0.009804         0.015507        0.319598    0.007778       0.004392   \n2      0.029638         0.097357        0.066269    0.025365       0.042530   \n3      0.006432         0.029261        0.369101    0.015412       0.165622   \n4      0.058070         0.053355        0.651365    0.012016       0.023990   \n\n   ZZZ3 (26009)  \n0      0.436777  \n1      0.048136  \n2      0.096150  \n3      0.366325  \n4      0.312202  \n\n[5 rows x 17932 columns]",
      "text/html": "<div>\n<style scoped>\n    .dataframe tbody tr th:only-of-type {\n        vertical-align: middle;\n    }\n\n    .dataframe tbody tr th {\n        vertical-align: top;\n    }\n\n    .dataframe thead th {\n        text-align: right;\n    }\n</style>\n<table border=\"1\" class=\"dataframe\">\n  <thead>\n    <tr style=\"text-align: right;\">\n      <th></th>\n      <th>ModelID</th>\n      <th>A1BG (1)</th>\n      <th>A1CF (29974)</th>\n      <th>A2M (2)</th>\n      <th>A2ML1 (144568)</th>\n      <th>A3GALT2 (127550)</th>\n      <th>A4GALT (53947)</th>\n      <th>A4GNT (51146)</th>\n      <th>AAAS (8086)</th>\n      <th>AACS (65985)</th>\n      <th>...</th>\n      <th>ZWILCH (55055)</th>\n      <th>ZWINT (11130)</th>\n      <th>ZXDA (7789)</th>\n      <th>ZXDB (158586)</th>\n      <th>ZXDC (79364)</th>\n      <th>ZYG11A (440590)</th>\n      <th>ZYG11B (79699)</th>\n      <th>ZYX (7791)</th>\n      <th>ZZEF1 (23140)</th>\n      <th>ZZZ3 (26009)</th>\n    </tr>\n  </thead>\n  <tbody>\n    <tr>\n      <th>0</th>\n      <td>ACH-000001</td>\n      <td>0.055321</td>\n      <td>0.014039</td>\n      <td>0.014084</td>\n      <td>0.033828</td>\n      <td>0.049511</td>\n      <td>0.004955</td>\n      <td>0.026993</td>\n      <td>0.131006</td>\n      <td>0.003102</td>\n      <td>...</td>\n      <td>0.047757</td>\n      <td>0.047806</td>\n      <td>0.007155</td>\n      <td>0.002537</td>\n      <td>0.003660</td>\n      <td>0.154849</td>\n      <td>0.015792</td>\n      <td>0.015999</td>\n      <td>0.006200</td>\n      <td>0.436777</td>\n    </tr>\n    <tr>\n      <th>1</th>\n      <td>ACH-000004</td>\n      <td>0.023418</td>\n      <td>0.048724</td>\n      <td>0.058084</td>\n      <td>0.019483</td>\n      <td>0.049793</td>\n      <td>0.064472</td>\n      <td>0.001775</td>\n      <td>0.071289</td>\n      <td>0.003732</td>\n      <td>...</td>\n      <td>0.044517</td>\n      <td>0.471009</td>\n      <td>0.005096</td>\n      <td>0.015149</td>\n      <td>0.009804</td>\n      <td>0.015507</td>\n      <td>0.319598</td>\n      <td>0.007778</td>\n      <td>0.004392</td>\n      <td>0.048136</td>\n    </tr>\n    <tr>\n      <th>2</th>\n      <td>ACH-000005</td>\n      <td>0.059552</td>\n      <td>0.025478</td>\n      <td>0.009989</td>\n      <td>0.008775</td>\n      <td>0.099322</td>\n      <td>0.099572</td>\n      <td>0.007544</td>\n      <td>0.049601</td>\n      <td>0.047555</td>\n      <td>...</td>\n      <td>0.073457</td>\n      <td>0.281892</td>\n      <td>0.044789</td>\n      <td>0.058229</td>\n      <td>0.029638</td>\n      <td>0.097357</td>\n      <td>0.066269</td>\n      <td>0.025365</td>\n      <td>0.042530</td>\n      <td>0.096150</td>\n    </tr>\n    <tr>\n      <th>3</th>\n      <td>ACH-000007</td>\n      <td>0.023880</td>\n      <td>0.035082</td>\n      <td>0.006556</td>\n      <td>0.004322</td>\n      <td>0.022200</td>\n      <td>0.017121</td>\n      <td>0.009605</td>\n      <td>0.149378</td>\n      <td>0.052873</td>\n      <td>...</td>\n      <td>0.160608</td>\n      <td>0.593581</td>\n      <td>0.017412</td>\n      <td>0.001892</td>\n      <td>0.006432</td>\n      <td>0.029261</td>\n      <td>0.369101</td>\n      <td>0.015412</td>\n      <td>0.165622</td>\n      <td>0.366325</td>\n    </tr>\n    <tr>\n      <th>4</th>\n      <td>ACH-000009</td>\n      <td>0.027652</td>\n      <td>0.074860</td>\n      <td>0.011021</td>\n      <td>0.009153</td>\n      <td>0.021632</td>\n      <td>0.067758</td>\n      <td>0.013559</td>\n      <td>0.216796</td>\n      <td>0.013660</td>\n      <td>...</td>\n      <td>0.181632</td>\n      <td>0.342313</td>\n      <td>0.042414</td>\n      <td>0.002859</td>\n      <td>0.058070</td>\n      <td>0.053355</td>\n      <td>0.651365</td>\n      <td>0.012016</td>\n      <td>0.023990</td>\n      <td>0.312202</td>\n    </tr>\n  </tbody>\n</table>\n<p>5 rows × 17932 columns</p>\n</div>"
     },
     "execution_count": 4,
     "metadata": {},
     "output_type": "execute_result"
    }
   ],
   "source": [
    "dep_data.head()"
   ],
   "metadata": {
    "collapsed": false,
    "ExecuteTime": {
     "end_time": "2023-12-30T17:02:13.611823700Z",
     "start_time": "2023-12-30T17:02:13.548242500Z"
    }
   },
   "id": "93637e9288777f68"
  },
  {
   "cell_type": "code",
   "execution_count": 5,
   "outputs": [
    {
     "data": {
      "text/plain": "  Chrom       Pos Ref Alt     AF  RefCount  AltCount   GT          PS  \\\n0  chr1   1242864  GC  CT  0.310        19         8  0/1         NaN   \n1  chr1  10647969   A   G  0.400        29        19  0|1  10647969.0   \n2  chr1  10648097   T   G  0.349        21        10  0/1         NaN   \n3  chr1  13198424   G   A  0.833         0         4  0/1         NaN   \n4  chr1  13225068   A   G  0.396        34        24  0/1         NaN   \n\n  VariantType  ... RevelScore Funseq2Score PharmgkbID DidaID DidaName  \\\n0         DNP  ...        NaN          NaN        NaN    NaN      NaN   \n1         SNP  ...      0.234          3.0        NaN    NaN      NaN   \n2         SNP  ...        NaN          0.0        NaN    NaN      NaN   \n3         SNP  ...      0.002          NaN        NaN    NaN      NaN   \n4         SNP  ...        NaN          0.0        NaN    NaN      NaN   \n\n  GwasDisease GwasPmID  GTexGene     ModelID EntrezGeneID  \n0         NaN      NaN       NaN  ACH-000839     388581.0  \n1         NaN      NaN       NaN  ACH-000839      54897.0  \n2         NaN      NaN       NaN  ACH-000839      54897.0  \n3         NaN      NaN       NaN  ACH-000839     400736.0  \n4         NaN      NaN       NaN  ACH-000839     391003.0  \n\n[5 rows x 56 columns]",
      "text/html": "<div>\n<style scoped>\n    .dataframe tbody tr th:only-of-type {\n        vertical-align: middle;\n    }\n\n    .dataframe tbody tr th {\n        vertical-align: top;\n    }\n\n    .dataframe thead th {\n        text-align: right;\n    }\n</style>\n<table border=\"1\" class=\"dataframe\">\n  <thead>\n    <tr style=\"text-align: right;\">\n      <th></th>\n      <th>Chrom</th>\n      <th>Pos</th>\n      <th>Ref</th>\n      <th>Alt</th>\n      <th>AF</th>\n      <th>RefCount</th>\n      <th>AltCount</th>\n      <th>GT</th>\n      <th>PS</th>\n      <th>VariantType</th>\n      <th>...</th>\n      <th>RevelScore</th>\n      <th>Funseq2Score</th>\n      <th>PharmgkbID</th>\n      <th>DidaID</th>\n      <th>DidaName</th>\n      <th>GwasDisease</th>\n      <th>GwasPmID</th>\n      <th>GTexGene</th>\n      <th>ModelID</th>\n      <th>EntrezGeneID</th>\n    </tr>\n  </thead>\n  <tbody>\n    <tr>\n      <th>0</th>\n      <td>chr1</td>\n      <td>1242864</td>\n      <td>GC</td>\n      <td>CT</td>\n      <td>0.310</td>\n      <td>19</td>\n      <td>8</td>\n      <td>0/1</td>\n      <td>NaN</td>\n      <td>DNP</td>\n      <td>...</td>\n      <td>NaN</td>\n      <td>NaN</td>\n      <td>NaN</td>\n      <td>NaN</td>\n      <td>NaN</td>\n      <td>NaN</td>\n      <td>NaN</td>\n      <td>NaN</td>\n      <td>ACH-000839</td>\n      <td>388581.0</td>\n    </tr>\n    <tr>\n      <th>1</th>\n      <td>chr1</td>\n      <td>10647969</td>\n      <td>A</td>\n      <td>G</td>\n      <td>0.400</td>\n      <td>29</td>\n      <td>19</td>\n      <td>0|1</td>\n      <td>10647969.0</td>\n      <td>SNP</td>\n      <td>...</td>\n      <td>0.234</td>\n      <td>3.0</td>\n      <td>NaN</td>\n      <td>NaN</td>\n      <td>NaN</td>\n      <td>NaN</td>\n      <td>NaN</td>\n      <td>NaN</td>\n      <td>ACH-000839</td>\n      <td>54897.0</td>\n    </tr>\n    <tr>\n      <th>2</th>\n      <td>chr1</td>\n      <td>10648097</td>\n      <td>T</td>\n      <td>G</td>\n      <td>0.349</td>\n      <td>21</td>\n      <td>10</td>\n      <td>0/1</td>\n      <td>NaN</td>\n      <td>SNP</td>\n      <td>...</td>\n      <td>NaN</td>\n      <td>0.0</td>\n      <td>NaN</td>\n      <td>NaN</td>\n      <td>NaN</td>\n      <td>NaN</td>\n      <td>NaN</td>\n      <td>NaN</td>\n      <td>ACH-000839</td>\n      <td>54897.0</td>\n    </tr>\n    <tr>\n      <th>3</th>\n      <td>chr1</td>\n      <td>13198424</td>\n      <td>G</td>\n      <td>A</td>\n      <td>0.833</td>\n      <td>0</td>\n      <td>4</td>\n      <td>0/1</td>\n      <td>NaN</td>\n      <td>SNP</td>\n      <td>...</td>\n      <td>0.002</td>\n      <td>NaN</td>\n      <td>NaN</td>\n      <td>NaN</td>\n      <td>NaN</td>\n      <td>NaN</td>\n      <td>NaN</td>\n      <td>NaN</td>\n      <td>ACH-000839</td>\n      <td>400736.0</td>\n    </tr>\n    <tr>\n      <th>4</th>\n      <td>chr1</td>\n      <td>13225068</td>\n      <td>A</td>\n      <td>G</td>\n      <td>0.396</td>\n      <td>34</td>\n      <td>24</td>\n      <td>0/1</td>\n      <td>NaN</td>\n      <td>SNP</td>\n      <td>...</td>\n      <td>NaN</td>\n      <td>0.0</td>\n      <td>NaN</td>\n      <td>NaN</td>\n      <td>NaN</td>\n      <td>NaN</td>\n      <td>NaN</td>\n      <td>NaN</td>\n      <td>ACH-000839</td>\n      <td>391003.0</td>\n    </tr>\n  </tbody>\n</table>\n<p>5 rows × 56 columns</p>\n</div>"
     },
     "execution_count": 5,
     "metadata": {},
     "output_type": "execute_result"
    }
   ],
   "source": [
    "mut_data.head()"
   ],
   "metadata": {
    "collapsed": false,
    "ExecuteTime": {
     "end_time": "2023-12-30T17:02:13.655873600Z",
     "start_time": "2023-12-30T17:02:13.591780700Z"
    }
   },
   "id": "a7ef3b0ecaf023be"
  },
  {
   "cell_type": "code",
   "execution_count": 6,
   "outputs": [
    {
     "data": {
      "text/plain": "   Unnamed: 0  TSPAN6 (7105)  TNMD (64102)  DPM1 (8813)  SCYL3 (57147)  \\\n0  ACH-001113       4.331992      0.000000     7.364660       2.792855   \n1  ACH-001289       4.567424      0.584963     7.106641       2.543496   \n2  ACH-001339       3.150560      0.000000     7.379118       2.333424   \n3  ACH-001538       5.085340      0.000000     7.154211       2.545968   \n4  ACH-000242       6.729417      0.000000     6.537917       2.456806   \n\n   C1orf112 (55732)  FGR (2268)  CFH (3075)  FUCA2 (2519)  GCLC (2729)  ...  \\\n0          4.471187    0.028569    1.226509      3.044394     6.500005  ...   \n1          3.504620    0.000000    0.189034      3.813525     4.221877  ...   \n2          4.228049    0.056584    1.310340      6.687201     3.682573  ...   \n3          3.084064    0.000000    5.868390      6.165309     4.489928  ...   \n4          3.867896    0.799087    7.208478      5.570159     7.127117  ...   \n\n   H3C2 (8358)  H3C3 (8352)  AC098582.1 (8916)  DUS4L-BCAP29 (115253422)  \\\n0     2.689299     0.189034           0.201634                  2.130931   \n1     1.286881     1.049631           0.321928                  1.464668   \n2     0.594549     1.097611           0.831877                  2.946731   \n3     0.214125     0.632268           0.298658                  1.641546   \n4     1.117695     2.358959           0.084064                  1.910733   \n\n   C8orf44-SGK3 (100533105)  ELOA3B (728929)  NPBWR1 (2831)  \\\n0                  0.555816              0.0       0.275007   \n1                  0.632268              0.0       0.014355   \n2                  0.475085              0.0       0.084064   \n3                  0.443607              0.0       0.028569   \n4                  0.000000              0.0       0.464668   \n\n   ELOA3D (100506888)  ELOA3 (162699)  CDR1 (1038)  \n0                 0.0             0.0     0.000000  \n1                 0.0             0.0     0.000000  \n2                 0.0             0.0     0.042644  \n3                 0.0             0.0     0.000000  \n4                 0.0             0.0     0.000000  \n\n[5 rows x 19194 columns]",
      "text/html": "<div>\n<style scoped>\n    .dataframe tbody tr th:only-of-type {\n        vertical-align: middle;\n    }\n\n    .dataframe tbody tr th {\n        vertical-align: top;\n    }\n\n    .dataframe thead th {\n        text-align: right;\n    }\n</style>\n<table border=\"1\" class=\"dataframe\">\n  <thead>\n    <tr style=\"text-align: right;\">\n      <th></th>\n      <th>Unnamed: 0</th>\n      <th>TSPAN6 (7105)</th>\n      <th>TNMD (64102)</th>\n      <th>DPM1 (8813)</th>\n      <th>SCYL3 (57147)</th>\n      <th>C1orf112 (55732)</th>\n      <th>FGR (2268)</th>\n      <th>CFH (3075)</th>\n      <th>FUCA2 (2519)</th>\n      <th>GCLC (2729)</th>\n      <th>...</th>\n      <th>H3C2 (8358)</th>\n      <th>H3C3 (8352)</th>\n      <th>AC098582.1 (8916)</th>\n      <th>DUS4L-BCAP29 (115253422)</th>\n      <th>C8orf44-SGK3 (100533105)</th>\n      <th>ELOA3B (728929)</th>\n      <th>NPBWR1 (2831)</th>\n      <th>ELOA3D (100506888)</th>\n      <th>ELOA3 (162699)</th>\n      <th>CDR1 (1038)</th>\n    </tr>\n  </thead>\n  <tbody>\n    <tr>\n      <th>0</th>\n      <td>ACH-001113</td>\n      <td>4.331992</td>\n      <td>0.000000</td>\n      <td>7.364660</td>\n      <td>2.792855</td>\n      <td>4.471187</td>\n      <td>0.028569</td>\n      <td>1.226509</td>\n      <td>3.044394</td>\n      <td>6.500005</td>\n      <td>...</td>\n      <td>2.689299</td>\n      <td>0.189034</td>\n      <td>0.201634</td>\n      <td>2.130931</td>\n      <td>0.555816</td>\n      <td>0.0</td>\n      <td>0.275007</td>\n      <td>0.0</td>\n      <td>0.0</td>\n      <td>0.000000</td>\n    </tr>\n    <tr>\n      <th>1</th>\n      <td>ACH-001289</td>\n      <td>4.567424</td>\n      <td>0.584963</td>\n      <td>7.106641</td>\n      <td>2.543496</td>\n      <td>3.504620</td>\n      <td>0.000000</td>\n      <td>0.189034</td>\n      <td>3.813525</td>\n      <td>4.221877</td>\n      <td>...</td>\n      <td>1.286881</td>\n      <td>1.049631</td>\n      <td>0.321928</td>\n      <td>1.464668</td>\n      <td>0.632268</td>\n      <td>0.0</td>\n      <td>0.014355</td>\n      <td>0.0</td>\n      <td>0.0</td>\n      <td>0.000000</td>\n    </tr>\n    <tr>\n      <th>2</th>\n      <td>ACH-001339</td>\n      <td>3.150560</td>\n      <td>0.000000</td>\n      <td>7.379118</td>\n      <td>2.333424</td>\n      <td>4.228049</td>\n      <td>0.056584</td>\n      <td>1.310340</td>\n      <td>6.687201</td>\n      <td>3.682573</td>\n      <td>...</td>\n      <td>0.594549</td>\n      <td>1.097611</td>\n      <td>0.831877</td>\n      <td>2.946731</td>\n      <td>0.475085</td>\n      <td>0.0</td>\n      <td>0.084064</td>\n      <td>0.0</td>\n      <td>0.0</td>\n      <td>0.042644</td>\n    </tr>\n    <tr>\n      <th>3</th>\n      <td>ACH-001538</td>\n      <td>5.085340</td>\n      <td>0.000000</td>\n      <td>7.154211</td>\n      <td>2.545968</td>\n      <td>3.084064</td>\n      <td>0.000000</td>\n      <td>5.868390</td>\n      <td>6.165309</td>\n      <td>4.489928</td>\n      <td>...</td>\n      <td>0.214125</td>\n      <td>0.632268</td>\n      <td>0.298658</td>\n      <td>1.641546</td>\n      <td>0.443607</td>\n      <td>0.0</td>\n      <td>0.028569</td>\n      <td>0.0</td>\n      <td>0.0</td>\n      <td>0.000000</td>\n    </tr>\n    <tr>\n      <th>4</th>\n      <td>ACH-000242</td>\n      <td>6.729417</td>\n      <td>0.000000</td>\n      <td>6.537917</td>\n      <td>2.456806</td>\n      <td>3.867896</td>\n      <td>0.799087</td>\n      <td>7.208478</td>\n      <td>5.570159</td>\n      <td>7.127117</td>\n      <td>...</td>\n      <td>1.117695</td>\n      <td>2.358959</td>\n      <td>0.084064</td>\n      <td>1.910733</td>\n      <td>0.000000</td>\n      <td>0.0</td>\n      <td>0.464668</td>\n      <td>0.0</td>\n      <td>0.0</td>\n      <td>0.000000</td>\n    </tr>\n  </tbody>\n</table>\n<p>5 rows × 19194 columns</p>\n</div>"
     },
     "execution_count": 6,
     "metadata": {},
     "output_type": "execute_result"
    }
   ],
   "source": [
    "exp_data.head()"
   ],
   "metadata": {
    "collapsed": false,
    "ExecuteTime": {
     "end_time": "2023-12-30T17:02:13.659874200Z",
     "start_time": "2023-12-30T17:02:13.607796Z"
    }
   },
   "id": "fa25d249bbb6794f"
  },
  {
   "cell_type": "code",
   "execution_count": 7,
   "outputs": [
    {
     "name": "stdout",
     "output_type": "stream",
     "text": [
      "329941\n"
     ]
    },
    {
     "data": {
      "text/plain": "  PARTICIPANT_A PARTICIPANT_B\n0          A1CF       APOBEC2\n1          A1CF      APOBEC3A\n2          A1CF      APOBEC3B\n3          A1CF      APOBEC3C\n4          A1CF      APOBEC3H",
      "text/html": "<div>\n<style scoped>\n    .dataframe tbody tr th:only-of-type {\n        vertical-align: middle;\n    }\n\n    .dataframe tbody tr th {\n        vertical-align: top;\n    }\n\n    .dataframe thead th {\n        text-align: right;\n    }\n</style>\n<table border=\"1\" class=\"dataframe\">\n  <thead>\n    <tr style=\"text-align: right;\">\n      <th></th>\n      <th>PARTICIPANT_A</th>\n      <th>PARTICIPANT_B</th>\n    </tr>\n  </thead>\n  <tbody>\n    <tr>\n      <th>0</th>\n      <td>A1CF</td>\n      <td>APOBEC2</td>\n    </tr>\n    <tr>\n      <th>1</th>\n      <td>A1CF</td>\n      <td>APOBEC3A</td>\n    </tr>\n    <tr>\n      <th>2</th>\n      <td>A1CF</td>\n      <td>APOBEC3B</td>\n    </tr>\n    <tr>\n      <th>3</th>\n      <td>A1CF</td>\n      <td>APOBEC3C</td>\n    </tr>\n    <tr>\n      <th>4</th>\n      <td>A1CF</td>\n      <td>APOBEC3H</td>\n    </tr>\n  </tbody>\n</table>\n</div>"
     },
     "execution_count": 7,
     "metadata": {},
     "output_type": "execute_result"
    }
   ],
   "source": [
    "print(len(ppi_data))\n",
    "ppi_data.head()"
   ],
   "metadata": {
    "collapsed": false,
    "ExecuteTime": {
     "end_time": "2023-12-30T17:02:13.679867700Z",
     "start_time": "2023-12-30T17:02:13.617817900Z"
    }
   },
   "id": "ef42c6ef19fcf132"
  },
  {
   "cell_type": "code",
   "execution_count": 8,
   "outputs": [
    {
     "data": {
      "text/plain": "             CCLEName     ModelID\n0      HCC1428_BREAST  ACH-000352\n1      HCC1806_BREAST  ACH-000624\n2      HCC1937_BREAST  ACH-000223\n3     MDAMB231_BREAST  ACH-000768\n4       HCC202_BREAST  ACH-000725\n5        CAL51_BREAST  ACH-000856\n6     MDAMB468_BREAST  ACH-000849\n7         KPL1_BREAST  ACH-000028\n8     MDAMB415_BREAST  ACH-000876\n9     MDAMB157_BREAST  ACH-000621\n10    MDAMB453_BREAST  ACH-000910\n11     HCC1954_BREAST  ACH-000859\n12      HS578T_BREAST  ACH-000148\n13       ZR751_BREAST  ACH-000097\n14       AU565_BREAST  ACH-000248\n15    MDAMB436_BREAST  ACH-000573\n16       EFM19_BREAST  ACH-000330\n17     HCC1143_BREAST  ACH-000374\n18     HCC1395_BREAST  ACH-000699\n19   TUHR10TKB_KIDNEY  ACH-000459\n20       KMRC1_KIDNEY  ACH-000684\n21       SLR23_KIDNEY  ACH-000246\n22       OSRC2_KIDNEY  ACH-000159\n23      SNU349_KIDNEY  ACH-000907\n24       SLR20_KIDNEY  ACH-000127\n25     BFTC909_KIDNEY  ACH-000792\n26    TUHR4TKB_KIDNEY  ACH-000495\n27       CAKI2_KIDNEY  ACH-000234\n28       SLR26_KIDNEY  ACH-000600\n29      UOK101_KIDNEY  ACH-000262\n30  PANC1005_PANCREAS  ACH-000060\n31    HS766T_PANCREAS  ACH-000178\n32     ASPC1_PANCREAS  ACH-000222\n33       KP2_PANCREAS  ACH-000281\n34       KP4_PANCREAS  ACH-000265\n35  MIAPACA2_PANCREAS  ACH-000601\n36    CFPAC1_PANCREAS  ACH-000138\n37      PSN1_PANCREAS  ACH-000320\n38     HUPT3_PANCREAS  ACH-000118",
      "text/html": "<div>\n<style scoped>\n    .dataframe tbody tr th:only-of-type {\n        vertical-align: middle;\n    }\n\n    .dataframe tbody tr th {\n        vertical-align: top;\n    }\n\n    .dataframe thead th {\n        text-align: right;\n    }\n</style>\n<table border=\"1\" class=\"dataframe\">\n  <thead>\n    <tr style=\"text-align: right;\">\n      <th></th>\n      <th>CCLEName</th>\n      <th>ModelID</th>\n    </tr>\n  </thead>\n  <tbody>\n    <tr>\n      <th>0</th>\n      <td>HCC1428_BREAST</td>\n      <td>ACH-000352</td>\n    </tr>\n    <tr>\n      <th>1</th>\n      <td>HCC1806_BREAST</td>\n      <td>ACH-000624</td>\n    </tr>\n    <tr>\n      <th>2</th>\n      <td>HCC1937_BREAST</td>\n      <td>ACH-000223</td>\n    </tr>\n    <tr>\n      <th>3</th>\n      <td>MDAMB231_BREAST</td>\n      <td>ACH-000768</td>\n    </tr>\n    <tr>\n      <th>4</th>\n      <td>HCC202_BREAST</td>\n      <td>ACH-000725</td>\n    </tr>\n    <tr>\n      <th>5</th>\n      <td>CAL51_BREAST</td>\n      <td>ACH-000856</td>\n    </tr>\n    <tr>\n      <th>6</th>\n      <td>MDAMB468_BREAST</td>\n      <td>ACH-000849</td>\n    </tr>\n    <tr>\n      <th>7</th>\n      <td>KPL1_BREAST</td>\n      <td>ACH-000028</td>\n    </tr>\n    <tr>\n      <th>8</th>\n      <td>MDAMB415_BREAST</td>\n      <td>ACH-000876</td>\n    </tr>\n    <tr>\n      <th>9</th>\n      <td>MDAMB157_BREAST</td>\n      <td>ACH-000621</td>\n    </tr>\n    <tr>\n      <th>10</th>\n      <td>MDAMB453_BREAST</td>\n      <td>ACH-000910</td>\n    </tr>\n    <tr>\n      <th>11</th>\n      <td>HCC1954_BREAST</td>\n      <td>ACH-000859</td>\n    </tr>\n    <tr>\n      <th>12</th>\n      <td>HS578T_BREAST</td>\n      <td>ACH-000148</td>\n    </tr>\n    <tr>\n      <th>13</th>\n      <td>ZR751_BREAST</td>\n      <td>ACH-000097</td>\n    </tr>\n    <tr>\n      <th>14</th>\n      <td>AU565_BREAST</td>\n      <td>ACH-000248</td>\n    </tr>\n    <tr>\n      <th>15</th>\n      <td>MDAMB436_BREAST</td>\n      <td>ACH-000573</td>\n    </tr>\n    <tr>\n      <th>16</th>\n      <td>EFM19_BREAST</td>\n      <td>ACH-000330</td>\n    </tr>\n    <tr>\n      <th>17</th>\n      <td>HCC1143_BREAST</td>\n      <td>ACH-000374</td>\n    </tr>\n    <tr>\n      <th>18</th>\n      <td>HCC1395_BREAST</td>\n      <td>ACH-000699</td>\n    </tr>\n    <tr>\n      <th>19</th>\n      <td>TUHR10TKB_KIDNEY</td>\n      <td>ACH-000459</td>\n    </tr>\n    <tr>\n      <th>20</th>\n      <td>KMRC1_KIDNEY</td>\n      <td>ACH-000684</td>\n    </tr>\n    <tr>\n      <th>21</th>\n      <td>SLR23_KIDNEY</td>\n      <td>ACH-000246</td>\n    </tr>\n    <tr>\n      <th>22</th>\n      <td>OSRC2_KIDNEY</td>\n      <td>ACH-000159</td>\n    </tr>\n    <tr>\n      <th>23</th>\n      <td>SNU349_KIDNEY</td>\n      <td>ACH-000907</td>\n    </tr>\n    <tr>\n      <th>24</th>\n      <td>SLR20_KIDNEY</td>\n      <td>ACH-000127</td>\n    </tr>\n    <tr>\n      <th>25</th>\n      <td>BFTC909_KIDNEY</td>\n      <td>ACH-000792</td>\n    </tr>\n    <tr>\n      <th>26</th>\n      <td>TUHR4TKB_KIDNEY</td>\n      <td>ACH-000495</td>\n    </tr>\n    <tr>\n      <th>27</th>\n      <td>CAKI2_KIDNEY</td>\n      <td>ACH-000234</td>\n    </tr>\n    <tr>\n      <th>28</th>\n      <td>SLR26_KIDNEY</td>\n      <td>ACH-000600</td>\n    </tr>\n    <tr>\n      <th>29</th>\n      <td>UOK101_KIDNEY</td>\n      <td>ACH-000262</td>\n    </tr>\n    <tr>\n      <th>30</th>\n      <td>PANC1005_PANCREAS</td>\n      <td>ACH-000060</td>\n    </tr>\n    <tr>\n      <th>31</th>\n      <td>HS766T_PANCREAS</td>\n      <td>ACH-000178</td>\n    </tr>\n    <tr>\n      <th>32</th>\n      <td>ASPC1_PANCREAS</td>\n      <td>ACH-000222</td>\n    </tr>\n    <tr>\n      <th>33</th>\n      <td>KP2_PANCREAS</td>\n      <td>ACH-000281</td>\n    </tr>\n    <tr>\n      <th>34</th>\n      <td>KP4_PANCREAS</td>\n      <td>ACH-000265</td>\n    </tr>\n    <tr>\n      <th>35</th>\n      <td>MIAPACA2_PANCREAS</td>\n      <td>ACH-000601</td>\n    </tr>\n    <tr>\n      <th>36</th>\n      <td>CFPAC1_PANCREAS</td>\n      <td>ACH-000138</td>\n    </tr>\n    <tr>\n      <th>37</th>\n      <td>PSN1_PANCREAS</td>\n      <td>ACH-000320</td>\n    </tr>\n    <tr>\n      <th>38</th>\n      <td>HUPT3_PANCREAS</td>\n      <td>ACH-000118</td>\n    </tr>\n  </tbody>\n</table>\n</div>"
     },
     "execution_count": 8,
     "metadata": {},
     "output_type": "execute_result"
    }
   ],
   "source": [
    "# Get list of training cell lines used in original program\n",
    "# Manually saved to CSV earlier\n",
    "original_cell_lines = pd.read_csv(data_path + 'dependant\\\\original_training_cell_lines.csv')\n",
    "original_cell_lines = original_cell_lines.rename(columns={'cell_line': 'CCLEName'})\n",
    "\n",
    "# Add depmap model ID to the list of original training cell lines\n",
    "original_cell_lines = pd.merge(original_cell_lines, model_data[['ModelID', 'CCLEName']], on='CCLEName', how='left')\n",
    "\n",
    "# View the cell line list\n",
    "original_cell_lines"
   ],
   "metadata": {
    "collapsed": false,
    "ExecuteTime": {
     "end_time": "2023-12-30T17:02:13.703869600Z",
     "start_time": "2023-12-30T17:02:13.631866400Z"
    }
   },
   "id": "79b9764888482b0c"
  },
  {
   "cell_type": "code",
   "execution_count": 9,
   "outputs": [
    {
     "data": {
      "text/plain": "             CCLEName     ModelID\n0      HCC1428_BREAST  ACH-000352\n1      HCC1806_BREAST  ACH-000624\n2      HCC1937_BREAST  ACH-000223\n3     MDAMB231_BREAST  ACH-000768\n4       HCC202_BREAST  ACH-000725\n5        CAL51_BREAST  ACH-000856\n6     MDAMB468_BREAST  ACH-000849\n7         KPL1_BREAST  ACH-000028\n8     MDAMB415_BREAST  ACH-000876\n9     MDAMB157_BREAST  ACH-000621\n10    MDAMB453_BREAST  ACH-000910\n11     HCC1954_BREAST  ACH-000859\n12      HS578T_BREAST  ACH-000148\n13       ZR751_BREAST  ACH-000097\n14       AU565_BREAST  ACH-000248\n15    MDAMB436_BREAST  ACH-000573\n16       EFM19_BREAST  ACH-000330\n17     HCC1143_BREAST  ACH-000374\n18     HCC1395_BREAST  ACH-000699\n19   TUHR10TKB_KIDNEY  ACH-000459\n20       KMRC1_KIDNEY  ACH-000684\n22       OSRC2_KIDNEY  ACH-000159\n23      SNU349_KIDNEY  ACH-000907\n24       SLR20_KIDNEY  ACH-000127\n25     BFTC909_KIDNEY  ACH-000792\n26    TUHR4TKB_KIDNEY  ACH-000495\n27       CAKI2_KIDNEY  ACH-000234\n29      UOK101_KIDNEY  ACH-000262\n30  PANC1005_PANCREAS  ACH-000060\n31    HS766T_PANCREAS  ACH-000178\n32     ASPC1_PANCREAS  ACH-000222\n33       KP2_PANCREAS  ACH-000281\n34       KP4_PANCREAS  ACH-000265\n35  MIAPACA2_PANCREAS  ACH-000601\n36    CFPAC1_PANCREAS  ACH-000138\n37      PSN1_PANCREAS  ACH-000320\n38     HUPT3_PANCREAS  ACH-000118",
      "text/html": "<div>\n<style scoped>\n    .dataframe tbody tr th:only-of-type {\n        vertical-align: middle;\n    }\n\n    .dataframe tbody tr th {\n        vertical-align: top;\n    }\n\n    .dataframe thead th {\n        text-align: right;\n    }\n</style>\n<table border=\"1\" class=\"dataframe\">\n  <thead>\n    <tr style=\"text-align: right;\">\n      <th></th>\n      <th>CCLEName</th>\n      <th>ModelID</th>\n    </tr>\n  </thead>\n  <tbody>\n    <tr>\n      <th>0</th>\n      <td>HCC1428_BREAST</td>\n      <td>ACH-000352</td>\n    </tr>\n    <tr>\n      <th>1</th>\n      <td>HCC1806_BREAST</td>\n      <td>ACH-000624</td>\n    </tr>\n    <tr>\n      <th>2</th>\n      <td>HCC1937_BREAST</td>\n      <td>ACH-000223</td>\n    </tr>\n    <tr>\n      <th>3</th>\n      <td>MDAMB231_BREAST</td>\n      <td>ACH-000768</td>\n    </tr>\n    <tr>\n      <th>4</th>\n      <td>HCC202_BREAST</td>\n      <td>ACH-000725</td>\n    </tr>\n    <tr>\n      <th>5</th>\n      <td>CAL51_BREAST</td>\n      <td>ACH-000856</td>\n    </tr>\n    <tr>\n      <th>6</th>\n      <td>MDAMB468_BREAST</td>\n      <td>ACH-000849</td>\n    </tr>\n    <tr>\n      <th>7</th>\n      <td>KPL1_BREAST</td>\n      <td>ACH-000028</td>\n    </tr>\n    <tr>\n      <th>8</th>\n      <td>MDAMB415_BREAST</td>\n      <td>ACH-000876</td>\n    </tr>\n    <tr>\n      <th>9</th>\n      <td>MDAMB157_BREAST</td>\n      <td>ACH-000621</td>\n    </tr>\n    <tr>\n      <th>10</th>\n      <td>MDAMB453_BREAST</td>\n      <td>ACH-000910</td>\n    </tr>\n    <tr>\n      <th>11</th>\n      <td>HCC1954_BREAST</td>\n      <td>ACH-000859</td>\n    </tr>\n    <tr>\n      <th>12</th>\n      <td>HS578T_BREAST</td>\n      <td>ACH-000148</td>\n    </tr>\n    <tr>\n      <th>13</th>\n      <td>ZR751_BREAST</td>\n      <td>ACH-000097</td>\n    </tr>\n    <tr>\n      <th>14</th>\n      <td>AU565_BREAST</td>\n      <td>ACH-000248</td>\n    </tr>\n    <tr>\n      <th>15</th>\n      <td>MDAMB436_BREAST</td>\n      <td>ACH-000573</td>\n    </tr>\n    <tr>\n      <th>16</th>\n      <td>EFM19_BREAST</td>\n      <td>ACH-000330</td>\n    </tr>\n    <tr>\n      <th>17</th>\n      <td>HCC1143_BREAST</td>\n      <td>ACH-000374</td>\n    </tr>\n    <tr>\n      <th>18</th>\n      <td>HCC1395_BREAST</td>\n      <td>ACH-000699</td>\n    </tr>\n    <tr>\n      <th>19</th>\n      <td>TUHR10TKB_KIDNEY</td>\n      <td>ACH-000459</td>\n    </tr>\n    <tr>\n      <th>20</th>\n      <td>KMRC1_KIDNEY</td>\n      <td>ACH-000684</td>\n    </tr>\n    <tr>\n      <th>22</th>\n      <td>OSRC2_KIDNEY</td>\n      <td>ACH-000159</td>\n    </tr>\n    <tr>\n      <th>23</th>\n      <td>SNU349_KIDNEY</td>\n      <td>ACH-000907</td>\n    </tr>\n    <tr>\n      <th>24</th>\n      <td>SLR20_KIDNEY</td>\n      <td>ACH-000127</td>\n    </tr>\n    <tr>\n      <th>25</th>\n      <td>BFTC909_KIDNEY</td>\n      <td>ACH-000792</td>\n    </tr>\n    <tr>\n      <th>26</th>\n      <td>TUHR4TKB_KIDNEY</td>\n      <td>ACH-000495</td>\n    </tr>\n    <tr>\n      <th>27</th>\n      <td>CAKI2_KIDNEY</td>\n      <td>ACH-000234</td>\n    </tr>\n    <tr>\n      <th>29</th>\n      <td>UOK101_KIDNEY</td>\n      <td>ACH-000262</td>\n    </tr>\n    <tr>\n      <th>30</th>\n      <td>PANC1005_PANCREAS</td>\n      <td>ACH-000060</td>\n    </tr>\n    <tr>\n      <th>31</th>\n      <td>HS766T_PANCREAS</td>\n      <td>ACH-000178</td>\n    </tr>\n    <tr>\n      <th>32</th>\n      <td>ASPC1_PANCREAS</td>\n      <td>ACH-000222</td>\n    </tr>\n    <tr>\n      <th>33</th>\n      <td>KP2_PANCREAS</td>\n      <td>ACH-000281</td>\n    </tr>\n    <tr>\n      <th>34</th>\n      <td>KP4_PANCREAS</td>\n      <td>ACH-000265</td>\n    </tr>\n    <tr>\n      <th>35</th>\n      <td>MIAPACA2_PANCREAS</td>\n      <td>ACH-000601</td>\n    </tr>\n    <tr>\n      <th>36</th>\n      <td>CFPAC1_PANCREAS</td>\n      <td>ACH-000138</td>\n    </tr>\n    <tr>\n      <th>37</th>\n      <td>PSN1_PANCREAS</td>\n      <td>ACH-000320</td>\n    </tr>\n    <tr>\n      <th>38</th>\n      <td>HUPT3_PANCREAS</td>\n      <td>ACH-000118</td>\n    </tr>\n  </tbody>\n</table>\n</div>"
     },
     "execution_count": 9,
     "metadata": {},
     "output_type": "execute_result"
    }
   ],
   "source": [
    "# Get list of cell lines that present are in:\n",
    "# 1) Our starting pool of cell lines of interest\n",
    "# 2) Also present in the dependency, mutation and expression data\n",
    "\n",
    "cell_lines_of_interest = set(original_cell_lines['ModelID'])\n",
    "dep_cell_lines = set(dep_data['ModelID'])\n",
    "exp_cell_lines = set(exp_data['Unnamed: 0'])\n",
    "mut_cell_lines = set(mut_data['ModelID'])\n",
    "\n",
    "# Find the intersection of the 4 sets\n",
    "valid_cell_lines = cell_lines_of_interest & dep_cell_lines & exp_cell_lines & mut_cell_lines\n",
    "\n",
    "# Use this to select a subset of the original cell lines df\n",
    "valid_cell_lines = original_cell_lines[original_cell_lines['ModelID'].isin(valid_cell_lines)]\n",
    "\n",
    "valid_cell_lines"
   ],
   "metadata": {
    "collapsed": false,
    "ExecuteTime": {
     "end_time": "2023-12-30T17:02:13.832416400Z",
     "start_time": "2023-12-30T17:02:13.643872400Z"
    }
   },
   "id": "f547f2a7d3306c66"
  },
  {
   "cell_type": "code",
   "execution_count": 10,
   "outputs": [
    {
     "name": "stdout",
     "output_type": "stream",
     "text": [
      "9723\n"
     ]
    },
    {
     "data": {
      "text/plain": "{'TIMP1',\n 'CHST2',\n 'FBXO27',\n 'DOCK3',\n 'LUZP4',\n 'AGL',\n 'UBE2S',\n 'ZNF554',\n 'MTHFD2',\n 'RAB38',\n 'HOMER1',\n 'CPB2',\n 'MMACHC',\n 'SEC13',\n 'LCN1',\n 'HERC5',\n 'OR52N1',\n 'KCNN4',\n 'NCK1',\n 'LPAR4',\n 'OR5M3',\n 'PLA2G2A',\n 'JADE2',\n 'PAXIP1',\n 'CRADD',\n 'HAND2',\n 'OR10V1',\n 'HSP90AB1',\n 'GABRA4',\n 'TOP1',\n 'WNT2',\n 'PSMD3',\n 'SLC5A10',\n 'CHST6',\n 'DCLRE1B',\n 'ADORA2A',\n 'SBF2',\n 'KLK12',\n 'HSPG2',\n 'SV2B',\n 'UAP1',\n 'SCARF1',\n 'SCARA5',\n 'MFAP1',\n 'AREL1',\n 'FGF7',\n 'PRMT6',\n 'GLB1',\n 'LCE3E',\n 'AK5',\n 'RBP2',\n 'FGFBP1',\n 'TRPV2',\n 'STK4',\n 'XRCC3',\n 'SLC25A26',\n 'RAB40A',\n 'HHIP',\n 'ALPI',\n 'GNAS',\n 'PCBP4',\n 'TTR',\n 'ABCC6',\n 'CYP2A7',\n 'SIRPA',\n 'SLC34A1',\n 'KISS1',\n 'MIP',\n 'FGFBP2',\n 'SLC13A4',\n 'RND1',\n 'OR7A10',\n 'CLTC',\n 'SCUBE2',\n 'USP47',\n 'SLC4A8',\n 'ABCD4',\n 'ARPC2',\n 'MPL',\n 'GLP2R',\n 'ZNF569',\n 'ENGASE',\n 'POLR2I',\n 'MFAP3',\n 'FRS3',\n 'CLUAP1',\n 'TRIM21',\n 'DNAJC11',\n 'LCT',\n 'GUCY1A1',\n 'MYL10',\n 'ANO9',\n 'ELF2',\n 'GRIA4',\n 'LEF1',\n 'CADM1',\n 'PHYKPL',\n 'FCHO1',\n 'OR13J1',\n 'TRAPPC1',\n 'IFITM2',\n 'CATSPER2',\n 'MASP1',\n 'NEUROG3',\n 'GTF2H1',\n 'ZNF135',\n 'OR4C15',\n 'HRC',\n 'MYL1',\n 'SERP1',\n 'VANGL2',\n 'ALG2',\n 'GCC2',\n 'CERS6',\n 'ERF',\n 'ZFPM2',\n 'INMT',\n 'IQGAP2',\n 'SLC2A8',\n 'SERPIND1',\n 'OR8D1',\n 'PIK3C2A',\n 'SAV1',\n 'TAS2R3',\n 'FOXL2',\n 'ATP6V1C1',\n 'ST6GALNAC3',\n 'TNFSF12',\n 'RAB36',\n 'CXCL3',\n 'PSME3',\n 'DHX37',\n 'MAT2B',\n 'BCL2L11',\n 'DNAJC3',\n 'ZNF18',\n 'SYCP3',\n 'MMP11',\n 'POLR2B',\n 'ST3GAL3',\n 'AK6',\n 'PTDSS1',\n 'CPOX',\n 'MPO',\n 'SLC13A1',\n 'ARHGEF12',\n 'OPN4',\n 'DEFB124',\n 'HSD17B6',\n 'B3GNT3',\n 'NARS2',\n 'PFKM',\n 'SAMHD1',\n 'GPC6',\n 'CACNG5',\n 'MRPS25',\n 'INTS3',\n 'OR52E4',\n 'REL',\n 'DRD3',\n 'SAR1B',\n 'FZD6',\n 'COL23A1',\n 'OR4C6',\n 'MRPS5',\n 'EYA3',\n 'ATP6V0A1',\n 'ARIH2',\n 'GNG4',\n 'RTF1',\n 'FLI1',\n 'KDM2B',\n 'UROS',\n 'XAB2',\n 'SFTPA1',\n 'MYO9B',\n 'FOXA2',\n 'ZBTB8OS',\n 'MYL2',\n 'DCUN1D1',\n 'MED14',\n 'VIM',\n 'MRPS18B',\n 'POLR3A',\n 'AGPS',\n 'PTTG1',\n 'GPR20',\n 'BLNK',\n 'PDXK',\n 'PLPP3',\n 'HSPA4',\n 'CDK13',\n 'PRKCA',\n 'PIK3CB',\n 'SULT1C2',\n 'AGPAT1',\n 'GTF3C5',\n 'OR51B5',\n 'NAPSA',\n 'ABRAXAS2',\n 'SLC30A1',\n 'TNIK',\n 'DENND2A',\n 'DDX41',\n 'WSB1',\n 'IGFBP7',\n 'ITGA4',\n 'CD4',\n 'AHCY',\n 'CDH24',\n 'CSNK1A1',\n 'RPL36A',\n 'BYSL',\n 'DGKI',\n 'GADD45A',\n 'IL4I1',\n 'ST8SIA2',\n 'ABCA6',\n 'IL18',\n 'PTPN12',\n 'MED9',\n 'TBC1D2',\n 'F12',\n 'CNOT9',\n 'LSM6',\n 'PRKAB1',\n 'PKP3',\n 'HOXC4',\n 'BDH1',\n 'ZNF562',\n 'MGST2',\n 'OR2M4',\n 'RDX',\n 'DFFB',\n 'XCR1',\n 'HS3ST4',\n 'POM121C',\n 'ABCC4',\n 'HGFAC',\n 'CALCRL',\n 'DEPDC1B',\n 'LRRC7',\n 'BMPR1B',\n 'INTS1',\n 'ABHD10',\n 'MCM10',\n 'ZNF658',\n 'AQP5',\n 'ALG1',\n 'CREB3L3',\n 'ST8SIA1',\n 'ARHGAP32',\n 'IL1RL2',\n 'SLC27A5',\n 'RXFP1',\n 'SNRPB2',\n 'AQP4',\n 'SHANK1',\n 'SEC61G',\n 'CDK1',\n 'OR51A7',\n 'ARHGEF25',\n 'CTU1',\n 'FAAP20',\n 'EIF4A3',\n 'CAPN7',\n 'IREB2',\n 'NPC1',\n 'AS3MT',\n 'IQCB1',\n 'MSH6',\n 'RAD17',\n 'MRPL23',\n 'AP4M1',\n 'KCNJ10',\n 'NR4A3',\n 'RPS4Y2',\n 'ADRB1',\n 'SAE1',\n 'CYP4F3',\n 'DEFB110',\n 'RPS19',\n 'KCNG3',\n 'RPS6KA3',\n 'GAS2',\n 'MTHFR',\n 'MAGT1',\n 'AP1G1',\n 'UGT1A4',\n 'PLCD1',\n 'RPA4',\n 'ZNRF1',\n 'ACBD7',\n 'USP16',\n 'IRAK2',\n 'EDN2',\n 'ATN1',\n 'KPNA2',\n 'ZFP30',\n 'KRT26',\n 'SLC6A3',\n 'ATP6V1H',\n 'OR2J3',\n 'WEE1',\n 'PKD1',\n 'GAB1',\n 'ZNF546',\n 'CREB3',\n 'CXCL1',\n 'P4HA2',\n 'ARG1',\n 'PPFIA4',\n 'RAB11FIP3',\n 'TTLL6',\n 'NCAPD2',\n 'AKT1',\n 'SUGP1',\n 'IFNL2',\n 'PDE2A',\n 'PLXNB1',\n 'NAGK',\n 'RAPGEF3',\n 'RUVBL2',\n 'DCT',\n 'HMGCLL1',\n 'TYROBP',\n 'FAU',\n 'SLC41A1',\n 'YWHAQ',\n 'ZNF726',\n 'AP3B1',\n 'ENTPD2',\n 'KDSR',\n 'CEP152',\n 'SGPL1',\n 'PADI1',\n 'SPRR1A',\n 'TLR3',\n 'NDUFS3',\n 'NFATC3',\n 'SNRNP200',\n 'VTA1',\n 'EIF5A2',\n 'SIRT6',\n 'AGK',\n 'TLE2',\n 'OR51G2',\n 'ZNF12',\n 'POLR1E',\n 'SPINK6',\n 'TREM1',\n 'NSF',\n 'PLAUR',\n 'RHPN2',\n 'LCMT2',\n 'GDPD5',\n 'SLC6A13',\n 'HTN3',\n 'ABL1',\n 'GABRQ',\n 'PEX11B',\n 'IFIT2',\n 'ZNF496',\n 'CHMP4B',\n 'ATAT1',\n 'CPSF4',\n 'VCAM1',\n 'HNRNPDL',\n 'ERO1B',\n 'CEP97',\n 'OR8H1',\n 'ARIH1',\n 'LAMTOR4',\n 'KIF23',\n 'TRPC3',\n 'GOSR1',\n 'DPM2',\n 'PIP4K2B',\n 'PIK3R5',\n 'OR13C2',\n 'BBS2',\n 'PXMP2',\n 'CLCN4',\n 'TCHH',\n 'MUCL1',\n 'LDHD',\n 'RAET1E',\n 'APOC3',\n 'RDH10',\n 'OPA1',\n 'SLC29A4',\n 'CDC37',\n 'MRPS18C',\n 'PREX1',\n 'PIANP',\n 'ZNF429',\n 'PDE4A',\n 'IDUA',\n 'TRIM9',\n 'SAP30BP',\n 'NEDD1',\n 'PAG1',\n 'UGT1A1',\n 'TNNI3',\n 'ZNF676',\n 'TPGS2',\n 'COL22A1',\n 'PDE7B',\n 'MPRIP',\n 'CDH18',\n 'RRN3',\n 'HOXB2',\n 'P2RX2',\n 'OR56A1',\n 'AQP9',\n 'MGAT1',\n 'GPR31',\n 'OR4C46',\n 'CTBP2',\n 'SLC15A2',\n 'EZH2',\n 'SEMA5A',\n 'TRIP10',\n 'OR10A4',\n 'HVCN1',\n 'PLXNC1',\n 'TTC30B',\n 'CARD8',\n 'DEFB135',\n 'LGMN',\n 'MED27',\n 'MRPL43',\n 'COLEC12',\n 'PIGM',\n 'ATP1B3',\n 'RPGRIP1L',\n 'NMB',\n 'SLC30A6',\n 'WARS2',\n 'FNTB',\n 'ART3',\n 'HNRNPL',\n 'TPO',\n 'NEIL3',\n 'LARS2',\n 'CCR4',\n 'GK',\n 'PSMC2',\n 'PAFAH1B3',\n 'OR6C76',\n 'MSH4',\n 'JMY',\n 'CREB3L4',\n 'SEMA4A',\n 'RPRD1A',\n 'GOLGA5',\n 'ESPL1',\n 'GPR17',\n 'NAMPT',\n 'EIF5A',\n 'YAP1',\n 'NELL2',\n 'NLGN4X',\n 'OR4F6',\n 'KCNK15',\n 'OR11L1',\n 'TRAPPC2L',\n 'OR11H4',\n 'SPRTN',\n 'TTC5',\n 'MTMR10',\n 'CXCL2',\n 'SLC1A7',\n 'HLA-C',\n 'PTPN11',\n 'STXBP1',\n 'TTYH1',\n 'COL6A6',\n 'SCG3',\n 'MGAT4A',\n 'MFAP5',\n 'AP2S1',\n 'OTUD7B',\n 'TRDN',\n 'NAPRT',\n 'TAS2R4',\n 'CD1A',\n 'KLHL21',\n 'MTMR9',\n 'CHCHD3',\n 'ZNF786',\n 'ASF1A',\n 'ATP6V1G1',\n 'ANKLE2',\n 'MINPP1',\n 'CLTRN',\n 'ARHGEF40',\n 'EFNA2',\n 'ELMO1',\n 'NRF1',\n 'PTPRA',\n 'TTPA',\n 'ERBB3',\n 'GNAQ',\n 'AMH',\n 'SNRNP48',\n 'ZNF749',\n 'ACSBG2',\n 'CATSPERG',\n 'CTNNBL1',\n 'E2F7',\n 'MYH9',\n 'KRT19',\n 'ARHGAP9',\n 'NSUN2',\n 'SLC25A18',\n 'MRPS14',\n 'LPIN2',\n 'DEFB126',\n 'ACADS',\n 'CNOT6',\n 'ECT2',\n 'NPR2',\n 'PRPF8',\n 'NEURL2',\n 'GTF3C2',\n 'NIP7',\n 'HMGCS1',\n 'GOLIM4',\n 'OPRM1',\n 'CYP51A1',\n 'LPL',\n 'IGFALS',\n 'CRHR2',\n 'ACD',\n 'AQP10',\n 'CERS2',\n 'USP43',\n 'FMOD',\n 'PSMD7',\n 'TBC1D17',\n 'TOR1A',\n 'CNGA1',\n 'VAMP2',\n 'WNT11',\n 'CTCF',\n 'MPDU1',\n 'ASAP1',\n 'RTKN',\n 'HOXA2',\n 'ICMT',\n 'TCP1',\n 'ISG20',\n 'ZNF597',\n 'WIPI2',\n 'COG8',\n 'ARHGAP29',\n 'CCR5',\n 'OR4D10',\n 'ALG8',\n 'NPHP1',\n 'NADK',\n 'AKAP1',\n 'TCEA1',\n 'EVC2',\n 'FLRT1',\n 'OPN5',\n 'VKORC1',\n 'ZNF660',\n 'EED',\n 'MAN1A2',\n 'PSMD4',\n 'OR2S2',\n 'CXCL10',\n 'RGS13',\n 'PTPN9',\n 'IL25',\n 'M6PR',\n 'TMEM126B',\n 'SSU72',\n 'HNRNPA2B1',\n 'FBXW10',\n 'OR8H2',\n 'GOT1',\n 'LIPJ',\n 'METTL1',\n 'RABEP1',\n 'KIF19',\n 'KRT38',\n 'RNF123',\n 'ZNF596',\n 'KCNA4',\n 'SNRNP35',\n 'SH3KBP1',\n 'HPS1',\n 'THOC2',\n 'BRCC3',\n 'PEX6',\n 'ARNT2',\n 'POT1',\n 'PHF2',\n 'RPTN',\n 'CDKAL1',\n 'FANCB',\n 'ANO10',\n 'CD81',\n 'NRXN1',\n 'ADA2',\n 'COX20',\n 'OSBPL1A',\n 'TSEN2',\n 'COG6',\n 'DNAJB11',\n 'RPL7',\n 'KIF9',\n 'GRIN2A',\n 'ATG4B',\n 'PDLIM5',\n 'B4GAT1',\n 'PITPNA',\n 'OR8K1',\n 'MPIG6B',\n 'NSL1',\n 'ZNF454',\n 'INTS7',\n 'FOLR1',\n 'MRPL40',\n 'SLAMF6',\n 'UBR2',\n 'IL3',\n 'F11R',\n 'KIF27',\n 'PAQR3',\n 'ATP5MC2',\n 'COX6C',\n 'CACNA1A',\n 'PSMD13',\n 'COL27A1',\n 'HRAS',\n 'UTS2R',\n 'GMPR2',\n 'EFCAB7',\n 'CFHR4',\n 'PTK6',\n 'MRTFA',\n 'ABCG2',\n 'ADAMTS18',\n 'ARHGAP22',\n 'SMG7',\n 'TTC8',\n 'MFSD2A',\n 'NSD2',\n 'PPP5C',\n 'EIF2S3',\n 'FADS1',\n 'ME3',\n 'GNAO1',\n 'MLEC',\n 'ARHGEF1',\n 'KRT80',\n 'DDX39B',\n 'PLA2G7',\n 'AP1G2',\n 'GSTM4',\n 'CPSF3',\n 'ARFRP1',\n 'FYN',\n 'RAB13',\n 'DIDO1',\n 'TADA2B',\n 'CYTH4',\n 'RDH14',\n 'CHD4',\n 'B3GNT9',\n 'GNMT',\n 'KLC4',\n 'LCE2C',\n 'NDUFB7',\n 'GATAD2A',\n 'TADA1',\n 'UGT1A9',\n 'MUSK',\n 'PEX5',\n 'ZNF416',\n 'ADGRF5',\n 'MRPL22',\n 'DECR2',\n 'CTH',\n 'TSTD1',\n 'ITK',\n 'RMI1',\n 'B4GALT3',\n 'RNF130',\n 'TNFSF4',\n 'IL17A',\n 'FGD1',\n 'SCARB1',\n 'CCL19',\n 'VRK3',\n 'MAML2',\n 'ADRA1A',\n 'STK3',\n 'LSM4',\n 'OTUD3',\n 'TMLHE',\n 'MRPL44',\n 'UBE2Q2',\n 'LOX',\n 'RORC',\n 'ABCA10',\n 'ARHGAP8',\n 'LGR4',\n 'PRMT7',\n 'DDX20',\n 'GALT',\n 'TIMM44',\n 'ADORA1',\n 'NOTCH3',\n 'PRKAB2',\n 'IL9R',\n 'ADAMTS19',\n 'ELK1',\n 'MRPS36',\n 'VPS52',\n 'TAF13',\n 'MRPL18',\n 'MPHOSPH10',\n 'ZNF417',\n 'NUDT11',\n 'TMOD1',\n 'ARF5',\n 'KCNJ3',\n 'SKIL',\n 'PYGM',\n 'OR5AK2',\n 'SLC22A16',\n 'OR5F1',\n 'DLC1',\n 'KLK2',\n 'RAB11FIP2',\n 'GPR27',\n 'GDNF',\n 'MICA',\n 'OR8J1',\n 'GINS3',\n 'DEFA5',\n 'ACOT4',\n 'GLG1',\n 'CAD',\n 'TAF4',\n 'P2RY12',\n 'B4GALT6',\n 'ZNF713',\n 'TRIT1',\n 'EDN1',\n 'UBIAD1',\n 'LAT',\n 'LCN2',\n 'PRPF3',\n 'BMI1',\n 'ABCB7',\n 'LIPH',\n 'RNF138',\n 'OR8A1',\n 'PRKAR1A',\n 'SLC6A2',\n 'MON1B',\n 'ZDHHC8',\n 'BST2',\n 'PANK1',\n 'PPIL2',\n 'MAPKAPK2',\n 'BCO2',\n 'SLC8A3',\n 'RPRD2',\n 'ARFGAP1',\n 'NID1',\n 'DLX6',\n 'PARD6G',\n 'SNAPIN',\n 'CDC42EP5',\n 'PDPK1',\n 'ECH1',\n 'CR2',\n 'ENTPD7',\n 'LEMD3',\n 'HSPB1',\n 'EPHX2',\n 'MPHOSPH6',\n 'ESRRB',\n 'APP',\n 'DGCR8',\n 'SIGLEC5',\n 'MYO5B',\n 'PSTK',\n 'OR9A4',\n 'AGBL1',\n 'TRAF3',\n 'CLIC2',\n 'IFT172',\n 'TPP2',\n 'KCNH5',\n 'TBC1D20',\n 'IL17F',\n 'THBD',\n 'B3GALT6',\n 'HS3ST3A1',\n 'AGBL5',\n 'PDP1',\n 'ATP5PD',\n 'LRP1',\n 'GHRHR',\n 'BTLA',\n 'PTGER1',\n 'F9',\n 'GGCX',\n 'FAHD1',\n 'PIGA',\n 'IER3',\n 'ZNF213',\n 'KLHDC3',\n 'CUL2',\n 'DAPK2',\n 'RPS9',\n 'ATP6V1G3',\n 'RPLP1',\n 'GFPT2',\n 'PPP2CA',\n 'TNFRSF10A',\n 'CITED2',\n 'CASP4',\n 'SUPT7L',\n 'CDC42EP2',\n 'NAA35',\n 'IMP4',\n 'DPYSL3',\n 'FASLG',\n 'MARS2',\n 'OR8U1',\n 'OR2C3',\n 'DTX4',\n 'UBE2O',\n 'REEP5',\n 'RPS6KA4',\n 'TRMT112',\n 'TJP2',\n 'RNF217',\n 'CDKN1B',\n 'NLGN1',\n 'GFER',\n 'PIGU',\n 'LRRK2',\n 'CERS4',\n 'FUT5',\n 'FLNB',\n 'HTR1E',\n 'EIF2S2',\n 'RSF1',\n 'TRRAP',\n 'E2F6',\n 'SOX17',\n 'DNAJB6',\n 'RGS3',\n 'DAAM1',\n 'SMARCB1',\n 'SLC22A18',\n 'PGAM2',\n 'RABGEF1',\n 'ZNF691',\n 'CALCR',\n 'PTP4A2',\n 'CD44',\n 'HNRNPA1',\n 'NCALD',\n 'ITPK1',\n 'DPH3',\n 'OR4D9',\n 'NECTIN3',\n 'NPFFR1',\n 'GLCE',\n 'OR2A5',\n 'CD163',\n 'RECK',\n 'GINS4',\n 'PHAX',\n 'IZUMO2',\n 'SULT1A1',\n 'SUPT16H',\n 'DARS2',\n 'KCNQ1',\n 'MDGA2',\n 'HNRNPUL1',\n 'B9D1',\n 'LDLRAP1',\n 'CEBPD',\n 'RLBP1',\n 'TTC26',\n 'AVPR1B',\n 'ZNF625',\n 'EP400',\n 'UBE2G2',\n 'KRT25',\n 'PIGS',\n 'ITSN1',\n 'SH2D2A',\n 'MIF',\n 'UTP25',\n 'USF2',\n 'GZMB',\n 'TCIRG1',\n 'GGCT',\n 'MYL3',\n 'MYL4',\n 'IFNA16',\n 'XK',\n 'IL1RAPL1',\n 'ARHGEF10L',\n 'NCAPG',\n 'TRAPPC6B',\n 'DBP',\n 'GM2A',\n 'DHX38',\n 'UBE3D',\n 'CHMP2A',\n 'SLC15A3',\n 'ITGA9',\n 'SSB',\n 'SYN1',\n 'ADAMTS2',\n 'NUP133',\n 'VNN1',\n 'NR1I2',\n 'PCNT',\n 'IFNA14',\n 'POLR2L',\n 'CRHR1',\n 'TRAF2',\n 'MTX2',\n 'CDC42',\n 'FGF10',\n 'PACS1',\n 'ABCC5',\n 'ZNF25',\n 'AGMAT',\n 'ESYT3',\n 'PPM1L',\n 'ADH6',\n 'FUT10',\n 'PIGV',\n 'NTN1',\n 'KRT4',\n 'ZNF334',\n 'KLHL25',\n 'WNK1',\n 'SECISBP2',\n 'TNFRSF25',\n 'AASS',\n 'CD79B',\n 'PROKR1',\n 'GABPB1',\n 'CYB5R4',\n 'KCNC4',\n 'ALDH3A1',\n 'ANPEP',\n 'TCN1',\n 'ARHGAP17',\n 'PSMB6',\n 'SNAPC4',\n 'MPC2',\n 'GTF2F2',\n 'DPH2',\n 'DDX4',\n 'MGLL',\n 'HES1',\n 'GNG2',\n 'LILRB4',\n 'MMP19',\n 'AMPD1',\n 'LRRC4B',\n 'RANGRF',\n 'TAF1',\n 'ST14',\n 'NGF',\n 'RAB39B',\n 'OR10Z1',\n 'VPREB3',\n 'ASB9',\n 'MAD2L2',\n 'DNAL4',\n 'OPN3',\n 'ZNF205',\n 'SNRNP25',\n 'SLC9C1',\n 'CNGA4',\n 'OR51A2',\n 'KCNK17',\n 'FITM1',\n 'RDH16',\n 'AKAP13',\n 'CNOT4',\n ...}"
     },
     "execution_count": 10,
     "metadata": {},
     "output_type": "execute_result"
    }
   ],
   "source": [
    "# Get list of genes that present are in:\n",
    "# 1) The selected PPI data\n",
    "# 2) Also present in the dependency and expression data \n",
    "# (should genes also be present in mutation data? No - if they are not in the muts file, it just means no mutations were found in those genes)\n",
    "\n",
    "ppi_genes = set(list(ppi_data['PARTICIPANT_A']) + list(ppi_data['PARTICIPANT_B']))\n",
    "\n",
    "dep_genes = dep_data.columns.map(lambda x: x.split(' ')[0])\n",
    "dep_genes = set(dep_genes[1:]) # remove item corresponding to the first column\n",
    "\n",
    "exp_genes = exp_data.columns.map(lambda x: x.split(' ')[0])\n",
    "exp_genes = set(exp_genes[1:]) # remove item corresponding to the first column\n",
    "\n",
    "# mut_genes = set(mut_data['HugoSymbol'].unique())\n",
    "\n",
    "valid_genes = ppi_genes & dep_genes & exp_genes\n",
    "\n",
    "print(len(valid_genes))\n",
    "valid_genes"
   ],
   "metadata": {
    "collapsed": false,
    "ExecuteTime": {
     "end_time": "2023-12-30T17:02:13.935030300Z",
     "start_time": "2023-12-30T17:02:13.747935Z"
    }
   },
   "id": "c024a6677c42f25f"
  },
  {
   "cell_type": "code",
   "execution_count": 44,
   "outputs": [
    {
     "data": {
      "text/plain": "12323"
     },
     "execution_count": 44,
     "metadata": {},
     "output_type": "execute_result"
    }
   ],
   "source": [
    "len(ppi_genes)"
   ],
   "metadata": {
    "collapsed": false,
    "ExecuteTime": {
     "end_time": "2023-12-30T18:31:24.999790600Z",
     "start_time": "2023-12-30T18:31:24.985106500Z"
    }
   },
   "id": "bbc672502bf944d2"
  },
  {
   "cell_type": "code",
   "execution_count": 11,
   "outputs": [
    {
     "name": "stdout",
     "output_type": "stream",
     "text": [
      "Length of valid_genes: 9723\n",
      "Length of valid_cell_lines: 37\n",
      "Shape of the one matrix: (9723, 37)\n",
      "Type of valid_genes: <class 'list'>\n",
      "Type of valid_cell_lines: <class 'list'>\n"
     ]
    }
   ],
   "source": [
    "# These need to be lists to be used for col headers and row indexes\n",
    "valid_genes_list = list(valid_genes)\n",
    "valid_cell_lines_list = list(valid_cell_lines['ModelID'])\n",
    "\n",
    "# Build a one matrix with the dimensions of the lists above \n",
    "one_matrix = np.ones((len(valid_genes_list), len(valid_cell_lines_list)))\n",
    "\n",
    "# Troubleshooting\n",
    "print(\"Length of valid_genes:\", len(valid_genes_list))\n",
    "print(\"Length of valid_cell_lines:\", len(valid_cell_lines_list))\n",
    "print(\"Shape of the one matrix:\", one_matrix.shape)\n",
    "print(\"Type of valid_genes:\", type(valid_genes_list))\n",
    "print(\"Type of valid_cell_lines:\", type(valid_cell_lines_list))"
   ],
   "metadata": {
    "collapsed": false,
    "ExecuteTime": {
     "end_time": "2023-12-30T17:02:17.580979500Z",
     "start_time": "2023-12-30T17:02:17.552505Z"
    }
   },
   "id": "87bfd6c6d5a9ffef"
  },
  {
   "cell_type": "code",
   "execution_count": 12,
   "outputs": [],
   "source": [
    "base_weights = pd.DataFrame(one_matrix, index=valid_genes_list, columns=valid_cell_lines_list)"
   ],
   "metadata": {
    "collapsed": false,
    "ExecuteTime": {
     "end_time": "2023-12-30T17:02:21.532875400Z",
     "start_time": "2023-12-30T17:02:21.500871900Z"
    }
   },
   "id": "e3834199c935893d"
  },
  {
   "cell_type": "code",
   "execution_count": 13,
   "outputs": [
    {
     "data": {
      "text/plain": "         ACH-000352  ACH-000624  ACH-000223  ACH-000768  ACH-000725  \\\nTIMP1           1.0         1.0         1.0         1.0         1.0   \nCHST2           1.0         1.0         1.0         1.0         1.0   \nFBXO27          1.0         1.0         1.0         1.0         1.0   \nDOCK3           1.0         1.0         1.0         1.0         1.0   \nLUZP4           1.0         1.0         1.0         1.0         1.0   \n...             ...         ...         ...         ...         ...   \nTRIM24          1.0         1.0         1.0         1.0         1.0   \nPOFUT2          1.0         1.0         1.0         1.0         1.0   \nKRT33B          1.0         1.0         1.0         1.0         1.0   \nATM             1.0         1.0         1.0         1.0         1.0   \nSLC37A1         1.0         1.0         1.0         1.0         1.0   \n\n         ACH-000856  ACH-000849  ACH-000028  ACH-000876  ACH-000621  ...  \\\nTIMP1           1.0         1.0         1.0         1.0         1.0  ...   \nCHST2           1.0         1.0         1.0         1.0         1.0  ...   \nFBXO27          1.0         1.0         1.0         1.0         1.0  ...   \nDOCK3           1.0         1.0         1.0         1.0         1.0  ...   \nLUZP4           1.0         1.0         1.0         1.0         1.0  ...   \n...             ...         ...         ...         ...         ...  ...   \nTRIM24          1.0         1.0         1.0         1.0         1.0  ...   \nPOFUT2          1.0         1.0         1.0         1.0         1.0  ...   \nKRT33B          1.0         1.0         1.0         1.0         1.0  ...   \nATM             1.0         1.0         1.0         1.0         1.0  ...   \nSLC37A1         1.0         1.0         1.0         1.0         1.0  ...   \n\n         ACH-000262  ACH-000060  ACH-000178  ACH-000222  ACH-000281  \\\nTIMP1           1.0         1.0         1.0         1.0         1.0   \nCHST2           1.0         1.0         1.0         1.0         1.0   \nFBXO27          1.0         1.0         1.0         1.0         1.0   \nDOCK3           1.0         1.0         1.0         1.0         1.0   \nLUZP4           1.0         1.0         1.0         1.0         1.0   \n...             ...         ...         ...         ...         ...   \nTRIM24          1.0         1.0         1.0         1.0         1.0   \nPOFUT2          1.0         1.0         1.0         1.0         1.0   \nKRT33B          1.0         1.0         1.0         1.0         1.0   \nATM             1.0         1.0         1.0         1.0         1.0   \nSLC37A1         1.0         1.0         1.0         1.0         1.0   \n\n         ACH-000265  ACH-000601  ACH-000138  ACH-000320  ACH-000118  \nTIMP1           1.0         1.0         1.0         1.0         1.0  \nCHST2           1.0         1.0         1.0         1.0         1.0  \nFBXO27          1.0         1.0         1.0         1.0         1.0  \nDOCK3           1.0         1.0         1.0         1.0         1.0  \nLUZP4           1.0         1.0         1.0         1.0         1.0  \n...             ...         ...         ...         ...         ...  \nTRIM24          1.0         1.0         1.0         1.0         1.0  \nPOFUT2          1.0         1.0         1.0         1.0         1.0  \nKRT33B          1.0         1.0         1.0         1.0         1.0  \nATM             1.0         1.0         1.0         1.0         1.0  \nSLC37A1         1.0         1.0         1.0         1.0         1.0  \n\n[9723 rows x 37 columns]",
      "text/html": "<div>\n<style scoped>\n    .dataframe tbody tr th:only-of-type {\n        vertical-align: middle;\n    }\n\n    .dataframe tbody tr th {\n        vertical-align: top;\n    }\n\n    .dataframe thead th {\n        text-align: right;\n    }\n</style>\n<table border=\"1\" class=\"dataframe\">\n  <thead>\n    <tr style=\"text-align: right;\">\n      <th></th>\n      <th>ACH-000352</th>\n      <th>ACH-000624</th>\n      <th>ACH-000223</th>\n      <th>ACH-000768</th>\n      <th>ACH-000725</th>\n      <th>ACH-000856</th>\n      <th>ACH-000849</th>\n      <th>ACH-000028</th>\n      <th>ACH-000876</th>\n      <th>ACH-000621</th>\n      <th>...</th>\n      <th>ACH-000262</th>\n      <th>ACH-000060</th>\n      <th>ACH-000178</th>\n      <th>ACH-000222</th>\n      <th>ACH-000281</th>\n      <th>ACH-000265</th>\n      <th>ACH-000601</th>\n      <th>ACH-000138</th>\n      <th>ACH-000320</th>\n      <th>ACH-000118</th>\n    </tr>\n  </thead>\n  <tbody>\n    <tr>\n      <th>TIMP1</th>\n      <td>1.0</td>\n      <td>1.0</td>\n      <td>1.0</td>\n      <td>1.0</td>\n      <td>1.0</td>\n      <td>1.0</td>\n      <td>1.0</td>\n      <td>1.0</td>\n      <td>1.0</td>\n      <td>1.0</td>\n      <td>...</td>\n      <td>1.0</td>\n      <td>1.0</td>\n      <td>1.0</td>\n      <td>1.0</td>\n      <td>1.0</td>\n      <td>1.0</td>\n      <td>1.0</td>\n      <td>1.0</td>\n      <td>1.0</td>\n      <td>1.0</td>\n    </tr>\n    <tr>\n      <th>CHST2</th>\n      <td>1.0</td>\n      <td>1.0</td>\n      <td>1.0</td>\n      <td>1.0</td>\n      <td>1.0</td>\n      <td>1.0</td>\n      <td>1.0</td>\n      <td>1.0</td>\n      <td>1.0</td>\n      <td>1.0</td>\n      <td>...</td>\n      <td>1.0</td>\n      <td>1.0</td>\n      <td>1.0</td>\n      <td>1.0</td>\n      <td>1.0</td>\n      <td>1.0</td>\n      <td>1.0</td>\n      <td>1.0</td>\n      <td>1.0</td>\n      <td>1.0</td>\n    </tr>\n    <tr>\n      <th>FBXO27</th>\n      <td>1.0</td>\n      <td>1.0</td>\n      <td>1.0</td>\n      <td>1.0</td>\n      <td>1.0</td>\n      <td>1.0</td>\n      <td>1.0</td>\n      <td>1.0</td>\n      <td>1.0</td>\n      <td>1.0</td>\n      <td>...</td>\n      <td>1.0</td>\n      <td>1.0</td>\n      <td>1.0</td>\n      <td>1.0</td>\n      <td>1.0</td>\n      <td>1.0</td>\n      <td>1.0</td>\n      <td>1.0</td>\n      <td>1.0</td>\n      <td>1.0</td>\n    </tr>\n    <tr>\n      <th>DOCK3</th>\n      <td>1.0</td>\n      <td>1.0</td>\n      <td>1.0</td>\n      <td>1.0</td>\n      <td>1.0</td>\n      <td>1.0</td>\n      <td>1.0</td>\n      <td>1.0</td>\n      <td>1.0</td>\n      <td>1.0</td>\n      <td>...</td>\n      <td>1.0</td>\n      <td>1.0</td>\n      <td>1.0</td>\n      <td>1.0</td>\n      <td>1.0</td>\n      <td>1.0</td>\n      <td>1.0</td>\n      <td>1.0</td>\n      <td>1.0</td>\n      <td>1.0</td>\n    </tr>\n    <tr>\n      <th>LUZP4</th>\n      <td>1.0</td>\n      <td>1.0</td>\n      <td>1.0</td>\n      <td>1.0</td>\n      <td>1.0</td>\n      <td>1.0</td>\n      <td>1.0</td>\n      <td>1.0</td>\n      <td>1.0</td>\n      <td>1.0</td>\n      <td>...</td>\n      <td>1.0</td>\n      <td>1.0</td>\n      <td>1.0</td>\n      <td>1.0</td>\n      <td>1.0</td>\n      <td>1.0</td>\n      <td>1.0</td>\n      <td>1.0</td>\n      <td>1.0</td>\n      <td>1.0</td>\n    </tr>\n    <tr>\n      <th>...</th>\n      <td>...</td>\n      <td>...</td>\n      <td>...</td>\n      <td>...</td>\n      <td>...</td>\n      <td>...</td>\n      <td>...</td>\n      <td>...</td>\n      <td>...</td>\n      <td>...</td>\n      <td>...</td>\n      <td>...</td>\n      <td>...</td>\n      <td>...</td>\n      <td>...</td>\n      <td>...</td>\n      <td>...</td>\n      <td>...</td>\n      <td>...</td>\n      <td>...</td>\n      <td>...</td>\n    </tr>\n    <tr>\n      <th>TRIM24</th>\n      <td>1.0</td>\n      <td>1.0</td>\n      <td>1.0</td>\n      <td>1.0</td>\n      <td>1.0</td>\n      <td>1.0</td>\n      <td>1.0</td>\n      <td>1.0</td>\n      <td>1.0</td>\n      <td>1.0</td>\n      <td>...</td>\n      <td>1.0</td>\n      <td>1.0</td>\n      <td>1.0</td>\n      <td>1.0</td>\n      <td>1.0</td>\n      <td>1.0</td>\n      <td>1.0</td>\n      <td>1.0</td>\n      <td>1.0</td>\n      <td>1.0</td>\n    </tr>\n    <tr>\n      <th>POFUT2</th>\n      <td>1.0</td>\n      <td>1.0</td>\n      <td>1.0</td>\n      <td>1.0</td>\n      <td>1.0</td>\n      <td>1.0</td>\n      <td>1.0</td>\n      <td>1.0</td>\n      <td>1.0</td>\n      <td>1.0</td>\n      <td>...</td>\n      <td>1.0</td>\n      <td>1.0</td>\n      <td>1.0</td>\n      <td>1.0</td>\n      <td>1.0</td>\n      <td>1.0</td>\n      <td>1.0</td>\n      <td>1.0</td>\n      <td>1.0</td>\n      <td>1.0</td>\n    </tr>\n    <tr>\n      <th>KRT33B</th>\n      <td>1.0</td>\n      <td>1.0</td>\n      <td>1.0</td>\n      <td>1.0</td>\n      <td>1.0</td>\n      <td>1.0</td>\n      <td>1.0</td>\n      <td>1.0</td>\n      <td>1.0</td>\n      <td>1.0</td>\n      <td>...</td>\n      <td>1.0</td>\n      <td>1.0</td>\n      <td>1.0</td>\n      <td>1.0</td>\n      <td>1.0</td>\n      <td>1.0</td>\n      <td>1.0</td>\n      <td>1.0</td>\n      <td>1.0</td>\n      <td>1.0</td>\n    </tr>\n    <tr>\n      <th>ATM</th>\n      <td>1.0</td>\n      <td>1.0</td>\n      <td>1.0</td>\n      <td>1.0</td>\n      <td>1.0</td>\n      <td>1.0</td>\n      <td>1.0</td>\n      <td>1.0</td>\n      <td>1.0</td>\n      <td>1.0</td>\n      <td>...</td>\n      <td>1.0</td>\n      <td>1.0</td>\n      <td>1.0</td>\n      <td>1.0</td>\n      <td>1.0</td>\n      <td>1.0</td>\n      <td>1.0</td>\n      <td>1.0</td>\n      <td>1.0</td>\n      <td>1.0</td>\n    </tr>\n    <tr>\n      <th>SLC37A1</th>\n      <td>1.0</td>\n      <td>1.0</td>\n      <td>1.0</td>\n      <td>1.0</td>\n      <td>1.0</td>\n      <td>1.0</td>\n      <td>1.0</td>\n      <td>1.0</td>\n      <td>1.0</td>\n      <td>1.0</td>\n      <td>...</td>\n      <td>1.0</td>\n      <td>1.0</td>\n      <td>1.0</td>\n      <td>1.0</td>\n      <td>1.0</td>\n      <td>1.0</td>\n      <td>1.0</td>\n      <td>1.0</td>\n      <td>1.0</td>\n      <td>1.0</td>\n    </tr>\n  </tbody>\n</table>\n<p>9723 rows × 37 columns</p>\n</div>"
     },
     "execution_count": 13,
     "metadata": {},
     "output_type": "execute_result"
    }
   ],
   "source": [
    "base_weights"
   ],
   "metadata": {
    "collapsed": false,
    "ExecuteTime": {
     "end_time": "2023-12-30T17:02:24.610807700Z",
     "start_time": "2023-12-30T17:02:24.574566700Z"
    }
   },
   "id": "bf290a0626e5cb38"
  },
  {
   "cell_type": "code",
   "execution_count": 43,
   "outputs": [],
   "source": [
    "base_weights.to_csv(data_path + 'dependant\\\\processed_weights\\\\reactome_base_weights_original_lines.csv')"
   ],
   "metadata": {
    "collapsed": false,
    "ExecuteTime": {
     "end_time": "2023-12-30T18:26:58.246335400Z",
     "start_time": "2023-12-30T18:26:58.101281400Z"
    }
   },
   "id": "c5e4d7b2c2eebfb4"
  },
  {
   "cell_type": "code",
   "execution_count": 15,
   "outputs": [
    {
     "name": "stderr",
     "output_type": "stream",
     "text": [
      "C:\\Users\\dan\\AppData\\Local\\Temp\\ipykernel_16772\\2966003349.py:3: UserWarning: Boolean Series key will be reindexed to match DataFrame index.\n",
      "  mutation_df = mutation_df[mut_data['HugoSymbol'].isin(valid_genes_list)]\n"
     ]
    },
    {
     "data": {
      "text/plain": "         Chrom        Pos Ref Alt     AF  RefCount  AltCount   GT  PS  \\\n29669     chr1     951180   G   A  0.390        26        15  0/1 NaN   \n29671     chr1    1046671   C   T  0.250        30         8  0/1 NaN   \n29673     chr1    2412394   C   T  0.391        14         8  0/1 NaN   \n29674     chr1    2512914   G   T  0.488        21        19  0/1 NaN   \n29675     chr1    2561696   C   T  0.320        24        12  0/1 NaN   \n...        ...        ...  ..  ..    ...       ...       ...  ...  ..   \n1296624  chr22   42126611   C   G  0.984         0        72  1|1 NaN   \n1296625  chr22   42129130   C   G  0.968         1        71  1|1 NaN   \n1296627   chrX   41136962   A   T  0.963         1        57  1|1 NaN   \n1296628   chrX   51896717   G   A  0.962         1        54  1|1 NaN   \n1296633   chrX  153954753   T   C  0.857         0         6  0/1 NaN   \n\n        VariantType  ... RevelScore Funseq2Score   PharmgkbID DidaID DidaName  \\\n29669           SNP  ...        NaN          0.0          NaN    NaN      NaN   \n29671           SNP  ...        NaN          0.0          NaN    NaN      NaN   \n29673           SNP  ...      0.416          3.0          NaN    NaN      NaN   \n29674           SNP  ...      0.436          1.0          NaN    NaN      NaN   \n29675           SNP  ...      0.071          2.0          NaN    NaN      NaN   \n...             ...  ...        ...          ...          ...    ...      ...   \n1296624         SNP  ...        NaN          NaN  PA166156076    NaN      NaN   \n1296625         SNP  ...        NaN          NaN  PA166156061    NaN      NaN   \n1296627         SNP  ...        NaN          0.0          NaN    NaN      NaN   \n1296628         SNP  ...        NaN          0.0          NaN    NaN      NaN   \n1296633         SNP  ...      0.006          2.0          NaN    NaN      NaN   \n\n        GwasDisease GwasPmID  GTexGene     ModelID EntrezGeneID  \n29669           NaN      NaN       NaN  ACH-000856      26155.0  \n29671           NaN      NaN       NaN  ACH-000856     375790.0  \n29673           NaN      NaN       NaN  ACH-000856       5192.0  \n29674           NaN      NaN       NaN  ACH-000856      55229.0  \n29675           NaN      NaN       NaN  ACH-000856       8764.0  \n...             ...      ...       ...         ...          ...  \n1296624         NaN      NaN       NaN  ACH-000234       1565.0  \n1296625         NaN      NaN       NaN  ACH-000234       1565.0  \n1296627         NaN      NaN       NaN  ACH-000234       8239.0  \n1296628         NaN      NaN       NaN  ACH-000234       9500.0  \n1296633         NaN      NaN       NaN  ACH-000234       3054.0  \n\n[10885 rows x 56 columns]",
      "text/html": "<div>\n<style scoped>\n    .dataframe tbody tr th:only-of-type {\n        vertical-align: middle;\n    }\n\n    .dataframe tbody tr th {\n        vertical-align: top;\n    }\n\n    .dataframe thead th {\n        text-align: right;\n    }\n</style>\n<table border=\"1\" class=\"dataframe\">\n  <thead>\n    <tr style=\"text-align: right;\">\n      <th></th>\n      <th>Chrom</th>\n      <th>Pos</th>\n      <th>Ref</th>\n      <th>Alt</th>\n      <th>AF</th>\n      <th>RefCount</th>\n      <th>AltCount</th>\n      <th>GT</th>\n      <th>PS</th>\n      <th>VariantType</th>\n      <th>...</th>\n      <th>RevelScore</th>\n      <th>Funseq2Score</th>\n      <th>PharmgkbID</th>\n      <th>DidaID</th>\n      <th>DidaName</th>\n      <th>GwasDisease</th>\n      <th>GwasPmID</th>\n      <th>GTexGene</th>\n      <th>ModelID</th>\n      <th>EntrezGeneID</th>\n    </tr>\n  </thead>\n  <tbody>\n    <tr>\n      <th>29669</th>\n      <td>chr1</td>\n      <td>951180</td>\n      <td>G</td>\n      <td>A</td>\n      <td>0.390</td>\n      <td>26</td>\n      <td>15</td>\n      <td>0/1</td>\n      <td>NaN</td>\n      <td>SNP</td>\n      <td>...</td>\n      <td>NaN</td>\n      <td>0.0</td>\n      <td>NaN</td>\n      <td>NaN</td>\n      <td>NaN</td>\n      <td>NaN</td>\n      <td>NaN</td>\n      <td>NaN</td>\n      <td>ACH-000856</td>\n      <td>26155.0</td>\n    </tr>\n    <tr>\n      <th>29671</th>\n      <td>chr1</td>\n      <td>1046671</td>\n      <td>C</td>\n      <td>T</td>\n      <td>0.250</td>\n      <td>30</td>\n      <td>8</td>\n      <td>0/1</td>\n      <td>NaN</td>\n      <td>SNP</td>\n      <td>...</td>\n      <td>NaN</td>\n      <td>0.0</td>\n      <td>NaN</td>\n      <td>NaN</td>\n      <td>NaN</td>\n      <td>NaN</td>\n      <td>NaN</td>\n      <td>NaN</td>\n      <td>ACH-000856</td>\n      <td>375790.0</td>\n    </tr>\n    <tr>\n      <th>29673</th>\n      <td>chr1</td>\n      <td>2412394</td>\n      <td>C</td>\n      <td>T</td>\n      <td>0.391</td>\n      <td>14</td>\n      <td>8</td>\n      <td>0/1</td>\n      <td>NaN</td>\n      <td>SNP</td>\n      <td>...</td>\n      <td>0.416</td>\n      <td>3.0</td>\n      <td>NaN</td>\n      <td>NaN</td>\n      <td>NaN</td>\n      <td>NaN</td>\n      <td>NaN</td>\n      <td>NaN</td>\n      <td>ACH-000856</td>\n      <td>5192.0</td>\n    </tr>\n    <tr>\n      <th>29674</th>\n      <td>chr1</td>\n      <td>2512914</td>\n      <td>G</td>\n      <td>T</td>\n      <td>0.488</td>\n      <td>21</td>\n      <td>19</td>\n      <td>0/1</td>\n      <td>NaN</td>\n      <td>SNP</td>\n      <td>...</td>\n      <td>0.436</td>\n      <td>1.0</td>\n      <td>NaN</td>\n      <td>NaN</td>\n      <td>NaN</td>\n      <td>NaN</td>\n      <td>NaN</td>\n      <td>NaN</td>\n      <td>ACH-000856</td>\n      <td>55229.0</td>\n    </tr>\n    <tr>\n      <th>29675</th>\n      <td>chr1</td>\n      <td>2561696</td>\n      <td>C</td>\n      <td>T</td>\n      <td>0.320</td>\n      <td>24</td>\n      <td>12</td>\n      <td>0/1</td>\n      <td>NaN</td>\n      <td>SNP</td>\n      <td>...</td>\n      <td>0.071</td>\n      <td>2.0</td>\n      <td>NaN</td>\n      <td>NaN</td>\n      <td>NaN</td>\n      <td>NaN</td>\n      <td>NaN</td>\n      <td>NaN</td>\n      <td>ACH-000856</td>\n      <td>8764.0</td>\n    </tr>\n    <tr>\n      <th>...</th>\n      <td>...</td>\n      <td>...</td>\n      <td>...</td>\n      <td>...</td>\n      <td>...</td>\n      <td>...</td>\n      <td>...</td>\n      <td>...</td>\n      <td>...</td>\n      <td>...</td>\n      <td>...</td>\n      <td>...</td>\n      <td>...</td>\n      <td>...</td>\n      <td>...</td>\n      <td>...</td>\n      <td>...</td>\n      <td>...</td>\n      <td>...</td>\n      <td>...</td>\n      <td>...</td>\n    </tr>\n    <tr>\n      <th>1296624</th>\n      <td>chr22</td>\n      <td>42126611</td>\n      <td>C</td>\n      <td>G</td>\n      <td>0.984</td>\n      <td>0</td>\n      <td>72</td>\n      <td>1|1</td>\n      <td>NaN</td>\n      <td>SNP</td>\n      <td>...</td>\n      <td>NaN</td>\n      <td>NaN</td>\n      <td>PA166156076</td>\n      <td>NaN</td>\n      <td>NaN</td>\n      <td>NaN</td>\n      <td>NaN</td>\n      <td>NaN</td>\n      <td>ACH-000234</td>\n      <td>1565.0</td>\n    </tr>\n    <tr>\n      <th>1296625</th>\n      <td>chr22</td>\n      <td>42129130</td>\n      <td>C</td>\n      <td>G</td>\n      <td>0.968</td>\n      <td>1</td>\n      <td>71</td>\n      <td>1|1</td>\n      <td>NaN</td>\n      <td>SNP</td>\n      <td>...</td>\n      <td>NaN</td>\n      <td>NaN</td>\n      <td>PA166156061</td>\n      <td>NaN</td>\n      <td>NaN</td>\n      <td>NaN</td>\n      <td>NaN</td>\n      <td>NaN</td>\n      <td>ACH-000234</td>\n      <td>1565.0</td>\n    </tr>\n    <tr>\n      <th>1296627</th>\n      <td>chrX</td>\n      <td>41136962</td>\n      <td>A</td>\n      <td>T</td>\n      <td>0.963</td>\n      <td>1</td>\n      <td>57</td>\n      <td>1|1</td>\n      <td>NaN</td>\n      <td>SNP</td>\n      <td>...</td>\n      <td>NaN</td>\n      <td>0.0</td>\n      <td>NaN</td>\n      <td>NaN</td>\n      <td>NaN</td>\n      <td>NaN</td>\n      <td>NaN</td>\n      <td>NaN</td>\n      <td>ACH-000234</td>\n      <td>8239.0</td>\n    </tr>\n    <tr>\n      <th>1296628</th>\n      <td>chrX</td>\n      <td>51896717</td>\n      <td>G</td>\n      <td>A</td>\n      <td>0.962</td>\n      <td>1</td>\n      <td>54</td>\n      <td>1|1</td>\n      <td>NaN</td>\n      <td>SNP</td>\n      <td>...</td>\n      <td>NaN</td>\n      <td>0.0</td>\n      <td>NaN</td>\n      <td>NaN</td>\n      <td>NaN</td>\n      <td>NaN</td>\n      <td>NaN</td>\n      <td>NaN</td>\n      <td>ACH-000234</td>\n      <td>9500.0</td>\n    </tr>\n    <tr>\n      <th>1296633</th>\n      <td>chrX</td>\n      <td>153954753</td>\n      <td>T</td>\n      <td>C</td>\n      <td>0.857</td>\n      <td>0</td>\n      <td>6</td>\n      <td>0/1</td>\n      <td>NaN</td>\n      <td>SNP</td>\n      <td>...</td>\n      <td>0.006</td>\n      <td>2.0</td>\n      <td>NaN</td>\n      <td>NaN</td>\n      <td>NaN</td>\n      <td>NaN</td>\n      <td>NaN</td>\n      <td>NaN</td>\n      <td>ACH-000234</td>\n      <td>3054.0</td>\n    </tr>\n  </tbody>\n</table>\n<p>10885 rows × 56 columns</p>\n</div>"
     },
     "execution_count": 15,
     "metadata": {},
     "output_type": "execute_result"
    }
   ],
   "source": [
    "# Get subset of mutation data that applies to our valid genes and cell lines only\n",
    "mutation_df = mut_data[mut_data['ModelID'].isin(valid_cell_lines_list)]\n",
    "mutation_df = mutation_df[mut_data['HugoSymbol'].isin(valid_genes_list)]\n",
    "\n",
    "mutation_df"
   ],
   "metadata": {
    "collapsed": false,
    "ExecuteTime": {
     "end_time": "2023-12-30T17:02:35.460010800Z",
     "start_time": "2023-12-30T17:02:35.290943400Z"
    }
   },
   "id": "99d3e442ad3db784"
  },
  {
   "cell_type": "code",
   "execution_count": 16,
   "outputs": [
    {
     "name": "stdout",
     "output_type": "stream",
     "text": [
      "691\n"
     ]
    },
    {
     "data": {
      "text/plain": "      Chrom       Pos Ref Alt     AF  RefCount  AltCount   GT  PS VariantType  \\\n29678  chr1   6197724  CT   C  0.534        13        15  0/1 NaN         DEL   \n29699  chr1  20633885  GA   G  0.462        13        11  0/1 NaN         DEL   \n29704  chr1  26773456   C   T  0.389        21        13  0/1 NaN         SNP   \n29705  chr1  26779439  TG   T  0.590        15        23  0/1 NaN         DEL   \n29709  chr1  38019345  GA   G  0.448        17        13  0/1 NaN         DEL   \n\n       ... RevelScore Funseq2Score PharmgkbID DidaID DidaName GwasDisease  \\\n29678  ...        NaN          NaN        NaN    NaN      NaN         NaN   \n29699  ...        NaN          NaN        NaN    NaN      NaN         NaN   \n29704  ...        NaN          5.0        NaN    NaN      NaN         NaN   \n29705  ...        NaN          NaN        NaN    NaN      NaN         NaN   \n29709  ...        NaN          NaN        NaN    NaN      NaN         NaN   \n\n      GwasPmID  GTexGene     ModelID EntrezGeneID  \n29678      NaN       NaN  ACH-000856       6146.0  \n29699      NaN       NaN  ACH-000856      65018.0  \n29704      NaN       NaN  ACH-000856       8289.0  \n29705      NaN       NaN  ACH-000856       8289.0  \n29709      NaN       NaN  ACH-000856      51118.0  \n\n[5 rows x 56 columns]",
      "text/html": "<div>\n<style scoped>\n    .dataframe tbody tr th:only-of-type {\n        vertical-align: middle;\n    }\n\n    .dataframe tbody tr th {\n        vertical-align: top;\n    }\n\n    .dataframe thead th {\n        text-align: right;\n    }\n</style>\n<table border=\"1\" class=\"dataframe\">\n  <thead>\n    <tr style=\"text-align: right;\">\n      <th></th>\n      <th>Chrom</th>\n      <th>Pos</th>\n      <th>Ref</th>\n      <th>Alt</th>\n      <th>AF</th>\n      <th>RefCount</th>\n      <th>AltCount</th>\n      <th>GT</th>\n      <th>PS</th>\n      <th>VariantType</th>\n      <th>...</th>\n      <th>RevelScore</th>\n      <th>Funseq2Score</th>\n      <th>PharmgkbID</th>\n      <th>DidaID</th>\n      <th>DidaName</th>\n      <th>GwasDisease</th>\n      <th>GwasPmID</th>\n      <th>GTexGene</th>\n      <th>ModelID</th>\n      <th>EntrezGeneID</th>\n    </tr>\n  </thead>\n  <tbody>\n    <tr>\n      <th>29678</th>\n      <td>chr1</td>\n      <td>6197724</td>\n      <td>CT</td>\n      <td>C</td>\n      <td>0.534</td>\n      <td>13</td>\n      <td>15</td>\n      <td>0/1</td>\n      <td>NaN</td>\n      <td>DEL</td>\n      <td>...</td>\n      <td>NaN</td>\n      <td>NaN</td>\n      <td>NaN</td>\n      <td>NaN</td>\n      <td>NaN</td>\n      <td>NaN</td>\n      <td>NaN</td>\n      <td>NaN</td>\n      <td>ACH-000856</td>\n      <td>6146.0</td>\n    </tr>\n    <tr>\n      <th>29699</th>\n      <td>chr1</td>\n      <td>20633885</td>\n      <td>GA</td>\n      <td>G</td>\n      <td>0.462</td>\n      <td>13</td>\n      <td>11</td>\n      <td>0/1</td>\n      <td>NaN</td>\n      <td>DEL</td>\n      <td>...</td>\n      <td>NaN</td>\n      <td>NaN</td>\n      <td>NaN</td>\n      <td>NaN</td>\n      <td>NaN</td>\n      <td>NaN</td>\n      <td>NaN</td>\n      <td>NaN</td>\n      <td>ACH-000856</td>\n      <td>65018.0</td>\n    </tr>\n    <tr>\n      <th>29704</th>\n      <td>chr1</td>\n      <td>26773456</td>\n      <td>C</td>\n      <td>T</td>\n      <td>0.389</td>\n      <td>21</td>\n      <td>13</td>\n      <td>0/1</td>\n      <td>NaN</td>\n      <td>SNP</td>\n      <td>...</td>\n      <td>NaN</td>\n      <td>5.0</td>\n      <td>NaN</td>\n      <td>NaN</td>\n      <td>NaN</td>\n      <td>NaN</td>\n      <td>NaN</td>\n      <td>NaN</td>\n      <td>ACH-000856</td>\n      <td>8289.0</td>\n    </tr>\n    <tr>\n      <th>29705</th>\n      <td>chr1</td>\n      <td>26779439</td>\n      <td>TG</td>\n      <td>T</td>\n      <td>0.590</td>\n      <td>15</td>\n      <td>23</td>\n      <td>0/1</td>\n      <td>NaN</td>\n      <td>DEL</td>\n      <td>...</td>\n      <td>NaN</td>\n      <td>NaN</td>\n      <td>NaN</td>\n      <td>NaN</td>\n      <td>NaN</td>\n      <td>NaN</td>\n      <td>NaN</td>\n      <td>NaN</td>\n      <td>ACH-000856</td>\n      <td>8289.0</td>\n    </tr>\n    <tr>\n      <th>29709</th>\n      <td>chr1</td>\n      <td>38019345</td>\n      <td>GA</td>\n      <td>G</td>\n      <td>0.448</td>\n      <td>17</td>\n      <td>13</td>\n      <td>0/1</td>\n      <td>NaN</td>\n      <td>DEL</td>\n      <td>...</td>\n      <td>NaN</td>\n      <td>NaN</td>\n      <td>NaN</td>\n      <td>NaN</td>\n      <td>NaN</td>\n      <td>NaN</td>\n      <td>NaN</td>\n      <td>NaN</td>\n      <td>ACH-000856</td>\n      <td>51118.0</td>\n    </tr>\n  </tbody>\n</table>\n<p>5 rows × 56 columns</p>\n</div>"
     },
     "execution_count": 16,
     "metadata": {},
     "output_type": "execute_result"
    }
   ],
   "source": [
    "# First we separate out the badly pathogenic mutations - these are assumed to result in loss of function\n",
    "pathogenic = ('FRAME_SHIFT_DEL', 'FRAME_SHIFT_INS', 'NONSENSE', 'NONSTOP', 'START_CODON_INS')\n",
    "\n",
    "##### NOTE ######\n",
    "# These are the variations that were considered pathogenic on the original version\n",
    "# pathogenic = ['Frame_Shift_Del', 'Frame_Shift_Ins','Nonsense_Mutation','Nonstop_Mutation','Stop_Codon_Del']\n",
    "\n",
    "# I will keep this the same for now (note no 'Stop_Codon_Del' class in the new data - presumably because it's the same a NONSTOP) but note:\n",
    "\n",
    "# IN_FRAME_DEL - this is likely damaging but could be LOF or GOF -  select which depending on whether its onc, tsg or kinase?\n",
    "# IN_FRAME_INS - as above\n",
    "# START_CODON_INS - this is likely to prevent the translation of the protein, so LOF?\n",
    "# START_CODON_SNP - this may prevent translation if the SNP switched the codon from methianine to another amino acid\n",
    "\n",
    "# Filter mut_df to only include rows where the variant classification is in the pathogenic list defined above\n",
    "pathogenic_mutations = mutation_df.loc[mutation_df['VariantInfo'].isin(pathogenic)]\n",
    "\n",
    "print(len(pathogenic_mutations))\n",
    "pathogenic_mutations.head()"
   ],
   "metadata": {
    "collapsed": false,
    "ExecuteTime": {
     "end_time": "2023-12-30T17:02:39.568816900Z",
     "start_time": "2023-12-30T17:02:39.512475500Z"
    }
   },
   "id": "6bb8449c2bcb5450"
  },
  {
   "cell_type": "code",
   "execution_count": 17,
   "outputs": [
    {
     "data": {
      "text/plain": "            ModelID HugoSymbol\n29678    ACH-000856      RPL22\n29699    ACH-000856      PINK1\n29704    ACH-000856     ARID1A\n29705    ACH-000856     ARID1A\n29709    ACH-000856      UTP11\n...             ...        ...\n1296363  ACH-000234      GPAT3\n1296376  ACH-000234      JADE2\n1296383  ACH-000234      RUFY1\n1296548  ACH-000234      ANPEP\n1296592  ACH-000234     ZNF440\n\n[691 rows x 2 columns]",
      "text/html": "<div>\n<style scoped>\n    .dataframe tbody tr th:only-of-type {\n        vertical-align: middle;\n    }\n\n    .dataframe tbody tr th {\n        vertical-align: top;\n    }\n\n    .dataframe thead th {\n        text-align: right;\n    }\n</style>\n<table border=\"1\" class=\"dataframe\">\n  <thead>\n    <tr style=\"text-align: right;\">\n      <th></th>\n      <th>ModelID</th>\n      <th>HugoSymbol</th>\n    </tr>\n  </thead>\n  <tbody>\n    <tr>\n      <th>29678</th>\n      <td>ACH-000856</td>\n      <td>RPL22</td>\n    </tr>\n    <tr>\n      <th>29699</th>\n      <td>ACH-000856</td>\n      <td>PINK1</td>\n    </tr>\n    <tr>\n      <th>29704</th>\n      <td>ACH-000856</td>\n      <td>ARID1A</td>\n    </tr>\n    <tr>\n      <th>29705</th>\n      <td>ACH-000856</td>\n      <td>ARID1A</td>\n    </tr>\n    <tr>\n      <th>29709</th>\n      <td>ACH-000856</td>\n      <td>UTP11</td>\n    </tr>\n    <tr>\n      <th>...</th>\n      <td>...</td>\n      <td>...</td>\n    </tr>\n    <tr>\n      <th>1296363</th>\n      <td>ACH-000234</td>\n      <td>GPAT3</td>\n    </tr>\n    <tr>\n      <th>1296376</th>\n      <td>ACH-000234</td>\n      <td>JADE2</td>\n    </tr>\n    <tr>\n      <th>1296383</th>\n      <td>ACH-000234</td>\n      <td>RUFY1</td>\n    </tr>\n    <tr>\n      <th>1296548</th>\n      <td>ACH-000234</td>\n      <td>ANPEP</td>\n    </tr>\n    <tr>\n      <th>1296592</th>\n      <td>ACH-000234</td>\n      <td>ZNF440</td>\n    </tr>\n  </tbody>\n</table>\n<p>691 rows × 2 columns</p>\n</div>"
     },
     "execution_count": 17,
     "metadata": {},
     "output_type": "execute_result"
    }
   ],
   "source": [
    "# Start a lof_mutations df with these very pathogenic mutations \n",
    "lof_mutations = pathogenic_mutations[['ModelID', 'HugoSymbol']]\n",
    "lof_mutations"
   ],
   "metadata": {
    "collapsed": false,
    "ExecuteTime": {
     "end_time": "2023-12-30T17:02:43.827034500Z",
     "start_time": "2023-12-30T17:02:43.811090500Z"
    }
   },
   "id": "8a5adaecb057b4f3"
  },
  {
   "cell_type": "code",
   "execution_count": 18,
   "outputs": [
    {
     "data": {
      "text/plain": "      Chrom       Pos Ref Alt     AF  RefCount  AltCount   GT          PS  \\\n0      chr1    963249   G   A  0.303        22         9  0/1         NaN   \n1      chr1   2512914   G   T  0.488        21        19  0/1         NaN   \n2      chr1   6588134   G   A  0.457        19        16  0/1         NaN   \n3      chr1  11715133   C   A  0.500        20        19  0/1         NaN   \n4      chr1  13225429   A   G  0.579        15        21  0|1  13225408.0   \n...     ...       ...  ..  ..    ...       ...       ...  ...         ...   \n2389  chr14  67352948   C   T  0.966         7       245  1|1         NaN   \n2390  chr15  59084193   C   T  0.190       129        31  0/1         NaN   \n2391  chr15  67187484   G   A  0.560        67        86  0/1         NaN   \n2392  chr16  66909296   C   T  0.677        23        52  0/1         NaN   \n2393  chr17   5105919   G   A  0.477        55        49  0/1         NaN   \n\n     VariantType  ... DidaName GwasDisease GwasPmID GTexGene     ModelID  \\\n0            SNP  ...      NaN         NaN      NaN      NaN  ACH-000856   \n1            SNP  ...      NaN         NaN      NaN      NaN  ACH-000856   \n2            SNP  ...      NaN         NaN      NaN      NaN  ACH-000856   \n3            SNP  ...      NaN         NaN      NaN      NaN  ACH-000856   \n4            SNP  ...      NaN         NaN      NaN      NaN  ACH-000856   \n...          ...  ...      ...         ...      ...      ...         ...   \n2389         SNP  ...      NaN         NaN      NaN      NaN  ACH-000234   \n2390         SNP  ...      NaN         NaN      NaN      NaN  ACH-000234   \n2391         SNP  ...      NaN         NaN      NaN      NaN  ACH-000234   \n2392         SNP  ...      NaN         NaN      NaN      NaN  ACH-000234   \n2393         SNP  ...      NaN         NaN      NaN      NaN  ACH-000234   \n\n     EntrezGeneID am_pathogenicity           am_class am_source lof_gof  \n0        339451.0           0.9941  likely_pathogenic   primary     lof  \n1         55229.0           0.9989  likely_pathogenic   primary     lof  \n2          3104.0           0.8938  likely_pathogenic   primary     lof  \n3        374946.0           0.5953  likely_pathogenic   primary     lof  \n4        391003.0           0.5949  likely_pathogenic   primary     lof  \n...           ...              ...                ...       ...     ...  \n2389      51382.0           0.7115  likely_pathogenic   isoform     lof  \n2390      54778.0           0.9261  likely_pathogenic   isoform     lof  \n2391       4088.0           0.7934  likely_pathogenic   isoform     lof  \n2392       1014.0           0.7968  likely_pathogenic   isoform     lof  \n2393       7775.0           0.9664  likely_pathogenic   isoform     lof  \n\n[2394 rows x 60 columns]",
      "text/html": "<div>\n<style scoped>\n    .dataframe tbody tr th:only-of-type {\n        vertical-align: middle;\n    }\n\n    .dataframe tbody tr th {\n        vertical-align: top;\n    }\n\n    .dataframe thead th {\n        text-align: right;\n    }\n</style>\n<table border=\"1\" class=\"dataframe\">\n  <thead>\n    <tr style=\"text-align: right;\">\n      <th></th>\n      <th>Chrom</th>\n      <th>Pos</th>\n      <th>Ref</th>\n      <th>Alt</th>\n      <th>AF</th>\n      <th>RefCount</th>\n      <th>AltCount</th>\n      <th>GT</th>\n      <th>PS</th>\n      <th>VariantType</th>\n      <th>...</th>\n      <th>DidaName</th>\n      <th>GwasDisease</th>\n      <th>GwasPmID</th>\n      <th>GTexGene</th>\n      <th>ModelID</th>\n      <th>EntrezGeneID</th>\n      <th>am_pathogenicity</th>\n      <th>am_class</th>\n      <th>am_source</th>\n      <th>lof_gof</th>\n    </tr>\n  </thead>\n  <tbody>\n    <tr>\n      <th>0</th>\n      <td>chr1</td>\n      <td>963249</td>\n      <td>G</td>\n      <td>A</td>\n      <td>0.303</td>\n      <td>22</td>\n      <td>9</td>\n      <td>0/1</td>\n      <td>NaN</td>\n      <td>SNP</td>\n      <td>...</td>\n      <td>NaN</td>\n      <td>NaN</td>\n      <td>NaN</td>\n      <td>NaN</td>\n      <td>ACH-000856</td>\n      <td>339451.0</td>\n      <td>0.9941</td>\n      <td>likely_pathogenic</td>\n      <td>primary</td>\n      <td>lof</td>\n    </tr>\n    <tr>\n      <th>1</th>\n      <td>chr1</td>\n      <td>2512914</td>\n      <td>G</td>\n      <td>T</td>\n      <td>0.488</td>\n      <td>21</td>\n      <td>19</td>\n      <td>0/1</td>\n      <td>NaN</td>\n      <td>SNP</td>\n      <td>...</td>\n      <td>NaN</td>\n      <td>NaN</td>\n      <td>NaN</td>\n      <td>NaN</td>\n      <td>ACH-000856</td>\n      <td>55229.0</td>\n      <td>0.9989</td>\n      <td>likely_pathogenic</td>\n      <td>primary</td>\n      <td>lof</td>\n    </tr>\n    <tr>\n      <th>2</th>\n      <td>chr1</td>\n      <td>6588134</td>\n      <td>G</td>\n      <td>A</td>\n      <td>0.457</td>\n      <td>19</td>\n      <td>16</td>\n      <td>0/1</td>\n      <td>NaN</td>\n      <td>SNP</td>\n      <td>...</td>\n      <td>NaN</td>\n      <td>NaN</td>\n      <td>NaN</td>\n      <td>NaN</td>\n      <td>ACH-000856</td>\n      <td>3104.0</td>\n      <td>0.8938</td>\n      <td>likely_pathogenic</td>\n      <td>primary</td>\n      <td>lof</td>\n    </tr>\n    <tr>\n      <th>3</th>\n      <td>chr1</td>\n      <td>11715133</td>\n      <td>C</td>\n      <td>A</td>\n      <td>0.500</td>\n      <td>20</td>\n      <td>19</td>\n      <td>0/1</td>\n      <td>NaN</td>\n      <td>SNP</td>\n      <td>...</td>\n      <td>NaN</td>\n      <td>NaN</td>\n      <td>NaN</td>\n      <td>NaN</td>\n      <td>ACH-000856</td>\n      <td>374946.0</td>\n      <td>0.5953</td>\n      <td>likely_pathogenic</td>\n      <td>primary</td>\n      <td>lof</td>\n    </tr>\n    <tr>\n      <th>4</th>\n      <td>chr1</td>\n      <td>13225429</td>\n      <td>A</td>\n      <td>G</td>\n      <td>0.579</td>\n      <td>15</td>\n      <td>21</td>\n      <td>0|1</td>\n      <td>13225408.0</td>\n      <td>SNP</td>\n      <td>...</td>\n      <td>NaN</td>\n      <td>NaN</td>\n      <td>NaN</td>\n      <td>NaN</td>\n      <td>ACH-000856</td>\n      <td>391003.0</td>\n      <td>0.5949</td>\n      <td>likely_pathogenic</td>\n      <td>primary</td>\n      <td>lof</td>\n    </tr>\n    <tr>\n      <th>...</th>\n      <td>...</td>\n      <td>...</td>\n      <td>...</td>\n      <td>...</td>\n      <td>...</td>\n      <td>...</td>\n      <td>...</td>\n      <td>...</td>\n      <td>...</td>\n      <td>...</td>\n      <td>...</td>\n      <td>...</td>\n      <td>...</td>\n      <td>...</td>\n      <td>...</td>\n      <td>...</td>\n      <td>...</td>\n      <td>...</td>\n      <td>...</td>\n      <td>...</td>\n      <td>...</td>\n    </tr>\n    <tr>\n      <th>2389</th>\n      <td>chr14</td>\n      <td>67352948</td>\n      <td>C</td>\n      <td>T</td>\n      <td>0.966</td>\n      <td>7</td>\n      <td>245</td>\n      <td>1|1</td>\n      <td>NaN</td>\n      <td>SNP</td>\n      <td>...</td>\n      <td>NaN</td>\n      <td>NaN</td>\n      <td>NaN</td>\n      <td>NaN</td>\n      <td>ACH-000234</td>\n      <td>51382.0</td>\n      <td>0.7115</td>\n      <td>likely_pathogenic</td>\n      <td>isoform</td>\n      <td>lof</td>\n    </tr>\n    <tr>\n      <th>2390</th>\n      <td>chr15</td>\n      <td>59084193</td>\n      <td>C</td>\n      <td>T</td>\n      <td>0.190</td>\n      <td>129</td>\n      <td>31</td>\n      <td>0/1</td>\n      <td>NaN</td>\n      <td>SNP</td>\n      <td>...</td>\n      <td>NaN</td>\n      <td>NaN</td>\n      <td>NaN</td>\n      <td>NaN</td>\n      <td>ACH-000234</td>\n      <td>54778.0</td>\n      <td>0.9261</td>\n      <td>likely_pathogenic</td>\n      <td>isoform</td>\n      <td>lof</td>\n    </tr>\n    <tr>\n      <th>2391</th>\n      <td>chr15</td>\n      <td>67187484</td>\n      <td>G</td>\n      <td>A</td>\n      <td>0.560</td>\n      <td>67</td>\n      <td>86</td>\n      <td>0/1</td>\n      <td>NaN</td>\n      <td>SNP</td>\n      <td>...</td>\n      <td>NaN</td>\n      <td>NaN</td>\n      <td>NaN</td>\n      <td>NaN</td>\n      <td>ACH-000234</td>\n      <td>4088.0</td>\n      <td>0.7934</td>\n      <td>likely_pathogenic</td>\n      <td>isoform</td>\n      <td>lof</td>\n    </tr>\n    <tr>\n      <th>2392</th>\n      <td>chr16</td>\n      <td>66909296</td>\n      <td>C</td>\n      <td>T</td>\n      <td>0.677</td>\n      <td>23</td>\n      <td>52</td>\n      <td>0/1</td>\n      <td>NaN</td>\n      <td>SNP</td>\n      <td>...</td>\n      <td>NaN</td>\n      <td>NaN</td>\n      <td>NaN</td>\n      <td>NaN</td>\n      <td>ACH-000234</td>\n      <td>1014.0</td>\n      <td>0.7968</td>\n      <td>likely_pathogenic</td>\n      <td>isoform</td>\n      <td>lof</td>\n    </tr>\n    <tr>\n      <th>2393</th>\n      <td>chr17</td>\n      <td>5105919</td>\n      <td>G</td>\n      <td>A</td>\n      <td>0.477</td>\n      <td>55</td>\n      <td>49</td>\n      <td>0/1</td>\n      <td>NaN</td>\n      <td>SNP</td>\n      <td>...</td>\n      <td>NaN</td>\n      <td>NaN</td>\n      <td>NaN</td>\n      <td>NaN</td>\n      <td>ACH-000234</td>\n      <td>7775.0</td>\n      <td>0.9664</td>\n      <td>likely_pathogenic</td>\n      <td>isoform</td>\n      <td>lof</td>\n    </tr>\n  </tbody>\n</table>\n<p>2394 rows × 60 columns</p>\n</div>"
     },
     "execution_count": 18,
     "metadata": {},
     "output_type": "execute_result"
    }
   ],
   "source": [
    "# Open the results from the missense mutation analysis\n",
    "missense_predictions = pd.read_csv(data_path + 'dependant\\\\processed_mutations\\\\alphamissense_pathogenic_predictions.csv')\n",
    "missense_predictions"
   ],
   "metadata": {
    "collapsed": false,
    "ExecuteTime": {
     "end_time": "2023-12-30T17:02:49.216468600Z",
     "start_time": "2023-12-30T17:02:49.164608500Z"
    }
   },
   "id": "bee20f68634aa31d"
  },
  {
   "cell_type": "code",
   "execution_count": 19,
   "outputs": [],
   "source": [
    "# Filter for valid genes and cell lines only\n",
    "missense_predictions = missense_predictions[missense_predictions['ModelID'].isin(valid_cell_lines_list)]\n",
    "missense_predictions = missense_predictions[missense_predictions['HugoSymbol'].isin(valid_genes_list)]"
   ],
   "metadata": {
    "collapsed": false,
    "ExecuteTime": {
     "end_time": "2023-12-30T17:02:53.463778300Z",
     "start_time": "2023-12-30T17:02:53.439761800Z"
    }
   },
   "id": "e363621130bb9cac"
  },
  {
   "cell_type": "code",
   "execution_count": 20,
   "outputs": [
    {
     "data": {
      "text/plain": "lof    1283\ngof      89\nName: lof_gof, dtype: int64"
     },
     "execution_count": 20,
     "metadata": {},
     "output_type": "execute_result"
    }
   ],
   "source": [
    "missense_predictions['lof_gof'].value_counts()"
   ],
   "metadata": {
    "collapsed": false,
    "ExecuteTime": {
     "end_time": "2023-12-30T17:02:55.873212Z",
     "start_time": "2023-12-30T17:02:55.852917700Z"
    }
   },
   "id": "e97fc3524cf95fc8"
  },
  {
   "cell_type": "code",
   "execution_count": 21,
   "outputs": [],
   "source": [
    "missense_predictions_lof = missense_predictions[missense_predictions['lof_gof']=='lof'][['ModelID', 'HugoSymbol']]\n",
    "missense_predictions_gof = missense_predictions[missense_predictions['lof_gof']=='gof'][['ModelID', 'HugoSymbol']]"
   ],
   "metadata": {
    "collapsed": false,
    "ExecuteTime": {
     "end_time": "2023-12-30T17:03:13.658023Z",
     "start_time": "2023-12-30T17:03:13.645024500Z"
    }
   },
   "id": "f65cbf90bfbcbe18"
  },
  {
   "cell_type": "code",
   "execution_count": 22,
   "outputs": [
    {
     "data": {
      "text/plain": "         ModelID HugoSymbol\n1     ACH-000856      PANK4\n5     ACH-000856    COL16A1\n6     ACH-000856       CPT2\n8     ACH-000856    COL24A1\n9     ACH-000856      KCND3\n...          ...        ...\n2387  ACH-000234    CACNA1C\n2388  ACH-000234      DOCK9\n2389  ACH-000234    ATP6V1D\n2390  ACH-000234     RNF111\n2391  ACH-000234      SMAD3\n\n[1283 rows x 2 columns]",
      "text/html": "<div>\n<style scoped>\n    .dataframe tbody tr th:only-of-type {\n        vertical-align: middle;\n    }\n\n    .dataframe tbody tr th {\n        vertical-align: top;\n    }\n\n    .dataframe thead th {\n        text-align: right;\n    }\n</style>\n<table border=\"1\" class=\"dataframe\">\n  <thead>\n    <tr style=\"text-align: right;\">\n      <th></th>\n      <th>ModelID</th>\n      <th>HugoSymbol</th>\n    </tr>\n  </thead>\n  <tbody>\n    <tr>\n      <th>1</th>\n      <td>ACH-000856</td>\n      <td>PANK4</td>\n    </tr>\n    <tr>\n      <th>5</th>\n      <td>ACH-000856</td>\n      <td>COL16A1</td>\n    </tr>\n    <tr>\n      <th>6</th>\n      <td>ACH-000856</td>\n      <td>CPT2</td>\n    </tr>\n    <tr>\n      <th>8</th>\n      <td>ACH-000856</td>\n      <td>COL24A1</td>\n    </tr>\n    <tr>\n      <th>9</th>\n      <td>ACH-000856</td>\n      <td>KCND3</td>\n    </tr>\n    <tr>\n      <th>...</th>\n      <td>...</td>\n      <td>...</td>\n    </tr>\n    <tr>\n      <th>2387</th>\n      <td>ACH-000234</td>\n      <td>CACNA1C</td>\n    </tr>\n    <tr>\n      <th>2388</th>\n      <td>ACH-000234</td>\n      <td>DOCK9</td>\n    </tr>\n    <tr>\n      <th>2389</th>\n      <td>ACH-000234</td>\n      <td>ATP6V1D</td>\n    </tr>\n    <tr>\n      <th>2390</th>\n      <td>ACH-000234</td>\n      <td>RNF111</td>\n    </tr>\n    <tr>\n      <th>2391</th>\n      <td>ACH-000234</td>\n      <td>SMAD3</td>\n    </tr>\n  </tbody>\n</table>\n<p>1283 rows × 2 columns</p>\n</div>"
     },
     "execution_count": 22,
     "metadata": {},
     "output_type": "execute_result"
    }
   ],
   "source": [
    "missense_predictions_lof"
   ],
   "metadata": {
    "collapsed": false,
    "ExecuteTime": {
     "end_time": "2023-12-30T17:03:16.876607900Z",
     "start_time": "2023-12-30T17:03:16.846179700Z"
    }
   },
   "id": "4d752f9d80b3fca5"
  },
  {
   "cell_type": "code",
   "execution_count": 23,
   "outputs": [
    {
     "data": {
      "text/plain": "         ModelID HugoSymbol\n7     ACH-000856     PRKAA2\n24    ACH-000856     PIK3CA\n121   ACH-000601    RPS6KA6\n159   ACH-000725       RAF1\n161   ACH-000725     PIK3CA\n...          ...        ...\n2147  ACH-000262       RAC1\n2156  ACH-000876       PAX3\n2318  ACH-000118        ILK\n2329  ACH-000118      GSK3A\n2348  ACH-000320       VRK3\n\n[89 rows x 2 columns]",
      "text/html": "<div>\n<style scoped>\n    .dataframe tbody tr th:only-of-type {\n        vertical-align: middle;\n    }\n\n    .dataframe tbody tr th {\n        vertical-align: top;\n    }\n\n    .dataframe thead th {\n        text-align: right;\n    }\n</style>\n<table border=\"1\" class=\"dataframe\">\n  <thead>\n    <tr style=\"text-align: right;\">\n      <th></th>\n      <th>ModelID</th>\n      <th>HugoSymbol</th>\n    </tr>\n  </thead>\n  <tbody>\n    <tr>\n      <th>7</th>\n      <td>ACH-000856</td>\n      <td>PRKAA2</td>\n    </tr>\n    <tr>\n      <th>24</th>\n      <td>ACH-000856</td>\n      <td>PIK3CA</td>\n    </tr>\n    <tr>\n      <th>121</th>\n      <td>ACH-000601</td>\n      <td>RPS6KA6</td>\n    </tr>\n    <tr>\n      <th>159</th>\n      <td>ACH-000725</td>\n      <td>RAF1</td>\n    </tr>\n    <tr>\n      <th>161</th>\n      <td>ACH-000725</td>\n      <td>PIK3CA</td>\n    </tr>\n    <tr>\n      <th>...</th>\n      <td>...</td>\n      <td>...</td>\n    </tr>\n    <tr>\n      <th>2147</th>\n      <td>ACH-000262</td>\n      <td>RAC1</td>\n    </tr>\n    <tr>\n      <th>2156</th>\n      <td>ACH-000876</td>\n      <td>PAX3</td>\n    </tr>\n    <tr>\n      <th>2318</th>\n      <td>ACH-000118</td>\n      <td>ILK</td>\n    </tr>\n    <tr>\n      <th>2329</th>\n      <td>ACH-000118</td>\n      <td>GSK3A</td>\n    </tr>\n    <tr>\n      <th>2348</th>\n      <td>ACH-000320</td>\n      <td>VRK3</td>\n    </tr>\n  </tbody>\n</table>\n<p>89 rows × 2 columns</p>\n</div>"
     },
     "execution_count": 23,
     "metadata": {},
     "output_type": "execute_result"
    }
   ],
   "source": [
    "missense_predictions_gof"
   ],
   "metadata": {
    "collapsed": false,
    "ExecuteTime": {
     "end_time": "2023-12-30T17:03:24.182354600Z",
     "start_time": "2023-12-30T17:03:24.154361200Z"
    }
   },
   "id": "6d70c8a0de8466bb"
  },
  {
   "cell_type": "code",
   "execution_count": 24,
   "outputs": [
    {
     "name": "stdout",
     "output_type": "stream",
     "text": [
      "1929\n"
     ]
    },
    {
     "data": {
      "text/plain": "          ModelID HugoSymbol\n29678  ACH-000856      RPL22\n29699  ACH-000856      PINK1\n29704  ACH-000856     ARID1A\n29709  ACH-000856      UTP11\n29723  ACH-000856       JAK1\n...           ...        ...\n2387   ACH-000234    CACNA1C\n2388   ACH-000234      DOCK9\n2389   ACH-000234    ATP6V1D\n2390   ACH-000234     RNF111\n2391   ACH-000234      SMAD3\n\n[1929 rows x 2 columns]",
      "text/html": "<div>\n<style scoped>\n    .dataframe tbody tr th:only-of-type {\n        vertical-align: middle;\n    }\n\n    .dataframe tbody tr th {\n        vertical-align: top;\n    }\n\n    .dataframe thead th {\n        text-align: right;\n    }\n</style>\n<table border=\"1\" class=\"dataframe\">\n  <thead>\n    <tr style=\"text-align: right;\">\n      <th></th>\n      <th>ModelID</th>\n      <th>HugoSymbol</th>\n    </tr>\n  </thead>\n  <tbody>\n    <tr>\n      <th>29678</th>\n      <td>ACH-000856</td>\n      <td>RPL22</td>\n    </tr>\n    <tr>\n      <th>29699</th>\n      <td>ACH-000856</td>\n      <td>PINK1</td>\n    </tr>\n    <tr>\n      <th>29704</th>\n      <td>ACH-000856</td>\n      <td>ARID1A</td>\n    </tr>\n    <tr>\n      <th>29709</th>\n      <td>ACH-000856</td>\n      <td>UTP11</td>\n    </tr>\n    <tr>\n      <th>29723</th>\n      <td>ACH-000856</td>\n      <td>JAK1</td>\n    </tr>\n    <tr>\n      <th>...</th>\n      <td>...</td>\n      <td>...</td>\n    </tr>\n    <tr>\n      <th>2387</th>\n      <td>ACH-000234</td>\n      <td>CACNA1C</td>\n    </tr>\n    <tr>\n      <th>2388</th>\n      <td>ACH-000234</td>\n      <td>DOCK9</td>\n    </tr>\n    <tr>\n      <th>2389</th>\n      <td>ACH-000234</td>\n      <td>ATP6V1D</td>\n    </tr>\n    <tr>\n      <th>2390</th>\n      <td>ACH-000234</td>\n      <td>RNF111</td>\n    </tr>\n    <tr>\n      <th>2391</th>\n      <td>ACH-000234</td>\n      <td>SMAD3</td>\n    </tr>\n  </tbody>\n</table>\n<p>1929 rows × 2 columns</p>\n</div>"
     },
     "execution_count": 24,
     "metadata": {},
     "output_type": "execute_result"
    }
   ],
   "source": [
    "lof_mutations = pd.concat([lof_mutations, missense_predictions_lof])\n",
    "lof_mutations = lof_mutations.drop_duplicates()\n",
    "print(len(lof_mutations))\n",
    "lof_mutations"
   ],
   "metadata": {
    "collapsed": false,
    "ExecuteTime": {
     "end_time": "2023-12-30T17:03:31.493202500Z",
     "start_time": "2023-12-30T17:03:31.442554Z"
    }
   },
   "id": "9a1ad8a54b5cad53"
  },
  {
   "cell_type": "code",
   "execution_count": 25,
   "outputs": [
    {
     "name": "stdout",
     "output_type": "stream",
     "text": [
      "87\n"
     ]
    },
    {
     "data": {
      "text/plain": "         ModelID HugoSymbol\n7     ACH-000856     PRKAA2\n24    ACH-000856     PIK3CA\n121   ACH-000601    RPS6KA6\n159   ACH-000725       RAF1\n161   ACH-000725     PIK3CA\n...          ...        ...\n2147  ACH-000262       RAC1\n2156  ACH-000876       PAX3\n2318  ACH-000118        ILK\n2329  ACH-000118      GSK3A\n2348  ACH-000320       VRK3\n\n[87 rows x 2 columns]",
      "text/html": "<div>\n<style scoped>\n    .dataframe tbody tr th:only-of-type {\n        vertical-align: middle;\n    }\n\n    .dataframe tbody tr th {\n        vertical-align: top;\n    }\n\n    .dataframe thead th {\n        text-align: right;\n    }\n</style>\n<table border=\"1\" class=\"dataframe\">\n  <thead>\n    <tr style=\"text-align: right;\">\n      <th></th>\n      <th>ModelID</th>\n      <th>HugoSymbol</th>\n    </tr>\n  </thead>\n  <tbody>\n    <tr>\n      <th>7</th>\n      <td>ACH-000856</td>\n      <td>PRKAA2</td>\n    </tr>\n    <tr>\n      <th>24</th>\n      <td>ACH-000856</td>\n      <td>PIK3CA</td>\n    </tr>\n    <tr>\n      <th>121</th>\n      <td>ACH-000601</td>\n      <td>RPS6KA6</td>\n    </tr>\n    <tr>\n      <th>159</th>\n      <td>ACH-000725</td>\n      <td>RAF1</td>\n    </tr>\n    <tr>\n      <th>161</th>\n      <td>ACH-000725</td>\n      <td>PIK3CA</td>\n    </tr>\n    <tr>\n      <th>...</th>\n      <td>...</td>\n      <td>...</td>\n    </tr>\n    <tr>\n      <th>2147</th>\n      <td>ACH-000262</td>\n      <td>RAC1</td>\n    </tr>\n    <tr>\n      <th>2156</th>\n      <td>ACH-000876</td>\n      <td>PAX3</td>\n    </tr>\n    <tr>\n      <th>2318</th>\n      <td>ACH-000118</td>\n      <td>ILK</td>\n    </tr>\n    <tr>\n      <th>2329</th>\n      <td>ACH-000118</td>\n      <td>GSK3A</td>\n    </tr>\n    <tr>\n      <th>2348</th>\n      <td>ACH-000320</td>\n      <td>VRK3</td>\n    </tr>\n  </tbody>\n</table>\n<p>87 rows × 2 columns</p>\n</div>"
     },
     "execution_count": 25,
     "metadata": {},
     "output_type": "execute_result"
    }
   ],
   "source": [
    "gof_mutations = missense_predictions_gof\n",
    "gof_mutations = gof_mutations.drop_duplicates()\n",
    "print(len(gof_mutations ))\n",
    "gof_mutations"
   ],
   "metadata": {
    "collapsed": false,
    "ExecuteTime": {
     "end_time": "2023-12-30T17:03:36.683856300Z",
     "start_time": "2023-12-30T17:03:36.663162800Z"
    }
   },
   "id": "fa4e737d89fb9009"
  },
  {
   "cell_type": "code",
   "execution_count": 26,
   "outputs": [
    {
     "data": {
      "text/plain": "         ACH-000352  ACH-000624  ACH-000223  ACH-000768  ACH-000725  \\\nTIMP1           1.0         1.0         1.0         1.0         1.0   \nCHST2           1.0         1.0         1.0         1.0         1.0   \nFBXO27          1.0         1.0         1.0         1.0         1.0   \nDOCK3           1.0         1.0         1.0         1.0         1.0   \nLUZP4           1.0         1.0         1.0         1.0         1.0   \n...             ...         ...         ...         ...         ...   \nTRIM24          1.0         1.0         1.0         1.0         1.0   \nPOFUT2          1.0         1.0         1.0         1.0         1.0   \nKRT33B          1.0         1.0         1.0         1.0         1.0   \nATM             1.0         1.0         1.0         1.0         1.0   \nSLC37A1         1.0         1.0         1.0         1.0         1.0   \n\n         ACH-000856  ACH-000849  ACH-000028  ACH-000876  ACH-000621  ...  \\\nTIMP1           1.0         1.0         1.0         1.0         1.0  ...   \nCHST2           1.0         1.0         1.0         1.0         1.0  ...   \nFBXO27          1.0         1.0         1.0         1.0         1.0  ...   \nDOCK3           1.0         1.0         1.0         1.0         1.0  ...   \nLUZP4           1.0         1.0         1.0         1.0         1.0  ...   \n...             ...         ...         ...         ...         ...  ...   \nTRIM24          1.0         1.0         1.0         1.0         1.0  ...   \nPOFUT2          1.0         1.0         1.0         1.0         1.0  ...   \nKRT33B          1.0         1.0         1.0         1.0         1.0  ...   \nATM             1.0         1.0         1.0         1.0         1.0  ...   \nSLC37A1         1.0         1.0         1.0         1.0         1.0  ...   \n\n         ACH-000262  ACH-000060  ACH-000178  ACH-000222  ACH-000281  \\\nTIMP1           1.0         1.0         1.0         1.0         1.0   \nCHST2           1.0         1.0         1.0         1.0         1.0   \nFBXO27          1.0         1.0         1.0         1.0         1.0   \nDOCK3           1.0         1.0         1.0         1.0         1.0   \nLUZP4           1.0         1.0         1.0         1.0         1.0   \n...             ...         ...         ...         ...         ...   \nTRIM24          1.0         1.0         1.0         1.0         1.0   \nPOFUT2          1.0         1.0         1.0         1.0         1.0   \nKRT33B          1.0         1.0         1.0         1.0         1.0   \nATM             1.0         1.0         1.0         1.0         1.0   \nSLC37A1         1.0         1.0         1.0         1.0         1.0   \n\n         ACH-000265  ACH-000601  ACH-000138  ACH-000320  ACH-000118  \nTIMP1           1.0         1.0         1.0         1.0         1.0  \nCHST2           1.0         1.0         1.0         1.0         1.0  \nFBXO27          1.0         1.0         1.0         1.0         1.0  \nDOCK3           1.0         1.0         1.0         1.0         1.0  \nLUZP4           1.0         1.0         1.0         1.0         1.0  \n...             ...         ...         ...         ...         ...  \nTRIM24          1.0         1.0         1.0         1.0         1.0  \nPOFUT2          1.0         1.0         1.0         1.0         1.0  \nKRT33B          1.0         1.0         1.0         1.0         1.0  \nATM             1.0         1.0         1.0         1.0         1.0  \nSLC37A1         1.0         1.0         1.0         1.0         1.0  \n\n[9723 rows x 37 columns]",
      "text/html": "<div>\n<style scoped>\n    .dataframe tbody tr th:only-of-type {\n        vertical-align: middle;\n    }\n\n    .dataframe tbody tr th {\n        vertical-align: top;\n    }\n\n    .dataframe thead th {\n        text-align: right;\n    }\n</style>\n<table border=\"1\" class=\"dataframe\">\n  <thead>\n    <tr style=\"text-align: right;\">\n      <th></th>\n      <th>ACH-000352</th>\n      <th>ACH-000624</th>\n      <th>ACH-000223</th>\n      <th>ACH-000768</th>\n      <th>ACH-000725</th>\n      <th>ACH-000856</th>\n      <th>ACH-000849</th>\n      <th>ACH-000028</th>\n      <th>ACH-000876</th>\n      <th>ACH-000621</th>\n      <th>...</th>\n      <th>ACH-000262</th>\n      <th>ACH-000060</th>\n      <th>ACH-000178</th>\n      <th>ACH-000222</th>\n      <th>ACH-000281</th>\n      <th>ACH-000265</th>\n      <th>ACH-000601</th>\n      <th>ACH-000138</th>\n      <th>ACH-000320</th>\n      <th>ACH-000118</th>\n    </tr>\n  </thead>\n  <tbody>\n    <tr>\n      <th>TIMP1</th>\n      <td>1.0</td>\n      <td>1.0</td>\n      <td>1.0</td>\n      <td>1.0</td>\n      <td>1.0</td>\n      <td>1.0</td>\n      <td>1.0</td>\n      <td>1.0</td>\n      <td>1.0</td>\n      <td>1.0</td>\n      <td>...</td>\n      <td>1.0</td>\n      <td>1.0</td>\n      <td>1.0</td>\n      <td>1.0</td>\n      <td>1.0</td>\n      <td>1.0</td>\n      <td>1.0</td>\n      <td>1.0</td>\n      <td>1.0</td>\n      <td>1.0</td>\n    </tr>\n    <tr>\n      <th>CHST2</th>\n      <td>1.0</td>\n      <td>1.0</td>\n      <td>1.0</td>\n      <td>1.0</td>\n      <td>1.0</td>\n      <td>1.0</td>\n      <td>1.0</td>\n      <td>1.0</td>\n      <td>1.0</td>\n      <td>1.0</td>\n      <td>...</td>\n      <td>1.0</td>\n      <td>1.0</td>\n      <td>1.0</td>\n      <td>1.0</td>\n      <td>1.0</td>\n      <td>1.0</td>\n      <td>1.0</td>\n      <td>1.0</td>\n      <td>1.0</td>\n      <td>1.0</td>\n    </tr>\n    <tr>\n      <th>FBXO27</th>\n      <td>1.0</td>\n      <td>1.0</td>\n      <td>1.0</td>\n      <td>1.0</td>\n      <td>1.0</td>\n      <td>1.0</td>\n      <td>1.0</td>\n      <td>1.0</td>\n      <td>1.0</td>\n      <td>1.0</td>\n      <td>...</td>\n      <td>1.0</td>\n      <td>1.0</td>\n      <td>1.0</td>\n      <td>1.0</td>\n      <td>1.0</td>\n      <td>1.0</td>\n      <td>1.0</td>\n      <td>1.0</td>\n      <td>1.0</td>\n      <td>1.0</td>\n    </tr>\n    <tr>\n      <th>DOCK3</th>\n      <td>1.0</td>\n      <td>1.0</td>\n      <td>1.0</td>\n      <td>1.0</td>\n      <td>1.0</td>\n      <td>1.0</td>\n      <td>1.0</td>\n      <td>1.0</td>\n      <td>1.0</td>\n      <td>1.0</td>\n      <td>...</td>\n      <td>1.0</td>\n      <td>1.0</td>\n      <td>1.0</td>\n      <td>1.0</td>\n      <td>1.0</td>\n      <td>1.0</td>\n      <td>1.0</td>\n      <td>1.0</td>\n      <td>1.0</td>\n      <td>1.0</td>\n    </tr>\n    <tr>\n      <th>LUZP4</th>\n      <td>1.0</td>\n      <td>1.0</td>\n      <td>1.0</td>\n      <td>1.0</td>\n      <td>1.0</td>\n      <td>1.0</td>\n      <td>1.0</td>\n      <td>1.0</td>\n      <td>1.0</td>\n      <td>1.0</td>\n      <td>...</td>\n      <td>1.0</td>\n      <td>1.0</td>\n      <td>1.0</td>\n      <td>1.0</td>\n      <td>1.0</td>\n      <td>1.0</td>\n      <td>1.0</td>\n      <td>1.0</td>\n      <td>1.0</td>\n      <td>1.0</td>\n    </tr>\n    <tr>\n      <th>...</th>\n      <td>...</td>\n      <td>...</td>\n      <td>...</td>\n      <td>...</td>\n      <td>...</td>\n      <td>...</td>\n      <td>...</td>\n      <td>...</td>\n      <td>...</td>\n      <td>...</td>\n      <td>...</td>\n      <td>...</td>\n      <td>...</td>\n      <td>...</td>\n      <td>...</td>\n      <td>...</td>\n      <td>...</td>\n      <td>...</td>\n      <td>...</td>\n      <td>...</td>\n      <td>...</td>\n    </tr>\n    <tr>\n      <th>TRIM24</th>\n      <td>1.0</td>\n      <td>1.0</td>\n      <td>1.0</td>\n      <td>1.0</td>\n      <td>1.0</td>\n      <td>1.0</td>\n      <td>1.0</td>\n      <td>1.0</td>\n      <td>1.0</td>\n      <td>1.0</td>\n      <td>...</td>\n      <td>1.0</td>\n      <td>1.0</td>\n      <td>1.0</td>\n      <td>1.0</td>\n      <td>1.0</td>\n      <td>1.0</td>\n      <td>1.0</td>\n      <td>1.0</td>\n      <td>1.0</td>\n      <td>1.0</td>\n    </tr>\n    <tr>\n      <th>POFUT2</th>\n      <td>1.0</td>\n      <td>1.0</td>\n      <td>1.0</td>\n      <td>1.0</td>\n      <td>1.0</td>\n      <td>1.0</td>\n      <td>1.0</td>\n      <td>1.0</td>\n      <td>1.0</td>\n      <td>1.0</td>\n      <td>...</td>\n      <td>1.0</td>\n      <td>1.0</td>\n      <td>1.0</td>\n      <td>1.0</td>\n      <td>1.0</td>\n      <td>1.0</td>\n      <td>1.0</td>\n      <td>1.0</td>\n      <td>1.0</td>\n      <td>1.0</td>\n    </tr>\n    <tr>\n      <th>KRT33B</th>\n      <td>1.0</td>\n      <td>1.0</td>\n      <td>1.0</td>\n      <td>1.0</td>\n      <td>1.0</td>\n      <td>1.0</td>\n      <td>1.0</td>\n      <td>1.0</td>\n      <td>1.0</td>\n      <td>1.0</td>\n      <td>...</td>\n      <td>1.0</td>\n      <td>1.0</td>\n      <td>1.0</td>\n      <td>1.0</td>\n      <td>1.0</td>\n      <td>1.0</td>\n      <td>1.0</td>\n      <td>1.0</td>\n      <td>1.0</td>\n      <td>1.0</td>\n    </tr>\n    <tr>\n      <th>ATM</th>\n      <td>1.0</td>\n      <td>1.0</td>\n      <td>1.0</td>\n      <td>1.0</td>\n      <td>1.0</td>\n      <td>1.0</td>\n      <td>1.0</td>\n      <td>1.0</td>\n      <td>1.0</td>\n      <td>1.0</td>\n      <td>...</td>\n      <td>1.0</td>\n      <td>1.0</td>\n      <td>1.0</td>\n      <td>1.0</td>\n      <td>1.0</td>\n      <td>1.0</td>\n      <td>1.0</td>\n      <td>1.0</td>\n      <td>1.0</td>\n      <td>1.0</td>\n    </tr>\n    <tr>\n      <th>SLC37A1</th>\n      <td>1.0</td>\n      <td>1.0</td>\n      <td>1.0</td>\n      <td>1.0</td>\n      <td>1.0</td>\n      <td>1.0</td>\n      <td>1.0</td>\n      <td>1.0</td>\n      <td>1.0</td>\n      <td>1.0</td>\n      <td>...</td>\n      <td>1.0</td>\n      <td>1.0</td>\n      <td>1.0</td>\n      <td>1.0</td>\n      <td>1.0</td>\n      <td>1.0</td>\n      <td>1.0</td>\n      <td>1.0</td>\n      <td>1.0</td>\n      <td>1.0</td>\n    </tr>\n  </tbody>\n</table>\n<p>9723 rows × 37 columns</p>\n</div>"
     },
     "execution_count": 26,
     "metadata": {},
     "output_type": "execute_result"
    }
   ],
   "source": [
    "# Loading the base weights ones matrix\n",
    "# This can be loaded from the file, or you can use the base_weights dataframe created earlier\n",
    "#lof_gof_matrix = pd.read_csv(data_path + 'dependant/processed_weights/base_weights_reactome_original_lines.csv', index_col=0)\n",
    "gof_matrix = base_weights\n",
    "\n",
    "# Updating the base weights matrix based on the gof_mutations file\n",
    "# Set matrix values to 10 where they correspond to rows in gof_mutations\n",
    "for index, row in gof_mutations.iterrows():\n",
    "    model_id = row['ModelID']\n",
    "    hugo_symbol = row['HugoSymbol']\n",
    "    if model_id in gof_matrix.columns and hugo_symbol in gof_matrix.index:\n",
    "        gof_matrix.at[hugo_symbol, model_id] = 10\n",
    "\n",
    "gof_matrix# Displaying the first few rows of the updated matrix"
   ],
   "metadata": {
    "collapsed": false,
    "ExecuteTime": {
     "end_time": "2023-12-30T17:03:44.893667800Z",
     "start_time": "2023-12-30T17:03:44.853451Z"
    }
   },
   "id": "2f94d12b933e7846"
  },
  {
   "cell_type": "code",
   "execution_count": 27,
   "outputs": [
    {
     "name": "stdout",
     "output_type": "stream",
     "text": [
      "Number of values equal to 10: 87\n",
      "Number of values equal to 0: 0\n"
     ]
    }
   ],
   "source": [
    "# Check how many tens and ones in the matrix. Should match the number of lofs and gofs\n",
    "\n",
    "# Load your matrix DataFrame\n",
    "# For example: your_matrix = pd.read_csv('path_to_your_matrix.csv')\n",
    "# Replace 'your_matrix' with your actual DataFrame variable\n",
    "\n",
    "# Counting the number of values in the matrix that are equal to 10 and 0\n",
    "num_values_equal_to_10 = (gof_matrix == 10).sum().sum()\n",
    "num_values_equal_to_0 = (gof_matrix == 0).sum().sum()\n",
    "\n",
    "print(\"Number of values equal to 10:\", num_values_equal_to_10)\n",
    "print(\"Number of values equal to 0:\", num_values_equal_to_0)"
   ],
   "metadata": {
    "collapsed": false,
    "ExecuteTime": {
     "end_time": "2023-12-30T17:03:53.194653200Z",
     "start_time": "2023-12-30T17:03:53.178640600Z"
    }
   },
   "id": "444774025c083176"
  },
  {
   "cell_type": "markdown",
   "source": [
    "# Process expression data matrix"
   ],
   "metadata": {
    "collapsed": false
   },
   "id": "33eaa276a6acf533"
  },
  {
   "cell_type": "code",
   "execution_count": 28,
   "outputs": [
    {
     "name": "stdout",
     "output_type": "stream",
     "text": [
      "None\n"
     ]
    },
    {
     "data": {
      "text/plain": "        ACH-000352 ACH-000624 ACH-000223 ACH-000768 ACH-000725 ACH-000856  \\\nTIMP1      6.20594   5.202418   7.034194   9.178715   3.849999   4.931683   \nCHST2     0.042644   0.056584   0.042644   2.881665   0.028569   3.473787   \nFBXO27    0.014355   3.533563   4.595146   3.713696   0.201634   3.401903   \nDOCK3     0.275007   0.070389   0.978196   0.495695    1.22033   0.163499   \nLUZP4          0.0        0.0   0.042644        0.0        0.0   0.028569   \n...            ...        ...        ...        ...        ...        ...   \nTRIM24     4.31034     1.9855   3.058316   3.936402   4.892391   3.940167   \nPOFUT2     3.95977    3.95977   4.088311   4.723012   5.249445   4.830357   \nKRT33B         0.0        0.0   0.056584   0.565597   0.014355        0.0   \nATM       3.117695   3.682573   3.480265   4.034744   2.684819   4.966707   \nSLC37A1   5.224581   3.942984   4.439623    2.62527    5.01614   2.992768   \n\n        ACH-000849 ACH-000028 ACH-000876 ACH-000621  ... ACH-000262  \\\nTIMP1     5.463034   7.698288   6.650046   9.230117  ...   7.008204   \nCHST2     0.070389   0.042644   0.028569   1.879706  ...   1.807355   \nFBXO27    1.356144   3.243364   1.794936   3.543496  ...   2.606442   \nDOCK3      1.85599   0.111031   0.070389   0.722466  ...   0.773996   \nLUZP4          0.0        0.0   0.014355        0.0  ...        0.0   \n...            ...        ...        ...        ...  ...        ...   \nTRIM24    4.053111   3.975447   3.200065   3.917432  ...   3.883621   \nPOFUT2    4.173127   4.276497   4.745775   4.772941  ...   5.070389   \nKRT33B         0.0        0.0        0.0   0.014355  ...   0.042644   \nATM       3.401903   2.664483   2.678072   4.011675  ...   4.517276   \nSLC37A1    4.78398   5.100557   4.801159    1.83996  ...    0.83996   \n\n        ACH-000060 ACH-000178 ACH-000222 ACH-000281 ACH-000265 ACH-000601  \\\nTIMP1     7.026579   8.383661   7.650693   7.743892   7.777354   9.250488   \nCHST2     0.214125   0.014355   2.166715   0.042644   1.405992   0.978196   \nFBXO27    1.400538   2.817623   0.028569   1.807355   4.140779   1.636915   \nDOCK3     0.389567   0.097611   0.475085   1.356144   1.589763   0.124328   \nLUZP4          0.0        0.0        0.0        0.0        0.0        0.0   \n...            ...        ...        ...        ...        ...        ...   \nTRIM24     3.15866   2.693766   2.386811   3.435629   3.080658   3.314697   \nPOFUT2    3.125982   4.720826   3.721373   4.190615   4.399171    4.06695   \nKRT33B    0.014355        0.0        0.0   0.111031        0.0        0.0   \nATM       4.519793   5.047887   4.812498   3.740928   5.123914   3.007196   \nSLC37A1   3.773996   4.048759   5.493775   3.553361   2.389567   1.137504   \n\n        ACH-000138 ACH-000320 ACH-000118  \nTIMP1     8.288359  11.755639   6.757023  \nCHST2     0.422233   0.632268   0.014355  \nFBXO27    1.989139   3.800123   0.722466  \nDOCK3     0.097611   0.189034   0.333424  \nLUZP4          0.0        0.0        0.0  \n...            ...        ...        ...  \nTRIM24    2.720278   2.769772   2.799087  \nPOFUT2    4.753284   3.971773    3.69933  \nKRT33B    0.014355        0.0        0.0  \nATM       4.075533   4.981396    3.06695  \nSLC37A1   4.713696   2.446256   3.738768  \n\n[9723 rows x 37 columns]",
      "text/html": "<div>\n<style scoped>\n    .dataframe tbody tr th:only-of-type {\n        vertical-align: middle;\n    }\n\n    .dataframe tbody tr th {\n        vertical-align: top;\n    }\n\n    .dataframe thead th {\n        text-align: right;\n    }\n</style>\n<table border=\"1\" class=\"dataframe\">\n  <thead>\n    <tr style=\"text-align: right;\">\n      <th></th>\n      <th>ACH-000352</th>\n      <th>ACH-000624</th>\n      <th>ACH-000223</th>\n      <th>ACH-000768</th>\n      <th>ACH-000725</th>\n      <th>ACH-000856</th>\n      <th>ACH-000849</th>\n      <th>ACH-000028</th>\n      <th>ACH-000876</th>\n      <th>ACH-000621</th>\n      <th>...</th>\n      <th>ACH-000262</th>\n      <th>ACH-000060</th>\n      <th>ACH-000178</th>\n      <th>ACH-000222</th>\n      <th>ACH-000281</th>\n      <th>ACH-000265</th>\n      <th>ACH-000601</th>\n      <th>ACH-000138</th>\n      <th>ACH-000320</th>\n      <th>ACH-000118</th>\n    </tr>\n  </thead>\n  <tbody>\n    <tr>\n      <th>TIMP1</th>\n      <td>6.20594</td>\n      <td>5.202418</td>\n      <td>7.034194</td>\n      <td>9.178715</td>\n      <td>3.849999</td>\n      <td>4.931683</td>\n      <td>5.463034</td>\n      <td>7.698288</td>\n      <td>6.650046</td>\n      <td>9.230117</td>\n      <td>...</td>\n      <td>7.008204</td>\n      <td>7.026579</td>\n      <td>8.383661</td>\n      <td>7.650693</td>\n      <td>7.743892</td>\n      <td>7.777354</td>\n      <td>9.250488</td>\n      <td>8.288359</td>\n      <td>11.755639</td>\n      <td>6.757023</td>\n    </tr>\n    <tr>\n      <th>CHST2</th>\n      <td>0.042644</td>\n      <td>0.056584</td>\n      <td>0.042644</td>\n      <td>2.881665</td>\n      <td>0.028569</td>\n      <td>3.473787</td>\n      <td>0.070389</td>\n      <td>0.042644</td>\n      <td>0.028569</td>\n      <td>1.879706</td>\n      <td>...</td>\n      <td>1.807355</td>\n      <td>0.214125</td>\n      <td>0.014355</td>\n      <td>2.166715</td>\n      <td>0.042644</td>\n      <td>1.405992</td>\n      <td>0.978196</td>\n      <td>0.422233</td>\n      <td>0.632268</td>\n      <td>0.014355</td>\n    </tr>\n    <tr>\n      <th>FBXO27</th>\n      <td>0.014355</td>\n      <td>3.533563</td>\n      <td>4.595146</td>\n      <td>3.713696</td>\n      <td>0.201634</td>\n      <td>3.401903</td>\n      <td>1.356144</td>\n      <td>3.243364</td>\n      <td>1.794936</td>\n      <td>3.543496</td>\n      <td>...</td>\n      <td>2.606442</td>\n      <td>1.400538</td>\n      <td>2.817623</td>\n      <td>0.028569</td>\n      <td>1.807355</td>\n      <td>4.140779</td>\n      <td>1.636915</td>\n      <td>1.989139</td>\n      <td>3.800123</td>\n      <td>0.722466</td>\n    </tr>\n    <tr>\n      <th>DOCK3</th>\n      <td>0.275007</td>\n      <td>0.070389</td>\n      <td>0.978196</td>\n      <td>0.495695</td>\n      <td>1.22033</td>\n      <td>0.163499</td>\n      <td>1.85599</td>\n      <td>0.111031</td>\n      <td>0.070389</td>\n      <td>0.722466</td>\n      <td>...</td>\n      <td>0.773996</td>\n      <td>0.389567</td>\n      <td>0.097611</td>\n      <td>0.475085</td>\n      <td>1.356144</td>\n      <td>1.589763</td>\n      <td>0.124328</td>\n      <td>0.097611</td>\n      <td>0.189034</td>\n      <td>0.333424</td>\n    </tr>\n    <tr>\n      <th>LUZP4</th>\n      <td>0.0</td>\n      <td>0.0</td>\n      <td>0.042644</td>\n      <td>0.0</td>\n      <td>0.0</td>\n      <td>0.028569</td>\n      <td>0.0</td>\n      <td>0.0</td>\n      <td>0.014355</td>\n      <td>0.0</td>\n      <td>...</td>\n      <td>0.0</td>\n      <td>0.0</td>\n      <td>0.0</td>\n      <td>0.0</td>\n      <td>0.0</td>\n      <td>0.0</td>\n      <td>0.0</td>\n      <td>0.0</td>\n      <td>0.0</td>\n      <td>0.0</td>\n    </tr>\n    <tr>\n      <th>...</th>\n      <td>...</td>\n      <td>...</td>\n      <td>...</td>\n      <td>...</td>\n      <td>...</td>\n      <td>...</td>\n      <td>...</td>\n      <td>...</td>\n      <td>...</td>\n      <td>...</td>\n      <td>...</td>\n      <td>...</td>\n      <td>...</td>\n      <td>...</td>\n      <td>...</td>\n      <td>...</td>\n      <td>...</td>\n      <td>...</td>\n      <td>...</td>\n      <td>...</td>\n      <td>...</td>\n    </tr>\n    <tr>\n      <th>TRIM24</th>\n      <td>4.31034</td>\n      <td>1.9855</td>\n      <td>3.058316</td>\n      <td>3.936402</td>\n      <td>4.892391</td>\n      <td>3.940167</td>\n      <td>4.053111</td>\n      <td>3.975447</td>\n      <td>3.200065</td>\n      <td>3.917432</td>\n      <td>...</td>\n      <td>3.883621</td>\n      <td>3.15866</td>\n      <td>2.693766</td>\n      <td>2.386811</td>\n      <td>3.435629</td>\n      <td>3.080658</td>\n      <td>3.314697</td>\n      <td>2.720278</td>\n      <td>2.769772</td>\n      <td>2.799087</td>\n    </tr>\n    <tr>\n      <th>POFUT2</th>\n      <td>3.95977</td>\n      <td>3.95977</td>\n      <td>4.088311</td>\n      <td>4.723012</td>\n      <td>5.249445</td>\n      <td>4.830357</td>\n      <td>4.173127</td>\n      <td>4.276497</td>\n      <td>4.745775</td>\n      <td>4.772941</td>\n      <td>...</td>\n      <td>5.070389</td>\n      <td>3.125982</td>\n      <td>4.720826</td>\n      <td>3.721373</td>\n      <td>4.190615</td>\n      <td>4.399171</td>\n      <td>4.06695</td>\n      <td>4.753284</td>\n      <td>3.971773</td>\n      <td>3.69933</td>\n    </tr>\n    <tr>\n      <th>KRT33B</th>\n      <td>0.0</td>\n      <td>0.0</td>\n      <td>0.056584</td>\n      <td>0.565597</td>\n      <td>0.014355</td>\n      <td>0.0</td>\n      <td>0.0</td>\n      <td>0.0</td>\n      <td>0.0</td>\n      <td>0.014355</td>\n      <td>...</td>\n      <td>0.042644</td>\n      <td>0.014355</td>\n      <td>0.0</td>\n      <td>0.0</td>\n      <td>0.111031</td>\n      <td>0.0</td>\n      <td>0.0</td>\n      <td>0.014355</td>\n      <td>0.0</td>\n      <td>0.0</td>\n    </tr>\n    <tr>\n      <th>ATM</th>\n      <td>3.117695</td>\n      <td>3.682573</td>\n      <td>3.480265</td>\n      <td>4.034744</td>\n      <td>2.684819</td>\n      <td>4.966707</td>\n      <td>3.401903</td>\n      <td>2.664483</td>\n      <td>2.678072</td>\n      <td>4.011675</td>\n      <td>...</td>\n      <td>4.517276</td>\n      <td>4.519793</td>\n      <td>5.047887</td>\n      <td>4.812498</td>\n      <td>3.740928</td>\n      <td>5.123914</td>\n      <td>3.007196</td>\n      <td>4.075533</td>\n      <td>4.981396</td>\n      <td>3.06695</td>\n    </tr>\n    <tr>\n      <th>SLC37A1</th>\n      <td>5.224581</td>\n      <td>3.942984</td>\n      <td>4.439623</td>\n      <td>2.62527</td>\n      <td>5.01614</td>\n      <td>2.992768</td>\n      <td>4.78398</td>\n      <td>5.100557</td>\n      <td>4.801159</td>\n      <td>1.83996</td>\n      <td>...</td>\n      <td>0.83996</td>\n      <td>3.773996</td>\n      <td>4.048759</td>\n      <td>5.493775</td>\n      <td>3.553361</td>\n      <td>2.389567</td>\n      <td>1.137504</td>\n      <td>4.713696</td>\n      <td>2.446256</td>\n      <td>3.738768</td>\n    </tr>\n  </tbody>\n</table>\n<p>9723 rows × 37 columns</p>\n</div>"
     },
     "execution_count": 28,
     "metadata": {},
     "output_type": "execute_result"
    }
   ],
   "source": [
    "# Load your matrix. Assuming it's already loaded into a DataFrame named 'matrix'\n",
    "# If it needs to be loaded from a file: matrix = pd.read_csv('your_matrix_file.csv')\n",
    " \n",
    "# Transpose the DataFrame\n",
    "exp_transposed = exp_data.T\n",
    "\n",
    "# Set the first row as the new headers\n",
    "exp_transposed.columns = exp_transposed.iloc[0]\n",
    "\n",
    "# Drop the first row\n",
    "exp_transposed = exp_transposed[1:]\n",
    "\n",
    "# Display the first few rows to check\n",
    "exp_transposed.head()\n",
    "\n",
    "# Get rid of everything after the space in the index (format is SYMBOL (Entrez ID))\n",
    "exp_transposed.index = exp_transposed.index.map(lambda x: x.split(' ')[0])\n",
    "\n",
    "# Remove the name of the index\n",
    "exp_transposed.index.name = None\n",
    "\n",
    "print(exp_transposed.index.name)\n",
    "\n",
    "# Filter matrix2 to have the same rows and columns as matrix1\n",
    "common_rows = gof_matrix.index.intersection(exp_transposed.index)\n",
    "common_columns = gof_matrix.columns.intersection(exp_transposed.columns)\n",
    "\n",
    "filtered_matrix = exp_transposed.loc[common_rows, common_columns]\n",
    "\n",
    "# Reorder rows and columns in filtered_matrix2 to match matrix1\n",
    "expression_matrix = filtered_matrix.reindex(index=gof_matrix.index, columns=gof_matrix.columns)\n",
    "\n",
    "expression_matrix"
   ],
   "metadata": {
    "collapsed": false,
    "ExecuteTime": {
     "end_time": "2023-12-30T17:04:08.191978900Z",
     "start_time": "2023-12-30T17:04:07.474471300Z"
    }
   },
   "id": "6cbc9b20390ba0de"
  },
  {
   "cell_type": "code",
   "execution_count": 29,
   "outputs": [
    {
     "name": "stdout",
     "output_type": "stream",
     "text": [
      "Number of null values: 0\n"
     ]
    }
   ],
   "source": [
    "# Check how many null values in the matrix. Shouldn't be any\n",
    "\n",
    "# Load your matrix DataFrame\n",
    "# For example: your_matrix = pd.read_csv('path_to_your_matrix.csv')\n",
    "# Replace 'your_matrix' with your actual DataFrame variable\n",
    "\n",
    "# Counting the number of values in the matrix that are equal to 10 and 0\n",
    "num_null_values = (expression_matrix == np.nan).sum().sum()\n",
    "\n",
    "print(\"Number of null values:\", num_null_values)"
   ],
   "metadata": {
    "collapsed": false,
    "ExecuteTime": {
     "end_time": "2023-12-30T17:04:15.800598600Z",
     "start_time": "2023-12-30T17:04:15.789581500Z"
    }
   },
   "id": "8589b8b5f5709201"
  },
  {
   "cell_type": "code",
   "execution_count": 30,
   "outputs": [
    {
     "name": "stdout",
     "output_type": "stream",
     "text": [
      "Both rows and columns match.\n"
     ]
    }
   ],
   "source": [
    "# Check that the expression matrix and lof_gof_matrix have identical rows and columns\n",
    "# This checks that the columns and row names match, and are in the same order\n",
    "\n",
    "# Check if row indices match\n",
    "rows_match = gof_matrix.index.equals(expression_matrix.index)\n",
    "\n",
    "# Check if column names match\n",
    "columns_match = gof_matrix.columns.equals(expression_matrix.columns)\n",
    "\n",
    "if rows_match and columns_match:\n",
    "    print(\"Both rows and columns match.\")\n",
    "else:\n",
    "    print(\"Rows match:\", rows_match)\n",
    "    print(\"Columns match:\", columns_match)"
   ],
   "metadata": {
    "collapsed": false,
    "ExecuteTime": {
     "end_time": "2023-12-30T17:04:21.850646200Z",
     "start_time": "2023-12-30T17:04:21.829790400Z"
    }
   },
   "id": "dc0a419975ab20da"
  },
  {
   "cell_type": "code",
   "execution_count": 31,
   "outputs": [
    {
     "data": {
      "text/plain": "        ACH-000352 ACH-000624 ACH-000223 ACH-000768 ACH-000725 ACH-000856  \\\nTIMP1      6.20594   5.202418   7.034194   9.178715   3.849999   4.931683   \nCHST2     0.042644   0.056584   0.042644   2.881665   0.028569   3.473787   \nFBXO27    0.014355   3.533563   4.595146   3.713696   0.201634   3.401903   \nDOCK3     0.275007   0.070389   0.978196   0.495695    1.22033   0.163499   \nLUZP4          0.0        0.0   0.042644        0.0        0.0   0.028569   \n...            ...        ...        ...        ...        ...        ...   \nTRIM24     4.31034     1.9855   3.058316   3.936402   4.892391   3.940167   \nPOFUT2     3.95977    3.95977   4.088311   4.723012   5.249445   4.830357   \nKRT33B         0.0        0.0   0.056584   0.565597   0.014355        0.0   \nATM       3.117695   3.682573   3.480265   4.034744   2.684819   4.966707   \nSLC37A1   5.224581   3.942984   4.439623    2.62527    5.01614   2.992768   \n\n        ACH-000849 ACH-000028 ACH-000876 ACH-000621  ... ACH-000262  \\\nTIMP1     5.463034   7.698288   6.650046   9.230117  ...   7.008204   \nCHST2     0.070389   0.042644   0.028569   1.879706  ...   1.807355   \nFBXO27    1.356144   3.243364   1.794936   3.543496  ...   2.606442   \nDOCK3      1.85599   0.111031   0.070389   0.722466  ...   0.773996   \nLUZP4          0.0        0.0   0.014355        0.0  ...        0.0   \n...            ...        ...        ...        ...  ...        ...   \nTRIM24    4.053111   3.975447   3.200065   3.917432  ...   3.883621   \nPOFUT2    4.173127   4.276497   4.745775   4.772941  ...   5.070389   \nKRT33B         0.0        0.0        0.0   0.014355  ...   0.042644   \nATM       3.401903   2.664483   2.678072   4.011675  ...   4.517276   \nSLC37A1    4.78398   5.100557   4.801159    1.83996  ...    0.83996   \n\n        ACH-000060 ACH-000178 ACH-000222 ACH-000281 ACH-000265 ACH-000601  \\\nTIMP1     7.026579   8.383661   7.650693   7.743892   7.777354   9.250488   \nCHST2     0.214125   0.014355   2.166715   0.042644   1.405992   0.978196   \nFBXO27    1.400538   2.817623   0.028569   1.807355   4.140779   1.636915   \nDOCK3     0.389567   0.097611   0.475085   1.356144   1.589763   0.124328   \nLUZP4          0.0        0.0        0.0        0.0        0.0        0.0   \n...            ...        ...        ...        ...        ...        ...   \nTRIM24     3.15866   2.693766   2.386811   3.435629   3.080658   3.314697   \nPOFUT2    3.125982   4.720826   3.721373   4.190615   4.399171    4.06695   \nKRT33B    0.014355        0.0        0.0   0.111031        0.0        0.0   \nATM       4.519793   5.047887   4.812498   3.740928   5.123914   3.007196   \nSLC37A1   3.773996   4.048759   5.493775   3.553361   2.389567   1.137504   \n\n        ACH-000138 ACH-000320 ACH-000118  \nTIMP1     8.288359  11.755639   6.757023  \nCHST2     0.422233   0.632268   0.014355  \nFBXO27    1.989139   3.800123   0.722466  \nDOCK3     0.097611   0.189034   0.333424  \nLUZP4          0.0        0.0        0.0  \n...            ...        ...        ...  \nTRIM24    2.720278   2.769772   2.799087  \nPOFUT2    4.753284   3.971773    3.69933  \nKRT33B    0.014355        0.0        0.0  \nATM       4.075533   4.981396    3.06695  \nSLC37A1   4.713696   2.446256   3.738768  \n\n[9723 rows x 37 columns]",
      "text/html": "<div>\n<style scoped>\n    .dataframe tbody tr th:only-of-type {\n        vertical-align: middle;\n    }\n\n    .dataframe tbody tr th {\n        vertical-align: top;\n    }\n\n    .dataframe thead th {\n        text-align: right;\n    }\n</style>\n<table border=\"1\" class=\"dataframe\">\n  <thead>\n    <tr style=\"text-align: right;\">\n      <th></th>\n      <th>ACH-000352</th>\n      <th>ACH-000624</th>\n      <th>ACH-000223</th>\n      <th>ACH-000768</th>\n      <th>ACH-000725</th>\n      <th>ACH-000856</th>\n      <th>ACH-000849</th>\n      <th>ACH-000028</th>\n      <th>ACH-000876</th>\n      <th>ACH-000621</th>\n      <th>...</th>\n      <th>ACH-000262</th>\n      <th>ACH-000060</th>\n      <th>ACH-000178</th>\n      <th>ACH-000222</th>\n      <th>ACH-000281</th>\n      <th>ACH-000265</th>\n      <th>ACH-000601</th>\n      <th>ACH-000138</th>\n      <th>ACH-000320</th>\n      <th>ACH-000118</th>\n    </tr>\n  </thead>\n  <tbody>\n    <tr>\n      <th>TIMP1</th>\n      <td>6.20594</td>\n      <td>5.202418</td>\n      <td>7.034194</td>\n      <td>9.178715</td>\n      <td>3.849999</td>\n      <td>4.931683</td>\n      <td>5.463034</td>\n      <td>7.698288</td>\n      <td>6.650046</td>\n      <td>9.230117</td>\n      <td>...</td>\n      <td>7.008204</td>\n      <td>7.026579</td>\n      <td>8.383661</td>\n      <td>7.650693</td>\n      <td>7.743892</td>\n      <td>7.777354</td>\n      <td>9.250488</td>\n      <td>8.288359</td>\n      <td>11.755639</td>\n      <td>6.757023</td>\n    </tr>\n    <tr>\n      <th>CHST2</th>\n      <td>0.042644</td>\n      <td>0.056584</td>\n      <td>0.042644</td>\n      <td>2.881665</td>\n      <td>0.028569</td>\n      <td>3.473787</td>\n      <td>0.070389</td>\n      <td>0.042644</td>\n      <td>0.028569</td>\n      <td>1.879706</td>\n      <td>...</td>\n      <td>1.807355</td>\n      <td>0.214125</td>\n      <td>0.014355</td>\n      <td>2.166715</td>\n      <td>0.042644</td>\n      <td>1.405992</td>\n      <td>0.978196</td>\n      <td>0.422233</td>\n      <td>0.632268</td>\n      <td>0.014355</td>\n    </tr>\n    <tr>\n      <th>FBXO27</th>\n      <td>0.014355</td>\n      <td>3.533563</td>\n      <td>4.595146</td>\n      <td>3.713696</td>\n      <td>0.201634</td>\n      <td>3.401903</td>\n      <td>1.356144</td>\n      <td>3.243364</td>\n      <td>1.794936</td>\n      <td>3.543496</td>\n      <td>...</td>\n      <td>2.606442</td>\n      <td>1.400538</td>\n      <td>2.817623</td>\n      <td>0.028569</td>\n      <td>1.807355</td>\n      <td>4.140779</td>\n      <td>1.636915</td>\n      <td>1.989139</td>\n      <td>3.800123</td>\n      <td>0.722466</td>\n    </tr>\n    <tr>\n      <th>DOCK3</th>\n      <td>0.275007</td>\n      <td>0.070389</td>\n      <td>0.978196</td>\n      <td>0.495695</td>\n      <td>1.22033</td>\n      <td>0.163499</td>\n      <td>1.85599</td>\n      <td>0.111031</td>\n      <td>0.070389</td>\n      <td>0.722466</td>\n      <td>...</td>\n      <td>0.773996</td>\n      <td>0.389567</td>\n      <td>0.097611</td>\n      <td>0.475085</td>\n      <td>1.356144</td>\n      <td>1.589763</td>\n      <td>0.124328</td>\n      <td>0.097611</td>\n      <td>0.189034</td>\n      <td>0.333424</td>\n    </tr>\n    <tr>\n      <th>LUZP4</th>\n      <td>0.0</td>\n      <td>0.0</td>\n      <td>0.042644</td>\n      <td>0.0</td>\n      <td>0.0</td>\n      <td>0.028569</td>\n      <td>0.0</td>\n      <td>0.0</td>\n      <td>0.014355</td>\n      <td>0.0</td>\n      <td>...</td>\n      <td>0.0</td>\n      <td>0.0</td>\n      <td>0.0</td>\n      <td>0.0</td>\n      <td>0.0</td>\n      <td>0.0</td>\n      <td>0.0</td>\n      <td>0.0</td>\n      <td>0.0</td>\n      <td>0.0</td>\n    </tr>\n    <tr>\n      <th>...</th>\n      <td>...</td>\n      <td>...</td>\n      <td>...</td>\n      <td>...</td>\n      <td>...</td>\n      <td>...</td>\n      <td>...</td>\n      <td>...</td>\n      <td>...</td>\n      <td>...</td>\n      <td>...</td>\n      <td>...</td>\n      <td>...</td>\n      <td>...</td>\n      <td>...</td>\n      <td>...</td>\n      <td>...</td>\n      <td>...</td>\n      <td>...</td>\n      <td>...</td>\n      <td>...</td>\n    </tr>\n    <tr>\n      <th>TRIM24</th>\n      <td>4.31034</td>\n      <td>1.9855</td>\n      <td>3.058316</td>\n      <td>3.936402</td>\n      <td>4.892391</td>\n      <td>3.940167</td>\n      <td>4.053111</td>\n      <td>3.975447</td>\n      <td>3.200065</td>\n      <td>3.917432</td>\n      <td>...</td>\n      <td>3.883621</td>\n      <td>3.15866</td>\n      <td>2.693766</td>\n      <td>2.386811</td>\n      <td>3.435629</td>\n      <td>3.080658</td>\n      <td>3.314697</td>\n      <td>2.720278</td>\n      <td>2.769772</td>\n      <td>2.799087</td>\n    </tr>\n    <tr>\n      <th>POFUT2</th>\n      <td>3.95977</td>\n      <td>3.95977</td>\n      <td>4.088311</td>\n      <td>4.723012</td>\n      <td>5.249445</td>\n      <td>4.830357</td>\n      <td>4.173127</td>\n      <td>4.276497</td>\n      <td>4.745775</td>\n      <td>4.772941</td>\n      <td>...</td>\n      <td>5.070389</td>\n      <td>3.125982</td>\n      <td>4.720826</td>\n      <td>3.721373</td>\n      <td>4.190615</td>\n      <td>4.399171</td>\n      <td>4.06695</td>\n      <td>4.753284</td>\n      <td>3.971773</td>\n      <td>3.69933</td>\n    </tr>\n    <tr>\n      <th>KRT33B</th>\n      <td>0.0</td>\n      <td>0.0</td>\n      <td>0.056584</td>\n      <td>0.565597</td>\n      <td>0.014355</td>\n      <td>0.0</td>\n      <td>0.0</td>\n      <td>0.0</td>\n      <td>0.0</td>\n      <td>0.014355</td>\n      <td>...</td>\n      <td>0.042644</td>\n      <td>0.014355</td>\n      <td>0.0</td>\n      <td>0.0</td>\n      <td>0.111031</td>\n      <td>0.0</td>\n      <td>0.0</td>\n      <td>0.014355</td>\n      <td>0.0</td>\n      <td>0.0</td>\n    </tr>\n    <tr>\n      <th>ATM</th>\n      <td>3.117695</td>\n      <td>3.682573</td>\n      <td>3.480265</td>\n      <td>4.034744</td>\n      <td>2.684819</td>\n      <td>4.966707</td>\n      <td>3.401903</td>\n      <td>2.664483</td>\n      <td>2.678072</td>\n      <td>4.011675</td>\n      <td>...</td>\n      <td>4.517276</td>\n      <td>4.519793</td>\n      <td>5.047887</td>\n      <td>4.812498</td>\n      <td>3.740928</td>\n      <td>5.123914</td>\n      <td>3.007196</td>\n      <td>4.075533</td>\n      <td>4.981396</td>\n      <td>3.06695</td>\n    </tr>\n    <tr>\n      <th>SLC37A1</th>\n      <td>5.224581</td>\n      <td>3.942984</td>\n      <td>4.439623</td>\n      <td>2.62527</td>\n      <td>5.01614</td>\n      <td>2.992768</td>\n      <td>4.78398</td>\n      <td>5.100557</td>\n      <td>4.801159</td>\n      <td>1.83996</td>\n      <td>...</td>\n      <td>0.83996</td>\n      <td>3.773996</td>\n      <td>4.048759</td>\n      <td>5.493775</td>\n      <td>3.553361</td>\n      <td>2.389567</td>\n      <td>1.137504</td>\n      <td>4.713696</td>\n      <td>2.446256</td>\n      <td>3.738768</td>\n    </tr>\n  </tbody>\n</table>\n<p>9723 rows × 37 columns</p>\n</div>"
     },
     "execution_count": 31,
     "metadata": {},
     "output_type": "execute_result"
    }
   ],
   "source": [
    "weights_matrix = expression_matrix * gof_matrix\n",
    "weights_matrix"
   ],
   "metadata": {
    "collapsed": false,
    "ExecuteTime": {
     "end_time": "2023-12-30T17:04:28.037097300Z",
     "start_time": "2023-12-30T17:04:28.021407400Z"
    }
   },
   "id": "b6b8ad21b5e1fdfb"
  },
  {
   "cell_type": "code",
   "execution_count": 32,
   "outputs": [
    {
     "name": "stdout",
     "output_type": "stream",
     "text": [
      "0.0285691521967709\n",
      "0.285691521967709\n"
     ]
    }
   ],
   "source": [
    "# Check a gain of function mutation to ensure the expression value has been multiplied by 10\n",
    "# 'RPS6KA6', 'ACH-000601' is GOF\n",
    "print(expression_matrix.loc['RPS6KA6', 'ACH-000601'])\n",
    "print(weights_matrix.loc['RPS6KA6', 'ACH-000601'])"
   ],
   "metadata": {
    "collapsed": false,
    "ExecuteTime": {
     "end_time": "2023-12-30T17:04:33.991758100Z",
     "start_time": "2023-12-30T17:04:33.973952400Z"
    }
   },
   "id": "47e6a2082730d033"
  },
  {
   "cell_type": "code",
   "execution_count": 33,
   "outputs": [
    {
     "name": "stdout",
     "output_type": "stream",
     "text": [
      "3.5372960670908418\n",
      "3.5372960670908418\n"
     ]
    }
   ],
   "source": [
    "# Check a loss of function mutation - this should not have changed yet\n",
    "# PINK1, ACH-000856 is LOF\n",
    "print(expression_matrix.loc['PINK1', 'ACH-000856'])\n",
    "print(weights_matrix.loc['PINK1', 'ACH-000856'])"
   ],
   "metadata": {
    "collapsed": false,
    "ExecuteTime": {
     "end_time": "2023-12-30T17:04:37.995524900Z",
     "start_time": "2023-12-30T17:04:37.985224200Z"
    }
   },
   "id": "8113b83fa488bd9e"
  },
  {
   "cell_type": "code",
   "execution_count": 38,
   "outputs": [
    {
     "data": {
      "text/plain": "         ACH-000352  ACH-000624  ACH-000223  ACH-000768  ACH-000725  \\\nTIMP1      0.025308    0.035631    0.019810    0.011730    0.063201   \nCHST2      0.998185    0.996809    0.998185    0.107481    0.999184   \nFBXO27     0.999794    0.074151    0.045217    0.067606    0.960932   \nDOCK3      0.929689    0.995070    0.511021    0.802753    0.401735   \nLUZP4      1.000000    1.000000    0.998185    1.000000    1.000000   \n...             ...         ...         ...         ...         ...   \nTRIM24     0.051075    0.202339    0.096588    0.060623    0.040103   \nPOFUT2     0.059953    0.059953    0.056452    0.042906    0.035018   \nKRT33B     1.000000    1.000000    0.996809    0.757633    0.999794   \nATM        0.093283    0.068675    0.076265    0.057873    0.121829   \nSLC37A1    0.035340    0.060433    0.048285    0.126710    0.038224   \n\n         ACH-000856  ACH-000849  ACH-000028  ACH-000876  ACH-000621  ...  \\\nTIMP1      0.039492    0.032420    0.016594    0.022113    0.011602  ...   \nCHST2      0.076528    0.995070    0.998185    0.999184    0.220590  ...   \nFBXO27     0.079536    0.352221    0.086810    0.236866    0.073766  ...   \nDOCK3      0.973964    0.224987    0.987822    0.995070    0.657049  ...   \nLUZP4      0.999184    1.000000    1.000000    0.999794    1.000000  ...   \n...             ...         ...         ...         ...         ...  ...   \nTRIM24     0.060515    0.057380    0.059509    0.088965    0.061176  ...   \nPOFUT2     0.041098    0.054304    0.051845    0.042513    0.042050  ...   \nKRT33B     1.000000    1.000000    1.000000    1.000000    0.999794  ...   \nATM        0.038959    0.079536    0.123465    0.122368    0.058502  ...   \nSLC37A1    0.100435    0.041865    0.037016    0.041578    0.228027  ...   \n\n         ACH-000262  ACH-000060  ACH-000178  ACH-000222  ACH-000281  \\\nTIMP1      0.019954    0.019852    0.014028    0.016797    0.016402   \nCHST2      0.234382    0.956161    0.999794    0.175603    0.998185   \nFBXO27     0.128311    0.337666    0.111869    0.999184    0.234382   \nDOCK3      0.625363    0.868235    0.990562    0.815857    0.352221   \nLUZP4      1.000000    1.000000    1.000000    1.000000    1.000000   \n...             ...         ...         ...         ...         ...   \nTRIM24     0.062179    0.091098    0.121119    0.149324    0.078103   \nPOFUT2     0.037441    0.092835    0.042944    0.067346    0.053876   \nKRT33B     0.998185    0.999794    1.000000    1.000000    0.987822   \nATM        0.046716    0.046667    0.037763    0.041390    0.066691   \nSLC37A1    0.586327    0.065604    0.057496    0.032070    0.073387   \n\n         ACH-000265  ACH-000601  ACH-000138  ACH-000320  ACH-000118  \nTIMP1      0.016264    0.011551    0.014348    0.007184    0.021433  \nCHST2      0.335930    0.511021    0.848694    0.714407    0.999794  \nFBXO27     0.055108    0.271777    0.201748    0.064763    0.657049  \nDOCK3      0.283499    0.984778    0.990562    0.965499    0.899951  \nLUZP4      1.000000    1.000000    1.000000    1.000000    1.000000  \n...             ...         ...         ...         ...         ...  \nTRIM24     0.095325    0.083422    0.119049    0.115319    0.113188  \nPOFUT2     0.049134    0.057012    0.042384    0.059613    0.068097  \nKRT33B     1.000000    1.000000    0.999794    1.000000    1.000000  \nATM        0.036691    0.099570    0.056786    0.038738    0.096097  \nSLC37A1    0.149031    0.435936    0.043068    0.143181    0.066763  \n\n[9723 rows x 37 columns]",
      "text/html": "<div>\n<style scoped>\n    .dataframe tbody tr th:only-of-type {\n        vertical-align: middle;\n    }\n\n    .dataframe tbody tr th {\n        vertical-align: top;\n    }\n\n    .dataframe thead th {\n        text-align: right;\n    }\n</style>\n<table border=\"1\" class=\"dataframe\">\n  <thead>\n    <tr style=\"text-align: right;\">\n      <th></th>\n      <th>ACH-000352</th>\n      <th>ACH-000624</th>\n      <th>ACH-000223</th>\n      <th>ACH-000768</th>\n      <th>ACH-000725</th>\n      <th>ACH-000856</th>\n      <th>ACH-000849</th>\n      <th>ACH-000028</th>\n      <th>ACH-000876</th>\n      <th>ACH-000621</th>\n      <th>...</th>\n      <th>ACH-000262</th>\n      <th>ACH-000060</th>\n      <th>ACH-000178</th>\n      <th>ACH-000222</th>\n      <th>ACH-000281</th>\n      <th>ACH-000265</th>\n      <th>ACH-000601</th>\n      <th>ACH-000138</th>\n      <th>ACH-000320</th>\n      <th>ACH-000118</th>\n    </tr>\n  </thead>\n  <tbody>\n    <tr>\n      <th>TIMP1</th>\n      <td>0.025308</td>\n      <td>0.035631</td>\n      <td>0.019810</td>\n      <td>0.011730</td>\n      <td>0.063201</td>\n      <td>0.039492</td>\n      <td>0.032420</td>\n      <td>0.016594</td>\n      <td>0.022113</td>\n      <td>0.011602</td>\n      <td>...</td>\n      <td>0.019954</td>\n      <td>0.019852</td>\n      <td>0.014028</td>\n      <td>0.016797</td>\n      <td>0.016402</td>\n      <td>0.016264</td>\n      <td>0.011551</td>\n      <td>0.014348</td>\n      <td>0.007184</td>\n      <td>0.021433</td>\n    </tr>\n    <tr>\n      <th>CHST2</th>\n      <td>0.998185</td>\n      <td>0.996809</td>\n      <td>0.998185</td>\n      <td>0.107481</td>\n      <td>0.999184</td>\n      <td>0.076528</td>\n      <td>0.995070</td>\n      <td>0.998185</td>\n      <td>0.999184</td>\n      <td>0.220590</td>\n      <td>...</td>\n      <td>0.234382</td>\n      <td>0.956161</td>\n      <td>0.999794</td>\n      <td>0.175603</td>\n      <td>0.998185</td>\n      <td>0.335930</td>\n      <td>0.511021</td>\n      <td>0.848694</td>\n      <td>0.714407</td>\n      <td>0.999794</td>\n    </tr>\n    <tr>\n      <th>FBXO27</th>\n      <td>0.999794</td>\n      <td>0.074151</td>\n      <td>0.045217</td>\n      <td>0.067606</td>\n      <td>0.960932</td>\n      <td>0.079536</td>\n      <td>0.352221</td>\n      <td>0.086810</td>\n      <td>0.236866</td>\n      <td>0.073766</td>\n      <td>...</td>\n      <td>0.128311</td>\n      <td>0.337666</td>\n      <td>0.111869</td>\n      <td>0.999184</td>\n      <td>0.234382</td>\n      <td>0.055108</td>\n      <td>0.271777</td>\n      <td>0.201748</td>\n      <td>0.064763</td>\n      <td>0.657049</td>\n    </tr>\n    <tr>\n      <th>DOCK3</th>\n      <td>0.929689</td>\n      <td>0.995070</td>\n      <td>0.511021</td>\n      <td>0.802753</td>\n      <td>0.401735</td>\n      <td>0.973964</td>\n      <td>0.224987</td>\n      <td>0.987822</td>\n      <td>0.995070</td>\n      <td>0.657049</td>\n      <td>...</td>\n      <td>0.625363</td>\n      <td>0.868235</td>\n      <td>0.990562</td>\n      <td>0.815857</td>\n      <td>0.352221</td>\n      <td>0.283499</td>\n      <td>0.984778</td>\n      <td>0.990562</td>\n      <td>0.965499</td>\n      <td>0.899951</td>\n    </tr>\n    <tr>\n      <th>LUZP4</th>\n      <td>1.000000</td>\n      <td>1.000000</td>\n      <td>0.998185</td>\n      <td>1.000000</td>\n      <td>1.000000</td>\n      <td>0.999184</td>\n      <td>1.000000</td>\n      <td>1.000000</td>\n      <td>0.999794</td>\n      <td>1.000000</td>\n      <td>...</td>\n      <td>1.000000</td>\n      <td>1.000000</td>\n      <td>1.000000</td>\n      <td>1.000000</td>\n      <td>1.000000</td>\n      <td>1.000000</td>\n      <td>1.000000</td>\n      <td>1.000000</td>\n      <td>1.000000</td>\n      <td>1.000000</td>\n    </tr>\n    <tr>\n      <th>...</th>\n      <td>...</td>\n      <td>...</td>\n      <td>...</td>\n      <td>...</td>\n      <td>...</td>\n      <td>...</td>\n      <td>...</td>\n      <td>...</td>\n      <td>...</td>\n      <td>...</td>\n      <td>...</td>\n      <td>...</td>\n      <td>...</td>\n      <td>...</td>\n      <td>...</td>\n      <td>...</td>\n      <td>...</td>\n      <td>...</td>\n      <td>...</td>\n      <td>...</td>\n      <td>...</td>\n    </tr>\n    <tr>\n      <th>TRIM24</th>\n      <td>0.051075</td>\n      <td>0.202339</td>\n      <td>0.096588</td>\n      <td>0.060623</td>\n      <td>0.040103</td>\n      <td>0.060515</td>\n      <td>0.057380</td>\n      <td>0.059509</td>\n      <td>0.088965</td>\n      <td>0.061176</td>\n      <td>...</td>\n      <td>0.062179</td>\n      <td>0.091098</td>\n      <td>0.121119</td>\n      <td>0.149324</td>\n      <td>0.078103</td>\n      <td>0.095325</td>\n      <td>0.083422</td>\n      <td>0.119049</td>\n      <td>0.115319</td>\n      <td>0.113188</td>\n    </tr>\n    <tr>\n      <th>POFUT2</th>\n      <td>0.059953</td>\n      <td>0.059953</td>\n      <td>0.056452</td>\n      <td>0.042906</td>\n      <td>0.035018</td>\n      <td>0.041098</td>\n      <td>0.054304</td>\n      <td>0.051845</td>\n      <td>0.042513</td>\n      <td>0.042050</td>\n      <td>...</td>\n      <td>0.037441</td>\n      <td>0.092835</td>\n      <td>0.042944</td>\n      <td>0.067346</td>\n      <td>0.053876</td>\n      <td>0.049134</td>\n      <td>0.057012</td>\n      <td>0.042384</td>\n      <td>0.059613</td>\n      <td>0.068097</td>\n    </tr>\n    <tr>\n      <th>KRT33B</th>\n      <td>1.000000</td>\n      <td>1.000000</td>\n      <td>0.996809</td>\n      <td>0.757633</td>\n      <td>0.999794</td>\n      <td>1.000000</td>\n      <td>1.000000</td>\n      <td>1.000000</td>\n      <td>1.000000</td>\n      <td>0.999794</td>\n      <td>...</td>\n      <td>0.998185</td>\n      <td>0.999794</td>\n      <td>1.000000</td>\n      <td>1.000000</td>\n      <td>0.987822</td>\n      <td>1.000000</td>\n      <td>1.000000</td>\n      <td>0.999794</td>\n      <td>1.000000</td>\n      <td>1.000000</td>\n    </tr>\n    <tr>\n      <th>ATM</th>\n      <td>0.093283</td>\n      <td>0.068675</td>\n      <td>0.076265</td>\n      <td>0.057873</td>\n      <td>0.121829</td>\n      <td>0.038959</td>\n      <td>0.079536</td>\n      <td>0.123465</td>\n      <td>0.122368</td>\n      <td>0.058502</td>\n      <td>...</td>\n      <td>0.046716</td>\n      <td>0.046667</td>\n      <td>0.037763</td>\n      <td>0.041390</td>\n      <td>0.066691</td>\n      <td>0.036691</td>\n      <td>0.099570</td>\n      <td>0.056786</td>\n      <td>0.038738</td>\n      <td>0.096097</td>\n    </tr>\n    <tr>\n      <th>SLC37A1</th>\n      <td>0.035340</td>\n      <td>0.060433</td>\n      <td>0.048285</td>\n      <td>0.126710</td>\n      <td>0.038224</td>\n      <td>0.100435</td>\n      <td>0.041865</td>\n      <td>0.037016</td>\n      <td>0.041578</td>\n      <td>0.228027</td>\n      <td>...</td>\n      <td>0.586327</td>\n      <td>0.065604</td>\n      <td>0.057496</td>\n      <td>0.032070</td>\n      <td>0.073387</td>\n      <td>0.149031</td>\n      <td>0.435936</td>\n      <td>0.043068</td>\n      <td>0.143181</td>\n      <td>0.066763</td>\n    </tr>\n  </tbody>\n</table>\n<p>9723 rows × 37 columns</p>\n</div>"
     },
     "execution_count": 38,
     "metadata": {},
     "output_type": "execute_result"
    }
   ],
   "source": [
    "# Define the tanh_parameter\n",
    "a = 0\n",
    "tanh_parameter = a/2\n",
    "scale = 'tanh'\n",
    "\n",
    "# Define the scale functions in a dictionary\n",
    "scale_functions = {'tanh':lambda x: 0.5-0.5*(math.tanh(tanh_parameter+math.log(x+1e-10))), 'inverse': lambda x:max(int(1/(x+1e-4)),1)}\n",
    "\n",
    "# Apply the selected scaling function to the dataframe (currently the 'tanh' function)\n",
    "expression_matrix_scaled = expression_matrix.applymap(scale_functions[scale])\n",
    "\n",
    "# Now set expression_matrix_scaled values to 1 where they correspond to rows in lof_mutations\n",
    "for index, row in lof_mutations.iterrows():\n",
    "    model_id = row['ModelID']\n",
    "    hugo_symbol = row['HugoSymbol']\n",
    "    if model_id in expression_matrix_scaled.columns and hugo_symbol in expression_matrix_scaled.index:\n",
    "        expression_matrix_scaled.at[hugo_symbol, model_id] = 0\n",
    "\n",
    "expression_matrix_scaled"
   ],
   "metadata": {
    "collapsed": false,
    "ExecuteTime": {
     "end_time": "2023-12-30T17:31:09.994739300Z",
     "start_time": "2023-12-30T17:31:09.750337500Z"
    }
   },
   "id": "8a6435fa65297223"
  },
  {
   "cell_type": "code",
   "execution_count": 40,
   "outputs": [
    {
     "name": "stdout",
     "output_type": "stream",
     "text": [
      "Number of values equal to 1: 1929\n"
     ]
    }
   ],
   "source": [
    "# Counting the number of values in the matrix that are equal to 0 - should match the number of LOF mutations\n",
    "num_values_equal_to_0 = (expression_matrix_scaled == 0).sum().sum()\n",
    "\n",
    "print(\"Number of values equal to 0:\", num_values_equal_to_0)"
   ],
   "metadata": {
    "collapsed": false,
    "ExecuteTime": {
     "end_time": "2023-12-30T17:31:32.203555800Z",
     "start_time": "2023-12-30T17:31:32.183572400Z"
    }
   },
   "id": "8aee294baa270ea4"
  },
  {
   "cell_type": "code",
   "execution_count": 42,
   "outputs": [],
   "source": [
    "# Write weights to csv\n",
    "expression_matrix_scaled.to_csv(data_path + 'dependant\\\\processed_weights\\\\reactome_raw_tanh_weights_original_lines_{}.csv'.format(a))"
   ],
   "metadata": {
    "collapsed": false,
    "ExecuteTime": {
     "end_time": "2023-12-30T18:26:03.464262100Z",
     "start_time": "2023-12-30T18:26:03.111678100Z"
    }
   },
   "id": "a126e57cedade0f4"
  },
  {
   "cell_type": "code",
   "execution_count": null,
   "outputs": [],
   "source": [],
   "metadata": {
    "collapsed": false
   },
   "id": "d8eb96cd59fbad92"
  }
 ],
 "metadata": {
  "kernelspec": {
   "display_name": "Python 3",
   "language": "python",
   "name": "python3"
  },
  "language_info": {
   "codemirror_mode": {
    "name": "ipython",
    "version": 2
   },
   "file_extension": ".py",
   "mimetype": "text/x-python",
   "name": "python",
   "nbconvert_exporter": "python",
   "pygments_lexer": "ipython2",
   "version": "2.7.6"
  }
 },
 "nbformat": 4,
 "nbformat_minor": 5
}
