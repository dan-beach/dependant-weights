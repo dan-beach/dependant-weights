{
 "cells": [
  {
   "cell_type": "code",
   "execution_count": 1,
   "id": "initial_id",
   "metadata": {
    "collapsed": true,
    "ExecuteTime": {
     "end_time": "2023-12-30T14:42:40.287551700Z",
     "start_time": "2023-12-30T14:42:40.004854600Z"
    }
   },
   "outputs": [],
   "source": [
    "import os\n",
    "import pandas as pd\n",
    "import numpy as np"
   ]
  },
  {
   "cell_type": "code",
   "execution_count": 2,
   "outputs": [
    {
     "data": {
      "text/plain": "['alphamissense',\n 'biomart',\n 'cell_gofs.csv',\n 'cell_lofs.csv',\n 'dependant',\n 'depmap',\n 'missing_gene_names.csv',\n 'pathway_commons',\n 'reactome',\n 'reactome_rows_to_drop.csv',\n 'string']"
     },
     "execution_count": 2,
     "metadata": {},
     "output_type": "execute_result"
    }
   ],
   "source": [
    "#data_path = '/home/db600/phd/data/depmap/'\n",
    "data_path = 'C:\\\\Users\\\\dan\\\\Documents\\\\phd\\\\data\\\\'\n",
    "#os.getcwd()\n",
    "os.listdir(data_path)"
   ],
   "metadata": {
    "collapsed": false,
    "ExecuteTime": {
     "end_time": "2023-12-30T14:42:40.303190100Z",
     "start_time": "2023-12-30T14:42:40.287551700Z"
    }
   },
   "id": "179b86c842de3041"
  },
  {
   "cell_type": "code",
   "execution_count": 3,
   "outputs": [],
   "source": [
    "dep_data = pd.read_csv(data_path + 'depmap\\\\CRISPRGeneDependency.csv') \n",
    "exp_data = pd.read_csv(data_path + 'depmap\\\\OmicsExpressionProteinCodingGenesTPMLogp1.csv')\n",
    "mut_data = pd.read_csv(data_path + 'depmap\\\\OmicsSomaticMutations.csv', low_memory=False)\n",
    "model_data = pd.read_csv(data_path + 'depmap\\\\Model.csv')\n",
    "ppi_data = pd.read_csv(data_path + 'dependant\\\\processed_ppi\\\\pathway_commons_reactome_sif.csv')"
   ],
   "metadata": {
    "collapsed": false,
    "ExecuteTime": {
     "end_time": "2023-12-30T14:43:05.191632200Z",
     "start_time": "2023-12-30T14:42:40.303190100Z"
    }
   },
   "id": "fdf1e9deafcaea28"
  },
  {
   "cell_type": "code",
   "execution_count": 4,
   "outputs": [
    {
     "data": {
      "text/plain": "      ModelID  A1BG (1)  A1CF (29974)   A2M (2)  A2ML1 (144568)  \\\n0  ACH-000001  0.055321      0.014039  0.014084        0.033828   \n1  ACH-000004  0.023418      0.048724  0.058084        0.019483   \n2  ACH-000005  0.059552      0.025478  0.009989        0.008775   \n3  ACH-000007  0.023880      0.035082  0.006556        0.004322   \n4  ACH-000009  0.027652      0.074860  0.011021        0.009153   \n\n   A3GALT2 (127550)  A4GALT (53947)  A4GNT (51146)  AAAS (8086)  AACS (65985)  \\\n0          0.049511        0.004955       0.026993     0.131006      0.003102   \n1          0.049793        0.064472       0.001775     0.071289      0.003732   \n2          0.099322        0.099572       0.007544     0.049601      0.047555   \n3          0.022200        0.017121       0.009605     0.149378      0.052873   \n4          0.021632        0.067758       0.013559     0.216796      0.013660   \n\n   ...  ZWILCH (55055)  ZWINT (11130)  ZXDA (7789)  ZXDB (158586)  \\\n0  ...        0.047757       0.047806     0.007155       0.002537   \n1  ...        0.044517       0.471009     0.005096       0.015149   \n2  ...        0.073457       0.281892     0.044789       0.058229   \n3  ...        0.160608       0.593581     0.017412       0.001892   \n4  ...        0.181632       0.342313     0.042414       0.002859   \n\n   ZXDC (79364)  ZYG11A (440590)  ZYG11B (79699)  ZYX (7791)  ZZEF1 (23140)  \\\n0      0.003660         0.154849        0.015792    0.015999       0.006200   \n1      0.009804         0.015507        0.319598    0.007778       0.004392   \n2      0.029638         0.097357        0.066269    0.025365       0.042530   \n3      0.006432         0.029261        0.369101    0.015412       0.165622   \n4      0.058070         0.053355        0.651365    0.012016       0.023990   \n\n   ZZZ3 (26009)  \n0      0.436777  \n1      0.048136  \n2      0.096150  \n3      0.366325  \n4      0.312202  \n\n[5 rows x 17932 columns]",
      "text/html": "<div>\n<style scoped>\n    .dataframe tbody tr th:only-of-type {\n        vertical-align: middle;\n    }\n\n    .dataframe tbody tr th {\n        vertical-align: top;\n    }\n\n    .dataframe thead th {\n        text-align: right;\n    }\n</style>\n<table border=\"1\" class=\"dataframe\">\n  <thead>\n    <tr style=\"text-align: right;\">\n      <th></th>\n      <th>ModelID</th>\n      <th>A1BG (1)</th>\n      <th>A1CF (29974)</th>\n      <th>A2M (2)</th>\n      <th>A2ML1 (144568)</th>\n      <th>A3GALT2 (127550)</th>\n      <th>A4GALT (53947)</th>\n      <th>A4GNT (51146)</th>\n      <th>AAAS (8086)</th>\n      <th>AACS (65985)</th>\n      <th>...</th>\n      <th>ZWILCH (55055)</th>\n      <th>ZWINT (11130)</th>\n      <th>ZXDA (7789)</th>\n      <th>ZXDB (158586)</th>\n      <th>ZXDC (79364)</th>\n      <th>ZYG11A (440590)</th>\n      <th>ZYG11B (79699)</th>\n      <th>ZYX (7791)</th>\n      <th>ZZEF1 (23140)</th>\n      <th>ZZZ3 (26009)</th>\n    </tr>\n  </thead>\n  <tbody>\n    <tr>\n      <th>0</th>\n      <td>ACH-000001</td>\n      <td>0.055321</td>\n      <td>0.014039</td>\n      <td>0.014084</td>\n      <td>0.033828</td>\n      <td>0.049511</td>\n      <td>0.004955</td>\n      <td>0.026993</td>\n      <td>0.131006</td>\n      <td>0.003102</td>\n      <td>...</td>\n      <td>0.047757</td>\n      <td>0.047806</td>\n      <td>0.007155</td>\n      <td>0.002537</td>\n      <td>0.003660</td>\n      <td>0.154849</td>\n      <td>0.015792</td>\n      <td>0.015999</td>\n      <td>0.006200</td>\n      <td>0.436777</td>\n    </tr>\n    <tr>\n      <th>1</th>\n      <td>ACH-000004</td>\n      <td>0.023418</td>\n      <td>0.048724</td>\n      <td>0.058084</td>\n      <td>0.019483</td>\n      <td>0.049793</td>\n      <td>0.064472</td>\n      <td>0.001775</td>\n      <td>0.071289</td>\n      <td>0.003732</td>\n      <td>...</td>\n      <td>0.044517</td>\n      <td>0.471009</td>\n      <td>0.005096</td>\n      <td>0.015149</td>\n      <td>0.009804</td>\n      <td>0.015507</td>\n      <td>0.319598</td>\n      <td>0.007778</td>\n      <td>0.004392</td>\n      <td>0.048136</td>\n    </tr>\n    <tr>\n      <th>2</th>\n      <td>ACH-000005</td>\n      <td>0.059552</td>\n      <td>0.025478</td>\n      <td>0.009989</td>\n      <td>0.008775</td>\n      <td>0.099322</td>\n      <td>0.099572</td>\n      <td>0.007544</td>\n      <td>0.049601</td>\n      <td>0.047555</td>\n      <td>...</td>\n      <td>0.073457</td>\n      <td>0.281892</td>\n      <td>0.044789</td>\n      <td>0.058229</td>\n      <td>0.029638</td>\n      <td>0.097357</td>\n      <td>0.066269</td>\n      <td>0.025365</td>\n      <td>0.042530</td>\n      <td>0.096150</td>\n    </tr>\n    <tr>\n      <th>3</th>\n      <td>ACH-000007</td>\n      <td>0.023880</td>\n      <td>0.035082</td>\n      <td>0.006556</td>\n      <td>0.004322</td>\n      <td>0.022200</td>\n      <td>0.017121</td>\n      <td>0.009605</td>\n      <td>0.149378</td>\n      <td>0.052873</td>\n      <td>...</td>\n      <td>0.160608</td>\n      <td>0.593581</td>\n      <td>0.017412</td>\n      <td>0.001892</td>\n      <td>0.006432</td>\n      <td>0.029261</td>\n      <td>0.369101</td>\n      <td>0.015412</td>\n      <td>0.165622</td>\n      <td>0.366325</td>\n    </tr>\n    <tr>\n      <th>4</th>\n      <td>ACH-000009</td>\n      <td>0.027652</td>\n      <td>0.074860</td>\n      <td>0.011021</td>\n      <td>0.009153</td>\n      <td>0.021632</td>\n      <td>0.067758</td>\n      <td>0.013559</td>\n      <td>0.216796</td>\n      <td>0.013660</td>\n      <td>...</td>\n      <td>0.181632</td>\n      <td>0.342313</td>\n      <td>0.042414</td>\n      <td>0.002859</td>\n      <td>0.058070</td>\n      <td>0.053355</td>\n      <td>0.651365</td>\n      <td>0.012016</td>\n      <td>0.023990</td>\n      <td>0.312202</td>\n    </tr>\n  </tbody>\n</table>\n<p>5 rows × 17932 columns</p>\n</div>"
     },
     "execution_count": 4,
     "metadata": {},
     "output_type": "execute_result"
    }
   ],
   "source": [
    "dep_data.head()"
   ],
   "metadata": {
    "collapsed": false,
    "ExecuteTime": {
     "end_time": "2023-12-30T14:43:05.254580300Z",
     "start_time": "2023-12-30T14:43:05.191632200Z"
    }
   },
   "id": "93637e9288777f68"
  },
  {
   "cell_type": "code",
   "execution_count": 5,
   "outputs": [
    {
     "data": {
      "text/plain": "  Chrom       Pos Ref Alt     AF  RefCount  AltCount   GT          PS  \\\n0  chr1   1242864  GC  CT  0.310        19         8  0/1         NaN   \n1  chr1  10647969   A   G  0.400        29        19  0|1  10647969.0   \n2  chr1  10648097   T   G  0.349        21        10  0/1         NaN   \n3  chr1  13198424   G   A  0.833         0         4  0/1         NaN   \n4  chr1  13225068   A   G  0.396        34        24  0/1         NaN   \n\n  VariantType  ... RevelScore Funseq2Score PharmgkbID DidaID DidaName  \\\n0         DNP  ...        NaN          NaN        NaN    NaN      NaN   \n1         SNP  ...      0.234          3.0        NaN    NaN      NaN   \n2         SNP  ...        NaN          0.0        NaN    NaN      NaN   \n3         SNP  ...      0.002          NaN        NaN    NaN      NaN   \n4         SNP  ...        NaN          0.0        NaN    NaN      NaN   \n\n  GwasDisease GwasPmID  GTexGene     ModelID EntrezGeneID  \n0         NaN      NaN       NaN  ACH-000839     388581.0  \n1         NaN      NaN       NaN  ACH-000839      54897.0  \n2         NaN      NaN       NaN  ACH-000839      54897.0  \n3         NaN      NaN       NaN  ACH-000839     400736.0  \n4         NaN      NaN       NaN  ACH-000839     391003.0  \n\n[5 rows x 56 columns]",
      "text/html": "<div>\n<style scoped>\n    .dataframe tbody tr th:only-of-type {\n        vertical-align: middle;\n    }\n\n    .dataframe tbody tr th {\n        vertical-align: top;\n    }\n\n    .dataframe thead th {\n        text-align: right;\n    }\n</style>\n<table border=\"1\" class=\"dataframe\">\n  <thead>\n    <tr style=\"text-align: right;\">\n      <th></th>\n      <th>Chrom</th>\n      <th>Pos</th>\n      <th>Ref</th>\n      <th>Alt</th>\n      <th>AF</th>\n      <th>RefCount</th>\n      <th>AltCount</th>\n      <th>GT</th>\n      <th>PS</th>\n      <th>VariantType</th>\n      <th>...</th>\n      <th>RevelScore</th>\n      <th>Funseq2Score</th>\n      <th>PharmgkbID</th>\n      <th>DidaID</th>\n      <th>DidaName</th>\n      <th>GwasDisease</th>\n      <th>GwasPmID</th>\n      <th>GTexGene</th>\n      <th>ModelID</th>\n      <th>EntrezGeneID</th>\n    </tr>\n  </thead>\n  <tbody>\n    <tr>\n      <th>0</th>\n      <td>chr1</td>\n      <td>1242864</td>\n      <td>GC</td>\n      <td>CT</td>\n      <td>0.310</td>\n      <td>19</td>\n      <td>8</td>\n      <td>0/1</td>\n      <td>NaN</td>\n      <td>DNP</td>\n      <td>...</td>\n      <td>NaN</td>\n      <td>NaN</td>\n      <td>NaN</td>\n      <td>NaN</td>\n      <td>NaN</td>\n      <td>NaN</td>\n      <td>NaN</td>\n      <td>NaN</td>\n      <td>ACH-000839</td>\n      <td>388581.0</td>\n    </tr>\n    <tr>\n      <th>1</th>\n      <td>chr1</td>\n      <td>10647969</td>\n      <td>A</td>\n      <td>G</td>\n      <td>0.400</td>\n      <td>29</td>\n      <td>19</td>\n      <td>0|1</td>\n      <td>10647969.0</td>\n      <td>SNP</td>\n      <td>...</td>\n      <td>0.234</td>\n      <td>3.0</td>\n      <td>NaN</td>\n      <td>NaN</td>\n      <td>NaN</td>\n      <td>NaN</td>\n      <td>NaN</td>\n      <td>NaN</td>\n      <td>ACH-000839</td>\n      <td>54897.0</td>\n    </tr>\n    <tr>\n      <th>2</th>\n      <td>chr1</td>\n      <td>10648097</td>\n      <td>T</td>\n      <td>G</td>\n      <td>0.349</td>\n      <td>21</td>\n      <td>10</td>\n      <td>0/1</td>\n      <td>NaN</td>\n      <td>SNP</td>\n      <td>...</td>\n      <td>NaN</td>\n      <td>0.0</td>\n      <td>NaN</td>\n      <td>NaN</td>\n      <td>NaN</td>\n      <td>NaN</td>\n      <td>NaN</td>\n      <td>NaN</td>\n      <td>ACH-000839</td>\n      <td>54897.0</td>\n    </tr>\n    <tr>\n      <th>3</th>\n      <td>chr1</td>\n      <td>13198424</td>\n      <td>G</td>\n      <td>A</td>\n      <td>0.833</td>\n      <td>0</td>\n      <td>4</td>\n      <td>0/1</td>\n      <td>NaN</td>\n      <td>SNP</td>\n      <td>...</td>\n      <td>0.002</td>\n      <td>NaN</td>\n      <td>NaN</td>\n      <td>NaN</td>\n      <td>NaN</td>\n      <td>NaN</td>\n      <td>NaN</td>\n      <td>NaN</td>\n      <td>ACH-000839</td>\n      <td>400736.0</td>\n    </tr>\n    <tr>\n      <th>4</th>\n      <td>chr1</td>\n      <td>13225068</td>\n      <td>A</td>\n      <td>G</td>\n      <td>0.396</td>\n      <td>34</td>\n      <td>24</td>\n      <td>0/1</td>\n      <td>NaN</td>\n      <td>SNP</td>\n      <td>...</td>\n      <td>NaN</td>\n      <td>0.0</td>\n      <td>NaN</td>\n      <td>NaN</td>\n      <td>NaN</td>\n      <td>NaN</td>\n      <td>NaN</td>\n      <td>NaN</td>\n      <td>ACH-000839</td>\n      <td>391003.0</td>\n    </tr>\n  </tbody>\n</table>\n<p>5 rows × 56 columns</p>\n</div>"
     },
     "execution_count": 5,
     "metadata": {},
     "output_type": "execute_result"
    }
   ],
   "source": [
    "mut_data.head()"
   ],
   "metadata": {
    "collapsed": false,
    "ExecuteTime": {
     "end_time": "2023-12-30T14:43:05.301378900Z",
     "start_time": "2023-12-30T14:43:05.222843Z"
    }
   },
   "id": "a7ef3b0ecaf023be"
  },
  {
   "cell_type": "code",
   "execution_count": 6,
   "outputs": [
    {
     "data": {
      "text/plain": "   Unnamed: 0  TSPAN6 (7105)  TNMD (64102)  DPM1 (8813)  SCYL3 (57147)  \\\n0  ACH-001113       4.331992      0.000000     7.364660       2.792855   \n1  ACH-001289       4.567424      0.584963     7.106641       2.543496   \n2  ACH-001339       3.150560      0.000000     7.379118       2.333424   \n3  ACH-001538       5.085340      0.000000     7.154211       2.545968   \n4  ACH-000242       6.729417      0.000000     6.537917       2.456806   \n\n   C1orf112 (55732)  FGR (2268)  CFH (3075)  FUCA2 (2519)  GCLC (2729)  ...  \\\n0          4.471187    0.028569    1.226509      3.044394     6.500005  ...   \n1          3.504620    0.000000    0.189034      3.813525     4.221877  ...   \n2          4.228049    0.056584    1.310340      6.687201     3.682573  ...   \n3          3.084064    0.000000    5.868390      6.165309     4.489928  ...   \n4          3.867896    0.799087    7.208478      5.570159     7.127117  ...   \n\n   H3C2 (8358)  H3C3 (8352)  AC098582.1 (8916)  DUS4L-BCAP29 (115253422)  \\\n0     2.689299     0.189034           0.201634                  2.130931   \n1     1.286881     1.049631           0.321928                  1.464668   \n2     0.594549     1.097611           0.831877                  2.946731   \n3     0.214125     0.632268           0.298658                  1.641546   \n4     1.117695     2.358959           0.084064                  1.910733   \n\n   C8orf44-SGK3 (100533105)  ELOA3B (728929)  NPBWR1 (2831)  \\\n0                  0.555816              0.0       0.275007   \n1                  0.632268              0.0       0.014355   \n2                  0.475085              0.0       0.084064   \n3                  0.443607              0.0       0.028569   \n4                  0.000000              0.0       0.464668   \n\n   ELOA3D (100506888)  ELOA3 (162699)  CDR1 (1038)  \n0                 0.0             0.0     0.000000  \n1                 0.0             0.0     0.000000  \n2                 0.0             0.0     0.042644  \n3                 0.0             0.0     0.000000  \n4                 0.0             0.0     0.000000  \n\n[5 rows x 19194 columns]",
      "text/html": "<div>\n<style scoped>\n    .dataframe tbody tr th:only-of-type {\n        vertical-align: middle;\n    }\n\n    .dataframe tbody tr th {\n        vertical-align: top;\n    }\n\n    .dataframe thead th {\n        text-align: right;\n    }\n</style>\n<table border=\"1\" class=\"dataframe\">\n  <thead>\n    <tr style=\"text-align: right;\">\n      <th></th>\n      <th>Unnamed: 0</th>\n      <th>TSPAN6 (7105)</th>\n      <th>TNMD (64102)</th>\n      <th>DPM1 (8813)</th>\n      <th>SCYL3 (57147)</th>\n      <th>C1orf112 (55732)</th>\n      <th>FGR (2268)</th>\n      <th>CFH (3075)</th>\n      <th>FUCA2 (2519)</th>\n      <th>GCLC (2729)</th>\n      <th>...</th>\n      <th>H3C2 (8358)</th>\n      <th>H3C3 (8352)</th>\n      <th>AC098582.1 (8916)</th>\n      <th>DUS4L-BCAP29 (115253422)</th>\n      <th>C8orf44-SGK3 (100533105)</th>\n      <th>ELOA3B (728929)</th>\n      <th>NPBWR1 (2831)</th>\n      <th>ELOA3D (100506888)</th>\n      <th>ELOA3 (162699)</th>\n      <th>CDR1 (1038)</th>\n    </tr>\n  </thead>\n  <tbody>\n    <tr>\n      <th>0</th>\n      <td>ACH-001113</td>\n      <td>4.331992</td>\n      <td>0.000000</td>\n      <td>7.364660</td>\n      <td>2.792855</td>\n      <td>4.471187</td>\n      <td>0.028569</td>\n      <td>1.226509</td>\n      <td>3.044394</td>\n      <td>6.500005</td>\n      <td>...</td>\n      <td>2.689299</td>\n      <td>0.189034</td>\n      <td>0.201634</td>\n      <td>2.130931</td>\n      <td>0.555816</td>\n      <td>0.0</td>\n      <td>0.275007</td>\n      <td>0.0</td>\n      <td>0.0</td>\n      <td>0.000000</td>\n    </tr>\n    <tr>\n      <th>1</th>\n      <td>ACH-001289</td>\n      <td>4.567424</td>\n      <td>0.584963</td>\n      <td>7.106641</td>\n      <td>2.543496</td>\n      <td>3.504620</td>\n      <td>0.000000</td>\n      <td>0.189034</td>\n      <td>3.813525</td>\n      <td>4.221877</td>\n      <td>...</td>\n      <td>1.286881</td>\n      <td>1.049631</td>\n      <td>0.321928</td>\n      <td>1.464668</td>\n      <td>0.632268</td>\n      <td>0.0</td>\n      <td>0.014355</td>\n      <td>0.0</td>\n      <td>0.0</td>\n      <td>0.000000</td>\n    </tr>\n    <tr>\n      <th>2</th>\n      <td>ACH-001339</td>\n      <td>3.150560</td>\n      <td>0.000000</td>\n      <td>7.379118</td>\n      <td>2.333424</td>\n      <td>4.228049</td>\n      <td>0.056584</td>\n      <td>1.310340</td>\n      <td>6.687201</td>\n      <td>3.682573</td>\n      <td>...</td>\n      <td>0.594549</td>\n      <td>1.097611</td>\n      <td>0.831877</td>\n      <td>2.946731</td>\n      <td>0.475085</td>\n      <td>0.0</td>\n      <td>0.084064</td>\n      <td>0.0</td>\n      <td>0.0</td>\n      <td>0.042644</td>\n    </tr>\n    <tr>\n      <th>3</th>\n      <td>ACH-001538</td>\n      <td>5.085340</td>\n      <td>0.000000</td>\n      <td>7.154211</td>\n      <td>2.545968</td>\n      <td>3.084064</td>\n      <td>0.000000</td>\n      <td>5.868390</td>\n      <td>6.165309</td>\n      <td>4.489928</td>\n      <td>...</td>\n      <td>0.214125</td>\n      <td>0.632268</td>\n      <td>0.298658</td>\n      <td>1.641546</td>\n      <td>0.443607</td>\n      <td>0.0</td>\n      <td>0.028569</td>\n      <td>0.0</td>\n      <td>0.0</td>\n      <td>0.000000</td>\n    </tr>\n    <tr>\n      <th>4</th>\n      <td>ACH-000242</td>\n      <td>6.729417</td>\n      <td>0.000000</td>\n      <td>6.537917</td>\n      <td>2.456806</td>\n      <td>3.867896</td>\n      <td>0.799087</td>\n      <td>7.208478</td>\n      <td>5.570159</td>\n      <td>7.127117</td>\n      <td>...</td>\n      <td>1.117695</td>\n      <td>2.358959</td>\n      <td>0.084064</td>\n      <td>1.910733</td>\n      <td>0.000000</td>\n      <td>0.0</td>\n      <td>0.464668</td>\n      <td>0.0</td>\n      <td>0.0</td>\n      <td>0.000000</td>\n    </tr>\n  </tbody>\n</table>\n<p>5 rows × 19194 columns</p>\n</div>"
     },
     "execution_count": 6,
     "metadata": {},
     "output_type": "execute_result"
    }
   ],
   "source": [
    "exp_data.head()"
   ],
   "metadata": {
    "collapsed": false,
    "ExecuteTime": {
     "end_time": "2023-12-30T14:43:05.348690800Z",
     "start_time": "2023-12-30T14:43:05.254580300Z"
    }
   },
   "id": "fa25d249bbb6794f"
  },
  {
   "cell_type": "code",
   "execution_count": 7,
   "outputs": [
    {
     "name": "stdout",
     "output_type": "stream",
     "text": [
      "329941\n"
     ]
    },
    {
     "data": {
      "text/plain": "  PARTICIPANT_A PARTICIPANT_B\n0          A1CF       APOBEC2\n1          A1CF      APOBEC3A\n2          A1CF      APOBEC3B\n3          A1CF      APOBEC3C\n4          A1CF      APOBEC3H",
      "text/html": "<div>\n<style scoped>\n    .dataframe tbody tr th:only-of-type {\n        vertical-align: middle;\n    }\n\n    .dataframe tbody tr th {\n        vertical-align: top;\n    }\n\n    .dataframe thead th {\n        text-align: right;\n    }\n</style>\n<table border=\"1\" class=\"dataframe\">\n  <thead>\n    <tr style=\"text-align: right;\">\n      <th></th>\n      <th>PARTICIPANT_A</th>\n      <th>PARTICIPANT_B</th>\n    </tr>\n  </thead>\n  <tbody>\n    <tr>\n      <th>0</th>\n      <td>A1CF</td>\n      <td>APOBEC2</td>\n    </tr>\n    <tr>\n      <th>1</th>\n      <td>A1CF</td>\n      <td>APOBEC3A</td>\n    </tr>\n    <tr>\n      <th>2</th>\n      <td>A1CF</td>\n      <td>APOBEC3B</td>\n    </tr>\n    <tr>\n      <th>3</th>\n      <td>A1CF</td>\n      <td>APOBEC3C</td>\n    </tr>\n    <tr>\n      <th>4</th>\n      <td>A1CF</td>\n      <td>APOBEC3H</td>\n    </tr>\n  </tbody>\n</table>\n</div>"
     },
     "execution_count": 7,
     "metadata": {},
     "output_type": "execute_result"
    }
   ],
   "source": [
    "print(len(ppi_data))\n",
    "ppi_data.head()"
   ],
   "metadata": {
    "collapsed": false,
    "ExecuteTime": {
     "end_time": "2023-12-30T14:43:05.364315400Z",
     "start_time": "2023-12-30T14:43:05.285766800Z"
    }
   },
   "id": "ef42c6ef19fcf132"
  },
  {
   "cell_type": "code",
   "execution_count": 8,
   "outputs": [
    {
     "data": {
      "text/plain": "             CCLEName     ModelID\n0      HCC1428_BREAST  ACH-000352\n1      HCC1806_BREAST  ACH-000624\n2      HCC1937_BREAST  ACH-000223\n3     MDAMB231_BREAST  ACH-000768\n4       HCC202_BREAST  ACH-000725\n5        CAL51_BREAST  ACH-000856\n6     MDAMB468_BREAST  ACH-000849\n7         KPL1_BREAST  ACH-000028\n8     MDAMB415_BREAST  ACH-000876\n9     MDAMB157_BREAST  ACH-000621\n10    MDAMB453_BREAST  ACH-000910\n11     HCC1954_BREAST  ACH-000859\n12      HS578T_BREAST  ACH-000148\n13       ZR751_BREAST  ACH-000097\n14       AU565_BREAST  ACH-000248\n15    MDAMB436_BREAST  ACH-000573\n16       EFM19_BREAST  ACH-000330\n17     HCC1143_BREAST  ACH-000374\n18     HCC1395_BREAST  ACH-000699\n19   TUHR10TKB_KIDNEY  ACH-000459\n20       KMRC1_KIDNEY  ACH-000684\n21       SLR23_KIDNEY  ACH-000246\n22       OSRC2_KIDNEY  ACH-000159\n23      SNU349_KIDNEY  ACH-000907\n24       SLR20_KIDNEY  ACH-000127\n25     BFTC909_KIDNEY  ACH-000792\n26    TUHR4TKB_KIDNEY  ACH-000495\n27       CAKI2_KIDNEY  ACH-000234\n28       SLR26_KIDNEY  ACH-000600\n29      UOK101_KIDNEY  ACH-000262\n30  PANC1005_PANCREAS  ACH-000060\n31    HS766T_PANCREAS  ACH-000178\n32     ASPC1_PANCREAS  ACH-000222\n33       KP2_PANCREAS  ACH-000281\n34       KP4_PANCREAS  ACH-000265\n35  MIAPACA2_PANCREAS  ACH-000601\n36    CFPAC1_PANCREAS  ACH-000138\n37      PSN1_PANCREAS  ACH-000320\n38     HUPT3_PANCREAS  ACH-000118",
      "text/html": "<div>\n<style scoped>\n    .dataframe tbody tr th:only-of-type {\n        vertical-align: middle;\n    }\n\n    .dataframe tbody tr th {\n        vertical-align: top;\n    }\n\n    .dataframe thead th {\n        text-align: right;\n    }\n</style>\n<table border=\"1\" class=\"dataframe\">\n  <thead>\n    <tr style=\"text-align: right;\">\n      <th></th>\n      <th>CCLEName</th>\n      <th>ModelID</th>\n    </tr>\n  </thead>\n  <tbody>\n    <tr>\n      <th>0</th>\n      <td>HCC1428_BREAST</td>\n      <td>ACH-000352</td>\n    </tr>\n    <tr>\n      <th>1</th>\n      <td>HCC1806_BREAST</td>\n      <td>ACH-000624</td>\n    </tr>\n    <tr>\n      <th>2</th>\n      <td>HCC1937_BREAST</td>\n      <td>ACH-000223</td>\n    </tr>\n    <tr>\n      <th>3</th>\n      <td>MDAMB231_BREAST</td>\n      <td>ACH-000768</td>\n    </tr>\n    <tr>\n      <th>4</th>\n      <td>HCC202_BREAST</td>\n      <td>ACH-000725</td>\n    </tr>\n    <tr>\n      <th>5</th>\n      <td>CAL51_BREAST</td>\n      <td>ACH-000856</td>\n    </tr>\n    <tr>\n      <th>6</th>\n      <td>MDAMB468_BREAST</td>\n      <td>ACH-000849</td>\n    </tr>\n    <tr>\n      <th>7</th>\n      <td>KPL1_BREAST</td>\n      <td>ACH-000028</td>\n    </tr>\n    <tr>\n      <th>8</th>\n      <td>MDAMB415_BREAST</td>\n      <td>ACH-000876</td>\n    </tr>\n    <tr>\n      <th>9</th>\n      <td>MDAMB157_BREAST</td>\n      <td>ACH-000621</td>\n    </tr>\n    <tr>\n      <th>10</th>\n      <td>MDAMB453_BREAST</td>\n      <td>ACH-000910</td>\n    </tr>\n    <tr>\n      <th>11</th>\n      <td>HCC1954_BREAST</td>\n      <td>ACH-000859</td>\n    </tr>\n    <tr>\n      <th>12</th>\n      <td>HS578T_BREAST</td>\n      <td>ACH-000148</td>\n    </tr>\n    <tr>\n      <th>13</th>\n      <td>ZR751_BREAST</td>\n      <td>ACH-000097</td>\n    </tr>\n    <tr>\n      <th>14</th>\n      <td>AU565_BREAST</td>\n      <td>ACH-000248</td>\n    </tr>\n    <tr>\n      <th>15</th>\n      <td>MDAMB436_BREAST</td>\n      <td>ACH-000573</td>\n    </tr>\n    <tr>\n      <th>16</th>\n      <td>EFM19_BREAST</td>\n      <td>ACH-000330</td>\n    </tr>\n    <tr>\n      <th>17</th>\n      <td>HCC1143_BREAST</td>\n      <td>ACH-000374</td>\n    </tr>\n    <tr>\n      <th>18</th>\n      <td>HCC1395_BREAST</td>\n      <td>ACH-000699</td>\n    </tr>\n    <tr>\n      <th>19</th>\n      <td>TUHR10TKB_KIDNEY</td>\n      <td>ACH-000459</td>\n    </tr>\n    <tr>\n      <th>20</th>\n      <td>KMRC1_KIDNEY</td>\n      <td>ACH-000684</td>\n    </tr>\n    <tr>\n      <th>21</th>\n      <td>SLR23_KIDNEY</td>\n      <td>ACH-000246</td>\n    </tr>\n    <tr>\n      <th>22</th>\n      <td>OSRC2_KIDNEY</td>\n      <td>ACH-000159</td>\n    </tr>\n    <tr>\n      <th>23</th>\n      <td>SNU349_KIDNEY</td>\n      <td>ACH-000907</td>\n    </tr>\n    <tr>\n      <th>24</th>\n      <td>SLR20_KIDNEY</td>\n      <td>ACH-000127</td>\n    </tr>\n    <tr>\n      <th>25</th>\n      <td>BFTC909_KIDNEY</td>\n      <td>ACH-000792</td>\n    </tr>\n    <tr>\n      <th>26</th>\n      <td>TUHR4TKB_KIDNEY</td>\n      <td>ACH-000495</td>\n    </tr>\n    <tr>\n      <th>27</th>\n      <td>CAKI2_KIDNEY</td>\n      <td>ACH-000234</td>\n    </tr>\n    <tr>\n      <th>28</th>\n      <td>SLR26_KIDNEY</td>\n      <td>ACH-000600</td>\n    </tr>\n    <tr>\n      <th>29</th>\n      <td>UOK101_KIDNEY</td>\n      <td>ACH-000262</td>\n    </tr>\n    <tr>\n      <th>30</th>\n      <td>PANC1005_PANCREAS</td>\n      <td>ACH-000060</td>\n    </tr>\n    <tr>\n      <th>31</th>\n      <td>HS766T_PANCREAS</td>\n      <td>ACH-000178</td>\n    </tr>\n    <tr>\n      <th>32</th>\n      <td>ASPC1_PANCREAS</td>\n      <td>ACH-000222</td>\n    </tr>\n    <tr>\n      <th>33</th>\n      <td>KP2_PANCREAS</td>\n      <td>ACH-000281</td>\n    </tr>\n    <tr>\n      <th>34</th>\n      <td>KP4_PANCREAS</td>\n      <td>ACH-000265</td>\n    </tr>\n    <tr>\n      <th>35</th>\n      <td>MIAPACA2_PANCREAS</td>\n      <td>ACH-000601</td>\n    </tr>\n    <tr>\n      <th>36</th>\n      <td>CFPAC1_PANCREAS</td>\n      <td>ACH-000138</td>\n    </tr>\n    <tr>\n      <th>37</th>\n      <td>PSN1_PANCREAS</td>\n      <td>ACH-000320</td>\n    </tr>\n    <tr>\n      <th>38</th>\n      <td>HUPT3_PANCREAS</td>\n      <td>ACH-000118</td>\n    </tr>\n  </tbody>\n</table>\n</div>"
     },
     "execution_count": 8,
     "metadata": {},
     "output_type": "execute_result"
    }
   ],
   "source": [
    "# Get list of training cell lines used in original program\n",
    "# Manually saved to CSV earlier\n",
    "original_cell_lines = pd.read_csv(data_path + 'dependant\\\\original_training_cell_lines.csv')\n",
    "original_cell_lines = original_cell_lines.rename(columns={'cell_line': 'CCLEName'})\n",
    "\n",
    "# Add depmap model ID to the list of original training cell lines\n",
    "original_cell_lines = pd.merge(original_cell_lines, model_data[['ModelID', 'CCLEName']], on='CCLEName', how='left')\n",
    "\n",
    "# View the cell line list\n",
    "original_cell_lines"
   ],
   "metadata": {
    "collapsed": false,
    "ExecuteTime": {
     "end_time": "2023-12-30T14:43:05.364315400Z",
     "start_time": "2023-12-30T14:43:05.301378900Z"
    }
   },
   "id": "79b9764888482b0c"
  },
  {
   "cell_type": "code",
   "execution_count": 9,
   "outputs": [
    {
     "data": {
      "text/plain": "             CCLEName     ModelID\n0      HCC1428_BREAST  ACH-000352\n1      HCC1806_BREAST  ACH-000624\n2      HCC1937_BREAST  ACH-000223\n3     MDAMB231_BREAST  ACH-000768\n4       HCC202_BREAST  ACH-000725\n5        CAL51_BREAST  ACH-000856\n6     MDAMB468_BREAST  ACH-000849\n7         KPL1_BREAST  ACH-000028\n8     MDAMB415_BREAST  ACH-000876\n9     MDAMB157_BREAST  ACH-000621\n10    MDAMB453_BREAST  ACH-000910\n11     HCC1954_BREAST  ACH-000859\n12      HS578T_BREAST  ACH-000148\n13       ZR751_BREAST  ACH-000097\n14       AU565_BREAST  ACH-000248\n15    MDAMB436_BREAST  ACH-000573\n16       EFM19_BREAST  ACH-000330\n17     HCC1143_BREAST  ACH-000374\n18     HCC1395_BREAST  ACH-000699\n19   TUHR10TKB_KIDNEY  ACH-000459\n20       KMRC1_KIDNEY  ACH-000684\n22       OSRC2_KIDNEY  ACH-000159\n23      SNU349_KIDNEY  ACH-000907\n24       SLR20_KIDNEY  ACH-000127\n25     BFTC909_KIDNEY  ACH-000792\n26    TUHR4TKB_KIDNEY  ACH-000495\n27       CAKI2_KIDNEY  ACH-000234\n29      UOK101_KIDNEY  ACH-000262\n30  PANC1005_PANCREAS  ACH-000060\n31    HS766T_PANCREAS  ACH-000178\n32     ASPC1_PANCREAS  ACH-000222\n33       KP2_PANCREAS  ACH-000281\n34       KP4_PANCREAS  ACH-000265\n35  MIAPACA2_PANCREAS  ACH-000601\n36    CFPAC1_PANCREAS  ACH-000138\n37      PSN1_PANCREAS  ACH-000320\n38     HUPT3_PANCREAS  ACH-000118",
      "text/html": "<div>\n<style scoped>\n    .dataframe tbody tr th:only-of-type {\n        vertical-align: middle;\n    }\n\n    .dataframe tbody tr th {\n        vertical-align: top;\n    }\n\n    .dataframe thead th {\n        text-align: right;\n    }\n</style>\n<table border=\"1\" class=\"dataframe\">\n  <thead>\n    <tr style=\"text-align: right;\">\n      <th></th>\n      <th>CCLEName</th>\n      <th>ModelID</th>\n    </tr>\n  </thead>\n  <tbody>\n    <tr>\n      <th>0</th>\n      <td>HCC1428_BREAST</td>\n      <td>ACH-000352</td>\n    </tr>\n    <tr>\n      <th>1</th>\n      <td>HCC1806_BREAST</td>\n      <td>ACH-000624</td>\n    </tr>\n    <tr>\n      <th>2</th>\n      <td>HCC1937_BREAST</td>\n      <td>ACH-000223</td>\n    </tr>\n    <tr>\n      <th>3</th>\n      <td>MDAMB231_BREAST</td>\n      <td>ACH-000768</td>\n    </tr>\n    <tr>\n      <th>4</th>\n      <td>HCC202_BREAST</td>\n      <td>ACH-000725</td>\n    </tr>\n    <tr>\n      <th>5</th>\n      <td>CAL51_BREAST</td>\n      <td>ACH-000856</td>\n    </tr>\n    <tr>\n      <th>6</th>\n      <td>MDAMB468_BREAST</td>\n      <td>ACH-000849</td>\n    </tr>\n    <tr>\n      <th>7</th>\n      <td>KPL1_BREAST</td>\n      <td>ACH-000028</td>\n    </tr>\n    <tr>\n      <th>8</th>\n      <td>MDAMB415_BREAST</td>\n      <td>ACH-000876</td>\n    </tr>\n    <tr>\n      <th>9</th>\n      <td>MDAMB157_BREAST</td>\n      <td>ACH-000621</td>\n    </tr>\n    <tr>\n      <th>10</th>\n      <td>MDAMB453_BREAST</td>\n      <td>ACH-000910</td>\n    </tr>\n    <tr>\n      <th>11</th>\n      <td>HCC1954_BREAST</td>\n      <td>ACH-000859</td>\n    </tr>\n    <tr>\n      <th>12</th>\n      <td>HS578T_BREAST</td>\n      <td>ACH-000148</td>\n    </tr>\n    <tr>\n      <th>13</th>\n      <td>ZR751_BREAST</td>\n      <td>ACH-000097</td>\n    </tr>\n    <tr>\n      <th>14</th>\n      <td>AU565_BREAST</td>\n      <td>ACH-000248</td>\n    </tr>\n    <tr>\n      <th>15</th>\n      <td>MDAMB436_BREAST</td>\n      <td>ACH-000573</td>\n    </tr>\n    <tr>\n      <th>16</th>\n      <td>EFM19_BREAST</td>\n      <td>ACH-000330</td>\n    </tr>\n    <tr>\n      <th>17</th>\n      <td>HCC1143_BREAST</td>\n      <td>ACH-000374</td>\n    </tr>\n    <tr>\n      <th>18</th>\n      <td>HCC1395_BREAST</td>\n      <td>ACH-000699</td>\n    </tr>\n    <tr>\n      <th>19</th>\n      <td>TUHR10TKB_KIDNEY</td>\n      <td>ACH-000459</td>\n    </tr>\n    <tr>\n      <th>20</th>\n      <td>KMRC1_KIDNEY</td>\n      <td>ACH-000684</td>\n    </tr>\n    <tr>\n      <th>22</th>\n      <td>OSRC2_KIDNEY</td>\n      <td>ACH-000159</td>\n    </tr>\n    <tr>\n      <th>23</th>\n      <td>SNU349_KIDNEY</td>\n      <td>ACH-000907</td>\n    </tr>\n    <tr>\n      <th>24</th>\n      <td>SLR20_KIDNEY</td>\n      <td>ACH-000127</td>\n    </tr>\n    <tr>\n      <th>25</th>\n      <td>BFTC909_KIDNEY</td>\n      <td>ACH-000792</td>\n    </tr>\n    <tr>\n      <th>26</th>\n      <td>TUHR4TKB_KIDNEY</td>\n      <td>ACH-000495</td>\n    </tr>\n    <tr>\n      <th>27</th>\n      <td>CAKI2_KIDNEY</td>\n      <td>ACH-000234</td>\n    </tr>\n    <tr>\n      <th>29</th>\n      <td>UOK101_KIDNEY</td>\n      <td>ACH-000262</td>\n    </tr>\n    <tr>\n      <th>30</th>\n      <td>PANC1005_PANCREAS</td>\n      <td>ACH-000060</td>\n    </tr>\n    <tr>\n      <th>31</th>\n      <td>HS766T_PANCREAS</td>\n      <td>ACH-000178</td>\n    </tr>\n    <tr>\n      <th>32</th>\n      <td>ASPC1_PANCREAS</td>\n      <td>ACH-000222</td>\n    </tr>\n    <tr>\n      <th>33</th>\n      <td>KP2_PANCREAS</td>\n      <td>ACH-000281</td>\n    </tr>\n    <tr>\n      <th>34</th>\n      <td>KP4_PANCREAS</td>\n      <td>ACH-000265</td>\n    </tr>\n    <tr>\n      <th>35</th>\n      <td>MIAPACA2_PANCREAS</td>\n      <td>ACH-000601</td>\n    </tr>\n    <tr>\n      <th>36</th>\n      <td>CFPAC1_PANCREAS</td>\n      <td>ACH-000138</td>\n    </tr>\n    <tr>\n      <th>37</th>\n      <td>PSN1_PANCREAS</td>\n      <td>ACH-000320</td>\n    </tr>\n    <tr>\n      <th>38</th>\n      <td>HUPT3_PANCREAS</td>\n      <td>ACH-000118</td>\n    </tr>\n  </tbody>\n</table>\n</div>"
     },
     "execution_count": 9,
     "metadata": {},
     "output_type": "execute_result"
    }
   ],
   "source": [
    "# Get list of cell lines that present are in:\n",
    "# 1) Our starting pool of cell lines of interest\n",
    "# 2) Also present in the dependency, mutation and expression data\n",
    "\n",
    "cell_lines_of_interest = set(original_cell_lines['ModelID'])\n",
    "dep_cell_lines = set(dep_data['ModelID'])\n",
    "exp_cell_lines = set(exp_data['Unnamed: 0'])\n",
    "mut_cell_lines = set(mut_data['ModelID'])\n",
    "\n",
    "# Find the intersection of the 4 sets\n",
    "valid_cell_lines = cell_lines_of_interest & dep_cell_lines & exp_cell_lines & mut_cell_lines\n",
    "\n",
    "# Use this to select a subset of the original cell lines df\n",
    "valid_cell_lines = original_cell_lines[original_cell_lines['ModelID'].isin(valid_cell_lines)]\n",
    "\n",
    "valid_cell_lines"
   ],
   "metadata": {
    "collapsed": false,
    "ExecuteTime": {
     "end_time": "2023-12-30T14:43:05.489863900Z",
     "start_time": "2023-12-30T14:43:05.317009300Z"
    }
   },
   "id": "f547f2a7d3306c66"
  },
  {
   "cell_type": "code",
   "execution_count": 10,
   "outputs": [
    {
     "name": "stdout",
     "output_type": "stream",
     "text": [
      "9723\n"
     ]
    },
    {
     "data": {
      "text/plain": "{'CPD',\n 'ZNF3',\n 'CPOX',\n 'STARD7',\n 'CAPNS1',\n 'RASGRP3',\n 'SIGLEC5',\n 'CASP2',\n 'SPAG9',\n 'FBF1',\n 'FGFBP2',\n 'HERC1',\n 'PPFIA3',\n 'DNAJC3',\n 'SDC1',\n 'NR1D2',\n 'OR4N2',\n 'LIMD1',\n 'GCC2',\n 'MAGOHB',\n 'RPS15',\n 'CACNA2D3',\n 'RASA2',\n 'TEK',\n 'NOP58',\n 'OR5H15',\n 'ARL6IP5',\n 'KIT',\n 'PTGFR',\n 'DCAF16',\n 'SLC25A19',\n 'ADAMTS17',\n 'CPE',\n 'GPR45',\n 'COL1A2',\n 'CIDEC',\n 'PRKCI',\n 'ACKR3',\n 'RAB10',\n 'SALL4',\n 'TOR1B',\n 'TP53RK',\n 'GSK3B',\n 'LUM',\n 'CTSC',\n 'MPRIP',\n 'IL36A',\n 'TNFRSF25',\n 'ZNF662',\n 'RIN1',\n 'CDH3',\n 'ATG16L1',\n 'RAB15',\n 'COL5A2',\n 'HSPA5',\n 'KCNK13',\n 'SACM1L',\n 'FGFR1',\n 'NSDHL',\n 'ATP1A4',\n 'CXCL8',\n 'ARNT2',\n 'AK8',\n 'DCUN1D3',\n 'IFI6',\n 'TNFSF10',\n 'DDO',\n 'ITGA4',\n 'TNKS1BP1',\n 'UGT2B17',\n 'SNRPB2',\n 'ARSH',\n 'MIF',\n 'SLC1A2',\n 'DENND1B',\n 'TBC1D16',\n 'IDI2',\n 'MT1F',\n 'GNB3',\n 'LIN7C',\n 'VCPIP1',\n 'MED24',\n 'ATG4D',\n 'NDE1',\n 'ALAS2',\n 'HDAC8',\n 'IL17RB',\n 'DCPS',\n 'EIF4A2',\n 'PTPRU',\n 'ACADL',\n 'COL5A1',\n 'ARFGAP3',\n 'COPG1',\n 'MRS2',\n 'WDR4',\n 'SLC9C2',\n 'GATA5',\n 'RBMX',\n 'LAS1L',\n 'IZUMO2',\n 'LMO2',\n 'SLC1A1',\n 'GPC4',\n 'PSMC6',\n 'SLC35C1',\n 'ARV1',\n 'CDX2',\n 'SEC13',\n 'RIOK1',\n 'PGR',\n 'CATSPER4',\n 'HNRNPDL',\n 'ZNF664',\n 'DAPK1',\n 'SMO',\n 'FAU',\n 'PIK3R4',\n 'ACTG2',\n 'DHFR2',\n 'TNRC6A',\n 'LSR',\n 'VDAC3',\n 'CHCHD3',\n 'POLH',\n 'GABBR2',\n 'BPIFB2',\n 'UGGT2',\n 'ELMO2',\n 'NUP50',\n 'CYP1B1',\n 'DTX1',\n 'XYLB',\n 'GPAT4',\n 'PRKCQ',\n 'APEX1',\n 'RHCG',\n 'AMACR',\n 'SV2B',\n 'UNC13B',\n 'TIMELESS',\n 'PAXIP1',\n 'ZNF613',\n 'AGTRAP',\n 'SLC6A2',\n 'GRM5',\n 'ZNF830',\n 'EPHA8',\n 'ZNF599',\n 'HSD3B7',\n 'MYH14',\n 'ANGPT1',\n 'PIP5K1A',\n 'TSPAN7',\n 'CHRNA7',\n 'SYCP2',\n 'CDH11',\n 'NUDT9',\n 'HSD3B1',\n 'ARHGAP20',\n 'OR2M7',\n 'ARHGAP26',\n 'POLR2E',\n 'ACOT1',\n 'ALDH5A1',\n 'NME7',\n 'TGFB3',\n 'CCNA1',\n 'TBC1D10C',\n 'DPH3',\n 'GAS1',\n 'SLC16A7',\n 'SRSF3',\n 'UBA7',\n 'NR5A1',\n 'HERC6',\n 'SLC7A11',\n 'VEGFC',\n 'ADAM17',\n 'ETHE1',\n 'EDEM1',\n 'CHN1',\n 'CIAO1',\n 'GPX5',\n 'ZNF496',\n 'CCL3L3',\n 'MMP14',\n 'EPHA2',\n 'GEN1',\n 'WAPL',\n 'CEP192',\n 'TAS2R4',\n 'PCBP1',\n 'CD52',\n 'BAP1',\n 'CAPN13',\n 'MST1',\n 'OR2W1',\n 'OR4D2',\n 'KCNQ3',\n 'FN3K',\n 'GCAT',\n 'KCNMB4',\n 'BCAR1',\n 'TLR7',\n 'TDRD1',\n 'CDK5',\n 'MYB',\n 'REEP6',\n 'HOMER2',\n 'SLCO1C1',\n 'RPL38',\n 'AIP',\n 'SNX9',\n 'GPR17',\n 'ETNPPL',\n 'RANGAP1',\n 'CHCHD10',\n 'SGIP1',\n 'EPHA1',\n 'FBXL12',\n 'MYO7A',\n 'TEX101',\n 'LRP10',\n 'TYW3',\n 'IDH3G',\n 'ZNF28',\n 'MRPL36',\n 'MAG',\n 'KLF15',\n 'UBIAD1',\n 'ZFAND6',\n 'SPINK9',\n 'BCL2L14',\n 'ARHGEF39',\n 'SCN2B',\n 'BRPF3',\n 'LALBA',\n 'SLC1A5',\n 'ZNF566',\n 'HES5',\n 'CHEK2',\n 'CATSPER3',\n 'RAB3GAP1',\n 'ERCC1',\n 'ATP8B3',\n 'ZNF331',\n 'CXCL11',\n 'SMG6',\n 'NGEF',\n 'MYL12A',\n 'ZNF641',\n 'ACADM',\n 'ZNF681',\n 'OR2H1',\n 'SNU13',\n 'MRPL32',\n 'EREG',\n 'CACNG3',\n 'KCNJ15',\n 'ARPC1A',\n 'ENPP7',\n 'MRPL45',\n 'POP1',\n 'GEMIN8',\n 'UGT2A3',\n 'TPP1',\n 'UTS2R',\n 'ZNF688',\n 'MLH1',\n 'TRIP11',\n 'ABRAXAS1',\n 'HEXA',\n 'UGT1A9',\n 'EPHB3',\n 'SAG',\n 'DEFB135',\n 'NRBF2',\n 'PLXND1',\n 'ALDH8A1',\n 'MGMT',\n 'UGT3A1',\n 'TBCA',\n 'CD40',\n 'CLP1',\n 'PITPNM3',\n 'MFAP2',\n 'HPGD',\n 'E2F6',\n 'RAB40C',\n 'SNRPA',\n 'SRSF9',\n 'WIF1',\n 'CDKAL1',\n 'OR1D5',\n 'SIRT6',\n 'OR51B5',\n 'GDNF',\n 'ACTR1B',\n 'CREB3L3',\n 'NDUFS5',\n 'OR1M1',\n 'PRKACA',\n 'ARHGAP1',\n 'SDR9C7',\n 'AK3',\n 'SLC26A7',\n 'CYC1',\n 'SOX6',\n 'OR2S2',\n 'NUDT3',\n 'USP17L13',\n 'MAFG',\n 'FGFR4',\n 'GPSM1',\n 'ZMYM2',\n 'ZNF425',\n 'GPCPD1',\n 'SRP14',\n 'ZNRF2',\n 'TRIM11',\n 'GGPS1',\n 'IL23A',\n 'EFTUD2',\n 'UCK2',\n 'ARHGEF37',\n 'CANX',\n 'RPS21',\n 'KANSL1',\n 'MMP16',\n 'NDUFV1',\n 'IL16',\n 'POFUT2',\n 'MEFV',\n 'ULK3',\n 'WBP4',\n 'KIF15',\n 'NRP1',\n 'NAE1',\n 'RAB6A',\n 'RXRA',\n 'ST8SIA3',\n 'PHYKPL',\n 'MMAB',\n 'OR2F2',\n 'PLA2G4E',\n 'STAT2',\n 'FBXW2',\n 'PFKP',\n 'OR2C1',\n 'TNNI1',\n 'FGF5',\n 'RNF130',\n 'STIP1',\n 'CAMK2B',\n 'PRPF19',\n 'RPL21',\n 'RNASEL',\n 'TCF3',\n 'UACA',\n 'SND1',\n 'DCSTAMP',\n 'TET2',\n 'TRIP10',\n 'ARHGAP24',\n 'MDC1',\n 'PENK',\n 'OR2Z1',\n 'HSPD1',\n 'LCN9',\n 'MMP13',\n 'TYRP1',\n 'RABEP1',\n 'STX16',\n 'ARIH1',\n 'APBA1',\n 'GJC1',\n 'HAUS3',\n 'CNDP2',\n 'GPC3',\n 'TRMT61B',\n 'OR5F1',\n 'ARHGEF40',\n 'ZNF75D',\n 'DOHH',\n 'EEFSEC',\n 'LCE3A',\n 'TUBGCP3',\n 'TNFRSF18',\n 'NPR1',\n 'BCL2',\n 'SNRPF',\n 'DUSP3',\n 'ERBB3',\n 'TFAP2C',\n 'EIF3G',\n 'NTS',\n 'TRIM13',\n 'KLRB1',\n 'THUMPD1',\n 'CLCA4',\n 'KRT20',\n 'CKM',\n 'DHDDS',\n 'UBE2V1',\n 'CBR1',\n 'ERAP2',\n 'KCNH1',\n 'OR52B2',\n 'PDYN',\n 'GYS2',\n 'CDKN1C',\n 'GSTM2',\n 'MED27',\n 'TSPAN33',\n 'SERINC3',\n 'SLC2A3',\n 'CCL21',\n 'CASP10',\n 'EPM2A',\n 'LCE4A',\n 'MEN1',\n 'MT1A',\n 'SIRPA',\n 'RGS14',\n 'STARD3NL',\n 'FBXO41',\n 'NPTN',\n 'SMG8',\n 'RNF182',\n 'CPN1',\n 'RAI1',\n 'GNA14',\n 'STRADA',\n 'FOLH1',\n 'DKC1',\n 'TAPBP',\n 'CAPN3',\n 'RNASE3',\n 'NXF1',\n 'PABPC1',\n 'NOSIP',\n 'ARID1A',\n 'DDX17',\n 'DMD',\n 'CFD',\n 'MAGI2',\n 'B3GALNT1',\n 'GRHPR',\n 'CHRNA9',\n 'CCL28',\n 'HMGCL',\n 'MMP2',\n 'KRT28',\n 'NUP155',\n 'KIF17',\n 'RANBP1',\n 'UBE2E3',\n 'RHAG',\n 'AVPR2',\n 'OR52E4',\n 'OR9K2',\n 'KMT2D',\n 'PCGF6',\n 'CAND1',\n 'FOXK2',\n 'EDEM2',\n 'GNG2',\n 'GNAI1',\n 'RAB11FIP3',\n 'GNA13',\n 'RSPO4',\n 'TRPC4',\n 'EXOSC5',\n 'MED15',\n 'PMPCA',\n 'NDUFA10',\n 'PBX1',\n 'MTERF4',\n 'CD3D',\n 'MIP',\n 'CDKN2A',\n 'GATA6',\n 'MEIS1',\n 'TEX10',\n 'BCAP31',\n 'TAF6L',\n 'FGF14',\n 'RPS14',\n 'CENPI',\n 'HSD17B2',\n 'IDO1',\n 'PHF2',\n 'RAB20',\n 'KCNA3',\n 'RBP2',\n 'KANK1',\n 'TUT4',\n 'OR8B12',\n 'PIK3CA',\n 'CATSPER1',\n 'FN3KRP',\n 'PDGFD',\n 'OXCT2',\n 'NDUFS6',\n 'PSMC4',\n 'CORIN',\n 'STK24',\n 'PLEC',\n 'UHRF2',\n 'ALDOC',\n 'FOSB',\n 'KYAT1',\n 'TNFSF13',\n 'ZNF584',\n 'ZNF143',\n 'OR13H1',\n 'CYP2B6',\n 'DNAJB1',\n 'ARHGEF28',\n 'PPRC1',\n 'CSTF2',\n 'CTU1',\n 'SCNN1D',\n 'ABHD3',\n 'SRGAP1',\n 'ATP8A2',\n 'NCOA1',\n 'RAB39B',\n 'PMS2',\n 'PRMT6',\n 'RPS18',\n 'MAPK12',\n 'CLCN1',\n 'FZD5',\n 'OR10A3',\n 'ADAM10',\n 'NEK2',\n 'SLC9A4',\n 'GHRL',\n 'PLEKHA3',\n 'CXCL1',\n 'PARD6G',\n 'FPR2',\n 'FGF10',\n 'PNMT',\n 'SUMO1',\n 'NAPA',\n 'OTC',\n 'KRT77',\n 'HPGDS',\n 'E2F1',\n 'RIMS1',\n 'VPS25',\n 'OR2M2',\n 'BTRC',\n 'PHB2',\n 'TNFRSF4',\n 'NDUFAB1',\n 'CUL4B',\n 'PDHB',\n 'CDIPT',\n 'ZNF616',\n 'NMNAT2',\n 'DUSP7',\n 'PANK1',\n 'ZDHHC8',\n 'COMMD3',\n 'SCN2A',\n 'WWOX',\n 'DMGDH',\n 'IFT57',\n 'MLEC',\n 'GPAT2',\n 'TPH1',\n 'CD28',\n 'SUMF1',\n 'CHRM4',\n 'TMEM126B',\n 'PRKAR2A',\n 'PDZD3',\n 'CADM1',\n 'COX19',\n 'CNOT2',\n 'FBP1',\n 'PDE3B',\n 'OR7A5',\n 'GABRG2',\n 'SLC25A11',\n 'ATXN7',\n 'HCN4',\n 'DEFB126',\n 'LRP5',\n 'MUC6',\n 'XBP1',\n 'HMGCLL1',\n 'CEBPB',\n 'AMH',\n 'CD209',\n 'DAXX',\n 'GCFC2',\n 'GUCY2C',\n 'OVGP1',\n 'ZNF749',\n 'ADRA1D',\n 'UGT1A4',\n 'CYB5R3',\n 'NADK',\n 'SERINC4',\n 'VEGFD',\n 'PGS1',\n 'EP400',\n 'HIRA',\n 'MRPL22',\n 'CES1',\n 'B3GNT4',\n 'COL10A1',\n 'HSPA9',\n 'POU4F1',\n 'IL2RG',\n 'NECAP1',\n 'PPP1R3C',\n 'DYRK1A',\n 'SEC24A',\n 'TAL1',\n 'MGAT3',\n 'SCGB3A2',\n 'SUOX',\n 'HDLBP',\n 'UQCR10',\n 'LRRC8D',\n 'AMFR',\n 'XRCC2',\n 'CD1A',\n 'IMPDH2',\n 'GUCY2F',\n 'OR10G4',\n 'ADAMTSL5',\n 'CLEC2B',\n 'TAS2R3',\n 'BMP1',\n 'GABRA5',\n 'ANXA1',\n 'HEXB',\n 'STAT5A',\n 'RBBP4',\n 'NID1',\n 'PMAIP1',\n 'DLG1',\n 'HPX',\n 'FPGS',\n 'QPRT',\n 'PLA2G2D',\n 'TNIP3',\n 'KLK5',\n 'MYH8',\n 'PDE7B',\n 'PTPRF',\n 'GRM2',\n 'TNFRSF10C',\n 'RASA4',\n 'TAF4',\n 'ZNF429',\n 'NLRC5',\n 'GTF2E1',\n 'MYO6',\n 'RAET1E',\n 'CSK',\n 'ACTR3',\n 'SPG7',\n 'PLCD1',\n 'RPL39',\n 'WDR43',\n 'CSPG5',\n 'ACOX3',\n 'KRT31',\n 'ASAP1',\n 'LILRB2',\n 'AKAP1',\n 'GUCY1B1',\n 'SLC2A12',\n 'MAPK10',\n 'CCAR1',\n 'CATSPERG',\n 'PRPF6',\n 'ABCB6',\n 'MMP11',\n 'COPZ1',\n 'GSC',\n 'MAP2K4',\n 'PSMB1',\n 'XRCC6',\n 'NUP43',\n 'PIGT',\n 'AKR1A1',\n 'WNT5A',\n 'RABEPK',\n 'CDSN',\n 'WDR5',\n 'ITGB3',\n 'SYK',\n 'RAB12',\n 'EPO',\n 'TTLL4',\n 'LHCGR',\n 'AVPR1A',\n 'OR51I1',\n 'SLC25A26',\n 'CEBPG',\n 'SUMO3',\n 'CEACAM8',\n 'CD226',\n 'TAAR2',\n 'TYK2',\n 'ZNF23',\n 'MARCKS',\n 'CR2',\n 'ORC4',\n 'AARS2',\n 'MGAT2',\n 'GSTA3',\n 'GMPR2',\n 'IL24',\n 'OR9I1',\n 'CCL4',\n 'ABCB11',\n 'DUSP9',\n 'SLC36A1',\n 'DSE',\n 'OAZ2',\n 'ABCG1',\n 'ZNF626',\n 'NRTN',\n 'RAB5A',\n 'POU2F1',\n 'CNGA4',\n 'PEA15',\n 'SLC4A3',\n 'PI4K2A',\n 'AATF',\n 'DDIT3',\n 'RIOK2',\n 'LGI3',\n 'SH3D19',\n 'OR51V1',\n 'SRR',\n 'PRPF4',\n 'NMBR',\n 'SPIDR',\n 'DAD1',\n 'AGXT2',\n 'ARPC3',\n 'SORT1',\n 'GRIA1',\n 'PLA2R1',\n 'MSI1',\n 'RIC1',\n 'ACO2',\n 'TADA2B',\n 'HAS2',\n 'DDX20',\n 'MBD5',\n 'ALG10',\n 'ZWILCH',\n 'MSRA',\n 'NFKBIB',\n 'OR7D4',\n 'FAR1',\n 'RFT1',\n 'TPD52L1',\n 'IGLL1',\n 'DEFB134',\n 'ELL',\n 'KLHL9',\n 'CD2AP',\n 'GRAP2',\n 'MTMR9',\n 'PDS5A',\n 'ORMDL3',\n 'GOLIM4',\n 'B3GALNT2',\n 'ZNF778',\n 'MFAP5',\n 'SMARCB1',\n 'PDE8A',\n 'FXYD4',\n 'NPFFR2',\n 'RPA1',\n 'GLE1',\n 'SDCCAG8',\n 'HDAC2',\n 'CHGA',\n 'ATG10',\n 'RFFL',\n 'WFS1',\n 'LY6G6C',\n 'KIR2DL1',\n 'STX6',\n 'GPR143',\n 'HTR2B',\n 'OR1J1',\n 'VCP',\n 'LEFTY2',\n 'MLST8',\n 'RAD23A',\n 'NCF1',\n 'VEGFA',\n 'PRDX1',\n 'SIK1',\n 'JAM3',\n 'TRIM56',\n 'PDE1A',\n 'ACTL6B',\n 'DCUN1D2',\n 'OR5B12',\n 'OR12D3',\n 'PLCB4',\n 'PF4',\n 'CHCHD1',\n 'SLC24A4',\n 'TPST2',\n 'EHHADH',\n 'DDOST',\n 'SRI',\n 'SMS',\n 'NCBP2',\n 'GRIN2A',\n 'EXOSC4',\n 'SLC5A11',\n 'TIMM17B',\n 'ARTN',\n 'IL1RAPL2',\n 'GREM2',\n 'IHH',\n 'FUZ',\n 'DLST',\n 'PDHA2',\n 'UTP6',\n 'PTPN14',\n 'KCNH6',\n 'GSN',\n 'SLC6A11',\n 'RNF216',\n 'COPS5',\n 'EEF1D',\n 'GSTK1',\n 'SF3B5',\n 'ACACA',\n 'SOCS3',\n 'VANGL2',\n 'CYP3A4',\n 'HMGCR',\n 'ARHGDIB',\n 'MADD',\n 'PKN3',\n 'BBS7',\n 'ESPL1',\n 'PPP6R3',\n 'HLA-DMA',\n 'EAF1',\n 'GDA',\n 'OR5AP2',\n 'SMARCC2',\n 'RPLP2',\n 'COMMD5',\n 'GLS',\n 'WDR19',\n 'GUCY1A2',\n 'ZNF585A',\n 'GCK',\n 'SPTLC1',\n 'GGCT',\n 'THOC5',\n 'RPL14',\n 'PIDD1',\n 'SLC6A8',\n 'CYSLTR2',\n 'RNF152',\n 'MSH4',\n 'COL11A1',\n 'WDR48',\n 'CAMKMT',\n 'HMOX1',\n 'ART1',\n 'PTPN23',\n 'SEC24B',\n 'LCN15',\n 'PPCDC',\n 'MMADHC',\n 'ACP5',\n 'EPC1',\n 'EPHA7',\n 'AIMP2',\n 'PTCH2',\n 'AEBP2',\n 'RFNG',\n 'SCN1A',\n 'KCNC2',\n 'NDUFB3',\n 'AGRP',\n 'ODF2',\n 'DAGLB',\n 'AKT1',\n 'KLK2',\n 'KCNMB1',\n 'TNFRSF6B',\n 'LIG4',\n 'TTLL12',\n 'ARSD',\n 'CTPS1',\n 'RETSAT',\n 'WAC',\n 'KCNJ2',\n 'ZNF267',\n 'PPFIBP2',\n 'LAMTOR2',\n 'AKAP5',\n 'EIF3L',\n 'PAX3',\n 'GLYAT',\n 'PIGS',\n 'AS3MT',\n 'FUT4',\n 'EMD',\n 'PIP4K2B',\n 'ENTPD8',\n 'NPFF',\n 'CD2',\n 'PAH',\n 'REPS1',\n 'SST',\n 'ACTN1',\n 'GTF3C1',\n 'SLC5A9',\n 'INPP5J',\n 'MRPS12',\n 'ARHGEF26',\n 'NANP',\n 'TOR1A',\n 'OR52N4',\n 'KIF4A',\n 'DVL1',\n 'STX10',\n 'ELOVL3',\n 'RBP1',\n 'PLD1',\n 'RAB2A',\n 'DGAT2L6',\n 'OR11A1',\n 'GALNT1',\n 'PNPLA5',\n 'ALG8',\n 'ZNF317',\n 'ELP5',\n 'NRXN2',\n 'ABHD10',\n 'PAX4',\n 'DNAJA2',\n 'EED',\n 'UGT2B4',\n 'KIF12',\n 'NCK1',\n 'DIO3',\n 'SNCB',\n 'SBSPON',\n 'ODC1',\n 'COL6A2',\n 'PIP5K1B',\n 'LHX4',\n 'AURKB',\n 'ZNF559',\n 'ARHGAP5',\n 'PPP2R5D',\n 'COL9A2',\n 'OR52E6',\n 'GRK2',\n 'A4GNT',\n 'ALPP',\n 'EPHA5',\n 'VPS52',\n 'STARD4',\n 'ZNF552',\n 'ZNF624',\n 'ADAM20',\n 'PIGC',\n 'TNFSF12',\n 'SUPT7L',\n 'MED20',\n 'MSLN',\n 'DEFB129',\n 'DRD5',\n 'GLP2R',\n 'ANO3',\n 'FARSA',\n 'SLCO2B1',\n 'KCNA5',\n 'USP4',\n 'ASXL1',\n 'CD300LB',\n 'HERC5',\n ...}"
     },
     "execution_count": 10,
     "metadata": {},
     "output_type": "execute_result"
    }
   ],
   "source": [
    "# Get list of genes that present are in:\n",
    "# 1) The selected PPI data\n",
    "# 2) Also present in the dependency and expression data \n",
    "# (should genes also be present in mutation data? No - if they are not in the muts file, it just means no mutations were found in those genes)\n",
    "\n",
    "ppi_genes = set(list(ppi_data['PARTICIPANT_A']) + list(ppi_data['PARTICIPANT_B']))\n",
    "\n",
    "dep_genes = dep_data.columns.map(lambda x: x.split(' ')[0])\n",
    "dep_genes = set(dep_genes[1:]) # remove item corresponding to the first column\n",
    "\n",
    "exp_genes = exp_data.columns.map(lambda x: x.split(' ')[0])\n",
    "exp_genes = set(exp_genes[1:]) # remove item corresponding to the first column\n",
    "\n",
    "# mut_genes = set(mut_data['HugoSymbol'].unique())\n",
    "\n",
    "valid_genes = ppi_genes & dep_genes & exp_genes\n",
    "\n",
    "print(len(valid_genes))\n",
    "valid_genes"
   ],
   "metadata": {
    "collapsed": false,
    "ExecuteTime": {
     "end_time": "2023-12-30T14:43:05.552952900Z",
     "start_time": "2023-12-30T14:43:05.395650600Z"
    }
   },
   "id": "c024a6677c42f25f"
  },
  {
   "cell_type": "code",
   "execution_count": 11,
   "outputs": [
    {
     "name": "stdout",
     "output_type": "stream",
     "text": [
      "Length of valid_genes: 9723\n",
      "Length of valid_cell_lines: 37\n",
      "Shape of the one matrix: (9723, 37)\n",
      "Type of valid_genes: <class 'list'>\n",
      "Type of valid_cell_lines: <class 'list'>\n"
     ]
    }
   ],
   "source": [
    "# These need to be lists to be used for col headers and row indexes\n",
    "valid_genes_list = list(valid_genes)\n",
    "valid_cell_lines_list = list(valid_cell_lines['ModelID'])\n",
    "\n",
    "# Build a one matrix with the dimensions of the lists above \n",
    "one_matrix = np.ones((len(valid_genes_list), len(valid_cell_lines_list)))\n",
    "\n",
    "# Troubleshooting\n",
    "print(\"Length of valid_genes:\", len(valid_genes_list))\n",
    "print(\"Length of valid_cell_lines:\", len(valid_cell_lines_list))\n",
    "print(\"Shape of the one matrix:\", one_matrix.shape)\n",
    "print(\"Type of valid_genes:\", type(valid_genes_list))\n",
    "print(\"Type of valid_cell_lines:\", type(valid_cell_lines_list))"
   ],
   "metadata": {
    "collapsed": false,
    "ExecuteTime": {
     "end_time": "2023-12-30T14:43:05.552952900Z",
     "start_time": "2023-12-30T14:43:05.474249600Z"
    }
   },
   "id": "87bfd6c6d5a9ffef"
  },
  {
   "cell_type": "code",
   "execution_count": 12,
   "outputs": [],
   "source": [
    "base_weights = pd.DataFrame(one_matrix, index=valid_genes_list, columns=valid_cell_lines_list)"
   ],
   "metadata": {
    "collapsed": false,
    "ExecuteTime": {
     "end_time": "2023-12-30T14:43:05.584189800Z",
     "start_time": "2023-12-30T14:43:05.489863900Z"
    }
   },
   "id": "e3834199c935893d"
  },
  {
   "cell_type": "code",
   "execution_count": 13,
   "outputs": [
    {
     "data": {
      "text/plain": "          ACH-000352  ACH-000624  ACH-000223  ACH-000768  ACH-000725  \\\nCPD              1.0         1.0         1.0         1.0         1.0   \nZNF3             1.0         1.0         1.0         1.0         1.0   \nCPOX             1.0         1.0         1.0         1.0         1.0   \nSTARD7           1.0         1.0         1.0         1.0         1.0   \nCAPNS1           1.0         1.0         1.0         1.0         1.0   \n...              ...         ...         ...         ...         ...   \nSMAD1            1.0         1.0         1.0         1.0         1.0   \nSUMF2            1.0         1.0         1.0         1.0         1.0   \nSULT6B1          1.0         1.0         1.0         1.0         1.0   \nCEACAM5          1.0         1.0         1.0         1.0         1.0   \nSECISBP2         1.0         1.0         1.0         1.0         1.0   \n\n          ACH-000856  ACH-000849  ACH-000028  ACH-000876  ACH-000621  ...  \\\nCPD              1.0         1.0         1.0         1.0         1.0  ...   \nZNF3             1.0         1.0         1.0         1.0         1.0  ...   \nCPOX             1.0         1.0         1.0         1.0         1.0  ...   \nSTARD7           1.0         1.0         1.0         1.0         1.0  ...   \nCAPNS1           1.0         1.0         1.0         1.0         1.0  ...   \n...              ...         ...         ...         ...         ...  ...   \nSMAD1            1.0         1.0         1.0         1.0         1.0  ...   \nSUMF2            1.0         1.0         1.0         1.0         1.0  ...   \nSULT6B1          1.0         1.0         1.0         1.0         1.0  ...   \nCEACAM5          1.0         1.0         1.0         1.0         1.0  ...   \nSECISBP2         1.0         1.0         1.0         1.0         1.0  ...   \n\n          ACH-000262  ACH-000060  ACH-000178  ACH-000222  ACH-000281  \\\nCPD              1.0         1.0         1.0         1.0         1.0   \nZNF3             1.0         1.0         1.0         1.0         1.0   \nCPOX             1.0         1.0         1.0         1.0         1.0   \nSTARD7           1.0         1.0         1.0         1.0         1.0   \nCAPNS1           1.0         1.0         1.0         1.0         1.0   \n...              ...         ...         ...         ...         ...   \nSMAD1            1.0         1.0         1.0         1.0         1.0   \nSUMF2            1.0         1.0         1.0         1.0         1.0   \nSULT6B1          1.0         1.0         1.0         1.0         1.0   \nCEACAM5          1.0         1.0         1.0         1.0         1.0   \nSECISBP2         1.0         1.0         1.0         1.0         1.0   \n\n          ACH-000265  ACH-000601  ACH-000138  ACH-000320  ACH-000118  \nCPD              1.0         1.0         1.0         1.0         1.0  \nZNF3             1.0         1.0         1.0         1.0         1.0  \nCPOX             1.0         1.0         1.0         1.0         1.0  \nSTARD7           1.0         1.0         1.0         1.0         1.0  \nCAPNS1           1.0         1.0         1.0         1.0         1.0  \n...              ...         ...         ...         ...         ...  \nSMAD1            1.0         1.0         1.0         1.0         1.0  \nSUMF2            1.0         1.0         1.0         1.0         1.0  \nSULT6B1          1.0         1.0         1.0         1.0         1.0  \nCEACAM5          1.0         1.0         1.0         1.0         1.0  \nSECISBP2         1.0         1.0         1.0         1.0         1.0  \n\n[9723 rows x 37 columns]",
      "text/html": "<div>\n<style scoped>\n    .dataframe tbody tr th:only-of-type {\n        vertical-align: middle;\n    }\n\n    .dataframe tbody tr th {\n        vertical-align: top;\n    }\n\n    .dataframe thead th {\n        text-align: right;\n    }\n</style>\n<table border=\"1\" class=\"dataframe\">\n  <thead>\n    <tr style=\"text-align: right;\">\n      <th></th>\n      <th>ACH-000352</th>\n      <th>ACH-000624</th>\n      <th>ACH-000223</th>\n      <th>ACH-000768</th>\n      <th>ACH-000725</th>\n      <th>ACH-000856</th>\n      <th>ACH-000849</th>\n      <th>ACH-000028</th>\n      <th>ACH-000876</th>\n      <th>ACH-000621</th>\n      <th>...</th>\n      <th>ACH-000262</th>\n      <th>ACH-000060</th>\n      <th>ACH-000178</th>\n      <th>ACH-000222</th>\n      <th>ACH-000281</th>\n      <th>ACH-000265</th>\n      <th>ACH-000601</th>\n      <th>ACH-000138</th>\n      <th>ACH-000320</th>\n      <th>ACH-000118</th>\n    </tr>\n  </thead>\n  <tbody>\n    <tr>\n      <th>CPD</th>\n      <td>1.0</td>\n      <td>1.0</td>\n      <td>1.0</td>\n      <td>1.0</td>\n      <td>1.0</td>\n      <td>1.0</td>\n      <td>1.0</td>\n      <td>1.0</td>\n      <td>1.0</td>\n      <td>1.0</td>\n      <td>...</td>\n      <td>1.0</td>\n      <td>1.0</td>\n      <td>1.0</td>\n      <td>1.0</td>\n      <td>1.0</td>\n      <td>1.0</td>\n      <td>1.0</td>\n      <td>1.0</td>\n      <td>1.0</td>\n      <td>1.0</td>\n    </tr>\n    <tr>\n      <th>ZNF3</th>\n      <td>1.0</td>\n      <td>1.0</td>\n      <td>1.0</td>\n      <td>1.0</td>\n      <td>1.0</td>\n      <td>1.0</td>\n      <td>1.0</td>\n      <td>1.0</td>\n      <td>1.0</td>\n      <td>1.0</td>\n      <td>...</td>\n      <td>1.0</td>\n      <td>1.0</td>\n      <td>1.0</td>\n      <td>1.0</td>\n      <td>1.0</td>\n      <td>1.0</td>\n      <td>1.0</td>\n      <td>1.0</td>\n      <td>1.0</td>\n      <td>1.0</td>\n    </tr>\n    <tr>\n      <th>CPOX</th>\n      <td>1.0</td>\n      <td>1.0</td>\n      <td>1.0</td>\n      <td>1.0</td>\n      <td>1.0</td>\n      <td>1.0</td>\n      <td>1.0</td>\n      <td>1.0</td>\n      <td>1.0</td>\n      <td>1.0</td>\n      <td>...</td>\n      <td>1.0</td>\n      <td>1.0</td>\n      <td>1.0</td>\n      <td>1.0</td>\n      <td>1.0</td>\n      <td>1.0</td>\n      <td>1.0</td>\n      <td>1.0</td>\n      <td>1.0</td>\n      <td>1.0</td>\n    </tr>\n    <tr>\n      <th>STARD7</th>\n      <td>1.0</td>\n      <td>1.0</td>\n      <td>1.0</td>\n      <td>1.0</td>\n      <td>1.0</td>\n      <td>1.0</td>\n      <td>1.0</td>\n      <td>1.0</td>\n      <td>1.0</td>\n      <td>1.0</td>\n      <td>...</td>\n      <td>1.0</td>\n      <td>1.0</td>\n      <td>1.0</td>\n      <td>1.0</td>\n      <td>1.0</td>\n      <td>1.0</td>\n      <td>1.0</td>\n      <td>1.0</td>\n      <td>1.0</td>\n      <td>1.0</td>\n    </tr>\n    <tr>\n      <th>CAPNS1</th>\n      <td>1.0</td>\n      <td>1.0</td>\n      <td>1.0</td>\n      <td>1.0</td>\n      <td>1.0</td>\n      <td>1.0</td>\n      <td>1.0</td>\n      <td>1.0</td>\n      <td>1.0</td>\n      <td>1.0</td>\n      <td>...</td>\n      <td>1.0</td>\n      <td>1.0</td>\n      <td>1.0</td>\n      <td>1.0</td>\n      <td>1.0</td>\n      <td>1.0</td>\n      <td>1.0</td>\n      <td>1.0</td>\n      <td>1.0</td>\n      <td>1.0</td>\n    </tr>\n    <tr>\n      <th>...</th>\n      <td>...</td>\n      <td>...</td>\n      <td>...</td>\n      <td>...</td>\n      <td>...</td>\n      <td>...</td>\n      <td>...</td>\n      <td>...</td>\n      <td>...</td>\n      <td>...</td>\n      <td>...</td>\n      <td>...</td>\n      <td>...</td>\n      <td>...</td>\n      <td>...</td>\n      <td>...</td>\n      <td>...</td>\n      <td>...</td>\n      <td>...</td>\n      <td>...</td>\n      <td>...</td>\n    </tr>\n    <tr>\n      <th>SMAD1</th>\n      <td>1.0</td>\n      <td>1.0</td>\n      <td>1.0</td>\n      <td>1.0</td>\n      <td>1.0</td>\n      <td>1.0</td>\n      <td>1.0</td>\n      <td>1.0</td>\n      <td>1.0</td>\n      <td>1.0</td>\n      <td>...</td>\n      <td>1.0</td>\n      <td>1.0</td>\n      <td>1.0</td>\n      <td>1.0</td>\n      <td>1.0</td>\n      <td>1.0</td>\n      <td>1.0</td>\n      <td>1.0</td>\n      <td>1.0</td>\n      <td>1.0</td>\n    </tr>\n    <tr>\n      <th>SUMF2</th>\n      <td>1.0</td>\n      <td>1.0</td>\n      <td>1.0</td>\n      <td>1.0</td>\n      <td>1.0</td>\n      <td>1.0</td>\n      <td>1.0</td>\n      <td>1.0</td>\n      <td>1.0</td>\n      <td>1.0</td>\n      <td>...</td>\n      <td>1.0</td>\n      <td>1.0</td>\n      <td>1.0</td>\n      <td>1.0</td>\n      <td>1.0</td>\n      <td>1.0</td>\n      <td>1.0</td>\n      <td>1.0</td>\n      <td>1.0</td>\n      <td>1.0</td>\n    </tr>\n    <tr>\n      <th>SULT6B1</th>\n      <td>1.0</td>\n      <td>1.0</td>\n      <td>1.0</td>\n      <td>1.0</td>\n      <td>1.0</td>\n      <td>1.0</td>\n      <td>1.0</td>\n      <td>1.0</td>\n      <td>1.0</td>\n      <td>1.0</td>\n      <td>...</td>\n      <td>1.0</td>\n      <td>1.0</td>\n      <td>1.0</td>\n      <td>1.0</td>\n      <td>1.0</td>\n      <td>1.0</td>\n      <td>1.0</td>\n      <td>1.0</td>\n      <td>1.0</td>\n      <td>1.0</td>\n    </tr>\n    <tr>\n      <th>CEACAM5</th>\n      <td>1.0</td>\n      <td>1.0</td>\n      <td>1.0</td>\n      <td>1.0</td>\n      <td>1.0</td>\n      <td>1.0</td>\n      <td>1.0</td>\n      <td>1.0</td>\n      <td>1.0</td>\n      <td>1.0</td>\n      <td>...</td>\n      <td>1.0</td>\n      <td>1.0</td>\n      <td>1.0</td>\n      <td>1.0</td>\n      <td>1.0</td>\n      <td>1.0</td>\n      <td>1.0</td>\n      <td>1.0</td>\n      <td>1.0</td>\n      <td>1.0</td>\n    </tr>\n    <tr>\n      <th>SECISBP2</th>\n      <td>1.0</td>\n      <td>1.0</td>\n      <td>1.0</td>\n      <td>1.0</td>\n      <td>1.0</td>\n      <td>1.0</td>\n      <td>1.0</td>\n      <td>1.0</td>\n      <td>1.0</td>\n      <td>1.0</td>\n      <td>...</td>\n      <td>1.0</td>\n      <td>1.0</td>\n      <td>1.0</td>\n      <td>1.0</td>\n      <td>1.0</td>\n      <td>1.0</td>\n      <td>1.0</td>\n      <td>1.0</td>\n      <td>1.0</td>\n      <td>1.0</td>\n    </tr>\n  </tbody>\n</table>\n<p>9723 rows × 37 columns</p>\n</div>"
     },
     "execution_count": 13,
     "metadata": {},
     "output_type": "execute_result"
    }
   ],
   "source": [
    "base_weights"
   ],
   "metadata": {
    "collapsed": false,
    "ExecuteTime": {
     "end_time": "2023-12-30T14:43:05.647248600Z",
     "start_time": "2023-12-30T14:43:05.505487500Z"
    }
   },
   "id": "bf290a0626e5cb38"
  },
  {
   "cell_type": "code",
   "execution_count": 14,
   "outputs": [],
   "source": [
    "base_weights.to_csv(data_path + 'dependant\\\\processed_weights\\\\base_weights_reactome_original_lines.csv')"
   ],
   "metadata": {
    "collapsed": false,
    "ExecuteTime": {
     "end_time": "2023-12-30T14:43:05.730824300Z",
     "start_time": "2023-12-30T14:43:05.537308600Z"
    }
   },
   "id": "c5e4d7b2c2eebfb4"
  },
  {
   "cell_type": "code",
   "execution_count": 15,
   "outputs": [
    {
     "name": "stderr",
     "output_type": "stream",
     "text": [
      "C:\\Users\\dan\\AppData\\Local\\Temp\\ipykernel_11716\\2966003349.py:3: UserWarning: Boolean Series key will be reindexed to match DataFrame index.\n",
      "  mutation_df = mutation_df[mut_data['HugoSymbol'].isin(valid_genes_list)]\n"
     ]
    },
    {
     "data": {
      "text/plain": "         Chrom        Pos Ref Alt     AF  RefCount  AltCount   GT  PS  \\\n29669     chr1     951180   G   A  0.390        26        15  0/1 NaN   \n29671     chr1    1046671   C   T  0.250        30         8  0/1 NaN   \n29673     chr1    2412394   C   T  0.391        14         8  0/1 NaN   \n29674     chr1    2512914   G   T  0.488        21        19  0/1 NaN   \n29675     chr1    2561696   C   T  0.320        24        12  0/1 NaN   \n...        ...        ...  ..  ..    ...       ...       ...  ...  ..   \n1296624  chr22   42126611   C   G  0.984         0        72  1|1 NaN   \n1296625  chr22   42129130   C   G  0.968         1        71  1|1 NaN   \n1296627   chrX   41136962   A   T  0.963         1        57  1|1 NaN   \n1296628   chrX   51896717   G   A  0.962         1        54  1|1 NaN   \n1296633   chrX  153954753   T   C  0.857         0         6  0/1 NaN   \n\n        VariantType  ... RevelScore Funseq2Score   PharmgkbID DidaID DidaName  \\\n29669           SNP  ...        NaN          0.0          NaN    NaN      NaN   \n29671           SNP  ...        NaN          0.0          NaN    NaN      NaN   \n29673           SNP  ...      0.416          3.0          NaN    NaN      NaN   \n29674           SNP  ...      0.436          1.0          NaN    NaN      NaN   \n29675           SNP  ...      0.071          2.0          NaN    NaN      NaN   \n...             ...  ...        ...          ...          ...    ...      ...   \n1296624         SNP  ...        NaN          NaN  PA166156076    NaN      NaN   \n1296625         SNP  ...        NaN          NaN  PA166156061    NaN      NaN   \n1296627         SNP  ...        NaN          0.0          NaN    NaN      NaN   \n1296628         SNP  ...        NaN          0.0          NaN    NaN      NaN   \n1296633         SNP  ...      0.006          2.0          NaN    NaN      NaN   \n\n        GwasDisease GwasPmID  GTexGene     ModelID EntrezGeneID  \n29669           NaN      NaN       NaN  ACH-000856      26155.0  \n29671           NaN      NaN       NaN  ACH-000856     375790.0  \n29673           NaN      NaN       NaN  ACH-000856       5192.0  \n29674           NaN      NaN       NaN  ACH-000856      55229.0  \n29675           NaN      NaN       NaN  ACH-000856       8764.0  \n...             ...      ...       ...         ...          ...  \n1296624         NaN      NaN       NaN  ACH-000234       1565.0  \n1296625         NaN      NaN       NaN  ACH-000234       1565.0  \n1296627         NaN      NaN       NaN  ACH-000234       8239.0  \n1296628         NaN      NaN       NaN  ACH-000234       9500.0  \n1296633         NaN      NaN       NaN  ACH-000234       3054.0  \n\n[10885 rows x 56 columns]",
      "text/html": "<div>\n<style scoped>\n    .dataframe tbody tr th:only-of-type {\n        vertical-align: middle;\n    }\n\n    .dataframe tbody tr th {\n        vertical-align: top;\n    }\n\n    .dataframe thead th {\n        text-align: right;\n    }\n</style>\n<table border=\"1\" class=\"dataframe\">\n  <thead>\n    <tr style=\"text-align: right;\">\n      <th></th>\n      <th>Chrom</th>\n      <th>Pos</th>\n      <th>Ref</th>\n      <th>Alt</th>\n      <th>AF</th>\n      <th>RefCount</th>\n      <th>AltCount</th>\n      <th>GT</th>\n      <th>PS</th>\n      <th>VariantType</th>\n      <th>...</th>\n      <th>RevelScore</th>\n      <th>Funseq2Score</th>\n      <th>PharmgkbID</th>\n      <th>DidaID</th>\n      <th>DidaName</th>\n      <th>GwasDisease</th>\n      <th>GwasPmID</th>\n      <th>GTexGene</th>\n      <th>ModelID</th>\n      <th>EntrezGeneID</th>\n    </tr>\n  </thead>\n  <tbody>\n    <tr>\n      <th>29669</th>\n      <td>chr1</td>\n      <td>951180</td>\n      <td>G</td>\n      <td>A</td>\n      <td>0.390</td>\n      <td>26</td>\n      <td>15</td>\n      <td>0/1</td>\n      <td>NaN</td>\n      <td>SNP</td>\n      <td>...</td>\n      <td>NaN</td>\n      <td>0.0</td>\n      <td>NaN</td>\n      <td>NaN</td>\n      <td>NaN</td>\n      <td>NaN</td>\n      <td>NaN</td>\n      <td>NaN</td>\n      <td>ACH-000856</td>\n      <td>26155.0</td>\n    </tr>\n    <tr>\n      <th>29671</th>\n      <td>chr1</td>\n      <td>1046671</td>\n      <td>C</td>\n      <td>T</td>\n      <td>0.250</td>\n      <td>30</td>\n      <td>8</td>\n      <td>0/1</td>\n      <td>NaN</td>\n      <td>SNP</td>\n      <td>...</td>\n      <td>NaN</td>\n      <td>0.0</td>\n      <td>NaN</td>\n      <td>NaN</td>\n      <td>NaN</td>\n      <td>NaN</td>\n      <td>NaN</td>\n      <td>NaN</td>\n      <td>ACH-000856</td>\n      <td>375790.0</td>\n    </tr>\n    <tr>\n      <th>29673</th>\n      <td>chr1</td>\n      <td>2412394</td>\n      <td>C</td>\n      <td>T</td>\n      <td>0.391</td>\n      <td>14</td>\n      <td>8</td>\n      <td>0/1</td>\n      <td>NaN</td>\n      <td>SNP</td>\n      <td>...</td>\n      <td>0.416</td>\n      <td>3.0</td>\n      <td>NaN</td>\n      <td>NaN</td>\n      <td>NaN</td>\n      <td>NaN</td>\n      <td>NaN</td>\n      <td>NaN</td>\n      <td>ACH-000856</td>\n      <td>5192.0</td>\n    </tr>\n    <tr>\n      <th>29674</th>\n      <td>chr1</td>\n      <td>2512914</td>\n      <td>G</td>\n      <td>T</td>\n      <td>0.488</td>\n      <td>21</td>\n      <td>19</td>\n      <td>0/1</td>\n      <td>NaN</td>\n      <td>SNP</td>\n      <td>...</td>\n      <td>0.436</td>\n      <td>1.0</td>\n      <td>NaN</td>\n      <td>NaN</td>\n      <td>NaN</td>\n      <td>NaN</td>\n      <td>NaN</td>\n      <td>NaN</td>\n      <td>ACH-000856</td>\n      <td>55229.0</td>\n    </tr>\n    <tr>\n      <th>29675</th>\n      <td>chr1</td>\n      <td>2561696</td>\n      <td>C</td>\n      <td>T</td>\n      <td>0.320</td>\n      <td>24</td>\n      <td>12</td>\n      <td>0/1</td>\n      <td>NaN</td>\n      <td>SNP</td>\n      <td>...</td>\n      <td>0.071</td>\n      <td>2.0</td>\n      <td>NaN</td>\n      <td>NaN</td>\n      <td>NaN</td>\n      <td>NaN</td>\n      <td>NaN</td>\n      <td>NaN</td>\n      <td>ACH-000856</td>\n      <td>8764.0</td>\n    </tr>\n    <tr>\n      <th>...</th>\n      <td>...</td>\n      <td>...</td>\n      <td>...</td>\n      <td>...</td>\n      <td>...</td>\n      <td>...</td>\n      <td>...</td>\n      <td>...</td>\n      <td>...</td>\n      <td>...</td>\n      <td>...</td>\n      <td>...</td>\n      <td>...</td>\n      <td>...</td>\n      <td>...</td>\n      <td>...</td>\n      <td>...</td>\n      <td>...</td>\n      <td>...</td>\n      <td>...</td>\n      <td>...</td>\n    </tr>\n    <tr>\n      <th>1296624</th>\n      <td>chr22</td>\n      <td>42126611</td>\n      <td>C</td>\n      <td>G</td>\n      <td>0.984</td>\n      <td>0</td>\n      <td>72</td>\n      <td>1|1</td>\n      <td>NaN</td>\n      <td>SNP</td>\n      <td>...</td>\n      <td>NaN</td>\n      <td>NaN</td>\n      <td>PA166156076</td>\n      <td>NaN</td>\n      <td>NaN</td>\n      <td>NaN</td>\n      <td>NaN</td>\n      <td>NaN</td>\n      <td>ACH-000234</td>\n      <td>1565.0</td>\n    </tr>\n    <tr>\n      <th>1296625</th>\n      <td>chr22</td>\n      <td>42129130</td>\n      <td>C</td>\n      <td>G</td>\n      <td>0.968</td>\n      <td>1</td>\n      <td>71</td>\n      <td>1|1</td>\n      <td>NaN</td>\n      <td>SNP</td>\n      <td>...</td>\n      <td>NaN</td>\n      <td>NaN</td>\n      <td>PA166156061</td>\n      <td>NaN</td>\n      <td>NaN</td>\n      <td>NaN</td>\n      <td>NaN</td>\n      <td>NaN</td>\n      <td>ACH-000234</td>\n      <td>1565.0</td>\n    </tr>\n    <tr>\n      <th>1296627</th>\n      <td>chrX</td>\n      <td>41136962</td>\n      <td>A</td>\n      <td>T</td>\n      <td>0.963</td>\n      <td>1</td>\n      <td>57</td>\n      <td>1|1</td>\n      <td>NaN</td>\n      <td>SNP</td>\n      <td>...</td>\n      <td>NaN</td>\n      <td>0.0</td>\n      <td>NaN</td>\n      <td>NaN</td>\n      <td>NaN</td>\n      <td>NaN</td>\n      <td>NaN</td>\n      <td>NaN</td>\n      <td>ACH-000234</td>\n      <td>8239.0</td>\n    </tr>\n    <tr>\n      <th>1296628</th>\n      <td>chrX</td>\n      <td>51896717</td>\n      <td>G</td>\n      <td>A</td>\n      <td>0.962</td>\n      <td>1</td>\n      <td>54</td>\n      <td>1|1</td>\n      <td>NaN</td>\n      <td>SNP</td>\n      <td>...</td>\n      <td>NaN</td>\n      <td>0.0</td>\n      <td>NaN</td>\n      <td>NaN</td>\n      <td>NaN</td>\n      <td>NaN</td>\n      <td>NaN</td>\n      <td>NaN</td>\n      <td>ACH-000234</td>\n      <td>9500.0</td>\n    </tr>\n    <tr>\n      <th>1296633</th>\n      <td>chrX</td>\n      <td>153954753</td>\n      <td>T</td>\n      <td>C</td>\n      <td>0.857</td>\n      <td>0</td>\n      <td>6</td>\n      <td>0/1</td>\n      <td>NaN</td>\n      <td>SNP</td>\n      <td>...</td>\n      <td>0.006</td>\n      <td>2.0</td>\n      <td>NaN</td>\n      <td>NaN</td>\n      <td>NaN</td>\n      <td>NaN</td>\n      <td>NaN</td>\n      <td>NaN</td>\n      <td>ACH-000234</td>\n      <td>3054.0</td>\n    </tr>\n  </tbody>\n</table>\n<p>10885 rows × 56 columns</p>\n</div>"
     },
     "execution_count": 15,
     "metadata": {},
     "output_type": "execute_result"
    }
   ],
   "source": [
    "# Get subset of mutation data that applies to our valid genes and cell lines only\n",
    "mutation_df = mut_data[mut_data['ModelID'].isin(valid_cell_lines_list)]\n",
    "mutation_df = mutation_df[mut_data['HugoSymbol'].isin(valid_genes_list)]\n",
    "\n",
    "mutation_df"
   ],
   "metadata": {
    "collapsed": false,
    "ExecuteTime": {
     "end_time": "2023-12-30T14:43:05.872372300Z",
     "start_time": "2023-12-30T14:43:05.678438500Z"
    }
   },
   "id": "99d3e442ad3db784"
  },
  {
   "cell_type": "code",
   "execution_count": 16,
   "outputs": [
    {
     "name": "stdout",
     "output_type": "stream",
     "text": [
      "691\n"
     ]
    },
    {
     "data": {
      "text/plain": "      Chrom       Pos Ref Alt     AF  RefCount  AltCount   GT  PS VariantType  \\\n29678  chr1   6197724  CT   C  0.534        13        15  0/1 NaN         DEL   \n29699  chr1  20633885  GA   G  0.462        13        11  0/1 NaN         DEL   \n29704  chr1  26773456   C   T  0.389        21        13  0/1 NaN         SNP   \n29705  chr1  26779439  TG   T  0.590        15        23  0/1 NaN         DEL   \n29709  chr1  38019345  GA   G  0.448        17        13  0/1 NaN         DEL   \n\n       ... RevelScore Funseq2Score PharmgkbID DidaID DidaName GwasDisease  \\\n29678  ...        NaN          NaN        NaN    NaN      NaN         NaN   \n29699  ...        NaN          NaN        NaN    NaN      NaN         NaN   \n29704  ...        NaN          5.0        NaN    NaN      NaN         NaN   \n29705  ...        NaN          NaN        NaN    NaN      NaN         NaN   \n29709  ...        NaN          NaN        NaN    NaN      NaN         NaN   \n\n      GwasPmID  GTexGene     ModelID EntrezGeneID  \n29678      NaN       NaN  ACH-000856       6146.0  \n29699      NaN       NaN  ACH-000856      65018.0  \n29704      NaN       NaN  ACH-000856       8289.0  \n29705      NaN       NaN  ACH-000856       8289.0  \n29709      NaN       NaN  ACH-000856      51118.0  \n\n[5 rows x 56 columns]",
      "text/html": "<div>\n<style scoped>\n    .dataframe tbody tr th:only-of-type {\n        vertical-align: middle;\n    }\n\n    .dataframe tbody tr th {\n        vertical-align: top;\n    }\n\n    .dataframe thead th {\n        text-align: right;\n    }\n</style>\n<table border=\"1\" class=\"dataframe\">\n  <thead>\n    <tr style=\"text-align: right;\">\n      <th></th>\n      <th>Chrom</th>\n      <th>Pos</th>\n      <th>Ref</th>\n      <th>Alt</th>\n      <th>AF</th>\n      <th>RefCount</th>\n      <th>AltCount</th>\n      <th>GT</th>\n      <th>PS</th>\n      <th>VariantType</th>\n      <th>...</th>\n      <th>RevelScore</th>\n      <th>Funseq2Score</th>\n      <th>PharmgkbID</th>\n      <th>DidaID</th>\n      <th>DidaName</th>\n      <th>GwasDisease</th>\n      <th>GwasPmID</th>\n      <th>GTexGene</th>\n      <th>ModelID</th>\n      <th>EntrezGeneID</th>\n    </tr>\n  </thead>\n  <tbody>\n    <tr>\n      <th>29678</th>\n      <td>chr1</td>\n      <td>6197724</td>\n      <td>CT</td>\n      <td>C</td>\n      <td>0.534</td>\n      <td>13</td>\n      <td>15</td>\n      <td>0/1</td>\n      <td>NaN</td>\n      <td>DEL</td>\n      <td>...</td>\n      <td>NaN</td>\n      <td>NaN</td>\n      <td>NaN</td>\n      <td>NaN</td>\n      <td>NaN</td>\n      <td>NaN</td>\n      <td>NaN</td>\n      <td>NaN</td>\n      <td>ACH-000856</td>\n      <td>6146.0</td>\n    </tr>\n    <tr>\n      <th>29699</th>\n      <td>chr1</td>\n      <td>20633885</td>\n      <td>GA</td>\n      <td>G</td>\n      <td>0.462</td>\n      <td>13</td>\n      <td>11</td>\n      <td>0/1</td>\n      <td>NaN</td>\n      <td>DEL</td>\n      <td>...</td>\n      <td>NaN</td>\n      <td>NaN</td>\n      <td>NaN</td>\n      <td>NaN</td>\n      <td>NaN</td>\n      <td>NaN</td>\n      <td>NaN</td>\n      <td>NaN</td>\n      <td>ACH-000856</td>\n      <td>65018.0</td>\n    </tr>\n    <tr>\n      <th>29704</th>\n      <td>chr1</td>\n      <td>26773456</td>\n      <td>C</td>\n      <td>T</td>\n      <td>0.389</td>\n      <td>21</td>\n      <td>13</td>\n      <td>0/1</td>\n      <td>NaN</td>\n      <td>SNP</td>\n      <td>...</td>\n      <td>NaN</td>\n      <td>5.0</td>\n      <td>NaN</td>\n      <td>NaN</td>\n      <td>NaN</td>\n      <td>NaN</td>\n      <td>NaN</td>\n      <td>NaN</td>\n      <td>ACH-000856</td>\n      <td>8289.0</td>\n    </tr>\n    <tr>\n      <th>29705</th>\n      <td>chr1</td>\n      <td>26779439</td>\n      <td>TG</td>\n      <td>T</td>\n      <td>0.590</td>\n      <td>15</td>\n      <td>23</td>\n      <td>0/1</td>\n      <td>NaN</td>\n      <td>DEL</td>\n      <td>...</td>\n      <td>NaN</td>\n      <td>NaN</td>\n      <td>NaN</td>\n      <td>NaN</td>\n      <td>NaN</td>\n      <td>NaN</td>\n      <td>NaN</td>\n      <td>NaN</td>\n      <td>ACH-000856</td>\n      <td>8289.0</td>\n    </tr>\n    <tr>\n      <th>29709</th>\n      <td>chr1</td>\n      <td>38019345</td>\n      <td>GA</td>\n      <td>G</td>\n      <td>0.448</td>\n      <td>17</td>\n      <td>13</td>\n      <td>0/1</td>\n      <td>NaN</td>\n      <td>DEL</td>\n      <td>...</td>\n      <td>NaN</td>\n      <td>NaN</td>\n      <td>NaN</td>\n      <td>NaN</td>\n      <td>NaN</td>\n      <td>NaN</td>\n      <td>NaN</td>\n      <td>NaN</td>\n      <td>ACH-000856</td>\n      <td>51118.0</td>\n    </tr>\n  </tbody>\n</table>\n<p>5 rows × 56 columns</p>\n</div>"
     },
     "execution_count": 16,
     "metadata": {},
     "output_type": "execute_result"
    }
   ],
   "source": [
    "# First we separate out the badly pathogenic mutations - these are assumed to result in loss of function\n",
    "pathogenic = ('FRAME_SHIFT_DEL', 'FRAME_SHIFT_INS', 'NONSENSE', 'NONSTOP', 'START_CODON_INS')\n",
    "\n",
    "##### NOTE ######\n",
    "# These are the variations that were considered pathogenic on the original version\n",
    "# pathogenic = ['Frame_Shift_Del', 'Frame_Shift_Ins','Nonsense_Mutation','Nonstop_Mutation','Stop_Codon_Del']\n",
    "\n",
    "# I will keep this the same for now (note no 'Stop_Codon_Del' class in the new data - presumably because it's the same a NONSTOP) but note:\n",
    "\n",
    "# IN_FRAME_DEL - this is likely damaging but could be LOF or GOF -  select which depending on whether its onc, tsg or kinase?\n",
    "# IN_FRAME_INS - as above\n",
    "# START_CODON_INS - this is likely to prevent the translation of the protein, so LOF?\n",
    "# START_CODON_SNP - this may prevent translation if the SNP switched the codon from methianine to another amino acid\n",
    "\n",
    "# Filter mut_df to only include rows where the variant classification is in the pathogenic list defined above\n",
    "pathogenic_mutations = mutation_df.loc[mutation_df['VariantInfo'].isin(pathogenic)]\n",
    "\n",
    "print(len(pathogenic_mutations))\n",
    "pathogenic_mutations.head()"
   ],
   "metadata": {
    "collapsed": false,
    "ExecuteTime": {
     "end_time": "2023-12-30T14:43:05.935358100Z",
     "start_time": "2023-12-30T14:43:05.867059900Z"
    }
   },
   "id": "6bb8449c2bcb5450"
  },
  {
   "cell_type": "code",
   "execution_count": 17,
   "outputs": [
    {
     "data": {
      "text/plain": "            ModelID HugoSymbol\n29678    ACH-000856      RPL22\n29699    ACH-000856      PINK1\n29704    ACH-000856     ARID1A\n29705    ACH-000856     ARID1A\n29709    ACH-000856      UTP11\n...             ...        ...\n1296363  ACH-000234      GPAT3\n1296376  ACH-000234      JADE2\n1296383  ACH-000234      RUFY1\n1296548  ACH-000234      ANPEP\n1296592  ACH-000234     ZNF440\n\n[691 rows x 2 columns]",
      "text/html": "<div>\n<style scoped>\n    .dataframe tbody tr th:only-of-type {\n        vertical-align: middle;\n    }\n\n    .dataframe tbody tr th {\n        vertical-align: top;\n    }\n\n    .dataframe thead th {\n        text-align: right;\n    }\n</style>\n<table border=\"1\" class=\"dataframe\">\n  <thead>\n    <tr style=\"text-align: right;\">\n      <th></th>\n      <th>ModelID</th>\n      <th>HugoSymbol</th>\n    </tr>\n  </thead>\n  <tbody>\n    <tr>\n      <th>29678</th>\n      <td>ACH-000856</td>\n      <td>RPL22</td>\n    </tr>\n    <tr>\n      <th>29699</th>\n      <td>ACH-000856</td>\n      <td>PINK1</td>\n    </tr>\n    <tr>\n      <th>29704</th>\n      <td>ACH-000856</td>\n      <td>ARID1A</td>\n    </tr>\n    <tr>\n      <th>29705</th>\n      <td>ACH-000856</td>\n      <td>ARID1A</td>\n    </tr>\n    <tr>\n      <th>29709</th>\n      <td>ACH-000856</td>\n      <td>UTP11</td>\n    </tr>\n    <tr>\n      <th>...</th>\n      <td>...</td>\n      <td>...</td>\n    </tr>\n    <tr>\n      <th>1296363</th>\n      <td>ACH-000234</td>\n      <td>GPAT3</td>\n    </tr>\n    <tr>\n      <th>1296376</th>\n      <td>ACH-000234</td>\n      <td>JADE2</td>\n    </tr>\n    <tr>\n      <th>1296383</th>\n      <td>ACH-000234</td>\n      <td>RUFY1</td>\n    </tr>\n    <tr>\n      <th>1296548</th>\n      <td>ACH-000234</td>\n      <td>ANPEP</td>\n    </tr>\n    <tr>\n      <th>1296592</th>\n      <td>ACH-000234</td>\n      <td>ZNF440</td>\n    </tr>\n  </tbody>\n</table>\n<p>691 rows × 2 columns</p>\n</div>"
     },
     "execution_count": 17,
     "metadata": {},
     "output_type": "execute_result"
    }
   ],
   "source": [
    "# Start a lof_mutations df with these very pathogenic mutations \n",
    "lof_mutations = pathogenic_mutations[['ModelID', 'HugoSymbol']]\n",
    "lof_mutations"
   ],
   "metadata": {
    "collapsed": false,
    "ExecuteTime": {
     "end_time": "2023-12-30T14:43:05.997882500Z",
     "start_time": "2023-12-30T14:43:05.888045700Z"
    }
   },
   "id": "8a5adaecb057b4f3"
  },
  {
   "cell_type": "code",
   "execution_count": 18,
   "outputs": [
    {
     "data": {
      "text/plain": "      Chrom       Pos Ref Alt     AF  RefCount  AltCount   GT          PS  \\\n0      chr1    963249   G   A  0.303        22         9  0/1         NaN   \n1      chr1   2512914   G   T  0.488        21        19  0/1         NaN   \n2      chr1   6588134   G   A  0.457        19        16  0/1         NaN   \n3      chr1  11715133   C   A  0.500        20        19  0/1         NaN   \n4      chr1  13225429   A   G  0.579        15        21  0|1  13225408.0   \n...     ...       ...  ..  ..    ...       ...       ...  ...         ...   \n2389  chr14  67352948   C   T  0.966         7       245  1|1         NaN   \n2390  chr15  59084193   C   T  0.190       129        31  0/1         NaN   \n2391  chr15  67187484   G   A  0.560        67        86  0/1         NaN   \n2392  chr16  66909296   C   T  0.677        23        52  0/1         NaN   \n2393  chr17   5105919   G   A  0.477        55        49  0/1         NaN   \n\n     VariantType  ... DidaName GwasDisease GwasPmID GTexGene     ModelID  \\\n0            SNP  ...      NaN         NaN      NaN      NaN  ACH-000856   \n1            SNP  ...      NaN         NaN      NaN      NaN  ACH-000856   \n2            SNP  ...      NaN         NaN      NaN      NaN  ACH-000856   \n3            SNP  ...      NaN         NaN      NaN      NaN  ACH-000856   \n4            SNP  ...      NaN         NaN      NaN      NaN  ACH-000856   \n...          ...  ...      ...         ...      ...      ...         ...   \n2389         SNP  ...      NaN         NaN      NaN      NaN  ACH-000234   \n2390         SNP  ...      NaN         NaN      NaN      NaN  ACH-000234   \n2391         SNP  ...      NaN         NaN      NaN      NaN  ACH-000234   \n2392         SNP  ...      NaN         NaN      NaN      NaN  ACH-000234   \n2393         SNP  ...      NaN         NaN      NaN      NaN  ACH-000234   \n\n     EntrezGeneID am_pathogenicity           am_class am_source lof_gof  \n0        339451.0           0.9941  likely_pathogenic   primary     lof  \n1         55229.0           0.9989  likely_pathogenic   primary     lof  \n2          3104.0           0.8938  likely_pathogenic   primary     lof  \n3        374946.0           0.5953  likely_pathogenic   primary     lof  \n4        391003.0           0.5949  likely_pathogenic   primary     lof  \n...           ...              ...                ...       ...     ...  \n2389      51382.0           0.7115  likely_pathogenic   isoform     lof  \n2390      54778.0           0.9261  likely_pathogenic   isoform     lof  \n2391       4088.0           0.7934  likely_pathogenic   isoform     lof  \n2392       1014.0           0.7968  likely_pathogenic   isoform     lof  \n2393       7775.0           0.9664  likely_pathogenic   isoform     lof  \n\n[2394 rows x 60 columns]",
      "text/html": "<div>\n<style scoped>\n    .dataframe tbody tr th:only-of-type {\n        vertical-align: middle;\n    }\n\n    .dataframe tbody tr th {\n        vertical-align: top;\n    }\n\n    .dataframe thead th {\n        text-align: right;\n    }\n</style>\n<table border=\"1\" class=\"dataframe\">\n  <thead>\n    <tr style=\"text-align: right;\">\n      <th></th>\n      <th>Chrom</th>\n      <th>Pos</th>\n      <th>Ref</th>\n      <th>Alt</th>\n      <th>AF</th>\n      <th>RefCount</th>\n      <th>AltCount</th>\n      <th>GT</th>\n      <th>PS</th>\n      <th>VariantType</th>\n      <th>...</th>\n      <th>DidaName</th>\n      <th>GwasDisease</th>\n      <th>GwasPmID</th>\n      <th>GTexGene</th>\n      <th>ModelID</th>\n      <th>EntrezGeneID</th>\n      <th>am_pathogenicity</th>\n      <th>am_class</th>\n      <th>am_source</th>\n      <th>lof_gof</th>\n    </tr>\n  </thead>\n  <tbody>\n    <tr>\n      <th>0</th>\n      <td>chr1</td>\n      <td>963249</td>\n      <td>G</td>\n      <td>A</td>\n      <td>0.303</td>\n      <td>22</td>\n      <td>9</td>\n      <td>0/1</td>\n      <td>NaN</td>\n      <td>SNP</td>\n      <td>...</td>\n      <td>NaN</td>\n      <td>NaN</td>\n      <td>NaN</td>\n      <td>NaN</td>\n      <td>ACH-000856</td>\n      <td>339451.0</td>\n      <td>0.9941</td>\n      <td>likely_pathogenic</td>\n      <td>primary</td>\n      <td>lof</td>\n    </tr>\n    <tr>\n      <th>1</th>\n      <td>chr1</td>\n      <td>2512914</td>\n      <td>G</td>\n      <td>T</td>\n      <td>0.488</td>\n      <td>21</td>\n      <td>19</td>\n      <td>0/1</td>\n      <td>NaN</td>\n      <td>SNP</td>\n      <td>...</td>\n      <td>NaN</td>\n      <td>NaN</td>\n      <td>NaN</td>\n      <td>NaN</td>\n      <td>ACH-000856</td>\n      <td>55229.0</td>\n      <td>0.9989</td>\n      <td>likely_pathogenic</td>\n      <td>primary</td>\n      <td>lof</td>\n    </tr>\n    <tr>\n      <th>2</th>\n      <td>chr1</td>\n      <td>6588134</td>\n      <td>G</td>\n      <td>A</td>\n      <td>0.457</td>\n      <td>19</td>\n      <td>16</td>\n      <td>0/1</td>\n      <td>NaN</td>\n      <td>SNP</td>\n      <td>...</td>\n      <td>NaN</td>\n      <td>NaN</td>\n      <td>NaN</td>\n      <td>NaN</td>\n      <td>ACH-000856</td>\n      <td>3104.0</td>\n      <td>0.8938</td>\n      <td>likely_pathogenic</td>\n      <td>primary</td>\n      <td>lof</td>\n    </tr>\n    <tr>\n      <th>3</th>\n      <td>chr1</td>\n      <td>11715133</td>\n      <td>C</td>\n      <td>A</td>\n      <td>0.500</td>\n      <td>20</td>\n      <td>19</td>\n      <td>0/1</td>\n      <td>NaN</td>\n      <td>SNP</td>\n      <td>...</td>\n      <td>NaN</td>\n      <td>NaN</td>\n      <td>NaN</td>\n      <td>NaN</td>\n      <td>ACH-000856</td>\n      <td>374946.0</td>\n      <td>0.5953</td>\n      <td>likely_pathogenic</td>\n      <td>primary</td>\n      <td>lof</td>\n    </tr>\n    <tr>\n      <th>4</th>\n      <td>chr1</td>\n      <td>13225429</td>\n      <td>A</td>\n      <td>G</td>\n      <td>0.579</td>\n      <td>15</td>\n      <td>21</td>\n      <td>0|1</td>\n      <td>13225408.0</td>\n      <td>SNP</td>\n      <td>...</td>\n      <td>NaN</td>\n      <td>NaN</td>\n      <td>NaN</td>\n      <td>NaN</td>\n      <td>ACH-000856</td>\n      <td>391003.0</td>\n      <td>0.5949</td>\n      <td>likely_pathogenic</td>\n      <td>primary</td>\n      <td>lof</td>\n    </tr>\n    <tr>\n      <th>...</th>\n      <td>...</td>\n      <td>...</td>\n      <td>...</td>\n      <td>...</td>\n      <td>...</td>\n      <td>...</td>\n      <td>...</td>\n      <td>...</td>\n      <td>...</td>\n      <td>...</td>\n      <td>...</td>\n      <td>...</td>\n      <td>...</td>\n      <td>...</td>\n      <td>...</td>\n      <td>...</td>\n      <td>...</td>\n      <td>...</td>\n      <td>...</td>\n      <td>...</td>\n      <td>...</td>\n    </tr>\n    <tr>\n      <th>2389</th>\n      <td>chr14</td>\n      <td>67352948</td>\n      <td>C</td>\n      <td>T</td>\n      <td>0.966</td>\n      <td>7</td>\n      <td>245</td>\n      <td>1|1</td>\n      <td>NaN</td>\n      <td>SNP</td>\n      <td>...</td>\n      <td>NaN</td>\n      <td>NaN</td>\n      <td>NaN</td>\n      <td>NaN</td>\n      <td>ACH-000234</td>\n      <td>51382.0</td>\n      <td>0.7115</td>\n      <td>likely_pathogenic</td>\n      <td>isoform</td>\n      <td>lof</td>\n    </tr>\n    <tr>\n      <th>2390</th>\n      <td>chr15</td>\n      <td>59084193</td>\n      <td>C</td>\n      <td>T</td>\n      <td>0.190</td>\n      <td>129</td>\n      <td>31</td>\n      <td>0/1</td>\n      <td>NaN</td>\n      <td>SNP</td>\n      <td>...</td>\n      <td>NaN</td>\n      <td>NaN</td>\n      <td>NaN</td>\n      <td>NaN</td>\n      <td>ACH-000234</td>\n      <td>54778.0</td>\n      <td>0.9261</td>\n      <td>likely_pathogenic</td>\n      <td>isoform</td>\n      <td>lof</td>\n    </tr>\n    <tr>\n      <th>2391</th>\n      <td>chr15</td>\n      <td>67187484</td>\n      <td>G</td>\n      <td>A</td>\n      <td>0.560</td>\n      <td>67</td>\n      <td>86</td>\n      <td>0/1</td>\n      <td>NaN</td>\n      <td>SNP</td>\n      <td>...</td>\n      <td>NaN</td>\n      <td>NaN</td>\n      <td>NaN</td>\n      <td>NaN</td>\n      <td>ACH-000234</td>\n      <td>4088.0</td>\n      <td>0.7934</td>\n      <td>likely_pathogenic</td>\n      <td>isoform</td>\n      <td>lof</td>\n    </tr>\n    <tr>\n      <th>2392</th>\n      <td>chr16</td>\n      <td>66909296</td>\n      <td>C</td>\n      <td>T</td>\n      <td>0.677</td>\n      <td>23</td>\n      <td>52</td>\n      <td>0/1</td>\n      <td>NaN</td>\n      <td>SNP</td>\n      <td>...</td>\n      <td>NaN</td>\n      <td>NaN</td>\n      <td>NaN</td>\n      <td>NaN</td>\n      <td>ACH-000234</td>\n      <td>1014.0</td>\n      <td>0.7968</td>\n      <td>likely_pathogenic</td>\n      <td>isoform</td>\n      <td>lof</td>\n    </tr>\n    <tr>\n      <th>2393</th>\n      <td>chr17</td>\n      <td>5105919</td>\n      <td>G</td>\n      <td>A</td>\n      <td>0.477</td>\n      <td>55</td>\n      <td>49</td>\n      <td>0/1</td>\n      <td>NaN</td>\n      <td>SNP</td>\n      <td>...</td>\n      <td>NaN</td>\n      <td>NaN</td>\n      <td>NaN</td>\n      <td>NaN</td>\n      <td>ACH-000234</td>\n      <td>7775.0</td>\n      <td>0.9664</td>\n      <td>likely_pathogenic</td>\n      <td>isoform</td>\n      <td>lof</td>\n    </tr>\n  </tbody>\n</table>\n<p>2394 rows × 60 columns</p>\n</div>"
     },
     "execution_count": 18,
     "metadata": {},
     "output_type": "execute_result"
    }
   ],
   "source": [
    "# Open the results from the missense mutation analysis\n",
    "missense_predictions = pd.read_csv(data_path + 'dependant\\\\processed_mutations\\\\alphamissense_pathogenic_predictions.csv')\n",
    "missense_predictions"
   ],
   "metadata": {
    "collapsed": false,
    "ExecuteTime": {
     "end_time": "2023-12-30T14:43:06.092065100Z",
     "start_time": "2023-12-30T14:43:05.903641300Z"
    }
   },
   "id": "bee20f68634aa31d"
  },
  {
   "cell_type": "code",
   "execution_count": 19,
   "outputs": [],
   "source": [
    "# Filter for valid genes and cell lines only\n",
    "missense_predictions = missense_predictions[missense_predictions['ModelID'].isin(valid_cell_lines_list)]\n",
    "missense_predictions = missense_predictions[missense_predictions['HugoSymbol'].isin(valid_genes_list)]"
   ],
   "metadata": {
    "collapsed": false,
    "ExecuteTime": {
     "end_time": "2023-12-30T14:43:06.092065100Z",
     "start_time": "2023-12-30T14:43:05.982264100Z"
    }
   },
   "id": "e363621130bb9cac"
  },
  {
   "cell_type": "code",
   "execution_count": 20,
   "outputs": [
    {
     "data": {
      "text/plain": "lof    1283\ngof      89\nName: lof_gof, dtype: int64"
     },
     "execution_count": 20,
     "metadata": {},
     "output_type": "execute_result"
    }
   ],
   "source": [
    "missense_predictions['lof_gof'].value_counts()"
   ],
   "metadata": {
    "collapsed": false,
    "ExecuteTime": {
     "end_time": "2023-12-30T14:43:06.092065100Z",
     "start_time": "2023-12-30T14:43:05.997882500Z"
    }
   },
   "id": "e97fc3524cf95fc8"
  },
  {
   "cell_type": "code",
   "execution_count": 21,
   "outputs": [],
   "source": [
    "missense_predictions_lof = missense_predictions[missense_predictions['lof_gof']=='lof'][['ModelID', 'HugoSymbol']]\n",
    "missense_predictions_gof = missense_predictions[missense_predictions['lof_gof']=='gof'][['ModelID', 'HugoSymbol']]"
   ],
   "metadata": {
    "collapsed": false,
    "ExecuteTime": {
     "end_time": "2023-12-30T14:43:06.092065100Z",
     "start_time": "2023-12-30T14:43:06.013505100Z"
    }
   },
   "id": "f65cbf90bfbcbe18"
  },
  {
   "cell_type": "code",
   "execution_count": 22,
   "outputs": [
    {
     "data": {
      "text/plain": "         ModelID HugoSymbol\n1     ACH-000856      PANK4\n5     ACH-000856    COL16A1\n6     ACH-000856       CPT2\n8     ACH-000856    COL24A1\n9     ACH-000856      KCND3\n...          ...        ...\n2387  ACH-000234    CACNA1C\n2388  ACH-000234      DOCK9\n2389  ACH-000234    ATP6V1D\n2390  ACH-000234     RNF111\n2391  ACH-000234      SMAD3\n\n[1283 rows x 2 columns]",
      "text/html": "<div>\n<style scoped>\n    .dataframe tbody tr th:only-of-type {\n        vertical-align: middle;\n    }\n\n    .dataframe tbody tr th {\n        vertical-align: top;\n    }\n\n    .dataframe thead th {\n        text-align: right;\n    }\n</style>\n<table border=\"1\" class=\"dataframe\">\n  <thead>\n    <tr style=\"text-align: right;\">\n      <th></th>\n      <th>ModelID</th>\n      <th>HugoSymbol</th>\n    </tr>\n  </thead>\n  <tbody>\n    <tr>\n      <th>1</th>\n      <td>ACH-000856</td>\n      <td>PANK4</td>\n    </tr>\n    <tr>\n      <th>5</th>\n      <td>ACH-000856</td>\n      <td>COL16A1</td>\n    </tr>\n    <tr>\n      <th>6</th>\n      <td>ACH-000856</td>\n      <td>CPT2</td>\n    </tr>\n    <tr>\n      <th>8</th>\n      <td>ACH-000856</td>\n      <td>COL24A1</td>\n    </tr>\n    <tr>\n      <th>9</th>\n      <td>ACH-000856</td>\n      <td>KCND3</td>\n    </tr>\n    <tr>\n      <th>...</th>\n      <td>...</td>\n      <td>...</td>\n    </tr>\n    <tr>\n      <th>2387</th>\n      <td>ACH-000234</td>\n      <td>CACNA1C</td>\n    </tr>\n    <tr>\n      <th>2388</th>\n      <td>ACH-000234</td>\n      <td>DOCK9</td>\n    </tr>\n    <tr>\n      <th>2389</th>\n      <td>ACH-000234</td>\n      <td>ATP6V1D</td>\n    </tr>\n    <tr>\n      <th>2390</th>\n      <td>ACH-000234</td>\n      <td>RNF111</td>\n    </tr>\n    <tr>\n      <th>2391</th>\n      <td>ACH-000234</td>\n      <td>SMAD3</td>\n    </tr>\n  </tbody>\n</table>\n<p>1283 rows × 2 columns</p>\n</div>"
     },
     "execution_count": 22,
     "metadata": {},
     "output_type": "execute_result"
    }
   ],
   "source": [
    "missense_predictions_lof"
   ],
   "metadata": {
    "collapsed": false,
    "ExecuteTime": {
     "end_time": "2023-12-30T14:43:06.092065100Z",
     "start_time": "2023-12-30T14:43:06.031151300Z"
    }
   },
   "id": "4d752f9d80b3fca5"
  },
  {
   "cell_type": "code",
   "execution_count": 23,
   "outputs": [
    {
     "data": {
      "text/plain": "         ModelID HugoSymbol\n7     ACH-000856     PRKAA2\n24    ACH-000856     PIK3CA\n121   ACH-000601    RPS6KA6\n159   ACH-000725       RAF1\n161   ACH-000725     PIK3CA\n...          ...        ...\n2147  ACH-000262       RAC1\n2156  ACH-000876       PAX3\n2318  ACH-000118        ILK\n2329  ACH-000118      GSK3A\n2348  ACH-000320       VRK3\n\n[89 rows x 2 columns]",
      "text/html": "<div>\n<style scoped>\n    .dataframe tbody tr th:only-of-type {\n        vertical-align: middle;\n    }\n\n    .dataframe tbody tr th {\n        vertical-align: top;\n    }\n\n    .dataframe thead th {\n        text-align: right;\n    }\n</style>\n<table border=\"1\" class=\"dataframe\">\n  <thead>\n    <tr style=\"text-align: right;\">\n      <th></th>\n      <th>ModelID</th>\n      <th>HugoSymbol</th>\n    </tr>\n  </thead>\n  <tbody>\n    <tr>\n      <th>7</th>\n      <td>ACH-000856</td>\n      <td>PRKAA2</td>\n    </tr>\n    <tr>\n      <th>24</th>\n      <td>ACH-000856</td>\n      <td>PIK3CA</td>\n    </tr>\n    <tr>\n      <th>121</th>\n      <td>ACH-000601</td>\n      <td>RPS6KA6</td>\n    </tr>\n    <tr>\n      <th>159</th>\n      <td>ACH-000725</td>\n      <td>RAF1</td>\n    </tr>\n    <tr>\n      <th>161</th>\n      <td>ACH-000725</td>\n      <td>PIK3CA</td>\n    </tr>\n    <tr>\n      <th>...</th>\n      <td>...</td>\n      <td>...</td>\n    </tr>\n    <tr>\n      <th>2147</th>\n      <td>ACH-000262</td>\n      <td>RAC1</td>\n    </tr>\n    <tr>\n      <th>2156</th>\n      <td>ACH-000876</td>\n      <td>PAX3</td>\n    </tr>\n    <tr>\n      <th>2318</th>\n      <td>ACH-000118</td>\n      <td>ILK</td>\n    </tr>\n    <tr>\n      <th>2329</th>\n      <td>ACH-000118</td>\n      <td>GSK3A</td>\n    </tr>\n    <tr>\n      <th>2348</th>\n      <td>ACH-000320</td>\n      <td>VRK3</td>\n    </tr>\n  </tbody>\n</table>\n<p>89 rows × 2 columns</p>\n</div>"
     },
     "execution_count": 23,
     "metadata": {},
     "output_type": "execute_result"
    }
   ],
   "source": [
    "missense_predictions_gof"
   ],
   "metadata": {
    "collapsed": false,
    "ExecuteTime": {
     "end_time": "2023-12-30T14:43:06.139475900Z",
     "start_time": "2023-12-30T14:43:06.045157700Z"
    }
   },
   "id": "6d70c8a0de8466bb"
  },
  {
   "cell_type": "code",
   "execution_count": 24,
   "outputs": [
    {
     "name": "stdout",
     "output_type": "stream",
     "text": [
      "1929\n"
     ]
    },
    {
     "data": {
      "text/plain": "          ModelID HugoSymbol\n29678  ACH-000856      RPL22\n29699  ACH-000856      PINK1\n29704  ACH-000856     ARID1A\n29709  ACH-000856      UTP11\n29723  ACH-000856       JAK1\n...           ...        ...\n2387   ACH-000234    CACNA1C\n2388   ACH-000234      DOCK9\n2389   ACH-000234    ATP6V1D\n2390   ACH-000234     RNF111\n2391   ACH-000234      SMAD3\n\n[1929 rows x 2 columns]",
      "text/html": "<div>\n<style scoped>\n    .dataframe tbody tr th:only-of-type {\n        vertical-align: middle;\n    }\n\n    .dataframe tbody tr th {\n        vertical-align: top;\n    }\n\n    .dataframe thead th {\n        text-align: right;\n    }\n</style>\n<table border=\"1\" class=\"dataframe\">\n  <thead>\n    <tr style=\"text-align: right;\">\n      <th></th>\n      <th>ModelID</th>\n      <th>HugoSymbol</th>\n    </tr>\n  </thead>\n  <tbody>\n    <tr>\n      <th>29678</th>\n      <td>ACH-000856</td>\n      <td>RPL22</td>\n    </tr>\n    <tr>\n      <th>29699</th>\n      <td>ACH-000856</td>\n      <td>PINK1</td>\n    </tr>\n    <tr>\n      <th>29704</th>\n      <td>ACH-000856</td>\n      <td>ARID1A</td>\n    </tr>\n    <tr>\n      <th>29709</th>\n      <td>ACH-000856</td>\n      <td>UTP11</td>\n    </tr>\n    <tr>\n      <th>29723</th>\n      <td>ACH-000856</td>\n      <td>JAK1</td>\n    </tr>\n    <tr>\n      <th>...</th>\n      <td>...</td>\n      <td>...</td>\n    </tr>\n    <tr>\n      <th>2387</th>\n      <td>ACH-000234</td>\n      <td>CACNA1C</td>\n    </tr>\n    <tr>\n      <th>2388</th>\n      <td>ACH-000234</td>\n      <td>DOCK9</td>\n    </tr>\n    <tr>\n      <th>2389</th>\n      <td>ACH-000234</td>\n      <td>ATP6V1D</td>\n    </tr>\n    <tr>\n      <th>2390</th>\n      <td>ACH-000234</td>\n      <td>RNF111</td>\n    </tr>\n    <tr>\n      <th>2391</th>\n      <td>ACH-000234</td>\n      <td>SMAD3</td>\n    </tr>\n  </tbody>\n</table>\n<p>1929 rows × 2 columns</p>\n</div>"
     },
     "execution_count": 24,
     "metadata": {},
     "output_type": "execute_result"
    }
   ],
   "source": [
    "lof_mutations = pd.concat([lof_mutations, missense_predictions_lof])\n",
    "lof_mutations = lof_mutations.drop_duplicates()\n",
    "print(len(lof_mutations))\n",
    "lof_mutations"
   ],
   "metadata": {
    "collapsed": false,
    "ExecuteTime": {
     "end_time": "2023-12-30T14:43:06.178900600Z",
     "start_time": "2023-12-30T14:43:06.060803100Z"
    }
   },
   "id": "9a1ad8a54b5cad53"
  },
  {
   "cell_type": "code",
   "execution_count": 25,
   "outputs": [
    {
     "name": "stdout",
     "output_type": "stream",
     "text": [
      "87\n"
     ]
    },
    {
     "data": {
      "text/plain": "         ModelID HugoSymbol\n7     ACH-000856     PRKAA2\n24    ACH-000856     PIK3CA\n121   ACH-000601    RPS6KA6\n159   ACH-000725       RAF1\n161   ACH-000725     PIK3CA\n...          ...        ...\n2147  ACH-000262       RAC1\n2156  ACH-000876       PAX3\n2318  ACH-000118        ILK\n2329  ACH-000118      GSK3A\n2348  ACH-000320       VRK3\n\n[87 rows x 2 columns]",
      "text/html": "<div>\n<style scoped>\n    .dataframe tbody tr th:only-of-type {\n        vertical-align: middle;\n    }\n\n    .dataframe tbody tr th {\n        vertical-align: top;\n    }\n\n    .dataframe thead th {\n        text-align: right;\n    }\n</style>\n<table border=\"1\" class=\"dataframe\">\n  <thead>\n    <tr style=\"text-align: right;\">\n      <th></th>\n      <th>ModelID</th>\n      <th>HugoSymbol</th>\n    </tr>\n  </thead>\n  <tbody>\n    <tr>\n      <th>7</th>\n      <td>ACH-000856</td>\n      <td>PRKAA2</td>\n    </tr>\n    <tr>\n      <th>24</th>\n      <td>ACH-000856</td>\n      <td>PIK3CA</td>\n    </tr>\n    <tr>\n      <th>121</th>\n      <td>ACH-000601</td>\n      <td>RPS6KA6</td>\n    </tr>\n    <tr>\n      <th>159</th>\n      <td>ACH-000725</td>\n      <td>RAF1</td>\n    </tr>\n    <tr>\n      <th>161</th>\n      <td>ACH-000725</td>\n      <td>PIK3CA</td>\n    </tr>\n    <tr>\n      <th>...</th>\n      <td>...</td>\n      <td>...</td>\n    </tr>\n    <tr>\n      <th>2147</th>\n      <td>ACH-000262</td>\n      <td>RAC1</td>\n    </tr>\n    <tr>\n      <th>2156</th>\n      <td>ACH-000876</td>\n      <td>PAX3</td>\n    </tr>\n    <tr>\n      <th>2318</th>\n      <td>ACH-000118</td>\n      <td>ILK</td>\n    </tr>\n    <tr>\n      <th>2329</th>\n      <td>ACH-000118</td>\n      <td>GSK3A</td>\n    </tr>\n    <tr>\n      <th>2348</th>\n      <td>ACH-000320</td>\n      <td>VRK3</td>\n    </tr>\n  </tbody>\n</table>\n<p>87 rows × 2 columns</p>\n</div>"
     },
     "execution_count": 25,
     "metadata": {},
     "output_type": "execute_result"
    }
   ],
   "source": [
    "gof_mutations = missense_predictions_gof\n",
    "gof_mutations = gof_mutations.drop_duplicates()\n",
    "print(len(gof_mutations ))\n",
    "gof_mutations"
   ],
   "metadata": {
    "collapsed": false,
    "ExecuteTime": {
     "end_time": "2023-12-30T14:43:06.178900600Z",
     "start_time": "2023-12-30T14:43:06.076428300Z"
    }
   },
   "id": "fa4e737d89fb9009"
  },
  {
   "cell_type": "code",
   "execution_count": 54,
   "outputs": [
    {
     "data": {
      "text/plain": "          ACH-000352  ACH-000624  ACH-000223  ACH-000768  ACH-000725  \\\nCPD              1.0         1.0         1.0         1.0         1.0   \nZNF3             1.0         1.0         1.0         1.0         1.0   \nCPOX             1.0         1.0         1.0         1.0         1.0   \nSTARD7           1.0         1.0         1.0         1.0         1.0   \nCAPNS1           1.0         1.0         1.0         1.0         1.0   \n...              ...         ...         ...         ...         ...   \nSMAD1            1.0         1.0         1.0         1.0         1.0   \nSUMF2            1.0         1.0         1.0         1.0         1.0   \nSULT6B1          1.0         1.0         1.0         1.0         1.0   \nCEACAM5          1.0         1.0         1.0         1.0         1.0   \nSECISBP2         1.0         1.0         1.0         1.0         1.0   \n\n          ACH-000856  ACH-000849  ACH-000028  ACH-000876  ACH-000621  ...  \\\nCPD              1.0         1.0         1.0         1.0         1.0  ...   \nZNF3             1.0         1.0         1.0         1.0         1.0  ...   \nCPOX             1.0         1.0         1.0         1.0         1.0  ...   \nSTARD7           1.0         1.0         1.0         1.0         1.0  ...   \nCAPNS1           1.0         1.0         1.0         1.0         1.0  ...   \n...              ...         ...         ...         ...         ...  ...   \nSMAD1            1.0         1.0         1.0         1.0         1.0  ...   \nSUMF2            1.0         1.0         1.0         1.0         1.0  ...   \nSULT6B1          1.0         1.0         1.0         1.0         1.0  ...   \nCEACAM5          1.0         1.0         1.0         1.0         1.0  ...   \nSECISBP2         1.0         1.0         1.0         1.0         1.0  ...   \n\n          ACH-000262  ACH-000060  ACH-000178  ACH-000222  ACH-000281  \\\nCPD              1.0         1.0         1.0         1.0         1.0   \nZNF3             1.0         1.0         1.0         1.0         1.0   \nCPOX             1.0         1.0         1.0         1.0         1.0   \nSTARD7           1.0         1.0         1.0         1.0         1.0   \nCAPNS1           1.0         1.0         1.0         1.0         1.0   \n...              ...         ...         ...         ...         ...   \nSMAD1            1.0         1.0         1.0         1.0         1.0   \nSUMF2            1.0         1.0         1.0         1.0         1.0   \nSULT6B1          1.0         1.0         1.0         1.0         1.0   \nCEACAM5          1.0         1.0         1.0         1.0         1.0   \nSECISBP2         1.0         1.0         1.0         1.0         1.0   \n\n          ACH-000265  ACH-000601  ACH-000138  ACH-000320  ACH-000118  \nCPD              1.0         1.0         1.0         1.0         1.0  \nZNF3             1.0         1.0         1.0         1.0         1.0  \nCPOX             1.0         1.0         1.0         1.0         1.0  \nSTARD7           1.0         1.0         1.0         1.0         1.0  \nCAPNS1           1.0         1.0         1.0         1.0         1.0  \n...              ...         ...         ...         ...         ...  \nSMAD1            1.0         1.0         1.0         1.0         1.0  \nSUMF2            1.0         1.0         1.0         1.0         1.0  \nSULT6B1          1.0         1.0         1.0         1.0         1.0  \nCEACAM5          1.0         1.0         1.0         1.0         1.0  \nSECISBP2         1.0         1.0         1.0         1.0         1.0  \n\n[9723 rows x 37 columns]",
      "text/html": "<div>\n<style scoped>\n    .dataframe tbody tr th:only-of-type {\n        vertical-align: middle;\n    }\n\n    .dataframe tbody tr th {\n        vertical-align: top;\n    }\n\n    .dataframe thead th {\n        text-align: right;\n    }\n</style>\n<table border=\"1\" class=\"dataframe\">\n  <thead>\n    <tr style=\"text-align: right;\">\n      <th></th>\n      <th>ACH-000352</th>\n      <th>ACH-000624</th>\n      <th>ACH-000223</th>\n      <th>ACH-000768</th>\n      <th>ACH-000725</th>\n      <th>ACH-000856</th>\n      <th>ACH-000849</th>\n      <th>ACH-000028</th>\n      <th>ACH-000876</th>\n      <th>ACH-000621</th>\n      <th>...</th>\n      <th>ACH-000262</th>\n      <th>ACH-000060</th>\n      <th>ACH-000178</th>\n      <th>ACH-000222</th>\n      <th>ACH-000281</th>\n      <th>ACH-000265</th>\n      <th>ACH-000601</th>\n      <th>ACH-000138</th>\n      <th>ACH-000320</th>\n      <th>ACH-000118</th>\n    </tr>\n  </thead>\n  <tbody>\n    <tr>\n      <th>CPD</th>\n      <td>1.0</td>\n      <td>1.0</td>\n      <td>1.0</td>\n      <td>1.0</td>\n      <td>1.0</td>\n      <td>1.0</td>\n      <td>1.0</td>\n      <td>1.0</td>\n      <td>1.0</td>\n      <td>1.0</td>\n      <td>...</td>\n      <td>1.0</td>\n      <td>1.0</td>\n      <td>1.0</td>\n      <td>1.0</td>\n      <td>1.0</td>\n      <td>1.0</td>\n      <td>1.0</td>\n      <td>1.0</td>\n      <td>1.0</td>\n      <td>1.0</td>\n    </tr>\n    <tr>\n      <th>ZNF3</th>\n      <td>1.0</td>\n      <td>1.0</td>\n      <td>1.0</td>\n      <td>1.0</td>\n      <td>1.0</td>\n      <td>1.0</td>\n      <td>1.0</td>\n      <td>1.0</td>\n      <td>1.0</td>\n      <td>1.0</td>\n      <td>...</td>\n      <td>1.0</td>\n      <td>1.0</td>\n      <td>1.0</td>\n      <td>1.0</td>\n      <td>1.0</td>\n      <td>1.0</td>\n      <td>1.0</td>\n      <td>1.0</td>\n      <td>1.0</td>\n      <td>1.0</td>\n    </tr>\n    <tr>\n      <th>CPOX</th>\n      <td>1.0</td>\n      <td>1.0</td>\n      <td>1.0</td>\n      <td>1.0</td>\n      <td>1.0</td>\n      <td>1.0</td>\n      <td>1.0</td>\n      <td>1.0</td>\n      <td>1.0</td>\n      <td>1.0</td>\n      <td>...</td>\n      <td>1.0</td>\n      <td>1.0</td>\n      <td>1.0</td>\n      <td>1.0</td>\n      <td>1.0</td>\n      <td>1.0</td>\n      <td>1.0</td>\n      <td>1.0</td>\n      <td>1.0</td>\n      <td>1.0</td>\n    </tr>\n    <tr>\n      <th>STARD7</th>\n      <td>1.0</td>\n      <td>1.0</td>\n      <td>1.0</td>\n      <td>1.0</td>\n      <td>1.0</td>\n      <td>1.0</td>\n      <td>1.0</td>\n      <td>1.0</td>\n      <td>1.0</td>\n      <td>1.0</td>\n      <td>...</td>\n      <td>1.0</td>\n      <td>1.0</td>\n      <td>1.0</td>\n      <td>1.0</td>\n      <td>1.0</td>\n      <td>1.0</td>\n      <td>1.0</td>\n      <td>1.0</td>\n      <td>1.0</td>\n      <td>1.0</td>\n    </tr>\n    <tr>\n      <th>CAPNS1</th>\n      <td>1.0</td>\n      <td>1.0</td>\n      <td>1.0</td>\n      <td>1.0</td>\n      <td>1.0</td>\n      <td>1.0</td>\n      <td>1.0</td>\n      <td>1.0</td>\n      <td>1.0</td>\n      <td>1.0</td>\n      <td>...</td>\n      <td>1.0</td>\n      <td>1.0</td>\n      <td>1.0</td>\n      <td>1.0</td>\n      <td>1.0</td>\n      <td>1.0</td>\n      <td>1.0</td>\n      <td>1.0</td>\n      <td>1.0</td>\n      <td>1.0</td>\n    </tr>\n    <tr>\n      <th>...</th>\n      <td>...</td>\n      <td>...</td>\n      <td>...</td>\n      <td>...</td>\n      <td>...</td>\n      <td>...</td>\n      <td>...</td>\n      <td>...</td>\n      <td>...</td>\n      <td>...</td>\n      <td>...</td>\n      <td>...</td>\n      <td>...</td>\n      <td>...</td>\n      <td>...</td>\n      <td>...</td>\n      <td>...</td>\n      <td>...</td>\n      <td>...</td>\n      <td>...</td>\n      <td>...</td>\n    </tr>\n    <tr>\n      <th>SMAD1</th>\n      <td>1.0</td>\n      <td>1.0</td>\n      <td>1.0</td>\n      <td>1.0</td>\n      <td>1.0</td>\n      <td>1.0</td>\n      <td>1.0</td>\n      <td>1.0</td>\n      <td>1.0</td>\n      <td>1.0</td>\n      <td>...</td>\n      <td>1.0</td>\n      <td>1.0</td>\n      <td>1.0</td>\n      <td>1.0</td>\n      <td>1.0</td>\n      <td>1.0</td>\n      <td>1.0</td>\n      <td>1.0</td>\n      <td>1.0</td>\n      <td>1.0</td>\n    </tr>\n    <tr>\n      <th>SUMF2</th>\n      <td>1.0</td>\n      <td>1.0</td>\n      <td>1.0</td>\n      <td>1.0</td>\n      <td>1.0</td>\n      <td>1.0</td>\n      <td>1.0</td>\n      <td>1.0</td>\n      <td>1.0</td>\n      <td>1.0</td>\n      <td>...</td>\n      <td>1.0</td>\n      <td>1.0</td>\n      <td>1.0</td>\n      <td>1.0</td>\n      <td>1.0</td>\n      <td>1.0</td>\n      <td>1.0</td>\n      <td>1.0</td>\n      <td>1.0</td>\n      <td>1.0</td>\n    </tr>\n    <tr>\n      <th>SULT6B1</th>\n      <td>1.0</td>\n      <td>1.0</td>\n      <td>1.0</td>\n      <td>1.0</td>\n      <td>1.0</td>\n      <td>1.0</td>\n      <td>1.0</td>\n      <td>1.0</td>\n      <td>1.0</td>\n      <td>1.0</td>\n      <td>...</td>\n      <td>1.0</td>\n      <td>1.0</td>\n      <td>1.0</td>\n      <td>1.0</td>\n      <td>1.0</td>\n      <td>1.0</td>\n      <td>1.0</td>\n      <td>1.0</td>\n      <td>1.0</td>\n      <td>1.0</td>\n    </tr>\n    <tr>\n      <th>CEACAM5</th>\n      <td>1.0</td>\n      <td>1.0</td>\n      <td>1.0</td>\n      <td>1.0</td>\n      <td>1.0</td>\n      <td>1.0</td>\n      <td>1.0</td>\n      <td>1.0</td>\n      <td>1.0</td>\n      <td>1.0</td>\n      <td>...</td>\n      <td>1.0</td>\n      <td>1.0</td>\n      <td>1.0</td>\n      <td>1.0</td>\n      <td>1.0</td>\n      <td>1.0</td>\n      <td>1.0</td>\n      <td>1.0</td>\n      <td>1.0</td>\n      <td>1.0</td>\n    </tr>\n    <tr>\n      <th>SECISBP2</th>\n      <td>1.0</td>\n      <td>1.0</td>\n      <td>1.0</td>\n      <td>1.0</td>\n      <td>1.0</td>\n      <td>1.0</td>\n      <td>1.0</td>\n      <td>1.0</td>\n      <td>1.0</td>\n      <td>1.0</td>\n      <td>...</td>\n      <td>1.0</td>\n      <td>1.0</td>\n      <td>1.0</td>\n      <td>1.0</td>\n      <td>1.0</td>\n      <td>1.0</td>\n      <td>1.0</td>\n      <td>1.0</td>\n      <td>1.0</td>\n      <td>1.0</td>\n    </tr>\n  </tbody>\n</table>\n<p>9723 rows × 37 columns</p>\n</div>"
     },
     "execution_count": 54,
     "metadata": {},
     "output_type": "execute_result"
    }
   ],
   "source": [
    "# Loading the base weights ones matrix\n",
    "# This can be loaded from the file, or you can use the base_weights dataframe created earlier\n",
    "#lof_gof_matrix = pd.read_csv(data_path + 'dependant/processed_weights/base_weights_reactome_original_lines.csv', index_col=0)\n",
    "lof_gof_matrix = base_weights\n",
    "\n",
    "# Updating the base weights matrix based on the gof_mutations file\n",
    "# Set matrix values to 10 where they correspond to rows in gof_mutations\n",
    "for index, row in gof_mutations.iterrows():\n",
    "    model_id = row['ModelID']\n",
    "    hugo_symbol = row['HugoSymbol']\n",
    "    if model_id in lof_gof_matrix.columns and hugo_symbol in lof_gof_matrix.index:\n",
    "        lof_gof_matrix.at[hugo_symbol, model_id] = 10\n",
    "\n",
    "# Now do the same with the lof_mutations dataframe\n",
    "# Set matrix values to 0 where they correspond to rows in lof_mutations\n",
    "for index, row in lof_mutations.iterrows():\n",
    "    model_id = row['ModelID']\n",
    "    hugo_symbol = row['HugoSymbol']\n",
    "    if model_id in lof_gof_matrix.columns and hugo_symbol in lof_gof_matrix.index:\n",
    "        lof_gof_matrix.at[hugo_symbol, model_id] = 0\n",
    "\n",
    "lof_gof_matrix# Displaying the first few rows of the updated matrix"
   ],
   "metadata": {
    "collapsed": false,
    "ExecuteTime": {
     "end_time": "2023-12-30T15:35:50.264184700Z",
     "start_time": "2023-12-30T15:35:50.154116700Z"
    }
   },
   "id": "2f94d12b933e7846"
  },
  {
   "cell_type": "code",
   "execution_count": 27,
   "outputs": [
    {
     "name": "stdout",
     "output_type": "stream",
     "text": [
      "Number of values equal to 10: 87\n",
      "Number of values equal to 0: 1929\n"
     ]
    }
   ],
   "source": [
    "# Check how many tens and ones in the matrix. Should match the number of lofs and gofs\n",
    "\n",
    "# Load your matrix DataFrame\n",
    "# For example: your_matrix = pd.read_csv('path_to_your_matrix.csv')\n",
    "# Replace 'your_matrix' with your actual DataFrame variable\n",
    "\n",
    "# Counting the number of values in the matrix that are equal to 10 and 0\n",
    "num_values_equal_to_10 = (lof_gof_matrix == 10).sum().sum()\n",
    "num_values_equal_to_0 = (lof_gof_matrix == 0).sum().sum()\n",
    "\n",
    "print(\"Number of values equal to 10:\", num_values_equal_to_10)\n",
    "print(\"Number of values equal to 0:\", num_values_equal_to_0)"
   ],
   "metadata": {
    "collapsed": false,
    "ExecuteTime": {
     "end_time": "2023-12-30T14:43:06.395015Z",
     "start_time": "2023-12-30T14:43:06.243785200Z"
    }
   },
   "id": "444774025c083176"
  },
  {
   "cell_type": "markdown",
   "source": [
    "# Process expression data matrix"
   ],
   "metadata": {
    "collapsed": false
   },
   "id": "33eaa276a6acf533"
  },
  {
   "cell_type": "code",
   "execution_count": 59,
   "outputs": [
    {
     "name": "stdout",
     "output_type": "stream",
     "text": [
      "None\n"
     ]
    },
    {
     "data": {
      "text/plain": "         ACH-000352 ACH-000624 ACH-000223 ACH-000768 ACH-000725 ACH-000856  \\\nCPD        3.545968   3.799087   5.188243   5.316508   6.791814    5.57501   \nZNF3         4.6094   3.247928   3.783457   3.889474   5.955127   5.002252   \nCPOX       2.475085   4.242603   3.408712   6.972003   4.025029   4.506526   \nSTARD7     7.104966   4.984589   6.185074   6.094447   6.514122   6.506684   \nCAPNS1     8.832985   6.040673   9.102028   9.422611   9.175075   8.961479   \n...             ...        ...        ...        ...        ...        ...   \nSMAD1      3.751678   2.792855   3.870858   1.910733   3.969933   3.659925   \nSUMF2      5.892148   5.397803    6.69808   7.248307   7.128665    7.73064   \nSULT6B1         0.0        0.0        0.0        0.0        0.0        0.0   \nCEACAM5    1.111031   0.485427   1.632268   0.226509   0.389567   0.250962   \nSECISBP2   4.400538   3.446256   4.375735   4.268285   5.286881   5.740928   \n\n         ACH-000849 ACH-000028 ACH-000876 ACH-000621  ... ACH-000262  \\\nCPD        4.127633   2.056584   3.371559   3.040892  ...   5.157448   \nZNF3       4.269033   4.902074   4.544733   5.121015  ...   4.640968   \nCPOX       4.493775   2.863938   3.263034   3.509696  ...   5.784242   \nSTARD7     6.739443   6.345538    5.94439     5.8107  ...    5.83289   \nCAPNS1     9.051345   8.832036   9.305264   9.606812  ...   9.004838   \n...             ...        ...        ...        ...  ...        ...   \nSMAD1      4.874797    2.91265   3.181103   3.051372  ...   2.702658   \nSUMF2      8.468502   7.046033    6.06415   7.236684  ...   6.995485   \nSULT6B1         0.0        0.0        0.0        0.0  ...        0.0   \nCEACAM5    0.367371   1.786596   2.849999   0.163499  ...   0.028569   \nSECISBP2   4.320485   4.811985   4.464668   5.049195  ...   4.561326   \n\n         ACH-000060 ACH-000178 ACH-000222 ACH-000281 ACH-000265 ACH-000601  \\\nCPD        3.792855   4.047887     4.8885   4.712045   4.164304   2.841973   \nZNF3         5.1152   5.018367   4.388878   3.960697   5.094236   3.976364   \nCPOX       4.148121    4.42156    2.99458   3.648465   4.177918   3.726831   \nSTARD7     6.460579   6.011675   6.269594   5.679199   6.333782   6.486393   \nCAPNS1     9.358519   8.796267   8.493695    7.98715   8.616439   8.860466   \n...             ...        ...        ...        ...        ...        ...   \nSMAD1      2.903038   3.559492   4.215679   3.926948   4.088311   2.611172   \nSUMF2      7.143128    6.96035   7.675534   6.595593   6.827184   6.450881   \nSULT6B1         0.0        0.0        0.0        0.0        0.0   0.028569   \nCEACAM5    0.084064   1.124328    9.38528   1.974529    0.15056   0.201634   \nSECISBP2   4.919817   4.589164   4.869871   4.400538   4.714795   3.783457   \n\n         ACH-000138 ACH-000320 ACH-000118  \nCPD        5.200457   5.445925   3.148934  \nZNF3       4.432959   3.734439   4.135042  \nCPOX       4.152995   5.292414   3.969012  \nSTARD7     5.558574   5.636335   6.054631  \nCAPNS1     8.129438   8.341052   7.746178  \n...             ...        ...        ...  \nSMAD1      3.468583   3.288359    2.99458  \nSUMF2      6.582405   5.584963     5.8387  \nSULT6B1         0.0        0.0        0.0  \nCEACAM5    4.859473   1.790772   1.263034  \nSECISBP2   3.837943   4.683135    4.32625  \n\n[9723 rows x 37 columns]",
      "text/html": "<div>\n<style scoped>\n    .dataframe tbody tr th:only-of-type {\n        vertical-align: middle;\n    }\n\n    .dataframe tbody tr th {\n        vertical-align: top;\n    }\n\n    .dataframe thead th {\n        text-align: right;\n    }\n</style>\n<table border=\"1\" class=\"dataframe\">\n  <thead>\n    <tr style=\"text-align: right;\">\n      <th></th>\n      <th>ACH-000352</th>\n      <th>ACH-000624</th>\n      <th>ACH-000223</th>\n      <th>ACH-000768</th>\n      <th>ACH-000725</th>\n      <th>ACH-000856</th>\n      <th>ACH-000849</th>\n      <th>ACH-000028</th>\n      <th>ACH-000876</th>\n      <th>ACH-000621</th>\n      <th>...</th>\n      <th>ACH-000262</th>\n      <th>ACH-000060</th>\n      <th>ACH-000178</th>\n      <th>ACH-000222</th>\n      <th>ACH-000281</th>\n      <th>ACH-000265</th>\n      <th>ACH-000601</th>\n      <th>ACH-000138</th>\n      <th>ACH-000320</th>\n      <th>ACH-000118</th>\n    </tr>\n  </thead>\n  <tbody>\n    <tr>\n      <th>CPD</th>\n      <td>3.545968</td>\n      <td>3.799087</td>\n      <td>5.188243</td>\n      <td>5.316508</td>\n      <td>6.791814</td>\n      <td>5.57501</td>\n      <td>4.127633</td>\n      <td>2.056584</td>\n      <td>3.371559</td>\n      <td>3.040892</td>\n      <td>...</td>\n      <td>5.157448</td>\n      <td>3.792855</td>\n      <td>4.047887</td>\n      <td>4.8885</td>\n      <td>4.712045</td>\n      <td>4.164304</td>\n      <td>2.841973</td>\n      <td>5.200457</td>\n      <td>5.445925</td>\n      <td>3.148934</td>\n    </tr>\n    <tr>\n      <th>ZNF3</th>\n      <td>4.6094</td>\n      <td>3.247928</td>\n      <td>3.783457</td>\n      <td>3.889474</td>\n      <td>5.955127</td>\n      <td>5.002252</td>\n      <td>4.269033</td>\n      <td>4.902074</td>\n      <td>4.544733</td>\n      <td>5.121015</td>\n      <td>...</td>\n      <td>4.640968</td>\n      <td>5.1152</td>\n      <td>5.018367</td>\n      <td>4.388878</td>\n      <td>3.960697</td>\n      <td>5.094236</td>\n      <td>3.976364</td>\n      <td>4.432959</td>\n      <td>3.734439</td>\n      <td>4.135042</td>\n    </tr>\n    <tr>\n      <th>CPOX</th>\n      <td>2.475085</td>\n      <td>4.242603</td>\n      <td>3.408712</td>\n      <td>6.972003</td>\n      <td>4.025029</td>\n      <td>4.506526</td>\n      <td>4.493775</td>\n      <td>2.863938</td>\n      <td>3.263034</td>\n      <td>3.509696</td>\n      <td>...</td>\n      <td>5.784242</td>\n      <td>4.148121</td>\n      <td>4.42156</td>\n      <td>2.99458</td>\n      <td>3.648465</td>\n      <td>4.177918</td>\n      <td>3.726831</td>\n      <td>4.152995</td>\n      <td>5.292414</td>\n      <td>3.969012</td>\n    </tr>\n    <tr>\n      <th>STARD7</th>\n      <td>7.104966</td>\n      <td>4.984589</td>\n      <td>6.185074</td>\n      <td>6.094447</td>\n      <td>6.514122</td>\n      <td>6.506684</td>\n      <td>6.739443</td>\n      <td>6.345538</td>\n      <td>5.94439</td>\n      <td>5.8107</td>\n      <td>...</td>\n      <td>5.83289</td>\n      <td>6.460579</td>\n      <td>6.011675</td>\n      <td>6.269594</td>\n      <td>5.679199</td>\n      <td>6.333782</td>\n      <td>6.486393</td>\n      <td>5.558574</td>\n      <td>5.636335</td>\n      <td>6.054631</td>\n    </tr>\n    <tr>\n      <th>CAPNS1</th>\n      <td>8.832985</td>\n      <td>6.040673</td>\n      <td>9.102028</td>\n      <td>9.422611</td>\n      <td>9.175075</td>\n      <td>8.961479</td>\n      <td>9.051345</td>\n      <td>8.832036</td>\n      <td>9.305264</td>\n      <td>9.606812</td>\n      <td>...</td>\n      <td>9.004838</td>\n      <td>9.358519</td>\n      <td>8.796267</td>\n      <td>8.493695</td>\n      <td>7.98715</td>\n      <td>8.616439</td>\n      <td>8.860466</td>\n      <td>8.129438</td>\n      <td>8.341052</td>\n      <td>7.746178</td>\n    </tr>\n    <tr>\n      <th>...</th>\n      <td>...</td>\n      <td>...</td>\n      <td>...</td>\n      <td>...</td>\n      <td>...</td>\n      <td>...</td>\n      <td>...</td>\n      <td>...</td>\n      <td>...</td>\n      <td>...</td>\n      <td>...</td>\n      <td>...</td>\n      <td>...</td>\n      <td>...</td>\n      <td>...</td>\n      <td>...</td>\n      <td>...</td>\n      <td>...</td>\n      <td>...</td>\n      <td>...</td>\n      <td>...</td>\n    </tr>\n    <tr>\n      <th>SMAD1</th>\n      <td>3.751678</td>\n      <td>2.792855</td>\n      <td>3.870858</td>\n      <td>1.910733</td>\n      <td>3.969933</td>\n      <td>3.659925</td>\n      <td>4.874797</td>\n      <td>2.91265</td>\n      <td>3.181103</td>\n      <td>3.051372</td>\n      <td>...</td>\n      <td>2.702658</td>\n      <td>2.903038</td>\n      <td>3.559492</td>\n      <td>4.215679</td>\n      <td>3.926948</td>\n      <td>4.088311</td>\n      <td>2.611172</td>\n      <td>3.468583</td>\n      <td>3.288359</td>\n      <td>2.99458</td>\n    </tr>\n    <tr>\n      <th>SUMF2</th>\n      <td>5.892148</td>\n      <td>5.397803</td>\n      <td>6.69808</td>\n      <td>7.248307</td>\n      <td>7.128665</td>\n      <td>7.73064</td>\n      <td>8.468502</td>\n      <td>7.046033</td>\n      <td>6.06415</td>\n      <td>7.236684</td>\n      <td>...</td>\n      <td>6.995485</td>\n      <td>7.143128</td>\n      <td>6.96035</td>\n      <td>7.675534</td>\n      <td>6.595593</td>\n      <td>6.827184</td>\n      <td>6.450881</td>\n      <td>6.582405</td>\n      <td>5.584963</td>\n      <td>5.8387</td>\n    </tr>\n    <tr>\n      <th>SULT6B1</th>\n      <td>0.0</td>\n      <td>0.0</td>\n      <td>0.0</td>\n      <td>0.0</td>\n      <td>0.0</td>\n      <td>0.0</td>\n      <td>0.0</td>\n      <td>0.0</td>\n      <td>0.0</td>\n      <td>0.0</td>\n      <td>...</td>\n      <td>0.0</td>\n      <td>0.0</td>\n      <td>0.0</td>\n      <td>0.0</td>\n      <td>0.0</td>\n      <td>0.0</td>\n      <td>0.028569</td>\n      <td>0.0</td>\n      <td>0.0</td>\n      <td>0.0</td>\n    </tr>\n    <tr>\n      <th>CEACAM5</th>\n      <td>1.111031</td>\n      <td>0.485427</td>\n      <td>1.632268</td>\n      <td>0.226509</td>\n      <td>0.389567</td>\n      <td>0.250962</td>\n      <td>0.367371</td>\n      <td>1.786596</td>\n      <td>2.849999</td>\n      <td>0.163499</td>\n      <td>...</td>\n      <td>0.028569</td>\n      <td>0.084064</td>\n      <td>1.124328</td>\n      <td>9.38528</td>\n      <td>1.974529</td>\n      <td>0.15056</td>\n      <td>0.201634</td>\n      <td>4.859473</td>\n      <td>1.790772</td>\n      <td>1.263034</td>\n    </tr>\n    <tr>\n      <th>SECISBP2</th>\n      <td>4.400538</td>\n      <td>3.446256</td>\n      <td>4.375735</td>\n      <td>4.268285</td>\n      <td>5.286881</td>\n      <td>5.740928</td>\n      <td>4.320485</td>\n      <td>4.811985</td>\n      <td>4.464668</td>\n      <td>5.049195</td>\n      <td>...</td>\n      <td>4.561326</td>\n      <td>4.919817</td>\n      <td>4.589164</td>\n      <td>4.869871</td>\n      <td>4.400538</td>\n      <td>4.714795</td>\n      <td>3.783457</td>\n      <td>3.837943</td>\n      <td>4.683135</td>\n      <td>4.32625</td>\n    </tr>\n  </tbody>\n</table>\n<p>9723 rows × 37 columns</p>\n</div>"
     },
     "execution_count": 59,
     "metadata": {},
     "output_type": "execute_result"
    }
   ],
   "source": [
    "# Load your matrix. Assuming it's already loaded into a DataFrame named 'matrix'\n",
    "# If it needs to be loaded from a file: matrix = pd.read_csv('your_matrix_file.csv')\n",
    " \n",
    "# Transpose the DataFrame\n",
    "exp_transposed = exp_data.T\n",
    "\n",
    "# Set the first row as the new headers\n",
    "exp_transposed.columns = exp_transposed.iloc[0]\n",
    "\n",
    "# Drop the first row\n",
    "exp_transposed = exp_transposed[1:]\n",
    "\n",
    "# Display the first few rows to check\n",
    "exp_transposed.head()\n",
    "\n",
    "# Get rid of everything after the space in the index (format is SYMBOL (Entrez ID))\n",
    "exp_transposed.index = exp_transposed.index.map(lambda x: x.split(' ')[0])\n",
    "\n",
    "# Remove the name of the index\n",
    "exp_transposed.index.name = None\n",
    "\n",
    "print(exp_transposed.index.name)\n",
    "\n",
    "# Filter matrix2 to have the same rows and columns as matrix1\n",
    "common_rows = lof_gof_matrix.index.intersection(exp_transposed.index)\n",
    "common_columns = lof_gof_matrix.columns.intersection(exp_transposed.columns)\n",
    "\n",
    "filtered_matrix = exp_transposed.loc[common_rows, common_columns]\n",
    "\n",
    "# Reorder rows and columns in filtered_matrix2 to match matrix1\n",
    "expression_matrix = filtered_matrix.reindex(index=lof_gof_matrix.index, columns=lof_gof_matrix.columns)\n",
    "\n",
    "expression_matrix"
   ],
   "metadata": {
    "collapsed": false,
    "ExecuteTime": {
     "end_time": "2023-12-30T15:50:24.983469400Z",
     "start_time": "2023-12-30T15:50:24.157658800Z"
    }
   },
   "id": "6cbc9b20390ba0de"
  },
  {
   "cell_type": "code",
   "execution_count": 60,
   "outputs": [
    {
     "name": "stdout",
     "output_type": "stream",
     "text": [
      "Number of null values: 0\n"
     ]
    }
   ],
   "source": [
    "# Check how many null values in the matrix. Shouldn't be any\n",
    "\n",
    "# Load your matrix DataFrame\n",
    "# For example: your_matrix = pd.read_csv('path_to_your_matrix.csv')\n",
    "# Replace 'your_matrix' with your actual DataFrame variable\n",
    "\n",
    "# Counting the number of values in the matrix that are equal to 10 and 0\n",
    "num_null_values = (expression_matrix == np.nan).sum().sum()\n",
    "\n",
    "print(\"Number of null values:\", num_null_values)"
   ],
   "metadata": {
    "collapsed": false,
    "ExecuteTime": {
     "end_time": "2023-12-30T15:50:37.867285400Z",
     "start_time": "2023-12-30T15:50:37.831527900Z"
    }
   },
   "id": "8589b8b5f5709201"
  },
  {
   "cell_type": "code",
   "execution_count": 61,
   "outputs": [
    {
     "name": "stdout",
     "output_type": "stream",
     "text": [
      "Both rows and columns match.\n"
     ]
    }
   ],
   "source": [
    "# Check that the expression matrix and lof_gof_matrix have identical rows and columns\n",
    "# This checks that the columns and row names match, and are in the same order\n",
    "\n",
    "# Check if row indices match\n",
    "rows_match = lof_gof_matrix.index.equals(expression_matrix.index)\n",
    "\n",
    "# Check if column names match\n",
    "columns_match = lof_gof_matrix.columns.equals(expression_matrix.columns)\n",
    "\n",
    "if rows_match and columns_match:\n",
    "    print(\"Both rows and columns match.\")\n",
    "else:\n",
    "    print(\"Rows match:\", rows_match)\n",
    "    print(\"Columns match:\", columns_match)"
   ],
   "metadata": {
    "collapsed": false,
    "ExecuteTime": {
     "end_time": "2023-12-30T15:50:52.806820900Z",
     "start_time": "2023-12-30T15:50:52.790782600Z"
    }
   },
   "id": "dc0a419975ab20da"
  },
  {
   "cell_type": "code",
   "execution_count": 62,
   "outputs": [
    {
     "data": {
      "text/plain": "         ACH-000352 ACH-000624 ACH-000223 ACH-000768 ACH-000725 ACH-000856  \\\nCPD        3.545968   3.799087   5.188243   5.316508   6.791814    5.57501   \nZNF3         4.6094   3.247928   3.783457   3.889474   5.955127   5.002252   \nCPOX       2.475085   4.242603   3.408712   6.972003   4.025029   4.506526   \nSTARD7     7.104966   4.984589   6.185074   6.094447   6.514122   6.506684   \nCAPNS1     8.832985   6.040673   9.102028   9.422611   9.175075   8.961479   \n...             ...        ...        ...        ...        ...        ...   \nSMAD1      3.751678   2.792855   3.870858   1.910733   3.969933   3.659925   \nSUMF2      5.892148   5.397803    6.69808   7.248307   7.128665    7.73064   \nSULT6B1         0.0        0.0        0.0        0.0        0.0        0.0   \nCEACAM5    1.111031   0.485427   1.632268   0.226509   0.389567   0.250962   \nSECISBP2   4.400538   3.446256   4.375735   4.268285   5.286881   5.740928   \n\n         ACH-000849 ACH-000028 ACH-000876 ACH-000621  ... ACH-000262  \\\nCPD        4.127633   2.056584   3.371559   3.040892  ...   5.157448   \nZNF3       4.269033   4.902074   4.544733   5.121015  ...   4.640968   \nCPOX       4.493775   2.863938   3.263034   3.509696  ...   5.784242   \nSTARD7     6.739443   6.345538    5.94439     5.8107  ...    5.83289   \nCAPNS1     9.051345   8.832036   9.305264   9.606812  ...   9.004838   \n...             ...        ...        ...        ...  ...        ...   \nSMAD1      4.874797    2.91265   3.181103   3.051372  ...   2.702658   \nSUMF2      8.468502   7.046033    6.06415   7.236684  ...   6.995485   \nSULT6B1         0.0        0.0        0.0        0.0  ...        0.0   \nCEACAM5    0.367371   1.786596   2.849999   0.163499  ...   0.028569   \nSECISBP2   4.320485   4.811985   4.464668   5.049195  ...   4.561326   \n\n         ACH-000060 ACH-000178 ACH-000222 ACH-000281 ACH-000265 ACH-000601  \\\nCPD        3.792855   4.047887     4.8885   4.712045   4.164304   2.841973   \nZNF3         5.1152   5.018367   4.388878   3.960697   5.094236   3.976364   \nCPOX       4.148121    4.42156    2.99458   3.648465   4.177918   3.726831   \nSTARD7     6.460579   6.011675   6.269594   5.679199   6.333782   6.486393   \nCAPNS1     9.358519   8.796267   8.493695    7.98715   8.616439   8.860466   \n...             ...        ...        ...        ...        ...        ...   \nSMAD1      2.903038   3.559492   4.215679   3.926948   4.088311   2.611172   \nSUMF2      7.143128    6.96035   7.675534   6.595593   6.827184   6.450881   \nSULT6B1         0.0        0.0        0.0        0.0        0.0   0.028569   \nCEACAM5    0.084064   1.124328    9.38528   1.974529    0.15056   0.201634   \nSECISBP2   4.919817   4.589164   4.869871   4.400538   4.714795   3.783457   \n\n         ACH-000138 ACH-000320 ACH-000118  \nCPD        5.200457   5.445925   3.148934  \nZNF3       4.432959   3.734439   4.135042  \nCPOX       4.152995   5.292414   3.969012  \nSTARD7     5.558574   5.636335   6.054631  \nCAPNS1     8.129438   8.341052   7.746178  \n...             ...        ...        ...  \nSMAD1      3.468583   3.288359    2.99458  \nSUMF2      6.582405   5.584963     5.8387  \nSULT6B1         0.0        0.0        0.0  \nCEACAM5    4.859473   1.790772   1.263034  \nSECISBP2   3.837943   4.683135    4.32625  \n\n[9723 rows x 37 columns]",
      "text/html": "<div>\n<style scoped>\n    .dataframe tbody tr th:only-of-type {\n        vertical-align: middle;\n    }\n\n    .dataframe tbody tr th {\n        vertical-align: top;\n    }\n\n    .dataframe thead th {\n        text-align: right;\n    }\n</style>\n<table border=\"1\" class=\"dataframe\">\n  <thead>\n    <tr style=\"text-align: right;\">\n      <th></th>\n      <th>ACH-000352</th>\n      <th>ACH-000624</th>\n      <th>ACH-000223</th>\n      <th>ACH-000768</th>\n      <th>ACH-000725</th>\n      <th>ACH-000856</th>\n      <th>ACH-000849</th>\n      <th>ACH-000028</th>\n      <th>ACH-000876</th>\n      <th>ACH-000621</th>\n      <th>...</th>\n      <th>ACH-000262</th>\n      <th>ACH-000060</th>\n      <th>ACH-000178</th>\n      <th>ACH-000222</th>\n      <th>ACH-000281</th>\n      <th>ACH-000265</th>\n      <th>ACH-000601</th>\n      <th>ACH-000138</th>\n      <th>ACH-000320</th>\n      <th>ACH-000118</th>\n    </tr>\n  </thead>\n  <tbody>\n    <tr>\n      <th>CPD</th>\n      <td>3.545968</td>\n      <td>3.799087</td>\n      <td>5.188243</td>\n      <td>5.316508</td>\n      <td>6.791814</td>\n      <td>5.57501</td>\n      <td>4.127633</td>\n      <td>2.056584</td>\n      <td>3.371559</td>\n      <td>3.040892</td>\n      <td>...</td>\n      <td>5.157448</td>\n      <td>3.792855</td>\n      <td>4.047887</td>\n      <td>4.8885</td>\n      <td>4.712045</td>\n      <td>4.164304</td>\n      <td>2.841973</td>\n      <td>5.200457</td>\n      <td>5.445925</td>\n      <td>3.148934</td>\n    </tr>\n    <tr>\n      <th>ZNF3</th>\n      <td>4.6094</td>\n      <td>3.247928</td>\n      <td>3.783457</td>\n      <td>3.889474</td>\n      <td>5.955127</td>\n      <td>5.002252</td>\n      <td>4.269033</td>\n      <td>4.902074</td>\n      <td>4.544733</td>\n      <td>5.121015</td>\n      <td>...</td>\n      <td>4.640968</td>\n      <td>5.1152</td>\n      <td>5.018367</td>\n      <td>4.388878</td>\n      <td>3.960697</td>\n      <td>5.094236</td>\n      <td>3.976364</td>\n      <td>4.432959</td>\n      <td>3.734439</td>\n      <td>4.135042</td>\n    </tr>\n    <tr>\n      <th>CPOX</th>\n      <td>2.475085</td>\n      <td>4.242603</td>\n      <td>3.408712</td>\n      <td>6.972003</td>\n      <td>4.025029</td>\n      <td>4.506526</td>\n      <td>4.493775</td>\n      <td>2.863938</td>\n      <td>3.263034</td>\n      <td>3.509696</td>\n      <td>...</td>\n      <td>5.784242</td>\n      <td>4.148121</td>\n      <td>4.42156</td>\n      <td>2.99458</td>\n      <td>3.648465</td>\n      <td>4.177918</td>\n      <td>3.726831</td>\n      <td>4.152995</td>\n      <td>5.292414</td>\n      <td>3.969012</td>\n    </tr>\n    <tr>\n      <th>STARD7</th>\n      <td>7.104966</td>\n      <td>4.984589</td>\n      <td>6.185074</td>\n      <td>6.094447</td>\n      <td>6.514122</td>\n      <td>6.506684</td>\n      <td>6.739443</td>\n      <td>6.345538</td>\n      <td>5.94439</td>\n      <td>5.8107</td>\n      <td>...</td>\n      <td>5.83289</td>\n      <td>6.460579</td>\n      <td>6.011675</td>\n      <td>6.269594</td>\n      <td>5.679199</td>\n      <td>6.333782</td>\n      <td>6.486393</td>\n      <td>5.558574</td>\n      <td>5.636335</td>\n      <td>6.054631</td>\n    </tr>\n    <tr>\n      <th>CAPNS1</th>\n      <td>8.832985</td>\n      <td>6.040673</td>\n      <td>9.102028</td>\n      <td>9.422611</td>\n      <td>9.175075</td>\n      <td>8.961479</td>\n      <td>9.051345</td>\n      <td>8.832036</td>\n      <td>9.305264</td>\n      <td>9.606812</td>\n      <td>...</td>\n      <td>9.004838</td>\n      <td>9.358519</td>\n      <td>8.796267</td>\n      <td>8.493695</td>\n      <td>7.98715</td>\n      <td>8.616439</td>\n      <td>8.860466</td>\n      <td>8.129438</td>\n      <td>8.341052</td>\n      <td>7.746178</td>\n    </tr>\n    <tr>\n      <th>...</th>\n      <td>...</td>\n      <td>...</td>\n      <td>...</td>\n      <td>...</td>\n      <td>...</td>\n      <td>...</td>\n      <td>...</td>\n      <td>...</td>\n      <td>...</td>\n      <td>...</td>\n      <td>...</td>\n      <td>...</td>\n      <td>...</td>\n      <td>...</td>\n      <td>...</td>\n      <td>...</td>\n      <td>...</td>\n      <td>...</td>\n      <td>...</td>\n      <td>...</td>\n      <td>...</td>\n    </tr>\n    <tr>\n      <th>SMAD1</th>\n      <td>3.751678</td>\n      <td>2.792855</td>\n      <td>3.870858</td>\n      <td>1.910733</td>\n      <td>3.969933</td>\n      <td>3.659925</td>\n      <td>4.874797</td>\n      <td>2.91265</td>\n      <td>3.181103</td>\n      <td>3.051372</td>\n      <td>...</td>\n      <td>2.702658</td>\n      <td>2.903038</td>\n      <td>3.559492</td>\n      <td>4.215679</td>\n      <td>3.926948</td>\n      <td>4.088311</td>\n      <td>2.611172</td>\n      <td>3.468583</td>\n      <td>3.288359</td>\n      <td>2.99458</td>\n    </tr>\n    <tr>\n      <th>SUMF2</th>\n      <td>5.892148</td>\n      <td>5.397803</td>\n      <td>6.69808</td>\n      <td>7.248307</td>\n      <td>7.128665</td>\n      <td>7.73064</td>\n      <td>8.468502</td>\n      <td>7.046033</td>\n      <td>6.06415</td>\n      <td>7.236684</td>\n      <td>...</td>\n      <td>6.995485</td>\n      <td>7.143128</td>\n      <td>6.96035</td>\n      <td>7.675534</td>\n      <td>6.595593</td>\n      <td>6.827184</td>\n      <td>6.450881</td>\n      <td>6.582405</td>\n      <td>5.584963</td>\n      <td>5.8387</td>\n    </tr>\n    <tr>\n      <th>SULT6B1</th>\n      <td>0.0</td>\n      <td>0.0</td>\n      <td>0.0</td>\n      <td>0.0</td>\n      <td>0.0</td>\n      <td>0.0</td>\n      <td>0.0</td>\n      <td>0.0</td>\n      <td>0.0</td>\n      <td>0.0</td>\n      <td>...</td>\n      <td>0.0</td>\n      <td>0.0</td>\n      <td>0.0</td>\n      <td>0.0</td>\n      <td>0.0</td>\n      <td>0.0</td>\n      <td>0.028569</td>\n      <td>0.0</td>\n      <td>0.0</td>\n      <td>0.0</td>\n    </tr>\n    <tr>\n      <th>CEACAM5</th>\n      <td>1.111031</td>\n      <td>0.485427</td>\n      <td>1.632268</td>\n      <td>0.226509</td>\n      <td>0.389567</td>\n      <td>0.250962</td>\n      <td>0.367371</td>\n      <td>1.786596</td>\n      <td>2.849999</td>\n      <td>0.163499</td>\n      <td>...</td>\n      <td>0.028569</td>\n      <td>0.084064</td>\n      <td>1.124328</td>\n      <td>9.38528</td>\n      <td>1.974529</td>\n      <td>0.15056</td>\n      <td>0.201634</td>\n      <td>4.859473</td>\n      <td>1.790772</td>\n      <td>1.263034</td>\n    </tr>\n    <tr>\n      <th>SECISBP2</th>\n      <td>4.400538</td>\n      <td>3.446256</td>\n      <td>4.375735</td>\n      <td>4.268285</td>\n      <td>5.286881</td>\n      <td>5.740928</td>\n      <td>4.320485</td>\n      <td>4.811985</td>\n      <td>4.464668</td>\n      <td>5.049195</td>\n      <td>...</td>\n      <td>4.561326</td>\n      <td>4.919817</td>\n      <td>4.589164</td>\n      <td>4.869871</td>\n      <td>4.400538</td>\n      <td>4.714795</td>\n      <td>3.783457</td>\n      <td>3.837943</td>\n      <td>4.683135</td>\n      <td>4.32625</td>\n    </tr>\n  </tbody>\n</table>\n<p>9723 rows × 37 columns</p>\n</div>"
     },
     "execution_count": 62,
     "metadata": {},
     "output_type": "execute_result"
    }
   ],
   "source": [
    "weights_matrix = expression_matrix * lof_gof_matrix\n",
    "weights_matrix"
   ],
   "metadata": {
    "collapsed": false,
    "ExecuteTime": {
     "end_time": "2023-12-30T15:51:30.547764900Z",
     "start_time": "2023-12-30T15:51:30.484694200Z"
    }
   },
   "id": "b6b8ad21b5e1fdfb"
  },
  {
   "cell_type": "code",
   "execution_count": 66,
   "outputs": [
    {
     "name": "stdout",
     "output_type": "stream",
     "text": [
      "0.0285691521967709\n",
      "0.285691521967709\n"
     ]
    }
   ],
   "source": [
    "# Check a gain of function mutation to ensure the expression value has been multiplied by 10\n",
    "# 'RPS6KA6', 'ACH-000601' is GOF\n",
    "print(expression_matrix.loc['RPS6KA6', 'ACH-000601'])\n",
    "print(weights_matrix.loc['RPS6KA6', 'ACH-000601'])"
   ],
   "metadata": {
    "collapsed": false,
    "ExecuteTime": {
     "end_time": "2023-12-30T15:55:59.897175400Z",
     "start_time": "2023-12-30T15:55:59.849804900Z"
    }
   },
   "id": "47e6a2082730d033"
  },
  {
   "cell_type": "code",
   "execution_count": 67,
   "outputs": [
    {
     "name": "stdout",
     "output_type": "stream",
     "text": [
      "3.5372960670908418\n",
      "0.0\n"
     ]
    }
   ],
   "source": [
    "# Check a loss of function mutation to ensure the expression value is set to 0\n",
    "# PINK1, ACH-000856 is LOF\n",
    "print(expression_matrix.loc['PINK1', 'ACH-000856'])\n",
    "print(weights_matrix.loc['PINK1', 'ACH-000856'])"
   ],
   "metadata": {
    "collapsed": false,
    "ExecuteTime": {
     "end_time": "2023-12-30T15:58:52.074572300Z",
     "start_time": "2023-12-30T15:58:52.057425900Z"
    }
   },
   "id": "8113b83fa488bd9e"
  },
  {
   "cell_type": "code",
   "execution_count": null,
   "outputs": [],
   "source": [],
   "metadata": {
    "collapsed": false
   },
   "id": "a126e57cedade0f4"
  }
 ],
 "metadata": {
  "kernelspec": {
   "display_name": "Python 3",
   "language": "python",
   "name": "python3"
  },
  "language_info": {
   "codemirror_mode": {
    "name": "ipython",
    "version": 2
   },
   "file_extension": ".py",
   "mimetype": "text/x-python",
   "name": "python",
   "nbconvert_exporter": "python",
   "pygments_lexer": "ipython2",
   "version": "2.7.6"
  }
 },
 "nbformat": 4,
 "nbformat_minor": 5
}
