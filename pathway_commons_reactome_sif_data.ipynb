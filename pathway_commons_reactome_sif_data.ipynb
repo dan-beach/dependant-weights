{
 "cells": [
  {
   "cell_type": "code",
   "execution_count": 176,
   "id": "initial_id",
   "metadata": {
    "collapsed": true,
    "ExecuteTime": {
     "end_time": "2023-12-14T09:44:43.132627900Z",
     "start_time": "2023-12-14T09:44:43.070223100Z"
    }
   },
   "outputs": [],
   "source": [
    "import os\n",
    "import pandas as pd\n",
    "import matplotlib.pyplot as plt\n",
    "from biomart import BiomartServer\n",
    "import io"
   ]
  },
  {
   "cell_type": "code",
   "execution_count": 177,
   "outputs": [
    {
     "data": {
      "text/plain": "['biomart',\n 'depmap',\n 'missing_gene_names.csv',\n 'pathway_commons',\n 'reactome',\n 'reactome_rows_to_drop.csv',\n 'string']"
     },
     "execution_count": 177,
     "metadata": {},
     "output_type": "execute_result"
    }
   ],
   "source": [
    "#os.getcwd()\n",
    "\n",
    "# Linux workstation\n",
    "#data_path = '/home/db600/phd/data/'\n",
    "\n",
    "# Laptop\n",
    "data_path = 'C:\\\\Users\\\\dan\\\\Documents\\\\phd\\\\data\\\\'\n",
    "\n",
    "os.listdir(data_path)"
   ],
   "metadata": {
    "collapsed": false,
    "ExecuteTime": {
     "end_time": "2023-12-14T09:44:43.179894200Z",
     "start_time": "2023-12-14T09:44:43.085740200Z"
    }
   },
   "id": "e734db8459feaf32"
  },
  {
   "cell_type": "code",
   "execution_count": 178,
   "outputs": [
    {
     "data": {
      "text/plain": "['PathwayCommons12.reactome.hgnc.gmt',\n 'PathwayCommons12.reactome.hgnc.gmt.gz',\n 'PathwayCommons12.reactome.hgnc.sif',\n 'PathwayCommons12.reactome.hgnc.sif.gz',\n 'PathwayCommons12.reactome.hgnc.txt',\n 'PathwayCommons12.reactome.hgnc.txt.gz',\n 'PathwayCommons12.reactome.uniprot.gmt',\n 'PathwayCommons12.reactome.uniprot.gmt.gz']"
     },
     "execution_count": 178,
     "metadata": {},
     "output_type": "execute_result"
    }
   ],
   "source": [
    "os.listdir(data_path + '/pathway_commons/')"
   ],
   "metadata": {
    "collapsed": false,
    "ExecuteTime": {
     "end_time": "2023-12-14T09:44:43.179894200Z",
     "start_time": "2023-12-14T09:44:43.101388Z"
    }
   },
   "id": "fd659b1ed25390e0"
  },
  {
   "cell_type": "code",
   "execution_count": 179,
   "outputs": [
    {
     "data": {
      "text/plain": "Index(['PARTICIPANT_A', 'INTERACTION_TYPE', 'PARTICIPANT_B'], dtype='object')"
     },
     "execution_count": 179,
     "metadata": {},
     "output_type": "execute_result"
    }
   ],
   "source": [
    "reactome_sif = pd.read_csv(data_path + \"pathway_commons/PathwayCommons12.reactome.hgnc.sif\", sep=\"\\t\")\n",
    "reactome_sif.head()\n",
    "reactome_sif.columns = ['PARTICIPANT_A', 'INTERACTION_TYPE', 'PARTICIPANT_B']\n",
    "reactome_sif.columns"
   ],
   "metadata": {
    "collapsed": false,
    "ExecuteTime": {
     "end_time": "2023-12-14T09:44:43.251199100Z",
     "start_time": "2023-12-14T09:44:43.117013100Z"
    }
   },
   "id": "911a8569b59173b9"
  },
  {
   "cell_type": "code",
   "execution_count": 180,
   "outputs": [
    {
     "name": "stdout",
     "output_type": "stream",
     "text": [
      "['in-complex-with' 'controls-state-change-of' 'controls-production-of'\n",
      " 'controls-transport-of' 'controls-transport-of-chemical'\n",
      " 'catalysis-precedes' 'controls-phosphorylation-of'\n",
      " 'controls-expression-of' 'chemical-affects' 'used-to-produce'\n",
      " 'consumption-controlled-by' 'reacts-with']\n"
     ]
    }
   ],
   "source": [
    "print(reactome_sif['INTERACTION_TYPE'].unique())"
   ],
   "metadata": {
    "collapsed": false,
    "ExecuteTime": {
     "end_time": "2023-12-14T09:44:43.282801800Z",
     "start_time": "2023-12-14T09:44:43.251199100Z"
    }
   },
   "id": "7527938f700d6de5"
  },
  {
   "cell_type": "code",
   "execution_count": 181,
   "outputs": [
    {
     "data": {
      "text/plain": "  PARTICIPANT_A INTERACTION_TYPE PARTICIPANT_B\n0          A1CF  in-complex-with       APOBEC2\n1          A1CF  in-complex-with      APOBEC3A\n2          A1CF  in-complex-with      APOBEC3B\n3          A1CF  in-complex-with      APOBEC3C\n4          A1CF  in-complex-with      APOBEC3H",
      "text/html": "<div>\n<style scoped>\n    .dataframe tbody tr th:only-of-type {\n        vertical-align: middle;\n    }\n\n    .dataframe tbody tr th {\n        vertical-align: top;\n    }\n\n    .dataframe thead th {\n        text-align: right;\n    }\n</style>\n<table border=\"1\" class=\"dataframe\">\n  <thead>\n    <tr style=\"text-align: right;\">\n      <th></th>\n      <th>PARTICIPANT_A</th>\n      <th>INTERACTION_TYPE</th>\n      <th>PARTICIPANT_B</th>\n    </tr>\n  </thead>\n  <tbody>\n    <tr>\n      <th>0</th>\n      <td>A1CF</td>\n      <td>in-complex-with</td>\n      <td>APOBEC2</td>\n    </tr>\n    <tr>\n      <th>1</th>\n      <td>A1CF</td>\n      <td>in-complex-with</td>\n      <td>APOBEC3A</td>\n    </tr>\n    <tr>\n      <th>2</th>\n      <td>A1CF</td>\n      <td>in-complex-with</td>\n      <td>APOBEC3B</td>\n    </tr>\n    <tr>\n      <th>3</th>\n      <td>A1CF</td>\n      <td>in-complex-with</td>\n      <td>APOBEC3C</td>\n    </tr>\n    <tr>\n      <th>4</th>\n      <td>A1CF</td>\n      <td>in-complex-with</td>\n      <td>APOBEC3H</td>\n    </tr>\n  </tbody>\n</table>\n</div>"
     },
     "execution_count": 181,
     "metadata": {},
     "output_type": "execute_result"
    }
   ],
   "source": [
    "reactome_sif.head()"
   ],
   "metadata": {
    "collapsed": false,
    "ExecuteTime": {
     "end_time": "2023-12-14T09:44:43.298440200Z",
     "start_time": "2023-12-14T09:44:43.282801800Z"
    }
   },
   "id": "35cf88030f92149c"
  },
  {
   "cell_type": "code",
   "execution_count": 182,
   "outputs": [
    {
     "name": "stdout",
     "output_type": "stream",
     "text": [
      "Edges: 353635 (with duplicates)\n"
     ]
    }
   ],
   "source": [
    "# Get row count for number of edges in the dataset\n",
    "print(f'Edges: {len(reactome_sif)} (with duplicates)')"
   ],
   "metadata": {
    "collapsed": false,
    "ExecuteTime": {
     "end_time": "2023-12-14T09:44:43.345375400Z",
     "start_time": "2023-12-14T09:44:43.298440200Z"
    }
   },
   "id": "eaa487c299371ea7"
  },
  {
   "cell_type": "code",
   "execution_count": 183,
   "outputs": [
    {
     "name": "stdout",
     "output_type": "stream",
     "text": [
      "Edges: 329941 (no duplicates)\n"
     ]
    }
   ],
   "source": [
    "# The same pairs are included multiple times with different interaction labels. Filter out these duplicates\n",
    "reactome_no_duplicates = reactome_sif.drop_duplicates(subset=['PARTICIPANT_A','PARTICIPANT_B'])\n",
    "\n",
    "# How many edges remaning?\n",
    "print(f'Edges: {len(reactome_no_duplicates)} (no duplicates)')"
   ],
   "metadata": {
    "collapsed": false,
    "ExecuteTime": {
     "end_time": "2023-12-14T09:44:43.439643300Z",
     "start_time": "2023-12-14T09:44:43.314075700Z"
    }
   },
   "id": "16d8aede53e99ca8"
  },
  {
   "cell_type": "code",
   "execution_count": 184,
   "outputs": [
    {
     "data": {
      "text/plain": "  PARTICIPANT_A INTERACTION_TYPE PARTICIPANT_B\n0          A1CF  in-complex-with       APOBEC2\n1          A1CF  in-complex-with      APOBEC3A\n2          A1CF  in-complex-with      APOBEC3B\n3          A1CF  in-complex-with      APOBEC3C\n4          A1CF  in-complex-with      APOBEC3H",
      "text/html": "<div>\n<style scoped>\n    .dataframe tbody tr th:only-of-type {\n        vertical-align: middle;\n    }\n\n    .dataframe tbody tr th {\n        vertical-align: top;\n    }\n\n    .dataframe thead th {\n        text-align: right;\n    }\n</style>\n<table border=\"1\" class=\"dataframe\">\n  <thead>\n    <tr style=\"text-align: right;\">\n      <th></th>\n      <th>PARTICIPANT_A</th>\n      <th>INTERACTION_TYPE</th>\n      <th>PARTICIPANT_B</th>\n    </tr>\n  </thead>\n  <tbody>\n    <tr>\n      <th>0</th>\n      <td>A1CF</td>\n      <td>in-complex-with</td>\n      <td>APOBEC2</td>\n    </tr>\n    <tr>\n      <th>1</th>\n      <td>A1CF</td>\n      <td>in-complex-with</td>\n      <td>APOBEC3A</td>\n    </tr>\n    <tr>\n      <th>2</th>\n      <td>A1CF</td>\n      <td>in-complex-with</td>\n      <td>APOBEC3B</td>\n    </tr>\n    <tr>\n      <th>3</th>\n      <td>A1CF</td>\n      <td>in-complex-with</td>\n      <td>APOBEC3C</td>\n    </tr>\n    <tr>\n      <th>4</th>\n      <td>A1CF</td>\n      <td>in-complex-with</td>\n      <td>APOBEC3H</td>\n    </tr>\n  </tbody>\n</table>\n</div>"
     },
     "execution_count": 184,
     "metadata": {},
     "output_type": "execute_result"
    }
   ],
   "source": [
    "reactome_no_duplicates.head()"
   ],
   "metadata": {
    "collapsed": false,
    "ExecuteTime": {
     "end_time": "2023-12-14T09:44:43.455241400Z",
     "start_time": "2023-12-14T09:44:43.377059100Z"
    }
   },
   "id": "93e9e2268c2aae64"
  },
  {
   "cell_type": "code",
   "execution_count": 185,
   "outputs": [
    {
     "data": {
      "text/plain": "<Figure size 640x480 with 1 Axes>",
      "image/png": "[encoded data removed]"
     },
     "metadata": {},
     "output_type": "display_data"
    }
   ],
   "source": [
    "# Get number of nodes and edges and plot histogram of edges showing number of nodes with X edges \n",
    "total_gene_a = reactome_no_duplicates['PARTICIPANT_A'].tolist()\n",
    "total_gene_b = reactome_no_duplicates['PARTICIPANT_B'].tolist()\n",
    "total_genes = total_gene_a + total_gene_b\n",
    "\n",
    "total_genes_df = pd.DataFrame(total_genes, columns=['gene'])\n",
    "\n",
    "total_genes_df['edges'] = total_genes_df['gene'].map(total_genes_df['gene'].value_counts())\n",
    "\n",
    "#total_genes_df.head()\n",
    "\n",
    "unique_genes_df = total_genes_df.drop_duplicates('gene') \n",
    "unique_genes_df.sort_values(by='edges', ascending=False)\n",
    "\n",
    "fig = unique_genes_df.plot(kind='hist', bins=200)\n",
    "\n",
    "plt.yscale('log')\n",
    "plt.show()"
   ],
   "metadata": {
    "collapsed": false,
    "ExecuteTime": {
     "end_time": "2023-12-14T09:44:44.153110100Z",
     "start_time": "2023-12-14T09:44:43.392718500Z"
    }
   },
   "id": "2fa02ebdb6baf5dd"
  },
  {
   "cell_type": "code",
   "execution_count": 186,
   "outputs": [
    {
     "name": "stdout",
     "output_type": "stream",
     "text": [
      " Unique gene a: 10055\n",
      " Unique gene b: 10907\n",
      " Total unique nodes: 12323\n"
     ]
    }
   ],
   "source": [
    "# See how many nodes there are\n",
    "unique_gene_a = reactome_no_duplicates['PARTICIPANT_A'].unique().tolist()\n",
    "unique_gene_b = reactome_no_duplicates['PARTICIPANT_B'].unique().tolist()\n",
    "unique_gene_all = set(unique_gene_a + unique_gene_b)\n",
    "\n",
    "print(f' Unique gene a: {len(unique_gene_a)}')\n",
    "print(f' Unique gene b: {len(unique_gene_b)}')\n",
    "print(f' Total unique nodes: {len(unique_gene_all)}')\n",
    "\n",
    "#df = pd.DataFrame.from_dict(count, orient='index')\n",
    "#df.plot(kind='bar')"
   ],
   "metadata": {
    "collapsed": false,
    "ExecuteTime": {
     "end_time": "2023-12-14T09:44:44.200425600Z",
     "start_time": "2023-12-14T09:44:44.153110100Z"
    }
   },
   "id": "d7c55fd4c10e2704"
  },
  {
   "cell_type": "code",
   "execution_count": 187,
   "outputs": [
    {
     "name": "stdout",
     "output_type": "stream",
     "text": [
      "[BiomartServer:'http://useast.ensembl.org/biomart/martservice'] Fetching datasets\n",
      "[BiomartServer:'http://useast.ensembl.org/biomart/martservice'] Fetching databases\n",
      "[BiomartDatabase:'Ensembl Genes 110'] Fetching datasets\n",
      "[BiomartDatabase:'Mouse strains 110'] Fetching datasets\n",
      "[BiomartDatabase:'Sequence'] Fetching datasets\n",
      "[BiomartDatabase:'Ontology'] Fetching datasets\n",
      "[BiomartDatabase:'Genomic features 110'] Fetching datasets\n",
      "[BiomartDatabase:'Ensembl Variation 110'] Fetching datasets\n",
      "[BiomartDatabase:'Ensembl Regulation 110'] Fetching datasets\n",
      "[BiomartDataset:'hsapiens_gene_ensembl'] Searching using following params:\n",
      "{'attributes': ['ensembl_gene_id',\n",
      "                'hgnc_symbol',\n",
      "                'external_gene_name',\n",
      "                'chromosome_name',\n",
      "                'ensembl_transcript_id',\n",
      "                'ensembl_peptide_id',\n",
      "                'uniprotsptrembl',\n",
      "                'uniprotswissprot']}\n",
      "[BiomartDataset:'hsapiens_gene_ensembl'] Fetching attributes\n",
      "[BiomartDataset] search query:\n",
      "b'<Query virtualSchemaName=\"default\" formatter=\"TSV\" header=\"1\" uniqueRows=\"1\" datasetConfigVersion=\"0.6\" count=\"\"><Dataset name=\"hsapiens_gene_ensembl\" interface=\"default\"><Attribute name=\"ensembl_gene_id\" /><Attribute name=\"hgnc_symbol\" /><Attribute name=\"external_gene_name\" /><Attribute name=\"chromosome_name\" /><Attribute name=\"ensembl_transcript_id\" /><Attribute name=\"ensembl_peptide_id\" /><Attribute name=\"uniprotsptrembl\" /><Attribute name=\"uniprotswissprot\" /></Dataset></Query>'\n"
     ]
    }
   ],
   "source": [
    "#Connect to a Biomart Server\n",
    "server = BiomartServer(\"http://useast.ensembl.org/biomart\")\n",
    "\n",
    "# set verbose to True to get some messages\n",
    "server.verbose = True\n",
    "\n",
    "# use the 'hsapiens_gene_ensembl' dataset\n",
    "hsapiens_gene_ensembl = server.datasets['hsapiens_gene_ensembl']\n",
    "\n",
    "# show all available filters and attributes of the 'hsapiens_gene_ensembl' dataset\n",
    "#hsapiens_gene_ensembl.show_filters()  # uses print\n",
    "#hsapiens_gene_ensembl.show_attributes()  # uses print\n",
    "\n",
    "# run a search with custom filters and attributes and a header\n",
    "response = hsapiens_gene_ensembl.search({\n",
    "  #'filters': {\n",
    "  #    'ensembl_gene_id': unique_gene_all,\n",
    "  #},\n",
    "  'attributes': [\n",
    "      'ensembl_gene_id', 'hgnc_symbol', 'external_gene_name', 'chromosome_name', 'ensembl_transcript_id', 'ensembl_peptide_id', 'uniprotsptrembl', 'uniprotswissprot'\n",
    "  ]\n",
    "}, header = 1)\n",
    "\n",
    "# This code will write the response to screen line by line\n",
    "# #response format is TSV\n",
    "# for line in response.iter_lines():\n",
    "#   line = line.decode('utf-8')\n",
    "#   #print(line.split(\"\\t\"))\n",
    "\n",
    "# Convert response to pandas dataframe\n",
    "if response.ok:\n",
    "    # Convert the response content to a file-like object\n",
    "    content = io.StringIO(response.content.decode('utf-8'))\n",
    "\n",
    "    # Read the content into a DataFrame\n",
    "    biomart = pd.read_csv(content, sep='\\t')\n",
    "else:\n",
    "    print(\"Error with the response\")"
   ],
   "metadata": {
    "collapsed": false,
    "ExecuteTime": {
     "end_time": "2023-12-14T09:46:01.155096700Z",
     "start_time": "2023-12-14T09:44:44.200425600Z"
    }
   },
   "id": "5ded4dc0ba67e66b"
  },
  {
   "cell_type": "code",
   "execution_count": 188,
   "outputs": [],
   "source": [
    "# Alternative to using biomart package - use downloaded copy instead\n",
    "#biomart = pd.read_csv(data_path + \"biomart/ensg_enst_ensp_hgnc_name.txt\")"
   ],
   "metadata": {
    "collapsed": false,
    "ExecuteTime": {
     "end_time": "2023-12-14T09:46:01.170677500Z",
     "start_time": "2023-12-14T09:46:01.155096700Z"
    }
   },
   "id": "d90824e52103aaf9"
  },
  {
   "cell_type": "code",
   "execution_count": 189,
   "outputs": [
    {
     "data": {
      "text/plain": "    Gene stable ID HGNC symbol Gene name Chromosome/scaffold name  \\\n0  ENSG00000198888      MT-ND1    MT-ND1                       MT   \n1  ENSG00000198763      MT-ND2    MT-ND2                       MT   \n2  ENSG00000198804      MT-CO1    MT-CO1                       MT   \n3  ENSG00000198712      MT-CO2    MT-CO2                       MT   \n4  ENSG00000228253     MT-ATP8   MT-ATP8                       MT   \n\n  Transcript stable ID Protein stable ID UniProtKB/TrEMBL ID  \\\n0      ENST00000361390   ENSP00000354687              U5Z754   \n1      ENST00000361453   ENSP00000355046              Q7GXY9   \n2      ENST00000361624   ENSP00000354499              U5YWV7   \n3      ENST00000361739   ENSP00000354876              U5Z487   \n4      ENST00000361851   ENSP00000355265              U5YV54   \n\n  UniProtKB/Swiss-Prot ID  \n0                  P03886  \n1                  P03891  \n2                  P00395  \n3                  P00403  \n4                  P03928  ",
      "text/html": "<div>\n<style scoped>\n    .dataframe tbody tr th:only-of-type {\n        vertical-align: middle;\n    }\n\n    .dataframe tbody tr th {\n        vertical-align: top;\n    }\n\n    .dataframe thead th {\n        text-align: right;\n    }\n</style>\n<table border=\"1\" class=\"dataframe\">\n  <thead>\n    <tr style=\"text-align: right;\">\n      <th></th>\n      <th>Gene stable ID</th>\n      <th>HGNC symbol</th>\n      <th>Gene name</th>\n      <th>Chromosome/scaffold name</th>\n      <th>Transcript stable ID</th>\n      <th>Protein stable ID</th>\n      <th>UniProtKB/TrEMBL ID</th>\n      <th>UniProtKB/Swiss-Prot ID</th>\n    </tr>\n  </thead>\n  <tbody>\n    <tr>\n      <th>0</th>\n      <td>ENSG00000198888</td>\n      <td>MT-ND1</td>\n      <td>MT-ND1</td>\n      <td>MT</td>\n      <td>ENST00000361390</td>\n      <td>ENSP00000354687</td>\n      <td>U5Z754</td>\n      <td>P03886</td>\n    </tr>\n    <tr>\n      <th>1</th>\n      <td>ENSG00000198763</td>\n      <td>MT-ND2</td>\n      <td>MT-ND2</td>\n      <td>MT</td>\n      <td>ENST00000361453</td>\n      <td>ENSP00000355046</td>\n      <td>Q7GXY9</td>\n      <td>P03891</td>\n    </tr>\n    <tr>\n      <th>2</th>\n      <td>ENSG00000198804</td>\n      <td>MT-CO1</td>\n      <td>MT-CO1</td>\n      <td>MT</td>\n      <td>ENST00000361624</td>\n      <td>ENSP00000354499</td>\n      <td>U5YWV7</td>\n      <td>P00395</td>\n    </tr>\n    <tr>\n      <th>3</th>\n      <td>ENSG00000198712</td>\n      <td>MT-CO2</td>\n      <td>MT-CO2</td>\n      <td>MT</td>\n      <td>ENST00000361739</td>\n      <td>ENSP00000354876</td>\n      <td>U5Z487</td>\n      <td>P00403</td>\n    </tr>\n    <tr>\n      <th>4</th>\n      <td>ENSG00000228253</td>\n      <td>MT-ATP8</td>\n      <td>MT-ATP8</td>\n      <td>MT</td>\n      <td>ENST00000361851</td>\n      <td>ENSP00000355265</td>\n      <td>U5YV54</td>\n      <td>P03928</td>\n    </tr>\n  </tbody>\n</table>\n</div>"
     },
     "execution_count": 189,
     "metadata": {},
     "output_type": "execute_result"
    }
   ],
   "source": [
    "biomart.head()"
   ],
   "metadata": {
    "collapsed": false,
    "ExecuteTime": {
     "end_time": "2023-12-14T09:46:01.201930700Z",
     "start_time": "2023-12-14T09:46:01.170677500Z"
    }
   },
   "id": "f6367c527f846d44"
  },
  {
   "cell_type": "code",
   "execution_count": 190,
   "outputs": [
    {
     "name": "stdout",
     "output_type": "stream",
     "text": [
      "Rows in conversion dataframe: 123120\n"
     ]
    }
   ],
   "source": [
    "print(f'Rows in conversion dataframe: {len(biomart)}')"
   ],
   "metadata": {
    "collapsed": false,
    "ExecuteTime": {
     "end_time": "2023-12-14T09:46:01.233842200Z",
     "start_time": "2023-12-14T09:46:01.186307400Z"
    }
   },
   "id": "9a20d423b9bcdb57"
  },
  {
   "cell_type": "code",
   "execution_count": 191,
   "outputs": [
    {
     "name": "stdout",
     "output_type": "stream",
     "text": [
      "Rows in conversion dataframe: 111338\n"
     ]
    }
   ],
   "source": [
    "# Biomart data will include multiple ensembl gene ids for each HGNC symbol due to patches and alternate sequences. \n",
    "# We only want one ENSG per HGNC symbol so we will use the primary assembly. To do this select only chromosomes/scaffolds 1-23 and X/Y\n",
    "scaffolds = ['1', '2', '3', '4', '5', '6', '7', '8', '9', '10', '11', '12', '13', '14', '15', '16', '17', '18', '19', '20', '21', '22', 'X', 'Y']\n",
    "biomart_primary = biomart[biomart['Chromosome/scaffold name'].isin(scaffolds)]\n",
    "\n",
    "print(f'Rows in conversion dataframe: {len(biomart_primary)}')"
   ],
   "metadata": {
    "collapsed": false,
    "ExecuteTime": {
     "end_time": "2023-12-14T09:46:01.312484400Z",
     "start_time": "2023-12-14T09:46:01.206025900Z"
    }
   },
   "id": "26c3cb8b38e02b6a"
  },
  {
   "cell_type": "code",
   "execution_count": 192,
   "outputs": [
    {
     "name": "stdout",
     "output_type": "stream",
     "text": [
      "106807\n",
      "1018\n"
     ]
    }
   ],
   "source": [
    "# See how many duplicates there are (HGNC symbol/Gene stable ID combination)\n",
    "print(len(biomart_primary[biomart_primary.duplicated(subset=['HGNC symbol', 'Gene stable ID'], keep=False)]))\n",
    "\n",
    "# See how many rows are missing HGNC symbol\n",
    "print(len(biomart_primary[biomart_primary['HGNC symbol'].isnull()]))"
   ],
   "metadata": {
    "collapsed": false,
    "ExecuteTime": {
     "end_time": "2023-12-14T09:46:01.328196500Z",
     "start_time": "2023-12-14T09:46:01.233842200Z"
    }
   },
   "id": "d7d978284b7015b6"
  },
  {
   "cell_type": "code",
   "execution_count": 193,
   "outputs": [
    {
     "name": "stdout",
     "output_type": "stream",
     "text": [
      "20445\n",
      "19825\n"
     ]
    }
   ],
   "source": [
    "# Drop duplicate biomart rows and anything without an HGNC\n",
    "biomart_no_null = biomart_primary.drop_duplicates(subset=['HGNC symbol', 'Gene stable ID'], keep='first')\n",
    "print(len(biomart_no_null))\n",
    "\n",
    "biomart_no_null = biomart_no_null.dropna(subset=['HGNC symbol'])\n",
    "print(len(biomart_no_null))"
   ],
   "metadata": {
    "collapsed": false,
    "ExecuteTime": {
     "end_time": "2023-12-14T09:46:01.328196500Z",
     "start_time": "2023-12-14T09:46:01.280744800Z"
    }
   },
   "id": "20b168043c7297e3"
  },
  {
   "cell_type": "code",
   "execution_count": 194,
   "outputs": [
    {
     "name": "stderr",
     "output_type": "stream",
     "text": [
      "C:\\Users\\dan\\AppData\\Local\\Temp\\ipykernel_14824\\4121304206.py:8: SettingWithCopyWarning: \n",
      "A value is trying to be set on a copy of a slice from a DataFrame.\n",
      "Try using .loc[row_indexer,col_indexer] = value instead\n",
      "\n",
      "See the caveats in the documentation: https://pandas.pydata.org/pandas-docs/stable/user_guide/indexing.html#returning-a-view-versus-a-copy\n",
      "  reactome_no_duplicates['PARTICIPANT_A_ENSG'] = reactome_no_duplicates['PARTICIPANT_A'].map(hgnc_to_gene_id)\n",
      "C:\\Users\\dan\\AppData\\Local\\Temp\\ipykernel_14824\\4121304206.py:9: SettingWithCopyWarning: \n",
      "A value is trying to be set on a copy of a slice from a DataFrame.\n",
      "Try using .loc[row_indexer,col_indexer] = value instead\n",
      "\n",
      "See the caveats in the documentation: https://pandas.pydata.org/pandas-docs/stable/user_guide/indexing.html#returning-a-view-versus-a-copy\n",
      "  reactome_no_duplicates['PARTICIPANT_B_ENSG'] = reactome_no_duplicates['PARTICIPANT_B'].map(hgnc_to_gene_id)\n"
     ]
    },
    {
     "data": {
      "text/plain": "  PARTICIPANT_A INTERACTION_TYPE PARTICIPANT_B PARTICIPANT_A_ENSG  \\\n0          A1CF  in-complex-with       APOBEC2    ENSG00000148584   \n1          A1CF  in-complex-with      APOBEC3A    ENSG00000148584   \n2          A1CF  in-complex-with      APOBEC3B    ENSG00000148584   \n3          A1CF  in-complex-with      APOBEC3C    ENSG00000148584   \n4          A1CF  in-complex-with      APOBEC3H    ENSG00000148584   \n\n  PARTICIPANT_B_ENSG  \n0    ENSG00000124701  \n1    ENSG00000128383  \n2    ENSG00000179750  \n3    ENSG00000244509  \n4    ENSG00000100298  ",
      "text/html": "<div>\n<style scoped>\n    .dataframe tbody tr th:only-of-type {\n        vertical-align: middle;\n    }\n\n    .dataframe tbody tr th {\n        vertical-align: top;\n    }\n\n    .dataframe thead th {\n        text-align: right;\n    }\n</style>\n<table border=\"1\" class=\"dataframe\">\n  <thead>\n    <tr style=\"text-align: right;\">\n      <th></th>\n      <th>PARTICIPANT_A</th>\n      <th>INTERACTION_TYPE</th>\n      <th>PARTICIPANT_B</th>\n      <th>PARTICIPANT_A_ENSG</th>\n      <th>PARTICIPANT_B_ENSG</th>\n    </tr>\n  </thead>\n  <tbody>\n    <tr>\n      <th>0</th>\n      <td>A1CF</td>\n      <td>in-complex-with</td>\n      <td>APOBEC2</td>\n      <td>ENSG00000148584</td>\n      <td>ENSG00000124701</td>\n    </tr>\n    <tr>\n      <th>1</th>\n      <td>A1CF</td>\n      <td>in-complex-with</td>\n      <td>APOBEC3A</td>\n      <td>ENSG00000148584</td>\n      <td>ENSG00000128383</td>\n    </tr>\n    <tr>\n      <th>2</th>\n      <td>A1CF</td>\n      <td>in-complex-with</td>\n      <td>APOBEC3B</td>\n      <td>ENSG00000148584</td>\n      <td>ENSG00000179750</td>\n    </tr>\n    <tr>\n      <th>3</th>\n      <td>A1CF</td>\n      <td>in-complex-with</td>\n      <td>APOBEC3C</td>\n      <td>ENSG00000148584</td>\n      <td>ENSG00000244509</td>\n    </tr>\n    <tr>\n      <th>4</th>\n      <td>A1CF</td>\n      <td>in-complex-with</td>\n      <td>APOBEC3H</td>\n      <td>ENSG00000148584</td>\n      <td>ENSG00000100298</td>\n    </tr>\n  </tbody>\n</table>\n</div>"
     },
     "execution_count": 194,
     "metadata": {},
     "output_type": "execute_result"
    }
   ],
   "source": [
    "# Code to map Gene stable IDs to PARTICIPANT_A and PARTICIPANT_B\n",
    "\n",
    "# Create a mapping dictionary from the biomart dataframe\n",
    "# Here we map 'HGNC symbol' to 'Gene stable ID'\n",
    "hgnc_to_gene_id = biomart_no_null.set_index('HGNC symbol')['Gene stable ID'].to_dict()\n",
    "\n",
    "# Use this dictionary to map the PARTICIPANT_A and PARTICIPANT_B values in the reactome dataframe to their corresponding Gene stable ID\n",
    "reactome_no_duplicates['PARTICIPANT_A_ENSG'] = reactome_no_duplicates['PARTICIPANT_A'].map(hgnc_to_gene_id)\n",
    "reactome_no_duplicates['PARTICIPANT_B_ENSG'] = reactome_no_duplicates['PARTICIPANT_B'].map(hgnc_to_gene_id)\n",
    "\n",
    "# Show the modified dataframe\n",
    "reactome_no_duplicates.head()"
   ],
   "metadata": {
    "collapsed": false,
    "ExecuteTime": {
     "end_time": "2023-12-14T09:46:01.406741300Z",
     "start_time": "2023-12-14T09:46:01.328196500Z"
    }
   },
   "id": "c9548877e5383a6d"
  },
  {
   "cell_type": "code",
   "execution_count": 195,
   "outputs": [
    {
     "name": "stdout",
     "output_type": "stream",
     "text": [
      "Total unique nodes: 10141\n",
      "Total edges: 329941\n"
     ]
    }
   ],
   "source": [
    "unique_nodes = set(reactome_no_duplicates['PARTICIPANT_A_ENSG'].tolist() +  reactome_no_duplicates['PARTICIPANT_B_ENSG'].tolist())\n",
    "print(f'Total unique nodes: {len(unique_nodes)}')\n",
    "print(f'Total edges: {len(reactome_no_duplicates)}')"
   ],
   "metadata": {
    "collapsed": false,
    "ExecuteTime": {
     "end_time": "2023-12-14T09:46:01.469265500Z",
     "start_time": "2023-12-14T09:46:01.406741300Z"
    }
   },
   "id": "258391199566b6de"
  }
 ],
 "metadata": {
  "kernelspec": {
   "display_name": "Python 3",
   "language": "python",
   "name": "python3"
  },
  "language_info": {
   "codemirror_mode": {
    "name": "ipython",
    "version": 2
   },
   "file_extension": ".py",
   "mimetype": "text/x-python",
   "name": "python",
   "nbconvert_exporter": "python",
   "pygments_lexer": "ipython2",
   "version": "2.7.6"
  }
 },
 "nbformat": 4,
 "nbformat_minor": 5
}
