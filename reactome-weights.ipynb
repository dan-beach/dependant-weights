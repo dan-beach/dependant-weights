{
 "cells": [
  {
   "cell_type": "code",
   "execution_count": null,
   "id": "initial_id",
   "metadata": {
    "collapsed": true
   },
   "outputs": [],
   "source": [
    "import pandas as pd\n",
    "import numpy as np\n",
    "import sys\n",
    "import re\n",
    "import functools\n",
    "import json\n",
    "import random\n",
    "import os\n",
    "import math\n",
    "\n",
    "import matplotlib.pyplot as plt"
   ]
  },
  {
   "cell_type": "code",
   "execution_count": null,
   "outputs": [],
   "source": [
    "#os.getcwd()\n",
    "\n",
    "# Linux workstation\n",
    "#data_path = '/home/db600/phd/data/'\n",
    "\n",
    "# Laptop\n",
    "data_path = 'C:\\\\Users\\\\dan\\\\Documents\\\\phd\\\\data\\\\'\n",
    "\n",
    "os.listdir(data_path)"
   ],
   "metadata": {
    "collapsed": false
   },
   "id": "2e76b46b86413825"
  },
  {
   "cell_type": "code",
   "execution_count": null,
   "outputs": [],
   "source": [
    "mut_path = data_path + 'depmap\\\\OmicsSomaticMutations.csv'\n",
    "exp_path = data_path + 'depmap\\\\OmicsExpressionProteinCodingGenesTPMLogp1.csv' \n",
    "conv_path = data_path + 'biomart\\\\ensembl_biomart_plus_fasta.csv'"
   ],
   "metadata": {
    "collapsed": false
   },
   "id": "2c9e98e8d41b7490"
  },
  {
   "cell_type": "code",
   "execution_count": null,
   "outputs": [],
   "source": [
    "# Read the multi_gene_converter into a DF\n",
    "conv = pd.read_csv(conv_path, header = 0, index_col = 0)\n",
    "conv = conv.drop(columns='Unnamed: 0')"
   ],
   "metadata": {
    "collapsed": false
   },
   "id": "674ebce3ff7ab4a8"
  },
  {
   "cell_type": "code",
   "execution_count": null,
   "outputs": [],
   "source": [
    "conv.head()"
   ],
   "metadata": {
    "collapsed": false
   },
   "id": "9ce51c982fda35dd"
  },
  {
   "cell_type": "code",
   "execution_count": null,
   "outputs": [],
   "source": [
    "def load_list(path):\n",
    "    with open(path) as f:\n",
    "        g = json.load(f)\n",
    "    return g\n",
    "\n",
    "kinases_path = \"C:\\\\Users\\\\dan\\\\PycharmProjects\\\\kinase-onc-tsg\\\\data\\\\kinases.json\"\n",
    "oncs_path = \"C:\\\\Users\\\\dan\\\\PycharmProjects\\\\kinase-onc-tsg\\\\data\\\\oncs.json\"\n",
    "tsgs_path = \"C:\\\\Users\\\\dan\\\\PycharmProjects\\\\kinase-onc-tsg\\\\data\\\\tsgs.json\"\n",
    "\n",
    "kinases = load_list(kinases_path)\n",
    "oncs = load_list(oncs_path)\n",
    "tsgs =load_list(tsgs_path)"
   ],
   "metadata": {
    "collapsed": false
   },
   "id": "6d610ce38158ccdb"
  },
  {
   "cell_type": "code",
   "execution_count": null,
   "outputs": [],
   "source": [
    "# Get list of training cell lines used in original program\n",
    "# Manually saved to CSV earlier\n",
    "cell_lines = pd.read_csv(data_path + 'dependant\\\\original_training_cell_lines.csv')\n",
    "cell_lines = cell_lines.rename(columns={'cell_line': 'CCLEName'})\n",
    "cell_lines"
   ],
   "metadata": {
    "collapsed": false
   },
   "id": "f4729a90d47138ec"
  },
  {
   "cell_type": "code",
   "execution_count": null,
   "outputs": [],
   "source": [
    "# Load the DepMap model metadata\n",
    "depmap_model = pd.read_csv(data_path + 'depmap\\\\Model.csv')\n",
    "\n",
    "# Add depmap model ID to the list of 39 original training cell lines\n",
    "cell_lines = pd.merge(cell_lines, depmap_model[['ModelID', 'CCLEName']], on='CCLEName', how='left')\n",
    "\n",
    "# View the cell line list\n",
    "cell_lines"
   ],
   "metadata": {
    "collapsed": false
   },
   "id": "9af542e32569cad"
  },
  {
   "cell_type": "code",
   "execution_count": null,
   "outputs": [],
   "source": [
    "# Load the expression and mutation data\n",
    "mutation_df = pd.read_csv(mut_path, low_memory=False)\n",
    "expression_df = pd.read_csv(exp_path)"
   ],
   "metadata": {
    "collapsed": false
   },
   "id": "3a130920cfe3250d"
  },
  {
   "cell_type": "code",
   "execution_count": null,
   "outputs": [],
   "source": [
    "# Preview expression data\n",
    "expression_df.head()"
   ],
   "metadata": {
    "collapsed": false
   },
   "id": "eb79b7b4929bd055"
  },
  {
   "cell_type": "code",
   "execution_count": null,
   "outputs": [],
   "source": [
    "# Preview mutation data\n",
    "mutation_df.head()"
   ],
   "metadata": {
    "collapsed": false
   },
   "id": "c396c661c71a4de2"
  },
  {
   "cell_type": "code",
   "execution_count": null,
   "outputs": [],
   "source": [
    "mutation_df.columns"
   ],
   "metadata": {
    "collapsed": false
   },
   "id": "95c79b5ddc210e55"
  },
  {
   "cell_type": "code",
   "execution_count": null,
   "outputs": [],
   "source": [
    "mutation_df['TranscriptStrand'].value_counts()"
   ],
   "metadata": {
    "collapsed": false
   },
   "id": "2b43317ebcb9e090"
  },
  {
   "cell_type": "code",
   "execution_count": null,
   "outputs": [],
   "source": [
    "# Take a look at the mutation classes\n",
    "mutation_df['VariantInfo'].unique()"
   ],
   "metadata": {
    "collapsed": false
   },
   "id": "aad616906f5096ce"
  },
  {
   "cell_type": "code",
   "execution_count": null,
   "outputs": [],
   "source": [
    "# Select all mutations for our cell lines of interest only: where 'ModelID' is in cell_lines['ModelID']\n",
    "#mutation_df = mutation_df.loc[mutation_df['Tumor_Sample_Barcode'].map(lambda x: x in cell_lines)]\n",
    "\n",
    "mutation_df = mutation_df[mutation_df['ModelID'].isin(cell_lines['ModelID'])]\n",
    "\n",
    "mutation_df.head()"
   ],
   "metadata": {
    "collapsed": false
   },
   "id": "6e0c338638de6dc4"
  },
  {
   "cell_type": "code",
   "execution_count": null,
   "outputs": [],
   "source": [
    "# Check we've got the right number of ModelID values (should be 39)\n",
    "mutation_df['ModelID'].unique()"
   ],
   "metadata": {
    "collapsed": false
   },
   "id": "b8404383cb8f2031"
  },
  {
   "cell_type": "code",
   "execution_count": null,
   "outputs": [],
   "source": [
    "# Remove anything after \".\" in the 'Annotation_Transcript' column\n",
    "mutation_df['Transcript'] = mutation_df['Transcript'].map(lambda x: x.split('.')[0])\n",
    "\n",
    "mutation_df[['HugoSymbol', 'Transcript']].head()"
   ],
   "metadata": {
    "collapsed": false
   },
   "id": "8c6917f3ade59eb8"
  },
  {
   "cell_type": "code",
   "execution_count": null,
   "outputs": [],
   "source": [
    "# Take a look at the mutation classes\n",
    "mutation_df['VariantInfo'].unique()"
   ],
   "metadata": {
    "collapsed": false
   },
   "id": "221d1a404cd14839"
  },
  {
   "cell_type": "code",
   "execution_count": null,
   "outputs": [],
   "source": [
    "# First we separate out the badly pathogenic mutations - these are assumed to result in loss of function\n",
    "pathogenic = ('FRAME_SHIFT_DEL', 'FRAME_SHIFT_INS', 'NONSENSE', 'NONSTOP', 'START_CODON_INS')\n",
    "\n",
    "##### NOTE ######\n",
    "# These are the variations that were considered pathogenic on the original version\n",
    "# pathogenic = ['Frame_Shift_Del', 'Frame_Shift_Ins','Nonsense_Mutation','Nonstop_Mutation','Stop_Codon_Del']\n",
    "\n",
    "# I will keep this the same for now (note no 'Stop_Codon_Del' class in the new data - presumably because it's the same a NONSTOP) but note:\n",
    "\n",
    "# IN_FRAME_DEL - this is likely damaging but could be LOF or GOF -  select which depending on whether its onc, tsg or kinase?\n",
    "# IN_FRAME_INS - as above\n",
    "# START_CODON_INS - this is likely to prevent the translation of the protein, so LOF?\n",
    "# START_CODON_SNP - this may prevent translation if the SNP switched the codon from methianine to another amino acid\n",
    "\n",
    "# Filter mut_df to only include rows where the variant classification is in the pathogenic list defined above\n",
    "pathogenic_mutations = mutation_df.loc[mutation_df['VariantInfo'].isin(pathogenic)]\n",
    "\n",
    "pathogenic_mutations.head()"
   ],
   "metadata": {
    "collapsed": false
   },
   "id": "781a33d5e9977b20"
  },
  {
   "cell_type": "code",
   "execution_count": null,
   "outputs": [],
   "source": [
    "# See if DepMap classification agrees that these are all likely to be LOF (it does)\n",
    "pathogenic_mutations['LikelyGoF'].value_counts()"
   ],
   "metadata": {
    "collapsed": false
   },
   "id": "827b2012ed5fc5c6"
  },
  {
   "cell_type": "code",
   "execution_count": null,
   "outputs": [],
   "source": [
    "pathogenic_mutations['LikelyLoF'].value_counts()"
   ],
   "metadata": {
    "collapsed": false
   },
   "id": "a2382c13fc73ae6e"
  },
  {
   "cell_type": "code",
   "execution_count": null,
   "outputs": [],
   "source": [
    "# Group by Tumour_Sample_Barcode (cell-line name) so we have 39 rows (one for each cell line), and a column containing comma seperated list\n",
    "# of all the highly pathogenic mutations in that sample\n",
    "path_muts_per_sample = pathogenic_mutations.groupby('ModelID')['HugoSymbol'].apply(lambda x: ', '.join(x)).reset_index()\n",
    "\n",
    "# Check there are no consecutive commas (denoting missing values)\n",
    "#path_muts_per_sample[path_muts_per_sample['HugoSymbol'].str.contains(\", , \")]\n",
    "path_muts_per_sample"
   ],
   "metadata": {
    "collapsed": false
   },
   "id": "530d91c75fe13b7"
  },
  {
   "cell_type": "code",
   "execution_count": null,
   "outputs": [],
   "source": [
    "# Write to csv\n",
    "path_muts_per_sample.to_csv(data_path + '\\\\dependant\\\\pathogenic_mutations_per_sample.csv')"
   ],
   "metadata": {
    "collapsed": false
   },
   "id": "eb1ce3694fe56ebc"
  },
  {
   "cell_type": "code",
   "execution_count": null,
   "outputs": [],
   "source": [
    "# Select all rows of mutation DF mutation_df where VariantInfo = 'MISSENSE' and VariantType = 'SNP' \n",
    "# May also want to include START_CODON_SNP here later (not sure if SNPs in start codon will be covered by the tools that assess mutations - introns only?)\n",
    "missense_snp = mutation_df[(mutation_df['VariantInfo']=='MISSENSE') & (mutation_df['VariantType']=='SNP')]"
   ],
   "metadata": {
    "collapsed": false
   },
   "id": "b90486832f3d5d04"
  },
  {
   "cell_type": "code",
   "execution_count": null,
   "outputs": [],
   "source": [
    "missense_snp"
   ],
   "metadata": {
    "collapsed": false
   },
   "id": "c522142d2faa63a7"
  },
  {
   "cell_type": "code",
   "execution_count": null,
   "outputs": [],
   "source": [
    "# Select all DNP and TNP missense mutations (in original version these are not assessed)\n",
    "missense_dnp_tnp = mutation_df[(mutation_df['VariantInfo']=='MISSENSE') & ((mutation_df['VariantType'] == 'DNP') | (mutation_df['VariantType'] == 'TNP'))]\n",
    "missense_dnp_tnp"
   ],
   "metadata": {
    "collapsed": false
   },
   "id": "13285fc3da2e0e3d"
  },
  {
   "cell_type": "code",
   "execution_count": null,
   "outputs": [],
   "source": [
    "# Check what's in the chromosomes column\n",
    "missense_snp['Chrom'].unique()"
   ],
   "metadata": {
    "collapsed": false
   },
   "id": "eaf103eb07d9193a"
  },
  {
   "cell_type": "code",
   "execution_count": null,
   "outputs": [],
   "source": [
    "# Create a VCF file with the SNP missense mutation data\n",
    "\n",
    "# Copy a subset of columns from the missense_snp dataframe\n",
    "missense_snp_vcf = missense_snp[['Chrom', 'Pos', 'DbsnpID',  'Ref', 'Alt']].copy()\n",
    "\n",
    "# Rename the columns to match VCF format requirements\n",
    "missense_snp_vcf.rename(columns={'Chrom' : '#CHROM' , 'Pos': 'POS', 'Ref': 'REF', 'Alt': 'ALT', 'DbsnpID' : 'ID'}, inplace=True)\n",
    "\n",
    "# Remove 'chr' string from the chromosome column values - Fathmm-XF won't recognise this this \n",
    "missense_snp_vcf['#CHROM'] = missense_snp_vcf['#CHROM'].str.replace('chr', '')\n",
    "\n",
    "# Write to CSV\n",
    "missense_snp_vcf.to_csv(data_path + '\\\\dependant\\\\depmap_mutations_for_fathmm.vcf', sep='\\t', index=False)\n",
    "\n",
    "print(len(missense_snp_vcf))\n",
    "missense_snp_vcf.head()"
   ],
   "metadata": {
    "collapsed": false
   },
   "id": "becb91bb05a8889e"
  },
  {
   "cell_type": "code",
   "execution_count": null,
   "outputs": [],
   "source": [
    "# Get unique transcript IDs from missense SNP mutations dataframe\n",
    "missense_snp_transcripts = pd.Series(missense_snp['Transcript'].unique(), name='TranscriptID')\n",
    "missense_snp_transcripts"
   ],
   "metadata": {
    "collapsed": false
   },
   "id": "aa757b30ba09ba77"
  },
  {
   "cell_type": "code",
   "execution_count": null,
   "outputs": [],
   "source": [
    "# Get unique transcript IDs from biomart conv file\n",
    "biomart_transcripts = pd.Series(conv['Transcript stable ID'].unique(), name='TranscriptID')\n",
    "biomart_transcripts"
   ],
   "metadata": {
    "collapsed": false
   },
   "id": "f4430e414e110783"
  },
  {
   "cell_type": "code",
   "execution_count": null,
   "outputs": [],
   "source": [
    "# See how many of the missense SNP transcript IDs are in the biomart conv file\n",
    "# 7474 of 7523 SNP missesne transcripts are in the conv file (49 missing)\n",
    "missense_snp_transcripts[missense_snp_transcripts.isin(biomart_transcripts)]"
   ],
   "metadata": {
    "collapsed": false
   },
   "id": "f73965fb250d892a"
  },
  {
   "cell_type": "code",
   "execution_count": null,
   "outputs": [],
   "source": [
    "# Get the subset of biomart data that corresponds to the missense SNP mutation transcript IDs, and select a subset of columns\n",
    "mutation_snp_info = conv.loc[conv['Transcript stable ID'].isin(missense_snp_transcripts)]"
   ],
   "metadata": {
    "collapsed": false
   },
   "id": "b22b15835924006e"
  },
  {
   "cell_type": "code",
   "execution_count": null,
   "outputs": [],
   "source": [
    "mutation_snp_info"
   ],
   "metadata": {
    "collapsed": false
   },
   "id": "a2a0727c5830ec53"
  },
  {
   "cell_type": "code",
   "execution_count": null,
   "outputs": [],
   "source": [
    "# See if there are any duplications (including only the subset of columns we are interested in)\n",
    "mutation_snp_info[mutation_snp_info.duplicated(subset=['Gene stable ID', 'HGNC symbol','Transcript stable ID'], keep=False)]"
   ],
   "metadata": {
    "collapsed": false
   },
   "id": "36849066bc06fb43"
  },
  {
   "cell_type": "code",
   "execution_count": null,
   "outputs": [],
   "source": [
    "# Drop duplicates based on this subset of cols\n",
    "mutation_snp_info = mutation_snp_info.drop_duplicates(subset=['Gene stable ID', 'HGNC symbol','Transcript stable ID'], keep='first')"
   ],
   "metadata": {
    "collapsed": false
   },
   "id": "49dabac02ad8d888"
  },
  {
   "cell_type": "code",
   "execution_count": null,
   "outputs": [],
   "source": [
    "# See if there are still any duplicates with just two columns now (there are none)\n",
    "mutation_snp_info[mutation_snp_info.duplicated(subset=['HGNC symbol','Transcript stable ID'], keep=False)]"
   ],
   "metadata": {
    "collapsed": false
   },
   "id": "7934023317fd2273"
  },
  {
   "cell_type": "code",
   "execution_count": null,
   "outputs": [],
   "source": [
    "def get_info(row):\n",
    "    \"\"\"using the ready made conv, identify for each mutation the following\n",
    "    ['Fasta',  'UniProtKB/Swiss-Prot ID',\n",
    "       'Protein stable ID', 'transcript stable id', 'chromo', 'start', 'end',\n",
    "       'wild', 'mutant']\n",
    "    Throw away any rows which don't have this information as it will not be possible to find the missense status\n",
    "       \"\"\"\n",
    "    # Regex pattern that is used to match protein mutations typically represented in a format like 'p.X123Y', where:\n",
    "    #   'p.' indicates it is a protein mutation.\n",
    "    #   The first ([A-Z]) is a capture group that matches the one-letter code of the original amino acid.\n",
    "    #   (\\d+) is a capture group that matches one or more digits, representing the position number of the amino acid in the protein sequence.\n",
    "    #   The second ([A-Z]) is a capture group that matches the one-letter code of the new amino acid after the mutation.\n",
    "    # Enables extraction of original and new amino acids and their position in the protein sequence from mutation strings.\n",
    "    \n",
    "    #print(len(row.index))\n",
    "    \n",
    "    code = re.compile('p.([A-Z])(\\d+)([A-Z])')\n",
    "\n",
    "    # Function to check if the amino acid (w) at a specific position (pos) in a sequence (x) matches what's expected.\n",
    "    #   x is expected to be a string representing an amino acid sequence.\n",
    "    #   w is the one-letter code of an amino acid.\n",
    "    #   pos is the position of the amino acid in the sequence (1-indexed).\n",
    "\n",
    "    def check(x,w,pos):\n",
    "        \"\"\"helper function used below to check that our fasta has the right amino acid at the right place\"\"\"\n",
    "        if len(x)>=pos:\n",
    "            return x[pos-1]==w\n",
    "        else:\n",
    "            return False\n",
    "\n",
    "    # Select relevant columns and assig to 'columns'\n",
    "    columns = ['Gene stable ID', 'HGNC symbol', 'Peptide','Protein stable ID', 'Transcript stable ID', 'UniProtKB/Swiss-Prot ID']\n",
    "\n",
    "    # Assign 'Annotation_Transcript'and 'Protein_Change' values fore this row to enst and aa\n",
    "    enst, aa, position, chrom = row[['Transcript','ProteinChange','Pos','Chrom']]\n",
    "\n",
    "    # if the enst for this row is in biomart_transcript_ids (conv table)\n",
    "    # set info = the row where 'Transcript stable ID' == enst, select the columns listed above, and remove dup rows based on the 'Gene stable ID', 'HGNC symbol','Transcript stable ID' cols\n",
    "    if enst in biomart_transcripts.tolist():\n",
    "        info = conv.loc[conv['Transcript stable ID']==enst][columns].drop_duplicates(subset = ['Gene stable ID', 'HGNC symbol','Transcript stable ID'])\n",
    "        #info = conv.loc[conv['Transcript stable ID']==enst][columns].drop_duplicates(subset = ['UniProtKB/Swiss-Prot ID'])\n",
    "        \n",
    "        # keep count of number of matching conv rows returned\n",
    "        num_rows.append(len(info))\n",
    "        \n",
    "        # if more than one row returned append it to multiple_rows DF for later review\n",
    "        if len(info) > 1:\n",
    "            \n",
    "            global multiple_rows\n",
    "            multiple_rows = pd.concat([multiple_rows, info])\n",
    "            \n",
    "    # Otherwise info = np.nan\n",
    "    else:\n",
    "        info = 'not in transcript IDs'\n",
    "        \n",
    "        global not_in_biomart\n",
    "        not_in_biomart = pd.concat([not_in_biomart, pd.DataFrame([row.values], columns=not_in_biomart.columns)], axis=0, ignore_index=True)\n",
    "                \n",
    "    # print(info)\n",
    "\n",
    "  # Check that 'info' object is a dataframe and not empty\n",
    "    if type(info)==pd.DataFrame and info.shape[0]>0:\n",
    "\n",
    "      # if 'ProteinChange' value (aa) matches the regex,\n",
    "      # save the original amino acid, position and mutant amino acid as w, pos, m\n",
    "      # otherwise save as np.nan\n",
    "        match = code.match(aa)\n",
    "        if match:\n",
    "            w = match.group(1)\n",
    "            pos = int(match.group(2))\n",
    "            m = match.group(3)\n",
    "        else:\n",
    "            w,pos,m = np.nan,np.nan,np.nan\n",
    "\n",
    "        # Use 'check' helper function to check that Fasta column of current row contains the wild type amino acid (w) in the correct position (pos)\n",
    "        info0 = info.loc[info['Peptide'].map(lambda x:check(x,w,pos))]\n",
    "\n",
    "        # If there is at least one row, save it as info1 (there will be one or none)\n",
    "        if info0.shape[0]>0:\n",
    "            info1 = info0.iloc[0]\n",
    "        else:\n",
    "            info1 = 'w not in pos'\n",
    "            \n",
    "            global w_not_in_pos\n",
    "            w_not_in_pos = pd.concat([w_not_in_pos, pd.DataFrame([row.values], columns=w_not_in_pos.columns)], axis=0, ignore_index=True)\n",
    "\n",
    "            \n",
    "    else:\n",
    "        info1 = 'dataframe was empty'\n",
    "\n",
    "    # If info1 is a series (ie. none of the 'else' conditions above were fulfilled)\n",
    "    # Add columns for 'transcript stable id' , 'wild', 'mutant' and 'pos'\n",
    "    # Return info1\n",
    "    if type(info1)==pd.Series:\n",
    "        info1['transcript stable id']=enst\n",
    "        info1['wild'],info1['mutant'],info1['pos'] = w,m,pos\n",
    "        info1['position'], info1['chrom'] = position, chrom\n",
    "    return info1\n",
    "\n",
    "# Variables to keep count and store row content when more than one conv row is returned for a missense_mutations ENST\n",
    "num_rows = []\n",
    "#multiple_rows = pd.DataFrame(columns=review_cols)\n",
    "multiple_rows = pd.DataFrame()\n",
    "\n",
    "# Variables to keep count and store row content when ENST is not in biomart conv file, or the expected amino acid is not in the correct position in the Fasta/peptide column\n",
    "not_in_biomart = pd.DataFrame(columns=missense_snp.columns)\n",
    "w_not_in_pos = pd.DataFrame(columns=missense_snp.columns)\n",
    "\n",
    "# Apply the 'get_info' function to rows of the missense_mutations dataframe\n",
    "test_info = missense_snp.apply(get_info,axis=1)"
   ],
   "metadata": {
    "collapsed": false
   },
   "id": "5433881055fedcee"
  },
  {
   "cell_type": "code",
   "execution_count": null,
   "outputs": [],
   "source": [
    "test_info"
   ],
   "metadata": {
    "collapsed": false
   },
   "id": "c438178d2fd5f3c5"
  },
  {
   "cell_type": "code",
   "execution_count": null,
   "outputs": [],
   "source": [
    "# Look at the list containing the number of conv rows returned for each missense_mutations ENST\n",
    "# e.g. how many returned one row, how many returned 2, etc\n",
    "# Note: dropping duplicates based on my revised subset instead of UniProtKB/Swiss-Prot ID prevents multiple rows being returned\n",
    "len(num_rows)\n",
    "num_rows = pd.Series(num_rows, name='Counts')\n",
    "num_rows.value_counts()"
   ],
   "metadata": {
    "collapsed": false
   },
   "id": "dffc9d8e93617949"
  },
  {
   "cell_type": "code",
   "execution_count": null,
   "outputs": [],
   "source": [
    "# This contains all the conv rows that were returned as multiple rows matching a single missense_mutations ENST\n",
    "# Note: dropping duplicates based on my revised subset instead of UniProtKB/Swiss-Prot ID prevents multiple rows being returned\n",
    "multiple_rows"
   ],
   "metadata": {
    "collapsed": false
   },
   "id": "2753b315c18c848d"
  },
  {
   "cell_type": "code",
   "execution_count": null,
   "outputs": [],
   "source": [
    "# Check for the various conditions that would result from no data in a row\n",
    "#test_info[test_info['Gene stable ID'] == 'not in transcript IDs']\n",
    "test_info[test_info['Gene stable ID'] == 'w not in pos']\n",
    "#test_info[test_info['Gene stable ID'] == 'dataframe was empty']\n",
    "#test_info[test_info['Gene stable ID'].isnull()]\n",
    "#test_info[test_info['pos'].isnull()]"
   ],
   "metadata": {
    "collapsed": false
   },
   "id": "740bdd80b9c80743"
  },
  {
   "cell_type": "code",
   "execution_count": null,
   "outputs": [],
   "source": [
    "# View the ENSTs from the mutations file that were not in Biomart\n",
    "# Manual cross-referencing with Ensembl shows these have transcript IDs have been deprecated (74)\n",
    "# However - the genome browser at https://genome.ucsc.edu shows that the Ref amino acids at the given chromosome positions are valid\n",
    "# As we are using the HGNC names and not Enseml transcript IDs this should be fine \n",
    "not_in_biomart.head(100)\n",
    "\n",
    "not_in_biomart[['Transcript','Chrom', 'Pos', 'Ref', 'Alt', 'EntrezGeneID']]"
   ],
   "metadata": {
    "collapsed": false
   },
   "id": "6eda58c89a5c05db"
  },
  {
   "cell_type": "code",
   "execution_count": null,
   "outputs": [],
   "source": [
    "# See which rows had wrong amino acid in pos when the biomart fasta file was checked\n",
    "# None of the rows had missing Fasta values so that's not the issue\n",
    "# However - the genome browser at https://genome.ucsc.edu shows that the Ref amino acids at the given chromosome positions are valid\n",
    "# As we are using the HGNC names and not Enseml transcript IDs these should be fine \n",
    "w_not_in_pos.head(100)\n",
    "\n",
    "w_not_in_pos[['Transcript','Chrom', 'Pos', 'Ref', 'Alt', 'EntrezGeneID']]\n",
    "\n",
    "# Line below shows the conv rows that match the ENSTs from w_not_in_pos\n",
    "#conv[conv['Transcript stable ID'].isin(w_not_in_pos['Transcript'])][['HGNC symbol', 'Transcript stable ID', 'Peptide']]"
   ],
   "metadata": {
    "collapsed": false
   },
   "id": "d7407c6bb43c95b8"
  },
  {
   "cell_type": "code",
   "execution_count": null,
   "outputs": [],
   "source": [
    "# Function to validate the presence of an expected wild-type amino acid at a specific position in a (Fasta) protein sequence.\n",
    "# Returns true if wild type is in expected place\n",
    "# This is really a duplication of the check already done within the get_info function\n",
    "\n",
    "def check_wild(row):\n",
    "    try:\n",
    "        f,w,p =row[['Peptide','wild','pos']]\n",
    "        w0 = f[(int(p)-1)]\n",
    "        return w == w0\n",
    "    except ValueError:\n",
    "        return False"
   ],
   "metadata": {
    "collapsed": false
   },
   "id": "cde797648d66ee1e"
  },
  {
   "cell_type": "code",
   "execution_count": null,
   "outputs": [],
   "source": [
    "# Apply the check_wild function to each row of the info dataframe\n",
    "check = test_info.apply(check_wild, axis = 1) == False"
   ],
   "metadata": {
    "collapsed": false
   },
   "id": "a6393aa54344a4d"
  },
  {
   "cell_type": "code",
   "execution_count": null,
   "outputs": [],
   "source": [
    "# There should be 231 because this is how many were not handled up by get_info function\n",
    "# For example, the transcript ID ws not in the Biomart transcript IDs, or the wild type amino acid was not in the expected place in the Fasta (why?)\n",
    "check.value_counts()"
   ],
   "metadata": {
    "collapsed": false
   },
   "id": "dde0f064a8912995"
  },
  {
   "cell_type": "code",
   "execution_count": null,
   "outputs": [],
   "source": [
    "test_info_invalid = test_info[test_info.apply(check_wild, axis = 1) == False]"
   ],
   "metadata": {
    "collapsed": false
   },
   "id": "a3573804ff815781"
  },
  {
   "cell_type": "code",
   "execution_count": null,
   "outputs": [],
   "source": [
    "test_info_invalid"
   ],
   "metadata": {
    "collapsed": false
   },
   "id": "565cc11633ba6118"
  },
  {
   "cell_type": "markdown",
   "source": [
    "## Alpha Missense mutation analysis starts here"
   ],
   "metadata": {
    "collapsed": false
   },
   "id": "132037cca01b3ac6"
  },
  {
   "cell_type": "code",
   "execution_count": null,
   "outputs": [],
   "source": [
    "# Load and preview the alpha missense data (primary assembly)\n",
    "# We only need to load transcripts that are in the mutations_snp dataframe\n",
    "alpha_missense = pd.read_csv(data_path + 'alphamissense\\\\AlphaMissense_hg38.tsv', skiprows=3, sep='\\t')\n",
    "alpha_missense = alpha_missense[alpha_missense['transcript_id'].isin(mutation_snp[''])]"
   ],
   "metadata": {
    "collapsed": false
   },
   "id": "d75878175b4d1ce7"
  },
  {
   "cell_type": "code",
   "execution_count": null,
   "outputs": [],
   "source": [
    "alpha_missense_len = len(alpha_missense)\n",
    "print(alpha_missense_len)\n",
    "\n",
    "alpha_missense.head(20)"
   ],
   "metadata": {
    "collapsed": false
   },
   "id": "607f44abafcd2343"
  },
  {
   "cell_type": "code",
   "execution_count": null,
   "outputs": [],
   "source": [
    "# Check these are all aligned to hg38\n",
    "alpha_missense['genome'].value_counts()"
   ],
   "metadata": {
    "collapsed": false
   },
   "id": "4a8b4f410f8abc81"
  },
  {
   "cell_type": "code",
   "execution_count": null,
   "outputs": [],
   "source": [
    "# Summarise the classes\n",
    "alpha_missense['am_class'].value_counts()"
   ],
   "metadata": {
    "collapsed": false
   },
   "id": "c2fe27e2b2c0ebbf"
  },
  {
   "cell_type": "code",
   "execution_count": null,
   "outputs": [],
   "source": [
    "# Load and preview the alpha missense data (isoforms)\n",
    "alpha_missense_isoforms = pd.read_csv(data_path + '\\\\alphamissense\\\\AlphaMissense_isoforms_hg38.tsv', skiprows=3, sep='\\t')"
   ],
   "metadata": {
    "collapsed": false
   },
   "id": "e5120baeeb3a0297"
  },
  {
   "cell_type": "code",
   "execution_count": null,
   "outputs": [],
   "source": [
    "alpha_missense_isoforms_len = len(alpha_missense_isoforms)\n",
    "print(alpha_missense_isoforms_len)\n",
    "\n",
    "alpha_missense_isoforms.head()"
   ],
   "metadata": {
    "collapsed": false
   },
   "id": "5ae8dd6704e6e582"
  },
  {
   "cell_type": "code",
   "execution_count": null,
   "outputs": [],
   "source": [
    "# Does the isoforms data file also contain any of the primary asssembly data as well?\n",
    "# Note: yes - there is overlap of around half a million mutations between the two datasets\n",
    "alpha_missense_overlap = alpha_missense_isoforms[alpha_missense_isoforms['transcript_id'].isin(alpha_missense['transcript_id'])]\n",
    "\n",
    "alpha_missense_overlap_len = len(alpha_missense_overlap)\n",
    "print(alpha_missense_overlap_len)\n",
    "\n",
    "alpha_missense_overlap"
   ],
   "metadata": {
    "collapsed": false
   },
   "id": "7d48872399ea9987"
  },
  {
   "cell_type": "code",
   "execution_count": null,
   "outputs": [],
   "source": [
    "# Check the primary assembly data for a transcript that is in both files, so we can compare the data\n",
    "# They appear to be largely the same, although am_pathogenicity scores do differ and the isoform file does not include uniprot IDs\n",
    "# Alpha Missense says the primary file is more reliable, so we should use this first, then fill in any gaps with the isoform data\n",
    "alpha_missense[alpha_missense['transcript_id']=='ENST00000614859.5']"
   ],
   "metadata": {
    "collapsed": false
   },
   "id": "3dce05615b6b2e96"
  },
  {
   "cell_type": "code",
   "execution_count": null,
   "outputs": [],
   "source": [
    "# remove some variables to save memory\n",
    "del alpha_missense_overlap\n",
    "\n",
    "# Save the non-overlapping records from alpha_missense_isoforms\n",
    "alpha_missense_isoforms_filtered = alpha_missense_isoforms[~alpha_missense_isoforms['transcript_id'].isin(alpha_missense['transcript_id'])]\n",
    "\n",
    "del alpha_missense_isoforms\n",
    "\n",
    "# Combine the two datasets, selecting transcripts from the Isoforms file that are not in the primary assembly file\n",
    "alpha_missense_complete = pd.concat([alpha_missense, alpha_missense_isoforms_filtered])\n",
    "\n",
    "print(f'combined dataset size should be: {alpha_missense_len + alpha_missense_isoforms_len - alpha_missense_overlap_len}')\n",
    "print(f'combined dataset actual size: {len(alpha_missense_complete)}')"
   ],
   "metadata": {
    "collapsed": false
   },
   "id": "8a6c1be15cb83542"
  },
  {
   "cell_type": "code",
   "execution_count": null,
   "outputs": [],
   "source": [
    "# Clean up\n",
    "del alpha_missense\n",
    "del alpha_missense_isoforms_filtered"
   ],
   "metadata": {
    "collapsed": false
   },
   "id": "e8d047db7763b4ff"
  },
  {
   "cell_type": "code",
   "execution_count": null,
   "outputs": [],
   "source": [
    "# Rename columns in alpha_missense_complete df to match those in missense_snp for the merging criteria\n",
    "alpha_missense_complete.rename(columns={'#CHROM': 'Chrom', 'POS': 'Pos', 'REF': 'Ref', 'ALT': 'Alt'}, inplace=True)\n",
    "\n",
    "# Now, merge the DataFrames\n",
    "missense_snp_extended = missense_snp.merge(alpha_missense_complete[['Chrom', 'Pos', 'Ref', 'Alt', 'transcript_id', 'am_pathogenicity', 'am_class']], \n",
    "                on=['Chrom', 'Pos', 'Ref', 'Alt'], \n",
    "                how='left')\n",
    "\n",
    "missense_snp_extended"
   ],
   "metadata": {
    "collapsed": false
   },
   "id": "dfe29df168181f1f"
  },
  {
   "cell_type": "code",
   "execution_count": null,
   "outputs": [],
   "source": [
    "missense_mutations_isoforms = missense_mutations_extended[missense_mutations_extended['am_pathogenicity'].isnull()]"
   ],
   "metadata": {
    "collapsed": false
   },
   "id": "8c8b174a50253bbd"
  },
  {
   "cell_type": "code",
   "execution_count": null,
   "outputs": [],
   "source": [
    "missense_mutations_extended[(missense_mutations_extended['am_class'].isnull()) & (missense_mutations_extended['VariantType'] == 'SNP')]"
   ],
   "metadata": {
    "collapsed": false
   },
   "id": "2c7d04336824d15c"
  },
  {
   "cell_type": "code",
   "execution_count": null,
   "outputs": [],
   "source": [
    "alpha_missense_isoforms = pd.read_csv(data_path + '\\\\alphamissense\\\\AlphaMissense_isoforms_hg38.tsv', skiprows=3, sep='\\t')"
   ],
   "metadata": {
    "collapsed": false
   },
   "id": "67b2e457cbd92f8"
  },
  {
   "cell_type": "code",
   "execution_count": null,
   "outputs": [],
   "source": [
    "# Rename columns in alpha_missense_isoforms df to match those in missense_mutations for the merging criteria\n",
    "alpha_missense_isoforms.rename(columns={'#CHROM': 'Chrom', 'POS': 'Pos', 'REF': 'Ref', 'ALT': 'Alt'}, inplace=True)\n",
    "\n",
    "missense_mutations_isoforms = missense_mutations_isoforms.drop(columns=['am_pathogenicity', 'am_class'])\n",
    "\n",
    "# Now, merge the DataFrames\n",
    "missense_mutations_isoforms_extended = missense_mutations_isoforms.merge(alpha_missense_isoforms[['Chrom', 'Pos', 'Ref', 'Alt', 'am_pathogenicity', 'am_class']], \n",
    "                on=['Chrom', 'Pos', 'Ref', 'Alt'], \n",
    "                how='left')\n",
    "\n",
    "missense_mutations_isoforms_extended.head()"
   ],
   "metadata": {
    "collapsed": false
   },
   "id": "69aea83629f769bd"
  },
  {
   "cell_type": "code",
   "execution_count": null,
   "outputs": [],
   "source": [
    "missense_complete = pd.concat([missense_mutations_isoforms_extended, missense_mutations_extended])\n",
    "\n",
    "print(len(missense_mutations_extended))\n",
    "print(len(missense_mutations_isoforms_extended))\n",
    "print(len(missense_complete))"
   ],
   "metadata": {
    "collapsed": false
   },
   "id": "ff3d280f6d8a8467"
  },
  {
   "cell_type": "code",
   "execution_count": null,
   "outputs": [],
   "source": [
    "missense_complete[~missense_complete['am_pathogenicity'].isnull()]"
   ],
   "metadata": {
    "collapsed": false
   },
   "id": "adfa628ebe264bbb"
  },
  {
   "cell_type": "code",
   "execution_count": null,
   "outputs": [],
   "source": [
    "# Why are there null values? \n",
    "# Note: because of the DNP and TNP mutations that cannot be assessed with alpha missense - they result in a NaN value\n",
    "missense_complete[~missense_complete['am_pathogenicity'].isnull()]['am_class'].value_counts()"
   ],
   "metadata": {
    "collapsed": false
   },
   "id": "64bd1e27930fd61"
  },
  {
   "cell_type": "code",
   "execution_count": null,
   "outputs": [],
   "source": [
    "# Manually checking some Fathmm-XF results against alpha missense (using on-screen results for Fathmm-XF)\n",
    "# Note: they mostly match, but some predictions 'not available' for Fathmm-XF and some Alpha Missense results are 'ambiguous'\n",
    "# Could use a combination of the two?\n",
    "alpha_missense[(alpha_missense['Chrom']=='chr11') & (alpha_missense['Pos']==7313831)]"
   ],
   "metadata": {
    "collapsed": false
   },
   "id": "2ba09213164f8878"
  },
  {
   "cell_type": "code",
   "execution_count": null,
   "outputs": [],
   "source": [
    "pathogenic_missense = missense_complete[missense_complete['am_class'] == 'likely_pathogenic']\n",
    "\n",
    "pathogenic_missense.columns"
   ],
   "metadata": {
    "collapsed": false
   },
   "id": "a533ed9cf5039433"
  },
  {
   "cell_type": "code",
   "execution_count": null,
   "outputs": [],
   "source": [
    "pathogenic_missense[['ModelID','HugoSymbol']]"
   ],
   "metadata": {
    "collapsed": false
   },
   "id": "4580009cd4f3fe98"
  },
  {
   "cell_type": "code",
   "execution_count": null,
   "outputs": [],
   "source": [
    "print(len(pathogenic_missense[['ModelID','HugoSymbol']]))\n",
    "print(len(pathogenic_missense[['ModelID','HugoSymbol']].drop_duplicates()))"
   ],
   "metadata": {
    "collapsed": false
   },
   "id": "1596663162253c87"
  },
  {
   "cell_type": "code",
   "execution_count": null,
   "outputs": [],
   "source": [
    "# Function assigns lof and gof label depending on whether protein is onc/tsg/kinase/other\n",
    "def lof_gof(x):\n",
    "\n",
    "    if x in tsgs:\n",
    "        return 'lof'\n",
    "    elif x in oncs:\n",
    "        return 'gof'\n",
    "    elif x in kinases:\n",
    "        return 'gof'\n",
    "    else:\n",
    "        return 'lof'"
   ],
   "metadata": {
    "collapsed": false
   },
   "id": "4f02f80d933615b5"
  },
  {
   "cell_type": "code",
   "execution_count": null,
   "outputs": [],
   "source": [
    "# Add lof_gof column and map to lof_gof function. Each mutation (row) in df3_sm will be labelled lof/gof\n",
    "df3_sm['lof_gof'] = df3_sm['Protein stable ID'].map(lof_gof)"
   ],
   "metadata": {
    "collapsed": false
   },
   "id": "be822cf8fc3472d2"
  }
 ],
 "metadata": {
  "kernelspec": {
   "display_name": "Python 3",
   "language": "python",
   "name": "python3"
  },
  "language_info": {
   "codemirror_mode": {
    "name": "ipython",
    "version": 2
   },
   "file_extension": ".py",
   "mimetype": "text/x-python",
   "name": "python",
   "nbconvert_exporter": "python",
   "pygments_lexer": "ipython2",
   "version": "2.7.6"
  }
 },
 "nbformat": 4,
 "nbformat_minor": 5
}
