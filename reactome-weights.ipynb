{
 "cells": [
  {
   "cell_type": "code",
   "execution_count": 6,
   "id": "initial_id",
   "metadata": {
    "collapsed": true,
    "ExecuteTime": {
     "end_time": "2023-12-23T01:39:32.232837800Z",
     "start_time": "2023-12-23T01:39:31.211639700Z"
    }
   },
   "outputs": [],
   "source": [
    "import pandas as pd\n",
    "import numpy as np\n",
    "import sys\n",
    "import re\n",
    "import functools\n",
    "import json\n",
    "import random\n",
    "import os\n",
    "import math\n",
    "\n",
    "import matplotlib.pyplot as plt"
   ]
  },
  {
   "cell_type": "code",
   "execution_count": 80,
   "outputs": [
    {
     "data": {
      "text/plain": "['alphamissense',\n 'biomart',\n 'dependant',\n 'depmap',\n 'missing_gene_names.csv',\n 'pathway_commons',\n 'reactome',\n 'reactome_rows_to_drop.csv',\n 'string']"
     },
     "execution_count": 80,
     "metadata": {},
     "output_type": "execute_result"
    }
   ],
   "source": [
    "#os.getcwd()\n",
    "\n",
    "# Linux workstation\n",
    "#data_path = '/home/db600/phd/data/'\n",
    "\n",
    "# Laptop\n",
    "data_path = 'C:\\\\Users\\\\dan\\\\Documents\\\\phd\\\\data'\n",
    "\n",
    "os.listdir(data_path)"
   ],
   "metadata": {
    "collapsed": false,
    "ExecuteTime": {
     "end_time": "2023-12-23T04:11:54.136330100Z",
     "start_time": "2023-12-23T04:11:54.119861800Z"
    }
   },
   "id": "2e76b46b86413825"
  },
  {
   "cell_type": "code",
   "execution_count": 8,
   "outputs": [],
   "source": [
    "mut_path = data_path + 'depmap\\\\OmicsSomaticMutations.csv'\n",
    "exp_path = data_path + 'depmap\\\\OmicsExpressionProteinCodingGenesTPMLogp1.csv' \n",
    "conv_path = data_path + 'biomart\\\\ensembl_biomart_plus_fasta.csv'"
   ],
   "metadata": {
    "collapsed": false,
    "ExecuteTime": {
     "end_time": "2023-12-23T01:39:36.251068100Z",
     "start_time": "2023-12-23T01:39:36.235425500Z"
    }
   },
   "id": "2c9e98e8d41b7490"
  },
  {
   "cell_type": "code",
   "execution_count": 9,
   "outputs": [],
   "source": [
    "# Read the multi_gene_converter into a DF\n",
    "conv = pd.read_csv(conv_path, header = 0, index_col = 0)\n",
    "conv = conv.drop(columns='Unnamed: 0')"
   ],
   "metadata": {
    "collapsed": false,
    "ExecuteTime": {
     "end_time": "2023-12-23T01:39:49.550477400Z",
     "start_time": "2023-12-23T01:39:48.917007900Z"
    }
   },
   "id": "674ebce3ff7ab4a8"
  },
  {
   "cell_type": "code",
   "execution_count": 10,
   "outputs": [
    {
     "data": {
      "text/plain": "    Gene stable ID HGNC symbol Chromosome/scaffold name Transcript stable ID  \\\n0  ENSG00000198888      MT-ND1                       MT      ENST00000361390   \n1  ENSG00000198763      MT-ND2                       MT      ENST00000361453   \n2  ENSG00000198804      MT-CO1                       MT      ENST00000361624   \n3  ENSG00000198712      MT-CO2                       MT      ENST00000361739   \n4  ENSG00000228253     MT-ATP8                       MT      ENST00000361851   \n\n  Protein stable ID UniProtKB/TrEMBL ID UniProtKB/Swiss-Prot ID  \\\n0   ENSP00000354687              U5Z754                  P03886   \n1   ENSP00000355046              Q7GXY9                  P03891   \n2   ENSP00000354499              U5YWV7                  P00395   \n3   ENSP00000354876              U5Z487                  P00403   \n4   ENSP00000355265              U5YV54                  P03928   \n\n                                             Peptide  \n0  MPMANLLLLIVPILIAMAFLMLTERKILGYMQLRKGPNVVGPYGLL...  \n1  MNPLAQPVIYSTIFAGTLITALSSHWFFTWVGLEMNMLAFIPVLTK...  \n2  MFADRWLFSTNHKDIGTLYLLFGAWAGVLGTALSLLIRAELGQPGN...  \n3  MAHAAQVGLQDATSPIMEELITFHDHALMIIFLICFLVLYALFLTL...  \n4  MPQLNTTVWPTMITPMLLTLFLITQLKMLNTNYHLPPSPKPMKMKN...  ",
      "text/html": "<div>\n<style scoped>\n    .dataframe tbody tr th:only-of-type {\n        vertical-align: middle;\n    }\n\n    .dataframe tbody tr th {\n        vertical-align: top;\n    }\n\n    .dataframe thead th {\n        text-align: right;\n    }\n</style>\n<table border=\"1\" class=\"dataframe\">\n  <thead>\n    <tr style=\"text-align: right;\">\n      <th></th>\n      <th>Gene stable ID</th>\n      <th>HGNC symbol</th>\n      <th>Chromosome/scaffold name</th>\n      <th>Transcript stable ID</th>\n      <th>Protein stable ID</th>\n      <th>UniProtKB/TrEMBL ID</th>\n      <th>UniProtKB/Swiss-Prot ID</th>\n      <th>Peptide</th>\n    </tr>\n  </thead>\n  <tbody>\n    <tr>\n      <th>0</th>\n      <td>ENSG00000198888</td>\n      <td>MT-ND1</td>\n      <td>MT</td>\n      <td>ENST00000361390</td>\n      <td>ENSP00000354687</td>\n      <td>U5Z754</td>\n      <td>P03886</td>\n      <td>MPMANLLLLIVPILIAMAFLMLTERKILGYMQLRKGPNVVGPYGLL...</td>\n    </tr>\n    <tr>\n      <th>1</th>\n      <td>ENSG00000198763</td>\n      <td>MT-ND2</td>\n      <td>MT</td>\n      <td>ENST00000361453</td>\n      <td>ENSP00000355046</td>\n      <td>Q7GXY9</td>\n      <td>P03891</td>\n      <td>MNPLAQPVIYSTIFAGTLITALSSHWFFTWVGLEMNMLAFIPVLTK...</td>\n    </tr>\n    <tr>\n      <th>2</th>\n      <td>ENSG00000198804</td>\n      <td>MT-CO1</td>\n      <td>MT</td>\n      <td>ENST00000361624</td>\n      <td>ENSP00000354499</td>\n      <td>U5YWV7</td>\n      <td>P00395</td>\n      <td>MFADRWLFSTNHKDIGTLYLLFGAWAGVLGTALSLLIRAELGQPGN...</td>\n    </tr>\n    <tr>\n      <th>3</th>\n      <td>ENSG00000198712</td>\n      <td>MT-CO2</td>\n      <td>MT</td>\n      <td>ENST00000361739</td>\n      <td>ENSP00000354876</td>\n      <td>U5Z487</td>\n      <td>P00403</td>\n      <td>MAHAAQVGLQDATSPIMEELITFHDHALMIIFLICFLVLYALFLTL...</td>\n    </tr>\n    <tr>\n      <th>4</th>\n      <td>ENSG00000228253</td>\n      <td>MT-ATP8</td>\n      <td>MT</td>\n      <td>ENST00000361851</td>\n      <td>ENSP00000355265</td>\n      <td>U5YV54</td>\n      <td>P03928</td>\n      <td>MPQLNTTVWPTMITPMLLTLFLITQLKMLNTNYHLPPSPKPMKMKN...</td>\n    </tr>\n  </tbody>\n</table>\n</div>"
     },
     "execution_count": 10,
     "metadata": {},
     "output_type": "execute_result"
    }
   ],
   "source": [
    "conv.head()"
   ],
   "metadata": {
    "collapsed": false,
    "ExecuteTime": {
     "end_time": "2023-12-23T01:39:51.872474Z",
     "start_time": "2023-12-23T01:39:51.840813100Z"
    }
   },
   "id": "9ce51c982fda35dd"
  },
  {
   "cell_type": "code",
   "execution_count": 11,
   "outputs": [],
   "source": [
    "def load_list(path):\n",
    "    with open(path) as f:\n",
    "        g = json.load(f)\n",
    "    return g\n",
    "\n",
    "kinases_path = \"C:\\\\Users\\\\dan\\\\PycharmProjects\\\\kinase-onc-tsg\\\\data\\\\kinases.json\"\n",
    "oncs_path = \"C:\\\\Users\\\\dan\\\\PycharmProjects\\\\kinase-onc-tsg\\\\data\\\\oncs.json\"\n",
    "tsgs_path = \"C:\\\\Users\\\\dan\\\\PycharmProjects\\\\kinase-onc-tsg\\\\data\\\\tsgs.json\"\n",
    "\n",
    "kinases = load_list(kinases_path)\n",
    "oncs = load_list(oncs_path)\n",
    "tsgs =load_list(tsgs_path)"
   ],
   "metadata": {
    "collapsed": false,
    "ExecuteTime": {
     "end_time": "2023-12-23T01:39:56.960555400Z",
     "start_time": "2023-12-23T01:39:56.944916100Z"
    }
   },
   "id": "6d610ce38158ccdb"
  },
  {
   "cell_type": "code",
   "execution_count": 12,
   "outputs": [
    {
     "data": {
      "text/plain": "             CCLEName\n0      HCC1428_BREAST\n1      HCC1806_BREAST\n2      HCC1937_BREAST\n3     MDAMB231_BREAST\n4       HCC202_BREAST\n5        CAL51_BREAST\n6     MDAMB468_BREAST\n7         KPL1_BREAST\n8     MDAMB415_BREAST\n9     MDAMB157_BREAST\n10    MDAMB453_BREAST\n11     HCC1954_BREAST\n12      HS578T_BREAST\n13       ZR751_BREAST\n14       AU565_BREAST\n15    MDAMB436_BREAST\n16       EFM19_BREAST\n17     HCC1143_BREAST\n18     HCC1395_BREAST\n19   TUHR10TKB_KIDNEY\n20       KMRC1_KIDNEY\n21       SLR23_KIDNEY\n22       OSRC2_KIDNEY\n23      SNU349_KIDNEY\n24       SLR20_KIDNEY\n25     BFTC909_KIDNEY\n26    TUHR4TKB_KIDNEY\n27       CAKI2_KIDNEY\n28       SLR26_KIDNEY\n29      UOK101_KIDNEY\n30  PANC1005_PANCREAS\n31    HS766T_PANCREAS\n32     ASPC1_PANCREAS\n33       KP2_PANCREAS\n34       KP4_PANCREAS\n35  MIAPACA2_PANCREAS\n36    CFPAC1_PANCREAS\n37      PSN1_PANCREAS\n38     HUPT3_PANCREAS",
      "text/html": "<div>\n<style scoped>\n    .dataframe tbody tr th:only-of-type {\n        vertical-align: middle;\n    }\n\n    .dataframe tbody tr th {\n        vertical-align: top;\n    }\n\n    .dataframe thead th {\n        text-align: right;\n    }\n</style>\n<table border=\"1\" class=\"dataframe\">\n  <thead>\n    <tr style=\"text-align: right;\">\n      <th></th>\n      <th>CCLEName</th>\n    </tr>\n  </thead>\n  <tbody>\n    <tr>\n      <th>0</th>\n      <td>HCC1428_BREAST</td>\n    </tr>\n    <tr>\n      <th>1</th>\n      <td>HCC1806_BREAST</td>\n    </tr>\n    <tr>\n      <th>2</th>\n      <td>HCC1937_BREAST</td>\n    </tr>\n    <tr>\n      <th>3</th>\n      <td>MDAMB231_BREAST</td>\n    </tr>\n    <tr>\n      <th>4</th>\n      <td>HCC202_BREAST</td>\n    </tr>\n    <tr>\n      <th>5</th>\n      <td>CAL51_BREAST</td>\n    </tr>\n    <tr>\n      <th>6</th>\n      <td>MDAMB468_BREAST</td>\n    </tr>\n    <tr>\n      <th>7</th>\n      <td>KPL1_BREAST</td>\n    </tr>\n    <tr>\n      <th>8</th>\n      <td>MDAMB415_BREAST</td>\n    </tr>\n    <tr>\n      <th>9</th>\n      <td>MDAMB157_BREAST</td>\n    </tr>\n    <tr>\n      <th>10</th>\n      <td>MDAMB453_BREAST</td>\n    </tr>\n    <tr>\n      <th>11</th>\n      <td>HCC1954_BREAST</td>\n    </tr>\n    <tr>\n      <th>12</th>\n      <td>HS578T_BREAST</td>\n    </tr>\n    <tr>\n      <th>13</th>\n      <td>ZR751_BREAST</td>\n    </tr>\n    <tr>\n      <th>14</th>\n      <td>AU565_BREAST</td>\n    </tr>\n    <tr>\n      <th>15</th>\n      <td>MDAMB436_BREAST</td>\n    </tr>\n    <tr>\n      <th>16</th>\n      <td>EFM19_BREAST</td>\n    </tr>\n    <tr>\n      <th>17</th>\n      <td>HCC1143_BREAST</td>\n    </tr>\n    <tr>\n      <th>18</th>\n      <td>HCC1395_BREAST</td>\n    </tr>\n    <tr>\n      <th>19</th>\n      <td>TUHR10TKB_KIDNEY</td>\n    </tr>\n    <tr>\n      <th>20</th>\n      <td>KMRC1_KIDNEY</td>\n    </tr>\n    <tr>\n      <th>21</th>\n      <td>SLR23_KIDNEY</td>\n    </tr>\n    <tr>\n      <th>22</th>\n      <td>OSRC2_KIDNEY</td>\n    </tr>\n    <tr>\n      <th>23</th>\n      <td>SNU349_KIDNEY</td>\n    </tr>\n    <tr>\n      <th>24</th>\n      <td>SLR20_KIDNEY</td>\n    </tr>\n    <tr>\n      <th>25</th>\n      <td>BFTC909_KIDNEY</td>\n    </tr>\n    <tr>\n      <th>26</th>\n      <td>TUHR4TKB_KIDNEY</td>\n    </tr>\n    <tr>\n      <th>27</th>\n      <td>CAKI2_KIDNEY</td>\n    </tr>\n    <tr>\n      <th>28</th>\n      <td>SLR26_KIDNEY</td>\n    </tr>\n    <tr>\n      <th>29</th>\n      <td>UOK101_KIDNEY</td>\n    </tr>\n    <tr>\n      <th>30</th>\n      <td>PANC1005_PANCREAS</td>\n    </tr>\n    <tr>\n      <th>31</th>\n      <td>HS766T_PANCREAS</td>\n    </tr>\n    <tr>\n      <th>32</th>\n      <td>ASPC1_PANCREAS</td>\n    </tr>\n    <tr>\n      <th>33</th>\n      <td>KP2_PANCREAS</td>\n    </tr>\n    <tr>\n      <th>34</th>\n      <td>KP4_PANCREAS</td>\n    </tr>\n    <tr>\n      <th>35</th>\n      <td>MIAPACA2_PANCREAS</td>\n    </tr>\n    <tr>\n      <th>36</th>\n      <td>CFPAC1_PANCREAS</td>\n    </tr>\n    <tr>\n      <th>37</th>\n      <td>PSN1_PANCREAS</td>\n    </tr>\n    <tr>\n      <th>38</th>\n      <td>HUPT3_PANCREAS</td>\n    </tr>\n  </tbody>\n</table>\n</div>"
     },
     "execution_count": 12,
     "metadata": {},
     "output_type": "execute_result"
    }
   ],
   "source": [
    "# Get list of training cell lines used in original program\n",
    "# Manually saved to CSV earlier\n",
    "cell_lines = pd.read_csv(data_path + 'dependant\\\\original_training_cell_lines.csv')\n",
    "cell_lines = cell_lines.rename(columns={'cell_line': 'CCLEName'})\n",
    "cell_lines"
   ],
   "metadata": {
    "collapsed": false,
    "ExecuteTime": {
     "end_time": "2023-12-23T01:40:00.560388300Z",
     "start_time": "2023-12-23T01:40:00.527067600Z"
    }
   },
   "id": "f4729a90d47138ec"
  },
  {
   "cell_type": "code",
   "execution_count": 13,
   "outputs": [
    {
     "data": {
      "text/plain": "             CCLEName     ModelID\n0      HCC1428_BREAST  ACH-000352\n1      HCC1806_BREAST  ACH-000624\n2      HCC1937_BREAST  ACH-000223\n3     MDAMB231_BREAST  ACH-000768\n4       HCC202_BREAST  ACH-000725\n5        CAL51_BREAST  ACH-000856\n6     MDAMB468_BREAST  ACH-000849\n7         KPL1_BREAST  ACH-000028\n8     MDAMB415_BREAST  ACH-000876\n9     MDAMB157_BREAST  ACH-000621\n10    MDAMB453_BREAST  ACH-000910\n11     HCC1954_BREAST  ACH-000859\n12      HS578T_BREAST  ACH-000148\n13       ZR751_BREAST  ACH-000097\n14       AU565_BREAST  ACH-000248\n15    MDAMB436_BREAST  ACH-000573\n16       EFM19_BREAST  ACH-000330\n17     HCC1143_BREAST  ACH-000374\n18     HCC1395_BREAST  ACH-000699\n19   TUHR10TKB_KIDNEY  ACH-000459\n20       KMRC1_KIDNEY  ACH-000684\n21       SLR23_KIDNEY  ACH-000246\n22       OSRC2_KIDNEY  ACH-000159\n23      SNU349_KIDNEY  ACH-000907\n24       SLR20_KIDNEY  ACH-000127\n25     BFTC909_KIDNEY  ACH-000792\n26    TUHR4TKB_KIDNEY  ACH-000495\n27       CAKI2_KIDNEY  ACH-000234\n28       SLR26_KIDNEY  ACH-000600\n29      UOK101_KIDNEY  ACH-000262\n30  PANC1005_PANCREAS  ACH-000060\n31    HS766T_PANCREAS  ACH-000178\n32     ASPC1_PANCREAS  ACH-000222\n33       KP2_PANCREAS  ACH-000281\n34       KP4_PANCREAS  ACH-000265\n35  MIAPACA2_PANCREAS  ACH-000601\n36    CFPAC1_PANCREAS  ACH-000138\n37      PSN1_PANCREAS  ACH-000320\n38     HUPT3_PANCREAS  ACH-000118",
      "text/html": "<div>\n<style scoped>\n    .dataframe tbody tr th:only-of-type {\n        vertical-align: middle;\n    }\n\n    .dataframe tbody tr th {\n        vertical-align: top;\n    }\n\n    .dataframe thead th {\n        text-align: right;\n    }\n</style>\n<table border=\"1\" class=\"dataframe\">\n  <thead>\n    <tr style=\"text-align: right;\">\n      <th></th>\n      <th>CCLEName</th>\n      <th>ModelID</th>\n    </tr>\n  </thead>\n  <tbody>\n    <tr>\n      <th>0</th>\n      <td>HCC1428_BREAST</td>\n      <td>ACH-000352</td>\n    </tr>\n    <tr>\n      <th>1</th>\n      <td>HCC1806_BREAST</td>\n      <td>ACH-000624</td>\n    </tr>\n    <tr>\n      <th>2</th>\n      <td>HCC1937_BREAST</td>\n      <td>ACH-000223</td>\n    </tr>\n    <tr>\n      <th>3</th>\n      <td>MDAMB231_BREAST</td>\n      <td>ACH-000768</td>\n    </tr>\n    <tr>\n      <th>4</th>\n      <td>HCC202_BREAST</td>\n      <td>ACH-000725</td>\n    </tr>\n    <tr>\n      <th>5</th>\n      <td>CAL51_BREAST</td>\n      <td>ACH-000856</td>\n    </tr>\n    <tr>\n      <th>6</th>\n      <td>MDAMB468_BREAST</td>\n      <td>ACH-000849</td>\n    </tr>\n    <tr>\n      <th>7</th>\n      <td>KPL1_BREAST</td>\n      <td>ACH-000028</td>\n    </tr>\n    <tr>\n      <th>8</th>\n      <td>MDAMB415_BREAST</td>\n      <td>ACH-000876</td>\n    </tr>\n    <tr>\n      <th>9</th>\n      <td>MDAMB157_BREAST</td>\n      <td>ACH-000621</td>\n    </tr>\n    <tr>\n      <th>10</th>\n      <td>MDAMB453_BREAST</td>\n      <td>ACH-000910</td>\n    </tr>\n    <tr>\n      <th>11</th>\n      <td>HCC1954_BREAST</td>\n      <td>ACH-000859</td>\n    </tr>\n    <tr>\n      <th>12</th>\n      <td>HS578T_BREAST</td>\n      <td>ACH-000148</td>\n    </tr>\n    <tr>\n      <th>13</th>\n      <td>ZR751_BREAST</td>\n      <td>ACH-000097</td>\n    </tr>\n    <tr>\n      <th>14</th>\n      <td>AU565_BREAST</td>\n      <td>ACH-000248</td>\n    </tr>\n    <tr>\n      <th>15</th>\n      <td>MDAMB436_BREAST</td>\n      <td>ACH-000573</td>\n    </tr>\n    <tr>\n      <th>16</th>\n      <td>EFM19_BREAST</td>\n      <td>ACH-000330</td>\n    </tr>\n    <tr>\n      <th>17</th>\n      <td>HCC1143_BREAST</td>\n      <td>ACH-000374</td>\n    </tr>\n    <tr>\n      <th>18</th>\n      <td>HCC1395_BREAST</td>\n      <td>ACH-000699</td>\n    </tr>\n    <tr>\n      <th>19</th>\n      <td>TUHR10TKB_KIDNEY</td>\n      <td>ACH-000459</td>\n    </tr>\n    <tr>\n      <th>20</th>\n      <td>KMRC1_KIDNEY</td>\n      <td>ACH-000684</td>\n    </tr>\n    <tr>\n      <th>21</th>\n      <td>SLR23_KIDNEY</td>\n      <td>ACH-000246</td>\n    </tr>\n    <tr>\n      <th>22</th>\n      <td>OSRC2_KIDNEY</td>\n      <td>ACH-000159</td>\n    </tr>\n    <tr>\n      <th>23</th>\n      <td>SNU349_KIDNEY</td>\n      <td>ACH-000907</td>\n    </tr>\n    <tr>\n      <th>24</th>\n      <td>SLR20_KIDNEY</td>\n      <td>ACH-000127</td>\n    </tr>\n    <tr>\n      <th>25</th>\n      <td>BFTC909_KIDNEY</td>\n      <td>ACH-000792</td>\n    </tr>\n    <tr>\n      <th>26</th>\n      <td>TUHR4TKB_KIDNEY</td>\n      <td>ACH-000495</td>\n    </tr>\n    <tr>\n      <th>27</th>\n      <td>CAKI2_KIDNEY</td>\n      <td>ACH-000234</td>\n    </tr>\n    <tr>\n      <th>28</th>\n      <td>SLR26_KIDNEY</td>\n      <td>ACH-000600</td>\n    </tr>\n    <tr>\n      <th>29</th>\n      <td>UOK101_KIDNEY</td>\n      <td>ACH-000262</td>\n    </tr>\n    <tr>\n      <th>30</th>\n      <td>PANC1005_PANCREAS</td>\n      <td>ACH-000060</td>\n    </tr>\n    <tr>\n      <th>31</th>\n      <td>HS766T_PANCREAS</td>\n      <td>ACH-000178</td>\n    </tr>\n    <tr>\n      <th>32</th>\n      <td>ASPC1_PANCREAS</td>\n      <td>ACH-000222</td>\n    </tr>\n    <tr>\n      <th>33</th>\n      <td>KP2_PANCREAS</td>\n      <td>ACH-000281</td>\n    </tr>\n    <tr>\n      <th>34</th>\n      <td>KP4_PANCREAS</td>\n      <td>ACH-000265</td>\n    </tr>\n    <tr>\n      <th>35</th>\n      <td>MIAPACA2_PANCREAS</td>\n      <td>ACH-000601</td>\n    </tr>\n    <tr>\n      <th>36</th>\n      <td>CFPAC1_PANCREAS</td>\n      <td>ACH-000138</td>\n    </tr>\n    <tr>\n      <th>37</th>\n      <td>PSN1_PANCREAS</td>\n      <td>ACH-000320</td>\n    </tr>\n    <tr>\n      <th>38</th>\n      <td>HUPT3_PANCREAS</td>\n      <td>ACH-000118</td>\n    </tr>\n  </tbody>\n</table>\n</div>"
     },
     "execution_count": 13,
     "metadata": {},
     "output_type": "execute_result"
    }
   ],
   "source": [
    "# Load the DepMap model metadata\n",
    "depmap_model = pd.read_csv(data_path + 'depmap\\\\Model.csv')\n",
    "\n",
    "# Add depmap model ID to the list of 39 original training cell lines\n",
    "cell_lines = pd.merge(cell_lines, depmap_model[['ModelID', 'CCLEName']], on='CCLEName', how='left')\n",
    "\n",
    "# View the cell line list\n",
    "cell_lines"
   ],
   "metadata": {
    "collapsed": false,
    "ExecuteTime": {
     "end_time": "2023-12-23T01:40:14.232343700Z",
     "start_time": "2023-12-23T01:40:14.200782500Z"
    }
   },
   "id": "9af542e32569cad"
  },
  {
   "cell_type": "code",
   "execution_count": 14,
   "outputs": [],
   "source": [
    "# Load the expression and mutation data\n",
    "mut_df0 = pd.read_csv(mut_path, low_memory=False)\n",
    "exp_df = pd.read_csv(exp_path)"
   ],
   "metadata": {
    "collapsed": false,
    "ExecuteTime": {
     "end_time": "2023-12-23T01:40:41.540866Z",
     "start_time": "2023-12-23T01:40:22.143823400Z"
    }
   },
   "id": "3a130920cfe3250d"
  },
  {
   "cell_type": "code",
   "execution_count": 15,
   "outputs": [
    {
     "data": {
      "text/plain": "   Unnamed: 0  TSPAN6 (7105)  TNMD (64102)  DPM1 (8813)  SCYL3 (57147)  \\\n0  ACH-001113       4.331992      0.000000     7.364660       2.792855   \n1  ACH-001289       4.567424      0.584963     7.106641       2.543496   \n2  ACH-001339       3.150560      0.000000     7.379118       2.333424   \n3  ACH-001538       5.085340      0.000000     7.154211       2.545968   \n4  ACH-000242       6.729417      0.000000     6.537917       2.456806   \n\n   C1orf112 (55732)  FGR (2268)  CFH (3075)  FUCA2 (2519)  GCLC (2729)  ...  \\\n0          4.471187    0.028569    1.226509      3.044394     6.500005  ...   \n1          3.504620    0.000000    0.189034      3.813525     4.221877  ...   \n2          4.228049    0.056584    1.310340      6.687201     3.682573  ...   \n3          3.084064    0.000000    5.868390      6.165309     4.489928  ...   \n4          3.867896    0.799087    7.208478      5.570159     7.127117  ...   \n\n   H3C2 (8358)  H3C3 (8352)  AC098582.1 (8916)  DUS4L-BCAP29 (115253422)  \\\n0     2.689299     0.189034           0.201634                  2.130931   \n1     1.286881     1.049631           0.321928                  1.464668   \n2     0.594549     1.097611           0.831877                  2.946731   \n3     0.214125     0.632268           0.298658                  1.641546   \n4     1.117695     2.358959           0.084064                  1.910733   \n\n   C8orf44-SGK3 (100533105)  ELOA3B (728929)  NPBWR1 (2831)  \\\n0                  0.555816              0.0       0.275007   \n1                  0.632268              0.0       0.014355   \n2                  0.475085              0.0       0.084064   \n3                  0.443607              0.0       0.028569   \n4                  0.000000              0.0       0.464668   \n\n   ELOA3D (100506888)  ELOA3 (162699)  CDR1 (1038)  \n0                 0.0             0.0     0.000000  \n1                 0.0             0.0     0.000000  \n2                 0.0             0.0     0.042644  \n3                 0.0             0.0     0.000000  \n4                 0.0             0.0     0.000000  \n\n[5 rows x 19194 columns]",
      "text/html": "<div>\n<style scoped>\n    .dataframe tbody tr th:only-of-type {\n        vertical-align: middle;\n    }\n\n    .dataframe tbody tr th {\n        vertical-align: top;\n    }\n\n    .dataframe thead th {\n        text-align: right;\n    }\n</style>\n<table border=\"1\" class=\"dataframe\">\n  <thead>\n    <tr style=\"text-align: right;\">\n      <th></th>\n      <th>Unnamed: 0</th>\n      <th>TSPAN6 (7105)</th>\n      <th>TNMD (64102)</th>\n      <th>DPM1 (8813)</th>\n      <th>SCYL3 (57147)</th>\n      <th>C1orf112 (55732)</th>\n      <th>FGR (2268)</th>\n      <th>CFH (3075)</th>\n      <th>FUCA2 (2519)</th>\n      <th>GCLC (2729)</th>\n      <th>...</th>\n      <th>H3C2 (8358)</th>\n      <th>H3C3 (8352)</th>\n      <th>AC098582.1 (8916)</th>\n      <th>DUS4L-BCAP29 (115253422)</th>\n      <th>C8orf44-SGK3 (100533105)</th>\n      <th>ELOA3B (728929)</th>\n      <th>NPBWR1 (2831)</th>\n      <th>ELOA3D (100506888)</th>\n      <th>ELOA3 (162699)</th>\n      <th>CDR1 (1038)</th>\n    </tr>\n  </thead>\n  <tbody>\n    <tr>\n      <th>0</th>\n      <td>ACH-001113</td>\n      <td>4.331992</td>\n      <td>0.000000</td>\n      <td>7.364660</td>\n      <td>2.792855</td>\n      <td>4.471187</td>\n      <td>0.028569</td>\n      <td>1.226509</td>\n      <td>3.044394</td>\n      <td>6.500005</td>\n      <td>...</td>\n      <td>2.689299</td>\n      <td>0.189034</td>\n      <td>0.201634</td>\n      <td>2.130931</td>\n      <td>0.555816</td>\n      <td>0.0</td>\n      <td>0.275007</td>\n      <td>0.0</td>\n      <td>0.0</td>\n      <td>0.000000</td>\n    </tr>\n    <tr>\n      <th>1</th>\n      <td>ACH-001289</td>\n      <td>4.567424</td>\n      <td>0.584963</td>\n      <td>7.106641</td>\n      <td>2.543496</td>\n      <td>3.504620</td>\n      <td>0.000000</td>\n      <td>0.189034</td>\n      <td>3.813525</td>\n      <td>4.221877</td>\n      <td>...</td>\n      <td>1.286881</td>\n      <td>1.049631</td>\n      <td>0.321928</td>\n      <td>1.464668</td>\n      <td>0.632268</td>\n      <td>0.0</td>\n      <td>0.014355</td>\n      <td>0.0</td>\n      <td>0.0</td>\n      <td>0.000000</td>\n    </tr>\n    <tr>\n      <th>2</th>\n      <td>ACH-001339</td>\n      <td>3.150560</td>\n      <td>0.000000</td>\n      <td>7.379118</td>\n      <td>2.333424</td>\n      <td>4.228049</td>\n      <td>0.056584</td>\n      <td>1.310340</td>\n      <td>6.687201</td>\n      <td>3.682573</td>\n      <td>...</td>\n      <td>0.594549</td>\n      <td>1.097611</td>\n      <td>0.831877</td>\n      <td>2.946731</td>\n      <td>0.475085</td>\n      <td>0.0</td>\n      <td>0.084064</td>\n      <td>0.0</td>\n      <td>0.0</td>\n      <td>0.042644</td>\n    </tr>\n    <tr>\n      <th>3</th>\n      <td>ACH-001538</td>\n      <td>5.085340</td>\n      <td>0.000000</td>\n      <td>7.154211</td>\n      <td>2.545968</td>\n      <td>3.084064</td>\n      <td>0.000000</td>\n      <td>5.868390</td>\n      <td>6.165309</td>\n      <td>4.489928</td>\n      <td>...</td>\n      <td>0.214125</td>\n      <td>0.632268</td>\n      <td>0.298658</td>\n      <td>1.641546</td>\n      <td>0.443607</td>\n      <td>0.0</td>\n      <td>0.028569</td>\n      <td>0.0</td>\n      <td>0.0</td>\n      <td>0.000000</td>\n    </tr>\n    <tr>\n      <th>4</th>\n      <td>ACH-000242</td>\n      <td>6.729417</td>\n      <td>0.000000</td>\n      <td>6.537917</td>\n      <td>2.456806</td>\n      <td>3.867896</td>\n      <td>0.799087</td>\n      <td>7.208478</td>\n      <td>5.570159</td>\n      <td>7.127117</td>\n      <td>...</td>\n      <td>1.117695</td>\n      <td>2.358959</td>\n      <td>0.084064</td>\n      <td>1.910733</td>\n      <td>0.000000</td>\n      <td>0.0</td>\n      <td>0.464668</td>\n      <td>0.0</td>\n      <td>0.0</td>\n      <td>0.000000</td>\n    </tr>\n  </tbody>\n</table>\n<p>5 rows × 19194 columns</p>\n</div>"
     },
     "execution_count": 15,
     "metadata": {},
     "output_type": "execute_result"
    }
   ],
   "source": [
    "# Preview expression data\n",
    "exp_df.head()"
   ],
   "metadata": {
    "collapsed": false,
    "ExecuteTime": {
     "end_time": "2023-12-23T01:40:52.431099300Z",
     "start_time": "2023-12-23T01:40:52.413470600Z"
    }
   },
   "id": "eb79b7b4929bd055"
  },
  {
   "cell_type": "code",
   "execution_count": 16,
   "outputs": [
    {
     "data": {
      "text/plain": "  Chrom       Pos Ref Alt     AF  RefCount  AltCount   GT          PS  \\\n0  chr1   1242864  GC  CT  0.310        19         8  0/1         NaN   \n1  chr1  10647969   A   G  0.400        29        19  0|1  10647969.0   \n2  chr1  10648097   T   G  0.349        21        10  0/1         NaN   \n3  chr1  13198424   G   A  0.833         0         4  0/1         NaN   \n4  chr1  13225068   A   G  0.396        34        24  0/1         NaN   \n\n  VariantType  ... RevelScore Funseq2Score PharmgkbID DidaID DidaName  \\\n0         DNP  ...        NaN          NaN        NaN    NaN      NaN   \n1         SNP  ...      0.234          3.0        NaN    NaN      NaN   \n2         SNP  ...        NaN          0.0        NaN    NaN      NaN   \n3         SNP  ...      0.002          NaN        NaN    NaN      NaN   \n4         SNP  ...        NaN          0.0        NaN    NaN      NaN   \n\n  GwasDisease GwasPmID  GTexGene     ModelID EntrezGeneID  \n0         NaN      NaN       NaN  ACH-000839     388581.0  \n1         NaN      NaN       NaN  ACH-000839      54897.0  \n2         NaN      NaN       NaN  ACH-000839      54897.0  \n3         NaN      NaN       NaN  ACH-000839     400736.0  \n4         NaN      NaN       NaN  ACH-000839     391003.0  \n\n[5 rows x 56 columns]",
      "text/html": "<div>\n<style scoped>\n    .dataframe tbody tr th:only-of-type {\n        vertical-align: middle;\n    }\n\n    .dataframe tbody tr th {\n        vertical-align: top;\n    }\n\n    .dataframe thead th {\n        text-align: right;\n    }\n</style>\n<table border=\"1\" class=\"dataframe\">\n  <thead>\n    <tr style=\"text-align: right;\">\n      <th></th>\n      <th>Chrom</th>\n      <th>Pos</th>\n      <th>Ref</th>\n      <th>Alt</th>\n      <th>AF</th>\n      <th>RefCount</th>\n      <th>AltCount</th>\n      <th>GT</th>\n      <th>PS</th>\n      <th>VariantType</th>\n      <th>...</th>\n      <th>RevelScore</th>\n      <th>Funseq2Score</th>\n      <th>PharmgkbID</th>\n      <th>DidaID</th>\n      <th>DidaName</th>\n      <th>GwasDisease</th>\n      <th>GwasPmID</th>\n      <th>GTexGene</th>\n      <th>ModelID</th>\n      <th>EntrezGeneID</th>\n    </tr>\n  </thead>\n  <tbody>\n    <tr>\n      <th>0</th>\n      <td>chr1</td>\n      <td>1242864</td>\n      <td>GC</td>\n      <td>CT</td>\n      <td>0.310</td>\n      <td>19</td>\n      <td>8</td>\n      <td>0/1</td>\n      <td>NaN</td>\n      <td>DNP</td>\n      <td>...</td>\n      <td>NaN</td>\n      <td>NaN</td>\n      <td>NaN</td>\n      <td>NaN</td>\n      <td>NaN</td>\n      <td>NaN</td>\n      <td>NaN</td>\n      <td>NaN</td>\n      <td>ACH-000839</td>\n      <td>388581.0</td>\n    </tr>\n    <tr>\n      <th>1</th>\n      <td>chr1</td>\n      <td>10647969</td>\n      <td>A</td>\n      <td>G</td>\n      <td>0.400</td>\n      <td>29</td>\n      <td>19</td>\n      <td>0|1</td>\n      <td>10647969.0</td>\n      <td>SNP</td>\n      <td>...</td>\n      <td>0.234</td>\n      <td>3.0</td>\n      <td>NaN</td>\n      <td>NaN</td>\n      <td>NaN</td>\n      <td>NaN</td>\n      <td>NaN</td>\n      <td>NaN</td>\n      <td>ACH-000839</td>\n      <td>54897.0</td>\n    </tr>\n    <tr>\n      <th>2</th>\n      <td>chr1</td>\n      <td>10648097</td>\n      <td>T</td>\n      <td>G</td>\n      <td>0.349</td>\n      <td>21</td>\n      <td>10</td>\n      <td>0/1</td>\n      <td>NaN</td>\n      <td>SNP</td>\n      <td>...</td>\n      <td>NaN</td>\n      <td>0.0</td>\n      <td>NaN</td>\n      <td>NaN</td>\n      <td>NaN</td>\n      <td>NaN</td>\n      <td>NaN</td>\n      <td>NaN</td>\n      <td>ACH-000839</td>\n      <td>54897.0</td>\n    </tr>\n    <tr>\n      <th>3</th>\n      <td>chr1</td>\n      <td>13198424</td>\n      <td>G</td>\n      <td>A</td>\n      <td>0.833</td>\n      <td>0</td>\n      <td>4</td>\n      <td>0/1</td>\n      <td>NaN</td>\n      <td>SNP</td>\n      <td>...</td>\n      <td>0.002</td>\n      <td>NaN</td>\n      <td>NaN</td>\n      <td>NaN</td>\n      <td>NaN</td>\n      <td>NaN</td>\n      <td>NaN</td>\n      <td>NaN</td>\n      <td>ACH-000839</td>\n      <td>400736.0</td>\n    </tr>\n    <tr>\n      <th>4</th>\n      <td>chr1</td>\n      <td>13225068</td>\n      <td>A</td>\n      <td>G</td>\n      <td>0.396</td>\n      <td>34</td>\n      <td>24</td>\n      <td>0/1</td>\n      <td>NaN</td>\n      <td>SNP</td>\n      <td>...</td>\n      <td>NaN</td>\n      <td>0.0</td>\n      <td>NaN</td>\n      <td>NaN</td>\n      <td>NaN</td>\n      <td>NaN</td>\n      <td>NaN</td>\n      <td>NaN</td>\n      <td>ACH-000839</td>\n      <td>391003.0</td>\n    </tr>\n  </tbody>\n</table>\n<p>5 rows × 56 columns</p>\n</div>"
     },
     "execution_count": 16,
     "metadata": {},
     "output_type": "execute_result"
    }
   ],
   "source": [
    "# Preview mutation data\n",
    "mut_df0.head()"
   ],
   "metadata": {
    "collapsed": false,
    "ExecuteTime": {
     "end_time": "2023-12-23T01:40:54.841148800Z",
     "start_time": "2023-12-23T01:40:54.825130800Z"
    }
   },
   "id": "c396c661c71a4de2"
  },
  {
   "cell_type": "code",
   "execution_count": 68,
   "outputs": [
    {
     "data": {
      "text/plain": "Index(['Chrom', 'Pos', 'Ref', 'Alt', 'AF', 'RefCount', 'AltCount', 'GT', 'PS',\n       'VariantType', 'VariantInfo', 'DNAChange', 'ProteinChange',\n       'HugoSymbol', 'HgncName', 'HgncFamily', 'Transcript', 'TranscriptExon',\n       'TranscriptStrand', 'UniprotID', 'Str', 'DbsnpID', 'DbsnpFilter',\n       'Issues', 'GcContent', 'LineageAssociation', 'CancerMolecularGenetics',\n       'CCLEDeleterious', 'StructuralRelation', 'CosmicHotspot',\n       'CosmicOverlappingMutations', 'AssociatedWith', 'LoF', 'Driver',\n       'LikelyDriver', 'TranscriptLikelyLoF', 'CivicID', 'CivicDescription',\n       'CivicScore', 'Popaf', 'LikelyGoF', 'LikelyLoF', 'HessDriver',\n       'HessSignature', 'CscapeScore', 'DannScore', 'RevelScore',\n       'Funseq2Score', 'PharmgkbID', 'DidaID', 'DidaName', 'GwasDisease',\n       'GwasPmID', 'GTexGene', 'ModelID', 'EntrezGeneID'],\n      dtype='object')"
     },
     "execution_count": 68,
     "metadata": {},
     "output_type": "execute_result"
    }
   ],
   "source": [
    "mut_df0.columns"
   ],
   "metadata": {
    "collapsed": false,
    "ExecuteTime": {
     "end_time": "2023-12-23T03:36:04.272561400Z",
     "start_time": "2023-12-23T03:36:04.256909Z"
    }
   },
   "id": "95c79b5ddc210e55"
  },
  {
   "cell_type": "code",
   "execution_count": 70,
   "outputs": [
    {
     "data": {
      "text/plain": "+    711270\n-    696829\nName: TranscriptStrand, dtype: int64"
     },
     "execution_count": 70,
     "metadata": {},
     "output_type": "execute_result"
    }
   ],
   "source": [
    "mut_df0['TranscriptStrand'].value_counts()"
   ],
   "metadata": {
    "collapsed": false,
    "ExecuteTime": {
     "end_time": "2023-12-23T03:37:37.982951400Z",
     "start_time": "2023-12-23T03:37:37.904349Z"
    }
   },
   "id": "2b43317ebcb9e090"
  },
  {
   "cell_type": "code",
   "execution_count": 18,
   "outputs": [
    {
     "data": {
      "text/plain": "array(['MISSENSE', 'SILENT', 'IN_FRAME_INS', 'SPLICE_SITE', 'NONSENSE',\n       'FRAME_SHIFT_DEL', 'NONSTOP', 'START_CODON_SNP', 'IN_FRAME_DEL',\n       'FRAME_SHIFT_INS', 'START_CODON_INS', 'FIVE_PRIME_FLANK', 'INTRON',\n       'THREE_PRIME_UTR'], dtype=object)"
     },
     "execution_count": 18,
     "metadata": {},
     "output_type": "execute_result"
    }
   ],
   "source": [
    "# Take a look at the mutation classes\n",
    "mut_df0['VariantInfo'].unique()"
   ],
   "metadata": {
    "collapsed": false,
    "ExecuteTime": {
     "end_time": "2023-12-23T01:41:28.623225300Z",
     "start_time": "2023-12-23T01:41:28.591393Z"
    }
   },
   "id": "aad616906f5096ce"
  },
  {
   "cell_type": "code",
   "execution_count": 17,
   "outputs": [
    {
     "data": {
      "text/plain": "      Chrom      Pos Ref Alt     AF  RefCount  AltCount   GT  PS VariantType  \\\n29669  chr1   951180   G   A  0.390        26        15  0/1 NaN         SNP   \n29670  chr1   963249   G   A  0.303        22         9  0/1 NaN         SNP   \n29671  chr1  1046671   C   T  0.250        30         8  0/1 NaN         SNP   \n29672  chr1  2358684   C   T  0.565        11        14  0/1 NaN         SNP   \n29673  chr1  2412394   C   T  0.391        14         8  0/1 NaN         SNP   \n\n       ... RevelScore Funseq2Score PharmgkbID DidaID DidaName GwasDisease  \\\n29669  ...        NaN          0.0        NaN    NaN      NaN         NaN   \n29670  ...      0.976          3.0        NaN    NaN      NaN         NaN   \n29671  ...        NaN          0.0        NaN    NaN      NaN         NaN   \n29672  ...        NaN          0.0        NaN    NaN      NaN         NaN   \n29673  ...      0.416          3.0        NaN    NaN      NaN         NaN   \n\n      GwasPmID  GTexGene     ModelID EntrezGeneID  \n29669      NaN       NaN  ACH-000856      26155.0  \n29670      NaN       NaN  ACH-000856     339451.0  \n29671      NaN       NaN  ACH-000856     375790.0  \n29672      NaN       NaN  ACH-000856      79906.0  \n29673      NaN       NaN  ACH-000856       5192.0  \n\n[5 rows x 56 columns]",
      "text/html": "<div>\n<style scoped>\n    .dataframe tbody tr th:only-of-type {\n        vertical-align: middle;\n    }\n\n    .dataframe tbody tr th {\n        vertical-align: top;\n    }\n\n    .dataframe thead th {\n        text-align: right;\n    }\n</style>\n<table border=\"1\" class=\"dataframe\">\n  <thead>\n    <tr style=\"text-align: right;\">\n      <th></th>\n      <th>Chrom</th>\n      <th>Pos</th>\n      <th>Ref</th>\n      <th>Alt</th>\n      <th>AF</th>\n      <th>RefCount</th>\n      <th>AltCount</th>\n      <th>GT</th>\n      <th>PS</th>\n      <th>VariantType</th>\n      <th>...</th>\n      <th>RevelScore</th>\n      <th>Funseq2Score</th>\n      <th>PharmgkbID</th>\n      <th>DidaID</th>\n      <th>DidaName</th>\n      <th>GwasDisease</th>\n      <th>GwasPmID</th>\n      <th>GTexGene</th>\n      <th>ModelID</th>\n      <th>EntrezGeneID</th>\n    </tr>\n  </thead>\n  <tbody>\n    <tr>\n      <th>29669</th>\n      <td>chr1</td>\n      <td>951180</td>\n      <td>G</td>\n      <td>A</td>\n      <td>0.390</td>\n      <td>26</td>\n      <td>15</td>\n      <td>0/1</td>\n      <td>NaN</td>\n      <td>SNP</td>\n      <td>...</td>\n      <td>NaN</td>\n      <td>0.0</td>\n      <td>NaN</td>\n      <td>NaN</td>\n      <td>NaN</td>\n      <td>NaN</td>\n      <td>NaN</td>\n      <td>NaN</td>\n      <td>ACH-000856</td>\n      <td>26155.0</td>\n    </tr>\n    <tr>\n      <th>29670</th>\n      <td>chr1</td>\n      <td>963249</td>\n      <td>G</td>\n      <td>A</td>\n      <td>0.303</td>\n      <td>22</td>\n      <td>9</td>\n      <td>0/1</td>\n      <td>NaN</td>\n      <td>SNP</td>\n      <td>...</td>\n      <td>0.976</td>\n      <td>3.0</td>\n      <td>NaN</td>\n      <td>NaN</td>\n      <td>NaN</td>\n      <td>NaN</td>\n      <td>NaN</td>\n      <td>NaN</td>\n      <td>ACH-000856</td>\n      <td>339451.0</td>\n    </tr>\n    <tr>\n      <th>29671</th>\n      <td>chr1</td>\n      <td>1046671</td>\n      <td>C</td>\n      <td>T</td>\n      <td>0.250</td>\n      <td>30</td>\n      <td>8</td>\n      <td>0/1</td>\n      <td>NaN</td>\n      <td>SNP</td>\n      <td>...</td>\n      <td>NaN</td>\n      <td>0.0</td>\n      <td>NaN</td>\n      <td>NaN</td>\n      <td>NaN</td>\n      <td>NaN</td>\n      <td>NaN</td>\n      <td>NaN</td>\n      <td>ACH-000856</td>\n      <td>375790.0</td>\n    </tr>\n    <tr>\n      <th>29672</th>\n      <td>chr1</td>\n      <td>2358684</td>\n      <td>C</td>\n      <td>T</td>\n      <td>0.565</td>\n      <td>11</td>\n      <td>14</td>\n      <td>0/1</td>\n      <td>NaN</td>\n      <td>SNP</td>\n      <td>...</td>\n      <td>NaN</td>\n      <td>0.0</td>\n      <td>NaN</td>\n      <td>NaN</td>\n      <td>NaN</td>\n      <td>NaN</td>\n      <td>NaN</td>\n      <td>NaN</td>\n      <td>ACH-000856</td>\n      <td>79906.0</td>\n    </tr>\n    <tr>\n      <th>29673</th>\n      <td>chr1</td>\n      <td>2412394</td>\n      <td>C</td>\n      <td>T</td>\n      <td>0.391</td>\n      <td>14</td>\n      <td>8</td>\n      <td>0/1</td>\n      <td>NaN</td>\n      <td>SNP</td>\n      <td>...</td>\n      <td>0.416</td>\n      <td>3.0</td>\n      <td>NaN</td>\n      <td>NaN</td>\n      <td>NaN</td>\n      <td>NaN</td>\n      <td>NaN</td>\n      <td>NaN</td>\n      <td>ACH-000856</td>\n      <td>5192.0</td>\n    </tr>\n  </tbody>\n</table>\n<p>5 rows × 56 columns</p>\n</div>"
     },
     "execution_count": 17,
     "metadata": {},
     "output_type": "execute_result"
    }
   ],
   "source": [
    "# Select all mutations for our cell lines of interest only: where 'ModelID' is in cell_lines['ModelID']\n",
    "#mut_df = mut_df0.loc[mut_df0['Tumor_Sample_Barcode'].map(lambda x: x in cell_lines)]\n",
    "\n",
    "mut_df = mut_df0[mut_df0['ModelID'].isin(cell_lines['ModelID'])]\n",
    "\n",
    "mut_df.head()"
   ],
   "metadata": {
    "collapsed": false,
    "ExecuteTime": {
     "start_time": "2023-12-23T01:41:06.170745900Z"
    }
   },
   "id": "6e0c338638de6dc4"
  },
  {
   "cell_type": "code",
   "execution_count": 19,
   "outputs": [
    {
     "data": {
      "text/plain": "array(['ACH-000856', 'ACH-000601', 'ACH-000097', 'ACH-000725',\n       'ACH-000621', 'ACH-000223', 'ACH-000248', 'ACH-000910',\n       'ACH-000159', 'ACH-000792', 'ACH-000060', 'ACH-000859',\n       'ACH-000330', 'ACH-000352', 'ACH-000768', 'ACH-000374',\n       'ACH-000178', 'ACH-000573', 'ACH-000624', 'ACH-000907',\n       'ACH-000495', 'ACH-000127', 'ACH-000849', 'ACH-000262',\n       'ACH-000876', 'ACH-000684', 'ACH-000265', 'ACH-000699',\n       'ACH-000459', 'ACH-000222', 'ACH-000138', 'ACH-000246',\n       'ACH-000028', 'ACH-000118', 'ACH-000320', 'ACH-000281',\n       'ACH-000148', 'ACH-000234'], dtype=object)"
     },
     "execution_count": 19,
     "metadata": {},
     "output_type": "execute_result"
    }
   ],
   "source": [
    "# Check we've got the right number of ModelID values (should be 39)\n",
    "mut_df['ModelID'].unique()"
   ],
   "metadata": {
    "collapsed": false,
    "ExecuteTime": {
     "end_time": "2023-12-23T01:41:35.768260400Z",
     "start_time": "2023-12-23T01:41:35.736999100Z"
    }
   },
   "id": "b8404383cb8f2031"
  },
  {
   "cell_type": "code",
   "execution_count": 20,
   "outputs": [
    {
     "data": {
      "text/plain": "      HugoSymbol       Transcript\n29669      NOC2L  ENST00000327044\n29670     KLHL17  ENST00000338591\n29671       AGRN  ENST00000379370\n29672      MORN1  ENST00000378529\n29673      PEX10  ENST00000447513",
      "text/html": "<div>\n<style scoped>\n    .dataframe tbody tr th:only-of-type {\n        vertical-align: middle;\n    }\n\n    .dataframe tbody tr th {\n        vertical-align: top;\n    }\n\n    .dataframe thead th {\n        text-align: right;\n    }\n</style>\n<table border=\"1\" class=\"dataframe\">\n  <thead>\n    <tr style=\"text-align: right;\">\n      <th></th>\n      <th>HugoSymbol</th>\n      <th>Transcript</th>\n    </tr>\n  </thead>\n  <tbody>\n    <tr>\n      <th>29669</th>\n      <td>NOC2L</td>\n      <td>ENST00000327044</td>\n    </tr>\n    <tr>\n      <th>29670</th>\n      <td>KLHL17</td>\n      <td>ENST00000338591</td>\n    </tr>\n    <tr>\n      <th>29671</th>\n      <td>AGRN</td>\n      <td>ENST00000379370</td>\n    </tr>\n    <tr>\n      <th>29672</th>\n      <td>MORN1</td>\n      <td>ENST00000378529</td>\n    </tr>\n    <tr>\n      <th>29673</th>\n      <td>PEX10</td>\n      <td>ENST00000447513</td>\n    </tr>\n  </tbody>\n</table>\n</div>"
     },
     "execution_count": 20,
     "metadata": {},
     "output_type": "execute_result"
    }
   ],
   "source": [
    "# Remove anything after \".\" in the 'Annotation_Transcript' column\n",
    "mut_df = mut_df.copy()\n",
    "mut_df['Transcript'] = mut_df['Transcript'].map(lambda x: x.split('.')[0])\n",
    "\n",
    "mut_df[['HugoSymbol', 'Transcript']].head()"
   ],
   "metadata": {
    "collapsed": false,
    "ExecuteTime": {
     "end_time": "2023-12-23T01:41:41.142910200Z",
     "start_time": "2023-12-23T01:41:41.084789300Z"
    }
   },
   "id": "8c6917f3ade59eb8"
  },
  {
   "cell_type": "code",
   "execution_count": 21,
   "outputs": [
    {
     "data": {
      "text/plain": "array(['SILENT', 'MISSENSE', 'FRAME_SHIFT_DEL', 'FRAME_SHIFT_INS',\n       'SPLICE_SITE', 'NONSENSE', 'IN_FRAME_DEL', 'NONSTOP',\n       'IN_FRAME_INS', 'START_CODON_SNP', 'START_CODON_INS'], dtype=object)"
     },
     "execution_count": 21,
     "metadata": {},
     "output_type": "execute_result"
    }
   ],
   "source": [
    "# Take a look at the mutation classes\n",
    "mut_df['VariantInfo'].unique()"
   ],
   "metadata": {
    "collapsed": false,
    "ExecuteTime": {
     "end_time": "2023-12-23T01:41:45.606790900Z",
     "start_time": "2023-12-23T01:41:45.591272200Z"
    }
   },
   "id": "221d1a404cd14839"
  },
  {
   "cell_type": "code",
   "execution_count": 23,
   "outputs": [
    {
     "data": {
      "text/plain": "      Chrom       Pos Ref Alt     AF  RefCount  AltCount   GT  PS VariantType  \\\n29678  chr1   6197724  CT   C  0.534        13        15  0/1 NaN         DEL   \n29685  chr1  12244554   A  AG  0.556        16        20  0/1 NaN         INS   \n29699  chr1  20633885  GA   G  0.462        13        11  0/1 NaN         DEL   \n29704  chr1  26773456   C   T  0.389        21        13  0/1 NaN         SNP   \n29705  chr1  26779439  TG   T  0.590        15        23  0/1 NaN         DEL   \n\n       ... RevelScore Funseq2Score PharmgkbID DidaID DidaName GwasDisease  \\\n29678  ...        NaN          NaN        NaN    NaN      NaN         NaN   \n29685  ...        NaN          NaN        NaN    NaN      NaN         NaN   \n29699  ...        NaN          NaN        NaN    NaN      NaN         NaN   \n29704  ...        NaN          5.0        NaN    NaN      NaN         NaN   \n29705  ...        NaN          NaN        NaN    NaN      NaN         NaN   \n\n      GwasPmID  GTexGene     ModelID EntrezGeneID  \n29678      NaN       NaN  ACH-000856       6146.0  \n29685      NaN       NaN  ACH-000856      55187.0  \n29699      NaN       NaN  ACH-000856      65018.0  \n29704      NaN       NaN  ACH-000856       8289.0  \n29705      NaN       NaN  ACH-000856       8289.0  \n\n[5 rows x 56 columns]",
      "text/html": "<div>\n<style scoped>\n    .dataframe tbody tr th:only-of-type {\n        vertical-align: middle;\n    }\n\n    .dataframe tbody tr th {\n        vertical-align: top;\n    }\n\n    .dataframe thead th {\n        text-align: right;\n    }\n</style>\n<table border=\"1\" class=\"dataframe\">\n  <thead>\n    <tr style=\"text-align: right;\">\n      <th></th>\n      <th>Chrom</th>\n      <th>Pos</th>\n      <th>Ref</th>\n      <th>Alt</th>\n      <th>AF</th>\n      <th>RefCount</th>\n      <th>AltCount</th>\n      <th>GT</th>\n      <th>PS</th>\n      <th>VariantType</th>\n      <th>...</th>\n      <th>RevelScore</th>\n      <th>Funseq2Score</th>\n      <th>PharmgkbID</th>\n      <th>DidaID</th>\n      <th>DidaName</th>\n      <th>GwasDisease</th>\n      <th>GwasPmID</th>\n      <th>GTexGene</th>\n      <th>ModelID</th>\n      <th>EntrezGeneID</th>\n    </tr>\n  </thead>\n  <tbody>\n    <tr>\n      <th>29678</th>\n      <td>chr1</td>\n      <td>6197724</td>\n      <td>CT</td>\n      <td>C</td>\n      <td>0.534</td>\n      <td>13</td>\n      <td>15</td>\n      <td>0/1</td>\n      <td>NaN</td>\n      <td>DEL</td>\n      <td>...</td>\n      <td>NaN</td>\n      <td>NaN</td>\n      <td>NaN</td>\n      <td>NaN</td>\n      <td>NaN</td>\n      <td>NaN</td>\n      <td>NaN</td>\n      <td>NaN</td>\n      <td>ACH-000856</td>\n      <td>6146.0</td>\n    </tr>\n    <tr>\n      <th>29685</th>\n      <td>chr1</td>\n      <td>12244554</td>\n      <td>A</td>\n      <td>AG</td>\n      <td>0.556</td>\n      <td>16</td>\n      <td>20</td>\n      <td>0/1</td>\n      <td>NaN</td>\n      <td>INS</td>\n      <td>...</td>\n      <td>NaN</td>\n      <td>NaN</td>\n      <td>NaN</td>\n      <td>NaN</td>\n      <td>NaN</td>\n      <td>NaN</td>\n      <td>NaN</td>\n      <td>NaN</td>\n      <td>ACH-000856</td>\n      <td>55187.0</td>\n    </tr>\n    <tr>\n      <th>29699</th>\n      <td>chr1</td>\n      <td>20633885</td>\n      <td>GA</td>\n      <td>G</td>\n      <td>0.462</td>\n      <td>13</td>\n      <td>11</td>\n      <td>0/1</td>\n      <td>NaN</td>\n      <td>DEL</td>\n      <td>...</td>\n      <td>NaN</td>\n      <td>NaN</td>\n      <td>NaN</td>\n      <td>NaN</td>\n      <td>NaN</td>\n      <td>NaN</td>\n      <td>NaN</td>\n      <td>NaN</td>\n      <td>ACH-000856</td>\n      <td>65018.0</td>\n    </tr>\n    <tr>\n      <th>29704</th>\n      <td>chr1</td>\n      <td>26773456</td>\n      <td>C</td>\n      <td>T</td>\n      <td>0.389</td>\n      <td>21</td>\n      <td>13</td>\n      <td>0/1</td>\n      <td>NaN</td>\n      <td>SNP</td>\n      <td>...</td>\n      <td>NaN</td>\n      <td>5.0</td>\n      <td>NaN</td>\n      <td>NaN</td>\n      <td>NaN</td>\n      <td>NaN</td>\n      <td>NaN</td>\n      <td>NaN</td>\n      <td>ACH-000856</td>\n      <td>8289.0</td>\n    </tr>\n    <tr>\n      <th>29705</th>\n      <td>chr1</td>\n      <td>26779439</td>\n      <td>TG</td>\n      <td>T</td>\n      <td>0.590</td>\n      <td>15</td>\n      <td>23</td>\n      <td>0/1</td>\n      <td>NaN</td>\n      <td>DEL</td>\n      <td>...</td>\n      <td>NaN</td>\n      <td>NaN</td>\n      <td>NaN</td>\n      <td>NaN</td>\n      <td>NaN</td>\n      <td>NaN</td>\n      <td>NaN</td>\n      <td>NaN</td>\n      <td>ACH-000856</td>\n      <td>8289.0</td>\n    </tr>\n  </tbody>\n</table>\n<p>5 rows × 56 columns</p>\n</div>"
     },
     "execution_count": 23,
     "metadata": {},
     "output_type": "execute_result"
    }
   ],
   "source": [
    "#first we separate out the badly pathogenic mutations - these are assumed to result in loss of function\n",
    "pathogenic = ('FRAME_SHIFT_DEL', 'FRAME_SHIFT_INS', 'NONSENSE', 'NONSTOP', 'START_CODON_INS')\n",
    "\n",
    "##### NOTE ######\n",
    "# These are the variations that were considered pathogenic on the original version\n",
    "# pathogenic = ['Frame_Shift_Del', 'Frame_Shift_Ins','Nonsense_Mutation','Nonstop_Mutation','Stop_Codon_Del']\n",
    "\n",
    "# I will keep this the same for now (note no 'Stop_Codon_Del' class in the new data - presumably because it's the same a NONSTOP) but note:\n",
    "\n",
    "# IN_FRAME_DEL - this is likely damaging but could be LOF or GOF -  select which depending on whether its onc, tsg or kinase?\n",
    "# IN_FRAME_INS - as above\n",
    "# START_CODON_INS - this is likely to prevent the translation of the protein, so LOF?\n",
    "# START_CODON_SNP - this may prevent translation if the SNP switched the codon from methianine to another amino acid\n",
    "\n",
    "# Filter mut_df to only include rows where the variant classification is in the pathogenic list defined above\n",
    "pathogenic_mutations = mut_df.loc[mut_df['VariantInfo'].isin(pathogenic)]\n",
    "\n",
    "pathogenic_mutations.head()"
   ],
   "metadata": {
    "collapsed": false,
    "ExecuteTime": {
     "end_time": "2023-12-23T01:42:16.126714300Z",
     "start_time": "2023-12-23T01:42:16.094990300Z"
    }
   },
   "id": "781a33d5e9977b20"
  },
  {
   "cell_type": "code",
   "execution_count": 24,
   "outputs": [
    {
     "data": {
      "text/plain": "False    1345\nName: LikelyGoF, dtype: int64"
     },
     "execution_count": 24,
     "metadata": {},
     "output_type": "execute_result"
    }
   ],
   "source": [
    "# See if DepMap classification agrees that these are all likely to be LOF\n",
    "pathogenic_mutations['LikelyGoF'].value_counts()"
   ],
   "metadata": {
    "collapsed": false,
    "ExecuteTime": {
     "end_time": "2023-12-23T01:42:28.785950Z",
     "start_time": "2023-12-23T01:42:28.770933300Z"
    }
   },
   "id": "827b2012ed5fc5c6"
  },
  {
   "cell_type": "code",
   "execution_count": 25,
   "outputs": [
    {
     "data": {
      "text/plain": "True    1345\nName: LikelyLoF, dtype: int64"
     },
     "execution_count": 25,
     "metadata": {},
     "output_type": "execute_result"
    }
   ],
   "source": [
    "pathogenic_mutations['LikelyLoF'].value_counts()"
   ],
   "metadata": {
    "collapsed": false,
    "ExecuteTime": {
     "end_time": "2023-12-23T01:42:31.285620100Z",
     "start_time": "2023-12-23T01:42:31.219403200Z"
    }
   },
   "id": "a2382c13fc73ae6e"
  },
  {
   "cell_type": "code",
   "execution_count": 26,
   "outputs": [
    {
     "data": {
      "text/plain": "       ModelID                                         HugoSymbol\n0   ACH-000028  ADGRL2, SMCP, FAM228B, NECTIN3, TMEM175, CLCN3...\n1   ACH-000060  PALMD, TGFBR2, PBRM1, ERVW-1, ERVW-1, MUC12, J...\n2   ACH-000097  ATAD3C, PLCH2, GBP1, GTDC1, VIL1, VIL1, SLC4A7...\n3   ACH-000118  CCDC27, CROCC, RSRP1, RHCE, COL8A2, TNS1, PER2...\n4   ACH-000127  GPATCH3, ZMYM4, P3H1, KANK4, UBAP2L, OR10T2, G...\n5   ACH-000138        PHGDH, STRIP2, TNS2, NCOR2, TSNAXIP1, NLGN3\n6   ACH-000148  EPHA10, ITPRID2, PARD3B, POLQ, MEF2C, MYL10, H...\n7   ACH-000159  SDHB, TRIM33, FAM228B, TRIM43, VHL, FLT4, MUC1...\n8   ACH-000178  ARID1A, FANCG, GRID1, ANGPTL5, SIPA1L1, FMN1, ...\n9   ACH-000222  CSMD2, COL8A2, POGK, PRRC2C, RD3, ANKRD36C, MY...\n10  ACH-000223  HHIPL2, TRPC1, CPA3, MAPK13, SAMD9, SAMD9, MUC...\n11  ACH-000234  RERE, RERE, SELENOF, SYCP1, PDE4DIP, PRKD3, VH...\n12  ACH-000246  DDX20, FLG, AXDND1, C2orf42, VHL, BAP1, RAB33B...\n13  ACH-000248  MTMR11, TCHH, HMCN1, IGFN1, PPP1R12B, USP34, T...\n14  ACH-000262  IGFN1, OBSL1, COL4A4, VHL, KIAA1109, RASA1, BM...\n15  ACH-000265  SLC35E2A, CRYBG2, FAM189B, FMO4, OBSCN, HTR2B,...\n16  ACH-000281  LRIF1, AC242842.3, ENSA, ZDHHC11, NSG2, CFTR, ...\n17  ACH-000320  BOK, CRELD1, GBE1, NIPAL1, NIPBL, BICRAL, ANKR...\n18  ACH-000330  IL22RA1, CD164L2, IPP, TOR1AIP2, PRG4, C3orf20...\n19  ACH-000352  PATJ, NOTCH2, VANGL2, FMO2, DDX59, PARP1, ZNF6...\n20  ACH-000374  TNFRSF25, VAV3, GGCX, SCN3A, PCGF3, SLC35F1, P...\n21  ACH-000459  CROCC, FLG, H3-4, EIF2AK3, EIF2AK3, VHL, DNAH1...\n22  ACH-000495  SEC22B, SLC27A3, TRIM17, NID1, VHL, DNAH1, TMP...\n23  ACH-000573  RCC2, NT5C1A, ASXL2, ASXL2, NIPAL1, IGFBP7, UN...\n24  ACH-000601  ARID1A, SV2A, NR1I3, HLX, SH3YL1, NRXN1, VWA3B...\n25  ACH-000621  PRAMEF11, COL16A1, FAM228B, TMCC1, TPD52L1, ER...\n26  ACH-000624  ZC3H6, AOX1, FOXD1, VCAN, CCZ1B, EXT1, MTBP, A...\n27  ACH-000684  RPL22, SRSF10, UTP25, SRD5A2, USP40, XYLB, PBR...\n28  ACH-000699  VANGL1, TRAF3IP3, CDC42BPA, GNPAT, ITGA9, DHX3...\n29  ACH-000725  MAST2, PSMB4, UBAP2L, TDRD10, PRRC2C, LYST, SP...\n30  ACH-000768  CHD5, ZNF695, COL4A3, UQCRC1, EPHA3, GAK, GYPB...\n31  ACH-000792  SPATA21, NBPF12, SLC35A5, CCNG2, MUC12, MICU3,...\n32  ACH-000849  ATXN7L2, C1orf112, FAM228B, DUSP11, NBEAL1, TT...\n33  ACH-000856  RPL22, VPS13D, PINK1, ARID1A, ARID1A, UTP11, Z...\n34  ACH-000859  C1orf127, TRIM17, OR2G6, SPTBN1, EGR4, ECRG4, ...\n35  ACH-000876  IQCC, ERICH3, LRRC39, AKNAD1, SCN7A, PARD3B, E...\n36  ACH-000907  MORN1, RPL22, C1orf127, ELOA, ARID1A, RAB42, P...\n37  ACH-000910  PRAMEF4, RPS6KA1, ELOVL1, ETV3L, EEF1AKNMT, AS...",
      "text/html": "<div>\n<style scoped>\n    .dataframe tbody tr th:only-of-type {\n        vertical-align: middle;\n    }\n\n    .dataframe tbody tr th {\n        vertical-align: top;\n    }\n\n    .dataframe thead th {\n        text-align: right;\n    }\n</style>\n<table border=\"1\" class=\"dataframe\">\n  <thead>\n    <tr style=\"text-align: right;\">\n      <th></th>\n      <th>ModelID</th>\n      <th>HugoSymbol</th>\n    </tr>\n  </thead>\n  <tbody>\n    <tr>\n      <th>0</th>\n      <td>ACH-000028</td>\n      <td>ADGRL2, SMCP, FAM228B, NECTIN3, TMEM175, CLCN3...</td>\n    </tr>\n    <tr>\n      <th>1</th>\n      <td>ACH-000060</td>\n      <td>PALMD, TGFBR2, PBRM1, ERVW-1, ERVW-1, MUC12, J...</td>\n    </tr>\n    <tr>\n      <th>2</th>\n      <td>ACH-000097</td>\n      <td>ATAD3C, PLCH2, GBP1, GTDC1, VIL1, VIL1, SLC4A7...</td>\n    </tr>\n    <tr>\n      <th>3</th>\n      <td>ACH-000118</td>\n      <td>CCDC27, CROCC, RSRP1, RHCE, COL8A2, TNS1, PER2...</td>\n    </tr>\n    <tr>\n      <th>4</th>\n      <td>ACH-000127</td>\n      <td>GPATCH3, ZMYM4, P3H1, KANK4, UBAP2L, OR10T2, G...</td>\n    </tr>\n    <tr>\n      <th>5</th>\n      <td>ACH-000138</td>\n      <td>PHGDH, STRIP2, TNS2, NCOR2, TSNAXIP1, NLGN3</td>\n    </tr>\n    <tr>\n      <th>6</th>\n      <td>ACH-000148</td>\n      <td>EPHA10, ITPRID2, PARD3B, POLQ, MEF2C, MYL10, H...</td>\n    </tr>\n    <tr>\n      <th>7</th>\n      <td>ACH-000159</td>\n      <td>SDHB, TRIM33, FAM228B, TRIM43, VHL, FLT4, MUC1...</td>\n    </tr>\n    <tr>\n      <th>8</th>\n      <td>ACH-000178</td>\n      <td>ARID1A, FANCG, GRID1, ANGPTL5, SIPA1L1, FMN1, ...</td>\n    </tr>\n    <tr>\n      <th>9</th>\n      <td>ACH-000222</td>\n      <td>CSMD2, COL8A2, POGK, PRRC2C, RD3, ANKRD36C, MY...</td>\n    </tr>\n    <tr>\n      <th>10</th>\n      <td>ACH-000223</td>\n      <td>HHIPL2, TRPC1, CPA3, MAPK13, SAMD9, SAMD9, MUC...</td>\n    </tr>\n    <tr>\n      <th>11</th>\n      <td>ACH-000234</td>\n      <td>RERE, RERE, SELENOF, SYCP1, PDE4DIP, PRKD3, VH...</td>\n    </tr>\n    <tr>\n      <th>12</th>\n      <td>ACH-000246</td>\n      <td>DDX20, FLG, AXDND1, C2orf42, VHL, BAP1, RAB33B...</td>\n    </tr>\n    <tr>\n      <th>13</th>\n      <td>ACH-000248</td>\n      <td>MTMR11, TCHH, HMCN1, IGFN1, PPP1R12B, USP34, T...</td>\n    </tr>\n    <tr>\n      <th>14</th>\n      <td>ACH-000262</td>\n      <td>IGFN1, OBSL1, COL4A4, VHL, KIAA1109, RASA1, BM...</td>\n    </tr>\n    <tr>\n      <th>15</th>\n      <td>ACH-000265</td>\n      <td>SLC35E2A, CRYBG2, FAM189B, FMO4, OBSCN, HTR2B,...</td>\n    </tr>\n    <tr>\n      <th>16</th>\n      <td>ACH-000281</td>\n      <td>LRIF1, AC242842.3, ENSA, ZDHHC11, NSG2, CFTR, ...</td>\n    </tr>\n    <tr>\n      <th>17</th>\n      <td>ACH-000320</td>\n      <td>BOK, CRELD1, GBE1, NIPAL1, NIPBL, BICRAL, ANKR...</td>\n    </tr>\n    <tr>\n      <th>18</th>\n      <td>ACH-000330</td>\n      <td>IL22RA1, CD164L2, IPP, TOR1AIP2, PRG4, C3orf20...</td>\n    </tr>\n    <tr>\n      <th>19</th>\n      <td>ACH-000352</td>\n      <td>PATJ, NOTCH2, VANGL2, FMO2, DDX59, PARP1, ZNF6...</td>\n    </tr>\n    <tr>\n      <th>20</th>\n      <td>ACH-000374</td>\n      <td>TNFRSF25, VAV3, GGCX, SCN3A, PCGF3, SLC35F1, P...</td>\n    </tr>\n    <tr>\n      <th>21</th>\n      <td>ACH-000459</td>\n      <td>CROCC, FLG, H3-4, EIF2AK3, EIF2AK3, VHL, DNAH1...</td>\n    </tr>\n    <tr>\n      <th>22</th>\n      <td>ACH-000495</td>\n      <td>SEC22B, SLC27A3, TRIM17, NID1, VHL, DNAH1, TMP...</td>\n    </tr>\n    <tr>\n      <th>23</th>\n      <td>ACH-000573</td>\n      <td>RCC2, NT5C1A, ASXL2, ASXL2, NIPAL1, IGFBP7, UN...</td>\n    </tr>\n    <tr>\n      <th>24</th>\n      <td>ACH-000601</td>\n      <td>ARID1A, SV2A, NR1I3, HLX, SH3YL1, NRXN1, VWA3B...</td>\n    </tr>\n    <tr>\n      <th>25</th>\n      <td>ACH-000621</td>\n      <td>PRAMEF11, COL16A1, FAM228B, TMCC1, TPD52L1, ER...</td>\n    </tr>\n    <tr>\n      <th>26</th>\n      <td>ACH-000624</td>\n      <td>ZC3H6, AOX1, FOXD1, VCAN, CCZ1B, EXT1, MTBP, A...</td>\n    </tr>\n    <tr>\n      <th>27</th>\n      <td>ACH-000684</td>\n      <td>RPL22, SRSF10, UTP25, SRD5A2, USP40, XYLB, PBR...</td>\n    </tr>\n    <tr>\n      <th>28</th>\n      <td>ACH-000699</td>\n      <td>VANGL1, TRAF3IP3, CDC42BPA, GNPAT, ITGA9, DHX3...</td>\n    </tr>\n    <tr>\n      <th>29</th>\n      <td>ACH-000725</td>\n      <td>MAST2, PSMB4, UBAP2L, TDRD10, PRRC2C, LYST, SP...</td>\n    </tr>\n    <tr>\n      <th>30</th>\n      <td>ACH-000768</td>\n      <td>CHD5, ZNF695, COL4A3, UQCRC1, EPHA3, GAK, GYPB...</td>\n    </tr>\n    <tr>\n      <th>31</th>\n      <td>ACH-000792</td>\n      <td>SPATA21, NBPF12, SLC35A5, CCNG2, MUC12, MICU3,...</td>\n    </tr>\n    <tr>\n      <th>32</th>\n      <td>ACH-000849</td>\n      <td>ATXN7L2, C1orf112, FAM228B, DUSP11, NBEAL1, TT...</td>\n    </tr>\n    <tr>\n      <th>33</th>\n      <td>ACH-000856</td>\n      <td>RPL22, VPS13D, PINK1, ARID1A, ARID1A, UTP11, Z...</td>\n    </tr>\n    <tr>\n      <th>34</th>\n      <td>ACH-000859</td>\n      <td>C1orf127, TRIM17, OR2G6, SPTBN1, EGR4, ECRG4, ...</td>\n    </tr>\n    <tr>\n      <th>35</th>\n      <td>ACH-000876</td>\n      <td>IQCC, ERICH3, LRRC39, AKNAD1, SCN7A, PARD3B, E...</td>\n    </tr>\n    <tr>\n      <th>36</th>\n      <td>ACH-000907</td>\n      <td>MORN1, RPL22, C1orf127, ELOA, ARID1A, RAB42, P...</td>\n    </tr>\n    <tr>\n      <th>37</th>\n      <td>ACH-000910</td>\n      <td>PRAMEF4, RPS6KA1, ELOVL1, ETV3L, EEF1AKNMT, AS...</td>\n    </tr>\n  </tbody>\n</table>\n</div>"
     },
     "execution_count": 26,
     "metadata": {},
     "output_type": "execute_result"
    }
   ],
   "source": [
    "# Group by Tumour_Sample_Barcode (cell-line name) so we have 39 rows (one for each cell line), and a column containing comma seperated list\n",
    "# of all the highly pathogenic mutations in that sample\n",
    "path_muts_per_sample = pathogenic_mutations.groupby('ModelID')['HugoSymbol'].apply(lambda x: ', '.join(x)).reset_index()\n",
    "\n",
    "# Check there are no consecutive commas (denoting missing values)\n",
    "#path_muts_per_sample[path_muts_per_sample['HugoSymbol'].str.contains(\", , \")]\n",
    "path_muts_per_sample"
   ],
   "metadata": {
    "collapsed": false,
    "ExecuteTime": {
     "end_time": "2023-12-23T01:42:45.618477300Z",
     "start_time": "2023-12-23T01:42:45.592616600Z"
    }
   },
   "id": "530d91c75fe13b7"
  },
  {
   "cell_type": "code",
   "execution_count": 27,
   "outputs": [],
   "source": [
    "# Write to csv\n",
    "path_muts_per_sample.to_csv(data_path + '\\\\dependant\\\\pathogenic_mutations_per_sample.csv')"
   ],
   "metadata": {
    "collapsed": false,
    "ExecuteTime": {
     "end_time": "2023-12-23T01:42:49.706171Z",
     "start_time": "2023-12-23T01:42:49.699650500Z"
    }
   },
   "id": "eb1ce3694fe56ebc"
  },
  {
   "cell_type": "code",
   "execution_count": 28,
   "outputs": [],
   "source": [
    "# Select all rows of mutation DF (mut_df) where type = 'MISSENSE'\n",
    "# May also want to include START_CODON_SNP here later\n",
    "missense_mutations = mut_df[mut_df['VariantInfo']=='MISSENSE']"
   ],
   "metadata": {
    "collapsed": false,
    "ExecuteTime": {
     "end_time": "2023-12-23T01:42:54.131451800Z",
     "start_time": "2023-12-23T01:42:54.084161700Z"
    }
   },
   "id": "b90486832f3d5d04"
  },
  {
   "cell_type": "code",
   "execution_count": 29,
   "outputs": [
    {
     "data": {
      "text/plain": "        Chrom        Pos Ref Alt     AF  RefCount  AltCount   GT  PS  \\\n29670    chr1     963249   G   A  0.303        22         9  0/1 NaN   \n29673    chr1    2412394   C   T  0.391        14         8  0/1 NaN   \n29674    chr1    2512914   G   T  0.488        21        19  0/1 NaN   \n29675    chr1    2561696   C   T  0.320        24        12  0/1 NaN   \n29676    chr1    2789833   C   A  0.534         6         7  0/1 NaN   \n...       ...        ...  ..  ..    ...       ...       ...  ...  ..   \n1296633  chrX  153954753   T   C  0.857         0         6  0/1 NaN   \n1296636  chrM       8764   G   A  0.923         0        12  1|1 NaN   \n1296637  chrM       9055   G   A  0.952         0        20  1|1 NaN   \n1296640  chrM      11025   T   C  0.946         0        19  1|1 NaN   \n1296643  chrM      14798   T   C  0.964         0        28  1|1 NaN   \n\n        VariantType  ... RevelScore Funseq2Score PharmgkbID DidaID DidaName  \\\n29670           SNP  ...      0.976     3.000000        NaN    NaN      NaN   \n29673           SNP  ...      0.416     3.000000        NaN    NaN      NaN   \n29674           SNP  ...      0.436     1.000000        NaN    NaN      NaN   \n29675           SNP  ...      0.071     2.000000        NaN    NaN      NaN   \n29676           SNP  ...        NaN     0.166928        NaN    NaN      NaN   \n...             ...  ...        ...          ...        ...    ...      ...   \n1296633         SNP  ...      0.006     2.000000        NaN    NaN      NaN   \n1296636         SNP  ...        NaN          NaN        NaN    NaN      NaN   \n1296637         SNP  ...        NaN          NaN        NaN    NaN      NaN   \n1296640         SNP  ...        NaN          NaN        NaN    NaN      NaN   \n1296643         SNP  ...        NaN          NaN        NaN    NaN      NaN   \n\n        GwasDisease GwasPmID  GTexGene     ModelID EntrezGeneID  \n29670           NaN      NaN       NaN  ACH-000856     339451.0  \n29673           NaN      NaN       NaN  ACH-000856       5192.0  \n29674           NaN      NaN       NaN  ACH-000856      55229.0  \n29675           NaN      NaN       NaN  ACH-000856       8764.0  \n29676           NaN      NaN       NaN  ACH-000856  100287898.0  \n...             ...      ...       ...         ...          ...  \n1296633         NaN      NaN       NaN  ACH-000234       3054.0  \n1296636         NaN      NaN       NaN  ACH-000234       4508.0  \n1296637         NaN      NaN       NaN  ACH-000234       4508.0  \n1296640         NaN      NaN       NaN  ACH-000234       4538.0  \n1296643         NaN      NaN       NaN  ACH-000234       4519.0  \n\n[13200 rows x 56 columns]",
      "text/html": "<div>\n<style scoped>\n    .dataframe tbody tr th:only-of-type {\n        vertical-align: middle;\n    }\n\n    .dataframe tbody tr th {\n        vertical-align: top;\n    }\n\n    .dataframe thead th {\n        text-align: right;\n    }\n</style>\n<table border=\"1\" class=\"dataframe\">\n  <thead>\n    <tr style=\"text-align: right;\">\n      <th></th>\n      <th>Chrom</th>\n      <th>Pos</th>\n      <th>Ref</th>\n      <th>Alt</th>\n      <th>AF</th>\n      <th>RefCount</th>\n      <th>AltCount</th>\n      <th>GT</th>\n      <th>PS</th>\n      <th>VariantType</th>\n      <th>...</th>\n      <th>RevelScore</th>\n      <th>Funseq2Score</th>\n      <th>PharmgkbID</th>\n      <th>DidaID</th>\n      <th>DidaName</th>\n      <th>GwasDisease</th>\n      <th>GwasPmID</th>\n      <th>GTexGene</th>\n      <th>ModelID</th>\n      <th>EntrezGeneID</th>\n    </tr>\n  </thead>\n  <tbody>\n    <tr>\n      <th>29670</th>\n      <td>chr1</td>\n      <td>963249</td>\n      <td>G</td>\n      <td>A</td>\n      <td>0.303</td>\n      <td>22</td>\n      <td>9</td>\n      <td>0/1</td>\n      <td>NaN</td>\n      <td>SNP</td>\n      <td>...</td>\n      <td>0.976</td>\n      <td>3.000000</td>\n      <td>NaN</td>\n      <td>NaN</td>\n      <td>NaN</td>\n      <td>NaN</td>\n      <td>NaN</td>\n      <td>NaN</td>\n      <td>ACH-000856</td>\n      <td>339451.0</td>\n    </tr>\n    <tr>\n      <th>29673</th>\n      <td>chr1</td>\n      <td>2412394</td>\n      <td>C</td>\n      <td>T</td>\n      <td>0.391</td>\n      <td>14</td>\n      <td>8</td>\n      <td>0/1</td>\n      <td>NaN</td>\n      <td>SNP</td>\n      <td>...</td>\n      <td>0.416</td>\n      <td>3.000000</td>\n      <td>NaN</td>\n      <td>NaN</td>\n      <td>NaN</td>\n      <td>NaN</td>\n      <td>NaN</td>\n      <td>NaN</td>\n      <td>ACH-000856</td>\n      <td>5192.0</td>\n    </tr>\n    <tr>\n      <th>29674</th>\n      <td>chr1</td>\n      <td>2512914</td>\n      <td>G</td>\n      <td>T</td>\n      <td>0.488</td>\n      <td>21</td>\n      <td>19</td>\n      <td>0/1</td>\n      <td>NaN</td>\n      <td>SNP</td>\n      <td>...</td>\n      <td>0.436</td>\n      <td>1.000000</td>\n      <td>NaN</td>\n      <td>NaN</td>\n      <td>NaN</td>\n      <td>NaN</td>\n      <td>NaN</td>\n      <td>NaN</td>\n      <td>ACH-000856</td>\n      <td>55229.0</td>\n    </tr>\n    <tr>\n      <th>29675</th>\n      <td>chr1</td>\n      <td>2561696</td>\n      <td>C</td>\n      <td>T</td>\n      <td>0.320</td>\n      <td>24</td>\n      <td>12</td>\n      <td>0/1</td>\n      <td>NaN</td>\n      <td>SNP</td>\n      <td>...</td>\n      <td>0.071</td>\n      <td>2.000000</td>\n      <td>NaN</td>\n      <td>NaN</td>\n      <td>NaN</td>\n      <td>NaN</td>\n      <td>NaN</td>\n      <td>NaN</td>\n      <td>ACH-000856</td>\n      <td>8764.0</td>\n    </tr>\n    <tr>\n      <th>29676</th>\n      <td>chr1</td>\n      <td>2789833</td>\n      <td>C</td>\n      <td>A</td>\n      <td>0.534</td>\n      <td>6</td>\n      <td>7</td>\n      <td>0/1</td>\n      <td>NaN</td>\n      <td>SNP</td>\n      <td>...</td>\n      <td>NaN</td>\n      <td>0.166928</td>\n      <td>NaN</td>\n      <td>NaN</td>\n      <td>NaN</td>\n      <td>NaN</td>\n      <td>NaN</td>\n      <td>NaN</td>\n      <td>ACH-000856</td>\n      <td>100287898.0</td>\n    </tr>\n    <tr>\n      <th>...</th>\n      <td>...</td>\n      <td>...</td>\n      <td>...</td>\n      <td>...</td>\n      <td>...</td>\n      <td>...</td>\n      <td>...</td>\n      <td>...</td>\n      <td>...</td>\n      <td>...</td>\n      <td>...</td>\n      <td>...</td>\n      <td>...</td>\n      <td>...</td>\n      <td>...</td>\n      <td>...</td>\n      <td>...</td>\n      <td>...</td>\n      <td>...</td>\n      <td>...</td>\n      <td>...</td>\n    </tr>\n    <tr>\n      <th>1296633</th>\n      <td>chrX</td>\n      <td>153954753</td>\n      <td>T</td>\n      <td>C</td>\n      <td>0.857</td>\n      <td>0</td>\n      <td>6</td>\n      <td>0/1</td>\n      <td>NaN</td>\n      <td>SNP</td>\n      <td>...</td>\n      <td>0.006</td>\n      <td>2.000000</td>\n      <td>NaN</td>\n      <td>NaN</td>\n      <td>NaN</td>\n      <td>NaN</td>\n      <td>NaN</td>\n      <td>NaN</td>\n      <td>ACH-000234</td>\n      <td>3054.0</td>\n    </tr>\n    <tr>\n      <th>1296636</th>\n      <td>chrM</td>\n      <td>8764</td>\n      <td>G</td>\n      <td>A</td>\n      <td>0.923</td>\n      <td>0</td>\n      <td>12</td>\n      <td>1|1</td>\n      <td>NaN</td>\n      <td>SNP</td>\n      <td>...</td>\n      <td>NaN</td>\n      <td>NaN</td>\n      <td>NaN</td>\n      <td>NaN</td>\n      <td>NaN</td>\n      <td>NaN</td>\n      <td>NaN</td>\n      <td>NaN</td>\n      <td>ACH-000234</td>\n      <td>4508.0</td>\n    </tr>\n    <tr>\n      <th>1296637</th>\n      <td>chrM</td>\n      <td>9055</td>\n      <td>G</td>\n      <td>A</td>\n      <td>0.952</td>\n      <td>0</td>\n      <td>20</td>\n      <td>1|1</td>\n      <td>NaN</td>\n      <td>SNP</td>\n      <td>...</td>\n      <td>NaN</td>\n      <td>NaN</td>\n      <td>NaN</td>\n      <td>NaN</td>\n      <td>NaN</td>\n      <td>NaN</td>\n      <td>NaN</td>\n      <td>NaN</td>\n      <td>ACH-000234</td>\n      <td>4508.0</td>\n    </tr>\n    <tr>\n      <th>1296640</th>\n      <td>chrM</td>\n      <td>11025</td>\n      <td>T</td>\n      <td>C</td>\n      <td>0.946</td>\n      <td>0</td>\n      <td>19</td>\n      <td>1|1</td>\n      <td>NaN</td>\n      <td>SNP</td>\n      <td>...</td>\n      <td>NaN</td>\n      <td>NaN</td>\n      <td>NaN</td>\n      <td>NaN</td>\n      <td>NaN</td>\n      <td>NaN</td>\n      <td>NaN</td>\n      <td>NaN</td>\n      <td>ACH-000234</td>\n      <td>4538.0</td>\n    </tr>\n    <tr>\n      <th>1296643</th>\n      <td>chrM</td>\n      <td>14798</td>\n      <td>T</td>\n      <td>C</td>\n      <td>0.964</td>\n      <td>0</td>\n      <td>28</td>\n      <td>1|1</td>\n      <td>NaN</td>\n      <td>SNP</td>\n      <td>...</td>\n      <td>NaN</td>\n      <td>NaN</td>\n      <td>NaN</td>\n      <td>NaN</td>\n      <td>NaN</td>\n      <td>NaN</td>\n      <td>NaN</td>\n      <td>NaN</td>\n      <td>ACH-000234</td>\n      <td>4519.0</td>\n    </tr>\n  </tbody>\n</table>\n<p>13200 rows × 56 columns</p>\n</div>"
     },
     "execution_count": 29,
     "metadata": {},
     "output_type": "execute_result"
    }
   ],
   "source": [
    "missense_mutations"
   ],
   "metadata": {
    "collapsed": false,
    "ExecuteTime": {
     "end_time": "2023-12-23T01:42:58.624925200Z",
     "start_time": "2023-12-23T01:42:58.565868500Z"
    }
   },
   "id": "c522142d2faa63a7"
  },
  {
   "cell_type": "code",
   "execution_count": 30,
   "outputs": [
    {
     "data": {
      "text/plain": "         Chrom       Pos Ref Alt     AF  RefCount  AltCount   GT          PS  \\\n29686     chr1  12777228  GT  AA  0.214        33         9  0|1  12777228.0   \n29687     chr1  12777427  GA  AG  0.155        38         6  0|1  12777421.0   \n29688     chr1  12859754  CC  TG  0.222        20         5  0|1  12859749.0   \n29689     chr1  12861232  AC  TG  0.315        13         6  0/1         NaN   \n29697     chr1  17438418  CC  AT  0.450        10         8  0/1         NaN   \n...        ...       ...  ..  ..    ...       ...       ...  ...         ...   \n1296496  chr12  11091653  GT  TC  0.780         5        19  0|1  11091626.0   \n1296497  chr12  11091770  GC  AT  0.841         4        23  0|1  11091770.0   \n1296498  chr12  11092131  AA  GG  0.934         2        40  1|1  11092122.0   \n1296570  chr17  36212342  CG  GA  0.347        14         7  0|1  36212342.0   \n1296609  chr20   1915150  TG  CA  0.875         3        27  0|1   1915148.0   \n\n        VariantType  ... RevelScore Funseq2Score PharmgkbID DidaID DidaName  \\\n29686           DNP  ...        NaN          NaN        NaN    NaN      NaN   \n29687           DNP  ...        NaN          NaN        NaN    NaN      NaN   \n29688           DNP  ...        NaN          NaN        NaN    NaN      NaN   \n29689           DNP  ...        NaN          NaN        NaN    NaN      NaN   \n29697           DNP  ...        NaN          NaN        NaN    NaN      NaN   \n...             ...  ...        ...          ...        ...    ...      ...   \n1296496         DNP  ...        NaN          NaN        NaN    NaN      NaN   \n1296497         DNP  ...        NaN          NaN        NaN    NaN      NaN   \n1296498         DNP  ...        NaN          NaN        NaN    NaN      NaN   \n1296570         DNP  ...        NaN          NaN        NaN    NaN      NaN   \n1296609         DNP  ...        NaN          NaN        NaN    NaN      NaN   \n\n        GwasDisease GwasPmID  GTexGene     ModelID EntrezGeneID  \n29686           NaN      NaN       NaN  ACH-000856     390999.0  \n29687           NaN      NaN       NaN  ACH-000856     390999.0  \n29688           NaN      NaN       NaN  ACH-000856      65122.0  \n29689           NaN      NaN       NaN  ACH-000856      65122.0  \n29697           NaN      NaN       NaN  ACH-000856      55920.0  \n...             ...      ...       ...         ...          ...  \n1296496         NaN      NaN       NaN  ACH-000234     259291.0  \n1296497         NaN      NaN       NaN  ACH-000234     259291.0  \n1296498         NaN      NaN       NaN  ACH-000234     259291.0  \n1296570         NaN      NaN       NaN  ACH-000234       9560.0  \n1296609         NaN      NaN       NaN  ACH-000234     140885.0  \n\n[901 rows x 56 columns]",
      "text/html": "<div>\n<style scoped>\n    .dataframe tbody tr th:only-of-type {\n        vertical-align: middle;\n    }\n\n    .dataframe tbody tr th {\n        vertical-align: top;\n    }\n\n    .dataframe thead th {\n        text-align: right;\n    }\n</style>\n<table border=\"1\" class=\"dataframe\">\n  <thead>\n    <tr style=\"text-align: right;\">\n      <th></th>\n      <th>Chrom</th>\n      <th>Pos</th>\n      <th>Ref</th>\n      <th>Alt</th>\n      <th>AF</th>\n      <th>RefCount</th>\n      <th>AltCount</th>\n      <th>GT</th>\n      <th>PS</th>\n      <th>VariantType</th>\n      <th>...</th>\n      <th>RevelScore</th>\n      <th>Funseq2Score</th>\n      <th>PharmgkbID</th>\n      <th>DidaID</th>\n      <th>DidaName</th>\n      <th>GwasDisease</th>\n      <th>GwasPmID</th>\n      <th>GTexGene</th>\n      <th>ModelID</th>\n      <th>EntrezGeneID</th>\n    </tr>\n  </thead>\n  <tbody>\n    <tr>\n      <th>29686</th>\n      <td>chr1</td>\n      <td>12777228</td>\n      <td>GT</td>\n      <td>AA</td>\n      <td>0.214</td>\n      <td>33</td>\n      <td>9</td>\n      <td>0|1</td>\n      <td>12777228.0</td>\n      <td>DNP</td>\n      <td>...</td>\n      <td>NaN</td>\n      <td>NaN</td>\n      <td>NaN</td>\n      <td>NaN</td>\n      <td>NaN</td>\n      <td>NaN</td>\n      <td>NaN</td>\n      <td>NaN</td>\n      <td>ACH-000856</td>\n      <td>390999.0</td>\n    </tr>\n    <tr>\n      <th>29687</th>\n      <td>chr1</td>\n      <td>12777427</td>\n      <td>GA</td>\n      <td>AG</td>\n      <td>0.155</td>\n      <td>38</td>\n      <td>6</td>\n      <td>0|1</td>\n      <td>12777421.0</td>\n      <td>DNP</td>\n      <td>...</td>\n      <td>NaN</td>\n      <td>NaN</td>\n      <td>NaN</td>\n      <td>NaN</td>\n      <td>NaN</td>\n      <td>NaN</td>\n      <td>NaN</td>\n      <td>NaN</td>\n      <td>ACH-000856</td>\n      <td>390999.0</td>\n    </tr>\n    <tr>\n      <th>29688</th>\n      <td>chr1</td>\n      <td>12859754</td>\n      <td>CC</td>\n      <td>TG</td>\n      <td>0.222</td>\n      <td>20</td>\n      <td>5</td>\n      <td>0|1</td>\n      <td>12859749.0</td>\n      <td>DNP</td>\n      <td>...</td>\n      <td>NaN</td>\n      <td>NaN</td>\n      <td>NaN</td>\n      <td>NaN</td>\n      <td>NaN</td>\n      <td>NaN</td>\n      <td>NaN</td>\n      <td>NaN</td>\n      <td>ACH-000856</td>\n      <td>65122.0</td>\n    </tr>\n    <tr>\n      <th>29689</th>\n      <td>chr1</td>\n      <td>12861232</td>\n      <td>AC</td>\n      <td>TG</td>\n      <td>0.315</td>\n      <td>13</td>\n      <td>6</td>\n      <td>0/1</td>\n      <td>NaN</td>\n      <td>DNP</td>\n      <td>...</td>\n      <td>NaN</td>\n      <td>NaN</td>\n      <td>NaN</td>\n      <td>NaN</td>\n      <td>NaN</td>\n      <td>NaN</td>\n      <td>NaN</td>\n      <td>NaN</td>\n      <td>ACH-000856</td>\n      <td>65122.0</td>\n    </tr>\n    <tr>\n      <th>29697</th>\n      <td>chr1</td>\n      <td>17438418</td>\n      <td>CC</td>\n      <td>AT</td>\n      <td>0.450</td>\n      <td>10</td>\n      <td>8</td>\n      <td>0/1</td>\n      <td>NaN</td>\n      <td>DNP</td>\n      <td>...</td>\n      <td>NaN</td>\n      <td>NaN</td>\n      <td>NaN</td>\n      <td>NaN</td>\n      <td>NaN</td>\n      <td>NaN</td>\n      <td>NaN</td>\n      <td>NaN</td>\n      <td>ACH-000856</td>\n      <td>55920.0</td>\n    </tr>\n    <tr>\n      <th>...</th>\n      <td>...</td>\n      <td>...</td>\n      <td>...</td>\n      <td>...</td>\n      <td>...</td>\n      <td>...</td>\n      <td>...</td>\n      <td>...</td>\n      <td>...</td>\n      <td>...</td>\n      <td>...</td>\n      <td>...</td>\n      <td>...</td>\n      <td>...</td>\n      <td>...</td>\n      <td>...</td>\n      <td>...</td>\n      <td>...</td>\n      <td>...</td>\n      <td>...</td>\n      <td>...</td>\n    </tr>\n    <tr>\n      <th>1296496</th>\n      <td>chr12</td>\n      <td>11091653</td>\n      <td>GT</td>\n      <td>TC</td>\n      <td>0.780</td>\n      <td>5</td>\n      <td>19</td>\n      <td>0|1</td>\n      <td>11091626.0</td>\n      <td>DNP</td>\n      <td>...</td>\n      <td>NaN</td>\n      <td>NaN</td>\n      <td>NaN</td>\n      <td>NaN</td>\n      <td>NaN</td>\n      <td>NaN</td>\n      <td>NaN</td>\n      <td>NaN</td>\n      <td>ACH-000234</td>\n      <td>259291.0</td>\n    </tr>\n    <tr>\n      <th>1296497</th>\n      <td>chr12</td>\n      <td>11091770</td>\n      <td>GC</td>\n      <td>AT</td>\n      <td>0.841</td>\n      <td>4</td>\n      <td>23</td>\n      <td>0|1</td>\n      <td>11091770.0</td>\n      <td>DNP</td>\n      <td>...</td>\n      <td>NaN</td>\n      <td>NaN</td>\n      <td>NaN</td>\n      <td>NaN</td>\n      <td>NaN</td>\n      <td>NaN</td>\n      <td>NaN</td>\n      <td>NaN</td>\n      <td>ACH-000234</td>\n      <td>259291.0</td>\n    </tr>\n    <tr>\n      <th>1296498</th>\n      <td>chr12</td>\n      <td>11092131</td>\n      <td>AA</td>\n      <td>GG</td>\n      <td>0.934</td>\n      <td>2</td>\n      <td>40</td>\n      <td>1|1</td>\n      <td>11092122.0</td>\n      <td>DNP</td>\n      <td>...</td>\n      <td>NaN</td>\n      <td>NaN</td>\n      <td>NaN</td>\n      <td>NaN</td>\n      <td>NaN</td>\n      <td>NaN</td>\n      <td>NaN</td>\n      <td>NaN</td>\n      <td>ACH-000234</td>\n      <td>259291.0</td>\n    </tr>\n    <tr>\n      <th>1296570</th>\n      <td>chr17</td>\n      <td>36212342</td>\n      <td>CG</td>\n      <td>GA</td>\n      <td>0.347</td>\n      <td>14</td>\n      <td>7</td>\n      <td>0|1</td>\n      <td>36212342.0</td>\n      <td>DNP</td>\n      <td>...</td>\n      <td>NaN</td>\n      <td>NaN</td>\n      <td>NaN</td>\n      <td>NaN</td>\n      <td>NaN</td>\n      <td>NaN</td>\n      <td>NaN</td>\n      <td>NaN</td>\n      <td>ACH-000234</td>\n      <td>9560.0</td>\n    </tr>\n    <tr>\n      <th>1296609</th>\n      <td>chr20</td>\n      <td>1915150</td>\n      <td>TG</td>\n      <td>CA</td>\n      <td>0.875</td>\n      <td>3</td>\n      <td>27</td>\n      <td>0|1</td>\n      <td>1915148.0</td>\n      <td>DNP</td>\n      <td>...</td>\n      <td>NaN</td>\n      <td>NaN</td>\n      <td>NaN</td>\n      <td>NaN</td>\n      <td>NaN</td>\n      <td>NaN</td>\n      <td>NaN</td>\n      <td>NaN</td>\n      <td>ACH-000234</td>\n      <td>140885.0</td>\n    </tr>\n  </tbody>\n</table>\n<p>901 rows × 56 columns</p>\n</div>"
     },
     "execution_count": 30,
     "metadata": {},
     "output_type": "execute_result"
    }
   ],
   "source": [
    "# See how many DNP and TNP - currently these are not assessed\n",
    "missense_mutations[(missense_mutations['VariantType'] == 'DNP') | (missense_mutations['VariantType'] == 'TNP')]"
   ],
   "metadata": {
    "collapsed": false,
    "ExecuteTime": {
     "end_time": "2023-12-23T01:43:19.252061900Z",
     "start_time": "2023-12-23T01:43:19.227305600Z"
    }
   },
   "id": "13285fc3da2e0e3d"
  },
  {
   "cell_type": "code",
   "execution_count": 31,
   "outputs": [
    {
     "data": {
      "text/plain": "array(['chr1', 'chr2', 'chr3', 'chr4', 'chr5', 'chr6', 'chr7', 'chr8',\n       'chr9', 'chr10', 'chr11', 'chr12', 'chr13', 'chr14', 'chr15',\n       'chr16', 'chr17', 'chr18', 'chr19', 'chr20', 'chr21', 'chr22',\n       'chrX', 'chrM', 'chrY'], dtype=object)"
     },
     "execution_count": 31,
     "metadata": {},
     "output_type": "execute_result"
    }
   ],
   "source": [
    "# Check what's in the chromosomes column\n",
    "missense_mutations['Chrom'].unique()"
   ],
   "metadata": {
    "collapsed": false,
    "ExecuteTime": {
     "end_time": "2023-12-23T01:43:23.055879500Z",
     "start_time": "2023-12-23T01:43:23.040238200Z"
    }
   },
   "id": "eaf103eb07d9193a"
  },
  {
   "cell_type": "code",
   "execution_count": 99,
   "outputs": [
    {
     "name": "stdout",
     "output_type": "stream",
     "text": [
      "12299\n"
     ]
    },
    {
     "data": {
      "text/plain": "      #CHROM      POS           ID REF ALT\n29670      1   963249  rs573683289   G   A\n29673      1  2412394          NaN   C   T\n29674      1  2512914          NaN   G   T\n29675      1  2561696          NaN   C   T\n29676      1  2789833          NaN   C   A",
      "text/html": "<div>\n<style scoped>\n    .dataframe tbody tr th:only-of-type {\n        vertical-align: middle;\n    }\n\n    .dataframe tbody tr th {\n        vertical-align: top;\n    }\n\n    .dataframe thead th {\n        text-align: right;\n    }\n</style>\n<table border=\"1\" class=\"dataframe\">\n  <thead>\n    <tr style=\"text-align: right;\">\n      <th></th>\n      <th>#CHROM</th>\n      <th>POS</th>\n      <th>ID</th>\n      <th>REF</th>\n      <th>ALT</th>\n    </tr>\n  </thead>\n  <tbody>\n    <tr>\n      <th>29670</th>\n      <td>1</td>\n      <td>963249</td>\n      <td>rs573683289</td>\n      <td>G</td>\n      <td>A</td>\n    </tr>\n    <tr>\n      <th>29673</th>\n      <td>1</td>\n      <td>2412394</td>\n      <td>NaN</td>\n      <td>C</td>\n      <td>T</td>\n    </tr>\n    <tr>\n      <th>29674</th>\n      <td>1</td>\n      <td>2512914</td>\n      <td>NaN</td>\n      <td>G</td>\n      <td>T</td>\n    </tr>\n    <tr>\n      <th>29675</th>\n      <td>1</td>\n      <td>2561696</td>\n      <td>NaN</td>\n      <td>C</td>\n      <td>T</td>\n    </tr>\n    <tr>\n      <th>29676</th>\n      <td>1</td>\n      <td>2789833</td>\n      <td>NaN</td>\n      <td>C</td>\n      <td>A</td>\n    </tr>\n  </tbody>\n</table>\n</div>"
     },
     "execution_count": 99,
     "metadata": {},
     "output_type": "execute_result"
    }
   ],
   "source": [
    "# Create a VCF file with the SNP missense mutation data\n",
    "mut_vcf = mut_df[(mut_df['VariantInfo']=='MISSENSE') & (mut_df['VariantType']=='SNP')]\n",
    "mut_vcf = mut_vcf[['Chrom', 'Pos', 'DbsnpID',  'Ref', 'Alt']].copy()\n",
    "mut_vcf.rename(columns={'Chrom' : '#CHROM' , 'Pos': 'POS', 'Ref': 'REF', 'Alt': 'ALT', 'DbsnpID' : 'ID'}, inplace=True)\n",
    "\n",
    "mut_vcf['#CHROM'] = mut_vcf['#CHROM'].str.replace('chr', '')\n",
    "\n",
    "mut_vcf.to_csv(data_path + '\\\\dependant\\\\depmap_mutations_for_fathmm.vcf', sep='\\t', index=False)\n",
    "\n",
    "print(len(mut_vcf))\n",
    "mut_vcf.head()"
   ],
   "metadata": {
    "collapsed": false,
    "ExecuteTime": {
     "end_time": "2023-12-23T05:58:08.703287400Z",
     "start_time": "2023-12-23T05:58:08.609205700Z"
    }
   },
   "id": "becb91bb05a8889e"
  },
  {
   "cell_type": "code",
   "execution_count": 32,
   "outputs": [
    {
     "data": {
      "text/plain": "0       ENST00000338591\n1       ENST00000447513\n2       ENST00000378466\n3       ENST00000355716\n4       ENST00000401095\n             ...       \n7641    ENST00000252998\n7642    ENST00000314103\n7643    ENST00000398145\n7644    ENST00000610913\n7645    ENST00000216146\nName: TranscriptID, Length: 7646, dtype: object"
     },
     "execution_count": 32,
     "metadata": {},
     "output_type": "execute_result"
    }
   ],
   "source": [
    "# Get unique transcript IDs from missense mutations dataframe\n",
    "missense_transcript_ids = pd.Series(missense_mutations['Transcript'].unique(), name='TranscriptID')\n",
    "missense_transcript_ids"
   ],
   "metadata": {
    "collapsed": false,
    "ExecuteTime": {
     "end_time": "2023-12-23T01:43:31.935974500Z",
     "start_time": "2023-12-23T01:43:31.894474700Z"
    }
   },
   "id": "aa757b30ba09ba77"
  },
  {
   "cell_type": "code",
   "execution_count": 33,
   "outputs": [
    {
     "data": {
      "text/plain": "0         ENST00000361390\n1         ENST00000361453\n2         ENST00000361624\n3         ENST00000361739\n4         ENST00000361851\n               ...       \n122609    ENST00000483899\n122610    ENST00000345034\n122611    ENST00000375799\n122612    ENST00000375793\n122613    ENST00000642363\nName: TranscriptID, Length: 122614, dtype: object"
     },
     "execution_count": 33,
     "metadata": {},
     "output_type": "execute_result"
    }
   ],
   "source": [
    "# Get unique transcript IDs from biomart conv file\n",
    "biomart_transcript_ids = pd.Series(conv['Transcript stable ID'].unique(), name='TranscriptID')\n",
    "biomart_transcript_ids"
   ],
   "metadata": {
    "collapsed": false,
    "ExecuteTime": {
     "end_time": "2023-12-23T01:43:38.773535900Z",
     "start_time": "2023-12-23T01:43:38.734678300Z"
    }
   },
   "id": "f4430e414e110783"
  },
  {
   "cell_type": "code",
   "execution_count": 34,
   "outputs": [
    {
     "data": {
      "text/plain": "0       ENST00000338591\n1       ENST00000447513\n2       ENST00000378466\n3       ENST00000355716\n4       ENST00000401095\n             ...       \n7641    ENST00000252998\n7642    ENST00000314103\n7643    ENST00000398145\n7644    ENST00000610913\n7645    ENST00000216146\nName: TranscriptID, Length: 7596, dtype: object"
     },
     "execution_count": 34,
     "metadata": {},
     "output_type": "execute_result"
    }
   ],
   "source": [
    "# See how many of the missense transcript IDs are in the biomart conv file\n",
    "missense_transcript_ids[missense_transcript_ids.isin(biomart_transcript_ids)]"
   ],
   "metadata": {
    "collapsed": false,
    "ExecuteTime": {
     "end_time": "2023-12-23T01:43:41.515781300Z",
     "start_time": "2023-12-23T01:43:41.475494500Z"
    }
   },
   "id": "f73965fb250d892a"
  },
  {
   "cell_type": "markdown",
   "source": [],
   "metadata": {
    "collapsed": false
   },
   "id": "57f3e868ed966f6d"
  },
  {
   "cell_type": "code",
   "execution_count": 35,
   "outputs": [],
   "source": [
    "# Get the subset of biomart data that corresponds to the missense mutation transcript IDs, and select a subset of columns\n",
    "mutation_info = conv.loc[conv['Transcript stable ID'].isin(missense_transcript_ids)]"
   ],
   "metadata": {
    "collapsed": false,
    "ExecuteTime": {
     "end_time": "2023-12-23T01:43:52.389652200Z",
     "start_time": "2023-12-23T01:43:52.358402400Z"
    }
   },
   "id": "b22b15835924006e"
  },
  {
   "cell_type": "code",
   "execution_count": 36,
   "outputs": [
    {
     "data": {
      "text/plain": "         Gene stable ID HGNC symbol Chromosome/scaffold name  \\\n0       ENSG00000198888      MT-ND1                       MT   \n1       ENSG00000198763      MT-ND2                       MT   \n2       ENSG00000198804      MT-CO1                       MT   \n3       ENSG00000198712      MT-CO2                       MT   \n4       ENSG00000228253     MT-ATP8                       MT   \n...                 ...         ...                      ...   \n123087  ENSG00000116990        MYCL                        1   \n123095  ENSG00000132906       CASP9                        1   \n123108  ENSG00000116138     DNAJC16                        1   \n123116  ENSG00000215695      RSC1A1                        1   \n123117  ENSG00000116786     PLEKHM2                        1   \n\n       Transcript stable ID Protein stable ID UniProtKB/TrEMBL ID  \\\n0           ENST00000361390   ENSP00000354687              U5Z754   \n1           ENST00000361453   ENSP00000355046              Q7GXY9   \n2           ENST00000361624   ENSP00000354499              U5YWV7   \n3           ENST00000361739   ENSP00000354876              U5Z487   \n4           ENST00000361851   ENSP00000355265              U5YV54   \n...                     ...               ...                 ...   \n123087      ENST00000372816   ENSP00000361903                 NaN   \n123095      ENST00000333868   ENSP00000330237                 NaN   \n123108      ENST00000375847   ENSP00000365007                 NaN   \n123116      ENST00000345034   ENSP00000341963                 NaN   \n123117      ENST00000375799   ENSP00000364956                 NaN   \n\n       UniProtKB/Swiss-Prot ID  \\\n0                       P03886   \n1                       P03891   \n2                       P00395   \n3                       P00403   \n4                       P03928   \n...                        ...   \n123087                  P12524   \n123095                  P55211   \n123108                  Q9Y2G8   \n123116                  Q92681   \n123117                  Q8IWE5   \n\n                                                  Peptide  \n0       MPMANLLLLIVPILIAMAFLMLTERKILGYMQLRKGPNVVGPYGLL...  \n1       MNPLAQPVIYSTIFAGTLITALSSHWFFTWVGLEMNMLAFIPVLTK...  \n2       MFADRWLFSTNHKDIGTLYLLFGAWAGVLGTALSLLIRAELGQPGN...  \n3       MAHAAQVGLQDATSPIMEELITFHDHALMIIFLICFLVLYALFLTL...  \n4       MPQLNTTVWPTMITPMLLTLFLITQLKMLNTNYHLPPSPKPMKMKN...  \n...                                                   ...  \n123087  MDYDSYQHYFYDYDCGEDFYRSTAPSEDIWKKFELVPSPPTSPPWG...  \n123095  MDEADRRLLRRCRLRLVEELQVDQLWDALLSRELFRPHMIEDIQRA...  \n123108  MEVRKLSISWQFLIVLVLILQILSALDFDPYRVLGVSRTASQADIK...  \n123116  MSSLPTSDGFNHPARSSGQSPDVGNPMSLARSVSASVCPIKPSDSD...  \n123117  MEPGEVKDRILENISLSVKKLQSYFAACEDEIPAIRNHDKVLQRLC...  \n\n[7628 rows x 8 columns]",
      "text/html": "<div>\n<style scoped>\n    .dataframe tbody tr th:only-of-type {\n        vertical-align: middle;\n    }\n\n    .dataframe tbody tr th {\n        vertical-align: top;\n    }\n\n    .dataframe thead th {\n        text-align: right;\n    }\n</style>\n<table border=\"1\" class=\"dataframe\">\n  <thead>\n    <tr style=\"text-align: right;\">\n      <th></th>\n      <th>Gene stable ID</th>\n      <th>HGNC symbol</th>\n      <th>Chromosome/scaffold name</th>\n      <th>Transcript stable ID</th>\n      <th>Protein stable ID</th>\n      <th>UniProtKB/TrEMBL ID</th>\n      <th>UniProtKB/Swiss-Prot ID</th>\n      <th>Peptide</th>\n    </tr>\n  </thead>\n  <tbody>\n    <tr>\n      <th>0</th>\n      <td>ENSG00000198888</td>\n      <td>MT-ND1</td>\n      <td>MT</td>\n      <td>ENST00000361390</td>\n      <td>ENSP00000354687</td>\n      <td>U5Z754</td>\n      <td>P03886</td>\n      <td>MPMANLLLLIVPILIAMAFLMLTERKILGYMQLRKGPNVVGPYGLL...</td>\n    </tr>\n    <tr>\n      <th>1</th>\n      <td>ENSG00000198763</td>\n      <td>MT-ND2</td>\n      <td>MT</td>\n      <td>ENST00000361453</td>\n      <td>ENSP00000355046</td>\n      <td>Q7GXY9</td>\n      <td>P03891</td>\n      <td>MNPLAQPVIYSTIFAGTLITALSSHWFFTWVGLEMNMLAFIPVLTK...</td>\n    </tr>\n    <tr>\n      <th>2</th>\n      <td>ENSG00000198804</td>\n      <td>MT-CO1</td>\n      <td>MT</td>\n      <td>ENST00000361624</td>\n      <td>ENSP00000354499</td>\n      <td>U5YWV7</td>\n      <td>P00395</td>\n      <td>MFADRWLFSTNHKDIGTLYLLFGAWAGVLGTALSLLIRAELGQPGN...</td>\n    </tr>\n    <tr>\n      <th>3</th>\n      <td>ENSG00000198712</td>\n      <td>MT-CO2</td>\n      <td>MT</td>\n      <td>ENST00000361739</td>\n      <td>ENSP00000354876</td>\n      <td>U5Z487</td>\n      <td>P00403</td>\n      <td>MAHAAQVGLQDATSPIMEELITFHDHALMIIFLICFLVLYALFLTL...</td>\n    </tr>\n    <tr>\n      <th>4</th>\n      <td>ENSG00000228253</td>\n      <td>MT-ATP8</td>\n      <td>MT</td>\n      <td>ENST00000361851</td>\n      <td>ENSP00000355265</td>\n      <td>U5YV54</td>\n      <td>P03928</td>\n      <td>MPQLNTTVWPTMITPMLLTLFLITQLKMLNTNYHLPPSPKPMKMKN...</td>\n    </tr>\n    <tr>\n      <th>...</th>\n      <td>...</td>\n      <td>...</td>\n      <td>...</td>\n      <td>...</td>\n      <td>...</td>\n      <td>...</td>\n      <td>...</td>\n      <td>...</td>\n    </tr>\n    <tr>\n      <th>123087</th>\n      <td>ENSG00000116990</td>\n      <td>MYCL</td>\n      <td>1</td>\n      <td>ENST00000372816</td>\n      <td>ENSP00000361903</td>\n      <td>NaN</td>\n      <td>P12524</td>\n      <td>MDYDSYQHYFYDYDCGEDFYRSTAPSEDIWKKFELVPSPPTSPPWG...</td>\n    </tr>\n    <tr>\n      <th>123095</th>\n      <td>ENSG00000132906</td>\n      <td>CASP9</td>\n      <td>1</td>\n      <td>ENST00000333868</td>\n      <td>ENSP00000330237</td>\n      <td>NaN</td>\n      <td>P55211</td>\n      <td>MDEADRRLLRRCRLRLVEELQVDQLWDALLSRELFRPHMIEDIQRA...</td>\n    </tr>\n    <tr>\n      <th>123108</th>\n      <td>ENSG00000116138</td>\n      <td>DNAJC16</td>\n      <td>1</td>\n      <td>ENST00000375847</td>\n      <td>ENSP00000365007</td>\n      <td>NaN</td>\n      <td>Q9Y2G8</td>\n      <td>MEVRKLSISWQFLIVLVLILQILSALDFDPYRVLGVSRTASQADIK...</td>\n    </tr>\n    <tr>\n      <th>123116</th>\n      <td>ENSG00000215695</td>\n      <td>RSC1A1</td>\n      <td>1</td>\n      <td>ENST00000345034</td>\n      <td>ENSP00000341963</td>\n      <td>NaN</td>\n      <td>Q92681</td>\n      <td>MSSLPTSDGFNHPARSSGQSPDVGNPMSLARSVSASVCPIKPSDSD...</td>\n    </tr>\n    <tr>\n      <th>123117</th>\n      <td>ENSG00000116786</td>\n      <td>PLEKHM2</td>\n      <td>1</td>\n      <td>ENST00000375799</td>\n      <td>ENSP00000364956</td>\n      <td>NaN</td>\n      <td>Q8IWE5</td>\n      <td>MEPGEVKDRILENISLSVKKLQSYFAACEDEIPAIRNHDKVLQRLC...</td>\n    </tr>\n  </tbody>\n</table>\n<p>7628 rows × 8 columns</p>\n</div>"
     },
     "execution_count": 36,
     "metadata": {},
     "output_type": "execute_result"
    }
   ],
   "source": [
    "mutation_info"
   ],
   "metadata": {
    "collapsed": false,
    "ExecuteTime": {
     "end_time": "2023-12-23T01:43:58.391130900Z",
     "start_time": "2023-12-23T01:43:58.375430500Z"
    }
   },
   "id": "a2a0727c5830ec53"
  },
  {
   "cell_type": "code",
   "execution_count": 37,
   "outputs": [
    {
     "data": {
      "text/plain": "        Gene stable ID HGNC symbol Chromosome/scaffold name  \\\n17342  ENSG00000167193         CRK                       17   \n17343  ENSG00000167193         CRK                       17   \n60615  ENSG00000204252     HLA-DOA                        6   \n60616  ENSG00000204252     HLA-DOA                        6   \n60617  ENSG00000204252     HLA-DOA                        6   \n60618  ENSG00000204252     HLA-DOA                        6   \n60619  ENSG00000204252     HLA-DOA                        6   \n60620  ENSG00000204252     HLA-DOA                        6   \n60621  ENSG00000204252     HLA-DOA                        6   \n60622  ENSG00000204252     HLA-DOA                        6   \n60623  ENSG00000204252     HLA-DOA                        6   \n60624  ENSG00000204252     HLA-DOA                        6   \n60625  ENSG00000204252     HLA-DOA                        6   \n60626  ENSG00000204252     HLA-DOA                        6   \n60627  ENSG00000204252     HLA-DOA                        6   \n60628  ENSG00000204252     HLA-DOA                        6   \n60629  ENSG00000204252     HLA-DOA                        6   \n60630  ENSG00000204252     HLA-DOA                        6   \n60631  ENSG00000204252     HLA-DOA                        6   \n60632  ENSG00000204252     HLA-DOA                        6   \n60633  ENSG00000204252     HLA-DOA                        6   \n60634  ENSG00000204252     HLA-DOA                        6   \n60635  ENSG00000204252     HLA-DOA                        6   \n60636  ENSG00000204252     HLA-DOA                        6   \n60637  ENSG00000204252     HLA-DOA                        6   \n60638  ENSG00000204252     HLA-DOA                        6   \n60639  ENSG00000204252     HLA-DOA                        6   \n60640  ENSG00000204252     HLA-DOA                        6   \n60641  ENSG00000204252     HLA-DOA                        6   \n60642  ENSG00000204252     HLA-DOA                        6   \n60643  ENSG00000204252     HLA-DOA                        6   \n60644  ENSG00000204252     HLA-DOA                        6   \n87257  ENSG00000196126    HLA-DRB1                        6   \n87258  ENSG00000196126    HLA-DRB1                        6   \n92003  ENSG00000204501    PRAMEF15                        1   \n92004  ENSG00000204501    PRAMEF15                        1   \n\n      Transcript stable ID Protein stable ID UniProtKB/TrEMBL ID  \\\n17342      ENST00000300574   ENSP00000300574          A0A0S2Z3Q4   \n17343      ENST00000300574   ENSP00000300574              L7RT18   \n60615      ENST00000229829   ENSP00000229829          A0A1V0E3R0   \n60616      ENST00000229829   ENSP00000229829          A0A1V0E3R8   \n60617      ENST00000229829   ENSP00000229829          A0A1V0E3N6   \n60618      ENST00000229829   ENSP00000229829          A0A1V0E3Q4   \n60619      ENST00000229829   ENSP00000229829          A0A1V0E3R4   \n60620      ENST00000229829   ENSP00000229829          A0A1V0E3Q7   \n60621      ENST00000229829   ENSP00000229829          A0A1V0E3S4   \n60622      ENST00000229829   ENSP00000229829          A0A1V0E3Q3   \n60623      ENST00000229829   ENSP00000229829              X5CF87   \n60624      ENST00000229829   ENSP00000229829          A0A1V0E3N1   \n60625      ENST00000229829   ENSP00000229829          A0A1V0E3Q5   \n60626      ENST00000229829   ENSP00000229829          A0A1V0E3Q8   \n60627      ENST00000229829   ENSP00000229829          A0A1V0E3S6   \n60628      ENST00000229829   ENSP00000229829          A0A1V0E3R3   \n60629      ENST00000229829   ENSP00000229829          A0A1V0E3M7   \n60630      ENST00000229829   ENSP00000229829          A0A1V0E3P8   \n60631      ENST00000229829   ENSP00000229829          A0A1V0E3P6   \n60632      ENST00000229829   ENSP00000229829          A0A1V0E3S7   \n60633      ENST00000229829   ENSP00000229829          A0A1V0E3Q2   \n60634      ENST00000229829   ENSP00000229829          A0A1V0E3T1   \n60635      ENST00000229829   ENSP00000229829          A0A1V0E3P9   \n60636      ENST00000229829   ENSP00000229829          A0A1V0E3R6   \n60637      ENST00000229829   ENSP00000229829          A0A1V0E3N7   \n60638      ENST00000229829   ENSP00000229829          A0A1V0E3Q6   \n60639      ENST00000229829   ENSP00000229829          A0A1V0E3P3   \n60640      ENST00000229829   ENSP00000229829          A0A1V0E3P1   \n60641      ENST00000229829   ENSP00000229829          A0A1V0E3P0   \n60642      ENST00000229829   ENSP00000229829          A0A1V0E3S0   \n60643      ENST00000229829   ENSP00000229829          A0A1V0E3N3   \n60644      ENST00000229829   ENSP00000229829          A0A1V0E3Q1   \n87257      ENST00000360004   ENSP00000353099              X5DNQ0   \n87258      ENST00000360004   ENSP00000353099              D7RIH8   \n92003      ENST00000376152   ENSP00000365322                 NaN   \n92004      ENST00000376152   ENSP00000365322                 NaN   \n\n      UniProtKB/Swiss-Prot ID  \\\n17342                  P46108   \n17343                  P46108   \n60615                  P06340   \n60616                  P06340   \n60617                  P06340   \n60618                  P06340   \n60619                  P06340   \n60620                  P06340   \n60621                  P06340   \n60622                  P06340   \n60623                  P06340   \n60624                  P06340   \n60625                  P06340   \n60626                  P06340   \n60627                  P06340   \n60628                  P06340   \n60629                  P06340   \n60630                  P06340   \n60631                  P06340   \n60632                  P06340   \n60633                  P06340   \n60634                  P06340   \n60635                  P06340   \n60636                  P06340   \n60637                  P06340   \n60638                  P06340   \n60639                  P06340   \n60640                  P06340   \n60641                  P06340   \n60642                  P06340   \n60643                  P06340   \n60644                  P06340   \n87257                  P01911   \n87258                  P01911   \n92003                  P0DUQ1   \n92004                  P0DUQ2   \n\n                                                 Peptide  \n17342  MAGNFDSEERSSWYWGRLSRQEAVALLQGQRHGVFLVRDSSTSPGD...  \n17343  MAGNFDSEERSSWYWGRLSRQEAVALLQGQRHGVFLVRDSSTSPGD...  \n60615  MALRAGLVLGFHTLMTLLSPQEAGATKADHMGSYGPAFYQSYGASG...  \n60616  MALRAGLVLGFHTLMTLLSPQEAGATKADHMGSYGPAFYQSYGASG...  \n60617  MALRAGLVLGFHTLMTLLSPQEAGATKADHMGSYGPAFYQSYGASG...  \n60618  MALRAGLVLGFHTLMTLLSPQEAGATKADHMGSYGPAFYQSYGASG...  \n60619  MALRAGLVLGFHTLMTLLSPQEAGATKADHMGSYGPAFYQSYGASG...  \n60620  MALRAGLVLGFHTLMTLLSPQEAGATKADHMGSYGPAFYQSYGASG...  \n60621  MALRAGLVLGFHTLMTLLSPQEAGATKADHMGSYGPAFYQSYGASG...  \n60622  MALRAGLVLGFHTLMTLLSPQEAGATKADHMGSYGPAFYQSYGASG...  \n60623  MALRAGLVLGFHTLMTLLSPQEAGATKADHMGSYGPAFYQSYGASG...  \n60624  MALRAGLVLGFHTLMTLLSPQEAGATKADHMGSYGPAFYQSYGASG...  \n60625  MALRAGLVLGFHTLMTLLSPQEAGATKADHMGSYGPAFYQSYGASG...  \n60626  MALRAGLVLGFHTLMTLLSPQEAGATKADHMGSYGPAFYQSYGASG...  \n60627  MALRAGLVLGFHTLMTLLSPQEAGATKADHMGSYGPAFYQSYGASG...  \n60628  MALRAGLVLGFHTLMTLLSPQEAGATKADHMGSYGPAFYQSYGASG...  \n60629  MALRAGLVLGFHTLMTLLSPQEAGATKADHMGSYGPAFYQSYGASG...  \n60630  MALRAGLVLGFHTLMTLLSPQEAGATKADHMGSYGPAFYQSYGASG...  \n60631  MALRAGLVLGFHTLMTLLSPQEAGATKADHMGSYGPAFYQSYGASG...  \n60632  MALRAGLVLGFHTLMTLLSPQEAGATKADHMGSYGPAFYQSYGASG...  \n60633  MALRAGLVLGFHTLMTLLSPQEAGATKADHMGSYGPAFYQSYGASG...  \n60634  MALRAGLVLGFHTLMTLLSPQEAGATKADHMGSYGPAFYQSYGASG...  \n60635  MALRAGLVLGFHTLMTLLSPQEAGATKADHMGSYGPAFYQSYGASG...  \n60636  MALRAGLVLGFHTLMTLLSPQEAGATKADHMGSYGPAFYQSYGASG...  \n60637  MALRAGLVLGFHTLMTLLSPQEAGATKADHMGSYGPAFYQSYGASG...  \n60638  MALRAGLVLGFHTLMTLLSPQEAGATKADHMGSYGPAFYQSYGASG...  \n60639  MALRAGLVLGFHTLMTLLSPQEAGATKADHMGSYGPAFYQSYGASG...  \n60640  MALRAGLVLGFHTLMTLLSPQEAGATKADHMGSYGPAFYQSYGASG...  \n60641  MALRAGLVLGFHTLMTLLSPQEAGATKADHMGSYGPAFYQSYGASG...  \n60642  MALRAGLVLGFHTLMTLLSPQEAGATKADHMGSYGPAFYQSYGASG...  \n60643  MALRAGLVLGFHTLMTLLSPQEAGATKADHMGSYGPAFYQSYGASG...  \n60644  MALRAGLVLGFHTLMTLLSPQEAGATKADHMGSYGPAFYQSYGASG...  \n87257  MVCLKLPGGSCMTALTVTLMVLSSPLALSGDTRPRFLWQPKRECHF...  \n87258  MVCLKLPGGSCMTALTVTLMVLSSPLALSGDTRPRFLWQPKRECHF...  \n92003  MKMSIRTPPRLLELAGRSLLRDQALAMSTLEELPTELFPPLFMEAF...  \n92004  MKMSIRTPPRLLELAGRSLLRDQALAMSTLEELPTELFPPLFMEAF...  ",
      "text/html": "<div>\n<style scoped>\n    .dataframe tbody tr th:only-of-type {\n        vertical-align: middle;\n    }\n\n    .dataframe tbody tr th {\n        vertical-align: top;\n    }\n\n    .dataframe thead th {\n        text-align: right;\n    }\n</style>\n<table border=\"1\" class=\"dataframe\">\n  <thead>\n    <tr style=\"text-align: right;\">\n      <th></th>\n      <th>Gene stable ID</th>\n      <th>HGNC symbol</th>\n      <th>Chromosome/scaffold name</th>\n      <th>Transcript stable ID</th>\n      <th>Protein stable ID</th>\n      <th>UniProtKB/TrEMBL ID</th>\n      <th>UniProtKB/Swiss-Prot ID</th>\n      <th>Peptide</th>\n    </tr>\n  </thead>\n  <tbody>\n    <tr>\n      <th>17342</th>\n      <td>ENSG00000167193</td>\n      <td>CRK</td>\n      <td>17</td>\n      <td>ENST00000300574</td>\n      <td>ENSP00000300574</td>\n      <td>A0A0S2Z3Q4</td>\n      <td>P46108</td>\n      <td>MAGNFDSEERSSWYWGRLSRQEAVALLQGQRHGVFLVRDSSTSPGD...</td>\n    </tr>\n    <tr>\n      <th>17343</th>\n      <td>ENSG00000167193</td>\n      <td>CRK</td>\n      <td>17</td>\n      <td>ENST00000300574</td>\n      <td>ENSP00000300574</td>\n      <td>L7RT18</td>\n      <td>P46108</td>\n      <td>MAGNFDSEERSSWYWGRLSRQEAVALLQGQRHGVFLVRDSSTSPGD...</td>\n    </tr>\n    <tr>\n      <th>60615</th>\n      <td>ENSG00000204252</td>\n      <td>HLA-DOA</td>\n      <td>6</td>\n      <td>ENST00000229829</td>\n      <td>ENSP00000229829</td>\n      <td>A0A1V0E3R0</td>\n      <td>P06340</td>\n      <td>MALRAGLVLGFHTLMTLLSPQEAGATKADHMGSYGPAFYQSYGASG...</td>\n    </tr>\n    <tr>\n      <th>60616</th>\n      <td>ENSG00000204252</td>\n      <td>HLA-DOA</td>\n      <td>6</td>\n      <td>ENST00000229829</td>\n      <td>ENSP00000229829</td>\n      <td>A0A1V0E3R8</td>\n      <td>P06340</td>\n      <td>MALRAGLVLGFHTLMTLLSPQEAGATKADHMGSYGPAFYQSYGASG...</td>\n    </tr>\n    <tr>\n      <th>60617</th>\n      <td>ENSG00000204252</td>\n      <td>HLA-DOA</td>\n      <td>6</td>\n      <td>ENST00000229829</td>\n      <td>ENSP00000229829</td>\n      <td>A0A1V0E3N6</td>\n      <td>P06340</td>\n      <td>MALRAGLVLGFHTLMTLLSPQEAGATKADHMGSYGPAFYQSYGASG...</td>\n    </tr>\n    <tr>\n      <th>60618</th>\n      <td>ENSG00000204252</td>\n      <td>HLA-DOA</td>\n      <td>6</td>\n      <td>ENST00000229829</td>\n      <td>ENSP00000229829</td>\n      <td>A0A1V0E3Q4</td>\n      <td>P06340</td>\n      <td>MALRAGLVLGFHTLMTLLSPQEAGATKADHMGSYGPAFYQSYGASG...</td>\n    </tr>\n    <tr>\n      <th>60619</th>\n      <td>ENSG00000204252</td>\n      <td>HLA-DOA</td>\n      <td>6</td>\n      <td>ENST00000229829</td>\n      <td>ENSP00000229829</td>\n      <td>A0A1V0E3R4</td>\n      <td>P06340</td>\n      <td>MALRAGLVLGFHTLMTLLSPQEAGATKADHMGSYGPAFYQSYGASG...</td>\n    </tr>\n    <tr>\n      <th>60620</th>\n      <td>ENSG00000204252</td>\n      <td>HLA-DOA</td>\n      <td>6</td>\n      <td>ENST00000229829</td>\n      <td>ENSP00000229829</td>\n      <td>A0A1V0E3Q7</td>\n      <td>P06340</td>\n      <td>MALRAGLVLGFHTLMTLLSPQEAGATKADHMGSYGPAFYQSYGASG...</td>\n    </tr>\n    <tr>\n      <th>60621</th>\n      <td>ENSG00000204252</td>\n      <td>HLA-DOA</td>\n      <td>6</td>\n      <td>ENST00000229829</td>\n      <td>ENSP00000229829</td>\n      <td>A0A1V0E3S4</td>\n      <td>P06340</td>\n      <td>MALRAGLVLGFHTLMTLLSPQEAGATKADHMGSYGPAFYQSYGASG...</td>\n    </tr>\n    <tr>\n      <th>60622</th>\n      <td>ENSG00000204252</td>\n      <td>HLA-DOA</td>\n      <td>6</td>\n      <td>ENST00000229829</td>\n      <td>ENSP00000229829</td>\n      <td>A0A1V0E3Q3</td>\n      <td>P06340</td>\n      <td>MALRAGLVLGFHTLMTLLSPQEAGATKADHMGSYGPAFYQSYGASG...</td>\n    </tr>\n    <tr>\n      <th>60623</th>\n      <td>ENSG00000204252</td>\n      <td>HLA-DOA</td>\n      <td>6</td>\n      <td>ENST00000229829</td>\n      <td>ENSP00000229829</td>\n      <td>X5CF87</td>\n      <td>P06340</td>\n      <td>MALRAGLVLGFHTLMTLLSPQEAGATKADHMGSYGPAFYQSYGASG...</td>\n    </tr>\n    <tr>\n      <th>60624</th>\n      <td>ENSG00000204252</td>\n      <td>HLA-DOA</td>\n      <td>6</td>\n      <td>ENST00000229829</td>\n      <td>ENSP00000229829</td>\n      <td>A0A1V0E3N1</td>\n      <td>P06340</td>\n      <td>MALRAGLVLGFHTLMTLLSPQEAGATKADHMGSYGPAFYQSYGASG...</td>\n    </tr>\n    <tr>\n      <th>60625</th>\n      <td>ENSG00000204252</td>\n      <td>HLA-DOA</td>\n      <td>6</td>\n      <td>ENST00000229829</td>\n      <td>ENSP00000229829</td>\n      <td>A0A1V0E3Q5</td>\n      <td>P06340</td>\n      <td>MALRAGLVLGFHTLMTLLSPQEAGATKADHMGSYGPAFYQSYGASG...</td>\n    </tr>\n    <tr>\n      <th>60626</th>\n      <td>ENSG00000204252</td>\n      <td>HLA-DOA</td>\n      <td>6</td>\n      <td>ENST00000229829</td>\n      <td>ENSP00000229829</td>\n      <td>A0A1V0E3Q8</td>\n      <td>P06340</td>\n      <td>MALRAGLVLGFHTLMTLLSPQEAGATKADHMGSYGPAFYQSYGASG...</td>\n    </tr>\n    <tr>\n      <th>60627</th>\n      <td>ENSG00000204252</td>\n      <td>HLA-DOA</td>\n      <td>6</td>\n      <td>ENST00000229829</td>\n      <td>ENSP00000229829</td>\n      <td>A0A1V0E3S6</td>\n      <td>P06340</td>\n      <td>MALRAGLVLGFHTLMTLLSPQEAGATKADHMGSYGPAFYQSYGASG...</td>\n    </tr>\n    <tr>\n      <th>60628</th>\n      <td>ENSG00000204252</td>\n      <td>HLA-DOA</td>\n      <td>6</td>\n      <td>ENST00000229829</td>\n      <td>ENSP00000229829</td>\n      <td>A0A1V0E3R3</td>\n      <td>P06340</td>\n      <td>MALRAGLVLGFHTLMTLLSPQEAGATKADHMGSYGPAFYQSYGASG...</td>\n    </tr>\n    <tr>\n      <th>60629</th>\n      <td>ENSG00000204252</td>\n      <td>HLA-DOA</td>\n      <td>6</td>\n      <td>ENST00000229829</td>\n      <td>ENSP00000229829</td>\n      <td>A0A1V0E3M7</td>\n      <td>P06340</td>\n      <td>MALRAGLVLGFHTLMTLLSPQEAGATKADHMGSYGPAFYQSYGASG...</td>\n    </tr>\n    <tr>\n      <th>60630</th>\n      <td>ENSG00000204252</td>\n      <td>HLA-DOA</td>\n      <td>6</td>\n      <td>ENST00000229829</td>\n      <td>ENSP00000229829</td>\n      <td>A0A1V0E3P8</td>\n      <td>P06340</td>\n      <td>MALRAGLVLGFHTLMTLLSPQEAGATKADHMGSYGPAFYQSYGASG...</td>\n    </tr>\n    <tr>\n      <th>60631</th>\n      <td>ENSG00000204252</td>\n      <td>HLA-DOA</td>\n      <td>6</td>\n      <td>ENST00000229829</td>\n      <td>ENSP00000229829</td>\n      <td>A0A1V0E3P6</td>\n      <td>P06340</td>\n      <td>MALRAGLVLGFHTLMTLLSPQEAGATKADHMGSYGPAFYQSYGASG...</td>\n    </tr>\n    <tr>\n      <th>60632</th>\n      <td>ENSG00000204252</td>\n      <td>HLA-DOA</td>\n      <td>6</td>\n      <td>ENST00000229829</td>\n      <td>ENSP00000229829</td>\n      <td>A0A1V0E3S7</td>\n      <td>P06340</td>\n      <td>MALRAGLVLGFHTLMTLLSPQEAGATKADHMGSYGPAFYQSYGASG...</td>\n    </tr>\n    <tr>\n      <th>60633</th>\n      <td>ENSG00000204252</td>\n      <td>HLA-DOA</td>\n      <td>6</td>\n      <td>ENST00000229829</td>\n      <td>ENSP00000229829</td>\n      <td>A0A1V0E3Q2</td>\n      <td>P06340</td>\n      <td>MALRAGLVLGFHTLMTLLSPQEAGATKADHMGSYGPAFYQSYGASG...</td>\n    </tr>\n    <tr>\n      <th>60634</th>\n      <td>ENSG00000204252</td>\n      <td>HLA-DOA</td>\n      <td>6</td>\n      <td>ENST00000229829</td>\n      <td>ENSP00000229829</td>\n      <td>A0A1V0E3T1</td>\n      <td>P06340</td>\n      <td>MALRAGLVLGFHTLMTLLSPQEAGATKADHMGSYGPAFYQSYGASG...</td>\n    </tr>\n    <tr>\n      <th>60635</th>\n      <td>ENSG00000204252</td>\n      <td>HLA-DOA</td>\n      <td>6</td>\n      <td>ENST00000229829</td>\n      <td>ENSP00000229829</td>\n      <td>A0A1V0E3P9</td>\n      <td>P06340</td>\n      <td>MALRAGLVLGFHTLMTLLSPQEAGATKADHMGSYGPAFYQSYGASG...</td>\n    </tr>\n    <tr>\n      <th>60636</th>\n      <td>ENSG00000204252</td>\n      <td>HLA-DOA</td>\n      <td>6</td>\n      <td>ENST00000229829</td>\n      <td>ENSP00000229829</td>\n      <td>A0A1V0E3R6</td>\n      <td>P06340</td>\n      <td>MALRAGLVLGFHTLMTLLSPQEAGATKADHMGSYGPAFYQSYGASG...</td>\n    </tr>\n    <tr>\n      <th>60637</th>\n      <td>ENSG00000204252</td>\n      <td>HLA-DOA</td>\n      <td>6</td>\n      <td>ENST00000229829</td>\n      <td>ENSP00000229829</td>\n      <td>A0A1V0E3N7</td>\n      <td>P06340</td>\n      <td>MALRAGLVLGFHTLMTLLSPQEAGATKADHMGSYGPAFYQSYGASG...</td>\n    </tr>\n    <tr>\n      <th>60638</th>\n      <td>ENSG00000204252</td>\n      <td>HLA-DOA</td>\n      <td>6</td>\n      <td>ENST00000229829</td>\n      <td>ENSP00000229829</td>\n      <td>A0A1V0E3Q6</td>\n      <td>P06340</td>\n      <td>MALRAGLVLGFHTLMTLLSPQEAGATKADHMGSYGPAFYQSYGASG...</td>\n    </tr>\n    <tr>\n      <th>60639</th>\n      <td>ENSG00000204252</td>\n      <td>HLA-DOA</td>\n      <td>6</td>\n      <td>ENST00000229829</td>\n      <td>ENSP00000229829</td>\n      <td>A0A1V0E3P3</td>\n      <td>P06340</td>\n      <td>MALRAGLVLGFHTLMTLLSPQEAGATKADHMGSYGPAFYQSYGASG...</td>\n    </tr>\n    <tr>\n      <th>60640</th>\n      <td>ENSG00000204252</td>\n      <td>HLA-DOA</td>\n      <td>6</td>\n      <td>ENST00000229829</td>\n      <td>ENSP00000229829</td>\n      <td>A0A1V0E3P1</td>\n      <td>P06340</td>\n      <td>MALRAGLVLGFHTLMTLLSPQEAGATKADHMGSYGPAFYQSYGASG...</td>\n    </tr>\n    <tr>\n      <th>60641</th>\n      <td>ENSG00000204252</td>\n      <td>HLA-DOA</td>\n      <td>6</td>\n      <td>ENST00000229829</td>\n      <td>ENSP00000229829</td>\n      <td>A0A1V0E3P0</td>\n      <td>P06340</td>\n      <td>MALRAGLVLGFHTLMTLLSPQEAGATKADHMGSYGPAFYQSYGASG...</td>\n    </tr>\n    <tr>\n      <th>60642</th>\n      <td>ENSG00000204252</td>\n      <td>HLA-DOA</td>\n      <td>6</td>\n      <td>ENST00000229829</td>\n      <td>ENSP00000229829</td>\n      <td>A0A1V0E3S0</td>\n      <td>P06340</td>\n      <td>MALRAGLVLGFHTLMTLLSPQEAGATKADHMGSYGPAFYQSYGASG...</td>\n    </tr>\n    <tr>\n      <th>60643</th>\n      <td>ENSG00000204252</td>\n      <td>HLA-DOA</td>\n      <td>6</td>\n      <td>ENST00000229829</td>\n      <td>ENSP00000229829</td>\n      <td>A0A1V0E3N3</td>\n      <td>P06340</td>\n      <td>MALRAGLVLGFHTLMTLLSPQEAGATKADHMGSYGPAFYQSYGASG...</td>\n    </tr>\n    <tr>\n      <th>60644</th>\n      <td>ENSG00000204252</td>\n      <td>HLA-DOA</td>\n      <td>6</td>\n      <td>ENST00000229829</td>\n      <td>ENSP00000229829</td>\n      <td>A0A1V0E3Q1</td>\n      <td>P06340</td>\n      <td>MALRAGLVLGFHTLMTLLSPQEAGATKADHMGSYGPAFYQSYGASG...</td>\n    </tr>\n    <tr>\n      <th>87257</th>\n      <td>ENSG00000196126</td>\n      <td>HLA-DRB1</td>\n      <td>6</td>\n      <td>ENST00000360004</td>\n      <td>ENSP00000353099</td>\n      <td>X5DNQ0</td>\n      <td>P01911</td>\n      <td>MVCLKLPGGSCMTALTVTLMVLSSPLALSGDTRPRFLWQPKRECHF...</td>\n    </tr>\n    <tr>\n      <th>87258</th>\n      <td>ENSG00000196126</td>\n      <td>HLA-DRB1</td>\n      <td>6</td>\n      <td>ENST00000360004</td>\n      <td>ENSP00000353099</td>\n      <td>D7RIH8</td>\n      <td>P01911</td>\n      <td>MVCLKLPGGSCMTALTVTLMVLSSPLALSGDTRPRFLWQPKRECHF...</td>\n    </tr>\n    <tr>\n      <th>92003</th>\n      <td>ENSG00000204501</td>\n      <td>PRAMEF15</td>\n      <td>1</td>\n      <td>ENST00000376152</td>\n      <td>ENSP00000365322</td>\n      <td>NaN</td>\n      <td>P0DUQ1</td>\n      <td>MKMSIRTPPRLLELAGRSLLRDQALAMSTLEELPTELFPPLFMEAF...</td>\n    </tr>\n    <tr>\n      <th>92004</th>\n      <td>ENSG00000204501</td>\n      <td>PRAMEF15</td>\n      <td>1</td>\n      <td>ENST00000376152</td>\n      <td>ENSP00000365322</td>\n      <td>NaN</td>\n      <td>P0DUQ2</td>\n      <td>MKMSIRTPPRLLELAGRSLLRDQALAMSTLEELPTELFPPLFMEAF...</td>\n    </tr>\n  </tbody>\n</table>\n</div>"
     },
     "execution_count": 37,
     "metadata": {},
     "output_type": "execute_result"
    }
   ],
   "source": [
    "# See if there are any duplications (including only the subset of columns we are interested in)\n",
    "mutation_info[mutation_info.duplicated(subset=['Gene stable ID', 'HGNC symbol','Transcript stable ID'], keep=False)]"
   ],
   "metadata": {
    "collapsed": false,
    "ExecuteTime": {
     "end_time": "2023-12-23T01:44:10.860818400Z",
     "start_time": "2023-12-23T01:44:10.813953200Z"
    }
   },
   "id": "36849066bc06fb43"
  },
  {
   "cell_type": "code",
   "execution_count": 38,
   "outputs": [],
   "source": [
    "# Drop duplicates based on this subset of cols\n",
    "mutation_info = mutation_info.drop_duplicates(subset=['Gene stable ID', 'HGNC symbol','Transcript stable ID'], keep='first')"
   ],
   "metadata": {
    "collapsed": false,
    "ExecuteTime": {
     "end_time": "2023-12-23T01:44:32.971327400Z",
     "start_time": "2023-12-23T01:44:32.956320300Z"
    }
   },
   "id": "49dabac02ad8d888"
  },
  {
   "cell_type": "code",
   "execution_count": 39,
   "outputs": [
    {
     "data": {
      "text/plain": "Empty DataFrame\nColumns: [Gene stable ID, HGNC symbol, Chromosome/scaffold name, Transcript stable ID, Protein stable ID, UniProtKB/TrEMBL ID, UniProtKB/Swiss-Prot ID, Peptide]\nIndex: []",
      "text/html": "<div>\n<style scoped>\n    .dataframe tbody tr th:only-of-type {\n        vertical-align: middle;\n    }\n\n    .dataframe tbody tr th {\n        vertical-align: top;\n    }\n\n    .dataframe thead th {\n        text-align: right;\n    }\n</style>\n<table border=\"1\" class=\"dataframe\">\n  <thead>\n    <tr style=\"text-align: right;\">\n      <th></th>\n      <th>Gene stable ID</th>\n      <th>HGNC symbol</th>\n      <th>Chromosome/scaffold name</th>\n      <th>Transcript stable ID</th>\n      <th>Protein stable ID</th>\n      <th>UniProtKB/TrEMBL ID</th>\n      <th>UniProtKB/Swiss-Prot ID</th>\n      <th>Peptide</th>\n    </tr>\n  </thead>\n  <tbody>\n  </tbody>\n</table>\n</div>"
     },
     "execution_count": 39,
     "metadata": {},
     "output_type": "execute_result"
    }
   ],
   "source": [
    "# See if there are still any duplicates with just two columns now\n",
    "mutation_info[mutation_info.duplicated(subset=['HGNC symbol','Transcript stable ID'], keep=False)]"
   ],
   "metadata": {
    "collapsed": false,
    "ExecuteTime": {
     "end_time": "2023-12-23T01:44:35.634824100Z",
     "start_time": "2023-12-23T01:44:35.619142Z"
    }
   },
   "id": "7934023317fd2273"
  },
  {
   "cell_type": "code",
   "execution_count": 40,
   "outputs": [],
   "source": [
    "def get_info(row):\n",
    "    \"\"\"using the ready made conv, identify for each mutation the following\n",
    "    ['Fasta',  'UniProtKB/Swiss-Prot ID',\n",
    "       'Protein stable ID', 'transcript stable id', 'chromo', 'start', 'end',\n",
    "       'wild', 'mutant']\n",
    "    Throw away any rows which don't have this information as it will not be possible to find the missense status\n",
    "       \"\"\"\n",
    "    # Regex pattern that is used to match protein mutations typically represented in a format like 'p.X123Y', where:\n",
    "    #   'p.' indicates it is a protein mutation.\n",
    "    #   The first ([A-Z]) is a capture group that matches the one-letter code of the original amino acid.\n",
    "    #   (\\d+) is a capture group that matches one or more digits, representing the position number of the amino acid in the protein sequence.\n",
    "    #   The second ([A-Z]) is a capture group that matches the one-letter code of the new amino acid after the mutation.\n",
    "    # Enables extraction of original and new amino acids and their position in the protein sequence from mutation strings.\n",
    "\n",
    "    code = re.compile('p.([A-Z])(\\d+)([A-Z])')\n",
    "\n",
    "    # Function to check if the amino acid (w) at a specific position (pos) in a sequence (x) matches what's expected.\n",
    "    #   x is expected to be a string representing an amino acid sequence.\n",
    "    #   w is the one-letter code of an amino acid.\n",
    "    #   pos is the position of the amino acid in the sequence (1-indexed).\n",
    "\n",
    "    def check(x,w,pos):\n",
    "        \"\"\"helper function used below to check that our fasta has the right amino acid at the right place\"\"\"\n",
    "        if len(x)>=pos:\n",
    "            return x[pos-1]==w\n",
    "        else:\n",
    "            return False\n",
    "\n",
    "    # Select relevant columns and assig to 'columns'\n",
    "    columns = ['Gene stable ID', 'HGNC symbol', 'Peptide','Protein stable ID', 'Transcript stable ID', 'UniProtKB/Swiss-Prot ID']\n",
    "\n",
    "    # Assign 'Annotation_Transcript'and 'Protein_Change' values fore this row to enst and aa\n",
    "    enst, aa, position, chrom = row[['Transcript','ProteinChange','Pos','Chrom']]\n",
    "\n",
    "    # if the enst for this row is in biomart_transcript_ids (conv table)\n",
    "    # set info = the row where 'Transcript stable ID' == enst, select the columns listed above, and remove dup rows based on the 'Gene stable ID', 'HGNC symbol','Transcript stable ID' cols\n",
    "    if enst in biomart_transcript_ids.tolist():\n",
    "        info = conv.loc[conv['Transcript stable ID']==enst][columns].drop_duplicates(subset = ['Gene stable ID', 'HGNC symbol','Transcript stable ID'])\n",
    "        #info = conv.loc[conv['Transcript stable ID']==enst][columns].drop_duplicates(subset = ['UniProtKB/Swiss-Prot ID'])\n",
    "        \n",
    "        # keep count of number of matching conv rows returned\n",
    "        num_rows.append(len(info))\n",
    "        \n",
    "        # if more than one row returned append it to multiple_rows DF for later review\n",
    "        if len(info) > 1:\n",
    "            global multiple_rows\n",
    "            multiple_rows = multiple_rows.append(info)\n",
    "\n",
    "    # Otherwise info = np.nan\n",
    "    else:\n",
    "        info = 'not in transcript IDs'\n",
    "        \n",
    "    # print(info)\n",
    "\n",
    "  # Check that 'info' object is a dataframe and not empty\n",
    "    if type(info)==pd.DataFrame and info.shape[0]>0:\n",
    "\n",
    "      # if 'ProteinChange' value (aa) matches the regex,\n",
    "      # save the original amino acid, position and mutant amino acid as w, pos, m\n",
    "      # otherwise save as np.nan\n",
    "        match = code.match(aa)\n",
    "        if match:\n",
    "            w = match.group(1)\n",
    "            pos = int(match.group(2))\n",
    "            m = match.group(3)\n",
    "        else:\n",
    "            w,pos,m = np.nan,np.nan,np.nan\n",
    "\n",
    "        # Use 'check' helper function to check that Fasta column of current row contains the wild type amino acid (w) in the correct position (pos)\n",
    "        info0 = info.loc[info['Peptide'].map(lambda x:check(x,w,pos))]\n",
    "\n",
    "        # If there is at least one row, save it as info1 (there will be one or none)\n",
    "        if info0.shape[0]>0:\n",
    "            info1 = info0.iloc[0]\n",
    "        else:\n",
    "            info1 = 'w not in pos'\n",
    "    else:\n",
    "        info1 = 'dataframe was empty'\n",
    "\n",
    "    # If info1 is a series (ie. none of the 'else' conditions above were fulfilled)\n",
    "    # Add columns for 'transcript stable id' , 'wild', 'mutant' and 'pos'\n",
    "    # Return info1\n",
    "    if type(info1)==pd.Series:\n",
    "        info1['transcript stable id']=enst\n",
    "        info1['wild'],info1['mutant'],info1['pos'] = w,m,pos\n",
    "        info1['position'], info1['chrom'] = position, chrom\n",
    "    return info1\n",
    "\n",
    "# Variables to keep count and store row content when more than one conv row is returned for a missense_mutations ENST\n",
    "num_rows = []\n",
    "multiple_rows = pd.DataFrame()\n",
    "\n",
    "# Apply the 'get_info' function to rows of the missense_mutations dataframe\n",
    "test_info = missense_mutations.apply(get_info,axis = 1)"
   ],
   "metadata": {
    "collapsed": false,
    "ExecuteTime": {
     "end_time": "2023-12-23T01:46:57.756334400Z",
     "start_time": "2023-12-23T01:44:46.799283100Z"
    }
   },
   "id": "5433881055fedcee"
  },
  {
   "cell_type": "code",
   "execution_count": 41,
   "outputs": [
    {
     "data": {
      "text/plain": "          Gene stable ID HGNC symbol  \\\n29670    ENSG00000187961      KLHL17   \n29673    ENSG00000157911       PEX10   \n29674    ENSG00000157881       PANK4   \n29675    ENSG00000157873    TNFRSF14   \n29676    ENSG00000215912       TTC34   \n...                  ...         ...   \n1296633  ENSG00000172534       HCFC1   \n1296636  ENSG00000198899     MT-ATP6   \n1296637  ENSG00000198899     MT-ATP6   \n1296640  ENSG00000198886      MT-ND4   \n1296643  ENSG00000198727      MT-CYB   \n\n                                                   Peptide Protein stable ID  \\\n29670    MQPRSERPAGRTQSPEHGSPGPGPEAPPPPPPQPPAPEAERTRPRQ...   ENSP00000343930   \n29673    MAPAAASPPEVIRAAQKDEYYRGGLRSAAGGALHSLAGARKWLEWR...   ENSP00000407922   \n29674    MAECGASGSGSSGDSLDKSITLPPDEIFRNLENAKRFAIDIGGSLT...   ENSP00000367727   \n29675    MEPPGDWGPPPWRSTPKTDVLRLVLYLTFLGAPCYAPALPSCKEDE...   ENSP00000347948   \n29676    MMSAQELVACLCREGEQHLALGELPLATAFYLAAFSCHAPSALQSV...   ENSP00000383873   \n...                                                    ...               ...   \n1296633  MASAVSPANLPAVLLQPRWKRVVGWSGPVPRPRHGHRAVAIKELIV...   ENSP00000359001   \n1296636  MNENLFASFIAPTILGLPAAVLIILFPPLLIPTSKYLINNRLITTQ...   ENSP00000354632   \n1296637  MNENLFASFIAPTILGLPAAVLIILFPPLLIPTSKYLINNRLITTQ...   ENSP00000354632   \n1296640  MLKLIVPTIMLLPLTWLSKKHMIWINTTTHSLIISIIPLLFFNQIN...   ENSP00000354961   \n1296643  MTPMRKTNPLMKLINHSFIDLPTPSNISAWWNFGSLLGACLILQIT...   ENSP00000354554   \n\n        Transcript stable ID UniProtKB/Swiss-Prot ID transcript stable id  \\\n29670        ENST00000338591                  Q6TDP4      ENST00000338591   \n29673        ENST00000447513                  O60683      ENST00000447513   \n29674        ENST00000378466                  Q9NVE7      ENST00000378466   \n29675        ENST00000355716                  Q92956      ENST00000355716   \n29676        ENST00000401095                     NaN      ENST00000401095   \n...                      ...                     ...                  ...   \n1296633      ENST00000369984                     NaN      ENST00000369984   \n1296636      ENST00000361899                  P00846      ENST00000361899   \n1296637      ENST00000361899                  P00846      ENST00000361899   \n1296640      ENST00000361381                  P03905      ENST00000361381   \n1296643      ENST00000361789                  P00156      ENST00000361789   \n\n        wild mutant   pos   position chrom  \n29670      G      S   395     963249  chr1  \n29673      A      T    37    2412394  chr1  \n29674      F      L   567    2512914  chr1  \n29675      A      V   192    2561696  chr1  \n29676      R      L   433    2789833  chr1  \n...      ...    ...   ...        ...   ...  \n1296633    S      G  1216  153954753  chrX  \n1296636    A      T    80       8764  chrM  \n1296637    A      T   177       9055  chrM  \n1296640    L      P    89      11025  chrM  \n1296643    F      L    18      14798  chrM  \n\n[13200 rows x 12 columns]",
      "text/html": "<div>\n<style scoped>\n    .dataframe tbody tr th:only-of-type {\n        vertical-align: middle;\n    }\n\n    .dataframe tbody tr th {\n        vertical-align: top;\n    }\n\n    .dataframe thead th {\n        text-align: right;\n    }\n</style>\n<table border=\"1\" class=\"dataframe\">\n  <thead>\n    <tr style=\"text-align: right;\">\n      <th></th>\n      <th>Gene stable ID</th>\n      <th>HGNC symbol</th>\n      <th>Peptide</th>\n      <th>Protein stable ID</th>\n      <th>Transcript stable ID</th>\n      <th>UniProtKB/Swiss-Prot ID</th>\n      <th>transcript stable id</th>\n      <th>wild</th>\n      <th>mutant</th>\n      <th>pos</th>\n      <th>position</th>\n      <th>chrom</th>\n    </tr>\n  </thead>\n  <tbody>\n    <tr>\n      <th>29670</th>\n      <td>ENSG00000187961</td>\n      <td>KLHL17</td>\n      <td>MQPRSERPAGRTQSPEHGSPGPGPEAPPPPPPQPPAPEAERTRPRQ...</td>\n      <td>ENSP00000343930</td>\n      <td>ENST00000338591</td>\n      <td>Q6TDP4</td>\n      <td>ENST00000338591</td>\n      <td>G</td>\n      <td>S</td>\n      <td>395</td>\n      <td>963249</td>\n      <td>chr1</td>\n    </tr>\n    <tr>\n      <th>29673</th>\n      <td>ENSG00000157911</td>\n      <td>PEX10</td>\n      <td>MAPAAASPPEVIRAAQKDEYYRGGLRSAAGGALHSLAGARKWLEWR...</td>\n      <td>ENSP00000407922</td>\n      <td>ENST00000447513</td>\n      <td>O60683</td>\n      <td>ENST00000447513</td>\n      <td>A</td>\n      <td>T</td>\n      <td>37</td>\n      <td>2412394</td>\n      <td>chr1</td>\n    </tr>\n    <tr>\n      <th>29674</th>\n      <td>ENSG00000157881</td>\n      <td>PANK4</td>\n      <td>MAECGASGSGSSGDSLDKSITLPPDEIFRNLENAKRFAIDIGGSLT...</td>\n      <td>ENSP00000367727</td>\n      <td>ENST00000378466</td>\n      <td>Q9NVE7</td>\n      <td>ENST00000378466</td>\n      <td>F</td>\n      <td>L</td>\n      <td>567</td>\n      <td>2512914</td>\n      <td>chr1</td>\n    </tr>\n    <tr>\n      <th>29675</th>\n      <td>ENSG00000157873</td>\n      <td>TNFRSF14</td>\n      <td>MEPPGDWGPPPWRSTPKTDVLRLVLYLTFLGAPCYAPALPSCKEDE...</td>\n      <td>ENSP00000347948</td>\n      <td>ENST00000355716</td>\n      <td>Q92956</td>\n      <td>ENST00000355716</td>\n      <td>A</td>\n      <td>V</td>\n      <td>192</td>\n      <td>2561696</td>\n      <td>chr1</td>\n    </tr>\n    <tr>\n      <th>29676</th>\n      <td>ENSG00000215912</td>\n      <td>TTC34</td>\n      <td>MMSAQELVACLCREGEQHLALGELPLATAFYLAAFSCHAPSALQSV...</td>\n      <td>ENSP00000383873</td>\n      <td>ENST00000401095</td>\n      <td>NaN</td>\n      <td>ENST00000401095</td>\n      <td>R</td>\n      <td>L</td>\n      <td>433</td>\n      <td>2789833</td>\n      <td>chr1</td>\n    </tr>\n    <tr>\n      <th>...</th>\n      <td>...</td>\n      <td>...</td>\n      <td>...</td>\n      <td>...</td>\n      <td>...</td>\n      <td>...</td>\n      <td>...</td>\n      <td>...</td>\n      <td>...</td>\n      <td>...</td>\n      <td>...</td>\n      <td>...</td>\n    </tr>\n    <tr>\n      <th>1296633</th>\n      <td>ENSG00000172534</td>\n      <td>HCFC1</td>\n      <td>MASAVSPANLPAVLLQPRWKRVVGWSGPVPRPRHGHRAVAIKELIV...</td>\n      <td>ENSP00000359001</td>\n      <td>ENST00000369984</td>\n      <td>NaN</td>\n      <td>ENST00000369984</td>\n      <td>S</td>\n      <td>G</td>\n      <td>1216</td>\n      <td>153954753</td>\n      <td>chrX</td>\n    </tr>\n    <tr>\n      <th>1296636</th>\n      <td>ENSG00000198899</td>\n      <td>MT-ATP6</td>\n      <td>MNENLFASFIAPTILGLPAAVLIILFPPLLIPTSKYLINNRLITTQ...</td>\n      <td>ENSP00000354632</td>\n      <td>ENST00000361899</td>\n      <td>P00846</td>\n      <td>ENST00000361899</td>\n      <td>A</td>\n      <td>T</td>\n      <td>80</td>\n      <td>8764</td>\n      <td>chrM</td>\n    </tr>\n    <tr>\n      <th>1296637</th>\n      <td>ENSG00000198899</td>\n      <td>MT-ATP6</td>\n      <td>MNENLFASFIAPTILGLPAAVLIILFPPLLIPTSKYLINNRLITTQ...</td>\n      <td>ENSP00000354632</td>\n      <td>ENST00000361899</td>\n      <td>P00846</td>\n      <td>ENST00000361899</td>\n      <td>A</td>\n      <td>T</td>\n      <td>177</td>\n      <td>9055</td>\n      <td>chrM</td>\n    </tr>\n    <tr>\n      <th>1296640</th>\n      <td>ENSG00000198886</td>\n      <td>MT-ND4</td>\n      <td>MLKLIVPTIMLLPLTWLSKKHMIWINTTTHSLIISIIPLLFFNQIN...</td>\n      <td>ENSP00000354961</td>\n      <td>ENST00000361381</td>\n      <td>P03905</td>\n      <td>ENST00000361381</td>\n      <td>L</td>\n      <td>P</td>\n      <td>89</td>\n      <td>11025</td>\n      <td>chrM</td>\n    </tr>\n    <tr>\n      <th>1296643</th>\n      <td>ENSG00000198727</td>\n      <td>MT-CYB</td>\n      <td>MTPMRKTNPLMKLINHSFIDLPTPSNISAWWNFGSLLGACLILQIT...</td>\n      <td>ENSP00000354554</td>\n      <td>ENST00000361789</td>\n      <td>P00156</td>\n      <td>ENST00000361789</td>\n      <td>F</td>\n      <td>L</td>\n      <td>18</td>\n      <td>14798</td>\n      <td>chrM</td>\n    </tr>\n  </tbody>\n</table>\n<p>13200 rows × 12 columns</p>\n</div>"
     },
     "execution_count": 41,
     "metadata": {},
     "output_type": "execute_result"
    }
   ],
   "source": [
    "test_info"
   ],
   "metadata": {
    "collapsed": false,
    "ExecuteTime": {
     "end_time": "2023-12-23T01:47:00.963408300Z",
     "start_time": "2023-12-23T01:47:00.900476700Z"
    }
   },
   "id": "c438178d2fd5f3c5"
  },
  {
   "cell_type": "code",
   "execution_count": 42,
   "outputs": [
    {
     "data": {
      "text/plain": "1    13126\nName: Counts, dtype: int64"
     },
     "execution_count": 42,
     "metadata": {},
     "output_type": "execute_result"
    }
   ],
   "source": [
    "# Look at the list containing the number of conv rows returned for each missense_mutations ENST\n",
    "# e.g. how many returned one row, how many returned 2, etc\n",
    "# Note: dropping duplicates based on my revised subset instead of UniProtKB/Swiss-Prot ID prevents multiple rows being returned\n",
    "len(num_rows)\n",
    "num_rows = pd.Series(num_rows, name='Counts')\n",
    "num_rows.value_counts()"
   ],
   "metadata": {
    "collapsed": false,
    "ExecuteTime": {
     "end_time": "2023-12-23T01:47:08.811519Z",
     "start_time": "2023-12-23T01:47:08.795874600Z"
    }
   },
   "id": "dffc9d8e93617949"
  },
  {
   "cell_type": "code",
   "execution_count": 43,
   "outputs": [
    {
     "data": {
      "text/plain": "Empty DataFrame\nColumns: []\nIndex: []",
      "text/html": "<div>\n<style scoped>\n    .dataframe tbody tr th:only-of-type {\n        vertical-align: middle;\n    }\n\n    .dataframe tbody tr th {\n        vertical-align: top;\n    }\n\n    .dataframe thead th {\n        text-align: right;\n    }\n</style>\n<table border=\"1\" class=\"dataframe\">\n  <thead>\n    <tr style=\"text-align: right;\">\n      <th></th>\n    </tr>\n  </thead>\n  <tbody>\n  </tbody>\n</table>\n</div>"
     },
     "execution_count": 43,
     "metadata": {},
     "output_type": "execute_result"
    }
   ],
   "source": [
    "# This contains all the conv rows that were returned as multiple rows matching a single missense_mutations ENST\n",
    "# Note: dropping duplicates based on my revised subset instead of UniProtKB/Swiss-Prot ID prevents multiple rows being returned\n",
    "multiple_rows"
   ],
   "metadata": {
    "collapsed": false,
    "ExecuteTime": {
     "end_time": "2023-12-23T01:47:15.491146600Z",
     "start_time": "2023-12-23T01:47:15.475512Z"
    }
   },
   "id": "2753b315c18c848d"
  },
  {
   "cell_type": "code",
   "execution_count": 44,
   "outputs": [
    {
     "data": {
      "text/plain": "Empty DataFrame\nColumns: [Gene stable ID, HGNC symbol, Peptide, Protein stable ID, Transcript stable ID, UniProtKB/Swiss-Prot ID, transcript stable id, wild, mutant, pos, position, chrom]\nIndex: []",
      "text/html": "<div>\n<style scoped>\n    .dataframe tbody tr th:only-of-type {\n        vertical-align: middle;\n    }\n\n    .dataframe tbody tr th {\n        vertical-align: top;\n    }\n\n    .dataframe thead th {\n        text-align: right;\n    }\n</style>\n<table border=\"1\" class=\"dataframe\">\n  <thead>\n    <tr style=\"text-align: right;\">\n      <th></th>\n      <th>Gene stable ID</th>\n      <th>HGNC symbol</th>\n      <th>Peptide</th>\n      <th>Protein stable ID</th>\n      <th>Transcript stable ID</th>\n      <th>UniProtKB/Swiss-Prot ID</th>\n      <th>transcript stable id</th>\n      <th>wild</th>\n      <th>mutant</th>\n      <th>pos</th>\n      <th>position</th>\n      <th>chrom</th>\n    </tr>\n  </thead>\n  <tbody>\n  </tbody>\n</table>\n</div>"
     },
     "execution_count": 44,
     "metadata": {},
     "output_type": "execute_result"
    }
   ],
   "source": [
    "# Check for the various conditions that would result from no data in a row\n",
    "#test_info[test_info['Gene stable ID'] == 'not in transcript IDs']\n",
    "#test_info[test_info['Gene stable ID'] == 'w not in pos']\n",
    "#test_info[test_info['Gene stable ID'] == 'dataframe was empty']\n",
    "#test_info[test_info['Gene stable ID'].isnull()]\n",
    "test_info[test_info['pos'].isnull()]"
   ],
   "metadata": {
    "collapsed": false,
    "ExecuteTime": {
     "end_time": "2023-12-23T01:47:18.639868700Z",
     "start_time": "2023-12-23T01:47:18.597734100Z"
    }
   },
   "id": "740bdd80b9c80743"
  },
  {
   "cell_type": "code",
   "execution_count": 45,
   "outputs": [],
   "source": [
    "alpha_missense = pd.read_csv(data_path + 'alphamissense\\\\AlphaMissense_hg38.tsv', skiprows=3, sep='\\t')"
   ],
   "metadata": {
    "collapsed": false,
    "ExecuteTime": {
     "end_time": "2023-12-23T01:48:42.387349300Z",
     "start_time": "2023-12-23T01:47:34.664753900Z"
    }
   },
   "id": "d75878175b4d1ce7"
  },
  {
   "cell_type": "code",
   "execution_count": 46,
   "outputs": [
    {
     "data": {
      "text/plain": "  #CHROM    POS REF ALT genome uniprot_id      transcript_id protein_variant  \\\n0   chr1  69094   G   T   hg38     Q8NH21  ENST00000335137.4             V2L   \n1   chr1  69094   G   C   hg38     Q8NH21  ENST00000335137.4             V2L   \n2   chr1  69094   G   A   hg38     Q8NH21  ENST00000335137.4             V2M   \n3   chr1  69095   T   C   hg38     Q8NH21  ENST00000335137.4             V2A   \n4   chr1  69095   T   A   hg38     Q8NH21  ENST00000335137.4             V2E   \n5   chr1  69095   T   G   hg38     Q8NH21  ENST00000335137.4             V2G   \n6   chr1  69097   A   G   hg38     Q8NH21  ENST00000335137.4             T3A   \n7   chr1  69097   A   C   hg38     Q8NH21  ENST00000335137.4             T3P   \n8   chr1  69097   A   T   hg38     Q8NH21  ENST00000335137.4             T3S   \n9   chr1  69098   C   A   hg38     Q8NH21  ENST00000335137.4             T3N   \n\n   am_pathogenicity       am_class  \n0            0.2937  likely_benign  \n1            0.2937  likely_benign  \n2            0.3296  likely_benign  \n3            0.2609  likely_benign  \n4            0.2922  likely_benign  \n5            0.2030  likely_benign  \n6            0.0929  likely_benign  \n7            0.1264  likely_benign  \n8            0.0979  likely_benign  \n9            0.1121  likely_benign  ",
      "text/html": "<div>\n<style scoped>\n    .dataframe tbody tr th:only-of-type {\n        vertical-align: middle;\n    }\n\n    .dataframe tbody tr th {\n        vertical-align: top;\n    }\n\n    .dataframe thead th {\n        text-align: right;\n    }\n</style>\n<table border=\"1\" class=\"dataframe\">\n  <thead>\n    <tr style=\"text-align: right;\">\n      <th></th>\n      <th>#CHROM</th>\n      <th>POS</th>\n      <th>REF</th>\n      <th>ALT</th>\n      <th>genome</th>\n      <th>uniprot_id</th>\n      <th>transcript_id</th>\n      <th>protein_variant</th>\n      <th>am_pathogenicity</th>\n      <th>am_class</th>\n    </tr>\n  </thead>\n  <tbody>\n    <tr>\n      <th>0</th>\n      <td>chr1</td>\n      <td>69094</td>\n      <td>G</td>\n      <td>T</td>\n      <td>hg38</td>\n      <td>Q8NH21</td>\n      <td>ENST00000335137.4</td>\n      <td>V2L</td>\n      <td>0.2937</td>\n      <td>likely_benign</td>\n    </tr>\n    <tr>\n      <th>1</th>\n      <td>chr1</td>\n      <td>69094</td>\n      <td>G</td>\n      <td>C</td>\n      <td>hg38</td>\n      <td>Q8NH21</td>\n      <td>ENST00000335137.4</td>\n      <td>V2L</td>\n      <td>0.2937</td>\n      <td>likely_benign</td>\n    </tr>\n    <tr>\n      <th>2</th>\n      <td>chr1</td>\n      <td>69094</td>\n      <td>G</td>\n      <td>A</td>\n      <td>hg38</td>\n      <td>Q8NH21</td>\n      <td>ENST00000335137.4</td>\n      <td>V2M</td>\n      <td>0.3296</td>\n      <td>likely_benign</td>\n    </tr>\n    <tr>\n      <th>3</th>\n      <td>chr1</td>\n      <td>69095</td>\n      <td>T</td>\n      <td>C</td>\n      <td>hg38</td>\n      <td>Q8NH21</td>\n      <td>ENST00000335137.4</td>\n      <td>V2A</td>\n      <td>0.2609</td>\n      <td>likely_benign</td>\n    </tr>\n    <tr>\n      <th>4</th>\n      <td>chr1</td>\n      <td>69095</td>\n      <td>T</td>\n      <td>A</td>\n      <td>hg38</td>\n      <td>Q8NH21</td>\n      <td>ENST00000335137.4</td>\n      <td>V2E</td>\n      <td>0.2922</td>\n      <td>likely_benign</td>\n    </tr>\n    <tr>\n      <th>5</th>\n      <td>chr1</td>\n      <td>69095</td>\n      <td>T</td>\n      <td>G</td>\n      <td>hg38</td>\n      <td>Q8NH21</td>\n      <td>ENST00000335137.4</td>\n      <td>V2G</td>\n      <td>0.2030</td>\n      <td>likely_benign</td>\n    </tr>\n    <tr>\n      <th>6</th>\n      <td>chr1</td>\n      <td>69097</td>\n      <td>A</td>\n      <td>G</td>\n      <td>hg38</td>\n      <td>Q8NH21</td>\n      <td>ENST00000335137.4</td>\n      <td>T3A</td>\n      <td>0.0929</td>\n      <td>likely_benign</td>\n    </tr>\n    <tr>\n      <th>7</th>\n      <td>chr1</td>\n      <td>69097</td>\n      <td>A</td>\n      <td>C</td>\n      <td>hg38</td>\n      <td>Q8NH21</td>\n      <td>ENST00000335137.4</td>\n      <td>T3P</td>\n      <td>0.1264</td>\n      <td>likely_benign</td>\n    </tr>\n    <tr>\n      <th>8</th>\n      <td>chr1</td>\n      <td>69097</td>\n      <td>A</td>\n      <td>T</td>\n      <td>hg38</td>\n      <td>Q8NH21</td>\n      <td>ENST00000335137.4</td>\n      <td>T3S</td>\n      <td>0.0979</td>\n      <td>likely_benign</td>\n    </tr>\n    <tr>\n      <th>9</th>\n      <td>chr1</td>\n      <td>69098</td>\n      <td>C</td>\n      <td>A</td>\n      <td>hg38</td>\n      <td>Q8NH21</td>\n      <td>ENST00000335137.4</td>\n      <td>T3N</td>\n      <td>0.1121</td>\n      <td>likely_benign</td>\n    </tr>\n  </tbody>\n</table>\n</div>"
     },
     "execution_count": 46,
     "metadata": {},
     "output_type": "execute_result"
    }
   ],
   "source": [
    "alpha_missense.head(10)"
   ],
   "metadata": {
    "collapsed": false,
    "ExecuteTime": {
     "end_time": "2023-12-23T01:51:31.056217900Z",
     "start_time": "2023-12-23T01:51:30.996916700Z"
    }
   },
   "id": "607f44abafcd2343"
  },
  {
   "cell_type": "code",
   "execution_count": 47,
   "outputs": [
    {
     "data": {
      "text/plain": "hg38    71697556\nName: genome, dtype: int64"
     },
     "execution_count": 47,
     "metadata": {},
     "output_type": "execute_result"
    }
   ],
   "source": [
    "alpha_missense['genome'].value_counts()"
   ],
   "metadata": {
    "collapsed": false,
    "ExecuteTime": {
     "end_time": "2023-12-23T01:51:37.061732Z",
     "start_time": "2023-12-23T01:51:34.193176900Z"
    }
   },
   "id": "4a8b4f410f8abc81"
  },
  {
   "cell_type": "code",
   "execution_count": 48,
   "outputs": [
    {
     "data": {
      "text/plain": "likely_benign        40917351\nlikely_pathogenic    22770557\nambiguous             8009648\nName: am_class, dtype: int64"
     },
     "execution_count": 48,
     "metadata": {},
     "output_type": "execute_result"
    }
   ],
   "source": [
    "alpha_missense['am_class'].value_counts()"
   ],
   "metadata": {
    "collapsed": false,
    "ExecuteTime": {
     "end_time": "2023-12-23T01:51:45.375623300Z",
     "start_time": "2023-12-23T01:51:45.363116500Z"
    }
   },
   "id": "c2fe27e2b2c0ebbf"
  },
  {
   "cell_type": "code",
   "execution_count": 49,
   "outputs": [
    {
     "data": {
      "text/plain": "     #CHROM    POS REF ALT genome uniprot_id      transcript_id  \\\n0      chr1  69094   G   T   hg38     Q8NH21  ENST00000335137.4   \n1      chr1  69094   G   C   hg38     Q8NH21  ENST00000335137.4   \n2      chr1  69094   G   A   hg38     Q8NH21  ENST00000335137.4   \n3      chr1  69095   T   C   hg38     Q8NH21  ENST00000335137.4   \n4      chr1  69095   T   A   hg38     Q8NH21  ENST00000335137.4   \n...     ...    ...  ..  ..    ...        ...                ...   \n2013   chr1  70004   T   G   hg38     Q8NH21  ENST00000335137.4   \n2014   chr1  70004   T   C   hg38     Q8NH21  ENST00000335137.4   \n2015   chr1  70004   T   A   hg38     Q8NH21  ENST00000335137.4   \n2016   chr1  70005   T   G   hg38     Q8NH21  ENST00000335137.4   \n2017   chr1  70005   T   A   hg38     Q8NH21  ENST00000335137.4   \n\n     protein_variant  am_pathogenicity       am_class  \n0                V2L            0.2937  likely_benign  \n1                V2L            0.2937  likely_benign  \n2                V2M            0.3296  likely_benign  \n3                V2A            0.2609  likely_benign  \n4                V2E            0.2922  likely_benign  \n...              ...               ...            ...  \n2013           F305C            0.0907  likely_benign  \n2014           F305S            0.1053  likely_benign  \n2015           F305Y            0.0795  likely_benign  \n2016           F305L            0.3187  likely_benign  \n2017           F305L            0.3187  likely_benign  \n\n[2018 rows x 10 columns]",
      "text/html": "<div>\n<style scoped>\n    .dataframe tbody tr th:only-of-type {\n        vertical-align: middle;\n    }\n\n    .dataframe tbody tr th {\n        vertical-align: top;\n    }\n\n    .dataframe thead th {\n        text-align: right;\n    }\n</style>\n<table border=\"1\" class=\"dataframe\">\n  <thead>\n    <tr style=\"text-align: right;\">\n      <th></th>\n      <th>#CHROM</th>\n      <th>POS</th>\n      <th>REF</th>\n      <th>ALT</th>\n      <th>genome</th>\n      <th>uniprot_id</th>\n      <th>transcript_id</th>\n      <th>protein_variant</th>\n      <th>am_pathogenicity</th>\n      <th>am_class</th>\n    </tr>\n  </thead>\n  <tbody>\n    <tr>\n      <th>0</th>\n      <td>chr1</td>\n      <td>69094</td>\n      <td>G</td>\n      <td>T</td>\n      <td>hg38</td>\n      <td>Q8NH21</td>\n      <td>ENST00000335137.4</td>\n      <td>V2L</td>\n      <td>0.2937</td>\n      <td>likely_benign</td>\n    </tr>\n    <tr>\n      <th>1</th>\n      <td>chr1</td>\n      <td>69094</td>\n      <td>G</td>\n      <td>C</td>\n      <td>hg38</td>\n      <td>Q8NH21</td>\n      <td>ENST00000335137.4</td>\n      <td>V2L</td>\n      <td>0.2937</td>\n      <td>likely_benign</td>\n    </tr>\n    <tr>\n      <th>2</th>\n      <td>chr1</td>\n      <td>69094</td>\n      <td>G</td>\n      <td>A</td>\n      <td>hg38</td>\n      <td>Q8NH21</td>\n      <td>ENST00000335137.4</td>\n      <td>V2M</td>\n      <td>0.3296</td>\n      <td>likely_benign</td>\n    </tr>\n    <tr>\n      <th>3</th>\n      <td>chr1</td>\n      <td>69095</td>\n      <td>T</td>\n      <td>C</td>\n      <td>hg38</td>\n      <td>Q8NH21</td>\n      <td>ENST00000335137.4</td>\n      <td>V2A</td>\n      <td>0.2609</td>\n      <td>likely_benign</td>\n    </tr>\n    <tr>\n      <th>4</th>\n      <td>chr1</td>\n      <td>69095</td>\n      <td>T</td>\n      <td>A</td>\n      <td>hg38</td>\n      <td>Q8NH21</td>\n      <td>ENST00000335137.4</td>\n      <td>V2E</td>\n      <td>0.2922</td>\n      <td>likely_benign</td>\n    </tr>\n    <tr>\n      <th>...</th>\n      <td>...</td>\n      <td>...</td>\n      <td>...</td>\n      <td>...</td>\n      <td>...</td>\n      <td>...</td>\n      <td>...</td>\n      <td>...</td>\n      <td>...</td>\n      <td>...</td>\n    </tr>\n    <tr>\n      <th>2013</th>\n      <td>chr1</td>\n      <td>70004</td>\n      <td>T</td>\n      <td>G</td>\n      <td>hg38</td>\n      <td>Q8NH21</td>\n      <td>ENST00000335137.4</td>\n      <td>F305C</td>\n      <td>0.0907</td>\n      <td>likely_benign</td>\n    </tr>\n    <tr>\n      <th>2014</th>\n      <td>chr1</td>\n      <td>70004</td>\n      <td>T</td>\n      <td>C</td>\n      <td>hg38</td>\n      <td>Q8NH21</td>\n      <td>ENST00000335137.4</td>\n      <td>F305S</td>\n      <td>0.1053</td>\n      <td>likely_benign</td>\n    </tr>\n    <tr>\n      <th>2015</th>\n      <td>chr1</td>\n      <td>70004</td>\n      <td>T</td>\n      <td>A</td>\n      <td>hg38</td>\n      <td>Q8NH21</td>\n      <td>ENST00000335137.4</td>\n      <td>F305Y</td>\n      <td>0.0795</td>\n      <td>likely_benign</td>\n    </tr>\n    <tr>\n      <th>2016</th>\n      <td>chr1</td>\n      <td>70005</td>\n      <td>T</td>\n      <td>G</td>\n      <td>hg38</td>\n      <td>Q8NH21</td>\n      <td>ENST00000335137.4</td>\n      <td>F305L</td>\n      <td>0.3187</td>\n      <td>likely_benign</td>\n    </tr>\n    <tr>\n      <th>2017</th>\n      <td>chr1</td>\n      <td>70005</td>\n      <td>T</td>\n      <td>A</td>\n      <td>hg38</td>\n      <td>Q8NH21</td>\n      <td>ENST00000335137.4</td>\n      <td>F305L</td>\n      <td>0.3187</td>\n      <td>likely_benign</td>\n    </tr>\n  </tbody>\n</table>\n<p>2018 rows × 10 columns</p>\n</div>"
     },
     "execution_count": 49,
     "metadata": {},
     "output_type": "execute_result"
    }
   ],
   "source": [
    "alpha_missense[alpha_missense['transcript_id'].str.contains('ENST00000335137')]"
   ],
   "metadata": {
    "collapsed": false,
    "ExecuteTime": {
     "end_time": "2023-12-23T01:52:08.810813700Z",
     "start_time": "2023-12-23T01:51:48.236710900Z"
    }
   },
   "id": "c70b1142db472add"
  },
  {
   "cell_type": "code",
   "execution_count": 50,
   "outputs": [
    {
     "data": {
      "text/plain": "      Chrom        Pos Ref Alt     AF  RefCount  AltCount   GT  PS  \\\n0      chr1     963249   G   A  0.303        22         9  0/1 NaN   \n1      chr1    2412394   C   T  0.391        14         8  0/1 NaN   \n2      chr1    2512914   G   T  0.488        21        19  0/1 NaN   \n3      chr1    2561696   C   T  0.320        24        12  0/1 NaN   \n4      chr1    2789833   C   A  0.534         6         7  0/1 NaN   \n...     ...        ...  ..  ..    ...       ...       ...  ...  ..   \n13274  chrX  153954753   T   C  0.857         0         6  0/1 NaN   \n13275  chrM       8764   G   A  0.923         0        12  1|1 NaN   \n13276  chrM       9055   G   A  0.952         0        20  1|1 NaN   \n13277  chrM      11025   T   C  0.946         0        19  1|1 NaN   \n13278  chrM      14798   T   C  0.964         0        28  1|1 NaN   \n\n      VariantType  ... DidaID DidaName GwasDisease GwasPmID GTexGene  \\\n0             SNP  ...    NaN      NaN         NaN      NaN      NaN   \n1             SNP  ...    NaN      NaN         NaN      NaN      NaN   \n2             SNP  ...    NaN      NaN         NaN      NaN      NaN   \n3             SNP  ...    NaN      NaN         NaN      NaN      NaN   \n4             SNP  ...    NaN      NaN         NaN      NaN      NaN   \n...           ...  ...    ...      ...         ...      ...      ...   \n13274         SNP  ...    NaN      NaN         NaN      NaN      NaN   \n13275         SNP  ...    NaN      NaN         NaN      NaN      NaN   \n13276         SNP  ...    NaN      NaN         NaN      NaN      NaN   \n13277         SNP  ...    NaN      NaN         NaN      NaN      NaN   \n13278         SNP  ...    NaN      NaN         NaN      NaN      NaN   \n\n          ModelID EntrezGeneID       transcript_id am_pathogenicity  \\\n0      ACH-000856     339451.0   ENST00000338591.8           0.9941   \n1      ACH-000856       5192.0   ENST00000447513.6           0.1815   \n2      ACH-000856      55229.0   ENST00000378466.9           0.9989   \n3      ACH-000856       8764.0   ENST00000355716.4           0.1136   \n4      ACH-000856  100287898.0                 NaN              NaN   \n...           ...          ...                 ...              ...   \n13274  ACH-000234       3054.0  ENST00000310441.12           0.0608   \n13275  ACH-000234       4508.0   ENST00000361899.2           0.1314   \n13276  ACH-000234       4508.0   ENST00000361899.2           0.1589   \n13277  ACH-000234       4538.0   ENST00000361381.2           0.1123   \n13278  ACH-000234       4519.0   ENST00000361789.2           0.4004   \n\n                am_class  \n0      likely_pathogenic  \n1          likely_benign  \n2      likely_pathogenic  \n3          likely_benign  \n4                    NaN  \n...                  ...  \n13274      likely_benign  \n13275      likely_benign  \n13276      likely_benign  \n13277      likely_benign  \n13278          ambiguous  \n\n[13279 rows x 59 columns]",
      "text/html": "<div>\n<style scoped>\n    .dataframe tbody tr th:only-of-type {\n        vertical-align: middle;\n    }\n\n    .dataframe tbody tr th {\n        vertical-align: top;\n    }\n\n    .dataframe thead th {\n        text-align: right;\n    }\n</style>\n<table border=\"1\" class=\"dataframe\">\n  <thead>\n    <tr style=\"text-align: right;\">\n      <th></th>\n      <th>Chrom</th>\n      <th>Pos</th>\n      <th>Ref</th>\n      <th>Alt</th>\n      <th>AF</th>\n      <th>RefCount</th>\n      <th>AltCount</th>\n      <th>GT</th>\n      <th>PS</th>\n      <th>VariantType</th>\n      <th>...</th>\n      <th>DidaID</th>\n      <th>DidaName</th>\n      <th>GwasDisease</th>\n      <th>GwasPmID</th>\n      <th>GTexGene</th>\n      <th>ModelID</th>\n      <th>EntrezGeneID</th>\n      <th>transcript_id</th>\n      <th>am_pathogenicity</th>\n      <th>am_class</th>\n    </tr>\n  </thead>\n  <tbody>\n    <tr>\n      <th>0</th>\n      <td>chr1</td>\n      <td>963249</td>\n      <td>G</td>\n      <td>A</td>\n      <td>0.303</td>\n      <td>22</td>\n      <td>9</td>\n      <td>0/1</td>\n      <td>NaN</td>\n      <td>SNP</td>\n      <td>...</td>\n      <td>NaN</td>\n      <td>NaN</td>\n      <td>NaN</td>\n      <td>NaN</td>\n      <td>NaN</td>\n      <td>ACH-000856</td>\n      <td>339451.0</td>\n      <td>ENST00000338591.8</td>\n      <td>0.9941</td>\n      <td>likely_pathogenic</td>\n    </tr>\n    <tr>\n      <th>1</th>\n      <td>chr1</td>\n      <td>2412394</td>\n      <td>C</td>\n      <td>T</td>\n      <td>0.391</td>\n      <td>14</td>\n      <td>8</td>\n      <td>0/1</td>\n      <td>NaN</td>\n      <td>SNP</td>\n      <td>...</td>\n      <td>NaN</td>\n      <td>NaN</td>\n      <td>NaN</td>\n      <td>NaN</td>\n      <td>NaN</td>\n      <td>ACH-000856</td>\n      <td>5192.0</td>\n      <td>ENST00000447513.6</td>\n      <td>0.1815</td>\n      <td>likely_benign</td>\n    </tr>\n    <tr>\n      <th>2</th>\n      <td>chr1</td>\n      <td>2512914</td>\n      <td>G</td>\n      <td>T</td>\n      <td>0.488</td>\n      <td>21</td>\n      <td>19</td>\n      <td>0/1</td>\n      <td>NaN</td>\n      <td>SNP</td>\n      <td>...</td>\n      <td>NaN</td>\n      <td>NaN</td>\n      <td>NaN</td>\n      <td>NaN</td>\n      <td>NaN</td>\n      <td>ACH-000856</td>\n      <td>55229.0</td>\n      <td>ENST00000378466.9</td>\n      <td>0.9989</td>\n      <td>likely_pathogenic</td>\n    </tr>\n    <tr>\n      <th>3</th>\n      <td>chr1</td>\n      <td>2561696</td>\n      <td>C</td>\n      <td>T</td>\n      <td>0.320</td>\n      <td>24</td>\n      <td>12</td>\n      <td>0/1</td>\n      <td>NaN</td>\n      <td>SNP</td>\n      <td>...</td>\n      <td>NaN</td>\n      <td>NaN</td>\n      <td>NaN</td>\n      <td>NaN</td>\n      <td>NaN</td>\n      <td>ACH-000856</td>\n      <td>8764.0</td>\n      <td>ENST00000355716.4</td>\n      <td>0.1136</td>\n      <td>likely_benign</td>\n    </tr>\n    <tr>\n      <th>4</th>\n      <td>chr1</td>\n      <td>2789833</td>\n      <td>C</td>\n      <td>A</td>\n      <td>0.534</td>\n      <td>6</td>\n      <td>7</td>\n      <td>0/1</td>\n      <td>NaN</td>\n      <td>SNP</td>\n      <td>...</td>\n      <td>NaN</td>\n      <td>NaN</td>\n      <td>NaN</td>\n      <td>NaN</td>\n      <td>NaN</td>\n      <td>ACH-000856</td>\n      <td>100287898.0</td>\n      <td>NaN</td>\n      <td>NaN</td>\n      <td>NaN</td>\n    </tr>\n    <tr>\n      <th>...</th>\n      <td>...</td>\n      <td>...</td>\n      <td>...</td>\n      <td>...</td>\n      <td>...</td>\n      <td>...</td>\n      <td>...</td>\n      <td>...</td>\n      <td>...</td>\n      <td>...</td>\n      <td>...</td>\n      <td>...</td>\n      <td>...</td>\n      <td>...</td>\n      <td>...</td>\n      <td>...</td>\n      <td>...</td>\n      <td>...</td>\n      <td>...</td>\n      <td>...</td>\n      <td>...</td>\n    </tr>\n    <tr>\n      <th>13274</th>\n      <td>chrX</td>\n      <td>153954753</td>\n      <td>T</td>\n      <td>C</td>\n      <td>0.857</td>\n      <td>0</td>\n      <td>6</td>\n      <td>0/1</td>\n      <td>NaN</td>\n      <td>SNP</td>\n      <td>...</td>\n      <td>NaN</td>\n      <td>NaN</td>\n      <td>NaN</td>\n      <td>NaN</td>\n      <td>NaN</td>\n      <td>ACH-000234</td>\n      <td>3054.0</td>\n      <td>ENST00000310441.12</td>\n      <td>0.0608</td>\n      <td>likely_benign</td>\n    </tr>\n    <tr>\n      <th>13275</th>\n      <td>chrM</td>\n      <td>8764</td>\n      <td>G</td>\n      <td>A</td>\n      <td>0.923</td>\n      <td>0</td>\n      <td>12</td>\n      <td>1|1</td>\n      <td>NaN</td>\n      <td>SNP</td>\n      <td>...</td>\n      <td>NaN</td>\n      <td>NaN</td>\n      <td>NaN</td>\n      <td>NaN</td>\n      <td>NaN</td>\n      <td>ACH-000234</td>\n      <td>4508.0</td>\n      <td>ENST00000361899.2</td>\n      <td>0.1314</td>\n      <td>likely_benign</td>\n    </tr>\n    <tr>\n      <th>13276</th>\n      <td>chrM</td>\n      <td>9055</td>\n      <td>G</td>\n      <td>A</td>\n      <td>0.952</td>\n      <td>0</td>\n      <td>20</td>\n      <td>1|1</td>\n      <td>NaN</td>\n      <td>SNP</td>\n      <td>...</td>\n      <td>NaN</td>\n      <td>NaN</td>\n      <td>NaN</td>\n      <td>NaN</td>\n      <td>NaN</td>\n      <td>ACH-000234</td>\n      <td>4508.0</td>\n      <td>ENST00000361899.2</td>\n      <td>0.1589</td>\n      <td>likely_benign</td>\n    </tr>\n    <tr>\n      <th>13277</th>\n      <td>chrM</td>\n      <td>11025</td>\n      <td>T</td>\n      <td>C</td>\n      <td>0.946</td>\n      <td>0</td>\n      <td>19</td>\n      <td>1|1</td>\n      <td>NaN</td>\n      <td>SNP</td>\n      <td>...</td>\n      <td>NaN</td>\n      <td>NaN</td>\n      <td>NaN</td>\n      <td>NaN</td>\n      <td>NaN</td>\n      <td>ACH-000234</td>\n      <td>4538.0</td>\n      <td>ENST00000361381.2</td>\n      <td>0.1123</td>\n      <td>likely_benign</td>\n    </tr>\n    <tr>\n      <th>13278</th>\n      <td>chrM</td>\n      <td>14798</td>\n      <td>T</td>\n      <td>C</td>\n      <td>0.964</td>\n      <td>0</td>\n      <td>28</td>\n      <td>1|1</td>\n      <td>NaN</td>\n      <td>SNP</td>\n      <td>...</td>\n      <td>NaN</td>\n      <td>NaN</td>\n      <td>NaN</td>\n      <td>NaN</td>\n      <td>NaN</td>\n      <td>ACH-000234</td>\n      <td>4519.0</td>\n      <td>ENST00000361789.2</td>\n      <td>0.4004</td>\n      <td>ambiguous</td>\n    </tr>\n  </tbody>\n</table>\n<p>13279 rows × 59 columns</p>\n</div>"
     },
     "execution_count": 50,
     "metadata": {},
     "output_type": "execute_result"
    }
   ],
   "source": [
    "# Rename columns in alpha_missense df to match those in missense_mutations for the merging criteria\n",
    "alpha_missense.rename(columns={'#CHROM': 'Chrom', 'POS': 'Pos', 'REF': 'Ref', 'ALT': 'Alt'}, inplace=True)\n",
    "\n",
    "# Now, merge the DataFrames\n",
    "missense_mutations_extended = missense_mutations.merge(alpha_missense[['Chrom', 'Pos', 'Ref', 'Alt', 'transcript_id', 'am_pathogenicity', 'am_class']], \n",
    "                on=['Chrom', 'Pos', 'Ref', 'Alt'], \n",
    "                how='left')\n",
    "\n",
    "missense_mutations_extended"
   ],
   "metadata": {
    "collapsed": false,
    "ExecuteTime": {
     "end_time": "2023-12-23T01:52:53.965615900Z",
     "start_time": "2023-12-23T01:52:16.766950300Z"
    }
   },
   "id": "dfe29df168181f1f"
  },
  {
   "cell_type": "code",
   "execution_count": 56,
   "outputs": [],
   "source": [
    "missense_mutations_isoforms = missense_mutations_extended[missense_mutations_extended['am_pathogenicity'].isnull()]"
   ],
   "metadata": {
    "collapsed": false,
    "ExecuteTime": {
     "end_time": "2023-12-23T02:09:51.044450300Z",
     "start_time": "2023-12-23T02:09:50.997561500Z"
    }
   },
   "id": "8c8b174a50253bbd"
  },
  {
   "cell_type": "code",
   "execution_count": null,
   "outputs": [],
   "source": [
    "missense_mutations_extended[(missense_mutations_extended['am_class'].isnull()) & (missense_mutations_extended['VariantType'] == 'SNP')]"
   ],
   "metadata": {
    "collapsed": false
   },
   "id": "2c7d04336824d15c"
  },
  {
   "cell_type": "code",
   "execution_count": 51,
   "outputs": [],
   "source": [
    "alpha_missense_isoforms = pd.read_csv(data_path + '\\\\alphamissense\\\\AlphaMissense_isoforms_hg38.tsv', skiprows=3, sep='\\t')"
   ],
   "metadata": {
    "collapsed": false,
    "ExecuteTime": {
     "end_time": "2023-12-23T01:57:40.110874500Z",
     "start_time": "2023-12-23T01:54:12.852006400Z"
    }
   },
   "id": "67b2e457cbd92f8"
  },
  {
   "cell_type": "code",
   "execution_count": 52,
   "outputs": [
    {
     "data": {
      "text/plain": "  #CHROM    POS REF ALT genome      transcript_id protein_variant  \\\n0   chr1  65568   A   C   hg38  ENST00000641515.2             K2Q   \n1   chr1  65568   A   G   hg38  ENST00000641515.2             K2E   \n2   chr1  65569   A   G   hg38  ENST00000641515.2             K2R   \n3   chr1  65569   A   T   hg38  ENST00000641515.2             K2M   \n4   chr1  65569   A   C   hg38  ENST00000641515.2             K2T   \n\n   am_pathogenicity       am_class  \n0            0.0938  likely_benign  \n1            0.0766  likely_benign  \n2            0.0756  likely_benign  \n3            0.1732  likely_benign  \n4            0.1186  likely_benign  ",
      "text/html": "<div>\n<style scoped>\n    .dataframe tbody tr th:only-of-type {\n        vertical-align: middle;\n    }\n\n    .dataframe tbody tr th {\n        vertical-align: top;\n    }\n\n    .dataframe thead th {\n        text-align: right;\n    }\n</style>\n<table border=\"1\" class=\"dataframe\">\n  <thead>\n    <tr style=\"text-align: right;\">\n      <th></th>\n      <th>#CHROM</th>\n      <th>POS</th>\n      <th>REF</th>\n      <th>ALT</th>\n      <th>genome</th>\n      <th>transcript_id</th>\n      <th>protein_variant</th>\n      <th>am_pathogenicity</th>\n      <th>am_class</th>\n    </tr>\n  </thead>\n  <tbody>\n    <tr>\n      <th>0</th>\n      <td>chr1</td>\n      <td>65568</td>\n      <td>A</td>\n      <td>C</td>\n      <td>hg38</td>\n      <td>ENST00000641515.2</td>\n      <td>K2Q</td>\n      <td>0.0938</td>\n      <td>likely_benign</td>\n    </tr>\n    <tr>\n      <th>1</th>\n      <td>chr1</td>\n      <td>65568</td>\n      <td>A</td>\n      <td>G</td>\n      <td>hg38</td>\n      <td>ENST00000641515.2</td>\n      <td>K2E</td>\n      <td>0.0766</td>\n      <td>likely_benign</td>\n    </tr>\n    <tr>\n      <th>2</th>\n      <td>chr1</td>\n      <td>65569</td>\n      <td>A</td>\n      <td>G</td>\n      <td>hg38</td>\n      <td>ENST00000641515.2</td>\n      <td>K2R</td>\n      <td>0.0756</td>\n      <td>likely_benign</td>\n    </tr>\n    <tr>\n      <th>3</th>\n      <td>chr1</td>\n      <td>65569</td>\n      <td>A</td>\n      <td>T</td>\n      <td>hg38</td>\n      <td>ENST00000641515.2</td>\n      <td>K2M</td>\n      <td>0.1732</td>\n      <td>likely_benign</td>\n    </tr>\n    <tr>\n      <th>4</th>\n      <td>chr1</td>\n      <td>65569</td>\n      <td>A</td>\n      <td>C</td>\n      <td>hg38</td>\n      <td>ENST00000641515.2</td>\n      <td>K2T</td>\n      <td>0.1186</td>\n      <td>likely_benign</td>\n    </tr>\n  </tbody>\n</table>\n</div>"
     },
     "execution_count": 52,
     "metadata": {},
     "output_type": "execute_result"
    }
   ],
   "source": [
    "alpha_missense_isoforms.head()"
   ],
   "metadata": {
    "collapsed": false,
    "ExecuteTime": {
     "end_time": "2023-12-23T01:58:18.557241900Z",
     "start_time": "2023-12-23T01:58:18.506015300Z"
    }
   },
   "id": "5ae8dd6704e6e582"
  },
  {
   "cell_type": "code",
   "execution_count": 57,
   "outputs": [
    {
     "data": {
      "text/plain": "  Chrom       Pos Ref Alt     AF  RefCount  AltCount   GT          PS  \\\n0  chr1   2789833   C   A  0.534         6         7  0/1         NaN   \n1  chr1  12777228  GT  AA  0.214        33         9  0|1  12777228.0   \n2  chr1  12777427  GA  AG  0.155        38         6  0|1  12777421.0   \n3  chr1  12859754  CC  TG  0.222        20         5  0|1  12859749.0   \n4  chr1  12861232  AC  TG  0.315        13         6  0/1         NaN   \n\n  VariantType  ... DidaID DidaName GwasDisease GwasPmID GTexGene     ModelID  \\\n0         SNP  ...    NaN      NaN         NaN      NaN      NaN  ACH-000856   \n1         DNP  ...    NaN      NaN         NaN      NaN      NaN  ACH-000856   \n2         DNP  ...    NaN      NaN         NaN      NaN      NaN  ACH-000856   \n3         DNP  ...    NaN      NaN         NaN      NaN      NaN  ACH-000856   \n4         DNP  ...    NaN      NaN         NaN      NaN      NaN  ACH-000856   \n\n  EntrezGeneID  transcript_id am_pathogenicity       am_class  \n0  100287898.0            NaN            0.087  likely_benign  \n1     390999.0            NaN              NaN            NaN  \n2     390999.0            NaN              NaN            NaN  \n3      65122.0            NaN              NaN            NaN  \n4      65122.0            NaN              NaN            NaN  \n\n[5 rows x 59 columns]",
      "text/html": "<div>\n<style scoped>\n    .dataframe tbody tr th:only-of-type {\n        vertical-align: middle;\n    }\n\n    .dataframe tbody tr th {\n        vertical-align: top;\n    }\n\n    .dataframe thead th {\n        text-align: right;\n    }\n</style>\n<table border=\"1\" class=\"dataframe\">\n  <thead>\n    <tr style=\"text-align: right;\">\n      <th></th>\n      <th>Chrom</th>\n      <th>Pos</th>\n      <th>Ref</th>\n      <th>Alt</th>\n      <th>AF</th>\n      <th>RefCount</th>\n      <th>AltCount</th>\n      <th>GT</th>\n      <th>PS</th>\n      <th>VariantType</th>\n      <th>...</th>\n      <th>DidaID</th>\n      <th>DidaName</th>\n      <th>GwasDisease</th>\n      <th>GwasPmID</th>\n      <th>GTexGene</th>\n      <th>ModelID</th>\n      <th>EntrezGeneID</th>\n      <th>transcript_id</th>\n      <th>am_pathogenicity</th>\n      <th>am_class</th>\n    </tr>\n  </thead>\n  <tbody>\n    <tr>\n      <th>0</th>\n      <td>chr1</td>\n      <td>2789833</td>\n      <td>C</td>\n      <td>A</td>\n      <td>0.534</td>\n      <td>6</td>\n      <td>7</td>\n      <td>0/1</td>\n      <td>NaN</td>\n      <td>SNP</td>\n      <td>...</td>\n      <td>NaN</td>\n      <td>NaN</td>\n      <td>NaN</td>\n      <td>NaN</td>\n      <td>NaN</td>\n      <td>ACH-000856</td>\n      <td>100287898.0</td>\n      <td>NaN</td>\n      <td>0.087</td>\n      <td>likely_benign</td>\n    </tr>\n    <tr>\n      <th>1</th>\n      <td>chr1</td>\n      <td>12777228</td>\n      <td>GT</td>\n      <td>AA</td>\n      <td>0.214</td>\n      <td>33</td>\n      <td>9</td>\n      <td>0|1</td>\n      <td>12777228.0</td>\n      <td>DNP</td>\n      <td>...</td>\n      <td>NaN</td>\n      <td>NaN</td>\n      <td>NaN</td>\n      <td>NaN</td>\n      <td>NaN</td>\n      <td>ACH-000856</td>\n      <td>390999.0</td>\n      <td>NaN</td>\n      <td>NaN</td>\n      <td>NaN</td>\n    </tr>\n    <tr>\n      <th>2</th>\n      <td>chr1</td>\n      <td>12777427</td>\n      <td>GA</td>\n      <td>AG</td>\n      <td>0.155</td>\n      <td>38</td>\n      <td>6</td>\n      <td>0|1</td>\n      <td>12777421.0</td>\n      <td>DNP</td>\n      <td>...</td>\n      <td>NaN</td>\n      <td>NaN</td>\n      <td>NaN</td>\n      <td>NaN</td>\n      <td>NaN</td>\n      <td>ACH-000856</td>\n      <td>390999.0</td>\n      <td>NaN</td>\n      <td>NaN</td>\n      <td>NaN</td>\n    </tr>\n    <tr>\n      <th>3</th>\n      <td>chr1</td>\n      <td>12859754</td>\n      <td>CC</td>\n      <td>TG</td>\n      <td>0.222</td>\n      <td>20</td>\n      <td>5</td>\n      <td>0|1</td>\n      <td>12859749.0</td>\n      <td>DNP</td>\n      <td>...</td>\n      <td>NaN</td>\n      <td>NaN</td>\n      <td>NaN</td>\n      <td>NaN</td>\n      <td>NaN</td>\n      <td>ACH-000856</td>\n      <td>65122.0</td>\n      <td>NaN</td>\n      <td>NaN</td>\n      <td>NaN</td>\n    </tr>\n    <tr>\n      <th>4</th>\n      <td>chr1</td>\n      <td>12861232</td>\n      <td>AC</td>\n      <td>TG</td>\n      <td>0.315</td>\n      <td>13</td>\n      <td>6</td>\n      <td>0/1</td>\n      <td>NaN</td>\n      <td>DNP</td>\n      <td>...</td>\n      <td>NaN</td>\n      <td>NaN</td>\n      <td>NaN</td>\n      <td>NaN</td>\n      <td>NaN</td>\n      <td>ACH-000856</td>\n      <td>65122.0</td>\n      <td>NaN</td>\n      <td>NaN</td>\n      <td>NaN</td>\n    </tr>\n  </tbody>\n</table>\n<p>5 rows × 59 columns</p>\n</div>"
     },
     "execution_count": 57,
     "metadata": {},
     "output_type": "execute_result"
    }
   ],
   "source": [
    "# Rename columns in alpha_missense_isoforms df to match those in missense_mutations for the merging criteria\n",
    "alpha_missense_isoforms.rename(columns={'#CHROM': 'Chrom', 'POS': 'Pos', 'REF': 'Ref', 'ALT': 'Alt'}, inplace=True)\n",
    "\n",
    "missense_mutations_isoforms = missense_mutations_isoforms.drop(columns=['am_pathogenicity', 'am_class'])\n",
    "\n",
    "# Now, merge the DataFrames\n",
    "missense_mutations_isoforms_extended = missense_mutations_isoforms.merge(alpha_missense_isoforms[['Chrom', 'Pos', 'Ref', 'Alt', 'am_pathogenicity', 'am_class']], \n",
    "                on=['Chrom', 'Pos', 'Ref', 'Alt'], \n",
    "                how='left')\n",
    "\n",
    "missense_mutations_isoforms_extended.head()"
   ],
   "metadata": {
    "collapsed": false,
    "ExecuteTime": {
     "end_time": "2023-12-23T02:12:02.309491200Z",
     "start_time": "2023-12-23T02:10:40.469771200Z"
    }
   },
   "id": "69aea83629f769bd"
  },
  {
   "cell_type": "code",
   "execution_count": 59,
   "outputs": [
    {
     "name": "stdout",
     "output_type": "stream",
     "text": [
      "13279\n",
      "2311\n",
      "15590\n"
     ]
    }
   ],
   "source": [
    "missense_complete = pd.concat([missense_mutations_isoforms_extended, missense_mutations_extended])\n",
    "\n",
    "print(len(missense_mutations_extended))\n",
    "print(len(missense_mutations_isoforms_extended))\n",
    "print(len(missense_complete))"
   ],
   "metadata": {
    "collapsed": false,
    "ExecuteTime": {
     "end_time": "2023-12-23T02:15:12.520560400Z",
     "start_time": "2023-12-23T02:15:12.436676600Z"
    }
   },
   "id": "ff3d280f6d8a8467"
  },
  {
   "cell_type": "code",
   "execution_count": 61,
   "outputs": [
    {
     "data": {
      "text/plain": "      Chrom        Pos Ref Alt     AF  RefCount  AltCount   GT  PS  \\\n0      chr1    2789833   C   A  0.534         6         7  0/1 NaN   \n6      chr1   20144618   T   C  0.344        19         9  0/1 NaN   \n8      chr1  153765060   C   T  0.550        18        22  0/1 NaN   \n9      chr1  153765060   C   T  0.550        18        22  0/1 NaN   \n11     chr2   20253922   C   T  0.629        13        23  0/1 NaN   \n...     ...        ...  ..  ..    ...       ...       ...  ...  ..   \n13274  chrX  153954753   T   C  0.857         0         6  0/1 NaN   \n13275  chrM       8764   G   A  0.923         0        12  1|1 NaN   \n13276  chrM       9055   G   A  0.952         0        20  1|1 NaN   \n13277  chrM      11025   T   C  0.946         0        19  1|1 NaN   \n13278  chrM      14798   T   C  0.964         0        28  1|1 NaN   \n\n      VariantType  ... DidaID DidaName GwasDisease GwasPmID GTexGene  \\\n0             SNP  ...    NaN      NaN         NaN      NaN      NaN   \n6             SNP  ...    NaN      NaN         NaN      NaN      NaN   \n8             SNP  ...    NaN      NaN         NaN      NaN      NaN   \n9             SNP  ...    NaN      NaN         NaN      NaN      NaN   \n11            SNP  ...    NaN      NaN         NaN      NaN      NaN   \n...           ...  ...    ...      ...         ...      ...      ...   \n13274         SNP  ...    NaN      NaN         NaN      NaN      NaN   \n13275         SNP  ...    NaN      NaN         NaN      NaN      NaN   \n13276         SNP  ...    NaN      NaN         NaN      NaN      NaN   \n13277         SNP  ...    NaN      NaN         NaN      NaN      NaN   \n13278         SNP  ...    NaN      NaN         NaN      NaN      NaN   \n\n          ModelID EntrezGeneID       transcript_id am_pathogenicity  \\\n0      ACH-000856  100287898.0                 NaN           0.0870   \n6      ACH-000856      64600.0                 NaN           0.5294   \n8      ACH-000856      65123.0                 NaN           0.3609   \n9      ACH-000856      65123.0                 NaN           0.3640   \n11     ACH-000856      23369.0                 NaN           0.6862   \n...           ...          ...                 ...              ...   \n13274  ACH-000234       3054.0  ENST00000310441.12           0.0608   \n13275  ACH-000234       4508.0   ENST00000361899.2           0.1314   \n13276  ACH-000234       4508.0   ENST00000361899.2           0.1589   \n13277  ACH-000234       4538.0   ENST00000361381.2           0.1123   \n13278  ACH-000234       4519.0   ENST00000361789.2           0.4004   \n\n                am_class  \n0          likely_benign  \n6              ambiguous  \n8              ambiguous  \n9              ambiguous  \n11     likely_pathogenic  \n...                  ...  \n13274      likely_benign  \n13275      likely_benign  \n13276      likely_benign  \n13277      likely_benign  \n13278          ambiguous  \n\n[13236 rows x 59 columns]",
      "text/html": "<div>\n<style scoped>\n    .dataframe tbody tr th:only-of-type {\n        vertical-align: middle;\n    }\n\n    .dataframe tbody tr th {\n        vertical-align: top;\n    }\n\n    .dataframe thead th {\n        text-align: right;\n    }\n</style>\n<table border=\"1\" class=\"dataframe\">\n  <thead>\n    <tr style=\"text-align: right;\">\n      <th></th>\n      <th>Chrom</th>\n      <th>Pos</th>\n      <th>Ref</th>\n      <th>Alt</th>\n      <th>AF</th>\n      <th>RefCount</th>\n      <th>AltCount</th>\n      <th>GT</th>\n      <th>PS</th>\n      <th>VariantType</th>\n      <th>...</th>\n      <th>DidaID</th>\n      <th>DidaName</th>\n      <th>GwasDisease</th>\n      <th>GwasPmID</th>\n      <th>GTexGene</th>\n      <th>ModelID</th>\n      <th>EntrezGeneID</th>\n      <th>transcript_id</th>\n      <th>am_pathogenicity</th>\n      <th>am_class</th>\n    </tr>\n  </thead>\n  <tbody>\n    <tr>\n      <th>0</th>\n      <td>chr1</td>\n      <td>2789833</td>\n      <td>C</td>\n      <td>A</td>\n      <td>0.534</td>\n      <td>6</td>\n      <td>7</td>\n      <td>0/1</td>\n      <td>NaN</td>\n      <td>SNP</td>\n      <td>...</td>\n      <td>NaN</td>\n      <td>NaN</td>\n      <td>NaN</td>\n      <td>NaN</td>\n      <td>NaN</td>\n      <td>ACH-000856</td>\n      <td>100287898.0</td>\n      <td>NaN</td>\n      <td>0.0870</td>\n      <td>likely_benign</td>\n    </tr>\n    <tr>\n      <th>6</th>\n      <td>chr1</td>\n      <td>20144618</td>\n      <td>T</td>\n      <td>C</td>\n      <td>0.344</td>\n      <td>19</td>\n      <td>9</td>\n      <td>0/1</td>\n      <td>NaN</td>\n      <td>SNP</td>\n      <td>...</td>\n      <td>NaN</td>\n      <td>NaN</td>\n      <td>NaN</td>\n      <td>NaN</td>\n      <td>NaN</td>\n      <td>ACH-000856</td>\n      <td>64600.0</td>\n      <td>NaN</td>\n      <td>0.5294</td>\n      <td>ambiguous</td>\n    </tr>\n    <tr>\n      <th>8</th>\n      <td>chr1</td>\n      <td>153765060</td>\n      <td>C</td>\n      <td>T</td>\n      <td>0.550</td>\n      <td>18</td>\n      <td>22</td>\n      <td>0/1</td>\n      <td>NaN</td>\n      <td>SNP</td>\n      <td>...</td>\n      <td>NaN</td>\n      <td>NaN</td>\n      <td>NaN</td>\n      <td>NaN</td>\n      <td>NaN</td>\n      <td>ACH-000856</td>\n      <td>65123.0</td>\n      <td>NaN</td>\n      <td>0.3609</td>\n      <td>ambiguous</td>\n    </tr>\n    <tr>\n      <th>9</th>\n      <td>chr1</td>\n      <td>153765060</td>\n      <td>C</td>\n      <td>T</td>\n      <td>0.550</td>\n      <td>18</td>\n      <td>22</td>\n      <td>0/1</td>\n      <td>NaN</td>\n      <td>SNP</td>\n      <td>...</td>\n      <td>NaN</td>\n      <td>NaN</td>\n      <td>NaN</td>\n      <td>NaN</td>\n      <td>NaN</td>\n      <td>ACH-000856</td>\n      <td>65123.0</td>\n      <td>NaN</td>\n      <td>0.3640</td>\n      <td>ambiguous</td>\n    </tr>\n    <tr>\n      <th>11</th>\n      <td>chr2</td>\n      <td>20253922</td>\n      <td>C</td>\n      <td>T</td>\n      <td>0.629</td>\n      <td>13</td>\n      <td>23</td>\n      <td>0/1</td>\n      <td>NaN</td>\n      <td>SNP</td>\n      <td>...</td>\n      <td>NaN</td>\n      <td>NaN</td>\n      <td>NaN</td>\n      <td>NaN</td>\n      <td>NaN</td>\n      <td>ACH-000856</td>\n      <td>23369.0</td>\n      <td>NaN</td>\n      <td>0.6862</td>\n      <td>likely_pathogenic</td>\n    </tr>\n    <tr>\n      <th>...</th>\n      <td>...</td>\n      <td>...</td>\n      <td>...</td>\n      <td>...</td>\n      <td>...</td>\n      <td>...</td>\n      <td>...</td>\n      <td>...</td>\n      <td>...</td>\n      <td>...</td>\n      <td>...</td>\n      <td>...</td>\n      <td>...</td>\n      <td>...</td>\n      <td>...</td>\n      <td>...</td>\n      <td>...</td>\n      <td>...</td>\n      <td>...</td>\n      <td>...</td>\n      <td>...</td>\n    </tr>\n    <tr>\n      <th>13274</th>\n      <td>chrX</td>\n      <td>153954753</td>\n      <td>T</td>\n      <td>C</td>\n      <td>0.857</td>\n      <td>0</td>\n      <td>6</td>\n      <td>0/1</td>\n      <td>NaN</td>\n      <td>SNP</td>\n      <td>...</td>\n      <td>NaN</td>\n      <td>NaN</td>\n      <td>NaN</td>\n      <td>NaN</td>\n      <td>NaN</td>\n      <td>ACH-000234</td>\n      <td>3054.0</td>\n      <td>ENST00000310441.12</td>\n      <td>0.0608</td>\n      <td>likely_benign</td>\n    </tr>\n    <tr>\n      <th>13275</th>\n      <td>chrM</td>\n      <td>8764</td>\n      <td>G</td>\n      <td>A</td>\n      <td>0.923</td>\n      <td>0</td>\n      <td>12</td>\n      <td>1|1</td>\n      <td>NaN</td>\n      <td>SNP</td>\n      <td>...</td>\n      <td>NaN</td>\n      <td>NaN</td>\n      <td>NaN</td>\n      <td>NaN</td>\n      <td>NaN</td>\n      <td>ACH-000234</td>\n      <td>4508.0</td>\n      <td>ENST00000361899.2</td>\n      <td>0.1314</td>\n      <td>likely_benign</td>\n    </tr>\n    <tr>\n      <th>13276</th>\n      <td>chrM</td>\n      <td>9055</td>\n      <td>G</td>\n      <td>A</td>\n      <td>0.952</td>\n      <td>0</td>\n      <td>20</td>\n      <td>1|1</td>\n      <td>NaN</td>\n      <td>SNP</td>\n      <td>...</td>\n      <td>NaN</td>\n      <td>NaN</td>\n      <td>NaN</td>\n      <td>NaN</td>\n      <td>NaN</td>\n      <td>ACH-000234</td>\n      <td>4508.0</td>\n      <td>ENST00000361899.2</td>\n      <td>0.1589</td>\n      <td>likely_benign</td>\n    </tr>\n    <tr>\n      <th>13277</th>\n      <td>chrM</td>\n      <td>11025</td>\n      <td>T</td>\n      <td>C</td>\n      <td>0.946</td>\n      <td>0</td>\n      <td>19</td>\n      <td>1|1</td>\n      <td>NaN</td>\n      <td>SNP</td>\n      <td>...</td>\n      <td>NaN</td>\n      <td>NaN</td>\n      <td>NaN</td>\n      <td>NaN</td>\n      <td>NaN</td>\n      <td>ACH-000234</td>\n      <td>4538.0</td>\n      <td>ENST00000361381.2</td>\n      <td>0.1123</td>\n      <td>likely_benign</td>\n    </tr>\n    <tr>\n      <th>13278</th>\n      <td>chrM</td>\n      <td>14798</td>\n      <td>T</td>\n      <td>C</td>\n      <td>0.964</td>\n      <td>0</td>\n      <td>28</td>\n      <td>1|1</td>\n      <td>NaN</td>\n      <td>SNP</td>\n      <td>...</td>\n      <td>NaN</td>\n      <td>NaN</td>\n      <td>NaN</td>\n      <td>NaN</td>\n      <td>NaN</td>\n      <td>ACH-000234</td>\n      <td>4519.0</td>\n      <td>ENST00000361789.2</td>\n      <td>0.4004</td>\n      <td>ambiguous</td>\n    </tr>\n  </tbody>\n</table>\n<p>13236 rows × 59 columns</p>\n</div>"
     },
     "execution_count": 61,
     "metadata": {},
     "output_type": "execute_result"
    }
   ],
   "source": [
    "missense_complete[~missense_complete['am_pathogenicity'].isnull()]"
   ],
   "metadata": {
    "collapsed": false,
    "ExecuteTime": {
     "end_time": "2023-12-23T02:18:44.850808900Z",
     "start_time": "2023-12-23T02:18:44.775028200Z"
    }
   },
   "id": "adfa628ebe264bbb"
  },
  {
   "cell_type": "code",
   "execution_count": 62,
   "outputs": [
    {
     "data": {
      "text/plain": "likely_benign        8987\nlikely_pathogenic    2948\nambiguous            1301\nName: am_class, dtype: int64"
     },
     "execution_count": 62,
     "metadata": {},
     "output_type": "execute_result"
    }
   ],
   "source": [
    "missense_complete[~missense_complete['am_pathogenicity'].isnull()]['am_class'].value_counts()"
   ],
   "metadata": {
    "collapsed": false,
    "ExecuteTime": {
     "end_time": "2023-12-23T02:20:09.153895900Z",
     "start_time": "2023-12-23T02:20:09.081696400Z"
    }
   },
   "id": "64bd1e27930fd61"
  },
  {
   "cell_type": "code",
   "execution_count": 67,
   "outputs": [
    {
     "data": {
      "text/plain": "[('chr1', 935380, '-', 20849626768)]"
     },
     "execution_count": 67,
     "metadata": {},
     "output_type": "execute_result"
    }
   ],
   "source": [
    "from pyliftover import LiftOver\n",
    "lo = LiftOver('hg38', 'hg19')\n",
    "lo.convert_coordinate('chr1', 1000000, '-')"
   ],
   "metadata": {
    "collapsed": false,
    "ExecuteTime": {
     "end_time": "2023-12-23T03:15:33.311906500Z",
     "start_time": "2023-12-23T03:15:30.401991500Z"
    }
   },
   "id": "c7537567d16ee45b"
  },
  {
   "cell_type": "code",
   "execution_count": null,
   "outputs": [],
   "source": [
    "mut_df['hg19 translation'] = mut_df.map() "
   ],
   "metadata": {
    "collapsed": false
   },
   "id": "49bb81721de27367"
  },
  {
   "cell_type": "code",
   "execution_count": 108,
   "outputs": [
    {
     "data": {
      "text/plain": "          Chrom      Pos Ref Alt genome uniprot_id       transcript_id  \\\n10649352  chr11  7313831   A   G   hg38     Q86SS6  ENST00000318881.11   \n10649353  chr11  7313831   A   T   hg38     Q86SS6  ENST00000318881.11   \n\n         protein_variant  am_pathogenicity           am_class  \n10649352           R312G            0.9982  likely_pathogenic  \n10649353           R312W            0.9968  likely_pathogenic  ",
      "text/html": "<div>\n<style scoped>\n    .dataframe tbody tr th:only-of-type {\n        vertical-align: middle;\n    }\n\n    .dataframe tbody tr th {\n        vertical-align: top;\n    }\n\n    .dataframe thead th {\n        text-align: right;\n    }\n</style>\n<table border=\"1\" class=\"dataframe\">\n  <thead>\n    <tr style=\"text-align: right;\">\n      <th></th>\n      <th>Chrom</th>\n      <th>Pos</th>\n      <th>Ref</th>\n      <th>Alt</th>\n      <th>genome</th>\n      <th>uniprot_id</th>\n      <th>transcript_id</th>\n      <th>protein_variant</th>\n      <th>am_pathogenicity</th>\n      <th>am_class</th>\n    </tr>\n  </thead>\n  <tbody>\n    <tr>\n      <th>10649352</th>\n      <td>chr11</td>\n      <td>7313831</td>\n      <td>A</td>\n      <td>G</td>\n      <td>hg38</td>\n      <td>Q86SS6</td>\n      <td>ENST00000318881.11</td>\n      <td>R312G</td>\n      <td>0.9982</td>\n      <td>likely_pathogenic</td>\n    </tr>\n    <tr>\n      <th>10649353</th>\n      <td>chr11</td>\n      <td>7313831</td>\n      <td>A</td>\n      <td>T</td>\n      <td>hg38</td>\n      <td>Q86SS6</td>\n      <td>ENST00000318881.11</td>\n      <td>R312W</td>\n      <td>0.9968</td>\n      <td>likely_pathogenic</td>\n    </tr>\n  </tbody>\n</table>\n</div>"
     },
     "execution_count": 108,
     "metadata": {},
     "output_type": "execute_result"
    }
   ],
   "source": [
    "# manually checking some fathmm-xf results against alpha missense\n",
    "alpha_missense[(alpha_missense['Chrom']=='chr11') & (alpha_missense['Pos']==7313831)]"
   ],
   "metadata": {
    "collapsed": false,
    "ExecuteTime": {
     "end_time": "2023-12-23T06:05:51.366707300Z",
     "start_time": "2023-12-23T06:05:51.150645600Z"
    }
   },
   "id": "2ba09213164f8878"
  },
  {
   "cell_type": "code",
   "execution_count": null,
   "outputs": [],
   "source": [],
   "metadata": {
    "collapsed": false
   },
   "id": "764de6e2b22c26aa"
  }
 ],
 "metadata": {
  "kernelspec": {
   "display_name": "Python 3",
   "language": "python",
   "name": "python3"
  },
  "language_info": {
   "codemirror_mode": {
    "name": "ipython",
    "version": 2
   },
   "file_extension": ".py",
   "mimetype": "text/x-python",
   "name": "python",
   "nbconvert_exporter": "python",
   "pygments_lexer": "ipython2",
   "version": "2.7.6"
  }
 },
 "nbformat": 4,
 "nbformat_minor": 5
}
