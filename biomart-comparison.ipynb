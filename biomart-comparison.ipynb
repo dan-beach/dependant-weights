{
 "cells": [
  {
   "cell_type": "code",
   "execution_count": 1,
   "id": "initial_id",
   "metadata": {
    "collapsed": true,
    "ExecuteTime": {
     "end_time": "2023-12-21T18:31:51.010419700Z",
     "start_time": "2023-12-21T18:31:50.688626800Z"
    }
   },
   "outputs": [],
   "source": [
    "import pandas as pd\n",
    "import os"
   ]
  },
  {
   "cell_type": "code",
   "execution_count": 2,
   "outputs": [
    {
     "data": {
      "text/plain": "['biomart',\n 'depmap',\n 'ensembl_biomart_21_12_23.csv',\n 'missing_gene_names.csv',\n 'pathway_commons',\n 'reactome',\n 'reactome_rows_to_drop.csv',\n 'string']"
     },
     "execution_count": 2,
     "metadata": {},
     "output_type": "execute_result"
    }
   ],
   "source": [
    "#os.getcwd()\n",
    "\n",
    "# Linux workstation\n",
    "#data_path = '/home/db600/phd/data/'\n",
    "\n",
    "# Laptop\n",
    "data_path = 'C:\\\\Users\\\\dan\\\\Documents\\\\phd\\\\data\\\\'\n",
    "\n",
    "os.listdir(data_path)"
   ],
   "metadata": {
    "collapsed": false,
    "ExecuteTime": {
     "end_time": "2023-12-21T18:31:51.730396800Z",
     "start_time": "2023-12-21T18:31:51.714785700Z"
    }
   },
   "id": "2184b72d0aa97f8"
  },
  {
   "cell_type": "code",
   "execution_count": 23,
   "outputs": [],
   "source": [
    "# Load the ensembl and HGNC biomart data and preview both\n",
    "ensembl_biomart = pd.read_csv(data_path + 'biomart\\\\ensembl_biomart_21_12_23.csv')\n",
    "hgnc_biomart = pd.read_csv(data_path + 'biomart\\\\hgnc_biomart_21_12_23.txt', sep='\\t')"
   ],
   "metadata": {
    "collapsed": false,
    "ExecuteTime": {
     "end_time": "2023-12-21T19:30:28.579881200Z",
     "start_time": "2023-12-21T19:30:28.343715100Z"
    }
   },
   "id": "6efc8111549472d0"
  },
  {
   "cell_type": "code",
   "execution_count": 8,
   "outputs": [
    {
     "data": {
      "text/plain": "   Unnamed: 0   Gene stable ID HGNC symbol Chromosome/scaffold name  \\\n0           0  ENSG00000198888      MT-ND1                       MT   \n1           1  ENSG00000198763      MT-ND2                       MT   \n2           2  ENSG00000198804      MT-CO1                       MT   \n3           3  ENSG00000198712      MT-CO2                       MT   \n4           4  ENSG00000228253     MT-ATP8                       MT   \n\n  Transcript stable ID Protein stable ID UniProtKB/TrEMBL ID  \\\n0      ENST00000361390   ENSP00000354687              U5Z754   \n1      ENST00000361453   ENSP00000355046              Q7GXY9   \n2      ENST00000361624   ENSP00000354499              U5YWV7   \n3      ENST00000361739   ENSP00000354876              U5Z487   \n4      ENST00000361851   ENSP00000355265              U5YV54   \n\n  UniProtKB/Swiss-Prot ID  \n0                  P03886  \n1                  P03891  \n2                  P00395  \n3                  P00403  \n4                  P03928  ",
      "text/html": "<div>\n<style scoped>\n    .dataframe tbody tr th:only-of-type {\n        vertical-align: middle;\n    }\n\n    .dataframe tbody tr th {\n        vertical-align: top;\n    }\n\n    .dataframe thead th {\n        text-align: right;\n    }\n</style>\n<table border=\"1\" class=\"dataframe\">\n  <thead>\n    <tr style=\"text-align: right;\">\n      <th></th>\n      <th>Unnamed: 0</th>\n      <th>Gene stable ID</th>\n      <th>HGNC symbol</th>\n      <th>Chromosome/scaffold name</th>\n      <th>Transcript stable ID</th>\n      <th>Protein stable ID</th>\n      <th>UniProtKB/TrEMBL ID</th>\n      <th>UniProtKB/Swiss-Prot ID</th>\n    </tr>\n  </thead>\n  <tbody>\n    <tr>\n      <th>0</th>\n      <td>0</td>\n      <td>ENSG00000198888</td>\n      <td>MT-ND1</td>\n      <td>MT</td>\n      <td>ENST00000361390</td>\n      <td>ENSP00000354687</td>\n      <td>U5Z754</td>\n      <td>P03886</td>\n    </tr>\n    <tr>\n      <th>1</th>\n      <td>1</td>\n      <td>ENSG00000198763</td>\n      <td>MT-ND2</td>\n      <td>MT</td>\n      <td>ENST00000361453</td>\n      <td>ENSP00000355046</td>\n      <td>Q7GXY9</td>\n      <td>P03891</td>\n    </tr>\n    <tr>\n      <th>2</th>\n      <td>2</td>\n      <td>ENSG00000198804</td>\n      <td>MT-CO1</td>\n      <td>MT</td>\n      <td>ENST00000361624</td>\n      <td>ENSP00000354499</td>\n      <td>U5YWV7</td>\n      <td>P00395</td>\n    </tr>\n    <tr>\n      <th>3</th>\n      <td>3</td>\n      <td>ENSG00000198712</td>\n      <td>MT-CO2</td>\n      <td>MT</td>\n      <td>ENST00000361739</td>\n      <td>ENSP00000354876</td>\n      <td>U5Z487</td>\n      <td>P00403</td>\n    </tr>\n    <tr>\n      <th>4</th>\n      <td>4</td>\n      <td>ENSG00000228253</td>\n      <td>MT-ATP8</td>\n      <td>MT</td>\n      <td>ENST00000361851</td>\n      <td>ENSP00000355265</td>\n      <td>U5YV54</td>\n      <td>P03928</td>\n    </tr>\n  </tbody>\n</table>\n</div>"
     },
     "execution_count": 8,
     "metadata": {},
     "output_type": "execute_result"
    }
   ],
   "source": [
    "ensembl_biomart.head()"
   ],
   "metadata": {
    "collapsed": false,
    "ExecuteTime": {
     "end_time": "2023-12-21T18:34:41.561878700Z",
     "start_time": "2023-12-21T18:34:41.551758600Z"
    }
   },
   "id": "3b8f9305dc92ba9d"
  },
  {
   "cell_type": "code",
   "execution_count": 24,
   "outputs": [
    {
     "data": {
      "text/plain": "      HGNC ID    Status Approved symbol UniProt accession  Ensembl gene ID  \\\n0      HGNC:5  Approved            A1BG            P04217  ENSG00000121410   \n1  HGNC:24086  Approved            A1CF            Q9NQ94  ENSG00000148584   \n2  HGNC:24086  Approved            A1CF            Q9NQ94  ENSG00000148584   \n3  HGNC:24086  Approved            A1CF            Q9NQ94  ENSG00000148584   \n4  HGNC:24086  Approved            A1CF            Q9NQ94  ENSG00000148584   \n\n                    Approved name Alias symbol Previous symbol Alias name  \\\n0          alpha-1-B glycoprotein          NaN             NaN        NaN   \n1  APOBEC1 complementation factor          ACF             NaN        NaN   \n2  APOBEC1 complementation factor          ASP             NaN        NaN   \n3  APOBEC1 complementation factor        ACF64             NaN        NaN   \n4  APOBEC1 complementation factor        ACF65             NaN        NaN   \n\n   NCBI gene ID  \n0           1.0  \n1       29974.0  \n2       29974.0  \n3       29974.0  \n4       29974.0  ",
      "text/html": "<div>\n<style scoped>\n    .dataframe tbody tr th:only-of-type {\n        vertical-align: middle;\n    }\n\n    .dataframe tbody tr th {\n        vertical-align: top;\n    }\n\n    .dataframe thead th {\n        text-align: right;\n    }\n</style>\n<table border=\"1\" class=\"dataframe\">\n  <thead>\n    <tr style=\"text-align: right;\">\n      <th></th>\n      <th>HGNC ID</th>\n      <th>Status</th>\n      <th>Approved symbol</th>\n      <th>UniProt accession</th>\n      <th>Ensembl gene ID</th>\n      <th>Approved name</th>\n      <th>Alias symbol</th>\n      <th>Previous symbol</th>\n      <th>Alias name</th>\n      <th>NCBI gene ID</th>\n    </tr>\n  </thead>\n  <tbody>\n    <tr>\n      <th>0</th>\n      <td>HGNC:5</td>\n      <td>Approved</td>\n      <td>A1BG</td>\n      <td>P04217</td>\n      <td>ENSG00000121410</td>\n      <td>alpha-1-B glycoprotein</td>\n      <td>NaN</td>\n      <td>NaN</td>\n      <td>NaN</td>\n      <td>1.0</td>\n    </tr>\n    <tr>\n      <th>1</th>\n      <td>HGNC:24086</td>\n      <td>Approved</td>\n      <td>A1CF</td>\n      <td>Q9NQ94</td>\n      <td>ENSG00000148584</td>\n      <td>APOBEC1 complementation factor</td>\n      <td>ACF</td>\n      <td>NaN</td>\n      <td>NaN</td>\n      <td>29974.0</td>\n    </tr>\n    <tr>\n      <th>2</th>\n      <td>HGNC:24086</td>\n      <td>Approved</td>\n      <td>A1CF</td>\n      <td>Q9NQ94</td>\n      <td>ENSG00000148584</td>\n      <td>APOBEC1 complementation factor</td>\n      <td>ASP</td>\n      <td>NaN</td>\n      <td>NaN</td>\n      <td>29974.0</td>\n    </tr>\n    <tr>\n      <th>3</th>\n      <td>HGNC:24086</td>\n      <td>Approved</td>\n      <td>A1CF</td>\n      <td>Q9NQ94</td>\n      <td>ENSG00000148584</td>\n      <td>APOBEC1 complementation factor</td>\n      <td>ACF64</td>\n      <td>NaN</td>\n      <td>NaN</td>\n      <td>29974.0</td>\n    </tr>\n    <tr>\n      <th>4</th>\n      <td>HGNC:24086</td>\n      <td>Approved</td>\n      <td>A1CF</td>\n      <td>Q9NQ94</td>\n      <td>ENSG00000148584</td>\n      <td>APOBEC1 complementation factor</td>\n      <td>ACF65</td>\n      <td>NaN</td>\n      <td>NaN</td>\n      <td>29974.0</td>\n    </tr>\n  </tbody>\n</table>\n</div>"
     },
     "execution_count": 24,
     "metadata": {},
     "output_type": "execute_result"
    }
   ],
   "source": [
    "hgnc_biomart.head()"
   ],
   "metadata": {
    "collapsed": false,
    "ExecuteTime": {
     "end_time": "2023-12-21T19:30:32.435512300Z",
     "start_time": "2023-12-21T19:30:32.388606600Z"
    }
   },
   "id": "d6f4b54a71ea3524"
  },
  {
   "cell_type": "code",
   "execution_count": 17,
   "outputs": [
    {
     "name": "stdout",
     "output_type": "stream",
     "text": [
      "19845\n",
      "19393\n",
      "19131\n"
     ]
    }
   ],
   "source": [
    "# See how many unique HGNC symbols are in each and find how many intersecting\n",
    "ensembl_symbols= set(ensembl_biomart['HGNC symbol'])\n",
    "hgnc_symbols= set(hgnc_biomart['Approved symbol'])\n",
    "\n",
    "print(len(ensembl_symbols))\n",
    "print(len(hgnc_symbols))\n",
    "print(len(ensembl_symbols.intersection(hgnc_symbols)))"
   ],
   "metadata": {
    "collapsed": false,
    "ExecuteTime": {
     "end_time": "2023-12-21T19:18:52.571278200Z",
     "start_time": "2023-12-21T19:18:52.555637100Z"
    }
   },
   "id": "7eda462482691907"
  },
  {
   "cell_type": "code",
   "execution_count": 44,
   "outputs": [],
   "source": [
    "# Load the Reactome PPI data and preview\n",
    "reactome_pwc_sif = pd.read_csv(data_path + \"pathway_commons/PathwayCommons12.reactome.hgnc.sif\", sep=\"\\t\") \n",
    "reactome_pwc_sif.columns = ['PARTICIPANT_A', 'INTERACTION_TYPE', 'PARTICIPANT_B'] # Uncomment only if using the SIF\n",
    "\n",
    "reactome_pwc_full = pd.read_csv(data_path + \"pathway_commons/PathwayCommons12.reactome.hgnc.txt\", sep=\"\\t\")\n",
    "reactome_native = pd.read_csv(data_path + '/reactome/reactome.homo_sapiens.interactions.tab-delimited_downloaded_23_10_23.txt', sep=\"\\t\")"
   ],
   "metadata": {
    "collapsed": false,
    "ExecuteTime": {
     "end_time": "2023-12-21T20:12:18.311722200Z",
     "start_time": "2023-12-21T20:12:16.707312300Z"
    }
   },
   "id": "78284b8bab5175bc"
  },
  {
   "cell_type": "code",
   "execution_count": 19,
   "outputs": [
    {
     "data": {
      "text/plain": "  PARTICIPANT_A INTERACTION_TYPE PARTICIPANT_B\n0          A1CF  in-complex-with       APOBEC2\n1          A1CF  in-complex-with      APOBEC3A\n2          A1CF  in-complex-with      APOBEC3B\n3          A1CF  in-complex-with      APOBEC3C\n4          A1CF  in-complex-with      APOBEC3H",
      "text/html": "<div>\n<style scoped>\n    .dataframe tbody tr th:only-of-type {\n        vertical-align: middle;\n    }\n\n    .dataframe tbody tr th {\n        vertical-align: top;\n    }\n\n    .dataframe thead th {\n        text-align: right;\n    }\n</style>\n<table border=\"1\" class=\"dataframe\">\n  <thead>\n    <tr style=\"text-align: right;\">\n      <th></th>\n      <th>PARTICIPANT_A</th>\n      <th>INTERACTION_TYPE</th>\n      <th>PARTICIPANT_B</th>\n    </tr>\n  </thead>\n  <tbody>\n    <tr>\n      <th>0</th>\n      <td>A1CF</td>\n      <td>in-complex-with</td>\n      <td>APOBEC2</td>\n    </tr>\n    <tr>\n      <th>1</th>\n      <td>A1CF</td>\n      <td>in-complex-with</td>\n      <td>APOBEC3A</td>\n    </tr>\n    <tr>\n      <th>2</th>\n      <td>A1CF</td>\n      <td>in-complex-with</td>\n      <td>APOBEC3B</td>\n    </tr>\n    <tr>\n      <th>3</th>\n      <td>A1CF</td>\n      <td>in-complex-with</td>\n      <td>APOBEC3C</td>\n    </tr>\n    <tr>\n      <th>4</th>\n      <td>A1CF</td>\n      <td>in-complex-with</td>\n      <td>APOBEC3H</td>\n    </tr>\n  </tbody>\n</table>\n</div>"
     },
     "execution_count": 19,
     "metadata": {},
     "output_type": "execute_result"
    }
   ],
   "source": [
    "reactome_pwc_sif.head()"
   ],
   "metadata": {
    "collapsed": false,
    "ExecuteTime": {
     "end_time": "2023-12-21T19:24:49.075755300Z",
     "start_time": "2023-12-21T19:24:49.060144Z"
    }
   },
   "id": "9e1bee2333c87c0e"
  },
  {
   "cell_type": "code",
   "execution_count": 36,
   "outputs": [
    {
     "data": {
      "text/plain": "  PARTICIPANT_A INTERACTION_TYPE PARTICIPANT_B INTERACTION_DATA_SOURCE  \\\n0          A1CF  in-complex-with       APOBEC1                Reactome   \n1          A1CF  in-complex-with       APOBEC2                Reactome   \n2          A1CF  in-complex-with      APOBEC3A                Reactome   \n3          A1CF  in-complex-with      APOBEC3B                Reactome   \n4          A1CF  in-complex-with      APOBEC3C                Reactome   \n\n  INTERACTION_PUBMED_ID                                      PATHWAY_NAMES  \\\n0                   NaN  Formation of the Editosome;mRNA Editing: C to ...   \n1                   NaN  Formation of the Editosome;mRNA Editing: C to ...   \n2                   NaN  Formation of the Editosome;mRNA Editing: C to ...   \n3                   NaN  Formation of the Editosome;mRNA Editing: C to ...   \n4                   NaN  Formation of the Editosome;mRNA Editing: C to ...   \n\n                                        MEDIATOR_IDS  \n0  http://pathwaycommons.org/pc12/Complex_5987964...  \n1  http://pathwaycommons.org/pc12/Complex_5987964...  \n2  http://pathwaycommons.org/pc12/Complex_5987964...  \n3  http://pathwaycommons.org/pc12/Complex_5987964...  \n4  http://pathwaycommons.org/pc12/Complex_5987964...  ",
      "text/html": "<div>\n<style scoped>\n    .dataframe tbody tr th:only-of-type {\n        vertical-align: middle;\n    }\n\n    .dataframe tbody tr th {\n        vertical-align: top;\n    }\n\n    .dataframe thead th {\n        text-align: right;\n    }\n</style>\n<table border=\"1\" class=\"dataframe\">\n  <thead>\n    <tr style=\"text-align: right;\">\n      <th></th>\n      <th>PARTICIPANT_A</th>\n      <th>INTERACTION_TYPE</th>\n      <th>PARTICIPANT_B</th>\n      <th>INTERACTION_DATA_SOURCE</th>\n      <th>INTERACTION_PUBMED_ID</th>\n      <th>PATHWAY_NAMES</th>\n      <th>MEDIATOR_IDS</th>\n    </tr>\n  </thead>\n  <tbody>\n    <tr>\n      <th>0</th>\n      <td>A1CF</td>\n      <td>in-complex-with</td>\n      <td>APOBEC1</td>\n      <td>Reactome</td>\n      <td>NaN</td>\n      <td>Formation of the Editosome;mRNA Editing: C to ...</td>\n      <td>http://pathwaycommons.org/pc12/Complex_5987964...</td>\n    </tr>\n    <tr>\n      <th>1</th>\n      <td>A1CF</td>\n      <td>in-complex-with</td>\n      <td>APOBEC2</td>\n      <td>Reactome</td>\n      <td>NaN</td>\n      <td>Formation of the Editosome;mRNA Editing: C to ...</td>\n      <td>http://pathwaycommons.org/pc12/Complex_5987964...</td>\n    </tr>\n    <tr>\n      <th>2</th>\n      <td>A1CF</td>\n      <td>in-complex-with</td>\n      <td>APOBEC3A</td>\n      <td>Reactome</td>\n      <td>NaN</td>\n      <td>Formation of the Editosome;mRNA Editing: C to ...</td>\n      <td>http://pathwaycommons.org/pc12/Complex_5987964...</td>\n    </tr>\n    <tr>\n      <th>3</th>\n      <td>A1CF</td>\n      <td>in-complex-with</td>\n      <td>APOBEC3B</td>\n      <td>Reactome</td>\n      <td>NaN</td>\n      <td>Formation of the Editosome;mRNA Editing: C to ...</td>\n      <td>http://pathwaycommons.org/pc12/Complex_5987964...</td>\n    </tr>\n    <tr>\n      <th>4</th>\n      <td>A1CF</td>\n      <td>in-complex-with</td>\n      <td>APOBEC3C</td>\n      <td>Reactome</td>\n      <td>NaN</td>\n      <td>Formation of the Editosome;mRNA Editing: C to ...</td>\n      <td>http://pathwaycommons.org/pc12/Complex_5987964...</td>\n    </tr>\n  </tbody>\n</table>\n</div>"
     },
     "execution_count": 36,
     "metadata": {},
     "output_type": "execute_result"
    }
   ],
   "source": [
    "reactome_pwc_full.head()"
   ],
   "metadata": {
    "collapsed": false,
    "ExecuteTime": {
     "end_time": "2023-12-21T19:39:42.324513300Z",
     "start_time": "2023-12-21T19:39:42.277220500Z"
    }
   },
   "id": "8f27cb6acd1f5e25"
  },
  {
   "cell_type": "code",
   "execution_count": 46,
   "outputs": [
    {
     "data": {
      "text/plain": "       # Interactor 1 uniprot id  \\\n0               uniprotkb:Q9Y287   \n1               uniprotkb:P37840   \n2               uniprotkb:P0DJI8   \n3               uniprotkb:P06727   \n4               uniprotkb:P01160   \n...                          ...   \n106137          uniprotkb:P08588   \n106138          uniprotkb:P08588   \n106139          uniprotkb:P13945   \n106140          uniprotkb:P13945   \n106141          uniprotkb:P13945   \n\n                             Interactor 1 Ensembl gene id  \\\n0       ENSEMBL:ENST00000378549|ENSEMBL:ENSP0000036781...   \n1       ENSEMBL:ENST00000394989|ENSEMBL:ENST0000039498...   \n2       ENSEMBL:ENST00000356524|ENSEMBL:ENSG0000017343...   \n3       ENSEMBL:ENSG00000110244|ENSEMBL:ENST0000035778...   \n4       ENSEMBL:ENSG00000175206|ENSEMBL:ENSP0000036566...   \n...                                                   ...   \n106137  ENSEMBL:ENSP00000358301|ENSEMBL:ENSG0000004359...   \n106138  ENSEMBL:ENSP00000358301|ENSEMBL:ENSG0000004359...   \n106139  ENSEMBL:ENST00000345060|ENSEMBL:ENSG0000018877...   \n106140  ENSEMBL:ENST00000345060|ENSEMBL:ENSG0000018877...   \n106141  ENSEMBL:ENST00000345060|ENSEMBL:ENSG0000018877...   \n\n       Interactor 1 Entrez Gene id Interactor 2 uniprot id  \\\n0                                -        uniprotkb:Q9Y287   \n1                                -        uniprotkb:P37840   \n2                                -        uniprotkb:P0DJI8   \n3                                -        uniprotkb:P06727   \n4                                -        uniprotkb:P01160   \n...                            ...                     ...   \n106137                           -  reactome:R-ALL-9611688   \n106138                           -  reactome:R-ALL-9611741   \n106139                           -  reactome:R-ALL-9624761   \n106140                           -  reactome:R-ALL-9611841   \n106141                           -  reactome:R-ALL-9611838   \n\n                             Interactor 2 Ensembl gene id  \\\n0       ENSEMBL:ENST00000378549|ENSEMBL:ENSP0000036781...   \n1       ENSEMBL:ENST00000394989|ENSEMBL:ENST0000039498...   \n2       ENSEMBL:ENST00000356524|ENSEMBL:ENSG0000017343...   \n3       ENSEMBL:ENSG00000110244|ENSEMBL:ENST0000035778...   \n4       ENSEMBL:ENSG00000175206|ENSEMBL:ENSP0000036566...   \n...                                                   ...   \n106137                                                  -   \n106138                                                  -   \n106139                                                  -   \n106140                                                  -   \n106141                                                  -   \n\n       Interactor 2 Entrez Gene id      Interaction type  \\\n0                                -  physical association   \n1                                -  physical association   \n2                                -  physical association   \n3                                -  physical association   \n4                                -  physical association   \n...                            ...                   ...   \n106137                           -  physical association   \n106138                           -  physical association   \n106139                           -  physical association   \n106140                           -  physical association   \n106141                           -  physical association   \n\n           Interaction context                    Pubmed references  \n0        reactome:R-HSA-976871                    14690516|10391242  \n1       reactome:R-HSA-1247852                             24243840  \n2        reactome:R-HSA-976898                      19393650|103558  \n3        reactome:R-HSA-976889                             15146166  \n4        reactome:R-HSA-976987                      2142465|2945573  \n...                        ...                                  ...  \n106137  reactome:R-HSA-9611721                             10531390  \n106138  reactome:R-HSA-9611721                             10531390  \n106139  reactome:R-HSA-9611839  23148172|24890609|27965369|16480771  \n106140  reactome:R-HSA-9611839  23148172|24890609|27965369|16480771  \n106141  reactome:R-HSA-9611839  23148172|24890609|27965369|16480771  \n\n[106142 rows x 9 columns]",
      "text/html": "<div>\n<style scoped>\n    .dataframe tbody tr th:only-of-type {\n        vertical-align: middle;\n    }\n\n    .dataframe tbody tr th {\n        vertical-align: top;\n    }\n\n    .dataframe thead th {\n        text-align: right;\n    }\n</style>\n<table border=\"1\" class=\"dataframe\">\n  <thead>\n    <tr style=\"text-align: right;\">\n      <th></th>\n      <th># Interactor 1 uniprot id</th>\n      <th>Interactor 1 Ensembl gene id</th>\n      <th>Interactor 1 Entrez Gene id</th>\n      <th>Interactor 2 uniprot id</th>\n      <th>Interactor 2 Ensembl gene id</th>\n      <th>Interactor 2 Entrez Gene id</th>\n      <th>Interaction type</th>\n      <th>Interaction context</th>\n      <th>Pubmed references</th>\n    </tr>\n  </thead>\n  <tbody>\n    <tr>\n      <th>0</th>\n      <td>uniprotkb:Q9Y287</td>\n      <td>ENSEMBL:ENST00000378549|ENSEMBL:ENSP0000036781...</td>\n      <td>-</td>\n      <td>uniprotkb:Q9Y287</td>\n      <td>ENSEMBL:ENST00000378549|ENSEMBL:ENSP0000036781...</td>\n      <td>-</td>\n      <td>physical association</td>\n      <td>reactome:R-HSA-976871</td>\n      <td>14690516|10391242</td>\n    </tr>\n    <tr>\n      <th>1</th>\n      <td>uniprotkb:P37840</td>\n      <td>ENSEMBL:ENST00000394989|ENSEMBL:ENST0000039498...</td>\n      <td>-</td>\n      <td>uniprotkb:P37840</td>\n      <td>ENSEMBL:ENST00000394989|ENSEMBL:ENST0000039498...</td>\n      <td>-</td>\n      <td>physical association</td>\n      <td>reactome:R-HSA-1247852</td>\n      <td>24243840</td>\n    </tr>\n    <tr>\n      <th>2</th>\n      <td>uniprotkb:P0DJI8</td>\n      <td>ENSEMBL:ENST00000356524|ENSEMBL:ENSG0000017343...</td>\n      <td>-</td>\n      <td>uniprotkb:P0DJI8</td>\n      <td>ENSEMBL:ENST00000356524|ENSEMBL:ENSG0000017343...</td>\n      <td>-</td>\n      <td>physical association</td>\n      <td>reactome:R-HSA-976898</td>\n      <td>19393650|103558</td>\n    </tr>\n    <tr>\n      <th>3</th>\n      <td>uniprotkb:P06727</td>\n      <td>ENSEMBL:ENSG00000110244|ENSEMBL:ENST0000035778...</td>\n      <td>-</td>\n      <td>uniprotkb:P06727</td>\n      <td>ENSEMBL:ENSG00000110244|ENSEMBL:ENST0000035778...</td>\n      <td>-</td>\n      <td>physical association</td>\n      <td>reactome:R-HSA-976889</td>\n      <td>15146166</td>\n    </tr>\n    <tr>\n      <th>4</th>\n      <td>uniprotkb:P01160</td>\n      <td>ENSEMBL:ENSG00000175206|ENSEMBL:ENSP0000036566...</td>\n      <td>-</td>\n      <td>uniprotkb:P01160</td>\n      <td>ENSEMBL:ENSG00000175206|ENSEMBL:ENSP0000036566...</td>\n      <td>-</td>\n      <td>physical association</td>\n      <td>reactome:R-HSA-976987</td>\n      <td>2142465|2945573</td>\n    </tr>\n    <tr>\n      <th>...</th>\n      <td>...</td>\n      <td>...</td>\n      <td>...</td>\n      <td>...</td>\n      <td>...</td>\n      <td>...</td>\n      <td>...</td>\n      <td>...</td>\n      <td>...</td>\n    </tr>\n    <tr>\n      <th>106137</th>\n      <td>uniprotkb:P08588</td>\n      <td>ENSEMBL:ENSP00000358301|ENSEMBL:ENSG0000004359...</td>\n      <td>-</td>\n      <td>reactome:R-ALL-9611688</td>\n      <td>-</td>\n      <td>-</td>\n      <td>physical association</td>\n      <td>reactome:R-HSA-9611721</td>\n      <td>10531390</td>\n    </tr>\n    <tr>\n      <th>106138</th>\n      <td>uniprotkb:P08588</td>\n      <td>ENSEMBL:ENSP00000358301|ENSEMBL:ENSG0000004359...</td>\n      <td>-</td>\n      <td>reactome:R-ALL-9611741</td>\n      <td>-</td>\n      <td>-</td>\n      <td>physical association</td>\n      <td>reactome:R-HSA-9611721</td>\n      <td>10531390</td>\n    </tr>\n    <tr>\n      <th>106139</th>\n      <td>uniprotkb:P13945</td>\n      <td>ENSEMBL:ENST00000345060|ENSEMBL:ENSG0000018877...</td>\n      <td>-</td>\n      <td>reactome:R-ALL-9624761</td>\n      <td>-</td>\n      <td>-</td>\n      <td>physical association</td>\n      <td>reactome:R-HSA-9611839</td>\n      <td>23148172|24890609|27965369|16480771</td>\n    </tr>\n    <tr>\n      <th>106140</th>\n      <td>uniprotkb:P13945</td>\n      <td>ENSEMBL:ENST00000345060|ENSEMBL:ENSG0000018877...</td>\n      <td>-</td>\n      <td>reactome:R-ALL-9611841</td>\n      <td>-</td>\n      <td>-</td>\n      <td>physical association</td>\n      <td>reactome:R-HSA-9611839</td>\n      <td>23148172|24890609|27965369|16480771</td>\n    </tr>\n    <tr>\n      <th>106141</th>\n      <td>uniprotkb:P13945</td>\n      <td>ENSEMBL:ENST00000345060|ENSEMBL:ENSG0000018877...</td>\n      <td>-</td>\n      <td>reactome:R-ALL-9611838</td>\n      <td>-</td>\n      <td>-</td>\n      <td>physical association</td>\n      <td>reactome:R-HSA-9611839</td>\n      <td>23148172|24890609|27965369|16480771</td>\n    </tr>\n  </tbody>\n</table>\n<p>106142 rows × 9 columns</p>\n</div>"
     },
     "execution_count": 46,
     "metadata": {},
     "output_type": "execute_result"
    }
   ],
   "source": [
    "reactome_native"
   ],
   "metadata": {
    "collapsed": false,
    "ExecuteTime": {
     "end_time": "2023-12-21T20:13:24.036273800Z",
     "start_time": "2023-12-21T20:13:24.005009800Z"
    }
   },
   "id": "8711f1d351d11bf9"
  },
  {
   "cell_type": "code",
   "execution_count": 45,
   "outputs": [
    {
     "data": {
      "text/plain": "21892"
     },
     "execution_count": 45,
     "metadata": {},
     "output_type": "execute_result"
    }
   ],
   "source": [
    "reactome_pwc_full = reactome_pwc_full[~reactome_pwc_full['PARTICIPANT_A'].str.contains('CHEBI') & ~reactome_pwc_full['PARTICIPANT_B'].str.contains('CXHEBI')]\n",
    "\n",
    "reactome_pwc_full_genes = set(reactome_pwc_full['PARTICIPANT_A'].tolist() + reactome_pwc_full['PARTICIPANT_B'].tolist())\n",
    "\n",
    "len(reactome_pwc_full_genes)"
   ],
   "metadata": {
    "collapsed": false,
    "ExecuteTime": {
     "end_time": "2023-12-21T20:12:31.950487900Z",
     "start_time": "2023-12-21T20:12:31.697407700Z"
    }
   },
   "id": "5abeb3175eb0d6c0"
  },
  {
   "cell_type": "code",
   "execution_count": 41,
   "outputs": [
    {
     "data": {
      "text/plain": "12323"
     },
     "execution_count": 41,
     "metadata": {},
     "output_type": "execute_result"
    }
   ],
   "source": [
    "reactome_pwc_sif_genes = set(reactome_pwc_sif['PARTICIPANT_A'].tolist() + reactome_pwc_sif['PARTICIPANT_B'].tolist())\n",
    "\n",
    "len(reactome_pwc_sif_genes)"
   ],
   "metadata": {
    "collapsed": false,
    "ExecuteTime": {
     "end_time": "2023-12-21T19:43:23.873393800Z",
     "start_time": "2023-12-21T19:43:23.842137500Z"
    }
   },
   "id": "996e98c0459f9896"
  },
  {
   "cell_type": "code",
   "execution_count": 52,
   "outputs": [
    {
     "data": {
      "text/plain": "                                             Peptide   Gene stable ID  \\\n0  MLLGELGVFASYAFAPLSLIVPLSAVSVIASAIIGIIFIKEKWKPK...  ENSG00000001461   \n1  MSVLLRSGLGPLCAVARAAIPFIWRGKYFSSGNEPAENPVTPMLRH...  ENSG00000003509   \n2  MRPQELPRLAFPLLLLLLLLLPPPPCPAHSATRFDPTWESLDARQL...  ENSG00000001036   \n3  MGLTVSALFSRIFGKKQMRILMVGLDAAGKTTILYKLKLGEIVTTI...  ENSG00000004059   \n4  MQRSPLEKASVVSKLFFSWTRPILRKGYRQRLELSDIYQIPSVDSA...  ENSG00000001626   \n\n  Transcript stable ID Protein stable ID  \n0      ENST00000003912   ENSP00000003912  \n1      ENST00000002125   ENSP00000002125  \n2      ENST00000002165   ENSP00000002165  \n3      ENST00000000233   ENSP00000000233  \n4      ENST00000003084   ENSP00000003084  ",
      "text/html": "<div>\n<style scoped>\n    .dataframe tbody tr th:only-of-type {\n        vertical-align: middle;\n    }\n\n    .dataframe tbody tr th {\n        vertical-align: top;\n    }\n\n    .dataframe thead th {\n        text-align: right;\n    }\n</style>\n<table border=\"1\" class=\"dataframe\">\n  <thead>\n    <tr style=\"text-align: right;\">\n      <th></th>\n      <th>Peptide</th>\n      <th>Gene stable ID</th>\n      <th>Transcript stable ID</th>\n      <th>Protein stable ID</th>\n    </tr>\n  </thead>\n  <tbody>\n    <tr>\n      <th>0</th>\n      <td>MLLGELGVFASYAFAPLSLIVPLSAVSVIASAIIGIIFIKEKWKPK...</td>\n      <td>ENSG00000001461</td>\n      <td>ENST00000003912</td>\n      <td>ENSP00000003912</td>\n    </tr>\n    <tr>\n      <th>1</th>\n      <td>MSVLLRSGLGPLCAVARAAIPFIWRGKYFSSGNEPAENPVTPMLRH...</td>\n      <td>ENSG00000003509</td>\n      <td>ENST00000002125</td>\n      <td>ENSP00000002125</td>\n    </tr>\n    <tr>\n      <th>2</th>\n      <td>MRPQELPRLAFPLLLLLLLLLPPPPCPAHSATRFDPTWESLDARQL...</td>\n      <td>ENSG00000001036</td>\n      <td>ENST00000002165</td>\n      <td>ENSP00000002165</td>\n    </tr>\n    <tr>\n      <th>3</th>\n      <td>MGLTVSALFSRIFGKKQMRILMVGLDAAGKTTILYKLKLGEIVTTI...</td>\n      <td>ENSG00000004059</td>\n      <td>ENST00000000233</td>\n      <td>ENSP00000000233</td>\n    </tr>\n    <tr>\n      <th>4</th>\n      <td>MQRSPLEKASVVSKLFFSWTRPILRKGYRQRLELSDIYQIPSVDSA...</td>\n      <td>ENSG00000001626</td>\n      <td>ENST00000003084</td>\n      <td>ENSP00000003084</td>\n    </tr>\n  </tbody>\n</table>\n</div>"
     },
     "execution_count": 52,
     "metadata": {},
     "output_type": "execute_result"
    }
   ],
   "source": [
    "#load the ensembl biomart fasta file\n",
    "ensembl_biomart_fasta = pd.read_csv(data_path + 'biomart\\\\ensembl_biomart_fasta_22_12_23.csv')\n",
    "\n",
    "ensembl_biomart_fasta = ensembl_biomart_fasta.drop(columns='Unnamed: 0')\n",
    "ensembl_biomart_fasta.head()"
   ],
   "metadata": {
    "collapsed": false,
    "ExecuteTime": {
     "end_time": "2023-12-22T12:06:59.496318400Z",
     "start_time": "2023-12-22T12:06:58.809623800Z"
    }
   },
   "id": "c2c3facaa06273f9"
  },
  {
   "cell_type": "code",
   "execution_count": 56,
   "outputs": [
    {
     "data": {
      "text/plain": "Empty DataFrame\nColumns: [Unnamed: 0, Gene stable ID, HGNC symbol, Chromosome/scaffold name, Transcript stable ID, Protein stable ID, UniProtKB/TrEMBL ID, UniProtKB/Swiss-Prot ID, Peptide]\nIndex: []",
      "text/html": "<div>\n<style scoped>\n    .dataframe tbody tr th:only-of-type {\n        vertical-align: middle;\n    }\n\n    .dataframe tbody tr th {\n        vertical-align: top;\n    }\n\n    .dataframe thead th {\n        text-align: right;\n    }\n</style>\n<table border=\"1\" class=\"dataframe\">\n  <thead>\n    <tr style=\"text-align: right;\">\n      <th></th>\n      <th>Unnamed: 0</th>\n      <th>Gene stable ID</th>\n      <th>HGNC symbol</th>\n      <th>Chromosome/scaffold name</th>\n      <th>Transcript stable ID</th>\n      <th>Protein stable ID</th>\n      <th>UniProtKB/TrEMBL ID</th>\n      <th>UniProtKB/Swiss-Prot ID</th>\n      <th>Peptide</th>\n    </tr>\n  </thead>\n  <tbody>\n  </tbody>\n</table>\n</div>"
     },
     "execution_count": 56,
     "metadata": {},
     "output_type": "execute_result"
    }
   ],
   "source": [
    "merged_df = pd.merge(ensembl_biomart, ensembl_biomart_fasta[['Transcript stable ID', 'Peptide']], on='Transcript stable ID', how='left')\n",
    "merged_df[merged_df['Peptide'] == 'Sequence unavailable']"
   ],
   "metadata": {
    "collapsed": false,
    "ExecuteTime": {
     "end_time": "2023-12-22T12:27:48.651987700Z",
     "start_time": "2023-12-22T12:27:48.477105600Z"
    }
   },
   "id": "46617a41df325994"
  },
  {
   "cell_type": "code",
   "execution_count": 57,
   "outputs": [],
   "source": [
    "merged_df.to_csv(data_path + 'biomart\\\\ensembl_biomart_plus_fasta.csv')"
   ],
   "metadata": {
    "collapsed": false,
    "ExecuteTime": {
     "end_time": "2023-12-22T12:31:07.986460Z",
     "start_time": "2023-12-22T12:31:06.828748200Z"
    }
   },
   "id": "50c39a98e43c9e01"
  }
 ],
 "metadata": {
  "kernelspec": {
   "display_name": "Python 3",
   "language": "python",
   "name": "python3"
  },
  "language_info": {
   "codemirror_mode": {
    "name": "ipython",
    "version": 2
   },
   "file_extension": ".py",
   "mimetype": "text/x-python",
   "name": "python",
   "nbconvert_exporter": "python",
   "pygments_lexer": "ipython2",
   "version": "2.7.6"
  }
 },
 "nbformat": 4,
 "nbformat_minor": 5
}
