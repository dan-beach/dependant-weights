{
 "cells": [
  {
   "cell_type": "code",
   "execution_count": 1,
   "id": "initial_id",
   "metadata": {
    "collapsed": true,
    "ExecuteTime": {
     "end_time": "2023-12-30T00:28:37.401121300Z",
     "start_time": "2023-12-30T00:28:36.475310Z"
    }
   },
   "outputs": [],
   "source": [
    "import pandas as pd\n",
    "import numpy as np\n",
    "import sys\n",
    "import re\n",
    "import functools\n",
    "import json\n",
    "import random\n",
    "import os\n",
    "import math\n",
    "import datetime\n",
    "\n",
    "import matplotlib.pyplot as plt"
   ]
  },
  {
   "cell_type": "code",
   "execution_count": 2,
   "outputs": [],
   "source": [
    "start_time = datetime.datetime.now()"
   ],
   "metadata": {
    "collapsed": false,
    "ExecuteTime": {
     "end_time": "2023-12-30T00:28:37.416691200Z",
     "start_time": "2023-12-30T00:28:37.401121300Z"
    }
   },
   "id": "52534969ef65b81a"
  },
  {
   "cell_type": "code",
   "execution_count": 3,
   "outputs": [
    {
     "data": {
      "text/plain": "['alphamissense',\n 'biomart',\n 'dependant',\n 'depmap',\n 'missing_gene_names.csv',\n 'pathway_commons',\n 'reactome',\n 'reactome_rows_to_drop.csv',\n 'string']"
     },
     "execution_count": 3,
     "metadata": {},
     "output_type": "execute_result"
    }
   ],
   "source": [
    "#os.getcwd()\n",
    "\n",
    "# Linux workstation\n",
    "#data_path = '/home/db600/phd/data/'\n",
    "\n",
    "# Laptop\n",
    "data_path = 'C:\\\\Users\\\\dan\\\\Documents\\\\phd\\\\data\\\\'\n",
    "\n",
    "os.listdir(data_path)"
   ],
   "metadata": {
    "collapsed": false,
    "ExecuteTime": {
     "end_time": "2023-12-30T00:28:37.463990900Z",
     "start_time": "2023-12-30T00:28:37.416691200Z"
    }
   },
   "id": "2e76b46b86413825"
  },
  {
   "cell_type": "code",
   "execution_count": 4,
   "outputs": [],
   "source": [
    "# Define data paths\n",
    "mut_path = data_path + 'depmap\\\\OmicsSomaticMutations.csv'\n",
    "exp_path = data_path + 'depmap\\\\OmicsExpressionProteinCodingGenesTPMLogp1.csv' \n",
    "conv_path = data_path + 'biomart\\\\ensembl_biomart_plus_fasta.csv'"
   ],
   "metadata": {
    "collapsed": false,
    "ExecuteTime": {
     "end_time": "2023-12-30T00:28:37.463990900Z",
     "start_time": "2023-12-30T00:28:37.432320500Z"
    }
   },
   "id": "2c9e98e8d41b7490"
  },
  {
   "cell_type": "code",
   "execution_count": 5,
   "outputs": [],
   "source": [
    "# Set some config variables\n",
    "remove_transcript_versions = False"
   ],
   "metadata": {
    "collapsed": false,
    "ExecuteTime": {
     "end_time": "2023-12-30T00:28:37.463990900Z",
     "start_time": "2023-12-30T00:28:37.448345800Z"
    }
   },
   "id": "25c4bd9295fa04df"
  },
  {
   "cell_type": "code",
   "execution_count": 6,
   "outputs": [],
   "source": [
    "# Read the multi_gene_converter into a DF\n",
    "conv = pd.read_csv(conv_path, header = 0, index_col = 0)\n",
    "conv = conv.drop(columns='Unnamed: 0')"
   ],
   "metadata": {
    "collapsed": false,
    "ExecuteTime": {
     "end_time": "2023-12-30T00:28:38.017853200Z",
     "start_time": "2023-12-30T00:28:37.463990900Z"
    }
   },
   "id": "674ebce3ff7ab4a8"
  },
  {
   "cell_type": "code",
   "execution_count": 7,
   "outputs": [
    {
     "data": {
      "text/plain": "    Gene stable ID HGNC symbol Chromosome/scaffold name Transcript stable ID  \\\n0  ENSG00000198888      MT-ND1                       MT      ENST00000361390   \n1  ENSG00000198763      MT-ND2                       MT      ENST00000361453   \n2  ENSG00000198804      MT-CO1                       MT      ENST00000361624   \n3  ENSG00000198712      MT-CO2                       MT      ENST00000361739   \n4  ENSG00000228253     MT-ATP8                       MT      ENST00000361851   \n\n  Protein stable ID UniProtKB/TrEMBL ID UniProtKB/Swiss-Prot ID  \\\n0   ENSP00000354687              U5Z754                  P03886   \n1   ENSP00000355046              Q7GXY9                  P03891   \n2   ENSP00000354499              U5YWV7                  P00395   \n3   ENSP00000354876              U5Z487                  P00403   \n4   ENSP00000355265              U5YV54                  P03928   \n\n                                             Peptide  \n0  MPMANLLLLIVPILIAMAFLMLTERKILGYMQLRKGPNVVGPYGLL...  \n1  MNPLAQPVIYSTIFAGTLITALSSHWFFTWVGLEMNMLAFIPVLTK...  \n2  MFADRWLFSTNHKDIGTLYLLFGAWAGVLGTALSLLIRAELGQPGN...  \n3  MAHAAQVGLQDATSPIMEELITFHDHALMIIFLICFLVLYALFLTL...  \n4  MPQLNTTVWPTMITPMLLTLFLITQLKMLNTNYHLPPSPKPMKMKN...  ",
      "text/html": "<div>\n<style scoped>\n    .dataframe tbody tr th:only-of-type {\n        vertical-align: middle;\n    }\n\n    .dataframe tbody tr th {\n        vertical-align: top;\n    }\n\n    .dataframe thead th {\n        text-align: right;\n    }\n</style>\n<table border=\"1\" class=\"dataframe\">\n  <thead>\n    <tr style=\"text-align: right;\">\n      <th></th>\n      <th>Gene stable ID</th>\n      <th>HGNC symbol</th>\n      <th>Chromosome/scaffold name</th>\n      <th>Transcript stable ID</th>\n      <th>Protein stable ID</th>\n      <th>UniProtKB/TrEMBL ID</th>\n      <th>UniProtKB/Swiss-Prot ID</th>\n      <th>Peptide</th>\n    </tr>\n  </thead>\n  <tbody>\n    <tr>\n      <th>0</th>\n      <td>ENSG00000198888</td>\n      <td>MT-ND1</td>\n      <td>MT</td>\n      <td>ENST00000361390</td>\n      <td>ENSP00000354687</td>\n      <td>U5Z754</td>\n      <td>P03886</td>\n      <td>MPMANLLLLIVPILIAMAFLMLTERKILGYMQLRKGPNVVGPYGLL...</td>\n    </tr>\n    <tr>\n      <th>1</th>\n      <td>ENSG00000198763</td>\n      <td>MT-ND2</td>\n      <td>MT</td>\n      <td>ENST00000361453</td>\n      <td>ENSP00000355046</td>\n      <td>Q7GXY9</td>\n      <td>P03891</td>\n      <td>MNPLAQPVIYSTIFAGTLITALSSHWFFTWVGLEMNMLAFIPVLTK...</td>\n    </tr>\n    <tr>\n      <th>2</th>\n      <td>ENSG00000198804</td>\n      <td>MT-CO1</td>\n      <td>MT</td>\n      <td>ENST00000361624</td>\n      <td>ENSP00000354499</td>\n      <td>U5YWV7</td>\n      <td>P00395</td>\n      <td>MFADRWLFSTNHKDIGTLYLLFGAWAGVLGTALSLLIRAELGQPGN...</td>\n    </tr>\n    <tr>\n      <th>3</th>\n      <td>ENSG00000198712</td>\n      <td>MT-CO2</td>\n      <td>MT</td>\n      <td>ENST00000361739</td>\n      <td>ENSP00000354876</td>\n      <td>U5Z487</td>\n      <td>P00403</td>\n      <td>MAHAAQVGLQDATSPIMEELITFHDHALMIIFLICFLVLYALFLTL...</td>\n    </tr>\n    <tr>\n      <th>4</th>\n      <td>ENSG00000228253</td>\n      <td>MT-ATP8</td>\n      <td>MT</td>\n      <td>ENST00000361851</td>\n      <td>ENSP00000355265</td>\n      <td>U5YV54</td>\n      <td>P03928</td>\n      <td>MPQLNTTVWPTMITPMLLTLFLITQLKMLNTNYHLPPSPKPMKMKN...</td>\n    </tr>\n  </tbody>\n</table>\n</div>"
     },
     "execution_count": 7,
     "metadata": {},
     "output_type": "execute_result"
    }
   ],
   "source": [
    "conv.head()"
   ],
   "metadata": {
    "collapsed": false,
    "ExecuteTime": {
     "end_time": "2023-12-30T00:28:38.040505100Z",
     "start_time": "2023-12-30T00:28:38.017853200Z"
    }
   },
   "id": "9ce51c982fda35dd"
  },
  {
   "cell_type": "code",
   "execution_count": 8,
   "outputs": [],
   "source": [
    "def load_list(path):\n",
    "    with open(path) as f:\n",
    "        g = json.load(f)\n",
    "    return g\n",
    "\n",
    "kinases_path = \"C:\\\\Users\\\\dan\\\\PycharmProjects\\\\kinase-onc-tsg\\\\data\\\\kinases.json\"\n",
    "oncs_path = \"C:\\\\Users\\\\dan\\\\PycharmProjects\\\\kinase-onc-tsg\\\\data\\\\oncs.json\"\n",
    "tsgs_path = \"C:\\\\Users\\\\dan\\\\PycharmProjects\\\\kinase-onc-tsg\\\\data\\\\tsgs.json\"\n",
    "\n",
    "kinases = load_list(kinases_path)\n",
    "oncs = load_list(oncs_path)\n",
    "tsgs =load_list(tsgs_path)"
   ],
   "metadata": {
    "collapsed": false,
    "ExecuteTime": {
     "end_time": "2023-12-30T00:28:38.065160300Z",
     "start_time": "2023-12-30T00:28:38.033492700Z"
    }
   },
   "id": "6d610ce38158ccdb"
  },
  {
   "cell_type": "code",
   "execution_count": 9,
   "outputs": [
    {
     "data": {
      "text/plain": "             CCLEName\n0      HCC1428_BREAST\n1      HCC1806_BREAST\n2      HCC1937_BREAST\n3     MDAMB231_BREAST\n4       HCC202_BREAST\n5        CAL51_BREAST\n6     MDAMB468_BREAST\n7         KPL1_BREAST\n8     MDAMB415_BREAST\n9     MDAMB157_BREAST\n10    MDAMB453_BREAST\n11     HCC1954_BREAST\n12      HS578T_BREAST\n13       ZR751_BREAST\n14       AU565_BREAST\n15    MDAMB436_BREAST\n16       EFM19_BREAST\n17     HCC1143_BREAST\n18     HCC1395_BREAST\n19   TUHR10TKB_KIDNEY\n20       KMRC1_KIDNEY\n21       SLR23_KIDNEY\n22       OSRC2_KIDNEY\n23      SNU349_KIDNEY\n24       SLR20_KIDNEY\n25     BFTC909_KIDNEY\n26    TUHR4TKB_KIDNEY\n27       CAKI2_KIDNEY\n28       SLR26_KIDNEY\n29      UOK101_KIDNEY\n30  PANC1005_PANCREAS\n31    HS766T_PANCREAS\n32     ASPC1_PANCREAS\n33       KP2_PANCREAS\n34       KP4_PANCREAS\n35  MIAPACA2_PANCREAS\n36    CFPAC1_PANCREAS\n37      PSN1_PANCREAS\n38     HUPT3_PANCREAS",
      "text/html": "<div>\n<style scoped>\n    .dataframe tbody tr th:only-of-type {\n        vertical-align: middle;\n    }\n\n    .dataframe tbody tr th {\n        vertical-align: top;\n    }\n\n    .dataframe thead th {\n        text-align: right;\n    }\n</style>\n<table border=\"1\" class=\"dataframe\">\n  <thead>\n    <tr style=\"text-align: right;\">\n      <th></th>\n      <th>CCLEName</th>\n    </tr>\n  </thead>\n  <tbody>\n    <tr>\n      <th>0</th>\n      <td>HCC1428_BREAST</td>\n    </tr>\n    <tr>\n      <th>1</th>\n      <td>HCC1806_BREAST</td>\n    </tr>\n    <tr>\n      <th>2</th>\n      <td>HCC1937_BREAST</td>\n    </tr>\n    <tr>\n      <th>3</th>\n      <td>MDAMB231_BREAST</td>\n    </tr>\n    <tr>\n      <th>4</th>\n      <td>HCC202_BREAST</td>\n    </tr>\n    <tr>\n      <th>5</th>\n      <td>CAL51_BREAST</td>\n    </tr>\n    <tr>\n      <th>6</th>\n      <td>MDAMB468_BREAST</td>\n    </tr>\n    <tr>\n      <th>7</th>\n      <td>KPL1_BREAST</td>\n    </tr>\n    <tr>\n      <th>8</th>\n      <td>MDAMB415_BREAST</td>\n    </tr>\n    <tr>\n      <th>9</th>\n      <td>MDAMB157_BREAST</td>\n    </tr>\n    <tr>\n      <th>10</th>\n      <td>MDAMB453_BREAST</td>\n    </tr>\n    <tr>\n      <th>11</th>\n      <td>HCC1954_BREAST</td>\n    </tr>\n    <tr>\n      <th>12</th>\n      <td>HS578T_BREAST</td>\n    </tr>\n    <tr>\n      <th>13</th>\n      <td>ZR751_BREAST</td>\n    </tr>\n    <tr>\n      <th>14</th>\n      <td>AU565_BREAST</td>\n    </tr>\n    <tr>\n      <th>15</th>\n      <td>MDAMB436_BREAST</td>\n    </tr>\n    <tr>\n      <th>16</th>\n      <td>EFM19_BREAST</td>\n    </tr>\n    <tr>\n      <th>17</th>\n      <td>HCC1143_BREAST</td>\n    </tr>\n    <tr>\n      <th>18</th>\n      <td>HCC1395_BREAST</td>\n    </tr>\n    <tr>\n      <th>19</th>\n      <td>TUHR10TKB_KIDNEY</td>\n    </tr>\n    <tr>\n      <th>20</th>\n      <td>KMRC1_KIDNEY</td>\n    </tr>\n    <tr>\n      <th>21</th>\n      <td>SLR23_KIDNEY</td>\n    </tr>\n    <tr>\n      <th>22</th>\n      <td>OSRC2_KIDNEY</td>\n    </tr>\n    <tr>\n      <th>23</th>\n      <td>SNU349_KIDNEY</td>\n    </tr>\n    <tr>\n      <th>24</th>\n      <td>SLR20_KIDNEY</td>\n    </tr>\n    <tr>\n      <th>25</th>\n      <td>BFTC909_KIDNEY</td>\n    </tr>\n    <tr>\n      <th>26</th>\n      <td>TUHR4TKB_KIDNEY</td>\n    </tr>\n    <tr>\n      <th>27</th>\n      <td>CAKI2_KIDNEY</td>\n    </tr>\n    <tr>\n      <th>28</th>\n      <td>SLR26_KIDNEY</td>\n    </tr>\n    <tr>\n      <th>29</th>\n      <td>UOK101_KIDNEY</td>\n    </tr>\n    <tr>\n      <th>30</th>\n      <td>PANC1005_PANCREAS</td>\n    </tr>\n    <tr>\n      <th>31</th>\n      <td>HS766T_PANCREAS</td>\n    </tr>\n    <tr>\n      <th>32</th>\n      <td>ASPC1_PANCREAS</td>\n    </tr>\n    <tr>\n      <th>33</th>\n      <td>KP2_PANCREAS</td>\n    </tr>\n    <tr>\n      <th>34</th>\n      <td>KP4_PANCREAS</td>\n    </tr>\n    <tr>\n      <th>35</th>\n      <td>MIAPACA2_PANCREAS</td>\n    </tr>\n    <tr>\n      <th>36</th>\n      <td>CFPAC1_PANCREAS</td>\n    </tr>\n    <tr>\n      <th>37</th>\n      <td>PSN1_PANCREAS</td>\n    </tr>\n    <tr>\n      <th>38</th>\n      <td>HUPT3_PANCREAS</td>\n    </tr>\n  </tbody>\n</table>\n</div>"
     },
     "execution_count": 9,
     "metadata": {},
     "output_type": "execute_result"
    }
   ],
   "source": [
    "# Get list of training cell lines used in original program\n",
    "# Manually saved to CSV earlier\n",
    "cell_lines = pd.read_csv(data_path + 'dependant\\\\original_training_cell_lines.csv')\n",
    "cell_lines = cell_lines.rename(columns={'cell_line': 'CCLEName'})\n",
    "cell_lines"
   ],
   "metadata": {
    "collapsed": false,
    "ExecuteTime": {
     "end_time": "2023-12-30T00:28:38.096410700Z",
     "start_time": "2023-12-30T00:28:38.049516Z"
    }
   },
   "id": "f4729a90d47138ec"
  },
  {
   "cell_type": "code",
   "execution_count": 10,
   "outputs": [
    {
     "data": {
      "text/plain": "             CCLEName     ModelID\n0      HCC1428_BREAST  ACH-000352\n1      HCC1806_BREAST  ACH-000624\n2      HCC1937_BREAST  ACH-000223\n3     MDAMB231_BREAST  ACH-000768\n4       HCC202_BREAST  ACH-000725\n5        CAL51_BREAST  ACH-000856\n6     MDAMB468_BREAST  ACH-000849\n7         KPL1_BREAST  ACH-000028\n8     MDAMB415_BREAST  ACH-000876\n9     MDAMB157_BREAST  ACH-000621\n10    MDAMB453_BREAST  ACH-000910\n11     HCC1954_BREAST  ACH-000859\n12      HS578T_BREAST  ACH-000148\n13       ZR751_BREAST  ACH-000097\n14       AU565_BREAST  ACH-000248\n15    MDAMB436_BREAST  ACH-000573\n16       EFM19_BREAST  ACH-000330\n17     HCC1143_BREAST  ACH-000374\n18     HCC1395_BREAST  ACH-000699\n19   TUHR10TKB_KIDNEY  ACH-000459\n20       KMRC1_KIDNEY  ACH-000684\n21       SLR23_KIDNEY  ACH-000246\n22       OSRC2_KIDNEY  ACH-000159\n23      SNU349_KIDNEY  ACH-000907\n24       SLR20_KIDNEY  ACH-000127\n25     BFTC909_KIDNEY  ACH-000792\n26    TUHR4TKB_KIDNEY  ACH-000495\n27       CAKI2_KIDNEY  ACH-000234\n28       SLR26_KIDNEY  ACH-000600\n29      UOK101_KIDNEY  ACH-000262\n30  PANC1005_PANCREAS  ACH-000060\n31    HS766T_PANCREAS  ACH-000178\n32     ASPC1_PANCREAS  ACH-000222\n33       KP2_PANCREAS  ACH-000281\n34       KP4_PANCREAS  ACH-000265\n35  MIAPACA2_PANCREAS  ACH-000601\n36    CFPAC1_PANCREAS  ACH-000138\n37      PSN1_PANCREAS  ACH-000320\n38     HUPT3_PANCREAS  ACH-000118",
      "text/html": "<div>\n<style scoped>\n    .dataframe tbody tr th:only-of-type {\n        vertical-align: middle;\n    }\n\n    .dataframe tbody tr th {\n        vertical-align: top;\n    }\n\n    .dataframe thead th {\n        text-align: right;\n    }\n</style>\n<table border=\"1\" class=\"dataframe\">\n  <thead>\n    <tr style=\"text-align: right;\">\n      <th></th>\n      <th>CCLEName</th>\n      <th>ModelID</th>\n    </tr>\n  </thead>\n  <tbody>\n    <tr>\n      <th>0</th>\n      <td>HCC1428_BREAST</td>\n      <td>ACH-000352</td>\n    </tr>\n    <tr>\n      <th>1</th>\n      <td>HCC1806_BREAST</td>\n      <td>ACH-000624</td>\n    </tr>\n    <tr>\n      <th>2</th>\n      <td>HCC1937_BREAST</td>\n      <td>ACH-000223</td>\n    </tr>\n    <tr>\n      <th>3</th>\n      <td>MDAMB231_BREAST</td>\n      <td>ACH-000768</td>\n    </tr>\n    <tr>\n      <th>4</th>\n      <td>HCC202_BREAST</td>\n      <td>ACH-000725</td>\n    </tr>\n    <tr>\n      <th>5</th>\n      <td>CAL51_BREAST</td>\n      <td>ACH-000856</td>\n    </tr>\n    <tr>\n      <th>6</th>\n      <td>MDAMB468_BREAST</td>\n      <td>ACH-000849</td>\n    </tr>\n    <tr>\n      <th>7</th>\n      <td>KPL1_BREAST</td>\n      <td>ACH-000028</td>\n    </tr>\n    <tr>\n      <th>8</th>\n      <td>MDAMB415_BREAST</td>\n      <td>ACH-000876</td>\n    </tr>\n    <tr>\n      <th>9</th>\n      <td>MDAMB157_BREAST</td>\n      <td>ACH-000621</td>\n    </tr>\n    <tr>\n      <th>10</th>\n      <td>MDAMB453_BREAST</td>\n      <td>ACH-000910</td>\n    </tr>\n    <tr>\n      <th>11</th>\n      <td>HCC1954_BREAST</td>\n      <td>ACH-000859</td>\n    </tr>\n    <tr>\n      <th>12</th>\n      <td>HS578T_BREAST</td>\n      <td>ACH-000148</td>\n    </tr>\n    <tr>\n      <th>13</th>\n      <td>ZR751_BREAST</td>\n      <td>ACH-000097</td>\n    </tr>\n    <tr>\n      <th>14</th>\n      <td>AU565_BREAST</td>\n      <td>ACH-000248</td>\n    </tr>\n    <tr>\n      <th>15</th>\n      <td>MDAMB436_BREAST</td>\n      <td>ACH-000573</td>\n    </tr>\n    <tr>\n      <th>16</th>\n      <td>EFM19_BREAST</td>\n      <td>ACH-000330</td>\n    </tr>\n    <tr>\n      <th>17</th>\n      <td>HCC1143_BREAST</td>\n      <td>ACH-000374</td>\n    </tr>\n    <tr>\n      <th>18</th>\n      <td>HCC1395_BREAST</td>\n      <td>ACH-000699</td>\n    </tr>\n    <tr>\n      <th>19</th>\n      <td>TUHR10TKB_KIDNEY</td>\n      <td>ACH-000459</td>\n    </tr>\n    <tr>\n      <th>20</th>\n      <td>KMRC1_KIDNEY</td>\n      <td>ACH-000684</td>\n    </tr>\n    <tr>\n      <th>21</th>\n      <td>SLR23_KIDNEY</td>\n      <td>ACH-000246</td>\n    </tr>\n    <tr>\n      <th>22</th>\n      <td>OSRC2_KIDNEY</td>\n      <td>ACH-000159</td>\n    </tr>\n    <tr>\n      <th>23</th>\n      <td>SNU349_KIDNEY</td>\n      <td>ACH-000907</td>\n    </tr>\n    <tr>\n      <th>24</th>\n      <td>SLR20_KIDNEY</td>\n      <td>ACH-000127</td>\n    </tr>\n    <tr>\n      <th>25</th>\n      <td>BFTC909_KIDNEY</td>\n      <td>ACH-000792</td>\n    </tr>\n    <tr>\n      <th>26</th>\n      <td>TUHR4TKB_KIDNEY</td>\n      <td>ACH-000495</td>\n    </tr>\n    <tr>\n      <th>27</th>\n      <td>CAKI2_KIDNEY</td>\n      <td>ACH-000234</td>\n    </tr>\n    <tr>\n      <th>28</th>\n      <td>SLR26_KIDNEY</td>\n      <td>ACH-000600</td>\n    </tr>\n    <tr>\n      <th>29</th>\n      <td>UOK101_KIDNEY</td>\n      <td>ACH-000262</td>\n    </tr>\n    <tr>\n      <th>30</th>\n      <td>PANC1005_PANCREAS</td>\n      <td>ACH-000060</td>\n    </tr>\n    <tr>\n      <th>31</th>\n      <td>HS766T_PANCREAS</td>\n      <td>ACH-000178</td>\n    </tr>\n    <tr>\n      <th>32</th>\n      <td>ASPC1_PANCREAS</td>\n      <td>ACH-000222</td>\n    </tr>\n    <tr>\n      <th>33</th>\n      <td>KP2_PANCREAS</td>\n      <td>ACH-000281</td>\n    </tr>\n    <tr>\n      <th>34</th>\n      <td>KP4_PANCREAS</td>\n      <td>ACH-000265</td>\n    </tr>\n    <tr>\n      <th>35</th>\n      <td>MIAPACA2_PANCREAS</td>\n      <td>ACH-000601</td>\n    </tr>\n    <tr>\n      <th>36</th>\n      <td>CFPAC1_PANCREAS</td>\n      <td>ACH-000138</td>\n    </tr>\n    <tr>\n      <th>37</th>\n      <td>PSN1_PANCREAS</td>\n      <td>ACH-000320</td>\n    </tr>\n    <tr>\n      <th>38</th>\n      <td>HUPT3_PANCREAS</td>\n      <td>ACH-000118</td>\n    </tr>\n  </tbody>\n</table>\n</div>"
     },
     "execution_count": 10,
     "metadata": {},
     "output_type": "execute_result"
    }
   ],
   "source": [
    "# Load the DepMap model metadata\n",
    "depmap_model = pd.read_csv(data_path + 'depmap\\\\Model.csv')\n",
    "\n",
    "# Add depmap model ID to the list of 39 original training cell lines\n",
    "cell_lines = pd.merge(cell_lines, depmap_model[['ModelID', 'CCLEName']], on='CCLEName', how='left')\n",
    "\n",
    "# View the cell line list\n",
    "cell_lines"
   ],
   "metadata": {
    "collapsed": false,
    "ExecuteTime": {
     "end_time": "2023-12-30T00:28:38.159341400Z",
     "start_time": "2023-12-30T00:28:38.065160300Z"
    }
   },
   "id": "9af542e32569cad"
  },
  {
   "cell_type": "code",
   "execution_count": 11,
   "outputs": [],
   "source": [
    "# Load the expression and mutation data\n",
    "mutation_df = pd.read_csv(mut_path, low_memory=False)\n",
    "expression_df = pd.read_csv(exp_path)"
   ],
   "metadata": {
    "collapsed": false,
    "ExecuteTime": {
     "end_time": "2023-12-30T00:28:55.990139600Z",
     "start_time": "2023-12-30T00:28:38.096410700Z"
    }
   },
   "id": "3a130920cfe3250d"
  },
  {
   "cell_type": "code",
   "execution_count": 12,
   "outputs": [
    {
     "name": "stdout",
     "output_type": "stream",
     "text": [
      "Mutation rows for cell line 'ACH-000600': 0\n",
      "Expression rows for cell line 'ACH-000600': 0\n",
      "Raw missense SNP rows: 12299\n",
      "Dups removed: 12299\n",
      "Unique transcripts: 7523\n"
     ]
    }
   ],
   "source": [
    "#####################\n",
    "# Checks for later on\n",
    "#####################\n",
    "# Check there are no rows for 'ACH-000600' cell line - was used in original algorithm but now appears to be missing from depmap mutation data\n",
    "print('Mutation rows for cell line \\'ACH-000600\\': ' + str(len(mutation_df[mutation_df['ModelID'] == 'ACH-000600'])))\n",
    "print('Expression rows for cell line \\'ACH-000600\\': ' + str(len(mutation_df[mutation_df['ModelID'] == 'ACH-000600'])))\n",
    "\n",
    "# How many SNP missense mutations are there when you exclude dups across 'Chrom', 'Pos', 'Alt', 'Ref', 'Transcript' cols?\n",
    "# Make the same selection we have for 'missense_snp' later on and print length to screen\n",
    "missense_snp_delta = mutation_df[mutation_df['ModelID'].isin(cell_lines['ModelID'])]\n",
    "missense_snp_delta = missense_snp_delta[(missense_snp_delta['VariantInfo']=='MISSENSE') & (missense_snp_delta['VariantType']=='SNP')]\n",
    "print(f'Raw missense SNP rows: {len(missense_snp_delta)}')\n",
    "\n",
    "# Filter duplicates across a set of cols and print new length to screen\n",
    "missense_snp_delta = missense_snp_delta.drop_duplicates(subset=['Chrom', 'Pos', 'Alt', 'Ref', 'Transcript', 'ModelID'])\n",
    "print(f'Dups removed: {len(missense_snp_delta)}')\n",
    "\n",
    "# How many unique transcripts?\n",
    "print('Unique transcripts: ' + str(len(missense_snp_delta['Transcript'].unique())))\n",
    "\n",
    "del missense_snp_delta"
   ],
   "metadata": {
    "collapsed": false,
    "ExecuteTime": {
     "end_time": "2023-12-30T00:28:56.210154Z",
     "start_time": "2023-12-30T00:28:55.990139600Z"
    }
   },
   "id": "b8c8f33a6b948d4a"
  },
  {
   "cell_type": "code",
   "execution_count": 13,
   "outputs": [
    {
     "data": {
      "text/plain": "   Unnamed: 0  TSPAN6 (7105)  TNMD (64102)  DPM1 (8813)  SCYL3 (57147)  \\\n0  ACH-001113       4.331992      0.000000     7.364660       2.792855   \n1  ACH-001289       4.567424      0.584963     7.106641       2.543496   \n2  ACH-001339       3.150560      0.000000     7.379118       2.333424   \n3  ACH-001538       5.085340      0.000000     7.154211       2.545968   \n4  ACH-000242       6.729417      0.000000     6.537917       2.456806   \n\n   C1orf112 (55732)  FGR (2268)  CFH (3075)  FUCA2 (2519)  GCLC (2729)  ...  \\\n0          4.471187    0.028569    1.226509      3.044394     6.500005  ...   \n1          3.504620    0.000000    0.189034      3.813525     4.221877  ...   \n2          4.228049    0.056584    1.310340      6.687201     3.682573  ...   \n3          3.084064    0.000000    5.868390      6.165309     4.489928  ...   \n4          3.867896    0.799087    7.208478      5.570159     7.127117  ...   \n\n   H3C2 (8358)  H3C3 (8352)  AC098582.1 (8916)  DUS4L-BCAP29 (115253422)  \\\n0     2.689299     0.189034           0.201634                  2.130931   \n1     1.286881     1.049631           0.321928                  1.464668   \n2     0.594549     1.097611           0.831877                  2.946731   \n3     0.214125     0.632268           0.298658                  1.641546   \n4     1.117695     2.358959           0.084064                  1.910733   \n\n   C8orf44-SGK3 (100533105)  ELOA3B (728929)  NPBWR1 (2831)  \\\n0                  0.555816              0.0       0.275007   \n1                  0.632268              0.0       0.014355   \n2                  0.475085              0.0       0.084064   \n3                  0.443607              0.0       0.028569   \n4                  0.000000              0.0       0.464668   \n\n   ELOA3D (100506888)  ELOA3 (162699)  CDR1 (1038)  \n0                 0.0             0.0     0.000000  \n1                 0.0             0.0     0.000000  \n2                 0.0             0.0     0.042644  \n3                 0.0             0.0     0.000000  \n4                 0.0             0.0     0.000000  \n\n[5 rows x 19194 columns]",
      "text/html": "<div>\n<style scoped>\n    .dataframe tbody tr th:only-of-type {\n        vertical-align: middle;\n    }\n\n    .dataframe tbody tr th {\n        vertical-align: top;\n    }\n\n    .dataframe thead th {\n        text-align: right;\n    }\n</style>\n<table border=\"1\" class=\"dataframe\">\n  <thead>\n    <tr style=\"text-align: right;\">\n      <th></th>\n      <th>Unnamed: 0</th>\n      <th>TSPAN6 (7105)</th>\n      <th>TNMD (64102)</th>\n      <th>DPM1 (8813)</th>\n      <th>SCYL3 (57147)</th>\n      <th>C1orf112 (55732)</th>\n      <th>FGR (2268)</th>\n      <th>CFH (3075)</th>\n      <th>FUCA2 (2519)</th>\n      <th>GCLC (2729)</th>\n      <th>...</th>\n      <th>H3C2 (8358)</th>\n      <th>H3C3 (8352)</th>\n      <th>AC098582.1 (8916)</th>\n      <th>DUS4L-BCAP29 (115253422)</th>\n      <th>C8orf44-SGK3 (100533105)</th>\n      <th>ELOA3B (728929)</th>\n      <th>NPBWR1 (2831)</th>\n      <th>ELOA3D (100506888)</th>\n      <th>ELOA3 (162699)</th>\n      <th>CDR1 (1038)</th>\n    </tr>\n  </thead>\n  <tbody>\n    <tr>\n      <th>0</th>\n      <td>ACH-001113</td>\n      <td>4.331992</td>\n      <td>0.000000</td>\n      <td>7.364660</td>\n      <td>2.792855</td>\n      <td>4.471187</td>\n      <td>0.028569</td>\n      <td>1.226509</td>\n      <td>3.044394</td>\n      <td>6.500005</td>\n      <td>...</td>\n      <td>2.689299</td>\n      <td>0.189034</td>\n      <td>0.201634</td>\n      <td>2.130931</td>\n      <td>0.555816</td>\n      <td>0.0</td>\n      <td>0.275007</td>\n      <td>0.0</td>\n      <td>0.0</td>\n      <td>0.000000</td>\n    </tr>\n    <tr>\n      <th>1</th>\n      <td>ACH-001289</td>\n      <td>4.567424</td>\n      <td>0.584963</td>\n      <td>7.106641</td>\n      <td>2.543496</td>\n      <td>3.504620</td>\n      <td>0.000000</td>\n      <td>0.189034</td>\n      <td>3.813525</td>\n      <td>4.221877</td>\n      <td>...</td>\n      <td>1.286881</td>\n      <td>1.049631</td>\n      <td>0.321928</td>\n      <td>1.464668</td>\n      <td>0.632268</td>\n      <td>0.0</td>\n      <td>0.014355</td>\n      <td>0.0</td>\n      <td>0.0</td>\n      <td>0.000000</td>\n    </tr>\n    <tr>\n      <th>2</th>\n      <td>ACH-001339</td>\n      <td>3.150560</td>\n      <td>0.000000</td>\n      <td>7.379118</td>\n      <td>2.333424</td>\n      <td>4.228049</td>\n      <td>0.056584</td>\n      <td>1.310340</td>\n      <td>6.687201</td>\n      <td>3.682573</td>\n      <td>...</td>\n      <td>0.594549</td>\n      <td>1.097611</td>\n      <td>0.831877</td>\n      <td>2.946731</td>\n      <td>0.475085</td>\n      <td>0.0</td>\n      <td>0.084064</td>\n      <td>0.0</td>\n      <td>0.0</td>\n      <td>0.042644</td>\n    </tr>\n    <tr>\n      <th>3</th>\n      <td>ACH-001538</td>\n      <td>5.085340</td>\n      <td>0.000000</td>\n      <td>7.154211</td>\n      <td>2.545968</td>\n      <td>3.084064</td>\n      <td>0.000000</td>\n      <td>5.868390</td>\n      <td>6.165309</td>\n      <td>4.489928</td>\n      <td>...</td>\n      <td>0.214125</td>\n      <td>0.632268</td>\n      <td>0.298658</td>\n      <td>1.641546</td>\n      <td>0.443607</td>\n      <td>0.0</td>\n      <td>0.028569</td>\n      <td>0.0</td>\n      <td>0.0</td>\n      <td>0.000000</td>\n    </tr>\n    <tr>\n      <th>4</th>\n      <td>ACH-000242</td>\n      <td>6.729417</td>\n      <td>0.000000</td>\n      <td>6.537917</td>\n      <td>2.456806</td>\n      <td>3.867896</td>\n      <td>0.799087</td>\n      <td>7.208478</td>\n      <td>5.570159</td>\n      <td>7.127117</td>\n      <td>...</td>\n      <td>1.117695</td>\n      <td>2.358959</td>\n      <td>0.084064</td>\n      <td>1.910733</td>\n      <td>0.000000</td>\n      <td>0.0</td>\n      <td>0.464668</td>\n      <td>0.0</td>\n      <td>0.0</td>\n      <td>0.000000</td>\n    </tr>\n  </tbody>\n</table>\n<p>5 rows × 19194 columns</p>\n</div>"
     },
     "execution_count": 13,
     "metadata": {},
     "output_type": "execute_result"
    }
   ],
   "source": [
    "# Preview expression data\n",
    "expression_df.head()"
   ],
   "metadata": {
    "collapsed": false,
    "ExecuteTime": {
     "end_time": "2023-12-30T00:28:56.256968900Z",
     "start_time": "2023-12-30T00:28:56.210154Z"
    }
   },
   "id": "eb79b7b4929bd055"
  },
  {
   "cell_type": "code",
   "execution_count": 14,
   "outputs": [
    {
     "data": {
      "text/plain": "  Chrom       Pos Ref Alt     AF  RefCount  AltCount   GT          PS  \\\n0  chr1   1242864  GC  CT  0.310        19         8  0/1         NaN   \n1  chr1  10647969   A   G  0.400        29        19  0|1  10647969.0   \n2  chr1  10648097   T   G  0.349        21        10  0/1         NaN   \n3  chr1  13198424   G   A  0.833         0         4  0/1         NaN   \n4  chr1  13225068   A   G  0.396        34        24  0/1         NaN   \n\n  VariantType  ... RevelScore Funseq2Score PharmgkbID DidaID DidaName  \\\n0         DNP  ...        NaN          NaN        NaN    NaN      NaN   \n1         SNP  ...      0.234          3.0        NaN    NaN      NaN   \n2         SNP  ...        NaN          0.0        NaN    NaN      NaN   \n3         SNP  ...      0.002          NaN        NaN    NaN      NaN   \n4         SNP  ...        NaN          0.0        NaN    NaN      NaN   \n\n  GwasDisease GwasPmID  GTexGene     ModelID EntrezGeneID  \n0         NaN      NaN       NaN  ACH-000839     388581.0  \n1         NaN      NaN       NaN  ACH-000839      54897.0  \n2         NaN      NaN       NaN  ACH-000839      54897.0  \n3         NaN      NaN       NaN  ACH-000839     400736.0  \n4         NaN      NaN       NaN  ACH-000839     391003.0  \n\n[5 rows x 56 columns]",
      "text/html": "<div>\n<style scoped>\n    .dataframe tbody tr th:only-of-type {\n        vertical-align: middle;\n    }\n\n    .dataframe tbody tr th {\n        vertical-align: top;\n    }\n\n    .dataframe thead th {\n        text-align: right;\n    }\n</style>\n<table border=\"1\" class=\"dataframe\">\n  <thead>\n    <tr style=\"text-align: right;\">\n      <th></th>\n      <th>Chrom</th>\n      <th>Pos</th>\n      <th>Ref</th>\n      <th>Alt</th>\n      <th>AF</th>\n      <th>RefCount</th>\n      <th>AltCount</th>\n      <th>GT</th>\n      <th>PS</th>\n      <th>VariantType</th>\n      <th>...</th>\n      <th>RevelScore</th>\n      <th>Funseq2Score</th>\n      <th>PharmgkbID</th>\n      <th>DidaID</th>\n      <th>DidaName</th>\n      <th>GwasDisease</th>\n      <th>GwasPmID</th>\n      <th>GTexGene</th>\n      <th>ModelID</th>\n      <th>EntrezGeneID</th>\n    </tr>\n  </thead>\n  <tbody>\n    <tr>\n      <th>0</th>\n      <td>chr1</td>\n      <td>1242864</td>\n      <td>GC</td>\n      <td>CT</td>\n      <td>0.310</td>\n      <td>19</td>\n      <td>8</td>\n      <td>0/1</td>\n      <td>NaN</td>\n      <td>DNP</td>\n      <td>...</td>\n      <td>NaN</td>\n      <td>NaN</td>\n      <td>NaN</td>\n      <td>NaN</td>\n      <td>NaN</td>\n      <td>NaN</td>\n      <td>NaN</td>\n      <td>NaN</td>\n      <td>ACH-000839</td>\n      <td>388581.0</td>\n    </tr>\n    <tr>\n      <th>1</th>\n      <td>chr1</td>\n      <td>10647969</td>\n      <td>A</td>\n      <td>G</td>\n      <td>0.400</td>\n      <td>29</td>\n      <td>19</td>\n      <td>0|1</td>\n      <td>10647969.0</td>\n      <td>SNP</td>\n      <td>...</td>\n      <td>0.234</td>\n      <td>3.0</td>\n      <td>NaN</td>\n      <td>NaN</td>\n      <td>NaN</td>\n      <td>NaN</td>\n      <td>NaN</td>\n      <td>NaN</td>\n      <td>ACH-000839</td>\n      <td>54897.0</td>\n    </tr>\n    <tr>\n      <th>2</th>\n      <td>chr1</td>\n      <td>10648097</td>\n      <td>T</td>\n      <td>G</td>\n      <td>0.349</td>\n      <td>21</td>\n      <td>10</td>\n      <td>0/1</td>\n      <td>NaN</td>\n      <td>SNP</td>\n      <td>...</td>\n      <td>NaN</td>\n      <td>0.0</td>\n      <td>NaN</td>\n      <td>NaN</td>\n      <td>NaN</td>\n      <td>NaN</td>\n      <td>NaN</td>\n      <td>NaN</td>\n      <td>ACH-000839</td>\n      <td>54897.0</td>\n    </tr>\n    <tr>\n      <th>3</th>\n      <td>chr1</td>\n      <td>13198424</td>\n      <td>G</td>\n      <td>A</td>\n      <td>0.833</td>\n      <td>0</td>\n      <td>4</td>\n      <td>0/1</td>\n      <td>NaN</td>\n      <td>SNP</td>\n      <td>...</td>\n      <td>0.002</td>\n      <td>NaN</td>\n      <td>NaN</td>\n      <td>NaN</td>\n      <td>NaN</td>\n      <td>NaN</td>\n      <td>NaN</td>\n      <td>NaN</td>\n      <td>ACH-000839</td>\n      <td>400736.0</td>\n    </tr>\n    <tr>\n      <th>4</th>\n      <td>chr1</td>\n      <td>13225068</td>\n      <td>A</td>\n      <td>G</td>\n      <td>0.396</td>\n      <td>34</td>\n      <td>24</td>\n      <td>0/1</td>\n      <td>NaN</td>\n      <td>SNP</td>\n      <td>...</td>\n      <td>NaN</td>\n      <td>0.0</td>\n      <td>NaN</td>\n      <td>NaN</td>\n      <td>NaN</td>\n      <td>NaN</td>\n      <td>NaN</td>\n      <td>NaN</td>\n      <td>ACH-000839</td>\n      <td>391003.0</td>\n    </tr>\n  </tbody>\n</table>\n<p>5 rows × 56 columns</p>\n</div>"
     },
     "execution_count": 14,
     "metadata": {},
     "output_type": "execute_result"
    }
   ],
   "source": [
    "# Preview mutation data\n",
    "mutation_df.head()"
   ],
   "metadata": {
    "collapsed": false,
    "ExecuteTime": {
     "end_time": "2023-12-30T00:28:56.272584700Z",
     "start_time": "2023-12-30T00:28:56.241338700Z"
    }
   },
   "id": "c396c661c71a4de2"
  },
  {
   "cell_type": "code",
   "execution_count": 15,
   "outputs": [
    {
     "data": {
      "text/plain": "Index(['Chrom', 'Pos', 'Ref', 'Alt', 'AF', 'RefCount', 'AltCount', 'GT', 'PS',\n       'VariantType', 'VariantInfo', 'DNAChange', 'ProteinChange',\n       'HugoSymbol', 'HgncName', 'HgncFamily', 'Transcript', 'TranscriptExon',\n       'TranscriptStrand', 'UniprotID', 'Str', 'DbsnpID', 'DbsnpFilter',\n       'Issues', 'GcContent', 'LineageAssociation', 'CancerMolecularGenetics',\n       'CCLEDeleterious', 'StructuralRelation', 'CosmicHotspot',\n       'CosmicOverlappingMutations', 'AssociatedWith', 'LoF', 'Driver',\n       'LikelyDriver', 'TranscriptLikelyLoF', 'CivicID', 'CivicDescription',\n       'CivicScore', 'Popaf', 'LikelyGoF', 'LikelyLoF', 'HessDriver',\n       'HessSignature', 'CscapeScore', 'DannScore', 'RevelScore',\n       'Funseq2Score', 'PharmgkbID', 'DidaID', 'DidaName', 'GwasDisease',\n       'GwasPmID', 'GTexGene', 'ModelID', 'EntrezGeneID'],\n      dtype='object')"
     },
     "execution_count": 15,
     "metadata": {},
     "output_type": "execute_result"
    }
   ],
   "source": [
    "mutation_df.columns"
   ],
   "metadata": {
    "collapsed": false,
    "ExecuteTime": {
     "end_time": "2023-12-30T00:28:56.304257900Z",
     "start_time": "2023-12-30T00:28:56.272584700Z"
    }
   },
   "id": "95c79b5ddc210e55"
  },
  {
   "cell_type": "code",
   "execution_count": 16,
   "outputs": [
    {
     "data": {
      "text/plain": "+    711270\n-    696829\nName: TranscriptStrand, dtype: int64"
     },
     "execution_count": 16,
     "metadata": {},
     "output_type": "execute_result"
    }
   ],
   "source": [
    "mutation_df['TranscriptStrand'].value_counts()"
   ],
   "metadata": {
    "collapsed": false,
    "ExecuteTime": {
     "end_time": "2023-12-30T00:28:56.366760700Z",
     "start_time": "2023-12-30T00:28:56.288624200Z"
    }
   },
   "id": "2b43317ebcb9e090"
  },
  {
   "cell_type": "code",
   "execution_count": 17,
   "outputs": [],
   "source": [
    "# Remove anything after \".\" in the 'Annotation_Transcript' column if remove_transcript_versions\n",
    "if remove_transcript_versions:\n",
    "    mutation_df['Transcript'] = mutation_df['Transcript'].map(lambda x: x.split('.')[0])"
   ],
   "metadata": {
    "collapsed": false,
    "ExecuteTime": {
     "end_time": "2023-12-30T00:28:56.418018800Z",
     "start_time": "2023-12-30T00:28:56.335519100Z"
    }
   },
   "id": "52fcd55eecfba1cb"
  },
  {
   "cell_type": "code",
   "execution_count": 18,
   "outputs": [
    {
     "data": {
      "text/plain": "array(['MISSENSE', 'SILENT', 'IN_FRAME_INS', 'SPLICE_SITE', 'NONSENSE',\n       'FRAME_SHIFT_DEL', 'NONSTOP', 'START_CODON_SNP', 'IN_FRAME_DEL',\n       'FRAME_SHIFT_INS', 'START_CODON_INS', 'FIVE_PRIME_FLANK', 'INTRON',\n       'THREE_PRIME_UTR'], dtype=object)"
     },
     "execution_count": 18,
     "metadata": {},
     "output_type": "execute_result"
    }
   ],
   "source": [
    "# Take a look at the mutation classes\n",
    "mutation_df['VariantInfo'].unique()"
   ],
   "metadata": {
    "collapsed": false,
    "ExecuteTime": {
     "end_time": "2023-12-30T00:28:56.418018800Z",
     "start_time": "2023-12-30T00:28:56.351132300Z"
    }
   },
   "id": "aad616906f5096ce"
  },
  {
   "cell_type": "code",
   "execution_count": 19,
   "outputs": [
    {
     "data": {
      "text/plain": "      Chrom      Pos Ref Alt     AF  RefCount  AltCount   GT  PS VariantType  \\\n29669  chr1   951180   G   A  0.390        26        15  0/1 NaN         SNP   \n29670  chr1   963249   G   A  0.303        22         9  0/1 NaN         SNP   \n29671  chr1  1046671   C   T  0.250        30         8  0/1 NaN         SNP   \n29672  chr1  2358684   C   T  0.565        11        14  0/1 NaN         SNP   \n29673  chr1  2412394   C   T  0.391        14         8  0/1 NaN         SNP   \n\n       ... RevelScore Funseq2Score PharmgkbID DidaID DidaName GwasDisease  \\\n29669  ...        NaN          0.0        NaN    NaN      NaN         NaN   \n29670  ...      0.976          3.0        NaN    NaN      NaN         NaN   \n29671  ...        NaN          0.0        NaN    NaN      NaN         NaN   \n29672  ...        NaN          0.0        NaN    NaN      NaN         NaN   \n29673  ...      0.416          3.0        NaN    NaN      NaN         NaN   \n\n      GwasPmID  GTexGene     ModelID EntrezGeneID  \n29669      NaN       NaN  ACH-000856      26155.0  \n29670      NaN       NaN  ACH-000856     339451.0  \n29671      NaN       NaN  ACH-000856     375790.0  \n29672      NaN       NaN  ACH-000856      79906.0  \n29673      NaN       NaN  ACH-000856       5192.0  \n\n[5 rows x 56 columns]",
      "text/html": "<div>\n<style scoped>\n    .dataframe tbody tr th:only-of-type {\n        vertical-align: middle;\n    }\n\n    .dataframe tbody tr th {\n        vertical-align: top;\n    }\n\n    .dataframe thead th {\n        text-align: right;\n    }\n</style>\n<table border=\"1\" class=\"dataframe\">\n  <thead>\n    <tr style=\"text-align: right;\">\n      <th></th>\n      <th>Chrom</th>\n      <th>Pos</th>\n      <th>Ref</th>\n      <th>Alt</th>\n      <th>AF</th>\n      <th>RefCount</th>\n      <th>AltCount</th>\n      <th>GT</th>\n      <th>PS</th>\n      <th>VariantType</th>\n      <th>...</th>\n      <th>RevelScore</th>\n      <th>Funseq2Score</th>\n      <th>PharmgkbID</th>\n      <th>DidaID</th>\n      <th>DidaName</th>\n      <th>GwasDisease</th>\n      <th>GwasPmID</th>\n      <th>GTexGene</th>\n      <th>ModelID</th>\n      <th>EntrezGeneID</th>\n    </tr>\n  </thead>\n  <tbody>\n    <tr>\n      <th>29669</th>\n      <td>chr1</td>\n      <td>951180</td>\n      <td>G</td>\n      <td>A</td>\n      <td>0.390</td>\n      <td>26</td>\n      <td>15</td>\n      <td>0/1</td>\n      <td>NaN</td>\n      <td>SNP</td>\n      <td>...</td>\n      <td>NaN</td>\n      <td>0.0</td>\n      <td>NaN</td>\n      <td>NaN</td>\n      <td>NaN</td>\n      <td>NaN</td>\n      <td>NaN</td>\n      <td>NaN</td>\n      <td>ACH-000856</td>\n      <td>26155.0</td>\n    </tr>\n    <tr>\n      <th>29670</th>\n      <td>chr1</td>\n      <td>963249</td>\n      <td>G</td>\n      <td>A</td>\n      <td>0.303</td>\n      <td>22</td>\n      <td>9</td>\n      <td>0/1</td>\n      <td>NaN</td>\n      <td>SNP</td>\n      <td>...</td>\n      <td>0.976</td>\n      <td>3.0</td>\n      <td>NaN</td>\n      <td>NaN</td>\n      <td>NaN</td>\n      <td>NaN</td>\n      <td>NaN</td>\n      <td>NaN</td>\n      <td>ACH-000856</td>\n      <td>339451.0</td>\n    </tr>\n    <tr>\n      <th>29671</th>\n      <td>chr1</td>\n      <td>1046671</td>\n      <td>C</td>\n      <td>T</td>\n      <td>0.250</td>\n      <td>30</td>\n      <td>8</td>\n      <td>0/1</td>\n      <td>NaN</td>\n      <td>SNP</td>\n      <td>...</td>\n      <td>NaN</td>\n      <td>0.0</td>\n      <td>NaN</td>\n      <td>NaN</td>\n      <td>NaN</td>\n      <td>NaN</td>\n      <td>NaN</td>\n      <td>NaN</td>\n      <td>ACH-000856</td>\n      <td>375790.0</td>\n    </tr>\n    <tr>\n      <th>29672</th>\n      <td>chr1</td>\n      <td>2358684</td>\n      <td>C</td>\n      <td>T</td>\n      <td>0.565</td>\n      <td>11</td>\n      <td>14</td>\n      <td>0/1</td>\n      <td>NaN</td>\n      <td>SNP</td>\n      <td>...</td>\n      <td>NaN</td>\n      <td>0.0</td>\n      <td>NaN</td>\n      <td>NaN</td>\n      <td>NaN</td>\n      <td>NaN</td>\n      <td>NaN</td>\n      <td>NaN</td>\n      <td>ACH-000856</td>\n      <td>79906.0</td>\n    </tr>\n    <tr>\n      <th>29673</th>\n      <td>chr1</td>\n      <td>2412394</td>\n      <td>C</td>\n      <td>T</td>\n      <td>0.391</td>\n      <td>14</td>\n      <td>8</td>\n      <td>0/1</td>\n      <td>NaN</td>\n      <td>SNP</td>\n      <td>...</td>\n      <td>0.416</td>\n      <td>3.0</td>\n      <td>NaN</td>\n      <td>NaN</td>\n      <td>NaN</td>\n      <td>NaN</td>\n      <td>NaN</td>\n      <td>NaN</td>\n      <td>ACH-000856</td>\n      <td>5192.0</td>\n    </tr>\n  </tbody>\n</table>\n<p>5 rows × 56 columns</p>\n</div>"
     },
     "execution_count": 19,
     "metadata": {},
     "output_type": "execute_result"
    }
   ],
   "source": [
    "# Select all mutations for our cell lines of interest only: where 'ModelID' is in cell_lines['ModelID']\n",
    "#mutation_df = mutation_df.loc[mutation_df['Tumor_Sample_Barcode'].map(lambda x: x in cell_lines)]\n",
    "\n",
    "mutation_df = mutation_df[mutation_df['ModelID'].isin(cell_lines['ModelID'])]\n",
    "\n",
    "mutation_df.head()"
   ],
   "metadata": {
    "collapsed": false,
    "ExecuteTime": {
     "end_time": "2023-12-30T00:28:56.480655100Z",
     "start_time": "2023-12-30T00:28:56.414533800Z"
    }
   },
   "id": "6e0c338638de6dc4"
  },
  {
   "cell_type": "code",
   "execution_count": 20,
   "outputs": [
    {
     "data": {
      "text/plain": "38"
     },
     "execution_count": 20,
     "metadata": {},
     "output_type": "execute_result"
    }
   ],
   "source": [
    "# Check we've got the right number of ModelID values (should be 39 - it's only 38)\n",
    "len(mutation_df['ModelID'].unique())"
   ],
   "metadata": {
    "collapsed": false,
    "ExecuteTime": {
     "end_time": "2023-12-30T00:28:56.496298200Z",
     "start_time": "2023-12-30T00:28:56.480655100Z"
    }
   },
   "id": "b8404383cb8f2031"
  },
  {
   "cell_type": "code",
   "execution_count": 21,
   "outputs": [
    {
     "data": {
      "text/plain": "        CCLEName     ModelID\n28  SLR26_KIDNEY  ACH-000600",
      "text/html": "<div>\n<style scoped>\n    .dataframe tbody tr th:only-of-type {\n        vertical-align: middle;\n    }\n\n    .dataframe tbody tr th {\n        vertical-align: top;\n    }\n\n    .dataframe thead th {\n        text-align: right;\n    }\n</style>\n<table border=\"1\" class=\"dataframe\">\n  <thead>\n    <tr style=\"text-align: right;\">\n      <th></th>\n      <th>CCLEName</th>\n      <th>ModelID</th>\n    </tr>\n  </thead>\n  <tbody>\n    <tr>\n      <th>28</th>\n      <td>SLR26_KIDNEY</td>\n      <td>ACH-000600</td>\n    </tr>\n  </tbody>\n</table>\n</div>"
     },
     "execution_count": 21,
     "metadata": {},
     "output_type": "execute_result"
    }
   ],
   "source": [
    "# A cell line is missing from the mutation data. Which one is it?\n",
    "missing_cell_line = cell_lines[~cell_lines['ModelID'].isin(mutation_df['ModelID'])]\n",
    "\n",
    "missing_cell_line"
   ],
   "metadata": {
    "collapsed": false,
    "ExecuteTime": {
     "end_time": "2023-12-30T00:28:56.543172300Z",
     "start_time": "2023-12-30T00:28:56.496298200Z"
    }
   },
   "id": "7f092951555b9f12"
  },
  {
   "cell_type": "code",
   "execution_count": 22,
   "outputs": [
    {
     "data": {
      "text/plain": "     Unnamed: 0  TSPAN6 (7105)  TNMD (64102)  DPM1 (8813)  SCYL3 (57147)  \\\n15   ACH-000792       3.280956      0.000000     6.391115       1.752749   \n46   ACH-000138       4.649615      0.000000     6.437960       2.831877   \n82   ACH-000856       5.705701      0.000000     6.413628       3.300124   \n97   ACH-000222       5.383704      0.111031     6.452035       2.613532   \n113  ACH-000223       4.903038      0.000000     7.177918       2.744161   \n\n     C1orf112 (55732)  FGR (2268)  CFH (3075)  FUCA2 (2519)  GCLC (2729)  ...  \\\n15           3.436961    0.084064    0.422233      6.617798     4.383359  ...   \n46           3.489286    0.014355    3.725741      5.494736     6.487197  ...   \n82           4.052242    0.124328    3.032101      6.229780     4.637494  ...   \n97           2.260026    0.070389    0.056584      5.504303     5.592756  ...   \n113          4.648465    0.150560    0.070389      5.820179     4.374344  ...   \n\n     H3C2 (8358)  H3C3 (8352)  AC098582.1 (8916)  DUS4L-BCAP29 (115253422)  \\\n15      0.757023     0.454176           0.214125                  1.778209   \n46      1.280956     0.871844           1.480265                  1.952334   \n82      1.608809     0.000000           0.485427                  2.646163   \n97      0.189034     0.389567           0.321928                  2.324811   \n113     2.440952     1.695994           0.367371                  1.505891   \n\n     C8orf44-SGK3 (100533105)  ELOA3B (728929)  NPBWR1 (2831)  \\\n15                   0.731183         0.028569       0.310340   \n46                   0.084064         0.028569       1.985500   \n82                   0.201634         0.000000       0.056584   \n97                   0.238787         0.000000       0.000000   \n113                  0.214125         0.137504       0.704872   \n\n     ELOA3D (100506888)  ELOA3 (162699)  CDR1 (1038)  \n15             0.056584        0.028569     0.028569  \n46             0.028569        0.028569     0.000000  \n82             0.000000        0.124328     0.000000  \n97             0.000000        0.000000     0.000000  \n113            0.000000        0.000000     0.000000  \n\n[5 rows x 19194 columns]",
      "text/html": "<div>\n<style scoped>\n    .dataframe tbody tr th:only-of-type {\n        vertical-align: middle;\n    }\n\n    .dataframe tbody tr th {\n        vertical-align: top;\n    }\n\n    .dataframe thead th {\n        text-align: right;\n    }\n</style>\n<table border=\"1\" class=\"dataframe\">\n  <thead>\n    <tr style=\"text-align: right;\">\n      <th></th>\n      <th>Unnamed: 0</th>\n      <th>TSPAN6 (7105)</th>\n      <th>TNMD (64102)</th>\n      <th>DPM1 (8813)</th>\n      <th>SCYL3 (57147)</th>\n      <th>C1orf112 (55732)</th>\n      <th>FGR (2268)</th>\n      <th>CFH (3075)</th>\n      <th>FUCA2 (2519)</th>\n      <th>GCLC (2729)</th>\n      <th>...</th>\n      <th>H3C2 (8358)</th>\n      <th>H3C3 (8352)</th>\n      <th>AC098582.1 (8916)</th>\n      <th>DUS4L-BCAP29 (115253422)</th>\n      <th>C8orf44-SGK3 (100533105)</th>\n      <th>ELOA3B (728929)</th>\n      <th>NPBWR1 (2831)</th>\n      <th>ELOA3D (100506888)</th>\n      <th>ELOA3 (162699)</th>\n      <th>CDR1 (1038)</th>\n    </tr>\n  </thead>\n  <tbody>\n    <tr>\n      <th>15</th>\n      <td>ACH-000792</td>\n      <td>3.280956</td>\n      <td>0.000000</td>\n      <td>6.391115</td>\n      <td>1.752749</td>\n      <td>3.436961</td>\n      <td>0.084064</td>\n      <td>0.422233</td>\n      <td>6.617798</td>\n      <td>4.383359</td>\n      <td>...</td>\n      <td>0.757023</td>\n      <td>0.454176</td>\n      <td>0.214125</td>\n      <td>1.778209</td>\n      <td>0.731183</td>\n      <td>0.028569</td>\n      <td>0.310340</td>\n      <td>0.056584</td>\n      <td>0.028569</td>\n      <td>0.028569</td>\n    </tr>\n    <tr>\n      <th>46</th>\n      <td>ACH-000138</td>\n      <td>4.649615</td>\n      <td>0.000000</td>\n      <td>6.437960</td>\n      <td>2.831877</td>\n      <td>3.489286</td>\n      <td>0.014355</td>\n      <td>3.725741</td>\n      <td>5.494736</td>\n      <td>6.487197</td>\n      <td>...</td>\n      <td>1.280956</td>\n      <td>0.871844</td>\n      <td>1.480265</td>\n      <td>1.952334</td>\n      <td>0.084064</td>\n      <td>0.028569</td>\n      <td>1.985500</td>\n      <td>0.028569</td>\n      <td>0.028569</td>\n      <td>0.000000</td>\n    </tr>\n    <tr>\n      <th>82</th>\n      <td>ACH-000856</td>\n      <td>5.705701</td>\n      <td>0.000000</td>\n      <td>6.413628</td>\n      <td>3.300124</td>\n      <td>4.052242</td>\n      <td>0.124328</td>\n      <td>3.032101</td>\n      <td>6.229780</td>\n      <td>4.637494</td>\n      <td>...</td>\n      <td>1.608809</td>\n      <td>0.000000</td>\n      <td>0.485427</td>\n      <td>2.646163</td>\n      <td>0.201634</td>\n      <td>0.000000</td>\n      <td>0.056584</td>\n      <td>0.000000</td>\n      <td>0.124328</td>\n      <td>0.000000</td>\n    </tr>\n    <tr>\n      <th>97</th>\n      <td>ACH-000222</td>\n      <td>5.383704</td>\n      <td>0.111031</td>\n      <td>6.452035</td>\n      <td>2.613532</td>\n      <td>2.260026</td>\n      <td>0.070389</td>\n      <td>0.056584</td>\n      <td>5.504303</td>\n      <td>5.592756</td>\n      <td>...</td>\n      <td>0.189034</td>\n      <td>0.389567</td>\n      <td>0.321928</td>\n      <td>2.324811</td>\n      <td>0.238787</td>\n      <td>0.000000</td>\n      <td>0.000000</td>\n      <td>0.000000</td>\n      <td>0.000000</td>\n      <td>0.000000</td>\n    </tr>\n    <tr>\n      <th>113</th>\n      <td>ACH-000223</td>\n      <td>4.903038</td>\n      <td>0.000000</td>\n      <td>7.177918</td>\n      <td>2.744161</td>\n      <td>4.648465</td>\n      <td>0.150560</td>\n      <td>0.070389</td>\n      <td>5.820179</td>\n      <td>4.374344</td>\n      <td>...</td>\n      <td>2.440952</td>\n      <td>1.695994</td>\n      <td>0.367371</td>\n      <td>1.505891</td>\n      <td>0.214125</td>\n      <td>0.137504</td>\n      <td>0.704872</td>\n      <td>0.000000</td>\n      <td>0.000000</td>\n      <td>0.000000</td>\n    </tr>\n  </tbody>\n</table>\n<p>5 rows × 19194 columns</p>\n</div>"
     },
     "execution_count": 22,
     "metadata": {},
     "output_type": "execute_result"
    }
   ],
   "source": [
    "# Do the same for expression data to check the original cell lines in use\n",
    "# Select all expression data for our cell lines of interest only: where 'ModelID' is in cell_lines['ModelID']\n",
    "expression_df = expression_df[expression_df['Unnamed: 0'].isin(cell_lines['ModelID'])]\n",
    "\n",
    "expression_df.head()"
   ],
   "metadata": {
    "collapsed": false,
    "ExecuteTime": {
     "end_time": "2023-12-30T00:28:56.606372Z",
     "start_time": "2023-12-30T00:28:56.511923200Z"
    }
   },
   "id": "1f91f3d28c430f28"
  },
  {
   "cell_type": "code",
   "execution_count": 23,
   "outputs": [
    {
     "data": {
      "text/plain": "38"
     },
     "execution_count": 23,
     "metadata": {},
     "output_type": "execute_result"
    }
   ],
   "source": [
    "# Check we've got the right number of ModelID values (should be 39 - it's only 38)\n",
    "len(expression_df['Unnamed: 0'].unique())"
   ],
   "metadata": {
    "collapsed": false,
    "ExecuteTime": {
     "end_time": "2023-12-30T00:28:56.621997700Z",
     "start_time": "2023-12-30T00:28:56.543172300Z"
    }
   },
   "id": "9a0a13bdfbc2f2af"
  },
  {
   "cell_type": "code",
   "execution_count": 24,
   "outputs": [
    {
     "data": {
      "text/plain": "array(['SILENT', 'MISSENSE', 'FRAME_SHIFT_DEL', 'FRAME_SHIFT_INS',\n       'SPLICE_SITE', 'NONSENSE', 'IN_FRAME_DEL', 'NONSTOP',\n       'IN_FRAME_INS', 'START_CODON_SNP', 'START_CODON_INS'], dtype=object)"
     },
     "execution_count": 24,
     "metadata": {},
     "output_type": "execute_result"
    }
   ],
   "source": [
    "# Take a look at the mutation classes\n",
    "mutation_df['VariantInfo'].unique()"
   ],
   "metadata": {
    "collapsed": false,
    "ExecuteTime": {
     "end_time": "2023-12-30T00:28:56.662828100Z",
     "start_time": "2023-12-30T00:28:56.564178400Z"
    }
   },
   "id": "221d1a404cd14839"
  },
  {
   "cell_type": "code",
   "execution_count": 25,
   "outputs": [
    {
     "data": {
      "text/plain": "array(['ENST00000327044.7', 'ENST00000338591.8', 'ENST00000379370.7', ...,\n       'ENST00000216146.9', 'ENST00000412172.4', 'ENST00000375722.5'],\n      dtype=object)"
     },
     "execution_count": 25,
     "metadata": {},
     "output_type": "execute_result"
    }
   ],
   "source": [
    "# How many unique transcripts are there?\n",
    "mutation_df_transcripts = mutation_df['Transcript'].unique()\n",
    "mutation_df_transcripts"
   ],
   "metadata": {
    "collapsed": false,
    "ExecuteTime": {
     "end_time": "2023-12-30T00:28:56.680545700Z",
     "start_time": "2023-12-30T00:28:56.574686600Z"
    }
   },
   "id": "b6d5094f0deb7006"
  },
  {
   "cell_type": "code",
   "execution_count": 26,
   "outputs": [
    {
     "data": {
      "text/plain": "      Chrom       Pos Ref Alt     AF  RefCount  AltCount   GT  PS VariantType  \\\n29678  chr1   6197724  CT   C  0.534        13        15  0/1 NaN         DEL   \n29685  chr1  12244554   A  AG  0.556        16        20  0/1 NaN         INS   \n29699  chr1  20633885  GA   G  0.462        13        11  0/1 NaN         DEL   \n29704  chr1  26773456   C   T  0.389        21        13  0/1 NaN         SNP   \n29705  chr1  26779439  TG   T  0.590        15        23  0/1 NaN         DEL   \n\n       ... RevelScore Funseq2Score PharmgkbID DidaID DidaName GwasDisease  \\\n29678  ...        NaN          NaN        NaN    NaN      NaN         NaN   \n29685  ...        NaN          NaN        NaN    NaN      NaN         NaN   \n29699  ...        NaN          NaN        NaN    NaN      NaN         NaN   \n29704  ...        NaN          5.0        NaN    NaN      NaN         NaN   \n29705  ...        NaN          NaN        NaN    NaN      NaN         NaN   \n\n      GwasPmID  GTexGene     ModelID EntrezGeneID  \n29678      NaN       NaN  ACH-000856       6146.0  \n29685      NaN       NaN  ACH-000856      55187.0  \n29699      NaN       NaN  ACH-000856      65018.0  \n29704      NaN       NaN  ACH-000856       8289.0  \n29705      NaN       NaN  ACH-000856       8289.0  \n\n[5 rows x 56 columns]",
      "text/html": "<div>\n<style scoped>\n    .dataframe tbody tr th:only-of-type {\n        vertical-align: middle;\n    }\n\n    .dataframe tbody tr th {\n        vertical-align: top;\n    }\n\n    .dataframe thead th {\n        text-align: right;\n    }\n</style>\n<table border=\"1\" class=\"dataframe\">\n  <thead>\n    <tr style=\"text-align: right;\">\n      <th></th>\n      <th>Chrom</th>\n      <th>Pos</th>\n      <th>Ref</th>\n      <th>Alt</th>\n      <th>AF</th>\n      <th>RefCount</th>\n      <th>AltCount</th>\n      <th>GT</th>\n      <th>PS</th>\n      <th>VariantType</th>\n      <th>...</th>\n      <th>RevelScore</th>\n      <th>Funseq2Score</th>\n      <th>PharmgkbID</th>\n      <th>DidaID</th>\n      <th>DidaName</th>\n      <th>GwasDisease</th>\n      <th>GwasPmID</th>\n      <th>GTexGene</th>\n      <th>ModelID</th>\n      <th>EntrezGeneID</th>\n    </tr>\n  </thead>\n  <tbody>\n    <tr>\n      <th>29678</th>\n      <td>chr1</td>\n      <td>6197724</td>\n      <td>CT</td>\n      <td>C</td>\n      <td>0.534</td>\n      <td>13</td>\n      <td>15</td>\n      <td>0/1</td>\n      <td>NaN</td>\n      <td>DEL</td>\n      <td>...</td>\n      <td>NaN</td>\n      <td>NaN</td>\n      <td>NaN</td>\n      <td>NaN</td>\n      <td>NaN</td>\n      <td>NaN</td>\n      <td>NaN</td>\n      <td>NaN</td>\n      <td>ACH-000856</td>\n      <td>6146.0</td>\n    </tr>\n    <tr>\n      <th>29685</th>\n      <td>chr1</td>\n      <td>12244554</td>\n      <td>A</td>\n      <td>AG</td>\n      <td>0.556</td>\n      <td>16</td>\n      <td>20</td>\n      <td>0/1</td>\n      <td>NaN</td>\n      <td>INS</td>\n      <td>...</td>\n      <td>NaN</td>\n      <td>NaN</td>\n      <td>NaN</td>\n      <td>NaN</td>\n      <td>NaN</td>\n      <td>NaN</td>\n      <td>NaN</td>\n      <td>NaN</td>\n      <td>ACH-000856</td>\n      <td>55187.0</td>\n    </tr>\n    <tr>\n      <th>29699</th>\n      <td>chr1</td>\n      <td>20633885</td>\n      <td>GA</td>\n      <td>G</td>\n      <td>0.462</td>\n      <td>13</td>\n      <td>11</td>\n      <td>0/1</td>\n      <td>NaN</td>\n      <td>DEL</td>\n      <td>...</td>\n      <td>NaN</td>\n      <td>NaN</td>\n      <td>NaN</td>\n      <td>NaN</td>\n      <td>NaN</td>\n      <td>NaN</td>\n      <td>NaN</td>\n      <td>NaN</td>\n      <td>ACH-000856</td>\n      <td>65018.0</td>\n    </tr>\n    <tr>\n      <th>29704</th>\n      <td>chr1</td>\n      <td>26773456</td>\n      <td>C</td>\n      <td>T</td>\n      <td>0.389</td>\n      <td>21</td>\n      <td>13</td>\n      <td>0/1</td>\n      <td>NaN</td>\n      <td>SNP</td>\n      <td>...</td>\n      <td>NaN</td>\n      <td>5.0</td>\n      <td>NaN</td>\n      <td>NaN</td>\n      <td>NaN</td>\n      <td>NaN</td>\n      <td>NaN</td>\n      <td>NaN</td>\n      <td>ACH-000856</td>\n      <td>8289.0</td>\n    </tr>\n    <tr>\n      <th>29705</th>\n      <td>chr1</td>\n      <td>26779439</td>\n      <td>TG</td>\n      <td>T</td>\n      <td>0.590</td>\n      <td>15</td>\n      <td>23</td>\n      <td>0/1</td>\n      <td>NaN</td>\n      <td>DEL</td>\n      <td>...</td>\n      <td>NaN</td>\n      <td>NaN</td>\n      <td>NaN</td>\n      <td>NaN</td>\n      <td>NaN</td>\n      <td>NaN</td>\n      <td>NaN</td>\n      <td>NaN</td>\n      <td>ACH-000856</td>\n      <td>8289.0</td>\n    </tr>\n  </tbody>\n</table>\n<p>5 rows × 56 columns</p>\n</div>"
     },
     "execution_count": 26,
     "metadata": {},
     "output_type": "execute_result"
    }
   ],
   "source": [
    "# First we separate out the badly pathogenic mutations - these are assumed to result in loss of function\n",
    "pathogenic = ('FRAME_SHIFT_DEL', 'FRAME_SHIFT_INS', 'NONSENSE', 'NONSTOP', 'START_CODON_INS')\n",
    "\n",
    "##### NOTE ######\n",
    "# These are the variations that were considered pathogenic on the original version\n",
    "# pathogenic = ['Frame_Shift_Del', 'Frame_Shift_Ins','Nonsense_Mutation','Nonstop_Mutation','Stop_Codon_Del']\n",
    "\n",
    "# I will keep this the same for now (note no 'Stop_Codon_Del' class in the new data - presumably because it's the same a NONSTOP) but note:\n",
    "\n",
    "# IN_FRAME_DEL - this is likely damaging but could be LOF or GOF -  select which depending on whether its onc, tsg or kinase?\n",
    "# IN_FRAME_INS - as above\n",
    "# START_CODON_INS - this is likely to prevent the translation of the protein, so LOF?\n",
    "# START_CODON_SNP - this may prevent translation if the SNP switched the codon from methianine to another amino acid\n",
    "\n",
    "# Filter mut_df to only include rows where the variant classification is in the pathogenic list defined above\n",
    "pathogenic_mutations = mutation_df.loc[mutation_df['VariantInfo'].isin(pathogenic)]\n",
    "\n",
    "pathogenic_mutations.head()"
   ],
   "metadata": {
    "collapsed": false,
    "ExecuteTime": {
     "end_time": "2023-12-30T00:28:56.710228800Z",
     "start_time": "2023-12-30T00:28:56.590718800Z"
    }
   },
   "id": "781a33d5e9977b20"
  },
  {
   "cell_type": "code",
   "execution_count": 27,
   "outputs": [
    {
     "data": {
      "text/plain": "False    1345\nName: LikelyGoF, dtype: int64"
     },
     "execution_count": 27,
     "metadata": {},
     "output_type": "execute_result"
    }
   ],
   "source": [
    "# See if DepMap classification agrees that these are all likely to be LOF (it does)\n",
    "pathogenic_mutations['LikelyGoF'].value_counts()"
   ],
   "metadata": {
    "collapsed": false,
    "ExecuteTime": {
     "end_time": "2023-12-30T00:28:56.710228800Z",
     "start_time": "2023-12-30T00:28:56.621997700Z"
    }
   },
   "id": "827b2012ed5fc5c6"
  },
  {
   "cell_type": "code",
   "execution_count": 28,
   "outputs": [
    {
     "data": {
      "text/plain": "True    1345\nName: LikelyLoF, dtype: int64"
     },
     "execution_count": 28,
     "metadata": {},
     "output_type": "execute_result"
    }
   ],
   "source": [
    "pathogenic_mutations['LikelyLoF'].value_counts()"
   ],
   "metadata": {
    "collapsed": false,
    "ExecuteTime": {
     "end_time": "2023-12-30T00:28:56.710228800Z",
     "start_time": "2023-12-30T00:28:56.637617800Z"
    }
   },
   "id": "a2382c13fc73ae6e"
  },
  {
   "cell_type": "code",
   "execution_count": 29,
   "outputs": [
    {
     "data": {
      "text/plain": "       ModelID                                         HugoSymbol\n0   ACH-000028  ADGRL2, SMCP, FAM228B, NECTIN3, TMEM175, CLCN3...\n1   ACH-000060  PALMD, TGFBR2, PBRM1, ERVW-1, ERVW-1, MUC12, J...\n2   ACH-000097  ATAD3C, PLCH2, GBP1, GTDC1, VIL1, VIL1, SLC4A7...\n3   ACH-000118  CCDC27, CROCC, RSRP1, RHCE, COL8A2, TNS1, PER2...\n4   ACH-000127  GPATCH3, ZMYM4, P3H1, KANK4, UBAP2L, OR10T2, G...\n5   ACH-000138        PHGDH, STRIP2, TNS2, NCOR2, TSNAXIP1, NLGN3\n6   ACH-000148  EPHA10, ITPRID2, PARD3B, POLQ, MEF2C, MYL10, H...\n7   ACH-000159  SDHB, TRIM33, FAM228B, TRIM43, VHL, FLT4, MUC1...\n8   ACH-000178  ARID1A, FANCG, GRID1, ANGPTL5, SIPA1L1, FMN1, ...\n9   ACH-000222  CSMD2, COL8A2, POGK, PRRC2C, RD3, ANKRD36C, MY...\n10  ACH-000223  HHIPL2, TRPC1, CPA3, MAPK13, SAMD9, SAMD9, MUC...\n11  ACH-000234  RERE, RERE, SELENOF, SYCP1, PDE4DIP, PRKD3, VH...\n12  ACH-000246  DDX20, FLG, AXDND1, C2orf42, VHL, BAP1, RAB33B...\n13  ACH-000248  MTMR11, TCHH, HMCN1, IGFN1, PPP1R12B, USP34, T...\n14  ACH-000262  IGFN1, OBSL1, COL4A4, VHL, KIAA1109, RASA1, BM...\n15  ACH-000265  SLC35E2A, CRYBG2, FAM189B, FMO4, OBSCN, HTR2B,...\n16  ACH-000281  LRIF1, AC242842.3, ENSA, ZDHHC11, NSG2, CFTR, ...\n17  ACH-000320  BOK, CRELD1, GBE1, NIPAL1, NIPBL, BICRAL, ANKR...\n18  ACH-000330  IL22RA1, CD164L2, IPP, TOR1AIP2, PRG4, C3orf20...\n19  ACH-000352  PATJ, NOTCH2, VANGL2, FMO2, DDX59, PARP1, ZNF6...\n20  ACH-000374  TNFRSF25, VAV3, GGCX, SCN3A, PCGF3, SLC35F1, P...\n21  ACH-000459  CROCC, FLG, H3-4, EIF2AK3, EIF2AK3, VHL, DNAH1...\n22  ACH-000495  SEC22B, SLC27A3, TRIM17, NID1, VHL, DNAH1, TMP...\n23  ACH-000573  RCC2, NT5C1A, ASXL2, ASXL2, NIPAL1, IGFBP7, UN...\n24  ACH-000601  ARID1A, SV2A, NR1I3, HLX, SH3YL1, NRXN1, VWA3B...\n25  ACH-000621  PRAMEF11, COL16A1, FAM228B, TMCC1, TPD52L1, ER...\n26  ACH-000624  ZC3H6, AOX1, FOXD1, VCAN, CCZ1B, EXT1, MTBP, A...\n27  ACH-000684  RPL22, SRSF10, UTP25, SRD5A2, USP40, XYLB, PBR...\n28  ACH-000699  VANGL1, TRAF3IP3, CDC42BPA, GNPAT, ITGA9, DHX3...\n29  ACH-000725  MAST2, PSMB4, UBAP2L, TDRD10, PRRC2C, LYST, SP...\n30  ACH-000768  CHD5, ZNF695, COL4A3, UQCRC1, EPHA3, GAK, GYPB...\n31  ACH-000792  SPATA21, NBPF12, SLC35A5, CCNG2, MUC12, MICU3,...\n32  ACH-000849  ATXN7L2, C1orf112, FAM228B, DUSP11, NBEAL1, TT...\n33  ACH-000856  RPL22, VPS13D, PINK1, ARID1A, ARID1A, UTP11, Z...\n34  ACH-000859  C1orf127, TRIM17, OR2G6, SPTBN1, EGR4, ECRG4, ...\n35  ACH-000876  IQCC, ERICH3, LRRC39, AKNAD1, SCN7A, PARD3B, E...\n36  ACH-000907  MORN1, RPL22, C1orf127, ELOA, ARID1A, RAB42, P...\n37  ACH-000910  PRAMEF4, RPS6KA1, ELOVL1, ETV3L, EEF1AKNMT, AS...",
      "text/html": "<div>\n<style scoped>\n    .dataframe tbody tr th:only-of-type {\n        vertical-align: middle;\n    }\n\n    .dataframe tbody tr th {\n        vertical-align: top;\n    }\n\n    .dataframe thead th {\n        text-align: right;\n    }\n</style>\n<table border=\"1\" class=\"dataframe\">\n  <thead>\n    <tr style=\"text-align: right;\">\n      <th></th>\n      <th>ModelID</th>\n      <th>HugoSymbol</th>\n    </tr>\n  </thead>\n  <tbody>\n    <tr>\n      <th>0</th>\n      <td>ACH-000028</td>\n      <td>ADGRL2, SMCP, FAM228B, NECTIN3, TMEM175, CLCN3...</td>\n    </tr>\n    <tr>\n      <th>1</th>\n      <td>ACH-000060</td>\n      <td>PALMD, TGFBR2, PBRM1, ERVW-1, ERVW-1, MUC12, J...</td>\n    </tr>\n    <tr>\n      <th>2</th>\n      <td>ACH-000097</td>\n      <td>ATAD3C, PLCH2, GBP1, GTDC1, VIL1, VIL1, SLC4A7...</td>\n    </tr>\n    <tr>\n      <th>3</th>\n      <td>ACH-000118</td>\n      <td>CCDC27, CROCC, RSRP1, RHCE, COL8A2, TNS1, PER2...</td>\n    </tr>\n    <tr>\n      <th>4</th>\n      <td>ACH-000127</td>\n      <td>GPATCH3, ZMYM4, P3H1, KANK4, UBAP2L, OR10T2, G...</td>\n    </tr>\n    <tr>\n      <th>5</th>\n      <td>ACH-000138</td>\n      <td>PHGDH, STRIP2, TNS2, NCOR2, TSNAXIP1, NLGN3</td>\n    </tr>\n    <tr>\n      <th>6</th>\n      <td>ACH-000148</td>\n      <td>EPHA10, ITPRID2, PARD3B, POLQ, MEF2C, MYL10, H...</td>\n    </tr>\n    <tr>\n      <th>7</th>\n      <td>ACH-000159</td>\n      <td>SDHB, TRIM33, FAM228B, TRIM43, VHL, FLT4, MUC1...</td>\n    </tr>\n    <tr>\n      <th>8</th>\n      <td>ACH-000178</td>\n      <td>ARID1A, FANCG, GRID1, ANGPTL5, SIPA1L1, FMN1, ...</td>\n    </tr>\n    <tr>\n      <th>9</th>\n      <td>ACH-000222</td>\n      <td>CSMD2, COL8A2, POGK, PRRC2C, RD3, ANKRD36C, MY...</td>\n    </tr>\n    <tr>\n      <th>10</th>\n      <td>ACH-000223</td>\n      <td>HHIPL2, TRPC1, CPA3, MAPK13, SAMD9, SAMD9, MUC...</td>\n    </tr>\n    <tr>\n      <th>11</th>\n      <td>ACH-000234</td>\n      <td>RERE, RERE, SELENOF, SYCP1, PDE4DIP, PRKD3, VH...</td>\n    </tr>\n    <tr>\n      <th>12</th>\n      <td>ACH-000246</td>\n      <td>DDX20, FLG, AXDND1, C2orf42, VHL, BAP1, RAB33B...</td>\n    </tr>\n    <tr>\n      <th>13</th>\n      <td>ACH-000248</td>\n      <td>MTMR11, TCHH, HMCN1, IGFN1, PPP1R12B, USP34, T...</td>\n    </tr>\n    <tr>\n      <th>14</th>\n      <td>ACH-000262</td>\n      <td>IGFN1, OBSL1, COL4A4, VHL, KIAA1109, RASA1, BM...</td>\n    </tr>\n    <tr>\n      <th>15</th>\n      <td>ACH-000265</td>\n      <td>SLC35E2A, CRYBG2, FAM189B, FMO4, OBSCN, HTR2B,...</td>\n    </tr>\n    <tr>\n      <th>16</th>\n      <td>ACH-000281</td>\n      <td>LRIF1, AC242842.3, ENSA, ZDHHC11, NSG2, CFTR, ...</td>\n    </tr>\n    <tr>\n      <th>17</th>\n      <td>ACH-000320</td>\n      <td>BOK, CRELD1, GBE1, NIPAL1, NIPBL, BICRAL, ANKR...</td>\n    </tr>\n    <tr>\n      <th>18</th>\n      <td>ACH-000330</td>\n      <td>IL22RA1, CD164L2, IPP, TOR1AIP2, PRG4, C3orf20...</td>\n    </tr>\n    <tr>\n      <th>19</th>\n      <td>ACH-000352</td>\n      <td>PATJ, NOTCH2, VANGL2, FMO2, DDX59, PARP1, ZNF6...</td>\n    </tr>\n    <tr>\n      <th>20</th>\n      <td>ACH-000374</td>\n      <td>TNFRSF25, VAV3, GGCX, SCN3A, PCGF3, SLC35F1, P...</td>\n    </tr>\n    <tr>\n      <th>21</th>\n      <td>ACH-000459</td>\n      <td>CROCC, FLG, H3-4, EIF2AK3, EIF2AK3, VHL, DNAH1...</td>\n    </tr>\n    <tr>\n      <th>22</th>\n      <td>ACH-000495</td>\n      <td>SEC22B, SLC27A3, TRIM17, NID1, VHL, DNAH1, TMP...</td>\n    </tr>\n    <tr>\n      <th>23</th>\n      <td>ACH-000573</td>\n      <td>RCC2, NT5C1A, ASXL2, ASXL2, NIPAL1, IGFBP7, UN...</td>\n    </tr>\n    <tr>\n      <th>24</th>\n      <td>ACH-000601</td>\n      <td>ARID1A, SV2A, NR1I3, HLX, SH3YL1, NRXN1, VWA3B...</td>\n    </tr>\n    <tr>\n      <th>25</th>\n      <td>ACH-000621</td>\n      <td>PRAMEF11, COL16A1, FAM228B, TMCC1, TPD52L1, ER...</td>\n    </tr>\n    <tr>\n      <th>26</th>\n      <td>ACH-000624</td>\n      <td>ZC3H6, AOX1, FOXD1, VCAN, CCZ1B, EXT1, MTBP, A...</td>\n    </tr>\n    <tr>\n      <th>27</th>\n      <td>ACH-000684</td>\n      <td>RPL22, SRSF10, UTP25, SRD5A2, USP40, XYLB, PBR...</td>\n    </tr>\n    <tr>\n      <th>28</th>\n      <td>ACH-000699</td>\n      <td>VANGL1, TRAF3IP3, CDC42BPA, GNPAT, ITGA9, DHX3...</td>\n    </tr>\n    <tr>\n      <th>29</th>\n      <td>ACH-000725</td>\n      <td>MAST2, PSMB4, UBAP2L, TDRD10, PRRC2C, LYST, SP...</td>\n    </tr>\n    <tr>\n      <th>30</th>\n      <td>ACH-000768</td>\n      <td>CHD5, ZNF695, COL4A3, UQCRC1, EPHA3, GAK, GYPB...</td>\n    </tr>\n    <tr>\n      <th>31</th>\n      <td>ACH-000792</td>\n      <td>SPATA21, NBPF12, SLC35A5, CCNG2, MUC12, MICU3,...</td>\n    </tr>\n    <tr>\n      <th>32</th>\n      <td>ACH-000849</td>\n      <td>ATXN7L2, C1orf112, FAM228B, DUSP11, NBEAL1, TT...</td>\n    </tr>\n    <tr>\n      <th>33</th>\n      <td>ACH-000856</td>\n      <td>RPL22, VPS13D, PINK1, ARID1A, ARID1A, UTP11, Z...</td>\n    </tr>\n    <tr>\n      <th>34</th>\n      <td>ACH-000859</td>\n      <td>C1orf127, TRIM17, OR2G6, SPTBN1, EGR4, ECRG4, ...</td>\n    </tr>\n    <tr>\n      <th>35</th>\n      <td>ACH-000876</td>\n      <td>IQCC, ERICH3, LRRC39, AKNAD1, SCN7A, PARD3B, E...</td>\n    </tr>\n    <tr>\n      <th>36</th>\n      <td>ACH-000907</td>\n      <td>MORN1, RPL22, C1orf127, ELOA, ARID1A, RAB42, P...</td>\n    </tr>\n    <tr>\n      <th>37</th>\n      <td>ACH-000910</td>\n      <td>PRAMEF4, RPS6KA1, ELOVL1, ETV3L, EEF1AKNMT, AS...</td>\n    </tr>\n  </tbody>\n</table>\n</div>"
     },
     "execution_count": 29,
     "metadata": {},
     "output_type": "execute_result"
    }
   ],
   "source": [
    "# Group by Tumour_Sample_Barcode (cell-line name) so we have 39 rows (one for each cell line), and a column containing comma seperated list\n",
    "# of all the highly pathogenic mutations in that sample\n",
    "path_muts_per_sample = pathogenic_mutations.groupby('ModelID')['HugoSymbol'].apply(lambda x: ', '.join(x)).reset_index()\n",
    "\n",
    "# Check there are no consecutive commas (denoting missing values)\n",
    "#path_muts_per_sample[path_muts_per_sample['HugoSymbol'].str.contains(\", , \")]\n",
    "path_muts_per_sample"
   ],
   "metadata": {
    "collapsed": false,
    "ExecuteTime": {
     "end_time": "2023-12-30T00:28:56.757094800Z",
     "start_time": "2023-12-30T00:28:56.653230Z"
    }
   },
   "id": "530d91c75fe13b7"
  },
  {
   "cell_type": "code",
   "execution_count": 30,
   "outputs": [],
   "source": [
    "# Write to csv\n",
    "path_muts_per_sample.to_csv(data_path + '\\\\dependant\\\\pathogenic_mutations_per_sample.csv')"
   ],
   "metadata": {
    "collapsed": false,
    "ExecuteTime": {
     "end_time": "2023-12-30T00:28:56.788748400Z",
     "start_time": "2023-12-30T00:28:56.680545700Z"
    }
   },
   "id": "eb1ce3694fe56ebc"
  },
  {
   "cell_type": "code",
   "execution_count": 31,
   "outputs": [],
   "source": [
    "# Select all rows of mutation DF mutation_df where VariantInfo = 'MISSENSE' and VariantType = 'SNP' \n",
    "# May also want to include START_CODON_SNP here later (not sure if SNPs in start codon will be covered by the tools that assess mutations - introns only?)\n",
    "missense_snp = mutation_df[(mutation_df['VariantInfo']=='MISSENSE') & (mutation_df['VariantType']=='SNP')]"
   ],
   "metadata": {
    "collapsed": false,
    "ExecuteTime": {
     "end_time": "2023-12-30T00:28:56.820642600Z",
     "start_time": "2023-12-30T00:28:56.694566200Z"
    }
   },
   "id": "b90486832f3d5d04"
  },
  {
   "cell_type": "code",
   "execution_count": 32,
   "outputs": [
    {
     "data": {
      "text/plain": "        Chrom        Pos Ref Alt     AF  RefCount  AltCount   GT  PS  \\\n29670    chr1     963249   G   A  0.303        22         9  0/1 NaN   \n29673    chr1    2412394   C   T  0.391        14         8  0/1 NaN   \n29674    chr1    2512914   G   T  0.488        21        19  0/1 NaN   \n29675    chr1    2561696   C   T  0.320        24        12  0/1 NaN   \n29676    chr1    2789833   C   A  0.534         6         7  0/1 NaN   \n...       ...        ...  ..  ..    ...       ...       ...  ...  ..   \n1296633  chrX  153954753   T   C  0.857         0         6  0/1 NaN   \n1296636  chrM       8764   G   A  0.923         0        12  1|1 NaN   \n1296637  chrM       9055   G   A  0.952         0        20  1|1 NaN   \n1296640  chrM      11025   T   C  0.946         0        19  1|1 NaN   \n1296643  chrM      14798   T   C  0.964         0        28  1|1 NaN   \n\n        VariantType  ... RevelScore Funseq2Score PharmgkbID DidaID DidaName  \\\n29670           SNP  ...      0.976     3.000000        NaN    NaN      NaN   \n29673           SNP  ...      0.416     3.000000        NaN    NaN      NaN   \n29674           SNP  ...      0.436     1.000000        NaN    NaN      NaN   \n29675           SNP  ...      0.071     2.000000        NaN    NaN      NaN   \n29676           SNP  ...        NaN     0.166928        NaN    NaN      NaN   \n...             ...  ...        ...          ...        ...    ...      ...   \n1296633         SNP  ...      0.006     2.000000        NaN    NaN      NaN   \n1296636         SNP  ...        NaN          NaN        NaN    NaN      NaN   \n1296637         SNP  ...        NaN          NaN        NaN    NaN      NaN   \n1296640         SNP  ...        NaN          NaN        NaN    NaN      NaN   \n1296643         SNP  ...        NaN          NaN        NaN    NaN      NaN   \n\n        GwasDisease GwasPmID  GTexGene     ModelID EntrezGeneID  \n29670           NaN      NaN       NaN  ACH-000856     339451.0  \n29673           NaN      NaN       NaN  ACH-000856       5192.0  \n29674           NaN      NaN       NaN  ACH-000856      55229.0  \n29675           NaN      NaN       NaN  ACH-000856       8764.0  \n29676           NaN      NaN       NaN  ACH-000856  100287898.0  \n...             ...      ...       ...         ...          ...  \n1296633         NaN      NaN       NaN  ACH-000234       3054.0  \n1296636         NaN      NaN       NaN  ACH-000234       4508.0  \n1296637         NaN      NaN       NaN  ACH-000234       4508.0  \n1296640         NaN      NaN       NaN  ACH-000234       4538.0  \n1296643         NaN      NaN       NaN  ACH-000234       4519.0  \n\n[12299 rows x 56 columns]",
      "text/html": "<div>\n<style scoped>\n    .dataframe tbody tr th:only-of-type {\n        vertical-align: middle;\n    }\n\n    .dataframe tbody tr th {\n        vertical-align: top;\n    }\n\n    .dataframe thead th {\n        text-align: right;\n    }\n</style>\n<table border=\"1\" class=\"dataframe\">\n  <thead>\n    <tr style=\"text-align: right;\">\n      <th></th>\n      <th>Chrom</th>\n      <th>Pos</th>\n      <th>Ref</th>\n      <th>Alt</th>\n      <th>AF</th>\n      <th>RefCount</th>\n      <th>AltCount</th>\n      <th>GT</th>\n      <th>PS</th>\n      <th>VariantType</th>\n      <th>...</th>\n      <th>RevelScore</th>\n      <th>Funseq2Score</th>\n      <th>PharmgkbID</th>\n      <th>DidaID</th>\n      <th>DidaName</th>\n      <th>GwasDisease</th>\n      <th>GwasPmID</th>\n      <th>GTexGene</th>\n      <th>ModelID</th>\n      <th>EntrezGeneID</th>\n    </tr>\n  </thead>\n  <tbody>\n    <tr>\n      <th>29670</th>\n      <td>chr1</td>\n      <td>963249</td>\n      <td>G</td>\n      <td>A</td>\n      <td>0.303</td>\n      <td>22</td>\n      <td>9</td>\n      <td>0/1</td>\n      <td>NaN</td>\n      <td>SNP</td>\n      <td>...</td>\n      <td>0.976</td>\n      <td>3.000000</td>\n      <td>NaN</td>\n      <td>NaN</td>\n      <td>NaN</td>\n      <td>NaN</td>\n      <td>NaN</td>\n      <td>NaN</td>\n      <td>ACH-000856</td>\n      <td>339451.0</td>\n    </tr>\n    <tr>\n      <th>29673</th>\n      <td>chr1</td>\n      <td>2412394</td>\n      <td>C</td>\n      <td>T</td>\n      <td>0.391</td>\n      <td>14</td>\n      <td>8</td>\n      <td>0/1</td>\n      <td>NaN</td>\n      <td>SNP</td>\n      <td>...</td>\n      <td>0.416</td>\n      <td>3.000000</td>\n      <td>NaN</td>\n      <td>NaN</td>\n      <td>NaN</td>\n      <td>NaN</td>\n      <td>NaN</td>\n      <td>NaN</td>\n      <td>ACH-000856</td>\n      <td>5192.0</td>\n    </tr>\n    <tr>\n      <th>29674</th>\n      <td>chr1</td>\n      <td>2512914</td>\n      <td>G</td>\n      <td>T</td>\n      <td>0.488</td>\n      <td>21</td>\n      <td>19</td>\n      <td>0/1</td>\n      <td>NaN</td>\n      <td>SNP</td>\n      <td>...</td>\n      <td>0.436</td>\n      <td>1.000000</td>\n      <td>NaN</td>\n      <td>NaN</td>\n      <td>NaN</td>\n      <td>NaN</td>\n      <td>NaN</td>\n      <td>NaN</td>\n      <td>ACH-000856</td>\n      <td>55229.0</td>\n    </tr>\n    <tr>\n      <th>29675</th>\n      <td>chr1</td>\n      <td>2561696</td>\n      <td>C</td>\n      <td>T</td>\n      <td>0.320</td>\n      <td>24</td>\n      <td>12</td>\n      <td>0/1</td>\n      <td>NaN</td>\n      <td>SNP</td>\n      <td>...</td>\n      <td>0.071</td>\n      <td>2.000000</td>\n      <td>NaN</td>\n      <td>NaN</td>\n      <td>NaN</td>\n      <td>NaN</td>\n      <td>NaN</td>\n      <td>NaN</td>\n      <td>ACH-000856</td>\n      <td>8764.0</td>\n    </tr>\n    <tr>\n      <th>29676</th>\n      <td>chr1</td>\n      <td>2789833</td>\n      <td>C</td>\n      <td>A</td>\n      <td>0.534</td>\n      <td>6</td>\n      <td>7</td>\n      <td>0/1</td>\n      <td>NaN</td>\n      <td>SNP</td>\n      <td>...</td>\n      <td>NaN</td>\n      <td>0.166928</td>\n      <td>NaN</td>\n      <td>NaN</td>\n      <td>NaN</td>\n      <td>NaN</td>\n      <td>NaN</td>\n      <td>NaN</td>\n      <td>ACH-000856</td>\n      <td>100287898.0</td>\n    </tr>\n    <tr>\n      <th>...</th>\n      <td>...</td>\n      <td>...</td>\n      <td>...</td>\n      <td>...</td>\n      <td>...</td>\n      <td>...</td>\n      <td>...</td>\n      <td>...</td>\n      <td>...</td>\n      <td>...</td>\n      <td>...</td>\n      <td>...</td>\n      <td>...</td>\n      <td>...</td>\n      <td>...</td>\n      <td>...</td>\n      <td>...</td>\n      <td>...</td>\n      <td>...</td>\n      <td>...</td>\n      <td>...</td>\n    </tr>\n    <tr>\n      <th>1296633</th>\n      <td>chrX</td>\n      <td>153954753</td>\n      <td>T</td>\n      <td>C</td>\n      <td>0.857</td>\n      <td>0</td>\n      <td>6</td>\n      <td>0/1</td>\n      <td>NaN</td>\n      <td>SNP</td>\n      <td>...</td>\n      <td>0.006</td>\n      <td>2.000000</td>\n      <td>NaN</td>\n      <td>NaN</td>\n      <td>NaN</td>\n      <td>NaN</td>\n      <td>NaN</td>\n      <td>NaN</td>\n      <td>ACH-000234</td>\n      <td>3054.0</td>\n    </tr>\n    <tr>\n      <th>1296636</th>\n      <td>chrM</td>\n      <td>8764</td>\n      <td>G</td>\n      <td>A</td>\n      <td>0.923</td>\n      <td>0</td>\n      <td>12</td>\n      <td>1|1</td>\n      <td>NaN</td>\n      <td>SNP</td>\n      <td>...</td>\n      <td>NaN</td>\n      <td>NaN</td>\n      <td>NaN</td>\n      <td>NaN</td>\n      <td>NaN</td>\n      <td>NaN</td>\n      <td>NaN</td>\n      <td>NaN</td>\n      <td>ACH-000234</td>\n      <td>4508.0</td>\n    </tr>\n    <tr>\n      <th>1296637</th>\n      <td>chrM</td>\n      <td>9055</td>\n      <td>G</td>\n      <td>A</td>\n      <td>0.952</td>\n      <td>0</td>\n      <td>20</td>\n      <td>1|1</td>\n      <td>NaN</td>\n      <td>SNP</td>\n      <td>...</td>\n      <td>NaN</td>\n      <td>NaN</td>\n      <td>NaN</td>\n      <td>NaN</td>\n      <td>NaN</td>\n      <td>NaN</td>\n      <td>NaN</td>\n      <td>NaN</td>\n      <td>ACH-000234</td>\n      <td>4508.0</td>\n    </tr>\n    <tr>\n      <th>1296640</th>\n      <td>chrM</td>\n      <td>11025</td>\n      <td>T</td>\n      <td>C</td>\n      <td>0.946</td>\n      <td>0</td>\n      <td>19</td>\n      <td>1|1</td>\n      <td>NaN</td>\n      <td>SNP</td>\n      <td>...</td>\n      <td>NaN</td>\n      <td>NaN</td>\n      <td>NaN</td>\n      <td>NaN</td>\n      <td>NaN</td>\n      <td>NaN</td>\n      <td>NaN</td>\n      <td>NaN</td>\n      <td>ACH-000234</td>\n      <td>4538.0</td>\n    </tr>\n    <tr>\n      <th>1296643</th>\n      <td>chrM</td>\n      <td>14798</td>\n      <td>T</td>\n      <td>C</td>\n      <td>0.964</td>\n      <td>0</td>\n      <td>28</td>\n      <td>1|1</td>\n      <td>NaN</td>\n      <td>SNP</td>\n      <td>...</td>\n      <td>NaN</td>\n      <td>NaN</td>\n      <td>NaN</td>\n      <td>NaN</td>\n      <td>NaN</td>\n      <td>NaN</td>\n      <td>NaN</td>\n      <td>NaN</td>\n      <td>ACH-000234</td>\n      <td>4519.0</td>\n    </tr>\n  </tbody>\n</table>\n<p>12299 rows × 56 columns</p>\n</div>"
     },
     "execution_count": 32,
     "metadata": {},
     "output_type": "execute_result"
    }
   ],
   "source": [
    "missense_snp"
   ],
   "metadata": {
    "collapsed": false,
    "ExecuteTime": {
     "end_time": "2023-12-30T00:28:56.867503800Z",
     "start_time": "2023-12-30T00:28:56.710228800Z"
    }
   },
   "id": "4478d26280ba4968"
  },
  {
   "cell_type": "code",
   "execution_count": 33,
   "outputs": [
    {
     "data": {
      "text/plain": "array(['ENST00000338591.8', 'ENST00000447513.7', 'ENST00000378466.9', ...,\n       'ENST00000398145.6', 'ENST00000610913.2', 'ENST00000216146.9'],\n      dtype=object)"
     },
     "execution_count": 33,
     "metadata": {},
     "output_type": "execute_result"
    }
   ],
   "source": [
    "# How many unique missense snp transcripts are there?\n",
    "missense_snp_transcripts = missense_snp['Transcript'].unique()\n",
    "missense_snp_transcripts"
   ],
   "metadata": {
    "collapsed": false,
    "ExecuteTime": {
     "end_time": "2023-12-30T00:28:56.867503800Z",
     "start_time": "2023-12-30T00:28:56.741533200Z"
    }
   },
   "id": "e884ab56397f936e"
  },
  {
   "cell_type": "code",
   "execution_count": 34,
   "outputs": [
    {
     "data": {
      "text/plain": "Empty DataFrame\nColumns: [Chrom, Pos, Ref, Alt, AF, RefCount, AltCount, GT, PS, VariantType, VariantInfo, DNAChange, ProteinChange, HugoSymbol, HgncName, HgncFamily, Transcript, TranscriptExon, TranscriptStrand, UniprotID, Str, DbsnpID, DbsnpFilter, Issues, GcContent, LineageAssociation, CancerMolecularGenetics, CCLEDeleterious, StructuralRelation, CosmicHotspot, CosmicOverlappingMutations, AssociatedWith, LoF, Driver, LikelyDriver, TranscriptLikelyLoF, CivicID, CivicDescription, CivicScore, Popaf, LikelyGoF, LikelyLoF, HessDriver, HessSignature, CscapeScore, DannScore, RevelScore, Funseq2Score, PharmgkbID, DidaID, DidaName, GwasDisease, GwasPmID, GTexGene, ModelID, EntrezGeneID]\nIndex: []\n\n[0 rows x 56 columns]",
      "text/html": "<div>\n<style scoped>\n    .dataframe tbody tr th:only-of-type {\n        vertical-align: middle;\n    }\n\n    .dataframe tbody tr th {\n        vertical-align: top;\n    }\n\n    .dataframe thead th {\n        text-align: right;\n    }\n</style>\n<table border=\"1\" class=\"dataframe\">\n  <thead>\n    <tr style=\"text-align: right;\">\n      <th></th>\n      <th>Chrom</th>\n      <th>Pos</th>\n      <th>Ref</th>\n      <th>Alt</th>\n      <th>AF</th>\n      <th>RefCount</th>\n      <th>AltCount</th>\n      <th>GT</th>\n      <th>PS</th>\n      <th>VariantType</th>\n      <th>...</th>\n      <th>RevelScore</th>\n      <th>Funseq2Score</th>\n      <th>PharmgkbID</th>\n      <th>DidaID</th>\n      <th>DidaName</th>\n      <th>GwasDisease</th>\n      <th>GwasPmID</th>\n      <th>GTexGene</th>\n      <th>ModelID</th>\n      <th>EntrezGeneID</th>\n    </tr>\n  </thead>\n  <tbody>\n  </tbody>\n</table>\n<p>0 rows × 56 columns</p>\n</div>"
     },
     "execution_count": 34,
     "metadata": {},
     "output_type": "execute_result"
    }
   ],
   "source": [
    "# How many missing transcripts are there?\n",
    "missense_snp[missense_snp['Transcript'].isnull()]"
   ],
   "metadata": {
    "collapsed": false,
    "ExecuteTime": {
     "end_time": "2023-12-30T00:28:56.867503800Z",
     "start_time": "2023-12-30T00:28:56.757094800Z"
    }
   },
   "id": "c522142d2faa63a7"
  },
  {
   "cell_type": "code",
   "execution_count": 35,
   "outputs": [
    {
     "data": {
      "text/plain": "         Chrom       Pos Ref Alt     AF  RefCount  AltCount   GT          PS  \\\n29686     chr1  12777228  GT  AA  0.214        33         9  0|1  12777228.0   \n29687     chr1  12777427  GA  AG  0.155        38         6  0|1  12777421.0   \n29688     chr1  12859754  CC  TG  0.222        20         5  0|1  12859749.0   \n29689     chr1  12861232  AC  TG  0.315        13         6  0/1         NaN   \n29697     chr1  17438418  CC  AT  0.450        10         8  0/1         NaN   \n...        ...       ...  ..  ..    ...       ...       ...  ...         ...   \n1296496  chr12  11091653  GT  TC  0.780         5        19  0|1  11091626.0   \n1296497  chr12  11091770  GC  AT  0.841         4        23  0|1  11091770.0   \n1296498  chr12  11092131  AA  GG  0.934         2        40  1|1  11092122.0   \n1296570  chr17  36212342  CG  GA  0.347        14         7  0|1  36212342.0   \n1296609  chr20   1915150  TG  CA  0.875         3        27  0|1   1915148.0   \n\n        VariantType  ... RevelScore Funseq2Score PharmgkbID DidaID DidaName  \\\n29686           DNP  ...        NaN          NaN        NaN    NaN      NaN   \n29687           DNP  ...        NaN          NaN        NaN    NaN      NaN   \n29688           DNP  ...        NaN          NaN        NaN    NaN      NaN   \n29689           DNP  ...        NaN          NaN        NaN    NaN      NaN   \n29697           DNP  ...        NaN          NaN        NaN    NaN      NaN   \n...             ...  ...        ...          ...        ...    ...      ...   \n1296496         DNP  ...        NaN          NaN        NaN    NaN      NaN   \n1296497         DNP  ...        NaN          NaN        NaN    NaN      NaN   \n1296498         DNP  ...        NaN          NaN        NaN    NaN      NaN   \n1296570         DNP  ...        NaN          NaN        NaN    NaN      NaN   \n1296609         DNP  ...        NaN          NaN        NaN    NaN      NaN   \n\n        GwasDisease GwasPmID  GTexGene     ModelID EntrezGeneID  \n29686           NaN      NaN       NaN  ACH-000856     390999.0  \n29687           NaN      NaN       NaN  ACH-000856     390999.0  \n29688           NaN      NaN       NaN  ACH-000856      65122.0  \n29689           NaN      NaN       NaN  ACH-000856      65122.0  \n29697           NaN      NaN       NaN  ACH-000856      55920.0  \n...             ...      ...       ...         ...          ...  \n1296496         NaN      NaN       NaN  ACH-000234     259291.0  \n1296497         NaN      NaN       NaN  ACH-000234     259291.0  \n1296498         NaN      NaN       NaN  ACH-000234     259291.0  \n1296570         NaN      NaN       NaN  ACH-000234       9560.0  \n1296609         NaN      NaN       NaN  ACH-000234     140885.0  \n\n[901 rows x 56 columns]",
      "text/html": "<div>\n<style scoped>\n    .dataframe tbody tr th:only-of-type {\n        vertical-align: middle;\n    }\n\n    .dataframe tbody tr th {\n        vertical-align: top;\n    }\n\n    .dataframe thead th {\n        text-align: right;\n    }\n</style>\n<table border=\"1\" class=\"dataframe\">\n  <thead>\n    <tr style=\"text-align: right;\">\n      <th></th>\n      <th>Chrom</th>\n      <th>Pos</th>\n      <th>Ref</th>\n      <th>Alt</th>\n      <th>AF</th>\n      <th>RefCount</th>\n      <th>AltCount</th>\n      <th>GT</th>\n      <th>PS</th>\n      <th>VariantType</th>\n      <th>...</th>\n      <th>RevelScore</th>\n      <th>Funseq2Score</th>\n      <th>PharmgkbID</th>\n      <th>DidaID</th>\n      <th>DidaName</th>\n      <th>GwasDisease</th>\n      <th>GwasPmID</th>\n      <th>GTexGene</th>\n      <th>ModelID</th>\n      <th>EntrezGeneID</th>\n    </tr>\n  </thead>\n  <tbody>\n    <tr>\n      <th>29686</th>\n      <td>chr1</td>\n      <td>12777228</td>\n      <td>GT</td>\n      <td>AA</td>\n      <td>0.214</td>\n      <td>33</td>\n      <td>9</td>\n      <td>0|1</td>\n      <td>12777228.0</td>\n      <td>DNP</td>\n      <td>...</td>\n      <td>NaN</td>\n      <td>NaN</td>\n      <td>NaN</td>\n      <td>NaN</td>\n      <td>NaN</td>\n      <td>NaN</td>\n      <td>NaN</td>\n      <td>NaN</td>\n      <td>ACH-000856</td>\n      <td>390999.0</td>\n    </tr>\n    <tr>\n      <th>29687</th>\n      <td>chr1</td>\n      <td>12777427</td>\n      <td>GA</td>\n      <td>AG</td>\n      <td>0.155</td>\n      <td>38</td>\n      <td>6</td>\n      <td>0|1</td>\n      <td>12777421.0</td>\n      <td>DNP</td>\n      <td>...</td>\n      <td>NaN</td>\n      <td>NaN</td>\n      <td>NaN</td>\n      <td>NaN</td>\n      <td>NaN</td>\n      <td>NaN</td>\n      <td>NaN</td>\n      <td>NaN</td>\n      <td>ACH-000856</td>\n      <td>390999.0</td>\n    </tr>\n    <tr>\n      <th>29688</th>\n      <td>chr1</td>\n      <td>12859754</td>\n      <td>CC</td>\n      <td>TG</td>\n      <td>0.222</td>\n      <td>20</td>\n      <td>5</td>\n      <td>0|1</td>\n      <td>12859749.0</td>\n      <td>DNP</td>\n      <td>...</td>\n      <td>NaN</td>\n      <td>NaN</td>\n      <td>NaN</td>\n      <td>NaN</td>\n      <td>NaN</td>\n      <td>NaN</td>\n      <td>NaN</td>\n      <td>NaN</td>\n      <td>ACH-000856</td>\n      <td>65122.0</td>\n    </tr>\n    <tr>\n      <th>29689</th>\n      <td>chr1</td>\n      <td>12861232</td>\n      <td>AC</td>\n      <td>TG</td>\n      <td>0.315</td>\n      <td>13</td>\n      <td>6</td>\n      <td>0/1</td>\n      <td>NaN</td>\n      <td>DNP</td>\n      <td>...</td>\n      <td>NaN</td>\n      <td>NaN</td>\n      <td>NaN</td>\n      <td>NaN</td>\n      <td>NaN</td>\n      <td>NaN</td>\n      <td>NaN</td>\n      <td>NaN</td>\n      <td>ACH-000856</td>\n      <td>65122.0</td>\n    </tr>\n    <tr>\n      <th>29697</th>\n      <td>chr1</td>\n      <td>17438418</td>\n      <td>CC</td>\n      <td>AT</td>\n      <td>0.450</td>\n      <td>10</td>\n      <td>8</td>\n      <td>0/1</td>\n      <td>NaN</td>\n      <td>DNP</td>\n      <td>...</td>\n      <td>NaN</td>\n      <td>NaN</td>\n      <td>NaN</td>\n      <td>NaN</td>\n      <td>NaN</td>\n      <td>NaN</td>\n      <td>NaN</td>\n      <td>NaN</td>\n      <td>ACH-000856</td>\n      <td>55920.0</td>\n    </tr>\n    <tr>\n      <th>...</th>\n      <td>...</td>\n      <td>...</td>\n      <td>...</td>\n      <td>...</td>\n      <td>...</td>\n      <td>...</td>\n      <td>...</td>\n      <td>...</td>\n      <td>...</td>\n      <td>...</td>\n      <td>...</td>\n      <td>...</td>\n      <td>...</td>\n      <td>...</td>\n      <td>...</td>\n      <td>...</td>\n      <td>...</td>\n      <td>...</td>\n      <td>...</td>\n      <td>...</td>\n      <td>...</td>\n    </tr>\n    <tr>\n      <th>1296496</th>\n      <td>chr12</td>\n      <td>11091653</td>\n      <td>GT</td>\n      <td>TC</td>\n      <td>0.780</td>\n      <td>5</td>\n      <td>19</td>\n      <td>0|1</td>\n      <td>11091626.0</td>\n      <td>DNP</td>\n      <td>...</td>\n      <td>NaN</td>\n      <td>NaN</td>\n      <td>NaN</td>\n      <td>NaN</td>\n      <td>NaN</td>\n      <td>NaN</td>\n      <td>NaN</td>\n      <td>NaN</td>\n      <td>ACH-000234</td>\n      <td>259291.0</td>\n    </tr>\n    <tr>\n      <th>1296497</th>\n      <td>chr12</td>\n      <td>11091770</td>\n      <td>GC</td>\n      <td>AT</td>\n      <td>0.841</td>\n      <td>4</td>\n      <td>23</td>\n      <td>0|1</td>\n      <td>11091770.0</td>\n      <td>DNP</td>\n      <td>...</td>\n      <td>NaN</td>\n      <td>NaN</td>\n      <td>NaN</td>\n      <td>NaN</td>\n      <td>NaN</td>\n      <td>NaN</td>\n      <td>NaN</td>\n      <td>NaN</td>\n      <td>ACH-000234</td>\n      <td>259291.0</td>\n    </tr>\n    <tr>\n      <th>1296498</th>\n      <td>chr12</td>\n      <td>11092131</td>\n      <td>AA</td>\n      <td>GG</td>\n      <td>0.934</td>\n      <td>2</td>\n      <td>40</td>\n      <td>1|1</td>\n      <td>11092122.0</td>\n      <td>DNP</td>\n      <td>...</td>\n      <td>NaN</td>\n      <td>NaN</td>\n      <td>NaN</td>\n      <td>NaN</td>\n      <td>NaN</td>\n      <td>NaN</td>\n      <td>NaN</td>\n      <td>NaN</td>\n      <td>ACH-000234</td>\n      <td>259291.0</td>\n    </tr>\n    <tr>\n      <th>1296570</th>\n      <td>chr17</td>\n      <td>36212342</td>\n      <td>CG</td>\n      <td>GA</td>\n      <td>0.347</td>\n      <td>14</td>\n      <td>7</td>\n      <td>0|1</td>\n      <td>36212342.0</td>\n      <td>DNP</td>\n      <td>...</td>\n      <td>NaN</td>\n      <td>NaN</td>\n      <td>NaN</td>\n      <td>NaN</td>\n      <td>NaN</td>\n      <td>NaN</td>\n      <td>NaN</td>\n      <td>NaN</td>\n      <td>ACH-000234</td>\n      <td>9560.0</td>\n    </tr>\n    <tr>\n      <th>1296609</th>\n      <td>chr20</td>\n      <td>1915150</td>\n      <td>TG</td>\n      <td>CA</td>\n      <td>0.875</td>\n      <td>3</td>\n      <td>27</td>\n      <td>0|1</td>\n      <td>1915148.0</td>\n      <td>DNP</td>\n      <td>...</td>\n      <td>NaN</td>\n      <td>NaN</td>\n      <td>NaN</td>\n      <td>NaN</td>\n      <td>NaN</td>\n      <td>NaN</td>\n      <td>NaN</td>\n      <td>NaN</td>\n      <td>ACH-000234</td>\n      <td>140885.0</td>\n    </tr>\n  </tbody>\n</table>\n<p>901 rows × 56 columns</p>\n</div>"
     },
     "execution_count": 35,
     "metadata": {},
     "output_type": "execute_result"
    }
   ],
   "source": [
    "# Select all DNP and TNP missense mutations (in original version these are not assessed)\n",
    "missense_dnp_tnp = mutation_df[(mutation_df['VariantInfo']=='MISSENSE') & ((mutation_df['VariantType'] == 'DNP') | (mutation_df['VariantType'] == 'TNP'))]\n",
    "missense_dnp_tnp"
   ],
   "metadata": {
    "collapsed": false,
    "ExecuteTime": {
     "end_time": "2023-12-30T00:28:56.930418900Z",
     "start_time": "2023-12-30T00:28:56.772729100Z"
    }
   },
   "id": "13285fc3da2e0e3d"
  },
  {
   "cell_type": "code",
   "execution_count": 36,
   "outputs": [
    {
     "data": {
      "text/plain": "array(['chr1', 'chr2', 'chr3', 'chr4', 'chr5', 'chr6', 'chr7', 'chr8',\n       'chr9', 'chr10', 'chr11', 'chr12', 'chr13', 'chr14', 'chr15',\n       'chr16', 'chr17', 'chr18', 'chr19', 'chr20', 'chr21', 'chr22',\n       'chrX', 'chrM', 'chrY'], dtype=object)"
     },
     "execution_count": 36,
     "metadata": {},
     "output_type": "execute_result"
    }
   ],
   "source": [
    "# Check what's in the chromosomes column\n",
    "missense_snp['Chrom'].unique()"
   ],
   "metadata": {
    "collapsed": false,
    "ExecuteTime": {
     "end_time": "2023-12-30T00:28:56.962073900Z",
     "start_time": "2023-12-30T00:28:56.804998200Z"
    }
   },
   "id": "eaf103eb07d9193a"
  },
  {
   "cell_type": "code",
   "execution_count": 37,
   "outputs": [
    {
     "name": "stdout",
     "output_type": "stream",
     "text": [
      "12299\n"
     ]
    }
   ],
   "source": [
    "# Create a VCF file with the SNP missense mutation data\n",
    "\n",
    "# Copy a subset of columns from the missense_snp dataframe\n",
    "missense_snp_vcf = missense_snp[['Chrom', 'Pos', 'DbsnpID',  'Ref', 'Alt']].copy()\n",
    "\n",
    "# Rename the columns to match VCF format requirements\n",
    "missense_snp_vcf.rename(columns={'Chrom' : '#CHROM' , 'Pos': 'POS', 'Ref': 'REF', 'Alt': 'ALT', 'DbsnpID' : 'ID'}, inplace=True)\n",
    "\n",
    "# Remove 'chr' string from the chromosome column values - Fathmm-XF won't recognise this this \n",
    "missense_snp_vcf['#CHROM'] = missense_snp_vcf['#CHROM'].str.replace('chr', '')\n",
    "\n",
    "# Write to CSV\n",
    "missense_snp_vcf.to_csv(data_path + '\\\\dependant\\\\depmap_mutations_for_fathmm.vcf', sep='\\t', index=False)\n",
    "\n",
    "print(len(missense_snp_vcf))\n",
    "missense_snp_vcf.head()\n",
    "\n",
    "del missense_snp_vcf"
   ],
   "metadata": {
    "collapsed": false,
    "ExecuteTime": {
     "end_time": "2023-12-30T00:28:57.006730600Z",
     "start_time": "2023-12-30T00:28:56.820642600Z"
    }
   },
   "id": "becb91bb05a8889e"
  },
  {
   "cell_type": "markdown",
   "source": [
    "## Alpha Missense mutation analysis starts here"
   ],
   "metadata": {
    "collapsed": false
   },
   "id": "39910f13b5d16b7d"
  },
  {
   "cell_type": "markdown",
   "source": [
    "### Load and merge the primary data"
   ],
   "metadata": {
    "collapsed": false
   },
   "id": "726e5c0cb5f087f9"
  },
  {
   "cell_type": "code",
   "execution_count": 38,
   "outputs": [],
   "source": [
    "# Load and preview the alpha missense data (primary assembly)\n",
    "alpha_missense_primary = pd.read_csv(data_path + 'alphamissense\\\\AlphaMissense_hg38.tsv', skiprows=3, sep='\\t')"
   ],
   "metadata": {
    "collapsed": false,
    "ExecuteTime": {
     "end_time": "2023-12-30T00:29:55.517271Z",
     "start_time": "2023-12-30T00:28:56.867503800Z"
    }
   },
   "id": "269b8dfad5c06b42"
  },
  {
   "cell_type": "code",
   "execution_count": 39,
   "outputs": [
    {
     "name": "stdout",
     "output_type": "stream",
     "text": [
      "raw length: 71697556\n",
      "filtered length: 24330476\n"
     ]
    },
    {
     "data": {
      "text/plain": "     #CHROM     POS REF ALT genome uniprot_id      transcript_id  \\\n2018   chr1  925945   T   G   hg38     Q96NU1  ENST00000342066.8   \n2019   chr1  925945   T   C   hg38     Q96NU1  ENST00000342066.8   \n2020   chr1  925945   T   A   hg38     Q96NU1  ENST00000342066.8   \n2021   chr1  925946   C   G   hg38     Q96NU1  ENST00000342066.8   \n2022   chr1  925946   C   T   hg38     Q96NU1  ENST00000342066.8   \n\n     protein_variant  am_pathogenicity           am_class  \n2018             S2A            0.6065  likely_pathogenic  \n2019             S2P            0.8999  likely_pathogenic  \n2020             S2T            0.6602  likely_pathogenic  \n2021             S2C            0.8753  likely_pathogenic  \n2022             S2F            0.9876  likely_pathogenic  ",
      "text/html": "<div>\n<style scoped>\n    .dataframe tbody tr th:only-of-type {\n        vertical-align: middle;\n    }\n\n    .dataframe tbody tr th {\n        vertical-align: top;\n    }\n\n    .dataframe thead th {\n        text-align: right;\n    }\n</style>\n<table border=\"1\" class=\"dataframe\">\n  <thead>\n    <tr style=\"text-align: right;\">\n      <th></th>\n      <th>#CHROM</th>\n      <th>POS</th>\n      <th>REF</th>\n      <th>ALT</th>\n      <th>genome</th>\n      <th>uniprot_id</th>\n      <th>transcript_id</th>\n      <th>protein_variant</th>\n      <th>am_pathogenicity</th>\n      <th>am_class</th>\n    </tr>\n  </thead>\n  <tbody>\n    <tr>\n      <th>2018</th>\n      <td>chr1</td>\n      <td>925945</td>\n      <td>T</td>\n      <td>G</td>\n      <td>hg38</td>\n      <td>Q96NU1</td>\n      <td>ENST00000342066.8</td>\n      <td>S2A</td>\n      <td>0.6065</td>\n      <td>likely_pathogenic</td>\n    </tr>\n    <tr>\n      <th>2019</th>\n      <td>chr1</td>\n      <td>925945</td>\n      <td>T</td>\n      <td>C</td>\n      <td>hg38</td>\n      <td>Q96NU1</td>\n      <td>ENST00000342066.8</td>\n      <td>S2P</td>\n      <td>0.8999</td>\n      <td>likely_pathogenic</td>\n    </tr>\n    <tr>\n      <th>2020</th>\n      <td>chr1</td>\n      <td>925945</td>\n      <td>T</td>\n      <td>A</td>\n      <td>hg38</td>\n      <td>Q96NU1</td>\n      <td>ENST00000342066.8</td>\n      <td>S2T</td>\n      <td>0.6602</td>\n      <td>likely_pathogenic</td>\n    </tr>\n    <tr>\n      <th>2021</th>\n      <td>chr1</td>\n      <td>925946</td>\n      <td>C</td>\n      <td>G</td>\n      <td>hg38</td>\n      <td>Q96NU1</td>\n      <td>ENST00000342066.8</td>\n      <td>S2C</td>\n      <td>0.8753</td>\n      <td>likely_pathogenic</td>\n    </tr>\n    <tr>\n      <th>2022</th>\n      <td>chr1</td>\n      <td>925946</td>\n      <td>C</td>\n      <td>T</td>\n      <td>hg38</td>\n      <td>Q96NU1</td>\n      <td>ENST00000342066.8</td>\n      <td>S2F</td>\n      <td>0.9876</td>\n      <td>likely_pathogenic</td>\n    </tr>\n  </tbody>\n</table>\n</div>"
     },
     "execution_count": 39,
     "metadata": {},
     "output_type": "execute_result"
    }
   ],
   "source": [
    "# Print length to screen:\n",
    "print(f'raw length: {len(alpha_missense_primary)}')\n",
    "\n",
    "if remove_transcript_versions:\n",
    "    # Remove anything after \".\" in the 'Annotation_Transcript' column if remove_transcript_versions\n",
    "    alpha_missense_primary['transcript_id'] = alpha_missense_primary['transcript_id'].map(lambda x: x.split('.')[0])\n",
    "\n",
    "# Only select transcript IDs that are in the mutation data\n",
    "alpha_missense_primary = alpha_missense_primary[alpha_missense_primary['transcript_id'].isin(missense_snp_transcripts)]\n",
    "\n",
    "# Save new length and print to screen\n",
    "alpha_missense_primary_len = len(alpha_missense_primary)\n",
    "print(f'filtered length: {alpha_missense_primary_len}')\n",
    "\n",
    "# Save a unique list of transcript IDs \n",
    "alpha_missense_primary_transcripts = set(alpha_missense_primary['transcript_id'].tolist())\n",
    "\n",
    "alpha_missense_primary.head()"
   ],
   "metadata": {
    "collapsed": false,
    "ExecuteTime": {
     "end_time": "2023-12-30T00:30:01.607689700Z",
     "start_time": "2023-12-30T00:29:55.517271Z"
    }
   },
   "id": "ec6bbfee85355dff"
  },
  {
   "cell_type": "code",
   "execution_count": 40,
   "outputs": [
    {
     "data": {
      "text/plain": "      Chrom        Pos Ref Alt     AF  RefCount  AltCount   GT  PS  \\\n0      chr1     963249   G   A  0.303        22         9  0/1 NaN   \n1      chr1    2412394   C   T  0.391        14         8  0/1 NaN   \n2      chr1    2512914   G   T  0.488        21        19  0/1 NaN   \n3      chr1    2561696   C   T  0.320        24        12  0/1 NaN   \n4      chr1    2789833   C   A  0.534         6         7  0/1 NaN   \n...     ...        ...  ..  ..    ...       ...       ...  ...  ..   \n12294  chrX  153954753   T   C  0.857         0         6  0/1 NaN   \n12295  chrM       8764   G   A  0.923         0        12  1|1 NaN   \n12296  chrM       9055   G   A  0.952         0        20  1|1 NaN   \n12297  chrM      11025   T   C  0.946         0        19  1|1 NaN   \n12298  chrM      14798   T   C  0.964         0        28  1|1 NaN   \n\n      VariantType  ... DidaID DidaName GwasDisease GwasPmID GTexGene  \\\n0             SNP  ...    NaN      NaN         NaN      NaN      NaN   \n1             SNP  ...    NaN      NaN         NaN      NaN      NaN   \n2             SNP  ...    NaN      NaN         NaN      NaN      NaN   \n3             SNP  ...    NaN      NaN         NaN      NaN      NaN   \n4             SNP  ...    NaN      NaN         NaN      NaN      NaN   \n...           ...  ...    ...      ...         ...      ...      ...   \n12294         SNP  ...    NaN      NaN         NaN      NaN      NaN   \n12295         SNP  ...    NaN      NaN         NaN      NaN      NaN   \n12296         SNP  ...    NaN      NaN         NaN      NaN      NaN   \n12297         SNP  ...    NaN      NaN         NaN      NaN      NaN   \n12298         SNP  ...    NaN      NaN         NaN      NaN      NaN   \n\n          ModelID EntrezGeneID  am_pathogenicity           am_class am_source  \n0      ACH-000856     339451.0            0.9941  likely_pathogenic   primary  \n1      ACH-000856       5192.0               NaN                NaN       NaN  \n2      ACH-000856      55229.0            0.9989  likely_pathogenic   primary  \n3      ACH-000856       8764.0            0.1136      likely_benign   primary  \n4      ACH-000856  100287898.0               NaN                NaN       NaN  \n...           ...          ...               ...                ...       ...  \n12294  ACH-000234       3054.0               NaN                NaN       NaN  \n12295  ACH-000234       4508.0            0.1314      likely_benign   primary  \n12296  ACH-000234       4508.0            0.1589      likely_benign   primary  \n12297  ACH-000234       4538.0            0.1123      likely_benign   primary  \n12298  ACH-000234       4519.0            0.4004          ambiguous   primary  \n\n[12299 rows x 59 columns]",
      "text/html": "<div>\n<style scoped>\n    .dataframe tbody tr th:only-of-type {\n        vertical-align: middle;\n    }\n\n    .dataframe tbody tr th {\n        vertical-align: top;\n    }\n\n    .dataframe thead th {\n        text-align: right;\n    }\n</style>\n<table border=\"1\" class=\"dataframe\">\n  <thead>\n    <tr style=\"text-align: right;\">\n      <th></th>\n      <th>Chrom</th>\n      <th>Pos</th>\n      <th>Ref</th>\n      <th>Alt</th>\n      <th>AF</th>\n      <th>RefCount</th>\n      <th>AltCount</th>\n      <th>GT</th>\n      <th>PS</th>\n      <th>VariantType</th>\n      <th>...</th>\n      <th>DidaID</th>\n      <th>DidaName</th>\n      <th>GwasDisease</th>\n      <th>GwasPmID</th>\n      <th>GTexGene</th>\n      <th>ModelID</th>\n      <th>EntrezGeneID</th>\n      <th>am_pathogenicity</th>\n      <th>am_class</th>\n      <th>am_source</th>\n    </tr>\n  </thead>\n  <tbody>\n    <tr>\n      <th>0</th>\n      <td>chr1</td>\n      <td>963249</td>\n      <td>G</td>\n      <td>A</td>\n      <td>0.303</td>\n      <td>22</td>\n      <td>9</td>\n      <td>0/1</td>\n      <td>NaN</td>\n      <td>SNP</td>\n      <td>...</td>\n      <td>NaN</td>\n      <td>NaN</td>\n      <td>NaN</td>\n      <td>NaN</td>\n      <td>NaN</td>\n      <td>ACH-000856</td>\n      <td>339451.0</td>\n      <td>0.9941</td>\n      <td>likely_pathogenic</td>\n      <td>primary</td>\n    </tr>\n    <tr>\n      <th>1</th>\n      <td>chr1</td>\n      <td>2412394</td>\n      <td>C</td>\n      <td>T</td>\n      <td>0.391</td>\n      <td>14</td>\n      <td>8</td>\n      <td>0/1</td>\n      <td>NaN</td>\n      <td>SNP</td>\n      <td>...</td>\n      <td>NaN</td>\n      <td>NaN</td>\n      <td>NaN</td>\n      <td>NaN</td>\n      <td>NaN</td>\n      <td>ACH-000856</td>\n      <td>5192.0</td>\n      <td>NaN</td>\n      <td>NaN</td>\n      <td>NaN</td>\n    </tr>\n    <tr>\n      <th>2</th>\n      <td>chr1</td>\n      <td>2512914</td>\n      <td>G</td>\n      <td>T</td>\n      <td>0.488</td>\n      <td>21</td>\n      <td>19</td>\n      <td>0/1</td>\n      <td>NaN</td>\n      <td>SNP</td>\n      <td>...</td>\n      <td>NaN</td>\n      <td>NaN</td>\n      <td>NaN</td>\n      <td>NaN</td>\n      <td>NaN</td>\n      <td>ACH-000856</td>\n      <td>55229.0</td>\n      <td>0.9989</td>\n      <td>likely_pathogenic</td>\n      <td>primary</td>\n    </tr>\n    <tr>\n      <th>3</th>\n      <td>chr1</td>\n      <td>2561696</td>\n      <td>C</td>\n      <td>T</td>\n      <td>0.320</td>\n      <td>24</td>\n      <td>12</td>\n      <td>0/1</td>\n      <td>NaN</td>\n      <td>SNP</td>\n      <td>...</td>\n      <td>NaN</td>\n      <td>NaN</td>\n      <td>NaN</td>\n      <td>NaN</td>\n      <td>NaN</td>\n      <td>ACH-000856</td>\n      <td>8764.0</td>\n      <td>0.1136</td>\n      <td>likely_benign</td>\n      <td>primary</td>\n    </tr>\n    <tr>\n      <th>4</th>\n      <td>chr1</td>\n      <td>2789833</td>\n      <td>C</td>\n      <td>A</td>\n      <td>0.534</td>\n      <td>6</td>\n      <td>7</td>\n      <td>0/1</td>\n      <td>NaN</td>\n      <td>SNP</td>\n      <td>...</td>\n      <td>NaN</td>\n      <td>NaN</td>\n      <td>NaN</td>\n      <td>NaN</td>\n      <td>NaN</td>\n      <td>ACH-000856</td>\n      <td>100287898.0</td>\n      <td>NaN</td>\n      <td>NaN</td>\n      <td>NaN</td>\n    </tr>\n    <tr>\n      <th>...</th>\n      <td>...</td>\n      <td>...</td>\n      <td>...</td>\n      <td>...</td>\n      <td>...</td>\n      <td>...</td>\n      <td>...</td>\n      <td>...</td>\n      <td>...</td>\n      <td>...</td>\n      <td>...</td>\n      <td>...</td>\n      <td>...</td>\n      <td>...</td>\n      <td>...</td>\n      <td>...</td>\n      <td>...</td>\n      <td>...</td>\n      <td>...</td>\n      <td>...</td>\n      <td>...</td>\n    </tr>\n    <tr>\n      <th>12294</th>\n      <td>chrX</td>\n      <td>153954753</td>\n      <td>T</td>\n      <td>C</td>\n      <td>0.857</td>\n      <td>0</td>\n      <td>6</td>\n      <td>0/1</td>\n      <td>NaN</td>\n      <td>SNP</td>\n      <td>...</td>\n      <td>NaN</td>\n      <td>NaN</td>\n      <td>NaN</td>\n      <td>NaN</td>\n      <td>NaN</td>\n      <td>ACH-000234</td>\n      <td>3054.0</td>\n      <td>NaN</td>\n      <td>NaN</td>\n      <td>NaN</td>\n    </tr>\n    <tr>\n      <th>12295</th>\n      <td>chrM</td>\n      <td>8764</td>\n      <td>G</td>\n      <td>A</td>\n      <td>0.923</td>\n      <td>0</td>\n      <td>12</td>\n      <td>1|1</td>\n      <td>NaN</td>\n      <td>SNP</td>\n      <td>...</td>\n      <td>NaN</td>\n      <td>NaN</td>\n      <td>NaN</td>\n      <td>NaN</td>\n      <td>NaN</td>\n      <td>ACH-000234</td>\n      <td>4508.0</td>\n      <td>0.1314</td>\n      <td>likely_benign</td>\n      <td>primary</td>\n    </tr>\n    <tr>\n      <th>12296</th>\n      <td>chrM</td>\n      <td>9055</td>\n      <td>G</td>\n      <td>A</td>\n      <td>0.952</td>\n      <td>0</td>\n      <td>20</td>\n      <td>1|1</td>\n      <td>NaN</td>\n      <td>SNP</td>\n      <td>...</td>\n      <td>NaN</td>\n      <td>NaN</td>\n      <td>NaN</td>\n      <td>NaN</td>\n      <td>NaN</td>\n      <td>ACH-000234</td>\n      <td>4508.0</td>\n      <td>0.1589</td>\n      <td>likely_benign</td>\n      <td>primary</td>\n    </tr>\n    <tr>\n      <th>12297</th>\n      <td>chrM</td>\n      <td>11025</td>\n      <td>T</td>\n      <td>C</td>\n      <td>0.946</td>\n      <td>0</td>\n      <td>19</td>\n      <td>1|1</td>\n      <td>NaN</td>\n      <td>SNP</td>\n      <td>...</td>\n      <td>NaN</td>\n      <td>NaN</td>\n      <td>NaN</td>\n      <td>NaN</td>\n      <td>NaN</td>\n      <td>ACH-000234</td>\n      <td>4538.0</td>\n      <td>0.1123</td>\n      <td>likely_benign</td>\n      <td>primary</td>\n    </tr>\n    <tr>\n      <th>12298</th>\n      <td>chrM</td>\n      <td>14798</td>\n      <td>T</td>\n      <td>C</td>\n      <td>0.964</td>\n      <td>0</td>\n      <td>28</td>\n      <td>1|1</td>\n      <td>NaN</td>\n      <td>SNP</td>\n      <td>...</td>\n      <td>NaN</td>\n      <td>NaN</td>\n      <td>NaN</td>\n      <td>NaN</td>\n      <td>NaN</td>\n      <td>ACH-000234</td>\n      <td>4519.0</td>\n      <td>0.4004</td>\n      <td>ambiguous</td>\n      <td>primary</td>\n    </tr>\n  </tbody>\n</table>\n<p>12299 rows × 59 columns</p>\n</div>"
     },
     "execution_count": 40,
     "metadata": {},
     "output_type": "execute_result"
    }
   ],
   "source": [
    "# Rename columns in alpha_missense_primary df to match those in missense_snp for the merging criteria\n",
    "alpha_missense_primary.rename(columns={'#CHROM': 'Chrom', 'POS': 'Pos', 'REF': 'Ref', 'ALT': 'Alt', 'transcript_id': 'Transcript'}, inplace=True)\n",
    "\n",
    "# Add a column so we can later identify the source of the data when merged\n",
    "alpha_missense_primary['am_source'] = 'primary'\n",
    "\n",
    "# Now, merge the DataFrames\n",
    "missense_snp_extended = missense_snp.merge(alpha_missense_primary[['Chrom', 'Pos', 'Ref', 'Alt', 'Transcript', 'am_pathogenicity', 'am_class', 'am_source']], \n",
    "                on=['Chrom', 'Pos', 'Ref', 'Alt', 'Transcript'], \n",
    "                how='left')\n",
    "\n",
    "#del alpha_missense_primary\n",
    "\n",
    "missense_snp_extended"
   ],
   "metadata": {
    "collapsed": false,
    "ExecuteTime": {
     "end_time": "2023-12-30T00:30:15.051182900Z",
     "start_time": "2023-12-30T00:30:01.587683200Z"
    }
   },
   "id": "21e20df2887d62e8"
  },
  {
   "cell_type": "code",
   "execution_count": 41,
   "outputs": [
    {
     "data": {
      "text/plain": "12299"
     },
     "execution_count": 41,
     "metadata": {},
     "output_type": "execute_result"
    }
   ],
   "source": [
    "# Count rows again after merge\n",
    "len(missense_snp_extended)"
   ],
   "metadata": {
    "collapsed": false,
    "ExecuteTime": {
     "end_time": "2023-12-30T00:30:15.073699800Z",
     "start_time": "2023-12-30T00:30:15.047192Z"
    }
   },
   "id": "263b8567b691d75a"
  },
  {
   "cell_type": "code",
   "execution_count": 42,
   "outputs": [
    {
     "data": {
      "text/plain": "       Chrom        Pos Ref Alt     AF  RefCount  AltCount   GT  PS  \\\n1       chr1    2412394   C   T  0.391        14         8  0/1 NaN   \n4       chr1    2789833   C   A  0.534         6         7  0/1 NaN   \n8       chr1   10275492   G   A  0.222        21         6  0/1 NaN   \n14      chr1   20144618   T   C  0.344        19         9  0/1 NaN   \n17      chr1   33159815   C   T  0.514        16        21  0/1 NaN   \n...      ...        ...  ..  ..    ...       ...       ...  ...  ..   \n12278  chr19   54242117   T   C  0.508       204       211  0/1 NaN   \n12283  chr20   33770234   C   G  0.266        74        26  0/1 NaN   \n12288  chr22   26472373   C   T  0.604       106       154  0/1 NaN   \n12289  chr22   37207205   G   A  0.726        13        38  0/1 NaN   \n12294   chrX  153954753   T   C  0.857         0         6  0/1 NaN   \n\n      VariantType  ... DidaID DidaName GwasDisease GwasPmID GTexGene  \\\n1             SNP  ...    NaN      NaN         NaN      NaN      NaN   \n4             SNP  ...    NaN      NaN         NaN      NaN      NaN   \n8             SNP  ...    NaN      NaN         NaN      NaN      NaN   \n14            SNP  ...    NaN      NaN         NaN      NaN      NaN   \n17            SNP  ...    NaN      NaN         NaN      NaN      NaN   \n...           ...  ...    ...      ...         ...      ...      ...   \n12278         SNP  ...    NaN      NaN         NaN      NaN      NaN   \n12283         SNP  ...    NaN      NaN         NaN      NaN      NaN   \n12288         SNP  ...    NaN      NaN         NaN      NaN      NaN   \n12289         SNP  ...    NaN      NaN         NaN      NaN      NaN   \n12294         SNP  ...    NaN      NaN         NaN      NaN      NaN   \n\n          ModelID EntrezGeneID  am_pathogenicity am_class am_source  \n1      ACH-000856       5192.0               NaN      NaN       NaN  \n4      ACH-000856  100287898.0               NaN      NaN       NaN  \n8      ACH-000856      23095.0               NaN      NaN       NaN  \n14     ACH-000856      64600.0               NaN      NaN       NaN  \n17     ACH-000856      55223.0               NaN      NaN       NaN  \n...           ...          ...               ...      ...       ...  \n12278  ACH-000234      79168.0               NaN      NaN       NaN  \n12283  ACH-000234      84905.0               NaN      NaN       NaN  \n12288  ACH-000234      89781.0               NaN      NaN       NaN  \n12289  ACH-000234       6753.0               NaN      NaN       NaN  \n12294  ACH-000234       3054.0               NaN      NaN       NaN  \n\n[4635 rows x 59 columns]",
      "text/html": "<div>\n<style scoped>\n    .dataframe tbody tr th:only-of-type {\n        vertical-align: middle;\n    }\n\n    .dataframe tbody tr th {\n        vertical-align: top;\n    }\n\n    .dataframe thead th {\n        text-align: right;\n    }\n</style>\n<table border=\"1\" class=\"dataframe\">\n  <thead>\n    <tr style=\"text-align: right;\">\n      <th></th>\n      <th>Chrom</th>\n      <th>Pos</th>\n      <th>Ref</th>\n      <th>Alt</th>\n      <th>AF</th>\n      <th>RefCount</th>\n      <th>AltCount</th>\n      <th>GT</th>\n      <th>PS</th>\n      <th>VariantType</th>\n      <th>...</th>\n      <th>DidaID</th>\n      <th>DidaName</th>\n      <th>GwasDisease</th>\n      <th>GwasPmID</th>\n      <th>GTexGene</th>\n      <th>ModelID</th>\n      <th>EntrezGeneID</th>\n      <th>am_pathogenicity</th>\n      <th>am_class</th>\n      <th>am_source</th>\n    </tr>\n  </thead>\n  <tbody>\n    <tr>\n      <th>1</th>\n      <td>chr1</td>\n      <td>2412394</td>\n      <td>C</td>\n      <td>T</td>\n      <td>0.391</td>\n      <td>14</td>\n      <td>8</td>\n      <td>0/1</td>\n      <td>NaN</td>\n      <td>SNP</td>\n      <td>...</td>\n      <td>NaN</td>\n      <td>NaN</td>\n      <td>NaN</td>\n      <td>NaN</td>\n      <td>NaN</td>\n      <td>ACH-000856</td>\n      <td>5192.0</td>\n      <td>NaN</td>\n      <td>NaN</td>\n      <td>NaN</td>\n    </tr>\n    <tr>\n      <th>4</th>\n      <td>chr1</td>\n      <td>2789833</td>\n      <td>C</td>\n      <td>A</td>\n      <td>0.534</td>\n      <td>6</td>\n      <td>7</td>\n      <td>0/1</td>\n      <td>NaN</td>\n      <td>SNP</td>\n      <td>...</td>\n      <td>NaN</td>\n      <td>NaN</td>\n      <td>NaN</td>\n      <td>NaN</td>\n      <td>NaN</td>\n      <td>ACH-000856</td>\n      <td>100287898.0</td>\n      <td>NaN</td>\n      <td>NaN</td>\n      <td>NaN</td>\n    </tr>\n    <tr>\n      <th>8</th>\n      <td>chr1</td>\n      <td>10275492</td>\n      <td>G</td>\n      <td>A</td>\n      <td>0.222</td>\n      <td>21</td>\n      <td>6</td>\n      <td>0/1</td>\n      <td>NaN</td>\n      <td>SNP</td>\n      <td>...</td>\n      <td>NaN</td>\n      <td>NaN</td>\n      <td>NaN</td>\n      <td>NaN</td>\n      <td>NaN</td>\n      <td>ACH-000856</td>\n      <td>23095.0</td>\n      <td>NaN</td>\n      <td>NaN</td>\n      <td>NaN</td>\n    </tr>\n    <tr>\n      <th>14</th>\n      <td>chr1</td>\n      <td>20144618</td>\n      <td>T</td>\n      <td>C</td>\n      <td>0.344</td>\n      <td>19</td>\n      <td>9</td>\n      <td>0/1</td>\n      <td>NaN</td>\n      <td>SNP</td>\n      <td>...</td>\n      <td>NaN</td>\n      <td>NaN</td>\n      <td>NaN</td>\n      <td>NaN</td>\n      <td>NaN</td>\n      <td>ACH-000856</td>\n      <td>64600.0</td>\n      <td>NaN</td>\n      <td>NaN</td>\n      <td>NaN</td>\n    </tr>\n    <tr>\n      <th>17</th>\n      <td>chr1</td>\n      <td>33159815</td>\n      <td>C</td>\n      <td>T</td>\n      <td>0.514</td>\n      <td>16</td>\n      <td>21</td>\n      <td>0/1</td>\n      <td>NaN</td>\n      <td>SNP</td>\n      <td>...</td>\n      <td>NaN</td>\n      <td>NaN</td>\n      <td>NaN</td>\n      <td>NaN</td>\n      <td>NaN</td>\n      <td>ACH-000856</td>\n      <td>55223.0</td>\n      <td>NaN</td>\n      <td>NaN</td>\n      <td>NaN</td>\n    </tr>\n    <tr>\n      <th>...</th>\n      <td>...</td>\n      <td>...</td>\n      <td>...</td>\n      <td>...</td>\n      <td>...</td>\n      <td>...</td>\n      <td>...</td>\n      <td>...</td>\n      <td>...</td>\n      <td>...</td>\n      <td>...</td>\n      <td>...</td>\n      <td>...</td>\n      <td>...</td>\n      <td>...</td>\n      <td>...</td>\n      <td>...</td>\n      <td>...</td>\n      <td>...</td>\n      <td>...</td>\n      <td>...</td>\n    </tr>\n    <tr>\n      <th>12278</th>\n      <td>chr19</td>\n      <td>54242117</td>\n      <td>T</td>\n      <td>C</td>\n      <td>0.508</td>\n      <td>204</td>\n      <td>211</td>\n      <td>0/1</td>\n      <td>NaN</td>\n      <td>SNP</td>\n      <td>...</td>\n      <td>NaN</td>\n      <td>NaN</td>\n      <td>NaN</td>\n      <td>NaN</td>\n      <td>NaN</td>\n      <td>ACH-000234</td>\n      <td>79168.0</td>\n      <td>NaN</td>\n      <td>NaN</td>\n      <td>NaN</td>\n    </tr>\n    <tr>\n      <th>12283</th>\n      <td>chr20</td>\n      <td>33770234</td>\n      <td>C</td>\n      <td>G</td>\n      <td>0.266</td>\n      <td>74</td>\n      <td>26</td>\n      <td>0/1</td>\n      <td>NaN</td>\n      <td>SNP</td>\n      <td>...</td>\n      <td>NaN</td>\n      <td>NaN</td>\n      <td>NaN</td>\n      <td>NaN</td>\n      <td>NaN</td>\n      <td>ACH-000234</td>\n      <td>84905.0</td>\n      <td>NaN</td>\n      <td>NaN</td>\n      <td>NaN</td>\n    </tr>\n    <tr>\n      <th>12288</th>\n      <td>chr22</td>\n      <td>26472373</td>\n      <td>C</td>\n      <td>T</td>\n      <td>0.604</td>\n      <td>106</td>\n      <td>154</td>\n      <td>0/1</td>\n      <td>NaN</td>\n      <td>SNP</td>\n      <td>...</td>\n      <td>NaN</td>\n      <td>NaN</td>\n      <td>NaN</td>\n      <td>NaN</td>\n      <td>NaN</td>\n      <td>ACH-000234</td>\n      <td>89781.0</td>\n      <td>NaN</td>\n      <td>NaN</td>\n      <td>NaN</td>\n    </tr>\n    <tr>\n      <th>12289</th>\n      <td>chr22</td>\n      <td>37207205</td>\n      <td>G</td>\n      <td>A</td>\n      <td>0.726</td>\n      <td>13</td>\n      <td>38</td>\n      <td>0/1</td>\n      <td>NaN</td>\n      <td>SNP</td>\n      <td>...</td>\n      <td>NaN</td>\n      <td>NaN</td>\n      <td>NaN</td>\n      <td>NaN</td>\n      <td>NaN</td>\n      <td>ACH-000234</td>\n      <td>6753.0</td>\n      <td>NaN</td>\n      <td>NaN</td>\n      <td>NaN</td>\n    </tr>\n    <tr>\n      <th>12294</th>\n      <td>chrX</td>\n      <td>153954753</td>\n      <td>T</td>\n      <td>C</td>\n      <td>0.857</td>\n      <td>0</td>\n      <td>6</td>\n      <td>0/1</td>\n      <td>NaN</td>\n      <td>SNP</td>\n      <td>...</td>\n      <td>NaN</td>\n      <td>NaN</td>\n      <td>NaN</td>\n      <td>NaN</td>\n      <td>NaN</td>\n      <td>ACH-000234</td>\n      <td>3054.0</td>\n      <td>NaN</td>\n      <td>NaN</td>\n      <td>NaN</td>\n    </tr>\n  </tbody>\n</table>\n<p>4635 rows × 59 columns</p>\n</div>"
     },
     "execution_count": 42,
     "metadata": {},
     "output_type": "execute_result"
    }
   ],
   "source": [
    "# Save the rows that still don't have an alpha missense prediction - we will check the isoform data for these:\n",
    "missing_missense_predictions = missense_snp_extended[missense_snp_extended['am_class'].isnull()]\n",
    "\n",
    "missing_missense_predictions"
   ],
   "metadata": {
    "collapsed": false,
    "ExecuteTime": {
     "end_time": "2023-12-30T00:30:15.207115200Z",
     "start_time": "2023-12-30T00:30:15.060190900Z"
    }
   },
   "id": "1b900179f66bdc9e"
  },
  {
   "cell_type": "code",
   "execution_count": 43,
   "outputs": [
    {
     "data": {
      "text/plain": "      Chrom       Pos Ref Alt     AF  RefCount  AltCount   GT  PS VariantType  \\\n0      chr1    963249   G   A  0.303        22         9  0/1 NaN         SNP   \n2      chr1   2512914   G   T  0.488        21        19  0/1 NaN         SNP   \n3      chr1   2561696   C   T  0.320        24        12  0/1 NaN         SNP   \n5      chr1   5867853   C   T  0.600        18        26  0/1 NaN         SNP   \n6      chr1   6580736   G   A  0.500        16        16  0/1 NaN         SNP   \n...     ...       ...  ..  ..    ...       ...       ...  ...  ..         ...   \n12293  chrX  73214201   T   A  0.972         2       108  1|1 NaN         SNP   \n12295  chrM      8764   G   A  0.923         0        12  1|1 NaN         SNP   \n12296  chrM      9055   G   A  0.952         0        20  1|1 NaN         SNP   \n12297  chrM     11025   T   C  0.946         0        19  1|1 NaN         SNP   \n12298  chrM     14798   T   C  0.964         0        28  1|1 NaN         SNP   \n\n       ... DidaID DidaName GwasDisease GwasPmID GTexGene     ModelID  \\\n0      ...    NaN      NaN         NaN      NaN      NaN  ACH-000856   \n2      ...    NaN      NaN         NaN      NaN      NaN  ACH-000856   \n3      ...    NaN      NaN         NaN      NaN      NaN  ACH-000856   \n5      ...    NaN      NaN         NaN      NaN      NaN  ACH-000856   \n6      ...    NaN      NaN         NaN      NaN      NaN  ACH-000856   \n...    ...    ...      ...         ...      ...      ...         ...   \n12293  ...    NaN      NaN         NaN      NaN      NaN  ACH-000234   \n12295  ...    NaN      NaN         NaN      NaN      NaN  ACH-000234   \n12296  ...    NaN      NaN         NaN      NaN      NaN  ACH-000234   \n12297  ...    NaN      NaN         NaN      NaN      NaN  ACH-000234   \n12298  ...    NaN      NaN         NaN      NaN      NaN  ACH-000234   \n\n      EntrezGeneID  am_pathogenicity           am_class am_source  \n0         339451.0            0.9941  likely_pathogenic   primary  \n2          55229.0            0.9989  likely_pathogenic   primary  \n3           8764.0            0.1136      likely_benign   primary  \n5         261734.0            0.1576      likely_benign   primary  \n6           3104.0            0.1870      likely_benign   primary  \n...            ...               ...                ...       ...  \n12293       4674.0            0.1350      likely_benign   primary  \n12295       4508.0            0.1314      likely_benign   primary  \n12296       4508.0            0.1589      likely_benign   primary  \n12297       4538.0            0.1123      likely_benign   primary  \n12298       4519.0            0.4004          ambiguous   primary  \n\n[7664 rows x 59 columns]",
      "text/html": "<div>\n<style scoped>\n    .dataframe tbody tr th:only-of-type {\n        vertical-align: middle;\n    }\n\n    .dataframe tbody tr th {\n        vertical-align: top;\n    }\n\n    .dataframe thead th {\n        text-align: right;\n    }\n</style>\n<table border=\"1\" class=\"dataframe\">\n  <thead>\n    <tr style=\"text-align: right;\">\n      <th></th>\n      <th>Chrom</th>\n      <th>Pos</th>\n      <th>Ref</th>\n      <th>Alt</th>\n      <th>AF</th>\n      <th>RefCount</th>\n      <th>AltCount</th>\n      <th>GT</th>\n      <th>PS</th>\n      <th>VariantType</th>\n      <th>...</th>\n      <th>DidaID</th>\n      <th>DidaName</th>\n      <th>GwasDisease</th>\n      <th>GwasPmID</th>\n      <th>GTexGene</th>\n      <th>ModelID</th>\n      <th>EntrezGeneID</th>\n      <th>am_pathogenicity</th>\n      <th>am_class</th>\n      <th>am_source</th>\n    </tr>\n  </thead>\n  <tbody>\n    <tr>\n      <th>0</th>\n      <td>chr1</td>\n      <td>963249</td>\n      <td>G</td>\n      <td>A</td>\n      <td>0.303</td>\n      <td>22</td>\n      <td>9</td>\n      <td>0/1</td>\n      <td>NaN</td>\n      <td>SNP</td>\n      <td>...</td>\n      <td>NaN</td>\n      <td>NaN</td>\n      <td>NaN</td>\n      <td>NaN</td>\n      <td>NaN</td>\n      <td>ACH-000856</td>\n      <td>339451.0</td>\n      <td>0.9941</td>\n      <td>likely_pathogenic</td>\n      <td>primary</td>\n    </tr>\n    <tr>\n      <th>2</th>\n      <td>chr1</td>\n      <td>2512914</td>\n      <td>G</td>\n      <td>T</td>\n      <td>0.488</td>\n      <td>21</td>\n      <td>19</td>\n      <td>0/1</td>\n      <td>NaN</td>\n      <td>SNP</td>\n      <td>...</td>\n      <td>NaN</td>\n      <td>NaN</td>\n      <td>NaN</td>\n      <td>NaN</td>\n      <td>NaN</td>\n      <td>ACH-000856</td>\n      <td>55229.0</td>\n      <td>0.9989</td>\n      <td>likely_pathogenic</td>\n      <td>primary</td>\n    </tr>\n    <tr>\n      <th>3</th>\n      <td>chr1</td>\n      <td>2561696</td>\n      <td>C</td>\n      <td>T</td>\n      <td>0.320</td>\n      <td>24</td>\n      <td>12</td>\n      <td>0/1</td>\n      <td>NaN</td>\n      <td>SNP</td>\n      <td>...</td>\n      <td>NaN</td>\n      <td>NaN</td>\n      <td>NaN</td>\n      <td>NaN</td>\n      <td>NaN</td>\n      <td>ACH-000856</td>\n      <td>8764.0</td>\n      <td>0.1136</td>\n      <td>likely_benign</td>\n      <td>primary</td>\n    </tr>\n    <tr>\n      <th>5</th>\n      <td>chr1</td>\n      <td>5867853</td>\n      <td>C</td>\n      <td>T</td>\n      <td>0.600</td>\n      <td>18</td>\n      <td>26</td>\n      <td>0/1</td>\n      <td>NaN</td>\n      <td>SNP</td>\n      <td>...</td>\n      <td>NaN</td>\n      <td>NaN</td>\n      <td>NaN</td>\n      <td>NaN</td>\n      <td>NaN</td>\n      <td>ACH-000856</td>\n      <td>261734.0</td>\n      <td>0.1576</td>\n      <td>likely_benign</td>\n      <td>primary</td>\n    </tr>\n    <tr>\n      <th>6</th>\n      <td>chr1</td>\n      <td>6580736</td>\n      <td>G</td>\n      <td>A</td>\n      <td>0.500</td>\n      <td>16</td>\n      <td>16</td>\n      <td>0/1</td>\n      <td>NaN</td>\n      <td>SNP</td>\n      <td>...</td>\n      <td>NaN</td>\n      <td>NaN</td>\n      <td>NaN</td>\n      <td>NaN</td>\n      <td>NaN</td>\n      <td>ACH-000856</td>\n      <td>3104.0</td>\n      <td>0.1870</td>\n      <td>likely_benign</td>\n      <td>primary</td>\n    </tr>\n    <tr>\n      <th>...</th>\n      <td>...</td>\n      <td>...</td>\n      <td>...</td>\n      <td>...</td>\n      <td>...</td>\n      <td>...</td>\n      <td>...</td>\n      <td>...</td>\n      <td>...</td>\n      <td>...</td>\n      <td>...</td>\n      <td>...</td>\n      <td>...</td>\n      <td>...</td>\n      <td>...</td>\n      <td>...</td>\n      <td>...</td>\n      <td>...</td>\n      <td>...</td>\n      <td>...</td>\n      <td>...</td>\n    </tr>\n    <tr>\n      <th>12293</th>\n      <td>chrX</td>\n      <td>73214201</td>\n      <td>T</td>\n      <td>A</td>\n      <td>0.972</td>\n      <td>2</td>\n      <td>108</td>\n      <td>1|1</td>\n      <td>NaN</td>\n      <td>SNP</td>\n      <td>...</td>\n      <td>NaN</td>\n      <td>NaN</td>\n      <td>NaN</td>\n      <td>NaN</td>\n      <td>NaN</td>\n      <td>ACH-000234</td>\n      <td>4674.0</td>\n      <td>0.1350</td>\n      <td>likely_benign</td>\n      <td>primary</td>\n    </tr>\n    <tr>\n      <th>12295</th>\n      <td>chrM</td>\n      <td>8764</td>\n      <td>G</td>\n      <td>A</td>\n      <td>0.923</td>\n      <td>0</td>\n      <td>12</td>\n      <td>1|1</td>\n      <td>NaN</td>\n      <td>SNP</td>\n      <td>...</td>\n      <td>NaN</td>\n      <td>NaN</td>\n      <td>NaN</td>\n      <td>NaN</td>\n      <td>NaN</td>\n      <td>ACH-000234</td>\n      <td>4508.0</td>\n      <td>0.1314</td>\n      <td>likely_benign</td>\n      <td>primary</td>\n    </tr>\n    <tr>\n      <th>12296</th>\n      <td>chrM</td>\n      <td>9055</td>\n      <td>G</td>\n      <td>A</td>\n      <td>0.952</td>\n      <td>0</td>\n      <td>20</td>\n      <td>1|1</td>\n      <td>NaN</td>\n      <td>SNP</td>\n      <td>...</td>\n      <td>NaN</td>\n      <td>NaN</td>\n      <td>NaN</td>\n      <td>NaN</td>\n      <td>NaN</td>\n      <td>ACH-000234</td>\n      <td>4508.0</td>\n      <td>0.1589</td>\n      <td>likely_benign</td>\n      <td>primary</td>\n    </tr>\n    <tr>\n      <th>12297</th>\n      <td>chrM</td>\n      <td>11025</td>\n      <td>T</td>\n      <td>C</td>\n      <td>0.946</td>\n      <td>0</td>\n      <td>19</td>\n      <td>1|1</td>\n      <td>NaN</td>\n      <td>SNP</td>\n      <td>...</td>\n      <td>NaN</td>\n      <td>NaN</td>\n      <td>NaN</td>\n      <td>NaN</td>\n      <td>NaN</td>\n      <td>ACH-000234</td>\n      <td>4538.0</td>\n      <td>0.1123</td>\n      <td>likely_benign</td>\n      <td>primary</td>\n    </tr>\n    <tr>\n      <th>12298</th>\n      <td>chrM</td>\n      <td>14798</td>\n      <td>T</td>\n      <td>C</td>\n      <td>0.964</td>\n      <td>0</td>\n      <td>28</td>\n      <td>1|1</td>\n      <td>NaN</td>\n      <td>SNP</td>\n      <td>...</td>\n      <td>NaN</td>\n      <td>NaN</td>\n      <td>NaN</td>\n      <td>NaN</td>\n      <td>NaN</td>\n      <td>ACH-000234</td>\n      <td>4519.0</td>\n      <td>0.4004</td>\n      <td>ambiguous</td>\n      <td>primary</td>\n    </tr>\n  </tbody>\n</table>\n<p>7664 rows × 59 columns</p>\n</div>"
     },
     "execution_count": 43,
     "metadata": {},
     "output_type": "execute_result"
    }
   ],
   "source": [
    "# Now that rows with missing predictions have been saved to a separate df, drop them from this one\n",
    "# Should be 8198 (12299-4101) or 7664 (12299-4635)\n",
    "missense_snp_extended = missense_snp_extended.dropna(subset=['am_class'])\n",
    "\n",
    "missense_snp_extended"
   ],
   "metadata": {
    "collapsed": false,
    "ExecuteTime": {
     "end_time": "2023-12-30T00:30:15.208124600Z",
     "start_time": "2023-12-30T00:30:15.106605400Z"
    }
   },
   "id": "7683750d66202f21"
  },
  {
   "cell_type": "code",
   "execution_count": 44,
   "outputs": [],
   "source": [
    "# Drop duplicates \n",
    "missense_snp_extended = missense_snp_extended.drop_duplicates(subset=['Chrom', 'Pos', 'Ref', 'Alt', 'Transcript', 'am_class', 'ModelID'], keep=\"first\")"
   ],
   "metadata": {
    "collapsed": false,
    "ExecuteTime": {
     "end_time": "2023-12-30T00:30:15.261726100Z",
     "start_time": "2023-12-30T00:30:15.155618700Z"
    }
   },
   "id": "273f09f8e9eb45a7"
  },
  {
   "cell_type": "code",
   "execution_count": 45,
   "outputs": [
    {
     "data": {
      "text/plain": "      Chrom       Pos Ref Alt     AF  RefCount  AltCount   GT  PS VariantType  \\\n0      chr1    963249   G   A  0.303        22         9  0/1 NaN         SNP   \n2      chr1   2512914   G   T  0.488        21        19  0/1 NaN         SNP   \n3      chr1   2561696   C   T  0.320        24        12  0/1 NaN         SNP   \n5      chr1   5867853   C   T  0.600        18        26  0/1 NaN         SNP   \n6      chr1   6580736   G   A  0.500        16        16  0/1 NaN         SNP   \n...     ...       ...  ..  ..    ...       ...       ...  ...  ..         ...   \n12293  chrX  73214201   T   A  0.972         2       108  1|1 NaN         SNP   \n12295  chrM      8764   G   A  0.923         0        12  1|1 NaN         SNP   \n12296  chrM      9055   G   A  0.952         0        20  1|1 NaN         SNP   \n12297  chrM     11025   T   C  0.946         0        19  1|1 NaN         SNP   \n12298  chrM     14798   T   C  0.964         0        28  1|1 NaN         SNP   \n\n       ... DidaID DidaName GwasDisease GwasPmID GTexGene     ModelID  \\\n0      ...    NaN      NaN         NaN      NaN      NaN  ACH-000856   \n2      ...    NaN      NaN         NaN      NaN      NaN  ACH-000856   \n3      ...    NaN      NaN         NaN      NaN      NaN  ACH-000856   \n5      ...    NaN      NaN         NaN      NaN      NaN  ACH-000856   \n6      ...    NaN      NaN         NaN      NaN      NaN  ACH-000856   \n...    ...    ...      ...         ...      ...      ...         ...   \n12293  ...    NaN      NaN         NaN      NaN      NaN  ACH-000234   \n12295  ...    NaN      NaN         NaN      NaN      NaN  ACH-000234   \n12296  ...    NaN      NaN         NaN      NaN      NaN  ACH-000234   \n12297  ...    NaN      NaN         NaN      NaN      NaN  ACH-000234   \n12298  ...    NaN      NaN         NaN      NaN      NaN  ACH-000234   \n\n      EntrezGeneID  am_pathogenicity           am_class am_source  \n0         339451.0            0.9941  likely_pathogenic   primary  \n2          55229.0            0.9989  likely_pathogenic   primary  \n3           8764.0            0.1136      likely_benign   primary  \n5         261734.0            0.1576      likely_benign   primary  \n6           3104.0            0.1870      likely_benign   primary  \n...            ...               ...                ...       ...  \n12293       4674.0            0.1350      likely_benign   primary  \n12295       4508.0            0.1314      likely_benign   primary  \n12296       4508.0            0.1589      likely_benign   primary  \n12297       4538.0            0.1123      likely_benign   primary  \n12298       4519.0            0.4004          ambiguous   primary  \n\n[7664 rows x 59 columns]",
      "text/html": "<div>\n<style scoped>\n    .dataframe tbody tr th:only-of-type {\n        vertical-align: middle;\n    }\n\n    .dataframe tbody tr th {\n        vertical-align: top;\n    }\n\n    .dataframe thead th {\n        text-align: right;\n    }\n</style>\n<table border=\"1\" class=\"dataframe\">\n  <thead>\n    <tr style=\"text-align: right;\">\n      <th></th>\n      <th>Chrom</th>\n      <th>Pos</th>\n      <th>Ref</th>\n      <th>Alt</th>\n      <th>AF</th>\n      <th>RefCount</th>\n      <th>AltCount</th>\n      <th>GT</th>\n      <th>PS</th>\n      <th>VariantType</th>\n      <th>...</th>\n      <th>DidaID</th>\n      <th>DidaName</th>\n      <th>GwasDisease</th>\n      <th>GwasPmID</th>\n      <th>GTexGene</th>\n      <th>ModelID</th>\n      <th>EntrezGeneID</th>\n      <th>am_pathogenicity</th>\n      <th>am_class</th>\n      <th>am_source</th>\n    </tr>\n  </thead>\n  <tbody>\n    <tr>\n      <th>0</th>\n      <td>chr1</td>\n      <td>963249</td>\n      <td>G</td>\n      <td>A</td>\n      <td>0.303</td>\n      <td>22</td>\n      <td>9</td>\n      <td>0/1</td>\n      <td>NaN</td>\n      <td>SNP</td>\n      <td>...</td>\n      <td>NaN</td>\n      <td>NaN</td>\n      <td>NaN</td>\n      <td>NaN</td>\n      <td>NaN</td>\n      <td>ACH-000856</td>\n      <td>339451.0</td>\n      <td>0.9941</td>\n      <td>likely_pathogenic</td>\n      <td>primary</td>\n    </tr>\n    <tr>\n      <th>2</th>\n      <td>chr1</td>\n      <td>2512914</td>\n      <td>G</td>\n      <td>T</td>\n      <td>0.488</td>\n      <td>21</td>\n      <td>19</td>\n      <td>0/1</td>\n      <td>NaN</td>\n      <td>SNP</td>\n      <td>...</td>\n      <td>NaN</td>\n      <td>NaN</td>\n      <td>NaN</td>\n      <td>NaN</td>\n      <td>NaN</td>\n      <td>ACH-000856</td>\n      <td>55229.0</td>\n      <td>0.9989</td>\n      <td>likely_pathogenic</td>\n      <td>primary</td>\n    </tr>\n    <tr>\n      <th>3</th>\n      <td>chr1</td>\n      <td>2561696</td>\n      <td>C</td>\n      <td>T</td>\n      <td>0.320</td>\n      <td>24</td>\n      <td>12</td>\n      <td>0/1</td>\n      <td>NaN</td>\n      <td>SNP</td>\n      <td>...</td>\n      <td>NaN</td>\n      <td>NaN</td>\n      <td>NaN</td>\n      <td>NaN</td>\n      <td>NaN</td>\n      <td>ACH-000856</td>\n      <td>8764.0</td>\n      <td>0.1136</td>\n      <td>likely_benign</td>\n      <td>primary</td>\n    </tr>\n    <tr>\n      <th>5</th>\n      <td>chr1</td>\n      <td>5867853</td>\n      <td>C</td>\n      <td>T</td>\n      <td>0.600</td>\n      <td>18</td>\n      <td>26</td>\n      <td>0/1</td>\n      <td>NaN</td>\n      <td>SNP</td>\n      <td>...</td>\n      <td>NaN</td>\n      <td>NaN</td>\n      <td>NaN</td>\n      <td>NaN</td>\n      <td>NaN</td>\n      <td>ACH-000856</td>\n      <td>261734.0</td>\n      <td>0.1576</td>\n      <td>likely_benign</td>\n      <td>primary</td>\n    </tr>\n    <tr>\n      <th>6</th>\n      <td>chr1</td>\n      <td>6580736</td>\n      <td>G</td>\n      <td>A</td>\n      <td>0.500</td>\n      <td>16</td>\n      <td>16</td>\n      <td>0/1</td>\n      <td>NaN</td>\n      <td>SNP</td>\n      <td>...</td>\n      <td>NaN</td>\n      <td>NaN</td>\n      <td>NaN</td>\n      <td>NaN</td>\n      <td>NaN</td>\n      <td>ACH-000856</td>\n      <td>3104.0</td>\n      <td>0.1870</td>\n      <td>likely_benign</td>\n      <td>primary</td>\n    </tr>\n    <tr>\n      <th>...</th>\n      <td>...</td>\n      <td>...</td>\n      <td>...</td>\n      <td>...</td>\n      <td>...</td>\n      <td>...</td>\n      <td>...</td>\n      <td>...</td>\n      <td>...</td>\n      <td>...</td>\n      <td>...</td>\n      <td>...</td>\n      <td>...</td>\n      <td>...</td>\n      <td>...</td>\n      <td>...</td>\n      <td>...</td>\n      <td>...</td>\n      <td>...</td>\n      <td>...</td>\n      <td>...</td>\n    </tr>\n    <tr>\n      <th>12293</th>\n      <td>chrX</td>\n      <td>73214201</td>\n      <td>T</td>\n      <td>A</td>\n      <td>0.972</td>\n      <td>2</td>\n      <td>108</td>\n      <td>1|1</td>\n      <td>NaN</td>\n      <td>SNP</td>\n      <td>...</td>\n      <td>NaN</td>\n      <td>NaN</td>\n      <td>NaN</td>\n      <td>NaN</td>\n      <td>NaN</td>\n      <td>ACH-000234</td>\n      <td>4674.0</td>\n      <td>0.1350</td>\n      <td>likely_benign</td>\n      <td>primary</td>\n    </tr>\n    <tr>\n      <th>12295</th>\n      <td>chrM</td>\n      <td>8764</td>\n      <td>G</td>\n      <td>A</td>\n      <td>0.923</td>\n      <td>0</td>\n      <td>12</td>\n      <td>1|1</td>\n      <td>NaN</td>\n      <td>SNP</td>\n      <td>...</td>\n      <td>NaN</td>\n      <td>NaN</td>\n      <td>NaN</td>\n      <td>NaN</td>\n      <td>NaN</td>\n      <td>ACH-000234</td>\n      <td>4508.0</td>\n      <td>0.1314</td>\n      <td>likely_benign</td>\n      <td>primary</td>\n    </tr>\n    <tr>\n      <th>12296</th>\n      <td>chrM</td>\n      <td>9055</td>\n      <td>G</td>\n      <td>A</td>\n      <td>0.952</td>\n      <td>0</td>\n      <td>20</td>\n      <td>1|1</td>\n      <td>NaN</td>\n      <td>SNP</td>\n      <td>...</td>\n      <td>NaN</td>\n      <td>NaN</td>\n      <td>NaN</td>\n      <td>NaN</td>\n      <td>NaN</td>\n      <td>ACH-000234</td>\n      <td>4508.0</td>\n      <td>0.1589</td>\n      <td>likely_benign</td>\n      <td>primary</td>\n    </tr>\n    <tr>\n      <th>12297</th>\n      <td>chrM</td>\n      <td>11025</td>\n      <td>T</td>\n      <td>C</td>\n      <td>0.946</td>\n      <td>0</td>\n      <td>19</td>\n      <td>1|1</td>\n      <td>NaN</td>\n      <td>SNP</td>\n      <td>...</td>\n      <td>NaN</td>\n      <td>NaN</td>\n      <td>NaN</td>\n      <td>NaN</td>\n      <td>NaN</td>\n      <td>ACH-000234</td>\n      <td>4538.0</td>\n      <td>0.1123</td>\n      <td>likely_benign</td>\n      <td>primary</td>\n    </tr>\n    <tr>\n      <th>12298</th>\n      <td>chrM</td>\n      <td>14798</td>\n      <td>T</td>\n      <td>C</td>\n      <td>0.964</td>\n      <td>0</td>\n      <td>28</td>\n      <td>1|1</td>\n      <td>NaN</td>\n      <td>SNP</td>\n      <td>...</td>\n      <td>NaN</td>\n      <td>NaN</td>\n      <td>NaN</td>\n      <td>NaN</td>\n      <td>NaN</td>\n      <td>ACH-000234</td>\n      <td>4519.0</td>\n      <td>0.4004</td>\n      <td>ambiguous</td>\n      <td>primary</td>\n    </tr>\n  </tbody>\n</table>\n<p>7664 rows × 59 columns</p>\n</div>"
     },
     "execution_count": 45,
     "metadata": {},
     "output_type": "execute_result"
    }
   ],
   "source": [
    "missense_snp_extended"
   ],
   "metadata": {
    "collapsed": false,
    "ExecuteTime": {
     "end_time": "2023-12-30T00:30:15.318328700Z",
     "start_time": "2023-12-30T00:30:15.186118100Z"
    }
   },
   "id": "f40e63dcbfd32c0c"
  },
  {
   "cell_type": "markdown",
   "source": [
    "### Load and merge the isoform data"
   ],
   "metadata": {
    "collapsed": false
   },
   "id": "75c8eb1b32b30f2f"
  },
  {
   "cell_type": "code",
   "execution_count": 46,
   "outputs": [],
   "source": [
    "# Load and preview the alpha missense data (isoforms)\n",
    "alpha_missense_isoforms = pd.read_csv(data_path + '\\\\alphamissense\\\\AlphaMissense_isoforms_hg38.tsv', skiprows=3, sep='\\t')"
   ],
   "metadata": {
    "collapsed": false,
    "ExecuteTime": {
     "end_time": "2023-12-30T00:33:02.318846300Z",
     "start_time": "2023-12-30T00:30:15.218127600Z"
    }
   },
   "id": "9a12ffc58d39112a"
  },
  {
   "cell_type": "code",
   "execution_count": 47,
   "outputs": [
    {
     "name": "stdout",
     "output_type": "stream",
     "text": [
      "raw length: 144559028\n",
      "filtered length: 10813707\n"
     ]
    },
    {
     "data": {
      "text/plain": "      #CHROM     POS REF ALT genome      transcript_id protein_variant  \\\n47794   chr1  976176   G   C   hg38  ENST00000341290.6           S676C   \n47795   chr1  976176   G   A   hg38  ENST00000341290.6           S676F   \n47796   chr1  976176   G   T   hg38  ENST00000341290.6           S676Y   \n47797   chr1  976177   A   C   hg38  ENST00000341290.6           S676A   \n47798   chr1  976177   A   G   hg38  ENST00000341290.6           S676P   \n\n       am_pathogenicity       am_class  \n47794            0.1238  likely_benign  \n47795            0.2443  likely_benign  \n47796            0.1965  likely_benign  \n47797            0.1130  likely_benign  \n47798            0.1341  likely_benign  ",
      "text/html": "<div>\n<style scoped>\n    .dataframe tbody tr th:only-of-type {\n        vertical-align: middle;\n    }\n\n    .dataframe tbody tr th {\n        vertical-align: top;\n    }\n\n    .dataframe thead th {\n        text-align: right;\n    }\n</style>\n<table border=\"1\" class=\"dataframe\">\n  <thead>\n    <tr style=\"text-align: right;\">\n      <th></th>\n      <th>#CHROM</th>\n      <th>POS</th>\n      <th>REF</th>\n      <th>ALT</th>\n      <th>genome</th>\n      <th>transcript_id</th>\n      <th>protein_variant</th>\n      <th>am_pathogenicity</th>\n      <th>am_class</th>\n    </tr>\n  </thead>\n  <tbody>\n    <tr>\n      <th>47794</th>\n      <td>chr1</td>\n      <td>976176</td>\n      <td>G</td>\n      <td>C</td>\n      <td>hg38</td>\n      <td>ENST00000341290.6</td>\n      <td>S676C</td>\n      <td>0.1238</td>\n      <td>likely_benign</td>\n    </tr>\n    <tr>\n      <th>47795</th>\n      <td>chr1</td>\n      <td>976176</td>\n      <td>G</td>\n      <td>A</td>\n      <td>hg38</td>\n      <td>ENST00000341290.6</td>\n      <td>S676F</td>\n      <td>0.2443</td>\n      <td>likely_benign</td>\n    </tr>\n    <tr>\n      <th>47796</th>\n      <td>chr1</td>\n      <td>976176</td>\n      <td>G</td>\n      <td>T</td>\n      <td>hg38</td>\n      <td>ENST00000341290.6</td>\n      <td>S676Y</td>\n      <td>0.1965</td>\n      <td>likely_benign</td>\n    </tr>\n    <tr>\n      <th>47797</th>\n      <td>chr1</td>\n      <td>976177</td>\n      <td>A</td>\n      <td>C</td>\n      <td>hg38</td>\n      <td>ENST00000341290.6</td>\n      <td>S676A</td>\n      <td>0.1130</td>\n      <td>likely_benign</td>\n    </tr>\n    <tr>\n      <th>47798</th>\n      <td>chr1</td>\n      <td>976177</td>\n      <td>A</td>\n      <td>G</td>\n      <td>hg38</td>\n      <td>ENST00000341290.6</td>\n      <td>S676P</td>\n      <td>0.1341</td>\n      <td>likely_benign</td>\n    </tr>\n  </tbody>\n</table>\n</div>"
     },
     "execution_count": 47,
     "metadata": {},
     "output_type": "execute_result"
    }
   ],
   "source": [
    "# Print length to screen:\n",
    "print(f'raw length: {len(alpha_missense_isoforms)}')\n",
    "\n",
    "if remove_transcript_versions:\n",
    "    # Remove anything after \".\" in the 'Annotation_Transcript' column if remove_transcript_versions\n",
    "    alpha_missense_isoforms['transcript_id'] = alpha_missense_isoforms['transcript_id'].map(lambda x: x.split('.')[0])\n",
    "\n",
    "# Only select transcript IDs that are in the mutation data\n",
    "alpha_missense_isoforms = alpha_missense_isoforms[alpha_missense_isoforms['transcript_id'].isin(missense_snp_transcripts)]\n",
    "\n",
    "# Save new length and print to screen\n",
    "alpha_missense_isoforms_len = len(alpha_missense_isoforms)\n",
    "print(f'filtered length: {alpha_missense_isoforms_len}')\n",
    "\n",
    "# Save a unique list of transcript IDs \n",
    "alpha_missense_isoform_transcripts = set(alpha_missense_isoforms['transcript_id'].tolist())\n",
    "\n",
    "alpha_missense_isoforms.head()"
   ],
   "metadata": {
    "collapsed": false,
    "ExecuteTime": {
     "end_time": "2023-12-30T00:33:12.526842100Z",
     "start_time": "2023-12-30T00:33:02.318846300Z"
    }
   },
   "id": "c2bee7dd13ba9602"
  },
  {
   "cell_type": "code",
   "execution_count": 48,
   "outputs": [
    {
     "data": {
      "text/plain": "      Chrom        Pos Ref Alt     AF  RefCount  AltCount   GT  PS  \\\n0      chr1    2412394   C   T  0.391        14         8  0/1 NaN   \n1      chr1    2789833   C   A  0.534         6         7  0/1 NaN   \n2      chr1   10275492   G   A  0.222        21         6  0/1 NaN   \n3      chr1   20144618   T   C  0.344        19         9  0/1 NaN   \n4      chr1   33159815   C   T  0.514        16        21  0/1 NaN   \n...     ...        ...  ..  ..    ...       ...       ...  ...  ..   \n4757  chr19   54242117   T   C  0.508       204       211  0/1 NaN   \n4758  chr20   33770234   C   G  0.266        74        26  0/1 NaN   \n4759  chr22   26472373   C   T  0.604       106       154  0/1 NaN   \n4760  chr22   37207205   G   A  0.726        13        38  0/1 NaN   \n4761   chrX  153954753   T   C  0.857         0         6  0/1 NaN   \n\n     VariantType  ... DidaID DidaName GwasDisease GwasPmID GTexGene  \\\n0            SNP  ...    NaN      NaN         NaN      NaN      NaN   \n1            SNP  ...    NaN      NaN         NaN      NaN      NaN   \n2            SNP  ...    NaN      NaN         NaN      NaN      NaN   \n3            SNP  ...    NaN      NaN         NaN      NaN      NaN   \n4            SNP  ...    NaN      NaN         NaN      NaN      NaN   \n...          ...  ...    ...      ...         ...      ...      ...   \n4757         SNP  ...    NaN      NaN         NaN      NaN      NaN   \n4758         SNP  ...    NaN      NaN         NaN      NaN      NaN   \n4759         SNP  ...    NaN      NaN         NaN      NaN      NaN   \n4760         SNP  ...    NaN      NaN         NaN      NaN      NaN   \n4761         SNP  ...    NaN      NaN         NaN      NaN      NaN   \n\n         ModelID EntrezGeneID  am_pathogenicity           am_class am_source  \n0     ACH-000856       5192.0               NaN                NaN       NaN  \n1     ACH-000856  100287898.0            0.0870      likely_benign   isoform  \n2     ACH-000856      23095.0            0.9657  likely_pathogenic   isoform  \n3     ACH-000856      64600.0               NaN                NaN       NaN  \n4     ACH-000856      55223.0            0.4059          ambiguous   isoform  \n...          ...          ...               ...                ...       ...  \n4757  ACH-000234      79168.0            0.0395      likely_benign   isoform  \n4758  ACH-000234      84905.0            0.3262      likely_benign   isoform  \n4759  ACH-000234      89781.0            0.0965      likely_benign   isoform  \n4760  ACH-000234       6753.0            0.0889      likely_benign   isoform  \n4761  ACH-000234       3054.0            0.0638      likely_benign   isoform  \n\n[4762 rows x 59 columns]",
      "text/html": "<div>\n<style scoped>\n    .dataframe tbody tr th:only-of-type {\n        vertical-align: middle;\n    }\n\n    .dataframe tbody tr th {\n        vertical-align: top;\n    }\n\n    .dataframe thead th {\n        text-align: right;\n    }\n</style>\n<table border=\"1\" class=\"dataframe\">\n  <thead>\n    <tr style=\"text-align: right;\">\n      <th></th>\n      <th>Chrom</th>\n      <th>Pos</th>\n      <th>Ref</th>\n      <th>Alt</th>\n      <th>AF</th>\n      <th>RefCount</th>\n      <th>AltCount</th>\n      <th>GT</th>\n      <th>PS</th>\n      <th>VariantType</th>\n      <th>...</th>\n      <th>DidaID</th>\n      <th>DidaName</th>\n      <th>GwasDisease</th>\n      <th>GwasPmID</th>\n      <th>GTexGene</th>\n      <th>ModelID</th>\n      <th>EntrezGeneID</th>\n      <th>am_pathogenicity</th>\n      <th>am_class</th>\n      <th>am_source</th>\n    </tr>\n  </thead>\n  <tbody>\n    <tr>\n      <th>0</th>\n      <td>chr1</td>\n      <td>2412394</td>\n      <td>C</td>\n      <td>T</td>\n      <td>0.391</td>\n      <td>14</td>\n      <td>8</td>\n      <td>0/1</td>\n      <td>NaN</td>\n      <td>SNP</td>\n      <td>...</td>\n      <td>NaN</td>\n      <td>NaN</td>\n      <td>NaN</td>\n      <td>NaN</td>\n      <td>NaN</td>\n      <td>ACH-000856</td>\n      <td>5192.0</td>\n      <td>NaN</td>\n      <td>NaN</td>\n      <td>NaN</td>\n    </tr>\n    <tr>\n      <th>1</th>\n      <td>chr1</td>\n      <td>2789833</td>\n      <td>C</td>\n      <td>A</td>\n      <td>0.534</td>\n      <td>6</td>\n      <td>7</td>\n      <td>0/1</td>\n      <td>NaN</td>\n      <td>SNP</td>\n      <td>...</td>\n      <td>NaN</td>\n      <td>NaN</td>\n      <td>NaN</td>\n      <td>NaN</td>\n      <td>NaN</td>\n      <td>ACH-000856</td>\n      <td>100287898.0</td>\n      <td>0.0870</td>\n      <td>likely_benign</td>\n      <td>isoform</td>\n    </tr>\n    <tr>\n      <th>2</th>\n      <td>chr1</td>\n      <td>10275492</td>\n      <td>G</td>\n      <td>A</td>\n      <td>0.222</td>\n      <td>21</td>\n      <td>6</td>\n      <td>0/1</td>\n      <td>NaN</td>\n      <td>SNP</td>\n      <td>...</td>\n      <td>NaN</td>\n      <td>NaN</td>\n      <td>NaN</td>\n      <td>NaN</td>\n      <td>NaN</td>\n      <td>ACH-000856</td>\n      <td>23095.0</td>\n      <td>0.9657</td>\n      <td>likely_pathogenic</td>\n      <td>isoform</td>\n    </tr>\n    <tr>\n      <th>3</th>\n      <td>chr1</td>\n      <td>20144618</td>\n      <td>T</td>\n      <td>C</td>\n      <td>0.344</td>\n      <td>19</td>\n      <td>9</td>\n      <td>0/1</td>\n      <td>NaN</td>\n      <td>SNP</td>\n      <td>...</td>\n      <td>NaN</td>\n      <td>NaN</td>\n      <td>NaN</td>\n      <td>NaN</td>\n      <td>NaN</td>\n      <td>ACH-000856</td>\n      <td>64600.0</td>\n      <td>NaN</td>\n      <td>NaN</td>\n      <td>NaN</td>\n    </tr>\n    <tr>\n      <th>4</th>\n      <td>chr1</td>\n      <td>33159815</td>\n      <td>C</td>\n      <td>T</td>\n      <td>0.514</td>\n      <td>16</td>\n      <td>21</td>\n      <td>0/1</td>\n      <td>NaN</td>\n      <td>SNP</td>\n      <td>...</td>\n      <td>NaN</td>\n      <td>NaN</td>\n      <td>NaN</td>\n      <td>NaN</td>\n      <td>NaN</td>\n      <td>ACH-000856</td>\n      <td>55223.0</td>\n      <td>0.4059</td>\n      <td>ambiguous</td>\n      <td>isoform</td>\n    </tr>\n    <tr>\n      <th>...</th>\n      <td>...</td>\n      <td>...</td>\n      <td>...</td>\n      <td>...</td>\n      <td>...</td>\n      <td>...</td>\n      <td>...</td>\n      <td>...</td>\n      <td>...</td>\n      <td>...</td>\n      <td>...</td>\n      <td>...</td>\n      <td>...</td>\n      <td>...</td>\n      <td>...</td>\n      <td>...</td>\n      <td>...</td>\n      <td>...</td>\n      <td>...</td>\n      <td>...</td>\n      <td>...</td>\n    </tr>\n    <tr>\n      <th>4757</th>\n      <td>chr19</td>\n      <td>54242117</td>\n      <td>T</td>\n      <td>C</td>\n      <td>0.508</td>\n      <td>204</td>\n      <td>211</td>\n      <td>0/1</td>\n      <td>NaN</td>\n      <td>SNP</td>\n      <td>...</td>\n      <td>NaN</td>\n      <td>NaN</td>\n      <td>NaN</td>\n      <td>NaN</td>\n      <td>NaN</td>\n      <td>ACH-000234</td>\n      <td>79168.0</td>\n      <td>0.0395</td>\n      <td>likely_benign</td>\n      <td>isoform</td>\n    </tr>\n    <tr>\n      <th>4758</th>\n      <td>chr20</td>\n      <td>33770234</td>\n      <td>C</td>\n      <td>G</td>\n      <td>0.266</td>\n      <td>74</td>\n      <td>26</td>\n      <td>0/1</td>\n      <td>NaN</td>\n      <td>SNP</td>\n      <td>...</td>\n      <td>NaN</td>\n      <td>NaN</td>\n      <td>NaN</td>\n      <td>NaN</td>\n      <td>NaN</td>\n      <td>ACH-000234</td>\n      <td>84905.0</td>\n      <td>0.3262</td>\n      <td>likely_benign</td>\n      <td>isoform</td>\n    </tr>\n    <tr>\n      <th>4759</th>\n      <td>chr22</td>\n      <td>26472373</td>\n      <td>C</td>\n      <td>T</td>\n      <td>0.604</td>\n      <td>106</td>\n      <td>154</td>\n      <td>0/1</td>\n      <td>NaN</td>\n      <td>SNP</td>\n      <td>...</td>\n      <td>NaN</td>\n      <td>NaN</td>\n      <td>NaN</td>\n      <td>NaN</td>\n      <td>NaN</td>\n      <td>ACH-000234</td>\n      <td>89781.0</td>\n      <td>0.0965</td>\n      <td>likely_benign</td>\n      <td>isoform</td>\n    </tr>\n    <tr>\n      <th>4760</th>\n      <td>chr22</td>\n      <td>37207205</td>\n      <td>G</td>\n      <td>A</td>\n      <td>0.726</td>\n      <td>13</td>\n      <td>38</td>\n      <td>0/1</td>\n      <td>NaN</td>\n      <td>SNP</td>\n      <td>...</td>\n      <td>NaN</td>\n      <td>NaN</td>\n      <td>NaN</td>\n      <td>NaN</td>\n      <td>NaN</td>\n      <td>ACH-000234</td>\n      <td>6753.0</td>\n      <td>0.0889</td>\n      <td>likely_benign</td>\n      <td>isoform</td>\n    </tr>\n    <tr>\n      <th>4761</th>\n      <td>chrX</td>\n      <td>153954753</td>\n      <td>T</td>\n      <td>C</td>\n      <td>0.857</td>\n      <td>0</td>\n      <td>6</td>\n      <td>0/1</td>\n      <td>NaN</td>\n      <td>SNP</td>\n      <td>...</td>\n      <td>NaN</td>\n      <td>NaN</td>\n      <td>NaN</td>\n      <td>NaN</td>\n      <td>NaN</td>\n      <td>ACH-000234</td>\n      <td>3054.0</td>\n      <td>0.0638</td>\n      <td>likely_benign</td>\n      <td>isoform</td>\n    </tr>\n  </tbody>\n</table>\n<p>4762 rows × 59 columns</p>\n</div>"
     },
     "execution_count": 48,
     "metadata": {},
     "output_type": "execute_result"
    }
   ],
   "source": [
    "# Rename columns in alpha_missense_isoforms df to match those in missense_snp_extended for the merging criteria\n",
    "alpha_missense_isoforms.rename(columns={'#CHROM': 'Chrom', 'POS': 'Pos', 'REF': 'Ref', 'ALT': 'Alt', 'transcript_id': 'Transcript'}, inplace=True)\n",
    "\n",
    "# Add a column, so we can later identify the source of the data when merged\n",
    "alpha_missense_isoforms['am_source'] = 'isoform'\n",
    "\n",
    "# These cols were added during the first merge. Drop them so we can add them again, otherwise we will get _x _y appended cols\n",
    "missing_missense_predictions = missing_missense_predictions.drop(columns=['am_pathogenicity', 'am_class', 'am_source']) \n",
    "\n",
    "# Now, merge the DataFrames\n",
    "missing_missense_predictions = missing_missense_predictions.merge(alpha_missense_isoforms[['Chrom', 'Pos', 'Ref', 'Alt', 'Transcript', 'am_pathogenicity', 'am_class', 'am_source']], \n",
    "                on=['Chrom', 'Pos', 'Ref', 'Alt', 'Transcript'], \n",
    "                how='left')\n",
    "\n",
    "#del alpha_missense_isoforms\n",
    "\n",
    "missing_missense_predictions"
   ],
   "metadata": {
    "collapsed": false,
    "ExecuteTime": {
     "end_time": "2023-12-30T00:33:18.893906100Z",
     "start_time": "2023-12-30T00:33:12.586874600Z"
    }
   },
   "id": "97033c8e10a3cd56"
  },
  {
   "cell_type": "code",
   "execution_count": 49,
   "outputs": [
    {
     "data": {
      "text/plain": "      Chrom        Pos Ref Alt     AF  RefCount  AltCount   GT  PS  \\\n0      chr1    2412394   C   T  0.391        14         8  0/1 NaN   \n3      chr1   20144618   T   C  0.344        19         9  0/1 NaN   \n5      chr1   43437866   C   T  0.421        21        17  0/1 NaN   \n7      chr1   64839630   T   C  0.406        20        13  0/1 NaN   \n9      chr1  145340826   T   A  0.750         0         2  0/1 NaN   \n...     ...        ...  ..  ..    ...       ...       ...  ...  ..   \n4739  chr15   61920539   T   C  0.193        51        11  0/1 NaN   \n4741  chr15   74133133   C   A  0.541        53        70  0/1 NaN   \n4743  chr15   88859328   C   T  0.563         6         8  0/1 NaN   \n4748  chr17   28547785   G   A  0.296       225        98  0/1 NaN   \n4749  chr17   37444735   G   A  0.596       203       298  0/1 NaN   \n\n     VariantType  ... DidaID DidaName GwasDisease GwasPmID GTexGene  \\\n0            SNP  ...    NaN      NaN         NaN      NaN      NaN   \n3            SNP  ...    NaN      NaN         NaN      NaN      NaN   \n5            SNP  ...    NaN      NaN         NaN      NaN      NaN   \n7            SNP  ...    NaN      NaN         NaN      NaN      NaN   \n9            SNP  ...    NaN      NaN         NaN      NaN      NaN   \n...          ...  ...    ...      ...         ...      ...      ...   \n4739         SNP  ...    NaN      NaN         NaN      NaN      NaN   \n4741         SNP  ...    NaN      NaN         NaN      NaN      NaN   \n4743         SNP  ...    NaN      NaN         NaN      NaN      NaN   \n4748         SNP  ...    NaN      NaN         NaN      NaN      NaN   \n4749         SNP  ...    NaN      NaN         NaN      NaN      NaN   \n\n         ModelID EntrezGeneID  am_pathogenicity am_class am_source  \n0     ACH-000856       5192.0               NaN      NaN       NaN  \n3     ACH-000856      64600.0               NaN      NaN       NaN  \n5     ACH-000856      23334.0               NaN      NaN       NaN  \n7     ACH-000856       3716.0               NaN      NaN       NaN  \n9     ACH-000856  100288142.0               NaN      NaN       NaN  \n...          ...          ...               ...      ...       ...  \n4739  ACH-000234      54832.0               NaN      NaN       NaN  \n4741  ACH-000234      57611.0               NaN      NaN       NaN  \n4743  ACH-000234        176.0               NaN      NaN       NaN  \n4748  ACH-000234       9094.0               NaN      NaN       NaN  \n4749  ACH-000234       6871.0               NaN      NaN       NaN  \n\n[1423 rows x 59 columns]",
      "text/html": "<div>\n<style scoped>\n    .dataframe tbody tr th:only-of-type {\n        vertical-align: middle;\n    }\n\n    .dataframe tbody tr th {\n        vertical-align: top;\n    }\n\n    .dataframe thead th {\n        text-align: right;\n    }\n</style>\n<table border=\"1\" class=\"dataframe\">\n  <thead>\n    <tr style=\"text-align: right;\">\n      <th></th>\n      <th>Chrom</th>\n      <th>Pos</th>\n      <th>Ref</th>\n      <th>Alt</th>\n      <th>AF</th>\n      <th>RefCount</th>\n      <th>AltCount</th>\n      <th>GT</th>\n      <th>PS</th>\n      <th>VariantType</th>\n      <th>...</th>\n      <th>DidaID</th>\n      <th>DidaName</th>\n      <th>GwasDisease</th>\n      <th>GwasPmID</th>\n      <th>GTexGene</th>\n      <th>ModelID</th>\n      <th>EntrezGeneID</th>\n      <th>am_pathogenicity</th>\n      <th>am_class</th>\n      <th>am_source</th>\n    </tr>\n  </thead>\n  <tbody>\n    <tr>\n      <th>0</th>\n      <td>chr1</td>\n      <td>2412394</td>\n      <td>C</td>\n      <td>T</td>\n      <td>0.391</td>\n      <td>14</td>\n      <td>8</td>\n      <td>0/1</td>\n      <td>NaN</td>\n      <td>SNP</td>\n      <td>...</td>\n      <td>NaN</td>\n      <td>NaN</td>\n      <td>NaN</td>\n      <td>NaN</td>\n      <td>NaN</td>\n      <td>ACH-000856</td>\n      <td>5192.0</td>\n      <td>NaN</td>\n      <td>NaN</td>\n      <td>NaN</td>\n    </tr>\n    <tr>\n      <th>3</th>\n      <td>chr1</td>\n      <td>20144618</td>\n      <td>T</td>\n      <td>C</td>\n      <td>0.344</td>\n      <td>19</td>\n      <td>9</td>\n      <td>0/1</td>\n      <td>NaN</td>\n      <td>SNP</td>\n      <td>...</td>\n      <td>NaN</td>\n      <td>NaN</td>\n      <td>NaN</td>\n      <td>NaN</td>\n      <td>NaN</td>\n      <td>ACH-000856</td>\n      <td>64600.0</td>\n      <td>NaN</td>\n      <td>NaN</td>\n      <td>NaN</td>\n    </tr>\n    <tr>\n      <th>5</th>\n      <td>chr1</td>\n      <td>43437866</td>\n      <td>C</td>\n      <td>T</td>\n      <td>0.421</td>\n      <td>21</td>\n      <td>17</td>\n      <td>0/1</td>\n      <td>NaN</td>\n      <td>SNP</td>\n      <td>...</td>\n      <td>NaN</td>\n      <td>NaN</td>\n      <td>NaN</td>\n      <td>NaN</td>\n      <td>NaN</td>\n      <td>ACH-000856</td>\n      <td>23334.0</td>\n      <td>NaN</td>\n      <td>NaN</td>\n      <td>NaN</td>\n    </tr>\n    <tr>\n      <th>7</th>\n      <td>chr1</td>\n      <td>64839630</td>\n      <td>T</td>\n      <td>C</td>\n      <td>0.406</td>\n      <td>20</td>\n      <td>13</td>\n      <td>0/1</td>\n      <td>NaN</td>\n      <td>SNP</td>\n      <td>...</td>\n      <td>NaN</td>\n      <td>NaN</td>\n      <td>NaN</td>\n      <td>NaN</td>\n      <td>NaN</td>\n      <td>ACH-000856</td>\n      <td>3716.0</td>\n      <td>NaN</td>\n      <td>NaN</td>\n      <td>NaN</td>\n    </tr>\n    <tr>\n      <th>9</th>\n      <td>chr1</td>\n      <td>145340826</td>\n      <td>T</td>\n      <td>A</td>\n      <td>0.750</td>\n      <td>0</td>\n      <td>2</td>\n      <td>0/1</td>\n      <td>NaN</td>\n      <td>SNP</td>\n      <td>...</td>\n      <td>NaN</td>\n      <td>NaN</td>\n      <td>NaN</td>\n      <td>NaN</td>\n      <td>NaN</td>\n      <td>ACH-000856</td>\n      <td>100288142.0</td>\n      <td>NaN</td>\n      <td>NaN</td>\n      <td>NaN</td>\n    </tr>\n    <tr>\n      <th>...</th>\n      <td>...</td>\n      <td>...</td>\n      <td>...</td>\n      <td>...</td>\n      <td>...</td>\n      <td>...</td>\n      <td>...</td>\n      <td>...</td>\n      <td>...</td>\n      <td>...</td>\n      <td>...</td>\n      <td>...</td>\n      <td>...</td>\n      <td>...</td>\n      <td>...</td>\n      <td>...</td>\n      <td>...</td>\n      <td>...</td>\n      <td>...</td>\n      <td>...</td>\n      <td>...</td>\n    </tr>\n    <tr>\n      <th>4739</th>\n      <td>chr15</td>\n      <td>61920539</td>\n      <td>T</td>\n      <td>C</td>\n      <td>0.193</td>\n      <td>51</td>\n      <td>11</td>\n      <td>0/1</td>\n      <td>NaN</td>\n      <td>SNP</td>\n      <td>...</td>\n      <td>NaN</td>\n      <td>NaN</td>\n      <td>NaN</td>\n      <td>NaN</td>\n      <td>NaN</td>\n      <td>ACH-000234</td>\n      <td>54832.0</td>\n      <td>NaN</td>\n      <td>NaN</td>\n      <td>NaN</td>\n    </tr>\n    <tr>\n      <th>4741</th>\n      <td>chr15</td>\n      <td>74133133</td>\n      <td>C</td>\n      <td>A</td>\n      <td>0.541</td>\n      <td>53</td>\n      <td>70</td>\n      <td>0/1</td>\n      <td>NaN</td>\n      <td>SNP</td>\n      <td>...</td>\n      <td>NaN</td>\n      <td>NaN</td>\n      <td>NaN</td>\n      <td>NaN</td>\n      <td>NaN</td>\n      <td>ACH-000234</td>\n      <td>57611.0</td>\n      <td>NaN</td>\n      <td>NaN</td>\n      <td>NaN</td>\n    </tr>\n    <tr>\n      <th>4743</th>\n      <td>chr15</td>\n      <td>88859328</td>\n      <td>C</td>\n      <td>T</td>\n      <td>0.563</td>\n      <td>6</td>\n      <td>8</td>\n      <td>0/1</td>\n      <td>NaN</td>\n      <td>SNP</td>\n      <td>...</td>\n      <td>NaN</td>\n      <td>NaN</td>\n      <td>NaN</td>\n      <td>NaN</td>\n      <td>NaN</td>\n      <td>ACH-000234</td>\n      <td>176.0</td>\n      <td>NaN</td>\n      <td>NaN</td>\n      <td>NaN</td>\n    </tr>\n    <tr>\n      <th>4748</th>\n      <td>chr17</td>\n      <td>28547785</td>\n      <td>G</td>\n      <td>A</td>\n      <td>0.296</td>\n      <td>225</td>\n      <td>98</td>\n      <td>0/1</td>\n      <td>NaN</td>\n      <td>SNP</td>\n      <td>...</td>\n      <td>NaN</td>\n      <td>NaN</td>\n      <td>NaN</td>\n      <td>NaN</td>\n      <td>NaN</td>\n      <td>ACH-000234</td>\n      <td>9094.0</td>\n      <td>NaN</td>\n      <td>NaN</td>\n      <td>NaN</td>\n    </tr>\n    <tr>\n      <th>4749</th>\n      <td>chr17</td>\n      <td>37444735</td>\n      <td>G</td>\n      <td>A</td>\n      <td>0.596</td>\n      <td>203</td>\n      <td>298</td>\n      <td>0/1</td>\n      <td>NaN</td>\n      <td>SNP</td>\n      <td>...</td>\n      <td>NaN</td>\n      <td>NaN</td>\n      <td>NaN</td>\n      <td>NaN</td>\n      <td>NaN</td>\n      <td>ACH-000234</td>\n      <td>6871.0</td>\n      <td>NaN</td>\n      <td>NaN</td>\n      <td>NaN</td>\n    </tr>\n  </tbody>\n</table>\n<p>1423 rows × 59 columns</p>\n</div>"
     },
     "execution_count": 49,
     "metadata": {},
     "output_type": "execute_result"
    }
   ],
   "source": [
    "# How many still don't have a prediction?\n",
    "missing_missense_predictions[missing_missense_predictions['am_class'].isnull()]"
   ],
   "metadata": {
    "collapsed": false,
    "ExecuteTime": {
     "end_time": "2023-12-30T00:33:18.953984200Z",
     "start_time": "2023-12-30T00:33:18.881950900Z"
    }
   },
   "id": "9587ddb879b86167"
  },
  {
   "cell_type": "code",
   "execution_count": 50,
   "outputs": [],
   "source": [
    "# Drop any that still don't have a prediction\n",
    "# missing_missense_predictions = missing_missense_predictions.dropna(subset='am_class')\n",
    "# missing_missense_predictions"
   ],
   "metadata": {
    "collapsed": false,
    "ExecuteTime": {
     "end_time": "2023-12-30T00:33:19.025989800Z",
     "start_time": "2023-12-30T00:33:18.917953900Z"
    }
   },
   "id": "877a7f211ee91352"
  },
  {
   "cell_type": "code",
   "execution_count": 51,
   "outputs": [
    {
     "data": {
      "text/plain": "      Chrom        Pos Ref Alt     AF  RefCount  AltCount   GT  PS  \\\n0      chr1    2412394   C   T  0.391        14         8  0/1 NaN   \n1      chr1    2789833   C   A  0.534         6         7  0/1 NaN   \n2      chr1   10275492   G   A  0.222        21         6  0/1 NaN   \n3      chr1   20144618   T   C  0.344        19         9  0/1 NaN   \n4      chr1   33159815   C   T  0.514        16        21  0/1 NaN   \n...     ...        ...  ..  ..    ...       ...       ...  ...  ..   \n4757  chr19   54242117   T   C  0.508       204       211  0/1 NaN   \n4758  chr20   33770234   C   G  0.266        74        26  0/1 NaN   \n4759  chr22   26472373   C   T  0.604       106       154  0/1 NaN   \n4760  chr22   37207205   G   A  0.726        13        38  0/1 NaN   \n4761   chrX  153954753   T   C  0.857         0         6  0/1 NaN   \n\n     VariantType  ... DidaID DidaName GwasDisease GwasPmID GTexGene  \\\n0            SNP  ...    NaN      NaN         NaN      NaN      NaN   \n1            SNP  ...    NaN      NaN         NaN      NaN      NaN   \n2            SNP  ...    NaN      NaN         NaN      NaN      NaN   \n3            SNP  ...    NaN      NaN         NaN      NaN      NaN   \n4            SNP  ...    NaN      NaN         NaN      NaN      NaN   \n...          ...  ...    ...      ...         ...      ...      ...   \n4757         SNP  ...    NaN      NaN         NaN      NaN      NaN   \n4758         SNP  ...    NaN      NaN         NaN      NaN      NaN   \n4759         SNP  ...    NaN      NaN         NaN      NaN      NaN   \n4760         SNP  ...    NaN      NaN         NaN      NaN      NaN   \n4761         SNP  ...    NaN      NaN         NaN      NaN      NaN   \n\n         ModelID EntrezGeneID  am_pathogenicity           am_class am_source  \n0     ACH-000856       5192.0               NaN                NaN       NaN  \n1     ACH-000856  100287898.0            0.0870      likely_benign   isoform  \n2     ACH-000856      23095.0            0.9657  likely_pathogenic   isoform  \n3     ACH-000856      64600.0               NaN                NaN       NaN  \n4     ACH-000856      55223.0            0.4059          ambiguous   isoform  \n...          ...          ...               ...                ...       ...  \n4757  ACH-000234      79168.0            0.0395      likely_benign   isoform  \n4758  ACH-000234      84905.0            0.3262      likely_benign   isoform  \n4759  ACH-000234      89781.0            0.0965      likely_benign   isoform  \n4760  ACH-000234       6753.0            0.0889      likely_benign   isoform  \n4761  ACH-000234       3054.0            0.0638      likely_benign   isoform  \n\n[4635 rows x 59 columns]",
      "text/html": "<div>\n<style scoped>\n    .dataframe tbody tr th:only-of-type {\n        vertical-align: middle;\n    }\n\n    .dataframe tbody tr th {\n        vertical-align: top;\n    }\n\n    .dataframe thead th {\n        text-align: right;\n    }\n</style>\n<table border=\"1\" class=\"dataframe\">\n  <thead>\n    <tr style=\"text-align: right;\">\n      <th></th>\n      <th>Chrom</th>\n      <th>Pos</th>\n      <th>Ref</th>\n      <th>Alt</th>\n      <th>AF</th>\n      <th>RefCount</th>\n      <th>AltCount</th>\n      <th>GT</th>\n      <th>PS</th>\n      <th>VariantType</th>\n      <th>...</th>\n      <th>DidaID</th>\n      <th>DidaName</th>\n      <th>GwasDisease</th>\n      <th>GwasPmID</th>\n      <th>GTexGene</th>\n      <th>ModelID</th>\n      <th>EntrezGeneID</th>\n      <th>am_pathogenicity</th>\n      <th>am_class</th>\n      <th>am_source</th>\n    </tr>\n  </thead>\n  <tbody>\n    <tr>\n      <th>0</th>\n      <td>chr1</td>\n      <td>2412394</td>\n      <td>C</td>\n      <td>T</td>\n      <td>0.391</td>\n      <td>14</td>\n      <td>8</td>\n      <td>0/1</td>\n      <td>NaN</td>\n      <td>SNP</td>\n      <td>...</td>\n      <td>NaN</td>\n      <td>NaN</td>\n      <td>NaN</td>\n      <td>NaN</td>\n      <td>NaN</td>\n      <td>ACH-000856</td>\n      <td>5192.0</td>\n      <td>NaN</td>\n      <td>NaN</td>\n      <td>NaN</td>\n    </tr>\n    <tr>\n      <th>1</th>\n      <td>chr1</td>\n      <td>2789833</td>\n      <td>C</td>\n      <td>A</td>\n      <td>0.534</td>\n      <td>6</td>\n      <td>7</td>\n      <td>0/1</td>\n      <td>NaN</td>\n      <td>SNP</td>\n      <td>...</td>\n      <td>NaN</td>\n      <td>NaN</td>\n      <td>NaN</td>\n      <td>NaN</td>\n      <td>NaN</td>\n      <td>ACH-000856</td>\n      <td>100287898.0</td>\n      <td>0.0870</td>\n      <td>likely_benign</td>\n      <td>isoform</td>\n    </tr>\n    <tr>\n      <th>2</th>\n      <td>chr1</td>\n      <td>10275492</td>\n      <td>G</td>\n      <td>A</td>\n      <td>0.222</td>\n      <td>21</td>\n      <td>6</td>\n      <td>0/1</td>\n      <td>NaN</td>\n      <td>SNP</td>\n      <td>...</td>\n      <td>NaN</td>\n      <td>NaN</td>\n      <td>NaN</td>\n      <td>NaN</td>\n      <td>NaN</td>\n      <td>ACH-000856</td>\n      <td>23095.0</td>\n      <td>0.9657</td>\n      <td>likely_pathogenic</td>\n      <td>isoform</td>\n    </tr>\n    <tr>\n      <th>3</th>\n      <td>chr1</td>\n      <td>20144618</td>\n      <td>T</td>\n      <td>C</td>\n      <td>0.344</td>\n      <td>19</td>\n      <td>9</td>\n      <td>0/1</td>\n      <td>NaN</td>\n      <td>SNP</td>\n      <td>...</td>\n      <td>NaN</td>\n      <td>NaN</td>\n      <td>NaN</td>\n      <td>NaN</td>\n      <td>NaN</td>\n      <td>ACH-000856</td>\n      <td>64600.0</td>\n      <td>NaN</td>\n      <td>NaN</td>\n      <td>NaN</td>\n    </tr>\n    <tr>\n      <th>4</th>\n      <td>chr1</td>\n      <td>33159815</td>\n      <td>C</td>\n      <td>T</td>\n      <td>0.514</td>\n      <td>16</td>\n      <td>21</td>\n      <td>0/1</td>\n      <td>NaN</td>\n      <td>SNP</td>\n      <td>...</td>\n      <td>NaN</td>\n      <td>NaN</td>\n      <td>NaN</td>\n      <td>NaN</td>\n      <td>NaN</td>\n      <td>ACH-000856</td>\n      <td>55223.0</td>\n      <td>0.4059</td>\n      <td>ambiguous</td>\n      <td>isoform</td>\n    </tr>\n    <tr>\n      <th>...</th>\n      <td>...</td>\n      <td>...</td>\n      <td>...</td>\n      <td>...</td>\n      <td>...</td>\n      <td>...</td>\n      <td>...</td>\n      <td>...</td>\n      <td>...</td>\n      <td>...</td>\n      <td>...</td>\n      <td>...</td>\n      <td>...</td>\n      <td>...</td>\n      <td>...</td>\n      <td>...</td>\n      <td>...</td>\n      <td>...</td>\n      <td>...</td>\n      <td>...</td>\n      <td>...</td>\n    </tr>\n    <tr>\n      <th>4757</th>\n      <td>chr19</td>\n      <td>54242117</td>\n      <td>T</td>\n      <td>C</td>\n      <td>0.508</td>\n      <td>204</td>\n      <td>211</td>\n      <td>0/1</td>\n      <td>NaN</td>\n      <td>SNP</td>\n      <td>...</td>\n      <td>NaN</td>\n      <td>NaN</td>\n      <td>NaN</td>\n      <td>NaN</td>\n      <td>NaN</td>\n      <td>ACH-000234</td>\n      <td>79168.0</td>\n      <td>0.0395</td>\n      <td>likely_benign</td>\n      <td>isoform</td>\n    </tr>\n    <tr>\n      <th>4758</th>\n      <td>chr20</td>\n      <td>33770234</td>\n      <td>C</td>\n      <td>G</td>\n      <td>0.266</td>\n      <td>74</td>\n      <td>26</td>\n      <td>0/1</td>\n      <td>NaN</td>\n      <td>SNP</td>\n      <td>...</td>\n      <td>NaN</td>\n      <td>NaN</td>\n      <td>NaN</td>\n      <td>NaN</td>\n      <td>NaN</td>\n      <td>ACH-000234</td>\n      <td>84905.0</td>\n      <td>0.3262</td>\n      <td>likely_benign</td>\n      <td>isoform</td>\n    </tr>\n    <tr>\n      <th>4759</th>\n      <td>chr22</td>\n      <td>26472373</td>\n      <td>C</td>\n      <td>T</td>\n      <td>0.604</td>\n      <td>106</td>\n      <td>154</td>\n      <td>0/1</td>\n      <td>NaN</td>\n      <td>SNP</td>\n      <td>...</td>\n      <td>NaN</td>\n      <td>NaN</td>\n      <td>NaN</td>\n      <td>NaN</td>\n      <td>NaN</td>\n      <td>ACH-000234</td>\n      <td>89781.0</td>\n      <td>0.0965</td>\n      <td>likely_benign</td>\n      <td>isoform</td>\n    </tr>\n    <tr>\n      <th>4760</th>\n      <td>chr22</td>\n      <td>37207205</td>\n      <td>G</td>\n      <td>A</td>\n      <td>0.726</td>\n      <td>13</td>\n      <td>38</td>\n      <td>0/1</td>\n      <td>NaN</td>\n      <td>SNP</td>\n      <td>...</td>\n      <td>NaN</td>\n      <td>NaN</td>\n      <td>NaN</td>\n      <td>NaN</td>\n      <td>NaN</td>\n      <td>ACH-000234</td>\n      <td>6753.0</td>\n      <td>0.0889</td>\n      <td>likely_benign</td>\n      <td>isoform</td>\n    </tr>\n    <tr>\n      <th>4761</th>\n      <td>chrX</td>\n      <td>153954753</td>\n      <td>T</td>\n      <td>C</td>\n      <td>0.857</td>\n      <td>0</td>\n      <td>6</td>\n      <td>0/1</td>\n      <td>NaN</td>\n      <td>SNP</td>\n      <td>...</td>\n      <td>NaN</td>\n      <td>NaN</td>\n      <td>NaN</td>\n      <td>NaN</td>\n      <td>NaN</td>\n      <td>ACH-000234</td>\n      <td>3054.0</td>\n      <td>0.0638</td>\n      <td>likely_benign</td>\n      <td>isoform</td>\n    </tr>\n  </tbody>\n</table>\n<p>4635 rows × 59 columns</p>\n</div>"
     },
     "execution_count": 51,
     "metadata": {},
     "output_type": "execute_result"
    }
   ],
   "source": [
    "# Drop duplicates\n",
    "missing_missense_predictions = missing_missense_predictions.drop_duplicates(subset=['Chrom', 'Pos', 'Ref', 'Alt', 'Transcript', 'am_class', 'ModelID'], keep='first')\n",
    "missing_missense_predictions"
   ],
   "metadata": {
    "collapsed": false,
    "ExecuteTime": {
     "end_time": "2023-12-30T00:33:19.062186900Z",
     "start_time": "2023-12-30T00:33:18.929904700Z"
    }
   },
   "id": "392fd7851b72a0db"
  },
  {
   "cell_type": "code",
   "execution_count": 52,
   "outputs": [
    {
     "data": {
      "text/plain": "Empty DataFrame\nColumns: [Chrom, Pos, Ref, Alt, AF, RefCount, AltCount, GT, PS, VariantType, VariantInfo, DNAChange, ProteinChange, HugoSymbol, HgncName, HgncFamily, Transcript, TranscriptExon, TranscriptStrand, UniprotID, Str, DbsnpID, DbsnpFilter, Issues, GcContent, LineageAssociation, CancerMolecularGenetics, CCLEDeleterious, StructuralRelation, CosmicHotspot, CosmicOverlappingMutations, AssociatedWith, LoF, Driver, LikelyDriver, TranscriptLikelyLoF, CivicID, CivicDescription, CivicScore, Popaf, LikelyGoF, LikelyLoF, HessDriver, HessSignature, CscapeScore, DannScore, RevelScore, Funseq2Score, PharmgkbID, DidaID, DidaName, GwasDisease, GwasPmID, GTexGene, ModelID, EntrezGeneID, am_pathogenicity, am_class, am_source]\nIndex: []\n\n[0 rows x 59 columns]",
      "text/html": "<div>\n<style scoped>\n    .dataframe tbody tr th:only-of-type {\n        vertical-align: middle;\n    }\n\n    .dataframe tbody tr th {\n        vertical-align: top;\n    }\n\n    .dataframe thead th {\n        text-align: right;\n    }\n</style>\n<table border=\"1\" class=\"dataframe\">\n  <thead>\n    <tr style=\"text-align: right;\">\n      <th></th>\n      <th>Chrom</th>\n      <th>Pos</th>\n      <th>Ref</th>\n      <th>Alt</th>\n      <th>AF</th>\n      <th>RefCount</th>\n      <th>AltCount</th>\n      <th>GT</th>\n      <th>PS</th>\n      <th>VariantType</th>\n      <th>...</th>\n      <th>DidaID</th>\n      <th>DidaName</th>\n      <th>GwasDisease</th>\n      <th>GwasPmID</th>\n      <th>GTexGene</th>\n      <th>ModelID</th>\n      <th>EntrezGeneID</th>\n      <th>am_pathogenicity</th>\n      <th>am_class</th>\n      <th>am_source</th>\n    </tr>\n  </thead>\n  <tbody>\n  </tbody>\n</table>\n<p>0 rows × 59 columns</p>\n</div>"
     },
     "execution_count": 52,
     "metadata": {},
     "output_type": "execute_result"
    }
   ],
   "source": [
    "missing_missense_predictions[missing_missense_predictions.duplicated(subset=['Chrom', 'Pos', 'Ref', 'Alt', 'Transcript', 'ModelID'], keep=False)]"
   ],
   "metadata": {
    "collapsed": false,
    "ExecuteTime": {
     "end_time": "2023-12-30T00:33:19.062186900Z",
     "start_time": "2023-12-30T00:33:18.965991100Z"
    }
   },
   "id": "620d2d2341893479"
  },
  {
   "cell_type": "code",
   "execution_count": 53,
   "outputs": [],
   "source": [
    "missense_snp_complete = pd.concat([missense_snp_extended, missing_missense_predictions], axis=0, ignore_index=True)"
   ],
   "metadata": {
    "collapsed": false,
    "ExecuteTime": {
     "end_time": "2023-12-30T00:33:19.226325100Z",
     "start_time": "2023-12-30T00:33:18.990003800Z"
    }
   },
   "id": "6640e8fe0a59088d"
  },
  {
   "cell_type": "code",
   "execution_count": 54,
   "outputs": [
    {
     "data": {
      "text/plain": "       Chrom        Pos Ref Alt     AF  RefCount  AltCount   GT  PS  \\\n0       chr1     963249   G   A  0.303        22         9  0/1 NaN   \n1       chr1    2512914   G   T  0.488        21        19  0/1 NaN   \n2       chr1    2561696   C   T  0.320        24        12  0/1 NaN   \n3       chr1    5867853   C   T  0.600        18        26  0/1 NaN   \n4       chr1    6580736   G   A  0.500        16        16  0/1 NaN   \n...      ...        ...  ..  ..    ...       ...       ...  ...  ..   \n12294  chr19   54242117   T   C  0.508       204       211  0/1 NaN   \n12295  chr20   33770234   C   G  0.266        74        26  0/1 NaN   \n12296  chr22   26472373   C   T  0.604       106       154  0/1 NaN   \n12297  chr22   37207205   G   A  0.726        13        38  0/1 NaN   \n12298   chrX  153954753   T   C  0.857         0         6  0/1 NaN   \n\n      VariantType  ... DidaID DidaName GwasDisease GwasPmID GTexGene  \\\n0             SNP  ...    NaN      NaN         NaN      NaN      NaN   \n1             SNP  ...    NaN      NaN         NaN      NaN      NaN   \n2             SNP  ...    NaN      NaN         NaN      NaN      NaN   \n3             SNP  ...    NaN      NaN         NaN      NaN      NaN   \n4             SNP  ...    NaN      NaN         NaN      NaN      NaN   \n...           ...  ...    ...      ...         ...      ...      ...   \n12294         SNP  ...    NaN      NaN         NaN      NaN      NaN   \n12295         SNP  ...    NaN      NaN         NaN      NaN      NaN   \n12296         SNP  ...    NaN      NaN         NaN      NaN      NaN   \n12297         SNP  ...    NaN      NaN         NaN      NaN      NaN   \n12298         SNP  ...    NaN      NaN         NaN      NaN      NaN   \n\n          ModelID EntrezGeneID  am_pathogenicity           am_class am_source  \n0      ACH-000856     339451.0            0.9941  likely_pathogenic   primary  \n1      ACH-000856      55229.0            0.9989  likely_pathogenic   primary  \n2      ACH-000856       8764.0            0.1136      likely_benign   primary  \n3      ACH-000856     261734.0            0.1576      likely_benign   primary  \n4      ACH-000856       3104.0            0.1870      likely_benign   primary  \n...           ...          ...               ...                ...       ...  \n12294  ACH-000234      79168.0            0.0395      likely_benign   isoform  \n12295  ACH-000234      84905.0            0.3262      likely_benign   isoform  \n12296  ACH-000234      89781.0            0.0965      likely_benign   isoform  \n12297  ACH-000234       6753.0            0.0889      likely_benign   isoform  \n12298  ACH-000234       3054.0            0.0638      likely_benign   isoform  \n\n[12299 rows x 59 columns]",
      "text/html": "<div>\n<style scoped>\n    .dataframe tbody tr th:only-of-type {\n        vertical-align: middle;\n    }\n\n    .dataframe tbody tr th {\n        vertical-align: top;\n    }\n\n    .dataframe thead th {\n        text-align: right;\n    }\n</style>\n<table border=\"1\" class=\"dataframe\">\n  <thead>\n    <tr style=\"text-align: right;\">\n      <th></th>\n      <th>Chrom</th>\n      <th>Pos</th>\n      <th>Ref</th>\n      <th>Alt</th>\n      <th>AF</th>\n      <th>RefCount</th>\n      <th>AltCount</th>\n      <th>GT</th>\n      <th>PS</th>\n      <th>VariantType</th>\n      <th>...</th>\n      <th>DidaID</th>\n      <th>DidaName</th>\n      <th>GwasDisease</th>\n      <th>GwasPmID</th>\n      <th>GTexGene</th>\n      <th>ModelID</th>\n      <th>EntrezGeneID</th>\n      <th>am_pathogenicity</th>\n      <th>am_class</th>\n      <th>am_source</th>\n    </tr>\n  </thead>\n  <tbody>\n    <tr>\n      <th>0</th>\n      <td>chr1</td>\n      <td>963249</td>\n      <td>G</td>\n      <td>A</td>\n      <td>0.303</td>\n      <td>22</td>\n      <td>9</td>\n      <td>0/1</td>\n      <td>NaN</td>\n      <td>SNP</td>\n      <td>...</td>\n      <td>NaN</td>\n      <td>NaN</td>\n      <td>NaN</td>\n      <td>NaN</td>\n      <td>NaN</td>\n      <td>ACH-000856</td>\n      <td>339451.0</td>\n      <td>0.9941</td>\n      <td>likely_pathogenic</td>\n      <td>primary</td>\n    </tr>\n    <tr>\n      <th>1</th>\n      <td>chr1</td>\n      <td>2512914</td>\n      <td>G</td>\n      <td>T</td>\n      <td>0.488</td>\n      <td>21</td>\n      <td>19</td>\n      <td>0/1</td>\n      <td>NaN</td>\n      <td>SNP</td>\n      <td>...</td>\n      <td>NaN</td>\n      <td>NaN</td>\n      <td>NaN</td>\n      <td>NaN</td>\n      <td>NaN</td>\n      <td>ACH-000856</td>\n      <td>55229.0</td>\n      <td>0.9989</td>\n      <td>likely_pathogenic</td>\n      <td>primary</td>\n    </tr>\n    <tr>\n      <th>2</th>\n      <td>chr1</td>\n      <td>2561696</td>\n      <td>C</td>\n      <td>T</td>\n      <td>0.320</td>\n      <td>24</td>\n      <td>12</td>\n      <td>0/1</td>\n      <td>NaN</td>\n      <td>SNP</td>\n      <td>...</td>\n      <td>NaN</td>\n      <td>NaN</td>\n      <td>NaN</td>\n      <td>NaN</td>\n      <td>NaN</td>\n      <td>ACH-000856</td>\n      <td>8764.0</td>\n      <td>0.1136</td>\n      <td>likely_benign</td>\n      <td>primary</td>\n    </tr>\n    <tr>\n      <th>3</th>\n      <td>chr1</td>\n      <td>5867853</td>\n      <td>C</td>\n      <td>T</td>\n      <td>0.600</td>\n      <td>18</td>\n      <td>26</td>\n      <td>0/1</td>\n      <td>NaN</td>\n      <td>SNP</td>\n      <td>...</td>\n      <td>NaN</td>\n      <td>NaN</td>\n      <td>NaN</td>\n      <td>NaN</td>\n      <td>NaN</td>\n      <td>ACH-000856</td>\n      <td>261734.0</td>\n      <td>0.1576</td>\n      <td>likely_benign</td>\n      <td>primary</td>\n    </tr>\n    <tr>\n      <th>4</th>\n      <td>chr1</td>\n      <td>6580736</td>\n      <td>G</td>\n      <td>A</td>\n      <td>0.500</td>\n      <td>16</td>\n      <td>16</td>\n      <td>0/1</td>\n      <td>NaN</td>\n      <td>SNP</td>\n      <td>...</td>\n      <td>NaN</td>\n      <td>NaN</td>\n      <td>NaN</td>\n      <td>NaN</td>\n      <td>NaN</td>\n      <td>ACH-000856</td>\n      <td>3104.0</td>\n      <td>0.1870</td>\n      <td>likely_benign</td>\n      <td>primary</td>\n    </tr>\n    <tr>\n      <th>...</th>\n      <td>...</td>\n      <td>...</td>\n      <td>...</td>\n      <td>...</td>\n      <td>...</td>\n      <td>...</td>\n      <td>...</td>\n      <td>...</td>\n      <td>...</td>\n      <td>...</td>\n      <td>...</td>\n      <td>...</td>\n      <td>...</td>\n      <td>...</td>\n      <td>...</td>\n      <td>...</td>\n      <td>...</td>\n      <td>...</td>\n      <td>...</td>\n      <td>...</td>\n      <td>...</td>\n    </tr>\n    <tr>\n      <th>12294</th>\n      <td>chr19</td>\n      <td>54242117</td>\n      <td>T</td>\n      <td>C</td>\n      <td>0.508</td>\n      <td>204</td>\n      <td>211</td>\n      <td>0/1</td>\n      <td>NaN</td>\n      <td>SNP</td>\n      <td>...</td>\n      <td>NaN</td>\n      <td>NaN</td>\n      <td>NaN</td>\n      <td>NaN</td>\n      <td>NaN</td>\n      <td>ACH-000234</td>\n      <td>79168.0</td>\n      <td>0.0395</td>\n      <td>likely_benign</td>\n      <td>isoform</td>\n    </tr>\n    <tr>\n      <th>12295</th>\n      <td>chr20</td>\n      <td>33770234</td>\n      <td>C</td>\n      <td>G</td>\n      <td>0.266</td>\n      <td>74</td>\n      <td>26</td>\n      <td>0/1</td>\n      <td>NaN</td>\n      <td>SNP</td>\n      <td>...</td>\n      <td>NaN</td>\n      <td>NaN</td>\n      <td>NaN</td>\n      <td>NaN</td>\n      <td>NaN</td>\n      <td>ACH-000234</td>\n      <td>84905.0</td>\n      <td>0.3262</td>\n      <td>likely_benign</td>\n      <td>isoform</td>\n    </tr>\n    <tr>\n      <th>12296</th>\n      <td>chr22</td>\n      <td>26472373</td>\n      <td>C</td>\n      <td>T</td>\n      <td>0.604</td>\n      <td>106</td>\n      <td>154</td>\n      <td>0/1</td>\n      <td>NaN</td>\n      <td>SNP</td>\n      <td>...</td>\n      <td>NaN</td>\n      <td>NaN</td>\n      <td>NaN</td>\n      <td>NaN</td>\n      <td>NaN</td>\n      <td>ACH-000234</td>\n      <td>89781.0</td>\n      <td>0.0965</td>\n      <td>likely_benign</td>\n      <td>isoform</td>\n    </tr>\n    <tr>\n      <th>12297</th>\n      <td>chr22</td>\n      <td>37207205</td>\n      <td>G</td>\n      <td>A</td>\n      <td>0.726</td>\n      <td>13</td>\n      <td>38</td>\n      <td>0/1</td>\n      <td>NaN</td>\n      <td>SNP</td>\n      <td>...</td>\n      <td>NaN</td>\n      <td>NaN</td>\n      <td>NaN</td>\n      <td>NaN</td>\n      <td>NaN</td>\n      <td>ACH-000234</td>\n      <td>6753.0</td>\n      <td>0.0889</td>\n      <td>likely_benign</td>\n      <td>isoform</td>\n    </tr>\n    <tr>\n      <th>12298</th>\n      <td>chrX</td>\n      <td>153954753</td>\n      <td>T</td>\n      <td>C</td>\n      <td>0.857</td>\n      <td>0</td>\n      <td>6</td>\n      <td>0/1</td>\n      <td>NaN</td>\n      <td>SNP</td>\n      <td>...</td>\n      <td>NaN</td>\n      <td>NaN</td>\n      <td>NaN</td>\n      <td>NaN</td>\n      <td>NaN</td>\n      <td>ACH-000234</td>\n      <td>3054.0</td>\n      <td>0.0638</td>\n      <td>likely_benign</td>\n      <td>isoform</td>\n    </tr>\n  </tbody>\n</table>\n<p>12299 rows × 59 columns</p>\n</div>"
     },
     "execution_count": 54,
     "metadata": {},
     "output_type": "execute_result"
    }
   ],
   "source": [
    "missense_snp_complete"
   ],
   "metadata": {
    "collapsed": false,
    "ExecuteTime": {
     "end_time": "2023-12-30T00:33:19.226325100Z",
     "start_time": "2023-12-30T00:33:19.086280600Z"
    }
   },
   "id": "6dd2505ea851e4cc"
  },
  {
   "cell_type": "code",
   "execution_count": 55,
   "outputs": [],
   "source": [
    "# Remove any rows with null am_class (shouldn't be any)\n",
    "#missense_snp_complete = missense_snp_complete[~missense_snp_complete['am_class'].isnull()]\n",
    "#missense_snp_complete"
   ],
   "metadata": {
    "collapsed": false,
    "ExecuteTime": {
     "end_time": "2023-12-30T00:33:19.226325100Z",
     "start_time": "2023-12-30T00:33:19.122266300Z"
    }
   },
   "id": "44dd7843e0ddd881"
  },
  {
   "cell_type": "code",
   "execution_count": 68,
   "outputs": [
    {
     "data": {
      "text/plain": "       Chrom        Pos Ref Alt     AF  RefCount  AltCount   GT  PS  \\\n7664    chr1    2412394   C   T  0.391        14         8  0/1 NaN   \n7667    chr1   20144618   T   C  0.344        19         9  0/1 NaN   \n7669    chr1   43437866   C   T  0.421        21        17  0/1 NaN   \n7671    chr1   64839630   T   C  0.406        20        13  0/1 NaN   \n7673    chr1  145340826   T   A  0.750         0         2  0/1 NaN   \n...      ...        ...  ..  ..    ...       ...       ...  ...  ..   \n12276  chr15   61920539   T   C  0.193        51        11  0/1 NaN   \n12278  chr15   74133133   C   A  0.541        53        70  0/1 NaN   \n12280  chr15   88859328   C   T  0.563         6         8  0/1 NaN   \n12285  chr17   28547785   G   A  0.296       225        98  0/1 NaN   \n12286  chr17   37444735   G   A  0.596       203       298  0/1 NaN   \n\n      VariantType  ... DidaID DidaName GwasDisease GwasPmID GTexGene  \\\n7664          SNP  ...    NaN      NaN         NaN      NaN      NaN   \n7667          SNP  ...    NaN      NaN         NaN      NaN      NaN   \n7669          SNP  ...    NaN      NaN         NaN      NaN      NaN   \n7671          SNP  ...    NaN      NaN         NaN      NaN      NaN   \n7673          SNP  ...    NaN      NaN         NaN      NaN      NaN   \n...           ...  ...    ...      ...         ...      ...      ...   \n12276         SNP  ...    NaN      NaN         NaN      NaN      NaN   \n12278         SNP  ...    NaN      NaN         NaN      NaN      NaN   \n12280         SNP  ...    NaN      NaN         NaN      NaN      NaN   \n12285         SNP  ...    NaN      NaN         NaN      NaN      NaN   \n12286         SNP  ...    NaN      NaN         NaN      NaN      NaN   \n\n          ModelID EntrezGeneID  am_pathogenicity am_class am_source  \n7664   ACH-000856       5192.0               NaN      NaN       NaN  \n7667   ACH-000856      64600.0               NaN      NaN       NaN  \n7669   ACH-000856      23334.0               NaN      NaN       NaN  \n7671   ACH-000856       3716.0               NaN      NaN       NaN  \n7673   ACH-000856  100288142.0               NaN      NaN       NaN  \n...           ...          ...               ...      ...       ...  \n12276  ACH-000234      54832.0               NaN      NaN       NaN  \n12278  ACH-000234      57611.0               NaN      NaN       NaN  \n12280  ACH-000234        176.0               NaN      NaN       NaN  \n12285  ACH-000234       9094.0               NaN      NaN       NaN  \n12286  ACH-000234       6871.0               NaN      NaN       NaN  \n\n[1423 rows x 59 columns]",
      "text/html": "<div>\n<style scoped>\n    .dataframe tbody tr th:only-of-type {\n        vertical-align: middle;\n    }\n\n    .dataframe tbody tr th {\n        vertical-align: top;\n    }\n\n    .dataframe thead th {\n        text-align: right;\n    }\n</style>\n<table border=\"1\" class=\"dataframe\">\n  <thead>\n    <tr style=\"text-align: right;\">\n      <th></th>\n      <th>Chrom</th>\n      <th>Pos</th>\n      <th>Ref</th>\n      <th>Alt</th>\n      <th>AF</th>\n      <th>RefCount</th>\n      <th>AltCount</th>\n      <th>GT</th>\n      <th>PS</th>\n      <th>VariantType</th>\n      <th>...</th>\n      <th>DidaID</th>\n      <th>DidaName</th>\n      <th>GwasDisease</th>\n      <th>GwasPmID</th>\n      <th>GTexGene</th>\n      <th>ModelID</th>\n      <th>EntrezGeneID</th>\n      <th>am_pathogenicity</th>\n      <th>am_class</th>\n      <th>am_source</th>\n    </tr>\n  </thead>\n  <tbody>\n    <tr>\n      <th>7664</th>\n      <td>chr1</td>\n      <td>2412394</td>\n      <td>C</td>\n      <td>T</td>\n      <td>0.391</td>\n      <td>14</td>\n      <td>8</td>\n      <td>0/1</td>\n      <td>NaN</td>\n      <td>SNP</td>\n      <td>...</td>\n      <td>NaN</td>\n      <td>NaN</td>\n      <td>NaN</td>\n      <td>NaN</td>\n      <td>NaN</td>\n      <td>ACH-000856</td>\n      <td>5192.0</td>\n      <td>NaN</td>\n      <td>NaN</td>\n      <td>NaN</td>\n    </tr>\n    <tr>\n      <th>7667</th>\n      <td>chr1</td>\n      <td>20144618</td>\n      <td>T</td>\n      <td>C</td>\n      <td>0.344</td>\n      <td>19</td>\n      <td>9</td>\n      <td>0/1</td>\n      <td>NaN</td>\n      <td>SNP</td>\n      <td>...</td>\n      <td>NaN</td>\n      <td>NaN</td>\n      <td>NaN</td>\n      <td>NaN</td>\n      <td>NaN</td>\n      <td>ACH-000856</td>\n      <td>64600.0</td>\n      <td>NaN</td>\n      <td>NaN</td>\n      <td>NaN</td>\n    </tr>\n    <tr>\n      <th>7669</th>\n      <td>chr1</td>\n      <td>43437866</td>\n      <td>C</td>\n      <td>T</td>\n      <td>0.421</td>\n      <td>21</td>\n      <td>17</td>\n      <td>0/1</td>\n      <td>NaN</td>\n      <td>SNP</td>\n      <td>...</td>\n      <td>NaN</td>\n      <td>NaN</td>\n      <td>NaN</td>\n      <td>NaN</td>\n      <td>NaN</td>\n      <td>ACH-000856</td>\n      <td>23334.0</td>\n      <td>NaN</td>\n      <td>NaN</td>\n      <td>NaN</td>\n    </tr>\n    <tr>\n      <th>7671</th>\n      <td>chr1</td>\n      <td>64839630</td>\n      <td>T</td>\n      <td>C</td>\n      <td>0.406</td>\n      <td>20</td>\n      <td>13</td>\n      <td>0/1</td>\n      <td>NaN</td>\n      <td>SNP</td>\n      <td>...</td>\n      <td>NaN</td>\n      <td>NaN</td>\n      <td>NaN</td>\n      <td>NaN</td>\n      <td>NaN</td>\n      <td>ACH-000856</td>\n      <td>3716.0</td>\n      <td>NaN</td>\n      <td>NaN</td>\n      <td>NaN</td>\n    </tr>\n    <tr>\n      <th>7673</th>\n      <td>chr1</td>\n      <td>145340826</td>\n      <td>T</td>\n      <td>A</td>\n      <td>0.750</td>\n      <td>0</td>\n      <td>2</td>\n      <td>0/1</td>\n      <td>NaN</td>\n      <td>SNP</td>\n      <td>...</td>\n      <td>NaN</td>\n      <td>NaN</td>\n      <td>NaN</td>\n      <td>NaN</td>\n      <td>NaN</td>\n      <td>ACH-000856</td>\n      <td>100288142.0</td>\n      <td>NaN</td>\n      <td>NaN</td>\n      <td>NaN</td>\n    </tr>\n    <tr>\n      <th>...</th>\n      <td>...</td>\n      <td>...</td>\n      <td>...</td>\n      <td>...</td>\n      <td>...</td>\n      <td>...</td>\n      <td>...</td>\n      <td>...</td>\n      <td>...</td>\n      <td>...</td>\n      <td>...</td>\n      <td>...</td>\n      <td>...</td>\n      <td>...</td>\n      <td>...</td>\n      <td>...</td>\n      <td>...</td>\n      <td>...</td>\n      <td>...</td>\n      <td>...</td>\n      <td>...</td>\n    </tr>\n    <tr>\n      <th>12276</th>\n      <td>chr15</td>\n      <td>61920539</td>\n      <td>T</td>\n      <td>C</td>\n      <td>0.193</td>\n      <td>51</td>\n      <td>11</td>\n      <td>0/1</td>\n      <td>NaN</td>\n      <td>SNP</td>\n      <td>...</td>\n      <td>NaN</td>\n      <td>NaN</td>\n      <td>NaN</td>\n      <td>NaN</td>\n      <td>NaN</td>\n      <td>ACH-000234</td>\n      <td>54832.0</td>\n      <td>NaN</td>\n      <td>NaN</td>\n      <td>NaN</td>\n    </tr>\n    <tr>\n      <th>12278</th>\n      <td>chr15</td>\n      <td>74133133</td>\n      <td>C</td>\n      <td>A</td>\n      <td>0.541</td>\n      <td>53</td>\n      <td>70</td>\n      <td>0/1</td>\n      <td>NaN</td>\n      <td>SNP</td>\n      <td>...</td>\n      <td>NaN</td>\n      <td>NaN</td>\n      <td>NaN</td>\n      <td>NaN</td>\n      <td>NaN</td>\n      <td>ACH-000234</td>\n      <td>57611.0</td>\n      <td>NaN</td>\n      <td>NaN</td>\n      <td>NaN</td>\n    </tr>\n    <tr>\n      <th>12280</th>\n      <td>chr15</td>\n      <td>88859328</td>\n      <td>C</td>\n      <td>T</td>\n      <td>0.563</td>\n      <td>6</td>\n      <td>8</td>\n      <td>0/1</td>\n      <td>NaN</td>\n      <td>SNP</td>\n      <td>...</td>\n      <td>NaN</td>\n      <td>NaN</td>\n      <td>NaN</td>\n      <td>NaN</td>\n      <td>NaN</td>\n      <td>ACH-000234</td>\n      <td>176.0</td>\n      <td>NaN</td>\n      <td>NaN</td>\n      <td>NaN</td>\n    </tr>\n    <tr>\n      <th>12285</th>\n      <td>chr17</td>\n      <td>28547785</td>\n      <td>G</td>\n      <td>A</td>\n      <td>0.296</td>\n      <td>225</td>\n      <td>98</td>\n      <td>0/1</td>\n      <td>NaN</td>\n      <td>SNP</td>\n      <td>...</td>\n      <td>NaN</td>\n      <td>NaN</td>\n      <td>NaN</td>\n      <td>NaN</td>\n      <td>NaN</td>\n      <td>ACH-000234</td>\n      <td>9094.0</td>\n      <td>NaN</td>\n      <td>NaN</td>\n      <td>NaN</td>\n    </tr>\n    <tr>\n      <th>12286</th>\n      <td>chr17</td>\n      <td>37444735</td>\n      <td>G</td>\n      <td>A</td>\n      <td>0.596</td>\n      <td>203</td>\n      <td>298</td>\n      <td>0/1</td>\n      <td>NaN</td>\n      <td>SNP</td>\n      <td>...</td>\n      <td>NaN</td>\n      <td>NaN</td>\n      <td>NaN</td>\n      <td>NaN</td>\n      <td>NaN</td>\n      <td>ACH-000234</td>\n      <td>6871.0</td>\n      <td>NaN</td>\n      <td>NaN</td>\n      <td>NaN</td>\n    </tr>\n  </tbody>\n</table>\n<p>1423 rows × 59 columns</p>\n</div>"
     },
     "execution_count": 68,
     "metadata": {},
     "output_type": "execute_result"
    }
   ],
   "source": [
    "# Remove duplicates\n",
    "missense_snp_complete = missense_snp_complete.drop_duplicates(subset=['Chrom', 'Pos', 'Ref', 'Alt', 'Transcript', 'am_class', 'ModelID'], keep=\"first\")\n",
    "missense_snp_complete[missense_snp_complete['am_class'].isnull()]"
   ],
   "metadata": {
    "collapsed": false,
    "ExecuteTime": {
     "end_time": "2023-12-30T00:37:03.610921200Z",
     "start_time": "2023-12-30T00:37:03.548399Z"
    }
   },
   "id": "b158c37d2a7ae28b"
  },
  {
   "cell_type": "code",
   "execution_count": 57,
   "outputs": [
    {
     "data": {
      "text/plain": "7523"
     },
     "execution_count": 57,
     "metadata": {},
     "output_type": "execute_result"
    }
   ],
   "source": [
    "len(missense_snp_complete['Transcript'].unique())"
   ],
   "metadata": {
    "collapsed": false,
    "ExecuteTime": {
     "end_time": "2023-12-30T00:33:19.298390400Z",
     "start_time": "2023-12-30T00:33:19.202132500Z"
    }
   },
   "id": "eae11dc63f7c0ce5"
  },
  {
   "cell_type": "code",
   "execution_count": 58,
   "outputs": [
    {
     "name": "stdout",
     "output_type": "stream",
     "text": [
      "6718\n",
      "12299\n",
      "10876\n"
     ]
    },
    {
     "data": {
      "text/plain": "        Chrom        Pos Ref Alt     AF  RefCount  AltCount   GT  PS  \\\n29670    chr1     963249   G   A  0.303        22         9  0/1 NaN   \n29674    chr1    2512914   G   T  0.488        21        19  0/1 NaN   \n29675    chr1    2561696   C   T  0.320        24        12  0/1 NaN   \n29676    chr1    2789833   C   A  0.534         6         7  0/1 NaN   \n29677    chr1    5867853   C   T  0.600        18        26  0/1 NaN   \n...       ...        ...  ..  ..    ...       ...       ...  ...  ..   \n1296633  chrX  153954753   T   C  0.857         0         6  0/1 NaN   \n1296636  chrM       8764   G   A  0.923         0        12  1|1 NaN   \n1296637  chrM       9055   G   A  0.952         0        20  1|1 NaN   \n1296640  chrM      11025   T   C  0.946         0        19  1|1 NaN   \n1296643  chrM      14798   T   C  0.964         0        28  1|1 NaN   \n\n        VariantType  ... RevelScore Funseq2Score PharmgkbID DidaID DidaName  \\\n29670           SNP  ...      0.976     3.000000        NaN    NaN      NaN   \n29674           SNP  ...      0.436     1.000000        NaN    NaN      NaN   \n29675           SNP  ...      0.071     2.000000        NaN    NaN      NaN   \n29676           SNP  ...        NaN     0.166928        NaN    NaN      NaN   \n29677           SNP  ...      0.377     3.000000        NaN    NaN      NaN   \n...             ...  ...        ...          ...        ...    ...      ...   \n1296633         SNP  ...      0.006     2.000000        NaN    NaN      NaN   \n1296636         SNP  ...        NaN          NaN        NaN    NaN      NaN   \n1296637         SNP  ...        NaN          NaN        NaN    NaN      NaN   \n1296640         SNP  ...        NaN          NaN        NaN    NaN      NaN   \n1296643         SNP  ...        NaN          NaN        NaN    NaN      NaN   \n\n        GwasDisease GwasPmID  GTexGene     ModelID EntrezGeneID  \n29670           NaN      NaN       NaN  ACH-000856     339451.0  \n29674           NaN      NaN       NaN  ACH-000856      55229.0  \n29675           NaN      NaN       NaN  ACH-000856       8764.0  \n29676           NaN      NaN       NaN  ACH-000856  100287898.0  \n29677           NaN      NaN       NaN  ACH-000856     261734.0  \n...             ...      ...       ...         ...          ...  \n1296633         NaN      NaN       NaN  ACH-000234       3054.0  \n1296636         NaN      NaN       NaN  ACH-000234       4508.0  \n1296637         NaN      NaN       NaN  ACH-000234       4508.0  \n1296640         NaN      NaN       NaN  ACH-000234       4538.0  \n1296643         NaN      NaN       NaN  ACH-000234       4519.0  \n\n[10876 rows x 56 columns]",
      "text/html": "<div>\n<style scoped>\n    .dataframe tbody tr th:only-of-type {\n        vertical-align: middle;\n    }\n\n    .dataframe tbody tr th {\n        vertical-align: top;\n    }\n\n    .dataframe thead th {\n        text-align: right;\n    }\n</style>\n<table border=\"1\" class=\"dataframe\">\n  <thead>\n    <tr style=\"text-align: right;\">\n      <th></th>\n      <th>Chrom</th>\n      <th>Pos</th>\n      <th>Ref</th>\n      <th>Alt</th>\n      <th>AF</th>\n      <th>RefCount</th>\n      <th>AltCount</th>\n      <th>GT</th>\n      <th>PS</th>\n      <th>VariantType</th>\n      <th>...</th>\n      <th>RevelScore</th>\n      <th>Funseq2Score</th>\n      <th>PharmgkbID</th>\n      <th>DidaID</th>\n      <th>DidaName</th>\n      <th>GwasDisease</th>\n      <th>GwasPmID</th>\n      <th>GTexGene</th>\n      <th>ModelID</th>\n      <th>EntrezGeneID</th>\n    </tr>\n  </thead>\n  <tbody>\n    <tr>\n      <th>29670</th>\n      <td>chr1</td>\n      <td>963249</td>\n      <td>G</td>\n      <td>A</td>\n      <td>0.303</td>\n      <td>22</td>\n      <td>9</td>\n      <td>0/1</td>\n      <td>NaN</td>\n      <td>SNP</td>\n      <td>...</td>\n      <td>0.976</td>\n      <td>3.000000</td>\n      <td>NaN</td>\n      <td>NaN</td>\n      <td>NaN</td>\n      <td>NaN</td>\n      <td>NaN</td>\n      <td>NaN</td>\n      <td>ACH-000856</td>\n      <td>339451.0</td>\n    </tr>\n    <tr>\n      <th>29674</th>\n      <td>chr1</td>\n      <td>2512914</td>\n      <td>G</td>\n      <td>T</td>\n      <td>0.488</td>\n      <td>21</td>\n      <td>19</td>\n      <td>0/1</td>\n      <td>NaN</td>\n      <td>SNP</td>\n      <td>...</td>\n      <td>0.436</td>\n      <td>1.000000</td>\n      <td>NaN</td>\n      <td>NaN</td>\n      <td>NaN</td>\n      <td>NaN</td>\n      <td>NaN</td>\n      <td>NaN</td>\n      <td>ACH-000856</td>\n      <td>55229.0</td>\n    </tr>\n    <tr>\n      <th>29675</th>\n      <td>chr1</td>\n      <td>2561696</td>\n      <td>C</td>\n      <td>T</td>\n      <td>0.320</td>\n      <td>24</td>\n      <td>12</td>\n      <td>0/1</td>\n      <td>NaN</td>\n      <td>SNP</td>\n      <td>...</td>\n      <td>0.071</td>\n      <td>2.000000</td>\n      <td>NaN</td>\n      <td>NaN</td>\n      <td>NaN</td>\n      <td>NaN</td>\n      <td>NaN</td>\n      <td>NaN</td>\n      <td>ACH-000856</td>\n      <td>8764.0</td>\n    </tr>\n    <tr>\n      <th>29676</th>\n      <td>chr1</td>\n      <td>2789833</td>\n      <td>C</td>\n      <td>A</td>\n      <td>0.534</td>\n      <td>6</td>\n      <td>7</td>\n      <td>0/1</td>\n      <td>NaN</td>\n      <td>SNP</td>\n      <td>...</td>\n      <td>NaN</td>\n      <td>0.166928</td>\n      <td>NaN</td>\n      <td>NaN</td>\n      <td>NaN</td>\n      <td>NaN</td>\n      <td>NaN</td>\n      <td>NaN</td>\n      <td>ACH-000856</td>\n      <td>100287898.0</td>\n    </tr>\n    <tr>\n      <th>29677</th>\n      <td>chr1</td>\n      <td>5867853</td>\n      <td>C</td>\n      <td>T</td>\n      <td>0.600</td>\n      <td>18</td>\n      <td>26</td>\n      <td>0/1</td>\n      <td>NaN</td>\n      <td>SNP</td>\n      <td>...</td>\n      <td>0.377</td>\n      <td>3.000000</td>\n      <td>NaN</td>\n      <td>NaN</td>\n      <td>NaN</td>\n      <td>NaN</td>\n      <td>NaN</td>\n      <td>NaN</td>\n      <td>ACH-000856</td>\n      <td>261734.0</td>\n    </tr>\n    <tr>\n      <th>...</th>\n      <td>...</td>\n      <td>...</td>\n      <td>...</td>\n      <td>...</td>\n      <td>...</td>\n      <td>...</td>\n      <td>...</td>\n      <td>...</td>\n      <td>...</td>\n      <td>...</td>\n      <td>...</td>\n      <td>...</td>\n      <td>...</td>\n      <td>...</td>\n      <td>...</td>\n      <td>...</td>\n      <td>...</td>\n      <td>...</td>\n      <td>...</td>\n      <td>...</td>\n      <td>...</td>\n    </tr>\n    <tr>\n      <th>1296633</th>\n      <td>chrX</td>\n      <td>153954753</td>\n      <td>T</td>\n      <td>C</td>\n      <td>0.857</td>\n      <td>0</td>\n      <td>6</td>\n      <td>0/1</td>\n      <td>NaN</td>\n      <td>SNP</td>\n      <td>...</td>\n      <td>0.006</td>\n      <td>2.000000</td>\n      <td>NaN</td>\n      <td>NaN</td>\n      <td>NaN</td>\n      <td>NaN</td>\n      <td>NaN</td>\n      <td>NaN</td>\n      <td>ACH-000234</td>\n      <td>3054.0</td>\n    </tr>\n    <tr>\n      <th>1296636</th>\n      <td>chrM</td>\n      <td>8764</td>\n      <td>G</td>\n      <td>A</td>\n      <td>0.923</td>\n      <td>0</td>\n      <td>12</td>\n      <td>1|1</td>\n      <td>NaN</td>\n      <td>SNP</td>\n      <td>...</td>\n      <td>NaN</td>\n      <td>NaN</td>\n      <td>NaN</td>\n      <td>NaN</td>\n      <td>NaN</td>\n      <td>NaN</td>\n      <td>NaN</td>\n      <td>NaN</td>\n      <td>ACH-000234</td>\n      <td>4508.0</td>\n    </tr>\n    <tr>\n      <th>1296637</th>\n      <td>chrM</td>\n      <td>9055</td>\n      <td>G</td>\n      <td>A</td>\n      <td>0.952</td>\n      <td>0</td>\n      <td>20</td>\n      <td>1|1</td>\n      <td>NaN</td>\n      <td>SNP</td>\n      <td>...</td>\n      <td>NaN</td>\n      <td>NaN</td>\n      <td>NaN</td>\n      <td>NaN</td>\n      <td>NaN</td>\n      <td>NaN</td>\n      <td>NaN</td>\n      <td>NaN</td>\n      <td>ACH-000234</td>\n      <td>4508.0</td>\n    </tr>\n    <tr>\n      <th>1296640</th>\n      <td>chrM</td>\n      <td>11025</td>\n      <td>T</td>\n      <td>C</td>\n      <td>0.946</td>\n      <td>0</td>\n      <td>19</td>\n      <td>1|1</td>\n      <td>NaN</td>\n      <td>SNP</td>\n      <td>...</td>\n      <td>NaN</td>\n      <td>NaN</td>\n      <td>NaN</td>\n      <td>NaN</td>\n      <td>NaN</td>\n      <td>NaN</td>\n      <td>NaN</td>\n      <td>NaN</td>\n      <td>ACH-000234</td>\n      <td>4538.0</td>\n    </tr>\n    <tr>\n      <th>1296643</th>\n      <td>chrM</td>\n      <td>14798</td>\n      <td>T</td>\n      <td>C</td>\n      <td>0.964</td>\n      <td>0</td>\n      <td>28</td>\n      <td>1|1</td>\n      <td>NaN</td>\n      <td>SNP</td>\n      <td>...</td>\n      <td>NaN</td>\n      <td>NaN</td>\n      <td>NaN</td>\n      <td>NaN</td>\n      <td>NaN</td>\n      <td>NaN</td>\n      <td>NaN</td>\n      <td>NaN</td>\n      <td>ACH-000234</td>\n      <td>4519.0</td>\n    </tr>\n  </tbody>\n</table>\n<p>10876 rows × 56 columns</p>\n</div>"
     },
     "execution_count": 58,
     "metadata": {},
     "output_type": "execute_result"
    }
   ],
   "source": [
    "# Check for earlier\n",
    "# How many of the transcripts in the mutations file are in the alpha missense data?\n",
    "# 11780 SNP missense mutations in 7823 transcripts in our cell lines of interest\n",
    "\n",
    "all_am_transcripts = alpha_missense_primary_transcripts.union(alpha_missense_isoform_transcripts)\n",
    "\n",
    "available_transcripts = set(missense_snp_transcripts).intersection(all_am_transcripts)\n",
    "\n",
    "print(len(available_transcripts))\n",
    "check = missense_snp[missense_snp['Transcript'].isin(available_transcripts)].drop_duplicates(subset=['Chrom', 'Pos', 'Ref', 'Alt', 'Transcript', 'ModelID'], keep=\"first\")\n",
    "print(len(missense_snp))\n",
    "print(len(check))\n",
    "check"
   ],
   "metadata": {
    "collapsed": false,
    "ExecuteTime": {
     "end_time": "2023-12-30T00:33:19.454913100Z",
     "start_time": "2023-12-30T00:33:19.214329600Z"
    }
   },
   "id": "a85c803f1c73667"
  },
  {
   "cell_type": "code",
   "execution_count": 59,
   "outputs": [
    {
     "data": {
      "text/plain": "set()"
     },
     "execution_count": 59,
     "metadata": {},
     "output_type": "execute_result"
    }
   ],
   "source": [
    "# Which transcript is available but not in final dataset?\n",
    "# Note: ENST00000400841. It's on the X chrom but alpha missense has it on Y so it's not being picked up\n",
    "set(available_transcripts) - (set(missense_snp_complete['Transcript']))"
   ],
   "metadata": {
    "collapsed": false,
    "ExecuteTime": {
     "end_time": "2023-12-30T00:33:19.503176100Z",
     "start_time": "2023-12-30T00:33:19.274449800Z"
    }
   },
   "id": "820960ea5b9caec0"
  },
  {
   "cell_type": "code",
   "execution_count": 60,
   "outputs": [
    {
     "data": {
      "text/plain": "Empty DataFrame\nColumns: [Chrom, Pos, Ref, Alt, genome, uniprot_id, Transcript, protein_variant, am_pathogenicity, am_class, am_source]\nIndex: []",
      "text/html": "<div>\n<style scoped>\n    .dataframe tbody tr th:only-of-type {\n        vertical-align: middle;\n    }\n\n    .dataframe tbody tr th {\n        vertical-align: top;\n    }\n\n    .dataframe thead th {\n        text-align: right;\n    }\n</style>\n<table border=\"1\" class=\"dataframe\">\n  <thead>\n    <tr style=\"text-align: right;\">\n      <th></th>\n      <th>Chrom</th>\n      <th>Pos</th>\n      <th>Ref</th>\n      <th>Alt</th>\n      <th>genome</th>\n      <th>uniprot_id</th>\n      <th>Transcript</th>\n      <th>protein_variant</th>\n      <th>am_pathogenicity</th>\n      <th>am_class</th>\n      <th>am_source</th>\n    </tr>\n  </thead>\n  <tbody>\n  </tbody>\n</table>\n</div>"
     },
     "execution_count": 60,
     "metadata": {},
     "output_type": "execute_result"
    }
   ],
   "source": [
    "missense_snp[missense_snp['Transcript'] == 'ENST00000400841']\n",
    "alpha_missense_primary[(alpha_missense_primary['Transcript'] == 'ENST00000400841')]\n",
    "\n",
    "#missense_snp['Issues'].value_counts()"
   ],
   "metadata": {
    "collapsed": false,
    "ExecuteTime": {
     "end_time": "2023-12-30T00:33:20.737320100Z",
     "start_time": "2023-12-30T00:33:20.737320100Z"
    }
   },
   "id": "8cb540bbb5255966"
  },
  {
   "cell_type": "code",
   "execution_count": 61,
   "outputs": [],
   "source": [
    "# Function assigns lof and gof label depending on whether protein is onc/tsg/kinase/other\n",
    "def lof_gof(x):\n",
    "\n",
    "    if x in tsgs:\n",
    "        return 'lof'\n",
    "    elif x in oncs:\n",
    "        return 'gof'\n",
    "    elif x in kinases:\n",
    "        return 'gof'\n",
    "    else:\n",
    "        return 'lof'"
   ],
   "metadata": {
    "collapsed": false,
    "ExecuteTime": {
     "end_time": "2023-12-30T00:33:20.737320100Z",
     "start_time": "2023-12-30T00:33:20.737320100Z"
    }
   },
   "id": "4f02f80d933615b5"
  },
  {
   "cell_type": "code",
   "execution_count": 62,
   "outputs": [],
   "source": [
    "# Add lof_gof column and map to lof_gof function. Each mutation (row) in df3_sm will be labelled lof/gof\n",
    "# df3_sm['lof_gof'] = df3_sm['Protein stable ID'].map(lof_gof)"
   ],
   "metadata": {
    "collapsed": false,
    "ExecuteTime": {
     "end_time": "2023-12-30T00:33:20.737320100Z",
     "start_time": "2023-12-30T00:33:20.737320100Z"
    }
   },
   "id": "be822cf8fc3472d2"
  },
  {
   "cell_type": "code",
   "execution_count": 63,
   "outputs": [
    {
     "name": "stdout",
     "output_type": "stream",
     "text": [
      "Running time: 0:04:43.288684\n"
     ]
    }
   ],
   "source": [
    "# How long did that take? \n",
    "end_time = datetime.datetime.now()\n",
    "running_time = end_time - start_time\n",
    "print(f'Running time: {running_time}')"
   ],
   "metadata": {
    "collapsed": false,
    "ExecuteTime": {
     "end_time": "2023-12-30T00:33:20.737320100Z",
     "start_time": "2023-12-30T00:33:20.737320100Z"
    }
   },
   "id": "831996aff08cdcdf"
  }
 ],
 "metadata": {
  "kernelspec": {
   "display_name": "Python 3",
   "language": "python",
   "name": "python3"
  },
  "language_info": {
   "codemirror_mode": {
    "name": "ipython",
    "version": 2
   },
   "file_extension": ".py",
   "mimetype": "text/x-python",
   "name": "python",
   "nbconvert_exporter": "python",
   "pygments_lexer": "ipython2",
   "version": "2.7.6"
  }
 },
 "nbformat": 4,
 "nbformat_minor": 5
}
