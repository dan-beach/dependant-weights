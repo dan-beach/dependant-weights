{
 "cells": [
  {
   "cell_type": "code",
   "execution_count": 8,
   "id": "initial_id",
   "metadata": {
    "collapsed": true,
    "ExecuteTime": {
     "end_time": "2023-11-20T15:14:28.864751254Z",
     "start_time": "2023-11-20T15:14:28.465193437Z"
    }
   },
   "outputs": [],
   "source": [
    "import os\n",
    "import pandas as pd"
   ]
  },
  {
   "cell_type": "code",
   "execution_count": 44,
   "outputs": [
    {
     "data": {
      "text/plain": "['CRISPRGeneDependency.csv',\n 'OmicsSomaticMutations.csv',\n 'OmicsExpressionProteinCodingGenesTPMLogp1.csv',\n 'OmicsSomaticMutationsMatrixDamaging.csv',\n 'Model.csv',\n 'README.txt']"
     },
     "execution_count": 44,
     "metadata": {},
     "output_type": "execute_result"
    }
   ],
   "source": [
    "data_path = '/home/db600/phd/data/depmap/'\n",
    "#os.getcwd()\n",
    "os.listdir(data_path)"
   ],
   "metadata": {
    "collapsed": false,
    "ExecuteTime": {
     "end_time": "2023-11-20T15:59:03.241568994Z",
     "start_time": "2023-11-20T15:59:03.218473172Z"
    }
   },
   "id": "7757239f60368068"
  },
  {
   "cell_type": "code",
   "execution_count": 27,
   "outputs": [],
   "source": [
    "dep_data = pd.read_csv(data_path + 'CRISPRGeneDependency.csv') \n",
    "exp_data = pd.read_csv(data_path + 'OmicsExpressionProteinCodingGenesTPMLogp1.csv')\n",
    "mut_data = pd.read_csv(data_path + 'OmicsSomaticMutationsMatrixDamaging.csv')\n",
    "model_data = pd.read_csv(data_path + 'Model.csv')"
   ],
   "metadata": {
    "collapsed": false,
    "ExecuteTime": {
     "end_time": "2023-11-20T15:33:02.684432250Z",
     "start_time": "2023-11-20T15:32:39.247615434Z"
    }
   },
   "id": "6518db76a11010c9"
  },
  {
   "cell_type": "code",
   "execution_count": 10,
   "outputs": [
    {
     "data": {
      "text/plain": "      ModelID  A1BG (1)  A1CF (29974)   A2M (2)  A2ML1 (144568)  \\\n0  ACH-000001  0.055321      0.014039  0.014084        0.033828   \n1  ACH-000004  0.023418      0.048724  0.058084        0.019483   \n2  ACH-000005  0.059552      0.025478  0.009989        0.008775   \n3  ACH-000007  0.023880      0.035082  0.006556        0.004322   \n4  ACH-000009  0.027652      0.074860  0.011021        0.009153   \n\n   A3GALT2 (127550)  A4GALT (53947)  A4GNT (51146)  AAAS (8086)  AACS (65985)  \\\n0          0.049511        0.004955       0.026993     0.131006      0.003102   \n1          0.049793        0.064472       0.001775     0.071289      0.003732   \n2          0.099322        0.099572       0.007544     0.049601      0.047555   \n3          0.022200        0.017121       0.009605     0.149378      0.052873   \n4          0.021632        0.067758       0.013559     0.216796      0.013660   \n\n   ...  ZWILCH (55055)  ZWINT (11130)  ZXDA (7789)  ZXDB (158586)  \\\n0  ...        0.047757       0.047806     0.007155       0.002537   \n1  ...        0.044517       0.471009     0.005096       0.015149   \n2  ...        0.073457       0.281892     0.044789       0.058229   \n3  ...        0.160608       0.593581     0.017412       0.001892   \n4  ...        0.181632       0.342313     0.042414       0.002859   \n\n   ZXDC (79364)  ZYG11A (440590)  ZYG11B (79699)  ZYX (7791)  ZZEF1 (23140)  \\\n0      0.003660         0.154849        0.015792    0.015999       0.006200   \n1      0.009804         0.015507        0.319598    0.007778       0.004392   \n2      0.029638         0.097357        0.066269    0.025365       0.042530   \n3      0.006432         0.029261        0.369101    0.015412       0.165622   \n4      0.058070         0.053355        0.651365    0.012016       0.023990   \n\n   ZZZ3 (26009)  \n0      0.436777  \n1      0.048136  \n2      0.096150  \n3      0.366325  \n4      0.312202  \n\n[5 rows x 17932 columns]",
      "text/html": "<div>\n<style scoped>\n    .dataframe tbody tr th:only-of-type {\n        vertical-align: middle;\n    }\n\n    .dataframe tbody tr th {\n        vertical-align: top;\n    }\n\n    .dataframe thead th {\n        text-align: right;\n    }\n</style>\n<table border=\"1\" class=\"dataframe\">\n  <thead>\n    <tr style=\"text-align: right;\">\n      <th></th>\n      <th>ModelID</th>\n      <th>A1BG (1)</th>\n      <th>A1CF (29974)</th>\n      <th>A2M (2)</th>\n      <th>A2ML1 (144568)</th>\n      <th>A3GALT2 (127550)</th>\n      <th>A4GALT (53947)</th>\n      <th>A4GNT (51146)</th>\n      <th>AAAS (8086)</th>\n      <th>AACS (65985)</th>\n      <th>...</th>\n      <th>ZWILCH (55055)</th>\n      <th>ZWINT (11130)</th>\n      <th>ZXDA (7789)</th>\n      <th>ZXDB (158586)</th>\n      <th>ZXDC (79364)</th>\n      <th>ZYG11A (440590)</th>\n      <th>ZYG11B (79699)</th>\n      <th>ZYX (7791)</th>\n      <th>ZZEF1 (23140)</th>\n      <th>ZZZ3 (26009)</th>\n    </tr>\n  </thead>\n  <tbody>\n    <tr>\n      <th>0</th>\n      <td>ACH-000001</td>\n      <td>0.055321</td>\n      <td>0.014039</td>\n      <td>0.014084</td>\n      <td>0.033828</td>\n      <td>0.049511</td>\n      <td>0.004955</td>\n      <td>0.026993</td>\n      <td>0.131006</td>\n      <td>0.003102</td>\n      <td>...</td>\n      <td>0.047757</td>\n      <td>0.047806</td>\n      <td>0.007155</td>\n      <td>0.002537</td>\n      <td>0.003660</td>\n      <td>0.154849</td>\n      <td>0.015792</td>\n      <td>0.015999</td>\n      <td>0.006200</td>\n      <td>0.436777</td>\n    </tr>\n    <tr>\n      <th>1</th>\n      <td>ACH-000004</td>\n      <td>0.023418</td>\n      <td>0.048724</td>\n      <td>0.058084</td>\n      <td>0.019483</td>\n      <td>0.049793</td>\n      <td>0.064472</td>\n      <td>0.001775</td>\n      <td>0.071289</td>\n      <td>0.003732</td>\n      <td>...</td>\n      <td>0.044517</td>\n      <td>0.471009</td>\n      <td>0.005096</td>\n      <td>0.015149</td>\n      <td>0.009804</td>\n      <td>0.015507</td>\n      <td>0.319598</td>\n      <td>0.007778</td>\n      <td>0.004392</td>\n      <td>0.048136</td>\n    </tr>\n    <tr>\n      <th>2</th>\n      <td>ACH-000005</td>\n      <td>0.059552</td>\n      <td>0.025478</td>\n      <td>0.009989</td>\n      <td>0.008775</td>\n      <td>0.099322</td>\n      <td>0.099572</td>\n      <td>0.007544</td>\n      <td>0.049601</td>\n      <td>0.047555</td>\n      <td>...</td>\n      <td>0.073457</td>\n      <td>0.281892</td>\n      <td>0.044789</td>\n      <td>0.058229</td>\n      <td>0.029638</td>\n      <td>0.097357</td>\n      <td>0.066269</td>\n      <td>0.025365</td>\n      <td>0.042530</td>\n      <td>0.096150</td>\n    </tr>\n    <tr>\n      <th>3</th>\n      <td>ACH-000007</td>\n      <td>0.023880</td>\n      <td>0.035082</td>\n      <td>0.006556</td>\n      <td>0.004322</td>\n      <td>0.022200</td>\n      <td>0.017121</td>\n      <td>0.009605</td>\n      <td>0.149378</td>\n      <td>0.052873</td>\n      <td>...</td>\n      <td>0.160608</td>\n      <td>0.593581</td>\n      <td>0.017412</td>\n      <td>0.001892</td>\n      <td>0.006432</td>\n      <td>0.029261</td>\n      <td>0.369101</td>\n      <td>0.015412</td>\n      <td>0.165622</td>\n      <td>0.366325</td>\n    </tr>\n    <tr>\n      <th>4</th>\n      <td>ACH-000009</td>\n      <td>0.027652</td>\n      <td>0.074860</td>\n      <td>0.011021</td>\n      <td>0.009153</td>\n      <td>0.021632</td>\n      <td>0.067758</td>\n      <td>0.013559</td>\n      <td>0.216796</td>\n      <td>0.013660</td>\n      <td>...</td>\n      <td>0.181632</td>\n      <td>0.342313</td>\n      <td>0.042414</td>\n      <td>0.002859</td>\n      <td>0.058070</td>\n      <td>0.053355</td>\n      <td>0.651365</td>\n      <td>0.012016</td>\n      <td>0.023990</td>\n      <td>0.312202</td>\n    </tr>\n  </tbody>\n</table>\n<p>5 rows × 17932 columns</p>\n</div>"
     },
     "execution_count": 10,
     "metadata": {},
     "output_type": "execute_result"
    }
   ],
   "source": [
    "dep_data.head()"
   ],
   "metadata": {
    "collapsed": false,
    "ExecuteTime": {
     "end_time": "2023-11-20T15:14:55.575135493Z",
     "start_time": "2023-11-20T15:14:55.535734636Z"
    }
   },
   "id": "22736a94ef506030"
  },
  {
   "cell_type": "code",
   "execution_count": 13,
   "outputs": [
    {
     "data": {
      "text/plain": "   Unnamed: 0  TSPAN6 (7105)  TNMD (64102)  DPM1 (8813)  SCYL3 (57147)  \\\n0  ACH-001113       4.331992      0.000000     7.364660       2.792855   \n1  ACH-001289       4.567424      0.584963     7.106641       2.543496   \n2  ACH-001339       3.150560      0.000000     7.379118       2.333424   \n3  ACH-001538       5.085340      0.000000     7.154211       2.545968   \n4  ACH-000242       6.729417      0.000000     6.537917       2.456806   \n\n   C1orf112 (55732)  FGR (2268)  CFH (3075)  FUCA2 (2519)  GCLC (2729)  ...  \\\n0          4.471187    0.028569    1.226509      3.044394     6.500005  ...   \n1          3.504620    0.000000    0.189034      3.813525     4.221877  ...   \n2          4.228049    0.056584    1.310340      6.687201     3.682573  ...   \n3          3.084064    0.000000    5.868390      6.165309     4.489928  ...   \n4          3.867896    0.799087    7.208478      5.570159     7.127117  ...   \n\n   H3C2 (8358)  H3C3 (8352)  AC098582.1 (8916)  DUS4L-BCAP29 (115253422)  \\\n0     2.689299     0.189034           0.201634                  2.130931   \n1     1.286881     1.049631           0.321928                  1.464668   \n2     0.594549     1.097611           0.831877                  2.946731   \n3     0.214125     0.632268           0.298658                  1.641546   \n4     1.117695     2.358959           0.084064                  1.910733   \n\n   C8orf44-SGK3 (100533105)  ELOA3B (728929)  NPBWR1 (2831)  \\\n0                  0.555816              0.0       0.275007   \n1                  0.632268              0.0       0.014355   \n2                  0.475085              0.0       0.084064   \n3                  0.443607              0.0       0.028569   \n4                  0.000000              0.0       0.464668   \n\n   ELOA3D (100506888)  ELOA3 (162699)  CDR1 (1038)  \n0                 0.0             0.0     0.000000  \n1                 0.0             0.0     0.000000  \n2                 0.0             0.0     0.042644  \n3                 0.0             0.0     0.000000  \n4                 0.0             0.0     0.000000  \n\n[5 rows x 19194 columns]",
      "text/html": "<div>\n<style scoped>\n    .dataframe tbody tr th:only-of-type {\n        vertical-align: middle;\n    }\n\n    .dataframe tbody tr th {\n        vertical-align: top;\n    }\n\n    .dataframe thead th {\n        text-align: right;\n    }\n</style>\n<table border=\"1\" class=\"dataframe\">\n  <thead>\n    <tr style=\"text-align: right;\">\n      <th></th>\n      <th>Unnamed: 0</th>\n      <th>TSPAN6 (7105)</th>\n      <th>TNMD (64102)</th>\n      <th>DPM1 (8813)</th>\n      <th>SCYL3 (57147)</th>\n      <th>C1orf112 (55732)</th>\n      <th>FGR (2268)</th>\n      <th>CFH (3075)</th>\n      <th>FUCA2 (2519)</th>\n      <th>GCLC (2729)</th>\n      <th>...</th>\n      <th>H3C2 (8358)</th>\n      <th>H3C3 (8352)</th>\n      <th>AC098582.1 (8916)</th>\n      <th>DUS4L-BCAP29 (115253422)</th>\n      <th>C8orf44-SGK3 (100533105)</th>\n      <th>ELOA3B (728929)</th>\n      <th>NPBWR1 (2831)</th>\n      <th>ELOA3D (100506888)</th>\n      <th>ELOA3 (162699)</th>\n      <th>CDR1 (1038)</th>\n    </tr>\n  </thead>\n  <tbody>\n    <tr>\n      <th>0</th>\n      <td>ACH-001113</td>\n      <td>4.331992</td>\n      <td>0.000000</td>\n      <td>7.364660</td>\n      <td>2.792855</td>\n      <td>4.471187</td>\n      <td>0.028569</td>\n      <td>1.226509</td>\n      <td>3.044394</td>\n      <td>6.500005</td>\n      <td>...</td>\n      <td>2.689299</td>\n      <td>0.189034</td>\n      <td>0.201634</td>\n      <td>2.130931</td>\n      <td>0.555816</td>\n      <td>0.0</td>\n      <td>0.275007</td>\n      <td>0.0</td>\n      <td>0.0</td>\n      <td>0.000000</td>\n    </tr>\n    <tr>\n      <th>1</th>\n      <td>ACH-001289</td>\n      <td>4.567424</td>\n      <td>0.584963</td>\n      <td>7.106641</td>\n      <td>2.543496</td>\n      <td>3.504620</td>\n      <td>0.000000</td>\n      <td>0.189034</td>\n      <td>3.813525</td>\n      <td>4.221877</td>\n      <td>...</td>\n      <td>1.286881</td>\n      <td>1.049631</td>\n      <td>0.321928</td>\n      <td>1.464668</td>\n      <td>0.632268</td>\n      <td>0.0</td>\n      <td>0.014355</td>\n      <td>0.0</td>\n      <td>0.0</td>\n      <td>0.000000</td>\n    </tr>\n    <tr>\n      <th>2</th>\n      <td>ACH-001339</td>\n      <td>3.150560</td>\n      <td>0.000000</td>\n      <td>7.379118</td>\n      <td>2.333424</td>\n      <td>4.228049</td>\n      <td>0.056584</td>\n      <td>1.310340</td>\n      <td>6.687201</td>\n      <td>3.682573</td>\n      <td>...</td>\n      <td>0.594549</td>\n      <td>1.097611</td>\n      <td>0.831877</td>\n      <td>2.946731</td>\n      <td>0.475085</td>\n      <td>0.0</td>\n      <td>0.084064</td>\n      <td>0.0</td>\n      <td>0.0</td>\n      <td>0.042644</td>\n    </tr>\n    <tr>\n      <th>3</th>\n      <td>ACH-001538</td>\n      <td>5.085340</td>\n      <td>0.000000</td>\n      <td>7.154211</td>\n      <td>2.545968</td>\n      <td>3.084064</td>\n      <td>0.000000</td>\n      <td>5.868390</td>\n      <td>6.165309</td>\n      <td>4.489928</td>\n      <td>...</td>\n      <td>0.214125</td>\n      <td>0.632268</td>\n      <td>0.298658</td>\n      <td>1.641546</td>\n      <td>0.443607</td>\n      <td>0.0</td>\n      <td>0.028569</td>\n      <td>0.0</td>\n      <td>0.0</td>\n      <td>0.000000</td>\n    </tr>\n    <tr>\n      <th>4</th>\n      <td>ACH-000242</td>\n      <td>6.729417</td>\n      <td>0.000000</td>\n      <td>6.537917</td>\n      <td>2.456806</td>\n      <td>3.867896</td>\n      <td>0.799087</td>\n      <td>7.208478</td>\n      <td>5.570159</td>\n      <td>7.127117</td>\n      <td>...</td>\n      <td>1.117695</td>\n      <td>2.358959</td>\n      <td>0.084064</td>\n      <td>1.910733</td>\n      <td>0.000000</td>\n      <td>0.0</td>\n      <td>0.464668</td>\n      <td>0.0</td>\n      <td>0.0</td>\n      <td>0.000000</td>\n    </tr>\n  </tbody>\n</table>\n<p>5 rows × 19194 columns</p>\n</div>"
     },
     "execution_count": 13,
     "metadata": {},
     "output_type": "execute_result"
    }
   ],
   "source": [
    "exp_data.head()"
   ],
   "metadata": {
    "collapsed": false,
    "ExecuteTime": {
     "end_time": "2023-11-20T15:17:52.780263097Z",
     "start_time": "2023-11-20T15:17:52.769223070Z"
    }
   },
   "id": "a9a5d4dd32a47d50"
  },
  {
   "cell_type": "code",
   "execution_count": 14,
   "outputs": [
    {
     "data": {
      "text/plain": "   Unnamed: 0  C1QTNF12 (388581)  CASZ1 (54897)  PRAMEF18 (391003)  \\\n0  ACH-000839                0.0            0.0                0.0   \n1  ACH-001147                0.0            0.0                0.0   \n2  ACH-001111                0.0            0.0                0.0   \n3  ACH-001057                0.0            0.0                0.0   \n4  ACH-001691                0.0            0.0                0.0   \n\n   NBPF1 (55672)  C1QC (714)  PHC2 (1912)  FOXO6 (100132074)  \\\n0            0.0         0.0          0.0                0.0   \n1            0.0         0.0          0.0                0.0   \n2            0.0         0.0          0.0                0.0   \n3            0.0         0.0          0.0                0.0   \n4            0.0         0.0          0.0                0.0   \n\n   KLF18 (105378952)  FAAH (2166)  ...  LINC02186 (101927348)  UBE2V1 (7335)  \\\n0                0.0          0.0  ...                    0.0            0.0   \n1                0.0          0.0  ...                    0.0            0.0   \n2                0.0          0.0  ...                    0.0            0.0   \n3                0.0          0.0  ...                    0.0            0.0   \n4                0.0          0.0  ...                    0.0            0.0   \n\n   AC093249.3 (Unknown)  HNRNPA1P67 (Unknown)  CSRP3-AS1 (Unknown)  \\\n0                   0.0                   0.0                  0.0   \n1                   0.0                   0.0                  0.0   \n2                   0.0                   0.0                  0.0   \n3                   0.0                   0.0                  0.0   \n4                   0.0                   0.0                  0.0   \n\n   AC011603.5  BRWD1P2 (Unknown)  AC024580.3  AC021660.3 (Unknown)  \\\n0         0.0                0.0         0.0                   0.0   \n1         0.0                0.0         0.0                   0.0   \n2         0.0                0.0         0.0                   0.0   \n3         0.0                0.0         0.0                   0.0   \n4         0.0                0.0         0.0                   0.0   \n\n   AC024937.1 (Unknown)  \n0                   0.0  \n1                   0.0  \n2                   0.0  \n3                   0.0  \n4                   0.0  \n\n[5 rows x 17391 columns]",
      "text/html": "<div>\n<style scoped>\n    .dataframe tbody tr th:only-of-type {\n        vertical-align: middle;\n    }\n\n    .dataframe tbody tr th {\n        vertical-align: top;\n    }\n\n    .dataframe thead th {\n        text-align: right;\n    }\n</style>\n<table border=\"1\" class=\"dataframe\">\n  <thead>\n    <tr style=\"text-align: right;\">\n      <th></th>\n      <th>Unnamed: 0</th>\n      <th>C1QTNF12 (388581)</th>\n      <th>CASZ1 (54897)</th>\n      <th>PRAMEF18 (391003)</th>\n      <th>NBPF1 (55672)</th>\n      <th>C1QC (714)</th>\n      <th>PHC2 (1912)</th>\n      <th>FOXO6 (100132074)</th>\n      <th>KLF18 (105378952)</th>\n      <th>FAAH (2166)</th>\n      <th>...</th>\n      <th>LINC02186 (101927348)</th>\n      <th>UBE2V1 (7335)</th>\n      <th>AC093249.3 (Unknown)</th>\n      <th>HNRNPA1P67 (Unknown)</th>\n      <th>CSRP3-AS1 (Unknown)</th>\n      <th>AC011603.5</th>\n      <th>BRWD1P2 (Unknown)</th>\n      <th>AC024580.3</th>\n      <th>AC021660.3 (Unknown)</th>\n      <th>AC024937.1 (Unknown)</th>\n    </tr>\n  </thead>\n  <tbody>\n    <tr>\n      <th>0</th>\n      <td>ACH-000839</td>\n      <td>0.0</td>\n      <td>0.0</td>\n      <td>0.0</td>\n      <td>0.0</td>\n      <td>0.0</td>\n      <td>0.0</td>\n      <td>0.0</td>\n      <td>0.0</td>\n      <td>0.0</td>\n      <td>...</td>\n      <td>0.0</td>\n      <td>0.0</td>\n      <td>0.0</td>\n      <td>0.0</td>\n      <td>0.0</td>\n      <td>0.0</td>\n      <td>0.0</td>\n      <td>0.0</td>\n      <td>0.0</td>\n      <td>0.0</td>\n    </tr>\n    <tr>\n      <th>1</th>\n      <td>ACH-001147</td>\n      <td>0.0</td>\n      <td>0.0</td>\n      <td>0.0</td>\n      <td>0.0</td>\n      <td>0.0</td>\n      <td>0.0</td>\n      <td>0.0</td>\n      <td>0.0</td>\n      <td>0.0</td>\n      <td>...</td>\n      <td>0.0</td>\n      <td>0.0</td>\n      <td>0.0</td>\n      <td>0.0</td>\n      <td>0.0</td>\n      <td>0.0</td>\n      <td>0.0</td>\n      <td>0.0</td>\n      <td>0.0</td>\n      <td>0.0</td>\n    </tr>\n    <tr>\n      <th>2</th>\n      <td>ACH-001111</td>\n      <td>0.0</td>\n      <td>0.0</td>\n      <td>0.0</td>\n      <td>0.0</td>\n      <td>0.0</td>\n      <td>0.0</td>\n      <td>0.0</td>\n      <td>0.0</td>\n      <td>0.0</td>\n      <td>...</td>\n      <td>0.0</td>\n      <td>0.0</td>\n      <td>0.0</td>\n      <td>0.0</td>\n      <td>0.0</td>\n      <td>0.0</td>\n      <td>0.0</td>\n      <td>0.0</td>\n      <td>0.0</td>\n      <td>0.0</td>\n    </tr>\n    <tr>\n      <th>3</th>\n      <td>ACH-001057</td>\n      <td>0.0</td>\n      <td>0.0</td>\n      <td>0.0</td>\n      <td>0.0</td>\n      <td>0.0</td>\n      <td>0.0</td>\n      <td>0.0</td>\n      <td>0.0</td>\n      <td>0.0</td>\n      <td>...</td>\n      <td>0.0</td>\n      <td>0.0</td>\n      <td>0.0</td>\n      <td>0.0</td>\n      <td>0.0</td>\n      <td>0.0</td>\n      <td>0.0</td>\n      <td>0.0</td>\n      <td>0.0</td>\n      <td>0.0</td>\n    </tr>\n    <tr>\n      <th>4</th>\n      <td>ACH-001691</td>\n      <td>0.0</td>\n      <td>0.0</td>\n      <td>0.0</td>\n      <td>0.0</td>\n      <td>0.0</td>\n      <td>0.0</td>\n      <td>0.0</td>\n      <td>0.0</td>\n      <td>0.0</td>\n      <td>...</td>\n      <td>0.0</td>\n      <td>0.0</td>\n      <td>0.0</td>\n      <td>0.0</td>\n      <td>0.0</td>\n      <td>0.0</td>\n      <td>0.0</td>\n      <td>0.0</td>\n      <td>0.0</td>\n      <td>0.0</td>\n    </tr>\n  </tbody>\n</table>\n<p>5 rows × 17391 columns</p>\n</div>"
     },
     "execution_count": 14,
     "metadata": {},
     "output_type": "execute_result"
    }
   ],
   "source": [
    "mut_data.head()"
   ],
   "metadata": {
    "collapsed": false,
    "ExecuteTime": {
     "end_time": "2023-11-20T15:18:02.785519276Z",
     "start_time": "2023-11-20T15:18:02.742960576Z"
    }
   },
   "id": "30c59cb6afc08799"
  },
  {
   "cell_type": "code",
   "execution_count": 31,
   "outputs": [
    {
     "data": {
      "text/plain": "        ModelID  PatientID CellLineName StrippedCellLineName   Age  \\\n531  ACH-000535  PT-xfjEoE       BxPC-3                BXPC3  61.0   \n\n     SourceType SangerModelID       RRID DepmapModelType AgeCategory  ...  \\\n531  Commercial     SIDM00132  CVCL_0186            PAAD       Adult  ...   \n\n    PublicComments WTSIMasterCellID EngineeredModel TreatmentStatus  \\\n531            NaN           1978.0             NaN             NaN   \n\n    OnboardedMedia PlateCoating OncotreeCode            OncotreeSubtype  \\\n531     MF-001-001          NaN         PAAD  Pancreatic Adenocarcinoma   \n\n        OncotreePrimaryDisease  OncotreeLineage  \n531  Pancreatic Adenocarcinoma         Pancreas  \n\n[1 rows x 30 columns]",
      "text/html": "<div>\n<style scoped>\n    .dataframe tbody tr th:only-of-type {\n        vertical-align: middle;\n    }\n\n    .dataframe tbody tr th {\n        vertical-align: top;\n    }\n\n    .dataframe thead th {\n        text-align: right;\n    }\n</style>\n<table border=\"1\" class=\"dataframe\">\n  <thead>\n    <tr style=\"text-align: right;\">\n      <th></th>\n      <th>ModelID</th>\n      <th>PatientID</th>\n      <th>CellLineName</th>\n      <th>StrippedCellLineName</th>\n      <th>Age</th>\n      <th>SourceType</th>\n      <th>SangerModelID</th>\n      <th>RRID</th>\n      <th>DepmapModelType</th>\n      <th>AgeCategory</th>\n      <th>...</th>\n      <th>PublicComments</th>\n      <th>WTSIMasterCellID</th>\n      <th>EngineeredModel</th>\n      <th>TreatmentStatus</th>\n      <th>OnboardedMedia</th>\n      <th>PlateCoating</th>\n      <th>OncotreeCode</th>\n      <th>OncotreeSubtype</th>\n      <th>OncotreePrimaryDisease</th>\n      <th>OncotreeLineage</th>\n    </tr>\n  </thead>\n  <tbody>\n    <tr>\n      <th>531</th>\n      <td>ACH-000535</td>\n      <td>PT-xfjEoE</td>\n      <td>BxPC-3</td>\n      <td>BXPC3</td>\n      <td>61.0</td>\n      <td>Commercial</td>\n      <td>SIDM00132</td>\n      <td>CVCL_0186</td>\n      <td>PAAD</td>\n      <td>Adult</td>\n      <td>...</td>\n      <td>NaN</td>\n      <td>1978.0</td>\n      <td>NaN</td>\n      <td>NaN</td>\n      <td>MF-001-001</td>\n      <td>NaN</td>\n      <td>PAAD</td>\n      <td>Pancreatic Adenocarcinoma</td>\n      <td>Pancreatic Adenocarcinoma</td>\n      <td>Pancreas</td>\n    </tr>\n  </tbody>\n</table>\n<p>1 rows × 30 columns</p>\n</div>"
     },
     "execution_count": 31,
     "metadata": {},
     "output_type": "execute_result"
    }
   ],
   "source": [
    "# Model.csv contains meta data on the cell lines used. Used to use CCLE Name but now use Broad ID\n",
    "model_data[model_data['CCLEName'] == 'BXPC3_PANCREAS']"
   ],
   "metadata": {
    "collapsed": false,
    "ExecuteTime": {
     "end_time": "2023-11-20T15:38:55.337331783Z",
     "start_time": "2023-11-20T15:38:55.293865641Z"
    }
   },
   "id": "755e14af95af646a"
  },
  {
   "cell_type": "code",
   "execution_count": 53,
   "outputs": [
    {
     "name": "stdout",
     "output_type": "stream",
     "text": [
      "1095\n",
      "1738\n",
      "1450\n"
     ]
    },
    {
     "data": {
      "text/plain": "1013"
     },
     "execution_count": 53,
     "metadata": {},
     "output_type": "execute_result"
    }
   ],
   "source": [
    "# Get cell line column from each dataset to find intersection. These are the cell lines we will use\n",
    "dep_cell_lines = set(dep_data['ModelID'])\n",
    "mut_cell_lines = set(mut_data['Unnamed: 0'])\n",
    "exp_cell_lines = set(exp_data['Unnamed: 0'])\n",
    "\n",
    "print(len(dep_cell_lines))\n",
    "print(len(mut_cell_lines))\n",
    "print(len(exp_cell_lines))\n",
    "\n",
    "# Find cell lines that are present in all 3 datasets\n",
    "cell_lines = dep_cell_lines.intersection(mut_cell_lines, exp_cell_lines)\n",
    "\n",
    "len(cell_lines)"
   ],
   "metadata": {
    "collapsed": false,
    "ExecuteTime": {
     "end_time": "2023-11-20T16:24:37.789671751Z",
     "start_time": "2023-11-20T16:24:37.596304572Z"
    }
   },
   "id": "4b8e2dc818ccfa69"
  },
  {
   "cell_type": "code",
   "execution_count": 54,
   "outputs": [
    {
     "data": {
      "text/plain": "         ModelID  PatientID   CellLineName StrippedCellLineName   Age  \\\n0     ACH-000001  PT-gj46wT    NIH:OVCAR-3            NIHOVCAR3  60.0   \n3     ACH-000004  PT-q4K2cp            HEL                  HEL  30.0   \n4     ACH-000005  PT-q4K2cp     HEL 92.1.7              HEL9217  30.0   \n6     ACH-000007  PT-NOXwpH          LS513                LS513  63.0   \n8     ACH-000009  PT-puKIyc         C2BBe1               C2BBE1  72.0   \n...          ...        ...            ...                  ...   ...   \n1843  ACH-002800  PT-WTpRkW  NCC-MPNST2-C1          NCCMPNST2C1  54.0   \n1844  ACH-002834  PT-EcUHFc        PSS131R              PSS131R   NaN   \n1848  ACH-002847  PT-AFnHpd   YUHOIN 06-50           YUHOIN0650  59.0   \n1853  ACH-002922  PT-LKZDpW        SK-N-MM                SKNMM   8.0   \n1854  ACH-002926  PT-vu5jnE          UPMD1                UPMD1   NaN   \n\n        SourceType SangerModelID       RRID DepmapModelType AgeCategory  ...  \\\n0       Commercial     SIDM00105  CVCL_0465           HGSOC       Adult  ...   \n3       Commercial     SIDM00594  CVCL_0001             AML       Adult  ...   \n4       Commercial     SIDM00593  CVCL_2481             AML       Adult  ...   \n6       Commercial     SIDM00677  CVCL_1386            COAD       Adult  ...   \n8       Commercial     SIDM01233  CVCL_1096            COAD       Adult  ...   \n...            ...           ...        ...             ...         ...  ...   \n1843  Academic lab           NaN  CVCL_YU13           MPNST       Adult  ...   \n1844  Academic lab           NaN        NaN              OS     Unknown  ...   \n1848  Academic lab           NaN  CVCL_J521             MEL       Adult  ...   \n1853  Academic lab           NaN        NaN             NBL   Pediatric  ...   \n1854           NaN           NaN  CVCL_C297              UM     Unknown  ...   \n\n             PublicComments WTSIMasterCellID EngineeredModel TreatmentStatus  \\\n0                       NaN           2201.0             NaN             NaN   \n3                       NaN            783.0             NaN  Post-treatment   \n4                       NaN              NaN             NaN             NaN   \n6                       NaN            569.0             NaN             NaN   \n8                       NaN           2104.0             NaN             NaN   \n...                     ...              ...             ...             ...   \n1843  Patient-derived model              NaN             NaN             NaN   \n1844                    NaN              NaN             NaN             NaN   \n1848                    NaN              NaN             NaN             NaN   \n1853                    NaN              NaN             NaN             NaN   \n1854                    NaN              NaN             NaN             NaN   \n\n     OnboardedMedia PlateCoating OncotreeCode  \\\n0        MF-001-041          NaN        HGSOC   \n3        MF-001-001          NaN          AML   \n4        MF-001-001          NaN          AML   \n6        MF-001-001          NaN         COAD   \n8        MF-002-021          NaN         COAD   \n...             ...          ...          ...   \n1843     MF-007-006          NaN        MPNST   \n1844     MF-002-001          NaN           OS   \n1848     MF-036-001          NaN          MEL   \n1853     MF-001-001          NaN          NBL   \n1854     MF-001-001          NaN           UM   \n\n                              OncotreeSubtype     OncotreePrimaryDisease  \\\n0            High-Grade Serous Ovarian Cancer   Ovarian Epithelial Tumor   \n3                      Acute Myeloid Leukemia     Acute Myeloid Leukemia   \n4                      Acute Myeloid Leukemia     Acute Myeloid Leukemia   \n6                        Colon Adenocarcinoma  Colorectal Adenocarcinoma   \n8                        Colon Adenocarcinoma  Colorectal Adenocarcinoma   \n...                                       ...                        ...   \n1843  Malignant Peripheral Nerve Sheath Tumor         Nerve Sheath Tumor   \n1844                             Osteosarcoma               Osteosarcoma   \n1848                                 Melanoma                   Melanoma   \n1853                            Neuroblastoma              Neuroblastoma   \n1854                           Uveal Melanoma            Ocular Melanoma   \n\n                OncotreeLineage  \n0          Ovary/Fallopian Tube  \n3                       Myeloid  \n4                       Myeloid  \n6                         Bowel  \n8                         Bowel  \n...                         ...  \n1843  Peripheral Nervous System  \n1844                       Bone  \n1848                       Skin  \n1853  Peripheral Nervous System  \n1854                        Eye  \n\n[1013 rows x 30 columns]",
      "text/html": "<div>\n<style scoped>\n    .dataframe tbody tr th:only-of-type {\n        vertical-align: middle;\n    }\n\n    .dataframe tbody tr th {\n        vertical-align: top;\n    }\n\n    .dataframe thead th {\n        text-align: right;\n    }\n</style>\n<table border=\"1\" class=\"dataframe\">\n  <thead>\n    <tr style=\"text-align: right;\">\n      <th></th>\n      <th>ModelID</th>\n      <th>PatientID</th>\n      <th>CellLineName</th>\n      <th>StrippedCellLineName</th>\n      <th>Age</th>\n      <th>SourceType</th>\n      <th>SangerModelID</th>\n      <th>RRID</th>\n      <th>DepmapModelType</th>\n      <th>AgeCategory</th>\n      <th>...</th>\n      <th>PublicComments</th>\n      <th>WTSIMasterCellID</th>\n      <th>EngineeredModel</th>\n      <th>TreatmentStatus</th>\n      <th>OnboardedMedia</th>\n      <th>PlateCoating</th>\n      <th>OncotreeCode</th>\n      <th>OncotreeSubtype</th>\n      <th>OncotreePrimaryDisease</th>\n      <th>OncotreeLineage</th>\n    </tr>\n  </thead>\n  <tbody>\n    <tr>\n      <th>0</th>\n      <td>ACH-000001</td>\n      <td>PT-gj46wT</td>\n      <td>NIH:OVCAR-3</td>\n      <td>NIHOVCAR3</td>\n      <td>60.0</td>\n      <td>Commercial</td>\n      <td>SIDM00105</td>\n      <td>CVCL_0465</td>\n      <td>HGSOC</td>\n      <td>Adult</td>\n      <td>...</td>\n      <td>NaN</td>\n      <td>2201.0</td>\n      <td>NaN</td>\n      <td>NaN</td>\n      <td>MF-001-041</td>\n      <td>NaN</td>\n      <td>HGSOC</td>\n      <td>High-Grade Serous Ovarian Cancer</td>\n      <td>Ovarian Epithelial Tumor</td>\n      <td>Ovary/Fallopian Tube</td>\n    </tr>\n    <tr>\n      <th>3</th>\n      <td>ACH-000004</td>\n      <td>PT-q4K2cp</td>\n      <td>HEL</td>\n      <td>HEL</td>\n      <td>30.0</td>\n      <td>Commercial</td>\n      <td>SIDM00594</td>\n      <td>CVCL_0001</td>\n      <td>AML</td>\n      <td>Adult</td>\n      <td>...</td>\n      <td>NaN</td>\n      <td>783.0</td>\n      <td>NaN</td>\n      <td>Post-treatment</td>\n      <td>MF-001-001</td>\n      <td>NaN</td>\n      <td>AML</td>\n      <td>Acute Myeloid Leukemia</td>\n      <td>Acute Myeloid Leukemia</td>\n      <td>Myeloid</td>\n    </tr>\n    <tr>\n      <th>4</th>\n      <td>ACH-000005</td>\n      <td>PT-q4K2cp</td>\n      <td>HEL 92.1.7</td>\n      <td>HEL9217</td>\n      <td>30.0</td>\n      <td>Commercial</td>\n      <td>SIDM00593</td>\n      <td>CVCL_2481</td>\n      <td>AML</td>\n      <td>Adult</td>\n      <td>...</td>\n      <td>NaN</td>\n      <td>NaN</td>\n      <td>NaN</td>\n      <td>NaN</td>\n      <td>MF-001-001</td>\n      <td>NaN</td>\n      <td>AML</td>\n      <td>Acute Myeloid Leukemia</td>\n      <td>Acute Myeloid Leukemia</td>\n      <td>Myeloid</td>\n    </tr>\n    <tr>\n      <th>6</th>\n      <td>ACH-000007</td>\n      <td>PT-NOXwpH</td>\n      <td>LS513</td>\n      <td>LS513</td>\n      <td>63.0</td>\n      <td>Commercial</td>\n      <td>SIDM00677</td>\n      <td>CVCL_1386</td>\n      <td>COAD</td>\n      <td>Adult</td>\n      <td>...</td>\n      <td>NaN</td>\n      <td>569.0</td>\n      <td>NaN</td>\n      <td>NaN</td>\n      <td>MF-001-001</td>\n      <td>NaN</td>\n      <td>COAD</td>\n      <td>Colon Adenocarcinoma</td>\n      <td>Colorectal Adenocarcinoma</td>\n      <td>Bowel</td>\n    </tr>\n    <tr>\n      <th>8</th>\n      <td>ACH-000009</td>\n      <td>PT-puKIyc</td>\n      <td>C2BBe1</td>\n      <td>C2BBE1</td>\n      <td>72.0</td>\n      <td>Commercial</td>\n      <td>SIDM01233</td>\n      <td>CVCL_1096</td>\n      <td>COAD</td>\n      <td>Adult</td>\n      <td>...</td>\n      <td>NaN</td>\n      <td>2104.0</td>\n      <td>NaN</td>\n      <td>NaN</td>\n      <td>MF-002-021</td>\n      <td>NaN</td>\n      <td>COAD</td>\n      <td>Colon Adenocarcinoma</td>\n      <td>Colorectal Adenocarcinoma</td>\n      <td>Bowel</td>\n    </tr>\n    <tr>\n      <th>...</th>\n      <td>...</td>\n      <td>...</td>\n      <td>...</td>\n      <td>...</td>\n      <td>...</td>\n      <td>...</td>\n      <td>...</td>\n      <td>...</td>\n      <td>...</td>\n      <td>...</td>\n      <td>...</td>\n      <td>...</td>\n      <td>...</td>\n      <td>...</td>\n      <td>...</td>\n      <td>...</td>\n      <td>...</td>\n      <td>...</td>\n      <td>...</td>\n      <td>...</td>\n      <td>...</td>\n    </tr>\n    <tr>\n      <th>1843</th>\n      <td>ACH-002800</td>\n      <td>PT-WTpRkW</td>\n      <td>NCC-MPNST2-C1</td>\n      <td>NCCMPNST2C1</td>\n      <td>54.0</td>\n      <td>Academic lab</td>\n      <td>NaN</td>\n      <td>CVCL_YU13</td>\n      <td>MPNST</td>\n      <td>Adult</td>\n      <td>...</td>\n      <td>Patient-derived model</td>\n      <td>NaN</td>\n      <td>NaN</td>\n      <td>NaN</td>\n      <td>MF-007-006</td>\n      <td>NaN</td>\n      <td>MPNST</td>\n      <td>Malignant Peripheral Nerve Sheath Tumor</td>\n      <td>Nerve Sheath Tumor</td>\n      <td>Peripheral Nervous System</td>\n    </tr>\n    <tr>\n      <th>1844</th>\n      <td>ACH-002834</td>\n      <td>PT-EcUHFc</td>\n      <td>PSS131R</td>\n      <td>PSS131R</td>\n      <td>NaN</td>\n      <td>Academic lab</td>\n      <td>NaN</td>\n      <td>NaN</td>\n      <td>OS</td>\n      <td>Unknown</td>\n      <td>...</td>\n      <td>NaN</td>\n      <td>NaN</td>\n      <td>NaN</td>\n      <td>NaN</td>\n      <td>MF-002-001</td>\n      <td>NaN</td>\n      <td>OS</td>\n      <td>Osteosarcoma</td>\n      <td>Osteosarcoma</td>\n      <td>Bone</td>\n    </tr>\n    <tr>\n      <th>1848</th>\n      <td>ACH-002847</td>\n      <td>PT-AFnHpd</td>\n      <td>YUHOIN 06-50</td>\n      <td>YUHOIN0650</td>\n      <td>59.0</td>\n      <td>Academic lab</td>\n      <td>NaN</td>\n      <td>CVCL_J521</td>\n      <td>MEL</td>\n      <td>Adult</td>\n      <td>...</td>\n      <td>NaN</td>\n      <td>NaN</td>\n      <td>NaN</td>\n      <td>NaN</td>\n      <td>MF-036-001</td>\n      <td>NaN</td>\n      <td>MEL</td>\n      <td>Melanoma</td>\n      <td>Melanoma</td>\n      <td>Skin</td>\n    </tr>\n    <tr>\n      <th>1853</th>\n      <td>ACH-002922</td>\n      <td>PT-LKZDpW</td>\n      <td>SK-N-MM</td>\n      <td>SKNMM</td>\n      <td>8.0</td>\n      <td>Academic lab</td>\n      <td>NaN</td>\n      <td>NaN</td>\n      <td>NBL</td>\n      <td>Pediatric</td>\n      <td>...</td>\n      <td>NaN</td>\n      <td>NaN</td>\n      <td>NaN</td>\n      <td>NaN</td>\n      <td>MF-001-001</td>\n      <td>NaN</td>\n      <td>NBL</td>\n      <td>Neuroblastoma</td>\n      <td>Neuroblastoma</td>\n      <td>Peripheral Nervous System</td>\n    </tr>\n    <tr>\n      <th>1854</th>\n      <td>ACH-002926</td>\n      <td>PT-vu5jnE</td>\n      <td>UPMD1</td>\n      <td>UPMD1</td>\n      <td>NaN</td>\n      <td>NaN</td>\n      <td>NaN</td>\n      <td>CVCL_C297</td>\n      <td>UM</td>\n      <td>Unknown</td>\n      <td>...</td>\n      <td>NaN</td>\n      <td>NaN</td>\n      <td>NaN</td>\n      <td>NaN</td>\n      <td>MF-001-001</td>\n      <td>NaN</td>\n      <td>UM</td>\n      <td>Uveal Melanoma</td>\n      <td>Ocular Melanoma</td>\n      <td>Eye</td>\n    </tr>\n  </tbody>\n</table>\n<p>1013 rows × 30 columns</p>\n</div>"
     },
     "execution_count": 54,
     "metadata": {},
     "output_type": "execute_result"
    }
   ],
   "source": [
    "# Retrieve metadata for the intersecting cell lines\n",
    "model_data[model_data['ModelID'].isin(cell_lines)]"
   ],
   "metadata": {
    "collapsed": false,
    "ExecuteTime": {
     "end_time": "2023-11-20T16:24:45.292214637Z",
     "start_time": "2023-11-20T16:24:45.237893631Z"
    }
   },
   "id": "fbb8c56e6041b898"
  }
 ],
 "metadata": {
  "kernelspec": {
   "display_name": "Python 3",
   "language": "python",
   "name": "python3"
  },
  "language_info": {
   "codemirror_mode": {
    "name": "ipython",
    "version": 2
   },
   "file_extension": ".py",
   "mimetype": "text/x-python",
   "name": "python",
   "nbconvert_exporter": "python",
   "pygments_lexer": "ipython2",
   "version": "2.7.6"
  }
 },
 "nbformat": 4,
 "nbformat_minor": 5
}
