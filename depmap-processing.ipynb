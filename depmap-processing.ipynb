{
 "cells": [
  {
   "cell_type": "code",
   "execution_count": 31,
   "id": "initial_id",
   "metadata": {
    "collapsed": true,
    "ExecuteTime": {
     "end_time": "2023-12-20T14:06:33.884250800Z",
     "start_time": "2023-12-20T14:06:33.870355300Z"
    }
   },
   "outputs": [],
   "source": [
    "import os\n",
    "import pandas as pd"
   ]
  },
  {
   "cell_type": "code",
   "execution_count": 135,
   "outputs": [
    {
     "data": {
      "text/plain": "['CRISPRGeneDependency.csv',\n 'Model.csv',\n 'OmicsExpressionProteinCodingGenesTPMLogp1.csv',\n 'OmicsSomaticMutations.csv',\n 'OmicsSomaticMutationsMAFProfile.maf',\n 'OmicsSomaticMutationsMatrixDamaging.csv',\n 'README.txt']"
     },
     "execution_count": 135,
     "metadata": {},
     "output_type": "execute_result"
    }
   ],
   "source": [
    "#data_path = '/home/db600/phd/data/depmap/'\n",
    "data_path = 'C:\\\\Users\\\\dan\\\\Documents\\\\phd\\\\data\\\\depmap\\\\'\n",
    "biomart_path = 'C:\\\\Users\\\\dan\\\\Documents\\\\phd\\\\data\\\\biomart\\\\'\n",
    "#os.getcwd()\n",
    "os.listdir(data_path)"
   ],
   "metadata": {
    "collapsed": false,
    "ExecuteTime": {
     "end_time": "2023-12-21T22:32:50.169594700Z",
     "start_time": "2023-12-21T22:32:50.153966800Z"
    }
   },
   "id": "7757239f60368068"
  },
  {
   "cell_type": "code",
   "execution_count": 108,
   "outputs": [
    {
     "name": "stderr",
     "output_type": "stream",
     "text": [
      "C:\\Users\\dan\\AppData\\Local\\Temp\\ipykernel_34420\\4079186740.py:3: DtypeWarning: Columns (49,50,51,53) have mixed types. Specify dtype option on import or set low_memory=False.\n",
      "  mut_data = pd.read_csv(data_path + 'OmicsSomaticMutations.csv')\n"
     ]
    }
   ],
   "source": [
    "dep_data = pd.read_csv(data_path + 'CRISPRGeneDependency.csv') \n",
    "exp_data = pd.read_csv(data_path + 'OmicsExpressionProteinCodingGenesTPMLogp1.csv')\n",
    "mut_data = pd.read_csv(data_path + 'OmicsSomaticMutations.csv')\n",
    "model_data = pd.read_csv(data_path + 'Model.csv')"
   ],
   "metadata": {
    "collapsed": false,
    "ExecuteTime": {
     "end_time": "2023-12-21T21:50:22.231088800Z",
     "start_time": "2023-12-21T21:49:59.023470500Z"
    }
   },
   "id": "6518db76a11010c9"
  },
  {
   "cell_type": "code",
   "execution_count": 34,
   "outputs": [
    {
     "data": {
      "text/plain": "      ModelID  A1BG (1)  A1CF (29974)   A2M (2)  A2ML1 (144568)  \\\n0  ACH-000001  0.055321      0.014039  0.014084        0.033828   \n1  ACH-000004  0.023418      0.048724  0.058084        0.019483   \n2  ACH-000005  0.059552      0.025478  0.009989        0.008775   \n3  ACH-000007  0.023880      0.035082  0.006556        0.004322   \n4  ACH-000009  0.027652      0.074860  0.011021        0.009153   \n\n   A3GALT2 (127550)  A4GALT (53947)  A4GNT (51146)  AAAS (8086)  AACS (65985)  \\\n0          0.049511        0.004955       0.026993     0.131006      0.003102   \n1          0.049793        0.064472       0.001775     0.071289      0.003732   \n2          0.099322        0.099572       0.007544     0.049601      0.047555   \n3          0.022200        0.017121       0.009605     0.149378      0.052873   \n4          0.021632        0.067758       0.013559     0.216796      0.013660   \n\n   ...  ZWILCH (55055)  ZWINT (11130)  ZXDA (7789)  ZXDB (158586)  \\\n0  ...        0.047757       0.047806     0.007155       0.002537   \n1  ...        0.044517       0.471009     0.005096       0.015149   \n2  ...        0.073457       0.281892     0.044789       0.058229   \n3  ...        0.160608       0.593581     0.017412       0.001892   \n4  ...        0.181632       0.342313     0.042414       0.002859   \n\n   ZXDC (79364)  ZYG11A (440590)  ZYG11B (79699)  ZYX (7791)  ZZEF1 (23140)  \\\n0      0.003660         0.154849        0.015792    0.015999       0.006200   \n1      0.009804         0.015507        0.319598    0.007778       0.004392   \n2      0.029638         0.097357        0.066269    0.025365       0.042530   \n3      0.006432         0.029261        0.369101    0.015412       0.165622   \n4      0.058070         0.053355        0.651365    0.012016       0.023990   \n\n   ZZZ3 (26009)  \n0      0.436777  \n1      0.048136  \n2      0.096150  \n3      0.366325  \n4      0.312202  \n\n[5 rows x 17932 columns]",
      "text/html": "<div>\n<style scoped>\n    .dataframe tbody tr th:only-of-type {\n        vertical-align: middle;\n    }\n\n    .dataframe tbody tr th {\n        vertical-align: top;\n    }\n\n    .dataframe thead th {\n        text-align: right;\n    }\n</style>\n<table border=\"1\" class=\"dataframe\">\n  <thead>\n    <tr style=\"text-align: right;\">\n      <th></th>\n      <th>ModelID</th>\n      <th>A1BG (1)</th>\n      <th>A1CF (29974)</th>\n      <th>A2M (2)</th>\n      <th>A2ML1 (144568)</th>\n      <th>A3GALT2 (127550)</th>\n      <th>A4GALT (53947)</th>\n      <th>A4GNT (51146)</th>\n      <th>AAAS (8086)</th>\n      <th>AACS (65985)</th>\n      <th>...</th>\n      <th>ZWILCH (55055)</th>\n      <th>ZWINT (11130)</th>\n      <th>ZXDA (7789)</th>\n      <th>ZXDB (158586)</th>\n      <th>ZXDC (79364)</th>\n      <th>ZYG11A (440590)</th>\n      <th>ZYG11B (79699)</th>\n      <th>ZYX (7791)</th>\n      <th>ZZEF1 (23140)</th>\n      <th>ZZZ3 (26009)</th>\n    </tr>\n  </thead>\n  <tbody>\n    <tr>\n      <th>0</th>\n      <td>ACH-000001</td>\n      <td>0.055321</td>\n      <td>0.014039</td>\n      <td>0.014084</td>\n      <td>0.033828</td>\n      <td>0.049511</td>\n      <td>0.004955</td>\n      <td>0.026993</td>\n      <td>0.131006</td>\n      <td>0.003102</td>\n      <td>...</td>\n      <td>0.047757</td>\n      <td>0.047806</td>\n      <td>0.007155</td>\n      <td>0.002537</td>\n      <td>0.003660</td>\n      <td>0.154849</td>\n      <td>0.015792</td>\n      <td>0.015999</td>\n      <td>0.006200</td>\n      <td>0.436777</td>\n    </tr>\n    <tr>\n      <th>1</th>\n      <td>ACH-000004</td>\n      <td>0.023418</td>\n      <td>0.048724</td>\n      <td>0.058084</td>\n      <td>0.019483</td>\n      <td>0.049793</td>\n      <td>0.064472</td>\n      <td>0.001775</td>\n      <td>0.071289</td>\n      <td>0.003732</td>\n      <td>...</td>\n      <td>0.044517</td>\n      <td>0.471009</td>\n      <td>0.005096</td>\n      <td>0.015149</td>\n      <td>0.009804</td>\n      <td>0.015507</td>\n      <td>0.319598</td>\n      <td>0.007778</td>\n      <td>0.004392</td>\n      <td>0.048136</td>\n    </tr>\n    <tr>\n      <th>2</th>\n      <td>ACH-000005</td>\n      <td>0.059552</td>\n      <td>0.025478</td>\n      <td>0.009989</td>\n      <td>0.008775</td>\n      <td>0.099322</td>\n      <td>0.099572</td>\n      <td>0.007544</td>\n      <td>0.049601</td>\n      <td>0.047555</td>\n      <td>...</td>\n      <td>0.073457</td>\n      <td>0.281892</td>\n      <td>0.044789</td>\n      <td>0.058229</td>\n      <td>0.029638</td>\n      <td>0.097357</td>\n      <td>0.066269</td>\n      <td>0.025365</td>\n      <td>0.042530</td>\n      <td>0.096150</td>\n    </tr>\n    <tr>\n      <th>3</th>\n      <td>ACH-000007</td>\n      <td>0.023880</td>\n      <td>0.035082</td>\n      <td>0.006556</td>\n      <td>0.004322</td>\n      <td>0.022200</td>\n      <td>0.017121</td>\n      <td>0.009605</td>\n      <td>0.149378</td>\n      <td>0.052873</td>\n      <td>...</td>\n      <td>0.160608</td>\n      <td>0.593581</td>\n      <td>0.017412</td>\n      <td>0.001892</td>\n      <td>0.006432</td>\n      <td>0.029261</td>\n      <td>0.369101</td>\n      <td>0.015412</td>\n      <td>0.165622</td>\n      <td>0.366325</td>\n    </tr>\n    <tr>\n      <th>4</th>\n      <td>ACH-000009</td>\n      <td>0.027652</td>\n      <td>0.074860</td>\n      <td>0.011021</td>\n      <td>0.009153</td>\n      <td>0.021632</td>\n      <td>0.067758</td>\n      <td>0.013559</td>\n      <td>0.216796</td>\n      <td>0.013660</td>\n      <td>...</td>\n      <td>0.181632</td>\n      <td>0.342313</td>\n      <td>0.042414</td>\n      <td>0.002859</td>\n      <td>0.058070</td>\n      <td>0.053355</td>\n      <td>0.651365</td>\n      <td>0.012016</td>\n      <td>0.023990</td>\n      <td>0.312202</td>\n    </tr>\n  </tbody>\n</table>\n<p>5 rows × 17932 columns</p>\n</div>"
     },
     "execution_count": 34,
     "metadata": {},
     "output_type": "execute_result"
    }
   ],
   "source": [
    "dep_data.head()"
   ],
   "metadata": {
    "collapsed": false,
    "ExecuteTime": {
     "end_time": "2023-12-20T14:07:02.218006500Z",
     "start_time": "2023-12-20T14:07:02.180798300Z"
    }
   },
   "id": "22736a94ef506030"
  },
  {
   "cell_type": "code",
   "execution_count": 6,
   "outputs": [],
   "source": [
    "mut_maf = pd.read_csv(data_path + 'OmicsSomaticMutationsMAFProfile.maf', sep=\"\\t\", low_memory=False)"
   ],
   "metadata": {
    "collapsed": false,
    "ExecuteTime": {
     "end_time": "2023-12-13T19:40:39.894409500Z",
     "start_time": "2023-12-13T19:40:38.032069800Z"
    }
   },
   "id": "80cb85ff364b4a3c"
  },
  {
   "cell_type": "code",
   "execution_count": 7,
   "outputs": [
    {
     "data": {
      "text/plain": "   Hugo_Symbol NCBI_Build Chromosome  Start_Position  End_Position  \\\n0  MIR1302-2HG     GRCh38          1           30037         30038   \n1        OR4F5     GRCh38          1           69453         69454   \n2        OR4F5     GRCh38          1           69453         69454   \n3        OR4F5     GRCh38          1           69552         69553   \n4        OR4F5     GRCh38          1           69588         69589   \n\n  Variant_Type Reference_Allele Tumor_Seq_Allele1 Tumor_Seq_Allele2  \\\n0          SNP                T                 T                 C   \n1          SNP                G                 G                 A   \n2          SNP                G                 G                 A   \n3          SNP                G                 G                 C   \n4          SNP                G                 G                 T   \n\n  Tumor_Sample_Barcode Variant_Classification Protein_Change  \n0            PR-MdYnGF            Splice_Site            NaN  \n1            PR-eJKW7S                 Silent        p.K142K  \n2            PR-64cwWG                 Silent        p.K142K  \n3            PR-MjCKCh                 Silent        p.A175A  \n4            PR-egJh3A      Missense_Mutation        p.E187D  ",
      "text/html": "<div>\n<style scoped>\n    .dataframe tbody tr th:only-of-type {\n        vertical-align: middle;\n    }\n\n    .dataframe tbody tr th {\n        vertical-align: top;\n    }\n\n    .dataframe thead th {\n        text-align: right;\n    }\n</style>\n<table border=\"1\" class=\"dataframe\">\n  <thead>\n    <tr style=\"text-align: right;\">\n      <th></th>\n      <th>Hugo_Symbol</th>\n      <th>NCBI_Build</th>\n      <th>Chromosome</th>\n      <th>Start_Position</th>\n      <th>End_Position</th>\n      <th>Variant_Type</th>\n      <th>Reference_Allele</th>\n      <th>Tumor_Seq_Allele1</th>\n      <th>Tumor_Seq_Allele2</th>\n      <th>Tumor_Sample_Barcode</th>\n      <th>Variant_Classification</th>\n      <th>Protein_Change</th>\n    </tr>\n  </thead>\n  <tbody>\n    <tr>\n      <th>0</th>\n      <td>MIR1302-2HG</td>\n      <td>GRCh38</td>\n      <td>1</td>\n      <td>30037</td>\n      <td>30038</td>\n      <td>SNP</td>\n      <td>T</td>\n      <td>T</td>\n      <td>C</td>\n      <td>PR-MdYnGF</td>\n      <td>Splice_Site</td>\n      <td>NaN</td>\n    </tr>\n    <tr>\n      <th>1</th>\n      <td>OR4F5</td>\n      <td>GRCh38</td>\n      <td>1</td>\n      <td>69453</td>\n      <td>69454</td>\n      <td>SNP</td>\n      <td>G</td>\n      <td>G</td>\n      <td>A</td>\n      <td>PR-eJKW7S</td>\n      <td>Silent</td>\n      <td>p.K142K</td>\n    </tr>\n    <tr>\n      <th>2</th>\n      <td>OR4F5</td>\n      <td>GRCh38</td>\n      <td>1</td>\n      <td>69453</td>\n      <td>69454</td>\n      <td>SNP</td>\n      <td>G</td>\n      <td>G</td>\n      <td>A</td>\n      <td>PR-64cwWG</td>\n      <td>Silent</td>\n      <td>p.K142K</td>\n    </tr>\n    <tr>\n      <th>3</th>\n      <td>OR4F5</td>\n      <td>GRCh38</td>\n      <td>1</td>\n      <td>69552</td>\n      <td>69553</td>\n      <td>SNP</td>\n      <td>G</td>\n      <td>G</td>\n      <td>C</td>\n      <td>PR-MjCKCh</td>\n      <td>Silent</td>\n      <td>p.A175A</td>\n    </tr>\n    <tr>\n      <th>4</th>\n      <td>OR4F5</td>\n      <td>GRCh38</td>\n      <td>1</td>\n      <td>69588</td>\n      <td>69589</td>\n      <td>SNP</td>\n      <td>G</td>\n      <td>G</td>\n      <td>T</td>\n      <td>PR-egJh3A</td>\n      <td>Missense_Mutation</td>\n      <td>p.E187D</td>\n    </tr>\n  </tbody>\n</table>\n</div>"
     },
     "execution_count": 7,
     "metadata": {},
     "output_type": "execute_result"
    }
   ],
   "source": [
    "mut_maf.head()\n",
    "#len(mut_maf)"
   ],
   "metadata": {
    "collapsed": false,
    "ExecuteTime": {
     "end_time": "2023-12-13T19:40:41.442305900Z",
     "start_time": "2023-12-13T19:40:41.411834100Z"
    }
   },
   "id": "5b20f49dd1f878b4"
  },
  {
   "cell_type": "code",
   "execution_count": 35,
   "outputs": [],
   "source": [
    "mut_data2 = pd.read_csv(data_path + 'OmicsSomaticMutations.csv', low_memory=False)"
   ],
   "metadata": {
    "collapsed": false,
    "ExecuteTime": {
     "end_time": "2023-12-20T14:07:10.404585300Z",
     "start_time": "2023-12-20T14:07:02.203772500Z"
    }
   },
   "id": "7235420427748bc3"
  },
  {
   "cell_type": "code",
   "execution_count": 36,
   "outputs": [
    {
     "data": {
      "text/plain": "  Chrom       Pos Ref Alt     AF  RefCount  AltCount   GT          PS  \\\n0  chr1   1242864  GC  CT  0.310        19         8  0/1         NaN   \n1  chr1  10647969   A   G  0.400        29        19  0|1  10647969.0   \n2  chr1  10648097   T   G  0.349        21        10  0/1         NaN   \n3  chr1  13198424   G   A  0.833         0         4  0/1         NaN   \n4  chr1  13225068   A   G  0.396        34        24  0/1         NaN   \n\n  VariantType  ... RevelScore Funseq2Score PharmgkbID DidaID DidaName  \\\n0         DNP  ...        NaN          NaN        NaN    NaN      NaN   \n1         SNP  ...      0.234          3.0        NaN    NaN      NaN   \n2         SNP  ...        NaN          0.0        NaN    NaN      NaN   \n3         SNP  ...      0.002          NaN        NaN    NaN      NaN   \n4         SNP  ...        NaN          0.0        NaN    NaN      NaN   \n\n  GwasDisease GwasPmID  GTexGene     ModelID EntrezGeneID  \n0         NaN      NaN       NaN  ACH-000839     388581.0  \n1         NaN      NaN       NaN  ACH-000839      54897.0  \n2         NaN      NaN       NaN  ACH-000839      54897.0  \n3         NaN      NaN       NaN  ACH-000839     400736.0  \n4         NaN      NaN       NaN  ACH-000839     391003.0  \n\n[5 rows x 56 columns]",
      "text/html": "<div>\n<style scoped>\n    .dataframe tbody tr th:only-of-type {\n        vertical-align: middle;\n    }\n\n    .dataframe tbody tr th {\n        vertical-align: top;\n    }\n\n    .dataframe thead th {\n        text-align: right;\n    }\n</style>\n<table border=\"1\" class=\"dataframe\">\n  <thead>\n    <tr style=\"text-align: right;\">\n      <th></th>\n      <th>Chrom</th>\n      <th>Pos</th>\n      <th>Ref</th>\n      <th>Alt</th>\n      <th>AF</th>\n      <th>RefCount</th>\n      <th>AltCount</th>\n      <th>GT</th>\n      <th>PS</th>\n      <th>VariantType</th>\n      <th>...</th>\n      <th>RevelScore</th>\n      <th>Funseq2Score</th>\n      <th>PharmgkbID</th>\n      <th>DidaID</th>\n      <th>DidaName</th>\n      <th>GwasDisease</th>\n      <th>GwasPmID</th>\n      <th>GTexGene</th>\n      <th>ModelID</th>\n      <th>EntrezGeneID</th>\n    </tr>\n  </thead>\n  <tbody>\n    <tr>\n      <th>0</th>\n      <td>chr1</td>\n      <td>1242864</td>\n      <td>GC</td>\n      <td>CT</td>\n      <td>0.310</td>\n      <td>19</td>\n      <td>8</td>\n      <td>0/1</td>\n      <td>NaN</td>\n      <td>DNP</td>\n      <td>...</td>\n      <td>NaN</td>\n      <td>NaN</td>\n      <td>NaN</td>\n      <td>NaN</td>\n      <td>NaN</td>\n      <td>NaN</td>\n      <td>NaN</td>\n      <td>NaN</td>\n      <td>ACH-000839</td>\n      <td>388581.0</td>\n    </tr>\n    <tr>\n      <th>1</th>\n      <td>chr1</td>\n      <td>10647969</td>\n      <td>A</td>\n      <td>G</td>\n      <td>0.400</td>\n      <td>29</td>\n      <td>19</td>\n      <td>0|1</td>\n      <td>10647969.0</td>\n      <td>SNP</td>\n      <td>...</td>\n      <td>0.234</td>\n      <td>3.0</td>\n      <td>NaN</td>\n      <td>NaN</td>\n      <td>NaN</td>\n      <td>NaN</td>\n      <td>NaN</td>\n      <td>NaN</td>\n      <td>ACH-000839</td>\n      <td>54897.0</td>\n    </tr>\n    <tr>\n      <th>2</th>\n      <td>chr1</td>\n      <td>10648097</td>\n      <td>T</td>\n      <td>G</td>\n      <td>0.349</td>\n      <td>21</td>\n      <td>10</td>\n      <td>0/1</td>\n      <td>NaN</td>\n      <td>SNP</td>\n      <td>...</td>\n      <td>NaN</td>\n      <td>0.0</td>\n      <td>NaN</td>\n      <td>NaN</td>\n      <td>NaN</td>\n      <td>NaN</td>\n      <td>NaN</td>\n      <td>NaN</td>\n      <td>ACH-000839</td>\n      <td>54897.0</td>\n    </tr>\n    <tr>\n      <th>3</th>\n      <td>chr1</td>\n      <td>13198424</td>\n      <td>G</td>\n      <td>A</td>\n      <td>0.833</td>\n      <td>0</td>\n      <td>4</td>\n      <td>0/1</td>\n      <td>NaN</td>\n      <td>SNP</td>\n      <td>...</td>\n      <td>0.002</td>\n      <td>NaN</td>\n      <td>NaN</td>\n      <td>NaN</td>\n      <td>NaN</td>\n      <td>NaN</td>\n      <td>NaN</td>\n      <td>NaN</td>\n      <td>ACH-000839</td>\n      <td>400736.0</td>\n    </tr>\n    <tr>\n      <th>4</th>\n      <td>chr1</td>\n      <td>13225068</td>\n      <td>A</td>\n      <td>G</td>\n      <td>0.396</td>\n      <td>34</td>\n      <td>24</td>\n      <td>0/1</td>\n      <td>NaN</td>\n      <td>SNP</td>\n      <td>...</td>\n      <td>NaN</td>\n      <td>0.0</td>\n      <td>NaN</td>\n      <td>NaN</td>\n      <td>NaN</td>\n      <td>NaN</td>\n      <td>NaN</td>\n      <td>NaN</td>\n      <td>ACH-000839</td>\n      <td>391003.0</td>\n    </tr>\n  </tbody>\n</table>\n<p>5 rows × 56 columns</p>\n</div>"
     },
     "execution_count": 36,
     "metadata": {},
     "output_type": "execute_result"
    }
   ],
   "source": [
    "mut_data2.head()"
   ],
   "metadata": {
    "collapsed": false,
    "ExecuteTime": {
     "end_time": "2023-12-20T14:07:10.452387100Z",
     "start_time": "2023-12-20T14:07:10.407510900Z"
    }
   },
   "id": "3974bc0e8c1bd049"
  },
  {
   "cell_type": "code",
   "execution_count": 6,
   "outputs": [
    {
     "data": {
      "text/plain": "Index(['Chrom', 'Pos', 'Ref', 'Alt', 'AF', 'RefCount', 'AltCount', 'GT', 'PS',\n       'VariantType', 'VariantInfo', 'DNAChange', 'ProteinChange',\n       'HugoSymbol', 'HgncName', 'HgncFamily', 'Transcript', 'TranscriptExon',\n       'TranscriptStrand', 'UniprotID', 'Str', 'DbsnpID', 'DbsnpFilter',\n       'Issues', 'GcContent', 'LineageAssociation', 'CancerMolecularGenetics',\n       'CCLEDeleterious', 'StructuralRelation', 'CosmicHotspot',\n       'CosmicOverlappingMutations', 'AssociatedWith', 'LoF', 'Driver',\n       'LikelyDriver', 'TranscriptLikelyLoF', 'CivicID', 'CivicDescription',\n       'CivicScore', 'Popaf', 'LikelyGoF', 'LikelyLoF', 'HessDriver',\n       'HessSignature', 'CscapeScore', 'DannScore', 'RevelScore',\n       'Funseq2Score', 'PharmgkbID', 'DidaID', 'DidaName', 'GwasDisease',\n       'GwasPmID', 'GTexGene', 'ModelID', 'EntrezGeneID'],\n      dtype='object')"
     },
     "execution_count": 6,
     "metadata": {},
     "output_type": "execute_result"
    }
   ],
   "source": [
    "mut_data.columns"
   ],
   "metadata": {
    "collapsed": false,
    "ExecuteTime": {
     "end_time": "2023-12-15T20:22:58.200055100Z",
     "start_time": "2023-12-15T20:22:58.171952300Z"
    }
   },
   "id": "3c2f95c585dd546a"
  },
  {
   "cell_type": "code",
   "execution_count": 37,
   "outputs": [
    {
     "data": {
      "text/plain": "  Chrom       Pos Ref Alt     AF  RefCount  AltCount   GT          PS  \\\n0  chr1   1242864  GC  CT  0.310        19         8  0/1         NaN   \n1  chr1  10647969   A   G  0.400        29        19  0|1  10647969.0   \n2  chr1  10648097   T   G  0.349        21        10  0/1         NaN   \n3  chr1  13198424   G   A  0.833         0         4  0/1         NaN   \n4  chr1  13225068   A   G  0.396        34        24  0/1         NaN   \n\n  VariantType  ... RevelScore Funseq2Score PharmgkbID DidaID DidaName  \\\n0         DNP  ...        NaN          NaN        NaN    NaN      NaN   \n1         SNP  ...      0.234          3.0        NaN    NaN      NaN   \n2         SNP  ...        NaN          0.0        NaN    NaN      NaN   \n3         SNP  ...      0.002          NaN        NaN    NaN      NaN   \n4         SNP  ...        NaN          0.0        NaN    NaN      NaN   \n\n  GwasDisease GwasPmID  GTexGene     ModelID EntrezGeneID  \n0         NaN      NaN       NaN  ACH-000839     388581.0  \n1         NaN      NaN       NaN  ACH-000839      54897.0  \n2         NaN      NaN       NaN  ACH-000839      54897.0  \n3         NaN      NaN       NaN  ACH-000839     400736.0  \n4         NaN      NaN       NaN  ACH-000839     391003.0  \n\n[5 rows x 56 columns]",
      "text/html": "<div>\n<style scoped>\n    .dataframe tbody tr th:only-of-type {\n        vertical-align: middle;\n    }\n\n    .dataframe tbody tr th {\n        vertical-align: top;\n    }\n\n    .dataframe thead th {\n        text-align: right;\n    }\n</style>\n<table border=\"1\" class=\"dataframe\">\n  <thead>\n    <tr style=\"text-align: right;\">\n      <th></th>\n      <th>Chrom</th>\n      <th>Pos</th>\n      <th>Ref</th>\n      <th>Alt</th>\n      <th>AF</th>\n      <th>RefCount</th>\n      <th>AltCount</th>\n      <th>GT</th>\n      <th>PS</th>\n      <th>VariantType</th>\n      <th>...</th>\n      <th>RevelScore</th>\n      <th>Funseq2Score</th>\n      <th>PharmgkbID</th>\n      <th>DidaID</th>\n      <th>DidaName</th>\n      <th>GwasDisease</th>\n      <th>GwasPmID</th>\n      <th>GTexGene</th>\n      <th>ModelID</th>\n      <th>EntrezGeneID</th>\n    </tr>\n  </thead>\n  <tbody>\n    <tr>\n      <th>0</th>\n      <td>chr1</td>\n      <td>1242864</td>\n      <td>GC</td>\n      <td>CT</td>\n      <td>0.310</td>\n      <td>19</td>\n      <td>8</td>\n      <td>0/1</td>\n      <td>NaN</td>\n      <td>DNP</td>\n      <td>...</td>\n      <td>NaN</td>\n      <td>NaN</td>\n      <td>NaN</td>\n      <td>NaN</td>\n      <td>NaN</td>\n      <td>NaN</td>\n      <td>NaN</td>\n      <td>NaN</td>\n      <td>ACH-000839</td>\n      <td>388581.0</td>\n    </tr>\n    <tr>\n      <th>1</th>\n      <td>chr1</td>\n      <td>10647969</td>\n      <td>A</td>\n      <td>G</td>\n      <td>0.400</td>\n      <td>29</td>\n      <td>19</td>\n      <td>0|1</td>\n      <td>10647969.0</td>\n      <td>SNP</td>\n      <td>...</td>\n      <td>0.234</td>\n      <td>3.0</td>\n      <td>NaN</td>\n      <td>NaN</td>\n      <td>NaN</td>\n      <td>NaN</td>\n      <td>NaN</td>\n      <td>NaN</td>\n      <td>ACH-000839</td>\n      <td>54897.0</td>\n    </tr>\n    <tr>\n      <th>2</th>\n      <td>chr1</td>\n      <td>10648097</td>\n      <td>T</td>\n      <td>G</td>\n      <td>0.349</td>\n      <td>21</td>\n      <td>10</td>\n      <td>0/1</td>\n      <td>NaN</td>\n      <td>SNP</td>\n      <td>...</td>\n      <td>NaN</td>\n      <td>0.0</td>\n      <td>NaN</td>\n      <td>NaN</td>\n      <td>NaN</td>\n      <td>NaN</td>\n      <td>NaN</td>\n      <td>NaN</td>\n      <td>ACH-000839</td>\n      <td>54897.0</td>\n    </tr>\n    <tr>\n      <th>3</th>\n      <td>chr1</td>\n      <td>13198424</td>\n      <td>G</td>\n      <td>A</td>\n      <td>0.833</td>\n      <td>0</td>\n      <td>4</td>\n      <td>0/1</td>\n      <td>NaN</td>\n      <td>SNP</td>\n      <td>...</td>\n      <td>0.002</td>\n      <td>NaN</td>\n      <td>NaN</td>\n      <td>NaN</td>\n      <td>NaN</td>\n      <td>NaN</td>\n      <td>NaN</td>\n      <td>NaN</td>\n      <td>ACH-000839</td>\n      <td>400736.0</td>\n    </tr>\n    <tr>\n      <th>4</th>\n      <td>chr1</td>\n      <td>13225068</td>\n      <td>A</td>\n      <td>G</td>\n      <td>0.396</td>\n      <td>34</td>\n      <td>24</td>\n      <td>0/1</td>\n      <td>NaN</td>\n      <td>SNP</td>\n      <td>...</td>\n      <td>NaN</td>\n      <td>0.0</td>\n      <td>NaN</td>\n      <td>NaN</td>\n      <td>NaN</td>\n      <td>NaN</td>\n      <td>NaN</td>\n      <td>NaN</td>\n      <td>ACH-000839</td>\n      <td>391003.0</td>\n    </tr>\n  </tbody>\n</table>\n<p>5 rows × 56 columns</p>\n</div>"
     },
     "execution_count": 37,
     "metadata": {},
     "output_type": "execute_result"
    }
   ],
   "source": [
    "mut_data.head()"
   ],
   "metadata": {
    "collapsed": false,
    "ExecuteTime": {
     "end_time": "2023-12-20T14:07:10.538948900Z",
     "start_time": "2023-12-20T14:07:10.450171300Z"
    }
   },
   "id": "933413c284b9217a"
  },
  {
   "cell_type": "markdown",
   "source": [],
   "metadata": {
    "collapsed": false
   },
   "id": "369e8a438cbfcea6"
  },
  {
   "cell_type": "code",
   "execution_count": 77,
   "outputs": [
    {
     "data": {
      "text/plain": "    Chrom       Pos Ref Alt     AF  RefCount  AltCount   GT          PS  \\\n0    chr1   1242864  GC  CT  0.310        19         8  0/1         NaN   \n1    chr1  10647969   A   G  0.400        29        19  0|1  10647969.0   \n2    chr1  10648097   T   G  0.349        21        10  0/1         NaN   \n3    chr1  13198424   G   A  0.833         0         4  0/1         NaN   \n4    chr1  13225068   A   G  0.396        34        24  0/1         NaN   \n..    ...       ...  ..  ..    ...       ...       ...  ...         ...   \n514  chrM     13197   C   T  1.000         1      4732  1|1         NaN   \n515  chrM     13651   A   G  1.000         2      4645  1|1         NaN   \n516  chrM     13766   C   A  0.999        22      4618  1|1         NaN   \n517  chrM     14212   T   C  1.000       321      4705  1|1         NaN   \n518  chrM     15812   G   A  1.000         2      4753  1|1         NaN   \n\n    VariantType  ... RevelScore Funseq2Score PharmgkbID DidaID DidaName  \\\n0           DNP  ...        NaN          NaN        NaN    NaN      NaN   \n1           SNP  ...      0.234          3.0        NaN    NaN      NaN   \n2           SNP  ...        NaN          0.0        NaN    NaN      NaN   \n3           SNP  ...      0.002          NaN        NaN    NaN      NaN   \n4           SNP  ...        NaN          0.0        NaN    NaN      NaN   \n..          ...  ...        ...          ...        ...    ...      ...   \n514         SNP  ...        NaN          NaN        NaN    NaN      NaN   \n515         SNP  ...        NaN          NaN        NaN    NaN      NaN   \n516         SNP  ...        NaN          NaN        NaN    NaN      NaN   \n517         SNP  ...        NaN          NaN        NaN    NaN      NaN   \n518         SNP  ...        NaN          NaN        NaN    NaN      NaN   \n\n    GwasDisease GwasPmID  GTexGene     ModelID EntrezGeneID  \n0           NaN      NaN       NaN  ACH-000839     388581.0  \n1           NaN      NaN       NaN  ACH-000839      54897.0  \n2           NaN      NaN       NaN  ACH-000839      54897.0  \n3           NaN      NaN       NaN  ACH-000839     400736.0  \n4           NaN      NaN       NaN  ACH-000839     391003.0  \n..          ...      ...       ...         ...          ...  \n514         NaN      NaN       NaN  ACH-000839       4540.0  \n515         NaN      NaN       NaN  ACH-000839       4540.0  \n516         NaN      NaN       NaN  ACH-000839       4540.0  \n517         NaN      NaN       NaN  ACH-000839       4541.0  \n518         NaN      NaN       NaN  ACH-000839       4519.0  \n\n[519 rows x 56 columns]",
      "text/html": "<div>\n<style scoped>\n    .dataframe tbody tr th:only-of-type {\n        vertical-align: middle;\n    }\n\n    .dataframe tbody tr th {\n        vertical-align: top;\n    }\n\n    .dataframe thead th {\n        text-align: right;\n    }\n</style>\n<table border=\"1\" class=\"dataframe\">\n  <thead>\n    <tr style=\"text-align: right;\">\n      <th></th>\n      <th>Chrom</th>\n      <th>Pos</th>\n      <th>Ref</th>\n      <th>Alt</th>\n      <th>AF</th>\n      <th>RefCount</th>\n      <th>AltCount</th>\n      <th>GT</th>\n      <th>PS</th>\n      <th>VariantType</th>\n      <th>...</th>\n      <th>RevelScore</th>\n      <th>Funseq2Score</th>\n      <th>PharmgkbID</th>\n      <th>DidaID</th>\n      <th>DidaName</th>\n      <th>GwasDisease</th>\n      <th>GwasPmID</th>\n      <th>GTexGene</th>\n      <th>ModelID</th>\n      <th>EntrezGeneID</th>\n    </tr>\n  </thead>\n  <tbody>\n    <tr>\n      <th>0</th>\n      <td>chr1</td>\n      <td>1242864</td>\n      <td>GC</td>\n      <td>CT</td>\n      <td>0.310</td>\n      <td>19</td>\n      <td>8</td>\n      <td>0/1</td>\n      <td>NaN</td>\n      <td>DNP</td>\n      <td>...</td>\n      <td>NaN</td>\n      <td>NaN</td>\n      <td>NaN</td>\n      <td>NaN</td>\n      <td>NaN</td>\n      <td>NaN</td>\n      <td>NaN</td>\n      <td>NaN</td>\n      <td>ACH-000839</td>\n      <td>388581.0</td>\n    </tr>\n    <tr>\n      <th>1</th>\n      <td>chr1</td>\n      <td>10647969</td>\n      <td>A</td>\n      <td>G</td>\n      <td>0.400</td>\n      <td>29</td>\n      <td>19</td>\n      <td>0|1</td>\n      <td>10647969.0</td>\n      <td>SNP</td>\n      <td>...</td>\n      <td>0.234</td>\n      <td>3.0</td>\n      <td>NaN</td>\n      <td>NaN</td>\n      <td>NaN</td>\n      <td>NaN</td>\n      <td>NaN</td>\n      <td>NaN</td>\n      <td>ACH-000839</td>\n      <td>54897.0</td>\n    </tr>\n    <tr>\n      <th>2</th>\n      <td>chr1</td>\n      <td>10648097</td>\n      <td>T</td>\n      <td>G</td>\n      <td>0.349</td>\n      <td>21</td>\n      <td>10</td>\n      <td>0/1</td>\n      <td>NaN</td>\n      <td>SNP</td>\n      <td>...</td>\n      <td>NaN</td>\n      <td>0.0</td>\n      <td>NaN</td>\n      <td>NaN</td>\n      <td>NaN</td>\n      <td>NaN</td>\n      <td>NaN</td>\n      <td>NaN</td>\n      <td>ACH-000839</td>\n      <td>54897.0</td>\n    </tr>\n    <tr>\n      <th>3</th>\n      <td>chr1</td>\n      <td>13198424</td>\n      <td>G</td>\n      <td>A</td>\n      <td>0.833</td>\n      <td>0</td>\n      <td>4</td>\n      <td>0/1</td>\n      <td>NaN</td>\n      <td>SNP</td>\n      <td>...</td>\n      <td>0.002</td>\n      <td>NaN</td>\n      <td>NaN</td>\n      <td>NaN</td>\n      <td>NaN</td>\n      <td>NaN</td>\n      <td>NaN</td>\n      <td>NaN</td>\n      <td>ACH-000839</td>\n      <td>400736.0</td>\n    </tr>\n    <tr>\n      <th>4</th>\n      <td>chr1</td>\n      <td>13225068</td>\n      <td>A</td>\n      <td>G</td>\n      <td>0.396</td>\n      <td>34</td>\n      <td>24</td>\n      <td>0/1</td>\n      <td>NaN</td>\n      <td>SNP</td>\n      <td>...</td>\n      <td>NaN</td>\n      <td>0.0</td>\n      <td>NaN</td>\n      <td>NaN</td>\n      <td>NaN</td>\n      <td>NaN</td>\n      <td>NaN</td>\n      <td>NaN</td>\n      <td>ACH-000839</td>\n      <td>391003.0</td>\n    </tr>\n    <tr>\n      <th>...</th>\n      <td>...</td>\n      <td>...</td>\n      <td>...</td>\n      <td>...</td>\n      <td>...</td>\n      <td>...</td>\n      <td>...</td>\n      <td>...</td>\n      <td>...</td>\n      <td>...</td>\n      <td>...</td>\n      <td>...</td>\n      <td>...</td>\n      <td>...</td>\n      <td>...</td>\n      <td>...</td>\n      <td>...</td>\n      <td>...</td>\n      <td>...</td>\n      <td>...</td>\n      <td>...</td>\n    </tr>\n    <tr>\n      <th>514</th>\n      <td>chrM</td>\n      <td>13197</td>\n      <td>C</td>\n      <td>T</td>\n      <td>1.000</td>\n      <td>1</td>\n      <td>4732</td>\n      <td>1|1</td>\n      <td>NaN</td>\n      <td>SNP</td>\n      <td>...</td>\n      <td>NaN</td>\n      <td>NaN</td>\n      <td>NaN</td>\n      <td>NaN</td>\n      <td>NaN</td>\n      <td>NaN</td>\n      <td>NaN</td>\n      <td>NaN</td>\n      <td>ACH-000839</td>\n      <td>4540.0</td>\n    </tr>\n    <tr>\n      <th>515</th>\n      <td>chrM</td>\n      <td>13651</td>\n      <td>A</td>\n      <td>G</td>\n      <td>1.000</td>\n      <td>2</td>\n      <td>4645</td>\n      <td>1|1</td>\n      <td>NaN</td>\n      <td>SNP</td>\n      <td>...</td>\n      <td>NaN</td>\n      <td>NaN</td>\n      <td>NaN</td>\n      <td>NaN</td>\n      <td>NaN</td>\n      <td>NaN</td>\n      <td>NaN</td>\n      <td>NaN</td>\n      <td>ACH-000839</td>\n      <td>4540.0</td>\n    </tr>\n    <tr>\n      <th>516</th>\n      <td>chrM</td>\n      <td>13766</td>\n      <td>C</td>\n      <td>A</td>\n      <td>0.999</td>\n      <td>22</td>\n      <td>4618</td>\n      <td>1|1</td>\n      <td>NaN</td>\n      <td>SNP</td>\n      <td>...</td>\n      <td>NaN</td>\n      <td>NaN</td>\n      <td>NaN</td>\n      <td>NaN</td>\n      <td>NaN</td>\n      <td>NaN</td>\n      <td>NaN</td>\n      <td>NaN</td>\n      <td>ACH-000839</td>\n      <td>4540.0</td>\n    </tr>\n    <tr>\n      <th>517</th>\n      <td>chrM</td>\n      <td>14212</td>\n      <td>T</td>\n      <td>C</td>\n      <td>1.000</td>\n      <td>321</td>\n      <td>4705</td>\n      <td>1|1</td>\n      <td>NaN</td>\n      <td>SNP</td>\n      <td>...</td>\n      <td>NaN</td>\n      <td>NaN</td>\n      <td>NaN</td>\n      <td>NaN</td>\n      <td>NaN</td>\n      <td>NaN</td>\n      <td>NaN</td>\n      <td>NaN</td>\n      <td>ACH-000839</td>\n      <td>4541.0</td>\n    </tr>\n    <tr>\n      <th>518</th>\n      <td>chrM</td>\n      <td>15812</td>\n      <td>G</td>\n      <td>A</td>\n      <td>1.000</td>\n      <td>2</td>\n      <td>4753</td>\n      <td>1|1</td>\n      <td>NaN</td>\n      <td>SNP</td>\n      <td>...</td>\n      <td>NaN</td>\n      <td>NaN</td>\n      <td>NaN</td>\n      <td>NaN</td>\n      <td>NaN</td>\n      <td>NaN</td>\n      <td>NaN</td>\n      <td>NaN</td>\n      <td>ACH-000839</td>\n      <td>4519.0</td>\n    </tr>\n  </tbody>\n</table>\n<p>519 rows × 56 columns</p>\n</div>"
     },
     "execution_count": 77,
     "metadata": {},
     "output_type": "execute_result"
    }
   ],
   "source": [
    "mut_data[~(mut_data['HugoSymbol'].isnull()) & (mut_data['ModelID'] == 'ACH-000839')]"
   ],
   "metadata": {
    "collapsed": false,
    "ExecuteTime": {
     "start_time": "2023-12-20T16:03:28.479108400Z"
    }
   },
   "id": "a97927cd4b80c98"
  },
  {
   "cell_type": "code",
   "execution_count": null,
   "outputs": [],
   "source": [],
   "metadata": {
    "collapsed": false
   },
   "id": "6dc994ac7b97dd85"
  },
  {
   "cell_type": "code",
   "execution_count": 78,
   "outputs": [
    {
     "data": {
      "text/plain": "   Unnamed: 0  TSPAN6 (7105)  TNMD (64102)  DPM1 (8813)  SCYL3 (57147)  \\\n0  ACH-001113       4.331992      0.000000     7.364660       2.792855   \n1  ACH-001289       4.567424      0.584963     7.106641       2.543496   \n2  ACH-001339       3.150560      0.000000     7.379118       2.333424   \n3  ACH-001538       5.085340      0.000000     7.154211       2.545968   \n4  ACH-000242       6.729417      0.000000     6.537917       2.456806   \n\n   C1orf112 (55732)  FGR (2268)  CFH (3075)  FUCA2 (2519)  GCLC (2729)  ...  \\\n0          4.471187    0.028569    1.226509      3.044394     6.500005  ...   \n1          3.504620    0.000000    0.189034      3.813525     4.221877  ...   \n2          4.228049    0.056584    1.310340      6.687201     3.682573  ...   \n3          3.084064    0.000000    5.868390      6.165309     4.489928  ...   \n4          3.867896    0.799087    7.208478      5.570159     7.127117  ...   \n\n   H3C2 (8358)  H3C3 (8352)  AC098582.1 (8916)  DUS4L-BCAP29 (115253422)  \\\n0     2.689299     0.189034           0.201634                  2.130931   \n1     1.286881     1.049631           0.321928                  1.464668   \n2     0.594549     1.097611           0.831877                  2.946731   \n3     0.214125     0.632268           0.298658                  1.641546   \n4     1.117695     2.358959           0.084064                  1.910733   \n\n   C8orf44-SGK3 (100533105)  ELOA3B (728929)  NPBWR1 (2831)  \\\n0                  0.555816              0.0       0.275007   \n1                  0.632268              0.0       0.014355   \n2                  0.475085              0.0       0.084064   \n3                  0.443607              0.0       0.028569   \n4                  0.000000              0.0       0.464668   \n\n   ELOA3D (100506888)  ELOA3 (162699)  CDR1 (1038)  \n0                 0.0             0.0     0.000000  \n1                 0.0             0.0     0.000000  \n2                 0.0             0.0     0.042644  \n3                 0.0             0.0     0.000000  \n4                 0.0             0.0     0.000000  \n\n[5 rows x 19194 columns]",
      "text/html": "<div>\n<style scoped>\n    .dataframe tbody tr th:only-of-type {\n        vertical-align: middle;\n    }\n\n    .dataframe tbody tr th {\n        vertical-align: top;\n    }\n\n    .dataframe thead th {\n        text-align: right;\n    }\n</style>\n<table border=\"1\" class=\"dataframe\">\n  <thead>\n    <tr style=\"text-align: right;\">\n      <th></th>\n      <th>Unnamed: 0</th>\n      <th>TSPAN6 (7105)</th>\n      <th>TNMD (64102)</th>\n      <th>DPM1 (8813)</th>\n      <th>SCYL3 (57147)</th>\n      <th>C1orf112 (55732)</th>\n      <th>FGR (2268)</th>\n      <th>CFH (3075)</th>\n      <th>FUCA2 (2519)</th>\n      <th>GCLC (2729)</th>\n      <th>...</th>\n      <th>H3C2 (8358)</th>\n      <th>H3C3 (8352)</th>\n      <th>AC098582.1 (8916)</th>\n      <th>DUS4L-BCAP29 (115253422)</th>\n      <th>C8orf44-SGK3 (100533105)</th>\n      <th>ELOA3B (728929)</th>\n      <th>NPBWR1 (2831)</th>\n      <th>ELOA3D (100506888)</th>\n      <th>ELOA3 (162699)</th>\n      <th>CDR1 (1038)</th>\n    </tr>\n  </thead>\n  <tbody>\n    <tr>\n      <th>0</th>\n      <td>ACH-001113</td>\n      <td>4.331992</td>\n      <td>0.000000</td>\n      <td>7.364660</td>\n      <td>2.792855</td>\n      <td>4.471187</td>\n      <td>0.028569</td>\n      <td>1.226509</td>\n      <td>3.044394</td>\n      <td>6.500005</td>\n      <td>...</td>\n      <td>2.689299</td>\n      <td>0.189034</td>\n      <td>0.201634</td>\n      <td>2.130931</td>\n      <td>0.555816</td>\n      <td>0.0</td>\n      <td>0.275007</td>\n      <td>0.0</td>\n      <td>0.0</td>\n      <td>0.000000</td>\n    </tr>\n    <tr>\n      <th>1</th>\n      <td>ACH-001289</td>\n      <td>4.567424</td>\n      <td>0.584963</td>\n      <td>7.106641</td>\n      <td>2.543496</td>\n      <td>3.504620</td>\n      <td>0.000000</td>\n      <td>0.189034</td>\n      <td>3.813525</td>\n      <td>4.221877</td>\n      <td>...</td>\n      <td>1.286881</td>\n      <td>1.049631</td>\n      <td>0.321928</td>\n      <td>1.464668</td>\n      <td>0.632268</td>\n      <td>0.0</td>\n      <td>0.014355</td>\n      <td>0.0</td>\n      <td>0.0</td>\n      <td>0.000000</td>\n    </tr>\n    <tr>\n      <th>2</th>\n      <td>ACH-001339</td>\n      <td>3.150560</td>\n      <td>0.000000</td>\n      <td>7.379118</td>\n      <td>2.333424</td>\n      <td>4.228049</td>\n      <td>0.056584</td>\n      <td>1.310340</td>\n      <td>6.687201</td>\n      <td>3.682573</td>\n      <td>...</td>\n      <td>0.594549</td>\n      <td>1.097611</td>\n      <td>0.831877</td>\n      <td>2.946731</td>\n      <td>0.475085</td>\n      <td>0.0</td>\n      <td>0.084064</td>\n      <td>0.0</td>\n      <td>0.0</td>\n      <td>0.042644</td>\n    </tr>\n    <tr>\n      <th>3</th>\n      <td>ACH-001538</td>\n      <td>5.085340</td>\n      <td>0.000000</td>\n      <td>7.154211</td>\n      <td>2.545968</td>\n      <td>3.084064</td>\n      <td>0.000000</td>\n      <td>5.868390</td>\n      <td>6.165309</td>\n      <td>4.489928</td>\n      <td>...</td>\n      <td>0.214125</td>\n      <td>0.632268</td>\n      <td>0.298658</td>\n      <td>1.641546</td>\n      <td>0.443607</td>\n      <td>0.0</td>\n      <td>0.028569</td>\n      <td>0.0</td>\n      <td>0.0</td>\n      <td>0.000000</td>\n    </tr>\n    <tr>\n      <th>4</th>\n      <td>ACH-000242</td>\n      <td>6.729417</td>\n      <td>0.000000</td>\n      <td>6.537917</td>\n      <td>2.456806</td>\n      <td>3.867896</td>\n      <td>0.799087</td>\n      <td>7.208478</td>\n      <td>5.570159</td>\n      <td>7.127117</td>\n      <td>...</td>\n      <td>1.117695</td>\n      <td>2.358959</td>\n      <td>0.084064</td>\n      <td>1.910733</td>\n      <td>0.000000</td>\n      <td>0.0</td>\n      <td>0.464668</td>\n      <td>0.0</td>\n      <td>0.0</td>\n      <td>0.000000</td>\n    </tr>\n  </tbody>\n</table>\n<p>5 rows × 19194 columns</p>\n</div>"
     },
     "execution_count": 78,
     "metadata": {},
     "output_type": "execute_result"
    }
   ],
   "source": [
    "exp_data.head()"
   ],
   "metadata": {
    "collapsed": false,
    "ExecuteTime": {
     "start_time": "2023-12-20T16:07:43.471478400Z"
    }
   },
   "id": "a9a5d4dd32a47d50"
  },
  {
   "cell_type": "code",
   "execution_count": 41,
   "outputs": [
    {
     "data": {
      "text/plain": "1408099"
     },
     "execution_count": 41,
     "metadata": {},
     "output_type": "execute_result"
    }
   ],
   "source": [
    "mut_data.head()\n",
    "len(mut_data)"
   ],
   "metadata": {
    "collapsed": false,
    "ExecuteTime": {
     "start_time": "2023-12-20T14:07:54.917166900Z"
    }
   },
   "id": "30c59cb6afc08799"
  },
  {
   "cell_type": "code",
   "execution_count": 150,
   "outputs": [],
   "source": [
    "# Get lists of genes in the expression and dependency files\n",
    "exp_genes = exp_data.columns.tolist()\n",
    "dep_genes = dep_data.columns.tolist()"
   ],
   "metadata": {
    "collapsed": false,
    "ExecuteTime": {
     "end_time": "2023-12-21T22:50:09.080511100Z",
     "start_time": "2023-12-21T22:50:09.064903100Z"
    }
   },
   "id": "4c6834915c1834ab"
  },
  {
   "cell_type": "code",
   "execution_count": 151,
   "outputs": [
    {
     "name": "stdout",
     "output_type": "stream",
     "text": [
      "    HGNC ID Entrez ID\n",
      "0    TSPAN6      7105\n",
      "1      TNMD     64102\n",
      "2      DPM1      8813\n",
      "3     SCYL3     57147\n",
      "4  C1orf112     55732\n",
      "   HGNC ID Entrez ID\n",
      "1     A1BG         1\n",
      "2     A1CF     29974\n",
      "3      A2M         2\n",
      "4    A2ML1    144568\n",
      "5  A3GALT2    127550\n",
      "19193\n",
      "17931\n",
      "17800\n"
     ]
    }
   ],
   "source": [
    "def split_gene_names(gene_list):\n",
    "    keys = []\n",
    "    values = []\n",
    "    for item in gene_list:\n",
    "        if ' (' in item:\n",
    "            key, value = item.split(' (')\n",
    "            value = value.rstrip(')')  # Remove the closing parenthesis\n",
    "            keys.append(key)\n",
    "            values.append(value)\n",
    "        else:\n",
    "            # Handle the case where the item does not match the expected format\n",
    "            keys.append(item)\n",
    "            values.append(None)  # Or a placeholder value of your choice\n",
    "    \n",
    "    # Creating the DataFrame\n",
    "    return pd.DataFrame({'HGNC ID': keys, 'Entrez ID': values})\n",
    "\n",
    "exp_genes_df = split_gene_names(exp_genes)\n",
    "dep_genes_df = split_gene_names(dep_genes)\n",
    "dep_genes_df = dep_genes_df[dep_genes_df['HGNC ID'] != 'ModelID']\n",
    "\n",
    "print(exp_genes_df.head())\n",
    "print(dep_genes_df.head())\n",
    "\n",
    "exp_genes = set(exp_genes_df['HGNC ID'])\n",
    "dep_genes = set(dep_genes_df['HGNC ID'])\n",
    "valid_depmap_genes = exp_genes.intersection(dep_genes)\n",
    "\n",
    "print(len(exp_genes))\n",
    "print(len(dep_genes))\n",
    "print(len(valid_depmap_genes))"
   ],
   "metadata": {
    "collapsed": false,
    "ExecuteTime": {
     "end_time": "2023-12-21T22:50:11.427606900Z",
     "start_time": "2023-12-21T22:50:11.396354300Z"
    }
   },
   "id": "bd82fb77e738b0e3"
  },
  {
   "cell_type": "code",
   "execution_count": 136,
   "outputs": [],
   "source": [
    "ensembl_biomart = pd.read_csv(biomart_path + '\\\\ensembl_biomart_21_12_23.csv')\n",
    "hgnc_biomart = pd.read_csv(biomart_path + '\\\\hgnc_biomart_21_12_23.txt', sep='\\t')"
   ],
   "metadata": {
    "collapsed": false,
    "ExecuteTime": {
     "end_time": "2023-12-21T22:33:03.153768700Z",
     "start_time": "2023-12-21T22:33:02.886262800Z"
    }
   },
   "id": "91c5bb82061df910"
  },
  {
   "cell_type": "code",
   "execution_count": 152,
   "outputs": [
    {
     "data": {
      "text/plain": "   Unnamed: 0   Gene stable ID HGNC symbol Chromosome/scaffold name  \\\n0           0  ENSG00000198888      MT-ND1                       MT   \n1           1  ENSG00000198763      MT-ND2                       MT   \n2           2  ENSG00000198804      MT-CO1                       MT   \n3           3  ENSG00000198712      MT-CO2                       MT   \n4           4  ENSG00000228253     MT-ATP8                       MT   \n\n  Transcript stable ID Protein stable ID UniProtKB/TrEMBL ID  \\\n0      ENST00000361390   ENSP00000354687              U5Z754   \n1      ENST00000361453   ENSP00000355046              Q7GXY9   \n2      ENST00000361624   ENSP00000354499              U5YWV7   \n3      ENST00000361739   ENSP00000354876              U5Z487   \n4      ENST00000361851   ENSP00000355265              U5YV54   \n\n  UniProtKB/Swiss-Prot ID  \n0                  P03886  \n1                  P03891  \n2                  P00395  \n3                  P00403  \n4                  P03928  ",
      "text/html": "<div>\n<style scoped>\n    .dataframe tbody tr th:only-of-type {\n        vertical-align: middle;\n    }\n\n    .dataframe tbody tr th {\n        vertical-align: top;\n    }\n\n    .dataframe thead th {\n        text-align: right;\n    }\n</style>\n<table border=\"1\" class=\"dataframe\">\n  <thead>\n    <tr style=\"text-align: right;\">\n      <th></th>\n      <th>Unnamed: 0</th>\n      <th>Gene stable ID</th>\n      <th>HGNC symbol</th>\n      <th>Chromosome/scaffold name</th>\n      <th>Transcript stable ID</th>\n      <th>Protein stable ID</th>\n      <th>UniProtKB/TrEMBL ID</th>\n      <th>UniProtKB/Swiss-Prot ID</th>\n    </tr>\n  </thead>\n  <tbody>\n    <tr>\n      <th>0</th>\n      <td>0</td>\n      <td>ENSG00000198888</td>\n      <td>MT-ND1</td>\n      <td>MT</td>\n      <td>ENST00000361390</td>\n      <td>ENSP00000354687</td>\n      <td>U5Z754</td>\n      <td>P03886</td>\n    </tr>\n    <tr>\n      <th>1</th>\n      <td>1</td>\n      <td>ENSG00000198763</td>\n      <td>MT-ND2</td>\n      <td>MT</td>\n      <td>ENST00000361453</td>\n      <td>ENSP00000355046</td>\n      <td>Q7GXY9</td>\n      <td>P03891</td>\n    </tr>\n    <tr>\n      <th>2</th>\n      <td>2</td>\n      <td>ENSG00000198804</td>\n      <td>MT-CO1</td>\n      <td>MT</td>\n      <td>ENST00000361624</td>\n      <td>ENSP00000354499</td>\n      <td>U5YWV7</td>\n      <td>P00395</td>\n    </tr>\n    <tr>\n      <th>3</th>\n      <td>3</td>\n      <td>ENSG00000198712</td>\n      <td>MT-CO2</td>\n      <td>MT</td>\n      <td>ENST00000361739</td>\n      <td>ENSP00000354876</td>\n      <td>U5Z487</td>\n      <td>P00403</td>\n    </tr>\n    <tr>\n      <th>4</th>\n      <td>4</td>\n      <td>ENSG00000228253</td>\n      <td>MT-ATP8</td>\n      <td>MT</td>\n      <td>ENST00000361851</td>\n      <td>ENSP00000355265</td>\n      <td>U5YV54</td>\n      <td>P03928</td>\n    </tr>\n  </tbody>\n</table>\n</div>"
     },
     "execution_count": 152,
     "metadata": {},
     "output_type": "execute_result"
    }
   ],
   "source": [
    "ensembl_biomart.head()"
   ],
   "metadata": {
    "collapsed": false,
    "ExecuteTime": {
     "end_time": "2023-12-21T23:48:51.006746200Z",
     "start_time": "2023-12-21T23:48:50.975090500Z"
    }
   },
   "id": "c3a9bbf84157496c"
  },
  {
   "cell_type": "code",
   "execution_count": 153,
   "outputs": [
    {
     "data": {
      "text/plain": "      HGNC ID    Status Approved symbol UniProt accession  Ensembl gene ID  \\\n0      HGNC:5  Approved            A1BG            P04217  ENSG00000121410   \n1  HGNC:24086  Approved            A1CF            Q9NQ94  ENSG00000148584   \n2  HGNC:24086  Approved            A1CF            Q9NQ94  ENSG00000148584   \n3  HGNC:24086  Approved            A1CF            Q9NQ94  ENSG00000148584   \n4  HGNC:24086  Approved            A1CF            Q9NQ94  ENSG00000148584   \n\n                    Approved name Alias symbol Previous symbol Alias name  \\\n0          alpha-1-B glycoprotein          NaN             NaN        NaN   \n1  APOBEC1 complementation factor          ACF             NaN        NaN   \n2  APOBEC1 complementation factor          ASP             NaN        NaN   \n3  APOBEC1 complementation factor        ACF64             NaN        NaN   \n4  APOBEC1 complementation factor        ACF65             NaN        NaN   \n\n   NCBI gene ID  \n0           1.0  \n1       29974.0  \n2       29974.0  \n3       29974.0  \n4       29974.0  ",
      "text/html": "<div>\n<style scoped>\n    .dataframe tbody tr th:only-of-type {\n        vertical-align: middle;\n    }\n\n    .dataframe tbody tr th {\n        vertical-align: top;\n    }\n\n    .dataframe thead th {\n        text-align: right;\n    }\n</style>\n<table border=\"1\" class=\"dataframe\">\n  <thead>\n    <tr style=\"text-align: right;\">\n      <th></th>\n      <th>HGNC ID</th>\n      <th>Status</th>\n      <th>Approved symbol</th>\n      <th>UniProt accession</th>\n      <th>Ensembl gene ID</th>\n      <th>Approved name</th>\n      <th>Alias symbol</th>\n      <th>Previous symbol</th>\n      <th>Alias name</th>\n      <th>NCBI gene ID</th>\n    </tr>\n  </thead>\n  <tbody>\n    <tr>\n      <th>0</th>\n      <td>HGNC:5</td>\n      <td>Approved</td>\n      <td>A1BG</td>\n      <td>P04217</td>\n      <td>ENSG00000121410</td>\n      <td>alpha-1-B glycoprotein</td>\n      <td>NaN</td>\n      <td>NaN</td>\n      <td>NaN</td>\n      <td>1.0</td>\n    </tr>\n    <tr>\n      <th>1</th>\n      <td>HGNC:24086</td>\n      <td>Approved</td>\n      <td>A1CF</td>\n      <td>Q9NQ94</td>\n      <td>ENSG00000148584</td>\n      <td>APOBEC1 complementation factor</td>\n      <td>ACF</td>\n      <td>NaN</td>\n      <td>NaN</td>\n      <td>29974.0</td>\n    </tr>\n    <tr>\n      <th>2</th>\n      <td>HGNC:24086</td>\n      <td>Approved</td>\n      <td>A1CF</td>\n      <td>Q9NQ94</td>\n      <td>ENSG00000148584</td>\n      <td>APOBEC1 complementation factor</td>\n      <td>ASP</td>\n      <td>NaN</td>\n      <td>NaN</td>\n      <td>29974.0</td>\n    </tr>\n    <tr>\n      <th>3</th>\n      <td>HGNC:24086</td>\n      <td>Approved</td>\n      <td>A1CF</td>\n      <td>Q9NQ94</td>\n      <td>ENSG00000148584</td>\n      <td>APOBEC1 complementation factor</td>\n      <td>ACF64</td>\n      <td>NaN</td>\n      <td>NaN</td>\n      <td>29974.0</td>\n    </tr>\n    <tr>\n      <th>4</th>\n      <td>HGNC:24086</td>\n      <td>Approved</td>\n      <td>A1CF</td>\n      <td>Q9NQ94</td>\n      <td>ENSG00000148584</td>\n      <td>APOBEC1 complementation factor</td>\n      <td>ACF65</td>\n      <td>NaN</td>\n      <td>NaN</td>\n      <td>29974.0</td>\n    </tr>\n  </tbody>\n</table>\n</div>"
     },
     "execution_count": 153,
     "metadata": {},
     "output_type": "execute_result"
    }
   ],
   "source": [
    "hgnc_biomart.head()"
   ],
   "metadata": {
    "collapsed": false,
    "ExecuteTime": {
     "end_time": "2023-12-21T23:53:31.836600500Z",
     "start_time": "2023-12-21T23:53:31.820967700Z"
    }
   },
   "id": "32581178ee7ecd0"
  },
  {
   "cell_type": "code",
   "execution_count": 145,
   "outputs": [
    {
     "name": "stdout",
     "output_type": "stream",
     "text": [
      "19845\n",
      "19393\n"
     ]
    },
    {
     "data": {
      "text/plain": "{'LRP1B',\n 'KIRREL2',\n 'ADRM1',\n 'PMPCB',\n 'RPS6KA6',\n 'KRT17',\n 'CPNE8',\n 'FAM171A1',\n 'IGFALS',\n 'PAX8',\n 'PNMA6A',\n 'FSHB',\n 'KCNH5',\n 'TRIM66',\n 'HJURP',\n 'MYPOP',\n 'IL1RAP',\n 'NUTF2',\n 'FAM47C',\n 'SEC14L2',\n 'GATAD2A',\n 'KCNMB1',\n 'MGAT3',\n 'ADAP1',\n 'ZNF66',\n 'MAB21L2',\n 'ATP13A3',\n 'MORC4',\n 'RNF144B',\n 'ZMYM6',\n 'OR7G2',\n 'TCF20',\n 'GPRIN3',\n 'KCNMB3',\n 'MAB21L3',\n 'MT-CO1',\n 'AQR',\n 'CBX5',\n 'RPL5',\n 'GULP1',\n 'FANCC',\n 'BRD7',\n 'SMIM45',\n 'OR5B2',\n 'PRKAR1A',\n 'DDAH2',\n 'DOK1',\n 'DPPA4',\n 'PELI3',\n 'B3GAT3',\n 'DNAJC8',\n 'C9orf33',\n 'GEN1',\n 'ITPK1',\n 'KLF8',\n 'KRTAP22-2',\n 'ZAR1L',\n 'DPH1',\n 'JMJD7',\n 'NACC2',\n 'ZNF199',\n 'HSP90AB1',\n 'ACAT2',\n 'DDAH1',\n 'PASK',\n 'POLD4',\n 'MTX3',\n 'SCAF1',\n 'ALDH1L1',\n 'SNED1',\n 'TMEM241',\n 'CDKN1A',\n 'ANLN',\n 'ARHGAP23',\n 'PGRMC1',\n 'LGALS13',\n 'INTS15',\n 'NDC80',\n 'MMP7',\n 'COG8',\n 'GNAQ',\n 'STK10',\n 'ECI2',\n 'AIMP1',\n 'OTUD4',\n 'POU3F4',\n 'ETV4',\n 'MAGEA8',\n 'MSRB3',\n 'NMNAT2',\n 'KRTAP10-11',\n 'OOSP3',\n 'AVIL',\n 'CHST9',\n 'DYNLT3',\n 'RILPL1',\n 'STEAP1',\n 'TLR1',\n 'ACTG2',\n 'GK2',\n 'SLC2A8',\n 'OR10A6',\n 'PILRA',\n 'NUP58',\n 'ADAM17',\n 'CACNA2D4',\n 'NPIPA9',\n 'SHPRH',\n 'KLHL36',\n 'SOCS6',\n 'LSM5',\n 'CPED1',\n 'QARS1',\n 'TK1',\n 'FBLN2',\n 'WEE1',\n 'ASCL3',\n 'SYNGR1',\n 'MAP1LC3A',\n 'TMEM59',\n 'ARAF',\n 'ZNF827',\n 'ACIN1',\n 'ADRA1D',\n 'TPPP',\n 'ERMAP',\n 'UPK3A',\n 'OR5H2',\n 'UFSP2',\n 'TCF24',\n 'FGFRL1',\n 'TRO',\n 'B4GAT1',\n 'IHH',\n 'OGFR',\n 'ATRAID',\n 'MOS',\n 'NTMT2',\n 'RLBP1',\n 'LENG6',\n 'VPS26A',\n 'C16orf87',\n 'FAM162B',\n 'CD81',\n 'GRB7',\n 'LRRC61',\n 'OR51B4',\n 'GATD1',\n 'SIRT7',\n 'HNRNPDL',\n 'RSPH3',\n 'ANP32B',\n 'ZNF219',\n 'MEPE',\n 'ZSCAN12',\n 'CSNK2A1',\n 'HRK',\n 'VMP1',\n 'AZIN2',\n 'ZSCAN26',\n 'PKP4',\n 'GJB4',\n 'CGRRF1',\n 'DCSTAMP',\n 'APIP',\n 'CLTRN',\n 'INSL4',\n 'PCBP2',\n 'DPP4',\n 'HMGA2',\n 'DCHS2',\n 'L3MBTL2',\n 'PIK3CB',\n 'NPR1',\n 'SPRR2B',\n 'CABP7',\n 'CORT',\n 'GLIS3',\n 'OR4N4',\n 'GSTO1',\n 'SYNDIG1',\n 'TSPO',\n 'GLT1D1',\n 'H3C10',\n 'FAT4',\n 'EGFR',\n 'KANSL1',\n 'IFNA21',\n 'SHANK1',\n 'KRT3',\n 'SLC9B1',\n 'COLGALT1',\n 'DYM',\n 'SOX14',\n 'ZNF263',\n 'PDIA6',\n 'ZNF414',\n 'CNPY2',\n 'ZNF454',\n 'ORMDL1',\n 'MAPK8',\n 'IGF1',\n 'TRIM74',\n 'CNTN4',\n 'NUTM2B',\n 'HSD17B7',\n 'WDR19',\n 'CCDC163',\n 'AATK',\n 'CAMK2A',\n 'EPHB6',\n 'MGAT4C',\n 'SNUPN',\n 'LIPE',\n 'APOL5',\n 'HAUS2',\n 'CCL3L1',\n 'MAP3K13',\n 'PRELID1',\n 'SDAD1',\n 'NMI',\n 'GALC',\n 'NDE1',\n 'ZNF740',\n 'ZNF354B',\n 'GRIP2',\n 'MMP26',\n 'MTMR12',\n 'GEMIN4',\n 'UBTD2',\n 'FOXO3',\n 'ZNF71',\n 'HNRNPK',\n 'MUSK',\n 'CLCN2',\n 'CMTM2',\n 'CREB3L2',\n 'ZNF251',\n 'OR6C3',\n 'ZNF200',\n 'RASD1',\n 'TEX35',\n 'GORAB',\n 'ZNF816',\n 'CSTPP1',\n 'KPNA5',\n 'JOSD2',\n 'NLRP9',\n 'SNX16',\n 'POTEM',\n 'PRAMEF14',\n 'LRRC4',\n 'CELSR2',\n 'SOCS1',\n 'PEAK3',\n 'ARHGEF3',\n 'CCDC54',\n 'FRMD8',\n 'IGSF8',\n 'JADE3',\n 'RAPGEF5',\n 'FRZB',\n 'SCARF1',\n 'SPAAR',\n 'CD300LF',\n 'STX1A',\n 'CD300LB',\n 'CTRL',\n 'FAM25A',\n 'MNAT1',\n 'PIDD1',\n 'CARD16',\n 'ZNF766',\n 'ZSCAN5B',\n 'CGB2',\n 'CELA2A',\n 'KRTAP13-4',\n 'TMEM237',\n 'MCM6',\n 'HLA-DMB',\n 'HDAC9',\n 'TMT1B',\n 'OASL',\n 'SF3B6',\n 'ZNF3',\n 'SLC23A2',\n 'TRIM14',\n 'NBPF4',\n 'BTN3A1',\n 'TMEM218',\n 'ZNF41',\n 'ADAM8',\n 'ERN2',\n 'TOX3',\n 'GUCA2B',\n 'OR5D14',\n 'ACTL8',\n 'CC2D2A',\n 'PPIG',\n 'TEX51',\n 'NOXA1',\n 'SYN3',\n 'VWF',\n 'WDR64',\n 'LIN54',\n 'PPIL3',\n 'FAR1',\n 'FBXW2',\n 'LCORL',\n 'IRF1',\n 'IL17RD',\n 'ANXA11',\n 'WDR89',\n 'LGALS16',\n 'PALM2AKAP2',\n 'DDX50',\n 'PKHD1',\n 'BEND3',\n 'KREMEN2',\n 'ADAMTS3',\n 'KLHL33',\n 'MYO1B',\n 'POTEB',\n 'TAGAP',\n 'BORCS8',\n 'ANKUB1',\n 'TMED10',\n 'UEVLD',\n 'COX20',\n 'LNPK',\n 'ZNF208',\n 'FAM174A',\n 'ADCY8',\n 'SPAG8',\n 'TCTN3',\n 'TSPY3',\n 'APOBEC3A_B',\n 'LY96',\n 'PPIL6',\n 'RIMKLA',\n 'LCE3C',\n 'KRT34',\n 'RSPH10B',\n 'OAT',\n 'CCDC34',\n 'ZNF670',\n 'TRIM77',\n 'CYP20A1',\n 'MSL3',\n 'LRP11',\n 'CWC27',\n 'MKRN1',\n 'PLAGL2',\n 'WBP4',\n 'MINAR2',\n 'CCNB1',\n 'TMEM126A',\n 'SMOC1',\n 'ZNF658',\n 'TMEM200C',\n 'SCGB2B2',\n 'NFAT5',\n 'DNAH11',\n 'CENPT',\n 'SHROOM1',\n 'IFT46',\n 'LRIG3',\n 'OR2T4',\n 'COL27A1',\n 'OR13D1',\n 'SOWAHC',\n 'AFG3L2',\n 'TAF1B',\n 'TAS2R45',\n 'TUBA3D',\n 'TRIM27',\n 'SLC45A2',\n 'TTC19',\n 'PSMA8',\n 'FGR',\n 'MAN1B1',\n 'SHE',\n 'DNAJA2',\n 'HDAC3',\n 'HMOX2',\n 'MAGEA12',\n 'GABARAPL1',\n 'RSPH14',\n 'SLC9A8',\n 'STAU2',\n 'HSD17B4',\n 'SYT4',\n 'EBPL',\n 'FZD9',\n 'OR1J2',\n 'OR10AG1',\n 'PDE12',\n 'SCGB1C2',\n 'GPR107',\n 'KLHL8',\n 'TTPAL',\n 'TUBA8',\n 'KIAA0408',\n 'VRK1',\n 'ARRDC3',\n 'C1orf226',\n 'CD3E',\n 'SENP2',\n 'UAP1L1',\n 'CDX4',\n 'HNF1A',\n 'HOXB3',\n 'ACO2',\n 'LMOD3',\n 'DST',\n 'SLC24A4',\n 'AIG1',\n 'RCBTB1',\n 'TBCD',\n 'PITHD1',\n 'ITPA',\n 'CRYGD',\n 'WDR76',\n 'ADAMTSL4',\n 'UNC50',\n 'TMEM164',\n 'IFITM5',\n 'TOR1A',\n 'KMT5B',\n 'RSRP1',\n 'SSX2',\n 'MAPRE3',\n 'SYVN1',\n 'FOSL1',\n 'SLC46A3',\n 'SEPTIN11',\n 'ZBTB26',\n 'PPP1R14A',\n 'MRPL46',\n 'LRRC39',\n 'WDR11',\n 'COL13A1',\n 'TXNDC9',\n 'CROCC',\n 'PRKN',\n 'MON2',\n 'PGF',\n 'PHYHD1',\n 'DCST1',\n 'ATP5MC2',\n 'TNP1',\n 'CYB5D1',\n 'TCEAL5',\n 'FMO5',\n 'CCDC59',\n 'SSU72',\n 'DMXL1',\n 'NPTXR',\n 'SLC35E2B',\n 'MGMT',\n 'THAP7',\n 'KCNK5',\n 'TMEM50B',\n 'SLC22A17',\n 'DCAF10',\n 'SNRPB2',\n 'GGT5',\n 'COL4A2',\n 'MDH1B',\n 'ARX',\n 'NUDT1',\n 'GNGT2',\n 'CENPA',\n 'PROZ',\n 'OR4Q2',\n 'SPINK13',\n 'OLIG2',\n 'NKD2',\n 'CA12',\n 'CAMKMT',\n 'HEATR4',\n 'BRD1',\n 'TMEM14A',\n 'ZC3H13',\n 'LRRCC1',\n 'IL32',\n 'ZNF436',\n 'MAGEA10',\n 'TARDBP',\n 'MFAP3',\n 'EIF3M',\n 'ZNF625',\n 'DNAAF1',\n 'MEDAG',\n 'RNF157',\n 'SACM1L',\n 'ZDHHC14',\n 'MRPL42',\n 'IL36A',\n 'PITPNM2',\n 'MAN2B2',\n 'BOC',\n 'SEMA4C',\n 'SH3PXD2A',\n 'LTK',\n 'SRFBP1',\n 'ZFP36',\n 'B4GALT6',\n 'MDC1',\n 'CARD9',\n 'RBPMS2',\n 'IFNL3',\n 'RAD21',\n 'DACT1',\n 'SLC35G6',\n 'TDRKH',\n 'KRTAP5-3',\n 'CATIP',\n 'CA10',\n 'AP3S1',\n 'CHRM5',\n 'YIPF4',\n 'PABPC5',\n 'KRT6B',\n 'PDIK1L',\n 'RGS2',\n 'ATP12A',\n 'CCDC148',\n 'ARRDC5',\n 'LRRC32',\n 'MS4A8',\n 'ZNF442',\n 'AMD1',\n 'MIDN',\n 'RPS14',\n 'TTC12',\n 'ZNF273',\n 'SH3BGRL2',\n 'DCAF6',\n 'RTCB',\n 'FAM217B',\n 'GNPDA2',\n 'NRL',\n 'SPIRE2',\n 'TAL2',\n 'PLGRKT',\n 'SEC31B',\n 'MANBA',\n 'RET',\n 'ZNF622',\n 'KCNK7',\n 'KIF18B',\n 'ZNF343',\n 'RUNX3',\n 'THG1L',\n 'H1-1',\n 'ANKRD36',\n 'HSF2',\n 'IGF2BP3',\n 'JAK2',\n 'LRRC3',\n 'ARHGEF40',\n 'MRGPRD',\n 'C1orf131',\n 'CCDC13',\n 'KLK1',\n 'ILKAP',\n 'MAU2',\n 'GCKR',\n 'CREM',\n 'NAPA',\n 'OR10J1',\n 'CXCL14',\n 'TRIM28',\n 'C8orf15',\n 'ANKRD53',\n 'GABRQ',\n 'FOXD4L4',\n 'POLR3F',\n 'STX18',\n 'XCL1',\n 'CEP170',\n 'SMLR1',\n 'EFTUD2',\n 'SPATA13',\n 'OR52A1',\n 'DNAJB5',\n 'CDX1',\n 'OXR1',\n 'TRIM45',\n 'PAPSS1',\n 'B4GALT7',\n 'KATNB1',\n 'ZBTB12',\n 'GPX1',\n 'PTGER4',\n 'FMC1',\n 'NOX3',\n 'SLC30A1',\n 'FAM53B',\n 'IDO2',\n 'ABCC10',\n 'PSG5',\n 'SPG11',\n 'ZIM3',\n 'ZNF713',\n 'PTRHD1',\n 'LPAR3',\n 'RELB',\n 'HLA-DRB3',\n 'FAM90A24',\n 'ATP6V1D',\n 'C2orf49',\n 'MAN1C1',\n 'GALNT10',\n 'SLC40A1',\n 'PDE4D',\n 'GOLGA8T',\n 'SRSF11',\n 'DDX49',\n 'PLXNB2',\n 'GRAMD1C',\n 'CCDC70',\n 'SLCO6A1',\n 'GNG7',\n 'ZZEF1',\n 'CD24',\n 'OR1E1',\n 'POPDC2',\n 'HSD11B2',\n 'ZNF112',\n 'FASTKD1',\n 'SDSL',\n 'SPATC1L',\n 'CYP2E1',\n 'NELL2',\n 'ASPDH',\n 'MPZL2',\n 'HLA-DRB1',\n 'ITGB3',\n 'DHRS7',\n 'CD3G',\n 'SLC25A52',\n 'MYO18A',\n 'MYOM1',\n 'VANGL2',\n 'MIEN1',\n 'EHD3',\n 'GRM4',\n 'MFSD2B',\n 'HNMT',\n 'NKAIN2',\n 'B2M',\n 'BUB3',\n 'MTA1',\n 'CNTN6',\n 'SYT2',\n 'OR13H1',\n 'CTSH',\n 'RGS1',\n 'PGAP6',\n 'SLC14A2',\n 'HLTF',\n 'SPRY4',\n 'COX5B',\n 'FNTB',\n 'TRIM11',\n 'EID2B',\n 'SRD5A3',\n 'NME5',\n 'STK39',\n 'PYY',\n 'ACTR3B',\n 'IL21R',\n 'POLR3B',\n 'TMC6',\n 'UNC5B',\n 'CHRM4',\n 'ZNF335',\n 'STK35',\n 'RPL6',\n 'ASB11',\n 'SUGT1',\n 'TRMO',\n 'KLHDC1',\n 'CSGALNACT1',\n 'GPR132',\n 'TMEM19',\n 'TUFT1',\n 'SEC61B',\n 'RNLS',\n 'OR52E2',\n 'UROD',\n 'VCL',\n 'OTOGL',\n 'GH2',\n 'RYBP',\n 'ACLY',\n 'ROBO3',\n 'MRC2',\n 'IRS2',\n 'PLEKHA4',\n 'CYP2U1',\n 'RWDD1',\n 'SSPN',\n 'HIC2',\n 'OR4C6',\n 'RGS11',\n 'TSPY2',\n 'ATOH8',\n 'PML',\n 'TMEM8B',\n 'C11orf26',\n 'JPH3',\n 'PLSCR2',\n 'PNPT1',\n 'AK3',\n 'ALG8',\n 'C9orf40',\n 'SHBG',\n 'CFAP77',\n 'CXCL11',\n 'MAP6D1',\n 'UBQLN4',\n 'ANKRD26',\n 'SAMD4B',\n 'ARHGAP40',\n 'COMMD10',\n 'GTPBP2',\n 'SMARCA2',\n 'LYPD1',\n 'GOT2',\n 'FRRS1L',\n 'SHANK2',\n 'SPANXC',\n 'UNC93B1',\n 'FTH1',\n 'NAGA',\n 'HDAC11',\n 'ZNF44',\n 'OR6A2',\n 'IGH',\n 'CDIN1',\n 'ATG5',\n 'CASKIN1',\n 'CYP1A1',\n 'IMPG1',\n 'SIGLEC8',\n 'ARPC1B',\n 'CALML3',\n 'H1-3',\n 'PRR15L',\n 'TRMT112',\n 'MECOM',\n 'NT5C3A',\n 'GPR174',\n 'RPRD1B',\n 'LRRC10B',\n 'CT47A4',\n 'ASB2',\n 'CYP2B6',\n 'EVA1A',\n 'KLK3',\n 'TMEM229A',\n 'PVR',\n 'KIF13A',\n 'CCL28',\n 'CARD6',\n 'FANCM',\n 'ADAM22',\n 'WTAP',\n 'POLI',\n 'TMEM255A',\n 'GARS1',\n 'LAMC3',\n 'CHD5',\n 'NLRP6',\n 'UMODL1',\n 'TNPO2',\n 'TACC1',\n 'NDUFAF5',\n 'ATP2A1',\n 'BDKRB2',\n 'PGBD1',\n 'PDCL3',\n 'TEX9',\n 'ALKBH6',\n 'FBL',\n 'AGTRAP',\n 'PLEKHA1',\n 'C1orf53',\n 'ABCA7',\n 'G3BP2',\n 'IPO4',\n 'KRT77',\n 'MAG',\n 'CEP55',\n 'RAB29',\n 'PHPT1',\n 'NXPH1',\n 'NAA50',\n 'SHLD3',\n 'CRLS1',\n 'PPM1L',\n 'ZNF619',\n 'ABRA',\n 'PRORP',\n 'PRY2',\n 'NHS',\n 'TRIM42',\n 'ZNF493',\n 'CDH1',\n 'IPPK',\n 'CIZ1',\n 'MUC13',\n 'PICK1',\n 'STYXL1',\n 'TMEM167A',\n 'MYL11',\n 'AQP7B',\n 'CD40',\n 'RITA1',\n 'OR2J1',\n 'XRCC4',\n 'APOBEC3C',\n 'TBC1D3F',\n 'CHP1',\n 'HOXC9',\n 'KIR2DS2',\n 'UBN2',\n 'TXNRD1',\n 'VAMP2',\n 'PATE1',\n 'ADCY5',\n 'ALDOB',\n 'CXCR1',\n 'SMIM42',\n 'SYT6',\n 'SSX7',\n 'NVL',\n 'CPLANE2',\n 'ME1',\n 'CBL',\n 'NADK',\n 'TMEM205',\n 'ZNF334',\n 'CDK5R1',\n 'INPP1',\n 'MDGA2',\n 'ZUP1',\n 'NEXN',\n 'ZNF836',\n 'E2F5',\n 'XPO4',\n 'MMP2',\n 'IL22RA2',\n 'TCF7L2',\n 'TLK2',\n 'PHLDB1',\n 'SVOP',\n 'OR4B1',\n 'IL18',\n 'MTHFD1L',\n 'IFI27L2',\n 'PAK2',\n 'IFNA14',\n 'OR5K2',\n 'TYSND1',\n 'GTF3C1',\n 'TOMM20L',\n 'IFNG',\n 'CENPVL3',\n 'DSG1',\n 'CILP',\n 'BFSP2',\n 'MR1',\n 'PDC',\n 'MYH9',\n 'ZFX',\n 'NINJ2',\n 'ICAM1',\n 'NUMB',\n 'P2RX1',\n 'SAP30',\n 'NKIRAS2',\n 'RAB3C',\n 'OR8B4',\n 'DESI1',\n 'C15orf48',\n 'LPAR1',\n 'CMTM5',\n 'GK3',\n 'SLFN13',\n 'DBR1',\n 'ITPKA',\n 'WHAMM',\n 'HOXB6',\n 'ZNF879',\n 'GTF2A2',\n 'TEX52',\n 'FAM236C',\n 'EML1',\n 'VAV1',\n 'NT5DC3',\n 'GATD3',\n 'POLR2D',\n 'SSR2',\n 'ATP8A2',\n 'SEL1L',\n 'ZNF621',\n 'CEP78',\n 'KIR2DL5B',\n 'TBRG4',\n 'SFRP2',\n 'RAB32',\n 'TRPM6',\n 'SDF2L1',\n 'XKR3',\n 'CCDC65',\n 'OSBPL8',\n 'EDNRB',\n 'EPN2',\n 'ANKAR',\n 'PDS5A',\n 'ZFP57',\n 'RPS9',\n 'SELPLG',\n 'PABPN1L',\n 'EML3',\n 'DDR2',\n 'SLC43A2',\n 'LAMTOR3',\n 'SLAMF6',\n 'CCDC120',\n 'ZNF497',\n 'ANAPC15',\n 'VAPB',\n 'FAM120B',\n 'XCR1',\n 'MOGAT3',\n 'AGO2',\n 'ELP2',\n 'TSTD2',\n 'TMEM190',\n 'ACACB',\n 'FAAH',\n 'STN1',\n 'TEKTIP1',\n 'NPHP1',\n 'ANKZF1',\n 'FAM171A2',\n 'ZC3H8',\n 'H4C13',\n 'IMPACT',\n 'CDK7',\n 'PRDM7',\n 'CLPTM1L',\n 'RAB6A',\n 'CSNK1G3',\n 'NDNF',\n 'POP1',\n 'IKBKB',\n 'RTN4R',\n 'TERF2',\n 'MTA3',\n 'CHRAC1',\n 'OTUD6B',\n 'TLK1',\n 'TASL',\n 'CCDC200',\n 'MBOAT1',\n 'RFLNB',\n 'FAM153B',\n 'NXPE2',\n 'NOD2',\n 'IFI44L',\n 'URM1',\n 'INAVA',\n 'CDRT15',\n 'CENPI',\n 'IRS4',\n 'MUC5B',\n 'AS3MT',\n 'TEX15',\n 'NANOS3',\n 'MT1E',\n 'PLEKHA6',\n 'CCDC63',\n 'DIRAS2',\n 'GGT1',\n 'LILRA3',\n 'TMEM94',\n 'TXNL1',\n 'RFPL1',\n 'SBSN',\n 'OR1N1',\n 'BLVRA',\n 'SOBP',\n 'RPL24',\n 'HNRNPF',\n ...}"
     },
     "execution_count": 145,
     "metadata": {},
     "output_type": "execute_result"
    }
   ],
   "source": [
    "ensembl_biomart_genes = set(ensembl_biomart['HGNC symbol'].unique())\n",
    "hgnc_biomart_genes = set(hgnc_biomart['Approved symbol'].unique())\n",
    "\n",
    "print(len(ensembl_biomart_genes))\n",
    "print(len(hgnc_biomart_genes))"
   ],
   "metadata": {
    "collapsed": false,
    "ExecuteTime": {
     "end_time": "2023-12-21T22:39:38.394637400Z",
     "start_time": "2023-12-21T22:39:38.363446Z"
    }
   },
   "id": "d0b39911ad26e573"
  },
  {
   "cell_type": "code",
   "execution_count": 159,
   "outputs": [
    {
     "name": "stdout",
     "output_type": "stream",
     "text": [
      "17793\n",
      "17673\n",
      "{'SLC9A3R2', 'ZBED8', 'FAM183A', 'HSPB11', 'C20orf27', 'SLC9A3R1', 'PDZD3'}\n",
      "{'UGT1A1', 'LEXM', 'KIAA1522', 'UGT1A4', 'PCDHGC5', 'PCDHGA12', 'PCDHAC1', 'TEX43', 'FAM183A', 'METTL7A', 'METTL7B', 'PDZD3', 'PCDHB16', 'TTC26', 'PCDHB15', 'UGT1A9', 'C4orf47', 'C20orf27', 'C17orf97', 'SLC9A3R2', 'PCDHGC3', 'PIFO', 'PCDHA12', 'PCDHB6', 'PCDHA1', 'PCDHGA2', 'C1orf68', 'UGT1A8', 'SOGA1', 'C17orf80', 'THEG', 'MRPS36', 'PCDHGA5', 'PRPF4B', 'C1orf100', 'C4orf48', 'PCDHB14', 'PCDHGC4', 'SPATA48', 'CCDC96', 'PCDHA4', 'PCDHA6', 'PCDHA8', 'PCDHAC2', 'PCDHA7', 'PCDHGB1', 'PCDHA11', 'C4orf45', 'C1orf112', 'PCDHGA8', 'C12orf4', 'FAM166B', 'SPATA5', 'PCDHGA1', 'PCDHGA3', 'PCDHA13', 'PCDHB7', 'PCDHGA9', 'DUSP13', 'SLC9A3R1', 'C18orf25', 'PCDHB3', 'C10orf82', 'TTC30A', 'TTC30B', 'C3orf14', 'TEX33', 'ODF3B', 'C7orf31', 'TDGF1', 'C1orf109', 'UGT1A10', 'C9orf24', 'C11orf80', 'FAM166C', 'RNF165', 'PCDHB11', 'PCDHB12', 'PCDHGB3', 'C20orf85', 'FAM166A', 'PCDHGA7', 'C21orf62', 'PCDHB5', 'FAM205A', 'PCDHGB4', 'ODF3L1', 'PCDHGA6', 'PCDHB10', 'FAM104B', 'PCDHGB7', 'PCDHB4', 'TEPP', 'PCDHA9', 'PCDHGA11', 'FAM172A', 'PCDHGA4', 'PCDHGB2', 'CCDC105', 'C9orf131', 'C12orf40', 'TEX45', 'C12orf29', 'ODF3', 'HSPB11', 'C17orf98', 'ODF3L2', 'PCDHA2', 'PCDHA5', 'THEGL', 'PCDHB2', 'PCDHB1', 'CCDC153', 'TEX37', 'SPATA5L1', 'FAM104A', 'PCDHB8', 'ZBED8', 'CCDC113', 'PCDHA10', 'PPP1R32', 'PCDHA3', 'C9orf64', 'PCDHGA10', 'PCDHB13', 'UGT1A7', 'PCDHGB6'}\n"
     ]
    },
    {
     "data": {
      "text/plain": "array(['ADISSP', 'CFAP144', 'FAM200C', 'IFT25', 'NHERF1', 'NHERF2',\n       'NHERF4'], dtype=object)"
     },
     "execution_count": 159,
     "metadata": {},
     "output_type": "execute_result"
    }
   ],
   "source": [
    "# See how many of the DepMap genes are in the HGNC biomart and Ensembl biomart data\n",
    "print(len(valid_depmap_genes.intersection(ensembl_biomart_genes)))\n",
    "print(len(valid_depmap_genes.intersection(hgnc_biomart_genes)))\n",
    "\n",
    "not_in_ensembl_biomart = valid_depmap_genes - ensembl_biomart_genes\n",
    "not_in_hgnc_biomart = valid_depmap_genes - hgnc_biomart_genes\n",
    "print(not_in_ensembl_biomart)\n",
    "print(not_in_hgnc_biomart)\n",
    "check_other_columns =  hgnc_biomart[(hgnc_biomart['Alias symbol'].isin(not_in_ensembl_biomart)) | (hgnc_biomart['Previous symbol'].isin(not_in_ensembl_biomart)) | (hgnc_biomart['UniProt accession'].isin(not_in_ensembl_biomart))]\n",
    "check_other_columns['Approved symbol'].unique()"
   ],
   "metadata": {
    "collapsed": false,
    "ExecuteTime": {
     "end_time": "2023-12-22T00:02:00.803530300Z",
     "start_time": "2023-12-22T00:02:00.756245600Z"
    }
   },
   "id": "45c61f3b5072e604"
  },
  {
   "cell_type": "code",
   "execution_count": 31,
   "outputs": [
    {
     "data": {
      "text/plain": "        ModelID  PatientID CellLineName StrippedCellLineName   Age  \\\n531  ACH-000535  PT-xfjEoE       BxPC-3                BXPC3  61.0   \n\n     SourceType SangerModelID       RRID DepmapModelType AgeCategory  ...  \\\n531  Commercial     SIDM00132  CVCL_0186            PAAD       Adult  ...   \n\n    PublicComments WTSIMasterCellID EngineeredModel TreatmentStatus  \\\n531            NaN           1978.0             NaN             NaN   \n\n    OnboardedMedia PlateCoating OncotreeCode            OncotreeSubtype  \\\n531     MF-001-001          NaN         PAAD  Pancreatic Adenocarcinoma   \n\n        OncotreePrimaryDisease  OncotreeLineage  \n531  Pancreatic Adenocarcinoma         Pancreas  \n\n[1 rows x 30 columns]",
      "text/html": "<div>\n<style scoped>\n    .dataframe tbody tr th:only-of-type {\n        vertical-align: middle;\n    }\n\n    .dataframe tbody tr th {\n        vertical-align: top;\n    }\n\n    .dataframe thead th {\n        text-align: right;\n    }\n</style>\n<table border=\"1\" class=\"dataframe\">\n  <thead>\n    <tr style=\"text-align: right;\">\n      <th></th>\n      <th>ModelID</th>\n      <th>PatientID</th>\n      <th>CellLineName</th>\n      <th>StrippedCellLineName</th>\n      <th>Age</th>\n      <th>SourceType</th>\n      <th>SangerModelID</th>\n      <th>RRID</th>\n      <th>DepmapModelType</th>\n      <th>AgeCategory</th>\n      <th>...</th>\n      <th>PublicComments</th>\n      <th>WTSIMasterCellID</th>\n      <th>EngineeredModel</th>\n      <th>TreatmentStatus</th>\n      <th>OnboardedMedia</th>\n      <th>PlateCoating</th>\n      <th>OncotreeCode</th>\n      <th>OncotreeSubtype</th>\n      <th>OncotreePrimaryDisease</th>\n      <th>OncotreeLineage</th>\n    </tr>\n  </thead>\n  <tbody>\n    <tr>\n      <th>531</th>\n      <td>ACH-000535</td>\n      <td>PT-xfjEoE</td>\n      <td>BxPC-3</td>\n      <td>BXPC3</td>\n      <td>61.0</td>\n      <td>Commercial</td>\n      <td>SIDM00132</td>\n      <td>CVCL_0186</td>\n      <td>PAAD</td>\n      <td>Adult</td>\n      <td>...</td>\n      <td>NaN</td>\n      <td>1978.0</td>\n      <td>NaN</td>\n      <td>NaN</td>\n      <td>MF-001-001</td>\n      <td>NaN</td>\n      <td>PAAD</td>\n      <td>Pancreatic Adenocarcinoma</td>\n      <td>Pancreatic Adenocarcinoma</td>\n      <td>Pancreas</td>\n    </tr>\n  </tbody>\n</table>\n<p>1 rows × 30 columns</p>\n</div>"
     },
     "execution_count": 31,
     "metadata": {},
     "output_type": "execute_result"
    }
   ],
   "source": [
    "# Model.csv contains meta data on the cell lines used. Used to index cell lines with CCLE Name but now uses Broad ID\n",
    "model_data[model_data['CCLEName'] == 'BXPC3_PANCREAS']"
   ],
   "metadata": {
    "collapsed": false,
    "ExecuteTime": {
     "start_time": "2023-11-20T15:38:55.293865641Z"
    }
   },
   "id": "755e14af95af646a"
  },
  {
   "cell_type": "code",
   "execution_count": 42,
   "outputs": [
    {
     "name": "stdout",
     "output_type": "stream",
     "text": [
      "1095\n",
      "1738\n",
      "1450\n"
     ]
    },
    {
     "data": {
      "text/plain": "1013"
     },
     "execution_count": 42,
     "metadata": {},
     "output_type": "execute_result"
    }
   ],
   "source": [
    "# Get cell line column from each dataset to find intersection. These are the cell lines we will use\n",
    "dep_cell_lines = set(dep_data['ModelID'])\n",
    "mut_cell_lines = set(mut_data['ModelID'])\n",
    "exp_cell_lines = set(exp_data['Unnamed: 0'])\n",
    "\n",
    "print(len(dep_cell_lines))\n",
    "print(len(mut_cell_lines))\n",
    "print(len(exp_cell_lines))\n",
    "\n",
    "# Find cell lines that are present in all 3 datasets\n",
    "cell_lines = dep_cell_lines.intersection(mut_cell_lines, exp_cell_lines)\n",
    "\n",
    "len(cell_lines)"
   ],
   "metadata": {
    "collapsed": false,
    "ExecuteTime": {
     "start_time": "2023-12-20T14:09:09.723738300Z"
    }
   },
   "id": "4b8e2dc818ccfa69"
  },
  {
   "cell_type": "code",
   "execution_count": 43,
   "outputs": [],
   "source": [
    "# Retrieve metadata for the intersecting cell lines\n",
    "intersecting_cell_lines = model_data[model_data['ModelID'].isin(cell_lines)]"
   ],
   "metadata": {
    "collapsed": false,
    "ExecuteTime": {
     "start_time": "2023-12-20T14:09:24.915650100Z"
    }
   },
   "id": "fbb8c56e6041b898"
  },
  {
   "cell_type": "code",
   "execution_count": 9,
   "outputs": [
    {
     "data": {
      "text/plain": "Index(['ModelID', 'PatientID', 'CellLineName', 'StrippedCellLineName', 'Age',\n       'SourceType', 'SangerModelID', 'RRID', 'DepmapModelType', 'AgeCategory',\n       'GrowthPattern', 'LegacyMolecularSubtype', 'PrimaryOrMetastasis',\n       'SampleCollectionSite', 'Sex', 'SourceDetail', 'LegacySubSubtype',\n       'CatalogNumber', 'CCLEName', 'COSMICID', 'PublicComments',\n       'WTSIMasterCellID', 'EngineeredModel', 'TreatmentStatus',\n       'OnboardedMedia', 'PlateCoating', 'OncotreeCode', 'OncotreeSubtype',\n       'OncotreePrimaryDisease', 'OncotreeLineage'],\n      dtype='object')"
     },
     "execution_count": 9,
     "metadata": {},
     "output_type": "execute_result"
    }
   ],
   "source": [
    "model_data.columns"
   ],
   "metadata": {
    "collapsed": false,
    "ExecuteTime": {
     "start_time": "2023-12-15T21:05:32.035508600Z"
    }
   },
   "id": "daa9e582a9501e39"
  },
  {
   "cell_type": "code",
   "execution_count": 73,
   "outputs": [
    {
     "data": {
      "text/plain": "         ModelID  PatientID CellLineName StrippedCellLineName  Age  \\\n1158  ACH-001310  PT-1UiNjR         HA1E                 HA1E  NaN   \n1803  ACH-002462  PT-ml8vcL    RPE1-ss48             RPE1SS48  NaN   \n1804  ACH-002463  PT-ml8vcL    RPE1-ss77             RPE1SS77  NaN   \n1805  ACH-002464  PT-ml8vcL     RPE1-ss6              RPE1SS6  NaN   \n1806  ACH-002465  PT-ml8vcL   RPE1-ss119            RPE1SS119  NaN   \n1808  ACH-002467  PT-ml8vcL    RPE1-ss51             RPE1SS51  NaN   \n\n        SourceType SangerModelID       RRID DepmapModelType AgeCategory  ...  \\\n1158  Academic lab           NaN  CVCL_VU89         ZIMMEKC     Unknown  ...   \n1803  Academic lab           NaN        NaN       ZIMMEPCRT     Unknown  ...   \n1804  Academic lab           NaN        NaN       ZIMMEPCRT     Unknown  ...   \n1805  Academic lab           NaN        NaN       ZIMMEPCRT     Unknown  ...   \n1806  Academic lab           NaN        NaN       ZIMMEPCRT     Unknown  ...   \n1808  Academic lab           NaN        NaN       ZIMMEPCRT     Unknown  ...   \n\n                               PublicComments WTSIMasterCellID  \\\n1158  SV40+TERT immortalized kidney cell line              NaN   \n1803                     Near-diploid control              NaN   \n1804                     Near-diploid control              NaN   \n1805                trisomic for chromosome 7              NaN   \n1806                trisomic for chromosome 8              NaN   \n1808        trisomic for chromosomes 7 and 22              NaN   \n\n     EngineeredModel TreatmentStatus OnboardedMedia PlateCoating OncotreeCode  \\\n1158             NaN             NaN     MF-006-001         None          NaN   \n1803             NaN             NaN     MF-002-001         None          NaN   \n1804             NaN             NaN     MF-002-001         None          NaN   \n1805             NaN             NaN     MF-002-001         None          NaN   \n1806             NaN             NaN     MF-002-001         None          NaN   \n1808             NaN             NaN     MF-002-001         None          NaN   \n\n                             OncotreeSubtype OncotreePrimaryDisease  \\\n1158      Immortalized Embyonic Kidney Cells          Non-Cancerous   \n1803  Immortalized Epithelial Cells, Retinal          Non-Cancerous   \n1804  Immortalized Epithelial Cells, Retinal          Non-Cancerous   \n1805  Immortalized Epithelial Cells, Retinal          Non-Cancerous   \n1806  Immortalized Epithelial Cells, Retinal          Non-Cancerous   \n1808  Immortalized Epithelial Cells, Retinal          Non-Cancerous   \n\n      OncotreeLineage  \n1158           Kidney  \n1803              Eye  \n1804              Eye  \n1805              Eye  \n1806              Eye  \n1808              Eye  \n\n[6 rows x 30 columns]",
      "text/html": "<div>\n<style scoped>\n    .dataframe tbody tr th:only-of-type {\n        vertical-align: middle;\n    }\n\n    .dataframe tbody tr th {\n        vertical-align: top;\n    }\n\n    .dataframe thead th {\n        text-align: right;\n    }\n</style>\n<table border=\"1\" class=\"dataframe\">\n  <thead>\n    <tr style=\"text-align: right;\">\n      <th></th>\n      <th>ModelID</th>\n      <th>PatientID</th>\n      <th>CellLineName</th>\n      <th>StrippedCellLineName</th>\n      <th>Age</th>\n      <th>SourceType</th>\n      <th>SangerModelID</th>\n      <th>RRID</th>\n      <th>DepmapModelType</th>\n      <th>AgeCategory</th>\n      <th>...</th>\n      <th>PublicComments</th>\n      <th>WTSIMasterCellID</th>\n      <th>EngineeredModel</th>\n      <th>TreatmentStatus</th>\n      <th>OnboardedMedia</th>\n      <th>PlateCoating</th>\n      <th>OncotreeCode</th>\n      <th>OncotreeSubtype</th>\n      <th>OncotreePrimaryDisease</th>\n      <th>OncotreeLineage</th>\n    </tr>\n  </thead>\n  <tbody>\n    <tr>\n      <th>1158</th>\n      <td>ACH-001310</td>\n      <td>PT-1UiNjR</td>\n      <td>HA1E</td>\n      <td>HA1E</td>\n      <td>NaN</td>\n      <td>Academic lab</td>\n      <td>NaN</td>\n      <td>CVCL_VU89</td>\n      <td>ZIMMEKC</td>\n      <td>Unknown</td>\n      <td>...</td>\n      <td>SV40+TERT immortalized kidney cell line</td>\n      <td>NaN</td>\n      <td>NaN</td>\n      <td>NaN</td>\n      <td>MF-006-001</td>\n      <td>None</td>\n      <td>NaN</td>\n      <td>Immortalized Embyonic Kidney Cells</td>\n      <td>Non-Cancerous</td>\n      <td>Kidney</td>\n    </tr>\n    <tr>\n      <th>1803</th>\n      <td>ACH-002462</td>\n      <td>PT-ml8vcL</td>\n      <td>RPE1-ss48</td>\n      <td>RPE1SS48</td>\n      <td>NaN</td>\n      <td>Academic lab</td>\n      <td>NaN</td>\n      <td>NaN</td>\n      <td>ZIMMEPCRT</td>\n      <td>Unknown</td>\n      <td>...</td>\n      <td>Near-diploid control</td>\n      <td>NaN</td>\n      <td>NaN</td>\n      <td>NaN</td>\n      <td>MF-002-001</td>\n      <td>None</td>\n      <td>NaN</td>\n      <td>Immortalized Epithelial Cells, Retinal</td>\n      <td>Non-Cancerous</td>\n      <td>Eye</td>\n    </tr>\n    <tr>\n      <th>1804</th>\n      <td>ACH-002463</td>\n      <td>PT-ml8vcL</td>\n      <td>RPE1-ss77</td>\n      <td>RPE1SS77</td>\n      <td>NaN</td>\n      <td>Academic lab</td>\n      <td>NaN</td>\n      <td>NaN</td>\n      <td>ZIMMEPCRT</td>\n      <td>Unknown</td>\n      <td>...</td>\n      <td>Near-diploid control</td>\n      <td>NaN</td>\n      <td>NaN</td>\n      <td>NaN</td>\n      <td>MF-002-001</td>\n      <td>None</td>\n      <td>NaN</td>\n      <td>Immortalized Epithelial Cells, Retinal</td>\n      <td>Non-Cancerous</td>\n      <td>Eye</td>\n    </tr>\n    <tr>\n      <th>1805</th>\n      <td>ACH-002464</td>\n      <td>PT-ml8vcL</td>\n      <td>RPE1-ss6</td>\n      <td>RPE1SS6</td>\n      <td>NaN</td>\n      <td>Academic lab</td>\n      <td>NaN</td>\n      <td>NaN</td>\n      <td>ZIMMEPCRT</td>\n      <td>Unknown</td>\n      <td>...</td>\n      <td>trisomic for chromosome 7</td>\n      <td>NaN</td>\n      <td>NaN</td>\n      <td>NaN</td>\n      <td>MF-002-001</td>\n      <td>None</td>\n      <td>NaN</td>\n      <td>Immortalized Epithelial Cells, Retinal</td>\n      <td>Non-Cancerous</td>\n      <td>Eye</td>\n    </tr>\n    <tr>\n      <th>1806</th>\n      <td>ACH-002465</td>\n      <td>PT-ml8vcL</td>\n      <td>RPE1-ss119</td>\n      <td>RPE1SS119</td>\n      <td>NaN</td>\n      <td>Academic lab</td>\n      <td>NaN</td>\n      <td>NaN</td>\n      <td>ZIMMEPCRT</td>\n      <td>Unknown</td>\n      <td>...</td>\n      <td>trisomic for chromosome 8</td>\n      <td>NaN</td>\n      <td>NaN</td>\n      <td>NaN</td>\n      <td>MF-002-001</td>\n      <td>None</td>\n      <td>NaN</td>\n      <td>Immortalized Epithelial Cells, Retinal</td>\n      <td>Non-Cancerous</td>\n      <td>Eye</td>\n    </tr>\n    <tr>\n      <th>1808</th>\n      <td>ACH-002467</td>\n      <td>PT-ml8vcL</td>\n      <td>RPE1-ss51</td>\n      <td>RPE1SS51</td>\n      <td>NaN</td>\n      <td>Academic lab</td>\n      <td>NaN</td>\n      <td>NaN</td>\n      <td>ZIMMEPCRT</td>\n      <td>Unknown</td>\n      <td>...</td>\n      <td>trisomic for chromosomes 7 and 22</td>\n      <td>NaN</td>\n      <td>NaN</td>\n      <td>NaN</td>\n      <td>MF-002-001</td>\n      <td>None</td>\n      <td>NaN</td>\n      <td>Immortalized Epithelial Cells, Retinal</td>\n      <td>Non-Cancerous</td>\n      <td>Eye</td>\n    </tr>\n  </tbody>\n</table>\n<p>6 rows × 30 columns</p>\n</div>"
     },
     "execution_count": 73,
     "metadata": {},
     "output_type": "execute_result"
    }
   ],
   "source": [
    "model_data['OncotreeSubtype'].unique()\n",
    "#model_data['OncotreeLineage'].unique()\n",
    "\n",
    "#model_data[model_data['OncotreeLineage']=='Prostate']\n",
    "\n",
    "#model_data['OncotreePrimaryDisease'].value_counts()\n",
    "\n",
    "#model_data['OncotreeSubtype'].value_counts()\n",
    "\n",
    "intersecting_cell_lines['OncotreeSubtype'].str.contains('Fibroblast').value_counts()\n",
    "\n",
    "intersecting_cell_lines[intersecting_cell_lines['OncotreeSubtype'].str.contains('Immortalized')]\n",
    "\n",
    "#intersecting_cell_lines[intersecting_cell_lines['OncotreeSubtype']== 'Non-cancerous']\n",
    "\n",
    "#intersecting_cell_lines['OncotreeSubtype'].value_counts()"
   ],
   "metadata": {
    "collapsed": false,
    "ExecuteTime": {
     "start_time": "2023-12-20T14:33:22.432682700Z"
    }
   },
   "id": "fcc842e33f0a0501"
  },
  {
   "cell_type": "code",
   "execution_count": 28,
   "outputs": [
    {
     "data": {
      "text/plain": "      ModelID  PatientID CellLineName StrippedCellLineName   Age  SourceType  \\\n3  ACH-000004  PT-q4K2cp          HEL                  HEL  30.0  Commercial   \n\n  SangerModelID       RRID DepmapModelType AgeCategory  ... PublicComments  \\\n3     SIDM00594  CVCL_0001             AML       Adult  ...            NaN   \n\n  WTSIMasterCellID EngineeredModel TreatmentStatus OnboardedMedia  \\\n3            783.0             NaN  Post-treatment     MF-001-001   \n\n  PlateCoating OncotreeCode         OncotreeSubtype  OncotreePrimaryDisease  \\\n3         None          AML  Acute Myeloid Leukemia  Acute Myeloid Leukemia   \n\n   OncotreeLineage  \n3          Myeloid  \n\n[1 rows x 30 columns]",
      "text/html": "<div>\n<style scoped>\n    .dataframe tbody tr th:only-of-type {\n        vertical-align: middle;\n    }\n\n    .dataframe tbody tr th {\n        vertical-align: top;\n    }\n\n    .dataframe thead th {\n        text-align: right;\n    }\n</style>\n<table border=\"1\" class=\"dataframe\">\n  <thead>\n    <tr style=\"text-align: right;\">\n      <th></th>\n      <th>ModelID</th>\n      <th>PatientID</th>\n      <th>CellLineName</th>\n      <th>StrippedCellLineName</th>\n      <th>Age</th>\n      <th>SourceType</th>\n      <th>SangerModelID</th>\n      <th>RRID</th>\n      <th>DepmapModelType</th>\n      <th>AgeCategory</th>\n      <th>...</th>\n      <th>PublicComments</th>\n      <th>WTSIMasterCellID</th>\n      <th>EngineeredModel</th>\n      <th>TreatmentStatus</th>\n      <th>OnboardedMedia</th>\n      <th>PlateCoating</th>\n      <th>OncotreeCode</th>\n      <th>OncotreeSubtype</th>\n      <th>OncotreePrimaryDisease</th>\n      <th>OncotreeLineage</th>\n    </tr>\n  </thead>\n  <tbody>\n    <tr>\n      <th>3</th>\n      <td>ACH-000004</td>\n      <td>PT-q4K2cp</td>\n      <td>HEL</td>\n      <td>HEL</td>\n      <td>30.0</td>\n      <td>Commercial</td>\n      <td>SIDM00594</td>\n      <td>CVCL_0001</td>\n      <td>AML</td>\n      <td>Adult</td>\n      <td>...</td>\n      <td>NaN</td>\n      <td>783.0</td>\n      <td>NaN</td>\n      <td>Post-treatment</td>\n      <td>MF-001-001</td>\n      <td>None</td>\n      <td>AML</td>\n      <td>Acute Myeloid Leukemia</td>\n      <td>Acute Myeloid Leukemia</td>\n      <td>Myeloid</td>\n    </tr>\n  </tbody>\n</table>\n<p>1 rows × 30 columns</p>\n</div>"
     },
     "execution_count": 28,
     "metadata": {},
     "output_type": "execute_result"
    }
   ],
   "source": [
    "model_data[model_data['CCLEName'] == 'HEL_HAEMATOPOIETIC_AND_LYMPHOID_TISSUE']\n",
    "#model_data"
   ],
   "metadata": {
    "collapsed": false,
    "ExecuteTime": {
     "end_time": "2023-12-16T00:10:16.209292300Z",
     "start_time": "2023-12-16T00:10:16.169537600Z"
    }
   },
   "id": "913605b20bafa0c4"
  },
  {
   "cell_type": "code",
   "execution_count": null,
   "outputs": [],
   "source": [],
   "metadata": {
    "collapsed": false
   },
   "id": "deddf46a18d5cb0f"
  }
 ],
 "metadata": {
  "kernelspec": {
   "display_name": "Python 3",
   "language": "python",
   "name": "python3"
  },
  "language_info": {
   "codemirror_mode": {
    "name": "ipython",
    "version": 2
   },
   "file_extension": ".py",
   "mimetype": "text/x-python",
   "name": "python",
   "nbconvert_exporter": "python",
   "pygments_lexer": "ipython2",
   "version": "2.7.6"
  }
 },
 "nbformat": 4,
 "nbformat_minor": 5
}
