{
 "cells": [
  {
   "cell_type": "code",
   "execution_count": 2,
   "outputs": [],
   "source": [
    "import os\n",
    "import pandas as pd\n",
    "import matplotlib.pyplot as plt\n",
    "import numpy as np\n",
    "import re\n",
    "from itertools import product"
   ],
   "metadata": {
    "collapsed": false,
    "ExecuteTime": {
     "end_time": "2023-12-13T14:52:57.858196700Z",
     "start_time": "2023-12-13T14:52:56.958550500Z"
    }
   },
   "id": "initial_id"
  },
  {
   "cell_type": "code",
   "execution_count": 3,
   "outputs": [
    {
     "data": {
      "text/plain": "['biomart',\n 'depmap',\n 'missing_gene_names.csv',\n 'pathway_commons',\n 'reactome',\n 'reactome_rows_to_drop.csv',\n 'string']"
     },
     "execution_count": 3,
     "metadata": {},
     "output_type": "execute_result"
    }
   ],
   "source": [
    "#os.getcwd()\n",
    "\n",
    "# Linux workstation\n",
    "#data_path = '/home/db600/phd/data/'\n",
    "\n",
    "# Laptop\n",
    "data_path = 'C:\\\\Users\\\\dan\\\\Documents\\\\phd\\\\data\\\\'\n",
    "\n",
    "os.listdir(data_path)"
   ],
   "metadata": {
    "collapsed": false,
    "ExecuteTime": {
     "end_time": "2023-12-13T14:52:58.628876700Z",
     "start_time": "2023-12-13T14:52:58.619495200Z"
    }
   },
   "id": "e734db8459feaf32"
  },
  {
   "cell_type": "code",
   "execution_count": 4,
   "outputs": [
    {
     "data": {
      "text/plain": "['reactome.homo_sapiens.interactions.tab-delimited_downloaded_23_10_23.txt',\n 'reactome_dropped_rows.csv',\n 'reactome_ppi.csv',\n 'test_dropped_rows.csv']"
     },
     "execution_count": 4,
     "metadata": {},
     "output_type": "execute_result"
    }
   ],
   "source": [
    "os.listdir(data_path +'/reactome/')"
   ],
   "metadata": {
    "collapsed": false,
    "ExecuteTime": {
     "end_time": "2023-12-13T14:53:01.225162800Z",
     "start_time": "2023-12-13T14:53:01.205323900Z"
    }
   },
   "id": "9bf0f08e1d21ac42"
  },
  {
   "cell_type": "code",
   "execution_count": 8,
   "outputs": [
    {
     "name": "stdout",
     "output_type": "stream",
     "text": [
      "Index(['# Interactor 1 uniprot id', 'Interactor 1 Ensembl gene id',\n",
      "       'Interactor 1 Entrez Gene id', 'Interactor 2 uniprot id',\n",
      "       'Interactor 2 Ensembl gene id', 'Interactor 2 Entrez Gene id',\n",
      "       'Interaction type', 'Interaction context', 'Pubmed references'],\n",
      "      dtype='object')\n"
     ]
    },
    {
     "data": {
      "text/plain": "       # Interactor 1 uniprot id  \\\n106137          uniprotkb:P08588   \n106138          uniprotkb:P08588   \n106139          uniprotkb:P13945   \n106140          uniprotkb:P13945   \n106141          uniprotkb:P13945   \n\n                             Interactor 1 Ensembl gene id  \\\n106137  ENSEMBL:ENSP00000358301|ENSEMBL:ENSG0000004359...   \n106138  ENSEMBL:ENSP00000358301|ENSEMBL:ENSG0000004359...   \n106139  ENSEMBL:ENST00000345060|ENSEMBL:ENSG0000018877...   \n106140  ENSEMBL:ENST00000345060|ENSEMBL:ENSG0000018877...   \n106141  ENSEMBL:ENST00000345060|ENSEMBL:ENSG0000018877...   \n\n       Interactor 1 Entrez Gene id Interactor 2 uniprot id  \\\n106137                           -  reactome:R-ALL-9611688   \n106138                           -  reactome:R-ALL-9611741   \n106139                           -  reactome:R-ALL-9624761   \n106140                           -  reactome:R-ALL-9611841   \n106141                           -  reactome:R-ALL-9611838   \n\n       Interactor 2 Ensembl gene id Interactor 2 Entrez Gene id  \\\n106137                            -                           -   \n106138                            -                           -   \n106139                            -                           -   \n106140                            -                           -   \n106141                            -                           -   \n\n            Interaction type     Interaction context  \\\n106137  physical association  reactome:R-HSA-9611721   \n106138  physical association  reactome:R-HSA-9611721   \n106139  physical association  reactome:R-HSA-9611839   \n106140  physical association  reactome:R-HSA-9611839   \n106141  physical association  reactome:R-HSA-9611839   \n\n                          Pubmed references  \n106137                             10531390  \n106138                             10531390  \n106139  23148172|24890609|27965369|16480771  \n106140  23148172|24890609|27965369|16480771  \n106141  23148172|24890609|27965369|16480771  ",
      "text/html": "<div>\n<style scoped>\n    .dataframe tbody tr th:only-of-type {\n        vertical-align: middle;\n    }\n\n    .dataframe tbody tr th {\n        vertical-align: top;\n    }\n\n    .dataframe thead th {\n        text-align: right;\n    }\n</style>\n<table border=\"1\" class=\"dataframe\">\n  <thead>\n    <tr style=\"text-align: right;\">\n      <th></th>\n      <th># Interactor 1 uniprot id</th>\n      <th>Interactor 1 Ensembl gene id</th>\n      <th>Interactor 1 Entrez Gene id</th>\n      <th>Interactor 2 uniprot id</th>\n      <th>Interactor 2 Ensembl gene id</th>\n      <th>Interactor 2 Entrez Gene id</th>\n      <th>Interaction type</th>\n      <th>Interaction context</th>\n      <th>Pubmed references</th>\n    </tr>\n  </thead>\n  <tbody>\n    <tr>\n      <th>106137</th>\n      <td>uniprotkb:P08588</td>\n      <td>ENSEMBL:ENSP00000358301|ENSEMBL:ENSG0000004359...</td>\n      <td>-</td>\n      <td>reactome:R-ALL-9611688</td>\n      <td>-</td>\n      <td>-</td>\n      <td>physical association</td>\n      <td>reactome:R-HSA-9611721</td>\n      <td>10531390</td>\n    </tr>\n    <tr>\n      <th>106138</th>\n      <td>uniprotkb:P08588</td>\n      <td>ENSEMBL:ENSP00000358301|ENSEMBL:ENSG0000004359...</td>\n      <td>-</td>\n      <td>reactome:R-ALL-9611741</td>\n      <td>-</td>\n      <td>-</td>\n      <td>physical association</td>\n      <td>reactome:R-HSA-9611721</td>\n      <td>10531390</td>\n    </tr>\n    <tr>\n      <th>106139</th>\n      <td>uniprotkb:P13945</td>\n      <td>ENSEMBL:ENST00000345060|ENSEMBL:ENSG0000018877...</td>\n      <td>-</td>\n      <td>reactome:R-ALL-9624761</td>\n      <td>-</td>\n      <td>-</td>\n      <td>physical association</td>\n      <td>reactome:R-HSA-9611839</td>\n      <td>23148172|24890609|27965369|16480771</td>\n    </tr>\n    <tr>\n      <th>106140</th>\n      <td>uniprotkb:P13945</td>\n      <td>ENSEMBL:ENST00000345060|ENSEMBL:ENSG0000018877...</td>\n      <td>-</td>\n      <td>reactome:R-ALL-9611841</td>\n      <td>-</td>\n      <td>-</td>\n      <td>physical association</td>\n      <td>reactome:R-HSA-9611839</td>\n      <td>23148172|24890609|27965369|16480771</td>\n    </tr>\n    <tr>\n      <th>106141</th>\n      <td>uniprotkb:P13945</td>\n      <td>ENSEMBL:ENST00000345060|ENSEMBL:ENSG0000018877...</td>\n      <td>-</td>\n      <td>reactome:R-ALL-9611838</td>\n      <td>-</td>\n      <td>-</td>\n      <td>physical association</td>\n      <td>reactome:R-HSA-9611839</td>\n      <td>23148172|24890609|27965369|16480771</td>\n    </tr>\n  </tbody>\n</table>\n</div>"
     },
     "execution_count": 8,
     "metadata": {},
     "output_type": "execute_result"
    }
   ],
   "source": [
    "reactome = pd.read_csv(data_path + '/reactome/reactome.homo_sapiens.interactions.tab-delimited_downloaded_23_10_23.txt', sep=\"\\t\")\n",
    "print(reactome.columns)\n",
    "reactome.tail()"
   ],
   "metadata": {
    "collapsed": false,
    "ExecuteTime": {
     "end_time": "2023-12-13T14:53:42.757764700Z",
     "start_time": "2023-12-13T14:53:42.493448900Z"
    }
   },
   "id": "911a8569b59173b9"
  },
  {
   "cell_type": "code",
   "execution_count": 13,
   "outputs": [],
   "source": [
    "reactome['Int 2 type'] = reactome['Interactor 2 uniprot id'].str.split(':').str[0]"
   ],
   "metadata": {
    "collapsed": false,
    "ExecuteTime": {
     "end_time": "2023-12-13T15:13:26.301988600Z",
     "start_time": "2023-12-13T15:13:26.217281800Z"
    }
   },
   "id": "33c4f082b66d4aa1"
  },
  {
   "cell_type": "code",
   "execution_count": 35,
   "outputs": [
    {
     "name": "stdout",
     "output_type": "stream",
     "text": [
      "142478\n",
      "5712\n"
     ]
    }
   ],
   "source": [
    "reactome['Int 2 type'].value_counts()\n",
    "reactome[(reactome['Interactor 1 Ensembl gene id']=='-') & (reactome['Interactor 2 Ensembl gene id']=='-')] \n",
    "\n",
    "reactome_uniprot = reactome[(reactome['Int 1 type'] == 'uniprotkb') & (reactome['Int 2 type'] == 'uniprotkb')]\n",
    "\n",
    "len(reactome_uniprot)\n",
    "\n",
    "interactor1 = reactome_uniprot['# Interactor 1 uniprot id'].tolist()\n",
    "interactor2 = reactome_uniprot['Interactor 2 uniprot id'].tolist()\n",
    "\n",
    "interactor_all = interactor1 + interactor2\n",
    "\n",
    "print(len(interactor_all))\n",
    "\n",
    "interactor_unique = set(interactor_all)\n",
    "\n",
    "print(len(interactor_unique))"
   ],
   "metadata": {
    "collapsed": false,
    "ExecuteTime": {
     "end_time": "2023-12-13T16:47:56.594266800Z",
     "start_time": "2023-12-13T16:47:56.531048700Z"
    }
   },
   "id": "eba30c91004c1931"
  },
  {
   "cell_type": "code",
   "execution_count": 18,
   "outputs": [
    {
     "data": {
      "text/plain": "Empty DataFrame\nColumns: [# Interactor 1 uniprot id, Interactor 1 Ensembl gene id, Interactor 1 Entrez Gene id, Interactor 2 uniprot id, Interactor 2 Ensembl gene id, Interactor 2 Entrez Gene id, Interaction type, Interaction context, Pubmed references, Int 1 type, Int 2 type]\nIndex: []",
      "text/html": "<div>\n<style scoped>\n    .dataframe tbody tr th:only-of-type {\n        vertical-align: middle;\n    }\n\n    .dataframe tbody tr th {\n        vertical-align: top;\n    }\n\n    .dataframe thead th {\n        text-align: right;\n    }\n</style>\n<table border=\"1\" class=\"dataframe\">\n  <thead>\n    <tr style=\"text-align: right;\">\n      <th></th>\n      <th># Interactor 1 uniprot id</th>\n      <th>Interactor 1 Ensembl gene id</th>\n      <th>Interactor 1 Entrez Gene id</th>\n      <th>Interactor 2 uniprot id</th>\n      <th>Interactor 2 Ensembl gene id</th>\n      <th>Interactor 2 Entrez Gene id</th>\n      <th>Interaction type</th>\n      <th>Interaction context</th>\n      <th>Pubmed references</th>\n      <th>Int 1 type</th>\n      <th>Int 2 type</th>\n    </tr>\n  </thead>\n  <tbody>\n  </tbody>\n</table>\n</div>"
     },
     "execution_count": 18,
     "metadata": {},
     "output_type": "execute_result"
    }
   ],
   "source": [
    "reactome[reactome['# Interactor 1 uniprot id'].isnull()]"
   ],
   "metadata": {
    "collapsed": false,
    "ExecuteTime": {
     "end_time": "2023-12-13T15:14:48.170078900Z",
     "start_time": "2023-12-13T15:14:48.141520Z"
    }
   },
   "id": "74f68101622c6a77"
  },
  {
   "cell_type": "code",
   "execution_count": 5,
   "outputs": [
    {
     "name": "stdout",
     "output_type": "stream",
     "text": [
      "['physical association' 'enzymatic reaction'\n",
      " 'oxidoreductase activity electron transfer reaction'\n",
      " 'dephosphorylation reaction' 'glycosylation reaction'\n",
      " 'phospholipase reaction' 'isomerase reaction' 'cleavage reaction'\n",
      " 'decarboxylation reaction' 'deacetylation reaction'\n",
      " 'carboxylation reaction' 'acetylation reaction'\n",
      " 'nucleoside triphosphatase reaction' 'deneddylation reaction'\n",
      " 'deubiquitination reaction' 'gtpase reaction' 'atpase reaction'\n",
      " 'demethylation reaction' 'sulfurtransfer reaction' 'amidation reaction'\n",
      " 'de-ADP-ribosylation reaction' 'phosphopantetheinylation'\n",
      " 'tyrosinylation']\n"
     ]
    }
   ],
   "source": [
    "# Take a look at the interaction types listed\n",
    "print(reactome['Interaction type'].unique())"
   ],
   "metadata": {
    "collapsed": false,
    "ExecuteTime": {
     "start_time": "2023-12-02T01:44:37.452444700Z"
    }
   },
   "id": "7527938f700d6de5"
  },
  {
   "cell_type": "code",
   "execution_count": 6,
   "outputs": [
    {
     "data": {
      "text/plain": "106142"
     },
     "execution_count": 6,
     "metadata": {},
     "output_type": "execute_result"
    }
   ],
   "source": [
    "# Get row count for number of edges in the dataset\n",
    "len(reactome)"
   ],
   "metadata": {
    "collapsed": false,
    "ExecuteTime": {
     "start_time": "2023-12-02T01:44:37.467432500Z"
    }
   },
   "id": "eaa487c299371ea7"
  },
  {
   "cell_type": "code",
   "execution_count": 7,
   "outputs": [
    {
     "data": {
      "text/plain": "         extracted_ENSG 1   extracted_ENSG 2\n0       [ENSG00000136156]  [ENSG00000136156]\n1       [ENSG00000145335]  [ENSG00000145335]\n2       [ENSG00000173432]  [ENSG00000173432]\n3       [ENSG00000110244]  [ENSG00000110244]\n4       [ENSG00000175206]  [ENSG00000175206]\n...                   ...                ...\n106137  [ENSG00000043591]                 []\n106138  [ENSG00000043591]                 []\n106139  [ENSG00000188778]                 []\n106140  [ENSG00000188778]                 []\n106141  [ENSG00000188778]                 []\n\n[106142 rows x 2 columns]",
      "text/html": "<div>\n<style scoped>\n    .dataframe tbody tr th:only-of-type {\n        vertical-align: middle;\n    }\n\n    .dataframe tbody tr th {\n        vertical-align: top;\n    }\n\n    .dataframe thead th {\n        text-align: right;\n    }\n</style>\n<table border=\"1\" class=\"dataframe\">\n  <thead>\n    <tr style=\"text-align: right;\">\n      <th></th>\n      <th>extracted_ENSG 1</th>\n      <th>extracted_ENSG 2</th>\n    </tr>\n  </thead>\n  <tbody>\n    <tr>\n      <th>0</th>\n      <td>[ENSG00000136156]</td>\n      <td>[ENSG00000136156]</td>\n    </tr>\n    <tr>\n      <th>1</th>\n      <td>[ENSG00000145335]</td>\n      <td>[ENSG00000145335]</td>\n    </tr>\n    <tr>\n      <th>2</th>\n      <td>[ENSG00000173432]</td>\n      <td>[ENSG00000173432]</td>\n    </tr>\n    <tr>\n      <th>3</th>\n      <td>[ENSG00000110244]</td>\n      <td>[ENSG00000110244]</td>\n    </tr>\n    <tr>\n      <th>4</th>\n      <td>[ENSG00000175206]</td>\n      <td>[ENSG00000175206]</td>\n    </tr>\n    <tr>\n      <th>...</th>\n      <td>...</td>\n      <td>...</td>\n    </tr>\n    <tr>\n      <th>106137</th>\n      <td>[ENSG00000043591]</td>\n      <td>[]</td>\n    </tr>\n    <tr>\n      <th>106138</th>\n      <td>[ENSG00000043591]</td>\n      <td>[]</td>\n    </tr>\n    <tr>\n      <th>106139</th>\n      <td>[ENSG00000188778]</td>\n      <td>[]</td>\n    </tr>\n    <tr>\n      <th>106140</th>\n      <td>[ENSG00000188778]</td>\n      <td>[]</td>\n    </tr>\n    <tr>\n      <th>106141</th>\n      <td>[ENSG00000188778]</td>\n      <td>[]</td>\n    </tr>\n  </tbody>\n</table>\n<p>106142 rows × 2 columns</p>\n</div>"
     },
     "execution_count": 7,
     "metadata": {},
     "output_type": "execute_result"
    }
   ],
   "source": [
    "# Function to extract ENSG followed by 11 digits\n",
    "def extract_ENSG(text):\n",
    "    return re.findall(r'ENSG\\d{11}', text)\n",
    "\n",
    "# Apply the function to each cell in the column and store the result in a new column\n",
    "reactome['extracted_ENSG 1'] = reactome['Interactor 1 Ensembl gene id'].apply(extract_ENSG)\n",
    "reactome['extracted_ENSG 2'] = reactome['Interactor 2 Ensembl gene id'].apply(extract_ENSG)\n",
    "\n",
    "# See the two new columns\n",
    "reactome[['extracted_ENSG 1', 'extracted_ENSG 2']]"
   ],
   "metadata": {
    "collapsed": false,
    "ExecuteTime": {
     "start_time": "2023-12-02T01:44:37.484433200Z"
    }
   },
   "id": "f2b89016c842faa1"
  },
  {
   "cell_type": "code",
   "execution_count": 8,
   "outputs": [
    {
     "data": {
      "text/plain": "96071"
     },
     "execution_count": 8,
     "metadata": {},
     "output_type": "execute_result"
    }
   ],
   "source": [
    "# Filter out any self references\n",
    "reactome = reactome[reactome['extracted_ENSG 1'] != reactome['extracted_ENSG 2']]\n",
    "len(reactome)"
   ],
   "metadata": {
    "collapsed": false,
    "ExecuteTime": {
     "end_time": "2023-12-02T01:44:37.914169300Z",
     "start_time": "2023-12-02T01:44:37.873186400Z"
    }
   },
   "id": "12507aeec4c6847"
  },
  {
   "cell_type": "code",
   "execution_count": 9,
   "outputs": [
    {
     "data": {
      "text/plain": "31980"
     },
     "execution_count": 9,
     "metadata": {},
     "output_type": "execute_result"
    }
   ],
   "source": [
    "# Get rows where either of the extracted ENSG columns is just an empty list\n",
    "rows_with_empty_list =  reactome[reactome['extracted_ENSG 1'].apply(lambda x: x == []) | reactome['extracted_ENSG 2'].apply(lambda x: x == [])] \n",
    "rows_with_empty_list\n",
    "len(rows_with_empty_list)"
   ],
   "metadata": {
    "collapsed": false,
    "ExecuteTime": {
     "end_time": "2023-12-02T01:44:38.042063300Z",
     "start_time": "2023-12-02T01:44:37.905173800Z"
    }
   },
   "id": "c532665e65400d28"
  },
  {
   "cell_type": "code",
   "execution_count": 10,
   "outputs": [
    {
     "name": "stdout",
     "output_type": "stream",
     "text": [
      "64091\n"
     ]
    },
    {
     "data": {
      "text/plain": "     # Interactor 1 uniprot id  \\\n39            uniprotkb:P08123   \n41            uniprotkb:P08123   \n45            uniprotkb:P08123   \n47            uniprotkb:P08123   \n49            uniprotkb:P08123   \n...                        ...   \n1573          uniprotkb:Q86YM7   \n1574          uniprotkb:Q86YM7   \n1575          uniprotkb:Q9NSB8   \n1576          uniprotkb:Q8N4T8   \n1579          uniprotkb:P08238   \n\n                           Interactor 1 Ensembl gene id  \\\n39    ENSEMBL:ENSG00000164692|ENSEMBL:ENST0000029726...   \n41    ENSEMBL:ENSG00000164692|ENSEMBL:ENST0000029726...   \n45    ENSEMBL:ENSG00000164692|ENSEMBL:ENST0000029726...   \n47    ENSEMBL:ENSG00000164692|ENSEMBL:ENST0000029726...   \n49    ENSEMBL:ENSG00000164692|ENSEMBL:ENST0000029726...   \n...                                                 ...   \n1573  ENSEMBL:ENSP00000426651|ENSEMBL:ENSG0000015241...   \n1574  ENSEMBL:ENSP00000426651|ENSEMBL:ENSG0000015241...   \n1575  ENSEMBL:ENST00000304231|ENSEMBL:ENSP0000040763...   \n1576  ENSEMBL:ENST00000306193|ENSEMBL:ENSG0000014543...   \n1579  ENSEMBL:ENST00000620073|ENSEMBL:ENSP0000036070...   \n\n     Interactor 1 Entrez Gene id Interactor 2 uniprot id  \\\n39                             -        uniprotkb:P02452   \n41                             -        uniprotkb:P02452   \n45                             -        uniprotkb:P02452   \n47                             -        uniprotkb:P02452   \n49                             -        uniprotkb:P02452   \n...                          ...                     ...   \n1573                           -        uniprotkb:Q13255   \n1574                           -        uniprotkb:P41594   \n1575                           -        uniprotkb:P41594   \n1576                           -        uniprotkb:Q92506   \n1579                           -        uniprotkb:Q15185   \n\n                           Interactor 2 Ensembl gene id  \\\n39    ENSEMBL:ENSP00000225964|ENSEMBL:ENSG0000010882...   \n41    ENSEMBL:ENSP00000225964|ENSEMBL:ENSG0000010882...   \n45    ENSEMBL:ENSP00000225964|ENSEMBL:ENSG0000010882...   \n47    ENSEMBL:ENSP00000225964|ENSEMBL:ENSG0000010882...   \n49    ENSEMBL:ENSP00000225964|ENSEMBL:ENSG0000010882...   \n...                                                 ...   \n1573  ENSEMBL:ENST00000507907|ENSEMBL:ENST0000049280...   \n1574  ENSEMBL:ENST00000305447|ENSEMBL:ENSG0000016895...   \n1575  ENSEMBL:ENST00000305447|ENSEMBL:ENSG0000016895...   \n1576  ENSEMBL:ENSP00000406488|ENSEMBL:ENST0000037466...   \n1579  ENSEMBL:ENSP00000262033|ENSEMBL:ENST0000041427...   \n\n     Interactor 2 Entrez Gene id      Interaction type  \\\n39                             -  physical association   \n41                             -  physical association   \n45                             -  physical association   \n47                             -  physical association   \n49                             -  physical association   \n...                          ...                   ...   \n1573                           -  physical association   \n1574                           -  physical association   \n1575                           -  physical association   \n1576                           -  physical association   \n1579                           -  physical association   \n\n         Interaction context Pubmed references   extracted_ENSG 1  \\\n39    reactome:R-HSA-2428940          24243840  [ENSG00000164692]   \n41    reactome:R-HSA-2428940          24243840  [ENSG00000164692]   \n45    reactome:R-HSA-2428940          24243840  [ENSG00000164692]   \n47    reactome:R-HSA-2428940          24243840  [ENSG00000164692]   \n49    reactome:R-HSA-2428940          24243840  [ENSG00000164692]   \n...                      ...               ...                ...   \n1573  reactome:R-HSA-6794288   9808458|9069287  [ENSG00000152413]   \n1574  reactome:R-HSA-6794288   9808458|9069287  [ENSG00000152413]   \n1575  reactome:R-HSA-6794288   9808458|9069287  [ENSG00000103942]   \n1576  reactome:R-HSA-8862181          24243840  [ENSG00000145439]   \n1579  reactome:R-HSA-8937201          10409767  [ENSG00000096384]   \n\n                                       extracted_ENSG 2  \n39                                    [ENSG00000108821]  \n41                                    [ENSG00000108821]  \n45                                    [ENSG00000108821]  \n47                                    [ENSG00000108821]  \n49                                    [ENSG00000108821]  \n...                                                 ...  \n1573                                  [ENSG00000152822]  \n1574                                  [ENSG00000168959]  \n1575                                  [ENSG00000168959]  \n1576  [ENSG00000232357, ENSG00000228357, ENSG0000022...  \n1579                                  [ENSG00000110958]  \n\n[1000 rows x 11 columns]",
      "text/html": "<div>\n<style scoped>\n    .dataframe tbody tr th:only-of-type {\n        vertical-align: middle;\n    }\n\n    .dataframe tbody tr th {\n        vertical-align: top;\n    }\n\n    .dataframe thead th {\n        text-align: right;\n    }\n</style>\n<table border=\"1\" class=\"dataframe\">\n  <thead>\n    <tr style=\"text-align: right;\">\n      <th></th>\n      <th># Interactor 1 uniprot id</th>\n      <th>Interactor 1 Ensembl gene id</th>\n      <th>Interactor 1 Entrez Gene id</th>\n      <th>Interactor 2 uniprot id</th>\n      <th>Interactor 2 Ensembl gene id</th>\n      <th>Interactor 2 Entrez Gene id</th>\n      <th>Interaction type</th>\n      <th>Interaction context</th>\n      <th>Pubmed references</th>\n      <th>extracted_ENSG 1</th>\n      <th>extracted_ENSG 2</th>\n    </tr>\n  </thead>\n  <tbody>\n    <tr>\n      <th>39</th>\n      <td>uniprotkb:P08123</td>\n      <td>ENSEMBL:ENSG00000164692|ENSEMBL:ENST0000029726...</td>\n      <td>-</td>\n      <td>uniprotkb:P02452</td>\n      <td>ENSEMBL:ENSP00000225964|ENSEMBL:ENSG0000010882...</td>\n      <td>-</td>\n      <td>physical association</td>\n      <td>reactome:R-HSA-2428940</td>\n      <td>24243840</td>\n      <td>[ENSG00000164692]</td>\n      <td>[ENSG00000108821]</td>\n    </tr>\n    <tr>\n      <th>41</th>\n      <td>uniprotkb:P08123</td>\n      <td>ENSEMBL:ENSG00000164692|ENSEMBL:ENST0000029726...</td>\n      <td>-</td>\n      <td>uniprotkb:P02452</td>\n      <td>ENSEMBL:ENSP00000225964|ENSEMBL:ENSG0000010882...</td>\n      <td>-</td>\n      <td>physical association</td>\n      <td>reactome:R-HSA-2428940</td>\n      <td>24243840</td>\n      <td>[ENSG00000164692]</td>\n      <td>[ENSG00000108821]</td>\n    </tr>\n    <tr>\n      <th>45</th>\n      <td>uniprotkb:P08123</td>\n      <td>ENSEMBL:ENSG00000164692|ENSEMBL:ENST0000029726...</td>\n      <td>-</td>\n      <td>uniprotkb:P02452</td>\n      <td>ENSEMBL:ENSP00000225964|ENSEMBL:ENSG0000010882...</td>\n      <td>-</td>\n      <td>physical association</td>\n      <td>reactome:R-HSA-2428940</td>\n      <td>24243840</td>\n      <td>[ENSG00000164692]</td>\n      <td>[ENSG00000108821]</td>\n    </tr>\n    <tr>\n      <th>47</th>\n      <td>uniprotkb:P08123</td>\n      <td>ENSEMBL:ENSG00000164692|ENSEMBL:ENST0000029726...</td>\n      <td>-</td>\n      <td>uniprotkb:P02452</td>\n      <td>ENSEMBL:ENSP00000225964|ENSEMBL:ENSG0000010882...</td>\n      <td>-</td>\n      <td>physical association</td>\n      <td>reactome:R-HSA-2428940</td>\n      <td>24243840</td>\n      <td>[ENSG00000164692]</td>\n      <td>[ENSG00000108821]</td>\n    </tr>\n    <tr>\n      <th>49</th>\n      <td>uniprotkb:P08123</td>\n      <td>ENSEMBL:ENSG00000164692|ENSEMBL:ENST0000029726...</td>\n      <td>-</td>\n      <td>uniprotkb:P02452</td>\n      <td>ENSEMBL:ENSP00000225964|ENSEMBL:ENSG0000010882...</td>\n      <td>-</td>\n      <td>physical association</td>\n      <td>reactome:R-HSA-2428940</td>\n      <td>24243840</td>\n      <td>[ENSG00000164692]</td>\n      <td>[ENSG00000108821]</td>\n    </tr>\n    <tr>\n      <th>...</th>\n      <td>...</td>\n      <td>...</td>\n      <td>...</td>\n      <td>...</td>\n      <td>...</td>\n      <td>...</td>\n      <td>...</td>\n      <td>...</td>\n      <td>...</td>\n      <td>...</td>\n      <td>...</td>\n    </tr>\n    <tr>\n      <th>1573</th>\n      <td>uniprotkb:Q86YM7</td>\n      <td>ENSEMBL:ENSP00000426651|ENSEMBL:ENSG0000015241...</td>\n      <td>-</td>\n      <td>uniprotkb:Q13255</td>\n      <td>ENSEMBL:ENST00000507907|ENSEMBL:ENST0000049280...</td>\n      <td>-</td>\n      <td>physical association</td>\n      <td>reactome:R-HSA-6794288</td>\n      <td>9808458|9069287</td>\n      <td>[ENSG00000152413]</td>\n      <td>[ENSG00000152822]</td>\n    </tr>\n    <tr>\n      <th>1574</th>\n      <td>uniprotkb:Q86YM7</td>\n      <td>ENSEMBL:ENSP00000426651|ENSEMBL:ENSG0000015241...</td>\n      <td>-</td>\n      <td>uniprotkb:P41594</td>\n      <td>ENSEMBL:ENST00000305447|ENSEMBL:ENSG0000016895...</td>\n      <td>-</td>\n      <td>physical association</td>\n      <td>reactome:R-HSA-6794288</td>\n      <td>9808458|9069287</td>\n      <td>[ENSG00000152413]</td>\n      <td>[ENSG00000168959]</td>\n    </tr>\n    <tr>\n      <th>1575</th>\n      <td>uniprotkb:Q9NSB8</td>\n      <td>ENSEMBL:ENST00000304231|ENSEMBL:ENSP0000040763...</td>\n      <td>-</td>\n      <td>uniprotkb:P41594</td>\n      <td>ENSEMBL:ENST00000305447|ENSEMBL:ENSG0000016895...</td>\n      <td>-</td>\n      <td>physical association</td>\n      <td>reactome:R-HSA-6794288</td>\n      <td>9808458|9069287</td>\n      <td>[ENSG00000103942]</td>\n      <td>[ENSG00000168959]</td>\n    </tr>\n    <tr>\n      <th>1576</th>\n      <td>uniprotkb:Q8N4T8</td>\n      <td>ENSEMBL:ENST00000306193|ENSEMBL:ENSG0000014543...</td>\n      <td>-</td>\n      <td>uniprotkb:Q92506</td>\n      <td>ENSEMBL:ENSP00000406488|ENSEMBL:ENST0000037466...</td>\n      <td>-</td>\n      <td>physical association</td>\n      <td>reactome:R-HSA-8862181</td>\n      <td>24243840</td>\n      <td>[ENSG00000145439]</td>\n      <td>[ENSG00000232357, ENSG00000228357, ENSG0000022...</td>\n    </tr>\n    <tr>\n      <th>1579</th>\n      <td>uniprotkb:P08238</td>\n      <td>ENSEMBL:ENST00000620073|ENSEMBL:ENSP0000036070...</td>\n      <td>-</td>\n      <td>uniprotkb:Q15185</td>\n      <td>ENSEMBL:ENSP00000262033|ENSEMBL:ENST0000041427...</td>\n      <td>-</td>\n      <td>physical association</td>\n      <td>reactome:R-HSA-8937201</td>\n      <td>10409767</td>\n      <td>[ENSG00000096384]</td>\n      <td>[ENSG00000110958]</td>\n    </tr>\n  </tbody>\n</table>\n<p>1000 rows × 11 columns</p>\n</div>"
     },
     "execution_count": 10,
     "metadata": {},
     "output_type": "execute_result"
    }
   ],
   "source": [
    "# Remove the rows with empty ENSG values from the main dataset\n",
    "reactome_complete = reactome[~reactome.isin(rows_with_empty_list).all(axis=1)]\n",
    "\n",
    "print(len(reactome_complete))\n",
    "reactome_complete.head(1000)"
   ],
   "metadata": {
    "collapsed": false,
    "ExecuteTime": {
     "end_time": "2023-12-02T01:44:38.054070100Z",
     "start_time": "2023-12-02T01:44:37.953740200Z"
    }
   },
   "id": "24ad4cb1ad72dbbc"
  },
  {
   "cell_type": "code",
   "execution_count": 11,
   "outputs": [
    {
     "data": {
      "text/plain": "6849"
     },
     "execution_count": 11,
     "metadata": {},
     "output_type": "execute_result"
    }
   ],
   "source": [
    "# See how many rows where either column1 or column2 contains a list with more than one item\n",
    "len(reactome_complete[reactome_complete['extracted_ENSG 1'].apply(lambda x: isinstance(x, list) and len(x) > 1) |\n",
    "                   reactome_complete['extracted_ENSG 2'].apply(lambda x: isinstance(x, list) and len(x) > 1)])"
   ],
   "metadata": {
    "collapsed": false,
    "ExecuteTime": {
     "end_time": "2023-12-02T01:44:38.136610600Z",
     "start_time": "2023-12-02T01:44:38.045198800Z"
    }
   },
   "id": "7045c8ebcdb62b0"
  },
  {
   "cell_type": "code",
   "execution_count": 12,
   "outputs": [],
   "source": [
    "import pandas as pd\n",
    "from itertools import product\n",
    "\n",
    "def expand_list_pairs(df, col1, col2, dropped_rows_csv_path):\n",
    "    # Create a new DataFrame to hold the expanded rows\n",
    "    expanded_rows = pd.DataFrame(columns=df.columns)\n",
    "\n",
    "    # Track indices to drop from the original DataFrame\n",
    "    indices_to_drop = []\n",
    "\n",
    "    # Iterate through the DataFrame\n",
    "    for idx, row in df.iterrows():\n",
    "        # Check if either column has a list with more than one item\n",
    "        is_col1_list = isinstance(row[col1], list) and len(row[col1]) > 1\n",
    "        is_col2_list = isinstance(row[col2], list) and len(row[col2]) > 1\n",
    "\n",
    "        if is_col1_list or is_col2_list:\n",
    "            # Add index to the list of indices to drop\n",
    "            indices_to_drop.append(idx)\n",
    "\n",
    "            # Create combinations of items\n",
    "            items_col1 = row[col1] if is_col1_list else [row[col1]]\n",
    "            items_col2 = row[col2] if is_col2_list else [row[col2]]\n",
    "\n",
    "            for combination in product(items_col1, items_col2):\n",
    "                new_row = row.copy()\n",
    "                new_row[col1] = combination[0]\n",
    "                new_row[col2] = combination[1]\n",
    "                # Append new_row to expanded_rows using concat\n",
    "                expanded_rows = pd.concat([expanded_rows, pd.DataFrame([new_row])], ignore_index=True)\n",
    "\n",
    "    # Extract the rows to be dropped into a separate DataFrame\n",
    "    rows_to_drop = df.loc[indices_to_drop]\n",
    "\n",
    "    # Save the rows to be dropped to a CSV file\n",
    "    rows_to_drop.to_csv(dropped_rows_csv_path, index=False)\n",
    "\n",
    "    # Drop the original rows where lists had more than one item\n",
    "    df = df.drop(indices_to_drop)\n",
    "\n",
    "    # Concatenate the original DataFrame with the expanded rows\n",
    "    df = pd.concat([df, expanded_rows], ignore_index=True)\n",
    "\n",
    "    return df"
   ],
   "metadata": {
    "collapsed": false,
    "ExecuteTime": {
     "end_time": "2023-12-02T01:44:38.161623400Z",
     "start_time": "2023-12-02T01:44:38.098061700Z"
    }
   },
   "id": "a4cd9da56ad9a503"
  },
  {
   "cell_type": "code",
   "execution_count": 13,
   "outputs": [],
   "source": [
    "data = {\n",
    "    'column1': [[1, 2], [3], ['l'], ['a', 'b', 'c'], [5]],\n",
    "    'column2': [[2], [1, 2], ['x', 'y'], [6], ['a']]\n",
    "}\n",
    "df1 = pd.DataFrame(data)"
   ],
   "metadata": {
    "collapsed": false,
    "ExecuteTime": {
     "end_time": "2023-12-02T01:44:38.175615600Z",
     "start_time": "2023-12-02T01:44:38.110088200Z"
    }
   },
   "id": "4a4044d07057aa26"
  },
  {
   "cell_type": "code",
   "execution_count": 14,
   "outputs": [],
   "source": [
    "df_revised = expand_list_pairs(df1, 'column1', 'column2', data_path + '/reactome/test_dropped_rows.csv')"
   ],
   "metadata": {
    "collapsed": false,
    "ExecuteTime": {
     "end_time": "2023-12-02T01:44:38.246168700Z",
     "start_time": "2023-12-02T01:44:38.134621700Z"
    }
   },
   "id": "459f3f1d0116562a"
  },
  {
   "cell_type": "code",
   "execution_count": 15,
   "outputs": [
    {
     "name": "stdout",
     "output_type": "stream",
     "text": [
      "     column1 column2\n",
      "0     [1, 2]     [2]\n",
      "1        [3]  [1, 2]\n",
      "2        [l]  [x, y]\n",
      "3  [a, b, c]     [6]\n",
      "4        [5]     [a]\n",
      "  column1 column2\n",
      "0     [5]     [a]\n",
      "1       1     [2]\n",
      "2       2     [2]\n",
      "3     [3]       1\n",
      "4     [3]       2\n",
      "5     [l]       x\n",
      "6     [l]       y\n",
      "7       a     [6]\n",
      "8       b     [6]\n",
      "9       c     [6]\n"
     ]
    }
   ],
   "source": [
    "print(df1)\n",
    "print(df_revised)"
   ],
   "metadata": {
    "collapsed": false,
    "ExecuteTime": {
     "end_time": "2023-12-02T01:44:38.249168200Z",
     "start_time": "2023-12-02T01:44:38.160612500Z"
    }
   },
   "id": "52feb1c3e16fad31"
  },
  {
   "cell_type": "code",
   "execution_count": 16,
   "outputs": [],
   "source": [
    "#reactome_final = expand_list_pairs(reactome_complete, 'extracted_ENSG 1', 'extracted_ENSG 2')\n",
    "reactome_final = expand_list_pairs(reactome_complete, 'extracted_ENSG 1', 'extracted_ENSG 2', data_path + '/reactome/reactome_dropped_rows.csv')"
   ],
   "metadata": {
    "collapsed": false,
    "ExecuteTime": {
     "end_time": "2023-12-02T01:46:06.532517400Z",
     "start_time": "2023-12-02T01:44:38.527721400Z"
    }
   },
   "id": "89e43880eafb7bde"
  },
  {
   "cell_type": "code",
   "execution_count": 17,
   "outputs": [
    {
     "data": {
      "text/plain": "Empty DataFrame\nColumns: [# Interactor 1 uniprot id, Interactor 1 Ensembl gene id, Interactor 1 Entrez Gene id, Interactor 2 uniprot id, Interactor 2 Ensembl gene id, Interactor 2 Entrez Gene id, Interaction type, Interaction context, Pubmed references, extracted_ENSG 1, extracted_ENSG 2]\nIndex: []",
      "text/html": "<div>\n<style scoped>\n    .dataframe tbody tr th:only-of-type {\n        vertical-align: middle;\n    }\n\n    .dataframe tbody tr th {\n        vertical-align: top;\n    }\n\n    .dataframe thead th {\n        text-align: right;\n    }\n</style>\n<table border=\"1\" class=\"dataframe\">\n  <thead>\n    <tr style=\"text-align: right;\">\n      <th></th>\n      <th># Interactor 1 uniprot id</th>\n      <th>Interactor 1 Ensembl gene id</th>\n      <th>Interactor 1 Entrez Gene id</th>\n      <th>Interactor 2 uniprot id</th>\n      <th>Interactor 2 Ensembl gene id</th>\n      <th>Interactor 2 Entrez Gene id</th>\n      <th>Interaction type</th>\n      <th>Interaction context</th>\n      <th>Pubmed references</th>\n      <th>extracted_ENSG 1</th>\n      <th>extracted_ENSG 2</th>\n    </tr>\n  </thead>\n  <tbody>\n  </tbody>\n</table>\n</div>"
     },
     "execution_count": 17,
     "metadata": {},
     "output_type": "execute_result"
    }
   ],
   "source": [
    "multiple_genes_listed = reactome_final[reactome_final['extracted_ENSG 1'].apply(lambda x: isinstance(x, list) and len(x) > 1) |\n",
    "                   reactome_final['extracted_ENSG 2'].apply(lambda x: isinstance(x, list) and len(x) > 1)]\n",
    "\n",
    "multiple_genes_listed"
   ],
   "metadata": {
    "collapsed": false,
    "ExecuteTime": {
     "end_time": "2023-12-02T01:46:06.596921900Z",
     "start_time": "2023-12-02T01:46:06.538521200Z"
    }
   },
   "id": "26b79923a744accf"
  },
  {
   "cell_type": "code",
   "execution_count": 18,
   "outputs": [
    {
     "name": "stdout",
     "output_type": "stream",
     "text": [
      "103760\n"
     ]
    },
    {
     "data": {
      "text/plain": "    # Interactor 1 uniprot id  \\\n0            uniprotkb:P08123   \n1            uniprotkb:P08123   \n2            uniprotkb:P08123   \n3            uniprotkb:P08123   \n4            uniprotkb:P08123   \n..                        ...   \n995          uniprotkb:P46098   \n996          uniprotkb:P46098   \n997          uniprotkb:P01877   \n998          uniprotkb:Q8IVH4   \n999          uniprotkb:Q8IVH4   \n\n                          Interactor 1 Ensembl gene id  \\\n0    ENSEMBL:ENSG00000164692|ENSEMBL:ENST0000029726...   \n1    ENSEMBL:ENSG00000164692|ENSEMBL:ENST0000029726...   \n2    ENSEMBL:ENSG00000164692|ENSEMBL:ENST0000029726...   \n3    ENSEMBL:ENSG00000164692|ENSEMBL:ENST0000029726...   \n4    ENSEMBL:ENSG00000164692|ENSEMBL:ENST0000029726...   \n..                                                 ...   \n995  ENSEMBL:ENSP00000347754|ENSEMBL:ENSP0000042477...   \n996  ENSEMBL:ENSP00000347754|ENSEMBL:ENSP0000042477...   \n997  ENSEMBL:ENSG00000211890|ENSEMBL:ENSP0000037498...   \n998  ENSEMBL:ENSP00000497680|ENSEMBL:ENSP0000049700...   \n999  ENSEMBL:ENSP00000497680|ENSEMBL:ENSP0000049700...   \n\n    Interactor 1 Entrez Gene id Interactor 2 uniprot id  \\\n0                             -        uniprotkb:P02452   \n1                             -        uniprotkb:P02452   \n2                             -        uniprotkb:P02452   \n3                             -        uniprotkb:P02452   \n4                             -        uniprotkb:P02452   \n..                          ...                     ...   \n995                           -        uniprotkb:Q70Z44   \n996                           -        uniprotkb:A5X5Y0   \n997                           -        uniprotkb:P01591   \n998                           -        uniprotkb:P22033   \n999                           -        uniprotkb:P22033   \n\n                          Interactor 2 Ensembl gene id  \\\n0    ENSEMBL:ENSP00000225964|ENSEMBL:ENSG0000010882...   \n1    ENSEMBL:ENSP00000225964|ENSEMBL:ENSG0000010882...   \n2    ENSEMBL:ENSP00000225964|ENSEMBL:ENSG0000010882...   \n3    ENSEMBL:ENSP00000225964|ENSEMBL:ENSG0000010882...   \n4    ENSEMBL:ENSP00000225964|ENSEMBL:ENSG0000010882...   \n..                                                 ...   \n995  ENSEMBL:ENST00000428798|ENSEMBL:ENSP0000038926...   \n996  ENSEMBL:ENST00000425359|ENSEMBL:ENSG0000018603...   \n997  ENSEMBL:ENSP00000254801|ENSEMBL:ENSP0000042668...   \n998  ENSEMBL:ENST00000274813|ENSEMBL:ENSG0000014608...   \n999  ENSEMBL:ENST00000274813|ENSEMBL:ENSG0000014608...   \n\n    Interactor 2 Entrez Gene id      Interaction type     Interaction context  \\\n0                             -  physical association  reactome:R-HSA-2428940   \n1                             -  physical association  reactome:R-HSA-2428940   \n2                             -  physical association  reactome:R-HSA-2428940   \n3                             -  physical association  reactome:R-HSA-2428940   \n4                             -  physical association  reactome:R-HSA-2428940   \n..                          ...                   ...                     ...   \n995                           -  physical association  reactome:R-HSA-6792753   \n996                           -  physical association  reactome:R-HSA-6792754   \n997                           -  physical association  reactome:R-HSA-8858031   \n998                           -  physical association  reactome:R-HSA-5654974   \n999                           -  physical association  reactome:R-HSA-5654974   \n\n    Pubmed references   extracted_ENSG 1   extracted_ENSG 2  \n0            24243840  [ENSG00000164692]  [ENSG00000108821]  \n1            24243840  [ENSG00000164692]  [ENSG00000108821]  \n2            24243840  [ENSG00000164692]  [ENSG00000108821]  \n3            24243840  [ENSG00000164692]  [ENSG00000108821]  \n4            24243840  [ENSG00000164692]  [ENSG00000108821]  \n..                ...                ...                ...  \n995          24243840  [ENSG00000166736]  [ENSG00000186090]  \n996          24243840  [ENSG00000166736]  [ENSG00000186038]  \n997          11877257  [ENSG00000211890]  [ENSG00000132465]  \n998          24243840  [ENSG00000151611]  [ENSG00000146085]  \n999          24243840  [ENSG00000151611]  [ENSG00000146085]  \n\n[1000 rows x 11 columns]",
      "text/html": "<div>\n<style scoped>\n    .dataframe tbody tr th:only-of-type {\n        vertical-align: middle;\n    }\n\n    .dataframe tbody tr th {\n        vertical-align: top;\n    }\n\n    .dataframe thead th {\n        text-align: right;\n    }\n</style>\n<table border=\"1\" class=\"dataframe\">\n  <thead>\n    <tr style=\"text-align: right;\">\n      <th></th>\n      <th># Interactor 1 uniprot id</th>\n      <th>Interactor 1 Ensembl gene id</th>\n      <th>Interactor 1 Entrez Gene id</th>\n      <th>Interactor 2 uniprot id</th>\n      <th>Interactor 2 Ensembl gene id</th>\n      <th>Interactor 2 Entrez Gene id</th>\n      <th>Interaction type</th>\n      <th>Interaction context</th>\n      <th>Pubmed references</th>\n      <th>extracted_ENSG 1</th>\n      <th>extracted_ENSG 2</th>\n    </tr>\n  </thead>\n  <tbody>\n    <tr>\n      <th>0</th>\n      <td>uniprotkb:P08123</td>\n      <td>ENSEMBL:ENSG00000164692|ENSEMBL:ENST0000029726...</td>\n      <td>-</td>\n      <td>uniprotkb:P02452</td>\n      <td>ENSEMBL:ENSP00000225964|ENSEMBL:ENSG0000010882...</td>\n      <td>-</td>\n      <td>physical association</td>\n      <td>reactome:R-HSA-2428940</td>\n      <td>24243840</td>\n      <td>[ENSG00000164692]</td>\n      <td>[ENSG00000108821]</td>\n    </tr>\n    <tr>\n      <th>1</th>\n      <td>uniprotkb:P08123</td>\n      <td>ENSEMBL:ENSG00000164692|ENSEMBL:ENST0000029726...</td>\n      <td>-</td>\n      <td>uniprotkb:P02452</td>\n      <td>ENSEMBL:ENSP00000225964|ENSEMBL:ENSG0000010882...</td>\n      <td>-</td>\n      <td>physical association</td>\n      <td>reactome:R-HSA-2428940</td>\n      <td>24243840</td>\n      <td>[ENSG00000164692]</td>\n      <td>[ENSG00000108821]</td>\n    </tr>\n    <tr>\n      <th>2</th>\n      <td>uniprotkb:P08123</td>\n      <td>ENSEMBL:ENSG00000164692|ENSEMBL:ENST0000029726...</td>\n      <td>-</td>\n      <td>uniprotkb:P02452</td>\n      <td>ENSEMBL:ENSP00000225964|ENSEMBL:ENSG0000010882...</td>\n      <td>-</td>\n      <td>physical association</td>\n      <td>reactome:R-HSA-2428940</td>\n      <td>24243840</td>\n      <td>[ENSG00000164692]</td>\n      <td>[ENSG00000108821]</td>\n    </tr>\n    <tr>\n      <th>3</th>\n      <td>uniprotkb:P08123</td>\n      <td>ENSEMBL:ENSG00000164692|ENSEMBL:ENST0000029726...</td>\n      <td>-</td>\n      <td>uniprotkb:P02452</td>\n      <td>ENSEMBL:ENSP00000225964|ENSEMBL:ENSG0000010882...</td>\n      <td>-</td>\n      <td>physical association</td>\n      <td>reactome:R-HSA-2428940</td>\n      <td>24243840</td>\n      <td>[ENSG00000164692]</td>\n      <td>[ENSG00000108821]</td>\n    </tr>\n    <tr>\n      <th>4</th>\n      <td>uniprotkb:P08123</td>\n      <td>ENSEMBL:ENSG00000164692|ENSEMBL:ENST0000029726...</td>\n      <td>-</td>\n      <td>uniprotkb:P02452</td>\n      <td>ENSEMBL:ENSP00000225964|ENSEMBL:ENSG0000010882...</td>\n      <td>-</td>\n      <td>physical association</td>\n      <td>reactome:R-HSA-2428940</td>\n      <td>24243840</td>\n      <td>[ENSG00000164692]</td>\n      <td>[ENSG00000108821]</td>\n    </tr>\n    <tr>\n      <th>...</th>\n      <td>...</td>\n      <td>...</td>\n      <td>...</td>\n      <td>...</td>\n      <td>...</td>\n      <td>...</td>\n      <td>...</td>\n      <td>...</td>\n      <td>...</td>\n      <td>...</td>\n      <td>...</td>\n    </tr>\n    <tr>\n      <th>995</th>\n      <td>uniprotkb:P46098</td>\n      <td>ENSEMBL:ENSP00000347754|ENSEMBL:ENSP0000042477...</td>\n      <td>-</td>\n      <td>uniprotkb:Q70Z44</td>\n      <td>ENSEMBL:ENST00000428798|ENSEMBL:ENSP0000038926...</td>\n      <td>-</td>\n      <td>physical association</td>\n      <td>reactome:R-HSA-6792753</td>\n      <td>24243840</td>\n      <td>[ENSG00000166736]</td>\n      <td>[ENSG00000186090]</td>\n    </tr>\n    <tr>\n      <th>996</th>\n      <td>uniprotkb:P46098</td>\n      <td>ENSEMBL:ENSP00000347754|ENSEMBL:ENSP0000042477...</td>\n      <td>-</td>\n      <td>uniprotkb:A5X5Y0</td>\n      <td>ENSEMBL:ENST00000425359|ENSEMBL:ENSG0000018603...</td>\n      <td>-</td>\n      <td>physical association</td>\n      <td>reactome:R-HSA-6792754</td>\n      <td>24243840</td>\n      <td>[ENSG00000166736]</td>\n      <td>[ENSG00000186038]</td>\n    </tr>\n    <tr>\n      <th>997</th>\n      <td>uniprotkb:P01877</td>\n      <td>ENSEMBL:ENSG00000211890|ENSEMBL:ENSP0000037498...</td>\n      <td>-</td>\n      <td>uniprotkb:P01591</td>\n      <td>ENSEMBL:ENSP00000254801|ENSEMBL:ENSP0000042668...</td>\n      <td>-</td>\n      <td>physical association</td>\n      <td>reactome:R-HSA-8858031</td>\n      <td>11877257</td>\n      <td>[ENSG00000211890]</td>\n      <td>[ENSG00000132465]</td>\n    </tr>\n    <tr>\n      <th>998</th>\n      <td>uniprotkb:Q8IVH4</td>\n      <td>ENSEMBL:ENSP00000497680|ENSEMBL:ENSP0000049700...</td>\n      <td>-</td>\n      <td>uniprotkb:P22033</td>\n      <td>ENSEMBL:ENST00000274813|ENSEMBL:ENSG0000014608...</td>\n      <td>-</td>\n      <td>physical association</td>\n      <td>reactome:R-HSA-5654974</td>\n      <td>24243840</td>\n      <td>[ENSG00000151611]</td>\n      <td>[ENSG00000146085]</td>\n    </tr>\n    <tr>\n      <th>999</th>\n      <td>uniprotkb:Q8IVH4</td>\n      <td>ENSEMBL:ENSP00000497680|ENSEMBL:ENSP0000049700...</td>\n      <td>-</td>\n      <td>uniprotkb:P22033</td>\n      <td>ENSEMBL:ENST00000274813|ENSEMBL:ENSG0000014608...</td>\n      <td>-</td>\n      <td>physical association</td>\n      <td>reactome:R-HSA-5654974</td>\n      <td>24243840</td>\n      <td>[ENSG00000151611]</td>\n      <td>[ENSG00000146085]</td>\n    </tr>\n  </tbody>\n</table>\n<p>1000 rows × 11 columns</p>\n</div>"
     },
     "execution_count": 18,
     "metadata": {},
     "output_type": "execute_result"
    }
   ],
   "source": [
    "print(len(reactome_final))\n",
    "reactome_final.head(1000)"
   ],
   "metadata": {
    "collapsed": false,
    "ExecuteTime": {
     "end_time": "2023-12-02T01:46:06.678922600Z",
     "start_time": "2023-12-02T01:46:06.593915300Z"
    }
   },
   "id": "f5d6c3189742bbb8"
  },
  {
   "cell_type": "code",
   "execution_count": 19,
   "outputs": [
    {
     "name": "stdout",
     "output_type": "stream",
     "text": [
      "37951\n",
      "       extracted_ENSG 1     extracted_ENSG 2\n",
      "0   ['ENSG00000164692']  ['ENSG00000108821']\n",
      "18  ['ENSG00000108821']  ['ENSG00000164692']\n",
      "72  ['ENSG00000108947']  ['ENSG00000090776']\n",
      "73  ['ENSG00000125266']  ['ENSG00000108947']\n",
      "74  ['ENSG00000125266']  ['ENSG00000090776']\n",
      "75  ['ENSG00000184009']  ['ENSG00000075624']\n",
      "76  ['ENSG00000149534']  ['ENSG00000179639']\n",
      "77  ['ENSG00000149534']  ['ENSG00000158869']\n",
      "78  ['ENSG00000158869']  ['ENSG00000179639']\n",
      "79  ['ENSG00000186393']  ['ENSG00000204897']\n"
     ]
    }
   ],
   "source": [
    "# Convert list columns to strings\n",
    "reactome_final['extracted_ENSG 1'] = reactome_final['extracted_ENSG 1'].apply(str)\n",
    "reactome_final['extracted_ENSG 2'] = reactome_final['extracted_ENSG 2'].apply(str)\n",
    "\n",
    "# Now select only the columns we want and drop duplicates\n",
    "reactome_ppi = reactome_final[['extracted_ENSG 1', 'extracted_ENSG 2']] \n",
    "reactome_ppi = reactome_ppi.drop_duplicates()\n",
    "\n",
    "# Print length and head\n",
    "print(len(reactome_ppi))\n",
    "print(reactome_ppi.head(10))"
   ],
   "metadata": {
    "collapsed": false,
    "ExecuteTime": {
     "end_time": "2023-12-02T01:46:06.806896400Z",
     "start_time": "2023-12-02T01:46:06.627532300Z"
    }
   },
   "id": "7b51583b10bc178e"
  },
  {
   "cell_type": "code",
   "execution_count": 20,
   "outputs": [
    {
     "name": "stdout",
     "output_type": "stream",
     "text": [
      "37951\n",
      "37951\n",
      "75902\n"
     ]
    },
    {
     "data": {
      "text/plain": "<Figure size 640x480 with 1 Axes>",
      "image/png": "[encoded data removed]"
     },
     "metadata": {},
     "output_type": "display_data"
    }
   ],
   "source": [
    "# Get number of nodes and edges and plot histogram of edges showing number of nodes with X edges \n",
    "total_gene_a = reactome_ppi['extracted_ENSG 1'].tolist()\n",
    "total_gene_b = reactome_ppi['extracted_ENSG 2'].tolist()\n",
    "total_gene = total_gene_a + total_gene_b\n",
    "\n",
    "total_gene_df = pd.DataFrame(total_gene, columns=['gene'])\n",
    "\n",
    "total_gene_df['edges'] = total_gene_df['gene'].map(total_gene_df['gene'].value_counts())\n",
    "\n",
    "print(len(total_gene_a))\n",
    "print(len(total_gene_b))\n",
    "print(len(total_gene))\n",
    "\n",
    "total_gene_df.head()\n",
    "\n",
    "unique_gene_df = total_gene_df.drop_duplicates('gene') \n",
    "unique_gene_df.sort_values(by='edges', ascending=False)\n",
    "\n",
    "fig = unique_gene_df.plot(kind='hist', bins=200)\n",
    "\n",
    "plt.yscale('log')\n",
    "plt.show()"
   ],
   "metadata": {
    "collapsed": false,
    "ExecuteTime": {
     "end_time": "2023-12-02T01:46:07.657550700Z",
     "start_time": "2023-12-02T01:46:06.751299300Z"
    }
   },
   "id": "2fa02ebdb6baf5dd"
  },
  {
   "cell_type": "code",
   "execution_count": 21,
   "outputs": [
    {
     "name": "stdout",
     "output_type": "stream",
     "text": [
      "4277\n",
      "4263\n",
      "5478\n"
     ]
    }
   ],
   "source": [
    "# See how many unique nodes there are in total\n",
    "unique_gene_a = reactome_ppi['extracted_ENSG 1'].unique().tolist()\n",
    "unique_gene_b = reactome_ppi['extracted_ENSG 2'].unique().tolist()\n",
    "unique_gene_all = set(unique_gene_a + unique_gene_b)\n",
    "\n",
    "print(len(unique_gene_a))\n",
    "print(len(unique_gene_b))\n",
    "print(len(unique_gene_all))\n",
    "\n",
    "#df = pd.DataFrame.from_dict(count, orient='index')\n",
    "#df.plot(kind='bar')"
   ],
   "metadata": {
    "collapsed": false,
    "ExecuteTime": {
     "end_time": "2023-12-02T01:46:07.672554600Z",
     "start_time": "2023-12-02T01:46:07.654549300Z"
    }
   },
   "id": "d7c55fd4c10e2704"
  },
  {
   "cell_type": "code",
   "execution_count": 22,
   "outputs": [
    {
     "data": {
      "text/plain": "                  gene1                gene2\n0   ['ENSG00000164692']  ['ENSG00000108821']\n18  ['ENSG00000108821']  ['ENSG00000164692']\n72  ['ENSG00000108947']  ['ENSG00000090776']\n73  ['ENSG00000125266']  ['ENSG00000108947']\n74  ['ENSG00000125266']  ['ENSG00000090776']",
      "text/html": "<div>\n<style scoped>\n    .dataframe tbody tr th:only-of-type {\n        vertical-align: middle;\n    }\n\n    .dataframe tbody tr th {\n        vertical-align: top;\n    }\n\n    .dataframe thead th {\n        text-align: right;\n    }\n</style>\n<table border=\"1\" class=\"dataframe\">\n  <thead>\n    <tr style=\"text-align: right;\">\n      <th></th>\n      <th>gene1</th>\n      <th>gene2</th>\n    </tr>\n  </thead>\n  <tbody>\n    <tr>\n      <th>0</th>\n      <td>['ENSG00000164692']</td>\n      <td>['ENSG00000108821']</td>\n    </tr>\n    <tr>\n      <th>18</th>\n      <td>['ENSG00000108821']</td>\n      <td>['ENSG00000164692']</td>\n    </tr>\n    <tr>\n      <th>72</th>\n      <td>['ENSG00000108947']</td>\n      <td>['ENSG00000090776']</td>\n    </tr>\n    <tr>\n      <th>73</th>\n      <td>['ENSG00000125266']</td>\n      <td>['ENSG00000108947']</td>\n    </tr>\n    <tr>\n      <th>74</th>\n      <td>['ENSG00000125266']</td>\n      <td>['ENSG00000090776']</td>\n    </tr>\n  </tbody>\n</table>\n</div>"
     },
     "execution_count": 22,
     "metadata": {},
     "output_type": "execute_result"
    }
   ],
   "source": [
    "reactome_ppi.columns = ['gene1', 'gene2']\n",
    "reactome_ppi.head()"
   ],
   "metadata": {
    "collapsed": false,
    "ExecuteTime": {
     "end_time": "2023-12-02T01:49:19.420098900Z",
     "start_time": "2023-12-02T01:49:19.395729500Z"
    }
   },
   "id": "6a1164cf16d7d04f"
  },
  {
   "cell_type": "code",
   "execution_count": 24,
   "outputs": [
    {
     "data": {
      "text/plain": "              gene1            gene2\n0   ENSG00000164692  ENSG00000108821\n18  ENSG00000108821  ENSG00000164692\n72  ENSG00000108947  ENSG00000090776\n73  ENSG00000125266  ENSG00000108947\n74  ENSG00000125266  ENSG00000090776",
      "text/html": "<div>\n<style scoped>\n    .dataframe tbody tr th:only-of-type {\n        vertical-align: middle;\n    }\n\n    .dataframe tbody tr th {\n        vertical-align: top;\n    }\n\n    .dataframe thead th {\n        text-align: right;\n    }\n</style>\n<table border=\"1\" class=\"dataframe\">\n  <thead>\n    <tr style=\"text-align: right;\">\n      <th></th>\n      <th>gene1</th>\n      <th>gene2</th>\n    </tr>\n  </thead>\n  <tbody>\n    <tr>\n      <th>0</th>\n      <td>ENSG00000164692</td>\n      <td>ENSG00000108821</td>\n    </tr>\n    <tr>\n      <th>18</th>\n      <td>ENSG00000108821</td>\n      <td>ENSG00000164692</td>\n    </tr>\n    <tr>\n      <th>72</th>\n      <td>ENSG00000108947</td>\n      <td>ENSG00000090776</td>\n    </tr>\n    <tr>\n      <th>73</th>\n      <td>ENSG00000125266</td>\n      <td>ENSG00000108947</td>\n    </tr>\n    <tr>\n      <th>74</th>\n      <td>ENSG00000125266</td>\n      <td>ENSG00000090776</td>\n    </tr>\n  </tbody>\n</table>\n</div>"
     },
     "execution_count": 24,
     "metadata": {},
     "output_type": "execute_result"
    }
   ],
   "source": [
    "reactome_ppi['gene1'] = reactome_ppi['gene1'].str.replace(\"\\['\", \"\", regex=True).str.replace(\"']\", \"\", regex=True)\n",
    "reactome_ppi['gene2'] = reactome_ppi['gene2'].str.replace(\"\\['\", \"\", regex=True).str.replace(\"']\", \"\", regex=True)\n",
    "\n",
    "reactome_ppi.head()"
   ],
   "metadata": {
    "collapsed": false,
    "ExecuteTime": {
     "end_time": "2023-12-02T01:55:26.307790200Z",
     "start_time": "2023-12-02T01:55:26.228423100Z"
    }
   },
   "id": "aed3c534d8340336"
  },
  {
   "cell_type": "code",
   "execution_count": 25,
   "outputs": [],
   "source": [
    "reactome_ppi.to_csv(data_path + '/reactome/reactome_ppi.csv', index=False)"
   ],
   "metadata": {
    "collapsed": false,
    "ExecuteTime": {
     "end_time": "2023-12-02T01:59:54.850958800Z",
     "start_time": "2023-12-02T01:59:54.791129900Z"
    }
   },
   "id": "c8667355c8aa85e0"
  },
  {
   "cell_type": "code",
   "execution_count": 27,
   "outputs": [],
   "source": [
    "gene_converter = pd.read_csv(data_path + '/biomart/gene_multi_converter.csv')"
   ],
   "metadata": {
    "collapsed": false,
    "ExecuteTime": {
     "end_time": "2023-12-02T02:07:38.222125300Z",
     "start_time": "2023-12-02T02:07:37.651670400Z"
    }
   },
   "id": "3f6493337865561f"
  },
  {
   "cell_type": "code",
   "execution_count": 28,
   "outputs": [
    {
     "data": {
      "text/plain": "   Unnamed: 0  Entrez gene ID  \\\n0           0            4535   \n1           1            4536   \n2           2            4512   \n3           3            4513   \n4           4            4509   \n\n                                               Fasta Gene name  \\\n0  MPMANLLLLIVPILIAMAFLMLTERKILGYMQLRKGPNVVGPYGLL...    MT-ND1   \n1  INPLAQPVIYSTIFAGTLITALSSHWFFTWVGLEMNMLAFIPVLTK...    MT-ND2   \n2  MFADRWLFSTNHKDIGTLYLLFGAWAGVLGTALSLLIRAELGQPGN...    MT-CO1   \n3  MAHAAQVGLQDATSPIMEELITFHDHALMIIFLICFLVLYALFLTL...    MT-CO2   \n4  MPQLNTTVWPTMITPMLLTLFLITQLKMLNTNYHLPPSPKPMKMKN...   MT-ATP8   \n\n    Gene stable ID Protein stable ID RefSeq peptide ID Transcript stable ID  \\\n0  ENSG00000198888   ENSP00000354687      YP_003024026      ENST00000361390   \n1  ENSG00000198763   ENSP00000355046      YP_003024027      ENST00000361453   \n2  ENSG00000198804   ENSP00000354499      YP_003024028      ENST00000361624   \n3  ENSG00000198712   ENSP00000354876      YP_003024029      ENST00000361739   \n4  ENSG00000228253   ENSP00000355265      YP_003024030      ENST00000361851   \n\n  UniProtKB/Swiss-Prot ID UniProtKB/TrEMBL ID  \n0                  P03886              U5Z754  \n1                  P03891              Q7GXY9  \n2                  P00395              U5YWV7  \n3                  P00403              U5Z487  \n4                  P03928              U5YV54  ",
      "text/html": "<div>\n<style scoped>\n    .dataframe tbody tr th:only-of-type {\n        vertical-align: middle;\n    }\n\n    .dataframe tbody tr th {\n        vertical-align: top;\n    }\n\n    .dataframe thead th {\n        text-align: right;\n    }\n</style>\n<table border=\"1\" class=\"dataframe\">\n  <thead>\n    <tr style=\"text-align: right;\">\n      <th></th>\n      <th>Unnamed: 0</th>\n      <th>Entrez gene ID</th>\n      <th>Fasta</th>\n      <th>Gene name</th>\n      <th>Gene stable ID</th>\n      <th>Protein stable ID</th>\n      <th>RefSeq peptide ID</th>\n      <th>Transcript stable ID</th>\n      <th>UniProtKB/Swiss-Prot ID</th>\n      <th>UniProtKB/TrEMBL ID</th>\n    </tr>\n  </thead>\n  <tbody>\n    <tr>\n      <th>0</th>\n      <td>0</td>\n      <td>4535</td>\n      <td>MPMANLLLLIVPILIAMAFLMLTERKILGYMQLRKGPNVVGPYGLL...</td>\n      <td>MT-ND1</td>\n      <td>ENSG00000198888</td>\n      <td>ENSP00000354687</td>\n      <td>YP_003024026</td>\n      <td>ENST00000361390</td>\n      <td>P03886</td>\n      <td>U5Z754</td>\n    </tr>\n    <tr>\n      <th>1</th>\n      <td>1</td>\n      <td>4536</td>\n      <td>INPLAQPVIYSTIFAGTLITALSSHWFFTWVGLEMNMLAFIPVLTK...</td>\n      <td>MT-ND2</td>\n      <td>ENSG00000198763</td>\n      <td>ENSP00000355046</td>\n      <td>YP_003024027</td>\n      <td>ENST00000361453</td>\n      <td>P03891</td>\n      <td>Q7GXY9</td>\n    </tr>\n    <tr>\n      <th>2</th>\n      <td>2</td>\n      <td>4512</td>\n      <td>MFADRWLFSTNHKDIGTLYLLFGAWAGVLGTALSLLIRAELGQPGN...</td>\n      <td>MT-CO1</td>\n      <td>ENSG00000198804</td>\n      <td>ENSP00000354499</td>\n      <td>YP_003024028</td>\n      <td>ENST00000361624</td>\n      <td>P00395</td>\n      <td>U5YWV7</td>\n    </tr>\n    <tr>\n      <th>3</th>\n      <td>3</td>\n      <td>4513</td>\n      <td>MAHAAQVGLQDATSPIMEELITFHDHALMIIFLICFLVLYALFLTL...</td>\n      <td>MT-CO2</td>\n      <td>ENSG00000198712</td>\n      <td>ENSP00000354876</td>\n      <td>YP_003024029</td>\n      <td>ENST00000361739</td>\n      <td>P00403</td>\n      <td>U5Z487</td>\n    </tr>\n    <tr>\n      <th>4</th>\n      <td>4</td>\n      <td>4509</td>\n      <td>MPQLNTTVWPTMITPMLLTLFLITQLKMLNTNYHLPPSPKPMKMKN...</td>\n      <td>MT-ATP8</td>\n      <td>ENSG00000228253</td>\n      <td>ENSP00000355265</td>\n      <td>YP_003024030</td>\n      <td>ENST00000361851</td>\n      <td>P03928</td>\n      <td>U5YV54</td>\n    </tr>\n  </tbody>\n</table>\n</div>"
     },
     "execution_count": 28,
     "metadata": {},
     "output_type": "execute_result"
    }
   ],
   "source": [
    "gene_converter.head()"
   ],
   "metadata": {
    "collapsed": false,
    "ExecuteTime": {
     "end_time": "2023-12-02T02:07:45.760180Z",
     "start_time": "2023-12-02T02:07:45.733020200Z"
    }
   },
   "id": "6e66e792aad24228"
  },
  {
   "cell_type": "code",
   "execution_count": 29,
   "outputs": [
    {
     "data": {
      "text/plain": "3678"
     },
     "execution_count": 29,
     "metadata": {},
     "output_type": "execute_result"
    }
   ],
   "source": [
    "len(gene_converter[gene_converter['Gene stable ID'].isin(unique_gene_all)])"
   ],
   "metadata": {
    "collapsed": false,
    "ExecuteTime": {
     "end_time": "2023-12-02T02:08:44.278876700Z",
     "start_time": "2023-12-02T02:08:44.208353600Z"
    }
   },
   "id": "3045bb6f3600acf9"
  }
 ],
 "metadata": {
  "kernelspec": {
   "display_name": "Python 3",
   "language": "python",
   "name": "python3"
  },
  "language_info": {
   "codemirror_mode": {
    "name": "ipython",
    "version": 2
   },
   "file_extension": ".py",
   "mimetype": "text/x-python",
   "name": "python",
   "nbconvert_exporter": "python",
   "pygments_lexer": "ipython2",
   "version": "2.7.6"
  }
 },
 "nbformat": 4,
 "nbformat_minor": 5
}
